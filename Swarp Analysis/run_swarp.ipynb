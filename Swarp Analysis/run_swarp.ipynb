{
 "cells": [
  {
   "cell_type": "code",
   "execution_count": 11,
   "id": "8f50f6c0-6e18-46ed-bbdf-54b2d73ff066",
   "metadata": {},
   "outputs": [],
   "source": [
    "from astropy.io import fits\n",
    "import numpy as np\n",
    "import os\n",
    "import glob\n",
    "import pandas as pd\n",
    "from astropy.coordinates import SkyCoord"
   ]
  },
  {
   "cell_type": "code",
   "execution_count": 31,
   "id": "460ddf12-f9bd-4232-ba53-01120a1dc300",
   "metadata": {},
   "outputs": [],
   "source": [
    "# Julius function to read target list \n",
    "\n",
    "def read_target_list(filename):\n",
    "\n",
    "    \"\"\"\n",
    "    Function to read a target list from a .csv file and add the SkyCoord objects as a new column. \\n\n",
    "    It further renames the columns \"TARGET_RA\" and \"TARGET_DEC\" to \"RA\" and \"dec\"\n",
    " \n",
    "    Parameters\n",
    "    ----------\n",
    "\n",
    "    filename: str\n",
    "        filename is the path specifying where to get the target list as a .csv file from\n",
    "\n",
    "    Returns\n",
    "    -------\n",
    "\n",
    "    file: pd.DataFrame\n",
    "        target list containing the .csv files information and the added SkyCoords as a pandas data frame object\n",
    "    \"\"\"\n",
    "\n",
    "    # Read from a file\n",
    "    print(\"Reading csv table...\")\n",
    "    file = pd.read_csv(filename)\n",
    "    \n",
    "    # Rename columns\n",
    "    file = file.rename(columns = {\"TARGET_RA\": \"RA\", \"TARGET_DEC\": \"dec\"})\n",
    "\n",
    "    # Calculate and add SkyCoords for AltAz calculation later\n",
    "    print(\"Adding SkyCoords to it...\")\n",
    "    sky_coords = SkyCoord(file[\"RA\"], file[\"dec\"], unit = \"deg\")\n",
    "\n",
    "    file[\"SKY_COORD\"] = sky_coords\n",
    "    \n",
    "    #Return the Pandas dataframe (i.e. The unmodified initial target list)\n",
    "    print(\"Finished, now returning pandas df\")\n",
    "    return file\n",
    "\n",
    "# target_list = read_target_list('../Galaxy Selection/PGAL/PGAL_S230619bg.ecsv')"
   ]
  },
  {
   "cell_type": "code",
   "execution_count": 38,
   "id": "d2e9e316-1503-4133-af9f-63f7d56661c4",
   "metadata": {},
   "outputs": [
    {
     "name": "stdout",
     "output_type": "stream",
     "text": [
      "Reading csv table...\n",
      "Adding SkyCoords to it...\n",
      "Finished, now returning pandas df\n"
     ]
    }
   ],
   "source": [
    "target_list = read_target_list('../Galaxy Selection/PGAL/PGAL_S230619bg.ecsv')\n",
    "list_of_all_wst_r_band_images = glob.glob(\"/project/ls-gruen/ligodesi/V230624-ligodesi_S230619bg_070355_624736_r_wfi_230624_*[0123456789].fits\")"
   ]
  },
  {
   "cell_type": "code",
   "execution_count": 39,
   "id": "be1b0e4b-f108-4516-aa4f-45dbcbe0bdde",
   "metadata": {},
   "outputs": [
    {
     "data": {
      "text/plain": [
       "[]"
      ]
     },
     "execution_count": 39,
     "metadata": {},
     "output_type": "execute_result"
    }
   ],
   "source": [
    "# So swarp doesnt check every image\n",
    "\n",
    "def get_list_of_wst_overlapping_images(ra, dec, list_of_wst_images, distance=35):\n",
    "    \n",
    "    goodlist = []\n",
    "    \n",
    "    for image in list_of_wst_images:\n",
    "        # header = fits.read_header(image)\n",
    "        # check if CRVAL1,2 are less than [distance] arcmin away from [ra,dec]\n",
    "        # if yes, append to goodlist\n",
    "        hdul = fits.open(image)\n",
    "        header = hdul[0].header\n",
    "        crval1 = header[\"CRVAL1\"] # RA\n",
    "        crval2 = header[\"CRVAL2\"] # Dec\n",
    "        delt_ra = (ra - crval1) * 60 # [arcmin]\n",
    "        delt_dec = (dec- crval2) * 60 # [arcmin]\n",
    "        if delt_ra< 35 and delt_dec<35: \n",
    "            goodlist.append(image)\n",
    "    return goodlist\n",
    "\n",
    "def get_output_filename(galaxy):\n",
    "    for galaxy in target_list:\n",
    "        ra = galaxy['ra']\n",
    "        dec = galaxy['dec']\n",
    "        return f\"galaxy_ra{ra}_dec{dec}.fits\"\n",
    "\n",
    "\n",
    "get_list_of_wst_overlapping_images(109.679989646446 , 63.1859641956687, list_of_all_wst_r_band_images, distance = 35)"
   ]
  },
  {
   "cell_type": "code",
   "execution_count": 37,
   "id": "bb04c3c8-bf12-4372-85ac-758ba95bc664",
   "metadata": {},
   "outputs": [
    {
     "ename": "TypeError",
     "evalue": "string indices must be integers",
     "output_type": "error",
     "traceback": [
      "\u001b[0;31m---------------------------------------------------------------------------\u001b[0m",
      "\u001b[0;31mTypeError\u001b[0m                                 Traceback (most recent call last)",
      "\u001b[0;32m/scratch-local/slurm-job-tmp-4029825/ipykernel_295/3362964497.py\u001b[0m in \u001b[0;36m<cell line: 3>\u001b[0;34m()\u001b[0m\n\u001b[1;32m      2\u001b[0m \u001b[0;34m\u001b[0m\u001b[0m\n\u001b[1;32m      3\u001b[0m \u001b[0;32mfor\u001b[0m \u001b[0mgalaxy\u001b[0m \u001b[0;32min\u001b[0m \u001b[0mtarget_list\u001b[0m\u001b[0;34m:\u001b[0m\u001b[0;34m\u001b[0m\u001b[0;34m\u001b[0m\u001b[0m\n\u001b[0;32m----> 4\u001b[0;31m     \u001b[0mlist_of_relevant_images\u001b[0m \u001b[0;34m=\u001b[0m \u001b[0mget_list_of_wst_overlapping_images\u001b[0m\u001b[0;34m(\u001b[0m\u001b[0mgalaxy\u001b[0m\u001b[0;34m[\u001b[0m\u001b[0;34m'ra'\u001b[0m\u001b[0;34m]\u001b[0m\u001b[0;34m,\u001b[0m\u001b[0mgalaxy\u001b[0m\u001b[0;34m[\u001b[0m\u001b[0;34m'dec'\u001b[0m\u001b[0;34m]\u001b[0m\u001b[0;34m,\u001b[0m\u001b[0mlist_of_all_wst_r_band_images\u001b[0m\u001b[0;34m,\u001b[0m \u001b[0mdistance\u001b[0m \u001b[0;34m=\u001b[0m \u001b[0;36m35\u001b[0m\u001b[0;34m)\u001b[0m\u001b[0;34m\u001b[0m\u001b[0;34m\u001b[0m\u001b[0m\n\u001b[0m\u001b[1;32m      5\u001b[0m     \u001b[0moutput_filename\u001b[0m \u001b[0;34m=\u001b[0m \u001b[0mget_output_filename\u001b[0m\u001b[0;34m(\u001b[0m\u001b[0mgalaxy\u001b[0m\u001b[0;34m)\u001b[0m\u001b[0;34m\u001b[0m\u001b[0;34m\u001b[0m\u001b[0m\n\u001b[1;32m      6\u001b[0m     \u001b[0mos\u001b[0m\u001b[0;34m.\u001b[0m\u001b[0msys\u001b[0m\u001b[0;34m(\u001b[0m\u001b[0;34m\"swarp -c swarp.conf -CENTER=\"\u001b[0m\u001b[0;34m+\u001b[0m\u001b[0mstr\u001b[0m\u001b[0;34m(\u001b[0m\u001b[0mgalaxy\u001b[0m\u001b[0;34m[\u001b[0m\u001b[0;34m'ra'\u001b[0m\u001b[0;34m]\u001b[0m\u001b[0;34m)\u001b[0m\u001b[0;34m+\u001b[0m\u001b[0;34m\",\"\u001b[0m\u001b[0;34m+\u001b[0m\u001b[0mgalaxy\u001b[0m\u001b[0;34m[\u001b[0m\u001b[0;34m'dec'\u001b[0m\u001b[0;34m]\u001b[0m \u001b[0;34m+\u001b[0m \u001b[0;34m\" \"\u001b[0m \u001b[0;34m+\u001b[0m \u001b[0mlist_of_relevant_images\u001b[0m\u001b[0;34m)\u001b[0m\u001b[0;34m\u001b[0m\u001b[0;34m\u001b[0m\u001b[0m\n",
      "\u001b[0;31mTypeError\u001b[0m: string indices must be integers"
     ]
    }
   ],
   "source": [
    "# os.sys(\"module load swarp\")\n",
    "\n",
    "for galaxy in target_list:\n",
    "    list_of_relevant_images = get_list_of_wst_overlapping_images(galaxy['ra'],galaxy['dec'],list_of_all_wst_r_band_images, distance = 35)\n",
    "    output_filename = get_output_filename(galaxy)\n",
    "    os.sys(\"swarp -c swarp.conf -CENTER=\"+str(galaxy['ra'])+\",\"+galaxy['dec'] + \" \" + list_of_relevant_images) \n",
    "    "
   ]
  },
  {
   "cell_type": "code",
   "execution_count": 36,
   "id": "7f18f364-2075-4859-8ca1-530ee8bd87d3",
   "metadata": {},
   "outputs": [],
   "source": [
    "# image = '../../V230624-ligodesi_S230619bg_070355_624736_r_wfi_230624_048.fits'"
   ]
  },
  {
   "cell_type": "code",
   "execution_count": null,
   "id": "eb2789a8-bad5-4ee9-90c9-95be76844a12",
   "metadata": {},
   "outputs": [],
   "source": []
  }
 ],
 "metadata": {
  "kernelspec": {
   "display_name": "Python 3 (ipykernel)",
   "language": "python",
   "name": "python3"
  },
  "language_info": {
   "codemirror_mode": {
    "name": "ipython",
    "version": 3
   },
   "file_extension": ".py",
   "mimetype": "text/x-python",
   "name": "python",
   "nbconvert_exporter": "python",
   "pygments_lexer": "ipython3",
   "version": "3.10.5"
  }
 },
 "nbformat": 4,
 "nbformat_minor": 5
}
