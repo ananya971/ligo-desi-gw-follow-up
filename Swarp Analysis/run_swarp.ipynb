{
 "cells": [
  {
   "cell_type": "code",
   "execution_count": 16,
   "id": "8f50f6c0-6e18-46ed-bbdf-54b2d73ff066",
   "metadata": {},
   "outputs": [],
   "source": [
    "import fitsio\n",
    "import numpy as np\n",
    "import os\n",
    "import glob"
   ]
  },
  {
   "cell_type": "code",
   "execution_count": 17,
   "id": "d2e9e316-1503-4133-af9f-63f7d56661c4",
   "metadata": {},
   "outputs": [],
   "source": [
    "target_list = read_target_list(event_name)\n",
    "list_of_all_wst_r_band_images = glob.glob(\"/project/ls-gruen/ligodesi/V230624-ligodesi_S230619bg_070355_624736_r_wfi_230624_*[0123456789].fits\")"
   ]
  },
  {
   "cell_type": "code",
   "execution_count": null,
   "id": "be1b0e4b-f108-4516-aa4f-45dbcbe0bdde",
   "metadata": {},
   "outputs": [],
   "source": [
    "def get_list_of_wst_overlapping_images(ra, dec, list_of_wst_images, distance=35):\n",
    "    \n",
    "    goodlist = []\n",
    "    \n",
    "    for image in list_of_wst_images:\n",
    "        header = fitsio.read_header(image)\n",
    "        # check if CRVAL1,2 are less than [distance] arcmin away from [ra,dec]\n",
    "        # if yes, append to goodlist\n",
    "        \n",
    "    return goodlist\n",
    "\n",
    "def get_output_filename(galaxy):\n",
    "    \n",
    "    return \"choose_an_actual_filename.fits\"\n",
    "\n",
    "os.sys(\"module load swarp\")"
   ]
  },
  {
   "cell_type": "code",
   "execution_count": 9,
   "id": "bb04c3c8-bf12-4372-85ac-758ba95bc664",
   "metadata": {},
   "outputs": [
    {
     "ename": "SyntaxError",
     "evalue": "expression cannot contain assignment, perhaps you meant \"==\"? (2101901617.py, line 4)",
     "output_type": "error",
     "traceback": [
      "\u001b[0;36m  File \u001b[0;32m\"/scratch-local/slurm-job-tmp-4028451/ipykernel_522/2101901617.py\"\u001b[0;36m, line \u001b[0;32m4\u001b[0m\n\u001b[0;31m    os.sys(\"swarp -COMBINE_TYPE=CLIPPED -CENTER_TYPE=MANUAL -CENTER=\"+str(galaxy['ra'])+110.293783220425,63.6778914381844 -PIXEL_SCALE=0.2 -IMAGE_SIZE=1600,1600 -BACK_TYPE=MANUAL  V230624-ligodesi_S230619bg_070355_624736_r_wfi_230624_*[0123456789].fits\u001b[0m\n\u001b[0m                                                                                                         ^\u001b[0m\n\u001b[0;31mSyntaxError\u001b[0m\u001b[0;31m:\u001b[0m expression cannot contain assignment, perhaps you meant \"==\"?\n"
     ]
    }
   ],
   "source": [
    "for galaxy in target_list:\n",
    "    list_of_relevant_images = get_list_of_wst_overlapping_images(galaxy['ra'],galaxy['dec'],list_of_all_wst_r_band_images)\n",
    "    output_filename = get_output_filename(galaxy)\n",
    "    os.sys(\"swarp -c swarp.conf -CENTER=\"+str(galaxy['ra'])+\",\"+galaxy['dec'] + \" \" + list_of_relevant_images) \n",
    "    "
   ]
  },
  {
   "cell_type": "code",
   "execution_count": 10,
   "id": "b9d250c7-665d-411a-a0e7-626922336741",
   "metadata": {},
   "outputs": [
    {
     "data": {
      "text/plain": [
       "''"
      ]
     },
     "execution_count": 10,
     "metadata": {},
     "output_type": "execute_result"
    }
   ],
   "source": [
    ","
   ]
  },
  {
   "cell_type": "code",
   "execution_count": null,
   "id": "7f18f364-2075-4859-8ca1-530ee8bd87d3",
   "metadata": {},
   "outputs": [],
   "source": []
  }
 ],
 "metadata": {
  "kernelspec": {
   "display_name": "Python 3 (ipykernel)",
   "language": "python",
   "name": "python3"
  },
  "language_info": {
   "codemirror_mode": {
    "name": "ipython",
    "version": 3
   },
   "file_extension": ".py",
   "mimetype": "text/x-python",
   "name": "python",
   "nbconvert_exporter": "python",
   "pygments_lexer": "ipython3",
   "version": "3.9.7"
  }
 },
 "nbformat": 4,
 "nbformat_minor": 5
}
