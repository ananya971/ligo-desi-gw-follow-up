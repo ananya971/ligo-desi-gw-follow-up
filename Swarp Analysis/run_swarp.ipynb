{
 "cells": [
  {
   "cell_type": "code",
   "execution_count": 2,
   "id": "8f50f6c0-6e18-46ed-bbdf-54b2d73ff066",
   "metadata": {},
   "outputs": [],
   "source": [
    "from astropy.io import fits\n",
    "import numpy as np\n",
    "import os\n",
    "import glob\n",
    "import pandas as pd\n",
    "from astropy.coordinates import SkyCoord\n",
    "import fitsio"
   ]
  },
  {
   "cell_type": "code",
   "execution_count": 11,
   "id": "460ddf12-f9bd-4232-ba53-01120a1dc300",
   "metadata": {},
   "outputs": [],
   "source": [
    "# Julius function to read target list \n",
    "\n",
    "def read_target_list(filename):\n",
    "\n",
    "    \"\"\"\n",
    "    Function to read a target list from a .csv file and add the SkyCoord objects as a new column. \\n\n",
    "    It further renames the columns \"TARGET_RA\" and \"TARGET_DEC\" to \"RA\" and \"dec\"\n",
    " \n",
    "    Parameters\n",
    "    ----------\n",
    "\n",
    "    filename: str\n",
    "        filename is the path specifying where to get the target list as a .csv file from\n",
    "\n",
    "    Returns\n",
    "    -------\n",
    "\n",
    "    file: pd.DataFrame\n",
    "        target list containing the .csv files information and the added SkyCoords as a pandas data frame object\n",
    "    \"\"\"\n",
    "\n",
    "    # Read from a file\n",
    "    print(\"Reading csv table...\")\n",
    "    file = pd.read_csv(filename)\n",
    "    \n",
    "    # Rename columns\n",
    "    file = file.rename(columns = {\"TARGET_RA\": \"RA\", \"TARGET_DEC\": \"dec\"})\n",
    "\n",
    "    # Calculate and add SkyCoords for AltAz calculation later\n",
    "    print(\"Adding SkyCoords to it...\")\n",
    "    sky_coords = SkyCoord(file[\"RA\"], file[\"dec\"], unit = \"deg\")\n",
    "\n",
    "    file[\"SKY_COORD\"] = sky_coords\n",
    "    \n",
    "    #Return the Pandas dataframe (i.e. The unmodified initial target list)\n",
    "    print(\"Finished, now returning pandas df\")\n",
    "    return file\n",
    "\n",
    "# target_list = read_target_list('../Galaxy Selection/PGAL/PGAL_S230619bg.ecsv')"
   ]
  },
  {
   "cell_type": "code",
   "execution_count": 12,
   "id": "d2e9e316-1503-4133-af9f-63f7d56661c4",
   "metadata": {},
   "outputs": [
    {
     "name": "stdout",
     "output_type": "stream",
     "text": [
      "Reading csv table...\n",
      "Adding SkyCoords to it...\n",
      "Finished, now returning pandas df\n",
      "['/project/ls-gruen/ligodesi/V230624-ligodesi_S230619bg_070355_624736_r_wfi_230624_083.fits', '/project/ls-gruen/ligodesi/V230624-ligodesi_S230619bg_070355_624736_r_wfi_230624_072.fits', '/project/ls-gruen/ligodesi/V230624-ligodesi_S230619bg_070355_624736_r_wfi_230624_087.fits', '/project/ls-gruen/ligodesi/V230624-ligodesi_S230619bg_070355_624736_r_wfi_230624_076.fits', '/project/ls-gruen/ligodesi/V230624-ligodesi_S230619bg_070355_624736_r_wfi_230624_093.fits', '/project/ls-gruen/ligodesi/V230624-ligodesi_S230619bg_070355_624736_r_wfi_230624_062.fits', '/project/ls-gruen/ligodesi/V230624-ligodesi_S230619bg_070355_624736_r_wfi_230624_053.fits', '/project/ls-gruen/ligodesi/V230624-ligodesi_S230619bg_070355_624736_r_wfi_230624_097.fits', '/project/ls-gruen/ligodesi/V230624-ligodesi_S230619bg_070355_624736_r_wfi_230624_057.fits', '/project/ls-gruen/ligodesi/V230624-ligodesi_S230619bg_070355_624736_r_wfi_230624_066.fits', '/project/ls-gruen/ligodesi/V230624-ligodesi_S230619bg_070355_624736_r_wfi_230624_092.fits', '/project/ls-gruen/ligodesi/V230624-ligodesi_S230619bg_070355_624736_r_wfi_230624_063.fits', '/project/ls-gruen/ligodesi/V230624-ligodesi_S230619bg_070355_624736_r_wfi_230624_052.fits', '/project/ls-gruen/ligodesi/V230624-ligodesi_S230619bg_070355_624736_r_wfi_230624_096.fits', '/project/ls-gruen/ligodesi/V230624-ligodesi_S230619bg_070355_624736_r_wfi_230624_056.fits', '/project/ls-gruen/ligodesi/V230624-ligodesi_S230619bg_070355_624736_r_wfi_230624_067.fits', '/project/ls-gruen/ligodesi/V230624-ligodesi_S230619bg_070355_624736_r_wfi_230624_082.fits', '/project/ls-gruen/ligodesi/V230624-ligodesi_S230619bg_070355_624736_r_wfi_230624_073.fits', '/project/ls-gruen/ligodesi/V230624-ligodesi_S230619bg_070355_624736_r_wfi_230624_086.fits', '/project/ls-gruen/ligodesi/V230624-ligodesi_S230619bg_070355_624736_r_wfi_230624_077.fits', '/project/ls-gruen/ligodesi/V230624-ligodesi_S230619bg_070355_624736_r_wfi_230624_079.fits', '/project/ls-gruen/ligodesi/V230624-ligodesi_S230619bg_070355_624736_r_wfi_230624_090.fits', '/project/ls-gruen/ligodesi/V230624-ligodesi_S230619bg_070355_624736_r_wfi_230624_048.fits', '/project/ls-gruen/ligodesi/V230624-ligodesi_S230619bg_070355_624736_r_wfi_230624_088.fits', '/project/ls-gruen/ligodesi/V230624-ligodesi_S230619bg_070355_624736_r_wfi_230624_061.fits', '/project/ls-gruen/ligodesi/V230624-ligodesi_S230619bg_070355_624736_r_wfi_230624_050.fits', '/project/ls-gruen/ligodesi/V230624-ligodesi_S230619bg_070355_624736_r_wfi_230624_094.fits', '/project/ls-gruen/ligodesi/V230624-ligodesi_S230619bg_070355_624736_r_wfi_230624_054.fits', '/project/ls-gruen/ligodesi/V230624-ligodesi_S230619bg_070355_624736_r_wfi_230624_065.fits', '/project/ls-gruen/ligodesi/V230624-ligodesi_S230619bg_070355_624736_r_wfi_230624_080.fits', '/project/ls-gruen/ligodesi/V230624-ligodesi_S230619bg_070355_624736_r_wfi_230624_069.fits', '/project/ls-gruen/ligodesi/V230624-ligodesi_S230619bg_070355_624736_r_wfi_230624_058.fits', '/project/ls-gruen/ligodesi/V230624-ligodesi_S230619bg_070355_624736_r_wfi_230624_071.fits', '/project/ls-gruen/ligodesi/V230624-ligodesi_S230619bg_070355_624736_r_wfi_230624_098.fits', '/project/ls-gruen/ligodesi/V230624-ligodesi_S230619bg_070355_624736_r_wfi_230624_084.fits', '/project/ls-gruen/ligodesi/V230624-ligodesi_S230619bg_070355_624736_r_wfi_230624_075.fits', '/project/ls-gruen/ligodesi/V230624-ligodesi_S230619bg_070355_624736_r_wfi_230624_081.fits', '/project/ls-gruen/ligodesi/V230624-ligodesi_S230619bg_070355_624736_r_wfi_230624_068.fits', '/project/ls-gruen/ligodesi/V230624-ligodesi_S230619bg_070355_624736_r_wfi_230624_059.fits', '/project/ls-gruen/ligodesi/V230624-ligodesi_S230619bg_070355_624736_r_wfi_230624_070.fits', '/project/ls-gruen/ligodesi/V230624-ligodesi_S230619bg_070355_624736_r_wfi_230624_099.fits', '/project/ls-gruen/ligodesi/V230624-ligodesi_S230619bg_070355_624736_r_wfi_230624_085.fits', '/project/ls-gruen/ligodesi/V230624-ligodesi_S230619bg_070355_624736_r_wfi_230624_074.fits', '/project/ls-gruen/ligodesi/V230624-ligodesi_S230619bg_070355_624736_r_wfi_230624_078.fits', '/project/ls-gruen/ligodesi/V230624-ligodesi_S230619bg_070355_624736_r_wfi_230624_091.fits', '/project/ls-gruen/ligodesi/V230624-ligodesi_S230619bg_070355_624736_r_wfi_230624_049.fits', '/project/ls-gruen/ligodesi/V230624-ligodesi_S230619bg_070355_624736_r_wfi_230624_089.fits', '/project/ls-gruen/ligodesi/V230624-ligodesi_S230619bg_070355_624736_r_wfi_230624_060.fits', '/project/ls-gruen/ligodesi/V230624-ligodesi_S230619bg_070355_624736_r_wfi_230624_051.fits', '/project/ls-gruen/ligodesi/V230624-ligodesi_S230619bg_070355_624736_r_wfi_230624_095.fits', '/project/ls-gruen/ligodesi/V230624-ligodesi_S230619bg_070355_624736_r_wfi_230624_055.fits', '/project/ls-gruen/ligodesi/V230624-ligodesi_S230619bg_070355_624736_r_wfi_230624_100.fits', '/project/ls-gruen/ligodesi/V230624-ligodesi_S230619bg_070355_624736_r_wfi_230624_064.fits']\n"
     ]
    }
   ],
   "source": [
    "target_list = read_target_list('../Galaxy Selection/PGAL/PGAL_S230619bg.ecsv')\n",
    "list_of_all_wst_r_band_images = glob.glob(\"/project/ls-gruen/ligodesi/V230624-ligodesi_S230619bg_070355_624736_r_wfi_230624_*[0123456789].fits\")\n",
    "print(list_of_all_wst_r_band_images)"
   ]
  },
  {
   "cell_type": "code",
   "execution_count": 8,
   "id": "be1b0e4b-f108-4516-aa4f-45dbcbe0bdde",
   "metadata": {},
   "outputs": [],
   "source": [
    "# So swarp doesnt check every image\n",
    "\n",
    "def get_list_of_wst_overlapping_images(ra, dec, list_of_wst_images, distance=35):\n",
    "    \n",
    "    goodlist = \"\"\n",
    "    \n",
    "    for image in list_of_wst_images:\n",
    "        #header = fits.read_header(image)\n",
    "        # check if CRVAL1,2 are less than [distance] arcmin away from [ra,dec]\n",
    "        # if yes, append to goodlist\n",
    "        hdul = fits.open(image)\n",
    "        #header = fitsio.read_header(image) #\n",
    "        header = hdul[0].header\n",
    "        crval1 = header[\"CRVAL1\"] # RA\n",
    "        crval2 = header[\"CRVAL2\"] # Dec\n",
    "        delt_ra = (ra - crval1) * 60 # [arcmin]\n",
    "        delt_dec = (dec - crval2) * 60 # [arcmin]\n",
    "        #print(crval1,ra,delt_ra)\n",
    "        if np.abs(delt_ra)< distance and np.abs(delt_dec)<distance: \n",
    "            goodlist = goodlist + \" \" + image\n",
    "    return goodlist\n",
    "\n",
    "def get_output_filename(ra,dec,prefix=\"\"):\n",
    "        return prefix+f\"galaxy_ra{round(ra,3)}_dec{round(dec,3)}.fits\"\n",
    "\n",
    "\n",
    "#get_list_of_wst_overlapping_images(110.293783220425,63.6778914381844, list_of_all_wst_r_band_images, distance = 35)"
   ]
  },
  {
   "cell_type": "code",
   "execution_count": 18,
   "id": "bb04c3c8-bf12-4372-85ac-758ba95bc664",
   "metadata": {},
   "outputs": [
    {
     "name": "stdout",
     "output_type": "stream",
     "text": [
      "swarp -c swarp.conf -IMAGEOUT_NAME=galaxy_ra109.68_dec63.186.fits -CENTER=109.679989646446,63.1859641956687 /project/ls-gruen/ligodesi/V230624-ligodesi_S230619bg_070355_624736_r*[0-9].fits\n",
      "swarp -c swarp.conf -IMAGEOUT_NAME=lsgalaxy_ra109.68_dec63.186.fits -CENTER=109.679989646446,63.1859641956687 /project/ls-gruen/ligodesi/ls/*r.fits\n",
      "swarp -c swarp.conf -IMAGEOUT_NAME=galaxy_ra110.294_dec63.678.fits -CENTER=110.293783220425,63.6778914381844 /project/ls-gruen/ligodesi/V230624-ligodesi_S230619bg_070355_624736_r*[0-9].fits\n",
      "swarp -c swarp.conf -IMAGEOUT_NAME=lsgalaxy_ra110.294_dec63.678.fits -CENTER=110.293783220425,63.6778914381844 /project/ls-gruen/ligodesi/ls/*r.fits\n",
      "swarp -c swarp.conf -IMAGEOUT_NAME=galaxy_ra110.314_dec63.65.fits -CENTER=110.314138321524,63.6504317896136 /project/ls-gruen/ligodesi/V230624-ligodesi_S230619bg_070355_624736_r*[0-9].fits\n",
      "swarp -c swarp.conf -IMAGEOUT_NAME=lsgalaxy_ra110.314_dec63.65.fits -CENTER=110.314138321524,63.6504317896136 /project/ls-gruen/ligodesi/ls/*r.fits\n",
      "swarp -c swarp.conf -IMAGEOUT_NAME=galaxy_ra108.194_dec63.341.fits -CENTER=108.194045155888,63.3413568832094 /project/ls-gruen/ligodesi/V230624-ligodesi_S230619bg_070355_624736_r*[0-9].fits\n",
      "swarp -c swarp.conf -IMAGEOUT_NAME=lsgalaxy_ra108.194_dec63.341.fits -CENTER=108.194045155888,63.3413568832094 /project/ls-gruen/ligodesi/ls/*r.fits\n",
      "swarp -c swarp.conf -IMAGEOUT_NAME=galaxy_ra108.122_dec63.391.fits -CENTER=108.121785292373,63.3910844316621 /project/ls-gruen/ligodesi/V230624-ligodesi_S230619bg_070355_624736_r*[0-9].fits\n",
      "swarp -c swarp.conf -IMAGEOUT_NAME=lsgalaxy_ra108.122_dec63.391.fits -CENTER=108.121785292373,63.3910844316621 /project/ls-gruen/ligodesi/ls/*r.fits\n",
      "swarp -c swarp.conf -IMAGEOUT_NAME=galaxy_ra109.123_dec63.297.fits -CENTER=109.122728489108,63.2971898203781 /project/ls-gruen/ligodesi/V230624-ligodesi_S230619bg_070355_624736_r*[0-9].fits\n",
      "swarp -c swarp.conf -IMAGEOUT_NAME=lsgalaxy_ra109.123_dec63.297.fits -CENTER=109.122728489108,63.2971898203781 /project/ls-gruen/ligodesi/ls/*r.fits\n",
      "swarp -c swarp.conf -IMAGEOUT_NAME=galaxy_ra108.534_dec63.635.fits -CENTER=108.533591232646,63.6350800162167 /project/ls-gruen/ligodesi/V230624-ligodesi_S230619bg_070355_624736_r*[0-9].fits\n",
      "swarp -c swarp.conf -IMAGEOUT_NAME=lsgalaxy_ra108.534_dec63.635.fits -CENTER=108.533591232646,63.6350800162167 /project/ls-gruen/ligodesi/ls/*r.fits\n",
      "swarp -c swarp.conf -IMAGEOUT_NAME=galaxy_ra110.305_dec63.636.fits -CENTER=110.304538646762,63.6359746825553 /project/ls-gruen/ligodesi/V230624-ligodesi_S230619bg_070355_624736_r*[0-9].fits\n",
      "swarp -c swarp.conf -IMAGEOUT_NAME=lsgalaxy_ra110.305_dec63.636.fits -CENTER=110.304538646762,63.6359746825553 /project/ls-gruen/ligodesi/ls/*r.fits\n",
      "swarp -c swarp.conf -IMAGEOUT_NAME=galaxy_ra110.412_dec63.694.fits -CENTER=110.412228424205,63.6944294708043 /project/ls-gruen/ligodesi/V230624-ligodesi_S230619bg_070355_624736_r*[0-9].fits\n",
      "swarp -c swarp.conf -IMAGEOUT_NAME=lsgalaxy_ra110.412_dec63.694.fits -CENTER=110.412228424205,63.6944294708043 /project/ls-gruen/ligodesi/ls/*r.fits\n",
      "swarp -c swarp.conf -IMAGEOUT_NAME=galaxy_ra109.202_dec64.126.fits -CENTER=109.202488045324,64.1263620578615 /project/ls-gruen/ligodesi/V230624-ligodesi_S230619bg_070355_624736_r*[0-9].fits\n",
      "swarp -c swarp.conf -IMAGEOUT_NAME=lsgalaxy_ra109.202_dec64.126.fits -CENTER=109.202488045324,64.1263620578615 /project/ls-gruen/ligodesi/ls/*r.fits\n",
      "swarp -c swarp.conf -IMAGEOUT_NAME=galaxy_ra109.469_dec63.486.fits -CENTER=109.469151435058,63.4856096760743 /project/ls-gruen/ligodesi/V230624-ligodesi_S230619bg_070355_624736_r*[0-9].fits\n",
      "swarp -c swarp.conf -IMAGEOUT_NAME=lsgalaxy_ra109.469_dec63.486.fits -CENTER=109.469151435058,63.4856096760743 /project/ls-gruen/ligodesi/ls/*r.fits\n",
      "swarp -c swarp.conf -IMAGEOUT_NAME=galaxy_ra109.309_dec63.169.fits -CENTER=109.308914958381,63.1691357450405 /project/ls-gruen/ligodesi/V230624-ligodesi_S230619bg_070355_624736_r*[0-9].fits\n",
      "swarp -c swarp.conf -IMAGEOUT_NAME=lsgalaxy_ra109.309_dec63.169.fits -CENTER=109.308914958381,63.1691357450405 /project/ls-gruen/ligodesi/ls/*r.fits\n",
      "swarp -c swarp.conf -IMAGEOUT_NAME=galaxy_ra108.353_dec63.311.fits -CENTER=108.352995452704,63.3106751020939 /project/ls-gruen/ligodesi/V230624-ligodesi_S230619bg_070355_624736_r*[0-9].fits\n",
      "swarp -c swarp.conf -IMAGEOUT_NAME=lsgalaxy_ra108.353_dec63.311.fits -CENTER=108.352995452704,63.3106751020939 /project/ls-gruen/ligodesi/ls/*r.fits\n",
      "swarp -c swarp.conf -IMAGEOUT_NAME=galaxy_ra108.802_dec63.213.fits -CENTER=108.801996373743,63.2128510109373 /project/ls-gruen/ligodesi/V230624-ligodesi_S230619bg_070355_624736_r*[0-9].fits\n",
      "swarp -c swarp.conf -IMAGEOUT_NAME=lsgalaxy_ra108.802_dec63.213.fits -CENTER=108.801996373743,63.2128510109373 /project/ls-gruen/ligodesi/ls/*r.fits\n",
      "swarp -c swarp.conf -IMAGEOUT_NAME=galaxy_ra110.273_dec63.723.fits -CENTER=110.27324581119,63.7230152076306 /project/ls-gruen/ligodesi/V230624-ligodesi_S230619bg_070355_624736_r*[0-9].fits\n",
      "swarp -c swarp.conf -IMAGEOUT_NAME=lsgalaxy_ra110.273_dec63.723.fits -CENTER=110.27324581119,63.7230152076306 /project/ls-gruen/ligodesi/ls/*r.fits\n",
      "swarp -c swarp.conf -IMAGEOUT_NAME=galaxy_ra109.68_dec63.114.fits -CENTER=109.680388934741,63.1136735796085 /project/ls-gruen/ligodesi/V230624-ligodesi_S230619bg_070355_624736_r*[0-9].fits\n",
      "swarp -c swarp.conf -IMAGEOUT_NAME=lsgalaxy_ra109.68_dec63.114.fits -CENTER=109.680388934741,63.1136735796085 /project/ls-gruen/ligodesi/ls/*r.fits\n",
      "swarp -c swarp.conf -IMAGEOUT_NAME=galaxy_ra110.286_dec63.678.fits -CENTER=110.286470639664,63.6776650996731 /project/ls-gruen/ligodesi/V230624-ligodesi_S230619bg_070355_624736_r*[0-9].fits\n",
      "swarp -c swarp.conf -IMAGEOUT_NAME=lsgalaxy_ra110.286_dec63.678.fits -CENTER=110.286470639664,63.6776650996731 /project/ls-gruen/ligodesi/ls/*r.fits\n",
      "swarp -c swarp.conf -IMAGEOUT_NAME=galaxy_ra109.153_dec63.561.fits -CENTER=109.152821735138,63.5606394225006 /project/ls-gruen/ligodesi/V230624-ligodesi_S230619bg_070355_624736_r*[0-9].fits\n",
      "swarp -c swarp.conf -IMAGEOUT_NAME=lsgalaxy_ra109.153_dec63.561.fits -CENTER=109.152821735138,63.5606394225006 /project/ls-gruen/ligodesi/ls/*r.fits\n",
      "swarp -c swarp.conf -IMAGEOUT_NAME=galaxy_ra109.125_dec63.296.fits -CENTER=109.125127153735,63.2959269258328 /project/ls-gruen/ligodesi/V230624-ligodesi_S230619bg_070355_624736_r*[0-9].fits\n",
      "swarp -c swarp.conf -IMAGEOUT_NAME=lsgalaxy_ra109.125_dec63.296.fits -CENTER=109.125127153735,63.2959269258328 /project/ls-gruen/ligodesi/ls/*r.fits\n",
      "swarp -c swarp.conf -IMAGEOUT_NAME=galaxy_ra108.928_dec64.244.fits -CENTER=108.927935559366,64.244484138259 /project/ls-gruen/ligodesi/V230624-ligodesi_S230619bg_070355_624736_r*[0-9].fits\n",
      "swarp -c swarp.conf -IMAGEOUT_NAME=lsgalaxy_ra108.928_dec64.244.fits -CENTER=108.927935559366,64.244484138259 /project/ls-gruen/ligodesi/ls/*r.fits\n"
     ]
    }
   ],
   "source": [
    "# os.sys(\"module load swarp\")\n",
    "\n",
    "for ra,dec in zip(target_list['RA'],target_list['dec']):\n",
    "    #list_of_relevant_images = get_list_of_wst_overlapping_images(ra,dec,list_of_all_wst_r_band_images, distance = 35)\n",
    "    #if(list_of_relevant_images == \"\"):\n",
    "    #    print(\"# \",ra,dec,\" is not in our footprint\")\n",
    "        \n",
    "    output_filename = get_output_filename(ra,dec)\n",
    "    print(\"swarp -c swarp.conf -IMAGEOUT_NAME=\" + output_filename + \" -CENTER=\"+str(ra)+\",\"+str(dec) + \" /project/ls-gruen/ligodesi/V230624-ligodesi_S230619bg_070355_624736_r*[0-9].fits\") # + list_of_relevant_images)\n",
    "    output_filename = get_output_filename(ra,dec,\"ls\")\n",
    "    print(\"swarp -c swarp.conf -IMAGEOUT_NAME=\" + output_filename + \" -CENTER=\"+str(ra)+\",\"+str(dec) +  \" /project/ls-gruen/ligodesi/ls/*r.fits\")\n",
    "    \n",
    "    #os.sys(\"swarp -c swarp.conf -CENTER=\"+str(galaxy['ra'])+\",\"+galaxy['dec'] + \" \" + list_of_relevant_images) \n",
    "    "
   ]
  },
  {
   "cell_type": "code",
   "execution_count": 17,
   "id": "7f18f364-2075-4859-8ca1-530ee8bd87d3",
   "metadata": {},
   "outputs": [
    {
     "name": "stdout",
     "output_type": "stream",
     "text": [
      "swarp -c swarp.conf -IMAGEOUT_NAME=lsgalaxy_ra109.68_dec63.186.fits -CENTER=109.679989646446,63.1859641956687 /project/ls-gruen/ligodesi/ls/*r.fits\n",
      "swarp -c swarp.conf -IMAGEOUT_NAME=lsgalaxy_ra110.294_dec63.678.fits -CENTER=110.293783220425,63.6778914381844 /project/ls-gruen/ligodesi/ls/*r.fits\n",
      "swarp -c swarp.conf -IMAGEOUT_NAME=lsgalaxy_ra110.314_dec63.65.fits -CENTER=110.314138321524,63.6504317896136 /project/ls-gruen/ligodesi/ls/*r.fits\n",
      "swarp -c swarp.conf -IMAGEOUT_NAME=lsgalaxy_ra108.194_dec63.341.fits -CENTER=108.194045155888,63.3413568832094 /project/ls-gruen/ligodesi/ls/*r.fits\n",
      "swarp -c swarp.conf -IMAGEOUT_NAME=lsgalaxy_ra108.122_dec63.391.fits -CENTER=108.121785292373,63.3910844316621 /project/ls-gruen/ligodesi/ls/*r.fits\n",
      "swarp -c swarp.conf -IMAGEOUT_NAME=lsgalaxy_ra109.123_dec63.297.fits -CENTER=109.122728489108,63.2971898203781 /project/ls-gruen/ligodesi/ls/*r.fits\n",
      "swarp -c swarp.conf -IMAGEOUT_NAME=lsgalaxy_ra108.534_dec63.635.fits -CENTER=108.533591232646,63.6350800162167 /project/ls-gruen/ligodesi/ls/*r.fits\n",
      "swarp -c swarp.conf -IMAGEOUT_NAME=lsgalaxy_ra110.305_dec63.636.fits -CENTER=110.304538646762,63.6359746825553 /project/ls-gruen/ligodesi/ls/*r.fits\n",
      "swarp -c swarp.conf -IMAGEOUT_NAME=lsgalaxy_ra110.412_dec63.694.fits -CENTER=110.412228424205,63.6944294708043 /project/ls-gruen/ligodesi/ls/*r.fits\n",
      "swarp -c swarp.conf -IMAGEOUT_NAME=lsgalaxy_ra109.202_dec64.126.fits -CENTER=109.202488045324,64.1263620578615 /project/ls-gruen/ligodesi/ls/*r.fits\n",
      "swarp -c swarp.conf -IMAGEOUT_NAME=lsgalaxy_ra109.469_dec63.486.fits -CENTER=109.469151435058,63.4856096760743 /project/ls-gruen/ligodesi/ls/*r.fits\n",
      "swarp -c swarp.conf -IMAGEOUT_NAME=lsgalaxy_ra109.309_dec63.169.fits -CENTER=109.308914958381,63.1691357450405 /project/ls-gruen/ligodesi/ls/*r.fits\n",
      "swarp -c swarp.conf -IMAGEOUT_NAME=lsgalaxy_ra108.353_dec63.311.fits -CENTER=108.352995452704,63.3106751020939 /project/ls-gruen/ligodesi/ls/*r.fits\n",
      "swarp -c swarp.conf -IMAGEOUT_NAME=lsgalaxy_ra108.802_dec63.213.fits -CENTER=108.801996373743,63.2128510109373 /project/ls-gruen/ligodesi/ls/*r.fits\n",
      "swarp -c swarp.conf -IMAGEOUT_NAME=lsgalaxy_ra110.273_dec63.723.fits -CENTER=110.27324581119,63.7230152076306 /project/ls-gruen/ligodesi/ls/*r.fits\n",
      "swarp -c swarp.conf -IMAGEOUT_NAME=lsgalaxy_ra109.68_dec63.114.fits -CENTER=109.680388934741,63.1136735796085 /project/ls-gruen/ligodesi/ls/*r.fits\n",
      "swarp -c swarp.conf -IMAGEOUT_NAME=lsgalaxy_ra110.286_dec63.678.fits -CENTER=110.286470639664,63.6776650996731 /project/ls-gruen/ligodesi/ls/*r.fits\n",
      "swarp -c swarp.conf -IMAGEOUT_NAME=lsgalaxy_ra109.153_dec63.561.fits -CENTER=109.152821735138,63.5606394225006 /project/ls-gruen/ligodesi/ls/*r.fits\n",
      "swarp -c swarp.conf -IMAGEOUT_NAME=lsgalaxy_ra109.125_dec63.296.fits -CENTER=109.125127153735,63.2959269258328 /project/ls-gruen/ligodesi/ls/*r.fits\n",
      "swarp -c swarp.conf -IMAGEOUT_NAME=lsgalaxy_ra108.928_dec64.244.fits -CENTER=108.927935559366,64.244484138259 /project/ls-gruen/ligodesi/ls/*r.fits\n"
     ]
    }
   ],
   "source": [
    "list_of_all_wst_r_band_images = glob.glob(\"/project/ls-gruen/ligodesi/ls/*r.fits\")\n",
    "\n",
    "for ra,dec in zip(target_list['RA'],target_list['dec']):\n",
    "    #list_of_relevant_images = get_list_of_wst_overlapping_images(ra,dec,list_of_all_wst_r_band_images, distance = 35)\n",
    "    #if(list_of_relevant_images == \"\"):\n",
    "    #    print(\"# \",ra,dec,\" is not in our footprint\")\n",
    "        \n",
    "    output_filename = get_output_filename(ra,dec,\"ls\")\n",
    "    print(\"swarp -c swarp.conf -IMAGEOUT_NAME=\" + output_filename + \" -CENTER=\"+str(ra)+\",\"+str(dec) +  \" /project/ls-gruen/ligodesi/ls/*r.fits\")\n",
    "    #os.sys(\"swarp -c swarp.conf -CENTER=\"+str(galaxy['ra'])+\",\"+galaxy['dec'] + \" \" + list_of_relevant_images) \n",
    "    "
   ]
  },
  {
   "cell_type": "code",
   "execution_count": 16,
   "id": "eb2789a8-bad5-4ee9-90c9-95be76844a12",
   "metadata": {},
   "outputs": [
    {
     "name": "stdout",
     "output_type": "stream",
     "text": [
      "RA\n",
      "dec\n",
      "SERSIC\n",
      "Z\n",
      "P_GAL\n",
      "SKY_COORD\n"
     ]
    }
   ],
   "source": [
    "for galaxy in target_list:\n",
    "    print(galaxy)"
   ]
  },
  {
   "cell_type": "code",
   "execution_count": 7,
   "id": "af75b1b0-0659-4463-9069-6c90f21739ba",
   "metadata": {},
   "outputs": [
    {
     "name": "stdout",
     "output_type": "stream",
     "text": [
      "['/project/ls-gruen/ligodesi/ls/legacysurvey-1050p620-image-r.fits', '/project/ls-gruen/ligodesi/ls/legacysurvey-1053p625-image-r.fits', '/project/ls-gruen/ligodesi/ls/legacysurvey-1049p637-image-r.fits', '/project/ls-gruen/ligodesi/ls/legacysurvey-1054p622-image-r.fits', '/project/ls-gruen/ligodesi/ls/legacysurvey-1048p642-image-r.fits', '/project/ls-gruen/ligodesi/ls/legacysurvey-1056p620-image-r.fits', '/project/ls-gruen/ligodesi/ls/legacysurvey-1054p627-image-r.fits', '/project/ls-gruen/ligodesi/ls/legacysurvey-1052p617-image-r.fits', '/project/ls-gruen/ligodesi/ls/legacysurvey-1054p637-image-r.fits', '/project/ls-gruen/ligodesi/ls/legacysurvey-1050p640-image-r.fits', '/project/ls-gruen/ligodesi/ls/legacysurvey-1050p635-image-r.fits', '/project/ls-gruen/ligodesi/ls/legacysurvey-1053p630-image-r.fits', '/project/ls-gruen/ligodesi/ls/legacysurvey-1048p625-image-r.fits', '/project/ls-gruen/ligodesi/ls/legacysurvey-1055p640-image-r.fits', '/project/ls-gruen/ligodesi/ls/legacysurvey-1047p630-image-r.fits', '/project/ls-gruen/ligodesi/ls/legacysurvey-1049p627-image-r.fits', '/project/ls-gruen/ligodesi/ls/legacysurvey-1049p622-image-r.fits', '/project/ls-gruen/ligodesi/ls/legacysurvey-1051p632-image-r.fits']\n"
     ]
    }
   ],
   "source": [
    "list_of_all_ls_r_band_images = glob.glob(\"/project/ls-gruen/ligodesi/ls/legacy*r.fits\")\n",
    "print(list_of_all_ls_r_band_images)"
   ]
  },
  {
   "cell_type": "code",
   "execution_count": 20,
   "id": "4c3d23a4-6d00-410a-830e-5e11540aca2d",
   "metadata": {},
   "outputs": [
    {
     "name": "stdout",
     "output_type": "stream",
     "text": [
      "swarp -c swarp.conf -WEIGHT_TYPE=NONE -IMAGEOUT_NAME=lsgalaxy_ra109.68_dec63.186.fits -CENTER=109.679989646446,63.1859641956687 /project/ls-gruen/ligodesi/ls/legacy*r.fits\n",
      "swarp -c swarp.conf -WEIGHT_TYPE=NONE -IMAGEOUT_NAME=lsgalaxy_ra110.294_dec63.678.fits -CENTER=110.293783220425,63.6778914381844 /project/ls-gruen/ligodesi/ls/legacy*r.fits\n",
      "swarp -c swarp.conf -WEIGHT_TYPE=NONE -IMAGEOUT_NAME=lsgalaxy_ra110.314_dec63.65.fits -CENTER=110.314138321524,63.6504317896136 /project/ls-gruen/ligodesi/ls/legacy*r.fits\n",
      "swarp -c swarp.conf -WEIGHT_TYPE=NONE -IMAGEOUT_NAME=lsgalaxy_ra108.194_dec63.341.fits -CENTER=108.194045155888,63.3413568832094 /project/ls-gruen/ligodesi/ls/legacy*r.fits\n",
      "swarp -c swarp.conf -WEIGHT_TYPE=NONE -IMAGEOUT_NAME=lsgalaxy_ra108.122_dec63.391.fits -CENTER=108.121785292373,63.3910844316621 /project/ls-gruen/ligodesi/ls/legacy*r.fits\n",
      "swarp -c swarp.conf -WEIGHT_TYPE=NONE -IMAGEOUT_NAME=lsgalaxy_ra109.123_dec63.297.fits -CENTER=109.122728489108,63.2971898203781 /project/ls-gruen/ligodesi/ls/legacy*r.fits\n",
      "swarp -c swarp.conf -WEIGHT_TYPE=NONE -IMAGEOUT_NAME=lsgalaxy_ra108.534_dec63.635.fits -CENTER=108.533591232646,63.6350800162167 /project/ls-gruen/ligodesi/ls/legacy*r.fits\n",
      "swarp -c swarp.conf -WEIGHT_TYPE=NONE -IMAGEOUT_NAME=lsgalaxy_ra110.305_dec63.636.fits -CENTER=110.304538646762,63.6359746825553 /project/ls-gruen/ligodesi/ls/legacy*r.fits\n",
      "swarp -c swarp.conf -WEIGHT_TYPE=NONE -IMAGEOUT_NAME=lsgalaxy_ra110.412_dec63.694.fits -CENTER=110.412228424205,63.6944294708043 /project/ls-gruen/ligodesi/ls/legacy*r.fits\n",
      "swarp -c swarp.conf -WEIGHT_TYPE=NONE -IMAGEOUT_NAME=lsgalaxy_ra109.202_dec64.126.fits -CENTER=109.202488045324,64.1263620578615 /project/ls-gruen/ligodesi/ls/legacy*r.fits\n",
      "swarp -c swarp.conf -WEIGHT_TYPE=NONE -IMAGEOUT_NAME=lsgalaxy_ra109.469_dec63.486.fits -CENTER=109.469151435058,63.4856096760743 /project/ls-gruen/ligodesi/ls/legacy*r.fits\n",
      "swarp -c swarp.conf -WEIGHT_TYPE=NONE -IMAGEOUT_NAME=lsgalaxy_ra109.309_dec63.169.fits -CENTER=109.308914958381,63.1691357450405 /project/ls-gruen/ligodesi/ls/legacy*r.fits\n",
      "swarp -c swarp.conf -WEIGHT_TYPE=NONE -IMAGEOUT_NAME=lsgalaxy_ra108.353_dec63.311.fits -CENTER=108.352995452704,63.3106751020939 /project/ls-gruen/ligodesi/ls/legacy*r.fits\n",
      "swarp -c swarp.conf -WEIGHT_TYPE=NONE -IMAGEOUT_NAME=lsgalaxy_ra108.802_dec63.213.fits -CENTER=108.801996373743,63.2128510109373 /project/ls-gruen/ligodesi/ls/legacy*r.fits\n",
      "swarp -c swarp.conf -WEIGHT_TYPE=NONE -IMAGEOUT_NAME=lsgalaxy_ra110.273_dec63.723.fits -CENTER=110.27324581119,63.7230152076306 /project/ls-gruen/ligodesi/ls/legacy*r.fits\n",
      "swarp -c swarp.conf -WEIGHT_TYPE=NONE -IMAGEOUT_NAME=lsgalaxy_ra109.68_dec63.114.fits -CENTER=109.680388934741,63.1136735796085 /project/ls-gruen/ligodesi/ls/legacy*r.fits\n",
      "swarp -c swarp.conf -WEIGHT_TYPE=NONE -IMAGEOUT_NAME=lsgalaxy_ra110.286_dec63.678.fits -CENTER=110.286470639664,63.6776650996731 /project/ls-gruen/ligodesi/ls/legacy*r.fits\n",
      "swarp -c swarp.conf -WEIGHT_TYPE=NONE -IMAGEOUT_NAME=lsgalaxy_ra109.153_dec63.561.fits -CENTER=109.152821735138,63.5606394225006 /project/ls-gruen/ligodesi/ls/legacy*r.fits\n",
      "swarp -c swarp.conf -WEIGHT_TYPE=NONE -IMAGEOUT_NAME=lsgalaxy_ra109.125_dec63.296.fits -CENTER=109.125127153735,63.2959269258328 /project/ls-gruen/ligodesi/ls/legacy*r.fits\n",
      "swarp -c swarp.conf -WEIGHT_TYPE=NONE -IMAGEOUT_NAME=lsgalaxy_ra108.928_dec64.244.fits -CENTER=108.927935559366,64.244484138259 /project/ls-gruen/ligodesi/ls/legacy*r.fits\n"
     ]
    }
   ],
   "source": [
    "for ra,dec in zip(target_list['RA'],target_list['dec']):\n",
    "    #list_of_relevant_images = get_list_of_wst_overlapping_images(ra,dec,list_of_all_ls_r_band_images, distance = 20)\n",
    "    #if(list_of_relevant_images == \"\"):\n",
    "    #    print(\"# \",ra,dec,\" is not in our footprint\")\n",
    "    #    continue\n",
    "        \n",
    "    output_filename = get_output_filename(ra,dec,\"ls\")\n",
    "    print(\"swarp -c swarp.conf -WEIGHT_TYPE=NONE -IMAGEOUT_NAME=\" + output_filename + \" -CENTER=\"+str(ra)+\",\"+str(dec) + \" /project/ls-gruen/ligodesi/ls/legacy*r.fits\")\n",
    "    #os.sys(\"swarp -c swarp.conf -CENTER=\"+str(galaxy['ra'])+\",\"+galaxy['dec'] + \" \" + list_of_relevant_images) \n",
    "    "
   ]
  },
  {
   "cell_type": "code",
   "execution_count": 21,
   "id": "fb4c07d5-ee2d-4d8e-ab32-37888bb2f90a",
   "metadata": {},
   "outputs": [
    {
     "name": "stdout",
     "output_type": "stream",
     "text": [
      "swarp -c swarp.conf -IMAGEOUT_NAME=zgalaxy_ra109.68_dec63.186.fits -CENTER=109.679989646446,63.1859641956687 /project/ls-gruen/ligodesi/V230624-ligodesi_S230619bg_070355_624736_z*[0-9].fits\n",
      "swarp -c swarp.conf -IMAGEOUT_NAME=zgalaxy_ra110.294_dec63.678.fits -CENTER=110.293783220425,63.6778914381844 /project/ls-gruen/ligodesi/V230624-ligodesi_S230619bg_070355_624736_z*[0-9].fits\n",
      "swarp -c swarp.conf -IMAGEOUT_NAME=zgalaxy_ra110.314_dec63.65.fits -CENTER=110.314138321524,63.6504317896136 /project/ls-gruen/ligodesi/V230624-ligodesi_S230619bg_070355_624736_z*[0-9].fits\n",
      "swarp -c swarp.conf -IMAGEOUT_NAME=zgalaxy_ra108.194_dec63.341.fits -CENTER=108.194045155888,63.3413568832094 /project/ls-gruen/ligodesi/V230624-ligodesi_S230619bg_070355_624736_z*[0-9].fits\n",
      "swarp -c swarp.conf -IMAGEOUT_NAME=zgalaxy_ra108.122_dec63.391.fits -CENTER=108.121785292373,63.3910844316621 /project/ls-gruen/ligodesi/V230624-ligodesi_S230619bg_070355_624736_z*[0-9].fits\n",
      "swarp -c swarp.conf -IMAGEOUT_NAME=zgalaxy_ra109.123_dec63.297.fits -CENTER=109.122728489108,63.2971898203781 /project/ls-gruen/ligodesi/V230624-ligodesi_S230619bg_070355_624736_z*[0-9].fits\n",
      "swarp -c swarp.conf -IMAGEOUT_NAME=zgalaxy_ra108.534_dec63.635.fits -CENTER=108.533591232646,63.6350800162167 /project/ls-gruen/ligodesi/V230624-ligodesi_S230619bg_070355_624736_z*[0-9].fits\n",
      "swarp -c swarp.conf -IMAGEOUT_NAME=zgalaxy_ra110.305_dec63.636.fits -CENTER=110.304538646762,63.6359746825553 /project/ls-gruen/ligodesi/V230624-ligodesi_S230619bg_070355_624736_z*[0-9].fits\n",
      "swarp -c swarp.conf -IMAGEOUT_NAME=zgalaxy_ra110.412_dec63.694.fits -CENTER=110.412228424205,63.6944294708043 /project/ls-gruen/ligodesi/V230624-ligodesi_S230619bg_070355_624736_z*[0-9].fits\n",
      "swarp -c swarp.conf -IMAGEOUT_NAME=zgalaxy_ra109.202_dec64.126.fits -CENTER=109.202488045324,64.1263620578615 /project/ls-gruen/ligodesi/V230624-ligodesi_S230619bg_070355_624736_z*[0-9].fits\n",
      "swarp -c swarp.conf -IMAGEOUT_NAME=zgalaxy_ra109.469_dec63.486.fits -CENTER=109.469151435058,63.4856096760743 /project/ls-gruen/ligodesi/V230624-ligodesi_S230619bg_070355_624736_z*[0-9].fits\n",
      "swarp -c swarp.conf -IMAGEOUT_NAME=zgalaxy_ra109.309_dec63.169.fits -CENTER=109.308914958381,63.1691357450405 /project/ls-gruen/ligodesi/V230624-ligodesi_S230619bg_070355_624736_z*[0-9].fits\n",
      "swarp -c swarp.conf -IMAGEOUT_NAME=zgalaxy_ra108.353_dec63.311.fits -CENTER=108.352995452704,63.3106751020939 /project/ls-gruen/ligodesi/V230624-ligodesi_S230619bg_070355_624736_z*[0-9].fits\n",
      "swarp -c swarp.conf -IMAGEOUT_NAME=zgalaxy_ra108.802_dec63.213.fits -CENTER=108.801996373743,63.2128510109373 /project/ls-gruen/ligodesi/V230624-ligodesi_S230619bg_070355_624736_z*[0-9].fits\n",
      "swarp -c swarp.conf -IMAGEOUT_NAME=zgalaxy_ra110.273_dec63.723.fits -CENTER=110.27324581119,63.7230152076306 /project/ls-gruen/ligodesi/V230624-ligodesi_S230619bg_070355_624736_z*[0-9].fits\n",
      "swarp -c swarp.conf -IMAGEOUT_NAME=zgalaxy_ra109.68_dec63.114.fits -CENTER=109.680388934741,63.1136735796085 /project/ls-gruen/ligodesi/V230624-ligodesi_S230619bg_070355_624736_z*[0-9].fits\n",
      "swarp -c swarp.conf -IMAGEOUT_NAME=zgalaxy_ra110.286_dec63.678.fits -CENTER=110.286470639664,63.6776650996731 /project/ls-gruen/ligodesi/V230624-ligodesi_S230619bg_070355_624736_z*[0-9].fits\n",
      "swarp -c swarp.conf -IMAGEOUT_NAME=zgalaxy_ra109.153_dec63.561.fits -CENTER=109.152821735138,63.5606394225006 /project/ls-gruen/ligodesi/V230624-ligodesi_S230619bg_070355_624736_z*[0-9].fits\n",
      "swarp -c swarp.conf -IMAGEOUT_NAME=zgalaxy_ra109.125_dec63.296.fits -CENTER=109.125127153735,63.2959269258328 /project/ls-gruen/ligodesi/V230624-ligodesi_S230619bg_070355_624736_z*[0-9].fits\n",
      "swarp -c swarp.conf -IMAGEOUT_NAME=zgalaxy_ra108.928_dec64.244.fits -CENTER=108.927935559366,64.244484138259 /project/ls-gruen/ligodesi/V230624-ligodesi_S230619bg_070355_624736_z*[0-9].fits\n",
      "swarp -c /project/ls-gruen/ligodesi/ls/swarp.conf -IMAGEOUT_NAME=zlsgalaxy_ra109.68_dec63.186.fits -CENTER=109.679989646446,63.1859641956687 /project/ls-gruen/ligodesi/ls/*z.fits\n",
      "swarp -c /project/ls-gruen/ligodesi/ls/swarp.conf -IMAGEOUT_NAME=zlsgalaxy_ra110.294_dec63.678.fits -CENTER=110.293783220425,63.6778914381844 /project/ls-gruen/ligodesi/ls/*z.fits\n",
      "swarp -c /project/ls-gruen/ligodesi/ls/swarp.conf -IMAGEOUT_NAME=zlsgalaxy_ra110.314_dec63.65.fits -CENTER=110.314138321524,63.6504317896136 /project/ls-gruen/ligodesi/ls/*z.fits\n",
      "swarp -c /project/ls-gruen/ligodesi/ls/swarp.conf -IMAGEOUT_NAME=zlsgalaxy_ra108.194_dec63.341.fits -CENTER=108.194045155888,63.3413568832094 /project/ls-gruen/ligodesi/ls/*z.fits\n",
      "swarp -c /project/ls-gruen/ligodesi/ls/swarp.conf -IMAGEOUT_NAME=zlsgalaxy_ra108.122_dec63.391.fits -CENTER=108.121785292373,63.3910844316621 /project/ls-gruen/ligodesi/ls/*z.fits\n",
      "swarp -c /project/ls-gruen/ligodesi/ls/swarp.conf -IMAGEOUT_NAME=zlsgalaxy_ra109.123_dec63.297.fits -CENTER=109.122728489108,63.2971898203781 /project/ls-gruen/ligodesi/ls/*z.fits\n",
      "swarp -c /project/ls-gruen/ligodesi/ls/swarp.conf -IMAGEOUT_NAME=zlsgalaxy_ra108.534_dec63.635.fits -CENTER=108.533591232646,63.6350800162167 /project/ls-gruen/ligodesi/ls/*z.fits\n",
      "swarp -c /project/ls-gruen/ligodesi/ls/swarp.conf -IMAGEOUT_NAME=zlsgalaxy_ra110.305_dec63.636.fits -CENTER=110.304538646762,63.6359746825553 /project/ls-gruen/ligodesi/ls/*z.fits\n",
      "swarp -c /project/ls-gruen/ligodesi/ls/swarp.conf -IMAGEOUT_NAME=zlsgalaxy_ra110.412_dec63.694.fits -CENTER=110.412228424205,63.6944294708043 /project/ls-gruen/ligodesi/ls/*z.fits\n",
      "swarp -c /project/ls-gruen/ligodesi/ls/swarp.conf -IMAGEOUT_NAME=zlsgalaxy_ra109.202_dec64.126.fits -CENTER=109.202488045324,64.1263620578615 /project/ls-gruen/ligodesi/ls/*z.fits\n",
      "swarp -c /project/ls-gruen/ligodesi/ls/swarp.conf -IMAGEOUT_NAME=zlsgalaxy_ra109.469_dec63.486.fits -CENTER=109.469151435058,63.4856096760743 /project/ls-gruen/ligodesi/ls/*z.fits\n",
      "swarp -c /project/ls-gruen/ligodesi/ls/swarp.conf -IMAGEOUT_NAME=zlsgalaxy_ra109.309_dec63.169.fits -CENTER=109.308914958381,63.1691357450405 /project/ls-gruen/ligodesi/ls/*z.fits\n",
      "swarp -c /project/ls-gruen/ligodesi/ls/swarp.conf -IMAGEOUT_NAME=zlsgalaxy_ra108.353_dec63.311.fits -CENTER=108.352995452704,63.3106751020939 /project/ls-gruen/ligodesi/ls/*z.fits\n",
      "swarp -c /project/ls-gruen/ligodesi/ls/swarp.conf -IMAGEOUT_NAME=zlsgalaxy_ra108.802_dec63.213.fits -CENTER=108.801996373743,63.2128510109373 /project/ls-gruen/ligodesi/ls/*z.fits\n",
      "swarp -c /project/ls-gruen/ligodesi/ls/swarp.conf -IMAGEOUT_NAME=zlsgalaxy_ra110.273_dec63.723.fits -CENTER=110.27324581119,63.7230152076306 /project/ls-gruen/ligodesi/ls/*z.fits\n",
      "swarp -c /project/ls-gruen/ligodesi/ls/swarp.conf -IMAGEOUT_NAME=zlsgalaxy_ra109.68_dec63.114.fits -CENTER=109.680388934741,63.1136735796085 /project/ls-gruen/ligodesi/ls/*z.fits\n",
      "swarp -c /project/ls-gruen/ligodesi/ls/swarp.conf -IMAGEOUT_NAME=zlsgalaxy_ra110.286_dec63.678.fits -CENTER=110.286470639664,63.6776650996731 /project/ls-gruen/ligodesi/ls/*z.fits\n",
      "swarp -c /project/ls-gruen/ligodesi/ls/swarp.conf -IMAGEOUT_NAME=zlsgalaxy_ra109.153_dec63.561.fits -CENTER=109.152821735138,63.5606394225006 /project/ls-gruen/ligodesi/ls/*z.fits\n",
      "swarp -c /project/ls-gruen/ligodesi/ls/swarp.conf -IMAGEOUT_NAME=zlsgalaxy_ra109.125_dec63.296.fits -CENTER=109.125127153735,63.2959269258328 /project/ls-gruen/ligodesi/ls/*z.fits\n",
      "swarp -c /project/ls-gruen/ligodesi/ls/swarp.conf -IMAGEOUT_NAME=zlsgalaxy_ra108.928_dec64.244.fits -CENTER=108.927935559366,64.244484138259 /project/ls-gruen/ligodesi/ls/*z.fits\n"
     ]
    }
   ],
   "source": [
    "for ra,dec in zip(target_list['RA'],target_list['dec']):\n",
    "    #list_of_relevant_images = get_list_of_wst_overlapping_images(ra,dec,list_of_all_wst_r_band_images, distance = 35)\n",
    "    #if(list_of_relevant_images == \"\"):\n",
    "    #    print(\"# \",ra,dec,\" is not in our footprint\")\n",
    "        \n",
    "    output_filename = get_output_filename(ra,dec,\"z\")\n",
    "    print(\"swarp -c swarp.conf -IMAGEOUT_NAME=\" + output_filename + \" -CENTER=\"+str(ra)+\",\"+str(dec) + \" /project/ls-gruen/ligodesi/V230624-ligodesi_S230619bg_070355_624736_z*[0-9].fits\") # + list_of_relevant_images)\n",
    "    \n",
    "for ra,dec in zip(target_list['RA'],target_list['dec']):\n",
    "    output_filename = get_output_filename(ra,dec,\"zls\")\n",
    "    print(\"swarp -c /project/ls-gruen/ligodesi/ls/swarp.conf -IMAGEOUT_NAME=\" + output_filename + \" -CENTER=\"+str(ra)+\",\"+str(dec) +  \" /project/ls-gruen/ligodesi/ls/*z.fits\")\n",
    "    \n",
    "    #os.sys(\"swarp -c swarp.conf -CENTER=\"+str(galaxy['ra'])+\",\"+galaxy['dec'] + \" \" + list_of_relevant_images) \n",
    "    "
   ]
  },
  {
   "cell_type": "code",
   "execution_count": null,
   "id": "6c069572-c8ee-41e0-87c1-fbe6991884fe",
   "metadata": {},
   "outputs": [],
   "source": []
  }
 ],
 "metadata": {
  "kernelspec": {
   "display_name": "Python 3 (ipykernel)",
   "language": "python",
   "name": "python3"
  },
  "language_info": {
   "codemirror_mode": {
    "name": "ipython",
    "version": 3
   },
   "file_extension": ".py",
   "mimetype": "text/x-python",
   "name": "python",
   "nbconvert_exporter": "python",
   "pygments_lexer": "ipython3",
   "version": "3.9.7"
  }
 },
 "nbformat": 4,
 "nbformat_minor": 5
}
