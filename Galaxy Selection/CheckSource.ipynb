{
 "cells": [
  {
   "cell_type": "code",
   "execution_count": 1,
   "id": "10ba21dd-2f0a-471a-b7c0-ea9390ff6e8f",
   "metadata": {},
   "outputs": [],
   "source": [
    "import numpy as np\n",
    "from scipy.stats import norm\n",
    "import scipy as sc\n",
    "\n",
    "from astropy.io import fits, ascii\n",
    "from astropy.table import Table, hstack\n",
    "from astropy import table\n",
    "\n",
    "import healpy as hp\n",
    "import astropy_healpix as ah\n",
    "\n",
    "from astropy.table import QTable\n",
    "\n",
    "import psycopg2\n",
    "\n",
    "from scipy.stats import norm\n",
    "\n",
    "\n",
    "from astropy.cosmology import Planck18, z_at_value\n",
    "from astropy.coordinates import Distance, SkyCoord\n",
    "from astropy import units as u\n",
    "\n",
    "import astropy.constants as asc\n",
    "\n",
    "import matplotlib.pyplot as plt\n",
    "\n",
    "import gasel as gs"
   ]
  },
  {
   "cell_type": "code",
   "execution_count": 5,
   "id": "8007f8b0-76a1-4fda-94ce-922abe8c7cf3",
   "metadata": {},
   "outputs": [],
   "source": [
    "center_ra = 109.25\n",
    "center_dec = 63.68\n",
    "radius = 1.227/2"
   ]
  },
  {
   "cell_type": "code",
   "execution_count": 6,
   "id": "d572811d-5861-40ac-8b59-3fdae7b58b97",
   "metadata": {},
   "outputs": [],
   "source": [
    "data = gs.db_doall(center_ra, center_dec, radius)"
   ]
  },
  {
   "cell_type": "code",
   "execution_count": 7,
   "id": "5bd55212-da2f-46b9-9501-0451b822e7b4",
   "metadata": {},
   "outputs": [
    {
     "data": {
      "text/html": [
       "<div><i>Table length=1525</i>\n",
       "<table id=\"table140579427990784\" class=\"table-striped table-bordered table-condensed\">\n",
       "<thead><tr><th>TARGETID</th><th>TARGET_RA</th><th>TARGET_DEC</th><th>LASTNIGHT</th><th>Z</th><th>ZERR</th><th>ZWARN</th><th>FLUX_G</th><th>FLUX_R</th><th>FLUX_Z</th><th>SPECTYPE</th><th>BGS_TARGET</th><th>EBV</th><th>SERSIC</th></tr></thead>\n",
       "<thead><tr><th>int64</th><th>float64</th><th>float64</th><th>int64</th><th>float64</th><th>float64</th><th>int64</th><th>float64</th><th>float64</th><th>float64</th><th>str6</th><th>int64</th><th>float64</th><th>float64</th></tr></thead>\n",
       "<tr><td>2390768907976704</td><td>108.117557695096</td><td>63.3898431837045</td><td>20221205</td><td>0.040290694709979</td><td>1.41089692161923e-05</td><td>0</td><td>0.0</td><td>0.0</td><td>0.0</td><td>GALAXY</td><td>0</td><td>0.0678029283881187</td><td>0.0</td></tr>\n",
       "<tr><td>2782192329555969</td><td>109.350844476076</td><td>63.2528054158454</td><td>20220209</td><td>1.09743537372472</td><td>0.000147543353596166</td><td>0</td><td>0.0</td><td>0.0</td><td>0.0</td><td>QSO</td><td>0</td><td>0.0784731507301331</td><td>0.0</td></tr>\n",
       "<tr><td>2782192329555988</td><td>109.835945734956</td><td>63.1319999511355</td><td>20220209</td><td>0.000291144810787166</td><td>8.9372185391876e-05</td><td>0</td><td>0.0</td><td>0.0</td><td>0.0</td><td>STAR</td><td>0</td><td>0.0693535506725311</td><td>0.0</td></tr>\n",
       "<tr><td>2782195043270668</td><td>108.018208619957</td><td>63.4340683190374</td><td>20211117</td><td>0.694732350620082</td><td>2.01233823686163e-05</td><td>0</td><td>0.0</td><td>0.0</td><td>0.0</td><td>QSO</td><td>0</td><td>0.0</td><td>0.0</td></tr>\n",
       "<tr><td>2782195047464965</td><td>108.233018836918</td><td>63.4776203081309</td><td>20220209</td><td>4.08628438596717e-05</td><td>1.29322044023361e-05</td><td>0</td><td>0.0</td><td>0.0</td><td>0.0</td><td>STAR</td><td>0</td><td>0.069509819149971</td><td>0.0</td></tr>\n",
       "<tr><td>2782195047464982</td><td>108.66853748498</td><td>63.5804719641246</td><td>20221205</td><td>1.04279377444736</td><td>0.000269147973740109</td><td>0</td><td>0.0</td><td>0.0</td><td>0.0</td><td>QSO</td><td>0</td><td>0.0839990600943565</td><td>0.0</td></tr>\n",
       "<tr><td>2782195051659281</td><td>109.182328813855</td><td>63.5815594246369</td><td>20220209</td><td>0.000332980278490388</td><td>1.54031683214173e-05</td><td>0</td><td>0.0</td><td>0.0</td><td>0.0</td><td>STAR</td><td>0</td><td>0.0771504342556</td><td>0.0</td></tr>\n",
       "<tr><td>2782197756985361</td><td>109.629536987384</td><td>63.83836045547</td><td>20211117</td><td>1.73335204334868</td><td>0.000141335924107196</td><td>0</td><td>0.0</td><td>0.0</td><td>0.0</td><td>QSO</td><td>0</td><td>0.0</td><td>0.0</td></tr>\n",
       "<tr><td>2782200432951301</td><td>108.88376844905</td><td>63.9669682087992</td><td>20221205</td><td>0.000509787615590783</td><td>2.38172875798446e-05</td><td>0</td><td>0.0</td><td>0.0</td><td>0.0</td><td>STAR</td><td>0</td><td>0.0707284659147263</td><td>0.0</td></tr>\n",
       "<tr><td>2786593093976074</td><td>108.51251700817</td><td>63.4167254120063</td><td>20211021</td><td>0.301243045753747</td><td>4.17976040500201e-05</td><td>0</td><td>0.0</td><td>0.0</td><td>0.0</td><td>GALAXY</td><td>0</td><td>0.0</td><td>0.0</td></tr>\n",
       "<tr><td>...</td><td>...</td><td>...</td><td>...</td><td>...</td><td>...</td><td>...</td><td>...</td><td>...</td><td>...</td><td>...</td><td>...</td><td>...</td><td>...</td></tr>\n",
       "<tr><td>39633434817070390</td><td>109.895151675665</td><td>64.1925621669115</td><td>20211021</td><td>0.257564672423432</td><td>2.57061771752915e-05</td><td>0</td><td>2.43393468856812</td><td>8.0174674987793</td><td>18.4971351623535</td><td>GALAXY</td><td>265</td><td>0.0742037296295166</td><td>1.0</td></tr>\n",
       "<tr><td>39633434817070558</td><td>109.922525138836</td><td>64.1777838124878</td><td>20220209</td><td>0.454592375153558</td><td>2.4148118822022e-05</td><td>0</td><td>3.29718780517578</td><td>10.0967721939087</td><td>19.800630569458</td><td>GALAXY</td><td>257</td><td>0.0732167288661003</td><td>1.0</td></tr>\n",
       "<tr><td>39633434817070758</td><td>109.954643983098</td><td>64.1646977849575</td><td>20211021</td><td>0.27745067928246</td><td>1.74546455289952e-05</td><td>0</td><td>6.1552619934082</td><td>19.6494140625</td><td>41.2298240661621</td><td>GALAXY</td><td>514</td><td>0.0720565170049667</td><td>2.00489521026611</td></tr>\n",
       "<tr><td>39633434817070838</td><td>109.968566446802</td><td>64.1564159927446</td><td>20221205</td><td>0.344121000556908</td><td>4.60522338804225e-06</td><td>0</td><td>4.03268384933472</td><td>9.68998050689697</td><td>17.1680603027344</td><td>GALAXY</td><td>257</td><td>0.0719622448086739</td><td>1.0</td></tr>\n",
       "<tr><td>39633434817070850</td><td>109.96989767876</td><td>64.1351179287722</td><td>20220209</td><td>0.347266527006771</td><td>3.40911997934335e-06</td><td>0</td><td>6.16326284408569</td><td>17.2145156860352</td><td>35.3184967041016</td><td>GALAXY</td><td>514</td><td>0.0731112435460091</td><td>1.0</td></tr>\n",
       "<tr><td>39633434817070939</td><td>109.983011036133</td><td>64.1652229213887</td><td>20211021</td><td>6.01151440258029e-05</td><td>2.23722454293719e-06</td><td>0</td><td>28.7106037139893</td><td>71.3824996948242</td><td>105.417984008789</td><td>STAR</td><td>0</td><td>0.0716936588287354</td><td>0.0</td></tr>\n",
       "<tr><td>39633434817071037</td><td>109.996244010157</td><td>64.1944193317483</td><td>20211021</td><td>0.254146913752927</td><td>8.55787125532633e-05</td><td>0</td><td>4.02454662322998</td><td>16.6599617004395</td><td>37.2847175598145</td><td>GALAXY</td><td>514</td><td>0.0712199136614799</td><td>2.17214226722717</td></tr>\n",
       "<tr><td>39633434817071086</td><td>110.002882787323</td><td>64.1907579614375</td><td>20221205</td><td>0.253557201571289</td><td>7.91095021710333e-06</td><td>0</td><td>5.29720735549927</td><td>12.4483518600464</td><td>21.6121120452881</td><td>GALAXY</td><td>257</td><td>0.0711752772331238</td><td>1.0</td></tr>\n",
       "<tr><td>39633434817071133</td><td>110.010099077275</td><td>64.1335512495146</td><td>20211021</td><td>0.899880178001301</td><td>3.02255113419181e-05</td><td>0</td><td>33.6214218139648</td><td>38.4416809082031</td><td>43.2419738769531</td><td>QSO</td><td>0</td><td>0.072113424539566</td><td>0.0</td></tr>\n",
       "<tr><td>39633434817071684</td><td>110.104503310537</td><td>64.1307179385596</td><td>20211021</td><td>0.364431093795351</td><td>6.03410626906051e-05</td><td>0</td><td>6.80442667007446</td><td>24.0613784790039</td><td>49.9258766174316</td><td>GALAXY</td><td>514</td><td>0.0739138498902321</td><td>4.0</td></tr>\n",
       "</table></div>"
      ],
      "text/plain": [
       "<Table length=1525>\n",
       "     TARGETID        TARGET_RA     ...        EBV              SERSIC     \n",
       "      int64           float64      ...      float64           float64     \n",
       "----------------- ---------------- ... ------------------ ----------------\n",
       " 2390768907976704 108.117557695096 ... 0.0678029283881187              0.0\n",
       " 2782192329555969 109.350844476076 ... 0.0784731507301331              0.0\n",
       " 2782192329555988 109.835945734956 ... 0.0693535506725311              0.0\n",
       " 2782195043270668 108.018208619957 ...                0.0              0.0\n",
       " 2782195047464965 108.233018836918 ...  0.069509819149971              0.0\n",
       " 2782195047464982  108.66853748498 ... 0.0839990600943565              0.0\n",
       " 2782195051659281 109.182328813855 ...    0.0771504342556              0.0\n",
       " 2782197756985361 109.629536987384 ...                0.0              0.0\n",
       " 2782200432951301  108.88376844905 ... 0.0707284659147263              0.0\n",
       " 2786593093976074  108.51251700817 ...                0.0              0.0\n",
       "              ...              ... ...                ...              ...\n",
       "39633434817070390 109.895151675665 ... 0.0742037296295166              1.0\n",
       "39633434817070558 109.922525138836 ... 0.0732167288661003              1.0\n",
       "39633434817070758 109.954643983098 ... 0.0720565170049667 2.00489521026611\n",
       "39633434817070838 109.968566446802 ... 0.0719622448086739              1.0\n",
       "39633434817070850  109.96989767876 ... 0.0731112435460091              1.0\n",
       "39633434817070939 109.983011036133 ... 0.0716936588287354              0.0\n",
       "39633434817071037 109.996244010157 ... 0.0712199136614799 2.17214226722717\n",
       "39633434817071086 110.002882787323 ... 0.0711752772331238              1.0\n",
       "39633434817071133 110.010099077275 ...  0.072113424539566              0.0\n",
       "39633434817071684 110.104503310537 ... 0.0739138498902321              4.0"
      ]
     },
     "execution_count": 7,
     "metadata": {},
     "output_type": "execute_result"
    }
   ],
   "source": [
    "data"
   ]
  },
  {
   "cell_type": "code",
   "execution_count": null,
   "id": "65ace9e5-3b0f-43e0-979b-a8d360d8da06",
   "metadata": {},
   "outputs": [],
   "source": []
  }
 ],
 "metadata": {
  "kernelspec": {
   "display_name": "Python (MambaTest)",
   "language": "python",
   "name": "mambatest"
  },
  "language_info": {
   "codemirror_mode": {
    "name": "ipython",
    "version": 3
   },
   "file_extension": ".py",
   "mimetype": "text/x-python",
   "name": "python",
   "nbconvert_exporter": "python",
   "pygments_lexer": "ipython3",
   "version": "3.10.10"
  }
 },
 "nbformat": 4,
 "nbformat_minor": 5
}
