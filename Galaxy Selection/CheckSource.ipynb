{
 "cells": [
  {
   "cell_type": "code",
   "execution_count": 1,
   "id": "10ba21dd-2f0a-471a-b7c0-ea9390ff6e8f",
   "metadata": {},
   "outputs": [],
   "source": [
    "import numpy as np\n",
    "from scipy.stats import norm\n",
    "import scipy as sc\n",
    "\n",
    "from astropy.io import fits, ascii\n",
    "from astropy.table import Table, hstack\n",
    "from astropy import table\n",
    "\n",
    "import healpy as hp\n",
    "import astropy_healpix as ah\n",
    "\n",
    "from astropy.table import QTable\n",
    "\n",
    "import psycopg2\n",
    "\n",
    "from scipy.stats import norm\n",
    "\n",
    "\n",
    "from astropy.cosmology import Planck18, z_at_value\n",
    "from astropy.coordinates import Distance, SkyCoord\n",
    "from astropy import units as u\n",
    "\n",
    "import astropy.constants as asc\n",
    "\n",
    "import matplotlib.pyplot as plt\n",
    "\n",
    "import gasel as gs"
   ]
  },
  {
   "cell_type": "code",
   "execution_count": 2,
   "id": "8007f8b0-76a1-4fda-94ce-922abe8c7cf3",
   "metadata": {},
   "outputs": [],
   "source": [
    "center_ra = 235.9839\n",
    "center_dec = 15.2248\n",
    "radius = 1"
   ]
  },
  {
   "cell_type": "code",
   "execution_count": 3,
   "id": "d572811d-5861-40ac-8b59-3fdae7b58b97",
   "metadata": {},
   "outputs": [],
   "source": [
    "data = gs.db_doall(center_ra, center_dec, radius)"
   ]
  },
  {
   "cell_type": "code",
   "execution_count": 4,
   "id": "5bd55212-da2f-46b9-9501-0451b822e7b4",
   "metadata": {},
   "outputs": [
    {
     "data": {
      "text/html": [
       "<div><i>Table length=7774</i>\n",
       "<table id=\"table140582167526080\" class=\"table-striped table-bordered table-condensed\">\n",
       "<thead><tr><th>TARGETID</th><th>TARGET_RA</th><th>TARGET_DEC</th><th>LASTNIGHT</th><th>Z</th><th>ZERR</th><th>ZWARN</th><th>FLUX_G</th><th>FLUX_R</th><th>FLUX_Z</th><th>SPECTYPE</th><th>BGS_TARGET</th><th>EBV</th><th>SERSIC</th></tr></thead>\n",
       "<thead><tr><th>int64</th><th>float64</th><th>float64</th><th>int64</th><th>float64</th><th>float64</th><th>int64</th><th>float64</th><th>float64</th><th>float64</th><th>str6</th><th>int64</th><th>float64</th><th>float64</th></tr></thead>\n",
       "<tr><td>-101454631</td><td>236.529139988403</td><td>14.8505511760241</td><td>20210706</td><td>0.118179160739212</td><td>3.51760069414361e-05</td><td>0</td><td>0.0</td><td>0.0</td><td>0.0</td><td>GALAXY</td><td>0</td><td>0.0</td><td>0.0</td></tr>\n",
       "<tr><td>-101454630</td><td>236.480699341978</td><td>14.856530208825</td><td>20210706</td><td>0.907954065055858</td><td>0.00025200362956811</td><td>0</td><td>0.0</td><td>0.0</td><td>0.0</td><td>GALAXY</td><td>0</td><td>0.0</td><td>0.0</td></tr>\n",
       "<tr><td>-101454629</td><td>236.445522238407</td><td>14.8669924533272</td><td>20210706</td><td>5.18558325647862</td><td>0.000775078167098607</td><td>0</td><td>0.0</td><td>0.0</td><td>0.0</td><td>QSO</td><td>0</td><td>0.0</td><td>0.0</td></tr>\n",
       "<tr><td>-101454493</td><td>236.105676861122</td><td>14.7227120742768</td><td>20210706</td><td>0.243599511403897</td><td>8.4811128231704e-05</td><td>0</td><td>0.0</td><td>0.0</td><td>0.0</td><td>GALAXY</td><td>0</td><td>0.0</td><td>0.0</td></tr>\n",
       "<tr><td>-101454480</td><td>236.370459761265</td><td>14.6372635155474</td><td>20210706</td><td>0.180934436463506</td><td>1.36906278233279e-05</td><td>0</td><td>0.0</td><td>0.0</td><td>0.0</td><td>GALAXY</td><td>0</td><td>0.0</td><td>0.0</td></tr>\n",
       "<tr><td>-101454423</td><td>236.240219546157</td><td>14.5562527336772</td><td>20210706</td><td>0.450990229086232</td><td>7.25669124046572e-05</td><td>0</td><td>0.0</td><td>0.0</td><td>0.0</td><td>GALAXY</td><td>0</td><td>0.0</td><td>0.0</td></tr>\n",
       "<tr><td>-101454410</td><td>236.423641379997</td><td>14.4845195101486</td><td>20210706</td><td>1.22252784840973</td><td>4.28467635291054e-05</td><td>0</td><td>0.0</td><td>0.0</td><td>0.0</td><td>GALAXY</td><td>0</td><td>0.0</td><td>0.0</td></tr>\n",
       "<tr><td>-101453674</td><td>235.760664058924</td><td>14.7264324255996</td><td>20210706</td><td>0.684208955596651</td><td>0.000159924825963001</td><td>0</td><td>0.0</td><td>0.0</td><td>0.0</td><td>QSO</td><td>0</td><td>0.0</td><td>0.0</td></tr>\n",
       "<tr><td>-101453528</td><td>235.918784794077</td><td>14.5351076254328</td><td>20210706</td><td>1.36142468955869</td><td>0.000102540801828858</td><td>0</td><td>0.0</td><td>0.0</td><td>0.0</td><td>GALAXY</td><td>0</td><td>0.0</td><td>0.0</td></tr>\n",
       "<tr><td>-101453498</td><td>235.562427815548</td><td>14.3388765870721</td><td>20210706</td><td>0.512197221722955</td><td>5.79265235861271e-05</td><td>0</td><td>0.0</td><td>0.0</td><td>0.0</td><td>GALAXY</td><td>0</td><td>0.0</td><td>0.0</td></tr>\n",
       "<tr><td>...</td><td>...</td><td>...</td><td>...</td><td>...</td><td>...</td><td>...</td><td>...</td><td>...</td><td>...</td><td>...</td><td>...</td><td>...</td><td>...</td></tr>\n",
       "<tr><td>39628176359428358</td><td>236.393378073568</td><td>16.1306369186847</td><td>20230419</td><td>0.322383268791801</td><td>7.6008824298187e-05</td><td>0</td><td>109.457038879395</td><td>24.1889457702637</td><td>245.420684814453</td><td>GALAXY</td><td>131074</td><td>0.0344291590154171</td><td>5.20389318466187</td></tr>\n",
       "<tr><td>39628176359428780</td><td>236.410046808128</td><td>16.1299425955447</td><td>20220323</td><td>0.191720416654009</td><td>1.56671676109379e-05</td><td>0</td><td>116.077735900879</td><td>74.5105514526367</td><td>171.940887451172</td><td>QSO</td><td>131074</td><td>0.0340985022485256</td><td>4.69342279434204</td></tr>\n",
       "<tr><td>39628176359428827</td><td>236.412354848303</td><td>16.1349759303601</td><td>20230415</td><td>1.5235681671645</td><td>8.21828397289824e-05</td><td>0</td><td>0.481481432914734</td><td>0.510399997234344</td><td>0.706834077835083</td><td>GALAXY</td><td>0</td><td>0.034024253487587</td><td>0.0</td></tr>\n",
       "<tr><td>616088893707518784</td><td>236.61161566743</td><td>14.7912167506828</td><td>20210706</td><td>1.02504786374176</td><td>0.000217449898874374</td><td>0</td><td>0.0</td><td>0.0</td><td>0.0</td><td>QSO</td><td>0</td><td>0.0</td><td>0.0</td></tr>\n",
       "<tr><td>616088899541795270</td><td>236.122126212559</td><td>14.9593180317549</td><td>20210706</td><td>0.341859570471297</td><td>6.53746477487855e-05</td><td>0</td><td>0.0</td><td>0.0</td><td>0.0</td><td>GALAXY</td><td>0</td><td>0.0</td><td>0.0</td></tr>\n",
       "<tr><td>616088899550183947</td><td>236.642670430535</td><td>14.9794064659074</td><td>20210706</td><td>5.1750745935939</td><td>0.000389730332408222</td><td>0</td><td>0.0</td><td>0.0</td><td>0.0</td><td>QSO</td><td>0</td><td>0.0</td><td>0.0</td></tr>\n",
       "<tr><td>616088917027848850</td><td>235.552300250439</td><td>15.754023943491</td><td>20210608</td><td>0.477445608806538</td><td>4.59497843500107e-05</td><td>0</td><td>0.0</td><td>0.0</td><td>0.0</td><td>GALAXY</td><td>0</td><td>0.0</td><td>0.0</td></tr>\n",
       "<tr><td>616088917032043222</td><td>235.821035744154</td><td>15.7741138863104</td><td>20210608</td><td>1.11116687881523</td><td>5.83448579899013e-05</td><td>0</td><td>0.0</td><td>0.0</td><td>0.0</td><td>GALAXY</td><td>0</td><td>0.0</td><td>0.0</td></tr>\n",
       "<tr><td>616088917040431830</td><td>236.345968373523</td><td>15.7761536227157</td><td>20210608</td><td>0.445591151472807</td><td>4.14881755410957e-05</td><td>0</td><td>0.0</td><td>0.0</td><td>0.0</td><td>GALAXY</td><td>0</td><td>0.0</td><td>0.0</td></tr>\n",
       "<tr><td>616088922849543060</td><td>236.060098576717</td><td>16.0637725048847</td><td>20210608</td><td>1.5417717490506</td><td>0.000386458420283441</td><td>0</td><td>0.0</td><td>0.0</td><td>0.0</td><td>GALAXY</td><td>0</td><td>0.0</td><td>0.0</td></tr>\n",
       "</table></div>"
      ],
      "text/plain": [
       "<Table length=7774>\n",
       "     TARGETID         TARGET_RA     ...        EBV              SERSIC     \n",
       "      int64            float64      ...      float64           float64     \n",
       "------------------ ---------------- ... ------------------ ----------------\n",
       "        -101454631 236.529139988403 ...                0.0              0.0\n",
       "        -101454630 236.480699341978 ...                0.0              0.0\n",
       "        -101454629 236.445522238407 ...                0.0              0.0\n",
       "        -101454493 236.105676861122 ...                0.0              0.0\n",
       "        -101454480 236.370459761265 ...                0.0              0.0\n",
       "        -101454423 236.240219546157 ...                0.0              0.0\n",
       "        -101454410 236.423641379997 ...                0.0              0.0\n",
       "        -101453674 235.760664058924 ...                0.0              0.0\n",
       "        -101453528 235.918784794077 ...                0.0              0.0\n",
       "        -101453498 235.562427815548 ...                0.0              0.0\n",
       "               ...              ... ...                ...              ...\n",
       " 39628176359428358 236.393378073568 ... 0.0344291590154171 5.20389318466187\n",
       " 39628176359428780 236.410046808128 ... 0.0340985022485256 4.69342279434204\n",
       " 39628176359428827 236.412354848303 ...  0.034024253487587              0.0\n",
       "616088893707518784  236.61161566743 ...                0.0              0.0\n",
       "616088899541795270 236.122126212559 ...                0.0              0.0\n",
       "616088899550183947 236.642670430535 ...                0.0              0.0\n",
       "616088917027848850 235.552300250439 ...                0.0              0.0\n",
       "616088917032043222 235.821035744154 ...                0.0              0.0\n",
       "616088917040431830 236.345968373523 ...                0.0              0.0\n",
       "616088922849543060 236.060098576717 ...                0.0              0.0"
      ]
     },
     "execution_count": 4,
     "metadata": {},
     "output_type": "execute_result"
    }
   ],
   "source": [
    "data"
   ]
  },
  {
   "cell_type": "code",
   "execution_count": null,
   "id": "65ace9e5-3b0f-43e0-979b-a8d360d8da06",
   "metadata": {},
   "outputs": [],
   "source": []
  }
 ],
 "metadata": {
  "kernelspec": {
   "display_name": "Python (MambaTest)",
   "language": "python",
   "name": "mambatest"
  },
  "language_info": {
   "codemirror_mode": {
    "name": "ipython",
    "version": 3
   },
   "file_extension": ".py",
   "mimetype": "text/x-python",
   "name": "python",
   "nbconvert_exporter": "python",
   "pygments_lexer": "ipython3",
   "version": "3.10.10"
  }
 },
 "nbformat": 4,
 "nbformat_minor": 5
}
