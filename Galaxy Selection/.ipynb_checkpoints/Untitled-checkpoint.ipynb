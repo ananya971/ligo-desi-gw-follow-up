{
 "cells": [
  {
   "cell_type": "code",
   "execution_count": 15,
   "id": "722dd7e7-1e1c-4442-a877-ba954b77c662",
   "metadata": {},
   "outputs": [],
   "source": [
    "import numpy as np\n",
    "import math"
   ]
  },
  {
   "cell_type": "code",
   "execution_count": null,
   "id": "0e6c4181-957c-49f4-bed0-feb7fef2ff6e",
   "metadata": {},
   "outputs": [],
   "source": [
    "def roundup(x):\n",
    "    return int(math.ceil(x / 1.0)) * 1"
   ]
  },
  {
   "cell_type": "code",
   "execution_count": 7,
   "id": "353bd631-907f-492c-815d-4627a6fbbd6e",
   "metadata": {},
   "outputs": [
    {
     "name": "stdout",
     "output_type": "stream",
     "text": [
      "This patch has an area of 2.67 sqdeg\n",
      "delta in RA is 2.4540000000000024\n",
      "delta in dec is 1.0879814087380077\n"
     ]
    }
   ],
   "source": [
    "center_ra  = 109.25\n",
    "center_dec = 63.68\n",
    "radius = 1.227\n",
    "\n",
    "max_ra = center_ra+radius\n",
    "min_ra = center_ra-radius\n",
    "max_dec = center_dec+radius\n",
    "min_dec = center_dec-radius\n",
    "\n",
    "area = (np.deg2rad(max_ra) - np.deg2rad(min_ra)) * (np.cos(np.deg2rad(90-max_dec)) - np.cos(np.deg2rad(90-min_dec)))\n",
    "area = area*((180/np.pi)**2)\n",
    "\n",
    "delta_ra = (np.deg2rad(max_ra) - np.deg2rad(min_ra))*(180/np.pi)\n",
    "delta_dec = (np.cos(np.deg2rad(90-max_dec)) - np.cos(np.deg2rad(90-min_dec)))*(180/np.pi)\n"
   ]
  },
  {
   "cell_type": "code",
   "execution_count": 6,
   "id": "67ae7f48-6406-4b51-b4ef-61a4c13bf30c",
   "metadata": {},
   "outputs": [],
   "source": [
    "FOV_WWFI = [0.5,0.5]"
   ]
  },
  {
   "cell_type": "code",
   "execution_count": 14,
   "id": "bf2e496f-475a-4560-8350-575df87042b6",
   "metadata": {},
   "outputs": [
    {
     "name": "stdout",
     "output_type": "stream",
     "text": [
      "This patch has an area of 2.67 sqdeg\n",
      "------------------------------------\n",
      "delta in RA is 2.4540000000000024\n",
      "delta in dec is 1.0879814087380077\n",
      "----------------------------------\n",
      "We need 4.908000000000005 images along the RA axis\n",
      "We need 2.1759628174760155 images along the dec axis\n",
      "\n",
      "==> total number of images we need 10.679625508172295\n"
     ]
    }
   ],
   "source": [
    "num_exp_ra = delta_ra/(FOV_WWFI[0])\n",
    "num_exp_dec = delta_dec/(FOV_WWFI[1])\n",
    "\n",
    "print('This patch has an area of {:.2f} sqdeg'.format(area))\n",
    "print(f\"------------------------------------\")\n",
    "\n",
    "\n",
    "print(f\"delta in RA is {delta_ra}\")\n",
    "print(f\"delta in dec is {delta_dec}\")\n",
    "print(f\"----------------------------------\")\n",
    "\n",
    "\n",
    "print(f\"We need {num_exp_ra} images along the RA axis\")\n",
    "print(f\"We need {num_exp_dec} images along the dec axis\")\n",
    "print()\n",
    "print(f\"==> total number of images we need {num_exp_ra*num_exp_dec}\")\n",
    "\n"
   ]
  },
  {
   "cell_type": "code",
   "execution_count": null,
   "id": "03a6929b-9c06-4cc7-9543-afd26bfb45d7",
   "metadata": {},
   "outputs": [],
   "source": []
  }
 ],
 "metadata": {
  "kernelspec": {
   "display_name": "Python (MambaTest)",
   "language": "python",
   "name": "mambatest"
  },
  "language_info": {
   "codemirror_mode": {
    "name": "ipython",
    "version": 3
   },
   "file_extension": ".py",
   "mimetype": "text/x-python",
   "name": "python",
   "nbconvert_exporter": "python",
   "pygments_lexer": "ipython3",
   "version": "3.10.10"
  }
 },
 "nbformat": 4,
 "nbformat_minor": 5
}
