{
 "cells": [
  {
   "cell_type": "code",
   "execution_count": 1,
   "id": "735fa3f6-b10c-4c67-80cc-ef335499f469",
   "metadata": {},
   "outputs": [],
   "source": [
    "# import some helpful python packages \n",
    "import os\n",
    "import numpy as np\n",
    "\n",
    "from astropy.io import fits\n",
    "from astropy.table import Table\n",
    "from astropy.convolution import convolve, Gaussian1DKernel\n",
    "import astropy\n",
    "astropy.__version__\n",
    "\n",
    "# needs to be at least version 5.1 to get the Schechter fit stuff\n",
    "\n",
    "import matplotlib \n",
    "import matplotlib.pyplot as plt\n",
    "\n",
    "import scipy as spy"
   ]
  },
  {
   "cell_type": "code",
   "execution_count": 2,
   "id": "dfb26978-2fe1-4a91-9a41-4bb113e7dbdd",
   "metadata": {},
   "outputs": [],
   "source": [
    "# import DESI related modules - \n",
    "from desimodel.footprint import radec2pix      # For getting healpix values\n",
    "import desispec.io                             # Input/Output functions related to DESI spectra\n",
    "from desispec import coaddition                # Functions related to coadding the spectra\n",
    "\n",
    "# DESI targeting masks - \n",
    "from desitarget.sv1 import sv1_targetmask    # For SV1\n",
    "from desitarget.sv2 import sv2_targetmask    # For SV2\n",
    "from desitarget.sv3 import sv3_targetmask    # For SV3\n",
    "from desitarget import targetmask            # main"
   ]
  },
  {
   "cell_type": "code",
   "execution_count": 3,
   "id": "66acd8ca-f381-4068-96d4-3217bde1e802",
   "metadata": {},
   "outputs": [],
   "source": [
    "from astropy.cosmology import Planck18\n",
    "from astropy.coordinates import Distance\n",
    "from astropy import units as u\n",
    "import astropy.constants as asc"
   ]
  },
  {
   "cell_type": "code",
   "execution_count": 4,
   "id": "0465b1c7-5ba9-4998-adc9-efbf01fa0ba9",
   "metadata": {},
   "outputs": [],
   "source": [
    "# import image module\n",
    "from IPython.display import Image\n",
    " "
   ]
  },
  {
   "cell_type": "code",
   "execution_count": 6,
   "id": "76c8ce26-faa8-4b3c-b3a1-83581055499f",
   "metadata": {},
   "outputs": [],
   "source": [
    "catalog = Table.read('/global/cfs/cdirs/desi/users/chahah/provabgs/edr/BGS_ANY_full.provabgs.sv3.v0.hdf5')"
   ]
  },
  {
   "cell_type": "code",
   "execution_count": 8,
   "id": "cf038324-16a2-4eb3-9d61-28159f40c839",
   "metadata": {},
   "outputs": [
    {
     "data": {
      "text/html": [
       "<div><i>Table length=5</i>\n",
       "<table id=\"table23453709649952\" class=\"table-striped table-bordered table-condensed\">\n",
       "<thead><tr><th>TARGETID</th><th>RA</th><th>DEC</th><th>Z_HP</th><th>ZERR</th><th>TSNR2_BGS</th><th>MAG_G</th><th>MAG_R</th><th>MAG_Z</th><th>MAG_W1</th><th>FIBMAG_R</th><th>HPIX_64</th><th>PROVABGS_MCMC [100,13]</th><th>PROVABGS_THETA_BF [13]</th><th>PROVABGS_Z_MAX</th><th>PROVABGS_LOGMSTAR_BF</th><th>PROVABGS_LOGMSTAR [100]</th><th>SCHLEGEL_COLOR</th><th>PROVABGS_W_ZFAIL</th><th>PROVABGS_W_FIBASSIGN</th><th>IS_BGS_BRIGHT</th><th>IS_BGS_FAINT</th></tr></thead>\n",
       "<thead><tr><th>int64</th><th>float64</th><th>float64</th><th>float64</th><th>float64</th><th>float32</th><th>float64</th><th>float64</th><th>float64</th><th>float64</th><th>float64</th><th>int64</th><th>float64</th><th>float64</th><th>float64</th><th>float64</th><th>float64</th><th>float64</th><th>float64</th><th>float64</th><th>bool</th><th>bool</th></tr></thead>\n",
       "<tr><td>39633390185481181</td><td>191.17913199949842</td><td>60.25733587654764</td><td>0.2004070714061304</td><td>nan</td><td>0.0</td><td>-999.0</td><td>-999.0</td><td>-999.0</td><td>-999.0</td><td>-999.0</td><td>-999</td><td>-999.0 .. -999.0</td><td>-999.0 .. -999.0</td><td>-999.0</td><td>-999.0</td><td>-999.0 .. -999.0</td><td>-999.0</td><td>-999.0</td><td>129.0</td><td>False</td><td>False</td></tr>\n",
       "<tr><td>39633390164510024</td><td>188.6998080571996</td><td>60.21175772175424</td><td>0.2004070714061304</td><td>nan</td><td>0.0</td><td>-999.0</td><td>-999.0</td><td>-999.0</td><td>-999.0</td><td>-999.0</td><td>-999</td><td>-999.0 .. -999.0</td><td>-999.0 .. -999.0</td><td>-999.0</td><td>-999.0</td><td>-999.0 .. -999.0</td><td>-999.0</td><td>-999.0</td><td>3.225</td><td>False</td><td>False</td></tr>\n",
       "<tr><td>39633390185480955</td><td>191.14955067198017</td><td>60.34047183206205</td><td>0.2004070714061304</td><td>nan</td><td>0.0</td><td>-999.0</td><td>-999.0</td><td>-999.0</td><td>-999.0</td><td>-999.0</td><td>-999</td><td>-999.0 .. -999.0</td><td>-999.0 .. -999.0</td><td>-999.0</td><td>-999.0</td><td>-999.0 .. -999.0</td><td>-999.0</td><td>-999.0</td><td>129.0</td><td>False</td><td>False</td></tr>\n",
       "<tr><td>39633390185480938</td><td>191.14757099005186</td><td>60.345815959235</td><td>0.2819459922463374</td><td>2.191690764397e-05</td><td>1361.7778</td><td>20.420939956138607</td><td>19.440977833152942</td><td>18.807486906915823</td><td>18.725561063547207</td><td>21.083244145949642</td><td>11226</td><td>11.091623656909688 .. 0.3684622521221414</td><td>11.14249424405227 .. 0.3651476796540595</td><td>0.2891440449335749</td><td>10.894820213317871</td><td>10.848259925842285 .. 10.952618598937988</td><td>0.1059712957858181</td><td>1.0671457830611217</td><td>3.0714285714285716</td><td>True</td><td>False</td></tr>\n",
       "<tr><td>39633416324383107</td><td>187.05117249536465</td><td>62.614542270156655</td><td>0.2703579310142208</td><td>0.00018002802349298926</td><td>1218.0295</td><td>20.876585604498494</td><td>19.373871860075226</td><td>18.567397256862876</td><td>18.32574859422363</td><td>20.212708263179056</td><td>11251</td><td>11.127879812361321 .. 0.6691898790548064</td><td>11.16028636319183 .. 0.6710591095679554</td><td>0.2822033708476234</td><td>10.909546852111816</td><td>10.877055168151855 .. 10.874772071838379</td><td>-0.3616078306686752</td><td>1.005530547154544</td><td>1.0</td><td>True</td><td>False</td></tr>\n",
       "</table></div>"
      ],
      "text/plain": [
       "<Table length=5>\n",
       "     TARGETID             RA         ... IS_BGS_BRIGHT IS_BGS_FAINT\n",
       "      int64            float64       ...      bool         bool    \n",
       "----------------- ------------------ ... ------------- ------------\n",
       "39633390185481181 191.17913199949842 ...         False        False\n",
       "39633390164510024  188.6998080571996 ...         False        False\n",
       "39633390185480955 191.14955067198017 ...         False        False\n",
       "39633390185480938 191.14757099005186 ...          True        False\n",
       "39633416324383107 187.05117249536465 ...          True        False"
      ]
     },
     "execution_count": 8,
     "metadata": {},
     "output_type": "execute_result"
    }
   ],
   "source": [
    "catalog[:5]"
   ]
  },
  {
   "cell_type": "code",
   "execution_count": 9,
   "id": "25aee09c-f818-481a-a820-6cb695b507f6",
   "metadata": {},
   "outputs": [],
   "source": [
    "clean_catalog = catalog[catalog[\"PROVABGS_LOGMSTAR_BF\"]>0]"
   ]
  },
  {
   "cell_type": "code",
   "execution_count": 13,
   "id": "c3a3e70a-9e79-4652-9162-3c14330759a0",
   "metadata": {},
   "outputs": [
    {
     "data": {
      "text/html": [
       "<div><i>Table length=5</i>\n",
       "<table id=\"table23453709650384\" class=\"table-striped table-bordered table-condensed\">\n",
       "<thead><tr><th>TARGETID</th><th>RA</th><th>DEC</th><th>Z_HP</th><th>ZERR</th><th>TSNR2_BGS</th><th>MAG_G</th><th>MAG_R</th><th>MAG_Z</th><th>MAG_W1</th><th>FIBMAG_R</th><th>HPIX_64</th><th>PROVABGS_MCMC [100,13]</th><th>PROVABGS_THETA_BF [13]</th><th>PROVABGS_Z_MAX</th><th>PROVABGS_LOGMSTAR_BF</th><th>PROVABGS_LOGMSTAR [100]</th><th>SCHLEGEL_COLOR</th><th>PROVABGS_W_ZFAIL</th><th>PROVABGS_W_FIBASSIGN</th><th>IS_BGS_BRIGHT</th><th>IS_BGS_FAINT</th></tr></thead>\n",
       "<thead><tr><th>int64</th><th>float64</th><th>float64</th><th>float64</th><th>float64</th><th>float32</th><th>float64</th><th>float64</th><th>float64</th><th>float64</th><th>float64</th><th>int64</th><th>float64</th><th>float64</th><th>float64</th><th>float64</th><th>float64</th><th>float64</th><th>float64</th><th>float64</th><th>bool</th><th>bool</th></tr></thead>\n",
       "<tr><td>39633390185480938</td><td>191.14757099005186</td><td>60.345815959235</td><td>0.2819459922463374</td><td>2.191690764397e-05</td><td>1361.7778</td><td>20.420939956138607</td><td>19.440977833152942</td><td>18.807486906915823</td><td>18.725561063547207</td><td>21.083244145949642</td><td>11226</td><td>11.091623656909688 .. 0.3684622521221414</td><td>11.14249424405227 .. 0.3651476796540595</td><td>0.2891440449335749</td><td>10.894820213317871</td><td>10.848259925842285 .. 10.952618598937988</td><td>0.1059712957858181</td><td>1.0671457830611217</td><td>3.0714285714285716</td><td>True</td><td>False</td></tr>\n",
       "<tr><td>39633416324383107</td><td>187.05117249536465</td><td>62.614542270156655</td><td>0.2703579310142208</td><td>0.00018002802349298926</td><td>1218.0295</td><td>20.876585604498494</td><td>19.373871860075226</td><td>18.567397256862876</td><td>18.32574859422363</td><td>20.212708263179056</td><td>11251</td><td>11.127879812361321 .. 0.6691898790548064</td><td>11.16028636319183 .. 0.6710591095679554</td><td>0.2822033708476234</td><td>10.909546852111816</td><td>10.877055168151855 .. 10.874772071838379</td><td>-0.3616078306686752</td><td>1.005530547154544</td><td>1.0</td><td>True</td><td>False</td></tr>\n",
       "<tr><td>39633393155049303</td><td>187.83760708675698</td><td>60.38987543677365</td><td>0.1731108191825362</td><td>2.1990725452772437e-05</td><td>1234.5317</td><td>19.69273753706838</td><td>18.892550253715136</td><td>18.34277957526595</td><td>18.565848448993197</td><td>21.00700131929247</td><td>11237</td><td>10.462320138967206 .. 0.2729800106294297</td><td>10.502975152735333 .. 0.2744993206027024</td><td>0.21924790414805623</td><td>10.27071762084961</td><td>10.239782333374023 .. 10.281316757202148</td><td>0.01670638624886256</td><td>1.0556176146427896</td><td>1.8169014084507042</td><td>True</td><td>False</td></tr>\n",
       "<tr><td>39633390164510257</td><td>188.7298325265811</td><td>60.181046704454054</td><td>0.2854181586411897</td><td>8.005616412868143e-06</td><td>1080.5574</td><td>20.021376563811977</td><td>19.091834839420468</td><td>18.488285412624066</td><td>18.38746082854565</td><td>20.641812033703985</td><td>11237</td><td>11.113035968148562 .. 0.3947223033620342</td><td>11.257075728183183 .. 0.3983021711356034</td><td>0.32988420863892076</td><td>11.017786979675293</td><td>10.893733024597168 .. 11.032293319702148</td><td>0.18537451480860634</td><td>1.0209118095758252</td><td>3.6857142857142855</td><td>True</td><td>False</td></tr>\n",
       "<tr><td>39633396124617897</td><td>187.04622815471808</td><td>60.82670180284912</td><td>0.37400455377945924</td><td>7.204306804440984e-05</td><td>1230.1184</td><td>20.981597394532177</td><td>19.43493695012083</td><td>18.528152481985934</td><td>17.661754869208693</td><td>20.920672799869905</td><td>11237</td><td>11.576280755647756 .. 0.3713771184202182</td><td>11.529095176742617 .. 0.3710937098062413</td><td>0.38290726050663504</td><td>11.287631034851074</td><td>11.330133438110352 .. 11.413797378540039</td><td>0.21040507948362408</td><td>1.0446527216195594</td><td>1.0</td><td>True</td><td>False</td></tr>\n",
       "</table></div>"
      ],
      "text/plain": [
       "<Table length=5>\n",
       "     TARGETID             RA         ... IS_BGS_BRIGHT IS_BGS_FAINT\n",
       "      int64            float64       ...      bool         bool    \n",
       "----------------- ------------------ ... ------------- ------------\n",
       "39633390185480938 191.14757099005186 ...          True        False\n",
       "39633416324383107 187.05117249536465 ...          True        False\n",
       "39633393155049303 187.83760708675698 ...          True        False\n",
       "39633390164510257  188.7298325265811 ...          True        False\n",
       "39633396124617897 187.04622815471808 ...          True        False"
      ]
     },
     "execution_count": 13,
     "metadata": {},
     "output_type": "execute_result"
    }
   ],
   "source": [
    "clean_catalog[:5]"
   ]
  },
  {
   "cell_type": "code",
   "execution_count": 17,
   "id": "1ed777a6-230d-4f38-bde9-263d9fc4c0c2",
   "metadata": {},
   "outputs": [],
   "source": [
    "# stellar mass bins:\n",
    "upper_limit_stellar_mass = np.max(clean_catalog[\"PROVABGS_LOGMSTAR_BF\"])\n",
    "lower_limit_stellar_mass = np.min(clean_catalog[\"PROVABGS_LOGMSTAR_BF\"])\n",
    "num_of_bins_stellar_mass = int((upper_limit_stellar_mass - lower_limit_stellar_mass)*100)"
   ]
  },
  {
   "cell_type": "code",
   "execution_count": 19,
   "id": "a07ccb07-68dc-4db8-a2de-0aea0ea7b73c",
   "metadata": {},
   "outputs": [
    {
     "data": {
      "text/plain": [
       "(12.770240783691406, 6.238491058349609, 653)"
      ]
     },
     "execution_count": 19,
     "metadata": {},
     "output_type": "execute_result"
    }
   ],
   "source": [
    "upper_limit_stellar_mass, lower_limit_stellar_mass, num_of_bins_stellar_mass"
   ]
  },
  {
   "cell_type": "code",
   "execution_count": 20,
   "id": "00cc70ba-3932-4937-919b-1e5d02fe4c2a",
   "metadata": {},
   "outputs": [
    {
     "data": {
      "text/plain": [
       "array([16,  2, 11,  1,  3,  1,  3,  2,  4,  2])"
      ]
     },
     "execution_count": 20,
     "metadata": {},
     "output_type": "execute_result"
    }
   ],
   "source": [
    "# create the histogramm (i.e. x values are the stellar masses, y values are the number of occurences per bin)\n",
    "N_abs, stellar_mass_binned = np.histogram(clean_catalog[\"PROVABGS_LOGMSTAR_BF\"], bins = num_of_bins_stellar_mass, range = (lower_limit_stellar_mass, upper_limit_stellar_mass))\n",
    "N_abs[:10]"
   ]
  },
  {
   "cell_type": "code",
   "execution_count": 21,
   "id": "35139695-fdd4-4b28-bee6-428b6020f692",
   "metadata": {},
   "outputs": [],
   "source": [
    "change_bin_width = 0.7"
   ]
  },
  {
   "cell_type": "code",
   "execution_count": null,
   "id": "09899082-a0e8-490b-a501-f66022ef75ad",
   "metadata": {},
   "outputs": [],
   "source": [
    "fig, ax = plt.subplots(figsize=(19, 5))\n",
    "width_stellar_mass = change_bin_width * (stellar_mass_binned[1] - stellar_mass_binned[0])\n",
    "center_stellar_mass = (stellar_mass_binned[:-1] + stellar_mass_binned[1:])/2\n",
    "\n",
    "ax[0].bar(center_stellar_mass, N_abs,  align = \"center\", width = width_stellar_mass, label = \"number of galaxies per stellar mass bin (in log(M_sun))\")\n",
    "ax[0].set_xlabel(\"stellar mass bin (in log(M_sun))\")\n",
    "y_label_abs = \"N in \" + str(width_abs_mags/change_bin_width) + \" width bins\"\n",
    "ax[0].set_ylabel(y_label_abs)\n",
    "ax[0].set_yscale('log')\n",
    "ax[0].legend(loc = \"upper right\")"
   ]
  }
 ],
 "metadata": {
  "kernelspec": {
   "display_name": "DESI 23.1",
   "language": "python",
   "name": "desi-23.1"
  },
  "language_info": {
   "codemirror_mode": {
    "name": "ipython",
    "version": 3
   },
   "file_extension": ".py",
   "mimetype": "text/x-python",
   "name": "python",
   "nbconvert_exporter": "python",
   "pygments_lexer": "ipython3",
   "version": "3.9.7"
  }
 },
 "nbformat": 4,
 "nbformat_minor": 5
}
