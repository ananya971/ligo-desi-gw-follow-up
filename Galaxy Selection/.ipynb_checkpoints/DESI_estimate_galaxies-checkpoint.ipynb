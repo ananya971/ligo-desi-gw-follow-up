{
 "cells": [
  {
   "cell_type": "markdown",
   "id": "1100cc72-9616-4380-98ac-0d2e50fc8e76",
   "metadata": {
    "tags": []
   },
   "source": [
    "# **DESI estimate galaxies & compare to SDSS paper**\n",
    "\n",
    "In this notebook, I am exploring the DESI data, how to modify it or select parts of it. Currently I am working with the newest \"full\" realease, called Iron, which has all the nice Data Reduction already done.\n",
    "\n",
    "This notebook includes (at least):\n",
    "- import many libraries\n",
    "- importing DESI Iron data\n",
    "- reduce data dimensions (keep only certain columns, select objects in a 3D volume with good redshift, ...)\n",
    "- calculate apparent and absolute magnitudes of each object\n",
    "- plot apparent and absolute magnitudes\n",
    "- compare plots/data to the SDSS DR 6 paper: https://arxiv.org/pdf/0806.4930.pdf\n",
    "- calculate the coverage (for now only within DESI data) of flux, magnitudes and luminosities"
   ]
  },
  {
   "cell_type": "markdown",
   "id": "36aeb503-9f96-425e-8ce2-088441668f80",
   "metadata": {
    "tags": []
   },
   "source": [
    "## first steps (imports, info, inital data manipulation)"
   ]
  },
  {
   "cell_type": "markdown",
   "id": "b7e6fd2c-4d78-47a6-8640-f822e589e031",
   "metadata": {
    "tags": []
   },
   "source": [
    "### imports, accessing the data"
   ]
  },
  {
   "cell_type": "code",
   "execution_count": 96,
   "id": "e5bc9312-6020-4a8c-84ca-df3be7a8f26f",
   "metadata": {},
   "outputs": [],
   "source": [
    "# import some helpful python packages \n",
    "import os\n",
    "import numpy as np\n",
    "\n",
    "from astropy.io import fits\n",
    "from astropy.table import Table\n",
    "from astropy.convolution import convolve, Gaussian1DKernel\n",
    "import astropy\n",
    "astropy.__version__\n",
    "\n",
    "# needs to be at least version 5.1 to get the Schechter fit stuff\n",
    "\n",
    "import matplotlib \n",
    "import matplotlib.pyplot as plt\n",
    "\n",
    "import scipy as spy\n",
    "\n",
    "import astropy.constants as asc"
   ]
  },
  {
   "cell_type": "code",
   "execution_count": 97,
   "id": "ab765726-8a4d-49d5-ab55-e646b1869a75",
   "metadata": {},
   "outputs": [],
   "source": [
    "# import DESI related modules - \n",
    "from desimodel.footprint import radec2pix      # For getting healpix values\n",
    "import desispec.io                             # Input/Output functions related to DESI spectra\n",
    "from desispec import coaddition                # Functions related to coadding the spectra\n",
    "\n",
    "# DESI targeting masks - \n",
    "from desitarget.sv1 import sv1_targetmask    # For SV1\n",
    "from desitarget.sv2 import sv2_targetmask    # For SV2\n",
    "from desitarget.sv3 import sv3_targetmask    # For SV3\n",
    "from desitarget import targetmask            # main"
   ]
  },
  {
   "cell_type": "code",
   "execution_count": 98,
   "id": "16eec63b-6733-45f5-b93d-5c221953c55b",
   "metadata": {},
   "outputs": [],
   "source": [
    "from astropy.cosmology import Planck18, WMAP1\n",
    "from astropy.coordinates import Distance\n",
    "from astropy import units as u"
   ]
  },
  {
   "cell_type": "markdown",
   "id": "e2c60cb0-c003-4fb4-b7aa-f2a74ca89099",
   "metadata": {},
   "source": [
    "from astropy.cosmology import Planck18\n",
    "from astropy.coordinates import Distance\n",
    "from astropy import units as u\n",
    "import astropy.constants as asc"
   ]
  },
  {
   "cell_type": "code",
   "execution_count": 99,
   "id": "e892b7dd-8cd9-4514-90ef-a2b5519ad3ae",
   "metadata": {},
   "outputs": [],
   "source": [
    "# import image module\n",
    "from IPython.display import Image\n",
    " "
   ]
  },
  {
   "cell_type": "code",
   "execution_count": 100,
   "id": "c8aadace-f5ea-4f86-a568-ea35914882cf",
   "metadata": {},
   "outputs": [],
   "source": [
    "change_bin_width = 0.7\n",
    "# for plotting"
   ]
  },
  {
   "cell_type": "code",
   "execution_count": 101,
   "id": "18352d7e-8bcf-49b8-a66e-997d07a6ca53",
   "metadata": {},
   "outputs": [
    {
     "name": "stdout",
     "output_type": "stream",
     "text": [
      "/global/cfs/cdirs/desi/spectro/redux/iron/\n"
     ]
    }
   ],
   "source": [
    "# Release directory path\n",
    "\n",
    "specprod = 'iron'    # Internal name for most current data release\n",
    "specprod_dir = '/global/cfs/cdirs/desi/spectro/redux/iron/'\n",
    "print(specprod_dir)"
   ]
  },
  {
   "cell_type": "code",
   "execution_count": 102,
   "id": "cfac2131-aa4f-4f49-80f7-0d83df4b0059",
   "metadata": {},
   "outputs": [
    {
     "data": {
      "text/plain": [
       "['healpix',\n",
       " 'tiles',\n",
       " 'exposures-iron.csv',\n",
       " 'run',\n",
       " 'calibnight',\n",
       " 'exposures',\n",
       " 'tiles-iron.fits',\n",
       " 'processing_tables',\n",
       " 'preproc',\n",
       " 'inventory-iron.txt',\n",
       " 'exposure_tables',\n",
       " 'redux_iron.sha256sum',\n",
       " 'exposures-iron.fits',\n",
       " 'tiles-iron.csv',\n",
       " 'zcatalog']"
      ]
     },
     "execution_count": 102,
     "metadata": {},
     "output_type": "execute_result"
    }
   ],
   "source": [
    "# List everything in this directory\n",
    "os.listdir(specprod_dir)"
   ]
  },
  {
   "cell_type": "code",
   "execution_count": 103,
   "id": "ae522cfb-fc30-42b0-9ef0-ba287eb35efb",
   "metadata": {},
   "outputs": [
    {
     "name": "stdout",
     "output_type": "stream",
     "text": [
      "Tiles table columns: ['TILEID', 'SURVEY', 'PROGRAM', 'FAPRGRM', 'FAFLAVOR', 'NEXP', 'EXPTIME', 'TILERA', 'TILEDEC', 'EFFTIME_ETC', 'EFFTIME_SPEC', 'EFFTIME_GFA', 'GOALTIME', 'OBSSTATUS', 'LRG_EFFTIME_DARK', 'ELG_EFFTIME_DARK', 'BGS_EFFTIME_BRIGHT', 'LYA_EFFTIME_DARK', 'GOALTYPE', 'MINTFRAC', 'LASTNIGHT']\n"
     ]
    }
   ],
   "source": [
    "tiles_table = Table.read(f'{specprod_dir}/tiles-{specprod}.fits',)\n",
    "print(f\"Tiles table columns: {tiles_table.colnames}\")"
   ]
  },
  {
   "cell_type": "markdown",
   "id": "43b402cf-9491-4449-8144-02d26c41af4e",
   "metadata": {},
   "source": [
    "Now lets get the redshifts"
   ]
  },
  {
   "cell_type": "code",
   "execution_count": 104,
   "id": "7b79979b-02e5-4ecb-b515-5f04b57d1fd3",
   "metadata": {},
   "outputs": [
    {
     "data": {
      "text/plain": [
       "['ztile-special-dark-cumulative.fits',\n",
       " 'zpix-main-dark.fits',\n",
       " 'zpix-sv2-backup.fits',\n",
       " 'logs',\n",
       " 'zpix-sv3-bright.fits',\n",
       " 'ztile-special-dark-pernight.fits',\n",
       " 'zpix-special-backup.fits',\n",
       " 'ztile-sv3-bright-pernight.fits',\n",
       " 'ztile-sv1-bright-pernight.fits',\n",
       " 'ztile-sv2-bright-pernight.fits',\n",
       " 'zpix-sv3-dark.fits',\n",
       " 'zpix-sv3-backup.fits',\n",
       " 'ztile-main-dark-cumulative.fits',\n",
       " 'ztile-sv1-dark-cumulative.fits',\n",
       " 'zpix-sv1-bright.fits',\n",
       " 'ztile-cmx-other-cumulative.fits',\n",
       " 'zpix-cmx-other.fits',\n",
       " 'ztile-special-backup-cumulative.fits',\n",
       " 'zpix-sv2-dark.fits',\n",
       " 'zpix-sv1-dark.fits',\n",
       " 'ztile-sv3-backup-cumulative.fits',\n",
       " 'ztile-special-bright-cumulative.fits',\n",
       " 'ztile-sv1-other-cumulative.fits',\n",
       " 'ztile-cmx-other-pernight.fits',\n",
       " 'ztile-sv2-dark-cumulative.fits',\n",
       " 'ztile-sv3-bright-cumulative.fits',\n",
       " 'zpix-main-backup.fits',\n",
       " 'redux_iron_zcatalog.sha256sum',\n",
       " 'ztile-sv2-dark-pernight.fits',\n",
       " 'zall-pix-iron.fits',\n",
       " 'ztile-special-other-cumulative.fits',\n",
       " 'ztile-sv3-backup-pernight.fits',\n",
       " 'ztile-sv1-dark-pernight.fits',\n",
       " 'zpix-special-bright.fits',\n",
       " 'ztile-main-bright-cumulative.fits',\n",
       " 'zpix-sv1-other.fits',\n",
       " 'ztile-sv2-backup-pernight.fits',\n",
       " 'ztile-sv2-bright-cumulative.fits',\n",
       " 'ztile-sv1-other-pernight.fits',\n",
       " 'zpix-special-dark.fits',\n",
       " 'ztile-sv1-backup-pernight.fits',\n",
       " 'ztile-sv2-backup-cumulative.fits',\n",
       " 'zall-tilecumulative-iron.fits',\n",
       " 'zpix-main-bright.fits',\n",
       " 'ztile-sv1-backup-cumulative.fits',\n",
       " 'zpix-sv1-backup.fits',\n",
       " 'ztile-special-other-pernight.fits',\n",
       " 'ztile-sv3-dark-cumulative.fits',\n",
       " 'zpix-sv2-bright.fits',\n",
       " 'ztile-sv1-bright-cumulative.fits',\n",
       " 'ztile-main-backup-cumulative.fits',\n",
       " 'zpix-special-other.fits',\n",
       " 'ztile-sv3-dark-pernight.fits']"
      ]
     },
     "execution_count": 104,
     "metadata": {},
     "output_type": "execute_result"
    }
   ],
   "source": [
    "# Listing all the available redshift catalogs\n",
    "\n",
    "os.listdir(f'{specprod_dir}/zcatalog')"
   ]
  },
  {
   "cell_type": "markdown",
   "id": "9fecdf61-be5f-4ad5-a673-492e91639cae",
   "metadata": {
    "tags": []
   },
   "source": [
    "### get the raw data"
   ]
  },
  {
   "cell_type": "code",
   "execution_count": 105,
   "id": "5769ad22-8a3e-44a0-b3cd-5b9ac5e62d87",
   "metadata": {},
   "outputs": [],
   "source": [
    "ztile_cat = Table.read(f'{specprod_dir}/zcatalog/zall-tilecumulative-{specprod}.fits', hdu=\"ZCATALOG\")\n",
    "#ztile_unm = ztile_cat.copy()"
   ]
  },
  {
   "cell_type": "code",
   "execution_count": 106,
   "id": "fbabf48c-39ac-4915-9848-497d3c541bf8",
   "metadata": {},
   "outputs": [
    {
     "data": {
      "text/plain": [
       "20220613"
      ]
     },
     "execution_count": 106,
     "metadata": {},
     "output_type": "execute_result"
    }
   ],
   "source": [
    "np.max(ztile_cat[\"LASTNIGHT\"])"
   ]
  },
  {
   "cell_type": "code",
   "execution_count": 107,
   "id": "ec445cf3-5c8b-4a25-bebb-d745900261ee",
   "metadata": {},
   "outputs": [
    {
     "data": {
      "text/html": [
       "<div><i>Table length=5</i>\n",
       "<table id=\"table139749936513184\" class=\"table-striped table-bordered table-condensed\">\n",
       "<thead><tr><th>TARGETID</th><th>SURVEY</th><th>PROGRAM</th><th>LASTNIGHT</th><th>SPGRPVAL</th><th>Z</th><th>ZERR</th><th>ZWARN</th><th>CHI2</th><th>COEFF</th><th>NPIXELS</th><th>SPECTYPE</th><th>SUBTYPE</th><th>NCOEFF</th><th>DELTACHI2</th><th>PETAL_LOC</th><th>DEVICE_LOC</th><th>LOCATION</th><th>FIBER</th><th>COADD_FIBERSTATUS</th><th>TARGET_RA</th><th>TARGET_DEC</th><th>PMRA</th><th>PMDEC</th><th>REF_EPOCH</th><th>LAMBDA_REF</th><th>FA_TARGET</th><th>FA_TYPE</th><th>OBJTYPE</th><th>FIBERASSIGN_X</th><th>FIBERASSIGN_Y</th><th>PRIORITY</th><th>SUBPRIORITY</th><th>OBSCONDITIONS</th><th>RELEASE</th><th>BRICKNAME</th><th>BRICKID</th><th>BRICK_OBJID</th><th>MORPHTYPE</th><th>EBV</th><th>FLUX_G</th><th>FLUX_R</th><th>FLUX_Z</th><th>FLUX_W1</th><th>FLUX_W2</th><th>FLUX_IVAR_G</th><th>FLUX_IVAR_R</th><th>FLUX_IVAR_Z</th><th>FLUX_IVAR_W1</th><th>FLUX_IVAR_W2</th><th>FIBERFLUX_G</th><th>FIBERFLUX_R</th><th>FIBERFLUX_Z</th><th>FIBERTOTFLUX_G</th><th>FIBERTOTFLUX_R</th><th>FIBERTOTFLUX_Z</th><th>MASKBITS</th><th>SERSIC</th><th>SHAPE_R</th><th>SHAPE_E1</th><th>SHAPE_E2</th><th>REF_ID</th><th>REF_CAT</th><th>GAIA_PHOT_G_MEAN_MAG</th><th>GAIA_PHOT_BP_MEAN_MAG</th><th>GAIA_PHOT_RP_MEAN_MAG</th><th>PARALLAX</th><th>PHOTSYS</th><th>PRIORITY_INIT</th><th>NUMOBS_INIT</th><th>CMX_TARGET</th><th>DESI_TARGET</th><th>BGS_TARGET</th><th>MWS_TARGET</th><th>SCND_TARGET</th><th>SV1_DESI_TARGET</th><th>SV1_BGS_TARGET</th><th>SV1_MWS_TARGET</th><th>SV1_SCND_TARGET</th><th>SV2_DESI_TARGET</th><th>SV2_BGS_TARGET</th><th>SV2_MWS_TARGET</th><th>SV2_SCND_TARGET</th><th>SV3_DESI_TARGET</th><th>SV3_BGS_TARGET</th><th>SV3_MWS_TARGET</th><th>SV3_SCND_TARGET</th><th>PLATE_RA</th><th>PLATE_DEC</th><th>TILEID</th><th>COADD_NUMEXP</th><th>COADD_EXPTIME</th><th>COADD_NUMNIGHT</th><th>COADD_NUMTILE</th><th>MEAN_DELTA_X</th><th>RMS_DELTA_X</th><th>MEAN_DELTA_Y</th><th>RMS_DELTA_Y</th><th>MEAN_FIBER_RA</th><th>STD_FIBER_RA</th><th>MEAN_FIBER_DEC</th><th>STD_FIBER_DEC</th><th>MEAN_PSF_TO_FIBER_SPECFLUX</th><th>MEAN_FIBER_X</th><th>MEAN_FIBER_Y</th><th>TSNR2_GPBDARK_B</th><th>TSNR2_ELG_B</th><th>TSNR2_GPBBRIGHT_B</th><th>TSNR2_LYA_B</th><th>TSNR2_BGS_B</th><th>TSNR2_GPBBACKUP_B</th><th>TSNR2_QSO_B</th><th>TSNR2_LRG_B</th><th>TSNR2_GPBDARK_R</th><th>TSNR2_ELG_R</th><th>TSNR2_GPBBRIGHT_R</th><th>TSNR2_LYA_R</th><th>TSNR2_BGS_R</th><th>TSNR2_GPBBACKUP_R</th><th>TSNR2_QSO_R</th><th>TSNR2_LRG_R</th><th>TSNR2_GPBDARK_Z</th><th>TSNR2_ELG_Z</th><th>TSNR2_GPBBRIGHT_Z</th><th>TSNR2_LYA_Z</th><th>TSNR2_BGS_Z</th><th>TSNR2_GPBBACKUP_Z</th><th>TSNR2_QSO_Z</th><th>TSNR2_LRG_Z</th><th>TSNR2_GPBDARK</th><th>TSNR2_ELG</th><th>TSNR2_GPBBRIGHT</th><th>TSNR2_LYA</th><th>TSNR2_BGS</th><th>TSNR2_GPBBACKUP</th><th>TSNR2_QSO</th><th>TSNR2_LRG</th><th>MAIN_NSPEC</th><th>MAIN_PRIMARY</th><th>SV_NSPEC</th><th>SV_PRIMARY</th><th>ZCAT_NSPEC</th><th>ZCAT_PRIMARY</th></tr></thead>\n",
       "<thead><tr><th>int64</th><th>bytes7</th><th>bytes6</th><th>int32</th><th>int32</th><th>float64</th><th>float64</th><th>int64</th><th>float64</th><th>float64[10]</th><th>int64</th><th>bytes6</th><th>bytes20</th><th>int64</th><th>float64</th><th>int16</th><th>int32</th><th>int64</th><th>int32</th><th>int32</th><th>float64</th><th>float64</th><th>float32</th><th>float32</th><th>float32</th><th>float32</th><th>int64</th><th>uint8</th><th>bytes3</th><th>float32</th><th>float32</th><th>int32</th><th>float64</th><th>int32</th><th>int16</th><th>bytes8</th><th>int32</th><th>int32</th><th>bytes4</th><th>float32</th><th>float32</th><th>float32</th><th>float32</th><th>float32</th><th>float32</th><th>float32</th><th>float32</th><th>float32</th><th>float32</th><th>float32</th><th>float32</th><th>float32</th><th>float32</th><th>float32</th><th>float32</th><th>float32</th><th>int16</th><th>float32</th><th>float32</th><th>float32</th><th>float32</th><th>int64</th><th>bytes2</th><th>float32</th><th>float32</th><th>float32</th><th>float32</th><th>bytes1</th><th>int64</th><th>int64</th><th>int64</th><th>int64</th><th>int64</th><th>int64</th><th>int64</th><th>int64</th><th>int64</th><th>int64</th><th>int64</th><th>int64</th><th>int64</th><th>int64</th><th>int64</th><th>int64</th><th>int64</th><th>int64</th><th>int64</th><th>float64</th><th>float64</th><th>int32</th><th>int16</th><th>float32</th><th>int16</th><th>int16</th><th>float32</th><th>float32</th><th>float32</th><th>float32</th><th>float64</th><th>float32</th><th>float64</th><th>float32</th><th>float32</th><th>float32</th><th>float32</th><th>float32</th><th>float32</th><th>float32</th><th>float32</th><th>float32</th><th>float32</th><th>float32</th><th>float32</th><th>float32</th><th>float32</th><th>float32</th><th>float32</th><th>float32</th><th>float32</th><th>float32</th><th>float32</th><th>float32</th><th>float32</th><th>float32</th><th>float32</th><th>float32</th><th>float32</th><th>float32</th><th>float32</th><th>float32</th><th>float32</th><th>float32</th><th>float32</th><th>float32</th><th>float32</th><th>float32</th><th>float32</th><th>int32</th><th>bool</th><th>int32</th><th>bool</th><th>int64</th><th>bool</th></tr></thead>\n",
       "<tr><td>616089235992085010</td><td>cmx</td><td>other</td><td>20201216</td><td>20201216</td><td>1.026539591165917</td><td>0.00014994197241333243</td><td>5</td><td>8924.357209771872</td><td>-24.07681142832455 .. 1.8223517485788985</td><td>7928</td><td>GALAXY</td><td>--</td><td>10</td><td>8.939738029614091</td><td>0</td><td>311</td><td>311</td><td>0</td><td>0</td><td>23.64704835712534</td><td>30.237699207256</td><td>0.0</td><td>0.0</td><td>0.0</td><td>5400.0</td><td>4294967296</td><td>4</td><td>SKY</td><td>81.98283</td><td>-286.4917</td><td>-1</td><td>0.8849026730392795</td><td>63</td><td>9010</td><td>0235p302</td><td>497013</td><td>530</td><td>--</td><td>0.0532665</td><td>0.0</td><td>0.0</td><td>0.0</td><td>0.0</td><td>0.0</td><td>0.0</td><td>0.0</td><td>0.0</td><td>0.0</td><td>0.0</td><td>-0.0565887</td><td>-0.124679565</td><td>-0.18450871</td><td>0.0</td><td>0.0</td><td>0.0</td><td>0</td><td>0.0</td><td>0.0</td><td>0.0</td><td>0.0</td><td>0</td><td>--</td><td>0.0</td><td>0.0</td><td>0.0</td><td>0.0</td><td>--</td><td>-1</td><td>-1</td><td>4294967296</td><td>4294967296</td><td>0</td><td>0</td><td>0</td><td>0</td><td>0</td><td>0</td><td>0</td><td>0</td><td>0</td><td>0</td><td>0</td><td>0</td><td>0</td><td>0</td><td>0</td><td>23.64704835712534</td><td>30.237699207256</td><td>80615</td><td>4</td><td>3600.0</td><td>1</td><td>1</td><td>-0.00225</td><td>0.005267827</td><td>-0.00075</td><td>0.0040311287</td><td>23.647058848068063</td><td>0.09217804</td><td>30.23769623069657</td><td>0.055068973</td><td>0.79220617</td><td>81.9705</td><td>-286.4835</td><td>413.26205</td><td>0.2375252</td><td>78.07899</td><td>197.2936</td><td>1279.8805</td><td>563.71747</td><td>6.3496313</td><td>2.2683153</td><td>33883.484</td><td>71.459564</td><td>6052.3867</td><td>0.13865727</td><td>6896.178</td><td>37894.566</td><td>22.27903</td><td>103.9056</td><td>5.3238196e-05</td><td>238.68176</td><td>1.0061857e-05</td><td>0.0</td><td>10528.6875</td><td>7.3067626e-05</td><td>49.533707</td><td>109.42108</td><td>34296.746</td><td>310.37885</td><td>6130.466</td><td>197.43225</td><td>18704.746</td><td>38458.285</td><td>78.16237</td><td>215.595</td><td>0</td><td>False</td><td>0</td><td>False</td><td>1</td><td>True</td></tr>\n",
       "<tr><td>616089272318951842</td><td>cmx</td><td>other</td><td>20201216</td><td>20201216</td><td>0.9703405618899601</td><td>7.493299654729945e-05</td><td>5</td><td>8379.292280852795</td><td>-10.447763104563462 .. -0.37425000545091947</td><td>7927</td><td>GALAXY</td><td>--</td><td>10</td><td>0.2723734676837921</td><td>6</td><td>134</td><td>6134</td><td>3336</td><td>0</td><td>24.716176251609486</td><td>31.95192977225919</td><td>0.0</td><td>0.0</td><td>0.0</td><td>5400.0</td><td>4294967296</td><td>4</td><td>SKY</td><td>-143.77635</td><td>138.32399</td><td>-1</td><td>0.9747397989629649</td><td>63</td><td>9010</td><td>0248p320</td><td>505674</td><td>418</td><td>--</td><td>0.056715596</td><td>0.0</td><td>0.0</td><td>0.0</td><td>0.0</td><td>0.0</td><td>0.0</td><td>0.0</td><td>0.0</td><td>0.0</td><td>0.0</td><td>0.0008413379</td><td>-0.044789325</td><td>-0.024541281</td><td>0.0</td><td>0.0</td><td>0.0</td><td>0</td><td>0.0</td><td>0.0</td><td>0.0</td><td>0.0</td><td>0</td><td>--</td><td>0.0</td><td>0.0</td><td>0.0</td><td>0.0</td><td>--</td><td>-1</td><td>-1</td><td>4294967296</td><td>4294967296</td><td>0</td><td>0</td><td>0</td><td>0</td><td>0</td><td>0</td><td>0</td><td>0</td><td>0</td><td>0</td><td>0</td><td>0</td><td>0</td><td>0</td><td>0</td><td>24.716176251609486</td><td>31.95192977225919</td><td>80615</td><td>4</td><td>3600.0</td><td>1</td><td>1</td><td>0.003</td><td>0.003082207</td><td>0.00375</td><td>0.010234744</td><td>24.716161927675728</td><td>0.015076309</td><td>31.951945099770825</td><td>0.13841279</td><td>0.7919431</td><td>-143.776</td><td>138.303</td><td>744.9406</td><td>0.42006534</td><td>135.8987</td><td>355.17493</td><td>2159.7925</td><td>908.82623</td><td>11.325371</td><td>3.9023092</td><td>36612.477</td><td>93.03937</td><td>6443.623</td><td>0.11253884</td><td>7139.354</td><td>39802.293</td><td>26.35906</td><td>127.47998</td><td>4.5853878e-05</td><td>256.6866</td><td>8.454808e-06</td><td>0.0</td><td>11967.513</td><td>5.8713355e-05</td><td>55.225887</td><td>122.34501</td><td>37357.418</td><td>350.14606</td><td>6579.522</td><td>355.28748</td><td>21266.66</td><td>40711.12</td><td>92.910324</td><td>253.7273</td><td>0</td><td>False</td><td>0</td><td>False</td><td>1</td><td>True</td></tr>\n",
       "<tr><td>39628520015530097</td><td>cmx</td><td>other</td><td>20201216</td><td>20201216</td><td>0.3735933574014282</td><td>6.436407277168455e-05</td><td>0</td><td>9113.794622465968</td><td>122.74027809479895 .. 4.901991963527211</td><td>7928</td><td>GALAXY</td><td>--</td><td>10</td><td>629.6014761067927</td><td>6</td><td>175</td><td>6175</td><td>3335</td><td>0</td><td>24.837863924283997</td><td>31.987287998521534</td><td>0.0</td><td>0.0</td><td>2020.9597</td><td>5400.0</td><td>1280</td><td>1</td><td>TGT</td><td>-169.56938</td><td>147.58075</td><td>3200</td><td>0.5383688633146597</td><td>5</td><td>9010</td><td>0248p320</td><td>505674</td><td>2161</td><td>SER</td><td>0.05686838</td><td>1.0944743</td><td>6.029373</td><td>17.481907</td><td>37.671787</td><td>26.158922</td><td>685.9528</td><td>140.0678</td><td>28.364204</td><td>2.5148792</td><td>0.68032116</td><td>0.42505458</td><td>2.3415926</td><td>6.7893457</td><td>0.42505458</td><td>2.3415926</td><td>6.7893457</td><td>0</td><td>2.0525818</td><td>1.1178994</td><td>0.22608049</td><td>-0.4756204</td><td>0</td><td>--</td><td>0.0</td><td>0.0</td><td>0.0</td><td>0.0</td><td>S</td><td>3200</td><td>1</td><td>1280</td><td>0</td><td>0</td><td>0</td><td>0</td><td>0</td><td>0</td><td>0</td><td>0</td><td>0</td><td>0</td><td>0</td><td>0</td><td>0</td><td>0</td><td>0</td><td>0</td><td>24.837863924283997</td><td>31.987287998521534</td><td>80615</td><td>4</td><td>3600.0</td><td>1</td><td>1</td><td>-0.00025</td><td>0.0005</td><td>0.004</td><td>0.010653638</td><td>24.83786498906602</td><td>0.0077181663</td><td>31.987304042856408</td><td>0.1426608</td><td>0.7524142</td><td>-169.5625</td><td>147.55475</td><td>695.46564</td><td>0.38657746</td><td>127.38672</td><td>321.7168</td><td>2008.8502</td><td>855.3716</td><td>10.392807</td><td>3.631695</td><td>34153.348</td><td>87.238464</td><td>6035.672</td><td>0.10553568</td><td>6687.92</td><td>37403.48</td><td>24.611063</td><td>119.39271</td><td>4.373613e-05</td><td>244.14232</td><td>8.08955e-06</td><td>0.0</td><td>11424.995</td><td>5.6280904e-05</td><td>52.44065</td><td>116.50631</td><td>34848.812</td><td>331.76736</td><td>6163.0586</td><td>321.82233</td><td>20121.766</td><td>38258.85</td><td>87.44452</td><td>239.53072</td><td>0</td><td>False</td><td>0</td><td>False</td><td>1</td><td>True</td></tr>\n",
       "<tr><td>39628520015530050</td><td>cmx</td><td>other</td><td>20201216</td><td>20201216</td><td>0.7830661418591772</td><td>5.993183024895859e-06</td><td>0</td><td>9076.811683654785</td><td>25.242215688023563 .. -0.3582232963866487</td><td>7926</td><td>GALAXY</td><td>--</td><td>10</td><td>4945.483386039734</td><td>6</td><td>189</td><td>6189</td><td>3334</td><td>0</td><td>24.83487475272552</td><td>32.03150689630504</td><td>0.0</td><td>0.0</td><td>2020.9597</td><td>5400.0</td><td>2048</td><td>1</td><td>TGT</td><td>-169.01913</td><td>158.60425</td><td>3000</td><td>0.7937342374452203</td><td>3</td><td>9010</td><td>0248p320</td><td>505674</td><td>2114</td><td>PSF</td><td>0.05440167</td><td>0.26789588</td><td>0.3486105</td><td>0.97591496</td><td>0.04861955</td><td>-2.318016</td><td>1199.1306</td><td>371.4832</td><td>49.302753</td><td>3.7501552</td><td>0.82387865</td><td>0.20827857</td><td>0.27103102</td><td>0.7587358</td><td>0.20827857</td><td>0.27103102</td><td>0.7587358</td><td>0</td><td>0.0</td><td>0.0</td><td>0.0</td><td>0.0</td><td>0</td><td>--</td><td>0.0</td><td>0.0</td><td>0.0</td><td>0.0</td><td>S</td><td>3000</td><td>1</td><td>2048</td><td>0</td><td>0</td><td>0</td><td>0</td><td>0</td><td>0</td><td>0</td><td>0</td><td>0</td><td>0</td><td>0</td><td>0</td><td>0</td><td>0</td><td>0</td><td>0</td><td>24.83487475272552</td><td>32.03150689630504</td><td>80615</td><td>4</td><td>3600.0</td><td>1</td><td>1</td><td>0.00125</td><td>0.0027838822</td><td>0.005</td><td>0.010723805</td><td>24.834868691302034</td><td>0.050092377</td><td>32.03152703673678</td><td>0.13697776</td><td>0.789</td><td>-169.014</td><td>158.57625</td><td>769.46515</td><td>0.4348136</td><td>140.52682</td><td>366.0112</td><td>2236.6755</td><td>933.3428</td><td>11.689204</td><td>4.0457</td><td>37195.434</td><td>94.61954</td><td>6557.867</td><td>0.114375524</td><td>7267.2656</td><td>40301.582</td><td>26.7227</td><td>129.73874</td><td>4.6903457e-05</td><td>259.15573</td><td>8.665769e-06</td><td>0.0</td><td>12097.198</td><td>5.990893e-05</td><td>55.55087</td><td>123.6153</td><td>37964.9</td><td>354.21008</td><td>6698.394</td><td>366.12558</td><td>21601.14</td><td>41234.926</td><td>93.96277</td><td>257.39975</td><td>0</td><td>False</td><td>0</td><td>False</td><td>1</td><td>True</td></tr>\n",
       "<tr><td>1152921504619434245</td><td>cmx</td><td>other</td><td>20201216</td><td>20201216</td><td>4.459474392434449e-05</td><td>3.156266617392494e-06</td><td>0</td><td>15649.346788920408</td><td>-771.171376904437 .. 0.0</td><td>7929</td><td>STAR</td><td>M</td><td>5</td><td>31680.614356987233</td><td>6</td><td>47</td><td>6047</td><td>3333</td><td>0</td><td>24.29126144947335</td><td>31.90006101955111</td><td>-2.2986429</td><td>-0.023161387</td><td>2020.9597</td><td>5400.0</td><td>140737488355328</td><td>1</td><td>TGT</td><td>-54.91809</td><td>124.566765</td><td>4001</td><td>0.5903223687230423</td><td>63</td><td>0</td><td>--</td><td>0</td><td>0</td><td>--</td><td>0.045441482</td><td>0.0</td><td>0.0</td><td>0.0</td><td>0.0</td><td>0.0</td><td>0.0</td><td>0.0</td><td>0.0</td><td>0.0</td><td>0.0</td><td>0.0</td><td>0.0</td><td>0.0</td><td>0.0</td><td>0.0</td><td>0.0</td><td>0</td><td>0.0</td><td>0.0</td><td>0.0</td><td>0.0</td><td>315853475496002304</td><td>F1</td><td>20.343302</td><td>0.0</td><td>0.0</td><td>0.0</td><td>--</td><td>4001</td><td>1</td><td>140737488355328</td><td>0</td><td>0</td><td>0</td><td>0</td><td>0</td><td>0</td><td>0</td><td>0</td><td>0</td><td>0</td><td>0</td><td>0</td><td>0</td><td>0</td><td>0</td><td>0</td><td>24.29126144947335</td><td>31.90006101955111</td><td>80615</td><td>4</td><td>3600.0</td><td>1</td><td>1</td><td>0.0045</td><td>0.005244044</td><td>0.00525</td><td>0.010428327</td><td>24.291239753848373</td><td>0.05494083</td><td>31.900082469288968</td><td>0.13179454</td><td>0.7917085</td><td>-54.92625</td><td>124.553</td><td>777.3712</td><td>0.44935727</td><td>141.56894</td><td>386.5584</td><td>2295.578</td><td>952.53864</td><td>12.165556</td><td>4.120155</td><td>39030.484</td><td>98.494644</td><td>6849.846</td><td>0.12068671</td><td>7593.993</td><td>42465.34</td><td>28.078661</td><td>135.00249</td><td>4.8422513e-05</td><td>268.80978</td><td>8.906386e-06</td><td>0.0</td><td>12388.133</td><td>6.212341e-05</td><td>57.77956</td><td>127.42484</td><td>39807.855</td><td>367.75378</td><td>6991.415</td><td>386.6791</td><td>22277.703</td><td>43417.88</td><td>98.02377</td><td>266.5475</td><td>0</td><td>False</td><td>0</td><td>False</td><td>1</td><td>True</td></tr>\n",
       "</table></div>"
      ],
      "text/plain": [
       "<Table length=5>\n",
       "      TARGETID      SURVEY PROGRAM ... SV_PRIMARY ZCAT_NSPEC ZCAT_PRIMARY\n",
       "       int64        bytes7  bytes6 ...    bool      int64        bool    \n",
       "------------------- ------ ------- ... ---------- ---------- ------------\n",
       " 616089235992085010    cmx   other ...      False          1         True\n",
       " 616089272318951842    cmx   other ...      False          1         True\n",
       "  39628520015530097    cmx   other ...      False          1         True\n",
       "  39628520015530050    cmx   other ...      False          1         True\n",
       "1152921504619434245    cmx   other ...      False          1         True"
      ]
     },
     "execution_count": 107,
     "metadata": {},
     "output_type": "execute_result"
    }
   ],
   "source": [
    "ztile_cat[:5]"
   ]
  },
  {
   "cell_type": "markdown",
   "id": "54a326ba-cee8-4822-97f1-fc20fb0dcf5e",
   "metadata": {
    "tags": []
   },
   "source": [
    "### DESI coverage at the time of the used data release (13.6.22)"
   ]
  },
  {
   "cell_type": "code",
   "execution_count": 108,
   "id": "18c6367e-6afb-4daa-b96e-a080a171af49",
   "metadata": {},
   "outputs": [
    {
     "data": {
      "text/html": [
       "<img src=\"Images/DESI coverage IRON.png\" width=\"800\"/>"
      ],
      "text/plain": [
       "<IPython.core.display.Image object>"
      ]
     },
     "execution_count": 108,
     "metadata": {},
     "output_type": "execute_result"
    }
   ],
   "source": [
    "Image(url=\"Images/DESI coverage IRON.png\", width = 800)"
   ]
  },
  {
   "cell_type": "code",
   "execution_count": 109,
   "id": "e11360b9-6a7f-41a2-afef-6eafe7806b6a",
   "metadata": {},
   "outputs": [
    {
     "data": {
      "text/html": [
       "<div><i>Table length=5</i>\n",
       "<table id=\"table139749936518608\" class=\"table-striped table-bordered table-condensed\">\n",
       "<thead><tr><th>TARGETID</th><th>SURVEY</th><th>PROGRAM</th><th>LASTNIGHT</th><th>SPGRPVAL</th><th>Z</th><th>ZERR</th><th>ZWARN</th><th>CHI2</th><th>COEFF</th><th>NPIXELS</th><th>SPECTYPE</th><th>SUBTYPE</th><th>NCOEFF</th><th>DELTACHI2</th><th>PETAL_LOC</th><th>DEVICE_LOC</th><th>LOCATION</th><th>FIBER</th><th>COADD_FIBERSTATUS</th><th>TARGET_RA</th><th>TARGET_DEC</th><th>PMRA</th><th>PMDEC</th><th>REF_EPOCH</th><th>LAMBDA_REF</th><th>FA_TARGET</th><th>FA_TYPE</th><th>OBJTYPE</th><th>FIBERASSIGN_X</th><th>FIBERASSIGN_Y</th><th>PRIORITY</th><th>SUBPRIORITY</th><th>OBSCONDITIONS</th><th>RELEASE</th><th>BRICKNAME</th><th>BRICKID</th><th>BRICK_OBJID</th><th>MORPHTYPE</th><th>EBV</th><th>FLUX_G</th><th>FLUX_R</th><th>FLUX_Z</th><th>FLUX_W1</th><th>FLUX_W2</th><th>FLUX_IVAR_G</th><th>FLUX_IVAR_R</th><th>FLUX_IVAR_Z</th><th>FLUX_IVAR_W1</th><th>FLUX_IVAR_W2</th><th>FIBERFLUX_G</th><th>FIBERFLUX_R</th><th>FIBERFLUX_Z</th><th>FIBERTOTFLUX_G</th><th>FIBERTOTFLUX_R</th><th>FIBERTOTFLUX_Z</th><th>MASKBITS</th><th>SERSIC</th><th>SHAPE_R</th><th>SHAPE_E1</th><th>SHAPE_E2</th><th>REF_ID</th><th>REF_CAT</th><th>GAIA_PHOT_G_MEAN_MAG</th><th>GAIA_PHOT_BP_MEAN_MAG</th><th>GAIA_PHOT_RP_MEAN_MAG</th><th>PARALLAX</th><th>PHOTSYS</th><th>PRIORITY_INIT</th><th>NUMOBS_INIT</th><th>CMX_TARGET</th><th>DESI_TARGET</th><th>BGS_TARGET</th><th>MWS_TARGET</th><th>SCND_TARGET</th><th>SV1_DESI_TARGET</th><th>SV1_BGS_TARGET</th><th>SV1_MWS_TARGET</th><th>SV1_SCND_TARGET</th><th>SV2_DESI_TARGET</th><th>SV2_BGS_TARGET</th><th>SV2_MWS_TARGET</th><th>SV2_SCND_TARGET</th><th>SV3_DESI_TARGET</th><th>SV3_BGS_TARGET</th><th>SV3_MWS_TARGET</th><th>SV3_SCND_TARGET</th><th>PLATE_RA</th><th>PLATE_DEC</th><th>TILEID</th><th>COADD_NUMEXP</th><th>COADD_EXPTIME</th><th>COADD_NUMNIGHT</th><th>COADD_NUMTILE</th><th>MEAN_DELTA_X</th><th>RMS_DELTA_X</th><th>MEAN_DELTA_Y</th><th>RMS_DELTA_Y</th><th>MEAN_FIBER_RA</th><th>STD_FIBER_RA</th><th>MEAN_FIBER_DEC</th><th>STD_FIBER_DEC</th><th>MEAN_PSF_TO_FIBER_SPECFLUX</th><th>MEAN_FIBER_X</th><th>MEAN_FIBER_Y</th><th>TSNR2_GPBDARK_B</th><th>TSNR2_ELG_B</th><th>TSNR2_GPBBRIGHT_B</th><th>TSNR2_LYA_B</th><th>TSNR2_BGS_B</th><th>TSNR2_GPBBACKUP_B</th><th>TSNR2_QSO_B</th><th>TSNR2_LRG_B</th><th>TSNR2_GPBDARK_R</th><th>TSNR2_ELG_R</th><th>TSNR2_GPBBRIGHT_R</th><th>TSNR2_LYA_R</th><th>TSNR2_BGS_R</th><th>TSNR2_GPBBACKUP_R</th><th>TSNR2_QSO_R</th><th>TSNR2_LRG_R</th><th>TSNR2_GPBDARK_Z</th><th>TSNR2_ELG_Z</th><th>TSNR2_GPBBRIGHT_Z</th><th>TSNR2_LYA_Z</th><th>TSNR2_BGS_Z</th><th>TSNR2_GPBBACKUP_Z</th><th>TSNR2_QSO_Z</th><th>TSNR2_LRG_Z</th><th>TSNR2_GPBDARK</th><th>TSNR2_ELG</th><th>TSNR2_GPBBRIGHT</th><th>TSNR2_LYA</th><th>TSNR2_BGS</th><th>TSNR2_GPBBACKUP</th><th>TSNR2_QSO</th><th>TSNR2_LRG</th><th>MAIN_NSPEC</th><th>MAIN_PRIMARY</th><th>SV_NSPEC</th><th>SV_PRIMARY</th><th>ZCAT_NSPEC</th><th>ZCAT_PRIMARY</th></tr></thead>\n",
       "<thead><tr><th>int64</th><th>bytes7</th><th>bytes6</th><th>int32</th><th>int32</th><th>float64</th><th>float64</th><th>int64</th><th>float64</th><th>float64[10]</th><th>int64</th><th>bytes6</th><th>bytes20</th><th>int64</th><th>float64</th><th>int16</th><th>int32</th><th>int64</th><th>int32</th><th>int32</th><th>float64</th><th>float64</th><th>float32</th><th>float32</th><th>float32</th><th>float32</th><th>int64</th><th>uint8</th><th>bytes3</th><th>float32</th><th>float32</th><th>int32</th><th>float64</th><th>int32</th><th>int16</th><th>bytes8</th><th>int32</th><th>int32</th><th>bytes4</th><th>float32</th><th>float32</th><th>float32</th><th>float32</th><th>float32</th><th>float32</th><th>float32</th><th>float32</th><th>float32</th><th>float32</th><th>float32</th><th>float32</th><th>float32</th><th>float32</th><th>float32</th><th>float32</th><th>float32</th><th>int16</th><th>float32</th><th>float32</th><th>float32</th><th>float32</th><th>int64</th><th>bytes2</th><th>float32</th><th>float32</th><th>float32</th><th>float32</th><th>bytes1</th><th>int64</th><th>int64</th><th>int64</th><th>int64</th><th>int64</th><th>int64</th><th>int64</th><th>int64</th><th>int64</th><th>int64</th><th>int64</th><th>int64</th><th>int64</th><th>int64</th><th>int64</th><th>int64</th><th>int64</th><th>int64</th><th>int64</th><th>float64</th><th>float64</th><th>int32</th><th>int16</th><th>float32</th><th>int16</th><th>int16</th><th>float32</th><th>float32</th><th>float32</th><th>float32</th><th>float64</th><th>float32</th><th>float64</th><th>float32</th><th>float32</th><th>float32</th><th>float32</th><th>float32</th><th>float32</th><th>float32</th><th>float32</th><th>float32</th><th>float32</th><th>float32</th><th>float32</th><th>float32</th><th>float32</th><th>float32</th><th>float32</th><th>float32</th><th>float32</th><th>float32</th><th>float32</th><th>float32</th><th>float32</th><th>float32</th><th>float32</th><th>float32</th><th>float32</th><th>float32</th><th>float32</th><th>float32</th><th>float32</th><th>float32</th><th>float32</th><th>float32</th><th>float32</th><th>float32</th><th>float32</th><th>int32</th><th>bool</th><th>int32</th><th>bool</th><th>int64</th><th>bool</th></tr></thead>\n",
       "<tr><td>616089235992085010</td><td>cmx</td><td>other</td><td>20201216</td><td>20201216</td><td>1.026539591165917</td><td>0.00014994197241333243</td><td>5</td><td>8924.357209771872</td><td>-24.07681142832455 .. 1.8223517485788985</td><td>7928</td><td>GALAXY</td><td>--</td><td>10</td><td>8.939738029614091</td><td>0</td><td>311</td><td>311</td><td>0</td><td>0</td><td>23.64704835712534</td><td>30.237699207256</td><td>0.0</td><td>0.0</td><td>0.0</td><td>5400.0</td><td>4294967296</td><td>4</td><td>SKY</td><td>81.98283</td><td>-286.4917</td><td>-1</td><td>0.8849026730392795</td><td>63</td><td>9010</td><td>0235p302</td><td>497013</td><td>530</td><td>--</td><td>0.0532665</td><td>0.0</td><td>0.0</td><td>0.0</td><td>0.0</td><td>0.0</td><td>0.0</td><td>0.0</td><td>0.0</td><td>0.0</td><td>0.0</td><td>-0.0565887</td><td>-0.124679565</td><td>-0.18450871</td><td>0.0</td><td>0.0</td><td>0.0</td><td>0</td><td>0.0</td><td>0.0</td><td>0.0</td><td>0.0</td><td>0</td><td>--</td><td>0.0</td><td>0.0</td><td>0.0</td><td>0.0</td><td>--</td><td>-1</td><td>-1</td><td>4294967296</td><td>4294967296</td><td>0</td><td>0</td><td>0</td><td>0</td><td>0</td><td>0</td><td>0</td><td>0</td><td>0</td><td>0</td><td>0</td><td>0</td><td>0</td><td>0</td><td>0</td><td>23.64704835712534</td><td>30.237699207256</td><td>80615</td><td>4</td><td>3600.0</td><td>1</td><td>1</td><td>-0.00225</td><td>0.005267827</td><td>-0.00075</td><td>0.0040311287</td><td>23.647058848068063</td><td>0.09217804</td><td>30.23769623069657</td><td>0.055068973</td><td>0.79220617</td><td>81.9705</td><td>-286.4835</td><td>413.26205</td><td>0.2375252</td><td>78.07899</td><td>197.2936</td><td>1279.8805</td><td>563.71747</td><td>6.3496313</td><td>2.2683153</td><td>33883.484</td><td>71.459564</td><td>6052.3867</td><td>0.13865727</td><td>6896.178</td><td>37894.566</td><td>22.27903</td><td>103.9056</td><td>5.3238196e-05</td><td>238.68176</td><td>1.0061857e-05</td><td>0.0</td><td>10528.6875</td><td>7.3067626e-05</td><td>49.533707</td><td>109.42108</td><td>34296.746</td><td>310.37885</td><td>6130.466</td><td>197.43225</td><td>18704.746</td><td>38458.285</td><td>78.16237</td><td>215.595</td><td>0</td><td>False</td><td>0</td><td>False</td><td>1</td><td>True</td></tr>\n",
       "<tr><td>616089272318951842</td><td>cmx</td><td>other</td><td>20201216</td><td>20201216</td><td>0.9703405618899601</td><td>7.493299654729945e-05</td><td>5</td><td>8379.292280852795</td><td>-10.447763104563462 .. -0.37425000545091947</td><td>7927</td><td>GALAXY</td><td>--</td><td>10</td><td>0.2723734676837921</td><td>6</td><td>134</td><td>6134</td><td>3336</td><td>0</td><td>24.716176251609486</td><td>31.95192977225919</td><td>0.0</td><td>0.0</td><td>0.0</td><td>5400.0</td><td>4294967296</td><td>4</td><td>SKY</td><td>-143.77635</td><td>138.32399</td><td>-1</td><td>0.9747397989629649</td><td>63</td><td>9010</td><td>0248p320</td><td>505674</td><td>418</td><td>--</td><td>0.056715596</td><td>0.0</td><td>0.0</td><td>0.0</td><td>0.0</td><td>0.0</td><td>0.0</td><td>0.0</td><td>0.0</td><td>0.0</td><td>0.0</td><td>0.0008413379</td><td>-0.044789325</td><td>-0.024541281</td><td>0.0</td><td>0.0</td><td>0.0</td><td>0</td><td>0.0</td><td>0.0</td><td>0.0</td><td>0.0</td><td>0</td><td>--</td><td>0.0</td><td>0.0</td><td>0.0</td><td>0.0</td><td>--</td><td>-1</td><td>-1</td><td>4294967296</td><td>4294967296</td><td>0</td><td>0</td><td>0</td><td>0</td><td>0</td><td>0</td><td>0</td><td>0</td><td>0</td><td>0</td><td>0</td><td>0</td><td>0</td><td>0</td><td>0</td><td>24.716176251609486</td><td>31.95192977225919</td><td>80615</td><td>4</td><td>3600.0</td><td>1</td><td>1</td><td>0.003</td><td>0.003082207</td><td>0.00375</td><td>0.010234744</td><td>24.716161927675728</td><td>0.015076309</td><td>31.951945099770825</td><td>0.13841279</td><td>0.7919431</td><td>-143.776</td><td>138.303</td><td>744.9406</td><td>0.42006534</td><td>135.8987</td><td>355.17493</td><td>2159.7925</td><td>908.82623</td><td>11.325371</td><td>3.9023092</td><td>36612.477</td><td>93.03937</td><td>6443.623</td><td>0.11253884</td><td>7139.354</td><td>39802.293</td><td>26.35906</td><td>127.47998</td><td>4.5853878e-05</td><td>256.6866</td><td>8.454808e-06</td><td>0.0</td><td>11967.513</td><td>5.8713355e-05</td><td>55.225887</td><td>122.34501</td><td>37357.418</td><td>350.14606</td><td>6579.522</td><td>355.28748</td><td>21266.66</td><td>40711.12</td><td>92.910324</td><td>253.7273</td><td>0</td><td>False</td><td>0</td><td>False</td><td>1</td><td>True</td></tr>\n",
       "<tr><td>39628520015530097</td><td>cmx</td><td>other</td><td>20201216</td><td>20201216</td><td>0.3735933574014282</td><td>6.436407277168455e-05</td><td>0</td><td>9113.794622465968</td><td>122.74027809479895 .. 4.901991963527211</td><td>7928</td><td>GALAXY</td><td>--</td><td>10</td><td>629.6014761067927</td><td>6</td><td>175</td><td>6175</td><td>3335</td><td>0</td><td>24.837863924283997</td><td>31.987287998521534</td><td>0.0</td><td>0.0</td><td>2020.9597</td><td>5400.0</td><td>1280</td><td>1</td><td>TGT</td><td>-169.56938</td><td>147.58075</td><td>3200</td><td>0.5383688633146597</td><td>5</td><td>9010</td><td>0248p320</td><td>505674</td><td>2161</td><td>SER</td><td>0.05686838</td><td>1.0944743</td><td>6.029373</td><td>17.481907</td><td>37.671787</td><td>26.158922</td><td>685.9528</td><td>140.0678</td><td>28.364204</td><td>2.5148792</td><td>0.68032116</td><td>0.42505458</td><td>2.3415926</td><td>6.7893457</td><td>0.42505458</td><td>2.3415926</td><td>6.7893457</td><td>0</td><td>2.0525818</td><td>1.1178994</td><td>0.22608049</td><td>-0.4756204</td><td>0</td><td>--</td><td>0.0</td><td>0.0</td><td>0.0</td><td>0.0</td><td>S</td><td>3200</td><td>1</td><td>1280</td><td>0</td><td>0</td><td>0</td><td>0</td><td>0</td><td>0</td><td>0</td><td>0</td><td>0</td><td>0</td><td>0</td><td>0</td><td>0</td><td>0</td><td>0</td><td>0</td><td>24.837863924283997</td><td>31.987287998521534</td><td>80615</td><td>4</td><td>3600.0</td><td>1</td><td>1</td><td>-0.00025</td><td>0.0005</td><td>0.004</td><td>0.010653638</td><td>24.83786498906602</td><td>0.0077181663</td><td>31.987304042856408</td><td>0.1426608</td><td>0.7524142</td><td>-169.5625</td><td>147.55475</td><td>695.46564</td><td>0.38657746</td><td>127.38672</td><td>321.7168</td><td>2008.8502</td><td>855.3716</td><td>10.392807</td><td>3.631695</td><td>34153.348</td><td>87.238464</td><td>6035.672</td><td>0.10553568</td><td>6687.92</td><td>37403.48</td><td>24.611063</td><td>119.39271</td><td>4.373613e-05</td><td>244.14232</td><td>8.08955e-06</td><td>0.0</td><td>11424.995</td><td>5.6280904e-05</td><td>52.44065</td><td>116.50631</td><td>34848.812</td><td>331.76736</td><td>6163.0586</td><td>321.82233</td><td>20121.766</td><td>38258.85</td><td>87.44452</td><td>239.53072</td><td>0</td><td>False</td><td>0</td><td>False</td><td>1</td><td>True</td></tr>\n",
       "<tr><td>39628520015530050</td><td>cmx</td><td>other</td><td>20201216</td><td>20201216</td><td>0.7830661418591772</td><td>5.993183024895859e-06</td><td>0</td><td>9076.811683654785</td><td>25.242215688023563 .. -0.3582232963866487</td><td>7926</td><td>GALAXY</td><td>--</td><td>10</td><td>4945.483386039734</td><td>6</td><td>189</td><td>6189</td><td>3334</td><td>0</td><td>24.83487475272552</td><td>32.03150689630504</td><td>0.0</td><td>0.0</td><td>2020.9597</td><td>5400.0</td><td>2048</td><td>1</td><td>TGT</td><td>-169.01913</td><td>158.60425</td><td>3000</td><td>0.7937342374452203</td><td>3</td><td>9010</td><td>0248p320</td><td>505674</td><td>2114</td><td>PSF</td><td>0.05440167</td><td>0.26789588</td><td>0.3486105</td><td>0.97591496</td><td>0.04861955</td><td>-2.318016</td><td>1199.1306</td><td>371.4832</td><td>49.302753</td><td>3.7501552</td><td>0.82387865</td><td>0.20827857</td><td>0.27103102</td><td>0.7587358</td><td>0.20827857</td><td>0.27103102</td><td>0.7587358</td><td>0</td><td>0.0</td><td>0.0</td><td>0.0</td><td>0.0</td><td>0</td><td>--</td><td>0.0</td><td>0.0</td><td>0.0</td><td>0.0</td><td>S</td><td>3000</td><td>1</td><td>2048</td><td>0</td><td>0</td><td>0</td><td>0</td><td>0</td><td>0</td><td>0</td><td>0</td><td>0</td><td>0</td><td>0</td><td>0</td><td>0</td><td>0</td><td>0</td><td>0</td><td>24.83487475272552</td><td>32.03150689630504</td><td>80615</td><td>4</td><td>3600.0</td><td>1</td><td>1</td><td>0.00125</td><td>0.0027838822</td><td>0.005</td><td>0.010723805</td><td>24.834868691302034</td><td>0.050092377</td><td>32.03152703673678</td><td>0.13697776</td><td>0.789</td><td>-169.014</td><td>158.57625</td><td>769.46515</td><td>0.4348136</td><td>140.52682</td><td>366.0112</td><td>2236.6755</td><td>933.3428</td><td>11.689204</td><td>4.0457</td><td>37195.434</td><td>94.61954</td><td>6557.867</td><td>0.114375524</td><td>7267.2656</td><td>40301.582</td><td>26.7227</td><td>129.73874</td><td>4.6903457e-05</td><td>259.15573</td><td>8.665769e-06</td><td>0.0</td><td>12097.198</td><td>5.990893e-05</td><td>55.55087</td><td>123.6153</td><td>37964.9</td><td>354.21008</td><td>6698.394</td><td>366.12558</td><td>21601.14</td><td>41234.926</td><td>93.96277</td><td>257.39975</td><td>0</td><td>False</td><td>0</td><td>False</td><td>1</td><td>True</td></tr>\n",
       "<tr><td>1152921504619434245</td><td>cmx</td><td>other</td><td>20201216</td><td>20201216</td><td>4.459474392434449e-05</td><td>3.156266617392494e-06</td><td>0</td><td>15649.346788920408</td><td>-771.171376904437 .. 0.0</td><td>7929</td><td>STAR</td><td>M</td><td>5</td><td>31680.614356987233</td><td>6</td><td>47</td><td>6047</td><td>3333</td><td>0</td><td>24.29126144947335</td><td>31.90006101955111</td><td>-2.2986429</td><td>-0.023161387</td><td>2020.9597</td><td>5400.0</td><td>140737488355328</td><td>1</td><td>TGT</td><td>-54.91809</td><td>124.566765</td><td>4001</td><td>0.5903223687230423</td><td>63</td><td>0</td><td>--</td><td>0</td><td>0</td><td>--</td><td>0.045441482</td><td>0.0</td><td>0.0</td><td>0.0</td><td>0.0</td><td>0.0</td><td>0.0</td><td>0.0</td><td>0.0</td><td>0.0</td><td>0.0</td><td>0.0</td><td>0.0</td><td>0.0</td><td>0.0</td><td>0.0</td><td>0.0</td><td>0</td><td>0.0</td><td>0.0</td><td>0.0</td><td>0.0</td><td>315853475496002304</td><td>F1</td><td>20.343302</td><td>0.0</td><td>0.0</td><td>0.0</td><td>--</td><td>4001</td><td>1</td><td>140737488355328</td><td>0</td><td>0</td><td>0</td><td>0</td><td>0</td><td>0</td><td>0</td><td>0</td><td>0</td><td>0</td><td>0</td><td>0</td><td>0</td><td>0</td><td>0</td><td>0</td><td>24.29126144947335</td><td>31.90006101955111</td><td>80615</td><td>4</td><td>3600.0</td><td>1</td><td>1</td><td>0.0045</td><td>0.005244044</td><td>0.00525</td><td>0.010428327</td><td>24.291239753848373</td><td>0.05494083</td><td>31.900082469288968</td><td>0.13179454</td><td>0.7917085</td><td>-54.92625</td><td>124.553</td><td>777.3712</td><td>0.44935727</td><td>141.56894</td><td>386.5584</td><td>2295.578</td><td>952.53864</td><td>12.165556</td><td>4.120155</td><td>39030.484</td><td>98.494644</td><td>6849.846</td><td>0.12068671</td><td>7593.993</td><td>42465.34</td><td>28.078661</td><td>135.00249</td><td>4.8422513e-05</td><td>268.80978</td><td>8.906386e-06</td><td>0.0</td><td>12388.133</td><td>6.212341e-05</td><td>57.77956</td><td>127.42484</td><td>39807.855</td><td>367.75378</td><td>6991.415</td><td>386.6791</td><td>22277.703</td><td>43417.88</td><td>98.02377</td><td>266.5475</td><td>0</td><td>False</td><td>0</td><td>False</td><td>1</td><td>True</td></tr>\n",
       "</table></div>"
      ],
      "text/plain": [
       "<Table length=5>\n",
       "      TARGETID      SURVEY PROGRAM ... SV_PRIMARY ZCAT_NSPEC ZCAT_PRIMARY\n",
       "       int64        bytes7  bytes6 ...    bool      int64        bool    \n",
       "------------------- ------ ------- ... ---------- ---------- ------------\n",
       " 616089235992085010    cmx   other ...      False          1         True\n",
       " 616089272318951842    cmx   other ...      False          1         True\n",
       "  39628520015530097    cmx   other ...      False          1         True\n",
       "  39628520015530050    cmx   other ...      False          1         True\n",
       "1152921504619434245    cmx   other ...      False          1         True"
      ]
     },
     "execution_count": 109,
     "metadata": {},
     "output_type": "execute_result"
    }
   ],
   "source": [
    "ztile_cat[:5]"
   ]
  },
  {
   "cell_type": "code",
   "execution_count": 110,
   "id": "5aa690bf-4d6a-46be-a3db-7a819d880e35",
   "metadata": {},
   "outputs": [
    {
     "data": {
      "text/plain": [
       "30300000"
      ]
     },
     "execution_count": 110,
     "metadata": {},
     "output_type": "execute_result"
    }
   ],
   "source": [
    "len(ztile_cat)"
   ]
  },
  {
   "cell_type": "markdown",
   "id": "3dc66e14-8b7f-4d0c-b3f8-75c38894f4b4",
   "metadata": {
    "tags": []
   },
   "source": [
    "### reduce data dimensions & calculate current volume\n",
    "only keep certain columns (maybe use different ones e.g. MEAN_FIBER_DEC might be the better choice than TARGET DEC..., but for now this should be ok):\n",
    "- TARGETID (unique ID per object)\n",
    "- SURVEY (Main, EDR,...)\n",
    "- PROGRAM (bright, dark)\n",
    "- Z (redshift and ZERR is its error)\n",
    "- ZWARN (whether something went wrong in calculating the redshfit)\n",
    "- TARGET_RA & TARGET_DEC\n",
    "- FLUX_Z (z-band flux)\n",
    "\n",
    "\n",
    "***NOTE ON THE FLUX***\n",
    "\n",
    "There are several values that are have \"flux\" in their names in the DESI data. Here is a short summary (copied from https://www.legacysurvey.org/dr10/catalogs/), what each of these mean (I am leaving out _g/_r ... for clarity):\n",
    "- **flux**: model flux [nanomaggy]\n",
    "- **flux_ivar**: inverse variance of flux [1/nanomaggy^2]\n",
    "- **fiberflux**: predicted flux within a fiber of diameter 1.5 arcsec from *this object* in 1 arcsec Gaussian seeing [nanomaggy]; \"It also provides galactic extinction measurements derived from the Schlegel et al. (1997) (SFD98) maps\", quoting ChangHoon et al. (2022) (DESI BGS: Final Target Selection, Design and Validation)\n",
    "- **fibertotflux**: Predicted flux within a fiber of diameter 1.5 arcsec from *all sources at this location* in 1 arcsec Gaussian seeing [nanomaggy]\n",
    "- **apflux**: Aperture fluxes on the co-added images in apertures of radius [0.5, 0.75, 1.0, 1.5, 2.0, 3.5, 5.0, 7.0] arcsec, masked by 𝑖𝑛𝑣𝑣𝑎𝑟=0 (inverse variance of zero) [nanomaggy]\n",
    "- apflux_resid: Aperture fluxes on the co-added residual images, masked by 𝑖𝑛𝑣𝑣𝑎𝑟=0 [nanomaggy]\n",
    "- apflux_ivar: Inverse variance of apflux_resid_g, masked by 𝑖𝑛𝑣𝑣𝑎𝑟=0 [1/nanomaggy^2]\n",
    "- ...\n",
    "\n",
    "\n",
    "After that we perform the steps to include only those galaxies we are interested in:\n",
    "- select only ZWARN == 0 galaxies (i.e. no problems in evaluation of z)\n",
    "- select certain redshift range\n",
    "- select certain area (ra and dec)\n",
    "- use only good z-flux values\n",
    "- (use only bright sample (for now))"
   ]
  },
  {
   "cell_type": "code",
   "execution_count": 111,
   "id": "a56d2a8b-0920-4fe2-9d08-e07dea2e53c2",
   "metadata": {},
   "outputs": [],
   "source": [
    "ztile_cat.keep_columns(['TARGETID', 'SURVEY', 'PROGRAM', 'Z', 'ZERR', 'ZWARN', 'TARGET_RA', 'TARGET_DEC', 'FLUX_Z', 'LASTNIGHT'])"
   ]
  },
  {
   "cell_type": "code",
   "execution_count": 112,
   "id": "1988752e-a943-46c0-8ec7-7c44da1744d4",
   "metadata": {},
   "outputs": [],
   "source": [
    "# \"NPIXELS\", \"DEVICE_LOC\", \"LOCATION\", \"FIBER\", \"PMRA\", \"PMDEC\", \"REF_EPOCH\", \"LAMBDA_REF\", \"FA_TARGET\", \"FA_TYPE\", \"FIBERASSIGN_X\", \"FIBERASSIGN_Y\", \"PRIORITY\", \"SUBPRIORITY\", \"RELEASE\", \"BRICKNAME\", \"BRICKID\", \"BRICK_OBJID\""
   ]
  },
  {
   "cell_type": "code",
   "execution_count": 113,
   "id": "216a999a-2264-4c15-b48e-b6b40bc0ae66",
   "metadata": {},
   "outputs": [],
   "source": [
    "ztile_cat = ztile_cat[ztile_cat['ZWARN']==0]"
   ]
  },
  {
   "cell_type": "code",
   "execution_count": 114,
   "id": "c0dce56a-057d-4b0c-a72a-26b09b44fab1",
   "metadata": {},
   "outputs": [
    {
     "name": "stdout",
     "output_type": "stream",
     "text": [
      "current number of data entries (ZWARN step):  22547052\n"
     ]
    }
   ],
   "source": [
    "print(\"current number of data entries (ZWARN step): \", len(ztile_cat))"
   ]
  },
  {
   "cell_type": "code",
   "execution_count": 115,
   "id": "1ed040e2-955d-482f-867f-3daab3b44c0d",
   "metadata": {},
   "outputs": [],
   "source": [
    "z_max, z_min = 0.22, 0.16  # these are the z-band values from the SDSS paper (NOT ANYMORE: TO PLOT FOR GW DAY EVENT I CHANGED FROM 0.02, 0.23"
   ]
  },
  {
   "cell_type": "code",
   "execution_count": 116,
   "id": "b9170fe4-7b38-491f-ac95-a789cf657f3f",
   "metadata": {},
   "outputs": [],
   "source": [
    "ztile_cat = ztile_cat[(ztile_cat['Z']< z_max)&(ztile_cat['Z'] > z_min)]"
   ]
  },
  {
   "cell_type": "code",
   "execution_count": 117,
   "id": "055bbce2-3f97-442c-aa48-45f666917a60",
   "metadata": {},
   "outputs": [
    {
     "data": {
      "text/html": [
       "<div><i>Table length=5</i>\n",
       "<table id=\"table139749961668144\" class=\"table-striped table-bordered table-condensed\">\n",
       "<thead><tr><th>TARGETID</th><th>SURVEY</th><th>PROGRAM</th><th>LASTNIGHT</th><th>Z</th><th>ZERR</th><th>ZWARN</th><th>TARGET_RA</th><th>TARGET_DEC</th><th>FLUX_Z</th></tr></thead>\n",
       "<thead><tr><th>int64</th><th>bytes7</th><th>bytes6</th><th>int32</th><th>float64</th><th>float64</th><th>int64</th><th>float64</th><th>float64</th><th>float32</th></tr></thead>\n",
       "<tr><td>39628525149358172</td><td>cmx</td><td>other</td><td>20201216</td><td>0.16766093258044046</td><td>4.837592100602836e-06</td><td>0</td><td>24.937916256721696</td><td>32.371353507829554</td><td>0.21497077</td></tr>\n",
       "<tr><td>39628514856537664</td><td>cmx</td><td>other</td><td>20201216</td><td>0.1765169011846186</td><td>2.1954038578610457e-05</td><td>0</td><td>24.242158929536217</td><td>31.645414347192172</td><td>1.8251377</td></tr>\n",
       "<tr><td>39628514864922731</td><td>cmx</td><td>other</td><td>20201216</td><td>0.16088684078254326</td><td>5.6550009618095226e-06</td><td>0</td><td>24.630304975313198</td><td>31.801035906969343</td><td>60.37587</td></tr>\n",
       "<tr><td>39628520011337211</td><td>cmx</td><td>other</td><td>20201216</td><td>0.18322450705778687</td><td>1.3881997018854922e-05</td><td>0</td><td>24.618220410127755</td><td>31.936901454245273</td><td>55.714077</td></tr>\n",
       "<tr><td>39628514877510291</td><td>cmx</td><td>other</td><td>20201216</td><td>0.17945201746119457</td><td>1.0740105941516241e-05</td><td>0</td><td>25.791177644150785</td><td>31.792871334803177</td><td>48.385345</td></tr>\n",
       "</table></div>"
      ],
      "text/plain": [
       "<Table length=5>\n",
       "     TARGETID     SURVEY PROGRAM ...     TARGET_DEC       FLUX_Z  \n",
       "      int64       bytes7  bytes6 ...      float64        float32  \n",
       "----------------- ------ ------- ... ------------------ ----------\n",
       "39628525149358172    cmx   other ... 32.371353507829554 0.21497077\n",
       "39628514856537664    cmx   other ... 31.645414347192172  1.8251377\n",
       "39628514864922731    cmx   other ... 31.801035906969343   60.37587\n",
       "39628520011337211    cmx   other ... 31.936901454245273  55.714077\n",
       "39628514877510291    cmx   other ... 31.792871334803177  48.385345"
      ]
     },
     "execution_count": 117,
     "metadata": {},
     "output_type": "execute_result"
    }
   ],
   "source": [
    "ztile_cat[0:5]"
   ]
  },
  {
   "cell_type": "code",
   "execution_count": 118,
   "id": "9eec4905-2dcc-4b30-a790-46540c4a3f97",
   "metadata": {},
   "outputs": [
    {
     "name": "stdout",
     "output_type": "stream",
     "text": [
      "current number of data entries (z-range selection): 1473268\n"
     ]
    }
   ],
   "source": [
    "print(\"current number of data entries (z-range selection):\", len(ztile_cat))"
   ]
  },
  {
   "cell_type": "code",
   "execution_count": 119,
   "id": "ae013c9c-b5f5-416a-b708-a4ee1af07895",
   "metadata": {},
   "outputs": [
    {
     "name": "stdout",
     "output_type": "stream",
     "text": [
      "This patch has an area of 49.61 sqdeg\n"
     ]
    }
   ],
   "source": [
    "min_ra = -3\n",
    "min_dec = -9.5\n",
    "max_ra = 7\n",
    "max_dec = -4.5\n",
    "\n",
    "area = (np.deg2rad(max_ra) - np.deg2rad(min_ra)) * (np.cos(np.deg2rad(90-max_dec)) - np.cos(np.deg2rad(90-min_dec)))\n",
    "area = area*((180/np.pi)**2)\n",
    "print('This patch has an area of {:.2f} sqdeg'.format(area))"
   ]
  },
  {
   "cell_type": "code",
   "execution_count": 120,
   "id": "1749ea52-b4e6-4816-9153-fcf8fa42e262",
   "metadata": {},
   "outputs": [
    {
     "name": "stdout",
     "output_type": "stream",
     "text": [
      "4852462.5993557535 Mpc3\n"
     ]
    }
   ],
   "source": [
    "deg_to_rad = np.pi/180\n",
    "\n",
    "def simple_cubiod_volume(dist_min, dist_max, ra, dec):\n",
    "\n",
    "    \"\"\"\n",
    "    Calculates the volume in Mpc^3 (the search area), right now simply by taking 1/2 of the volume that two cuboids\n",
    "    (simply the flat planes at min and max distance) contain. In future one could refine this by calculating the actual\n",
    "    spherically shaped volume.\n",
    "    \"\"\"\n",
    "\n",
    "    angular = np.tan(ra*deg_to_rad/2)*np.tan(dec*deg_to_rad/2)\n",
    "    plane1 = 4*(dist_min**2)*(angular)\n",
    "    plane2 = 4*(dist_max**2)*(angular)\n",
    "    volume = (dist_max-dist_min)*(plane1+plane2)/2\n",
    "\n",
    "    #volume2 = (dist_max-dist_min)*(dist_min*np.tan(ra*deg_to_rad/2)*dist_min*np.tan(dec*deg_to_rad/2)*4+dist_max*np.tan(ra*deg_to_rad/2)*dist_max*np.tan(dec*deg_to_rad/2)*4)/2\n",
    "    return(volume)\n",
    "\n",
    "# this data should be read from a file instead of manually typing, but for now...\n",
    "# e.g. S190503bf had 448 deg^2 and 421+-105Mpc or S191216ap had 253 deg^2 and 376±70Mpc distance or very bad: S190706ai had 826deg^2, 5263±1402Mpc\n",
    "\n",
    "ra_dist = max_ra-min_ra        # region of interest in degrees for ra (this is from left to right tho, not the center)\n",
    "dec_dist = max_dec-min_dec       # region of interest in degrees for dec (this is from bottom to top tho, not the center)\n",
    "\n",
    "dist, dist_min, dist_max = Distance(z=(z_max+z_min)/2, cosmology=Planck18), Distance(z=z_min, cosmology=Planck18), Distance(z=z_max, cosmology=Planck18) # Luminosity distance measured from LIGO in Mpc\n",
    "# how does this change for different cosmologies?\n",
    "\n",
    "\n",
    "curr_vol = simple_cubiod_volume(dist_min, dist_max, ra_dist, dec_dist)\n",
    "print(curr_vol)"
   ]
  },
  {
   "cell_type": "code",
   "execution_count": 121,
   "id": "d03a30ab-80e7-4beb-9eae-4a884406538f",
   "metadata": {},
   "outputs": [],
   "source": [
    "ii = ztile_cat['TARGET_RA']>(min_ra)\n",
    "ii &= ztile_cat['TARGET_RA']<(max_ra)\n",
    "ii &= ztile_cat['TARGET_DEC']>(min_dec)\n",
    "ii &= ztile_cat['TARGET_DEC']<(max_dec)\n",
    "\n",
    "ztile_cat = ztile_cat[ii]"
   ]
  },
  {
   "cell_type": "code",
   "execution_count": 122,
   "id": "045024b1-35dc-4414-8549-25f2720700d3",
   "metadata": {},
   "outputs": [
    {
     "data": {
      "text/html": [
       "<div><i>Table length=5</i>\n",
       "<table id=\"table139749936517600\" class=\"table-striped table-bordered table-condensed\">\n",
       "<thead><tr><th>TARGETID</th><th>SURVEY</th><th>PROGRAM</th><th>LASTNIGHT</th><th>Z</th><th>ZERR</th><th>ZWARN</th><th>TARGET_RA</th><th>TARGET_DEC</th><th>FLUX_Z</th></tr></thead>\n",
       "<thead><tr><th>int64</th><th>bytes7</th><th>bytes6</th><th>int32</th><th>float64</th><th>float64</th><th>int64</th><th>float64</th><th>float64</th><th>float32</th></tr></thead>\n",
       "<tr><td>39627603945980532</td><td>main</td><td>bright</td><td>20211021</td><td>0.17948353417837068</td><td>0.00013178389569729024</td><td>0</td><td>0.02890257146742911</td><td>-7.530094885878618</td><td>71.880295</td></tr>\n",
       "<tr><td>39627603945982063</td><td>main</td><td>bright</td><td>20211021</td><td>0.19418687657655823</td><td>2.2550049225022288e-05</td><td>0</td><td>0.10017787919326278</td><td>-7.586671204973887</td><td>50.97502</td></tr>\n",
       "<tr><td>2780770275950600</td><td>main</td><td>bright</td><td>20211021</td><td>0.17603156705061904</td><td>8.319332097236995e-06</td><td>0</td><td>0.17320425443728446</td><td>-7.494371634333053</td><td>0.0</td></tr>\n",
       "<tr><td>39627591967051012</td><td>main</td><td>bright</td><td>20211021</td><td>0.1794757525296705</td><td>1.355302953417595e-05</td><td>0</td><td>0.15508455702959212</td><td>-7.876206605533584</td><td>40.022408</td></tr>\n",
       "<tr><td>39627585985970626</td><td>main</td><td>bright</td><td>20211021</td><td>0.17906084140465472</td><td>5.277871900771574e-05</td><td>0</td><td>0.02378525341197618</td><td>-8.312652040170216</td><td>112.67393</td></tr>\n",
       "</table></div>"
      ],
      "text/plain": [
       "<Table length=5>\n",
       "     TARGETID     SURVEY PROGRAM ...     TARGET_DEC       FLUX_Z \n",
       "      int64       bytes7  bytes6 ...      float64        float32 \n",
       "----------------- ------ ------- ... ------------------ ---------\n",
       "39627603945980532   main  bright ... -7.530094885878618 71.880295\n",
       "39627603945982063   main  bright ... -7.586671204973887  50.97502\n",
       " 2780770275950600   main  bright ... -7.494371634333053       0.0\n",
       "39627591967051012   main  bright ... -7.876206605533584 40.022408\n",
       "39627585985970626   main  bright ... -8.312652040170216 112.67393"
      ]
     },
     "execution_count": 122,
     "metadata": {},
     "output_type": "execute_result"
    }
   ],
   "source": [
    "ztile_cat[0:5]"
   ]
  },
  {
   "cell_type": "code",
   "execution_count": 123,
   "id": "10637f42-b5b5-4a23-bdc9-1655763ce6b0",
   "metadata": {},
   "outputs": [
    {
     "name": "stdout",
     "output_type": "stream",
     "text": [
      "current number of data entries (area selection):  1093\n"
     ]
    }
   ],
   "source": [
    "print(\"current number of data entries (area selection): \", len(ztile_cat))"
   ]
  },
  {
   "cell_type": "code",
   "execution_count": 124,
   "id": "23261926-bf20-46e4-adae-a922c3f410ef",
   "metadata": {},
   "outputs": [],
   "source": [
    "ztile_cat = ztile_cat[ztile_cat[\"FLUX_Z\"] > 0.0]"
   ]
  },
  {
   "cell_type": "code",
   "execution_count": 125,
   "id": "ccfc9550-e71e-474a-aeda-b68cf1fa9492",
   "metadata": {},
   "outputs": [
    {
     "data": {
      "text/html": [
       "<div><i>Table length=5</i>\n",
       "<table id=\"table139749941866224\" class=\"table-striped table-bordered table-condensed\">\n",
       "<thead><tr><th>TARGETID</th><th>SURVEY</th><th>PROGRAM</th><th>LASTNIGHT</th><th>Z</th><th>ZERR</th><th>ZWARN</th><th>TARGET_RA</th><th>TARGET_DEC</th><th>FLUX_Z</th></tr></thead>\n",
       "<thead><tr><th>int64</th><th>bytes7</th><th>bytes6</th><th>int32</th><th>float64</th><th>float64</th><th>int64</th><th>float64</th><th>float64</th><th>float32</th></tr></thead>\n",
       "<tr><td>39627603945980532</td><td>main</td><td>bright</td><td>20211021</td><td>0.17948353417837068</td><td>0.00013178389569729024</td><td>0</td><td>0.02890257146742911</td><td>-7.530094885878618</td><td>71.880295</td></tr>\n",
       "<tr><td>39627603945982063</td><td>main</td><td>bright</td><td>20211021</td><td>0.19418687657655823</td><td>2.2550049225022288e-05</td><td>0</td><td>0.10017787919326278</td><td>-7.586671204973887</td><td>50.97502</td></tr>\n",
       "<tr><td>39627591967051012</td><td>main</td><td>bright</td><td>20211021</td><td>0.1794757525296705</td><td>1.355302953417595e-05</td><td>0</td><td>0.15508455702959212</td><td>-7.876206605533584</td><td>40.022408</td></tr>\n",
       "<tr><td>39627585985970626</td><td>main</td><td>bright</td><td>20211021</td><td>0.17906084140465472</td><td>5.277871900771574e-05</td><td>0</td><td>0.02378525341197618</td><td>-8.312652040170216</td><td>112.67393</td></tr>\n",
       "<tr><td>39627585985971116</td><td>main</td><td>bright</td><td>20211021</td><td>0.2080975251355451</td><td>1.6503328519769986e-05</td><td>0</td><td>0.05056660476317751</td><td>-8.253521541227546</td><td>22.456858</td></tr>\n",
       "</table></div>"
      ],
      "text/plain": [
       "<Table length=5>\n",
       "     TARGETID     SURVEY PROGRAM ...     TARGET_DEC       FLUX_Z \n",
       "      int64       bytes7  bytes6 ...      float64        float32 \n",
       "----------------- ------ ------- ... ------------------ ---------\n",
       "39627603945980532   main  bright ... -7.530094885878618 71.880295\n",
       "39627603945982063   main  bright ... -7.586671204973887  50.97502\n",
       "39627591967051012   main  bright ... -7.876206605533584 40.022408\n",
       "39627585985970626   main  bright ... -8.312652040170216 112.67393\n",
       "39627585985971116   main  bright ... -8.253521541227546 22.456858"
      ]
     },
     "execution_count": 125,
     "metadata": {},
     "output_type": "execute_result"
    }
   ],
   "source": [
    "ztile_cat[0:5]"
   ]
  },
  {
   "cell_type": "code",
   "execution_count": 126,
   "id": "cfae46cb-f971-408f-b98b-662bf2e17541",
   "metadata": {},
   "outputs": [
    {
     "name": "stdout",
     "output_type": "stream",
     "text": [
      "current number of data entries (z-band flux bad value deletion):  1086\n"
     ]
    }
   ],
   "source": [
    "print(\"current number of data entries (z-band flux bad value deletion): \", len(ztile_cat))"
   ]
  },
  {
   "cell_type": "code",
   "execution_count": 127,
   "id": "14e4baa1-94db-4685-b7a5-d5d64557a380",
   "metadata": {},
   "outputs": [],
   "source": [
    "ztile_cat = ztile_cat[ztile_cat[\"PROGRAM\"]== \"bright\"]"
   ]
  },
  {
   "cell_type": "code",
   "execution_count": 128,
   "id": "d36d48b5-1e33-472b-b6fe-8184e3f8d9dd",
   "metadata": {},
   "outputs": [
    {
     "name": "stdout",
     "output_type": "stream",
     "text": [
      "current number of data entries (bright program selection):  997\n"
     ]
    }
   ],
   "source": [
    "print(\"current number of data entries (bright program selection): \", len(ztile_cat))"
   ]
  },
  {
   "cell_type": "code",
   "execution_count": 129,
   "id": "d9c92672-236c-4e4b-9b73-5d90158ca0a4",
   "metadata": {},
   "outputs": [],
   "source": [
    "# ztile_cat[0:5]"
   ]
  },
  {
   "cell_type": "code",
   "execution_count": 130,
   "id": "b9e5adb3-60a6-4679-9e63-d1d3165b9faa",
   "metadata": {},
   "outputs": [
    {
     "data": {
      "text/plain": [
       "997"
      ]
     },
     "execution_count": 130,
     "metadata": {},
     "output_type": "execute_result"
    }
   ],
   "source": [
    "len(ztile_cat)"
   ]
  },
  {
   "cell_type": "code",
   "execution_count": 131,
   "id": "4c899989-b6a3-4f93-a685-fa46d1de16b0",
   "metadata": {},
   "outputs": [
    {
     "data": {
      "text/plain": [
       "573.48474"
      ]
     },
     "execution_count": 131,
     "metadata": {},
     "output_type": "execute_result"
    }
   ],
   "source": [
    "np.max(ztile_cat[\"FLUX_Z\"])"
   ]
  },
  {
   "cell_type": "code",
   "execution_count": 132,
   "id": "d7a8ec34-8312-4bf0-beeb-9afb71b05e1e",
   "metadata": {},
   "outputs": [
    {
     "data": {
      "text/plain": [
       "0"
      ]
     },
     "execution_count": 132,
     "metadata": {},
     "output_type": "execute_result"
    }
   ],
   "source": [
    "(ztile_cat[\"FLUX_Z\"] == 0.0).sum()"
   ]
  },
  {
   "cell_type": "code",
   "execution_count": 133,
   "id": "dccecddc-ccc4-4626-81fc-eb335af5d971",
   "metadata": {},
   "outputs": [
    {
     "data": {
      "text/plain": [
       "997"
      ]
     },
     "execution_count": 133,
     "metadata": {},
     "output_type": "execute_result"
    }
   ],
   "source": [
    "np.count_nonzero(ztile_cat[\"FLUX_Z\"]<1000)"
   ]
  },
  {
   "cell_type": "code",
   "execution_count": 134,
   "id": "b3756d64-abf6-49d7-821f-8cf2f66b577d",
   "metadata": {},
   "outputs": [
    {
     "data": {
      "text/plain": [
       "61317.89"
      ]
     },
     "execution_count": 134,
     "metadata": {},
     "output_type": "execute_result"
    }
   ],
   "source": [
    "np.sum(ztile_cat[\"FLUX_Z\"])"
   ]
  },
  {
   "cell_type": "code",
   "execution_count": 135,
   "id": "a8d079d1-4bf5-4ef6-b48f-c7b230a4bb54",
   "metadata": {},
   "outputs": [],
   "source": [
    "above_threshold = ztile_cat[ztile_cat[\"FLUX_Z\"]>1000]"
   ]
  },
  {
   "cell_type": "code",
   "execution_count": 136,
   "id": "9ebbbdb5-7ec8-46f2-8009-df73c2dfdfdc",
   "metadata": {},
   "outputs": [
    {
     "data": {
      "text/html": [
       "<div><i>Table length=0</i>\n",
       "<table id=\"table139749941855040\" class=\"table-striped table-bordered table-condensed\">\n",
       "<thead><tr><th>TARGETID</th><th>SURVEY</th><th>PROGRAM</th><th>LASTNIGHT</th><th>Z</th><th>ZERR</th><th>ZWARN</th><th>TARGET_RA</th><th>TARGET_DEC</th><th>FLUX_Z</th></tr></thead>\n",
       "<thead><tr><th>int64</th><th>bytes7</th><th>bytes6</th><th>int32</th><th>float64</th><th>float64</th><th>int64</th><th>float64</th><th>float64</th><th>float32</th></tr></thead>\n",
       "</table></div>"
      ],
      "text/plain": [
       "<Table length=0>\n",
       "TARGETID SURVEY PROGRAM LASTNIGHT    Z    ... ZWARN TARGET_RA TARGET_DEC  FLUX_Z\n",
       " int64   bytes7  bytes6   int32   float64 ... int64  float64   float64   float32\n",
       "-------- ------ ------- --------- ------- ... ----- --------- ---------- -------"
      ]
     },
     "execution_count": 136,
     "metadata": {},
     "output_type": "execute_result"
    }
   ],
   "source": [
    "above_threshold"
   ]
  },
  {
   "cell_type": "code",
   "execution_count": 137,
   "id": "7e5ef019-9175-4900-abf5-1f42bbceb846",
   "metadata": {},
   "outputs": [
    {
     "data": {
      "text/plain": [
       "0.0"
      ]
     },
     "execution_count": 137,
     "metadata": {},
     "output_type": "execute_result"
    }
   ],
   "source": [
    "np.sum(above_threshold[\"FLUX_Z\"])"
   ]
  },
  {
   "cell_type": "code",
   "execution_count": 138,
   "id": "25f553a1-9bd5-4a7c-8b5f-0ff13086da44",
   "metadata": {},
   "outputs": [
    {
     "data": {
      "text/plain": [
       "0.0"
      ]
     },
     "execution_count": 138,
     "metadata": {},
     "output_type": "execute_result"
    }
   ],
   "source": [
    "np.sum(above_threshold[\"FLUX_Z\"])/np.sum(ztile_cat[\"FLUX_Z\"])"
   ]
  },
  {
   "cell_type": "markdown",
   "id": "0d8648a8-a1a3-4d6a-8ecb-5ec3e70e4c61",
   "metadata": {
    "tags": []
   },
   "source": [
    "## Calculate absolute & apparent magnitudes from fluxes for further analysis, short data overview\n",
    "\n",
    "From the z-band fluxes we first calculate the absolute magnitudes, according to https://www.legacysurvey.org/dr10/description/ :$$m = 22.5-2.5log_{10}(flux)$$) and $$M = m - 5*\\log_{10}(d_{pc})+ 5$$\n",
    "\n",
    "The steps here are very similar/the same as described in the SDSS paper!\n",
    "\n",
    "**this is currently possibly missing a redshift correction**"
   ]
  },
  {
   "cell_type": "code",
   "execution_count": 139,
   "id": "455aec71-0acb-4a71-9cfb-011ca2a31496",
   "metadata": {},
   "outputs": [],
   "source": [
    "# calculate the absolute and apparent magnitude of every galaxy (Planck Cosmology)\n",
    "app_mag = [22.5-2.5*np.log10(ztile_cat[\"FLUX_Z\"][q]) for q in range(len(ztile_cat[\"FLUX_Z\"]))]\n",
    "abs_mag = [(app_mag[q] - 5*np.log10(Distance(z=ztile_cat[\"Z\"][q], cosmology=Planck18)/u.Mpc*10**6)+5).value for q in range(len(ztile_cat[\"FLUX_Z\"]))]"
   ]
  },
  {
   "cell_type": "code",
   "execution_count": 140,
   "id": "ac0d15b2-59e0-4934-a611-e0f3a2ed539b",
   "metadata": {},
   "outputs": [
    {
     "data": {
      "text/plain": [
       "([-21.90700519733778,\n",
       "  -21.723575463501007,\n",
       "  -21.271134651791527,\n",
       "  -22.389375204631037,\n",
       "  -21.001161466624666,\n",
       "  -20.56761005171915,\n",
       "  -21.115523079463976,\n",
       "  -21.26774275923347,\n",
       "  -20.830738128127983,\n",
       "  -22.83866068553141],\n",
       " 997)"
      ]
     },
     "execution_count": 140,
     "metadata": {},
     "output_type": "execute_result"
    }
   ],
   "source": [
    "abs_mag[:10], len(abs_mag)"
   ]
  },
  {
   "cell_type": "code",
   "execution_count": 141,
   "id": "169be19f-0736-4a79-ae76-01f208873a8d",
   "metadata": {},
   "outputs": [
    {
     "data": {
      "text/plain": [
       "-24.430475253895608"
      ]
     },
     "execution_count": 141,
     "metadata": {},
     "output_type": "execute_result"
    }
   ],
   "source": [
    "np.min(abs_mag) # shows the minimal absolute magnitude in the sample"
   ]
  },
  {
   "cell_type": "code",
   "execution_count": 142,
   "id": "d35c91af-87ed-4917-a74a-c309c6e4066f",
   "metadata": {},
   "outputs": [
    {
     "name": "stdout",
     "output_type": "stream",
     "text": [
      "The number of abs mag bins is:  452\n",
      "The abs mag bin width is:  0.010010915302653028\n"
     ]
    }
   ],
   "source": [
    "# get the limits of the absolute magnitudes (for integration and more), define the number of bins\n",
    "# (scales with higher difference in mags)\n",
    "upper_limit_abs = np.max(abs_mag)\n",
    "lower_limit_abs = np.min(abs_mag)\n",
    "num_of_bins_abs = int((upper_limit_abs - lower_limit_abs)*100)\n",
    "\n",
    "print(\"The number of abs mag bins is: \", num_of_bins_abs)\n",
    "print(\"The abs mag bin width is: \", (upper_limit_abs-lower_limit_abs)/num_of_bins_abs)"
   ]
  },
  {
   "cell_type": "code",
   "execution_count": 143,
   "id": "3a8ffd2f-6ce8-41c9-9fcc-479a0684dc11",
   "metadata": {},
   "outputs": [
    {
     "name": "stdout",
     "output_type": "stream",
     "text": [
      "The number of bins is:  429\n",
      "The bin width is:  0.01001579708708472\n"
     ]
    }
   ],
   "source": [
    "# get the limits of the apparent magnitudes (for integration and more), define the number of bins\n",
    "# (scales with higher difference in mags) and evenly divide the magnitudes (e.g. for plotting)\n",
    "upper_limit_app = np.max(app_mag)\n",
    "lower_limit_app = np.min(app_mag)\n",
    "num_of_bins_app = int((upper_limit_app - lower_limit_app)*100)\n",
    "\n",
    "print(\"The number of bins is: \", num_of_bins_app)\n",
    "print(\"The bin width is: \", (upper_limit_app-lower_limit_app)/num_of_bins_app)"
   ]
  },
  {
   "cell_type": "markdown",
   "id": "40771610-5cca-45f0-bab9-75d67cc92619",
   "metadata": {
    "tags": []
   },
   "source": [
    "### Important Notice about the graphs!\n",
    "\n",
    "The choice of ***the bin width*** changes the plot below **significantly**! The smaller the bins, the fewer galaxies per bin, of course. For here, I choose very small bins for illustration, but three steps further down I will use the bigger bins (similar to the SDSS paper and their \"N_euclidean\" count)."
   ]
  },
  {
   "cell_type": "code",
   "execution_count": 144,
   "id": "1bbefcd4-c345-4516-8446-8319bcf3766a",
   "metadata": {},
   "outputs": [
    {
     "data": {
      "text/plain": [
       "array([1, 0, 0, 0, 0, 0, 0, 0, 0, 0])"
      ]
     },
     "execution_count": 144,
     "metadata": {},
     "output_type": "execute_result"
    }
   ],
   "source": [
    "# this just sorts the magnitudes in an ascending manner, i.e. the lowest value of magnitude becomes the first entry\n",
    "# abs_mags_sort = np.sort(abs_mag)\n",
    "\n",
    "# create the histogramm (i.e. x values are the mags, y values are the number of occurences per bin)\n",
    "N_abs, mags_abs_binned = np.histogram(abs_mag, bins = num_of_bins_abs, range = (lower_limit_abs, upper_limit_abs))\n",
    "N_abs[:10]\n",
    "\n",
    "N_app, mags_app_binned = np.histogram(app_mag, bins = num_of_bins_app, range = (lower_limit_app, upper_limit_app))\n",
    "N_app[:10]\n"
   ]
  },
  {
   "cell_type": "markdown",
   "id": "2aee7df2-74b0-4a57-9822-f6744cfedd45",
   "metadata": {
    "tags": []
   },
   "source": [
    "### Getting an idea about the data\n",
    "\n",
    "For now I just plot the data, with a more or less arbitrary size/number of bins."
   ]
  },
  {
   "cell_type": "code",
   "execution_count": 145,
   "id": "1ebc2b41-4ecc-4d84-bfb9-4279ffd82d18",
   "metadata": {},
   "outputs": [
    {
     "data": {
      "image/png": "[encoded data removed]",
      "text/plain": [
       "<Figure size 1900x500 with 2 Axes>"
      ]
     },
     "metadata": {},
     "output_type": "display_data"
    }
   ],
   "source": [
    "fig, ax = plt.subplots(ncols = 2, figsize=(19, 5))\n",
    "width_abs_mags = change_bin_width * (mags_abs_binned[1] - mags_abs_binned[0])\n",
    "center_abs_mags = (mags_abs_binned[:-1] + mags_abs_binned[1:])/2\n",
    "\n",
    "ax[0].bar(center_abs_mags, N_abs,  align = \"center\", width = width_abs_mags, label = \"number of galaxies per z-band absolute magnitude bin\")\n",
    "ax[0].set_xlabel(\"absolute magnitude in z-band\")\n",
    "y_label_abs = \"N in \" + str(width_abs_mags/change_bin_width) + \" width bins\"\n",
    "ax[0].set_ylabel(y_label_abs)\n",
    "ax[0].set_yscale('log')\n",
    "ax[0].legend(loc = \"upper right\")\n",
    "\n",
    "\n",
    "width_app_mags = change_bin_width * (mags_app_binned[1] - mags_app_binned[0])\n",
    "center_app_mags = (mags_app_binned[:-1] + mags_app_binned[1:])/2\n",
    "\n",
    "ax[1].bar(center_app_mags, N_app,  align = \"center\", width = width_app_mags, label = \"number of galaxies per z-band apparent magnitude bin\")\n",
    "ax[1].set_xlabel(\"apparent magnitude in z-band\")\n",
    "y_label_app = \"N in \" + str(width_app_mags/change_bin_width) + \" width bins\"\n",
    "ax[1].set_ylabel(y_label_app)\n",
    "ax[1].set_yscale('log')\n",
    "ax[1].legend(loc = \"upper right\")\n",
    "\n",
    "plt.show()"
   ]
  },
  {
   "cell_type": "markdown",
   "id": "61b31795-3f3f-432f-8e0e-86f44b69cb3f",
   "metadata": {
    "tags": []
   },
   "source": [
    "## Comparing to SDSS paper\n",
    "\n",
    "Here I compare this data to the SDSS paper:\n",
    "\n",
    "- total count N in half mag bin per deg^2 vs. apparent magnitude (including with $$N_{euclidean}$$ scaling)\n",
    "- total count N in half mag bin per deg^2 vs. absolute magnitude\n",
    "- plot the Schechter function from the SDSS paper (basicall logN vs absolute mag)\n",
    "- some other validation/training plots/calcs\n",
    "\n",
    "The formula for the scaling is: $$ N_{euclidean} = 10^{0.6(m-18)} $$\n",
    "\n",
    "If either bin width or redshift range differs from the paper one canoot meaningfully compares the numbers, however, the general shape should stay the same.\n",
    "\n",
    "DESI z-band and SDSS z-band are somewhat different:\n",
    "- DESI: mean at 925nm, delta of 150nm\n",
    "- SDSS: mean at 885nm, delta of 120nm"
   ]
  },
  {
   "cell_type": "markdown",
   "id": "c4e39fa4-6071-4e9f-b2dc-f3acee182780",
   "metadata": {},
   "source": []
  },
  {
   "cell_type": "code",
   "execution_count": 146,
   "id": "6276c7cc-767d-496e-b693-f530e667612a",
   "metadata": {},
   "outputs": [],
   "source": [
    "def eucl(m):\n",
    "    return 10**-(0.6*(m-18))"
   ]
  },
  {
   "cell_type": "code",
   "execution_count": 147,
   "id": "dedbe3e6-a846-42af-b04d-9c4ab0af1faa",
   "metadata": {},
   "outputs": [],
   "source": [
    "# this time we want the bin width to be exactly 0.5 magnitudes as in the paper.\n",
    "bins_app = np.arange(lower_limit_app, upper_limit_app, 0.5)\n",
    "bins_abs = np.arange(lower_limit_abs, upper_limit_abs, 0.5)"
   ]
  },
  {
   "cell_type": "code",
   "execution_count": 148,
   "id": "5bbbf360-40ee-42d7-835f-d825f307bcaa",
   "metadata": {},
   "outputs": [
    {
     "data": {
      "text/plain": [
       "array([15.60369551, 16.10369551, 16.60369551, 17.10369551, 17.60369551])"
      ]
     },
     "execution_count": 148,
     "metadata": {},
     "output_type": "execute_result"
    }
   ],
   "source": [
    "bins_app[:5]"
   ]
  },
  {
   "cell_type": "code",
   "execution_count": 149,
   "id": "119cf4ad-dcc3-46d1-9b70-4683bc377e89",
   "metadata": {},
   "outputs": [],
   "source": [
    "# create the histogramm (i.e. x values are the mags, y values are the number of objects per magnitude bin)\n",
    "N_abs_big, mags_abs_binned_big = np.histogram(abs_mag, bins = bins_abs)\n",
    "\n",
    "N_app_big, mags_app_binned_big = np.histogram(app_mag, bins = bins_app)"
   ]
  },
  {
   "cell_type": "code",
   "execution_count": 150,
   "id": "b83c486a-cf35-4c0d-9c6e-e6d3c931a888",
   "metadata": {},
   "outputs": [],
   "source": [
    "N_euc_app = eucl((bins_app[:-1] + bins_app[1:])/2)"
   ]
  },
  {
   "cell_type": "code",
   "execution_count": 151,
   "id": "d1d77686-aece-4acc-ba1b-74540f1bf258",
   "metadata": {},
   "outputs": [
    {
     "data": {
      "text/plain": [
       "array([19.39914963,  9.72260614,  4.87284607,  2.44220824,  1.22400359])"
      ]
     },
     "execution_count": 151,
     "metadata": {},
     "output_type": "execute_result"
    }
   ],
   "source": [
    "N_euc_app[:5]"
   ]
  },
  {
   "cell_type": "markdown",
   "id": "a5c16232-deb0-4bbc-8193-59bb9902ded5",
   "metadata": {},
   "source": [
    "Now lets first have a look at what we can expect from the SDSS paper:"
   ]
  },
  {
   "cell_type": "code",
   "execution_count": 152,
   "id": "5ca9889e-e5cd-44c3-b90e-9572ea35d541",
   "metadata": {},
   "outputs": [
    {
     "data": {
      "text/html": [
       "<img src=\"Images/SDSS apparent mag vs logN.png\" width=\"600\"/>"
      ],
      "text/plain": [
       "<IPython.core.display.Image object>"
      ]
     },
     "execution_count": 152,
     "metadata": {},
     "output_type": "execute_result"
    }
   ],
   "source": [
    "Image(url=\"Images/SDSS apparent mag vs logN.png\", width = 600)"
   ]
  },
  {
   "cell_type": "code",
   "execution_count": 153,
   "id": "fc0fa7b5-1679-4b40-9b3f-1785f206af33",
   "metadata": {},
   "outputs": [
    {
     "data": {
      "text/html": [
       "<img src=\"Images/SDSS abs mag vs N.png\" width=\"600\"/>"
      ],
      "text/plain": [
       "<IPython.core.display.Image object>"
      ]
     },
     "execution_count": 153,
     "metadata": {},
     "output_type": "execute_result"
    }
   ],
   "source": [
    "Image(url=\"Images/SDSS abs mag vs N.png\", width = 600)"
   ]
  },
  {
   "cell_type": "markdown",
   "id": "2bbf21ce-42e3-46f3-a7bf-65b7a841f90b",
   "metadata": {},
   "source": [
    "And now plot our own data\n",
    "\n",
    "(for above: if h = 0 -> obv no shift, if h = 0.7 then shift by ~0.77)"
   ]
  },
  {
   "cell_type": "code",
   "execution_count": 154,
   "id": "77d1e12c-5682-489d-9d81-649f8e306197",
   "metadata": {},
   "outputs": [
    {
     "data": {
      "image/png": "[encoded data removed]",
      "text/plain": [
       "<Figure size 2500x500 with 3 Axes>"
      ]
     },
     "metadata": {},
     "output_type": "display_data"
    }
   ],
   "source": [
    "# Now lets plot these\n",
    "fig, ax = plt.subplots(ncols = 3, figsize=(25, 5))\n",
    "\n",
    "width_abs_mags_big = change_bin_width * (mags_abs_binned_big[1] - mags_abs_binned_big[0])\n",
    "center_abs_mags_big = (mags_abs_binned_big[:-1] + mags_abs_binned_big[1:])/2\n",
    "\n",
    "ax[0].bar(center_abs_mags_big, N_abs_big/area,  align = \"center\", width = width_abs_mags_big, label = \"number of galaxies per z-band \\n absolute magnitude bin (larger bins)\")\n",
    "ax[0].set_xlabel(\"absolute magnitude in z-band\")\n",
    "y_label_abs = \"N in \" + str(width_abs_mags_big/change_bin_width) + \" width bins and per square deg\"\n",
    "ax[0].set_ylabel(y_label_abs)\n",
    "#ax[0].set_yscale('log')\n",
    "ax[0].legend(loc = \"upper right\")\n",
    "\n",
    "# the data from the SDSS paper, just extracted by hand\n",
    "mags_SDSS = [-24, -23.7, -23.5, -23.35, -23.1, -22.95, -22.85, -22.65, -21.5, -20.2, -18, -17]\n",
    "dN = [10**(-6.75), 10**(-6.2), 10**(-5.65), 10**(-5.1), 10**(-4.7), 10**(-4.4), 10**(-4.1), 10**(-3.8), 10**(-2.5), 10**(-2.1), 10**(-1.9), 10**(-1.8)]\n",
    "\n",
    "\n",
    "ax[1].bar(center_abs_mags_big, N_abs_big/curr_vol*u.Mpc**3,  align = \"center\", width = width_abs_mags_big, label = \"number of galaxies per z-band \\n absolute magnitude bin (larger bins)\")\n",
    "ax[1].bar(mags_SDSS, dN,  align = \"center\", width = 0.5*width_abs_mags_big, label = \"number of galaxies per z-band from SDSS paper\")\n",
    "ax[1].set_xlabel(\"absolute magnitude in z-band\")\n",
    "y_label_abs = \"N in \" + str(width_abs_mags_big/change_bin_width) + \" width bins and per square deg (log space)\"\n",
    "ax[1].set_ylabel(y_label_abs)\n",
    "ax[1].set_yscale('log')\n",
    "ax[1].legend(loc = \"lower right\")\n",
    "\n",
    "\n",
    "width_app_mags_big = change_bin_width * (mags_app_binned_big[1] - mags_app_binned_big[0])\n",
    "center_app_mags_big = (mags_app_binned_big[:-1] + mags_app_binned_big[1:])/2\n",
    "\n",
    "ax[2].bar(center_app_mags_big, N_app_big/area,  align = \"center\", width = width_app_mags_big, label = \"number of galaxies per z-band apparent magnitude bin (larger bins)\")\n",
    "ax[2].bar(center_app_mags_big, N_app_big*N_euc_app/area,  align = \"center\", width = width_app_mags_big*0.75, label = \"number of galaxies per z-band apparent magnitude bin (w/ euclidean model)\")\n",
    "ax[2].set_xlabel(\"apparent magnitude in z-band\")\n",
    "y_label_app = \"N in \" + str(width_app_mags_big/change_bin_width) + \" width bins and per square deg (log scale)\"\n",
    "ax[2].set_ylabel(y_label_app)\n",
    "ax[2].set_yscale('log')\n",
    "ax[2].legend(loc = \"lower left\")\n",
    "\n",
    "plt.show()"
   ]
  },
  {
   "cell_type": "code",
   "execution_count": 155,
   "id": "f1623432-8f29-4675-9cf2-a1531fe07770",
   "metadata": {},
   "outputs": [
    {
     "data": {
      "text/plain": [
       "4.797268844762608"
      ]
     },
     "execution_count": 155,
     "metadata": {},
     "output_type": "execute_result"
    }
   ],
   "source": [
    "np.max(N_abs_big)/area"
   ]
  },
  {
   "cell_type": "markdown",
   "id": "eccba814-e137-463e-ae20-65b55fc5e44f",
   "metadata": {},
   "source": [
    "From here we can see that apparently DESI has less objects covered in this region than SDSS, but at the faint end DESI has more objects covered. It is not entirely clear to me, why there are less objects in DESI.  More faint objects in DESI does make totally sense, though, since DESI simply is deeper and can cover more faint objects.\n",
    "\n",
    "I think I retraced every step to be able to compare the two surves:\n",
    "- same 3D volume (redshift selection and division by area)\n",
    "- DESI coverage of the used patch should be near complete/full (it had 4 passes in this area)\n",
    "- Used the euclidean model for calculating N (only apparent magnitudes) just like in the SDSS paper\n",
    "- Used \"half a mag\" bin\n",
    "\n",
    "The last point startles me even more, since my bins in the plots look much wider than the values plotted in the SDSS paper. Maybe \"half a mag\" means something entirely different? Therefore, my numbers should be reduced even more, since my bins are wider than in the paper.\n",
    "\n",
    "Maybe I am looking at a region in the sky, which is simply less dense, but I would assume that on scales of 200square deg it should be okay.\n"
   ]
  },
  {
   "cell_type": "markdown",
   "id": "5c87e895-d40e-42cd-a6fb-b23e63e7fa59",
   "metadata": {
    "tags": []
   },
   "source": [
    "### Create the schechter model from the values given in the SDSS paper\n",
    "Schechter function variables from z-band (page 8): https://arxiv.org/pdf/0806.4930.pdf"
   ]
  },
  {
   "cell_type": "code",
   "execution_count": 156,
   "id": "d9c9596f-1abe-4bce-8318-14d982b2ceff",
   "metadata": {},
   "outputs": [],
   "source": [
    "# Schechter function variables from z-band (page 8): https://arxiv.org/pdf/0806.4930.pdf\n",
    "# the paper seems to be the right one IMO, since it uses z-band flux and SDSS data, which I think is quite similar to DESI BGS, however:\n",
    "# https://iopscience.iop.org/article/10.1088/0004-6256/149/5/171#aj511667s6 for example suggests different values, but uses the 2MASS catalog which I haven't looked at yet.\n",
    "# 2MASS (https://irsa.ipac.caltech.edu/data/2MASS/docs/releases/docs.html) observerd in J,H,K_s bands (to reduce dust extinction, but this likely explains the different values of\n",
    "# alpha = -1.0, M_K^* = -23.55 +5logh (in the k-band), but they dont provide the normalization factor N_k (or here Phi_star) \n",
    "\n",
    "from astropy.modeling.models import Schechter1D\n",
    "from astropy.modeling import models, fitting\n",
    "\n",
    "h = 1\n",
    "Phi_star = 0.89/(10**2)*h**3            # Normalization\n",
    "M_star = -21.43 - 5*np.log10(h)         # since h = 1 this is simply -21.43\n",
    "alpha = -1.26                           # slope of the power law function\n",
    "\n",
    "model = Schechter1D(Phi_star, M_star, alpha)"
   ]
  },
  {
   "cell_type": "markdown",
   "id": "12bc2d69-f8f4-428a-9a64-b562704b0a76",
   "metadata": {
    "tags": []
   },
   "source": [
    "### To-Do: Fit own model to the DESI data\n",
    "\n",
    "Here is where I am currently wondering:\n",
    "- the bins selected above are arbitrary in size, therefore their respective counts can also be scaled as I want -> What to do? (Also: if I just assume the 0.5 mag bins, I would need to ensure that a) this is right and b) I am *actually* using 0.5 mag bins, as in the SDSS papers, these have different sizes)\n",
    "- What is this SWML estimate that the SDSS paper talks about?"
   ]
  },
  {
   "cell_type": "code",
   "execution_count": 157,
   "id": "d903d9c8-f2a4-4bb7-95f3-59ea1dd74654",
   "metadata": {},
   "outputs": [],
   "source": [
    "# get model\n",
    "Schechter = models.Schechter1D()\n",
    "# set fitting algorithm\n",
    "fit_alg = fitting.LevMarLSQFitter() # only this Fitter is able to fit, all others from here: https://docs.astropy.org/en/stable/modeling/fitting.html fail\n",
    "# perform fit\n",
    "# schechter1D_fit = fit_alg(Schechter, real_mags, real_cumulated_galaxies)"
   ]
  },
  {
   "cell_type": "markdown",
   "id": "afe92a2f-af50-4697-970e-cb6b2ab5a7ea",
   "metadata": {
    "tags": []
   },
   "source": [
    "### (Just a test) Plot SDSS data by hand, model and own fit\n",
    "\n",
    "As we can see, even by just reading the values from the paper, the fit is quite close to the SDSS values"
   ]
  },
  {
   "cell_type": "code",
   "execution_count": 158,
   "id": "d3bfd7ff-7104-4afe-9abe-5b6300ffbde6",
   "metadata": {},
   "outputs": [
    {
     "name": "stdout",
     "output_type": "stream",
     "text": [
      "Model: Schechter1D\n",
      "Inputs: ('x',)\n",
      "Outputs: ('y',)\n",
      "Model set size: 1\n",
      "Parameters:\n",
      "          phi_star             m_star             alpha       \n",
      "    -------------------- ----------------- -------------------\n",
      "    0.009195535017186297 -21.5215726839982 -1.1488851314404183\n"
     ]
    },
    {
     "data": {
      "image/png": "[encoded data removed]",
      "text/plain": [
       "<Figure size 500x500 with 1 Axes>"
      ]
     },
     "metadata": {},
     "output_type": "display_data"
    }
   ],
   "source": [
    "# since the plot from the SDSS paper isnt properly reproduced with the Schechter model from above, lets plot the data here (I read the data from the plot, so not so precise)\n",
    "\n",
    "Schechter2 = models.Schechter1D()\n",
    "\n",
    "fit_alg2 = fitting.LevMarLSQFitter() # only this Fitter is able to fit, all others from here: https://docs.astropy.org/en/stable/modeling/fitting.html fail\n",
    "\n",
    "schechter1D_fit2 = fit_alg2(Schechter2, mags_SDSS, dN)\n",
    "\n",
    "print(schechter1D_fit2)\n",
    "\n",
    "model2 = Schechter1D(schechter1D_fit2.phi_star.value, schechter1D_fit2.m_star.value, schechter1D_fit2.alpha.value)\n",
    "\n",
    "fig, ax = plt.subplots(figsize=(5, 5))\n",
    "\n",
    "ax.scatter(mags_SDSS, dN, label='SDSS data by hand', marker = \"x\", color = \"orange\")\n",
    "ax.plot(center_abs_mags, schechter1D_fit2(center_abs_mags), label='Schechter fit to SDSS data', color = \"red\", linestyle = \"dashed\")\n",
    "#ax.plot(center_abs_mags, model2(center_abs_mags), label='model from own fit data', color = \"yellow\", linestyle = \"dashed\")\n",
    "ax.plot(center_abs_mags, model(center_abs_mags), label='SDSS model', color = \"green\", linestyle = \"dashed\")\n",
    "\n",
    "ax.set_xlabel(\"absolute magnitude in z-band\")\n",
    "ax.set_ylabel(\"$\\phi$ [mag$^{-1}]$\")\n",
    "ax.set_yscale('log')\n",
    "ax.set_xlim(-28, -17)\n",
    "ax.set_ylim(10**(-8),10**0)\n",
    "ax.legend(loc = \"upper left\")\n",
    "\n",
    "plt.show()"
   ]
  },
  {
   "cell_type": "markdown",
   "id": "c347b86a-26d6-4c8d-acb0-5f00fe5f5266",
   "metadata": {
    "tags": []
   },
   "source": [
    "## Calculate and compare the covered luminosity, flux & mags after N galaxies (within DESI)"
   ]
  },
  {
   "cell_type": "code",
   "execution_count": 159,
   "id": "a72f4557-275c-41d9-b6a9-e40a900ae450",
   "metadata": {},
   "outputs": [],
   "source": [
    "# first we define the luminosity funciton\n",
    "def lum(M):\n",
    "    return asc.L_bol0*np.exp(-0.4*M)/u.W"
   ]
  },
  {
   "cell_type": "code",
   "execution_count": 160,
   "id": "56db9102-1804-4b07-8c09-9387037afd31",
   "metadata": {},
   "outputs": [
    {
     "name": "stdout",
     "output_type": "stream",
     "text": [
      "1.2324801051111108e+16\n",
      "4.528975799036195e-09\n",
      "1.5698312444893473e+35\n"
     ]
    }
   ],
   "source": [
    "# However, since we only look at the z-band we need to correct the solar luminosity\n",
    "# Calculation from here: https://astronomy.stackexchange.com/questions/25126/how-to-calculate-luminosity-in-g-band-from-absolute-ab-magnitude-and-luminosity\n",
    "\n",
    "# filter data from: https://arxiv.org/pdf/1804.08657.pdf\n",
    "lmbda = 925*10**(-9) #in  m\n",
    "del_lambda = 150*10**(-9) #in m\n",
    "del_v = (asc.c*lmbda/(del_lambda**2)).value # this is in /s now\n",
    "print(del_v)\n",
    "\n",
    "m_sun = -27.74 # in z-band: http://mips.as.arizona.edu/~cnaw/sun.html\n",
    "\n",
    "f_v = 10**((-48.6-m_sun)/2.5) # in erg/(cm^2 s Hz)\n",
    "print(f_v)\n",
    "dist_sun = 1.496*10**13 # in cm\n",
    "\n",
    "L_sun_z = f_v*del_v*4*np.pi*dist_sun**2 # this is  in erg/s, convert to W in function declaration\n",
    "# the value is roughly half of the full bolometric value... not sure if this makes sense\n",
    "print(L_sun_z)\n",
    "\n",
    "def lum_z(M):\n",
    "    return L_sun_z*10**(-7)*np.exp(-0.4*M)"
   ]
  },
  {
   "cell_type": "code",
   "execution_count": 161,
   "id": "e445d5e1-8d6f-491d-a75e-40ad22bde1cc",
   "metadata": {},
   "outputs": [],
   "source": [
    "N_galaxies = 10 # number of galaxies we can look at, 10 should be possible"
   ]
  },
  {
   "cell_type": "markdown",
   "id": "6ca5171a-404f-4fd8-8927-eadf388a00e3",
   "metadata": {
    "jp-MarkdownHeadingCollapsed": true,
    "tags": []
   },
   "source": [
    "### Flux\n",
    "\n",
    "Calculating the flux is trivial: one just takes all the fluxes and sums over them (i.e. the real measured z-band flux from the DESI data) and compares them to the value one gets, if you only sum over the first N_galaxies values (by \"first\" I mean the highest values, therefore one has to sort the list)"
   ]
  },
  {
   "cell_type": "code",
   "execution_count": 162,
   "id": "d45a289e-577f-40a1-bfa4-b46e051a9a18",
   "metadata": {},
   "outputs": [],
   "source": [
    "sorted_fluxes =  np.sort(ztile_cat[\"FLUX_Z\"])[::-1]\n",
    "cov_flux = np.sum(sorted_fluxes[:N_galaxies])"
   ]
  },
  {
   "cell_type": "code",
   "execution_count": 163,
   "id": "b58d127f-54fd-4b92-a629-a9e05ea7af5c",
   "metadata": {},
   "outputs": [
    {
     "data": {
      "text/plain": [
       "3429.506"
      ]
     },
     "execution_count": 163,
     "metadata": {},
     "output_type": "execute_result"
    }
   ],
   "source": [
    "cov_flux"
   ]
  },
  {
   "cell_type": "code",
   "execution_count": 164,
   "id": "f6b4a90f-7796-4ed7-bdf8-030e0a3827e9",
   "metadata": {},
   "outputs": [],
   "source": [
    "total_flux = np.sum(sorted_fluxes) #this would of course also work with the original data"
   ]
  },
  {
   "cell_type": "code",
   "execution_count": 165,
   "id": "4663c267-778a-4917-bda7-e15388f4229a",
   "metadata": {},
   "outputs": [
    {
     "data": {
      "text/plain": [
       "61317.89"
      ]
     },
     "execution_count": 165,
     "metadata": {},
     "output_type": "execute_result"
    }
   ],
   "source": [
    "total_flux"
   ]
  },
  {
   "cell_type": "code",
   "execution_count": 166,
   "id": "9f619e17-f24c-480b-a78b-2e184e8fec1f",
   "metadata": {},
   "outputs": [
    {
     "name": "stdout",
     "output_type": "stream",
     "text": [
      "After observing 10 galaxies we can cover  5.592994391918182 % of the total flux in the search volume (comparison within DESI data)\n"
     ]
    }
   ],
   "source": [
    "print(\"After observing\", N_galaxies, \"galaxies we can cover \", cov_flux/total_flux*100, \"% of the total flux in the search volume (comparison within DESI data)\")"
   ]
  },
  {
   "cell_type": "markdown",
   "id": "ed39a120-9353-4e68-ae34-efc7dbb8a932",
   "metadata": {
    "tags": []
   },
   "source": [
    "### Magnitudes\n",
    "\n",
    "Calculating the covered magnitudes is not really hard either: First get the magnitude range, which is covered within N_galaxies. This magnitude range is then compared to the total magnitude range. This is not scaled with the number (i.e. \"density\") in each bin, i.e.this calculation really just compares: covered range/total range"
   ]
  },
  {
   "cell_type": "code",
   "execution_count": 167,
   "id": "a8740ec6-8a4d-43c8-945d-a0cde1bc2bcd",
   "metadata": {},
   "outputs": [],
   "source": [
    "N_app_cum = np.cumsum(N_app)\n",
    "N_abs_cum = np.cumsum(N_abs)"
   ]
  },
  {
   "cell_type": "code",
   "execution_count": 168,
   "id": "c123b7fa-d21c-4d76-b777-34721e86bf3f",
   "metadata": {},
   "outputs": [
    {
     "data": {
      "text/plain": [
       "array([1, 1, 1, 1, 1, 1, 1, 1, 1, 1, 1, 1, 1, 1, 1, 1, 1, 1, 1, 1])"
      ]
     },
     "execution_count": 168,
     "metadata": {},
     "output_type": "execute_result"
    }
   ],
   "source": [
    "N_abs_cum[:20]"
   ]
  },
  {
   "cell_type": "code",
   "execution_count": 169,
   "id": "16e83bb4-5a37-49c1-af8f-12d966b825ba",
   "metadata": {},
   "outputs": [],
   "source": [
    "app_mag_cutoff_index = len(N_app_cum[N_app_cum<=N_galaxies])\n",
    "abs_mag_cutoff_index = len(N_abs_cum[N_abs_cum<=N_galaxies])"
   ]
  },
  {
   "cell_type": "code",
   "execution_count": 170,
   "id": "535fd7fa-620e-437a-8f8f-2ab5f3938f00",
   "metadata": {},
   "outputs": [
    {
     "data": {
      "text/plain": [
       "(79, 86)"
      ]
     },
     "execution_count": 170,
     "metadata": {},
     "output_type": "execute_result"
    }
   ],
   "source": [
    "app_mag_cutoff_index,  abs_mag_cutoff_index"
   ]
  },
  {
   "cell_type": "code",
   "execution_count": 171,
   "id": "0602c81a-baf2-4f94-8224-1c0d0800f2d4",
   "metadata": {},
   "outputs": [],
   "source": [
    "app_mag_sorted = np.sort(app_mag)\n",
    "abs_mag_sorted = np.sort(abs_mag)"
   ]
  },
  {
   "cell_type": "code",
   "execution_count": 172,
   "id": "eb47705d-6ab7-441a-b73d-1b6c6d0e2750",
   "metadata": {},
   "outputs": [
    {
     "data": {
      "text/plain": [
       "array([-24.43047525, -23.8327733 , -23.78133341, -23.75572178,\n",
       "       -23.75238375])"
      ]
     },
     "execution_count": 172,
     "metadata": {},
     "output_type": "execute_result"
    }
   ],
   "source": [
    "abs_mag_sorted[:5]"
   ]
  },
  {
   "cell_type": "code",
   "execution_count": 173,
   "id": "f6a3fe70-e308-49b6-ba4e-9b555b3f5264",
   "metadata": {},
   "outputs": [],
   "source": [
    "cov_app_mag_rng = app_mag_sorted[app_mag_cutoff_index]-lower_limit_app\n",
    "cov_abs_mag_rng = abs_mag_sorted[abs_mag_cutoff_index]-lower_limit_abs"
   ]
  },
  {
   "cell_type": "code",
   "execution_count": 174,
   "id": "3630a6be-b9c8-4f34-819d-53aa7b8fc59f",
   "metadata": {},
   "outputs": [],
   "source": [
    "tot_app_mag_rng = upper_limit_app-lower_limit_app\n",
    "tot_abs_mag_rng = upper_limit_app-lower_limit_app"
   ]
  },
  {
   "cell_type": "code",
   "execution_count": 175,
   "id": "6f61e1cb-3958-4e68-85ab-27c592cf56d1",
   "metadata": {},
   "outputs": [
    {
     "name": "stdout",
     "output_type": "stream",
     "text": [
      "After observing 10 galaxies we can cover  36.1774446230303 % of the total apparent magnitude in the search volume (comparison within DESI data)\n",
      "After observing 10 galaxies we can cover  38.28480616502243 % of the total absolute magnitude in the search volume (comparison within DESI data)\n"
     ]
    }
   ],
   "source": [
    "print(\"After observing\", N_galaxies, \"galaxies we can cover \", cov_app_mag_rng/tot_app_mag_rng*100, \"% of the total apparent magnitude in the search volume (comparison within DESI data)\")\n",
    "print(\"After observing\", N_galaxies, \"galaxies we can cover \", cov_abs_mag_rng/tot_abs_mag_rng*100, \"% of the total absolute magnitude in the search volume (comparison within DESI data)\")"
   ]
  },
  {
   "cell_type": "markdown",
   "id": "6a07eb88-0988-4f46-875e-9b7fee4ee9dc",
   "metadata": {
    "tags": []
   },
   "source": [
    "### Luminosity\n",
    "\n",
    "- The first step is to calculate luminosity: $$ L = L_0 10^{-0.4*M_{Bol}}$$\n",
    "Now this refers to the bolometric value. Technically, this is incorrect and one would have to calculate this for the z-band seperately, but since I am only working with z-band magnitudes and the relative comparison should be unaffected, since the only change occurs in the L_0 constant.\n",
    "I did write code to adapt for this, but not completely sure, if this is right.\n",
    "\n",
    "- Sum the covered luminosity\n",
    "- Divide by total lum\n",
    "- -> result\n"
   ]
  },
  {
   "cell_type": "code",
   "execution_count": 176,
   "id": "c6015168-92f5-407c-9620-4aa89688e8b5",
   "metadata": {},
   "outputs": [],
   "source": [
    "# first we define the luminosity funciton.\n",
    "def lum(M):\n",
    "    return asc.L_bol0*np.exp(-0.4*M)"
   ]
  },
  {
   "cell_type": "code",
   "execution_count": 177,
   "id": "935ee2ff-8637-4b7b-90cf-8c0c7d6250ae",
   "metadata": {},
   "outputs": [
    {
     "name": "stdout",
     "output_type": "stream",
     "text": [
      "1.2324801051111108e+16\n",
      "4.528975799036195e-09\n",
      "1.5698312444893473e+35\n"
     ]
    }
   ],
   "source": [
    "# However, since we only look at the z-band we need to correct the solar luminosity\n",
    "# Calculation from here: https://astronomy.stackexchange.com/questions/25126/how-to-calculate-luminosity-in-g-band-from-absolute-ab-magnitude-and-luminosity\n",
    "lmbda = 925*10**(-9) #in  m\n",
    "del_lambda = 150*10**(-9) #in m\n",
    "del_v = (asc.c*lmbda/(del_lambda**2)).value # this is in /s now\n",
    "print(del_v)\n",
    "\n",
    "m_sun = -27.74 # in z-band: http://mips.as.arizona.edu/~cnaw/sun.html\n",
    "\n",
    "f_v = 10**((-48.6-m_sun)/2.5) # in erg/(cm^2 s Hz)\n",
    "print(f_v)\n",
    "dist_sun = 1.496*10**13 # in cm\n",
    "\n",
    "L_sun_z = f_v*del_v*4*np.pi*dist_sun**2 # this is  in erg/s, convert to W in function declaration\n",
    "# the value is roughly half of the full bolometric value... not sure if this makes sense\n",
    "print(L_sun_z)\n",
    "\n",
    "def lum_z(M):\n",
    "    return L_sun_z*10**(-7)*np.exp(-0.4*M)*u.W"
   ]
  },
  {
   "cell_type": "code",
   "execution_count": 230,
   "id": "acc120d9-f5bd-4079-a3fb-6a6751b07227",
   "metadata": {},
   "outputs": [],
   "source": [
    "# now calculate the luminosity of each galaxy\n",
    "\n",
    "lums = [lum_z(abs_mag[q]).value for q in range(len(abs_mag))]"
   ]
  },
  {
   "cell_type": "code",
   "execution_count": 231,
   "id": "e46d2a4c-05ca-43ea-8782-d398e3380580",
   "metadata": {},
   "outputs": [],
   "source": [
    "lums = np.sort(lums)"
   ]
  },
  {
   "cell_type": "code",
   "execution_count": 232,
   "id": "7af69277-1c59-461d-a0b3-e76dc2569ca0",
   "metadata": {},
   "outputs": [],
   "source": [
    "lums = lums[::-1]"
   ]
  },
  {
   "cell_type": "code",
   "execution_count": 233,
   "id": "591cc211-8b00-4138-abae-34731c1cd96b",
   "metadata": {},
   "outputs": [
    {
     "data": {
      "text/plain": [
       "array([2.75334863e+32, 2.16785256e+32, 2.12370269e+32, 2.10205716e+32,\n",
       "       2.09925234e+32])"
      ]
     },
     "execution_count": 233,
     "metadata": {},
     "output_type": "execute_result"
    }
   ],
   "source": [
    "lums[:5]"
   ]
  },
  {
   "cell_type": "code",
   "execution_count": 234,
   "id": "e1ba4c63-bbdb-4400-915e-eefbdd6c6b34",
   "metadata": {},
   "outputs": [
    {
     "data": {
      "text/plain": [
       "(997, 997)"
      ]
     },
     "execution_count": 234,
     "metadata": {},
     "output_type": "execute_result"
    }
   ],
   "source": [
    "len(lums), len(abs_mag)"
   ]
  },
  {
   "cell_type": "code",
   "execution_count": 235,
   "id": "9bd0b033-d19c-4446-adee-abc71059ed56",
   "metadata": {},
   "outputs": [
    {
     "data": {
      "text/plain": [
       "(array([2.75334863e+32, 2.16785256e+32, 2.12370269e+32, 2.10205716e+32,\n",
       "        2.09925234e+32]),\n",
       " 997)"
      ]
     },
     "execution_count": 235,
     "metadata": {},
     "output_type": "execute_result"
    }
   ],
   "source": [
    "lums[:5], len(lums)"
   ]
  },
  {
   "cell_type": "code",
   "execution_count": 236,
   "id": "b3b277f3-440d-4a0c-ad09-c8cf414d6ee0",
   "metadata": {},
   "outputs": [],
   "source": [
    "tot_lums = np.sum(lums)\n",
    "cov_lums = np.sum(lums[:N_galaxies])"
   ]
  },
  {
   "cell_type": "code",
   "execution_count": 237,
   "id": "14ba10cb-be69-4f69-ae8e-12559d98be8f",
   "metadata": {},
   "outputs": [
    {
     "data": {
      "text/plain": [
       "(9.513562410878258e+34, 2.1178801482385538e+33)"
      ]
     },
     "execution_count": 237,
     "metadata": {},
     "output_type": "execute_result"
    }
   ],
   "source": [
    "tot_lums, cov_lums"
   ]
  },
  {
   "cell_type": "code",
   "execution_count": 238,
   "id": "1a03f06e-7552-4714-b7fc-308f9a3dfa03",
   "metadata": {},
   "outputs": [
    {
     "name": "stdout",
     "output_type": "stream",
     "text": [
      "After observing 10 galaxies we can cover  2.226169395616588 % of the total luminosity in the search volume (comparison within DESI data)\n",
      "\n",
      "The total luminosity in this volume is:  9.513562410878258e+34\n",
      "We should be able to cover this amount of luminosity:  2.1178801482385538e+33\n",
      "The cutoff was at luminosity:  1.4259136481489546e+32 while the max/min luminosity is:  2.7533486328614285e+32 and 4.506088407879809e+31\n"
     ]
    }
   ],
   "source": [
    "print(\"After observing\", N_galaxies, \"galaxies we can cover \", cov_lums/tot_lums*100, \"% of the total luminosity in the search volume (comparison within DESI data)\")\n",
    "print()\n",
    "print(\"The total luminosity in this volume is: \", tot_lums)\n",
    "print(\"We should be able to cover this amount of luminosity: \", cov_lums)\n",
    "print(\"The cutoff was at luminosity: \", lums[abs_mag_cutoff_index], \"while the max/min luminosity is: \", np.max(lums),\"and\", np.min(lums))"
   ]
  },
  {
   "cell_type": "markdown",
   "id": "58561e2a-f981-4c83-bdc5-ad509e9fba96",
   "metadata": {},
   "source": [
    "### Plot luminosity progress"
   ]
  },
  {
   "cell_type": "code",
   "execution_count": 276,
   "id": "4df22947-15b5-491f-8bfb-6ba09e79295e",
   "metadata": {},
   "outputs": [],
   "source": [
    "N_observed = np.arange(1,25)"
   ]
  },
  {
   "cell_type": "code",
   "execution_count": 247,
   "id": "0e0e1044-2c4f-4442-9d31-66bef3b99dea",
   "metadata": {},
   "outputs": [
    {
     "data": {
      "text/plain": [
       "array([1, 2, 3, 4, 5, 6, 7, 8, 9])"
      ]
     },
     "execution_count": 247,
     "metadata": {},
     "output_type": "execute_result"
    }
   ],
   "source": [
    "N_observed"
   ]
  },
  {
   "cell_type": "code",
   "execution_count": 277,
   "id": "bb5f1a13-1f9c-4a71-a356-6be7c9812782",
   "metadata": {},
   "outputs": [],
   "source": [
    "cov_lums_N = [np.sum(lums[:N_observed[q]]) for q in range(len(N_observed))]"
   ]
  },
  {
   "cell_type": "code",
   "execution_count": 250,
   "id": "25b90a5e-534e-4364-bf4c-c2326d2c152e",
   "metadata": {},
   "outputs": [
    {
     "data": {
      "text/plain": [
       "[2.7533486328614285e+32,\n",
       " 4.921201188938063e+32,\n",
       " 7.0449038794371e+32,\n",
       " 9.146961041536841e+32,\n",
       " 1.1246213384030225e+33]"
      ]
     },
     "execution_count": 250,
     "metadata": {},
     "output_type": "execute_result"
    }
   ],
   "source": [
    "cov_lums_N[:5]"
   ]
  },
  {
   "cell_type": "code",
   "execution_count": 281,
   "id": "3953f198-6e9f-4acd-809a-f92ab3c00935",
   "metadata": {},
   "outputs": [
    {
     "data": {
      "image/png": "[encoded data removed]",
      "text/plain": [
       "<Figure size 1000x500 with 1 Axes>"
      ]
     },
     "metadata": {},
     "output_type": "display_data"
    }
   ],
   "source": [
    "\"\"\"\n",
    "Explanation of this plot:\n",
    "\n",
    "We want to estimate the amount of luminosity that we can cover after N observed galaxies within a certain 3D volume. This will be helpful e.g. for LIGO follow-up observations, since the LIGO\n",
    "team will publish a 3D localization map of a GW-event. From there we take the 90% credible region and get all DESI observed galaxies in this volume. This plot now simply shows the percentage\n",
    "of observed luminosity after one has observed the N most luminous galaxies compared to the total luminosity in this 3D volume. In future this should of course not be a comparison within DESI\n",
    "data, but instead one needs to apply an incompleteness correction (e.g. 1/V_max, STY, SWML) to correct for missed galaxies in the sample. These numbers of course also heavily depend on the\n",
    "3D localization by DESI. This data shown was extracted from Superevent S200311bg, which had a 90% credible sky region of roughly 50deg^2, and a mean distance of 924Mpc with an error of\n",
    "188Mpc (z ~ 0.19).\n",
    "\n",
    "\"\"\"\n",
    "\n",
    "fig, ax = plt.subplots(figsize = (10,5))\n",
    "\n",
    "ax.bar(N_observed, cov_lums_N/tot_lums*100, label = \"\")\n",
    "ax.set_xlabel(\"Number of observed Galaxies\")\n",
    "ax.set_ylabel(\"Covered Luminosity in %\")\n",
    "\n",
    "ax.set_yscale('log')\n",
    "\n",
    "plt.title(\"How much Luminosity is covered after N observed galaxies?\")\n",
    "plt.savefig(\"GW_plot\", dpi = 600)\n",
    "plt.show()"
   ]
  },
  {
   "cell_type": "markdown",
   "id": "30cd4015-24e3-4731-8e14-8e355d3d8b4f",
   "metadata": {
    "jp-MarkdownHeadingCollapsed": true,
    "tags": []
   },
   "source": [
    "### Plotting luminosities\n",
    "\n",
    "Plot the number densities depending of their luminosites:\n",
    "- count objects in luminosity bins"
   ]
  },
  {
   "cell_type": "code",
   "execution_count": 184,
   "id": "14f155b1-4476-4455-a278-2dd994a5c771",
   "metadata": {},
   "outputs": [],
   "source": [
    "lower_limit_lum = np.min(lums)\n",
    "upper_limit_lum = np.max(lums)\n",
    "num_of_bins_lum = int( (upper_limit_lum-lower_limit_lum)/lower_limit_lum )"
   ]
  },
  {
   "cell_type": "code",
   "execution_count": 185,
   "id": "6a30d126-9cbb-4dfd-844c-3b0b2da3a4ee",
   "metadata": {},
   "outputs": [
    {
     "data": {
      "text/plain": [
       "(5, 4.506088407879809e+31, 2.7533486328614285e+32)"
      ]
     },
     "execution_count": 185,
     "metadata": {},
     "output_type": "execute_result"
    }
   ],
   "source": [
    "num_of_bins_lum, lower_limit_lum, upper_limit_lum"
   ]
  },
  {
   "cell_type": "code",
   "execution_count": 186,
   "id": "afddefe3-c334-49f7-8c1c-0f83cc76c849",
   "metadata": {},
   "outputs": [
    {
     "data": {
      "text/plain": [
       "array([533, 359,  87,  17,   1])"
      ]
     },
     "execution_count": 186,
     "metadata": {},
     "output_type": "execute_result"
    }
   ],
   "source": [
    "N_lum, lums_binned = np.histogram(lums, bins = num_of_bins_lum, range = (lower_limit_lum, upper_limit_lum))\n",
    "N_lum[:10]"
   ]
  },
  {
   "cell_type": "code",
   "execution_count": 187,
   "id": "1238cecc-3069-49e8-a2e2-ab23c42e4186",
   "metadata": {},
   "outputs": [
    {
     "data": {
      "image/png": "[encoded data removed]",
      "text/plain": [
       "<Figure size 1500x500 with 1 Axes>"
      ]
     },
     "metadata": {},
     "output_type": "display_data"
    }
   ],
   "source": [
    "fig, ax = plt.subplots(figsize=(15, 5))\n",
    "\n",
    "width_lums = 0.7 * (lums_binned[1] - lums_binned[0])\n",
    "center_lums = (lums_binned[:-1] + lums_binned[1:])/2\n",
    "\n",
    "ax.bar(center_lums, N_lum,  align = \"center\", width = width_lums, label = \"total number of galaxies per z-band luminosity\")\n",
    "ax.bar(center_lums, N_lum/area,  align = \"center\", width = width_lums, label = \"normalized number of galaxies per z-band luminosity (per square deg)\")\n",
    "\n",
    "ax.set_xlabel(\"luminosity in z-band [W])\")\n",
    "y_label_abs = \"N in \" + str(width_lums) + \"W width bins\"\n",
    "ax.set_ylabel(y_label_abs)\n",
    "ax.set_yscale('log')\n",
    "#ax.set_xscale('log')\n",
    "ax.set_xlim(lower_limit_lum, upper_limit_lum)\n",
    "ax.legend(loc = \"upper right\")\n",
    "\n",
    "plt.show()"
   ]
  },
  {
   "cell_type": "markdown",
   "id": "8e29ddc2-1a9c-497a-bad9-af9f7725be8d",
   "metadata": {
    "tags": []
   },
   "source": [
    "# Calculate the covered luminosity after N galaxies (compared to \"the universe\")"
   ]
  },
  {
   "cell_type": "markdown",
   "id": "79a58e90-ede6-492b-9248-4dae9688b895",
   "metadata": {
    "tags": []
   },
   "source": [
    "# Calculate the covered luminosity after N galaxies (compared to own \"universal\" schechter fit)\n",
    "\n",
    "This right now is a real problem, since I do not yet have this \"universal\" schechter function. Neither my own fit or the fit from the mentioned SDSS paper seem to agree that well and I think my region is large enough to actually get a meaningful result. Therefore I will try to create my own values, by simply taking the DESI data and using the whole available dataset. So we do a similar selection process as above and from there fit the schechter function."
   ]
  },
  {
   "cell_type": "code",
   "execution_count": 188,
   "id": "f4232f3a-110e-463d-96e0-74faa25f0583",
   "metadata": {},
   "outputs": [
    {
     "ename": "NameError",
     "evalue": "name 'ztile_unm' is not defined",
     "output_type": "error",
     "traceback": [
      "\u001b[0;31m---------------------------------------------------------------------------\u001b[0m",
      "\u001b[0;31mNameError\u001b[0m                                 Traceback (most recent call last)",
      "Cell \u001b[0;32mIn[188], line 1\u001b[0m\n\u001b[0;32m----> 1\u001b[0m ztile_full \u001b[38;5;241m=\u001b[39m \u001b[43mztile_unm\u001b[49m\u001b[38;5;241m.\u001b[39mcopy()\n",
      "\u001b[0;31mNameError\u001b[0m: name 'ztile_unm' is not defined"
     ]
    }
   ],
   "source": [
    "ztile_full = ztile_unm.copy()"
   ]
  },
  {
   "cell_type": "code",
   "execution_count": null,
   "id": "feedbda4-3202-4c29-8107-0fcca1b1f118",
   "metadata": {},
   "outputs": [],
   "source": [
    "ztile_full.keep_columns(['TARGETID', 'SURVEY', 'PROGRAM', 'Z', 'ZERR', 'ZWARN', 'TARGET_RA', 'TARGET_DEC', 'FLUX_Z'])"
   ]
  },
  {
   "cell_type": "code",
   "execution_count": null,
   "id": "92f81d5e-77e9-4bf5-8a32-e2d4b8bb6d93",
   "metadata": {},
   "outputs": [],
   "source": [
    "ztile_full = ztile_full[ztile_full['ZWARN']==0]"
   ]
  },
  {
   "cell_type": "code",
   "execution_count": null,
   "id": "682f1341-5132-4a6b-b33f-025c612eedbc",
   "metadata": {},
   "outputs": [],
   "source": [
    "ztile_full = ztile_full[(ztile_full['Z']>= 0)]"
   ]
  },
  {
   "cell_type": "code",
   "execution_count": null,
   "id": "bb8096d3-99a1-4f64-814d-a2963d94c148",
   "metadata": {},
   "outputs": [],
   "source": [
    "ztile_full = ztile_full[ztile_full[\"FLUX_Z\"] > 0.0]"
   ]
  },
  {
   "cell_type": "code",
   "execution_count": null,
   "id": "3714f33d-17f3-49ae-a901-15dad4ef3700",
   "metadata": {},
   "outputs": [],
   "source": [
    "len(ztile_full)"
   ]
  },
  {
   "cell_type": "code",
   "execution_count": null,
   "id": "4cb1ca8f-6048-44a3-849f-7093c429ba8a",
   "metadata": {},
   "outputs": [],
   "source": [
    "full_abs_mag = [(22.5-2.5*np.log10(ztile_full[\"FLUX_Z\"][q]) - 5*np.log10(Distance(z=ztile_full[\"Z\"][q], cosmology=Planck18)/u.Mpc*10**6)+5).value for q in range(len(ztile_full[\"FLUX_Z\"]))]"
   ]
  },
  {
   "cell_type": "code",
   "execution_count": null,
   "id": "08f06ed5-b3b9-4684-a977-1b8142f89f5e",
   "metadata": {},
   "outputs": [],
   "source": [
    "full_abs_mags = np.sort(full_abs_mags)"
   ]
  },
  {
   "cell_type": "code",
   "execution_count": null,
   "id": "c01c5f73-73f7-44c8-8f54-f79627406b25",
   "metadata": {},
   "outputs": [],
   "source": [
    "full_cumulated_galaxies = np.arange(1,len(full_abs_mags)-1, 1)"
   ]
  },
  {
   "cell_type": "code",
   "execution_count": null,
   "id": "36d4419f-29e1-4b81-bba7-8f93fb658bd5",
   "metadata": {},
   "outputs": [],
   "source": [
    "# fit the model\n",
    "\n",
    "schechter1D_full_fit = fit_alg(Schechter1D, full_abs_mags, real_cumulated_galaxies)"
   ]
  }
 ],
 "metadata": {
  "kernelspec": {
   "display_name": "DESI 23.1",
   "language": "python",
   "name": "desi-23.1"
  },
  "language_info": {
   "codemirror_mode": {
    "name": "ipython",
    "version": 3
   },
   "file_extension": ".py",
   "mimetype": "text/x-python",
   "name": "python",
   "nbconvert_exporter": "python",
   "pygments_lexer": "ipython3",
   "version": "3.10.8"
  }
 },
 "nbformat": 4,
 "nbformat_minor": 5
}
