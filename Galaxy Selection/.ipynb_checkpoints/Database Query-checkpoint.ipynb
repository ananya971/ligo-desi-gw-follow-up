{
 "cells": [
  {
   "cell_type": "markdown",
   "id": "e07dca0b-4d99-4873-99b7-d8c6e377e2d6",
   "metadata": {},
   "source": [
    "# Database Query\n",
    "\n",
    "This code is supposed to download the data from the DESI database daily and store relevant information in a fits file. For now I just query the data once and then put it in a fits file. From there, one could load the data, download all the data from the database and only add whats new on a daily basis."
   ]
  },
  {
   "cell_type": "code",
   "execution_count": 1,
   "id": "c5ef3c7a-9053-40dc-9bea-b535aa3de3f2",
   "metadata": {},
   "outputs": [],
   "source": [
    "from astropy.io import fits\n",
    "from astropy.table import Table, hstack, vstack\n",
    "from astropy import table\n",
    "\n",
    "import numpy as np\n",
    "\n",
    "import gasel as gs\n",
    "\n",
    "from tqdm import tqdm\n",
    "from astropy.io import ascii\n"
   ]
  },
  {
   "cell_type": "code",
   "execution_count": 2,
   "id": "e864b788-aa5b-4342-96bc-db068425e9b8",
   "metadata": {},
   "outputs": [],
   "source": [
    "# connect to db\n",
    "cursor = gs.connect_to_time_db()"
   ]
  },
  {
   "cell_type": "code",
   "execution_count": 3,
   "id": "c2230193-e8e6-435b-be2d-e56bee37161d",
   "metadata": {},
   "outputs": [],
   "source": [
    "diameter = 4"
   ]
  },
  {
   "cell_type": "code",
   "execution_count": 4,
   "id": "ff04700a-779c-4b4d-abc4-a74c1d8a94a6",
   "metadata": {},
   "outputs": [
    {
     "name": "stderr",
     "output_type": "stream",
     "text": [
      "100%|██████████| 93/93 [28:54<00:00, 18.65s/it]\n"
     ]
    },
    {
     "data": {
      "text/html": [
       "<div><i>Table length=5</i>\n",
       "<table id=\"table140469301950496\" class=\"table-striped table-bordered table-condensed\">\n",
       "<thead><tr><th>TARGETID</th><th>TARGET_RA</th><th>TARGET_DEC</th><th>LASTNIGHT</th><th>Z</th><th>ZERR</th><th>ZWARN</th><th>FLUX_G</th><th>FLUX_R</th><th>FLUX_Z</th><th>SPECTYPE</th><th>BGS_TARGET</th><th>EBV</th><th>SERSIC</th></tr></thead>\n",
       "<thead><tr><th>int64</th><th>float64</th><th>float64</th><th>int64</th><th>float64</th><th>float64</th><th>int64</th><th>float64</th><th>float64</th><th>float64</th><th>str6</th><th>int64</th><th>float64</th><th>float64</th></tr></thead>\n",
       "<tr><td>39627461389979471</td><td>0.199208396611172</td><td>-13.4284533588966</td><td>20211020</td><td>0.0842981615211128</td><td>1.02751859803205e-05</td><td>0</td><td>349.176239013672</td><td>151.578369140625</td><td>657.703186035156</td><td>GALAXY</td><td>131074</td><td>0.0286298077553511</td><td>1.75290405750275</td></tr>\n",
       "<tr><td>39627461394171068</td><td>0.324188154725867</td><td>-13.3757445122443</td><td>20211020</td><td>0.358443849991424</td><td>6.26159169498368e-05</td><td>0</td><td>15.7543725967407</td><td>3.10386729240417</td><td>35.017635345459</td><td>GALAXY</td><td>131074</td><td>0.0287617538124323</td><td>4.0</td></tr>\n",
       "<tr><td>39627461394173293</td><td>0.423061498719655</td><td>-13.3821980272798</td><td>20211020</td><td>7.96335573109056e-06</td><td>2.72051014406708e-06</td><td>0</td><td>58.3771476745605</td><td>25.3495140075684</td><td>91.9729995727539</td><td>STAR</td><td>0</td><td>0.0290689337998629</td><td>0.0</td></tr>\n",
       "<tr><td>39627467278778997</td><td>0.54074701108748</td><td>-13.1672162663649</td><td>20211020</td><td>0.368523065341714</td><td>2.55883523529775e-05</td><td>0</td><td>15.623589515686</td><td>5.02074289321899</td><td>32.4087829589844</td><td>GALAXY</td><td>131074</td><td>0.0333173200488091</td><td>1.0</td></tr>\n",
       "<tr><td>616088219582202155</td><td>0.626179874156068</td><td>-13.3202664780153</td><td>20211020</td><td>0.187326155709928</td><td>7.97282091423762e-06</td><td>1</td><td>0.0</td><td>0.0</td><td>0.0</td><td>GALAXY</td><td>0</td><td>0.0</td><td>0.0</td></tr>\n",
       "</table></div>"
      ],
      "text/plain": [
       "<Table length=5>\n",
       "     TARGETID          TARGET_RA     ...        EBV              SERSIC     \n",
       "      int64             float64      ...      float64           float64     \n",
       "------------------ ----------------- ... ------------------ ----------------\n",
       " 39627461389979471 0.199208396611172 ... 0.0286298077553511 1.75290405750275\n",
       " 39627461394171068 0.324188154725867 ... 0.0287617538124323              4.0\n",
       " 39627461394173293 0.423061498719655 ... 0.0290689337998629              0.0\n",
       " 39627467278778997  0.54074701108748 ... 0.0333173200488091              1.0\n",
       "616088219582202155 0.626179874156068 ...                0.0              0.0"
      ]
     },
     "execution_count": 4,
     "metadata": {},
     "output_type": "execute_result"
    }
   ],
   "source": [
    "full_data = []\n",
    "\n",
    "for x in tqdm(np.arange(0, 370, diameter)): # could improve this since 0 = 360... (was 370)\n",
    "    #print(\"x: \", x)\n",
    "    for y in np.arange(-20, 90, diameter): # (was 100)\n",
    "        #print(\"x & y\", x,y)\n",
    "        #print(y)\n",
    "        rows = gs.get_data_rad_search(x,y, diameter/2, cursor)\n",
    "        #data = gs.make_list(rows)\n",
    "        #print(rows[:2])\n",
    "        if rows != None:\n",
    "            #print(f\"data {len(rows)}\")\n",
    "            #print(full_data)\n",
    "            #print(data)\n",
    "            #print(rows[:2])\n",
    "            for obj in rows:\n",
    "                \n",
    "                full_data.append(obj)\n",
    "        \n",
    "full_table = Table(rows = full_data, names = gs.std_names)\n",
    "\n",
    "\n",
    "full_table[:5]"
   ]
  },
  {
   "cell_type": "code",
   "execution_count": 5,
   "id": "287babc9-a644-44eb-b6e3-2e47e95cc4da",
   "metadata": {},
   "outputs": [
    {
     "data": {
      "text/plain": [
       "56232189"
      ]
     },
     "execution_count": 5,
     "metadata": {},
     "output_type": "execute_result"
    }
   ],
   "source": [
    "len(full_data)"
   ]
  },
  {
   "cell_type": "code",
   "execution_count": 6,
   "id": "e2594638-581d-4bb5-abc2-871ef00c1e3e",
   "metadata": {},
   "outputs": [],
   "source": [
    "full_table.write('/global/homes/j/jgassert/full_table.ecsv', overwrite=True)  "
   ]
  },
  {
   "cell_type": "code",
   "execution_count": 4,
   "id": "74ed329a-f5a3-41b5-bae1-15fadab5bc0f",
   "metadata": {},
   "outputs": [
    {
     "name": "stderr",
     "output_type": "stream",
     "text": [
      "100%|██████████| 92/92 [27:34<00:00, 17.99s/it]\n"
     ]
    }
   ],
   "source": [
    "full_data2 = []\n",
    "\n",
    "for x in tqdm(np.arange(2, 368, diameter)): # (was 360)\n",
    "    #print(\"x: \", x)\n",
    "    for y in np.arange(-18, 86, diameter): # (was 90)\n",
    "        #print(\"x & y\", x,y)\n",
    "        #print(y)\n",
    "        rows2 = gs.get_data_rad_search(x,y, diameter/2, cursor)\n",
    "        #data = gs.make_list(rows)\n",
    "        #print(rows[:2])\n",
    "        if rows2 != None:\n",
    "            #print(f\"data {len(rows)}\")\n",
    "            #print(full_data)\n",
    "            #print(data)\n",
    "            #print(rows[:2])\n",
    "            for obj2 in rows2:\n",
    "                \n",
    "                full_data2.append(obj2)"
   ]
  },
  {
   "cell_type": "code",
   "execution_count": 5,
   "id": "1b99cc41-033b-4bb2-81c6-777f5e0a3475",
   "metadata": {},
   "outputs": [],
   "source": [
    "full_table2 = Table(rows = full_data2, names = gs.std_names)"
   ]
  },
  {
   "cell_type": "code",
   "execution_count": 6,
   "id": "f178c01f-6f29-46bc-9dbf-489410e3a195",
   "metadata": {},
   "outputs": [
    {
     "data": {
      "text/plain": [
       "55860834"
      ]
     },
     "execution_count": 6,
     "metadata": {},
     "output_type": "execute_result"
    }
   ],
   "source": [
    "len(full_table2)"
   ]
  },
  {
   "cell_type": "code",
   "execution_count": 7,
   "id": "09cc8173-b0cb-4447-b691-8e2204f102e7",
   "metadata": {},
   "outputs": [],
   "source": [
    "full_table2.write('/global/homes/j/jgassert/full_table2.ecsv', overwrite=True)  "
   ]
  },
  {
   "cell_type": "code",
   "execution_count": null,
   "id": "680c21ae-0678-4c9e-9884-fde2bcf98436",
   "metadata": {},
   "outputs": [],
   "source": [
    "from astropy.io import ascii\n",
    "full_table = ascii.read(\"/global/homes/j/jgassert/full_table.ecsv\")"
   ]
  },
  {
   "cell_type": "code",
   "execution_count": 6,
   "id": "ba5710dc-313b-4e63-bad0-1ffec76a3ab6",
   "metadata": {},
   "outputs": [
    {
     "data": {
      "text/html": [
       "<div><i>Table length=5</i>\n",
       "<table id=\"table140241802572128\" class=\"table-striped table-bordered table-condensed\">\n",
       "<thead><tr><th>TARGETID</th><th>TARGET_RA</th><th>TARGET_DEC</th><th>LASTNIGHT</th><th>Z</th><th>ZERR</th><th>ZWARN</th><th>FLUX_G</th><th>FLUX_R</th><th>FLUX_Z</th><th>SPECTYPE</th><th>BGS_TARGET</th><th>EBV</th><th>SERSIC</th></tr></thead>\n",
       "<thead><tr><th>int64</th><th>float64</th><th>float64</th><th>int64</th><th>float64</th><th>float64</th><th>int64</th><th>float64</th><th>float64</th><th>float64</th><th>str6</th><th>int64</th><th>float64</th><th>float64</th></tr></thead>\n",
       "<tr><td>39627461389979471</td><td>0.199208396611172</td><td>-13.4284533588966</td><td>20211020</td><td>0.0842981615211128</td><td>1.02751859803205e-05</td><td>0</td><td>349.176239013672</td><td>151.578369140625</td><td>657.703186035156</td><td>GALAXY</td><td>131074</td><td>0.0286298077553511</td><td>1.75290405750275</td></tr>\n",
       "<tr><td>39627461394171068</td><td>0.324188154725867</td><td>-13.3757445122443</td><td>20211020</td><td>0.358443849991424</td><td>6.26159169498368e-05</td><td>0</td><td>15.7543725967407</td><td>3.10386729240417</td><td>35.017635345459</td><td>GALAXY</td><td>131074</td><td>0.0287617538124323</td><td>4.0</td></tr>\n",
       "<tr><td>39627461394173293</td><td>0.423061498719655</td><td>-13.3821980272798</td><td>20211020</td><td>7.96335573109056e-06</td><td>2.72051014406708e-06</td><td>0</td><td>58.3771476745605</td><td>25.3495140075684</td><td>91.9729995727539</td><td>STAR</td><td>0</td><td>0.0290689337998629</td><td>0.0</td></tr>\n",
       "<tr><td>39627467278778997</td><td>0.54074701108748</td><td>-13.1672162663649</td><td>20211020</td><td>0.368523065341714</td><td>2.55883523529775e-05</td><td>0</td><td>15.623589515686</td><td>5.02074289321899</td><td>32.4087829589844</td><td>GALAXY</td><td>131074</td><td>0.0333173200488091</td><td>1.0</td></tr>\n",
       "<tr><td>616088219582202155</td><td>0.626179874156068</td><td>-13.3202664780153</td><td>20211020</td><td>0.187326155709928</td><td>7.97282091423762e-06</td><td>1</td><td>0.0</td><td>0.0</td><td>0.0</td><td>GALAXY</td><td>0</td><td>0.0</td><td>0.0</td></tr>\n",
       "</table></div>"
      ],
      "text/plain": [
       "<Table length=5>\n",
       "     TARGETID          TARGET_RA     ...        EBV              SERSIC     \n",
       "      int64             float64      ...      float64           float64     \n",
       "------------------ ----------------- ... ------------------ ----------------\n",
       " 39627461389979471 0.199208396611172 ... 0.0286298077553511 1.75290405750275\n",
       " 39627461394171068 0.324188154725867 ... 0.0287617538124323              4.0\n",
       " 39627461394173293 0.423061498719655 ... 0.0290689337998629              0.0\n",
       " 39627467278778997  0.54074701108748 ... 0.0333173200488091              1.0\n",
       "616088219582202155 0.626179874156068 ...                0.0              0.0"
      ]
     },
     "execution_count": 6,
     "metadata": {},
     "output_type": "execute_result"
    }
   ],
   "source": [
    "full_table[:5]"
   ]
  },
  {
   "cell_type": "code",
   "execution_count": null,
   "id": "29fdfec5-61dc-4375-acb9-3b80fa0fd12f",
   "metadata": {},
   "outputs": [],
   "source": [
    "full_table2 = ascii.read(\"/global/homes/j/jgassert/full_table2.ecsv\") "
   ]
  },
  {
   "cell_type": "code",
   "execution_count": 5,
   "id": "7209c2bc-b11f-43eb-bb67-ca3e3e8228cc",
   "metadata": {},
   "outputs": [
    {
     "data": {
      "text/html": [
       "<div><i>Table length=5</i>\n",
       "<table id=\"table140241802571120\" class=\"table-striped table-bordered table-condensed\">\n",
       "<thead><tr><th>TARGETID</th><th>TARGET_RA</th><th>TARGET_DEC</th><th>LASTNIGHT</th><th>Z</th><th>ZERR</th><th>ZWARN</th><th>FLUX_G</th><th>FLUX_R</th><th>FLUX_Z</th><th>SPECTYPE</th><th>BGS_TARGET</th><th>EBV</th><th>SERSIC</th></tr></thead>\n",
       "<thead><tr><th>int64</th><th>float64</th><th>float64</th><th>int64</th><th>float64</th><th>float64</th><th>int64</th><th>float64</th><th>float64</th><th>float64</th><th>str6</th><th>int64</th><th>float64</th><th>float64</th></tr></thead>\n",
       "<tr><td>39627461389979471</td><td>0.199208396611172</td><td>-13.4284533588966</td><td>20211020</td><td>0.0842981615211128</td><td>1.02751859803205e-05</td><td>0</td><td>349.176239013672</td><td>151.578369140625</td><td>657.703186035156</td><td>GALAXY</td><td>131074</td><td>0.0286298077553511</td><td>1.75290405750275</td></tr>\n",
       "<tr><td>39627461394171068</td><td>0.324188154725867</td><td>-13.3757445122443</td><td>20211020</td><td>0.358443849991424</td><td>6.26159169498368e-05</td><td>0</td><td>15.7543725967407</td><td>3.10386729240417</td><td>35.017635345459</td><td>GALAXY</td><td>131074</td><td>0.0287617538124323</td><td>4.0</td></tr>\n",
       "<tr><td>39627461394173293</td><td>0.423061498719655</td><td>-13.3821980272798</td><td>20211020</td><td>7.96335573109056e-06</td><td>2.72051014406708e-06</td><td>0</td><td>58.3771476745605</td><td>25.3495140075684</td><td>91.9729995727539</td><td>STAR</td><td>0</td><td>0.0290689337998629</td><td>0.0</td></tr>\n",
       "<tr><td>39627467278778997</td><td>0.54074701108748</td><td>-13.1672162663649</td><td>20211020</td><td>0.368523065341714</td><td>2.55883523529775e-05</td><td>0</td><td>15.623589515686</td><td>5.02074289321899</td><td>32.4087829589844</td><td>GALAXY</td><td>131074</td><td>0.0333173200488091</td><td>1.0</td></tr>\n",
       "<tr><td>616088219582202155</td><td>0.626179874156068</td><td>-13.3202664780153</td><td>20211020</td><td>0.187326155709928</td><td>7.97282091423762e-06</td><td>1</td><td>0.0</td><td>0.0</td><td>0.0</td><td>GALAXY</td><td>0</td><td>0.0</td><td>0.0</td></tr>\n",
       "</table></div>"
      ],
      "text/plain": [
       "<Table length=5>\n",
       "     TARGETID          TARGET_RA     ...        EBV              SERSIC     \n",
       "      int64             float64      ...      float64           float64     \n",
       "------------------ ----------------- ... ------------------ ----------------\n",
       " 39627461389979471 0.199208396611172 ... 0.0286298077553511 1.75290405750275\n",
       " 39627461394171068 0.324188154725867 ... 0.0287617538124323              4.0\n",
       " 39627461394173293 0.423061498719655 ... 0.0290689337998629              0.0\n",
       " 39627467278778997  0.54074701108748 ... 0.0333173200488091              1.0\n",
       "616088219582202155 0.626179874156068 ...                0.0              0.0"
      ]
     },
     "execution_count": 5,
     "metadata": {},
     "output_type": "execute_result"
    }
   ],
   "source": [
    "full_table2[:5]"
   ]
  },
  {
   "cell_type": "code",
   "execution_count": null,
   "id": "0e123abd-e6b7-4638-a686-f13a90863732",
   "metadata": {},
   "outputs": [],
   "source": [
    "data = vstack([full_table, full_table2])"
   ]
  },
  {
   "cell_type": "code",
   "execution_count": null,
   "id": "a174e5ed-3a57-44ca-84f7-3b7b333cfea8",
   "metadata": {},
   "outputs": [],
   "source": [
    "data = table.unique(data, keys = \"TARGETID\")"
   ]
  },
  {
   "cell_type": "code",
   "execution_count": null,
   "id": "a26d555d-7396-4b69-93fc-afa0e3b1172d",
   "metadata": {},
   "outputs": [],
   "source": [
    "data"
   ]
  },
  {
   "cell_type": "code",
   "execution_count": null,
   "id": "ac9059b0-6df2-462c-a986-813da0db67f0",
   "metadata": {},
   "outputs": [],
   "source": [
    "# switch columns"
   ]
  },
  {
   "cell_type": "code",
   "execution_count": 11,
   "id": "5003dfb6-5871-4d7a-9a45-d864c42f135e",
   "metadata": {},
   "outputs": [],
   "source": [
    "data.write('/global/homes/j/jgassert/data.ecsv', overwrite=False)  "
   ]
  },
  {
   "cell_type": "code",
   "execution_count": 4,
   "id": "d3ea5fbd-8d30-49c7-8942-abc13287872a",
   "metadata": {},
   "outputs": [],
   "source": [
    "data = ascii.read(\"/global/homes/j/jgassert/data.ecsv\") "
   ]
  },
  {
   "cell_type": "code",
   "execution_count": 12,
   "id": "c6026d54-d6c0-4763-abe0-b9282e188627",
   "metadata": {},
   "outputs": [
    {
     "data": {
      "text/plain": [
       "44333797"
      ]
     },
     "execution_count": 12,
     "metadata": {},
     "output_type": "execute_result"
    }
   ],
   "source": [
    "len(data)"
   ]
  },
  {
   "cell_type": "code",
   "execution_count": 6,
   "id": "cc050d9e-1503-4d21-a566-184bab1e8d5a",
   "metadata": {},
   "outputs": [
    {
     "data": {
      "text/html": [
       "<div><i>Table length=5</i>\n",
       "<table id=\"table140272391217088\" class=\"table-striped table-bordered table-condensed\">\n",
       "<thead><tr><th>TARGETID</th><th>TARGET_RA</th><th>TARGET_DEC</th><th>LASTNIGHT</th><th>Z</th><th>ZERR</th><th>ZWARN</th><th>FLUX_G</th><th>FLUX_R</th><th>FLUX_Z</th><th>SPECTYPE</th><th>BGS_TARGET</th><th>EBV</th><th>SERSIC</th></tr></thead>\n",
       "<thead><tr><th>int64</th><th>float64</th><th>float64</th><th>int64</th><th>float64</th><th>float64</th><th>int64</th><th>float64</th><th>float64</th><th>float64</th><th>str6</th><th>int64</th><th>float64</th><th>float64</th></tr></thead>\n",
       "<tr><td>-833389526</td><td>227.433272279891</td><td>66.6519046819295</td><td>20230427</td><td>1.1824834644376</td><td>9.79136990918098e-05</td><td>5</td><td>0.0</td><td>0.0</td><td>0.0</td><td>GALAXY</td><td>0</td><td>0.0290863439440727</td><td>0.0</td></tr>\n",
       "<tr><td>-833389518</td><td>228.204498084663</td><td>66.7769162408949</td><td>20230427</td><td>1.01705132530733</td><td>0.000198853226529452</td><td>5</td><td>0.0</td><td>0.0</td><td>0.0</td><td>GALAXY</td><td>0</td><td>0.0315619334578514</td><td>0.0</td></tr>\n",
       "<tr><td>-833389510</td><td>227.642453626374</td><td>66.7226250371644</td><td>20230427</td><td>1.20045807712059</td><td>0.000130270720806434</td><td>5</td><td>0.0</td><td>0.0</td><td>0.0</td><td>GALAXY</td><td>0</td><td>0.0310118906199932</td><td>0.0</td></tr>\n",
       "<tr><td>-833389492</td><td>227.755926256736</td><td>66.7768026589679</td><td>20230427</td><td>1.39280058555401</td><td>0.000191373523674881</td><td>2053</td><td>0.0</td><td>0.0</td><td>0.0</td><td>GALAXY</td><td>0</td><td>0.0316010527312756</td><td>0.0</td></tr>\n",
       "<tr><td>-833389491</td><td>227.851676937586</td><td>66.7933443247276</td><td>20230427</td><td>0.747688478964211</td><td>8.9141824351558e-05</td><td>5</td><td>0.0</td><td>0.0</td><td>0.0</td><td>GALAXY</td><td>0</td><td>0.0321089513599873</td><td>0.0</td></tr>\n",
       "</table></div>"
      ],
      "text/plain": [
       "<Table length=5>\n",
       " TARGETID     TARGET_RA        TARGET_DEC    ...        EBV          SERSIC\n",
       "  int64        float64          float64      ...      float64       float64\n",
       "---------- ---------------- ---------------- ... ------------------ -------\n",
       "-833389526 227.433272279891 66.6519046819295 ... 0.0290863439440727     0.0\n",
       "-833389518 228.204498084663 66.7769162408949 ... 0.0315619334578514     0.0\n",
       "-833389510 227.642453626374 66.7226250371644 ... 0.0310118906199932     0.0\n",
       "-833389492 227.755926256736 66.7768026589679 ... 0.0316010527312756     0.0\n",
       "-833389491 227.851676937586 66.7933443247276 ... 0.0321089513599873     0.0"
      ]
     },
     "execution_count": 6,
     "metadata": {},
     "output_type": "execute_result"
    }
   ],
   "source": [
    "data[:5]"
   ]
  },
  {
   "cell_type": "code",
   "execution_count": 13,
   "id": "cb58e387-c063-4ea1-80b9-c559fd1e7ca0",
   "metadata": {},
   "outputs": [],
   "source": [
    "good_z_data = data[data[\"ZWARN\"] == 0]"
   ]
  },
  {
   "cell_type": "code",
   "execution_count": 14,
   "id": "3428649a-6d8d-4003-a339-e2b73077355c",
   "metadata": {},
   "outputs": [],
   "source": [
    "good_z_data = good_z_data[good_z_data[\"Z\"]>0]"
   ]
  },
  {
   "cell_type": "code",
   "execution_count": 15,
   "id": "22034205-b621-41de-852c-64151115086d",
   "metadata": {},
   "outputs": [],
   "source": [
    "good_z_data.write('/global/homes/j/jgassert/good_z_data.ecsv', overwrite=False)  "
   ]
  },
  {
   "cell_type": "code",
   "execution_count": 16,
   "id": "fb7dd52e-c07e-4943-b302-38c131dcac5f",
   "metadata": {},
   "outputs": [
    {
     "data": {
      "text/plain": [
       "27564701"
      ]
     },
     "execution_count": 16,
     "metadata": {},
     "output_type": "execute_result"
    }
   ],
   "source": [
    "len(good_z_data)"
   ]
  },
  {
   "cell_type": "code",
   "execution_count": 17,
   "id": "ce3d11fe-5326-4fe3-ac52-7e5c41f70dae",
   "metadata": {},
   "outputs": [
    {
     "name": "stdout",
     "output_type": "stream",
     "text": [
      "The history saving thread hit an unexpected error (OperationalError('disk I/O error')).History will not be written to the database.\n"
     ]
    }
   ],
   "source": [
    "good_r_flux_data = good_z_data[good_z_data[\"FLUX_R\"] > 0]"
   ]
  },
  {
   "cell_type": "code",
   "execution_count": 18,
   "id": "80e5e8a4-247d-4c7c-9ebb-9d77e95a2313",
   "metadata": {},
   "outputs": [
    {
     "data": {
      "text/html": [
       "<div><i>Table length=25517306</i>\n",
       "<table id=\"table140266040737456\" class=\"table-striped table-bordered table-condensed\">\n",
       "<thead><tr><th>TARGETID</th><th>TARGET_RA</th><th>TARGET_DEC</th><th>LASTNIGHT</th><th>Z</th><th>ZERR</th><th>ZWARN</th><th>FLUX_G</th><th>FLUX_R</th><th>FLUX_Z</th><th>SPECTYPE</th><th>BGS_TARGET</th><th>EBV</th><th>SERSIC</th></tr></thead>\n",
       "<thead><tr><th>int64</th><th>float64</th><th>float64</th><th>int64</th><th>float64</th><th>float64</th><th>int64</th><th>float64</th><th>float64</th><th>float64</th><th>str6</th><th>int64</th><th>float64</th><th>float64</th></tr></thead>\n",
       "<tr><td>39627267193704468</td><td>87.2931346460236</td><td>-21.8854203931447</td><td>20210116</td><td>1.54139764931006</td><td>6.51899837787448e-05</td><td>0</td><td>0.678932547569275</td><td>0.544187486171722</td><td>0.814229965209961</td><td>GALAXY</td><td>0</td><td>0.0382782742381096</td><td>1.0</td></tr>\n",
       "<tr><td>39627267193707272</td><td>87.3699284683912</td><td>-21.8766676366579</td><td>20210116</td><td>1.25698383007386</td><td>0.000243185890649753</td><td>0</td><td>1.8541316986084</td><td>1.37864375114441</td><td>1.71930611133575</td><td>QSO</td><td>0</td><td>0.0393409058451653</td><td>0.0</td></tr>\n",
       "<tr><td>39627267197895900</td><td>87.4762538649076</td><td>-21.8806878993573</td><td>20210116</td><td>0.126248515944835</td><td>1.06512530797224e-05</td><td>0</td><td>0.420664072036743</td><td>0.235325276851654</td><td>0.483817219734192</td><td>GALAXY</td><td>0</td><td>0.0426067262887955</td><td>0.0</td></tr>\n",
       "<tr><td>39627267197896032</td><td>87.4794499851022</td><td>-21.9167919737848</td><td>20210116</td><td>1.53241656944708</td><td>0.000234283455894663</td><td>0</td><td>0.668777704238892</td><td>0.317722111940384</td><td>0.890449166297913</td><td>QSO</td><td>0</td><td>0.0414619110524654</td><td>0.0</td></tr>\n",
       "<tr><td>39627267197896327</td><td>87.4883036183932</td><td>-21.9417798804529</td><td>20210116</td><td>1.45163923277157</td><td>0.000133357679299795</td><td>0</td><td>1.55398964881897</td><td>0.562485635280609</td><td>3.03630256652832</td><td>QSO</td><td>0</td><td>0.0413365438580513</td><td>0.0</td></tr>\n",
       "<tr><td>39627267197897458</td><td>87.5192385225095</td><td>-21.893491730542</td><td>20210116</td><td>0.998079051433133</td><td>8.48011440505117e-05</td><td>0</td><td>0.976543068885803</td><td>0.246809035539627</td><td>6.05792808532715</td><td>GALAXY</td><td>0</td><td>0.0431993380188942</td><td>4.0</td></tr>\n",
       "<tr><td>39627267197898746</td><td>87.5568221296857</td><td>-21.887277112946</td><td>20210116</td><td>1.09801965558209</td><td>2.22775113331749e-05</td><td>0</td><td>0.301190555095673</td><td>0.246051579713821</td><td>0.458732664585114</td><td>GALAXY</td><td>0</td><td>0.0435711853206158</td><td>0.0</td></tr>\n",
       "<tr><td>39627267197899514</td><td>87.5779409036305</td><td>-21.9212708133538</td><td>20210116</td><td>1.53353234507143</td><td>4.24849912504721e-05</td><td>0</td><td>0.871013402938843</td><td>0.807319462299347</td><td>1.12869954109192</td><td>GALAXY</td><td>0</td><td>0.0425399169325829</td><td>0.0</td></tr>\n",
       "<tr><td>39627267197900264</td><td>87.600740028767</td><td>-21.8879578592919</td><td>20210116</td><td>0.629393988176992</td><td>0.000116359489808418</td><td>0</td><td>0.569007277488708</td><td>0.517570674419403</td><td>0.663229525089264</td><td>GALAXY</td><td>0</td><td>0.0432274788618088</td><td>0.0</td></tr>\n",
       "<tr><td>39627267197900947</td><td>87.6193875182748</td><td>-21.9457979927443</td><td>20210116</td><td>1.40364391462379</td><td>3.67908113159258e-05</td><td>0</td><td>0.550811052322388</td><td>0.332488924264908</td><td>1.52204763889313</td><td>GALAXY</td><td>0</td><td>0.0420948341488838</td><td>1.0</td></tr>\n",
       "<tr><td>...</td><td>...</td><td>...</td><td>...</td><td>...</td><td>...</td><td>...</td><td>...</td><td>...</td><td>...</td><td>...</td><td>...</td><td>...</td><td>...</td></tr>\n",
       "<tr><td>39637351340704779</td><td>356.475410191237</td><td>33.3931891120115</td><td>20220916</td><td>0.958198251578072</td><td>1.76110009629342e-05</td><td>0</td><td>0.700575888156891</td><td>0.540771126747131</td><td>1.57969963550568</td><td>GALAXY</td><td>0</td><td>0.0610242299735546</td><td>0.0</td></tr>\n",
       "<tr><td>39637351340705030</td><td>356.490540334311</td><td>33.4105328084384</td><td>20220916</td><td>1.07297046934265</td><td>2.98721480698026e-05</td><td>0</td><td>0.830815851688385</td><td>0.716835379600525</td><td>1.59477496147156</td><td>GALAXY</td><td>0</td><td>0.0614283457398415</td><td>0.0</td></tr>\n",
       "<tr><td>39637351340705188</td><td>356.501450740535</td><td>33.4374390146016</td><td>20221021</td><td>0.165978593346267</td><td>2.23766247083362e-05</td><td>0</td><td>22.319637298584</td><td>7.72008419036865</td><td>50.4880027770996</td><td>GALAXY</td><td>131074</td><td>0.0620248205959797</td><td>4.0</td></tr>\n",
       "<tr><td>39637351340705932</td><td>356.550222331654</td><td>33.4325645041457</td><td>20220916</td><td>0.339749632147903</td><td>4.3806567177778e-05</td><td>0</td><td>41.0514183044434</td><td>8.34360694885254</td><td>93.0801391601562</td><td>GALAXY</td><td>131074</td><td>0.0622211396694183</td><td>6.0</td></tr>\n",
       "<tr><td>39637351340706161</td><td>356.564345488742</td><td>33.4110510728994</td><td>20221021</td><td>0.314968453869954</td><td>3.52563464939497e-05</td><td>0</td><td>21.0349369049072</td><td>6.7590126991272</td><td>47.1014175415039</td><td>GALAXY</td><td>131074</td><td>0.0618037395179272</td><td>1.83795535564423</td></tr>\n",
       "<tr><td>39637351340706851</td><td>356.608903843648</td><td>33.4503402857605</td><td>20220916</td><td>0.954364051350848</td><td>0.000232807725695761</td><td>0</td><td>0.796231091022491</td><td>0.0799234956502914</td><td>5.88585233688354</td><td>GALAXY</td><td>0</td><td>0.0639907717704773</td><td>1.0</td></tr>\n",
       "<tr><td>39637351340707347</td><td>356.637775148178</td><td>33.4434638515368</td><td>20221021</td><td>0.334216628855788</td><td>9.71372724280746e-05</td><td>0</td><td>22.3936290740967</td><td>4.45626878738403</td><td>52.6914329528809</td><td>GALAXY</td><td>131074</td><td>0.0643419176340103</td><td>6.0</td></tr>\n",
       "<tr><td>39637351340707844</td><td>356.671233421614</td><td>33.4311030069439</td><td>20220916</td><td>1.26118204458956</td><td>0.000205550197064777</td><td>0</td><td>0.469453126192093</td><td>0.204312235116959</td><td>3.92223191261292</td><td>GALAXY</td><td>0</td><td>0.064193993806839</td><td>1.0</td></tr>\n",
       "<tr><td>39637351340708031</td><td>356.682930465783</td><td>33.4194753705635</td><td>20221021</td><td>0.289943363913076</td><td>0.000125478522844873</td><td>0</td><td>11.3370475769043</td><td>2.92825222015381</td><td>24.0118713378906</td><td>GALAXY</td><td>65537</td><td>0.0636647492647171</td><td>4.0</td></tr>\n",
       "<tr><td>39637351340708341</td><td>356.701001521685</td><td>33.4216770743536</td><td>20220916</td><td>0.837707187053912</td><td>5.16425611434741e-05</td><td>0</td><td>1.29133784770966</td><td>0.829049408435822</td><td>3.24969434738159</td><td>GALAXY</td><td>0</td><td>0.0639347210526466</td><td>0.0</td></tr>\n",
       "</table></div>"
      ],
      "text/plain": [
       "<Table length=25517306>\n",
       "     TARGETID        TARGET_RA     ...        EBV              SERSIC     \n",
       "      int64           float64      ...      float64           float64     \n",
       "----------------- ---------------- ... ------------------ ----------------\n",
       "39627267193704468 87.2931346460236 ... 0.0382782742381096              1.0\n",
       "39627267193707272 87.3699284683912 ... 0.0393409058451653              0.0\n",
       "39627267197895900 87.4762538649076 ... 0.0426067262887955              0.0\n",
       "39627267197896032 87.4794499851022 ... 0.0414619110524654              0.0\n",
       "39627267197896327 87.4883036183932 ... 0.0413365438580513              0.0\n",
       "39627267197897458 87.5192385225095 ... 0.0431993380188942              4.0\n",
       "39627267197898746 87.5568221296857 ... 0.0435711853206158              0.0\n",
       "39627267197899514 87.5779409036305 ... 0.0425399169325829              0.0\n",
       "39627267197900264  87.600740028767 ... 0.0432274788618088              0.0\n",
       "39627267197900947 87.6193875182748 ... 0.0420948341488838              1.0\n",
       "              ...              ... ...                ...              ...\n",
       "39637351340704779 356.475410191237 ... 0.0610242299735546              0.0\n",
       "39637351340705030 356.490540334311 ... 0.0614283457398415              0.0\n",
       "39637351340705188 356.501450740535 ... 0.0620248205959797              4.0\n",
       "39637351340705932 356.550222331654 ... 0.0622211396694183              6.0\n",
       "39637351340706161 356.564345488742 ... 0.0618037395179272 1.83795535564423\n",
       "39637351340706851 356.608903843648 ... 0.0639907717704773              1.0\n",
       "39637351340707347 356.637775148178 ... 0.0643419176340103              6.0\n",
       "39637351340707844 356.671233421614 ...  0.064193993806839              1.0\n",
       "39637351340708031 356.682930465783 ... 0.0636647492647171              4.0\n",
       "39637351340708341 356.701001521685 ... 0.0639347210526466              0.0"
      ]
     },
     "execution_count": 18,
     "metadata": {},
     "output_type": "execute_result"
    }
   ],
   "source": [
    "good_r_flux_data"
   ]
  },
  {
   "cell_type": "code",
   "execution_count": 22,
   "id": "2480b66a-17c3-40c7-8c7b-752b719a2c41",
   "metadata": {},
   "outputs": [],
   "source": [
    "good_r_flux_data.write('/global/homes/j/jgassert/good_r_flux_data.ecsv', overwrite=False)  "
   ]
  },
  {
   "cell_type": "code",
   "execution_count": 1,
   "id": "ad66f8c8-82b8-408a-8dba-416a937e5474",
   "metadata": {},
   "outputs": [],
   "source": [
    "data = ascii.read(\"/global/homes/j/jgassert/good_z_data.ecsv\") "
   ]
  },
  {
   "cell_type": "code",
   "execution_count": 2,
   "id": "972ba122-2c6d-4121-b501-52d12530635a",
   "metadata": {},
   "outputs": [
    {
     "data": {
      "text/html": [
       "<div><i>Table length=5</i>\n",
       "<table id=\"table140453084876752\" class=\"table-striped table-bordered table-condensed\">\n",
       "<thead><tr><th>TARGETID</th><th>TARGET_RA</th><th>TARGET_DEC</th><th>LASTNIGHT</th><th>Z</th><th>ZERR</th><th>ZWARN</th><th>FLUX_G</th><th>FLUX_R</th><th>FLUX_Z</th><th>SPECTYPE</th><th>BGS_TARGET</th><th>EBV</th><th>SERSIC</th></tr></thead>\n",
       "<thead><tr><th>int64</th><th>float64</th><th>float64</th><th>int64</th><th>float64</th><th>float64</th><th>int64</th><th>float64</th><th>float64</th><th>float64</th><th>str6</th><th>int64</th><th>float64</th><th>float64</th></tr></thead>\n",
       "<tr><td>-407206628</td><td>289.160148698913</td><td>63.8756777034092</td><td>20210513</td><td>0.488143245600312</td><td>6.00460085329576e-05</td><td>0</td><td>0.0</td><td>0.0</td><td>0.0</td><td>GALAXY</td><td>0</td><td>0.0</td><td>0.0</td></tr>\n",
       "<tr><td>-407206517</td><td>289.24523373072</td><td>64.1182126208345</td><td>20210513</td><td>0.353953432359517</td><td>9.16563620937551e-05</td><td>0</td><td>0.0</td><td>0.0</td><td>0.0</td><td>GALAXY</td><td>0</td><td>0.0</td><td>0.0</td></tr>\n",
       "<tr><td>-407206395</td><td>288.991137990503</td><td>64.4269390406163</td><td>20210513</td><td>1.04167986703249</td><td>0.000103598417102832</td><td>0</td><td>0.0</td><td>0.0</td><td>0.0</td><td>GALAXY</td><td>0</td><td>0.0</td><td>0.0</td></tr>\n",
       "<tr><td>-407206306</td><td>288.328820102558</td><td>64.8171915439228</td><td>20210513</td><td>0.446085744563991</td><td>0.000103302897346752</td><td>0</td><td>0.0</td><td>0.0</td><td>0.0</td><td>GALAXY</td><td>0</td><td>0.0</td><td>0.0</td></tr>\n",
       "<tr><td>-407206302</td><td>288.170414727353</td><td>64.8761951861955</td><td>20210513</td><td>5.11210896599966</td><td>0.000690663180059733</td><td>0</td><td>0.0</td><td>0.0</td><td>0.0</td><td>QSO</td><td>0</td><td>0.0</td><td>0.0</td></tr>\n",
       "</table></div>"
      ],
      "text/plain": [
       "<Table length=5>\n",
       " TARGETID     TARGET_RA        TARGET_DEC    ... BGS_TARGET   EBV    SERSIC\n",
       "  int64        float64          float64      ...   int64    float64 float64\n",
       "---------- ---------------- ---------------- ... ---------- ------- -------\n",
       "-407206628 289.160148698913 63.8756777034092 ...          0     0.0     0.0\n",
       "-407206517  289.24523373072 64.1182126208345 ...          0     0.0     0.0\n",
       "-407206395 288.991137990503 64.4269390406163 ...          0     0.0     0.0\n",
       "-407206306 288.328820102558 64.8171915439228 ...          0     0.0     0.0\n",
       "-407206302 288.170414727353 64.8761951861955 ...          0     0.0     0.0"
      ]
     },
     "execution_count": 2,
     "metadata": {},
     "output_type": "execute_result"
    }
   ],
   "source": [
    "data[:5]"
   ]
  },
  {
   "cell_type": "code",
   "execution_count": 4,
   "id": "7a50c000-c38f-468e-a9de-2eaae12aadcb",
   "metadata": {},
   "outputs": [],
   "source": [
    "from desitarget.targets import desi_mask, bgs_mask, mws_mask"
   ]
  },
  {
   "cell_type": "code",
   "execution_count": 15,
   "id": "b1a65a27-8e3d-4576-99a7-d88fafaaacbc",
   "metadata": {},
   "outputs": [],
   "source": [
    "ii = data[\"BGS_TARGET\"]&bgs_mask[\"BGS_BRIGHT_SOUTH\"]\n",
    "jj = data[\"BGS_TARGET\"]&bgs_mask[\"BGS_BRIGHT_NORTH\"]\n",
    "kk = data[\"BGS_TARGET\"]&bgs_mask[\"BGS_BRIGHT\"]"
   ]
  },
  {
   "cell_type": "code",
   "execution_count": 43,
   "id": "bb9a9c4c-f3bd-4333-845d-7ad5b7c61498",
   "metadata": {},
   "outputs": [],
   "source": [
    "bb = (data[\"BGS_TARGET\"]&bgs_mask[\"BGS_BRIGHT_SOUTH\"]) | (data[\"BGS_TARGET\"]&bgs_mask[\"BGS_BRIGHT_NORTH\"]) | (data[\"BGS_TARGET\"]&bgs_mask[\"BGS_BRIGHT\"])"
   ]
  },
  {
   "cell_type": "code",
   "execution_count": 46,
   "id": "3edf362b-b08e-425f-9085-469bcedfc96a",
   "metadata": {},
   "outputs": [],
   "source": [
    "sel = bb!= 0"
   ]
  },
  {
   "cell_type": "code",
   "execution_count": 44,
   "id": "64090dbc-c8b9-4d98-87b1-f42d1cd42603",
   "metadata": {},
   "outputs": [
    {
     "data": {
      "text/plain": [
       "(<Column name='BGS_TARGET' dtype='int64' length=5>\n",
       " 0\n",
       " 0\n",
       " 0\n",
       " 0\n",
       " 0,\n",
       " 0,\n",
       " 131074,\n",
       " 23108.366947205413,\n",
       " <Column name='BGS_TARGET' dtype='int64' length=3>\n",
       "      0\n",
       "    514\n",
       " 131074)"
      ]
     },
     "execution_count": 44,
     "metadata": {},
     "output_type": "execute_result"
    }
   ],
   "source": [
    "bb[:5], np.min(bb), np.max(bb), np.mean(bb), np.unique(bb)"
   ]
  },
  {
   "cell_type": "code",
   "execution_count": 48,
   "id": "c0c7f5aa-4997-41e5-a9dd-7a5b243ed079",
   "metadata": {},
   "outputs": [
    {
     "data": {
      "text/html": [
       "<div><i>Table length=7075917</i>\n",
       "<table id=\"table140453087058320\" class=\"table-striped table-bordered table-condensed\">\n",
       "<thead><tr><th>TARGETID</th><th>TARGET_RA</th><th>TARGET_DEC</th><th>LASTNIGHT</th><th>Z</th><th>ZERR</th><th>ZWARN</th><th>FLUX_G</th><th>FLUX_R</th><th>FLUX_Z</th><th>SPECTYPE</th><th>BGS_TARGET</th><th>EBV</th><th>SERSIC</th></tr></thead>\n",
       "<thead><tr><th>int64</th><th>float64</th><th>float64</th><th>int64</th><th>float64</th><th>float64</th><th>int64</th><th>float64</th><th>float64</th><th>float64</th><th>str6</th><th>int64</th><th>float64</th><th>float64</th></tr></thead>\n",
       "<tr><td>39627322533350395</td><td>11.2017136545986</td><td>-19.3753250062112</td><td>20211215</td><td>0.274138421339174</td><td>7.3501930183854e-05</td><td>0</td><td>29.5323829650879</td><td>7.64354562759399</td><td>61.7763519287109</td><td>GALAXY</td><td>131074</td><td>0.0190095156431198</td><td>6.0</td></tr>\n",
       "<tr><td>39627322533353907</td><td>11.3031570730046</td><td>-19.3778160129495</td><td>20211215</td><td>0.160812674805974</td><td>3.74070815089717e-05</td><td>0</td><td>44.3453521728516</td><td>21.8182907104492</td><td>74.1602554321289</td><td>GALAXY</td><td>131074</td><td>0.0181874949485064</td><td>1.12676537036896</td></tr>\n",
       "<tr><td>39627322701120343</td><td>21.7265690067643</td><td>-19.404267970287</td><td>20211022</td><td>0.0347373193412903</td><td>3.04502283257839e-06</td><td>0</td><td>40.2380104064941</td><td>30.611120223999</td><td>47.7578353881836</td><td>GALAXY</td><td>131074</td><td>0.026496633887291</td><td>0.66505241394043</td></tr>\n",
       "<tr><td>39627322701120643</td><td>21.7335960725857</td><td>-19.3756051133826</td><td>20211022</td><td>0.252243092187585</td><td>4.24386834432005e-05</td><td>0</td><td>69.4891662597656</td><td>19.3021106719971</td><td>144.997436523438</td><td>GALAXY</td><td>131074</td><td>0.0254172254353762</td><td>5.25417852401733</td></tr>\n",
       "<tr><td>39627322701122007</td><td>21.7682640928066</td><td>-19.3895060286576</td><td>20211022</td><td>0.272183664497557</td><td>7.48448457991176e-06</td><td>0</td><td>19.1892528533936</td><td>10.1746435165405</td><td>29.1437644958496</td><td>GALAXY</td><td>131074</td><td>0.0247003585100174</td><td>0.544734835624695</td></tr>\n",
       "<tr><td>39627322701123557</td><td>21.8145744614903</td><td>-19.3850046667042</td><td>20211022</td><td>0.376453438846267</td><td>8.36269523515822e-05</td><td>0</td><td>25.3339920043945</td><td>5.08830833435059</td><td>56.5602226257324</td><td>GALAXY</td><td>131074</td><td>0.0235172305256128</td><td>5.19685745239258</td></tr>\n",
       "<tr><td>39627322701123768</td><td>21.8213999800153</td><td>-19.4174602359933</td><td>20211022</td><td>0.253063490932638</td><td>5.32955740966746e-05</td><td>0</td><td>58.5883979797363</td><td>16.9509563446045</td><td>112.311599731445</td><td>GALAXY</td><td>131074</td><td>0.0239106994122267</td><td>4.0</td></tr>\n",
       "<tr><td>39627322701124950</td><td>21.8533345460488</td><td>-19.4169943574335</td><td>20211022</td><td>0.211212432373961</td><td>6.82018886333761e-05</td><td>0</td><td>37.117805480957</td><td>11.9251728057861</td><td>72.7160263061523</td><td>GALAXY</td><td>131074</td><td>0.0227459073066711</td><td>2.91189217567444</td></tr>\n",
       "<tr><td>39627322701126385</td><td>21.8930127024219</td><td>-19.3979065422968</td><td>20211022</td><td>0.212754350303496</td><td>6.24986184945315e-05</td><td>0</td><td>27.8967342376709</td><td>8.75567245483398</td><td>57.0741996765137</td><td>GALAXY</td><td>131074</td><td>0.0210696440190077</td><td>3.03994846343994</td></tr>\n",
       "<tr><td>39627322701126868</td><td>21.9069664872377</td><td>-19.4333740401882</td><td>20211022</td><td>0.193995173327184</td><td>4.46948413529813e-05</td><td>0</td><td>34.2666244506836</td><td>11.3039646148682</td><td>66.0687561035156</td><td>GALAXY</td><td>131074</td><td>0.0201290547847748</td><td>4.0</td></tr>\n",
       "<tr><td>...</td><td>...</td><td>...</td><td>...</td><td>...</td><td>...</td><td>...</td><td>...</td><td>...</td><td>...</td><td>...</td><td>...</td><td>...</td><td>...</td></tr>\n",
       "<tr><td>39637346290764704</td><td>356.592989255616</td><td>33.2173020306204</td><td>20220916</td><td>0.508525988389032</td><td>7.8459529576609e-05</td><td>0</td><td>20.2899017333984</td><td>3.39946603775024</td><td>61.2768592834473</td><td>GALAXY</td><td>131074</td><td>0.0572715178132057</td><td>6.0</td></tr>\n",
       "<tr><td>39637346290765141</td><td>356.621200491732</td><td>33.1455487253728</td><td>20221021</td><td>0.109991822695248</td><td>1.30075765362251e-05</td><td>0</td><td>38.2365684509277</td><td>22.0260028839111</td><td>57.7749328613281</td><td>GALAXY</td><td>131074</td><td>0.054195698350668</td><td>1.0</td></tr>\n",
       "<tr><td>39637346290766488</td><td>356.699899585617</td><td>33.1275084749291</td><td>20221021</td><td>0.11012174299927</td><td>2.31772493276534e-05</td><td>0</td><td>337.198089599609</td><td>133.224105834961</td><td>642.035827636719</td><td>GALAXY</td><td>131074</td><td>0.0548467077314854</td><td>6.0</td></tr>\n",
       "<tr><td>39637346290766556</td><td>356.703585034308</td><td>33.1818950519775</td><td>20221021</td><td>0.164409801199231</td><td>2.33360060925131e-05</td><td>0</td><td>54.0801658630371</td><td>26.0577850341797</td><td>93.7731323242188</td><td>GALAXY</td><td>131074</td><td>0.0570079050958157</td><td>0.594258546829224</td></tr>\n",
       "<tr><td>39637351340704647</td><td>356.46777190667</td><td>33.3995102345019</td><td>20221021</td><td>0.165846950314905</td><td>3.83484185427353e-05</td><td>0</td><td>102.590629577637</td><td>34.3516960144043</td><td>208.921752929688</td><td>GALAXY</td><td>131074</td><td>0.0610766969621181</td><td>4.29532051086426</td></tr>\n",
       "<tr><td>39637351340704688</td><td>356.46973780595</td><td>33.3761654805481</td><td>20221021</td><td>0.33369209329226</td><td>9.61325075279469e-05</td><td>0</td><td>17.8486881256104</td><td>4.60736179351807</td><td>41.2230529785156</td><td>GALAXY</td><td>131074</td><td>0.0607446953654289</td><td>1.46746397018433</td></tr>\n",
       "<tr><td>39637351340705188</td><td>356.501450740535</td><td>33.4374390146016</td><td>20221021</td><td>0.165978593346267</td><td>2.23766247083362e-05</td><td>0</td><td>22.319637298584</td><td>7.72008419036865</td><td>50.4880027770996</td><td>GALAXY</td><td>131074</td><td>0.0620248205959797</td><td>4.0</td></tr>\n",
       "<tr><td>39637351340705932</td><td>356.550222331654</td><td>33.4325645041457</td><td>20220916</td><td>0.339749632147903</td><td>4.3806567177778e-05</td><td>0</td><td>41.0514183044434</td><td>8.34360694885254</td><td>93.0801391601562</td><td>GALAXY</td><td>131074</td><td>0.0622211396694183</td><td>6.0</td></tr>\n",
       "<tr><td>39637351340706161</td><td>356.564345488742</td><td>33.4110510728994</td><td>20221021</td><td>0.314968453869954</td><td>3.52563464939497e-05</td><td>0</td><td>21.0349369049072</td><td>6.7590126991272</td><td>47.1014175415039</td><td>GALAXY</td><td>131074</td><td>0.0618037395179272</td><td>1.83795535564423</td></tr>\n",
       "<tr><td>39637351340707347</td><td>356.637775148178</td><td>33.4434638515368</td><td>20221021</td><td>0.334216628855788</td><td>9.71372724280746e-05</td><td>0</td><td>22.3936290740967</td><td>4.45626878738403</td><td>52.6914329528809</td><td>GALAXY</td><td>131074</td><td>0.0643419176340103</td><td>6.0</td></tr>\n",
       "</table></div>"
      ],
      "text/plain": [
       "<Table length=7075917>\n",
       "     TARGETID        TARGET_RA     ...        EBV               SERSIC     \n",
       "      int64           float64      ...      float64            float64     \n",
       "----------------- ---------------- ... ------------------ -----------------\n",
       "39627322533350395 11.2017136545986 ... 0.0190095156431198               6.0\n",
       "39627322533353907 11.3031570730046 ... 0.0181874949485064  1.12676537036896\n",
       "39627322701120343 21.7265690067643 ...  0.026496633887291  0.66505241394043\n",
       "39627322701120643 21.7335960725857 ... 0.0254172254353762  5.25417852401733\n",
       "39627322701122007 21.7682640928066 ... 0.0247003585100174 0.544734835624695\n",
       "39627322701123557 21.8145744614903 ... 0.0235172305256128  5.19685745239258\n",
       "39627322701123768 21.8213999800153 ... 0.0239106994122267               4.0\n",
       "39627322701124950 21.8533345460488 ... 0.0227459073066711  2.91189217567444\n",
       "39627322701126385 21.8930127024219 ... 0.0210696440190077  3.03994846343994\n",
       "39627322701126868 21.9069664872377 ... 0.0201290547847748               4.0\n",
       "              ...              ... ...                ...               ...\n",
       "39637346290764704 356.592989255616 ... 0.0572715178132057               6.0\n",
       "39637346290765141 356.621200491732 ...  0.054195698350668               1.0\n",
       "39637346290766488 356.699899585617 ... 0.0548467077314854               6.0\n",
       "39637346290766556 356.703585034308 ... 0.0570079050958157 0.594258546829224\n",
       "39637351340704647  356.46777190667 ... 0.0610766969621181  4.29532051086426\n",
       "39637351340704688  356.46973780595 ... 0.0607446953654289  1.46746397018433\n",
       "39637351340705188 356.501450740535 ... 0.0620248205959797               4.0\n",
       "39637351340705932 356.550222331654 ... 0.0622211396694183               6.0\n",
       "39637351340706161 356.564345488742 ... 0.0618037395179272  1.83795535564423\n",
       "39637351340707347 356.637775148178 ... 0.0643419176340103               6.0"
      ]
     },
     "execution_count": 48,
     "metadata": {},
     "output_type": "execute_result"
    }
   ],
   "source": [
    "data[sel]"
   ]
  },
  {
   "cell_type": "code",
   "execution_count": 51,
   "id": "f1abda2f-4781-4162-ba3f-72fa1be92858",
   "metadata": {},
   "outputs": [],
   "source": [
    "data[sel].write('/global/homes/j/jgassert/good_z_data_BGSBright.ecsv', overwrite=False)  "
   ]
  },
  {
   "cell_type": "code",
   "execution_count": 9,
   "id": "a1902cf2-07b7-4ec1-8408-a273ba0c9fcb",
   "metadata": {},
   "outputs": [],
   "source": [
    "import numpy as np"
   ]
  },
  {
   "cell_type": "code",
   "execution_count": 13,
   "id": "c0124543-a1fa-452d-b634-816dd0832dbb",
   "metadata": {},
   "outputs": [
    {
     "data": {
      "text/plain": [
       "(<Column name='BGS_TARGET' dtype='int64' length=5>\n",
       " 0\n",
       " 0\n",
       " 0\n",
       " 0\n",
       " 0,\n",
       " 0,\n",
       " 0,\n",
       " 0.0,\n",
       " <Column name='BGS_TARGET' dtype='int64' length=1>\n",
       " 0)"
      ]
     },
     "execution_count": 13,
     "metadata": {},
     "output_type": "execute_result"
    }
   ],
   "source": [
    "ii[:5], np.min(ii), np.max(ii), np.mean(ii), np.unique(ii)"
   ]
  },
  {
   "cell_type": "code",
   "execution_count": 16,
   "id": "9d45c0e0-5bf4-4a6f-9e37-aab6ae5b477a",
   "metadata": {},
   "outputs": [
    {
     "data": {
      "text/plain": [
       "(<Column name='BGS_TARGET' dtype='int64' length=5>\n",
       " 0\n",
       " 0\n",
       " 0\n",
       " 0\n",
       " 0,\n",
       " 0,\n",
       " 512,\n",
       " 41.32786609947266,\n",
       " <Column name='BGS_TARGET' dtype='int64' length=2>\n",
       "   0\n",
       " 512)"
      ]
     },
     "execution_count": 16,
     "metadata": {},
     "output_type": "execute_result"
    }
   ],
   "source": [
    "jj[:5], np.min(jj), np.max(jj), np.mean(jj), np.unique(jj)"
   ]
  },
  {
   "cell_type": "code",
   "execution_count": 23,
   "id": "f81081a5-829e-44ef-b379-340764586954",
   "metadata": {},
   "outputs": [
    {
     "ename": "ValueError",
     "evalue": "The truth value of an array with more than one element is ambiguous. Use a.any() or a.all()",
     "output_type": "error",
     "traceback": [
      "\u001b[0;31m---------------------------------------------------------------------------\u001b[0m",
      "\u001b[0;31mValueError\u001b[0m                                Traceback (most recent call last)",
      "Cell \u001b[0;32mIn[23], line 1\u001b[0m\n\u001b[0;32m----> 1\u001b[0m selection \u001b[38;5;241m=\u001b[39m ii \u001b[38;5;241m!=\u001b[39m \u001b[38;5;241m0\u001b[39m \u001b[38;5;129;01mor\u001b[39;00m jj \u001b[38;5;241m!=\u001b[39m \u001b[38;5;241m0\u001b[39m \u001b[38;5;129;01mor\u001b[39;00m kk \u001b[38;5;241m!=\u001b[39m \u001b[38;5;241m0\u001b[39m\n",
      "\u001b[0;31mValueError\u001b[0m: The truth value of an array with more than one element is ambiguous. Use a.any() or a.all()"
     ]
    }
   ],
   "source": [
    "selection = ii != 0 or jj != 0 or kk != 0\n"
   ]
  },
  {
   "cell_type": "code",
   "execution_count": 22,
   "id": "47ae64dc-4b53-42d1-a390-0f5dc9a15bda",
   "metadata": {},
   "outputs": [
    {
     "data": {
      "text/plain": [
       "(array([False, False, False, ..., False, False, False]), False, False, 0.0)"
      ]
     },
     "execution_count": 22,
     "metadata": {},
     "output_type": "execute_result"
    }
   ],
   "source": [
    "selection, np.min(selection), np.max(selection), np.mean(selection)"
   ]
  },
  {
   "cell_type": "code",
   "execution_count": 25,
   "id": "95547c89-a347-4e81-bda6-ae4aa2c97324",
   "metadata": {},
   "outputs": [
    {
     "data": {
      "text/plain": [
       "(<Column name='BGS_TARGET' dtype='int64' length=5>\n",
       " 0\n",
       " 0\n",
       " 0\n",
       " 0\n",
       " 0,\n",
       " 0,\n",
       " 262148,\n",
       " 28430.9616043722,\n",
       " <Column name='BGS_TARGET' dtype='int64' length=9>\n",
       "      0\n",
       "    257\n",
       "    265\n",
       "    514\n",
       "   1028\n",
       "  65537\n",
       "  65545\n",
       " 131074\n",
       " 262148)"
      ]
     },
     "execution_count": 25,
     "metadata": {},
     "output_type": "execute_result"
    }
   ],
   "source": [
    "data[\"BGS_TARGET\"][:5], np.min(data[\"BGS_TARGET\"]), np.max(data[\"BGS_TARGET\"]), np.mean(data[\"BGS_TARGET\"]), np.unique(data[\"BGS_TARGET\"])"
   ]
  },
  {
   "cell_type": "code",
   "execution_count": 37,
   "id": "487d3ac4-1595-48da-bcb2-e4dedb8d0c4d",
   "metadata": {},
   "outputs": [
    {
     "data": {
      "text/plain": [
       "2224981"
      ]
     },
     "execution_count": 37,
     "metadata": {},
     "output_type": "execute_result"
    }
   ],
   "source": [
    "np.count_nonzero(data[data[\"BGS_TARGET\"] == 514])"
   ]
  },
  {
   "cell_type": "code",
   "execution_count": 13,
   "id": "1cefc880-914f-4305-a3ba-74eb8c440d42",
   "metadata": {},
   "outputs": [],
   "source": [
    "data = ascii.read(\"/global/homes/j/jgassert/full_table.ecsv\") "
   ]
  },
  {
   "cell_type": "code",
   "execution_count": 8,
   "id": "e3c90d32-93a0-4906-b168-4dbb696edc68",
   "metadata": {},
   "outputs": [
    {
     "data": {
      "text/plain": [
       "astropy.table.table.Table"
      ]
     },
     "execution_count": 8,
     "metadata": {},
     "output_type": "execute_result"
    }
   ],
   "source": [
    "type(data)"
   ]
  },
  {
   "cell_type": "code",
   "execution_count": 9,
   "id": "a6a919df-ae96-468c-a767-5af7201ea2ff",
   "metadata": {},
   "outputs": [],
   "source": [
    "data.rename_column('FLUX_G', 'FLUX_WRONG_G')\n",
    "data.rename_column('FLUX_R', 'FLUX_WRONG_R')\n",
    "data.rename_column('FLUX_WRONG_R', 'FLUX_G')\n",
    "data.rename_column('FLUX_WRONG_G', 'FLUX_R')\n",
    "data = data[gs.std_names]"
   ]
  },
  {
   "cell_type": "code",
   "execution_count": 11,
   "id": "ae669ec9-a328-4f47-a442-7e9b0f67f8ef",
   "metadata": {},
   "outputs": [],
   "source": [
    "data.write('good_z_data.fits', format='fits')"
   ]
  },
  {
   "cell_type": "code",
   "execution_count": 12,
   "id": "1249f31c-1535-474a-8623-06d9d12d2f36",
   "metadata": {},
   "outputs": [],
   "source": [
    "data_corrected = Table.read('good_z_data.fits', format='fits')"
   ]
  },
  {
   "cell_type": "code",
   "execution_count": 30,
   "id": "59c91a53-4dd2-46ef-908a-734f905dfd80",
   "metadata": {},
   "outputs": [
    {
     "data": {
      "text/html": [
       "<div><i>Table length=5</i>\n",
       "<table id=\"table139803469984432\" class=\"table-striped table-bordered table-condensed\">\n",
       "<thead><tr><th>TARGETID</th><th>TARGET_RA</th><th>TARGET_DEC</th><th>LASTNIGHT</th><th>Z</th><th>ZERR</th><th>ZWARN</th><th>FLUX_G</th><th>FLUX_R</th><th>FLUX_Z</th><th>SPECTYPE</th><th>BGS_TARGET</th><th>EBV</th><th>SERSIC</th></tr></thead>\n",
       "<thead><tr><th>int64</th><th>float64</th><th>float64</th><th>int64</th><th>float64</th><th>float64</th><th>int64</th><th>float64</th><th>float64</th><th>float64</th><th>str6</th><th>int64</th><th>float64</th><th>float64</th></tr></thead>\n",
       "<tr><td>39628001171736132</td><td>342.379989052395</td><td>8.81943566360954</td><td>20221126</td><td>0.350454198245097</td><td>7.71357316282643e-05</td><td>0</td><td>13.1860857009888</td><td>2.93682980537415</td><td>28.1502208709717</td><td>GALAXY</td><td>65537</td><td>0.0704450756311417</td><td>1.0</td></tr>\n",
       "<tr><td>39628001171736173</td><td>342.381854370417</td><td>8.78660864083436</td><td>20211126</td><td>0.268133278460806</td><td>2.74335846397887e-05</td><td>0</td><td>40.565258026123</td><td>12.7216529846191</td><td>88.1010513305664</td><td>GALAXY</td><td>131074</td><td>0.0726076290011406</td><td>6.0</td></tr>\n",
       "<tr><td>39628001171736255</td><td>342.3857474762</td><td>8.73123744440379</td><td>20211126</td><td>0.0797433140535211</td><td>8.12130010714796e-06</td><td>0</td><td>11.3315420150757</td><td>6.00943040847778</td><td>17.9243297576904</td><td>GALAXY</td><td>65545</td><td>0.0763106644153595</td><td>1.0</td></tr>\n",
       "<tr><td>39628001171736285</td><td>342.386792739222</td><td>8.66966201170546</td><td>20211126</td><td>0.400329630494547</td><td>9.5110411577271e-05</td><td>0</td><td>13.5422048568726</td><td>2.31780362129211</td><td>33.4780654907227</td><td>GALAXY</td><td>131074</td><td>0.0798639133572578</td><td>6.0</td></tr>\n",
       "<tr><td>39628001171736294</td><td>342.387005336383</td><td>8.64240638407512</td><td>20211108</td><td>0.45987751026537</td><td>5.1939584708531e-05</td><td>0</td><td>16.9370861053467</td><td>3.01793622970581</td><td>44.5305671691895</td><td>GALAXY</td><td>131074</td><td>0.0806919112801552</td><td>5.41908073425293</td></tr>\n",
       "</table></div>"
      ],
      "text/plain": [
       "<Table length=5>\n",
       "     TARGETID        TARGET_RA     ...        EBV              SERSIC     \n",
       "      int64           float64      ...      float64           float64     \n",
       "----------------- ---------------- ... ------------------ ----------------\n",
       "39628001171736132 342.379989052395 ... 0.0704450756311417              1.0\n",
       "39628001171736173 342.381854370417 ... 0.0726076290011406              6.0\n",
       "39628001171736255   342.3857474762 ... 0.0763106644153595              1.0\n",
       "39628001171736285 342.386792739222 ... 0.0798639133572578              6.0\n",
       "39628001171736294 342.387005336383 ... 0.0806919112801552 5.41908073425293"
      ]
     },
     "execution_count": 30,
     "metadata": {},
     "output_type": "execute_result"
    }
   ],
   "source": [
    "data[12345678:12345683]"
   ]
  },
  {
   "cell_type": "code",
   "execution_count": 31,
   "id": "da730248-109b-4221-b632-d8008b5a8a24",
   "metadata": {},
   "outputs": [
    {
     "data": {
      "text/html": [
       "<div><i>Table length=5</i>\n",
       "<table id=\"table139803469986976\" class=\"table-striped table-bordered table-condensed\">\n",
       "<thead><tr><th>TARGETID</th><th>TARGET_RA</th><th>TARGET_DEC</th><th>LASTNIGHT</th><th>Z</th><th>ZERR</th><th>ZWARN</th><th>FLUX_G</th><th>FLUX_R</th><th>FLUX_Z</th><th>SPECTYPE</th><th>BGS_TARGET</th><th>EBV</th><th>SERSIC</th></tr></thead>\n",
       "<thead><tr><th>int64</th><th>float64</th><th>float64</th><th>int64</th><th>float64</th><th>float64</th><th>int64</th><th>float64</th><th>float64</th><th>float64</th><th>bytes6</th><th>int64</th><th>float64</th><th>float64</th></tr></thead>\n",
       "<tr><td>39628001171736132</td><td>342.379989052395</td><td>8.81943566360954</td><td>20221126</td><td>0.350454198245097</td><td>7.71357316282643e-05</td><td>0</td><td>2.93682980537415</td><td>13.1860857009888</td><td>28.1502208709717</td><td>GALAXY</td><td>65537</td><td>0.0704450756311417</td><td>1.0</td></tr>\n",
       "<tr><td>39628001171736173</td><td>342.381854370417</td><td>8.78660864083436</td><td>20211126</td><td>0.268133278460806</td><td>2.74335846397887e-05</td><td>0</td><td>12.7216529846191</td><td>40.565258026123</td><td>88.1010513305664</td><td>GALAXY</td><td>131074</td><td>0.0726076290011406</td><td>6.0</td></tr>\n",
       "<tr><td>39628001171736255</td><td>342.3857474762</td><td>8.73123744440379</td><td>20211126</td><td>0.0797433140535211</td><td>8.12130010714796e-06</td><td>0</td><td>6.00943040847778</td><td>11.3315420150757</td><td>17.9243297576904</td><td>GALAXY</td><td>65545</td><td>0.0763106644153595</td><td>1.0</td></tr>\n",
       "<tr><td>39628001171736285</td><td>342.386792739222</td><td>8.66966201170546</td><td>20211126</td><td>0.400329630494547</td><td>9.5110411577271e-05</td><td>0</td><td>2.31780362129211</td><td>13.5422048568726</td><td>33.4780654907227</td><td>GALAXY</td><td>131074</td><td>0.0798639133572578</td><td>6.0</td></tr>\n",
       "<tr><td>39628001171736294</td><td>342.387005336383</td><td>8.64240638407512</td><td>20211108</td><td>0.45987751026537</td><td>5.1939584708531e-05</td><td>0</td><td>3.01793622970581</td><td>16.9370861053467</td><td>44.5305671691895</td><td>GALAXY</td><td>131074</td><td>0.0806919112801552</td><td>5.41908073425293</td></tr>\n",
       "</table></div>"
      ],
      "text/plain": [
       "<Table length=5>\n",
       "     TARGETID        TARGET_RA     ...        EBV              SERSIC     \n",
       "      int64           float64      ...      float64           float64     \n",
       "----------------- ---------------- ... ------------------ ----------------\n",
       "39628001171736132 342.379989052395 ... 0.0704450756311417              1.0\n",
       "39628001171736173 342.381854370417 ... 0.0726076290011406              6.0\n",
       "39628001171736255   342.3857474762 ... 0.0763106644153595              1.0\n",
       "39628001171736285 342.386792739222 ... 0.0798639133572578              6.0\n",
       "39628001171736294 342.387005336383 ... 0.0806919112801552 5.41908073425293"
      ]
     },
     "execution_count": 31,
     "metadata": {},
     "output_type": "execute_result"
    }
   ],
   "source": [
    "data_corrected[12345678:12345683]"
   ]
  },
  {
   "cell_type": "code",
   "execution_count": 27,
   "id": "eb633688-bb56-4c0a-8a01-ef04d50ee5fe",
   "metadata": {},
   "outputs": [
    {
     "data": {
      "text/html": [
       "<div><i>Table length=5</i>\n",
       "<table id=\"table139733457131920\" class=\"table-striped table-bordered table-condensed\">\n",
       "<thead><tr><th>TARGETID</th><th>TARGET_RA</th><th>TARGET_DEC</th><th>LASTNIGHT</th><th>Z</th><th>ZERR</th><th>ZWARN</th><th>FLUX_G</th><th>FLUX_R</th><th>FLUX_Z</th><th>SPECTYPE</th><th>BGS_TARGET</th><th>EBV</th><th>SERSIC</th></tr></thead>\n",
       "<thead><tr><th>int64</th><th>float64</th><th>float64</th><th>int64</th><th>float64</th><th>float64</th><th>int64</th><th>float64</th><th>float64</th><th>float64</th><th>bytes6</th><th>int64</th><th>float64</th><th>float64</th></tr></thead>\n",
       "<tr><td>39627322533350395</td><td>11.2017136545986</td><td>-19.3753250062112</td><td>20211215</td><td>0.274138421339174</td><td>7.3501930183854e-05</td><td>0</td><td>7.64354562759399</td><td>29.5323829650879</td><td>61.7763519287109</td><td>GALAXY</td><td>131074</td><td>0.0190095156431198</td><td>6.0</td></tr>\n",
       "<tr><td>39627322533353907</td><td>11.3031570730046</td><td>-19.3778160129495</td><td>20211215</td><td>0.160812674805974</td><td>3.74070815089717e-05</td><td>0</td><td>21.8182907104492</td><td>44.3453521728516</td><td>74.1602554321289</td><td>GALAXY</td><td>131074</td><td>0.0181874949485064</td><td>1.12676537036896</td></tr>\n",
       "<tr><td>39627322701120343</td><td>21.7265690067643</td><td>-19.404267970287</td><td>20211022</td><td>0.0347373193412903</td><td>3.04502283257839e-06</td><td>0</td><td>30.611120223999</td><td>40.2380104064941</td><td>47.7578353881836</td><td>GALAXY</td><td>131074</td><td>0.026496633887291</td><td>0.66505241394043</td></tr>\n",
       "<tr><td>39627322701120643</td><td>21.7335960725857</td><td>-19.3756051133826</td><td>20211022</td><td>0.252243092187585</td><td>4.24386834432005e-05</td><td>0</td><td>19.3021106719971</td><td>69.4891662597656</td><td>144.997436523438</td><td>GALAXY</td><td>131074</td><td>0.0254172254353762</td><td>5.25417852401733</td></tr>\n",
       "<tr><td>39627322701122007</td><td>21.7682640928066</td><td>-19.3895060286576</td><td>20211022</td><td>0.272183664497557</td><td>7.48448457991176e-06</td><td>0</td><td>10.1746435165405</td><td>19.1892528533936</td><td>29.1437644958496</td><td>GALAXY</td><td>131074</td><td>0.0247003585100174</td><td>0.544734835624695</td></tr>\n",
       "</table></div>"
      ],
      "text/plain": [
       "<Table length=5>\n",
       "     TARGETID        TARGET_RA     ...        EBV               SERSIC     \n",
       "      int64           float64      ...      float64            float64     \n",
       "----------------- ---------------- ... ------------------ -----------------\n",
       "39627322533350395 11.2017136545986 ... 0.0190095156431198               6.0\n",
       "39627322533353907 11.3031570730046 ... 0.0181874949485064  1.12676537036896\n",
       "39627322701120343 21.7265690067643 ...  0.026496633887291  0.66505241394043\n",
       "39627322701120643 21.7335960725857 ... 0.0254172254353762  5.25417852401733\n",
       "39627322701122007 21.7682640928066 ... 0.0247003585100174 0.544734835624695"
      ]
     },
     "execution_count": 27,
     "metadata": {},
     "output_type": "execute_result"
    }
   ],
   "source": [
    "data_corrected[:5]"
   ]
  },
  {
   "cell_type": "code",
   "execution_count": 42,
   "id": "e6f76b9d-1107-4dd5-80a5-028ef2b7cdcf",
   "metadata": {},
   "outputs": [],
   "source": [
    "data_corrected.write('good_z_data_BGSBright.fits', format='fits')"
   ]
  },
  {
   "cell_type": "code",
   "execution_count": 2,
   "id": "2dd129c5-dcb6-40a5-a5ce-f9b7205fb8a5",
   "metadata": {},
   "outputs": [],
   "source": [
    "data_corrected = Table.read(\"good_z_data_BGSBright.fits\")"
   ]
  },
  {
   "cell_type": "code",
   "execution_count": 3,
   "id": "233a2900-5b4a-4f45-8390-9d474b7cd347",
   "metadata": {},
   "outputs": [
    {
     "data": {
      "text/html": [
       "<div><i>Table length=5</i>\n",
       "<table id=\"table139803469980784\" class=\"table-striped table-bordered table-condensed\">\n",
       "<thead><tr><th>TARGETID</th><th>TARGET_RA</th><th>TARGET_DEC</th><th>LASTNIGHT</th><th>Z</th><th>ZERR</th><th>ZWARN</th><th>FLUX_G</th><th>FLUX_R</th><th>FLUX_Z</th><th>SPECTYPE</th><th>BGS_TARGET</th><th>EBV</th><th>SERSIC</th></tr></thead>\n",
       "<thead><tr><th>int64</th><th>float64</th><th>float64</th><th>int64</th><th>float64</th><th>float64</th><th>int64</th><th>float64</th><th>float64</th><th>float64</th><th>bytes6</th><th>int64</th><th>float64</th><th>float64</th></tr></thead>\n",
       "<tr><td>39627322533350395</td><td>11.2017136545986</td><td>-19.3753250062112</td><td>20211215</td><td>0.274138421339174</td><td>7.3501930183854e-05</td><td>0</td><td>7.64354562759399</td><td>29.5323829650879</td><td>61.7763519287109</td><td>GALAXY</td><td>131074</td><td>0.0190095156431198</td><td>6.0</td></tr>\n",
       "<tr><td>39627322533353907</td><td>11.3031570730046</td><td>-19.3778160129495</td><td>20211215</td><td>0.160812674805974</td><td>3.74070815089717e-05</td><td>0</td><td>21.8182907104492</td><td>44.3453521728516</td><td>74.1602554321289</td><td>GALAXY</td><td>131074</td><td>0.0181874949485064</td><td>1.12676537036896</td></tr>\n",
       "<tr><td>39627322701120343</td><td>21.7265690067643</td><td>-19.404267970287</td><td>20211022</td><td>0.0347373193412903</td><td>3.04502283257839e-06</td><td>0</td><td>30.611120223999</td><td>40.2380104064941</td><td>47.7578353881836</td><td>GALAXY</td><td>131074</td><td>0.026496633887291</td><td>0.66505241394043</td></tr>\n",
       "<tr><td>39627322701120643</td><td>21.7335960725857</td><td>-19.3756051133826</td><td>20211022</td><td>0.252243092187585</td><td>4.24386834432005e-05</td><td>0</td><td>19.3021106719971</td><td>69.4891662597656</td><td>144.997436523438</td><td>GALAXY</td><td>131074</td><td>0.0254172254353762</td><td>5.25417852401733</td></tr>\n",
       "<tr><td>39627322701122007</td><td>21.7682640928066</td><td>-19.3895060286576</td><td>20211022</td><td>0.272183664497557</td><td>7.48448457991176e-06</td><td>0</td><td>10.1746435165405</td><td>19.1892528533936</td><td>29.1437644958496</td><td>GALAXY</td><td>131074</td><td>0.0247003585100174</td><td>0.544734835624695</td></tr>\n",
       "</table></div>"
      ],
      "text/plain": [
       "<Table length=5>\n",
       "     TARGETID        TARGET_RA     ...        EBV               SERSIC     \n",
       "      int64           float64      ...      float64            float64     \n",
       "----------------- ---------------- ... ------------------ -----------------\n",
       "39627322533350395 11.2017136545986 ... 0.0190095156431198               6.0\n",
       "39627322533353907 11.3031570730046 ... 0.0181874949485064  1.12676537036896\n",
       "39627322701120343 21.7265690067643 ...  0.026496633887291  0.66505241394043\n",
       "39627322701120643 21.7335960725857 ... 0.0254172254353762  5.25417852401733\n",
       "39627322701122007 21.7682640928066 ... 0.0247003585100174 0.544734835624695"
      ]
     },
     "execution_count": 3,
     "metadata": {},
     "output_type": "execute_result"
    }
   ],
   "source": [
    "data_corrected[:5]"
   ]
  },
  {
   "cell_type": "code",
   "execution_count": null,
   "id": "563f45d1-981f-453b-a8fd-1431f8f32fcf",
   "metadata": {},
   "outputs": [],
   "source": []
  }
 ],
 "metadata": {
  "kernelspec": {
   "display_name": "Python (MambaTest)",
   "language": "python",
   "name": "mambatest"
  },
  "language_info": {
   "codemirror_mode": {
    "name": "ipython",
    "version": 3
   },
   "file_extension": ".py",
   "mimetype": "text/x-python",
   "name": "python",
   "nbconvert_exporter": "python",
   "pygments_lexer": "ipython3",
   "version": "3.10.10"
  }
 },
 "nbformat": 4,
 "nbformat_minor": 5
}
