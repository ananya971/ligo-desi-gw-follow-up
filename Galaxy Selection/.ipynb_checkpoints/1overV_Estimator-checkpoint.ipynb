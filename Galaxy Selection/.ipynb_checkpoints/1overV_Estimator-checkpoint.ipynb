{
 "cells": [
  {
   "cell_type": "markdown",
   "id": "9d07748d-7c45-40e3-8ff6-9931c0e11765",
   "metadata": {},
   "source": [
    "# Simple 1/V estimator\n",
    "Source: doi:10.1093/mnras/stw756 (page 7)"
   ]
  },
  {
   "cell_type": "markdown",
   "id": "c01cf45c-de11-411d-8585-3f9d366215dc",
   "metadata": {},
   "source": [
    "## Imports, initial values"
   ]
  },
  {
   "cell_type": "code",
   "execution_count": 1,
   "id": "25dfacae-95c1-40fb-a89a-6d06296c4fc3",
   "metadata": {},
   "outputs": [],
   "source": [
    "import numpy as np\n",
    "from astropy.coordinates import Distance\n",
    "from astropy.table import Table, hstack\n",
    "from astropy.cosmology import Planck18\n",
    "from astropy import units as u\n",
    "import astropy.constants as asc\n",
    "import matplotlib.pyplot as plt\n",
    "\n",
    "from scipy.optimize import curve_fit\n",
    "\n",
    "import corner\n",
    "import arviz as az\n",
    "\n",
    "from astropy.modeling.models import Schechter1D\n",
    "from astropy.modeling import models, fitting\n",
    "\n",
    "# custom GAlaxy SELection functions\n",
    "import gasel as gs"
   ]
  },
  {
   "cell_type": "markdown",
   "id": "9904d5ee-cb69-44a4-9fa4-cb8f7dd36bc3",
   "metadata": {},
   "source": [
    "Complete Sky area in deg^2"
   ]
  },
  {
   "cell_type": "code",
   "execution_count": 2,
   "id": "f92d9422-909c-4a5a-93bd-3e9a2557b721",
   "metadata": {},
   "outputs": [
    {
     "name": "stdout",
     "output_type": "stream",
     "text": [
      "This patch has an area of 299.62 sqdeg\n"
     ]
    }
   ],
   "source": [
    "min_ra = 190\n",
    "min_dec = -5\n",
    "max_ra = 220\n",
    "max_dec = 5\n",
    "buffer = 2.0\n",
    "\n",
    "area = (np.deg2rad(max_ra) - np.deg2rad(min_ra)) * (np.cos(np.deg2rad(90-max_dec)) - np.cos(np.deg2rad(90-min_dec)))\n",
    "area = area*((180/np.pi)**2)\n",
    "print('This patch has an area of {:.2f} sqdeg'.format(area))"
   ]
  },
  {
   "cell_type": "markdown",
   "id": "416a5b6f-3dc2-4419-acfc-0697a90bcecb",
   "metadata": {},
   "source": [
    "## Load the data & prepare/select"
   ]
  },
  {
   "cell_type": "code",
   "execution_count": 3,
   "id": "f1a14b5f-88ff-48c2-b818-ada441f7a5a3",
   "metadata": {},
   "outputs": [
    {
     "name": "stdout",
     "output_type": "stream",
     "text": [
      "/global/cfs/cdirs/desi/spectro/redux/iron/\n"
     ]
    }
   ],
   "source": [
    "# Release directory path\n",
    "\n",
    "specprod = 'iron'    # Internal name for most current data release\n",
    "specprod_dir = '/global/cfs/cdirs/desi/spectro/redux/iron/'\n",
    "print(specprod_dir)"
   ]
  },
  {
   "cell_type": "code",
   "execution_count": null,
   "id": "786e2b78-69a5-48b6-ae2b-9530733b2e8b",
   "metadata": {},
   "outputs": [],
   "source": [
    "ztile_cat = Table.read(f'{specprod_dir}/zcatalog/zall-tilecumulative-{specprod}.fits', hdu=\"ZCATALOG\")"
   ]
  },
  {
   "cell_type": "code",
   "execution_count": null,
   "id": "dbf17546-b683-45ba-ab33-9ceecaa84d63",
   "metadata": {},
   "outputs": [],
   "source": [
    "ztile_cat[200000:200002]"
   ]
  },
  {
   "cell_type": "code",
   "execution_count": null,
   "id": "3163f465-9128-483d-b0bf-cd883ecde43f",
   "metadata": {},
   "outputs": [],
   "source": [
    "ztile_cat.keep_columns(['TARGETID', 'SURVEY', 'PROGRAM', 'Z', 'ZERR', 'ZWARN', 'TARGET_RA', 'TARGET_DEC', 'FLUX_G', 'FLUX_R', 'FLUX_Z', 'LASTNIGHT', 'SPECTYPE', 'BGS_TARGET'])"
   ]
  },
  {
   "cell_type": "code",
   "execution_count": null,
   "id": "fcdca5db-09cb-44b3-b12f-f3e23c45a337",
   "metadata": {},
   "outputs": [],
   "source": [
    "# lets use the whole sky\n",
    "\n",
    "\"\"\"ii = ztile_cat['TARGET_RA']>(min_ra)\n",
    "ii &= ztile_cat['TARGET_RA']<(max_ra)\n",
    "ii &= ztile_cat['TARGET_DEC']>(min_dec)\n",
    "ii &= ztile_cat['TARGET_DEC']<(max_dec)\n",
    "\n",
    "ztile_cat = ztile_cat[ii]\"\"\"\n",
    "print(\"All entries after localization selection\", len(ztile_cat))"
   ]
  },
  {
   "cell_type": "code",
   "execution_count": null,
   "id": "43f14b0a-484c-4d76-ab9e-666e97183960",
   "metadata": {},
   "outputs": [],
   "source": [
    "#ztile_cat = ztile_cat[ztile_cat[\"PROGRAM\"] == \"bright\"]"
   ]
  },
  {
   "cell_type": "code",
   "execution_count": null,
   "id": "92d85cbc-eba4-493c-9a92-23170fa0ded8",
   "metadata": {},
   "outputs": [],
   "source": [
    "#print(\"All entries in BRIGHT data: \", len(ztile_cat))"
   ]
  },
  {
   "cell_type": "code",
   "execution_count": null,
   "id": "61f54dae-37b6-4100-bfd2-9b3700be313c",
   "metadata": {},
   "outputs": [],
   "source": [
    "ztile_cat = ztile_cat[ztile_cat[\"BGS_TARGET\"] > 0]"
   ]
  },
  {
   "cell_type": "code",
   "execution_count": null,
   "id": "06776caa-2a49-45b3-a606-3962defecc6d",
   "metadata": {},
   "outputs": [],
   "source": [
    "print(\"All entries in BGS_TARGET > 0 data: \", len(ztile_cat))"
   ]
  },
  {
   "cell_type": "code",
   "execution_count": null,
   "id": "bc76010e-7378-490c-99a6-58e50eaef94a",
   "metadata": {},
   "outputs": [],
   "source": [
    "ztile_cat = ztile_cat[ztile_cat['ZWARN']==0]"
   ]
  },
  {
   "cell_type": "code",
   "execution_count": null,
   "id": "5448d191-ca6a-4e7f-8ee3-7361ea7017a7",
   "metadata": {},
   "outputs": [],
   "source": [
    "ztile_cat = ztile_cat[ztile_cat['Z']>=0]\n",
    "print(\"All entries after good redshift selection\", len(ztile_cat))"
   ]
  },
  {
   "cell_type": "code",
   "execution_count": null,
   "id": "ef02724d-6463-43da-b771-b9edd7c5ce39",
   "metadata": {},
   "outputs": [],
   "source": [
    "ztile_cat = ztile_cat[ztile_cat[\"FLUX_Z\"] > 0.0]\n",
    "print(\"All entries after Flux Z selection\", len(ztile_cat))"
   ]
  },
  {
   "cell_type": "code",
   "execution_count": null,
   "id": "cfab9be1-b332-4cb9-9bdd-6315545c9a89",
   "metadata": {},
   "outputs": [],
   "source": [
    "ztile_cat = ztile_cat[ztile_cat[\"FLUX_R\"] > 0.0]\n",
    "print(\"All entries after Flux R selection\", len(ztile_cat))"
   ]
  },
  {
   "cell_type": "code",
   "execution_count": null,
   "id": "972ff23a-1336-429e-807e-77580925b33d",
   "metadata": {},
   "outputs": [],
   "source": [
    "ztile_cat = ztile_cat[ztile_cat[\"FLUX_G\"] > 0.0]\n",
    "print(\"All entries after Flux G selection\", len(ztile_cat))"
   ]
  },
  {
   "cell_type": "code",
   "execution_count": null,
   "id": "d2c3bef0-898e-4194-b122-16009dae5df4",
   "metadata": {},
   "outputs": [],
   "source": [
    "ztile_cat = ztile_cat[ztile_cat[\"SPECTYPE\"] == \"GALAXY\"]"
   ]
  },
  {
   "cell_type": "code",
   "execution_count": null,
   "id": "e18a98fc-bb1e-423c-a5c0-b17236a5dcb2",
   "metadata": {},
   "outputs": [],
   "source": [
    "print(\"All entries after Type (Galaxy) selection\", len(ztile_cat))"
   ]
  },
  {
   "cell_type": "markdown",
   "id": "669f8289-2ffc-4217-a1f0-2ed7e3869848",
   "metadata": {},
   "source": [
    "### Calculate the apparent and absolute magnitudes from the given Fluxes (app mag both r and z-band flux, to correct the z limit() with a Planck Cosmology"
   ]
  },
  {
   "cell_type": "code",
   "execution_count": null,
   "id": "d32664ae-f538-4e40-8cf0-8d6ed4abecce",
   "metadata": {},
   "outputs": [],
   "source": [
    "# calculate the apparent magnitude of every galaxy (Planck Cosmology)\n",
    "app_mag_z = gs.app_mag(ztile_cat[\"FLUX_Z\"])\n",
    "app_mag_r = gs.app_mag(ztile_cat[\"FLUX_R\"])\n",
    "app_mag_g = gs.app_mag(ztile_cat[\"FLUX_G\"])"
   ]
  },
  {
   "cell_type": "code",
   "execution_count": null,
   "id": "3caf5917-deaa-4f41-94a0-e1719700941c",
   "metadata": {},
   "outputs": [],
   "source": [
    "# calculate the absolute magnitude of every galaxy, not yet including a K-correction however with SDSS filters (Planck Cosmology)\n",
    "\n",
    "\n",
    "### NO K-CORRECTION USED; SHOULD BE ABLE TO IMPLEMENT QUICKLY\n",
    "abs_mag_z = gs.abs_mag(app_mag_z, ztile_cat[\"Z\"], \"z\", \"g - z\", app_mag_g - app_mag_z)\n",
    "abs_mag_r = gs.abs_mag(app_mag_r, ztile_cat[\"Z\"], \"r\", \"g - r\", app_mag_g - app_mag_r)"
   ]
  },
  {
   "cell_type": "code",
   "execution_count": null,
   "id": "087b06c2-0b02-42b3-9d47-33ccc7409d64",
   "metadata": {},
   "outputs": [],
   "source": [
    "# plot magnitudes\n",
    "\n",
    "fig, ax = plt.subplots(ncols = 3, figsize  = (15,10))\n",
    "\n",
    "ax[0].hist(app_mag_g, bins = \"auto\", label = \"g-band\", color = \"green\")\n",
    "ax[1].hist(app_mag_r, bins = \"auto\", label = \"r-band\", color = \"red\")\n",
    "\n",
    "ymin,ymax = ax[1].get_ylim()\n",
    "ax[1].vlines(19.5, ymin, ymax, color = \"blue\")\n",
    "\n",
    "ax[2].hist(app_mag_z, bins = \"auto\", label = \"z-band\", color = \"purple\")\n",
    "\n",
    "for axis in ax:\n",
    "    axis.set_xlabel(\"app mag\")\n",
    "    axis.set_ylabel(\"number of objects\")\n",
    "    axis.legend()\n",
    "\n",
    "plt.tight_layout()\n",
    "plt.show()\n"
   ]
  },
  {
   "cell_type": "code",
   "execution_count": null,
   "id": "99bc5e50-365e-4940-b3b1-9d04a284839b",
   "metadata": {},
   "outputs": [],
   "source": [
    "np.min(abs_mag_r)"
   ]
  },
  {
   "cell_type": "code",
   "execution_count": null,
   "id": "b1a75d2f-6a8b-47d6-b0b0-62740bbb2895",
   "metadata": {},
   "outputs": [],
   "source": [
    "np.sort(abs_mag_r)[::-1]"
   ]
  },
  {
   "cell_type": "code",
   "execution_count": null,
   "id": "45d7a47e-c287-4f06-911d-ae28520a9f99",
   "metadata": {},
   "outputs": [],
   "source": [
    "corner_plot_data = {\"G\": app_mag_g, \"R\": app_mag_r, \"Z\": app_mag_z}\n",
    "corner_plot_data = az.from_dict(posterior = corner_plot_data, sample_stats={\"diverging\": app_mag_r>19.5})"
   ]
  },
  {
   "cell_type": "code",
   "execution_count": null,
   "id": "114ff701-8842-45c4-853a-3c90ab443e9d",
   "metadata": {},
   "outputs": [],
   "source": [
    "figure = corner.corner(corner_plot_data, divergences = True)"
   ]
  },
  {
   "cell_type": "code",
   "execution_count": null,
   "id": "7367930e-0561-4865-b268-67fed1534e63",
   "metadata": {},
   "outputs": [],
   "source": [
    "diff = [app_mag_r[q]-app_mag_z[q] for q in range(len(app_mag_r))]"
   ]
  },
  {
   "cell_type": "code",
   "execution_count": null,
   "id": "20b68d1f-f80d-4800-bc99-e90c8f5c90f4",
   "metadata": {},
   "outputs": [],
   "source": [
    "fig, ax = plt.subplots(figsize = (5,3))\n",
    "\n",
    "ax.hist(diff, bins='auto')\n",
    "ax.set_xlabel(\"r-z bnd magnitude\")\n",
    "ax.set_ylabel(\"Number count in bins\")\n",
    "plt.title(\"Histogram of r-z band magnitude\")\n",
    "plt.show()"
   ]
  },
  {
   "cell_type": "code",
   "execution_count": null,
   "id": "a38e350e-ee45-4663-8076-8586978e0a32",
   "metadata": {},
   "outputs": [],
   "source": [
    "avg_diff = np.mean(diff)"
   ]
  },
  {
   "cell_type": "code",
   "execution_count": null,
   "id": "b18fe320-b9aa-4390-9486-abe5310ea9ae",
   "metadata": {},
   "outputs": [],
   "source": [
    "avg_diff"
   ]
  },
  {
   "cell_type": "code",
   "execution_count": null,
   "id": "c82763d0-90ef-4d43-abc7-c2a12aeaee25",
   "metadata": {},
   "outputs": [],
   "source": [
    "lums_z = gs.lum(abs_mag_z, band = \"z\")"
   ]
  },
  {
   "cell_type": "code",
   "execution_count": null,
   "id": "25e22ada-ce54-4a82-9468-fa0ffe6f998b",
   "metadata": {},
   "outputs": [],
   "source": [
    "lums_r = gs.lum(abs_mag_r, band = \"r\")"
   ]
  },
  {
   "cell_type": "code",
   "execution_count": null,
   "id": "52dd26c2-6387-4e62-bda1-fffa8a97af38",
   "metadata": {},
   "outputs": [],
   "source": [
    "offset = 0"
   ]
  },
  {
   "cell_type": "code",
   "execution_count": null,
   "id": "673bcdce-84c7-4bc0-a76c-090bf83a1f94",
   "metadata": {},
   "outputs": [],
   "source": [
    "m_limit_z = 19.5-avg_diff+offset # r-band magnitude limit for BGS Bright, would need to convert it to z-band magnitude"
   ]
  },
  {
   "cell_type": "code",
   "execution_count": null,
   "id": "f6aee0f5-152d-4211-ac75-f89cace3c25c",
   "metadata": {},
   "outputs": [],
   "source": [
    "m_limit_z"
   ]
  },
  {
   "cell_type": "code",
   "execution_count": null,
   "id": "48fb203d-14a1-4b37-abbc-0f71c7ef35f3",
   "metadata": {},
   "outputs": [],
   "source": [
    "m_limit_r = 19.5"
   ]
  },
  {
   "cell_type": "code",
   "execution_count": null,
   "id": "5d6ed823-38c7-47a1-aa4c-61e5b12f8af4",
   "metadata": {},
   "outputs": [],
   "source": [
    "lumin_limits_r = gs.lum_lim(lums_r, m_limit_r, app_mag_r)"
   ]
  },
  {
   "cell_type": "code",
   "execution_count": null,
   "id": "8a93cb69-3072-4914-a4da-4f9236320637",
   "metadata": {},
   "outputs": [],
   "source": [
    "lumin_limits_z = gs.lum_lim(lums_z, m_limit_z, app_mag_z)"
   ]
  },
  {
   "cell_type": "code",
   "execution_count": null,
   "id": "57cdaaf9-e555-4a22-b295-281d6e4b45a3",
   "metadata": {},
   "outputs": [],
   "source": [
    "# cornerplot (corner, chainconsumer) to see whether I miss peculiar galaxies\n",
    "# redshift"
   ]
  },
  {
   "cell_type": "code",
   "execution_count": null,
   "id": "3ec21f1d-4e9c-4cd4-ad7a-314b844ad612",
   "metadata": {},
   "outputs": [],
   "source": [
    "ztile_cat = hstack([ztile_cat, Table({\"APP_MAG_G\": app_mag_g}),  Table({\"APP_MAG_R\": app_mag_r}), Table({'APP_MAG_Z': app_mag_z}), Table({'ABS_MAG_R': abs_mag_r}), Table({'ABS_MAG_Z': abs_mag_z}), Table({\"LUM_Z\": lums_z}), Table({\"LUM_R\": lums_r}), Table({'LUM_LIMIT_Z': lumin_limits_z}), Table({'LUM_LIMIT_R': lumin_limits_r})])"
   ]
  },
  {
   "cell_type": "code",
   "execution_count": null,
   "id": "15f5c1cc-31b6-482b-bd29-2133cfc24846",
   "metadata": {},
   "outputs": [],
   "source": [
    "ztile_cat"
   ]
  },
  {
   "cell_type": "code",
   "execution_count": null,
   "id": "af1b88be-ca66-4f26-9b7c-c0f3d4ff5902",
   "metadata": {},
   "outputs": [],
   "source": [
    "ztile_cat.group_by(\"ABS_MAG_R\")[::-1]"
   ]
  },
  {
   "cell_type": "code",
   "execution_count": null,
   "id": "ac65e04e-e7f4-41bf-aa91-068bfb676bec",
   "metadata": {},
   "outputs": [],
   "source": [
    "ztile_cat_r_cut = ztile_cat"
   ]
  },
  {
   "cell_type": "code",
   "execution_count": null,
   "id": "79e9c685-75d4-4c94-bb9f-9b5e01cab551",
   "metadata": {},
   "outputs": [],
   "source": [
    "len(ztile_cat_r_cut)"
   ]
  },
  {
   "cell_type": "code",
   "execution_count": null,
   "id": "d6939619-9c5d-4818-86ff-db995f5795bc",
   "metadata": {},
   "outputs": [],
   "source": [
    "ztile_cat_r_cut = ztile_cat[ztile_cat[\"APP_MAG_R\"] < m_limit_r]"
   ]
  },
  {
   "cell_type": "code",
   "execution_count": null,
   "id": "131d622f-db09-4f1d-b786-40004779ab9f",
   "metadata": {},
   "outputs": [],
   "source": [
    "len(ztile_cat_r_cut)"
   ]
  },
  {
   "cell_type": "code",
   "execution_count": null,
   "id": "9f1867d5-ea81-4f0f-b3f2-9893ab70d4f3",
   "metadata": {},
   "outputs": [],
   "source": [
    "ztile_cat_r_cut  = ztile_cat_r_cut[ztile_cat_r_cut[\"Z\"]>0.02]\n",
    "ztile_cat_r_cut  = ztile_cat_r_cut[ztile_cat_r_cut[\"Z\"]<0.6]"
   ]
  },
  {
   "cell_type": "code",
   "execution_count": null,
   "id": "02640fd8-c32b-42ea-a0f0-ea37f749cfd2",
   "metadata": {},
   "outputs": [],
   "source": [
    "len(ztile_cat_r_cut)"
   ]
  },
  {
   "cell_type": "code",
   "execution_count": null,
   "id": "c04ae7e0-5035-40e4-974c-76bf071b0057",
   "metadata": {},
   "outputs": [],
   "source": [
    "# ztile_cat_grouped_by_AppMag = ztile_cat_grouped_by_AppMag[ztile_cat_grouped_by_AppMag[\"Z\"]< 0.6]\n",
    "# ztile_cat_grouped_by_AppMag = ztile_cat_grouped_by_AppMag[ztile_cat_grouped_by_AppMag[\"Z\"]> 0.1]"
   ]
  },
  {
   "cell_type": "code",
   "execution_count": null,
   "id": "d2d1f587-ab24-485d-bc9d-4dc388f4e43f",
   "metadata": {},
   "outputs": [],
   "source": [
    "# ztile_cat_r_cut = ztile_cat_r_cut[ztile_cat_r_cut[\"Z\"] > 0.1]"
   ]
  },
  {
   "cell_type": "code",
   "execution_count": null,
   "id": "bd84a250-eeb0-48e9-8462-6be9c18c39da",
   "metadata": {},
   "outputs": [],
   "source": [
    "z_max_data = np.max(ztile_cat_r_cut[\"Z\"])\n",
    "z_min_data = np.min(ztile_cat_r_cut[\"Z\"])\n",
    "print(\"z min and max in sample: \", z_min_data, z_max_data)"
   ]
  },
  {
   "cell_type": "code",
   "execution_count": null,
   "id": "ce586540-5ad1-4cfb-af38-1f1fb7de9c8b",
   "metadata": {},
   "outputs": [],
   "source": [
    "ztile_cat_r_cut"
   ]
  },
  {
   "cell_type": "code",
   "execution_count": null,
   "id": "a62a951f-77f6-4100-bd35-09f168ca476c",
   "metadata": {},
   "outputs": [],
   "source": [
    "fig, ax = plt.subplots(figsize = (10,5))\n",
    "\n",
    "ax.hist(ztile_cat_r_cut[\"APP_MAG_Z\"], bins = \"auto\")\n",
    "ax.vlines(m_limit_z, 0, 4000)\n",
    "\n",
    "plt.show()"
   ]
  },
  {
   "cell_type": "code",
   "execution_count": null,
   "id": "ab23636e-ac89-4356-bb35-e2f1bbe8a809",
   "metadata": {},
   "outputs": [],
   "source": [
    "corner_plot_data = {\"G\": ztile_cat_r_cut[\"APP_MAG_G\"], \"R\": ztile_cat_r_cut[\"APP_MAG_R\"], \"Z\": ztile_cat_r_cut[\"APP_MAG_Z\"]}\n",
    "corner_plot_data = az.from_dict(posterior = corner_plot_data, sample_stats={\"diverging\": ztile_cat_r_cut[\"APP_MAG_Z\"]>m_limit_z})"
   ]
  },
  {
   "cell_type": "code",
   "execution_count": null,
   "id": "1b17f482-057c-4a07-929a-0b03cb3184f1",
   "metadata": {},
   "outputs": [],
   "source": [
    "figure = corner.corner(corner_plot_data, divergences = True)"
   ]
  },
  {
   "cell_type": "code",
   "execution_count": null,
   "id": "c8aedfe0-ef64-41fe-bf03-89227fca3f39",
   "metadata": {},
   "outputs": [],
   "source": [
    "corner_plot_data = {\"G-R\": ztile_cat_r_cut[\"APP_MAG_G\"]-ztile_cat_r_cut[\"APP_MAG_R\"], \"R-Z\": ztile_cat_r_cut[\"APP_MAG_R\"] - ztile_cat_r_cut[\"APP_MAG_Z\"]}\n",
    "corner_plot_data = az.from_dict(posterior = corner_plot_data, sample_stats={\"diverging\": ztile_cat_r_cut[\"APP_MAG_Z\"]>m_limit_z})"
   ]
  },
  {
   "cell_type": "code",
   "execution_count": null,
   "id": "7c7903d1-f0ee-42bd-8165-6dc7ce251ee9",
   "metadata": {},
   "outputs": [],
   "source": [
    "figure = corner.corner(corner_plot_data, divergences = True)"
   ]
  },
  {
   "cell_type": "code",
   "execution_count": null,
   "id": "4e9c8a0a-9465-4b85-9d62-6dbde9d5cf0f",
   "metadata": {},
   "outputs": [],
   "source": [
    "fig, ax = plt.subplots(figsize = (10,8))\n",
    "\n",
    "ax.hist(ztile_cat_r_cut[\"Z\"][ztile_cat_r_cut[\"APP_MAG_Z\"]>m_limit_z], bins = \"auto\")\n",
    "ax.set_xlabel(\"redshift\")\n",
    "plt.title(\"Redshifts from 'problematic' galaxies\")\n",
    "plt.show()"
   ]
  },
  {
   "cell_type": "code",
   "execution_count": null,
   "id": "0ed59a4a-617d-49e6-8729-22cb21c75861",
   "metadata": {},
   "outputs": [],
   "source": [
    "len(ztile_cat_r_cut[ztile_cat_r_cut[\"APP_MAG_R\"]>m_limit_z]), len(ztile_cat_r_cut), len(ztile_cat_r_cut[ztile_cat_r_cut[\"APP_MAG_R\"]>m_limit_z])/len(ztile_cat_r_cut)"
   ]
  },
  {
   "cell_type": "code",
   "execution_count": null,
   "id": "ff1741c3-e6eb-4589-858d-efdc1b4edc74",
   "metadata": {},
   "outputs": [],
   "source": [
    "ztile_cat_grouped_by_AppMag = ztile_cat_r_cut.group_by(\"APP_MAG_R\")"
   ]
  },
  {
   "cell_type": "code",
   "execution_count": null,
   "id": "96174d44-f29f-496d-ae3e-b61a31d02272",
   "metadata": {},
   "outputs": [],
   "source": [
    "ztile_cat_grouped_by_AppMag"
   ]
  },
  {
   "cell_type": "code",
   "execution_count": null,
   "id": "76d55a9f-918a-4b0c-b510-a16454c62bf4",
   "metadata": {},
   "outputs": [],
   "source": [
    "ztile_cat_grouped_by_AppMag = ztile_cat_grouped_by_AppMag[::-1]"
   ]
  },
  {
   "cell_type": "code",
   "execution_count": null,
   "id": "63778180-9e7b-43e1-aa0f-14b7ddceff1a",
   "metadata": {},
   "outputs": [],
   "source": [
    "ztile_cat_grouped_by_AppMag[:5]"
   ]
  },
  {
   "cell_type": "code",
   "execution_count": null,
   "id": "2388beb3-8efa-4122-b76a-8196d0567035",
   "metadata": {},
   "outputs": [],
   "source": [
    "ztile_cat_grouped_by_AppMag_sel = ztile_cat_grouped_by_AppMag[:int(0.2*len(ztile_cat_grouped_by_AppMag))]"
   ]
  },
  {
   "cell_type": "code",
   "execution_count": null,
   "id": "a3d17185-0223-4d8b-872b-83bbd44e252c",
   "metadata": {},
   "outputs": [],
   "source": [
    "np.max(ztile_cat_grouped_by_AppMag[\"LUM_R\"]), np.min(ztile_cat_grouped_by_AppMag[\"LUM_R\"]), np.max(ztile_cat_grouped_by_AppMag_sel[\"LUM_R\"]), np.min(ztile_cat_grouped_by_AppMag_sel[\"LUM_R\"])"
   ]
  },
  {
   "cell_type": "code",
   "execution_count": null,
   "id": "a92c5007-d817-4564-91c4-296f594b5b5f",
   "metadata": {},
   "outputs": [],
   "source": [
    "fig, ax = plt.subplots(ncols = 2, figsize = (25,10))\n",
    "\n",
    "ax[0].scatter(ztile_cat_grouped_by_AppMag[\"Z\"], ztile_cat_grouped_by_AppMag[\"LUM_R\"], s = 0.01, color = \"blue\", label = \"all lums\")\n",
    "ax[0].scatter(ztile_cat_grouped_by_AppMag_sel[\"Z\"], ztile_cat_grouped_by_AppMag_sel[\"LUM_R\"], s = 0.1, color = \"red\", label =\"lums of 20% of faintest objects\")\n",
    "\n",
    "ax[1].scatter(ztile_cat_grouped_by_AppMag[\"Z\"], ztile_cat_grouped_by_AppMag[\"APP_MAG_R\"], s = 0.01, color = \"blue\", label = \"all r-band mags\")\n",
    "ax[1].scatter(ztile_cat_grouped_by_AppMag_sel[\"Z\"], ztile_cat_grouped_by_AppMag_sel[\"APP_MAG_R\"], s = 0.01, color = \"red\", label = \"faintest 20% magnitudes\")\n",
    "\n",
    "\n",
    "ax[0].set_xlabel(\"redshift\")\n",
    "ax[0].set_ylabel(\"Luminosity in r-band in units of L_sun_r\")\n",
    "ax[0].set_yscale(\"log\")\n",
    "#ax.set_xlim(0.08,.6)\n",
    "#ax.set_ylim(10**3,10**5)\n",
    "ax[0].legend()\n",
    "\n",
    "ax[1].set_xlabel(\"redshift\")\n",
    "ax[1].set_ylabel(\"z-band magnitudes\")\n",
    "ax[1].set_yscale(\"log\")\n",
    "ax[1].legend()\n",
    "\n",
    "plt.show()"
   ]
  },
  {
   "cell_type": "code",
   "execution_count": null,
   "id": "03733ee8-a8f0-4354-995d-8144714ec4ad",
   "metadata": {},
   "outputs": [],
   "source": [
    "ztile_cat_grouped_by_AppMag_sel"
   ]
  },
  {
   "cell_type": "code",
   "execution_count": null,
   "id": "3d1150e7-837c-413c-97df-bc00287e69fe",
   "metadata": {},
   "outputs": [],
   "source": [
    "lower_limit_z = np.min(ztile_cat_grouped_by_AppMag[\"Z\"]) # np.min(faint_mags[\"Z\"]) # get the limits of redshift in this sample\n",
    "upper_limit_z = np.max(ztile_cat_grouped_by_AppMag[\"Z\"]) # np.max(faint_mags[\"Z\"])\n",
    "delta_z = 0.005\n",
    "bins = np.arange(lower_limit_z, upper_limit_z, delta_z)\n",
    "num_of_bins_z = len(bins)"
   ]
  },
  {
   "cell_type": "code",
   "execution_count": null,
   "id": "018c3e41-f8dc-4460-b785-78355f514aab",
   "metadata": {},
   "outputs": [],
   "source": [
    "lower_limit_z, upper_limit_z, num_of_bins_z"
   ]
  },
  {
   "cell_type": "code",
   "execution_count": null,
   "id": "792a98d9-3af7-416f-b528-286f64481324",
   "metadata": {},
   "outputs": [],
   "source": [
    "LUM_95 = [0 for x in range(num_of_bins_z-1)] # this will be the array in which we store the mass limit of each bin\n",
    "LUM_LIM_95 = [0 for x in range(num_of_bins_z-1)] # this will be the array in which we store the mass limit of each bin\n",
    "\n",
    "cnt = 0\n",
    "for bins_left_edge in bins[:num_of_bins_z-1]:\n",
    "    # this is where we select all the galaxies that lie in the z range ([start, stop))\n",
    "    \n",
    "    # z-range selection\n",
    "    ii = ztile_cat_grouped_by_AppMag_sel['Z']>=(bins_left_edge)\n",
    "    ii &= ztile_cat_grouped_by_AppMag_sel['Z']<(bins_left_edge+delta_z)\n",
    "    dat = ztile_cat_grouped_by_AppMag_sel[ii]\n",
    "\n",
    "    # select only z-band luminosity (limit)\n",
    "    LUM = dat[\"LUM_R\"]\n",
    "    LUM_LIM = dat[\"LUM_LIMIT_R\"]\n",
    "    \n",
    "    # sort this data ascending\n",
    "    LUM = np.sort(LUM)\n",
    "    LUM_LIM = np.sort(LUM_LIM)\n",
    "    \n",
    "    # impose the same cut as in the paper, at 95%. This is the mass limit value\n",
    "    LUM_cut = int(0.95*len(LUM))\n",
    "    LUM_LIM_cut = int(0.95*len(LUM_LIM))\n",
    "\n",
    "    # if there was no data in this bin, just store a 0\n",
    "    if len(LUM) == 0:\n",
    "        LUM = [0]\n",
    "    if len(LUM_LIM) == 0:\n",
    "        LUM_LIM = [0]\n",
    "    \n",
    "    # now store this luminosity (limit) value for the whole redshift range\n",
    "    LUM_95[cnt] = LUM[LUM_cut] # this is the 95% lum per bin\n",
    "    LUM_LIM_95[cnt] = LUM_LIM[LUM_LIM_cut] # this is the \"Luminosity Limit\" value per bin\n",
    "    cnt += 1"
   ]
  },
  {
   "cell_type": "code",
   "execution_count": null,
   "id": "a3a9f8c9-b9cb-4745-9643-c9aaa15657d4",
   "metadata": {},
   "outputs": [],
   "source": [
    "stop_at = np.argmin(LUM_LIM_95[1:])\n",
    "if stop_at == 0:\n",
    "    stop_at = len(LUM_LIM_95)"
   ]
  },
  {
   "cell_type": "code",
   "execution_count": null,
   "id": "c315dd6f-27d1-443e-bc60-b81c3ae3215e",
   "metadata": {},
   "outputs": [],
   "source": [
    "stop_at"
   ]
  },
  {
   "cell_type": "code",
   "execution_count": null,
   "id": "9bc09b0f-aec6-46b9-a789-e6d268b6a00f",
   "metadata": {},
   "outputs": [],
   "source": [
    "fig, ax = plt.subplots(figsize = (15,8))\n",
    "\n",
    "ax.scatter(ztile_cat_grouped_by_AppMag[\"Z\"], ztile_cat_grouped_by_AppMag[\"LUM_R\"]/gs.L_sun_r, s = 0.01, color = \"blue\", label = \"all lums\")\n",
    "ax.scatter(ztile_cat_grouped_by_AppMag_sel[\"Z\"], ztile_cat_grouped_by_AppMag_sel[\"LUM_R\"]/gs.L_sun_r, s = 0.1, color = \"green\", label =\"lowest 20% of lums\")\n",
    "\n",
    "center_z = (bins[:-1] + bins[1:])/2\n",
    "ax.scatter(center_z, LUM_95/gs.L_sun_r, s = 5, color = \"orange\", label = \"95% cut of luminosities in redshift bin\")\n",
    "ax.scatter(center_z, LUM_LIM_95/gs.L_sun_r, s = 5, color = \"red\", label =\"luminosity limits in redshift bins\")\n",
    "\n",
    "def poly2d(x, a, b, c):\n",
    "    return a*x**2 + b*x + c\n",
    "\n",
    "# for the fit to be good, we need to decrease the LUM values, otherwise, they fit doesn't work that well\n",
    "# normalize_LUM = 10**(7)\n",
    "\n",
    "coefs_LUM_LIM_95, _ = curve_fit(poly2d, center_z[:int(stop_at)], np.array(LUM_LIM_95[:int(stop_at)])/gs.L_sun_r, p0 = [7251562630.908631, -993318577.5495119, 58433580.69203088])\n",
    "print(\"Fit values: \", coefs_LUM_LIM_95[0], coefs_LUM_LIM_95[1], coefs_LUM_LIM_95[2])\n",
    "\n",
    "ax.plot(center_z, poly2d(center_z, *coefs_LUM_LIM_95), linewidth = 3, color = \"yellow\", label = \"95% LUM LIM fit\")\n",
    "ax.plot(center_z, poly2d(center_z, *[7251562630.908631, -993318577.5495119, 58433580.69203088]), linewidth = 1, linestyle = \"dashed\", color = \"purple\", label = \"old 95% LUM LIM fit\")\n",
    "\n",
    "\n",
    "ax.set_xlabel(\"redshift\")\n",
    "ax.set_ylabel(\"Luminosity in r-band in units of L_sun_r\")\n",
    "ax.set_yscale(\"log\")\n",
    "#ax.set_xlim(0.095, 0.6)\n",
    "#ax.set_ylim(3*10**7,3*10**9)\n",
    "ax.legend(loc = \"lower right\")\n",
    "plt.show()"
   ]
  },
  {
   "cell_type": "markdown",
   "id": "25911c0e-8f20-4655-b280-e063e2b0b955",
   "metadata": {},
   "source": [
    "invert to get zmax\n",
    "\n",
    "$$ax^2+bx+c = a(x-h)^2+k$$ with $$h = -\\frac{b}{2a} \\text{ and } k = c-ah^2$$\n",
    "\n",
    "i.e. the inverse of a quadratic is:\n",
    "\n",
    "$$ f^{-1}(x) = \\pm\\sqrt{\\frac{x-k}{a}}+h$$\n",
    "\n",
    "To reproduce the physically correct results one has to take the negative solution!"
   ]
  },
  {
   "cell_type": "code",
   "execution_count": null,
   "id": "68531615-38f1-4fae-bfd5-459cf9eb0055",
   "metadata": {},
   "outputs": [],
   "source": [
    "# now plot the inverse:\n",
    "\n",
    "# from here we can get the z_max values, i.e. the maximum redshift at a certain luminosity that an object could be detected\n",
    "\n",
    "# inverse is as above\n",
    "\n",
    "def poly2d_inverse(x, a,h,k):\n",
    "    return np.sqrt((x-k)/a)+h\n",
    "\n",
    "a = coefs_LUM_LIM_95[0]\n",
    "b = coefs_LUM_LIM_95[1]\n",
    "c = coefs_LUM_LIM_95[2]\n",
    "h = -b/(2*a)\n",
    "k = c-a*h**2\n",
    "inverted_coefs_95 = [a,h,k]\n",
    "\n",
    "fig, ax = plt.subplots(figsize = (10,8))\n",
    "\n",
    "#ax.scatter(LUM_LIM_95, center_z, s = 3, color = \"red\", label =\"Calculated luminosity limits, including a offseted z-band magnitude limit\")\n",
    "\n",
    "ax.scatter(ztile_cat_grouped_by_AppMag[\"LUM_R\"], poly2d_inverse(ztile_cat_grouped_by_AppMag[\"LUM_R\"], *inverted_coefs_95), s = 0.5)\n",
    "#ax.vlines(LUM_LIM_95[stop_at-1], 0, 1, label = \"limit of fit\")\n",
    "\n",
    "\n",
    "ax.set_xlabel(\"Luminosity in r-band in units of L_sun_r\")\n",
    "ax.set_ylabel(\"redshift\")\n",
    "ax.set_xscale(\"log\")\n",
    "#ax.set_ylim(0,1)\n",
    "#ax.set_xlim(10,10**5)\n",
    "#ax.legend()\n",
    "plt.show()"
   ]
  },
  {
   "cell_type": "code",
   "execution_count": null,
   "id": "7a391d5b-a3f5-4079-a3c5-bb7daef168b1",
   "metadata": {},
   "outputs": [],
   "source": [
    "ztile_cat_grouped_by_AppMag[:5]"
   ]
  },
  {
   "cell_type": "code",
   "execution_count": null,
   "id": "c1670083-e8c4-45c9-8cba-d6347ea32d63",
   "metadata": {},
   "outputs": [],
   "source": [
    "np.max(ztile_cat_grouped_by_AppMag[\"ABS_MAG_R\"]), np.min(ztile_cat_grouped_by_AppMag[\"ABS_MAG_R\"])"
   ]
  },
  {
   "cell_type": "code",
   "execution_count": null,
   "id": "f7247bc2-6907-4529-ac78-5b1c7d3ea2d1",
   "metadata": {},
   "outputs": [],
   "source": [
    "z_max_i = np.array(poly2d_inverse(ztile_cat_grouped_by_AppMag[\"LUM_R\"], *inverted_coefs_95))"
   ]
  },
  {
   "cell_type": "code",
   "execution_count": null,
   "id": "0a02940f-13e1-4328-ba8c-98bcfa67da24",
   "metadata": {},
   "outputs": [],
   "source": [
    "np.min(z_max_i)"
   ]
  },
  {
   "cell_type": "code",
   "execution_count": null,
   "id": "1065a7bd-4487-4268-a12d-0e750d6709e7",
   "metadata": {},
   "outputs": [],
   "source": [
    "z_max_i[:5], len(ztile_cat_grouped_by_AppMag)"
   ]
  },
  {
   "cell_type": "code",
   "execution_count": null,
   "id": "963f2939-d28f-40ff-afdf-1ef05fe04365",
   "metadata": {},
   "outputs": [],
   "source": [
    "ztile_cat_z_max = 5"
   ]
  },
  {
   "cell_type": "code",
   "execution_count": null,
   "id": "e5194b1c-5630-4be5-9f59-9e73f659bc09",
   "metadata": {},
   "outputs": [],
   "source": [
    "ztile_cat_z_max = hstack([ztile_cat_grouped_by_AppMag, Table({\"z_max\": z_max_i})])"
   ]
  },
  {
   "cell_type": "code",
   "execution_count": null,
   "id": "4a4c4f35-e63e-48ff-a5d2-a7179ffca8c7",
   "metadata": {},
   "outputs": [],
   "source": [
    "ztile_cat_z_max[:5]"
   ]
  },
  {
   "cell_type": "code",
   "execution_count": null,
   "id": "1129d71f-78a3-48f1-adbe-3fee4dd7bf81",
   "metadata": {},
   "outputs": [],
   "source": [
    "#only allow redshifts above 0.1\n",
    "ztile_cat_z_max = ztile_cat_z_max[ztile_cat_z_max[\"z_max\"] > 0.1]"
   ]
  },
  {
   "cell_type": "code",
   "execution_count": null,
   "id": "dea1f237-bc3b-4e0d-880b-122f7510bc38",
   "metadata": {},
   "outputs": [],
   "source": [
    "ztile_cat_z_max[:5]"
   ]
  },
  {
   "cell_type": "code",
   "execution_count": null,
   "id": "99423692-061f-4212-8de2-060d7c01ceb2",
   "metadata": {},
   "outputs": [],
   "source": [
    "np.min(ztile_cat_z_max[\"Z\"]), np.max(ztile_cat_z_max[\"Z\"])"
   ]
  },
  {
   "cell_type": "code",
   "execution_count": null,
   "id": "07a51c2a-719a-43c3-84e4-b8528ebbe556",
   "metadata": {},
   "outputs": [],
   "source": [
    "V_max_i = gs.V_max(area, z_min_data, z_min_data, ztile_cat_z_max[\"z_max\"])"
   ]
  },
  {
   "cell_type": "code",
   "execution_count": null,
   "id": "bea70e09-f59d-48fb-8c5f-ee3807f2f633",
   "metadata": {},
   "outputs": [],
   "source": [
    "len(V_max_i)"
   ]
  },
  {
   "cell_type": "code",
   "execution_count": null,
   "id": "1e510164-730e-4c6c-b657-1cf44d9f3609",
   "metadata": {},
   "outputs": [],
   "source": [
    "len(ztile_cat_z_max)"
   ]
  },
  {
   "cell_type": "code",
   "execution_count": null,
   "id": "839d4b23-c3f3-4347-8ee5-871059138483",
   "metadata": {},
   "outputs": [],
   "source": [
    "V_max_i[:5]"
   ]
  },
  {
   "cell_type": "code",
   "execution_count": null,
   "id": "3450b1c1-641c-4d8b-a6c6-32179892c025",
   "metadata": {},
   "outputs": [],
   "source": [
    "ztile_wVmax = hstack([ztile_cat_z_max, Table({\"V_MAX\": V_max_i})])"
   ]
  },
  {
   "cell_type": "code",
   "execution_count": null,
   "id": "cca06690-7b05-4763-a996-12ec3a00deaf",
   "metadata": {},
   "outputs": [],
   "source": [
    "ztile_wVmax"
   ]
  },
  {
   "cell_type": "code",
   "execution_count": null,
   "id": "d4119ba5-fb2e-45ae-af84-cdb58e441757",
   "metadata": {},
   "outputs": [],
   "source": [
    "lower_limit_lum = np.min(ztile_wVmax[\"LUM_R\"])\n",
    "upper_limit_lum = np.max(ztile_wVmax[\"LUM_R\"])\n",
    "print(\"lower and upper limit of LUM_R: \", lower_limit_lum, upper_limit_lum)\n",
    "\n",
    "num_of_lum_bins = 100\n",
    "\n",
    "lum_bins = np.logspace(np.log10(lower_limit_lum), np.log10(upper_limit_lum), num_of_lum_bins, endpoint = True)\n",
    "\n",
    "print(\"num of bins\", len(lum_bins))\n",
    "print(lum_bins[0:10])"
   ]
  },
  {
   "cell_type": "code",
   "execution_count": null,
   "id": "05c41901-6cf1-49e3-8991-8bd6befc645e",
   "metadata": {},
   "outputs": [],
   "source": [
    "len(lum_bins)"
   ]
  },
  {
   "cell_type": "code",
   "execution_count": null,
   "id": "c6fd91ea-ac1d-40c6-ad10-67da7ca0f426",
   "metadata": {},
   "outputs": [],
   "source": [
    "def calc_phi_j(V_max_i, lum_bins):\n",
    "    \n",
    "    phi_j = [0 for q in range(len(lum_bins)-1)]\n",
    "    cnt = 0\n",
    "    for q in range(len(phi_j)):\n",
    "        \n",
    "        ii = ztile_wVmax[\"LUM_R\"] >= lum_bins[q]\n",
    "        ii &= ztile_wVmax[\"LUM_R\"]< lum_bins[q+1]\n",
    "        dat = ztile_wVmax[ii]\n",
    "        #print(\"Num of objects in this bin\", len(dat))\n",
    "        dat = dat[\"V_MAX\"]\n",
    "        one_ov_dat = [1/vmax for vmax in dat]\n",
    "        phi_j[cnt] = np.sum(one_ov_dat)\n",
    "        cnt += 1\n",
    "    return phi_j"
   ]
  },
  {
   "cell_type": "code",
   "execution_count": null,
   "id": "5606779d-345a-4047-97b9-6ed496e1a297",
   "metadata": {},
   "outputs": [],
   "source": [
    "phi_j = calc_phi_j(V_max_i, lum_bins)"
   ]
  },
  {
   "cell_type": "code",
   "execution_count": null,
   "id": "d76ceb87-7e91-4317-9029-b3b707625b85",
   "metadata": {},
   "outputs": [],
   "source": [
    "len(phi_j)"
   ]
  },
  {
   "cell_type": "code",
   "execution_count": null,
   "id": "5d5e5e99-2273-4c53-bfe7-08cfe9e2513e",
   "metadata": {},
   "outputs": [],
   "source": [
    "phi_j[:5]"
   ]
  },
  {
   "cell_type": "code",
   "execution_count": null,
   "id": "22c881df-ff9a-4c25-83df-e5bf2714496a",
   "metadata": {},
   "outputs": [],
   "source": [
    "center_lum_bins = lum_bins[1:]-(lum_bins[2]-lum_bins[1])/2"
   ]
  },
  {
   "cell_type": "code",
   "execution_count": null,
   "id": "2a061cd5-e954-4ea0-9aaf-80da001c69b3",
   "metadata": {},
   "outputs": [],
   "source": [
    "len(center_lum_bins)"
   ]
  },
  {
   "cell_type": "code",
   "execution_count": null,
   "id": "0e13f316-1e23-4aa2-94a8-fe09803cadfb",
   "metadata": {},
   "outputs": [],
   "source": [
    "fig, ax = plt.subplots(figsize = (15,5))\n",
    "\n",
    "ax.scatter(center_lum_bins, phi_j, s = 3)\n",
    "ax.set_xscale(\"log\")\n",
    "ax.set_yscale(\"log\")\n",
    "\n",
    "ax.set_xlabel(\"r-band Luminosity in W\")\n",
    "ax.set_ylabel(\"Number density\")\n",
    "\n",
    "plt.show()"
   ]
  },
  {
   "cell_type": "code",
   "execution_count": null,
   "id": "722816db-9c19-49af-bd5b-fa089edd45c5",
   "metadata": {},
   "outputs": [],
   "source": [
    "# Fit a schechter function to the data\n",
    "# for this we need to go from the Luminosities back to the magnitudes..."
   ]
  },
  {
   "cell_type": "code",
   "execution_count": null,
   "id": "39a8f214-4ece-45e8-a9e2-0017fd61be02",
   "metadata": {},
   "outputs": [],
   "source": [
    "len(center_lum_bins), len(phi_j)"
   ]
  },
  {
   "cell_type": "code",
   "execution_count": null,
   "id": "1846ec2d-f6f3-495d-8259-ffcb53fcd93c",
   "metadata": {},
   "outputs": [],
   "source": [
    "center_lum_bins, phi_j = np.array(center_lum_bins), np.array(phi_j)"
   ]
  },
  {
   "cell_type": "code",
   "execution_count": null,
   "id": "1e3f2388-56f8-4e8a-ba16-94f76cdeb51d",
   "metadata": {},
   "outputs": [],
   "source": [
    "center_lum_bins.shape, phi_j.shape"
   ]
  },
  {
   "cell_type": "code",
   "execution_count": null,
   "id": "e2e61262-3259-4942-a3f1-94e6756cc574",
   "metadata": {},
   "outputs": [],
   "source": [
    "center_lum_bins, phi_j"
   ]
  },
  {
   "cell_type": "code",
   "execution_count": null,
   "id": "fd6c33f9-0fef-4231-bccf-ce1c7088fd29",
   "metadata": {},
   "outputs": [],
   "source": [
    "fit_data = hstack([Table({\"LUM\": center_lum_bins}), Table({\"ABS_MAG_R\": gs.M(center_lum_bins*u.W, band = \"r\")}), Table({\"N\": phi_j})])"
   ]
  },
  {
   "cell_type": "code",
   "execution_count": null,
   "id": "1f3ae731-7133-458a-9983-e5d3b46c0214",
   "metadata": {},
   "outputs": [],
   "source": [
    "fit_data"
   ]
  },
  {
   "cell_type": "code",
   "execution_count": null,
   "id": "c837a2a0-ad1d-4618-b264-1094b77053d8",
   "metadata": {},
   "outputs": [],
   "source": [
    "fit_data = fit_data[fit_data[\"N\"] != 0]"
   ]
  },
  {
   "cell_type": "code",
   "execution_count": null,
   "id": "4e7d0f8d-f4d1-4095-a33a-6b5f89f9826c",
   "metadata": {},
   "outputs": [],
   "source": [
    "fit_data[:55]"
   ]
  },
  {
   "cell_type": "code",
   "execution_count": null,
   "id": "4c246e42-a6f4-4a30-aa55-82b1b91378f1",
   "metadata": {},
   "outputs": [],
   "source": [
    "np.array(fit_data[\"N\"])"
   ]
  },
  {
   "cell_type": "code",
   "execution_count": null,
   "id": "9e8b0007-bd07-4d84-b5af-da8058b5c6ec",
   "metadata": {},
   "outputs": [],
   "source": [
    "# get model\n",
    "Schechter = models.Schechter1D()\n",
    "# set fitting algorithm\n",
    "fit_alg = fitting.LMLSQFitter() # only this Fitter is able to fit, all others from here: https://docs.astropy.org/en/stable/modeling/fitting.html fail\n",
    "# perform fit\n",
    "\n",
    "fit_lim = len(fit_data)-1\n",
    "\n",
    "schechter_fit = fit_alg(Schechter, np.array(fit_data[\"ABS_MAG_R\"][:fit_lim]), np.array(fit_data[\"N\"][:fit_lim]))\n",
    "\n",
    "print(schechter_fit)"
   ]
  },
  {
   "cell_type": "code",
   "execution_count": null,
   "id": "aab82979-fa23-4275-89f2-2ffea53699b9",
   "metadata": {},
   "outputs": [],
   "source": [
    "fig, ax = plt.subplots(figsize = (10,7.5))\n",
    "\n",
    "x = np.linspace(-25, -17)\n",
    "\n",
    "ax.plot(x, schechter_fit(x), label = \"Schechter Fit\")\n",
    "ax.scatter(np.array(fit_data[\"ABS_MAG_R\"]), np.array(fit_data[\"N\"]), label = \"data\", s = 1)\n",
    "ax.vlines(fit_data[\"ABS_MAG_R\"][fit_lim], 0,1, label = \"lower limit of fit\", color = \"red\")\n",
    "\n",
    "\n",
    "ax.set_yscale('log')\n",
    "#ax.set_ylim(10**-23, 10**-1)\n",
    "ax.legend()\n",
    "plt.show()"
   ]
  },
  {
   "cell_type": "code",
   "execution_count": null,
   "id": "069ce4da-83ad-4960-8647-21ccf84189c6",
   "metadata": {},
   "outputs": [],
   "source": [
    "np.max(np.array(fit_data[\"N\"]))"
   ]
  },
  {
   "cell_type": "code",
   "execution_count": null,
   "id": "ae5149f8-84f6-4f79-aa9d-0d624fdd47f2",
   "metadata": {},
   "outputs": [],
   "source": [
    " 0.00021404293387048377/0.0089"
   ]
  },
  {
   "cell_type": "code",
   "execution_count": null,
   "id": "d6f699b4-81c9-45c8-8edb-98f94ee57b4c",
   "metadata": {},
   "outputs": [],
   "source": [
    "# simple calculator for volume (assuming the sky area has already been calculated)\n",
    "volume = area/3*(Distance(z=z_max_data, cosmology=Planck18)**3-Distance(z=z_min_data, cosmology=Planck18)**3)"
   ]
  },
  {
   "cell_type": "code",
   "execution_count": null,
   "id": "a2b21594-5992-4ef4-81fd-c39a64e6e28b",
   "metadata": {},
   "outputs": [],
   "source": [
    "print(volume)"
   ]
  },
  {
   "cell_type": "code",
   "execution_count": null,
   "id": "98dfc421-542d-44a6-8887-65e45955fa7b",
   "metadata": {},
   "outputs": [],
   "source": [
    "from scipy import integrate"
   ]
  },
  {
   "cell_type": "code",
   "execution_count": null,
   "id": "2d9b6e27-bd77-4702-84a6-bc00eaa17a8b",
   "metadata": {},
   "outputs": [],
   "source": [
    "integrate.quad(schechter_fit, -25, -17)"
   ]
  },
  {
   "cell_type": "code",
   "execution_count": null,
   "id": "d3431def-61c0-4431-8df4-cd3026033f14",
   "metadata": {},
   "outputs": [],
   "source": [
    "integrate.quad(schechter_fit, -25, -24)"
   ]
  },
  {
   "cell_type": "code",
   "execution_count": null,
   "id": "d8fea6da-17e8-4727-91ca-f25502e0d6d0",
   "metadata": {},
   "outputs": [],
   "source": []
  }
 ],
 "metadata": {
  "kernelspec": {
   "display_name": "Python (MambaTest)",
   "language": "python",
   "name": "mambatest"
  },
  "language_info": {
   "codemirror_mode": {
    "name": "ipython",
    "version": 3
   },
   "file_extension": ".py",
   "mimetype": "text/x-python",
   "name": "python",
   "nbconvert_exporter": "python",
   "pygments_lexer": "ipython3",
   "version": "3.10.10"
  }
 },
 "nbformat": 4,
 "nbformat_minor": 5
}
