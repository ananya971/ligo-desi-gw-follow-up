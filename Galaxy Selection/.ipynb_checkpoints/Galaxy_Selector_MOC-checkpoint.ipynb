{
 "cells": [
  {
   "cell_type": "markdown",
   "metadata": {},
   "source": [
    "# Galaxy Selector MOC\n",
    "\n",
    "**Compared to the \"Simple Galaxy Selector, this works with Multi-Ordering-Sky-Maps**\n",
    "\n",
    "\n",
    "***NOTE (this note may be wrong, just copied from old notebook)***: Before anything can happen, download the GW event localization map. Open the terminal and type:\n",
    "\"curl -O https://gracedb.ligo.org/api/superevents/sid/files/bayestar.fits,0\"\n",
    "with sid = superevent ID (could be incorporated into this notebook)\n",
    "\n",
    "Select the galaxies to observe by WWFI in this simple manner:\n",
    "- get the LIGO event data\n",
    "- read the LIGO event data into the notebook, extract some information\n",
    "- read the DESI database into the notebook, \"clean\" the data\n",
    "- get the 99% credible regions for the event, add them as a column to the data\n",
    "- only keep data within the 99% region\n",
    "- calculate all the luminosities (& more)\n",
    "- rank them by luminosity (for now just print the TARGETID), 3D/2D localization and with a luminosity-distance 2D dependant counterpart likelihood\n",
    "\n",
    "Sources: \n",
    "- https://iopscience.iop.org/article/10.3847/0067-0049/226/1/10\n",
    "- https://emfollow.docs.ligo.org/userguide/tutorial/skymaps.html\n",
    "- https://emfollow.docs.ligo.org/userguide/tutorial/multiorder_skymaps.html\n",
    "- https://arxiv.org/pdf/1710.05452.pdf"
   ]
  },
  {
   "cell_type": "markdown",
   "metadata": {
    "tags": []
   },
   "source": [
    "## Import all libraries, load GW data and DESI data and extract basic info"
   ]
  },
  {
   "cell_type": "markdown",
   "metadata": {
    "tags": []
   },
   "source": [
    "### imports, GW data loading"
   ]
  },
  {
   "cell_type": "code",
   "execution_count": 1,
   "metadata": {},
   "outputs": [],
   "source": [
    "import numpy as np\n",
    "from scipy.stats import norm\n",
    "import scipy as sc\n",
    "\n",
    "from astropy.io import fits, ascii\n",
    "from astropy.table import Table, hstack\n",
    "from astropy import table\n",
    "\n",
    "import healpy as hp\n",
    "import astropy_healpix as ah\n",
    "\n",
    "from astropy.table import QTable\n",
    "\n",
    "import psycopg2\n",
    "\n",
    "from scipy.stats import norm\n",
    "\n",
    "\n",
    "from astropy.cosmology import Planck18, z_at_value\n",
    "from astropy.coordinates import Distance, SkyCoord\n",
    "from astropy import units as u\n",
    "\n",
    "import astropy.constants as asc\n",
    "\n",
    "import matplotlib.pyplot as plt\n",
    "\n",
    "import requests as rq\n",
    "\n",
    "import gasel as gs\n",
    "\n",
    "import shutil"
   ]
  },
  {
   "cell_type": "code",
   "execution_count": 2,
   "metadata": {},
   "outputs": [],
   "source": [
    "# specify the superevent name:\n",
    "superevent_name = \"S230601bf\""
   ]
  },
  {
   "cell_type": "code",
   "execution_count": 3,
   "metadata": {},
   "outputs": [
    {
     "name": "stdout",
     "output_type": "stream",
     "text": [
      "no local skymap...\n",
      "...will download LIGO event file from superevent S230601bf, corresponding file URL is https://gracedb.ligo.org/api/superevents/S230601bf/files/bayestar.multiorder.fits,1 and save it in .../Files/\n"
     ]
    }
   ],
   "source": [
    "path = f\"/global/homes/j/jgassert/ligo-desi-gw-follow-up/Galaxy Selection/Files/{superevent_name}bayestar.multiorder.fits,1\"\n",
    "\n",
    "try:\n",
    "    skymap = QTable.read(path)\n",
    "    print(\"read skymap from local file\")\n",
    "    \n",
    "except:\n",
    "    download_url = f\"https://gracedb.ligo.org/api/superevents/{superevent_name}/files/bayestar.multiorder.fits,1\"\n",
    "    save_path = f\"Files/{superevent_name}bayestar.multiorder.fits,1\"\n",
    "    print(\"no local skymap...\")\n",
    "    print(f\"...will download LIGO event file from superevent {superevent_name}, corresponding file URL is {download_url} and save it in .../Files/\")\n",
    "    \n",
    "    response = rq.get(download_url, allow_redirects = True)\n",
    "    if response.status_code == 200:\n",
    "        with open(save_path, 'wb') as f:\n",
    "            #response.raw.decode_content = True\n",
    "            #shutil.copyfileobj(response.raw, f)\n",
    "            f.write(response.content)\n",
    "            \n",
    "        skymap = QTable.read(path)"
   ]
  },
  {
   "cell_type": "markdown",
   "metadata": {},
   "source": [
    "Specifiy the path where the data is located and then load the data (this loads everything, just have a look)"
   ]
  },
  {
   "cell_type": "code",
   "execution_count": 4,
   "metadata": {},
   "outputs": [
    {
     "data": {
      "text/html": [
       "<div><i>QTable length=5</i>\n",
       "<table id=\"table140118008348528\" class=\"table-striped table-bordered table-condensed\">\n",
       "<thead><tr><th>UNIQ</th><th>PROBDENSITY</th><th>DISTMU</th><th>DISTSIGMA</th><th>DISTNORM</th></tr></thead>\n",
       "<thead><tr><th></th><th>1 / sr</th><th>Mpc</th><th>Mpc</th><th>1 / Mpc2</th></tr></thead>\n",
       "<thead><tr><th>int64</th><th>float64</th><th>float64</th><th>float64</th><th>float64</th></tr></thead>\n",
       "<tr><td>1024</td><td>2.5600273373541834e-11</td><td>824.8069828218769</td><td>122.09929120048632</td><td>1.4384043694231789e-06</td></tr>\n",
       "<tr><td>1025</td><td>3.475848580528109e-12</td><td>854.4827640678935</td><td>133.66367778762972</td><td>1.3368862907370922e-06</td></tr>\n",
       "<tr><td>1026</td><td>1.0132886671054028e-10</td><td>792.1664996083102</td><td>114.21108902525555</td><td>1.5611049186918174e-06</td></tr>\n",
       "<tr><td>1027</td><td>1.1721535191621473e-11</td><td>826.9581632038569</td><td>125.47194291890773</td><td>1.4293820675925752e-06</td></tr>\n",
       "<tr><td>1028</td><td>3.657353701667604e-13</td><td>904.3156663650267</td><td>152.3899387240975</td><td>1.1890471852797904e-06</td></tr>\n",
       "</table></div>"
      ],
      "text/plain": [
       "<QTable length=5>\n",
       " UNIQ      PROBDENSITY       ...     DISTSIGMA             DISTNORM       \n",
       "              1 / sr         ...        Mpc                1 / Mpc2       \n",
       "int64        float64         ...      float64              float64        \n",
       "----- ---------------------- ... ------------------ ----------------------\n",
       " 1024 2.5600273373541834e-11 ... 122.09929120048632 1.4384043694231789e-06\n",
       " 1025  3.475848580528109e-12 ... 133.66367778762972 1.3368862907370922e-06\n",
       " 1026 1.0132886671054028e-10 ... 114.21108902525555 1.5611049186918174e-06\n",
       " 1027 1.1721535191621473e-11 ... 125.47194291890773 1.4293820675925752e-06\n",
       " 1028  3.657353701667604e-13 ...  152.3899387240975 1.1890471852797904e-06"
      ]
     },
     "execution_count": 4,
     "metadata": {},
     "output_type": "execute_result"
    }
   ],
   "source": [
    "skymap[:5]"
   ]
  },
  {
   "cell_type": "markdown",
   "metadata": {
    "tags": []
   },
   "source": [
    "### Get basic values from GW event\n",
    "\n",
    "We now extract some basic information  from the healpix data:\n",
    "- ipix_max: pixel with highest likelihood\n",
    "- npix: total number of pixels\n",
    "- ra, dec: ra and dec of the pixel with the highest likelihood\n",
    "\n",
    "Then we open the full fits file and extract some more basic info from the header:\n",
    "- dist_mean: mean distance of the GW event\n",
    "- dist_std: error of the distance"
   ]
  },
  {
   "cell_type": "code",
   "execution_count": 5,
   "metadata": {},
   "outputs": [
    {
     "name": "stdout",
     "output_type": "stream",
     "text": [
      "UNIQ ID of highest prob sky localization:  360646\n"
     ]
    }
   ],
   "source": [
    "# most probable sky location\n",
    "i = np.argmax(skymap[\"PROBDENSITY\"])\n",
    "uniq = skymap[i][\"UNIQ\"]\n",
    "print(\"UNIQ ID of highest prob sky localization: \", uniq)"
   ]
  },
  {
   "cell_type": "code",
   "execution_count": 6,
   "metadata": {},
   "outputs": [
    {
     "name": "stdout",
     "output_type": "stream",
     "text": [
      "Highest probability at (RA, dec):  112.67578125 22.669609871750385 with prob [1/deg^2] of:  0.0009807661366055865 and UNIQ ID:  360646\n"
     ]
    }
   ],
   "source": [
    "# calculate the most probable pixel, convert to RA and dec\n",
    "level_max, ipix_max = ah.uniq_to_level_ipix(uniq)\n",
    "nside = ah.level_to_nside(level_max)\n",
    "ra, dec = ah.healpix_to_lonlat(ipix_max, nside, order = \"nested\")\n",
    "print(\"Highest probability at (RA, dec): \", ra.deg, dec.deg, \"with prob [1/deg^2] of: \", skymap[i]['PROBDENSITY'].to_value(u.deg**-2), \"and UNIQ ID: \", skymap[i][\"UNIQ\"])"
   ]
  },
  {
   "cell_type": "markdown",
   "metadata": {},
   "source": [
    "Now open the fits file and read basics info from the header"
   ]
  },
  {
   "cell_type": "code",
   "execution_count": 7,
   "metadata": {},
   "outputs": [
    {
     "name": "stdout",
     "output_type": "stream",
     "text": [
      "The dist_mean and dist_std values:  3578.453685813072 Mpc 998.1276979281147 Mpc\n"
     ]
    }
   ],
   "source": [
    "fits_gw = fits.open(path)\n",
    "header = fits_gw[1].header\n",
    "dist_mean = header[\"DISTMEAN\"]\n",
    "dist_std = header[\"DISTSTD\"]\n",
    "print(\"The dist_mean and dist_std values: \", dist_mean*u.Mpc, dist_std*u.Mpc)"
   ]
  },
  {
   "cell_type": "code",
   "execution_count": 8,
   "metadata": {},
   "outputs": [],
   "source": [
    "most_likely_z = z_at_value(Planck18.luminosity_distance, dist_mean*u.Mpc, zmax = 5)\n",
    "most_likely_z_std = z_at_value(Planck18.luminosity_distance, dist_std*u.Mpc, zmax = 5)"
   ]
  },
  {
   "cell_type": "code",
   "execution_count": 9,
   "metadata": {},
   "outputs": [
    {
     "data": {
      "text/plain": [
       "(<Quantity 0.59215347 redshift>, <Quantity 0.19748735 redshift>)"
      ]
     },
     "execution_count": 9,
     "metadata": {},
     "output_type": "execute_result"
    }
   ],
   "source": [
    "most_likely_z, most_likely_z_std"
   ]
  },
  {
   "cell_type": "code",
   "execution_count": 10,
   "metadata": {},
   "outputs": [],
   "source": [
    "# these values (924, 188Mpc) are close to z= 0.19, 0.03"
   ]
  },
  {
   "cell_type": "markdown",
   "metadata": {
    "tags": []
   },
   "source": [
    "### Get DESI data\n",
    "\n",
    "Load the full daily data from the file, which only includes good redshift objects"
   ]
  },
  {
   "cell_type": "code",
   "execution_count": 11,
   "metadata": {},
   "outputs": [],
   "source": [
    "follow_up_others = False"
   ]
  },
  {
   "cell_type": "code",
   "execution_count": 14,
   "metadata": {},
   "outputs": [],
   "source": [
    "if follow_up_others:\n",
    "    center_ra = 235.9839\n",
    "    center_dec = 15.2248\n",
    "    radius = 1/360\n",
    "    z_others = 0\n",
    "    z_others_std = 0.4\n",
    "    \n",
    "    sigma_accuracy = 3\n",
    "    \n",
    "    data = gs.db_doall(center_ra, center_dec, radius)\n",
    "    \n",
    "    #ii = data[\"Z\"]-sigma_accuracy*data[\"ZERR\"]<z_others+sigma_accuracy*z_others_std\n",
    "    #ii &= data[\"Z\"]+sigma_accuracy*data[\"ZERR\"]>z_others-sigma_accuracy*z_others_std\n",
    "    \n",
    "    #data = data[ii]\n",
    "    \n",
    "    \n",
    "else:\n",
    "    data = Table.read(\"/global/homes/j/jgassert/good_z_data.fits\")"
   ]
  },
  {
   "cell_type": "code",
   "execution_count": 15,
   "metadata": {},
   "outputs": [
    {
     "data": {
      "text/html": [
       "<div><i>Table length=5</i>\n",
       "<table id=\"table140116877291104\" class=\"table-striped table-bordered table-condensed\">\n",
       "<thead><tr><th>TARGETID</th><th>TARGET_RA</th><th>TARGET_DEC</th><th>LASTNIGHT</th><th>Z</th><th>ZERR</th><th>ZWARN</th><th>FLUX_G</th><th>FLUX_R</th><th>FLUX_Z</th><th>SPECTYPE</th><th>BGS_TARGET</th><th>EBV</th><th>SERSIC</th></tr></thead>\n",
       "<thead><tr><th>int64</th><th>float64</th><th>float64</th><th>int64</th><th>float64</th><th>float64</th><th>int64</th><th>float64</th><th>float64</th><th>float64</th><th>bytes6</th><th>int64</th><th>float64</th><th>float64</th></tr></thead>\n",
       "<tr><td>-407206628</td><td>289.160148698913</td><td>63.8756777034092</td><td>20210513</td><td>0.488143245600312</td><td>6.00460085329576e-05</td><td>0</td><td>0.0</td><td>0.0</td><td>0.0</td><td>GALAXY</td><td>0</td><td>0.0</td><td>0.0</td></tr>\n",
       "<tr><td>-407206517</td><td>289.24523373072</td><td>64.1182126208345</td><td>20210513</td><td>0.353953432359517</td><td>9.16563620937551e-05</td><td>0</td><td>0.0</td><td>0.0</td><td>0.0</td><td>GALAXY</td><td>0</td><td>0.0</td><td>0.0</td></tr>\n",
       "<tr><td>-407206395</td><td>288.991137990503</td><td>64.4269390406163</td><td>20210513</td><td>1.04167986703249</td><td>0.000103598417102832</td><td>0</td><td>0.0</td><td>0.0</td><td>0.0</td><td>GALAXY</td><td>0</td><td>0.0</td><td>0.0</td></tr>\n",
       "<tr><td>-407206306</td><td>288.328820102558</td><td>64.8171915439228</td><td>20210513</td><td>0.446085744563991</td><td>0.000103302897346752</td><td>0</td><td>0.0</td><td>0.0</td><td>0.0</td><td>GALAXY</td><td>0</td><td>0.0</td><td>0.0</td></tr>\n",
       "<tr><td>-407206302</td><td>288.170414727353</td><td>64.8761951861955</td><td>20210513</td><td>5.11210896599966</td><td>0.000690663180059733</td><td>0</td><td>0.0</td><td>0.0</td><td>0.0</td><td>QSO</td><td>0</td><td>0.0</td><td>0.0</td></tr>\n",
       "</table></div>"
      ],
      "text/plain": [
       "<Table length=5>\n",
       " TARGETID     TARGET_RA        TARGET_DEC    ... BGS_TARGET   EBV    SERSIC\n",
       "  int64        float64          float64      ...   int64    float64 float64\n",
       "---------- ---------------- ---------------- ... ---------- ------- -------\n",
       "-407206628 289.160148698913 63.8756777034092 ...          0     0.0     0.0\n",
       "-407206517  289.24523373072 64.1182126208345 ...          0     0.0     0.0\n",
       "-407206395 288.991137990503 64.4269390406163 ...          0     0.0     0.0\n",
       "-407206306 288.328820102558 64.8171915439228 ...          0     0.0     0.0\n",
       "-407206302 288.170414727353 64.8761951861955 ...          0     0.0     0.0"
      ]
     },
     "execution_count": 15,
     "metadata": {},
     "output_type": "execute_result"
    }
   ],
   "source": [
    "data[:5]"
   ]
  },
  {
   "cell_type": "markdown",
   "metadata": {
    "tags": []
   },
   "source": [
    "## Do all the calculations, selections,...\n",
    "\n",
    "- turn the daily DESI data into a Table\n",
    "- do some basic data selection stuff: only keep good + positive redshifts, only positive values of z-band flux and eliminate duplicates (right now simply takes the first entry)\n",
    "- add the ipix (healpix) pixel value for each target\n",
    "- calculate the probability for each target\n",
    "- add these values to the Table (\"PROB\"), select only targets within the 99% credible region (i.e. with a certainty of 99% the GW event is inside this region)\n",
    "- calculate the distances and its errors from the redshift, add to the data table\n",
    "- calculate the 3D probability just like here: https://iopscience.iop.org/article/10.3847/0067-0049/226/1/10 (§4) and add these values to the table\n",
    "- sort the table by its 3D probability (descending)\n",
    "- calculate absolute and apparent magnitude, luminosity and add to table\n",
    "\n",
    "The final step is to include the calculation of the most likely host galaxy from https://arxiv.org/pdf/1710.05452.pdf (GW170817); these values are then also added to the table as \"P_GAL\""
   ]
  },
  {
   "cell_type": "code",
   "execution_count": null,
   "metadata": {},
   "outputs": [],
   "source": [
    "data[:5]"
   ]
  },
  {
   "cell_type": "markdown",
   "metadata": {
    "tags": []
   },
   "source": [
    "### data clean up"
   ]
  },
  {
   "cell_type": "code",
   "execution_count": null,
   "metadata": {},
   "outputs": [],
   "source": [
    "#data = data[data[\"Z\"]> 0]\n",
    "#data = data[data[\"ZWARN\"] == 0]"
   ]
  },
  {
   "cell_type": "code",
   "execution_count": 16,
   "metadata": {},
   "outputs": [],
   "source": [
    "#data = data[data['FLUX_Z']>0]\n",
    "data = table.unique(data, keys = \"TARGETID\")"
   ]
  },
  {
   "cell_type": "code",
   "execution_count": 17,
   "metadata": {},
   "outputs": [],
   "source": [
    "data = data[data[\"TARGETID\"]>0]"
   ]
  },
  {
   "cell_type": "code",
   "execution_count": 18,
   "metadata": {},
   "outputs": [
    {
     "name": "stdout",
     "output_type": "stream",
     "text": [
      "We have 27496796 objects in the full catalog\n"
     ]
    }
   ],
   "source": [
    "print(f\"We have {len(data)} objects in the full catalog\") "
   ]
  },
  {
   "cell_type": "markdown",
   "metadata": {
    "tags": []
   },
   "source": [
    "### Calculate the healpix id for every object in the catalog and its probability; append this data to the Table"
   ]
  },
  {
   "cell_type": "code",
   "execution_count": 19,
   "metadata": {},
   "outputs": [],
   "source": [
    "max_level = 29 # highest possible HEALPix resolution that can be represented in a 64-bit signed integer\n",
    "max_nside = ah.level_to_nside(max_level)\n",
    "level, ipix = ah.uniq_to_level_ipix(skymap[\"UNIQ\"])\n",
    "\n",
    "index = ipix*(2**(max_level-level))**2\n",
    "\n",
    "sorter = np.argsort(index)\n",
    "\n",
    "# this is the NESTED pixel index of the target sky location, NOT THE UNIQ ID\n",
    "match_ipix = ah.lonlat_to_healpix(data[\"TARGET_RA\"]*u.deg, data[\"TARGET_DEC\"]*u.deg, max_nside, order='nested')\n",
    "\n",
    "# here we get the pixel index (i.e. where the entry is in the table, also NOT THE UNIQ ID) of each target\n",
    "sorter_i = sorter[np.searchsorted(index, match_ipix, side='right', sorter=sorter) - 1]\n",
    "probdensity = skymap[sorter_i]['PROBDENSITY'].to_value(u.deg**-2)\n",
    "\n",
    "# now we calculate the UNIQ ID for all our targets:\n",
    "\n",
    "uniq = skymap[\"UNIQ\"][sorter_i]\n",
    "#to make things easier in future, I will now also append the UNIQ pixels DISTMU, DISTSIGMA and DISTNORM values. However, be careful, since these DO NOT CORRESPOND THE TARGETS IN DESI DIRECTLY!\n",
    "\n",
    "distmu = skymap[sorter_i][\"DISTMU\"]\n",
    "distsigma = skymap[sorter_i][\"DISTSIGMA\"]\n",
    "distnorm = skymap[sorter_i][\"DISTNORM\"]\n"
   ]
  },
  {
   "cell_type": "code",
   "execution_count": 20,
   "metadata": {},
   "outputs": [],
   "source": [
    "# len(UNIQ), len(data), len(skymap)"
   ]
  },
  {
   "cell_type": "code",
   "execution_count": 21,
   "metadata": {},
   "outputs": [],
   "source": [
    "#data = data.keep_columns([\"TARGETID\", \"TARGET_RA\", \"TARGET_DEC\", \"TILEID\", \"NIGHT\", \"Z\", \"ZERR\", \"ZWARN\", \"DELTACHI2\", \"FLUX_Z\", \"BGS_TARGET\", \"EBV\", \"SERSIC\", \"MWS_TARGET\", \"FILENAME\"])\n",
    "                          "
   ]
  },
  {
   "cell_type": "code",
   "execution_count": 22,
   "metadata": {},
   "outputs": [],
   "source": [
    "data = hstack([data, Table({\"UNIQ\": uniq}), Table({\"PROBDENSITY\": probdensity}), Table({\"DISTMU\": distmu}), Table({\"DISTSIGMA\": distsigma}), Table({\"DISTNORM\": distnorm})])"
   ]
  },
  {
   "cell_type": "code",
   "execution_count": 23,
   "metadata": {},
   "outputs": [
    {
     "data": {
      "text/html": [
       "<div><i>Table length=5</i>\n",
       "<table id=\"table140116877282128\" class=\"table-striped table-bordered table-condensed\">\n",
       "<thead><tr><th>TARGETID</th><th>TARGET_RA</th><th>TARGET_DEC</th><th>LASTNIGHT</th><th>Z</th><th>ZERR</th><th>ZWARN</th><th>FLUX_G</th><th>FLUX_R</th><th>FLUX_Z</th><th>SPECTYPE</th><th>BGS_TARGET</th><th>EBV</th><th>SERSIC</th><th>UNIQ</th><th>PROBDENSITY</th><th>DISTMU</th><th>DISTSIGMA</th><th>DISTNORM</th></tr></thead>\n",
       "<thead><tr><th></th><th></th><th></th><th></th><th></th><th></th><th></th><th></th><th></th><th></th><th></th><th></th><th></th><th></th><th></th><th></th><th>Mpc</th><th>Mpc</th><th>1 / Mpc2</th></tr></thead>\n",
       "<thead><tr><th>int64</th><th>float64</th><th>float64</th><th>int64</th><th>float64</th><th>float64</th><th>int64</th><th>float64</th><th>float64</th><th>float64</th><th>bytes6</th><th>int64</th><th>float64</th><th>float64</th><th>int64</th><th>float64</th><th>float64</th><th>float64</th><th>float64</th></tr></thead>\n",
       "<tr><td>6448025174016</td><td>179.15657</td><td>28.4234799</td><td>20210318</td><td>0.0221933367215889</td><td>9.68081653157043e-06</td><td>0</td><td>0.0</td><td>0.0</td><td>0.0</td><td>GALAXY</td><td>0</td><td>0.0</td><td>0.0</td><td>2803</td><td>6.027148896496582e-17</td><td>inf</td><td>1.0</td><td>0.0</td></tr>\n",
       "<tr><td>6521555517440</td><td>204.22749</td><td>32.09493</td><td>20210404</td><td>0.3238872170838</td><td>2.72909868562699e-05</td><td>0</td><td>0.0</td><td>0.0</td><td>0.0</td><td>GALAXY</td><td>0</td><td>0.0</td><td>0.0</td><td>1676</td><td>3.109748099951327e-12</td><td>617.6918006140204</td><td>280.9012674509242</td><td>2.1729721937787096e-06</td></tr>\n",
       "<tr><td>6536638234624</td><td>186.274119</td><td>32.84503</td><td>20210402</td><td>0.0764062738003505</td><td>1.47657330826664e-05</td><td>0</td><td>0.0</td><td>0.0</td><td>0.0</td><td>GALAXY</td><td>0</td><td>0.0</td><td>0.0</td><td>2807</td><td>9.252387603325823e-15</td><td>inf</td><td>1.0</td><td>0.0</td></tr>\n",
       "<tr><td>45650485968998</td><td>132.7115638</td><td>11.7857382</td><td>20220130</td><td>6.60562456030607e-05</td><td>4.43577130671508e-06</td><td>0</td><td>0.0</td><td>0.0</td><td>0.0</td><td>STAR</td><td>0</td><td>0.0</td><td>0.0</td><td>1292</td><td>2.657973425614709e-13</td><td>3095.48035824332</td><td>1914.416957030171</td><td>7.58422082676225e-08</td></tr>\n",
       "<tr><td>45650490163336</td><td>132.9894508</td><td>11.7344802</td><td>20220130</td><td>0.000113703992211096</td><td>4.59116159557144e-06</td><td>0</td><td>0.0</td><td>0.0</td><td>0.0</td><td>STAR</td><td>0</td><td>0.0</td><td>0.0</td><td>1292</td><td>2.657973425614709e-13</td><td>3095.48035824332</td><td>1914.416957030171</td><td>7.58422082676225e-08</td></tr>\n",
       "</table></div>"
      ],
      "text/plain": [
       "<Table length=5>\n",
       "   TARGETID     TARGET_RA  ...     DISTSIGMA            DISTNORM       \n",
       "                           ...        Mpc               1 / Mpc2       \n",
       "    int64        float64   ...      float64             float64        \n",
       "-------------- ----------- ... ----------------- ----------------------\n",
       " 6448025174016   179.15657 ...               1.0                    0.0\n",
       " 6521555517440   204.22749 ... 280.9012674509242 2.1729721937787096e-06\n",
       " 6536638234624  186.274119 ...               1.0                    0.0\n",
       "45650485968998 132.7115638 ... 1914.416957030171   7.58422082676225e-08\n",
       "45650490163336 132.9894508 ... 1914.416957030171   7.58422082676225e-08"
      ]
     },
     "execution_count": 23,
     "metadata": {},
     "output_type": "execute_result"
    }
   ],
   "source": [
    "data[:5]"
   ]
  },
  {
   "cell_type": "code",
   "execution_count": 24,
   "metadata": {},
   "outputs": [
    {
     "name": "stdout",
     "output_type": "stream",
     "text": [
      "The highest and lowest probability values in our catalog are: 5.017377737481738e-23 and 0.000980404482190216\n"
     ]
    }
   ],
   "source": [
    "print(f\"The highest and lowest probability values in our catalog are: {np.min(probdensity)} and {np.max(probdensity)}\")"
   ]
  },
  {
   "cell_type": "markdown",
   "metadata": {
    "tags": []
   },
   "source": [
    "### Sort the skymap table and get 99% credible region"
   ]
  },
  {
   "cell_type": "code",
   "execution_count": 25,
   "metadata": {},
   "outputs": [],
   "source": [
    "# copy the table\n",
    "skymap_sort = Table(skymap, copy = True)"
   ]
  },
  {
   "cell_type": "code",
   "execution_count": 26,
   "metadata": {},
   "outputs": [],
   "source": [
    "# check whether copy worked:\n",
    "# skymap_sort, skymap\n",
    "# np.max(skymap[\"UNIQ\"])"
   ]
  },
  {
   "cell_type": "code",
   "execution_count": 27,
   "metadata": {},
   "outputs": [],
   "source": [
    "# now sort the skymap by its probability (descending)\n",
    "skymap_sort.sort('PROBDENSITY', reverse=True)"
   ]
  },
  {
   "cell_type": "code",
   "execution_count": 28,
   "metadata": {},
   "outputs": [
    {
     "data": {
      "text/html": [
       "<div><i>Table length=5</i>\n",
       "<table id=\"table140116877015552\" class=\"table-striped table-bordered table-condensed\">\n",
       "<thead><tr><th>UNIQ</th><th>PROBDENSITY</th><th>DISTMU</th><th>DISTSIGMA</th><th>DISTNORM</th></tr></thead>\n",
       "<thead><tr><th></th><th>1 / sr</th><th>Mpc</th><th>Mpc</th><th>1 / Mpc2</th></tr></thead>\n",
       "<thead><tr><th>int64</th><th>float64</th><th>float64</th><th>float64</th><th>float64</th></tr></thead>\n",
       "<tr><td>360646</td><td>3.2196653011253047</td><td>3335.033872366058</td><td>928.3289558124724</td><td>8.344299628168369e-08</td></tr>\n",
       "<tr><td>360647</td><td>3.21926280635038</td><td>3337.8878421184318</td><td>931.1690358855824</td><td>8.327397239591765e-08</td></tr>\n",
       "<tr><td>381063</td><td>3.2184780597140166</td><td>3295.2235223335947</td><td>910.7760084338569</td><td>8.555785949247677e-08</td></tr>\n",
       "<tr><td>360596</td><td>3.217869486299789</td><td>3320.9292770842003</td><td>919.8873352187836</td><td>8.421230531947861e-08</td></tr>\n",
       "<tr><td>381074</td><td>3.2171488880973067</td><td>3290.2851255797577</td><td>907.4260565198592</td><td>8.584144313973888e-08</td></tr>\n",
       "</table></div>"
      ],
      "text/plain": [
       "<Table length=5>\n",
       " UNIQ     PROBDENSITY     ...     DISTSIGMA            DISTNORM      \n",
       "             1 / sr       ...        Mpc               1 / Mpc2      \n",
       "int64       float64       ...      float64             float64       \n",
       "------ ------------------ ... ----------------- ---------------------\n",
       "360646 3.2196653011253047 ... 928.3289558124724 8.344299628168369e-08\n",
       "360647   3.21926280635038 ... 931.1690358855824 8.327397239591765e-08\n",
       "381063 3.2184780597140166 ... 910.7760084338569 8.555785949247677e-08\n",
       "360596  3.217869486299789 ... 919.8873352187836 8.421230531947861e-08\n",
       "381074 3.2171488880973067 ... 907.4260565198592 8.584144313973888e-08"
      ]
     },
     "execution_count": 28,
     "metadata": {},
     "output_type": "execute_result"
    }
   ],
   "source": [
    "# this shows the first entries sorted be their probability\n",
    "skymap_sort[:5]"
   ]
  },
  {
   "cell_type": "code",
   "execution_count": 29,
   "metadata": {},
   "outputs": [
    {
     "data": {
      "text/plain": [
       "4609.400699499729"
      ]
     },
     "execution_count": 29,
     "metadata": {},
     "output_type": "execute_result"
    }
   ],
   "source": [
    "# now get 99% credible region area\n",
    "\n",
    "level, ipix = ah.uniq_to_level_ipix(skymap_sort['UNIQ'])\n",
    "pixel_area = ah.nside_to_pixel_area(ah.level_to_nside(level)) # this is the area each pixel contains\n",
    "\n",
    "# calculate the probability per pixel (careful: since the pixels differ in size, this is not neceseraliy a useful quantity\n",
    "prob = pixel_area * skymap_sort['PROBDENSITY']\n",
    "\n",
    "# calc cumsum of probabilities and get index of pixel that sums up to 0.99\n",
    "cumprob = np.cumsum(prob)\n",
    "i = cumprob.searchsorted(0.99)\n",
    "\n",
    "# print area\n",
    "area_99 = pixel_area[:i].sum()\n",
    "area_99.to_value(u.deg**2)"
   ]
  },
  {
   "cell_type": "markdown",
   "metadata": {
    "jp-MarkdownHeadingCollapsed": true,
    "tags": []
   },
   "source": [
    "### can be deleted, just tried things out"
   ]
  },
  {
   "cell_type": "code",
   "execution_count": 30,
   "metadata": {},
   "outputs": [],
   "source": [
    "skymap_sort = hstack([skymap_sort, Table({\"PROB\": prob})])"
   ]
  },
  {
   "cell_type": "code",
   "execution_count": 31,
   "metadata": {},
   "outputs": [
    {
     "data": {
      "text/latex": [
       "$0.0001558255 \\; \\mathrm{}$"
      ],
      "text/plain": [
       "<Quantity 0.00015583>"
      ]
     },
     "execution_count": 31,
     "metadata": {},
     "output_type": "execute_result"
    }
   ],
   "source": [
    "np.max(prob)"
   ]
  },
  {
   "cell_type": "code",
   "execution_count": 32,
   "metadata": {},
   "outputs": [
    {
     "data": {
      "text/html": [
       "<div><i>Table length=5</i>\n",
       "<table id=\"table140116863933920\" class=\"table-striped table-bordered table-condensed\">\n",
       "<thead><tr><th>UNIQ</th><th>PROBDENSITY</th><th>DISTMU</th><th>DISTSIGMA</th><th>DISTNORM</th><th>PROB</th></tr></thead>\n",
       "<thead><tr><th></th><th>1 / sr</th><th>Mpc</th><th>Mpc</th><th>1 / Mpc2</th><th></th></tr></thead>\n",
       "<thead><tr><th>int64</th><th>float64</th><th>float64</th><th>float64</th><th>float64</th><th>float64</th></tr></thead>\n",
       "<tr><td>360646</td><td>3.2196653011253047</td><td>3335.033872366058</td><td>928.3289558124724</td><td>8.344299628168369e-08</td><td>5.1446924118210986e-05</td></tr>\n",
       "<tr><td>360647</td><td>3.21926280635038</td><td>3337.8878421184318</td><td>931.1690358855824</td><td>8.327397239591765e-08</td><td>5.1440492667669744e-05</td></tr>\n",
       "<tr><td>381063</td><td>3.2184780597140166</td><td>3295.2235223335947</td><td>910.7760084338569</td><td>8.555785949247677e-08</td><td>5.1427953227424546e-05</td></tr>\n",
       "<tr><td>360596</td><td>3.217869486299789</td><td>3320.9292770842003</td><td>919.8873352187836</td><td>8.421230531947861e-08</td><td>5.141822885320118e-05</td></tr>\n",
       "<tr><td>381074</td><td>3.2171488880973067</td><td>3290.2851255797577</td><td>907.4260565198592</td><td>8.584144313973888e-08</td><td>5.140671443863459e-05</td></tr>\n",
       "</table></div>"
      ],
      "text/plain": [
       "<Table length=5>\n",
       " UNIQ     PROBDENSITY     ...        DISTNORM                PROB         \n",
       "             1 / sr       ...        1 / Mpc2                             \n",
       "int64       float64       ...        float64               float64        \n",
       "------ ------------------ ... --------------------- ----------------------\n",
       "360646 3.2196653011253047 ... 8.344299628168369e-08 5.1446924118210986e-05\n",
       "360647   3.21926280635038 ... 8.327397239591765e-08 5.1440492667669744e-05\n",
       "381063 3.2184780597140166 ... 8.555785949247677e-08 5.1427953227424546e-05\n",
       "360596  3.217869486299789 ... 8.421230531947861e-08  5.141822885320118e-05\n",
       "381074 3.2171488880973067 ... 8.584144313973888e-08  5.140671443863459e-05"
      ]
     },
     "execution_count": 32,
     "metadata": {},
     "output_type": "execute_result"
    }
   ],
   "source": [
    "skymap_sort[:5]"
   ]
  },
  {
   "cell_type": "code",
   "execution_count": 33,
   "metadata": {},
   "outputs": [],
   "source": [
    "skymap_prob = Table(skymap_sort, copy = True)"
   ]
  },
  {
   "cell_type": "code",
   "execution_count": 34,
   "metadata": {},
   "outputs": [],
   "source": [
    "skymap_prob.sort(\"PROB\", reverse = True)"
   ]
  },
  {
   "cell_type": "code",
   "execution_count": 35,
   "metadata": {},
   "outputs": [
    {
     "data": {
      "text/html": [
       "<div><i>Table length=5</i>\n",
       "<table id=\"table140116863935168\" class=\"table-striped table-bordered table-condensed\">\n",
       "<thead><tr><th>UNIQ</th><th>PROBDENSITY</th><th>DISTMU</th><th>DISTSIGMA</th><th>DISTNORM</th><th>PROB</th></tr></thead>\n",
       "<thead><tr><th></th><th>1 / sr</th><th>Mpc</th><th>Mpc</th><th>1 / Mpc2</th><th></th></tr></thead>\n",
       "<thead><tr><th>int64</th><th>float64</th><th>float64</th><th>float64</th><th>float64</th><th>float64</th></tr></thead>\n",
       "<tr><td>250435</td><td>2.437978345103381</td><td>3206.3392640643733</td><td>850.803516675709</td><td>9.087214947226594e-08</td><td>0.00015582549761124234</td></tr>\n",
       "<tr><td>155301</td><td>2.4375633724713546</td><td>2997.4666729161177</td><td>766.312483674465</td><td>1.0447095403943698e-07</td><td>0.00015579897427603286</td></tr>\n",
       "<tr><td>155624</td><td>2.4372055395950953</td><td>3187.8142069458804</td><td>889.4354187719186</td><td>9.12971929456903e-08</td><td>0.00015577610307780556</td></tr>\n",
       "<tr><td>94489</td><td>2.4371184340562575</td><td>3379.4072875167185</td><td>988.5413032957259</td><td>8.066097320815266e-08</td><td>0.00015577053565184323</td></tr>\n",
       "<tr><td>94239</td><td>2.4368942918186134</td><td>3464.550021270816</td><td>1025.9385663477708</td><td>7.65954376653046e-08</td><td>0.00015575620940658076</td></tr>\n",
       "</table></div>"
      ],
      "text/plain": [
       "<Table length=5>\n",
       " UNIQ     PROBDENSITY     ...        DISTNORM                 PROB         \n",
       "             1 / sr       ...        1 / Mpc2                              \n",
       "int64       float64       ...        float64                float64        \n",
       "------ ------------------ ... ---------------------- ----------------------\n",
       "250435  2.437978345103381 ...  9.087214947226594e-08 0.00015582549761124234\n",
       "155301 2.4375633724713546 ... 1.0447095403943698e-07 0.00015579897427603286\n",
       "155624 2.4372055395950953 ...   9.12971929456903e-08 0.00015577610307780556\n",
       " 94489 2.4371184340562575 ...  8.066097320815266e-08 0.00015577053565184323\n",
       " 94239 2.4368942918186134 ...   7.65954376653046e-08 0.00015575620940658076"
      ]
     },
     "execution_count": 35,
     "metadata": {},
     "output_type": "execute_result"
    }
   ],
   "source": [
    "skymap_prob[:5]"
   ]
  },
  {
   "cell_type": "markdown",
   "metadata": {
    "tags": []
   },
   "source": [
    "### Compare Tables, only leave 99% credible region in DESI data table\n",
    "\n",
    "Now we can get a Table that only contains the 99% credible region. From there we only leave the matching objects in the DESI data"
   ]
  },
  {
   "cell_type": "code",
   "execution_count": 36,
   "metadata": {},
   "outputs": [],
   "source": [
    "# we simply select only the entries that are within the 99% credible region\n",
    "skymap_99 = skymap_sort[:i]"
   ]
  },
  {
   "cell_type": "code",
   "execution_count": 37,
   "metadata": {},
   "outputs": [
    {
     "name": "stdout",
     "output_type": "stream",
     "text": [
      "This is the number of UNIQ ID of objects which should lie within the 99% credible region (NOT THE NUMBER OF OBJECTS, as there can be multiple objects per UNIQ ID): 6128\n"
     ]
    }
   ],
   "source": [
    "print(\"This is the number of UNIQ ID of objects which should lie within the 99% credible region (NOT THE NUMBER OF OBJECTS, as there can be multiple objects per UNIQ ID):\", len(np.intersect1d(skymap_99[\"UNIQ\"], data[\"UNIQ\"])))"
   ]
  },
  {
   "cell_type": "code",
   "execution_count": 38,
   "metadata": {},
   "outputs": [],
   "source": [
    "mask = np.in1d(data[\"UNIQ\"], skymap_99[\"UNIQ\"])\n",
    "data_99 = data[mask]"
   ]
  },
  {
   "cell_type": "code",
   "execution_count": 39,
   "metadata": {},
   "outputs": [
    {
     "name": "stdout",
     "output_type": "stream",
     "text": [
      "We now have 1941824 objects in the 99% credible region\n",
      "Check if the region from where the galaxies have been selected makes any sense (RA; DEC):  75.9838083028058 281.232040543695 -21.9997270654372 72.3507656527762\n",
      "We can also check whether we have at least one galaxy in the UNIQ pixel with the highest probability from LIGO...\n",
      "This is False\n"
     ]
    }
   ],
   "source": [
    "print(f\"We now have {len(data_99)} objects in the 99% credible region\")\n",
    "print(\"Check if the region from where the galaxies have been selected makes any sense (RA; DEC): \", np.min(data_99[\"TARGET_RA\"]), np.max(data_99[\"TARGET_RA\"]), np.min(data_99[\"TARGET_DEC\"]), np.max(data_99[\"TARGET_DEC\"]))\n",
    "\n",
    "max_probdens_in_desi = np.max(data_99[\"PROBDENSITY\"])\n",
    "max_probdens_in_ligo = np.max(skymap[\"PROBDENSITY\"]).to_value(u.deg**-2)\n",
    "print(f\"We can also check whether we have at least one galaxy in the UNIQ pixel with the highest probability from LIGO...\")\n",
    "print(f\"This is {np.allclose(max_probdens_in_desi, max_probdens_in_ligo)}\")"
   ]
  },
  {
   "cell_type": "code",
   "execution_count": 40,
   "metadata": {},
   "outputs": [],
   "source": [
    "data_99.sort('PROBDENSITY', reverse=True)"
   ]
  },
  {
   "cell_type": "code",
   "execution_count": 41,
   "metadata": {},
   "outputs": [
    {
     "data": {
      "text/html": [
       "<div><i>Table length=2</i>\n",
       "<table id=\"table140116863927584\" class=\"table-striped table-bordered table-condensed\">\n",
       "<thead><tr><th>TARGETID</th><th>TARGET_RA</th><th>TARGET_DEC</th><th>LASTNIGHT</th><th>Z</th><th>ZERR</th><th>ZWARN</th><th>FLUX_G</th><th>FLUX_R</th><th>FLUX_Z</th><th>SPECTYPE</th><th>BGS_TARGET</th><th>EBV</th><th>SERSIC</th><th>UNIQ</th><th>PROBDENSITY</th><th>DISTMU</th><th>DISTSIGMA</th><th>DISTNORM</th></tr></thead>\n",
       "<thead><tr><th></th><th></th><th></th><th></th><th></th><th></th><th></th><th></th><th></th><th></th><th></th><th></th><th></th><th></th><th></th><th></th><th>Mpc</th><th>Mpc</th><th>1 / Mpc2</th></tr></thead>\n",
       "<thead><tr><th>int64</th><th>float64</th><th>float64</th><th>int64</th><th>float64</th><th>float64</th><th>int64</th><th>float64</th><th>float64</th><th>float64</th><th>bytes6</th><th>int64</th><th>float64</th><th>float64</th><th>int64</th><th>float64</th><th>float64</th><th>float64</th><th>float64</th></tr></thead>\n",
       "<tr><td>39633348737369086</td><td>149.526819617568</td><td>56.9328774571187</td><td>20230111</td><td>1.64543104984771</td><td>0.000370640678493825</td><td>0</td><td>7.8147087097168</td><td>8.92171192169189</td><td>10.6324882507324</td><td>QSO</td><td>0</td><td>0.00702684186398983</td><td>0.0</td><td>381063</td><td>0.000980404482190216</td><td>3295.2235223335947</td><td>910.7760084338569</td><td>8.555785949247677e-08</td></tr>\n",
       "<tr><td>39633345415482177</td><td>149.54492013422</td><td>56.8394236579418</td><td>20220217</td><td>0.26476675533189</td><td>4.42247100708578e-05</td><td>0</td><td>11.9601430892944</td><td>32.4653091430664</td><td>57.8354148864746</td><td>GALAXY</td><td>514</td><td>0.00669602770358324</td><td>1.0</td><td>381063</td><td>0.000980404482190216</td><td>3295.2235223335947</td><td>910.7760084338569</td><td>8.555785949247677e-08</td></tr>\n",
       "</table></div>"
      ],
      "text/plain": [
       "<Table length=2>\n",
       "     TARGETID        TARGET_RA     ...     DISTSIGMA            DISTNORM      \n",
       "                                   ...        Mpc               1 / Mpc2      \n",
       "      int64           float64      ...      float64             float64       \n",
       "----------------- ---------------- ... ----------------- ---------------------\n",
       "39633348737369086 149.526819617568 ... 910.7760084338569 8.555785949247677e-08\n",
       "39633345415482177  149.54492013422 ... 910.7760084338569 8.555785949247677e-08"
      ]
     },
     "execution_count": 41,
     "metadata": {},
     "output_type": "execute_result"
    }
   ],
   "source": [
    "data_99[:2]"
   ]
  },
  {
   "cell_type": "code",
   "execution_count": 42,
   "metadata": {},
   "outputs": [
    {
     "name": "stdout",
     "output_type": "stream",
     "text": [
      "We have now performed all the necessary steps to get the localization selection in 2D, i.e. the angle on the sky\n",
      "However, we have not used the distance data at all. Therefore our redhsifts range from 5.8544022196563e-10 to 6.87848897451193\n"
     ]
    }
   ],
   "source": [
    "print(\"We have now performed all the necessary steps to get the localization selection in 2D, i.e. the angle on the sky\")\n",
    "min_z = np.min(data_99[\"Z\"])\n",
    "max_z = np.max(data_99[\"Z\"])\n",
    "print(f\"However, we have not used the distance data at all. Therefore our redhsifts range from {min_z} to {max_z}\")"
   ]
  },
  {
   "cell_type": "markdown",
   "metadata": {
    "tags": []
   },
   "source": [
    "### Calculate all the distances of the objects from the redshifts"
   ]
  },
  {
   "cell_type": "code",
   "execution_count": 43,
   "metadata": {},
   "outputs": [],
   "source": [
    "distances = Distance(z=data_99[\"Z\"], cosmology=Planck18)\n",
    "distances_err = Distance(z=data_99[\"ZERR\"], cosmology=Planck18)\n",
    "\n",
    "data_99 = hstack([data_99, Table({\"DIST_Z\": distances}), Table({\"DIST_Z_ERR\": distances_err})])"
   ]
  },
  {
   "cell_type": "code",
   "execution_count": 44,
   "metadata": {},
   "outputs": [
    {
     "data": {
      "text/html": [
       "<div><i>Table length=5</i>\n",
       "<table id=\"table140116863933488\" class=\"table-striped table-bordered table-condensed\">\n",
       "<thead><tr><th>TARGETID</th><th>TARGET_RA</th><th>TARGET_DEC</th><th>LASTNIGHT</th><th>Z</th><th>ZERR</th><th>ZWARN</th><th>FLUX_G</th><th>FLUX_R</th><th>FLUX_Z</th><th>SPECTYPE</th><th>BGS_TARGET</th><th>EBV</th><th>SERSIC</th><th>UNIQ</th><th>PROBDENSITY</th><th>DISTMU</th><th>DISTSIGMA</th><th>DISTNORM</th><th>DIST_Z</th><th>DIST_Z_ERR</th></tr></thead>\n",
       "<thead><tr><th></th><th></th><th></th><th></th><th></th><th></th><th></th><th></th><th></th><th></th><th></th><th></th><th></th><th></th><th></th><th></th><th>Mpc</th><th>Mpc</th><th>1 / Mpc2</th><th>Mpc</th><th>Mpc</th></tr></thead>\n",
       "<thead><tr><th>int64</th><th>float64</th><th>float64</th><th>int64</th><th>float64</th><th>float64</th><th>int64</th><th>float64</th><th>float64</th><th>float64</th><th>bytes6</th><th>int64</th><th>float64</th><th>float64</th><th>int64</th><th>float64</th><th>float64</th><th>float64</th><th>float64</th><th>float64</th><th>float64</th></tr></thead>\n",
       "<tr><td>39633348737369086</td><td>149.526819617568</td><td>56.9328774571187</td><td>20230111</td><td>1.64543104984771</td><td>0.000370640678493825</td><td>0</td><td>7.8147087097168</td><td>8.92171192169189</td><td>10.6324882507324</td><td>QSO</td><td>0</td><td>0.00702684186398983</td><td>0.0</td><td>381063</td><td>0.000980404482190216</td><td>3295.2235223335947</td><td>910.7760084338569</td><td>8.555785949247677e-08</td><td>12540.907632234268</td><td>1.642726099829422</td></tr>\n",
       "<tr><td>39633345415482177</td><td>149.54492013422</td><td>56.8394236579418</td><td>20220217</td><td>0.26476675533189</td><td>4.42247100708578e-05</td><td>0</td><td>11.9601430892944</td><td>32.4653091430664</td><td>57.8354148864746</td><td>GALAXY</td><td>514</td><td>0.00669602770358324</td><td>1.0</td><td>381063</td><td>0.000980404482190216</td><td>3295.2235223335947</td><td>910.7760084338569</td><td>8.555785949247677e-08</td><td>1388.8394507498294</td><td>0.19596044971073498</td></tr>\n",
       "<tr><td>39633345415482299</td><td>149.561456206428</td><td>56.7885091290282</td><td>20230111</td><td>0.239415745364647</td><td>1.12011042538165e-05</td><td>0</td><td>6.97130107879639</td><td>18.6108722686768</td><td>35.2831916809082</td><td>GALAXY</td><td>514</td><td>0.00645431550219655</td><td>1.40449893474579</td><td>381063</td><td>0.000980404482190216</td><td>3295.2235223335947</td><td>910.7760084338569</td><td>8.555785949247677e-08</td><td>1238.8816824474231</td><td>0.04963102884168046</td></tr>\n",
       "<tr><td>39633345415482436</td><td>149.581908609529</td><td>56.7144342394076</td><td>20230111</td><td>1.46605661338873</td><td>8.39649932966265e-05</td><td>0</td><td>0.512547016143799</td><td>0.696299970149994</td><td>1.13237380981445</td><td>GALAXY</td><td>0</td><td>0.0074110459536314</td><td>1.0</td><td>381063</td><td>0.000980404482190216</td><td>3295.2235223335947</td><td>910.7760084338569</td><td>8.555785949247677e-08</td><td>10882.207319721158</td><td>0.3720616608505341</td></tr>\n",
       "<tr><td>39633345419674766</td><td>149.772658447457</td><td>56.8675166507996</td><td>20220217</td><td>0.114034243133952</td><td>1.95267095939342e-05</td><td>0</td><td>77.7299194335938</td><td>187.886367797852</td><td>338.662719726562</td><td>GALAXY</td><td>514</td><td>0.00805614609271288</td><td>4.0</td><td>381063</td><td>0.000980404482190216</td><td>3295.2235223335947</td><td>910.7760084338569</td><td>8.555785949247677e-08</td><td>547.6168026494503</td><td>0.08652154738189138</td></tr>\n",
       "</table></div>"
      ],
      "text/plain": [
       "<Table length=5>\n",
       "     TARGETID        TARGET_RA     ...       DIST_Z            DIST_Z_ERR    \n",
       "                                   ...        Mpc                 Mpc        \n",
       "      int64           float64      ...      float64             float64      \n",
       "----------------- ---------------- ... ------------------ -------------------\n",
       "39633348737369086 149.526819617568 ... 12540.907632234268   1.642726099829422\n",
       "39633345415482177  149.54492013422 ... 1388.8394507498294 0.19596044971073498\n",
       "39633345415482299 149.561456206428 ... 1238.8816824474231 0.04963102884168046\n",
       "39633345415482436 149.581908609529 ... 10882.207319721158  0.3720616608505341\n",
       "39633345419674766 149.772658447457 ...  547.6168026494503 0.08652154738189138"
      ]
     },
     "execution_count": 44,
     "metadata": {},
     "output_type": "execute_result"
    }
   ],
   "source": [
    "data_99[:5]"
   ]
  },
  {
   "cell_type": "markdown",
   "metadata": {
    "jp-MarkdownHeadingCollapsed": true,
    "tags": []
   },
   "source": [
    "### Lets check how much the distance measurement changes in the 99% credible region of LIGO and compare to our DESI data\n",
    "\n",
    "We should see a lot more data in DESI (since we haven't done any redshift selection and there can be multiple objects per GW-pixel). Be carfeul, we are comparing actual object counts with the number of pixels.\n",
    "\n",
    "\n",
    "We still see, that most of the GW localization is roughly between 780Mpc and 950Mpc. DESI definitely has a most of its data in this range as well."
   ]
  },
  {
   "cell_type": "code",
   "execution_count": 45,
   "metadata": {},
   "outputs": [
    {
     "name": "stdout",
     "output_type": "stream",
     "text": [
      "Our distance ranges from 1075.592223141122 Mpc to 3638.8719547039655 Mpc\n",
      "Let's visualize the distance distribution of the LIGO event in the 99% credible region\n"
     ]
    },
    {
     "data": {
      "image/png": "[encoded data removed]",
      "text/plain": [
       "<Figure size 1500x800 with 3 Axes>"
      ]
     },
     "metadata": {},
     "output_type": "display_data"
    }
   ],
   "source": [
    "dist_max_99 = np.max(skymap_99[\"DISTMU\"])*u.Mpc\n",
    "dist_min_99 = np.min(skymap_99[\"DISTMU\"])*u.Mpc\n",
    "print(f\"Our distance ranges from {dist_min_99} to {dist_max_99}\")\n",
    "print(\"Let's visualize the distance distribution of the LIGO event in the 99% credible region\")\n",
    "\n",
    "fig, ax = plt.subplots(ncols = 3, figsize = (15,8))\n",
    "\n",
    "\n",
    "ax[0].hist(data_99[\"DIST_Z\"], bins = \"auto\", color = \"orange\")\n",
    "ax[1].hist(data_99[\"DIST_Z\"], bins = \"auto\", color = \"green\")\n",
    "ax[2].hist(skymap_99[\"DISTMU\"], bins = \"auto\", color = \"blue\")\n",
    "\n",
    "\n",
    "for axis in ax:\n",
    "    axis.set_xlabel(\"distance bin (Mpc)\")\n",
    "\n",
    "ax[0].set_ylabel(\"object count\")\n",
    "ax[1].set_ylabel(\"object count\")\n",
    "ax[2].set_ylabel(\"pixel count\")\n",
    "\n",
    "ax[1].set_xlim(0,1000)\n",
    "    \n",
    "plt.show()"
   ]
  },
  {
   "cell_type": "code",
   "execution_count": 46,
   "metadata": {},
   "outputs": [
    {
     "data": {
      "text/plain": [
       "(15197, 1941824)"
      ]
     },
     "execution_count": 46,
     "metadata": {},
     "output_type": "execute_result"
    }
   ],
   "source": [
    "len(skymap_99), len(data_99)"
   ]
  },
  {
   "cell_type": "markdown",
   "metadata": {
    "tags": []
   },
   "source": [
    "### To reduce our data even more, lets cut out the unreasonably far away objects\n",
    "\n",
    "We simply take maximum and minimum distance we get from the LIGO skymap (i.e. DISTMU+-DISTERR) and check, whether every galaxy in that pixel falls inside this range.\n",
    "\n",
    "*Note: We do this only for our own GW-follow ups*"
   ]
  },
  {
   "cell_type": "code",
   "execution_count": 47,
   "metadata": {},
   "outputs": [
    {
     "name": "stdout",
     "output_type": "stream",
     "text": [
      "The z-range selection has deleted 1718401 objects from originally 1941824 in the data set\n",
      "Therefore, we have 223423 objects left in the search region\n",
      "Our highest remaing probability density is 0.000980404482190216 compared to the originally highest prob density of 0.0009807661366055865\n",
      "The difference in prob density is 3.6165441537057245e-07\n"
     ]
    }
   ],
   "source": [
    "if follow_up_others == False:\n",
    "    z_selection_mask = data_99[\"DIST_Z\"] - data_99[\"DIST_Z_ERR\"] <  data_99[\"DISTMU\"] + data_99[\"DISTSIGMA\"]\n",
    "    z_selection_mask &= data_99[\"DIST_Z\"] + data_99[\"DIST_Z_ERR\"] >  data_99[\"DISTMU\"] - data_99[\"DISTSIGMA\"]\n",
    "\n",
    "    data_99_z = data_99[z_selection_mask]\n",
    "\n",
    "    remaining_obj = np.size(np.where(z_selection_mask == True))\n",
    "    deleted_obj = np.size(np.where(z_selection_mask == False))\n",
    "\n",
    "    print(f\"The z-range selection has deleted {deleted_obj} objects from originally {deleted_obj+remaining_obj} in the data set\")\n",
    "    print(f\"Therefore, we have {remaining_obj} objects left in the search region\")\n",
    "\n",
    "    highest_prob_dens = np.max(data_99_z[\"PROBDENSITY\"])\n",
    "    print(f\"Our highest remaing probability density is {highest_prob_dens} compared to the originally highest prob density of {max_probdens_in_ligo}\")\n",
    "    print(f\"The difference in prob density is {max_probdens_in_ligo-highest_prob_dens}\")\n",
    "\n",
    "    \n",
    "else:\n",
    "    data_99_z = data_99\n",
    "    remaining_obj = len(data_99_z)"
   ]
  },
  {
   "cell_type": "code",
   "execution_count": 48,
   "metadata": {},
   "outputs": [
    {
     "data": {
      "text/html": [
       "<div><i>Table length=5</i>\n",
       "<table id=\"table140109683047008\" class=\"table-striped table-bordered table-condensed\">\n",
       "<thead><tr><th>TARGETID</th><th>TARGET_RA</th><th>TARGET_DEC</th><th>LASTNIGHT</th><th>Z</th><th>ZERR</th><th>ZWARN</th><th>FLUX_G</th><th>FLUX_R</th><th>FLUX_Z</th><th>SPECTYPE</th><th>BGS_TARGET</th><th>EBV</th><th>SERSIC</th><th>UNIQ</th><th>PROBDENSITY</th><th>DISTMU</th><th>DISTSIGMA</th><th>DISTNORM</th><th>DIST_Z</th><th>DIST_Z_ERR</th></tr></thead>\n",
       "<thead><tr><th></th><th></th><th></th><th></th><th></th><th></th><th></th><th></th><th></th><th></th><th></th><th></th><th></th><th></th><th></th><th></th><th>Mpc</th><th>Mpc</th><th>1 / Mpc2</th><th>Mpc</th><th>Mpc</th></tr></thead>\n",
       "<thead><tr><th>int64</th><th>float64</th><th>float64</th><th>int64</th><th>float64</th><th>float64</th><th>int64</th><th>float64</th><th>float64</th><th>float64</th><th>bytes6</th><th>int64</th><th>float64</th><th>float64</th><th>int64</th><th>float64</th><th>float64</th><th>float64</th><th>float64</th><th>float64</th><th>float64</th></tr></thead>\n",
       "<tr><td>39633348737370580</td><td>149.731858864371</td><td>56.9312496755096</td><td>20220217</td><td>0.495489416574863</td><td>2.20148581582734e-05</td><td>0</td><td>2.71986150741577</td><td>11.3770246505737</td><td>22.8125457763672</td><td>GALAXY</td><td>265</td><td>0.00814501941204071</td><td>1.0</td><td>381063</td><td>0.000980404482190216</td><td>3295.2235223335947</td><td>910.7760084338569</td><td>8.555785949247677e-08</td><td>2888.1504278588045</td><td>0.09754655371973427</td></tr>\n",
       "<tr><td>39633345419674552</td><td>149.746083544443</td><td>56.8158924427833</td><td>20230111</td><td>0.461943734945613</td><td>5.90773549384541e-05</td><td>0</td><td>1.22634875774384</td><td>4.27038764953613</td><td>12.617564201355</td><td>QSO</td><td>0</td><td>0.00707075512036681</td><td>1.0</td><td>381063</td><td>0.000980404482190216</td><td>3295.2235223335947</td><td>910.7760084338569</td><td>8.555785949247677e-08</td><td>2656.4599044744687</td><td>0.2617757545544275</td></tr>\n",
       "<tr><td>39633348737370137</td><td>149.66794383249</td><td>57.0033957865664</td><td>20230111</td><td>0.451572772372613</td><td>1.34600353464372e-05</td><td>0</td><td>3.38903498649597</td><td>8.09316825866699</td><td>12.1117086410522</td><td>GALAXY</td><td>257</td><td>0.00760876014828682</td><td>1.0</td><td>381063</td><td>0.000980404482190216</td><td>3295.2235223335947</td><td>910.7760084338569</td><td>8.555785949247677e-08</td><td>2585.7004374326907</td><td>0.05964024119302752</td></tr>\n",
       "<tr><td>39633348737369876</td><td>149.636725167273</td><td>56.9238907305412</td><td>20230111</td><td>0.631628281203086</td><td>8.24040065710573e-05</td><td>0</td><td>0.776683866977692</td><td>3.00659418106079</td><td>11.125186920166</td><td>GALAXY</td><td>0</td><td>0.00730695435777307</td><td>1.0</td><td>381063</td><td>0.000980404482190216</td><td>3295.2235223335947</td><td>910.7760084338569</td><td>8.555785949247677e-08</td><td>3869.3739418810364</td><td>0.36514425425509933</td></tr>\n",
       "<tr><td>39633348737369858</td><td>149.634565589934</td><td>56.9599748387211</td><td>20230111</td><td>0.462264229933264</td><td>0.000118179614871328</td><td>0</td><td>1.83348059654236</td><td>9.47850799560547</td><td>21.6667633056641</td><td>GALAXY</td><td>257</td><td>0.00762270204722881</td><td>2.48089051246643</td><td>381063</td><td>0.000980404482190216</td><td>3295.2235223335947</td><td>910.7760084338569</td><td>8.555785949247677e-08</td><td>2658.653228012125</td><td>0.523685588637672</td></tr>\n",
       "</table></div>"
      ],
      "text/plain": [
       "<Table length=5>\n",
       "     TARGETID        TARGET_RA     ...       DIST_Z            DIST_Z_ERR    \n",
       "                                   ...        Mpc                 Mpc        \n",
       "      int64           float64      ...      float64             float64      \n",
       "----------------- ---------------- ... ------------------ -------------------\n",
       "39633348737370580 149.731858864371 ... 2888.1504278588045 0.09754655371973427\n",
       "39633345419674552 149.746083544443 ... 2656.4599044744687  0.2617757545544275\n",
       "39633348737370137  149.66794383249 ... 2585.7004374326907 0.05964024119302752\n",
       "39633348737369876 149.636725167273 ... 3869.3739418810364 0.36514425425509933\n",
       "39633348737369858 149.634565589934 ...  2658.653228012125   0.523685588637672"
      ]
     },
     "execution_count": 48,
     "metadata": {},
     "output_type": "execute_result"
    }
   ],
   "source": [
    "data_99_z[:5]"
   ]
  },
  {
   "cell_type": "markdown",
   "metadata": {
    "tags": []
   },
   "source": [
    "### get the apparent, absolute magnitudes and luminosities\n",
    "\n",
    "in order to do this: flux > 0 selection  and gal ext correction"
   ]
  },
  {
   "cell_type": "code",
   "execution_count": 49,
   "metadata": {},
   "outputs": [
    {
     "name": "stdout",
     "output_type": "stream",
     "text": [
      "We have 217703 objects remaining in our catalog, i.e. 5720 had to be cut out due to bad fluxes\n"
     ]
    }
   ],
   "source": [
    "# get the apparent mags\n",
    "data_99_z = data_99_z[data_99_z[\"FLUX_Z\"] > 0] # flux selection (only ones above 0)\n",
    "data_99_z[\"MW_TRANSMISSION\"] = gs.mw_transmission_from_data_table(data_99_z, \"z\")\n",
    "#data_99_z[\"FLUX_Z\"] = data_99_z[\"FLUX_Z\"]/data_99_z[\"MW_TRANSMISSION\"]\n",
    "\n",
    "app_mag_z = gs.app_mag(data_99_z[\"FLUX_Z\"])\n",
    "flux_selection_cut = len(data_99_z)\n",
    "print(f\"We have {flux_selection_cut} objects remaining in our catalog, i.e. {remaining_obj-flux_selection_cut} had to be cut out due to bad fluxes\")\n",
    "\n",
    "# get the absolute mags\n",
    "abs_mag_z = gs.abs_mag(app_mag_z, data_99_z[\"Z\"], 0,0,0)\n",
    "\n",
    "# get the luminosities\n",
    "lums_z = gs.lum(abs_mag_z, band = \"z\")"
   ]
  },
  {
   "cell_type": "code",
   "execution_count": 50,
   "metadata": {},
   "outputs": [],
   "source": [
    "data_f = hstack([data_99_z, Table({\"APP_MAG_Z\": app_mag_z}), Table({\"ABS_MAG_Z\": abs_mag_z}), Table({\"LUM_Z\": lums_z})])"
   ]
  },
  {
   "cell_type": "code",
   "execution_count": 51,
   "metadata": {},
   "outputs": [
    {
     "data": {
      "text/html": [
       "<div><i>Table length=5</i>\n",
       "<table id=\"table140109683042784\" class=\"table-striped table-bordered table-condensed\">\n",
       "<thead><tr><th>TARGETID</th><th>TARGET_RA</th><th>TARGET_DEC</th><th>LASTNIGHT</th><th>Z</th><th>ZERR</th><th>ZWARN</th><th>FLUX_G</th><th>FLUX_R</th><th>FLUX_Z</th><th>SPECTYPE</th><th>BGS_TARGET</th><th>EBV</th><th>SERSIC</th><th>UNIQ</th><th>PROBDENSITY</th><th>DISTMU</th><th>DISTSIGMA</th><th>DISTNORM</th><th>DIST_Z</th><th>DIST_Z_ERR</th><th>MW_TRANSMISSION</th><th>APP_MAG_Z</th><th>ABS_MAG_Z</th><th>LUM_Z</th></tr></thead>\n",
       "<thead><tr><th></th><th></th><th></th><th></th><th></th><th></th><th></th><th></th><th></th><th></th><th></th><th></th><th></th><th></th><th></th><th></th><th>Mpc</th><th>Mpc</th><th>1 / Mpc2</th><th>Mpc</th><th>Mpc</th><th></th><th></th><th></th><th>W</th></tr></thead>\n",
       "<thead><tr><th>int64</th><th>float64</th><th>float64</th><th>int64</th><th>float64</th><th>float64</th><th>int64</th><th>float64</th><th>float64</th><th>float64</th><th>bytes6</th><th>int64</th><th>float64</th><th>float64</th><th>int64</th><th>float64</th><th>float64</th><th>float64</th><th>float64</th><th>float64</th><th>float64</th><th>float64</th><th>float64</th><th>float64</th><th>float64</th></tr></thead>\n",
       "<tr><td>39633348737370580</td><td>149.731858864371</td><td>56.9312496755096</td><td>20220217</td><td>0.495489416574863</td><td>2.20148581582734e-05</td><td>0</td><td>2.71986150741577</td><td>11.3770246505737</td><td>22.8125457763672</td><td>GALAXY</td><td>265</td><td>0.00814501941204071</td><td>1.0</td><td>381063</td><td>0.000980404482190216</td><td>3295.2235223335947</td><td>910.7760084338569</td><td>8.555785949247677e-08</td><td>2888.1504278588045</td><td>0.09754655371973427</td><td>0.9910456250627354</td><td>19.104565616824246</td><td>-23.198533430654813</td><td>2.212355876714218e+37</td></tr>\n",
       "<tr><td>39633345419674552</td><td>149.746083544443</td><td>56.8158924427833</td><td>20230111</td><td>0.461943734945613</td><td>5.90773549384541e-05</td><td>0</td><td>1.22634875774384</td><td>4.27038764953613</td><td>12.617564201355</td><td>QSO</td><td>0</td><td>0.00707075512036681</td><td>1.0</td><td>381063</td><td>0.000980404482190216</td><td>3295.2235223335947</td><td>910.7760084338569</td><td>8.555785949247677e-08</td><td>2656.4599044744687</td><td>0.2617757545544275</td><td>0.9922220312120109</td><td>19.74756119197147</td><td>-22.37395513418315</td><td>1.0351985850489562e+37</td></tr>\n",
       "<tr><td>39633348737370137</td><td>149.66794383249</td><td>57.0033957865664</td><td>20230111</td><td>0.451572772372613</td><td>1.34600353464372e-05</td><td>0</td><td>3.38903498649597</td><td>8.09316825866699</td><td>12.1117086410522</td><td>GALAXY</td><td>257</td><td>0.00760876014828682</td><td>1.0</td><td>381063</td><td>0.000980404482190216</td><td>3295.2235223335947</td><td>910.7760084338569</td><td>8.555785949247677e-08</td><td>2585.7004374326907</td><td>0.05964024119302752</td><td>0.991632697810591</td><td>19.79198646273774</td><td>-22.27090458177483</td><td>9.414634163651927e+36</td></tr>\n",
       "<tr><td>39633348737369876</td><td>149.636725167273</td><td>56.9238907305412</td><td>20230111</td><td>0.631628281203086</td><td>8.24040065710573e-05</td><td>0</td><td>0.776683866977692</td><td>3.00659418106079</td><td>11.125186920166</td><td>GALAXY</td><td>0</td><td>0.00730695435777307</td><td>1.0</td><td>381063</td><td>0.000980404482190216</td><td>3295.2235223335947</td><td>910.7760084338569</td><td>8.555785949247677e-08</td><td>3869.3739418810364</td><td>0.36514425425509933</td><td>0.991963254267453</td><td>19.884231708684503</td><td>-23.053971804289652</td><td>1.936557237942373e+37</td></tr>\n",
       "<tr><td>39633348737369858</td><td>149.634565589934</td><td>56.9599748387211</td><td>20230111</td><td>0.462264229933264</td><td>0.000118179614871328</td><td>0</td><td>1.83348059654236</td><td>9.47850799560547</td><td>21.6667633056641</td><td>GALAXY</td><td>257</td><td>0.00762270204722881</td><td>2.48089051246643</td><td>381063</td><td>0.000980404482190216</td><td>3295.2235223335947</td><td>910.7760084338569</td><td>8.555785949247677e-08</td><td>2658.653228012125</td><td>0.523685588637672</td><td>0.9916174304385449</td><td>19.16051490253551</td><td>-22.962793574302935</td><td>1.780569974936348e+37</td></tr>\n",
       "</table></div>"
      ],
      "text/plain": [
       "<Table length=5>\n",
       "     TARGETID        TARGET_RA     ...         LUM_Z         \n",
       "                                   ...           W           \n",
       "      int64           float64      ...        float64        \n",
       "----------------- ---------------- ... ----------------------\n",
       "39633348737370580 149.731858864371 ...  2.212355876714218e+37\n",
       "39633345419674552 149.746083544443 ... 1.0351985850489562e+37\n",
       "39633348737370137  149.66794383249 ...  9.414634163651927e+36\n",
       "39633348737369876 149.636725167273 ...  1.936557237942373e+37\n",
       "39633348737369858 149.634565589934 ...  1.780569974936348e+37"
      ]
     },
     "execution_count": 51,
     "metadata": {},
     "output_type": "execute_result"
    }
   ],
   "source": [
    "data_f[:5]"
   ]
  },
  {
   "cell_type": "code",
   "execution_count": 52,
   "metadata": {},
   "outputs": [],
   "source": [
    "# np.max(data_f[\"MW_TRANSMISSION\"])"
   ]
  },
  {
   "cell_type": "code",
   "execution_count": 53,
   "metadata": {},
   "outputs": [
    {
     "name": "stdout",
     "output_type": "stream",
     "text": [
      "The maximum luminosity in our cataloge in the z-band is 4.8209685323601606e+39 W with a prob density of      PROBDENSITY      \n",
      "----------------------\n",
      "1.8829814635320415e-05\n"
     ]
    }
   ],
   "source": [
    "max_lum_z = np.max(data_f[\"LUM_Z\"])*u.W\n",
    "prob_dens_max_lum = data_f[data_f[\"LUM_Z\"] == max_lum_z][\"PROBDENSITY\"]\n",
    "print(f\"The maximum luminosity in our cataloge in the z-band is {max_lum_z} with a prob density of {prob_dens_max_lum}\")"
   ]
  },
  {
   "cell_type": "code",
   "execution_count": 54,
   "metadata": {},
   "outputs": [],
   "source": [
    "arg_errfc = abs(data_f[\"DIST_Z\"]-data_f[\"DISTMU\"])/(data_f[\"DIST_Z_ERR\"]**2+data_f[\"DISTSIGMA\"]**2)\n",
    "P_gal_unnorm = data_f[\"LUM_Z\"]*data_f[\"PROBDENSITY\"]*(1-sc.special.erf(arg_errfc))\n",
    "#dist_mean*u.Mpc, dist_std*u.Mpc\n",
    "arg_errfc_c = abs(data_f[\"DIST_Z\"].value-dist_mean)/(data_f[\"DIST_Z_ERR\"].value**2+dist_std**2)\n",
    "P_gal_unnorm_const = data_f[\"LUM_Z\"]*data_f[\"PROBDENSITY\"]*(1-sc.special.erf(arg_errfc_c))\n",
    "\n",
    "# now lets quickly normalize\n",
    "\n",
    "P_gal_sum = np.sum(P_gal_unnorm)\n",
    "P_gal_const_sum = np.sum(P_gal_unnorm_const)\n",
    "\n",
    "P_gal = 1/P_gal_sum * P_gal_unnorm\n",
    "P_gal_const = 1/P_gal_const_sum * P_gal_unnorm_const"
   ]
  },
  {
   "cell_type": "code",
   "execution_count": 55,
   "metadata": {},
   "outputs": [],
   "source": [
    "data_f = hstack([data_f, Table({\"P_GAL\": P_gal.value}), Table({\"P_GAL_C\": P_gal_const.value})])"
   ]
  },
  {
   "cell_type": "code",
   "execution_count": 56,
   "metadata": {},
   "outputs": [
    {
     "data": {
      "text/html": [
       "<div><i>Table length=217703</i>\n",
       "<table id=\"table140116863938576\" class=\"table-striped table-bordered table-condensed\">\n",
       "<thead><tr><th>TARGETID</th><th>TARGET_RA</th><th>TARGET_DEC</th><th>LASTNIGHT</th><th>Z</th><th>ZERR</th><th>ZWARN</th><th>FLUX_G</th><th>FLUX_R</th><th>FLUX_Z</th><th>SPECTYPE</th><th>BGS_TARGET</th><th>EBV</th><th>SERSIC</th><th>UNIQ</th><th>PROBDENSITY</th><th>DISTMU</th><th>DISTSIGMA</th><th>DISTNORM</th><th>DIST_Z</th><th>DIST_Z_ERR</th><th>MW_TRANSMISSION</th><th>APP_MAG_Z</th><th>ABS_MAG_Z</th><th>LUM_Z</th><th>P_GAL</th><th>P_GAL_C</th></tr></thead>\n",
       "<thead><tr><th></th><th></th><th></th><th></th><th></th><th></th><th></th><th></th><th></th><th></th><th></th><th></th><th></th><th></th><th></th><th></th><th>Mpc</th><th>Mpc</th><th>1 / Mpc2</th><th>Mpc</th><th>Mpc</th><th></th><th></th><th></th><th>W</th><th></th><th></th></tr></thead>\n",
       "<thead><tr><th>int64</th><th>float64</th><th>float64</th><th>int64</th><th>float64</th><th>float64</th><th>int64</th><th>float64</th><th>float64</th><th>float64</th><th>bytes6</th><th>int64</th><th>float64</th><th>float64</th><th>int64</th><th>float64</th><th>float64</th><th>float64</th><th>float64</th><th>float64</th><th>float64</th><th>float64</th><th>float64</th><th>float64</th><th>float64</th><th>float64</th><th>float64</th></tr></thead>\n",
       "<tr><td>39633348737370580</td><td>149.731858864371</td><td>56.9312496755096</td><td>20220217</td><td>0.495489416574863</td><td>2.20148581582734e-05</td><td>0</td><td>2.71986150741577</td><td>11.3770246505737</td><td>22.8125457763672</td><td>GALAXY</td><td>265</td><td>0.00814501941204071</td><td>1.0</td><td>381063</td><td>0.000980404482190216</td><td>3295.2235223335947</td><td>910.7760084338569</td><td>8.555785949247677e-08</td><td>2888.1504278588045</td><td>0.09754655371973427</td><td>0.9910456250627354</td><td>19.104565616824246</td><td>-23.198533430654813</td><td>2.212355876714218e+37</td><td>1.8416640967008522e-05</td><td>1.8414645957077e-05</td></tr>\n",
       "<tr><td>39633345419674552</td><td>149.746083544443</td><td>56.8158924427833</td><td>20230111</td><td>0.461943734945613</td><td>5.90773549384541e-05</td><td>0</td><td>1.22634875774384</td><td>4.27038764953613</td><td>12.617564201355</td><td>QSO</td><td>0</td><td>0.00707075512036681</td><td>1.0</td><td>381063</td><td>0.000980404482190216</td><td>3295.2235223335947</td><td>910.7760084338569</td><td>8.555785949247677e-08</td><td>2656.4599044744687</td><td>0.2617757545544275</td><td>0.9922220312120109</td><td>19.74756119197147</td><td>-22.37395513418315</td><td>1.0351985850489562e+37</td><td>8.614739125971064e-06</td><td>8.614260179769438e-06</td></tr>\n",
       "<tr><td>39633348737370137</td><td>149.66794383249</td><td>57.0033957865664</td><td>20230111</td><td>0.451572772372613</td><td>1.34600353464372e-05</td><td>0</td><td>3.38903498649597</td><td>8.09316825866699</td><td>12.1117086410522</td><td>GALAXY</td><td>257</td><td>0.00760876014828682</td><td>1.0</td><td>381063</td><td>0.000980404482190216</td><td>3295.2235223335947</td><td>910.7760084338569</td><td>8.555785949247677e-08</td><td>2585.7004374326907</td><td>0.05964024119302752</td><td>0.991632697810591</td><td>19.79198646273774</td><td>-22.27090458177483</td><td>9.414634163651927e+36</td><td>7.833936895427446e-06</td><td>7.833627569374711e-06</td></tr>\n",
       "<tr><td>39633348737369876</td><td>149.636725167273</td><td>56.9238907305412</td><td>20230111</td><td>0.631628281203086</td><td>8.24040065710573e-05</td><td>0</td><td>0.776683866977692</td><td>3.00659418106079</td><td>11.125186920166</td><td>GALAXY</td><td>0</td><td>0.00730695435777307</td><td>1.0</td><td>381063</td><td>0.000980404482190216</td><td>3295.2235223335947</td><td>910.7760084338569</td><td>8.555785949247677e-08</td><td>3869.3739418810364</td><td>0.36514425425509933</td><td>0.991963254267453</td><td>19.884231708684503</td><td>-23.053971804289652</td><td>1.936557237942373e+37</td><td>1.6117103745117747e-05</td><td>1.6126320402089626e-05</td></tr>\n",
       "<tr><td>39633348737369858</td><td>149.634565589934</td><td>56.9599748387211</td><td>20230111</td><td>0.462264229933264</td><td>0.000118179614871328</td><td>0</td><td>1.83348059654236</td><td>9.47850799560547</td><td>21.6667633056641</td><td>GALAXY</td><td>257</td><td>0.00762270204722881</td><td>2.48089051246643</td><td>381063</td><td>0.000980404482190216</td><td>3295.2235223335947</td><td>910.7760084338569</td><td>8.555785949247677e-08</td><td>2658.653228012125</td><td>0.523685588637672</td><td>0.9916174304385449</td><td>19.16051490253551</td><td>-22.962793574302935</td><td>1.780569974936348e+37</td><td>1.4817631959183138e-05</td><td>1.4816800757180163e-05</td></tr>\n",
       "<tr><td>39633345415482130</td><td>149.537224366194</td><td>56.6595041321063</td><td>20230111</td><td>0.460513673777709</td><td>0.000101019040292401</td><td>0</td><td>2.99066472053528</td><td>15.9578323364258</td><td>40.6339836120605</td><td>GALAXY</td><td>514</td><td>0.00828853342682123</td><td>6.0</td><td>381063</td><td>0.000980404482190216</td><td>3295.2235223335947</td><td>910.7760084338569</td><td>8.555785949247677e-08</td><td>2646.6780389687087</td><td>0.44763658942042706</td><td>0.9908885712762286</td><td>18.47777649722799</td><td>-23.635729071757698</td><td>3.309277943651707e+37</td><td>2.7538857689442722e-05</td><td>2.753738796390736e-05</td></tr>\n",
       "<tr><td>39633348741563262</td><td>149.954222958136</td><td>56.9528649591272</td><td>20230111</td><td>0.459709658429636</td><td>8.81255092016979e-05</td><td>0</td><td>2.23242735862732</td><td>12.1529331207275</td><td>30.6350231170654</td><td>GALAXY</td><td>265</td><td>0.00874519627541304</td><td>4.0</td><td>381074</td><td>0.00097999959336188</td><td>3290.2851255797577</td><td>907.4260565198592</td><td>8.584144313973888e-08</td><td>2641.1819043174432</td><td>0.39049878520101156</td><td>0.9903889903363263</td><td>18.78445446903758</td><td>-23.324537096483557</td><td>2.484599849812324e+37</td><td>2.0667434514318908e-05</td><td>2.066635351851813e-05</td></tr>\n",
       "<tr><td>39633345419675704</td><td>149.891817294936</td><td>56.8649301601647</td><td>20230111</td><td>0.46267601975571</td><td>9.26238916204923e-05</td><td>0</td><td>5.85549831390381</td><td>21.6097259521484</td><td>37.6186370849609</td><td>GALAXY</td><td>514</td><td>0.00898307748138905</td><td>2.0</td><td>381074</td><td>0.00097999959336188</td><td>3290.2851255797577</td><td>907.4260565198592</td><td>8.584144313973888e-08</td><td>2661.471913588423</td><td>0.4104332809074501</td><td>0.9901288523609338</td><td>18.561492357238087</td><td>-23.564117079961193</td><td>3.0980501810962647e+37</td><td>2.577096312534408e-05</td><td>2.576949088336671e-05</td></tr>\n",
       "<tr><td>39633348741562708</td><td>149.884635851433</td><td>56.9234963411851</td><td>20230111</td><td>0.499030042320567</td><td>0.000298353234356204</td><td>0</td><td>5.95424795150757</td><td>18.1393966674805</td><td>37.4217185974121</td><td>QSO</td><td>514</td><td>0.00933888740837574</td><td>1.0</td><td>381074</td><td>0.00097999959336188</td><td>3290.2851255797577</td><td>907.4260565198592</td><td>8.584144313973888e-08</td><td>2912.8503314608306</td><td>1.3222658154897546</td><td>0.9897398794837343</td><td>18.567190678365165</td><td>-23.754400172698723</td><td>3.6914899050960397e+37</td><td>3.0718046590147626e-05</td><td>3.071445667116262e-05</td></tr>\n",
       "<tr><td>...</td><td>...</td><td>...</td><td>...</td><td>...</td><td>...</td><td>...</td><td>...</td><td>...</td><td>...</td><td>...</td><td>...</td><td>...</td><td>...</td><td>...</td><td>...</td><td>...</td><td>...</td><td>...</td><td>...</td><td>...</td><td>...</td><td>...</td><td>...</td><td>...</td><td>...</td><td>...</td></tr>\n",
       "<tr><td>39633293406110964</td><td>185.114809535158</td><td>53.1232099200424</td><td>20230209</td><td>0.43474269369291</td><td>5.98523300416725e-05</td><td>0</td><td>2.56307053565979</td><td>9.78812122344971</td><td>22.8803005218506</td><td>GALAXY</td><td>257</td><td>0.0201782677322626</td><td>2.11870217323303</td><td>6888</td><td>1.0041921065439e-05</td><td>3016.745361098208</td><td>773.3409386947492</td><td>1.0310547640935362e-07</td><td>2471.76840164409</td><td>0.2652098791898546</td><td>0.9779631771809867</td><td>19.10134568897591</td><td>-22.863693191247187</td><td>1.6252452017649297e+37</td><td>1.3850951476431007e-07</td><td>1.3849489670104276e-07</td></tr>\n",
       "<tr><td>39633293406110977</td><td>185.116943024118</td><td>52.9596676795757</td><td>20221216</td><td>0.474548156164164</td><td>0.000179909951995033</td><td>0</td><td>2.58462333679199</td><td>15.2929496765137</td><td>43.0243492126465</td><td>GALAXY</td><td>514</td><td>0.0202246531844139</td><td>4.0</td><td>6888</td><td>1.0041921065439e-05</td><td>3016.745361098208</td><td>773.3409386947492</td><td>1.0310547640935362e-07</td><td>2743.015852987991</td><td>0.7972669987000987</td><td>0.9779130829127352</td><td>18.41571422524906</td><td>-23.77542736261921</td><td>3.7636788721511967e+37</td><td>3.209192060797796e-07</td><td>3.208196863488175e-07</td></tr>\n",
       "<tr><td>39633293406111021</td><td>185.122879155491</td><td>53.0364393607305</td><td>20221216</td><td>0.587136477595352</td><td>7.83359143900479e-06</td><td>0</td><td>3.59672451019287</td><td>10.1764192581177</td><td>21.2667560577393</td><td>GALAXY</td><td>265</td><td>0.0203992873430252</td><td>1.0</td><td>6888</td><td>1.0041921065439e-05</td><td>3016.745361098208</td><td>773.3409386947492</td><td>1.0310547640935362e-07</td><td>3541.8401425103034</td><td>0.03470980986840673</td><td>0.9777245086410886</td><td>19.18074687628528</td><td>-23.565397902913904</td><td>3.101707050236039e+37</td><td>2.6434907823872856e-07</td><td>2.646319961521119e-07</td></tr>\n",
       "<tr><td>39633293406111054</td><td>185.126981325963</td><td>52.9527999821425</td><td>20230208</td><td>0.454489959445196</td><td>1.0578502470346e-05</td><td>0</td><td>2.83565211296082</td><td>9.48498344421387</td><td>21.0613842010498</td><td>GALAXY</td><td>257</td><td>0.0202115550637245</td><td>1.0</td><td>6888</td><td>1.0041921065439e-05</td><td>3016.745361098208</td><td>773.3409386947492</td><td>1.0310547640935362e-07</td><td>2605.561702901576</td><td>0.04687231711480565</td><td>0.9779272280526702</td><td>19.191282723531263</td><td>-22.888224087725437</td><td>1.6623836205347116e+37</td><td>1.417103908493923e-07</td><td>1.4168113203863382e-07</td></tr>\n",
       "<tr><td>39633293406111272</td><td>185.149193797833</td><td>52.8818554389305</td><td>20230112</td><td>0.436057000866482</td><td>4.7422358619873e-06</td><td>0</td><td>2.97873115539551</td><td>5.46179628372192</td><td>7.16421890258789</td><td>GALAXY</td><td>0</td><td>0.0189651735126972</td><td>0.0</td><td>6888</td><td>1.0041921065439e-05</td><td>3016.745361098208</td><td>773.3409386947492</td><td>1.0310547640935362e-07</td><td>2480.6252727945566</td><td>0.021012292550533506</td><td>0.979274177603622</td><td>20.362077881899232</td><td>-21.610727938153964</td><td>5.125459324296834e+36</td><td>4.36818246628047e-08</td><td>4.367692263137076e-08</td></tr>\n",
       "<tr><td>39633293406111277</td><td>185.150022949325</td><td>53.0780547197408</td><td>20210401</td><td>0.470847293583473</td><td>2.46819151631216e-05</td><td>0</td><td>4.35463619232178</td><td>10.9072122573853</td><td>17.0671405792236</td><td>GALAXY</td><td>0</td><td>0.0199949536472559</td><td>1.0</td><td>6888</td><td>1.0041921065439e-05</td><td>3016.745361098208</td><td>773.3409386947492</td><td>1.0310547640935362e-07</td><td>2717.5386527026876</td><td>0.10936435150091468</td><td>0.9781611735202963</td><td>19.419598085714437</td><td>-22.751280564068214</td><td>1.46539208569766e+37</td><td>1.2494420041483708e-07</td><td>1.2490785378852763e-07</td></tr>\n",
       "<tr><td>39633293406111395</td><td>185.165556692272</td><td>52.9264470852655</td><td>20221216</td><td>0.45373732721036</td><td>2.87431378763973e-05</td><td>0</td><td>3.07939696311951</td><td>8.26361465454102</td><td>12.9143829345703</td><td>GALAXY</td><td>257</td><td>0.0197404157370329</td><td>1.0</td><td>6888</td><td>1.0041921065439e-05</td><td>3016.745361098208</td><td>773.3409386947492</td><td>1.0310547640935362e-07</td><td>2600.434333863921</td><td>0.12735982599718287</td><td>0.9784361647209223</td><td>19.722315850326233</td><td>-22.352913606925547</td><td>1.0153296266845267e+37</td><td>8.655124091514508e-08</td><td>8.653370545864038e-08</td></tr>\n",
       "<tr><td>39633293406112719</td><td>185.353937100743</td><td>53.0106284871757</td><td>20221216</td><td>0.498109796834651</td><td>9.45840201046486e-05</td><td>0</td><td>2.296875</td><td>7.96388864517212</td><td>17.3101139068604</td><td>GALAXY</td><td>265</td><td>0.0202049035578966</td><td>1.0</td><td>6888</td><td>1.0041921065439e-05</td><td>3016.745361098208</td><td>773.3409386947492</td><td>1.0310547640935362e-07</td><td>2906.4261238094286</td><td>0.4191195958160399</td><td>0.9779344113355974</td><td>19.404250185747944</td><td>-22.912546256443203</td><td>1.7000438309799943e+37</td><td>1.450030755345861e-07</td><td>1.4494025317020576e-07</td></tr>\n",
       "<tr><td>39633293410304148</td><td>185.394707609198</td><td>53.0298164005888</td><td>20210404</td><td>0.601387833450405</td><td>8.02635973571018e-05</td><td>0</td><td>1.25486946105957</td><td>6.96280527114868</td><td>24.1365356445312</td><td>GALAXY</td><td>0</td><td>0.0201701149344444</td><td>1.0</td><td>6888</td><td>1.0041921065439e-05</td><td>3016.745361098208</td><td>773.3409386947492</td><td>1.0310547640935362e-07</td><td>3646.060416388204</td><td>0.35565920318628746</td><td>0.977971982112724</td><td>19.043312661863613</td><td>-23.76580664202221</td><td>3.73047619366788e+37</td><td>3.1787458394902485e-07</td><td>3.18266261167046e-07</td></tr>\n",
       "<tr><td>39633293410304313</td><td>185.416306912387</td><td>53.1017436316918</td><td>20230208</td><td>0.498118646327304</td><td>7.61527529639048e-05</td><td>0</td><td>2.81165218353271</td><td>10.5801448822021</td><td>25.585844039917</td><td>GALAXY</td><td>257</td><td>0.0202033072710037</td><td>1.0</td><td>6888</td><td>1.0041921065439e-05</td><td>3016.745361098208</td><td>773.3409386947492</td><td>1.0310547640935362e-07</td><td>2906.4878870139955</td><td>0.3374424145781464</td><td>0.9779361352508884</td><td>18.98000062927488</td><td>-23.336841957447017</td><td>2.512918473467948e+37</td><td>2.143362088924981e-07</td><td>2.142433380741862e-07</td></tr>\n",
       "</table></div>"
      ],
      "text/plain": [
       "<Table length=217703>\n",
       "     TARGETID        TARGET_RA     ...        P_GAL_C        \n",
       "                                   ...                       \n",
       "      int64           float64      ...        float64        \n",
       "----------------- ---------------- ... ----------------------\n",
       "39633348737370580 149.731858864371 ...    1.8414645957077e-05\n",
       "39633345419674552 149.746083544443 ...  8.614260179769438e-06\n",
       "39633348737370137  149.66794383249 ...  7.833627569374711e-06\n",
       "39633348737369876 149.636725167273 ... 1.6126320402089626e-05\n",
       "39633348737369858 149.634565589934 ... 1.4816800757180163e-05\n",
       "39633345415482130 149.537224366194 ...  2.753738796390736e-05\n",
       "39633348741563262 149.954222958136 ...  2.066635351851813e-05\n",
       "39633345419675704 149.891817294936 ...  2.576949088336671e-05\n",
       "39633348741562708 149.884635851433 ...  3.071445667116262e-05\n",
       "              ...              ... ...                    ...\n",
       "39633293406110964 185.114809535158 ... 1.3849489670104276e-07\n",
       "39633293406110977 185.116943024118 ...  3.208196863488175e-07\n",
       "39633293406111021 185.122879155491 ...  2.646319961521119e-07\n",
       "39633293406111054 185.126981325963 ... 1.4168113203863382e-07\n",
       "39633293406111272 185.149193797833 ...  4.367692263137076e-08\n",
       "39633293406111277 185.150022949325 ... 1.2490785378852763e-07\n",
       "39633293406111395 185.165556692272 ...  8.653370545864038e-08\n",
       "39633293406112719 185.353937100743 ... 1.4494025317020576e-07\n",
       "39633293410304148 185.394707609198 ...   3.18266261167046e-07\n",
       "39633293410304313 185.416306912387 ...  2.142433380741862e-07"
      ]
     },
     "execution_count": 56,
     "metadata": {},
     "output_type": "execute_result"
    }
   ],
   "source": [
    "data_f[:]"
   ]
  },
  {
   "cell_type": "markdown",
   "metadata": {
    "tags": []
   },
   "source": [
    "## Analyse the data: How much luminosity do we cover? Which galaxies should we observe?\n",
    "\n",
    "Lets look into what information we can retrieve from here. First we define, how many galaxies we could observe (N_galaxies).\n",
    "\n",
    "We then calculate the luminosity (lum) from all the galaxies in this area, i.e. the total luminosity. From there do some comparison between the covered luminosity and total luminosity depending on the ranking by probability:\n",
    "- simple \"Maximum lum that could be covered\" by looking at the brightest galaxies\n",
    "- Calculate the probability this way (from https://arxiv.org/pdf/1710.05452.pdf w/o normalization), both using a static and variable distance and error: $$P_{gal} = k^{-1}\\tilde{L_z}(1-f_{missed})\\cdot P_{2D}\\left(1-\\text{erf}\\left(\\frac{|D_{Gal}-D_{LVC}|}{\\sigma_{D,gal}^{2}+\\sigma_{D,LVC}^{2}+\\sigma_{D,cosmology}^{2}}\\right)\\right)$$\n",
    "- others may follow...\n",
    "\n",
    "Since we have the actual luminosity (here in z-band though), we don't need to again calculate the $$\\tilde{L}_{gal}$$ values. In the mentioned paper, they only use a fixed distance and error for the LIGO data. I will try both, to get an idea what the differences are."
   ]
  },
  {
   "cell_type": "code",
   "execution_count": 91,
   "metadata": {},
   "outputs": [],
   "source": [
    "N_galaxies = 2000 # how many galaxies we can cover"
   ]
  },
  {
   "cell_type": "code",
   "execution_count": 92,
   "metadata": {},
   "outputs": [],
   "source": [
    "total_lum = np.sum(data_f[\"LUM_Z\"])"
   ]
  },
  {
   "cell_type": "markdown",
   "metadata": {},
   "source": [
    "### Compare lum with luminosity ranking\n",
    "\n",
    "https://iopscience.iop.org/article/10.3847/0067-0049/226/1/10"
   ]
  },
  {
   "cell_type": "code",
   "execution_count": 93,
   "metadata": {},
   "outputs": [],
   "source": [
    "data_sort_by_lums = data_f.group_by(\"LUM_Z\")\n",
    "data_sort_by_lums = data_sort_by_lums[::-1]"
   ]
  },
  {
   "cell_type": "code",
   "execution_count": 94,
   "metadata": {},
   "outputs": [],
   "source": [
    "lum_after_N_highest = np.sum(data_sort_by_lums[\"LUM_Z\"][:N_galaxies])"
   ]
  },
  {
   "cell_type": "code",
   "execution_count": 95,
   "metadata": {},
   "outputs": [
    {
     "name": "stdout",
     "output_type": "stream",
     "text": [
      "The theoretical maximum luminosity we could cover is 2.1595635615073146e+41, i.e. 4.7954638931054046 % of the total luminosity\n",
      "The TARGETID values of these galaxies are: \n",
      "      TARGETID    \n",
      "-----------------\n",
      "39633368622565352\n",
      "39628442970359681\n",
      "39633009653057463\n",
      "39633352172505887\n",
      "39633332031457687\n",
      "39633289681570843\n",
      "39633383667532068\n",
      "39633485438125591\n",
      "39628399743866280\n",
      "39633191128010265\n",
      "              ...\n",
      "39633393213770520\n",
      "39628255052960067\n",
      "39633470057611335\n",
      "39633311382900069\n",
      "39633387060726555\n",
      "39633009502060809\n",
      "39633195343282469\n",
      "39633478886622792\n",
      "39628511136188202\n",
      "39633325194740313\n",
      "39633450612817977\n",
      "Length = 2000 rows\n"
     ]
    }
   ],
   "source": [
    "print(f\"The theoretical maximum luminosity we could cover is {lum_after_N_highest}, i.e. {lum_after_N_highest*100/total_lum} % of the total luminosity\")\n",
    "print(\"The TARGETID values of these galaxies are: \\n\", data_sort_by_lums[\"TARGETID\"][:N_galaxies])"
   ]
  },
  {
   "cell_type": "markdown",
   "metadata": {},
   "source": [
    "### Compare lum with P_Gal ranking"
   ]
  },
  {
   "cell_type": "code",
   "execution_count": 96,
   "metadata": {},
   "outputs": [],
   "source": [
    "data_sort_by_PGal = data_f.group_by(\"P_GAL\")\n",
    "data_sort_by_PGal = data_sort_by_PGal[::-1]\n",
    "\n",
    "lum_after_N_PGal = np.sum(data_sort_by_PGal[\"LUM_Z\"][:N_galaxies])"
   ]
  },
  {
   "cell_type": "code",
   "execution_count": 97,
   "metadata": {},
   "outputs": [
    {
     "name": "stdout",
     "output_type": "stream",
     "text": [
      "The maximum luminosity we cover when ranked by P_gal is 1.5266903381024352e+41, i.e. 3.3901240615548853% of the total luminosity\n",
      "The TARGETID values of these galaxies are: \n",
      "    TARGET_RA        TARGET_DEC    ...      TARGETID             P_GAL         \n",
      "---------------- ---------------- ... ----------------- ----------------------\n",
      "116.797179528488   26.34502653329 ... 39628399743866280  0.0003363174933252142\n",
      "166.354676949938 62.7416496256446 ... 39633418954214836  0.0002899761606122327\n",
      "168.482449448263 63.3291461514701 ... 39633424494887336 0.00027926368297941394\n",
      "130.185076706171 36.5577312602003 ... 39633009653057463  0.0002450301532173191\n",
      "132.497954586681 43.2796329743272 ... 39633135171797645  0.0002416392753372487\n",
      " 141.68120412899 52.9932170192635 ... 39633292965709119 0.00022308268532350166\n",
      "132.968486045648 45.1116584300074 ... 39633165639223122 0.00021012984383911122\n",
      "141.763312240856 52.3879326881881 ... 39633285617289303 0.00019891210311610236\n",
      "152.009857821486 59.5334323094786 ... 39633380706356284 0.00018582308051364073\n",
      "199.693031877071 64.9540717877977 ... 39633443285370161 0.00018491628090662332\n",
      "             ...              ... ...               ...                    ...\n",
      "123.959704539462 35.9069316364161 ... 39632999800636097  3.438535454439531e-05\n",
      "127.429567887364 39.5016345713729 ... 39633066901112346   3.43849444987739e-05\n",
      "122.041222923823 29.0115257254028 ... 39628458808054347  3.437453727808431e-05\n",
      "132.295335069292 44.5142425638275 ... 39633157019928558  3.436498422267833e-05\n",
      "186.869792230547  64.242987056233 ... 39633435383300161  3.435924508095142e-05\n",
      "123.412138839392 36.4473338588339 ... 39633009560783266  3.435372441808339e-05\n",
      " 119.12569731428 30.5242703814002 ... 39628490298888057  3.434988628618076e-05\n",
      "161.396082166154 59.9453577647267 ... 39633386909730916  3.434885246890853e-05\n",
      "121.942824672374 33.7942759203227 ... 39632955047413529  3.434167748189147e-05\n",
      "140.801432966952 50.7650000623116 ... 39633259247699877 3.4341100570164584e-05\n",
      "165.823243554799 61.4389687364716 ... 39633404748106010  3.434067577983272e-05\n",
      "Length = 2000 rows\n"
     ]
    }
   ],
   "source": [
    "print(f\"The maximum luminosity we cover when ranked by P_gal is {lum_after_N_PGal}, i.e. {lum_after_N_PGal*100/total_lum}% of the total luminosity\") \n",
    "print(\"The TARGETID values of these galaxies are: \\n\", data_sort_by_PGal[\"TARGET_RA\", \"TARGET_DEC\", \"SERSIC\", \"TARGETID\", \"P_GAL\"][:N_galaxies])"
   ]
  },
  {
   "cell_type": "code",
   "execution_count": 98,
   "metadata": {},
   "outputs": [],
   "source": [
    "data_sort_by_PGal_C = data_f.group_by(\"P_GAL_C\")\n",
    "data_sort_by_PGal_C = data_sort_by_PGal_C[::-1]\n",
    "\n",
    "lum_after_N_PGal_C = np.sum(data_sort_by_PGal_C[\"LUM_Z\"][:N_galaxies])"
   ]
  },
  {
   "cell_type": "code",
   "execution_count": 99,
   "metadata": {},
   "outputs": [
    {
     "name": "stdout",
     "output_type": "stream",
     "text": [
      "The maximum luminosity we cover when ranked by P_gal_C is 1.5264985644743479e+41, i.e. 3.3896982146265824% of the total luminosity\n",
      "The TARGETID values of these galaxies are: \n",
      "      TARGETID             P_GAL         \n",
      "----------------- ----------------------\n",
      "39628399743866280  0.0003363174933252142\n",
      "39633418954214836  0.0002899761606122327\n",
      "39633424494887336 0.00027926368297941394\n",
      "39633009653057463  0.0002450301532173191\n",
      "39633135171797645  0.0002416392753372487\n",
      "39633292965709119 0.00022308268532350166\n",
      "39633165639223122 0.00021012984383911122\n",
      "39633285617289303 0.00019891210311610236\n",
      "39633380706356284 0.00018582308051364073\n",
      "39633443285370161 0.00018491628090662332\n",
      "              ...                    ...\n",
      "39632999800636097  3.438535454439531e-05\n",
      "39633161335866014  3.438576511209034e-05\n",
      "39628458808054347  3.437453727808431e-05\n",
      "39633404748106010  3.434067577983272e-05\n",
      "39633157019928558  3.436498422267833e-05\n",
      "39633386909730916  3.434885246890853e-05\n",
      "39633310980246269  3.433995195570268e-05\n",
      "39633009560783266  3.435372441808339e-05\n",
      "39633259247699877 3.4341100570164584e-05\n",
      "39633345428064579 3.4333059022274215e-05\n",
      "39628490298888057  3.434988628618076e-05\n",
      "Length = 2000 rows\n"
     ]
    }
   ],
   "source": [
    "print(f\"The maximum luminosity we cover when ranked by P_gal_C is {lum_after_N_PGal_C}, i.e. {lum_after_N_PGal_C*100/total_lum}% of the total luminosity\") \n",
    "print(\"The TARGETID values of these galaxies are: \\n\", data_sort_by_PGal_C[\"TARGETID\", \"P_GAL\"][:N_galaxies])"
   ]
  },
  {
   "cell_type": "code",
   "execution_count": 100,
   "metadata": {},
   "outputs": [
    {
     "name": "stdout",
     "output_type": "stream",
     "text": [
      "These are the stats for S230601bf follow up :\n"
     ]
    }
   ],
   "source": [
    "print(f\"These are the stats for {superevent_name} follow up :\")"
   ]
  },
  {
   "cell_type": "code",
   "execution_count": 101,
   "metadata": {},
   "outputs": [
    {
     "name": "stdout",
     "output_type": "stream",
     "text": [
      "Localization area: 4609.400699499729 deg2 \n",
      "Redshift range in data: 0.144992060610581 to 0.746456673339792 \n",
      "corresponding lum distance range: 710.1108048993666 Mpc to 4742.475948543975 Mpc \n",
      "highest prob location is at RA = 112.67578125 deg and dec = 22.669609871750385 deg \n",
      "total No. of objects in desi data is 217703\n"
     ]
    }
   ],
   "source": [
    "data_min_z = np.min(data_sort_by_PGal[\"Z\"])\n",
    "data_max_z = np.max(data_sort_by_PGal[\"Z\"])\n",
    "data_min_dist = np.min(data_sort_by_PGal[\"DIST_Z\"])\n",
    "data_max_dist = np.max(data_sort_by_PGal[\"DIST_Z\"])\n",
    "print(f\"Localization area: {area_99.to_value(u.deg**2)*u.deg**2} \\nRedshift range in data: {data_min_z} to {data_max_z} \\ncorresponding lum distance range: {data_min_dist*u.Mpc} to {data_max_dist*u.Mpc} \\nhighest prob location is at RA = {ra.deg*u.deg} and dec = {dec.deg*u.deg} \\ntotal No. of objects in desi data is {len(data_sort_by_PGal)}\")\n"
   ]
  },
  {
   "cell_type": "code",
   "execution_count": 102,
   "metadata": {},
   "outputs": [],
   "source": [
    "data_sort_by_PGal[\"TARGET_RA\", \"TARGET_DEC\", \"SERSIC\", \"Z\", \"P_GAL\"][:N_galaxies].write(f'PGAL/PGAL_{superevent_name}.ecsv', delimiter=',', format='ascii', overwrite = False)"
   ]
  },
  {
   "cell_type": "code",
   "execution_count": 103,
   "metadata": {},
   "outputs": [],
   "source": [
    "# add timing data to table, "
   ]
  }
 ],
 "metadata": {
  "kernelspec": {
   "display_name": "Python (MambaTest)",
   "language": "python",
   "name": "mambatest"
  },
  "language_info": {
   "codemirror_mode": {
    "name": "ipython",
    "version": 3
   },
   "file_extension": ".py",
   "mimetype": "text/x-python",
   "name": "python",
   "nbconvert_exporter": "python",
   "pygments_lexer": "ipython3",
   "version": "3.10.10"
  }
 },
 "nbformat": 4,
 "nbformat_minor": 4
}
