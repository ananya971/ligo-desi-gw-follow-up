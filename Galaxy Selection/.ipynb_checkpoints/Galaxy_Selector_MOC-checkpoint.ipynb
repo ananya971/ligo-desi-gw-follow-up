{
 "cells": [
  {
   "cell_type": "markdown",
   "metadata": {
    "tags": []
   },
   "source": [
    "# Galaxy Selector MOC\n",
    "\n",
    "**Designed to work with Multi-Ordering-Sky-Maps and both burst (i.e. no distance) and normal LVK maps**\n",
    "\n",
    "\n",
    "\n",
    "Select the galaxies to observe by WWFI in this simple manner:\n",
    "- get the LIGO event data\n",
    "- read the LIGO event data into the notebook, extract some information\n",
    "- read the DESI database into the notebook, \"clean\" the data\n",
    "- get the 99% credible regions for the event, add them as a column to the data\n",
    "- only keep data within the 99% region\n",
    "- calculate all the luminosities (& more)\n",
    "- rank them by luminosity (for now just print the TARGETID), 3D/2D localization and with a luminosity-distance 2D dependant counterpart likelihood\n",
    "\n",
    "(some) Sources: \n",
    "- https://iopscience.iop.org/article/10.3847/0067-0049/226/1/10\n",
    "- https://emfollow.docs.ligo.org/userguide/tutorial/skymaps.html\n",
    "- https://emfollow.docs.ligo.org/userguide/tutorial/multiorder_skymaps.html\n",
    "- https://arxiv.org/pdf/1710.05452.pdf"
   ]
  },
  {
   "cell_type": "markdown",
   "metadata": {
    "tags": []
   },
   "source": [
    "## Import all libraries, load GW data and DESI data and extract basic info"
   ]
  },
  {
   "cell_type": "markdown",
   "metadata": {
    "tags": []
   },
   "source": [
    "### imports, GW data loading"
   ]
  },
  {
   "cell_type": "code",
   "execution_count": 42,
   "metadata": {},
   "outputs": [],
   "source": [
    "import numpy as np\n",
    "from scipy.stats import norm\n",
    "import scipy as sc\n",
    "from scipy.integrate import quad\n",
    "\n",
    "\n",
    "from astropy.io import fits, ascii\n",
    "from astropy.table import Table, hstack, QTable\n",
    "from astropy import table\n",
    "from astropy.coordinates import SkyCoord, EarthLocation, AltAz\n",
    "\n",
    "import astropy_healpix as ah\n",
    "\n",
    "\n",
    "import psycopg2\n",
    "\n",
    "from scipy.stats import norm\n",
    "\n",
    "from astropy.cosmology import FlatLambdaCDM\n",
    "from astropy.cosmology import Planck18, z_at_value\n",
    "from astropy.coordinates import Distance, SkyCoord\n",
    "from astropy import units as u\n",
    "\n",
    "import astropy.constants as asc\n",
    "\n",
    "import matplotlib.pyplot as plt\n",
    "\n",
    "import requests as rq\n",
    "\n",
    "import gasel as gs\n",
    "\n",
    "from datetime import datetime\n",
    "from datetime import timedelta\n",
    "from datetime import date\n",
    "from suntimes import SunTimes\n",
    "import pytz"
   ]
  },
  {
   "cell_type": "code",
   "execution_count": 205,
   "metadata": {},
   "outputs": [
    {
     "name": "stdout",
     "output_type": "stream",
     "text": [
      "(to get DESI data) you should run scp dgruen@perlmutter.nersc.gov:/pscratch/sd/j/jgassert/good_z_data.fits /project/ls-gruen/ligodesi/\n"
     ]
    }
   ],
   "source": [
    "# Get DESI data\n",
    "print(\"(to get DESI data) you should run scp dgruen@perlmutter.nersc.gov:/pscratch/sd/j/jgassert/good_z_data.fits /project/ls-gruen/ligodesi/\")\n",
    "\n",
    "# specify the superevent name:\n",
    "superevent_name = \"S230622ba\"\n",
    "\n",
    "# pipeline - bayestar is preferred if available, otherwise maybe use olib? bilby? cwb? whatever these mean\n",
    "pipeline_type = \"bayestar\"\n",
    "\n",
    "if pipeline_type == \"cwb\":\n",
    "    # bursts probably only for very nearby core-collapse or Andromeda events, maybe cut at 1Mpc or something of that order? -> check if there is a very nearby galaxy\n",
    "        # think about which pipeline detected it!\n",
    "    # or very massive bbh but then hope is that cbc would detect as well\n",
    "    \n",
    "    modeled_search = False\n",
    "else:\n",
    "    modeled_search = True\n",
    "\n",
    "# storage directory\n",
    "# storage = \"/project/ls-gruen/ligodesi/\"\n",
    "# storage_desi_data = storage\n",
    "storage = \"/global/homes/j/jgassert/ligo-desi-gw-follow-up/Galaxy Selection/Files/\" # Julius on NERSC\n",
    "storage_desi_data = \"/pscratch/sd/j/jgassert/\""
   ]
  },
  {
   "cell_type": "code",
   "execution_count": 241,
   "metadata": {},
   "outputs": [
    {
     "name": "stdout",
     "output_type": "stream",
     "text": [
      "read skymap from local file\n"
     ]
    }
   ],
   "source": [
    "path = storage+f\"{superevent_name}{pipeline_type}.multiorder.fits,1\" # 5min after alert this should be there\n",
    "\n",
    "try:\n",
    "    skymap = QTable.read(path)\n",
    "    print(\"read skymap from local file\")\n",
    "    \n",
    "except:\n",
    "    download_url = f\"https://gracedb.ligo.org/api/superevents/{superevent_name}/files/{pipeline_type}.multiorder.fits,1\"\n",
    "    save_path = storage+f\"{superevent_name}{pipeline_type}.multiorder.fits,1\"\n",
    "    print(\"no local skymap...\")\n",
    "    print(f\"...will download LIGO event file from superevent {superevent_name}, corresponding file URL is {download_url} and save it in .../Files/\")\n",
    "    \n",
    "    response = rq.get(download_url, allow_redirects = True)\n",
    "    print(\"HTTP status\",response.status_code)\n",
    "    if response.status_code == 200:\n",
    "        with open(save_path, 'wb') as f:\n",
    "            f.write(response.content)\n",
    "            \n",
    "        skymap = QTable.read(path)"
   ]
  },
  {
   "cell_type": "markdown",
   "metadata": {},
   "source": [
    "Specifiy the path where the data is located and then load the data (this loads everything, just have a look)"
   ]
  },
  {
   "cell_type": "code",
   "execution_count": 242,
   "metadata": {},
   "outputs": [
    {
     "data": {
      "text/html": [
       "<div><i>QTable length=5</i>\n",
       "<table id=\"table139960317168944\" class=\"table-striped table-bordered table-condensed\">\n",
       "<thead><tr><th>UNIQ</th><th>PROBDENSITY</th><th>DISTMU</th><th>DISTSIGMA</th><th>DISTNORM</th></tr></thead>\n",
       "<thead><tr><th></th><th>1 / sr</th><th>Mpc</th><th>Mpc</th><th>1 / Mpc2</th></tr></thead>\n",
       "<thead><tr><th>int64</th><th>float64</th><th>float64</th><th>float64</th><th>float64</th></tr></thead>\n",
       "<tr><td>1024</td><td>7.551086214812754e-06</td><td>424.35170091036684</td><td>358.4050327707628</td><td>3.3094956548230555e-06</td></tr>\n",
       "<tr><td>1025</td><td>9.593897536024414e-06</td><td>524.9842703463318</td><td>326.41933769647494</td><td>2.629349048398747e-06</td></tr>\n",
       "<tr><td>1026</td><td>5.577088901616332e-06</td><td>479.72588299110896</td><td>362.0538939947317</td><td>2.804419033639423e-06</td></tr>\n",
       "<tr><td>1027</td><td>6.856895303986706e-06</td><td>569.4975083881476</td><td>334.3978922541038</td><td>2.3006759481637262e-06</td></tr>\n",
       "<tr><td>1028</td><td>1.1877735771217299e-05</td><td>597.3477775978148</td><td>299.7969112628346</td><td>2.2412854874150788e-06</td></tr>\n",
       "</table></div>"
      ],
      "text/plain": [
       "<QTable length=5>\n",
       " UNIQ      PROBDENSITY       ...     DISTSIGMA             DISTNORM       \n",
       "              1 / sr         ...        Mpc                1 / Mpc2       \n",
       "int64        float64         ...      float64              float64        \n",
       "----- ---------------------- ... ------------------ ----------------------\n",
       " 1024  7.551086214812754e-06 ...  358.4050327707628 3.3094956548230555e-06\n",
       " 1025  9.593897536024414e-06 ... 326.41933769647494  2.629349048398747e-06\n",
       " 1026  5.577088901616332e-06 ...  362.0538939947317  2.804419033639423e-06\n",
       " 1027  6.856895303986706e-06 ...  334.3978922541038 2.3006759481637262e-06\n",
       " 1028 1.1877735771217299e-05 ...  299.7969112628346 2.2412854874150788e-06"
      ]
     },
     "execution_count": 242,
     "metadata": {},
     "output_type": "execute_result"
    }
   ],
   "source": [
    "skymap[:5]"
   ]
  },
  {
   "cell_type": "markdown",
   "metadata": {
    "tags": []
   },
   "source": [
    "### Get basic values from GW event\n",
    "\n",
    "We now extract some basic information  from the healpix data:\n",
    "- ipix_max: pixel with highest likelihood\n",
    "- npix: total number of pixels\n",
    "- ra, dec: ra and dec of the pixel with the highest likelihood\n",
    "\n",
    "Then we open the full fits file and extract some more basic info from the header:\n",
    "- dist_mean: mean distance of the GW event\n",
    "- dist_std: error of the distance"
   ]
  },
  {
   "cell_type": "code",
   "execution_count": 243,
   "metadata": {},
   "outputs": [
    {
     "name": "stdout",
     "output_type": "stream",
     "text": [
      "UNIQ ID of highest prob sky localization:  778896\n"
     ]
    }
   ],
   "source": [
    "# most probable sky location\n",
    "i = np.argmax(skymap[\"PROBDENSITY\"])\n",
    "uniq = skymap[i][\"UNIQ\"]\n",
    "print(\"UNIQ ID of highest prob sky localization: \", uniq)"
   ]
  },
  {
   "cell_type": "code",
   "execution_count": 244,
   "metadata": {},
   "outputs": [
    {
     "name": "stdout",
     "output_type": "stream",
     "text": [
      "Highest probability at (RA, dec):  255.23437500000003 14.015684425156824 with prob [1/deg^2] of:  0.0021131874834380182 and UNIQ ID:  778896\n"
     ]
    }
   ],
   "source": [
    "# calculate the most probable pixel, convert to RA and dec\n",
    "level_max, ipix_max = ah.uniq_to_level_ipix(uniq)\n",
    "nside = ah.level_to_nside(level_max)\n",
    "ra, dec = ah.healpix_to_lonlat(ipix_max, nside, order = \"nested\")\n",
    "print(\"Highest probability at (RA, dec): \", ra.deg, dec.deg, \"with prob [1/deg^2] of: \", skymap[i]['PROBDENSITY'].to_value(u.deg**-2), \"and UNIQ ID: \", skymap[i][\"UNIQ\"])"
   ]
  },
  {
   "cell_type": "markdown",
   "metadata": {},
   "source": [
    "Now open the fits file and read basics info from the header"
   ]
  },
  {
   "cell_type": "code",
   "execution_count": 245,
   "metadata": {},
   "outputs": [
    {
     "name": "stdout",
     "output_type": "stream",
     "text": [
      "The dist_mean and dist_std values:  410.781679473737 Mpc 118.8656834510511 Mpc\n",
      "This corresponds to the most likely z 0.08707977133151548 redshift and its error 0.026301500361232834 redshift\n"
     ]
    }
   ],
   "source": [
    "if modeled_search:\n",
    "    fits_gw = fits.open(path)\n",
    "    header = fits_gw[1].header\n",
    "    dist_mean = header[\"DISTMEAN\"]\n",
    "    dist_std = header[\"DISTSTD\"]\n",
    "    print(\"The dist_mean and dist_std values: \", dist_mean*u.Mpc, dist_std*u.Mpc)\n",
    "    most_likely_z = z_at_value(Planck18.luminosity_distance, dist_mean*u.Mpc, zmax = 5)\n",
    "    most_likely_z_std = z_at_value(Planck18.luminosity_distance, dist_std*u.Mpc, zmax = 5)\n",
    "    print(f\"This corresponds to the most likely z {most_likely_z} and its error {most_likely_z_std}\")\n",
    "else:\n",
    "    print(\"As this is an unmodeled search there is no distance available\")"
   ]
  },
  {
   "cell_type": "markdown",
   "metadata": {
    "tags": []
   },
   "source": [
    "### Get DESI data\n",
    "\n",
    "Load the full daily data from the file, which only includes good redshift objects"
   ]
  },
  {
   "cell_type": "code",
   "execution_count": 246,
   "metadata": {},
   "outputs": [],
   "source": [
    "follow_up_others = False\n",
    "\n",
    "follow_up_their_z = False"
   ]
  },
  {
   "cell_type": "code",
   "execution_count": 247,
   "metadata": {},
   "outputs": [],
   "source": [
    "if follow_up_others:\n",
    "    center_ra = 109.25\n",
    "    center_dec = 63.68\n",
    "    radius = 1.227\n",
    "    \n",
    "    data = gs.db_doall(center_ra, center_dec, radius)\n",
    "    \n",
    "    if follow_up_their_z:\n",
    "        z_others = 0\n",
    "        z_others_std = 0.4\n",
    "        sigma_accuracy = 1\n",
    "    \n",
    "        ii = data[\"Z\"]-sigma_accuracy*data[\"ZERR\"]<z_others+sigma_accuracy*z_others_std\n",
    "        ii &= data[\"Z\"]+sigma_accuracy*data[\"ZERR\"]>z_others-sigma_accuracy*z_others_std\n",
    "    \n",
    "        data = data[ii]\n",
    "    \n",
    "    \n",
    "else:\n",
    "    data = Table.read(storage_desi_data+\"good_z_data.fits\")"
   ]
  },
  {
   "cell_type": "code",
   "execution_count": 248,
   "metadata": {},
   "outputs": [
    {
     "data": {
      "text/html": [
       "<div><i>Table length=5</i>\n",
       "<table id=\"table139960317172352\" class=\"table-striped table-bordered table-condensed\">\n",
       "<thead><tr><th>TARGETID</th><th>TARGET_RA</th><th>TARGET_DEC</th><th>LASTNIGHT</th><th>Z</th><th>ZERR</th><th>ZWARN</th><th>FLUX_G</th><th>FLUX_R</th><th>FLUX_Z</th><th>SPECTYPE</th><th>BGS_TARGET</th><th>EBV</th><th>SERSIC</th></tr></thead>\n",
       "<thead><tr><th>int64</th><th>float64</th><th>float64</th><th>int64</th><th>float64</th><th>float64</th><th>int64</th><th>float64</th><th>float64</th><th>float64</th><th>bytes6</th><th>int64</th><th>float64</th><th>float64</th></tr></thead>\n",
       "<tr><td>-407206628</td><td>289.160148698913</td><td>63.8756777034092</td><td>20210513</td><td>0.488143245600312</td><td>6.00460085329576e-05</td><td>0</td><td>0.0</td><td>0.0</td><td>0.0</td><td>GALAXY</td><td>0</td><td>0.0</td><td>0.0</td></tr>\n",
       "<tr><td>-407206517</td><td>289.24523373072</td><td>64.1182126208345</td><td>20210513</td><td>0.353953432359517</td><td>9.16563620937551e-05</td><td>0</td><td>0.0</td><td>0.0</td><td>0.0</td><td>GALAXY</td><td>0</td><td>0.0</td><td>0.0</td></tr>\n",
       "<tr><td>-407206395</td><td>288.991137990503</td><td>64.4269390406163</td><td>20210513</td><td>1.04167986703249</td><td>0.000103598417102832</td><td>0</td><td>0.0</td><td>0.0</td><td>0.0</td><td>GALAXY</td><td>0</td><td>0.0</td><td>0.0</td></tr>\n",
       "<tr><td>-407206306</td><td>288.328820102558</td><td>64.8171915439228</td><td>20210513</td><td>0.446085744563991</td><td>0.000103302897346752</td><td>0</td><td>0.0</td><td>0.0</td><td>0.0</td><td>GALAXY</td><td>0</td><td>0.0</td><td>0.0</td></tr>\n",
       "<tr><td>-407206302</td><td>288.170414727353</td><td>64.8761951861955</td><td>20210513</td><td>5.11210896599966</td><td>0.000690663180059733</td><td>0</td><td>0.0</td><td>0.0</td><td>0.0</td><td>QSO</td><td>0</td><td>0.0</td><td>0.0</td></tr>\n",
       "</table></div>"
      ],
      "text/plain": [
       "<Table length=5>\n",
       " TARGETID     TARGET_RA        TARGET_DEC    ... BGS_TARGET   EBV    SERSIC\n",
       "  int64        float64          float64      ...   int64    float64 float64\n",
       "---------- ---------------- ---------------- ... ---------- ------- -------\n",
       "-407206628 289.160148698913 63.8756777034092 ...          0     0.0     0.0\n",
       "-407206517  289.24523373072 64.1182126208345 ...          0     0.0     0.0\n",
       "-407206395 288.991137990503 64.4269390406163 ...          0     0.0     0.0\n",
       "-407206306 288.328820102558 64.8171915439228 ...          0     0.0     0.0\n",
       "-407206302 288.170414727353 64.8761951861955 ...          0     0.0     0.0"
      ]
     },
     "execution_count": 248,
     "metadata": {},
     "output_type": "execute_result"
    }
   ],
   "source": [
    "data[:5]"
   ]
  },
  {
   "cell_type": "markdown",
   "metadata": {
    "tags": []
   },
   "source": [
    "## Do all the calculations, selections,...\n",
    "\n",
    "- turn the daily DESI data into a Table\n",
    "- do some basic data selection stuff: only keep good + positive redshifts, only positive values of r-band flux and eliminate duplicates (right now simply takes the first entry)\n",
    "- add the ipix (healpix) pixel value for each target\n",
    "- calculate the probability for each target\n",
    "- add these values to the Table (\"PROB\"), select only targets within the 99% credible region (i.e. with a certainty of 99% the GW event is inside this region)\n",
    "- calculate the distances and its errors from the redshift, add to the data table\n",
    "- calculate the 3D probability just like here: https://iopscience.iop.org/article/10.3847/0067-0049/226/1/10 (§4) and add these values to the table\n",
    "- sort the table by its 3D probability (descending)\n",
    "- calculate absolute and apparent magnitude, luminosity and add to table\n",
    "\n",
    "The final step is to include the calculation of the most likely host galaxy from https://arxiv.org/pdf/1710.05452.pdf (GW170817); these values are then also added to the table as \"P_GAL\""
   ]
  },
  {
   "cell_type": "code",
   "execution_count": 249,
   "metadata": {},
   "outputs": [
    {
     "data": {
      "text/html": [
       "<div><i>Table length=5</i>\n",
       "<table id=\"table139960317168416\" class=\"table-striped table-bordered table-condensed\">\n",
       "<thead><tr><th>TARGETID</th><th>TARGET_RA</th><th>TARGET_DEC</th><th>LASTNIGHT</th><th>Z</th><th>ZERR</th><th>ZWARN</th><th>FLUX_G</th><th>FLUX_R</th><th>FLUX_Z</th><th>SPECTYPE</th><th>BGS_TARGET</th><th>EBV</th><th>SERSIC</th></tr></thead>\n",
       "<thead><tr><th>int64</th><th>float64</th><th>float64</th><th>int64</th><th>float64</th><th>float64</th><th>int64</th><th>float64</th><th>float64</th><th>float64</th><th>bytes6</th><th>int64</th><th>float64</th><th>float64</th></tr></thead>\n",
       "<tr><td>-407206628</td><td>289.160148698913</td><td>63.8756777034092</td><td>20210513</td><td>0.488143245600312</td><td>6.00460085329576e-05</td><td>0</td><td>0.0</td><td>0.0</td><td>0.0</td><td>GALAXY</td><td>0</td><td>0.0</td><td>0.0</td></tr>\n",
       "<tr><td>-407206517</td><td>289.24523373072</td><td>64.1182126208345</td><td>20210513</td><td>0.353953432359517</td><td>9.16563620937551e-05</td><td>0</td><td>0.0</td><td>0.0</td><td>0.0</td><td>GALAXY</td><td>0</td><td>0.0</td><td>0.0</td></tr>\n",
       "<tr><td>-407206395</td><td>288.991137990503</td><td>64.4269390406163</td><td>20210513</td><td>1.04167986703249</td><td>0.000103598417102832</td><td>0</td><td>0.0</td><td>0.0</td><td>0.0</td><td>GALAXY</td><td>0</td><td>0.0</td><td>0.0</td></tr>\n",
       "<tr><td>-407206306</td><td>288.328820102558</td><td>64.8171915439228</td><td>20210513</td><td>0.446085744563991</td><td>0.000103302897346752</td><td>0</td><td>0.0</td><td>0.0</td><td>0.0</td><td>GALAXY</td><td>0</td><td>0.0</td><td>0.0</td></tr>\n",
       "<tr><td>-407206302</td><td>288.170414727353</td><td>64.8761951861955</td><td>20210513</td><td>5.11210896599966</td><td>0.000690663180059733</td><td>0</td><td>0.0</td><td>0.0</td><td>0.0</td><td>QSO</td><td>0</td><td>0.0</td><td>0.0</td></tr>\n",
       "</table></div>"
      ],
      "text/plain": [
       "<Table length=5>\n",
       " TARGETID     TARGET_RA        TARGET_DEC    ... BGS_TARGET   EBV    SERSIC\n",
       "  int64        float64          float64      ...   int64    float64 float64\n",
       "---------- ---------------- ---------------- ... ---------- ------- -------\n",
       "-407206628 289.160148698913 63.8756777034092 ...          0     0.0     0.0\n",
       "-407206517  289.24523373072 64.1182126208345 ...          0     0.0     0.0\n",
       "-407206395 288.991137990503 64.4269390406163 ...          0     0.0     0.0\n",
       "-407206306 288.328820102558 64.8171915439228 ...          0     0.0     0.0\n",
       "-407206302 288.170414727353 64.8761951861955 ...          0     0.0     0.0"
      ]
     },
     "execution_count": 249,
     "metadata": {},
     "output_type": "execute_result"
    }
   ],
   "source": [
    "data[:5]"
   ]
  },
  {
   "cell_type": "markdown",
   "metadata": {
    "tags": []
   },
   "source": [
    "### data clean up"
   ]
  },
  {
   "cell_type": "code",
   "execution_count": 250,
   "metadata": {},
   "outputs": [],
   "source": [
    "#data = data[data[\"Z\"]> 0] # this migh have 2 reasons\n",
    "#data = data[data[\"ZWARN\"] == 0]"
   ]
  },
  {
   "cell_type": "code",
   "execution_count": 251,
   "metadata": {},
   "outputs": [],
   "source": [
    "#data = data[data['FLUX_Z']>0]\n",
    "# data = table.unique(data, keys = \"TARGETID\")"
   ]
  },
  {
   "cell_type": "code",
   "execution_count": 252,
   "metadata": {},
   "outputs": [],
   "source": [
    "data = data[data[\"TARGETID\"]>0]"
   ]
  },
  {
   "cell_type": "code",
   "execution_count": 253,
   "metadata": {},
   "outputs": [
    {
     "name": "stdout",
     "output_type": "stream",
     "text": [
      "We have 28139735 objects in the full catalog\n"
     ]
    }
   ],
   "source": [
    "print(f\"We have {len(data)} objects in the full catalog\")"
   ]
  },
  {
   "cell_type": "markdown",
   "metadata": {},
   "source": [
    "We should also get rid of stars, since they wont be the host of a GW event"
   ]
  },
  {
   "cell_type": "code",
   "execution_count": 254,
   "metadata": {},
   "outputs": [],
   "source": [
    "data = data[data[\"SPECTYPE\"] != \"STAR\"]"
   ]
  },
  {
   "cell_type": "markdown",
   "metadata": {
    "jp-MarkdownHeadingCollapsed": true,
    "tags": []
   },
   "source": [
    "### Calculate the healpix id for every object in the catalog and its probability; append this data to the Table"
   ]
  },
  {
   "cell_type": "code",
   "execution_count": 255,
   "metadata": {},
   "outputs": [],
   "source": [
    "max_level = 29 # highest possible HEALPix resolution that can be represented in a 64-bit signed integer\n",
    "max_nside = ah.level_to_nside(max_level)\n",
    "level, ipix = ah.uniq_to_level_ipix(skymap[\"UNIQ\"])\n",
    "\n",
    "index = ipix*(2**(max_level-level))**2\n",
    "\n",
    "sorter = np.argsort(index)\n",
    "\n",
    "# this is the NESTED pixel index of the target sky location, NOT THE UNIQ ID\n",
    "match_ipix = ah.lonlat_to_healpix(data[\"TARGET_RA\"]*u.deg, data[\"TARGET_DEC\"]*u.deg, max_nside, order='nested')\n",
    "\n",
    "# here we get the pixel index (i.e. where the entry is in the table, also NOT THE UNIQ ID) of each target\n",
    "sorter_i = sorter[np.searchsorted(index, match_ipix, side='right', sorter=sorter) - 1]\n",
    "probdensity = skymap[sorter_i]['PROBDENSITY'].to_value(u.deg**-2)\n",
    "\n",
    "# now we calculate the UNIQ ID for all our targets:\n",
    "\n",
    "uniq = skymap[\"UNIQ\"][sorter_i]\n",
    "#to make things easier in future, I will now also append the UNIQ pixels DISTMU, DISTSIGMA and DISTNORM values. However, be careful, since these DO NOT CORRESPOND THE TARGETS IN DESI DIRECTLY!\n",
    "\n",
    "if modeled_search:\n",
    "    distmu = skymap[sorter_i][\"DISTMU\"]\n",
    "    distsigma = skymap[sorter_i][\"DISTSIGMA\"]\n",
    "    distnorm = skymap[sorter_i][\"DISTNORM\"]\n"
   ]
  },
  {
   "cell_type": "code",
   "execution_count": 256,
   "metadata": {},
   "outputs": [],
   "source": [
    "# len(UNIQ), len(data), len(skymap)"
   ]
  },
  {
   "cell_type": "code",
   "execution_count": 257,
   "metadata": {},
   "outputs": [],
   "source": [
    "#data = data.keep_columns([\"TARGETID\", \"TARGET_RA\", \"TARGET_DEC\", \"TILEID\", \"NIGHT\", \"Z\", \"ZERR\", \"ZWARN\", \"DELTACHI2\", \"FLUX_Z\", \"BGS_TARGET\", \"EBV\", \"SERSIC\", \"MWS_TARGET\", \"FILENAME\"])\n",
    "                          "
   ]
  },
  {
   "cell_type": "code",
   "execution_count": 258,
   "metadata": {},
   "outputs": [],
   "source": [
    "if modeled_search:\n",
    "    data = hstack([data, Table({\"UNIQ\": uniq}), Table({\"PROBDENSITY\": probdensity}), Table({\"DISTMU\": distmu}), Table({\"DISTSIGMA\": distsigma}), Table({\"DISTNORM\": distnorm})])\n",
    "else: \n",
    "    data = hstack([data, Table({\"UNIQ\": uniq}), Table({\"PROBDENSITY\": probdensity})])\n",
    "    print(f\"The table will not contain any distance info since there is none available\")"
   ]
  },
  {
   "cell_type": "code",
   "execution_count": 259,
   "metadata": {},
   "outputs": [
    {
     "data": {
      "text/html": [
       "<div><i>Table length=5</i>\n",
       "<table id=\"table139960325762704\" class=\"table-striped table-bordered table-condensed\">\n",
       "<thead><tr><th>TARGETID</th><th>TARGET_RA</th><th>TARGET_DEC</th><th>LASTNIGHT</th><th>Z</th><th>ZERR</th><th>ZWARN</th><th>FLUX_G</th><th>FLUX_R</th><th>FLUX_Z</th><th>SPECTYPE</th><th>BGS_TARGET</th><th>EBV</th><th>SERSIC</th><th>UNIQ</th><th>PROBDENSITY</th><th>DISTMU</th><th>DISTSIGMA</th><th>DISTNORM</th></tr></thead>\n",
       "<thead><tr><th></th><th></th><th></th><th></th><th></th><th></th><th></th><th></th><th></th><th></th><th></th><th></th><th></th><th></th><th></th><th></th><th>Mpc</th><th>Mpc</th><th>1 / Mpc2</th></tr></thead>\n",
       "<thead><tr><th>int64</th><th>float64</th><th>float64</th><th>int64</th><th>float64</th><th>float64</th><th>int64</th><th>float64</th><th>float64</th><th>float64</th><th>bytes6</th><th>int64</th><th>float64</th><th>float64</th><th>int64</th><th>float64</th><th>float64</th><th>float64</th><th>float64</th></tr></thead>\n",
       "<tr><td>6448025174016</td><td>179.15657</td><td>28.4234799</td><td>20210318</td><td>0.0221933367215889</td><td>9.68081653157043e-06</td><td>0</td><td>0.0</td><td>0.0</td><td>0.0</td><td>GALAXY</td><td>0</td><td>0.0</td><td>0.0</td><td>2803</td><td>1.0543267017407048e-09</td><td>-9280.699258951683</td><td>761.0099287174044</td><td>8.05104122516814e+29</td></tr>\n",
       "<tr><td>6521555517440</td><td>204.22749</td><td>32.09493</td><td>20210404</td><td>0.3238872170838</td><td>2.72909868562699e-05</td><td>0</td><td>0.0</td><td>0.0</td><td>0.0</td><td>GALAXY</td><td>0</td><td>0.0</td><td>0.0</td><td>6705</td><td>8.851664684308098e-08</td><td>315.99770743233853</td><td>119.1668849224023</td><td>8.768458089097986e-06</td></tr>\n",
       "<tr><td>6536638234624</td><td>186.274119</td><td>32.84503</td><td>20210402</td><td>0.0764062738003505</td><td>1.47657330826664e-05</td><td>0</td><td>0.0</td><td>0.0</td><td>0.0</td><td>GALAXY</td><td>0</td><td>0.0</td><td>0.0</td><td>2807</td><td>3.3594607634951768e-09</td><td>-143.4730278243121</td><td>180.4776749171902</td><td>0.0002626129380013131</td></tr>\n",
       "<tr><td>45803351579259</td><td>198.2176891</td><td>18.3113961</td><td>20210316</td><td>1.49911242224797</td><td>3.38509589473939e-05</td><td>0</td><td>0.0</td><td>0.0</td><td>0.0</td><td>GALAXY</td><td>0</td><td>0.0</td><td>0.0</td><td>2773</td><td>1.0250765149926451e-08</td><td>235.7555837975092</td><td>242.26600910660048</td><td>9.125588522124583e-06</td></tr>\n",
       "<tr><td>46523089944591</td><td>258.5210502</td><td>56.1317935</td><td>20210409</td><td>1.62639091480193</td><td>0.000120044446065552</td><td>0</td><td>0.0</td><td>0.0</td><td>0.0</td><td>GALAXY</td><td>0</td><td>0.0</td><td>0.0</td><td>6641</td><td>1.534237688756526e-06</td><td>-271.2805776946655</td><td>281.1576613778672</td><td>0.00015542247563009364</td></tr>\n",
       "</table></div>"
      ],
      "text/plain": [
       "<Table length=5>\n",
       "   TARGETID     TARGET_RA  ...     DISTSIGMA             DISTNORM       \n",
       "                           ...        Mpc                1 / Mpc2       \n",
       "    int64        float64   ...      float64              float64        \n",
       "-------------- ----------- ... ------------------ ----------------------\n",
       " 6448025174016   179.15657 ...  761.0099287174044   8.05104122516814e+29\n",
       " 6521555517440   204.22749 ...  119.1668849224023  8.768458089097986e-06\n",
       " 6536638234624  186.274119 ...  180.4776749171902  0.0002626129380013131\n",
       "45803351579259 198.2176891 ... 242.26600910660048  9.125588522124583e-06\n",
       "46523089944591 258.5210502 ...  281.1576613778672 0.00015542247563009364"
      ]
     },
     "execution_count": 259,
     "metadata": {},
     "output_type": "execute_result"
    }
   ],
   "source": [
    "data[:5]"
   ]
  },
  {
   "cell_type": "code",
   "execution_count": 260,
   "metadata": {},
   "outputs": [
    {
     "name": "stdout",
     "output_type": "stream",
     "text": [
      "The highest and lowest probability values in our catalog are: 0.0021131874834380182 and 1.0338616040982892e-16\n"
     ]
    }
   ],
   "source": [
    "print(f\"The highest and lowest probability values in our catalog are: {np.max(probdensity)} and {np.min(probdensity)}\")"
   ]
  },
  {
   "cell_type": "markdown",
   "metadata": {
    "tags": []
   },
   "source": [
    "### Sort the skymap table and get 99% credible region"
   ]
  },
  {
   "cell_type": "code",
   "execution_count": 261,
   "metadata": {},
   "outputs": [],
   "source": [
    "# copy the table\n",
    "skymap_sort = Table(skymap, copy = True)"
   ]
  },
  {
   "cell_type": "code",
   "execution_count": 262,
   "metadata": {},
   "outputs": [],
   "source": [
    "# check whether copy worked:\n",
    "# skymap_sort, skymap\n",
    "# np.max(skymap[\"UNIQ\"])"
   ]
  },
  {
   "cell_type": "code",
   "execution_count": 263,
   "metadata": {},
   "outputs": [],
   "source": [
    "# now sort the skymap by its probability (descending)\n",
    "skymap_sort.sort('PROBDENSITY', reverse=True)"
   ]
  },
  {
   "cell_type": "code",
   "execution_count": 264,
   "metadata": {},
   "outputs": [
    {
     "data": {
      "text/html": [
       "<div><i>Table length=5</i>\n",
       "<table id=\"table139960303426944\" class=\"table-striped table-bordered table-condensed\">\n",
       "<thead><tr><th>UNIQ</th><th>PROBDENSITY</th><th>DISTMU</th><th>DISTSIGMA</th><th>DISTNORM</th></tr></thead>\n",
       "<thead><tr><th></th><th>1 / sr</th><th>Mpc</th><th>Mpc</th><th>1 / Mpc2</th></tr></thead>\n",
       "<thead><tr><th>int64</th><th>float64</th><th>float64</th><th>float64</th><th>float64</th></tr></thead>\n",
       "<tr><td>778896</td><td>6.9371852893956625</td><td>348.11768198463994</td><td>96.90734143253631</td><td>7.658329708258471e-06</td></tr>\n",
       "<tr><td>778899</td><td>6.934059751146115</td><td>347.6996478173338</td><td>96.52019373680466</td><td>7.679841299678582e-06</td></tr>\n",
       "<tr><td>778799</td><td>6.93352541710827</td><td>348.53451876065446</td><td>97.3153518032849</td><td>7.636712377019959e-06</td></tr>\n",
       "<tr><td>778908</td><td>6.9238153186797415</td><td>347.2797001957606</td><td>96.15401246195681</td><td>7.701275337621673e-06</td></tr>\n",
       "<tr><td>778796</td><td>6.9233798090438246</td><td>348.95058215201817</td><td>97.74382283330473</td><td>7.614976726893917e-06</td></tr>\n",
       "</table></div>"
      ],
      "text/plain": [
       "<Table length=5>\n",
       " UNIQ     PROBDENSITY     ...     DISTSIGMA            DISTNORM      \n",
       "             1 / sr       ...        Mpc               1 / Mpc2      \n",
       "int64       float64       ...      float64             float64       \n",
       "------ ------------------ ... ----------------- ---------------------\n",
       "778896 6.9371852893956625 ... 96.90734143253631 7.658329708258471e-06\n",
       "778899  6.934059751146115 ... 96.52019373680466 7.679841299678582e-06\n",
       "778799   6.93352541710827 ...  97.3153518032849 7.636712377019959e-06\n",
       "778908 6.9238153186797415 ... 96.15401246195681 7.701275337621673e-06\n",
       "778796 6.9233798090438246 ... 97.74382283330473 7.614976726893917e-06"
      ]
     },
     "execution_count": 264,
     "metadata": {},
     "output_type": "execute_result"
    }
   ],
   "source": [
    "# this shows the first entries sorted be their probability\n",
    "skymap_sort[:5]"
   ]
  },
  {
   "cell_type": "code",
   "execution_count": 265,
   "metadata": {},
   "outputs": [
    {
     "name": "stdout",
     "output_type": "stream",
     "text": [
      "The 99% search area is 2014.304748506801°large\n"
     ]
    }
   ],
   "source": [
    "# now get 99% credible region area\n",
    "\n",
    "level, ipix = ah.uniq_to_level_ipix(skymap_sort['UNIQ'])\n",
    "pixel_area = ah.nside_to_pixel_area(ah.level_to_nside(level)) # this is the area each pixel contains\n",
    "\n",
    "# calculate the probability per pixel (careful: since the pixels differ in size, this is not neceseraliy a useful quantity\n",
    "prob = pixel_area * skymap_sort['PROBDENSITY']\n",
    "\n",
    "# calc cumsum of probabilities and get index of pixel that sums up to 0.99\n",
    "cumprob = np.cumsum(prob)\n",
    "i = cumprob.searchsorted(0.99)\n",
    "\n",
    "# print area\n",
    "area_99 = pixel_area[:i].sum()\n",
    "area_99_deg = area_99.to_value(u.deg**2)\n",
    "print(f\"The 99% search area is {area_99_deg}° large\")"
   ]
  },
  {
   "cell_type": "markdown",
   "metadata": {
    "jp-MarkdownHeadingCollapsed": true,
    "tags": []
   },
   "source": [
    "### can be deleted, just tried things out"
   ]
  },
  {
   "cell_type": "code",
   "execution_count": 266,
   "metadata": {},
   "outputs": [],
   "source": [
    "skymap_sort = hstack([skymap_sort, Table({\"PROB\": prob})])"
   ]
  },
  {
   "cell_type": "code",
   "execution_count": 267,
   "metadata": {},
   "outputs": [
    {
     "data": {
      "text/latex": [
       "$0.00015006918 \\; \\mathrm{}$"
      ],
      "text/plain": [
       "<Quantity 0.00015007>"
      ]
     },
     "execution_count": 267,
     "metadata": {},
     "output_type": "execute_result"
    }
   ],
   "source": [
    "np.max(prob)"
   ]
  },
  {
   "cell_type": "code",
   "execution_count": 268,
   "metadata": {},
   "outputs": [
    {
     "data": {
      "text/html": [
       "<div><i>Table length=5</i>\n",
       "<table id=\"table139960303420752\" class=\"table-striped table-bordered table-condensed\">\n",
       "<thead><tr><th>UNIQ</th><th>PROBDENSITY</th><th>DISTMU</th><th>DISTSIGMA</th><th>DISTNORM</th><th>PROB</th></tr></thead>\n",
       "<thead><tr><th></th><th>1 / sr</th><th>Mpc</th><th>Mpc</th><th>1 / Mpc2</th><th></th></tr></thead>\n",
       "<thead><tr><th>int64</th><th>float64</th><th>float64</th><th>float64</th><th>float64</th><th>float64</th></tr></thead>\n",
       "<tr><td>778896</td><td>6.9371852893956625</td><td>348.11768198463994</td><td>96.90734143253631</td><td>7.658329708258471e-06</td><td>0.00011084905162433164</td></tr>\n",
       "<tr><td>778899</td><td>6.934059751146115</td><td>347.6996478173338</td><td>96.52019373680466</td><td>7.679841299678582e-06</td><td>0.00011079910875322113</td></tr>\n",
       "<tr><td>778799</td><td>6.93352541710827</td><td>348.53451876065446</td><td>97.3153518032849</td><td>7.636712377019959e-06</td><td>0.00011079057064750898</td></tr>\n",
       "<tr><td>778908</td><td>6.9238153186797415</td><td>347.2797001957606</td><td>96.15401246195681</td><td>7.701275337621673e-06</td><td>0.0001106354133096148</td></tr>\n",
       "<tr><td>778796</td><td>6.9233798090438246</td><td>348.95058215201817</td><td>97.74382283330473</td><td>7.614976726893917e-06</td><td>0.00011062845431571443</td></tr>\n",
       "</table></div>"
      ],
      "text/plain": [
       "<Table length=5>\n",
       " UNIQ     PROBDENSITY     ...        DISTNORM                PROB         \n",
       "             1 / sr       ...        1 / Mpc2                             \n",
       "int64       float64       ...        float64               float64        \n",
       "------ ------------------ ... --------------------- ----------------------\n",
       "778896 6.9371852893956625 ... 7.658329708258471e-06 0.00011084905162433164\n",
       "778899  6.934059751146115 ... 7.679841299678582e-06 0.00011079910875322113\n",
       "778799   6.93352541710827 ... 7.636712377019959e-06 0.00011079057064750898\n",
       "778908 6.9238153186797415 ... 7.701275337621673e-06  0.0001106354133096148\n",
       "778796 6.9233798090438246 ... 7.614976726893917e-06 0.00011062845431571443"
      ]
     },
     "execution_count": 268,
     "metadata": {},
     "output_type": "execute_result"
    }
   ],
   "source": [
    "skymap_sort[:5]"
   ]
  },
  {
   "cell_type": "code",
   "execution_count": 269,
   "metadata": {},
   "outputs": [],
   "source": [
    "skymap_prob = Table(skymap_sort, copy = True)"
   ]
  },
  {
   "cell_type": "code",
   "execution_count": 270,
   "metadata": {},
   "outputs": [],
   "source": [
    "skymap_prob.sort(\"PROB\", reverse = True)"
   ]
  },
  {
   "cell_type": "code",
   "execution_count": 271,
   "metadata": {},
   "outputs": [
    {
     "data": {
      "text/html": [
       "<div><i>Table length=5</i>\n",
       "<table id=\"table139960303427040\" class=\"table-striped table-bordered table-condensed\">\n",
       "<thead><tr><th>UNIQ</th><th>PROBDENSITY</th><th>DISTMU</th><th>DISTSIGMA</th><th>DISTNORM</th><th>PROB</th></tr></thead>\n",
       "<thead><tr><th></th><th>1 / sr</th><th>Mpc</th><th>Mpc</th><th>1 / Mpc2</th><th></th></tr></thead>\n",
       "<thead><tr><th>int64</th><th>float64</th><th>float64</th><th>float64</th><th>float64</th><th>float64</th></tr></thead>\n",
       "<tr><td>25763</td><td>0.5869793547307848</td><td>312.30601750733035</td><td>150.61820703444383</td><td>8.325305949483696e-06</td><td>0.00015006917550708908</td></tr>\n",
       "<tr><td>102693</td><td>2.347304534629554</td><td>330.08955615808895</td><td>107.57228046536953</td><td>8.29675194956572e-06</td><td>0.00015003000247660754</td></tr>\n",
       "<tr><td>195438</td><td>2.3461277548795865</td><td>300.71610820087744</td><td>89.0499276075819</td><td>1.0166765572188423e-05</td><td>0.0001499547875796066</td></tr>\n",
       "<tr><td>189939</td><td>2.3459113137246885</td><td>306.1483090568597</td><td>97.94691506529301</td><td>9.678745390403129e-06</td><td>0.0001499409535557182</td></tr>\n",
       "<tr><td>102697</td><td>2.345546534769937</td><td>334.1193029872996</td><td>110.74377750264074</td><td>8.071184424547283e-06</td><td>0.00014991763839286763</td></tr>\n",
       "</table></div>"
      ],
      "text/plain": [
       "<Table length=5>\n",
       " UNIQ     PROBDENSITY     ...        DISTNORM                 PROB         \n",
       "             1 / sr       ...        1 / Mpc2                              \n",
       "int64       float64       ...        float64                float64        \n",
       "------ ------------------ ... ---------------------- ----------------------\n",
       " 25763 0.5869793547307848 ...  8.325305949483696e-06 0.00015006917550708908\n",
       "102693  2.347304534629554 ...   8.29675194956572e-06 0.00015003000247660754\n",
       "195438 2.3461277548795865 ... 1.0166765572188423e-05  0.0001499547875796066\n",
       "189939 2.3459113137246885 ...  9.678745390403129e-06  0.0001499409535557182\n",
       "102697  2.345546534769937 ...  8.071184424547283e-06 0.00014991763839286763"
      ]
     },
     "execution_count": 271,
     "metadata": {},
     "output_type": "execute_result"
    }
   ],
   "source": [
    "skymap_prob[:5]"
   ]
  },
  {
   "cell_type": "markdown",
   "metadata": {
    "tags": []
   },
   "source": [
    "### Compare Tables, only leave 99% credible region in DESI data table\n",
    "\n",
    "Now we can get a Table that only contains the 99% credible region. From there we only leave the matching objects in the DESI data"
   ]
  },
  {
   "cell_type": "code",
   "execution_count": 272,
   "metadata": {},
   "outputs": [],
   "source": [
    "# we simply select only the entries that are within the 99% credible region\n",
    "skymap_99 = skymap_sort[:i]"
   ]
  },
  {
   "cell_type": "code",
   "execution_count": 273,
   "metadata": {},
   "outputs": [
    {
     "name": "stdout",
     "output_type": "stream",
     "text": [
      "This is the number of UNIQ ID of objects which should lie within the 99% credible region (NOT THE NUMBER OF OBJECTS, as there can be multiple objects per UNIQ ID): 11218\n"
     ]
    }
   ],
   "source": [
    "print(\"This is the number of UNIQ ID of objects which should lie within the 99% credible region (NOT THE NUMBER OF OBJECTS, as there can be multiple objects per UNIQ ID):\", len(np.intersect1d(skymap_99[\"UNIQ\"], data[\"UNIQ\"])))"
   ]
  },
  {
   "cell_type": "code",
   "execution_count": 274,
   "metadata": {},
   "outputs": [],
   "source": [
    "mask = np.in1d(data[\"UNIQ\"], skymap_99[\"UNIQ\"])\n",
    "data_99 = data[mask]"
   ]
  },
  {
   "cell_type": "code",
   "execution_count": 275,
   "metadata": {},
   "outputs": [
    {
     "name": "stdout",
     "output_type": "stream",
     "text": [
      "We now have 3104581 objects in the 99% credible region\n",
      "Check if the region from where the galaxies have been selected makes any sense (RA; DEC):  229.221332710318 274.389348663251 -7.65135813880522 48.1281747629741\n",
      "We can also check whether we have at least one galaxy in the UNIQ pixel with the highest probability from LIGO...\n",
      "This is True\n"
     ]
    }
   ],
   "source": [
    "print(f\"We now have {len(data_99)} objects in the 99% credible region\")\n",
    "print(\"Check if the region from where the galaxies have been selected makes any sense (RA; DEC): \", np.min(data_99[\"TARGET_RA\"]), np.max(data_99[\"TARGET_RA\"]), np.min(data_99[\"TARGET_DEC\"]), np.max(data_99[\"TARGET_DEC\"]))\n",
    "\n",
    "max_probdens_in_desi = np.max(data_99[\"PROBDENSITY\"])\n",
    "max_probdens_in_ligo = np.max(skymap[\"PROBDENSITY\"]).to_value(u.deg**-2)\n",
    "print(f\"We can also check whether we have at least one galaxy in the UNIQ pixel with the highest probability from LIGO...\")\n",
    "print(f\"This is {np.allclose(max_probdens_in_desi, max_probdens_in_ligo)}\")"
   ]
  },
  {
   "cell_type": "code",
   "execution_count": 276,
   "metadata": {},
   "outputs": [],
   "source": [
    "data_99.sort('PROBDENSITY', reverse=True)"
   ]
  },
  {
   "cell_type": "code",
   "execution_count": 277,
   "metadata": {},
   "outputs": [
    {
     "data": {
      "text/html": [
       "<div><i>Table length=2</i>\n",
       "<table id=\"table139960303435536\" class=\"table-striped table-bordered table-condensed\">\n",
       "<thead><tr><th>TARGETID</th><th>TARGET_RA</th><th>TARGET_DEC</th><th>LASTNIGHT</th><th>Z</th><th>ZERR</th><th>ZWARN</th><th>FLUX_G</th><th>FLUX_R</th><th>FLUX_Z</th><th>SPECTYPE</th><th>BGS_TARGET</th><th>EBV</th><th>SERSIC</th><th>UNIQ</th><th>PROBDENSITY</th><th>DISTMU</th><th>DISTSIGMA</th><th>DISTNORM</th></tr></thead>\n",
       "<thead><tr><th></th><th></th><th></th><th></th><th></th><th></th><th></th><th></th><th></th><th></th><th></th><th></th><th></th><th></th><th></th><th></th><th>Mpc</th><th>Mpc</th><th>1 / Mpc2</th></tr></thead>\n",
       "<thead><tr><th>int64</th><th>float64</th><th>float64</th><th>int64</th><th>float64</th><th>float64</th><th>int64</th><th>float64</th><th>float64</th><th>float64</th><th>bytes6</th><th>int64</th><th>float64</th><th>float64</th><th>int64</th><th>float64</th><th>float64</th><th>float64</th><th>float64</th></tr></thead>\n",
       "<tr><td>39628124131956271</td><td>255.157105606086</td><td>13.9790237341661</td><td>20230520</td><td>2.27758550292298</td><td>0.000666758338204334</td><td>0</td><td>0.345321118831635</td><td>0.480987519025803</td><td>0.869814276695251</td><td>QSO</td><td>0</td><td>0.0919302776455879</td><td>1.0</td><td>778896</td><td>0.0021131874834380182</td><td>348.11768198463994</td><td>96.90734143253631</td><td>7.658329708258471e-06</td></tr>\n",
       "<tr><td>39628124136145978</td><td>255.243276487437</td><td>13.9633982617272</td><td>20210604</td><td>1.43670750737036</td><td>6.84948135227791e-05</td><td>0</td><td>0.310532718896866</td><td>0.31464672088623</td><td>0.654097378253937</td><td>GALAXY</td><td>0</td><td>0.0982614979147911</td><td>0.0</td><td>778896</td><td>0.0021131874834380182</td><td>348.11768198463994</td><td>96.90734143253631</td><td>7.658329708258471e-06</td></tr>\n",
       "</table></div>"
      ],
      "text/plain": [
       "<Table length=2>\n",
       "     TARGETID        TARGET_RA     ...     DISTSIGMA            DISTNORM      \n",
       "                                   ...        Mpc               1 / Mpc2      \n",
       "      int64           float64      ...      float64             float64       \n",
       "----------------- ---------------- ... ----------------- ---------------------\n",
       "39628124131956271 255.157105606086 ... 96.90734143253631 7.658329708258471e-06\n",
       "39628124136145978 255.243276487437 ... 96.90734143253631 7.658329708258471e-06"
      ]
     },
     "execution_count": 277,
     "metadata": {},
     "output_type": "execute_result"
    }
   ],
   "source": [
    "data_99[:2]"
   ]
  },
  {
   "cell_type": "code",
   "execution_count": 278,
   "metadata": {},
   "outputs": [
    {
     "name": "stdout",
     "output_type": "stream",
     "text": [
      "We have now performed all the necessary steps to get the localization selection in 2D, i.e. the angle on the sky\n",
      "However, we have not used the distance data at all. Therefore our redshifts range from 1.05176071345445e-07 to 6.80912522508998\n"
     ]
    }
   ],
   "source": [
    "if modeled_search:\n",
    "    print(\"We have now performed all the necessary steps to get the localization selection in 2D, i.e. the angle on the sky\")\n",
    "    min_z = np.min(data_99[\"Z\"])\n",
    "    max_z = np.max(data_99[\"Z\"])\n",
    "    print(f\"However, we have not used the distance data at all. Therefore our redshifts range from {min_z} to {max_z}\")\n",
    "else:\n",
    "    print(f\"Usually we would be performing steps to cut out objects that don't meet the z-range/distance from LIGO, since there is no distance, we - at least for now include everything!\")"
   ]
  },
  {
   "cell_type": "markdown",
   "metadata": {
    "tags": []
   },
   "source": [
    "### Calculate all the distances of the objects from the redshifts\n",
    "\n",
    "We want to be conservative in estimating the distance from redshifts, therefore we will include different cosmologies.\n",
    "\n",
    "Our cosmologies include:\n",
    "- H0 = 68.20 ± 0.81 km s−1Mpc−1, from eBOSS https://arxiv.org/pdf/2007.08991.pdf\n",
    "- DES Y3 https://arxiv.org/abs/2105.13549\n",
    "- SH0ES https://pantheonplussh0es.github.io/\n",
    "\n",
    "Now we calculate the arithmetic mean of our distances and its standard deviation:\n",
    "$$distances_{mean} = \\frac{dist(z_{cosmo_{max}})+dist(z_{cosmo_{min}})}{2}$$\n",
    "and accordingly the standard deviation (n=2):\n",
    "$$\\sigma = \\sqrt{\\frac{1}{n-1}\\sum\\left(dist_i-distances_{mean}\\right)^2}$$\n"
   ]
  },
  {
   "cell_type": "code",
   "execution_count": 279,
   "metadata": {},
   "outputs": [],
   "source": [
    "#distances = Distance(z=data_99[\"Z\"], cosmology=Planck18)\n",
    "#distances_err = Distance(z=data_99[\"ZERR\"], cosmology=Planck18)"
   ]
  },
  {
   "cell_type": "code",
   "execution_count": 280,
   "metadata": {},
   "outputs": [],
   "source": [
    "if modeled_search:\n",
    "    # first define the cosmological maximum and minimum parameters\n",
    "    omega_M_max = 0.339+0.032 #(from DES)\n",
    "    omega_M_min = 0.299-2*0.016 #from eBOSS\n",
    "\n",
    "    H_0_max = 73.04+2*1.04 #from SH0ES\n",
    "    H_0_min = 67.4-2*0.5 #from Planck\n",
    "    \n",
    "    # then calculate min and max luminosity distance from the redshifts\n",
    "    cosmo_min_dist = FlatLambdaCDM(H0=H_0_max, Om0=omega_M_max)\n",
    "    cosmo_max_dist = FlatLambdaCDM(H0=H_0_min, Om0=omega_M_min)\n",
    "\n",
    "    dists_max = Distance(z=data_99[\"Z\"], cosmology=cosmo_max_dist)\n",
    "    dists_min = Distance(z=data_99[\"Z\"], cosmology=cosmo_min_dist)\n",
    "    \n",
    "    # and of course also calculate the maximum and minimum error from the redshfit uncertainty\n",
    "    dists_err_min = Distance(z=data_99[\"ZERR\"], cosmology=cosmo_max_dist)\n",
    "    dists_err_max = Distance(z=data_99[\"ZERR\"], cosmology=cosmo_min_dist)\n",
    "    \n",
    "    # now we get the mean distance and its error\n",
    "    dists_mean = (dists_max+dists_min)/2\n",
    "    dists_err_mean = (dists_err_max+dists_err_min)/2  # this is our sigma for the redshift error\n",
    "    \n",
    "    # calculate the stdev of the distance depending on the cosmology\n",
    "    dists_mean_stddev = np.sqrt((dists_max-dists_mean)**2+(dists_min-dists_mean)**2)\n",
    "    \n",
    "    # now stack all the data\n",
    "    data_99 = hstack([data_99, Table({\"DIST_Z_MEAN\": dists_mean}), Table({\"DIST_Z_ERR\": dists_err_mean}), Table({\"DIST_Z_COSMO_SIGMA\": dists_mean_stddev})])"
   ]
  },
  {
   "cell_type": "code",
   "execution_count": 281,
   "metadata": {},
   "outputs": [],
   "source": [
    "# dists_mean[:5], dists_mean_stddev[:5], dists_mean_stddev[:5]/dists_mean[:5], np.mean(dists_mean_stddev/dists_mean), np.max(dists_mean_stddev/dists_mean), np.min(dists_mean_stddev/dists_mean)\n"
   ]
  },
  {
   "cell_type": "code",
   "execution_count": 282,
   "metadata": {},
   "outputs": [
    {
     "data": {
      "text/html": [
       "<div><i>Table length=5</i>\n",
       "<table id=\"table139960317171584\" class=\"table-striped table-bordered table-condensed\">\n",
       "<thead><tr><th>TARGETID</th><th>TARGET_RA</th><th>TARGET_DEC</th><th>LASTNIGHT</th><th>Z</th><th>ZERR</th><th>ZWARN</th><th>FLUX_G</th><th>FLUX_R</th><th>FLUX_Z</th><th>SPECTYPE</th><th>BGS_TARGET</th><th>EBV</th><th>SERSIC</th><th>UNIQ</th><th>PROBDENSITY</th><th>DISTMU</th><th>DISTSIGMA</th><th>DISTNORM</th><th>DIST_Z_MEAN</th><th>DIST_Z_ERR</th><th>DIST_Z_COSMO_SIGMA</th></tr></thead>\n",
       "<thead><tr><th></th><th></th><th></th><th></th><th></th><th></th><th></th><th></th><th></th><th></th><th></th><th></th><th></th><th></th><th></th><th></th><th>Mpc</th><th>Mpc</th><th>1 / Mpc2</th><th>Mpc</th><th>Mpc</th><th>Mpc</th></tr></thead>\n",
       "<thead><tr><th>int64</th><th>float64</th><th>float64</th><th>int64</th><th>float64</th><th>float64</th><th>int64</th><th>float64</th><th>float64</th><th>float64</th><th>bytes6</th><th>int64</th><th>float64</th><th>float64</th><th>int64</th><th>float64</th><th>float64</th><th>float64</th><th>float64</th><th>float64</th><th>float64</th><th>float64</th></tr></thead>\n",
       "<tr><td>39628124131956271</td><td>255.157105606086</td><td>13.9790237341661</td><td>20230520</td><td>2.27758550292298</td><td>0.000666758338204334</td><td>0</td><td>0.345321118831635</td><td>0.480987519025803</td><td>0.869814276695251</td><td>QSO</td><td>0</td><td>0.0919302776455879</td><td>1.0</td><td>778896</td><td>0.0021131874834380182</td><td>348.11768198463994</td><td>96.90734143253631</td><td>7.658329708258471e-06</td><td>17902.368344898117</td><td>2.8370970992826803</td><td>2691.2779522808655</td></tr>\n",
       "<tr><td>39628124136145978</td><td>255.243276487437</td><td>13.9633982617272</td><td>20210604</td><td>1.43670750737036</td><td>6.84948135227791e-05</td><td>0</td><td>0.310532718896866</td><td>0.31464672088623</td><td>0.654097378253937</td><td>GALAXY</td><td>0</td><td>0.0982614979147911</td><td>0.0</td><td>778896</td><td>0.0021131874834380182</td><td>348.11768198463994</td><td>96.90734143253631</td><td>7.658329708258471e-06</td><td>10181.914523935266</td><td>0.29131661602032977</td><td>1415.9838175443672</td></tr>\n",
       "<tr><td>39628124136145020</td><td>255.197498865233</td><td>14.0417802939956</td><td>20220414</td><td>0.403245843600251</td><td>7.82871986816068e-05</td><td>0</td><td>2.23125290870667</td><td>8.14107704162598</td><td>20.3457317352295</td><td>GALAXY</td><td>65537</td><td>0.0964478626847267</td><td>1.0</td><td>778896</td><td>0.0021131874834380182</td><td>348.11768198463994</td><td>96.90734143253631</td><td>7.658329708258471e-06</td><td>2168.8748169206506</td><td>0.3329672867185295</td><td>233.75808643295198</td></tr>\n",
       "<tr><td>39628124136145193</td><td>255.205423821966</td><td>14.0107008825802</td><td>20210619</td><td>0.449933691995048</td><td>6.45663510267406e-06</td><td>0</td><td>3.10213708877563</td><td>11.3780879974365</td><td>29.6855735778809</td><td>GALAXY</td><td>65545</td><td>0.0956337004899979</td><td>1.0</td><td>778896</td><td>0.0021131874834380182</td><td>348.11768198463994</td><td>96.90734143253631</td><td>7.658329708258471e-06</td><td>2468.8914785466172</td><td>0.027459539601209025</td><td>271.26175173940277</td></tr>\n",
       "<tr><td>39628124136145339</td><td>255.212694565265</td><td>13.9385530049287</td><td>20220414</td><td>0.121252019797011</td><td>3.72593846986427e-05</td><td>0</td><td>18.810037612915</td><td>50.1103477478027</td><td>100.203422546387</td><td>GALAXY</td><td>131074</td><td>0.0977264419198036</td><td>6.0</td><td>778896</td><td>0.0021131874834380182</td><td>348.11768198463994</td><td>96.90734143253631</td><td>7.658329708258471e-06</td><td>561.2934497463787</td><td>0.15846483248116022</td><td>52.60667980816652</td></tr>\n",
       "</table></div>"
      ],
      "text/plain": [
       "<Table length=5>\n",
       "     TARGETID        TARGET_RA     ...      DIST_Z_ERR      DIST_Z_COSMO_SIGMA\n",
       "                                   ...         Mpc                 Mpc        \n",
       "      int64           float64      ...       float64             float64      \n",
       "----------------- ---------------- ... -------------------- ------------------\n",
       "39628124131956271 255.157105606086 ...   2.8370970992826803 2691.2779522808655\n",
       "39628124136145978 255.243276487437 ...  0.29131661602032977 1415.9838175443672\n",
       "39628124136145020 255.197498865233 ...   0.3329672867185295 233.75808643295198\n",
       "39628124136145193 255.205423821966 ... 0.027459539601209025 271.26175173940277\n",
       "39628124136145339 255.212694565265 ...  0.15846483248116022  52.60667980816652"
      ]
     },
     "execution_count": 282,
     "metadata": {},
     "output_type": "execute_result"
    }
   ],
   "source": [
    "data_99[:5]"
   ]
  },
  {
   "cell_type": "markdown",
   "metadata": {
    "jp-MarkdownHeadingCollapsed": true,
    "tags": []
   },
   "source": [
    "### Lets check how much the distance measurement changes in the 99% credible region of LIGO and compare to our DESI data\n",
    "\n",
    "We should see a lot more data in DESI (since we haven't done any redshift selection and there can be multiple objects per GW-pixel). Be carfeul, we are comparing actual object counts with the number of pixels.\n",
    "\n",
    "\n",
    "We still see, that most of the GW localization is roughly between 780Mpc and 950Mpc. DESI definitely has a most of its data in this range as well."
   ]
  },
  {
   "cell_type": "code",
   "execution_count": 283,
   "metadata": {},
   "outputs": [
    {
     "name": "stdout",
     "output_type": "stream",
     "text": [
      "Our LIGO distances range from -2015.4626027677914 Mpc to 510.7196823216635 Mpc\n",
      "Let's visualize the distance distribution of the LIGO event in the 99% credible region\n"
     ]
    },
    {
     "data": {
      "image/png": "[encoded data removed]",
      "text/plain": [
       "<Figure size 1500x800 with 2 Axes>"
      ]
     },
     "metadata": {},
     "output_type": "display_data"
    }
   ],
   "source": [
    "if modeled_search:\n",
    "    plt_skymap = skymap_99[skymap_99[\"DISTMU\"]<np.inf]\n",
    "\n",
    "    dist_max_99 = np.max(plt_skymap[\"DISTMU\"])*u.Mpc\n",
    "    dist_min_99 = np.min(plt_skymap[\"DISTMU\"])*u.Mpc\n",
    "    print(f\"Our LIGO distances range from {dist_min_99} to {dist_max_99}\")\n",
    "    print(\"Let's visualize the distance distribution of the LIGO event in the 99% credible region\")\n",
    "\n",
    "    fig, ax = plt.subplots(ncols = 2, figsize = (15,8))\n",
    "\n",
    "\n",
    "    ax[0].hist(data_99[\"DIST_Z_MEAN\"], bins = \"auto\", color = \"orange\", label = \"DESI data\")\n",
    "    ax[1].hist(plt_skymap[\"DISTMU\"], bins = \"auto\", color = \"blue\", label = \"LIGO data\")\n",
    "\n",
    "\n",
    "    for axis in ax:\n",
    "        axis.set_xlabel(\"distance bin (Mpc)\")\n",
    "        axis.set_xlim(dist_min_99/u.Mpc, dist_max_99/u.Mpc)\n",
    "        axis.legend()\n",
    "\n",
    "    ax[0].set_ylabel(\"object count\")\n",
    "    ax[1].set_ylabel(\"pixel count\")\n",
    "\n",
    "    plt.show()"
   ]
  },
  {
   "cell_type": "code",
   "execution_count": 284,
   "metadata": {},
   "outputs": [
    {
     "data": {
      "text/plain": [
       "(13920, 3104581)"
      ]
     },
     "execution_count": 284,
     "metadata": {},
     "output_type": "execute_result"
    }
   ],
   "source": [
    "len(skymap_99), len(data_99)"
   ]
  },
  {
   "cell_type": "markdown",
   "metadata": {
    "tags": []
   },
   "source": [
    "### To reduce our data even more, lets cut out the unreasonably far away objects\n",
    "\n",
    "We simply take maximum and minimum distance we get from the LIGO skymap (i.e. DISTMU+-DISTERR) and check, whether every galaxy in that pixel falls inside this range.\n",
    "\n",
    "*Note: We do this only for our own GW-follow ups*"
   ]
  },
  {
   "cell_type": "code",
   "execution_count": 285,
   "metadata": {},
   "outputs": [
    {
     "name": "stdout",
     "output_type": "stream",
     "text": [
      "The z-range selection has deleted 2735554 objects from originally 3104581 in the data set\n",
      "Therefore, we have 369027 objects left in the search region\n",
      "Our highest remaing probability density is 0.0021131874834380182 compared to the originally highest prob density of 0.0021131874834380182\n",
      "The difference in prob density is 0.0\n"
     ]
    }
   ],
   "source": [
    "if follow_up_their_z == False and modeled_search == True:\n",
    "    z_selection_mask = data_99[\"DIST_Z_MEAN\"] - 2*data_99[\"DIST_Z_ERR\"] - 2*data_99[\"DIST_Z_COSMO_SIGMA\"] <  data_99[\"DISTMU\"] + 2*data_99[\"DISTSIGMA\"]\n",
    "    z_selection_mask &= data_99[\"DIST_Z_MEAN\"] + 2*data_99[\"DIST_Z_ERR\"] + 2*data_99[\"DIST_Z_COSMO_SIGMA\"] >  data_99[\"DISTMU\"] - 2*data_99[\"DISTSIGMA\"]\n",
    "\n",
    "    data_99_z = data_99[z_selection_mask]\n",
    "\n",
    "    remaining_obj = np.size(np.where(z_selection_mask == True))\n",
    "    deleted_obj = np.size(np.where(z_selection_mask == False))\n",
    "\n",
    "    print(f\"The z-range selection has deleted {deleted_obj} objects from originally {deleted_obj+remaining_obj} in the data set\")\n",
    "    print(f\"Therefore, we have {remaining_obj} objects left in the search region\")\n",
    "\n",
    "    highest_prob_dens = np.max(data_99_z[\"PROBDENSITY\"])\n",
    "    print(f\"Our highest remaing probability density is {highest_prob_dens} compared to the originally highest prob density of {max_probdens_in_ligo}\")\n",
    "    print(f\"The difference in prob density is {max_probdens_in_ligo-highest_prob_dens}\")\n",
    "\n",
    "    \n",
    "else:\n",
    "    data_99_z = data_99\n",
    "    remaining_obj = len(data_99_z)"
   ]
  },
  {
   "cell_type": "code",
   "execution_count": 286,
   "metadata": {},
   "outputs": [
    {
     "data": {
      "text/html": [
       "<div><i>Table length=5</i>\n",
       "<table id=\"table139960287959536\" class=\"table-striped table-bordered table-condensed\">\n",
       "<thead><tr><th>TARGETID</th><th>TARGET_RA</th><th>TARGET_DEC</th><th>LASTNIGHT</th><th>Z</th><th>ZERR</th><th>ZWARN</th><th>FLUX_G</th><th>FLUX_R</th><th>FLUX_Z</th><th>SPECTYPE</th><th>BGS_TARGET</th><th>EBV</th><th>SERSIC</th><th>UNIQ</th><th>PROBDENSITY</th><th>DISTMU</th><th>DISTSIGMA</th><th>DISTNORM</th><th>DIST_Z_MEAN</th><th>DIST_Z_ERR</th><th>DIST_Z_COSMO_SIGMA</th></tr></thead>\n",
       "<thead><tr><th></th><th></th><th></th><th></th><th></th><th></th><th></th><th></th><th></th><th></th><th></th><th></th><th></th><th></th><th></th><th></th><th>Mpc</th><th>Mpc</th><th>1 / Mpc2</th><th>Mpc</th><th>Mpc</th><th>Mpc</th></tr></thead>\n",
       "<thead><tr><th>int64</th><th>float64</th><th>float64</th><th>int64</th><th>float64</th><th>float64</th><th>int64</th><th>float64</th><th>float64</th><th>float64</th><th>bytes6</th><th>int64</th><th>float64</th><th>float64</th><th>int64</th><th>float64</th><th>float64</th><th>float64</th><th>float64</th><th>float64</th><th>float64</th><th>float64</th></tr></thead>\n",
       "<tr><td>39628124136145339</td><td>255.212694565265</td><td>13.9385530049287</td><td>20220414</td><td>0.121252019797011</td><td>3.72593846986427e-05</td><td>0</td><td>18.810037612915</td><td>50.1103477478027</td><td>100.203422546387</td><td>GALAXY</td><td>131074</td><td>0.0977264419198036</td><td>6.0</td><td>778896</td><td>0.0021131874834380182</td><td>348.11768198463994</td><td>96.90734143253631</td><td>7.658329708258471e-06</td><td>561.2934497463787</td><td>0.15846483248116022</td><td>52.60667980816652</td></tr>\n",
       "<tr><td>39628124136146105</td><td>255.248714879469</td><td>13.9410395609583</td><td>20230520</td><td>0.106389313663427</td><td>3.68723280980261e-05</td><td>0</td><td>1.06516814231873</td><td>1.61002469062805</td><td>2.95359563827515</td><td>GALAXY</td><td>0</td><td>0.0995460897684097</td><td>4.0</td><td>778896</td><td>0.0021131874834380182</td><td>348.11768198463994</td><td>96.90734143253631</td><td>7.658329708258471e-06</td><td>487.78065182886996</td><td>0.15681862748678393</td><td>45.32858899992206</td></tr>\n",
       "<tr><td>39628124131955365</td><td>255.118070202737</td><td>13.9699892139303</td><td>20220414</td><td>0.0983004957974879</td><td>7.07943779530607e-06</td><td>0</td><td>17.485294342041</td><td>29.658540725708</td><td>45.9855537414551</td><td>GALAXY</td><td>131074</td><td>0.0877994820475578</td><td>1.11651849746704</td><td>778896</td><td>0.0021131874834380182</td><td>348.11768198463994</td><td>96.90734143253631</td><td>7.658329708258471e-06</td><td>448.30453863262437</td><td>0.03010828268326563</td><td>41.46524721998183</td></tr>\n",
       "<tr><td>39628124136147233</td><td>255.295834282954</td><td>14.0196014124657</td><td>20210619</td><td>0.0982064877175249</td><td>2.23827009390563e-06</td><td>0</td><td>27.8545799255371</td><td>49.3215065002441</td><td>81.0267791748047</td><td>GALAXY</td><td>131074</td><td>0.102888539433479</td><td>0.690496563911438</td><td>778896</td><td>0.0021131874834380182</td><td>348.11768198463994</td><td>96.90734143253631</td><td>7.658329708258471e-06</td><td>447.84797323177384</td><td>0.009519148511562128</td><td>41.420752200177944</td></tr>\n",
       "<tr><td>39628124136148270</td><td>255.342156662952</td><td>14.0093148326704</td><td>20210619</td><td>0.106503555627361</td><td>4.78152139253946e-05</td><td>0</td><td>17.9336280822754</td><td>53.0025596618652</td><td>134.591522216797</td><td>GALAXY</td><td>131074</td><td>0.107131458818913</td><td>1.57255470752716</td><td>778896</td><td>0.0021131874834380182</td><td>348.11768198463994</td><td>96.90734143253631</td><td>7.658329708258471e-06</td><td>488.3408925041366</td><td>0.2033606019203023</td><td>45.3836456730434</td></tr>\n",
       "</table></div>"
      ],
      "text/plain": [
       "<Table length=5>\n",
       "     TARGETID        TARGET_RA     ...      DIST_Z_ERR      DIST_Z_COSMO_SIGMA\n",
       "                                   ...         Mpc                 Mpc        \n",
       "      int64           float64      ...       float64             float64      \n",
       "----------------- ---------------- ... -------------------- ------------------\n",
       "39628124136145339 255.212694565265 ...  0.15846483248116022  52.60667980816652\n",
       "39628124136146105 255.248714879469 ...  0.15681862748678393  45.32858899992206\n",
       "39628124131955365 255.118070202737 ...  0.03010828268326563  41.46524721998183\n",
       "39628124136147233 255.295834282954 ... 0.009519148511562128 41.420752200177944\n",
       "39628124136148270 255.342156662952 ...   0.2033606019203023   45.3836456730434"
      ]
     },
     "execution_count": 286,
     "metadata": {},
     "output_type": "execute_result"
    }
   ],
   "source": [
    "data_99_z[:5]"
   ]
  },
  {
   "cell_type": "markdown",
   "metadata": {
    "tags": []
   },
   "source": [
    "### get the apparent, absolute magnitudes and luminosities\n",
    "\n",
    "in order to do this: flux > 0 selection  and gal ext correction"
   ]
  },
  {
   "cell_type": "code",
   "execution_count": 287,
   "metadata": {},
   "outputs": [
    {
     "name": "stdout",
     "output_type": "stream",
     "text": [
      "had to cut out -19536 objects due to bad fluxes\n"
     ]
    }
   ],
   "source": [
    "# get the apparent mags\n",
    "orig_len = len(data_99_z)\n",
    "data_99_z = data_99_z[data_99_z[\"FLUX_R\"] > 0] # flux selection (only ones above 0)\n",
    "print(f\"had to cut out {len(data_99_z)-orig_len} objects due to bad fluxes\")\n",
    "data_99_z[\"MW_TRANSMISSION\"] = gs.mw_transmission_from_data_table(data = data_99_z, band = \"r\")\n",
    "#data_99_z[\"FLUX_R\"] = data_99_z[\"FLUX_R\"]/data_99_z[\"MW_TRANSMISSION\"]\n",
    "\n",
    "app_mag_r = gs.app_mag(data_99_z[\"FLUX_R\"], mw_transmission = data_99_z[\"MW_TRANSMISSION\"])\n",
    "flux_selection_cut = len(data_99_z)\n",
    "\n",
    "# get the absolute mags\n",
    "abs_mag_r = gs.abs_mag(app_mag_r, data_99_z[\"Z\"], 0,0,0)\n",
    "\n",
    "# get the luminosities\n",
    "lums_r = gs.lum(abs_mag_r, band = \"r\")"
   ]
  },
  {
   "cell_type": "code",
   "execution_count": 288,
   "metadata": {},
   "outputs": [],
   "source": [
    "data_f = hstack([data_99_z, Table({\"APP_MAG_R\": app_mag_r}), Table({\"ABS_MAG_R\": abs_mag_r}), Table({\"LUM_R\": lums_r})])"
   ]
  },
  {
   "cell_type": "code",
   "execution_count": 289,
   "metadata": {},
   "outputs": [
    {
     "data": {
      "text/html": [
       "<div><i>Table length=5</i>\n",
       "<table id=\"table139960325397312\" class=\"table-striped table-bordered table-condensed\">\n",
       "<thead><tr><th>TARGETID</th><th>TARGET_RA</th><th>TARGET_DEC</th><th>LASTNIGHT</th><th>Z</th><th>ZERR</th><th>ZWARN</th><th>FLUX_G</th><th>FLUX_R</th><th>FLUX_Z</th><th>SPECTYPE</th><th>BGS_TARGET</th><th>EBV</th><th>SERSIC</th><th>UNIQ</th><th>PROBDENSITY</th><th>DISTMU</th><th>DISTSIGMA</th><th>DISTNORM</th><th>DIST_Z_MEAN</th><th>DIST_Z_ERR</th><th>DIST_Z_COSMO_SIGMA</th><th>MW_TRANSMISSION</th><th>APP_MAG_R</th><th>ABS_MAG_R</th><th>LUM_R</th></tr></thead>\n",
       "<thead><tr><th></th><th></th><th></th><th></th><th></th><th></th><th></th><th></th><th></th><th></th><th></th><th></th><th></th><th></th><th></th><th></th><th>Mpc</th><th>Mpc</th><th>1 / Mpc2</th><th>Mpc</th><th>Mpc</th><th>Mpc</th><th></th><th></th><th></th><th>W</th></tr></thead>\n",
       "<thead><tr><th>int64</th><th>float64</th><th>float64</th><th>int64</th><th>float64</th><th>float64</th><th>int64</th><th>float64</th><th>float64</th><th>float64</th><th>bytes6</th><th>int64</th><th>float64</th><th>float64</th><th>int64</th><th>float64</th><th>float64</th><th>float64</th><th>float64</th><th>float64</th><th>float64</th><th>float64</th><th>float64</th><th>float64</th><th>float64</th><th>float64</th></tr></thead>\n",
       "<tr><td>39628124136145339</td><td>255.212694565265</td><td>13.9385530049287</td><td>20220414</td><td>0.121252019797011</td><td>3.72593846986427e-05</td><td>0</td><td>18.810037612915</td><td>50.1103477478027</td><td>100.203422546387</td><td>GALAXY</td><td>131074</td><td>0.0977264419198036</td><td>6.0</td><td>778896</td><td>0.0021131874834380182</td><td>348.11768198463994</td><td>96.90734143253631</td><td>7.658329708258471e-06</td><td>561.2934497463787</td><td>0.15846483248116022</td><td>52.60667980816652</td><td>0.8221269878280241</td><td>18.03752872088115</td><td>-20.79824696145714</td><td>1.1249482573048362e+36</td></tr>\n",
       "<tr><td>39628124136146105</td><td>255.248714879469</td><td>13.9410395609583</td><td>20230520</td><td>0.106389313663427</td><td>3.68723280980261e-05</td><td>0</td><td>1.06516814231873</td><td>1.61002469062805</td><td>2.95359563827515</td><td>GALAXY</td><td>0</td><td>0.0995460897684097</td><td>4.0</td><td>778896</td><td>0.0021131874834380182</td><td>348.11768198463994</td><td>96.90734143253631</td><td>7.658329708258471e-06</td><td>487.78065182886996</td><td>0.15681862748678393</td><td>45.32858899992206</td><td>0.8191342466846276</td><td>21.76630636808541</td><td>-16.764554872256937</td><td>2.7394016409920094e+34</td></tr>\n",
       "<tr><td>39628124131955365</td><td>255.118070202737</td><td>13.9699892139303</td><td>20220414</td><td>0.0983004957974879</td><td>7.07943779530607e-06</td><td>0</td><td>17.485294342041</td><td>29.658540725708</td><td>45.9855537414551</td><td>GALAXY</td><td>131074</td><td>0.0877994820475578</td><td>1.11651849746704</td><td>778896</td><td>0.0021131874834380182</td><td>348.11768198463994</td><td>96.90734143253631</td><td>7.658329708258471e-06</td><td>448.30453863262437</td><td>0.03010828268326563</td><td>41.46524721998183</td><td>0.8386472569516249</td><td>18.628573879952917</td><td>-19.718981261111992</td><td>4.1631903395222136e+35</td></tr>\n",
       "<tr><td>39628124136147233</td><td>255.295834282954</td><td>14.0196014124657</td><td>20210619</td><td>0.0982064877175249</td><td>2.23827009390563e-06</td><td>0</td><td>27.8545799255371</td><td>49.3215065002441</td><td>81.0267791748047</td><td>GALAXY</td><td>131074</td><td>0.102888539433479</td><td>0.690496563911438</td><td>778896</td><td>0.0021131874834380182</td><td>348.11768198463994</td><td>96.90734143253631</td><td>7.658329708258471e-06</td><td>447.84797323177384</td><td>0.009519148511562128</td><td>41.420752200177944</td><td>0.8136653375425213</td><td>18.043523704618774</td><td>-20.301818249393722</td><td>7.121329198858499e+35</td></tr>\n",
       "<tr><td>39628124136148270</td><td>255.342156662952</td><td>14.0093148326704</td><td>20210619</td><td>0.106503555627361</td><td>4.78152139253946e-05</td><td>0</td><td>17.9336280822754</td><td>53.0025596618652</td><td>134.591522216797</td><td>GALAXY</td><td>131074</td><td>0.107131458818913</td><td>1.57255470752716</td><td>778896</td><td>0.0021131874834380182</td><td>348.11768198463994</td><td>96.90734143253631</td><td>7.658329708258471e-06</td><td>488.3408925041366</td><td>0.2033606019203023</td><td>45.3836456730434</td><td>0.8067756431754245</td><td>17.95613983669389</td><td>-20.57721470225638</td><td>9.177399632237532e+35</td></tr>\n",
       "</table></div>"
      ],
      "text/plain": [
       "<Table length=5>\n",
       "     TARGETID        TARGET_RA     ...         LUM_R         \n",
       "                                   ...           W           \n",
       "      int64           float64      ...        float64        \n",
       "----------------- ---------------- ... ----------------------\n",
       "39628124136145339 255.212694565265 ... 1.1249482573048362e+36\n",
       "39628124136146105 255.248714879469 ... 2.7394016409920094e+34\n",
       "39628124131955365 255.118070202737 ... 4.1631903395222136e+35\n",
       "39628124136147233 255.295834282954 ...  7.121329198858499e+35\n",
       "39628124136148270 255.342156662952 ...  9.177399632237532e+35"
      ]
     },
     "execution_count": 289,
     "metadata": {},
     "output_type": "execute_result"
    }
   ],
   "source": [
    "data_f[:5]"
   ]
  },
  {
   "cell_type": "markdown",
   "metadata": {
    "tags": []
   },
   "source": [
    "### Check the absolute and apparent magnitudes\n",
    "\n",
    "This is a sanity check to quickly check whether there might be some obvious problem in the data/derivation of magnitudes..."
   ]
  },
  {
   "cell_type": "code",
   "execution_count": 290,
   "metadata": {},
   "outputs": [
    {
     "data": {
      "image/png": "[encoded data removed]",
      "text/plain": [
       "<Figure size 1000x500 with 3 Axes>"
      ]
     },
     "metadata": {},
     "output_type": "display_data"
    }
   ],
   "source": [
    "if len(data_f) < 1000000:\n",
    "    # dauert sonst einfach ewig\n",
    "    fig, ax = plt.subplots(ncols = 3, figsize=(10,5))\n",
    "\n",
    "    plot_names = [\"APP_MAG_R\", \"ABS_MAG_R\", \"LUM_R\"]\n",
    "    cnt = 0\n",
    "    for axis in ax:\n",
    "        axis.hist(data_f[plot_names[cnt]], bins = \"auto\")\n",
    "        axis.set_yscale(\"log\")\n",
    "        cnt += 1\n",
    "    plt.show()"
   ]
  },
  {
   "cell_type": "code",
   "execution_count": 291,
   "metadata": {},
   "outputs": [],
   "source": [
    "inspect_abs_mags = False\n",
    "\n",
    "if inspect_abs_mags:\n",
    "    data_to_inspect = data_f[data_f[\"ABS_MAG_R\"]> -12]\n",
    "    fig, ax = plt.subplots(ncols = 5, figsize = (15,8))\n",
    "    \n",
    "    ax[0].hist(data_to_inspect[\"ABS_MAG_R\"], bins = \"auto\")\n",
    "    ax[0].set_xlabel(\"abs mag in r-band\")\n",
    "    ax[1].hist(data_to_inspect[\"MW_TRANSMISSION\"], bins = \"auto\")\n",
    "    ax[1].set_xlabel(\"MW_TRANSMISSION\")\n",
    "    ax[2].hist(data_to_inspect[\"APP_MAG_R\"], bins = \"auto\")\n",
    "    ax[2].set_xlabel(\"App mag r-band\")\n",
    "    ax[3].hist(data_to_inspect[\"DIST_Z_MEAN\"], bins = \"auto\")\n",
    "    ax[3].set_xlabel(\"distance from redshift\")\n",
    "    ax[4].hist(data_to_inspect[\"Z\"], bins = \"auto\")\n",
    "    ax[4].set_xlabel(\"redshift\")\n",
    "    \n",
    "    mean_redshift_pec_objects = np.mean(data_to_inspect[\"Z\"])\n",
    "    mean_distance_pec_objects = np.mean(data_to_inspect[\"DIST_Z_MEAN\"])*u.Mpc\n",
    "    min_redshift_pec_objects = np.min(data_to_inspect[\"Z\"])\n",
    "    min_distance_pec_objects = np.min(data_to_inspect[\"DIST_Z_MEAN\"])*u.Mpc\n",
    "    \n",
    "    data_to_inspect_len = len(data_to_inspect)\n",
    "    star_data_len = len(data_to_inspect[data_to_inspect[\"SPECTYPE\"] == \"STAR\"])\n",
    "    \n",
    "    print(f\"These objects have a mean redshift of {mean_redshift_pec_objects}, which corresponds to a mean distance of {mean_distance_pec_objects}\")\n",
    "    print(f\"The minimum redshift is {min_redshift_pec_objects}, i.e. {min_distance_pec_objects}\")\n",
    "    print(f\"According to WolframAlpha the closest galaxy has a distance of roughly 25000ly = 7655pc (not Mpc, simply pc), so any object below 0.07Mpc is definitely not a real galaxy\")\n",
    "    print(f\"This reminded me to check if we have selected galaxies only...\")\n",
    "    print(f\"We have {star_data_len} stars in our catalogue of peculiar objects, compared to a total number of {data_to_inspect_len} objects...\")\n",
    "                        \n",
    "    for axis in ax:\n",
    "        axis.set_ylabel(\"bin count\")\n",
    "        #axis.legend()\n",
    "        \n",
    "    plt.tight_layout()\n",
    "    plt.show()\n",
    "    "
   ]
  },
  {
   "cell_type": "code",
   "execution_count": 292,
   "metadata": {},
   "outputs": [],
   "source": [
    "# np.max(data_f[\"MW_TRANSMISSION\"])"
   ]
  },
  {
   "cell_type": "markdown",
   "metadata": {
    "tags": []
   },
   "source": [
    "### start calculating the P_Gal (the probability that galaxy X is the host)"
   ]
  },
  {
   "cell_type": "code",
   "execution_count": 293,
   "metadata": {},
   "outputs": [
    {
     "name": "stdout",
     "output_type": "stream",
     "text": [
      "The maximum luminosity in our catalog in the r-band is 3.1731279977122818e+37 W with a prob density of      PROBDENSITY      \n",
      "----------------------\n",
      "0.00010856041681573685\n"
     ]
    }
   ],
   "source": [
    "max_lum_r = np.max(data_f[\"LUM_R\"])*u.W\n",
    "prob_dens_max_lum = data_f[data_f[\"LUM_R\"] == max_lum_r][\"PROBDENSITY\"]\n",
    "print(f\"The maximum luminosity in our catalog in the r-band is {max_lum_r} with a prob density of {prob_dens_max_lum}\")"
   ]
  },
  {
   "cell_type": "code",
   "execution_count": 294,
   "metadata": {},
   "outputs": [],
   "source": [
    "if modeled_search:\n",
    "    \n",
    "    dist_delta = abs(data_f[\"DIST_Z_MEAN\"]-data_f[\"DISTMU\"])\n",
    "    combined_sigma2 =  data_f[\"DISTSIGMA\"]**2 + data_f[\"DIST_Z_COSMO_SIGMA\"].value**2 + data_f[\"DIST_Z_ERR\"]**2\n",
    "    P_gal_unnorm = data_f[\"LUM_R\"]*data_f[\"PROBDENSITY\"]/(np.sqrt(2*np.pi*combined_sigma2))*np.exp(-dist_delta**2/(combined_sigma2))\n",
    "    \n",
    "    P_gal_sum = np.sum(P_gal_unnorm)\n",
    "    P_gal = 1/P_gal_sum * P_gal_unnorm\n",
    "\n",
    "\n",
    "else:\n",
    "    P_gal_unnorm = data_f[\"LUM_R\"]*data_f[\"PROBDENSITY\"]\n",
    "    P_gal_sum = np.sum(P_gal_unnorm)\n",
    "    P_gal = 1/P_gal_sum * P_gal_unnorm"
   ]
  },
  {
   "cell_type": "markdown",
   "metadata": {
    "tags": []
   },
   "source": [
    "### Get the missed fraction of DESI due to mass/luminosity incompleteness\n",
    "\n",
    "$$f_{missed} =  \\frac{\\int_{-\\infty}^{\\infty} dM 10^{-0.4M}\\left(1-\\frac{Hist}{Schechter}\\right)\\cdot Schechter}{\\int_{-\\infty}^{\\infty}dM 10^{-0.4M}\\cdot Schechter}$$\n",
    "\n",
    "We want to account for the fact that some region were covered in more detail by DESI than others..."
   ]
  },
  {
   "cell_type": "code",
   "execution_count": 366,
   "metadata": {},
   "outputs": [],
   "source": [
    "def V_dat(data):\n",
    "    dat_sort_lowest = data.group_by(\"DIST_Z_MEAN\")\n",
    "    mean_min_dist = np.mean(dat_sort_lowest[\"DIST_Z_MEAN\"][:10])\n",
    "    dat_sort_highest = dat_sort_lowest[::-1]\n",
    "    mean_max_dist = np.mean(dat_sort_highest[\"DIST_Z_MEAN\"][:10])\n",
    "    min_dist = np.min(data[\"DIST_Z_MEAN\"])\n",
    "    max_dist = np.max(data[\"DIST_Z_MEAN\"])\n",
    "    return 4*np.pi/3 * area_99_deg/gs.omega_sky * (mean_max_dist**3-mean_min_dist**3)"
   ]
  },
  {
   "cell_type": "code",
   "execution_count": 367,
   "metadata": {},
   "outputs": [
    {
     "name": "stdout",
     "output_type": "stream",
     "text": [
      "244984965.6839298\n",
      "-24.424134570889745, 8.723211906891102, 0.009377135933743331 Mpc, 840.3324257816807 Mpc\n"
     ]
    },
    {
     "data": {
      "image/png": "[encoded data removed]",
      "text/plain": [
       "<Figure size 500x250 with 1 Axes>"
      ]
     },
     "metadata": {},
     "output_type": "display_data"
    }
   ],
   "source": [
    "if modeled_search:\n",
    "    \n",
    "    # get the Schechter model, see 1/V estimator, bin size of half a mag\n",
    "    from astropy.modeling.models import Schechter1D\n",
    "\n",
    "    phi_star = 0.0016745140734036254\n",
    "    m_star = -21.757361746831197\n",
    "    alpha = -1.1297780395774693\n",
    "\n",
    "    schechter_model = Schechter1D(phi_star, m_star, alpha)\n",
    "    \n",
    "    abs_mag_max = np.max(data_f[\"ABS_MAG_R\"])\n",
    "    abs_mag_min = np.min(data_f[\"ABS_MAG_R\"])\n",
    "\n",
    "    bins = np.arange(abs_mag_min, abs_mag_max, 0.5)\n",
    "\n",
    "    hist, bins = np.histogram(data_f[\"ABS_MAG_R\"], bins =  bins)\n",
    "    #print(hist[:])\n",
    "    # normalize our histogram to our volume\n",
    "    volume = V_dat(data_f)\n",
    "    hist = hist/(volume)\n",
    "    #print(hist[:])\n",
    "    #print(bins)\n",
    "    print(volume)\n",
    "    \n",
    "    #hist = hist/(area_99.to_value(u.deg**2)*(data_max_dist-data_min_dist).value*10**0) # completely wrong normalization\n",
    "    \n",
    "    print(f\"{abs_mag_min}, {abs_mag_max}, {data_min_dist}, {data_max_dist}\")\n",
    "    \n",
    "    fig, ax = plt.subplots(figsize = (5,2.5))\n",
    "    bins_center = bins[1:]-(bins[1]-bins[2])/2\n",
    "    ax.plot(bins_center, hist, label = \"normalized distribution\")\n",
    "    ax.plot(np.linspace(-25,-8), schechter_model(np.linspace(-25,-8)),  label = \"some schechter fit\", color = \"red\")\n",
    "\n",
    "    ax.set_yscale(\"log\")\n",
    "    plt.show()"
   ]
  },
  {
   "cell_type": "code",
   "execution_count": 368,
   "metadata": {},
   "outputs": [
    {
     "data": {
      "text/plain": [
       "(numpy.ndarray, 1846291.1437220573)"
      ]
     },
     "execution_count": 368,
     "metadata": {},
     "output_type": "execute_result"
    }
   ],
   "source": [
    "type(hist), 246831256.82765186 - 244984965.6839298"
   ]
  },
  {
   "cell_type": "code",
   "execution_count": 369,
   "metadata": {},
   "outputs": [
    {
     "name": "stdout",
     "output_type": "stream",
     "text": [
      "(803771.5657783664, 0.0006670474540442228)\n",
      "(924272.0726096857, 0.005902445979669296)\n",
      "0.8696265846363986\n"
     ]
    }
   ],
   "source": [
    "bins_center = bins[1:]-np.abs(bins[1]-bins[0])/2\n",
    "\n",
    "if modeled_search:\n",
    "    def hist_func(M):\n",
    "        # https://stackoverflow.com/questions/2566412/find-nearest-value-in-numpy-array\n",
    "        # make sure array is a numpy array\n",
    "        # array = np.array(array)\n",
    "        idx = (np.abs(bins_center - M)).argmin()\n",
    "        #print(idx)\n",
    "        val = hist[idx]\n",
    "        #print(f\"val {val}\")\n",
    "        return val\n",
    "\n",
    "    def num_func(M):\n",
    "        #print(f\"M is {M}\")\n",
    "        schechter_val = schechter_model(M)\n",
    "        #print(f\"schechter Val: {schechter_val}\")\n",
    "        lum_factor = 10**(-0.4*M)\n",
    "        #print(f\"lum factor {lum_factor}\")\n",
    "        hist_val = hist_func(M)\n",
    "        #print(f\"hist val {hist_val}\")\n",
    "        weighting_coverage = (1-hist_val/(schechter_val))\n",
    "        #print(f\"weighting_coverage: {weighting_coverage}\")\n",
    "        final_val = lum_factor*weighting_coverage*schechter_val\n",
    "        #print(f\"final value: {final_val}\")\n",
    "        return final_val\n",
    "    def denom_func(M):\n",
    "        lum_factor = 10**(-0.4*M)\n",
    "        schechter_val = schechter_model(M)\n",
    "        final_val = lum_factor*schechter_val\n",
    "\n",
    "        return final_val\n",
    "\n",
    "    lower_int_limit = -28\n",
    "    upper_int_limit = 100\n",
    "\n",
    "\n",
    "    numerator = quad(num_func, lower_int_limit, upper_int_limit, limit = 1000)\n",
    "    denominator = quad(denom_func, lower_int_limit, upper_int_limit)\n",
    "\n",
    "    print(f\"num: {numerator}\")\n",
    "    print(f\"denom: {denominator}”)\n",
    "\n",
    "    f_missed = numerator[0]/denominator[0]\n",
    "\n",
    "    print(\"fraction missed: \", f_missed)\n",
    "    P_gal = P_gal*(1-f_missed)"
   ]
  },
  {
   "cell_type": "code",
   "execution_count": 298,
   "metadata": {},
   "outputs": [],
   "source": [
    "data_f = hstack([data_f, Table({\"P_GAL\": P_gal.value})])"
   ]
  },
  {
   "cell_type": "code",
   "execution_count": 299,
   "metadata": {},
   "outputs": [
    {
     "data": {
      "text/html": [
       "<div><i>Table length=349491</i>\n",
       "<table id=\"table139960321142944\" class=\"table-striped table-bordered table-condensed\">\n",
       "<thead><tr><th>TARGETID</th><th>TARGET_RA</th><th>TARGET_DEC</th><th>LASTNIGHT</th><th>Z</th><th>ZERR</th><th>ZWARN</th><th>FLUX_G</th><th>FLUX_R</th><th>FLUX_Z</th><th>SPECTYPE</th><th>BGS_TARGET</th><th>EBV</th><th>SERSIC</th><th>UNIQ</th><th>PROBDENSITY</th><th>DISTMU</th><th>DISTSIGMA</th><th>DISTNORM</th><th>DIST_Z_MEAN</th><th>DIST_Z_ERR</th><th>DIST_Z_COSMO_SIGMA</th><th>MW_TRANSMISSION</th><th>APP_MAG_R</th><th>ABS_MAG_R</th><th>LUM_R</th><th>P_GAL</th></tr></thead>\n",
       "<thead><tr><th></th><th></th><th></th><th></th><th></th><th></th><th></th><th></th><th></th><th></th><th></th><th></th><th></th><th></th><th></th><th></th><th>Mpc</th><th>Mpc</th><th>1 / Mpc2</th><th>Mpc</th><th>Mpc</th><th>Mpc</th><th></th><th></th><th></th><th>W</th><th></th></tr></thead>\n",
       "<thead><tr><th>int64</th><th>float64</th><th>float64</th><th>int64</th><th>float64</th><th>float64</th><th>int64</th><th>float64</th><th>float64</th><th>float64</th><th>bytes6</th><th>int64</th><th>float64</th><th>float64</th><th>int64</th><th>float64</th><th>float64</th><th>float64</th><th>float64</th><th>float64</th><th>float64</th><th>float64</th><th>float64</th><th>float64</th><th>float64</th><th>float64</th><th>float64</th></tr></thead>\n",
       "<tr><td>39628124136145339</td><td>255.212694565265</td><td>13.9385530049287</td><td>20220414</td><td>0.121252019797011</td><td>3.72593846986427e-05</td><td>0</td><td>18.810037612915</td><td>50.1103477478027</td><td>100.203422546387</td><td>GALAXY</td><td>131074</td><td>0.0977264419198036</td><td>6.0</td><td>778896</td><td>0.0021131874834380182</td><td>348.11768198463994</td><td>96.90734143253631</td><td>7.658329708258471e-06</td><td>561.2934497463787</td><td>0.15846483248116022</td><td>52.60667980816652</td><td>0.8221269878280241</td><td>18.03752872088115</td><td>-20.79824696145714</td><td>1.1249482573048362e+36</td><td>1.6074632364634017e-06</td></tr>\n",
       "<tr><td>39628124136146105</td><td>255.248714879469</td><td>13.9410395609583</td><td>20230520</td><td>0.106389313663427</td><td>3.68723280980261e-05</td><td>0</td><td>1.06516814231873</td><td>1.61002469062805</td><td>2.95359563827515</td><td>GALAXY</td><td>0</td><td>0.0995460897684097</td><td>4.0</td><td>778896</td><td>0.0021131874834380182</td><td>348.11768198463994</td><td>96.90734143253631</td><td>7.658329708258471e-06</td><td>487.78065182886996</td><td>0.15681862748678393</td><td>45.32858899992206</td><td>0.8191342466846276</td><td>21.76630636808541</td><td>-16.764554872256937</td><td>2.7394016409920094e+34</td><td>3.082393561733062e-07</td></tr>\n",
       "<tr><td>39628124131955365</td><td>255.118070202737</td><td>13.9699892139303</td><td>20220414</td><td>0.0983004957974879</td><td>7.07943779530607e-06</td><td>0</td><td>17.485294342041</td><td>29.658540725708</td><td>45.9855537414551</td><td>GALAXY</td><td>131074</td><td>0.0877994820475578</td><td>1.11651849746704</td><td>778896</td><td>0.0021131874834380182</td><td>348.11768198463994</td><td>96.90734143253631</td><td>7.658329708258471e-06</td><td>448.30453863262437</td><td>0.03010828268326563</td><td>41.46524721998183</td><td>0.8386472569516249</td><td>18.628573879952917</td><td>-19.718981261111992</td><td>4.1631903395222136e+35</td><td>1.0589733341555016e-05</td></tr>\n",
       "<tr><td>39628124136147233</td><td>255.295834282954</td><td>14.0196014124657</td><td>20210619</td><td>0.0982064877175249</td><td>2.23827009390563e-06</td><td>0</td><td>27.8545799255371</td><td>49.3215065002441</td><td>81.0267791748047</td><td>GALAXY</td><td>131074</td><td>0.102888539433479</td><td>0.690496563911438</td><td>778896</td><td>0.0021131874834380182</td><td>348.11768198463994</td><td>96.90734143253631</td><td>7.658329708258471e-06</td><td>447.84797323177384</td><td>0.009519148511562128</td><td>41.420752200177944</td><td>0.8136653375425213</td><td>18.043523704618774</td><td>-20.301818249393722</td><td>7.121329198858499e+35</td><td>1.8261256689098816e-05</td></tr>\n",
       "<tr><td>39628124136148270</td><td>255.342156662952</td><td>14.0093148326704</td><td>20210619</td><td>0.106503555627361</td><td>4.78152139253946e-05</td><td>0</td><td>17.9336280822754</td><td>53.0025596618652</td><td>134.591522216797</td><td>GALAXY</td><td>131074</td><td>0.107131458818913</td><td>1.57255470752716</td><td>778896</td><td>0.0021131874834380182</td><td>348.11768198463994</td><td>96.90734143253631</td><td>7.658329708258471e-06</td><td>488.3408925041366</td><td>0.2033606019203023</td><td>45.3836456730434</td><td>0.8067756431754245</td><td>17.95613983669389</td><td>-20.57721470225638</td><td>9.177399632237532e+35</td><td>1.0191397642849886e-05</td></tr>\n",
       "<tr><td>39628135855034121</td><td>255.184807504955</td><td>14.377103499462</td><td>20220414</td><td>0.0788137550943767</td><td>1.32316514689944e-05</td><td>0</td><td>12.7832002639771</td><td>19.3981666564941</td><td>26.7216205596924</td><td>GALAXY</td><td>131074</td><td>0.109349094331264</td><td>1.34372687339783</td><td>778899</td><td>0.0021122353900409965</td><td>347.6996478173338</td><td>96.52019373680466</td><td>7.679841299678582e-06</td><td>354.7690542534235</td><td>0.05627341955401417</td><td>32.44070802882583</td><td>0.8031978703641528</td><td>19.04265465526428</td><td>-18.79664166927659</td><td>1.780288680041227e+35</td><td>1.1508486419297775e-05</td></tr>\n",
       "<tr><td>39628135859224910</td><td>255.310994357017</td><td>14.3893471635262</td><td>20210619</td><td>0.131329175322067</td><td>9.91664173421569e-05</td><td>0</td><td>8.95203971862793</td><td>23.1587162017822</td><td>45.2628021240234</td><td>GALAXY</td><td>131074</td><td>0.101085543632507</td><td>3.0636203289032</td><td>778899</td><td>0.0021122353900409965</td><td>347.6996478173338</td><td>96.52019373680466</td><td>7.679841299678582e-06</td><td>611.8474251297844</td><td>0.4217764786022584</td><td>57.67349818181985</td><td>0.8166108441525334</td><td>18.868251655291015</td><td>-20.154847285425493</td><td>6.219746392057985e+35</td><td>1.4671413362714886e-07</td></tr>\n",
       "<tr><td>39628129995593221</td><td>255.168086792388</td><td>14.2621603810544</td><td>20220414</td><td>0.0538482500282405</td><td>3.82450445986361e-05</td><td>0</td><td>10.8749437332153</td><td>24.0431785583496</td><td>42.6610908508301</td><td>GALAXY</td><td>131074</td><td>0.110019594430923</td><td>4.0</td><td>778899</td><td>0.0021122353900409965</td><td>347.6996478173338</td><td>96.52019373680466</td><td>7.679841299678582e-06</td><td>238.23730999361965</td><td>0.1626569840895675</td><td>21.461912143808924</td><td>0.8021192609733244</td><td>18.808117658112135</td><td>-18.166334802969832</td><td>9.962485077008421e+34</td><td>1.956578976120582e-06</td></tr>\n",
       "<tr><td>39628129999782391</td><td>255.21277279335</td><td>14.2123792300539</td><td>20220414</td><td>0.132698909487745</td><td>3.87353413397052e-05</td><td>0</td><td>19.6619033813477</td><td>47.6156349182129</td><td>95.4403839111328</td><td>GALAXY</td><td>131074</td><td>0.113923139870167</td><td>1.19280695915222</td><td>778899</td><td>0.0021122353900409965</td><td>347.6996478173338</td><td>96.52019373680466</td><td>7.679841299678582e-06</td><td>618.762860513628</td><td>0.16474228814315428</td><td>58.370444323676786</td><td>0.795868469086858</td><td>18.05772929841558</td><td>-20.989782845751257</td><td>1.341982649826251e+36</td><td>2.4430633729970307e-07</td></tr>\n",
       "<tr><td>...</td><td>...</td><td>...</td><td>...</td><td>...</td><td>...</td><td>...</td><td>...</td><td>...</td><td>...</td><td>...</td><td>...</td><td>...</td><td>...</td><td>...</td><td>...</td><td>...</td><td>...</td><td>...</td><td>...</td><td>...</td><td>...</td><td>...</td><td>...</td><td>...</td><td>...</td><td>...</td></tr>\n",
       "<tr><td>39633200703606798</td><td>251.877424684551</td><td>47.0124254204453</td><td>20230430</td><td>0.118218481618887</td><td>0.000108994400583793</td><td>0</td><td>5.93187999725342</td><td>13.5200262069702</td><td>23.2912578582764</td><td>GALAXY</td><td>257</td><td>0.0229837764054537</td><td>1.0</td><td>26392</td><td>1.8694869251239467e-05</td><td>66.83853089504719</td><td>204.05050039058474</td><td>2.93019219017708e-05</td><td>546.1871312545211</td><td>0.4635805189050609</td><td>51.102318984079</td><td>0.9549814176478031</td><td>19.622543468954554</td><td>-19.15397207877944</td><td>2.4741304491966418e+35</td><td>3.82563975363374e-10</td></tr>\n",
       "<tr><td>39633200703606908</td><td>251.885141046263</td><td>47.0819973665862</td><td>20230430</td><td>0.0807656698293732</td><td>5.00565510042193e-05</td><td>0</td><td>18.9106998443604</td><td>43.6000137329102</td><td>78.0872268676758</td><td>GALAXY</td><td>514</td><td>0.0256096459925175</td><td>2.33526206016541</td><td>26392</td><td>1.8694869251239467e-05</td><td>66.83853089504719</td><td>204.05050039058474</td><td>2.93019219017708e-05</td><td>364.03739420780045</td><td>0.21289348969726868</td><td>33.32666786501898</td><td>0.9499688486005585</td><td>18.345556845169106</td><td>-19.5497532616221</td><td>3.562337538443674e+35</td><td>1.277540352185993e-08</td></tr>\n",
       "<tr><td>39633200703606938</td><td>251.88759600597</td><td>47.0690529409868</td><td>20230408</td><td>0.119177311607106</td><td>8.89822379698207e-06</td><td>0</td><td>8.90129947662354</td><td>15.1154890060425</td><td>21.4177951812744</td><td>GALAXY</td><td>514</td><td>0.0253535080701113</td><td>1.9652179479599</td><td>26392</td><td>1.8694869251239467e-05</td><td>66.83853089504719</td><td>204.05050039058474</td><td>2.93019219017708e-05</td><td>550.9562535461264</td><td>0.03784348660687449</td><td>51.5767659265099</td><td>0.9504566345582045</td><td>19.49627526208578</td><td>-19.29912412395835</td><td>2.8280260934397944e+35</td><td>3.9622978797767997e-10</td></tr>\n",
       "<tr><td>39633200703607000</td><td>251.892974257785</td><td>47.1144976782339</td><td>20230430</td><td>0.117940373502248</td><td>6.60140324827211e-06</td><td>0</td><td>37.4882164001465</td><td>70.0272521972656</td><td>112.494186401367</td><td>GALAXY</td><td>514</td><td>0.0262309536337852</td><td>1.17199468612671</td><td>26392</td><td>1.8694869251239467e-05</td><td>66.83853089504719</td><td>204.05050039058474</td><td>2.93019219017708e-05</td><td>544.8048246596155</td><td>0.028075229757446446</td><td>50.964886813342794</td><td>0.948786677699516</td><td>17.829753731442498</td><td>-20.94125760494457</td><td>1.2833254431595218e+36</td><td>2.041523700342259e-09</td></tr>\n",
       "<tr><td>39633200703607034</td><td>251.895167937928</td><td>46.9808241799389</td><td>20230408</td><td>0.0836380487168846</td><td>1.28336615493936e-05</td><td>0</td><td>54.2106513977051</td><td>85.8326568603516</td><td>117.920883178711</td><td>GALAXY</td><td>514</td><td>0.0217542257159948</td><td>1.0</td><td>26392</td><td>1.8694869251239467e-05</td><td>66.83853089504719</td><td>204.05050039058474</td><td>2.93019219017708e-05</td><td>377.7174325937176</td><td>0.05458077573737937</td><td>34.63770302389167</td><td>0.9573376121596834</td><td>17.618531415177955</td><td>-20.356902069627566</td><td>7.491945173637494e+35</td><td>2.21978523322045e-08</td></tr>\n",
       "<tr><td>39633213001304533</td><td>251.653306647407</td><td>47.7207834819278</td><td>20230510</td><td>0.109886549059091</td><td>2.96902235750019e-05</td><td>0</td><td>55.3906860351562</td><td>138.771408081055</td><td>265.893402099609</td><td>GALAXY</td><td>514</td><td>0.020922539755702</td><td>4.39922094345093</td><td>26392</td><td>1.8694869251239467e-05</td><td>66.83853089504719</td><td>204.05050039058474</td><td>2.93019219017708e-05</td><td>504.9649927853164</td><td>0.1262723248733324</td><td>47.02023671227958</td><td>0.958934671537249</td><td>17.098722565999694</td><td>-21.507343041582644</td><td>2.1615783372170444e+36</td><td>7.586006098501497e-09</td></tr>\n",
       "<tr><td>39633213001304792</td><td>251.670875756791</td><td>47.6642142213697</td><td>20230528</td><td>0.0388324492824302</td><td>7.5627945623812e-07</td><td>0</td><td>105.451248168945</td><td>168.507843017578</td><td>246.122756958008</td><td>GALAXY</td><td>514</td><td>0.0221481323242188</td><td>4.57521104812622</td><td>26392</td><td>1.8694869251239467e-05</td><td>66.83853089504719</td><td>204.05050039058474</td><td>2.93019219017708e-05</td><td>169.97524829851716</td><td>0.0032163805122296988</td><td>15.173224349162235</td><td>0.9565821346453126</td><td>16.88525536543601</td><td>-19.35597359938445</td><td>2.9800476093257158e+35</td><td>6.613119644737294e-08</td></tr>\n",
       "<tr><td>39633200707798333</td><td>252.013413679411</td><td>46.9989790297356</td><td>20230430</td><td>0.114716167212451</td><td>2.68656786588119e-05</td><td>0</td><td>4.56062412261963</td><td>9.50573921203613</td><td>16.1921710968018</td><td>GALAXY</td><td>257</td><td>0.0231286324560642</td><td>0.5</td><td>26392</td><td>1.8694869251239467e-05</td><td>66.83853089504719</td><td>204.05050039058474</td><td>2.93019219017708e-05</td><td>528.8113057496705</td><td>0.11425930770629718</td><td>49.37752558637916</td><td>0.9547042113500981</td><td>20.004707357415484</td><td>-18.701584065740292</td><td>1.631050429607402e+35</td><td>3.5883225408384175e-10</td></tr>\n",
       "<tr><td>39633200707798824</td><td>252.048761428915</td><td>47.0134341845421</td><td>20230430</td><td>0.0826816321762935</td><td>6.72680322701153e-06</td><td>0</td><td>7.4575629234314</td><td>15.9648246765137</td><td>28.8547096252441</td><td>GALAXY</td><td>514</td><td>0.0234804712235928</td><td>1.0</td><td>26392</td><td>1.8694869251239467e-05</td><td>66.83853089504719</td><td>204.05050039058474</td><td>2.93019219017708e-05</td><td>373.1569701877952</td><td>0.028608548372215718</td><td>34.20020416432002</td><td>0.9540312440085587</td><td>19.440996110767472</td><td>-18.508053967144875</td><td>1.3647570597240181e+35</td><td>4.313123138801096e-09</td></tr>\n",
       "<tr><td>39633200707798875</td><td>252.051585491044</td><td>47.0129019170264</td><td>20230510</td><td>0.118171961065792</td><td>1.83415835666037e-05</td><td>0</td><td>33.423583984375</td><td>79.9430084228516</td><td>154.838195800781</td><td>GALAXY</td><td>514</td><td>0.02344024553895</td><td>1.73885810375214</td><td>26392</td><td>1.8694869251239467e-05</td><td>66.83853089504719</td><td>204.05050039058474</td><td>2.93019219017708e-05</td><td>545.9558752908333</td><td>0.07800595826402541</td><td>51.079324343102236</td><td>0.9541081602616461</td><td>17.6920428066007</td><td>-21.0835528730363</td><td>1.4630356605211524e+36</td><td>2.272972378200628e-09</td></tr>\n",
       "</table></div>"
      ],
      "text/plain": [
       "<Table length=349491>\n",
       "     TARGETID        TARGET_RA     ...         P_GAL         \n",
       "                                   ...                       \n",
       "      int64           float64      ...        float64        \n",
       "----------------- ---------------- ... ----------------------\n",
       "39628124136145339 255.212694565265 ... 1.6074632364634017e-06\n",
       "39628124136146105 255.248714879469 ...  3.082393561733062e-07\n",
       "39628124131955365 255.118070202737 ... 1.0589733341555016e-05\n",
       "39628124136147233 255.295834282954 ... 1.8261256689098816e-05\n",
       "39628124136148270 255.342156662952 ... 1.0191397642849886e-05\n",
       "39628135855034121 255.184807504955 ... 1.1508486419297775e-05\n",
       "39628135859224910 255.310994357017 ... 1.4671413362714886e-07\n",
       "39628129995593221 255.168086792388 ...  1.956578976120582e-06\n",
       "39628129999782391  255.21277279335 ... 2.4430633729970307e-07\n",
       "              ...              ... ...                    ...\n",
       "39633200703606798 251.877424684551 ...   3.82563975363374e-10\n",
       "39633200703606908 251.885141046263 ...  1.277540352185993e-08\n",
       "39633200703606938  251.88759600597 ... 3.9622978797767997e-10\n",
       "39633200703607000 251.892974257785 ...  2.041523700342259e-09\n",
       "39633200703607034 251.895167937928 ...   2.21978523322045e-08\n",
       "39633213001304533 251.653306647407 ...  7.586006098501497e-09\n",
       "39633213001304792 251.670875756791 ...  6.613119644737294e-08\n",
       "39633200707798333 252.013413679411 ... 3.5883225408384175e-10\n",
       "39633200707798824 252.048761428915 ...  4.313123138801096e-09\n",
       "39633200707798875 252.051585491044 ...  2.272972378200628e-09"
      ]
     },
     "execution_count": 299,
     "metadata": {},
     "output_type": "execute_result"
    }
   ],
   "source": [
    "data_f[:]"
   ]
  },
  {
   "cell_type": "markdown",
   "metadata": {
    "tags": []
   },
   "source": [
    "## Analyse the data: How much luminosity do we cover? Which galaxies should we observe?\n",
    "\n",
    "Lets look into what information we can retrieve from here. First we define, how many galaxies we could observe (N_galaxies).\n",
    "\n",
    "We then calculate the luminosity (lum) from all the galaxies in this area, i.e. the total luminosity. From there do some comparison between the covered luminosity and total luminosity depending on the ranking by probability:\n",
    "- simple \"Maximum lum that could be covered\" by looking at the brightest galaxies\n",
    "- Calculate the probability this way (done above) (from https://arxiv.org/pdf/1710.05452.pdf w/o normalization), both using a static and variable distance and error: $$P_{gal} = k^{-1}L_r(1-f_{missed})\\cdot P_{2D}\\frac{e^{-\\frac{\\left(D_{LVC}-D_{desi}\\right)^2}{\\sigma_{D,desi}^2+\\sigma_{D,cosmo}^2+\\sigma_{D,LVC}^2}}}{\\sqrt{2\\pi \\left(\\sigma_{D,desi}^2+\\sigma_{D,cosmo}^2+\\sigma_{D,LVC}^2\\right)}}$$\n",
    "- others may follow...\n",
    "\n",
    "Since we have the actual luminosity (here in r-band though), we don't need to again calculate the $$\\tilde{L}_{gal}$$ values. In the mentioned paper, they only use a fixed distance and error for the LIGO data. I will try both, to get an idea what the differences are."
   ]
  },
  {
   "cell_type": "code",
   "execution_count": 300,
   "metadata": {},
   "outputs": [],
   "source": [
    "N_galaxies = 20 # how many galaxies we can cover"
   ]
  },
  {
   "cell_type": "code",
   "execution_count": 301,
   "metadata": {},
   "outputs": [],
   "source": [
    "total_lum = np.sum(data_f[\"LUM_R\"])"
   ]
  },
  {
   "cell_type": "markdown",
   "metadata": {
    "tags": []
   },
   "source": [
    "### Compare lum with luminosity ranking\n",
    "\n",
    "https://iopscience.iop.org/article/10.3847/0067-0049/226/1/10"
   ]
  },
  {
   "cell_type": "code",
   "execution_count": 302,
   "metadata": {},
   "outputs": [],
   "source": [
    "data_sort_by_lums = data_f.group_by(\"LUM_R\")\n",
    "data_sort_by_lums = data_sort_by_lums[::-1]"
   ]
  },
  {
   "cell_type": "code",
   "execution_count": 303,
   "metadata": {},
   "outputs": [],
   "source": [
    "lum_after_N_highest = np.sum(data_sort_by_lums[\"LUM_R\"][:N_galaxies])"
   ]
  },
  {
   "cell_type": "code",
   "execution_count": 304,
   "metadata": {},
   "outputs": [
    {
     "name": "stdout",
     "output_type": "stream",
     "text": [
      "The theoretical maximum luminosity we could cover is 4.2229849727585e+38, i.e. 0.14310935673833391 % of the total luminosity\n",
      "The TARGETID values of these galaxies are: \n",
      "      TARGETID    \n",
      "-----------------\n",
      "39627999426906400\n",
      "39628481469876698\n",
      "39627903641588557\n",
      "39633001327364403\n",
      "39627861295896133\n",
      "39633030666521563\n",
      "39628523106733547\n",
      "39628029260993224\n",
      "39628449798686663\n",
      "39628486989580909\n",
      "39628502575614965\n",
      "39628082981641725\n",
      "39628199675563994\n",
      "39628396136761385\n",
      "39632951536781291\n",
      "39627999376576128\n",
      "39628385235764589\n",
      "39628507831075716\n",
      "39628199977556800\n",
      "39628170550313759\n"
     ]
    }
   ],
   "source": [
    "print(f\"The theoretical maximum luminosity we could cover is {lum_after_N_highest}, i.e. {lum_after_N_highest*100/total_lum} % of the total luminosity\")\n",
    "print(\"The TARGETID values of these galaxies are: \\n\", data_sort_by_lums[\"TARGETID\"][:N_galaxies])"
   ]
  },
  {
   "cell_type": "markdown",
   "metadata": {
    "tags": []
   },
   "source": [
    "### Compare lum with P_Gal ranking"
   ]
  },
  {
   "cell_type": "code",
   "execution_count": 305,
   "metadata": {},
   "outputs": [],
   "source": [
    "data_sort_by_PGal = data_f.group_by(\"P_GAL\")\n",
    "data_sort_by_PGal = data_sort_by_PGal[::-1]\n",
    "\n",
    "lum_after_N_PGal = np.sum(data_sort_by_PGal[\"LUM_R\"][:N_galaxies])\n",
    "lum_after_10_PGal = np.sum(data_sort_by_PGal[\"LUM_R\"][:10])"
   ]
  },
  {
   "cell_type": "code",
   "execution_count": 306,
   "metadata": {},
   "outputs": [
    {
     "name": "stdout",
     "output_type": "stream",
     "text": [
      "The luminosity we cover when observing 20 galaxies ranked by P_gal is 1.9620957618240855e+38W, i.e. 0.06649189238062532% of the total (DESI) luminosity in the search area\n",
      "The luminosity we cover when observing 10 galaxies ranked by P_gal is 1.11181381757013e+38W, i.e. 0.037677368323979527% of the total (DESI) luminosity in the search area\n",
      "The TARGETID values of these galaxies are: \n",
      "    TARGET_RA        TARGET_DEC    ...      TARGETID             P_GAL         \n",
      "---------------- ---------------- ... ----------------- ----------------------\n",
      "265.326310051148 17.3680904332897 ... 39628199977556800  0.0005474204935733458\n",
      " 265.40938815438 17.3381757337907 ... 39628199977560355  0.0005377401620054137\n",
      " 246.52056982443  17.344998821013 ... 39628199675563994  0.0005036143766161639\n",
      "254.767805634622 16.7154836532888 ... 39628188246084847  0.0004669429581590511\n",
      "257.661269256819 13.9138861225969 ... 39628124173898050 0.00046037938450991015\n",
      "257.422913505006 16.0166973513451 ... 39628170894246467  0.0004476767827751304\n",
      "251.779576523619 11.8386451573615 ... 39628071044648565 0.00043530769142915385\n",
      "254.173934527909 8.05048884565631 ... 39627981768886031  0.0004277401939775864\n",
      "252.831530043548 17.3804410287282 ... 39628205551782379 0.00042102618713261443\n",
      "253.049571825563 18.7473479236565 ... 39628234299540745  0.0004024267482629044\n",
      "253.488905556052 6.50194670274065 ... 39627945773369602  0.0004015744038934271\n",
      "253.015621397757 17.3736976726451 ... 39628199780420863  0.0004004204537155787\n",
      " 250.81918272188 11.6289869757611 ... 39628071027872341 0.00039760684337388733\n",
      "251.322121803138 17.6879478988068 ... 39628211293783421  0.0003959787855253662\n",
      "251.776575545376 12.9177094116329 ... 39628100564163263 0.00039189900723274226\n",
      "247.011594654594 11.5434607847655 ... 39628065042600527 0.00038499756841278997\n",
      "251.599222580502 11.7412438407121 ... 39628071040456967  0.0003775080273493121\n",
      "256.694153107259 17.0841567778621 ... 39628194059391117  0.0003752202270132989\n",
      "249.855897064542 11.8585426912321 ... 39628071011096418  0.0003720646810262835\n",
      "254.511354331416 18.4177746479351 ... 39628228591092623  0.0003701104320723909\n"
     ]
    }
   ],
   "source": [
    "print(f\"The luminosity we cover when observing {N_galaxies} galaxies ranked by P_gal is {lum_after_N_PGal}W, i.e. {lum_after_N_PGal*100/total_lum}% of the total (DESI) luminosity in the search area\")\n",
    "print(f\"The luminosity we cover when observing 10 galaxies ranked by P_gal is {lum_after_10_PGal}W, i.e. {lum_after_10_PGal*100/total_lum}% of the total (DESI) luminosity in the search area\") \n",
    "\n",
    "print(\"The TARGETID values of these galaxies are: \\n\", data_sort_by_PGal[\"TARGET_RA\", \"TARGET_DEC\", \"SERSIC\", \"TARGETID\", \"P_GAL\"][:N_galaxies])\n"
   ]
  },
  {
   "cell_type": "code",
   "execution_count": 307,
   "metadata": {},
   "outputs": [
    {
     "data": {
      "text/html": [
       "<div><i>Table length=20</i>\n",
       "<table id=\"table139960321509600\" class=\"table-striped table-bordered table-condensed\">\n",
       "<thead><tr><th>TARGET_RA</th><th>TARGET_DEC</th><th>SERSIC</th><th>TARGETID</th><th>P_GAL</th></tr></thead>\n",
       "<thead><tr><th>float64</th><th>float64</th><th>float64</th><th>int64</th><th>float64</th></tr></thead>\n",
       "<tr><td>265.326310051148</td><td>17.3680904332897</td><td>3.03016972541809</td><td>39628199977556800</td><td>0.0005474204935733458</td></tr>\n",
       "<tr><td>265.40938815438</td><td>17.3381757337907</td><td>4.73151159286499</td><td>39628199977560355</td><td>0.0005377401620054137</td></tr>\n",
       "<tr><td>246.52056982443</td><td>17.344998821013</td><td>4.33880043029785</td><td>39628199675563994</td><td>0.0005036143766161639</td></tr>\n",
       "<tr><td>254.767805634622</td><td>16.7154836532888</td><td>2.69091463088989</td><td>39628188246084847</td><td>0.0004669429581590511</td></tr>\n",
       "<tr><td>257.661269256819</td><td>13.9138861225969</td><td>5.89267778396606</td><td>39628124173898050</td><td>0.00046037938450991015</td></tr>\n",
       "<tr><td>257.422913505006</td><td>16.0166973513451</td><td>4.0</td><td>39628170894246467</td><td>0.0004476767827751304</td></tr>\n",
       "<tr><td>251.779576523619</td><td>11.8386451573615</td><td>4.38631629943848</td><td>39628071044648565</td><td>0.00043530769142915385</td></tr>\n",
       "<tr><td>254.173934527909</td><td>8.05048884565631</td><td>3.24157691001892</td><td>39627981768886031</td><td>0.0004277401939775864</td></tr>\n",
       "<tr><td>252.831530043548</td><td>17.3804410287282</td><td>3.84384679794312</td><td>39628205551782379</td><td>0.00042102618713261443</td></tr>\n",
       "<tr><td>253.049571825563</td><td>18.7473479236565</td><td>3.24479174613953</td><td>39628234299540745</td><td>0.0004024267482629044</td></tr>\n",
       "<tr><td>253.488905556052</td><td>6.50194670274065</td><td>4.0</td><td>39627945773369602</td><td>0.0004015744038934271</td></tr>\n",
       "<tr><td>253.015621397757</td><td>17.3736976726451</td><td>2.60505104064941</td><td>39628199780420863</td><td>0.0004004204537155787</td></tr>\n",
       "<tr><td>250.81918272188</td><td>11.6289869757611</td><td>4.19371509552002</td><td>39628071027872341</td><td>0.00039760684337388733</td></tr>\n",
       "<tr><td>251.322121803138</td><td>17.6879478988068</td><td>3.46916055679321</td><td>39628211293783421</td><td>0.0003959787855253662</td></tr>\n",
       "<tr><td>251.776575545376</td><td>12.9177094116329</td><td>3.48135256767273</td><td>39628100564163263</td><td>0.00039189900723274226</td></tr>\n",
       "<tr><td>247.011594654594</td><td>11.5434607847655</td><td>4.0</td><td>39628065042600527</td><td>0.00038499756841278997</td></tr>\n",
       "<tr><td>251.599222580502</td><td>11.7412438407121</td><td>4.27258253097534</td><td>39628071040456967</td><td>0.0003775080273493121</td></tr>\n",
       "<tr><td>256.694153107259</td><td>17.0841567778621</td><td>4.0</td><td>39628194059391117</td><td>0.0003752202270132989</td></tr>\n",
       "<tr><td>249.855897064542</td><td>11.8585426912321</td><td>4.31507921218872</td><td>39628071011096418</td><td>0.0003720646810262835</td></tr>\n",
       "<tr><td>254.511354331416</td><td>18.4177746479351</td><td>1.75713908672333</td><td>39628228591092623</td><td>0.0003701104320723909</td></tr>\n",
       "</table></div>"
      ],
      "text/plain": [
       "<Table length=20>\n",
       "   TARGET_RA        TARGET_DEC    ...      TARGETID             P_GAL         \n",
       "    float64          float64      ...       int64              float64        \n",
       "---------------- ---------------- ... ----------------- ----------------------\n",
       "265.326310051148 17.3680904332897 ... 39628199977556800  0.0005474204935733458\n",
       " 265.40938815438 17.3381757337907 ... 39628199977560355  0.0005377401620054137\n",
       " 246.52056982443  17.344998821013 ... 39628199675563994  0.0005036143766161639\n",
       "254.767805634622 16.7154836532888 ... 39628188246084847  0.0004669429581590511\n",
       "257.661269256819 13.9138861225969 ... 39628124173898050 0.00046037938450991015\n",
       "257.422913505006 16.0166973513451 ... 39628170894246467  0.0004476767827751304\n",
       "251.779576523619 11.8386451573615 ... 39628071044648565 0.00043530769142915385\n",
       "254.173934527909 8.05048884565631 ... 39627981768886031  0.0004277401939775864\n",
       "252.831530043548 17.3804410287282 ... 39628205551782379 0.00042102618713261443\n",
       "253.049571825563 18.7473479236565 ... 39628234299540745  0.0004024267482629044\n",
       "253.488905556052 6.50194670274065 ... 39627945773369602  0.0004015744038934271\n",
       "253.015621397757 17.3736976726451 ... 39628199780420863  0.0004004204537155787\n",
       " 250.81918272188 11.6289869757611 ... 39628071027872341 0.00039760684337388733\n",
       "251.322121803138 17.6879478988068 ... 39628211293783421  0.0003959787855253662\n",
       "251.776575545376 12.9177094116329 ... 39628100564163263 0.00039189900723274226\n",
       "247.011594654594 11.5434607847655 ... 39628065042600527 0.00038499756841278997\n",
       "251.599222580502 11.7412438407121 ... 39628071040456967  0.0003775080273493121\n",
       "256.694153107259 17.0841567778621 ... 39628194059391117  0.0003752202270132989\n",
       "249.855897064542 11.8585426912321 ... 39628071011096418  0.0003720646810262835\n",
       "254.511354331416 18.4177746479351 ... 39628228591092623  0.0003701104320723909"
      ]
     },
     "execution_count": 307,
     "metadata": {},
     "output_type": "execute_result"
    }
   ],
   "source": [
    "data_sort_by_PGal[\"TARGET_RA\", \"TARGET_DEC\", \"SERSIC\", \"TARGETID\", \"P_GAL\"][:20]"
   ]
  },
  {
   "cell_type": "code",
   "execution_count": 308,
   "metadata": {},
   "outputs": [],
   "source": [
    "P_Gal_cumsum = np.cumsum(data_sort_by_PGal[\"P_GAL\"])"
   ]
  },
  {
   "cell_type": "code",
   "execution_count": 309,
   "metadata": {},
   "outputs": [
    {
     "data": {
      "image/png": "[encoded data removed]",
      "text/plain": [
       "<Figure size 640x480 with 1 Axes>"
      ]
     },
     "metadata": {},
     "output_type": "display_data"
    }
   ],
   "source": [
    "plt.plot(list(range(len(P_Gal_cumsum))),  P_Gal_cumsum)\n",
    "plt.xscale(\"log\")\n",
    "\n",
    "plt.yscale(\"log\")\n",
    "plt.xlim(1,len(P_Gal_cumsum))\n",
    "plt.savefig(dpi = 100, fname = f\"{superevent_name}PGAL_CUMULATIVE099.png\")\n",
    "plt.show()"
   ]
  },
  {
   "cell_type": "code",
   "execution_count": 310,
   "metadata": {},
   "outputs": [
    {
     "data": {
      "text/plain": [
       "'data_sort_by_PGal_C = data_f.group_by(\"P_GAL_C\")\\ndata_sort_by_PGal_C = data_sort_by_PGal_C[::-1]\\n\\nlum_after_N_PGal_C = np.sum(data_sort_by_PGal_C[\"LUM_R\"][:N_galaxies])'"
      ]
     },
     "execution_count": 310,
     "metadata": {},
     "output_type": "execute_result"
    }
   ],
   "source": [
    "\"\"\"data_sort_by_PGal_C = data_f.group_by(\"P_GAL_C\")\n",
    "data_sort_by_PGal_C = data_sort_by_PGal_C[::-1]\n",
    "\n",
    "lum_after_N_PGal_C = np.sum(data_sort_by_PGal_C[\"LUM_R\"][:N_galaxies])\"\"\""
   ]
  },
  {
   "cell_type": "code",
   "execution_count": 311,
   "metadata": {},
   "outputs": [
    {
     "data": {
      "text/plain": [
       "'print(f\"The maximum luminosity we cover when ranked by P_gal_C is {lum_after_N_PGal_C}, i.e. {lum_after_N_PGal_C*100/total_lum}% of the total luminosity\") \\nprint(\"The TARGETID values of these galaxies are: \\n\", data_sort_by_PGal_C[\"TARGETID\", \"P_GAL\"][:N_galaxies])'"
      ]
     },
     "execution_count": 311,
     "metadata": {},
     "output_type": "execute_result"
    }
   ],
   "source": [
    "\"\"\"print(f\"The maximum luminosity we cover when ranked by P_gal_C is {lum_after_N_PGal_C}, i.e. {lum_after_N_PGal_C*100/total_lum}% of the total luminosity\") \n",
    "print(\"The TARGETID values of these galaxies are: \\n\", data_sort_by_PGal_C[\"TARGETID\", \"P_GAL\"][:N_galaxies])\"\"\""
   ]
  },
  {
   "cell_type": "markdown",
   "metadata": {
    "tags": []
   },
   "source": [
    "## Exclude unobservabe objects from the PGal ranking and export list\n",
    "\n",
    "We want to cut out galaxies that are not observable by Wendelstein. For this we need the date (to calculate alt and az; we do this for three times to check observability) and Wendelstein location."
   ]
  },
  {
   "cell_type": "code",
   "execution_count": 312,
   "metadata": {},
   "outputs": [],
   "source": [
    "# convert DEG:MIN:SEC to deg with decimals...\n",
    "def conv_to_deg(deg, arcmin, arcsec):\n",
    "    return (deg+ arcmin/60+ arcsec/3600)*u.deg"
   ]
  },
  {
   "cell_type": "markdown",
   "metadata": {
    "tags": []
   },
   "source": [
    "### Get the observable objects (i.e. alt > 0) in the next night and apply that selection to our data"
   ]
  },
  {
   "cell_type": "code",
   "execution_count": 313,
   "metadata": {},
   "outputs": [
    {
     "name": "stderr",
     "output_type": "stream",
     "text": [
      "/tmp/ipykernel_1244657/3580540673.py:18: DeprecationWarning: parsing timezone aware datetimes is deprecated; this will raise an error in the future\n",
      "  t = np.arange(sunset_time, sunrise_time, timedelta(minutes=45)).astype(datetime)              # this may throw a deprecation warning, but seems fine anyway: https://github.com/numpy/numpy/issues/23904\n"
     ]
    }
   ],
   "source": [
    "# set the timzone\n",
    "timezone = \"Europe/Berlin\"\n",
    "tz_Berlin = pytz.timezone(timezone)\n",
    "\n",
    "# get the date (and actually time, but that it useless for us) of today and tomorrow\n",
    "day_Berlin = datetime.now(tz_Berlin)\n",
    "tmrw_Berlin = day_Berlin + timedelta(hours = 23, minutes = 59, seconds = 59)\n",
    "\n",
    "# set the Wendelstein location\n",
    "Wendelstein_loc = EarthLocation(lat = conv_to_deg(47, 42, 13.1), lon = conv_to_deg(12, 0, 43.4), height = 1838*u.m) #check - or + 12\n",
    "\n",
    "# define the sun object, which will tell us sunrise and set\n",
    "sun = SunTimes(Wendelstein_loc.lon.to_value(), Wendelstein_loc.lat.to_value(), Wendelstein_loc.height.to_value())\n",
    "sunset_time = sun.setwhere(day_Berlin, timezone)\n",
    "sunrise_time = sun.risewhere(tmrw_Berlin, timezone)\n",
    "\n",
    "# get a time array that includes the sunset time and from there a 30min interval until sunset\n",
    "t = np.arange(sunset_time, sunrise_time, timedelta(minutes=45)).astype(datetime)              # this may throw a deprecation warning, but seems fine anyway: https://github.com/numpy/numpy/issues/23904\n",
    "\n",
    "# a little cheap but effective: observation at sunset is useless, start 1h after:\n",
    "t = t[2:]"
   ]
  },
  {
   "cell_type": "code",
   "execution_count": 314,
   "metadata": {},
   "outputs": [],
   "source": [
    "# get all the SkyCoords for each objects in the data catalog\n",
    "target_SkyCoord = SkyCoord(data_sort_by_PGal[\"TARGET_RA\"], data_sort_by_PGal[\"TARGET_DEC\"], unit = \"deg\")"
   ]
  },
  {
   "cell_type": "code",
   "execution_count": 315,
   "metadata": {},
   "outputs": [],
   "source": [
    "# get Alt for the different times during the night\n",
    "# t should be an array that consists of a couple of night times, so if *all* of these times don't have a positive alt it will be discarded\n",
    "target_Alt = [target_SkyCoord.transform_to(AltAz(obstime = time, location = Wendelstein_loc)).alt.value for time in t]\n",
    "\n",
    "# now turn it into a numpy array\n",
    "target_Alt = np.array(target_Alt)\n",
    "\n",
    "# swap the axes so that the first axis is all the different targets and the second then includes the alt per observing time\n",
    "target_Alt_swapped = np.swapaxes(target_Alt, 0,1)\n",
    "\n",
    "# now create the selection for each target in the P_Gal catalog\n",
    "sel = []\n",
    "for target in target_Alt_swapped:\n",
    "    sel.append((target > 0).any())\n",
    "    \n",
    "# now apply the selection to the dataset\n",
    "data_sort_by_PGal_observable = data_sort_by_PGal[sel]"
   ]
  },
  {
   "cell_type": "code",
   "execution_count": 316,
   "metadata": {},
   "outputs": [
    {
     "name": "stdout",
     "output_type": "stream",
     "text": [
      "There were 0 non-observable objects in the current dataset. \n",
      "We have 349491 objects remaining\n"
     ]
    }
   ],
   "source": [
    "print(f\"There were {len(data_sort_by_PGal) - len(data_sort_by_PGal_observable)} non-observable objects in the current dataset. \\nWe have {len(data_sort_by_PGal_observable)} objects remaining\")"
   ]
  },
  {
   "cell_type": "markdown",
   "metadata": {
    "tags": []
   },
   "source": [
    "### Export the final list & print some data"
   ]
  },
  {
   "cell_type": "code",
   "execution_count": 317,
   "metadata": {},
   "outputs": [
    {
     "name": "stdout",
     "output_type": "stream",
     "text": [
      "These are the stats for S230622ba follow up :\n"
     ]
    }
   ],
   "source": [
    "print(f\"These are the stats for {superevent_name} follow up :\")"
   ]
  },
  {
   "cell_type": "code",
   "execution_count": 318,
   "metadata": {},
   "outputs": [
    {
     "name": "stdout",
     "output_type": "stream",
     "text": [
      "Localization area: 2014.304748506801 deg2 \n",
      "Redshift range in data: 8.71930074830994e-07 to 0.217150027504453 \n",
      "corresponding lum distance range: 0.009377135933743331 Mpc to 840.3324257816807 Mpc \n",
      "highest prob location is at RA = 255.23437500000003 deg and dec = 14.015684425156824 deg \n",
      "total No. of objects in desi data is 349491\n"
     ]
    }
   ],
   "source": [
    "data_min_z = np.min(data_sort_by_PGal_observable[\"Z\"])\n",
    "data_max_z = np.max(data_sort_by_PGal_observable[\"Z\"])\n",
    "print(f\"Localization area: {area_99.to_value(u.deg**2)*u.deg**2} \\nRedshift range in data: {data_min_z} to {data_max_z} \\ncorresponding lum distance range: {data_min_dist} to {data_max_dist} \\nhighest prob location is at RA = {ra.deg*u.deg} and dec = {dec.deg*u.deg} \\ntotal No. of objects in desi data is {len(data_sort_by_PGal)}\")\n"
   ]
  },
  {
   "cell_type": "code",
   "execution_count": 319,
   "metadata": {},
   "outputs": [],
   "source": [
    "data_sort_by_PGal_observable[\"TARGET_RA\", \"TARGET_DEC\", \"SERSIC\", \"Z\", \"P_GAL\"][:N_galaxies].write(f'PGAL/PGAL_{superevent_name}.ecsv', delimiter=',', format='ascii', overwrite = False)\n"
   ]
  },
  {
   "cell_type": "code",
   "execution_count": 320,
   "metadata": {},
   "outputs": [],
   "source": [
    "# add timing data to table, "
   ]
  }
 ],
 "metadata": {
  "kernelspec": {
   "display_name": "Python (MambaTest)",
   "language": "python",
   "name": "mambatest"
  },
  "language_info": {
   "codemirror_mode": {
    "name": "ipython",
    "version": 3
   },
   "file_extension": ".py",
   "mimetype": "text/x-python",
   "name": "python",
   "nbconvert_exporter": "python",
   "pygments_lexer": "ipython3",
   "version": "3.10.10"
  }
 },
 "nbformat": 4,
 "nbformat_minor": 4
}
