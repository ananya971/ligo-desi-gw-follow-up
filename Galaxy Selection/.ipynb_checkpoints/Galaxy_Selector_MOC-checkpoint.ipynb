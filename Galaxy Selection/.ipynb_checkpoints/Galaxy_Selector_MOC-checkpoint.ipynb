{
 "cells": [
  {
   "cell_type": "markdown",
   "metadata": {
    "tags": []
   },
   "source": [
    "# Galaxy Selector MOC\n",
    "\n",
    "**Compared to the \"Simple Galaxy Selector, this works with Multi-Ordering-Sky-Maps**\n",
    "\n",
    "\n",
    "***NOTE (this note may be wrong, just copied from old notebook)***: Before anything can happen, download the GW event localization map. Open the terminal and type:\n",
    "\"curl -O https://gracedb.ligo.org/api/superevents/sid/files/bayestar.fits,0\"\n",
    "with sid = superevent ID (could be incorporated into this notebook)\n",
    "\n",
    "Select the galaxies to observe by WWFI in this simple manner:\n",
    "- get the LIGO event data\n",
    "- read the LIGO event data into the notebook, extract some information\n",
    "- read the DESI database into the notebook, \"clean\" the data\n",
    "- get the 99% credible regions for the event, add them as a column to the data\n",
    "- only keep data within the 99% region\n",
    "- calculate all the luminosities (& more)\n",
    "- rank them by luminosity (for now just print the TARGETID), 3D/2D localization and with a luminosity-distance 2D dependant counterpart likelihood\n",
    "\n",
    "Sources: \n",
    "- https://iopscience.iop.org/article/10.3847/0067-0049/226/1/10\n",
    "- https://emfollow.docs.ligo.org/userguide/tutorial/skymaps.html\n",
    "- https://emfollow.docs.ligo.org/userguide/tutorial/multiorder_skymaps.html\n",
    "- https://arxiv.org/pdf/1710.05452.pdf"
   ]
  },
  {
   "cell_type": "markdown",
   "metadata": {
    "tags": []
   },
   "source": [
    "## Import all libraries, load GW data and DESI data and extract basic info"
   ]
  },
  {
   "cell_type": "markdown",
   "metadata": {
    "tags": []
   },
   "source": [
    "### imports, GW data loading"
   ]
  },
  {
   "cell_type": "code",
   "execution_count": 56,
   "metadata": {},
   "outputs": [],
   "source": [
    "import numpy as np\n",
    "from scipy.stats import norm\n",
    "import scipy as sc\n",
    "\n",
    "from astropy.io import fits, ascii\n",
    "from astropy.table import Table, hstack\n",
    "from astropy import table\n",
    "\n",
    "import healpy as hp\n",
    "import astropy_healpix as ah\n",
    "\n",
    "from astropy.table import QTable\n",
    "\n",
    "import psycopg2\n",
    "\n",
    "from scipy.stats import norm\n",
    "\n",
    "\n",
    "from astropy.cosmology import Planck18, z_at_value\n",
    "from astropy.coordinates import Distance, SkyCoord\n",
    "from astropy import units as u\n",
    "\n",
    "import astropy.constants as asc\n",
    "\n",
    "import matplotlib.pyplot as plt\n",
    "\n",
    "import requests as rq\n",
    "\n",
    "import gasel as gs\n",
    "\n",
    "import shutil"
   ]
  },
  {
   "cell_type": "code",
   "execution_count": 57,
   "metadata": {},
   "outputs": [],
   "source": [
    "# specify the superevent name:\n",
    "superevent_name = \"S230606d\""
   ]
  },
  {
   "cell_type": "code",
   "execution_count": 58,
   "metadata": {},
   "outputs": [
    {
     "name": "stdout",
     "output_type": "stream",
     "text": [
      "read skymap from local file\n"
     ]
    }
   ],
   "source": [
    "pipeline_type = \"bayestar\"\n",
    "\n",
    "path = f\"/global/homes/j/jgassert/ligo-desi-gw-follow-up/Galaxy Selection/Files/{superevent_name}{pipeline_type}.multiorder.fits,1\"\n",
    "\n",
    "try:\n",
    "    skymap = QTable.read(path)\n",
    "    print(\"read skymap from local file\")\n",
    "    \n",
    "except:\n",
    "    download_url = f\"https://gracedb.ligo.org/api/superevents/{superevent_name}/files/{pipeline_type}.multiorder.fits,1\"\n",
    "    save_path = f\"Files/{superevent_name}{pipeline_type}.multiorder.fits,1\"\n",
    "    print(\"no local skymap...\")\n",
    "    print(f\"...will download LIGO event file from superevent {superevent_name}, corresponding file URL is {download_url} and save it in .../Files/\")\n",
    "    \n",
    "    response = rq.get(download_url, allow_redirects = True)\n",
    "    if response.status_code == 200:\n",
    "        with open(save_path, 'wb') as f:\n",
    "            #response.raw.decode_content = True\n",
    "            #shutil.copyfileobj(response.raw, f)\n",
    "            #print(response.content)\n",
    "            f.write(response.content)\n",
    "            \n",
    "        skymap = QTable.read(path)"
   ]
  },
  {
   "cell_type": "markdown",
   "metadata": {},
   "source": [
    "Specifiy the path where the data is located and then load the data (this loads everything, just have a look)"
   ]
  },
  {
   "cell_type": "code",
   "execution_count": 59,
   "metadata": {},
   "outputs": [
    {
     "data": {
      "text/html": [
       "<div><i>QTable length=5</i>\n",
       "<table id=\"table140407955836112\" class=\"table-striped table-bordered table-condensed\">\n",
       "<thead><tr><th>UNIQ</th><th>PROBDENSITY</th><th>DISTMU</th><th>DISTSIGMA</th><th>DISTNORM</th></tr></thead>\n",
       "<thead><tr><th></th><th>1 / sr</th><th>Mpc</th><th>Mpc</th><th>1 / Mpc2</th></tr></thead>\n",
       "<thead><tr><th>int64</th><th>float64</th><th>float64</th><th>float64</th><th>float64</th></tr></thead>\n",
       "<tr><td>1024</td><td>1.2439018051209007e-12</td><td>1431.935162557935</td><td>1615.1497007538044</td><td>2.2687792929848206e-07</td></tr>\n",
       "<tr><td>1025</td><td>1.2831151063111289e-12</td><td>-11.542192042367082</td><td>1903.880896755356</td><td>5.571296766300452e-07</td></tr>\n",
       "<tr><td>1026</td><td>1.2383456810306546e-12</td><td>1571.5171688111757</td><td>1586.2481086004777</td><td>2.0866579257699385e-07</td></tr>\n",
       "<tr><td>1027</td><td>1.3390360393801016e-12</td><td>63.220478573269084</td><td>1885.8786918282788</td><td>5.332155543407492e-07</td></tr>\n",
       "<tr><td>1028</td><td>1.6061680849530373e-12</td><td>-3826.821250199319</td><td>2506.670112434044</td><td>7.460848499254707e-06</td></tr>\n",
       "</table></div>"
      ],
      "text/plain": [
       "<QTable length=5>\n",
       " UNIQ      PROBDENSITY       ...     DISTSIGMA             DISTNORM       \n",
       "              1 / sr         ...        Mpc                1 / Mpc2       \n",
       "int64        float64         ...      float64              float64        \n",
       "----- ---------------------- ... ------------------ ----------------------\n",
       " 1024 1.2439018051209007e-12 ... 1615.1497007538044 2.2687792929848206e-07\n",
       " 1025 1.2831151063111289e-12 ...  1903.880896755356  5.571296766300452e-07\n",
       " 1026 1.2383456810306546e-12 ... 1586.2481086004777 2.0866579257699385e-07\n",
       " 1027 1.3390360393801016e-12 ... 1885.8786918282788  5.332155543407492e-07\n",
       " 1028 1.6061680849530373e-12 ...  2506.670112434044  7.460848499254707e-06"
      ]
     },
     "execution_count": 59,
     "metadata": {},
     "output_type": "execute_result"
    }
   ],
   "source": [
    "skymap[:5]"
   ]
  },
  {
   "cell_type": "markdown",
   "metadata": {
    "tags": []
   },
   "source": [
    "### Get basic values from GW event\n",
    "\n",
    "We now extract some basic information  from the healpix data:\n",
    "- ipix_max: pixel with highest likelihood\n",
    "- npix: total number of pixels\n",
    "- ra, dec: ra and dec of the pixel with the highest likelihood\n",
    "\n",
    "Then we open the full fits file and extract some more basic info from the header:\n",
    "- dist_mean: mean distance of the GW event\n",
    "- dist_std: error of the distance"
   ]
  },
  {
   "cell_type": "code",
   "execution_count": 60,
   "metadata": {},
   "outputs": [
    {
     "name": "stdout",
     "output_type": "stream",
     "text": [
      "UNIQ ID of highest prob sky localization:  367430\n"
     ]
    }
   ],
   "source": [
    "# most probable sky location\n",
    "i = np.argmax(skymap[\"PROBDENSITY\"])\n",
    "uniq = skymap[i][\"UNIQ\"]\n",
    "print(\"UNIQ ID of highest prob sky localization: \", uniq)"
   ]
  },
  {
   "cell_type": "code",
   "execution_count": 61,
   "metadata": {},
   "outputs": [
    {
     "name": "stdout",
     "output_type": "stream",
     "text": [
      "Highest probability at (RA, dec):  118.95491803278688 44.20152985105137 with prob [1/deg^2] of:  0.002309398664443288 and UNIQ ID:  367430\n"
     ]
    }
   ],
   "source": [
    "# calculate the most probable pixel, convert to RA and dec\n",
    "level_max, ipix_max = ah.uniq_to_level_ipix(uniq)\n",
    "nside = ah.level_to_nside(level_max)\n",
    "ra, dec = ah.healpix_to_lonlat(ipix_max, nside, order = \"nested\")\n",
    "print(\"Highest probability at (RA, dec): \", ra.deg, dec.deg, \"with prob [1/deg^2] of: \", skymap[i]['PROBDENSITY'].to_value(u.deg**-2), \"and UNIQ ID: \", skymap[i][\"UNIQ\"])"
   ]
  },
  {
   "cell_type": "markdown",
   "metadata": {},
   "source": [
    "Now open the fits file and read basics info from the header"
   ]
  },
  {
   "cell_type": "code",
   "execution_count": 62,
   "metadata": {},
   "outputs": [
    {
     "name": "stdout",
     "output_type": "stream",
     "text": [
      "The dist_mean and dist_std values:  1817.793140130575 Mpc 557.4948959222124 Mpc\n"
     ]
    }
   ],
   "source": [
    "fits_gw = fits.open(path)\n",
    "header = fits_gw[1].header\n",
    "dist_mean = header[\"DISTMEAN\"]\n",
    "dist_std = header[\"DISTSTD\"]\n",
    "print(\"The dist_mean and dist_std values: \", dist_mean*u.Mpc, dist_std*u.Mpc)"
   ]
  },
  {
   "cell_type": "code",
   "execution_count": 63,
   "metadata": {},
   "outputs": [],
   "source": [
    "most_likely_z = z_at_value(Planck18.luminosity_distance, dist_mean*u.Mpc, zmax = 5)\n",
    "most_likely_z_std = z_at_value(Planck18.luminosity_distance, dist_std*u.Mpc, zmax = 5)"
   ]
  },
  {
   "cell_type": "code",
   "execution_count": 64,
   "metadata": {},
   "outputs": [
    {
     "data": {
      "text/plain": [
       "(<Quantity 0.33455392 redshift>, <Quantity 0.11594733 redshift>)"
      ]
     },
     "execution_count": 64,
     "metadata": {},
     "output_type": "execute_result"
    }
   ],
   "source": [
    "most_likely_z, most_likely_z_std"
   ]
  },
  {
   "cell_type": "markdown",
   "metadata": {
    "tags": []
   },
   "source": [
    "### Get DESI data\n",
    "\n",
    "Load the full daily data from the file, which only includes good redshift objects"
   ]
  },
  {
   "cell_type": "code",
   "execution_count": 67,
   "metadata": {},
   "outputs": [],
   "source": [
    "follow_up_others = False"
   ]
  },
  {
   "cell_type": "code",
   "execution_count": 68,
   "metadata": {},
   "outputs": [],
   "source": [
    "if follow_up_others:\n",
    "    center_ra = 235.9839\n",
    "    center_dec = 15.2248\n",
    "    radius = 1/360\n",
    "    z_others = 0\n",
    "    z_others_std = 0.4\n",
    "    \n",
    "    sigma_accuracy = 3\n",
    "    \n",
    "    data = gs.db_doall(center_ra, center_dec, radius)\n",
    "    \n",
    "    #ii = data[\"Z\"]-sigma_accuracy*data[\"ZERR\"]<z_others+sigma_accuracy*z_others_std\n",
    "    #ii &= data[\"Z\"]+sigma_accuracy*data[\"ZERR\"]>z_others-sigma_accuracy*z_others_std\n",
    "    \n",
    "    #data = data[ii]\n",
    "    \n",
    "    \n",
    "else:\n",
    "    data = Table.read(\"/global/homes/j/jgassert/good_z_data_BGSBright.fits\")"
   ]
  },
  {
   "cell_type": "code",
   "execution_count": 69,
   "metadata": {},
   "outputs": [
    {
     "data": {
      "text/html": [
       "<div><i>Table length=5</i>\n",
       "<table id=\"table140407854503472\" class=\"table-striped table-bordered table-condensed\">\n",
       "<thead><tr><th>TARGETID</th><th>TARGET_RA</th><th>TARGET_DEC</th><th>LASTNIGHT</th><th>Z</th><th>ZERR</th><th>ZWARN</th><th>FLUX_G</th><th>FLUX_R</th><th>FLUX_Z</th><th>SPECTYPE</th><th>BGS_TARGET</th><th>EBV</th><th>SERSIC</th></tr></thead>\n",
       "<thead><tr><th>int64</th><th>float64</th><th>float64</th><th>int64</th><th>float64</th><th>float64</th><th>int64</th><th>float64</th><th>float64</th><th>float64</th><th>bytes6</th><th>int64</th><th>float64</th><th>float64</th></tr></thead>\n",
       "<tr><td>39627322533350395</td><td>11.2017136545986</td><td>-19.3753250062112</td><td>20211215</td><td>0.274138421339174</td><td>7.3501930183854e-05</td><td>0</td><td>7.64354562759399</td><td>29.5323829650879</td><td>61.7763519287109</td><td>GALAXY</td><td>131074</td><td>0.0190095156431198</td><td>6.0</td></tr>\n",
       "<tr><td>39627322533353907</td><td>11.3031570730046</td><td>-19.3778160129495</td><td>20211215</td><td>0.160812674805974</td><td>3.74070815089717e-05</td><td>0</td><td>21.8182907104492</td><td>44.3453521728516</td><td>74.1602554321289</td><td>GALAXY</td><td>131074</td><td>0.0181874949485064</td><td>1.12676537036896</td></tr>\n",
       "<tr><td>39627322701120343</td><td>21.7265690067643</td><td>-19.404267970287</td><td>20211022</td><td>0.0347373193412903</td><td>3.04502283257839e-06</td><td>0</td><td>30.611120223999</td><td>40.2380104064941</td><td>47.7578353881836</td><td>GALAXY</td><td>131074</td><td>0.026496633887291</td><td>0.66505241394043</td></tr>\n",
       "<tr><td>39627322701120643</td><td>21.7335960725857</td><td>-19.3756051133826</td><td>20211022</td><td>0.252243092187585</td><td>4.24386834432005e-05</td><td>0</td><td>19.3021106719971</td><td>69.4891662597656</td><td>144.997436523438</td><td>GALAXY</td><td>131074</td><td>0.0254172254353762</td><td>5.25417852401733</td></tr>\n",
       "<tr><td>39627322701122007</td><td>21.7682640928066</td><td>-19.3895060286576</td><td>20211022</td><td>0.272183664497557</td><td>7.48448457991176e-06</td><td>0</td><td>10.1746435165405</td><td>19.1892528533936</td><td>29.1437644958496</td><td>GALAXY</td><td>131074</td><td>0.0247003585100174</td><td>0.544734835624695</td></tr>\n",
       "</table></div>"
      ],
      "text/plain": [
       "<Table length=5>\n",
       "     TARGETID        TARGET_RA     ...        EBV               SERSIC     \n",
       "      int64           float64      ...      float64            float64     \n",
       "----------------- ---------------- ... ------------------ -----------------\n",
       "39627322533350395 11.2017136545986 ... 0.0190095156431198               6.0\n",
       "39627322533353907 11.3031570730046 ... 0.0181874949485064  1.12676537036896\n",
       "39627322701120343 21.7265690067643 ...  0.026496633887291  0.66505241394043\n",
       "39627322701120643 21.7335960725857 ... 0.0254172254353762  5.25417852401733\n",
       "39627322701122007 21.7682640928066 ... 0.0247003585100174 0.544734835624695"
      ]
     },
     "execution_count": 69,
     "metadata": {},
     "output_type": "execute_result"
    }
   ],
   "source": [
    "data[:5]"
   ]
  },
  {
   "cell_type": "markdown",
   "metadata": {
    "tags": []
   },
   "source": [
    "## Do all the calculations, selections,...\n",
    "\n",
    "- turn the daily DESI data into a Table\n",
    "- do some basic data selection stuff: only keep good + positive redshifts, only positive values of r-band flux and eliminate duplicates (right now simply takes the first entry)\n",
    "- add the ipix (healpix) pixel value for each target\n",
    "- calculate the probability for each target\n",
    "- add these values to the Table (\"PROB\"), select only targets within the 99% credible region (i.e. with a certainty of 99% the GW event is inside this region)\n",
    "- calculate the distances and its errors from the redshift, add to the data table\n",
    "- calculate the 3D probability just like here: https://iopscience.iop.org/article/10.3847/0067-0049/226/1/10 (§4) and add these values to the table\n",
    "- sort the table by its 3D probability (descending)\n",
    "- calculate absolute and apparent magnitude, luminosity and add to table\n",
    "\n",
    "The final step is to include the calculation of the most likely host galaxy from https://arxiv.org/pdf/1710.05452.pdf (GW170817); these values are then also added to the table as \"P_GAL\""
   ]
  },
  {
   "cell_type": "code",
   "execution_count": 70,
   "metadata": {},
   "outputs": [
    {
     "data": {
      "text/html": [
       "<div><i>Table length=5</i>\n",
       "<table id=\"table140408976827312\" class=\"table-striped table-bordered table-condensed\">\n",
       "<thead><tr><th>TARGETID</th><th>TARGET_RA</th><th>TARGET_DEC</th><th>LASTNIGHT</th><th>Z</th><th>ZERR</th><th>ZWARN</th><th>FLUX_G</th><th>FLUX_R</th><th>FLUX_Z</th><th>SPECTYPE</th><th>BGS_TARGET</th><th>EBV</th><th>SERSIC</th></tr></thead>\n",
       "<thead><tr><th>int64</th><th>float64</th><th>float64</th><th>int64</th><th>float64</th><th>float64</th><th>int64</th><th>float64</th><th>float64</th><th>float64</th><th>bytes6</th><th>int64</th><th>float64</th><th>float64</th></tr></thead>\n",
       "<tr><td>39627322533350395</td><td>11.2017136545986</td><td>-19.3753250062112</td><td>20211215</td><td>0.274138421339174</td><td>7.3501930183854e-05</td><td>0</td><td>7.64354562759399</td><td>29.5323829650879</td><td>61.7763519287109</td><td>GALAXY</td><td>131074</td><td>0.0190095156431198</td><td>6.0</td></tr>\n",
       "<tr><td>39627322533353907</td><td>11.3031570730046</td><td>-19.3778160129495</td><td>20211215</td><td>0.160812674805974</td><td>3.74070815089717e-05</td><td>0</td><td>21.8182907104492</td><td>44.3453521728516</td><td>74.1602554321289</td><td>GALAXY</td><td>131074</td><td>0.0181874949485064</td><td>1.12676537036896</td></tr>\n",
       "<tr><td>39627322701120343</td><td>21.7265690067643</td><td>-19.404267970287</td><td>20211022</td><td>0.0347373193412903</td><td>3.04502283257839e-06</td><td>0</td><td>30.611120223999</td><td>40.2380104064941</td><td>47.7578353881836</td><td>GALAXY</td><td>131074</td><td>0.026496633887291</td><td>0.66505241394043</td></tr>\n",
       "<tr><td>39627322701120643</td><td>21.7335960725857</td><td>-19.3756051133826</td><td>20211022</td><td>0.252243092187585</td><td>4.24386834432005e-05</td><td>0</td><td>19.3021106719971</td><td>69.4891662597656</td><td>144.997436523438</td><td>GALAXY</td><td>131074</td><td>0.0254172254353762</td><td>5.25417852401733</td></tr>\n",
       "<tr><td>39627322701122007</td><td>21.7682640928066</td><td>-19.3895060286576</td><td>20211022</td><td>0.272183664497557</td><td>7.48448457991176e-06</td><td>0</td><td>10.1746435165405</td><td>19.1892528533936</td><td>29.1437644958496</td><td>GALAXY</td><td>131074</td><td>0.0247003585100174</td><td>0.544734835624695</td></tr>\n",
       "</table></div>"
      ],
      "text/plain": [
       "<Table length=5>\n",
       "     TARGETID        TARGET_RA     ...        EBV               SERSIC     \n",
       "      int64           float64      ...      float64            float64     \n",
       "----------------- ---------------- ... ------------------ -----------------\n",
       "39627322533350395 11.2017136545986 ... 0.0190095156431198               6.0\n",
       "39627322533353907 11.3031570730046 ... 0.0181874949485064  1.12676537036896\n",
       "39627322701120343 21.7265690067643 ...  0.026496633887291  0.66505241394043\n",
       "39627322701120643 21.7335960725857 ... 0.0254172254353762  5.25417852401733\n",
       "39627322701122007 21.7682640928066 ... 0.0247003585100174 0.544734835624695"
      ]
     },
     "execution_count": 70,
     "metadata": {},
     "output_type": "execute_result"
    }
   ],
   "source": [
    "data[:5]"
   ]
  },
  {
   "cell_type": "markdown",
   "metadata": {
    "tags": []
   },
   "source": [
    "### data clean up"
   ]
  },
  {
   "cell_type": "code",
   "execution_count": 71,
   "metadata": {},
   "outputs": [],
   "source": [
    "#data = data[data[\"Z\"]> 0]\n",
    "#data = data[data[\"ZWARN\"] == 0]"
   ]
  },
  {
   "cell_type": "code",
   "execution_count": 72,
   "metadata": {},
   "outputs": [],
   "source": [
    "#data = data[data['FLUX_Z']>0]\n",
    "data = table.unique(data, keys = \"TARGETID\")"
   ]
  },
  {
   "cell_type": "code",
   "execution_count": 73,
   "metadata": {},
   "outputs": [],
   "source": [
    "data = data[data[\"TARGETID\"]>0]"
   ]
  },
  {
   "cell_type": "code",
   "execution_count": 74,
   "metadata": {},
   "outputs": [
    {
     "name": "stdout",
     "output_type": "stream",
     "text": [
      "We have 7184940 objects in the full catalog\n"
     ]
    }
   ],
   "source": [
    "print(f\"We have {len(data)} objects in the full catalog\") "
   ]
  },
  {
   "cell_type": "markdown",
   "metadata": {
    "tags": []
   },
   "source": [
    "### Calculate the healpix id for every object in the catalog and its probability; append this data to the Table"
   ]
  },
  {
   "cell_type": "code",
   "execution_count": 75,
   "metadata": {},
   "outputs": [],
   "source": [
    "max_level = 29 # highest possible HEALPix resolution that can be represented in a 64-bit signed integer\n",
    "max_nside = ah.level_to_nside(max_level)\n",
    "level, ipix = ah.uniq_to_level_ipix(skymap[\"UNIQ\"])\n",
    "\n",
    "index = ipix*(2**(max_level-level))**2\n",
    "\n",
    "sorter = np.argsort(index)\n",
    "\n",
    "# this is the NESTED pixel index of the target sky location, NOT THE UNIQ ID\n",
    "match_ipix = ah.lonlat_to_healpix(data[\"TARGET_RA\"]*u.deg, data[\"TARGET_DEC\"]*u.deg, max_nside, order='nested')\n",
    "\n",
    "# here we get the pixel index (i.e. where the entry is in the table, also NOT THE UNIQ ID) of each target\n",
    "sorter_i = sorter[np.searchsorted(index, match_ipix, side='right', sorter=sorter) - 1]\n",
    "probdensity = skymap[sorter_i]['PROBDENSITY'].to_value(u.deg**-2)\n",
    "\n",
    "# now we calculate the UNIQ ID for all our targets:\n",
    "\n",
    "uniq = skymap[\"UNIQ\"][sorter_i]\n",
    "#to make things easier in future, I will now also append the UNIQ pixels DISTMU, DISTSIGMA and DISTNORM values. However, be careful, since these DO NOT CORRESPOND THE TARGETS IN DESI DIRECTLY!\n",
    "\n",
    "distmu = skymap[sorter_i][\"DISTMU\"]\n",
    "distsigma = skymap[sorter_i][\"DISTSIGMA\"]\n",
    "distnorm = skymap[sorter_i][\"DISTNORM\"]\n"
   ]
  },
  {
   "cell_type": "code",
   "execution_count": 76,
   "metadata": {},
   "outputs": [],
   "source": [
    "# len(UNIQ), len(data), len(skymap)"
   ]
  },
  {
   "cell_type": "code",
   "execution_count": 77,
   "metadata": {},
   "outputs": [],
   "source": [
    "#data = data.keep_columns([\"TARGETID\", \"TARGET_RA\", \"TARGET_DEC\", \"TILEID\", \"NIGHT\", \"Z\", \"ZERR\", \"ZWARN\", \"DELTACHI2\", \"FLUX_Z\", \"BGS_TARGET\", \"EBV\", \"SERSIC\", \"MWS_TARGET\", \"FILENAME\"])\n",
    "                          "
   ]
  },
  {
   "cell_type": "code",
   "execution_count": 78,
   "metadata": {},
   "outputs": [],
   "source": [
    "data = hstack([data, Table({\"UNIQ\": uniq}), Table({\"PROBDENSITY\": probdensity}), Table({\"DISTMU\": distmu}), Table({\"DISTSIGMA\": distsigma}), Table({\"DISTNORM\": distnorm})])"
   ]
  },
  {
   "cell_type": "code",
   "execution_count": 79,
   "metadata": {},
   "outputs": [
    {
     "data": {
      "text/html": [
       "<div><i>Table length=5</i>\n",
       "<table id=\"table140407854723424\" class=\"table-striped table-bordered table-condensed\">\n",
       "<thead><tr><th>TARGETID</th><th>TARGET_RA</th><th>TARGET_DEC</th><th>LASTNIGHT</th><th>Z</th><th>ZERR</th><th>ZWARN</th><th>FLUX_G</th><th>FLUX_R</th><th>FLUX_Z</th><th>SPECTYPE</th><th>BGS_TARGET</th><th>EBV</th><th>SERSIC</th><th>UNIQ</th><th>PROBDENSITY</th><th>DISTMU</th><th>DISTSIGMA</th><th>DISTNORM</th></tr></thead>\n",
       "<thead><tr><th></th><th></th><th></th><th></th><th></th><th></th><th></th><th></th><th></th><th></th><th></th><th></th><th></th><th></th><th></th><th></th><th>Mpc</th><th>Mpc</th><th>1 / Mpc2</th></tr></thead>\n",
       "<thead><tr><th>int64</th><th>float64</th><th>float64</th><th>int64</th><th>float64</th><th>float64</th><th>int64</th><th>float64</th><th>float64</th><th>float64</th><th>bytes6</th><th>int64</th><th>float64</th><th>float64</th><th>int64</th><th>float64</th><th>float64</th><th>float64</th><th>float64</th></tr></thead>\n",
       "<tr><td>39627322533350395</td><td>11.2017136545986</td><td>-19.3753250062112</td><td>20211215</td><td>0.274138421339174</td><td>7.3501930183854e-05</td><td>0</td><td>7.64354562759399</td><td>29.5323829650879</td><td>61.7763519287109</td><td>GALAXY</td><td>131074</td><td>0.0190095156431198</td><td>6.0</td><td>8304</td><td>1.2888509540076828e-06</td><td>1899.7059963025263</td><td>666.6050148603729</td><td>2.467254785014661e-07</td></tr>\n",
       "<tr><td>39627322533353907</td><td>11.3031570730046</td><td>-19.3778160129495</td><td>20211215</td><td>0.160812674805974</td><td>3.74070815089717e-05</td><td>0</td><td>21.8182907104492</td><td>44.3453521728516</td><td>74.1602554321289</td><td>GALAXY</td><td>131074</td><td>0.0181874949485064</td><td>1.12676537036896</td><td>8304</td><td>1.2888509540076828e-06</td><td>1899.7059963025263</td><td>666.6050148603729</td><td>2.467254785014661e-07</td></tr>\n",
       "<tr><td>39627322701120343</td><td>21.7265690067643</td><td>-19.404267970287</td><td>20211022</td><td>0.0347373193412903</td><td>3.04502283257839e-06</td><td>0</td><td>30.611120223999</td><td>40.2380104064941</td><td>47.7578353881836</td><td>GALAXY</td><td>131074</td><td>0.026496633887291</td><td>0.66505241394043</td><td>8277</td><td>3.19120446257652e-08</td><td>1781.0925550628476</td><td>734.4694352591688</td><td>2.6947592205733474e-07</td></tr>\n",
       "<tr><td>39627322701120643</td><td>21.7335960725857</td><td>-19.3756051133826</td><td>20211022</td><td>0.252243092187585</td><td>4.24386834432005e-05</td><td>0</td><td>19.3021106719971</td><td>69.4891662597656</td><td>144.997436523438</td><td>GALAXY</td><td>131074</td><td>0.0254172254353762</td><td>5.25417852401733</td><td>8277</td><td>3.19120446257652e-08</td><td>1781.0925550628476</td><td>734.4694352591688</td><td>2.6947592205733474e-07</td></tr>\n",
       "<tr><td>39627322701122007</td><td>21.7682640928066</td><td>-19.3895060286576</td><td>20211022</td><td>0.272183664497557</td><td>7.48448457991176e-06</td><td>0</td><td>10.1746435165405</td><td>19.1892528533936</td><td>29.1437644958496</td><td>GALAXY</td><td>131074</td><td>0.0247003585100174</td><td>0.544734835624695</td><td>8277</td><td>3.19120446257652e-08</td><td>1781.0925550628476</td><td>734.4694352591688</td><td>2.6947592205733474e-07</td></tr>\n",
       "</table></div>"
      ],
      "text/plain": [
       "<Table length=5>\n",
       "     TARGETID        TARGET_RA     ...     DISTSIGMA            DISTNORM       \n",
       "                                   ...        Mpc               1 / Mpc2       \n",
       "      int64           float64      ...      float64             float64        \n",
       "----------------- ---------------- ... ----------------- ----------------------\n",
       "39627322533350395 11.2017136545986 ... 666.6050148603729  2.467254785014661e-07\n",
       "39627322533353907 11.3031570730046 ... 666.6050148603729  2.467254785014661e-07\n",
       "39627322701120343 21.7265690067643 ... 734.4694352591688 2.6947592205733474e-07\n",
       "39627322701120643 21.7335960725857 ... 734.4694352591688 2.6947592205733474e-07\n",
       "39627322701122007 21.7682640928066 ... 734.4694352591688 2.6947592205733474e-07"
      ]
     },
     "execution_count": 79,
     "metadata": {},
     "output_type": "execute_result"
    }
   ],
   "source": [
    "data[:5]"
   ]
  },
  {
   "cell_type": "code",
   "execution_count": 80,
   "metadata": {},
   "outputs": [
    {
     "name": "stdout",
     "output_type": "stream",
     "text": [
      "The highest and lowest probability values in our catalog are: 3.0350200302657287e-16 and 0.002309398664443288\n"
     ]
    }
   ],
   "source": [
    "print(f\"The highest and lowest probability values in our catalog are: {np.min(probdensity)} and {np.max(probdensity)}\")"
   ]
  },
  {
   "cell_type": "markdown",
   "metadata": {
    "tags": []
   },
   "source": [
    "### Sort the skymap table and get 99% credible region"
   ]
  },
  {
   "cell_type": "code",
   "execution_count": 81,
   "metadata": {},
   "outputs": [],
   "source": [
    "# copy the table\n",
    "skymap_sort = Table(skymap, copy = True)"
   ]
  },
  {
   "cell_type": "code",
   "execution_count": 82,
   "metadata": {},
   "outputs": [],
   "source": [
    "# check whether copy worked:\n",
    "# skymap_sort, skymap\n",
    "# np.max(skymap[\"UNIQ\"])"
   ]
  },
  {
   "cell_type": "code",
   "execution_count": 83,
   "metadata": {},
   "outputs": [],
   "source": [
    "# now sort the skymap by its probability (descending)\n",
    "skymap_sort.sort('PROBDENSITY', reverse=True)"
   ]
  },
  {
   "cell_type": "code",
   "execution_count": 84,
   "metadata": {},
   "outputs": [
    {
     "data": {
      "text/html": [
       "<div><i>Table length=5</i>\n",
       "<table id=\"table140407854726784\" class=\"table-striped table-bordered table-condensed\">\n",
       "<thead><tr><th>UNIQ</th><th>PROBDENSITY</th><th>DISTMU</th><th>DISTSIGMA</th><th>DISTNORM</th></tr></thead>\n",
       "<thead><tr><th></th><th>1 / sr</th><th>Mpc</th><th>Mpc</th><th>1 / Mpc2</th></tr></thead>\n",
       "<thead><tr><th>int64</th><th>float64</th><th>float64</th><th>float64</th><th>float64</th></tr></thead>\n",
       "<tr><td>367430</td><td>7.581308600343066</td><td>1688.1439909613746</td><td>546.3637613112317</td><td>3.1763170746527723e-07</td></tr>\n",
       "<tr><td>367448</td><td>7.573035539266521</td><td>1690.9741988348787</td><td>546.5682104532159</td><td>3.166472893048871e-07</td></tr>\n",
       "<tr><td>368138</td><td>7.567253039325438</td><td>1697.862684593644</td><td>547.802110540738</td><td>3.141904425997217e-07</td></tr>\n",
       "<tr><td>367426</td><td>7.55970196762642</td><td>1683.3479461000982</td><td>545.3367638585187</td><td>3.193858625001062e-07</td></tr>\n",
       "<tr><td>367453</td><td>7.557257410629167</td><td>1699.089158248149</td><td>548.6026680863026</td><td>3.1369335657081576e-07</td></tr>\n",
       "</table></div>"
      ],
      "text/plain": [
       "<Table length=5>\n",
       " UNIQ     PROBDENSITY    ...     DISTSIGMA            DISTNORM       \n",
       "             1 / sr      ...        Mpc               1 / Mpc2       \n",
       "int64       float64      ...      float64             float64        \n",
       "------ ----------------- ... ----------------- ----------------------\n",
       "367430 7.581308600343066 ... 546.3637613112317 3.1763170746527723e-07\n",
       "367448 7.573035539266521 ... 546.5682104532159  3.166472893048871e-07\n",
       "368138 7.567253039325438 ...  547.802110540738  3.141904425997217e-07\n",
       "367426  7.55970196762642 ... 545.3367638585187  3.193858625001062e-07\n",
       "367453 7.557257410629167 ... 548.6026680863026 3.1369335657081576e-07"
      ]
     },
     "execution_count": 84,
     "metadata": {},
     "output_type": "execute_result"
    }
   ],
   "source": [
    "# this shows the first entries sorted be their probability\n",
    "skymap_sort[:5]"
   ]
  },
  {
   "cell_type": "code",
   "execution_count": 85,
   "metadata": {},
   "outputs": [
    {
     "data": {
      "text/plain": [
       "3081.8862652154053"
      ]
     },
     "execution_count": 85,
     "metadata": {},
     "output_type": "execute_result"
    }
   ],
   "source": [
    "# now get 99% credible region area\n",
    "\n",
    "level, ipix = ah.uniq_to_level_ipix(skymap_sort['UNIQ'])\n",
    "pixel_area = ah.nside_to_pixel_area(ah.level_to_nside(level)) # this is the area each pixel contains\n",
    "\n",
    "# calculate the probability per pixel (careful: since the pixels differ in size, this is not neceseraliy a useful quantity\n",
    "prob = pixel_area * skymap_sort['PROBDENSITY']\n",
    "\n",
    "# calc cumsum of probabilities and get index of pixel that sums up to 0.99\n",
    "cumprob = np.cumsum(prob)\n",
    "i = cumprob.searchsorted(0.99)\n",
    "\n",
    "# print area\n",
    "area_99 = pixel_area[:i].sum()\n",
    "area_99.to_value(u.deg**2)"
   ]
  },
  {
   "cell_type": "markdown",
   "metadata": {
    "jp-MarkdownHeadingCollapsed": true,
    "tags": []
   },
   "source": [
    "### can be deleted, just tried things out"
   ]
  },
  {
   "cell_type": "code",
   "execution_count": 86,
   "metadata": {},
   "outputs": [],
   "source": [
    "skymap_sort = hstack([skymap_sort, Table({\"PROB\": prob})])"
   ]
  },
  {
   "cell_type": "code",
   "execution_count": 87,
   "metadata": {},
   "outputs": [
    {
     "data": {
      "text/latex": [
       "$0.00014247786 \\; \\mathrm{}$"
      ],
      "text/plain": [
       "<Quantity 0.00014248>"
      ]
     },
     "execution_count": 87,
     "metadata": {},
     "output_type": "execute_result"
    }
   ],
   "source": [
    "np.max(prob)"
   ]
  },
  {
   "cell_type": "code",
   "execution_count": 88,
   "metadata": {},
   "outputs": [
    {
     "data": {
      "text/html": [
       "<div><i>Table length=5</i>\n",
       "<table id=\"table140407854717808\" class=\"table-striped table-bordered table-condensed\">\n",
       "<thead><tr><th>UNIQ</th><th>PROBDENSITY</th><th>DISTMU</th><th>DISTSIGMA</th><th>DISTNORM</th><th>PROB</th></tr></thead>\n",
       "<thead><tr><th></th><th>1 / sr</th><th>Mpc</th><th>Mpc</th><th>1 / Mpc2</th><th></th></tr></thead>\n",
       "<thead><tr><th>int64</th><th>float64</th><th>float64</th><th>float64</th><th>float64</th><th>float64</th></tr></thead>\n",
       "<tr><td>367430</td><td>7.581308600343066</td><td>1688.1439909613746</td><td>546.3637613112317</td><td>3.1763170746527723e-07</td><td>0.00012114147645790045</td></tr>\n",
       "<tr><td>367448</td><td>7.573035539266521</td><td>1690.9741988348787</td><td>546.5682104532159</td><td>3.166472893048871e-07</td><td>0.00012100928149177103</td></tr>\n",
       "<tr><td>368138</td><td>7.567253039325438</td><td>1697.862684593644</td><td>547.802110540738</td><td>3.141904425997217e-07</td><td>0.00012091688311869217</td></tr>\n",
       "<tr><td>367426</td><td>7.55970196762642</td><td>1683.3479461000982</td><td>545.3367638585187</td><td>3.193858625001062e-07</td><td>0.00012079622479666883</td></tr>\n",
       "<tr><td>367453</td><td>7.557257410629167</td><td>1699.089158248149</td><td>548.6026680863026</td><td>3.1369335657081576e-07</td><td>0.00012075716330220343</td></tr>\n",
       "</table></div>"
      ],
      "text/plain": [
       "<Table length=5>\n",
       " UNIQ     PROBDENSITY    ...        DISTNORM                 PROB         \n",
       "             1 / sr      ...        1 / Mpc2                              \n",
       "int64       float64      ...        float64                float64        \n",
       "------ ----------------- ... ---------------------- ----------------------\n",
       "367430 7.581308600343066 ... 3.1763170746527723e-07 0.00012114147645790045\n",
       "367448 7.573035539266521 ...  3.166472893048871e-07 0.00012100928149177103\n",
       "368138 7.567253039325438 ...  3.141904425997217e-07 0.00012091688311869217\n",
       "367426  7.55970196762642 ...  3.193858625001062e-07 0.00012079622479666883\n",
       "367453 7.557257410629167 ... 3.1369335657081576e-07 0.00012075716330220343"
      ]
     },
     "execution_count": 88,
     "metadata": {},
     "output_type": "execute_result"
    }
   ],
   "source": [
    "skymap_sort[:5]"
   ]
  },
  {
   "cell_type": "code",
   "execution_count": 89,
   "metadata": {},
   "outputs": [],
   "source": [
    "skymap_prob = Table(skymap_sort, copy = True)"
   ]
  },
  {
   "cell_type": "code",
   "execution_count": 90,
   "metadata": {},
   "outputs": [],
   "source": [
    "skymap_prob.sort(\"PROB\", reverse = True)"
   ]
  },
  {
   "cell_type": "code",
   "execution_count": 91,
   "metadata": {},
   "outputs": [
    {
     "data": {
      "text/html": [
       "<div><i>Table length=5</i>\n",
       "<table id=\"table140407854726256\" class=\"table-striped table-bordered table-condensed\">\n",
       "<thead><tr><th>UNIQ</th><th>PROBDENSITY</th><th>DISTMU</th><th>DISTSIGMA</th><th>DISTNORM</th><th>PROB</th></tr></thead>\n",
       "<thead><tr><th></th><th>1 / sr</th><th>Mpc</th><th>Mpc</th><th>1 / Mpc2</th><th></th></tr></thead>\n",
       "<thead><tr><th>int64</th><th>float64</th><th>float64</th><th>float64</th><th>float64</th><th>float64</th></tr></thead>\n",
       "<tr><td>98206</td><td>2.2291470379585694</td><td>1362.201017326483</td><td>506.7716591900033</td><td>4.7342944327899366e-07</td><td>0.00014247786373335956</td></tr>\n",
       "<tr><td>91030</td><td>2.229097506715745</td><td>1546.718199362048</td><td>514.573147553443</td><td>3.7635440356329786e-07</td><td>0.00014247469790107235</td></tr>\n",
       "<tr><td>32594</td><td>0.5572158039548287</td><td>974.3198593504278</td><td>382.65156843994265</td><td>9.127659735104687e-07</td><td>0.00014245972299549317</td></tr>\n",
       "<tr><td>90156</td><td>2.228641925014798</td><td>1288.2501195234559</td><td>528.0383331263089</td><td>5.159947057495686e-07</td><td>0.00014244557900204883</td></tr>\n",
       "<tr><td>90301</td><td>2.228536736262335</td><td>1420.7951099400598</td><td>493.6287420695666</td><td>4.420377453855256e-07</td><td>0.00014243885577182465</td></tr>\n",
       "</table></div>"
      ],
      "text/plain": [
       "<Table length=5>\n",
       " UNIQ    PROBDENSITY     ...        DISTNORM                 PROB         \n",
       "            1 / sr       ...        1 / Mpc2                              \n",
       "int64      float64       ...        float64                float64        \n",
       "----- ------------------ ... ---------------------- ----------------------\n",
       "98206 2.2291470379585694 ... 4.7342944327899366e-07 0.00014247786373335956\n",
       "91030  2.229097506715745 ... 3.7635440356329786e-07 0.00014247469790107235\n",
       "32594 0.5572158039548287 ...  9.127659735104687e-07 0.00014245972299549317\n",
       "90156  2.228641925014798 ...  5.159947057495686e-07 0.00014244557900204883\n",
       "90301  2.228536736262335 ...  4.420377453855256e-07 0.00014243885577182465"
      ]
     },
     "execution_count": 91,
     "metadata": {},
     "output_type": "execute_result"
    }
   ],
   "source": [
    "skymap_prob[:5]"
   ]
  },
  {
   "cell_type": "markdown",
   "metadata": {
    "tags": []
   },
   "source": [
    "### Compare Tables, only leave 99% credible region in DESI data table\n",
    "\n",
    "Now we can get a Table that only contains the 99% credible region. From there we only leave the matching objects in the DESI data"
   ]
  },
  {
   "cell_type": "code",
   "execution_count": 92,
   "metadata": {},
   "outputs": [],
   "source": [
    "# we simply select only the entries that are within the 99% credible region\n",
    "skymap_99 = skymap_sort[:i]"
   ]
  },
  {
   "cell_type": "code",
   "execution_count": 93,
   "metadata": {},
   "outputs": [
    {
     "name": "stdout",
     "output_type": "stream",
     "text": [
      "This is the number of UNIQ ID of objects which should lie within the 99% credible region (NOT THE NUMBER OF OBJECTS, as there can be multiple objects per UNIQ ID): 9278\n"
     ]
    }
   ],
   "source": [
    "print(\"This is the number of UNIQ ID of objects which should lie within the 99% credible region (NOT THE NUMBER OF OBJECTS, as there can be multiple objects per UNIQ ID):\", len(np.intersect1d(skymap_99[\"UNIQ\"], data[\"UNIQ\"])))"
   ]
  },
  {
   "cell_type": "code",
   "execution_count": 94,
   "metadata": {},
   "outputs": [],
   "source": [
    "mask = np.in1d(data[\"UNIQ\"], skymap_99[\"UNIQ\"])\n",
    "data_99 = data[mask]"
   ]
  },
  {
   "cell_type": "code",
   "execution_count": 95,
   "metadata": {},
   "outputs": [
    {
     "name": "stdout",
     "output_type": "stream",
     "text": [
      "We now have 497414 objects in the 99% credible region\n",
      "Check if the region from where the galaxies have been selected makes any sense (RA; DEC):  92.0550520294656 168.636755856998 10.7285667795142 79.1541789169809\n",
      "We can also check whether we have at least one galaxy in the UNIQ pixel with the highest probability from LIGO...\n",
      "This is True\n"
     ]
    }
   ],
   "source": [
    "print(f\"We now have {len(data_99)} objects in the 99% credible region\")\n",
    "print(\"Check if the region from where the galaxies have been selected makes any sense (RA; DEC): \", np.min(data_99[\"TARGET_RA\"]), np.max(data_99[\"TARGET_RA\"]), np.min(data_99[\"TARGET_DEC\"]), np.max(data_99[\"TARGET_DEC\"]))\n",
    "\n",
    "max_probdens_in_desi = np.max(data_99[\"PROBDENSITY\"])\n",
    "max_probdens_in_ligo = np.max(skymap[\"PROBDENSITY\"]).to_value(u.deg**-2)\n",
    "print(f\"We can also check whether we have at least one galaxy in the UNIQ pixel with the highest probability from LIGO...\")\n",
    "print(f\"This is {np.allclose(max_probdens_in_desi, max_probdens_in_ligo)}\")"
   ]
  },
  {
   "cell_type": "code",
   "execution_count": 96,
   "metadata": {},
   "outputs": [],
   "source": [
    "data_99.sort('PROBDENSITY', reverse=True)"
   ]
  },
  {
   "cell_type": "code",
   "execution_count": 97,
   "metadata": {},
   "outputs": [
    {
     "data": {
      "text/html": [
       "<div><i>Table length=2</i>\n",
       "<table id=\"table140407855104736\" class=\"table-striped table-bordered table-condensed\">\n",
       "<thead><tr><th>TARGETID</th><th>TARGET_RA</th><th>TARGET_DEC</th><th>LASTNIGHT</th><th>Z</th><th>ZERR</th><th>ZWARN</th><th>FLUX_G</th><th>FLUX_R</th><th>FLUX_Z</th><th>SPECTYPE</th><th>BGS_TARGET</th><th>EBV</th><th>SERSIC</th><th>UNIQ</th><th>PROBDENSITY</th><th>DISTMU</th><th>DISTSIGMA</th><th>DISTNORM</th></tr></thead>\n",
       "<thead><tr><th></th><th></th><th></th><th></th><th></th><th></th><th></th><th></th><th></th><th></th><th></th><th></th><th></th><th></th><th></th><th></th><th>Mpc</th><th>Mpc</th><th>1 / Mpc2</th></tr></thead>\n",
       "<thead><tr><th>int64</th><th>float64</th><th>float64</th><th>int64</th><th>float64</th><th>float64</th><th>int64</th><th>float64</th><th>float64</th><th>float64</th><th>bytes6</th><th>int64</th><th>float64</th><th>float64</th><th>int64</th><th>float64</th><th>float64</th><th>float64</th><th>float64</th></tr></thead>\n",
       "<tr><td>39633152527829588</td><td>118.928334928406</td><td>44.1525919827763</td><td>20211118</td><td>0.131863975970555</td><td>3.59162060950731e-05</td><td>0</td><td>19.5169219970703</td><td>52.1569023132324</td><td>98.4343719482422</td><td>GALAXY</td><td>514</td><td>0.0381850190460682</td><td>2.47295689582825</td><td>367430</td><td>0.002309398664443288</td><td>1688.1439909613746</td><td>546.3637613112317</td><td>3.1763170746527723e-07</td></tr>\n",
       "<tr><td>39633152527829326</td><td>118.906678329667</td><td>44.1510985183761</td><td>20211118</td><td>0.250212279663719</td><td>4.39164549948528e-05</td><td>0</td><td>8.25737571716309</td><td>30.2751045227051</td><td>62.1839752197266</td><td>GALAXY</td><td>514</td><td>0.0384103842079639</td><td>4.0</td><td>367430</td><td>0.002309398664443288</td><td>1688.1439909613746</td><td>546.3637613112317</td><td>3.1763170746527723e-07</td></tr>\n",
       "</table></div>"
      ],
      "text/plain": [
       "<Table length=2>\n",
       "     TARGETID        TARGET_RA     ...     DISTSIGMA            DISTNORM       \n",
       "                                   ...        Mpc               1 / Mpc2       \n",
       "      int64           float64      ...      float64             float64        \n",
       "----------------- ---------------- ... ----------------- ----------------------\n",
       "39633152527829588 118.928334928406 ... 546.3637613112317 3.1763170746527723e-07\n",
       "39633152527829326 118.906678329667 ... 546.3637613112317 3.1763170746527723e-07"
      ]
     },
     "execution_count": 97,
     "metadata": {},
     "output_type": "execute_result"
    }
   ],
   "source": [
    "data_99[:2]"
   ]
  },
  {
   "cell_type": "code",
   "execution_count": 98,
   "metadata": {},
   "outputs": [
    {
     "name": "stdout",
     "output_type": "stream",
     "text": [
      "We have now performed all the necessary steps to get the localization selection in 2D, i.e. the angle on the sky\n",
      "However, we have not used the distance data at all. Therefore our redhsifts range from 1.30753926883807e-09 to 5.44464054289164\n"
     ]
    }
   ],
   "source": [
    "print(\"We have now performed all the necessary steps to get the localization selection in 2D, i.e. the angle on the sky\")\n",
    "min_z = np.min(data_99[\"Z\"])\n",
    "max_z = np.max(data_99[\"Z\"])\n",
    "print(f\"However, we have not used the distance data at all. Therefore our redhsifts range from {min_z} to {max_z}\")"
   ]
  },
  {
   "cell_type": "markdown",
   "metadata": {
    "tags": []
   },
   "source": [
    "### Calculate all the distances of the objects from the redshifts\n",
    "\n",
    "We want to be conservative in estimating the distance from redshifts, therefore we will include different cosmologies.\n",
    "\n",
    "Our cosmologies include:\n",
    "- H0 = 68.20 ± 0.81 km s−1Mpc−1, from eBOSS https://arxiv.org/pdf/2007.08991.pdf\n",
    "- DES Y3 https://arxiv.org/abs/2105.13549\n",
    "- SH0ES https://pantheonplussh0es.github.io/\n",
    "\n",
    "Now we calculate the arithmetic mean of our distances and its standard deviation:\n",
    "$$distances_{mean} = \\frac{dist(z_{cosmo_{max}})+dist(z_{cosmo_{min}})}{2}$$\n",
    "and accordingly the standard deviation (n=2):\n",
    "$$\\sigma = \\sqrt{\\frac{1}{n-1}\\sum\\left(dist_i-distances_{mean}\\right)^2}$$\n"
   ]
  },
  {
   "cell_type": "code",
   "execution_count": 99,
   "metadata": {},
   "outputs": [],
   "source": [
    "#distances = Distance(z=data_99[\"Z\"], cosmology=Planck18)\n",
    "#distances_err = Distance(z=data_99[\"ZERR\"], cosmology=Planck18)"
   ]
  },
  {
   "cell_type": "code",
   "execution_count": 100,
   "metadata": {},
   "outputs": [],
   "source": [
    "from astropy.cosmology import FlatLambdaCDM\n",
    "\n",
    "omega_M_max = 0.339+0.032 #(from DES)\n",
    "omega_M_min = 0.299-2*0.016 #from eBOSS\n",
    "\n",
    "H_0_max = 73.04+2*1.04 #from SH0ES\n",
    "H_0_min = 67.4-2*0.5 #from Planck\n",
    "\n",
    "cosmo_min_dist = FlatLambdaCDM(H0=H_0_max, Om0=omega_M_max)\n",
    "cosmo_max_dist = FlatLambdaCDM(H0=H_0_min, Om0=omega_M_min)\n",
    "\n",
    "dists_max = Distance(z=data_99[\"Z\"], cosmology=cosmo_max_dist)\n",
    "dists_min = Distance(z=data_99[\"Z\"], cosmology=cosmo_min_dist)\n",
    "\n",
    "dists_err_min = Distance(z=data_99[\"ZERR\"], cosmology=cosmo_max_dist)\n",
    "dists_err_max = Distance(z=data_99[\"ZERR\"], cosmology=cosmo_min_dist)"
   ]
  },
  {
   "cell_type": "code",
   "execution_count": 101,
   "metadata": {},
   "outputs": [],
   "source": [
    "dists_mean = (dists_max+dists_min)/2\n",
    "dists_err_mean = (dists_err_max+dists_err_min)/2  # nehme ich als sigma"
   ]
  },
  {
   "cell_type": "code",
   "execution_count": 102,
   "metadata": {},
   "outputs": [],
   "source": [
    "dists_mean_stddev = np.sqrt((dists_max-dists_mean)**2+(dists_min-dists_mean)**2)"
   ]
  },
  {
   "cell_type": "code",
   "execution_count": 103,
   "metadata": {},
   "outputs": [
    {
     "data": {
      "text/plain": [
       "(<Distance [ 614.546251  , 1249.21564143,  810.43028011, 2351.14492973,\n",
       "             607.51554621] Mpc>,\n",
       " <Quantity [ 57.94538006, 125.45424332,  78.04227949, 256.42977192,\n",
       "             57.23739379] Mpc>,\n",
       " <Quantity [0.0942897 , 0.10042641, 0.09629734, 0.10906591, 0.09421552]>,\n",
       " <Quantity 0.09853016>,\n",
       " <Quantity 0.16473427>,\n",
       " <Quantity 0.08713895>)"
      ]
     },
     "execution_count": 103,
     "metadata": {},
     "output_type": "execute_result"
    }
   ],
   "source": [
    "dists_mean[:5], dists_mean_stddev[:5], dists_mean_stddev[:5]/dists_mean[:5], np.mean(dists_mean_stddev/dists_mean), np.max(dists_mean_stddev/dists_mean), np.min(dists_mean_stddev/dists_mean)\n"
   ]
  },
  {
   "cell_type": "code",
   "execution_count": 104,
   "metadata": {},
   "outputs": [],
   "source": [
    "data_99 = hstack([data_99, Table({\"DIST_Z_MEAN\": dists_mean}), Table({\"DIST_Z_ERR\": dists_err_mean}), Table({\"DIST_Z_COSMO_SIGMA\": dists_mean_stddev})])"
   ]
  },
  {
   "cell_type": "code",
   "execution_count": 105,
   "metadata": {},
   "outputs": [
    {
     "data": {
      "text/html": [
       "<div><i>Table length=5</i>\n",
       "<table id=\"table140407855109104\" class=\"table-striped table-bordered table-condensed\">\n",
       "<thead><tr><th>TARGETID</th><th>TARGET_RA</th><th>TARGET_DEC</th><th>LASTNIGHT</th><th>Z</th><th>ZERR</th><th>ZWARN</th><th>FLUX_G</th><th>FLUX_R</th><th>FLUX_Z</th><th>SPECTYPE</th><th>BGS_TARGET</th><th>EBV</th><th>SERSIC</th><th>UNIQ</th><th>PROBDENSITY</th><th>DISTMU</th><th>DISTSIGMA</th><th>DISTNORM</th><th>DIST_Z_MEAN</th><th>DIST_Z_ERR</th><th>DIST_Z_COSMO_SIGMA</th></tr></thead>\n",
       "<thead><tr><th></th><th></th><th></th><th></th><th></th><th></th><th></th><th></th><th></th><th></th><th></th><th></th><th></th><th></th><th></th><th></th><th>Mpc</th><th>Mpc</th><th>1 / Mpc2</th><th>Mpc</th><th>Mpc</th><th>Mpc</th></tr></thead>\n",
       "<thead><tr><th>int64</th><th>float64</th><th>float64</th><th>int64</th><th>float64</th><th>float64</th><th>int64</th><th>float64</th><th>float64</th><th>float64</th><th>bytes6</th><th>int64</th><th>float64</th><th>float64</th><th>int64</th><th>float64</th><th>float64</th><th>float64</th><th>float64</th><th>float64</th><th>float64</th><th>float64</th></tr></thead>\n",
       "<tr><td>39633152527829588</td><td>118.928334928406</td><td>44.1525919827763</td><td>20211118</td><td>0.131863975970555</td><td>3.59162060950731e-05</td><td>0</td><td>19.5169219970703</td><td>52.1569023132324</td><td>98.4343719482422</td><td>GALAXY</td><td>514</td><td>0.0381850190460682</td><td>2.47295689582825</td><td>367430</td><td>0.002309398664443288</td><td>1688.1439909613746</td><td>546.3637613112317</td><td>3.1763170746527723e-07</td><td>614.5462509993268</td><td>0.15275211317976822</td><td>57.94538005567999</td></tr>\n",
       "<tr><td>39633152527829326</td><td>118.906678329667</td><td>44.1510985183761</td><td>20211118</td><td>0.250212279663719</td><td>4.39164549948528e-05</td><td>0</td><td>8.25737571716309</td><td>30.2751045227051</td><td>62.1839752197266</td><td>GALAXY</td><td>514</td><td>0.0384103842079639</td><td>4.0</td><td>367430</td><td>0.002309398664443288</td><td>1688.1439909613746</td><td>546.3637613112317</td><td>3.1763170746527723e-07</td><td>1249.215641425272</td><td>0.18677842088531804</td><td>125.45424331644587</td></tr>\n",
       "<tr><td>39633152527831040</td><td>119.045875355337</td><td>44.13598254949</td><td>20211118</td><td>0.169882519315535</td><td>2.6367925058437e-05</td><td>0</td><td>6.287193775177</td><td>16.1313247680664</td><td>32.2861213684082</td><td>GALAXY</td><td>514</td><td>0.0379104316234589</td><td>1.64582717418671</td><td>367430</td><td>0.002309398664443288</td><td>1688.1439909613746</td><td>546.3637613112317</td><td>3.1763170746527723e-07</td><td>810.4302801094528</td><td>0.11214232689905328</td><td>78.04227949227445</td></tr>\n",
       "<tr><td>39633152527830206</td><td>118.978395676479</td><td>44.2838093240704</td><td>20211118</td><td>0.431765877396953</td><td>7.1154349210342e-05</td><td>0</td><td>5.15898180007935</td><td>19.9070053100586</td><td>45.5241165161133</td><td>GALAXY</td><td>514</td><td>0.0372350923717022</td><td>1.64015471935272</td><td>367430</td><td>0.002309398664443288</td><td>1688.1439909613746</td><td>546.3637613112317</td><td>3.1763170746527723e-07</td><td>2351.1449297299996</td><td>0.3026285528398606</td><td>256.4297719196803</td></tr>\n",
       "<tr><td>39633152527830125</td><td>118.97162819575</td><td>44.1598193504314</td><td>20211118</td><td>0.13047010589776</td><td>2.225282612178e-05</td><td>0</td><td>9.46948719024658</td><td>21.8123607635498</td><td>39.0110130310059</td><td>GALAXY</td><td>514</td><td>0.0381031557917595</td><td>1.495854139328</td><td>367430</td><td>0.002309398664443288</td><td>1688.1439909613746</td><td>546.3637613112317</td><td>3.1763170746527723e-07</td><td>607.5155462056416</td><td>0.09464058545172774</td><td>57.237393791680965</td></tr>\n",
       "</table></div>"
      ],
      "text/plain": [
       "<Table length=5>\n",
       "     TARGETID        TARGET_RA     ...      DIST_Z_ERR     DIST_Z_COSMO_SIGMA\n",
       "                                   ...         Mpc                Mpc        \n",
       "      int64           float64      ...       float64            float64      \n",
       "----------------- ---------------- ... ------------------- ------------------\n",
       "39633152527829588 118.928334928406 ... 0.15275211317976822  57.94538005567999\n",
       "39633152527829326 118.906678329667 ... 0.18677842088531804 125.45424331644587\n",
       "39633152527831040 119.045875355337 ... 0.11214232689905328  78.04227949227445\n",
       "39633152527830206 118.978395676479 ...  0.3026285528398606  256.4297719196803\n",
       "39633152527830125  118.97162819575 ... 0.09464058545172774 57.237393791680965"
      ]
     },
     "execution_count": 105,
     "metadata": {},
     "output_type": "execute_result"
    }
   ],
   "source": [
    "data_99[:5]"
   ]
  },
  {
   "cell_type": "code",
   "execution_count": 106,
   "metadata": {},
   "outputs": [
    {
     "data": {
      "text/plain": [
       "13"
      ]
     },
     "execution_count": 106,
     "metadata": {},
     "output_type": "execute_result"
    }
   ],
   "source": [
    "len(skymap_99[skymap_99[\"DISTMU\"] == np.inf])"
   ]
  },
  {
   "cell_type": "markdown",
   "metadata": {
    "tags": []
   },
   "source": [
    "### Lets check how much the distance measurement changes in the 99% credible region of LIGO and compare to our DESI data\n",
    "\n",
    "We should see a lot more data in DESI (since we haven't done any redshift selection and there can be multiple objects per GW-pixel). Be carfeul, we are comparing actual object counts with the number of pixels.\n",
    "\n",
    "\n",
    "We still see, that most of the GW localization is roughly between 780Mpc and 950Mpc. DESI definitely has a most of its data in this range as well."
   ]
  },
  {
   "cell_type": "code",
   "execution_count": 107,
   "metadata": {},
   "outputs": [],
   "source": [
    "plt_skymap = skymap_99[skymap_99[\"DISTMU\"]<np.inf]\n"
   ]
  },
  {
   "cell_type": "code",
   "execution_count": 109,
   "metadata": {},
   "outputs": [
    {
     "name": "stdout",
     "output_type": "stream",
     "text": [
      "Our distance ranges from -48400.76069888059 Mpc to 1981.2559205871196 Mpc\n",
      "Let's visualize the distance distribution of the LIGO event in the 99% credible region\n"
     ]
    },
    {
     "data": {
      "image/png": "[encoded data removed]",
      "text/plain": [
       "<Figure size 1500x800 with 3 Axes>"
      ]
     },
     "metadata": {},
     "output_type": "display_data"
    }
   ],
   "source": [
    "dist_max_99 = np.max(plt_skymap[\"DISTMU\"])*u.Mpc\n",
    "dist_min_99 = np.min(plt_skymap[\"DISTMU\"])*u.Mpc\n",
    "print(f\"Our distance ranges from {dist_min_99} to {dist_max_99}\")\n",
    "print(\"Let's visualize the distance distribution of the LIGO event in the 99% credible region\")\n",
    "\n",
    "fig, ax = plt.subplots(ncols = 3, figsize = (15,8))\n",
    "\n",
    "\n",
    "ax[0].hist(data_99[\"DIST_Z_MEAN\"], bins = \"auto\", color = \"orange\")\n",
    "ax[1].hist(data_99[\"DIST_Z_MEAN\"], bins = \"auto\", color = \"green\")\n",
    "ax[2].hist(plt_skymap[\"DISTMU\"], bins = \"auto\", color = \"blue\")\n",
    "\n",
    "\n",
    "for axis in ax:\n",
    "    axis.set_xlabel(\"distance bin (Mpc)\")\n",
    "\n",
    "ax[0].set_ylabel(\"object count\")\n",
    "ax[1].set_ylabel(\"object count\")\n",
    "ax[2].set_ylabel(\"pixel count\")\n",
    "\n",
    "ax[1].set_xlim(0,1000)\n",
    "    \n",
    "plt.show()"
   ]
  },
  {
   "cell_type": "code",
   "execution_count": 110,
   "metadata": {},
   "outputs": [
    {
     "data": {
      "text/plain": [
       "(14742, 497414)"
      ]
     },
     "execution_count": 110,
     "metadata": {},
     "output_type": "execute_result"
    }
   ],
   "source": [
    "len(skymap_99), len(data_99)"
   ]
  },
  {
   "cell_type": "markdown",
   "metadata": {
    "tags": []
   },
   "source": [
    "### To reduce our data even more, lets cut out the unreasonably far away objects\n",
    "\n",
    "We simply take maximum and minimum distance we get from the LIGO skymap (i.e. DISTMU+-DISTERR) and check, whether every galaxy in that pixel falls inside this range.\n",
    "\n",
    "*Note: We do this only for our own GW-follow ups*"
   ]
  },
  {
   "cell_type": "code",
   "execution_count": 111,
   "metadata": {},
   "outputs": [
    {
     "name": "stdout",
     "output_type": "stream",
     "text": [
      "The z-range selection has deleted 294993 objects from originally 497414 in the data set\n",
      "Therefore, we have 202421 objects left in the search region\n",
      "Our highest remaing probability density is 0.002309398664443288 compared to the originally highest prob density of 0.002309398664443288\n",
      "The difference in prob density is 0.0\n"
     ]
    }
   ],
   "source": [
    "if follow_up_others == False:\n",
    "    z_selection_mask = data_99[\"DIST_Z_MEAN\"] - data_99[\"DIST_Z_ERR\"] - data_99[\"DIST_Z_COSMO_SIGMA\"] <  data_99[\"DISTMU\"] + data_99[\"DISTSIGMA\"]\n",
    "    z_selection_mask &= data_99[\"DIST_Z_MEAN\"] + data_99[\"DIST_Z_ERR\"] + data_99[\"DIST_Z_COSMO_SIGMA\"] >  data_99[\"DISTMU\"] - data_99[\"DISTSIGMA\"]\n",
    "\n",
    "    data_99_z = data_99[z_selection_mask]\n",
    "\n",
    "    remaining_obj = np.size(np.where(z_selection_mask == True))\n",
    "    deleted_obj = np.size(np.where(z_selection_mask == False))\n",
    "\n",
    "    print(f\"The z-range selection has deleted {deleted_obj} objects from originally {deleted_obj+remaining_obj} in the data set\")\n",
    "    print(f\"Therefore, we have {remaining_obj} objects left in the search region\")\n",
    "\n",
    "    highest_prob_dens = np.max(data_99_z[\"PROBDENSITY\"])\n",
    "    print(f\"Our highest remaing probability density is {highest_prob_dens} compared to the originally highest prob density of {max_probdens_in_ligo}\")\n",
    "    print(f\"The difference in prob density is {max_probdens_in_ligo-highest_prob_dens}\")\n",
    "\n",
    "    \n",
    "else:\n",
    "    data_99_z = data_99\n",
    "    remaining_obj = len(data_99_z)"
   ]
  },
  {
   "cell_type": "code",
   "execution_count": 112,
   "metadata": {},
   "outputs": [
    {
     "data": {
      "text/html": [
       "<div><i>Table length=5</i>\n",
       "<table id=\"table140407855107616\" class=\"table-striped table-bordered table-condensed\">\n",
       "<thead><tr><th>TARGETID</th><th>TARGET_RA</th><th>TARGET_DEC</th><th>LASTNIGHT</th><th>Z</th><th>ZERR</th><th>ZWARN</th><th>FLUX_G</th><th>FLUX_R</th><th>FLUX_Z</th><th>SPECTYPE</th><th>BGS_TARGET</th><th>EBV</th><th>SERSIC</th><th>UNIQ</th><th>PROBDENSITY</th><th>DISTMU</th><th>DISTSIGMA</th><th>DISTNORM</th><th>DIST_Z_MEAN</th><th>DIST_Z_ERR</th><th>DIST_Z_COSMO_SIGMA</th></tr></thead>\n",
       "<thead><tr><th></th><th></th><th></th><th></th><th></th><th></th><th></th><th></th><th></th><th></th><th></th><th></th><th></th><th></th><th></th><th></th><th>Mpc</th><th>Mpc</th><th>1 / Mpc2</th><th>Mpc</th><th>Mpc</th><th>Mpc</th></tr></thead>\n",
       "<thead><tr><th>int64</th><th>float64</th><th>float64</th><th>int64</th><th>float64</th><th>float64</th><th>int64</th><th>float64</th><th>float64</th><th>float64</th><th>bytes6</th><th>int64</th><th>float64</th><th>float64</th><th>int64</th><th>float64</th><th>float64</th><th>float64</th><th>float64</th><th>float64</th><th>float64</th><th>float64</th></tr></thead>\n",
       "<tr><td>39633152527829326</td><td>118.906678329667</td><td>44.1510985183761</td><td>20211118</td><td>0.250212279663719</td><td>4.39164549948528e-05</td><td>0</td><td>8.25737571716309</td><td>30.2751045227051</td><td>62.1839752197266</td><td>GALAXY</td><td>514</td><td>0.0384103842079639</td><td>4.0</td><td>367430</td><td>0.002309398664443288</td><td>1688.1439909613746</td><td>546.3637613112317</td><td>3.1763170746527723e-07</td><td>1249.215641425272</td><td>0.18677842088531804</td><td>125.45424331644587</td></tr>\n",
       "<tr><td>39633152527828097</td><td>118.809489648199</td><td>44.2443747476614</td><td>20220120</td><td>0.280384446646277</td><td>6.07216539287859e-05</td><td>0</td><td>4.95839929580688</td><td>19.8158664703369</td><td>40.9044227600098</td><td>GALAXY</td><td>514</td><td>0.038984939455986</td><td>6.0</td><td>367430</td><td>0.002309398664443288</td><td>1688.1439909613746</td><td>546.3637613112317</td><td>3.1763170746527723e-07</td><td>1422.2417084476265</td><td>0.25825490876431306</td><td>144.97255331633636</td></tr>\n",
       "<tr><td>39633161172291136</td><td>118.873211836502</td><td>44.7619939608835</td><td>20220120</td><td>0.244686964548673</td><td>5.35435895999678e-05</td><td>0</td><td>12.9800462722778</td><td>50.5608215332031</td><td>106.112655639648</td><td>GALAXY</td><td>514</td><td>0.0427299551665783</td><td>3.42190170288086</td><td>367448</td><td>0.0023068785459244134</td><td>1690.9741988348787</td><td>546.5682104532159</td><td>3.166472893048871e-07</td><td>1218.0011520320193</td><td>0.2277246782727707</td><td>121.98016828617958</td></tr>\n",
       "<tr><td>39633182479352413</td><td>119.081633292598</td><td>45.9375514547605</td><td>20211101</td><td>0.371062732700941</td><td>4.72749213505025e-05</td><td>0</td><td>4.11149740219116</td><td>20.5573787689209</td><td>50.4147033691406</td><td>GALAXY</td><td>514</td><td>0.0540316924452782</td><td>4.96147584915161</td><td>368138</td><td>0.002305117095712444</td><td>1697.862684593644</td><td>547.802110540738</td><td>3.141904425997217e-07</td><td>1967.0912743753804</td><td>0.20106262648829956</td><td>209.0891153123109</td></tr>\n",
       "<tr><td>39633178255690531</td><td>119.144996424304</td><td>45.8666491130121</td><td>20211101</td><td>0.340908196383052</td><td>3.88058665389095e-05</td><td>0</td><td>4.76895952224731</td><td>23.6075038909912</td><td>56.5175437927246</td><td>GALAXY</td><td>514</td><td>0.0509846955537796</td><td>5.73062086105347</td><td>368138</td><td>0.002305117095712444</td><td>1697.862684593644</td><td>547.802110540738</td><td>3.141904425997217e-07</td><td>1781.9220815276844</td><td>0.16504224229686515</td><td>186.8733386486535</td></tr>\n",
       "</table></div>"
      ],
      "text/plain": [
       "<Table length=5>\n",
       "     TARGETID        TARGET_RA     ...      DIST_Z_ERR     DIST_Z_COSMO_SIGMA\n",
       "                                   ...         Mpc                Mpc        \n",
       "      int64           float64      ...       float64            float64      \n",
       "----------------- ---------------- ... ------------------- ------------------\n",
       "39633152527829326 118.906678329667 ... 0.18677842088531804 125.45424331644587\n",
       "39633152527828097 118.809489648199 ... 0.25825490876431306 144.97255331633636\n",
       "39633161172291136 118.873211836502 ...  0.2277246782727707 121.98016828617958\n",
       "39633182479352413 119.081633292598 ... 0.20106262648829956  209.0891153123109\n",
       "39633178255690531 119.144996424304 ... 0.16504224229686515  186.8733386486535"
      ]
     },
     "execution_count": 112,
     "metadata": {},
     "output_type": "execute_result"
    }
   ],
   "source": [
    "data_99_z[:5]"
   ]
  },
  {
   "cell_type": "markdown",
   "metadata": {
    "tags": []
   },
   "source": [
    "### get the apparent, absolute magnitudes and luminosities\n",
    "\n",
    "in order to do this: flux > 0 selection  and gal ext correction"
   ]
  },
  {
   "cell_type": "code",
   "execution_count": 113,
   "metadata": {},
   "outputs": [
    {
     "name": "stdout",
     "output_type": "stream",
     "text": [
      "We have 202420 objects remaining in our catalog, i.e. 1 had to be cut out due to bad fluxes\n"
     ]
    }
   ],
   "source": [
    "# get the apparent mags\n",
    "orig_len = len(data_90)\n",
    "data_99_z = data_99_z[data_99_z[\"FLUX_R\"] > 0] # flux selection (only ones above 0)\n",
    "print(f\"had to cut out {len(data_90_z)-orig_len\" objects due to bad fluxes}\n",
    "data_99_z[\"MW_TRANSMISSION\"] = gs.mw_transmission_from_data_table(data = data_99_z, band = \"r\")\n",
    "#data_99_z[\"FLUX_R\"] = data_99_z[\"FLUX_R\"]/data_99_z[\"MW_TRANSMISSION\"]\n",
    "\n",
    "app_mag_r = gs.app_mag(data_99_z[\"FLUX_R\"], mw_transmission = data_99_z[\"MW_TRANSMISSION\"])\n",
    "flux_selection_cut = len(data_99_z)\n",
    "\n",
    "# get the absolute mags\n",
    "abs_mag_r = gs.abs_mag(app_mag_z, data_99_z[\"R\"], 0,0,0)\n",
    "\n",
    "# get the luminosities\n",
    "lums_r = gs.lum(abs_mag_r, band = \"r\")"
   ]
  },
  {
   "cell_type": "code",
   "execution_count": 146,
   "metadata": {},
   "outputs": [],
   "source": [
    "data_f = hstack([data_99_r, Table({\"APP_MAG_R\": app_mag_r}), Table({\"ABS_MAG_R\": abs_mag_r}), Table({\"LUM_R\": lums_r})])"
   ]
  },
  {
   "cell_type": "code",
   "execution_count": 147,
   "metadata": {},
   "outputs": [
    {
     "data": {
      "text/html": [
       "<div><i>Table length=5</i>\n",
       "<table id=\"table140407895669440\" class=\"table-striped table-bordered table-condensed\">\n",
       "<thead><tr><th>TARGETID</th><th>TARGET_RA</th><th>TARGET_DEC</th><th>LASTNIGHT</th><th>Z</th><th>ZERR</th><th>ZWARN</th><th>FLUX_G</th><th>FLUX_R</th><th>FLUX_Z</th><th>SPECTYPE</th><th>BGS_TARGET</th><th>EBV</th><th>SERSIC</th><th>UNIQ</th><th>PROBDENSITY</th><th>DISTMU</th><th>DISTSIGMA</th><th>DISTNORM</th><th>DIST_Z_MEAN</th><th>DIST_Z_ERR</th><th>DIST_Z_COSMO_SIGMA</th><th>MW_TRANSMISSION</th><th>APP_MAG_Z</th><th>ABS_MAG_Z</th><th>LUM_Z</th></tr></thead>\n",
       "<thead><tr><th></th><th></th><th></th><th></th><th></th><th></th><th></th><th></th><th></th><th></th><th></th><th></th><th></th><th></th><th></th><th></th><th>Mpc</th><th>Mpc</th><th>1 / Mpc2</th><th>Mpc</th><th>Mpc</th><th>Mpc</th><th></th><th></th><th></th><th>W</th></tr></thead>\n",
       "<thead><tr><th>int64</th><th>float64</th><th>float64</th><th>int64</th><th>float64</th><th>float64</th><th>int64</th><th>float64</th><th>float64</th><th>float64</th><th>bytes6</th><th>int64</th><th>float64</th><th>float64</th><th>int64</th><th>float64</th><th>float64</th><th>float64</th><th>float64</th><th>float64</th><th>float64</th><th>float64</th><th>float64</th><th>float64</th><th>float64</th><th>float64</th></tr></thead>\n",
       "<tr><td>39633152527829326</td><td>118.906678329667</td><td>44.1510985183761</td><td>20211118</td><td>0.250212279663719</td><td>4.39164549948528e-05</td><td>0</td><td>8.25737571716309</td><td>30.2751045227051</td><td>62.1839752197266</td><td>GALAXY</td><td>514</td><td>0.0384103842079639</td><td>4.0</td><td>367430</td><td>0.002309398664443288</td><td>1688.1439909613746</td><td>546.3637613112317</td><td>3.1763170746527723e-07</td><td>1249.215641425272</td><td>0.18677842088531804</td><td>125.45424331644587</td><td>0.9584696814786067</td><td>17.969749745256156</td><td>-22.603889183524526</td><td>1.279373319216952e+37</td></tr>\n",
       "<tr><td>39633152527828097</td><td>118.809489648199</td><td>44.2443747476614</td><td>20220120</td><td>0.280384446646277</td><td>6.07216539287859e-05</td><td>0</td><td>4.95839929580688</td><td>19.8158664703369</td><td>40.9044227600098</td><td>GALAXY</td><td>514</td><td>0.038984939455986</td><td>6.0</td><td>367430</td><td>0.002309398664443288</td><td>1688.1439909613746</td><td>546.3637613112317</td><td>3.1763170746527723e-07</td><td>1422.2417084476265</td><td>0.25825490876431306</td><td>144.97255331633636</td><td>0.9578617323116975</td><td>18.423831386814637</td><td>-22.431601112335475</td><td>1.0916465861800876e+37</td></tr>\n",
       "<tr><td>39633161172291136</td><td>118.873211836502</td><td>44.7619939608835</td><td>20220120</td><td>0.244686964548673</td><td>5.35435895999678e-05</td><td>0</td><td>12.9800462722778</td><td>50.5608215332031</td><td>106.112655639648</td><td>GALAXY</td><td>514</td><td>0.0427299551665783</td><td>3.42190170288086</td><td>367448</td><td>0.0023068785459244134</td><td>1690.9741988348787</td><td>546.5682104532159</td><td>3.166472893048871e-07</td><td>1218.0011520320193</td><td>0.2277246782727707</td><td>121.98016828617958</td><td>0.953908488635975</td><td>17.38434882478676</td><td>-23.134319434090653</td><td>2.0853040642903e+37</td></tr>\n",
       "<tr><td>39633182479352413</td><td>119.081633292598</td><td>45.9375514547605</td><td>20211101</td><td>0.371062732700941</td><td>4.72749213505025e-05</td><td>0</td><td>4.11149740219116</td><td>20.5573787689209</td><td>50.4147033691406</td><td>GALAXY</td><td>514</td><td>0.0540316924452782</td><td>4.96147584915161</td><td>368138</td><td>0.002305117095712444</td><td>1697.862684593644</td><td>547.802110540738</td><td>3.141904425997217e-07</td><td>1967.0912743753804</td><td>0.20106262648829956</td><td>209.0891153123109</td><td>0.9420769984947268</td><td>18.17882296019893</td><td>-23.381138212610033</td><td>2.6175615409840283e+37</td></tr>\n",
       "<tr><td>39633178255690531</td><td>119.144996424304</td><td>45.8666491130121</td><td>20211101</td><td>0.340908196383052</td><td>3.88058665389095e-05</td><td>0</td><td>4.76895952224731</td><td>23.6075038909912</td><td>56.5175437927246</td><td>GALAXY</td><td>514</td><td>0.0509846955537796</td><td>5.73062086105347</td><td>368138</td><td>0.002305117095712444</td><td>1697.862684593644</td><td>547.802110540738</td><td>3.141904425997217e-07</td><td>1781.9220815276844</td><td>0.16504224229686515</td><td>186.8733386486535</td><td>0.9452522940051005</td><td>18.058411151291995</td><td>-23.286791030613276</td><td>2.3997059497573966e+37</td></tr>\n",
       "</table></div>"
      ],
      "text/plain": [
       "<Table length=5>\n",
       "     TARGETID        TARGET_RA     ...         LUM_Z         \n",
       "                                   ...           W           \n",
       "      int64           float64      ...        float64        \n",
       "----------------- ---------------- ... ----------------------\n",
       "39633152527829326 118.906678329667 ...  1.279373319216952e+37\n",
       "39633152527828097 118.809489648199 ... 1.0916465861800876e+37\n",
       "39633161172291136 118.873211836502 ...    2.0853040642903e+37\n",
       "39633182479352413 119.081633292598 ... 2.6175615409840283e+37\n",
       "39633178255690531 119.144996424304 ... 2.3997059497573966e+37"
      ]
     },
     "execution_count": 147,
     "metadata": {},
     "output_type": "execute_result"
    }
   ],
   "source": [
    "data_f[:5]"
   ]
  },
  {
   "cell_type": "code",
   "execution_count": 148,
   "metadata": {},
   "outputs": [
    {
     "data": {
      "image/png": "[encoded data removed]",
      "text/plain": [
       "<Figure size 1000x500 with 3 Axes>"
      ]
     },
     "metadata": {},
     "output_type": "display_data"
    }
   ],
   "source": [
    "fig, ax = plt.subplots(ncols = 3, figsize=(10,5))\n",
    "\n",
    "plot_names = [\"APP_MAG_R\", \"ABS_MAG_R\", \"LUM_R]\n",
    "cnt = 0\n",
    "for axis in ax:\n",
    "    axis.hist(data_f[plot_names[cnt]], bins = \"auto\")\n",
    "    axis.set_yscale(\"log\")\n",
    "    cnt += 1\n",
    "plt.show()"
   ]
  },
  {
   "cell_type": "code",
   "execution_count": 149,
   "metadata": {},
   "outputs": [],
   "source": [
    "# np.max(data_f[\"MW_TRANSMISSION\"])"
   ]
  },
  {
   "cell_type": "code",
   "execution_count": 150,
   "metadata": {},
   "outputs": [
    {
     "name": "stdout",
     "output_type": "stream",
     "text": [
      "The maximum luminosity in our cataloge in the z-band is 3.171283330403488e+38 W with a prob density of      PROBDENSITY      \n",
      "----------------------\n",
      "0.00034457847573805714\n"
     ]
    }
   ],
   "source": [
    "max_lum_r = np.max(data_f[\"LUM_R\"])*u.W\n",
    "prob_dens_max_lum = data_f[data_f[\"LUM_R\"] == max_lum_r][\"PROBDENSITY\"]\n",
    "print(f\"The maximum luminosity in our cataloge in the r-band is {max_lum_r} with a prob density of {prob_dens_max_lum}\")"
   ]
  },
  {
   "cell_type": "code",
   "execution_count": 151,
   "metadata": {},
   "outputs": [],
   "source": [
    "arg_errfc = abs(data_f[\"DIST_Z_MEAN\"]-data_f[\"DISTMU\"])/(data_f[\"DIST_Z_ERR\"]**2+data_f[\"DISTSIGMA\"]**2+data_f[\"DIST_Z_COSMO_SIGMA\"].value**2)\n",
    "P_gal_unnorm = data_f[\"LUM_R\"]*data_f[\"PROBDENSITY\"]*(1-sc.special.erf(arg_errfc))\n",
    "#dist_mean*u.Mpc, dist_std*u.Mpc\n",
    "arg_errfc_c = abs(data_f[\"DIST_Z_MEAN\"].value-dist_mean)/(data_f[\"DIST_Z_ERR\"].value**2+dist_std**2+data_f[\"DIST_Z_COSMO_SIGMA\"].value**2)\n",
    "P_gal_unnorm_const = data_f[\"LUM_R\"]*data_f[\"PROBDENSITY\"]*(1-sc.special.erf(arg_errfc_c))\n",
    "\n",
    "# now lets quickly normalize\n",
    "\n",
    "P_gal_sum = np.sum(P_gal_unnorm)\n",
    "P_gal_const_sum = np.sum(P_gal_unnorm_const)\n",
    "\n",
    "P_gal = 1/P_gal_sum * P_gal_unnorm\n",
    "P_gal_const = 1/P_gal_const_sum * P_gal_unnorm_const"
   ]
  },
  {
   "cell_type": "markdown",
   "metadata": {},
   "source": [
    "### Get the missed fraction of DESI due to mass/luminosity incompleteness\n",
    "\n",
    "$$f_{missed} =  \\frac{\\int_{-\\infty}^{\\infty} dm 10^{-0.4m}\\left(1-\\frac{Hist}{Schechter}\\right)\\cdot Schechter}{\\int_{-\\infty}^{\\infty}dm 10^{-0.4m}\\cdot Schechter}$$"
   ]
  },
  {
   "cell_type": "code",
   "execution_count": 152,
   "metadata": {},
   "outputs": [
    {
     "data": {
      "image/png": "[encoded data removed]",
      "text/plain": [
       "<Figure size 500x250 with 1 Axes>"
      ]
     },
     "metadata": {},
     "output_type": "display_data"
    }
   ],
   "source": [
    "# get the Schechter model, see 1/V estimator, bin size of half a mag\n",
    "from astropy.modeling.models import Schechter1D\n",
    "\n",
    "phi_star = 0.0017411666759990893\n",
    "m_star = -21.938911723873762\n",
    "alpha = -1.0776969153907823\n",
    "\n",
    "schechter_model = Schechter1D(phi_star, m_star, alpha)"
   ]
  },
  {
   "cell_type": "code",
   "execution_count": 206,
   "metadata": {},
   "outputs": [],
   "source": [
    "abs_mag_max = np.max(data_f[\"ABS_MAG_R\"])\n",
    "abs_mag_min = np.min(data_f[\"ABS_MAG_R\"])\n",
    "\n",
    "bins = np.arange(abs_mag_min, abs_mag_max, 0.5)\n",
    "\n",
    "hist, bins = np.histogram(data_f[\"ABS_MAG_R\"], bins =  bins)\n",
    "hist = hist/(area_99.to_value(u.deg**2)*(data_max_dist-data_min_dist).value*10**6) # completely wrong normalization"
   ]
  },
  {
   "cell_type": "code",
   "execution_count": 207,
   "metadata": {},
   "outputs": [
    {
     "data": {
      "text/plain": [
       "(-26.089483571694252, -18.465620377353734)"
      ]
     },
     "execution_count": 207,
     "metadata": {},
     "output_type": "execute_result"
    }
   ],
   "source": [
    "abs_mag_min, abs_mag_max"
   ]
  },
  {
   "cell_type": "code",
   "execution_count": 208,
   "metadata": {},
   "outputs": [],
   "source": [
    "data_min_dist = np.min(data_f[\"DIST_Z_MEAN\"])*u.Mpc\n",
    "data_max_dist = np.max(data_f[\"DIST_Z_MEAN\"])*u.Mpc"
   ]
  },
  {
   "cell_type": "code",
   "execution_count": 209,
   "metadata": {},
   "outputs": [
    {
     "data": {
      "text/plain": [
       "(<Quantity 309.81656075 Mpc>, <Quantity 2646.51551689 Mpc>, 2336698956.1479993)"
      ]
     },
     "execution_count": 209,
     "metadata": {},
     "output_type": "execute_result"
    }
   ],
   "source": [
    "data_min_dist, data_max_dist, (data_max_dist-data_min_dist).value*10**6"
   ]
  },
  {
   "cell_type": "code",
   "execution_count": 210,
   "metadata": {},
   "outputs": [
    {
     "data": {
      "image/png": "[encoded data removed]",
      "text/plain": [
       "<Figure size 500x250 with 1 Axes>"
      ]
     },
     "metadata": {},
     "output_type": "display_data"
    }
   ],
   "source": [
    "fig, ax = plt.subplots(figsize = (5,2.5))\n",
    "bins_center = bins[1:]-(bins[1]-bins[2])/2\n",
    "ax.plot(bins_center, hist, label = \"wrongly normalized distribution\")\n",
    "ax.plot(np.linspace(-25,-18), schechter_model(np.linspace(-25,-18)),  label = \"some schechter fit\", color = \"red\")\n",
    "\n",
    "ax.set_yscale(\"log\")\n",
    "plt.show()"
   ]
  },
  {
   "cell_type": "code",
   "execution_count": 158,
   "metadata": {},
   "outputs": [
    {
     "data": {
      "text/plain": [
       "array([    1,    23,   248,  2116, 10870, 34555, 56545, 52192, 32187,\n",
       "       10300,  2314,   677,   250,   114,    25])"
      ]
     },
     "execution_count": 158,
     "metadata": {},
     "output_type": "execute_result"
    }
   ],
   "source": [
    "hist"
   ]
  },
  {
   "cell_type": "code",
   "execution_count": 238,
   "metadata": {},
   "outputs": [
    {
     "name": "stdout",
     "output_type": "stream",
     "text": [
      "(1052592.2510182592, 0.0003153399144935065)\n",
      "(1052592.2749107545, 0.0003165349709348675)\n",
      "0.9999999773012819\n"
     ]
    }
   ],
   "source": [
    "from scipy.integrate import quad\n",
    "\n",
    "def hist_func(M):\n",
    "    # https://stackoverflow.com/questions/2566412/find-nearest-value-in-numpy-array\n",
    "    # make sure array is a numpy array\n",
    "    # array = np.array(array)\n",
    "    idx = (np.abs(hist - M)).argmin()\n",
    "    val = hist[idx]\n",
    "    #print(f\"val {val}\")\n",
    "    return val\n",
    "\n",
    "def num_func(M):\n",
    "    #print(f\"M is {M}\")\n",
    "    schechter_val = schechter_model(M)\n",
    "    #print(f\"schechter Val: {schechter_val}\")\n",
    "    lum_factor = 10**(-0.4*M)\n",
    "    #print(f\"lum factor {lum_factor}\")\n",
    "    weighting_coverage = (1-hist_func(M)/(schechter_val))\n",
    "    #print(f\"weighting_coverage: {weighting_coverage}\")\n",
    "    final_val = lum_factor*weighting_coverage*schechter_val\n",
    "    #print(f\"final value: {final_val}\")\n",
    "    return final_val\n",
    "def denom_func(M):\n",
    "    lum_factor = 10**(-0.4*M)\n",
    "    schechter_val = schechter_model(M)\n",
    "    final_val = lum_factor*schechter_val\n",
    "\n",
    "    return final_val\n",
    "\n",
    "    \n",
    "    \n",
    "\n",
    "numerator = quad(num_func, -28, -18)\n",
    "denominator = quad(denom_func, -28, -18)\n",
    "\n",
    "print(numerator)\n",
    "print(denominator)\n",
    "\n",
    "f_missed = numerator[0]/denominator[0]\n",
    "\n",
    "print(f_missed)"
   ]
  },
  {
   "cell_type": "code",
   "execution_count": 160,
   "metadata": {},
   "outputs": [],
   "source": [
    "data_f = hstack([data_f, Table({\"P_GAL\": P_gal.value}), Table({\"P_GAL_C\": P_gal_const.value})])"
   ]
  },
  {
   "cell_type": "code",
   "execution_count": 161,
   "metadata": {},
   "outputs": [
    {
     "data": {
      "text/html": [
       "<div><i>Table length=202420</i>\n",
       "<table id=\"table140407891218528\" class=\"table-striped table-bordered table-condensed\">\n",
       "<thead><tr><th>TARGETID</th><th>TARGET_RA</th><th>TARGET_DEC</th><th>LASTNIGHT</th><th>Z</th><th>ZERR</th><th>ZWARN</th><th>FLUX_G</th><th>FLUX_R</th><th>FLUX_Z</th><th>SPECTYPE</th><th>BGS_TARGET</th><th>EBV</th><th>SERSIC</th><th>UNIQ</th><th>PROBDENSITY</th><th>DISTMU</th><th>DISTSIGMA</th><th>DISTNORM</th><th>DIST_Z_MEAN</th><th>DIST_Z_ERR</th><th>DIST_Z_COSMO_SIGMA</th><th>MW_TRANSMISSION</th><th>APP_MAG_Z</th><th>ABS_MAG_Z</th><th>LUM_Z</th><th>P_GAL</th><th>P_GAL_C</th></tr></thead>\n",
       "<thead><tr><th></th><th></th><th></th><th></th><th></th><th></th><th></th><th></th><th></th><th></th><th></th><th></th><th></th><th></th><th></th><th></th><th>Mpc</th><th>Mpc</th><th>1 / Mpc2</th><th>Mpc</th><th>Mpc</th><th>Mpc</th><th></th><th></th><th></th><th>W</th><th></th><th></th></tr></thead>\n",
       "<thead><tr><th>int64</th><th>float64</th><th>float64</th><th>int64</th><th>float64</th><th>float64</th><th>int64</th><th>float64</th><th>float64</th><th>float64</th><th>bytes6</th><th>int64</th><th>float64</th><th>float64</th><th>int64</th><th>float64</th><th>float64</th><th>float64</th><th>float64</th><th>float64</th><th>float64</th><th>float64</th><th>float64</th><th>float64</th><th>float64</th><th>float64</th><th>float64</th><th>float64</th></tr></thead>\n",
       "<tr><td>39633152527829326</td><td>118.906678329667</td><td>44.1510985183761</td><td>20211118</td><td>0.250212279663719</td><td>4.39164549948528e-05</td><td>0</td><td>8.25737571716309</td><td>30.2751045227051</td><td>62.1839752197266</td><td>GALAXY</td><td>514</td><td>0.0384103842079639</td><td>4.0</td><td>367430</td><td>0.002309398664443288</td><td>1688.1439909613746</td><td>546.3637613112317</td><td>3.1763170746527723e-07</td><td>1249.215641425272</td><td>0.18677842088531804</td><td>125.45424331644587</td><td>0.9584696814786067</td><td>17.969749745256156</td><td>-22.603889183524526</td><td>1.279373319216952e+37</td><td>1.4776209986532556e-05</td><td>1.4773380366171452e-05</td></tr>\n",
       "<tr><td>39633152527828097</td><td>118.809489648199</td><td>44.2443747476614</td><td>20220120</td><td>0.280384446646277</td><td>6.07216539287859e-05</td><td>0</td><td>4.95839929580688</td><td>19.8158664703369</td><td>40.9044227600098</td><td>GALAXY</td><td>514</td><td>0.038984939455986</td><td>6.0</td><td>367430</td><td>0.002309398664443288</td><td>1688.1439909613746</td><td>546.3637613112317</td><td>3.1763170746527723e-07</td><td>1422.2417084476265</td><td>0.25825490876431306</td><td>144.97255331633636</td><td>0.9578617323116975</td><td>18.423831386814637</td><td>-22.431601112335475</td><td>1.0916465861800876e+37</td><td>1.2616091859631913e-05</td><td>1.2613459168425436e-05</td></tr>\n",
       "<tr><td>39633161172291136</td><td>118.873211836502</td><td>44.7619939608835</td><td>20220120</td><td>0.244686964548673</td><td>5.35435895999678e-05</td><td>0</td><td>12.9800462722778</td><td>50.5608215332031</td><td>106.112655639648</td><td>GALAXY</td><td>514</td><td>0.0427299551665783</td><td>3.42190170288086</td><td>367448</td><td>0.0023068785459244134</td><td>1690.9741988348787</td><td>546.5682104532159</td><td>3.166472893048871e-07</td><td>1218.0011520320193</td><td>0.2277246782727707</td><td>121.98016828617958</td><td>0.953908488635975</td><td>17.38434882478676</td><td>-23.134319434090653</td><td>2.0853040642903e+37</td><td>2.405505194113425e-05</td><td>2.4050742007987522e-05</td></tr>\n",
       "<tr><td>39633182479352413</td><td>119.081633292598</td><td>45.9375514547605</td><td>20211101</td><td>0.371062732700941</td><td>4.72749213505025e-05</td><td>0</td><td>4.11149740219116</td><td>20.5573787689209</td><td>50.4147033691406</td><td>GALAXY</td><td>514</td><td>0.0540316924452782</td><td>4.96147584915161</td><td>368138</td><td>0.002305117095712444</td><td>1697.862684593644</td><td>547.802110540738</td><td>3.141904425997217e-07</td><td>1967.0912743753804</td><td>0.20106262648829956</td><td>209.0891153123109</td><td>0.9420769984947268</td><td>18.17882296019893</td><td>-23.381138212610033</td><td>2.6175615409840283e+37</td><td>3.019658554346583e-05</td><td>3.0214907714042832e-05</td></tr>\n",
       "<tr><td>39633178255690531</td><td>119.144996424304</td><td>45.8666491130121</td><td>20211101</td><td>0.340908196383052</td><td>3.88058665389095e-05</td><td>0</td><td>4.76895952224731</td><td>23.6075038909912</td><td>56.5175437927246</td><td>GALAXY</td><td>514</td><td>0.0509846955537796</td><td>5.73062086105347</td><td>368138</td><td>0.002305117095712444</td><td>1697.862684593644</td><td>547.802110540738</td><td>3.141904425997217e-07</td><td>1781.9220815276844</td><td>0.16504224229686515</td><td>186.8733386486535</td><td>0.9452522940051005</td><td>18.058411151291995</td><td>-23.286791030613276</td><td>2.3997059497573966e+37</td><td>2.770000869998367e-05</td><td>2.7710092349914175e-05</td></tr>\n",
       "<tr><td>39633156860543914</td><td>118.898880617295</td><td>44.4111127820708</td><td>20211118</td><td>0.26586256873395</td><td>4.85071804355085e-05</td><td>0</td><td>7.74222135543823</td><td>27.5101795196533</td><td>55.5864219665527</td><td>GALAXY</td><td>514</td><td>0.0384740717709064</td><td>4.0</td><td>367431</td><td>0.002301761888748198</td><td>1691.9889397427887</td><td>547.4038461753645</td><td>3.162120952007404e-07</td><td>1338.4260897900322</td><td>0.20630368056037957</td><td>135.46322854783233</td><td>0.9584022732986446</td><td>18.091447788180073</td><td>-22.632036441397023</td><td>1.312974201002241e+37</td><td>1.5119006720343817e-05</td><td>1.5116112254598185e-05</td></tr>\n",
       "<tr><td>39633152532023216</td><td>119.218775817477</td><td>44.3666649575153</td><td>20230225</td><td>0.408128184737146</td><td>4.66260955727777e-05</td><td>0</td><td>4.9708080291748</td><td>21.1988697052002</td><td>44.6948127746582</td><td>GALAXY</td><td>514</td><td>0.0407212749123573</td><td>6.0</td><td>367431</td><td>0.002301761888748198</td><td>1691.9889397427887</td><td>547.4038461753645</td><td>3.162120952007404e-07</td><td>2199.850969333346</td><td>0.19830303952220252</td><td>237.58568723937356</td><td>0.9560268212737574</td><td>18.32553238545544</td><td>-23.47735703081367</td><td>2.860121142437536e+37</td><td>3.292283492419548e-05</td><td>3.2943710649225846e-05</td></tr>\n",
       "<tr><td>39633156860545502</td><td>119.024762190533</td><td>44.445181991329</td><td>20211118</td><td>0.360885569636525</td><td>1.9239568724376e-05</td><td>0</td><td>5.66625595092773</td><td>16.0077991485596</td><td>30.7674331665039</td><td>GALAXY</td><td>514</td><td>0.0403238609433174</td><td>1.0</td><td>367431</td><td>0.002301761888748198</td><td>1691.9889397427887</td><td>547.4038461753645</td><td>3.162120952007404e-07</td><td>1904.1677857443406</td><td>0.08182510621037353</td><td>201.493243523974</td><td>0.9564464868736793</td><td>18.73142352600588</td><td>-22.757915320164027</td><td>1.4743742730780843e+37</td><td>1.6986906783845907e-05</td><td>1.6997516437322353e-05</td></tr>\n",
       "<tr><td>39633156864737985</td><td>119.240068645613</td><td>44.3874550505158</td><td>20211118</td><td>0.342400779607998</td><td>4.4486556608403e-05</td><td>0</td><td>3.11925673484802</td><td>16.1916885375977</td><td>38.7133369445801</td><td>GALAXY</td><td>514</td><td>0.0405148789286613</td><td>1.75214672088623</td><td>367431</td><td>0.002301761888748198</td><td>1691.9889397427887</td><td>547.4038461753645</td><td>3.162120952007404e-07</td><td>1790.9966109103457</td><td>0.189203167924263</td><td>187.95226217481024</td><td>0.956244750600103</td><td>18.48177114144108</td><td>-22.874465517544408</td><td>1.6414506228013029e+37</td><td>1.8918871039932277e-05</td><td>1.8927274460990715e-05</td></tr>\n",
       "<tr><td>...</td><td>...</td><td>...</td><td>...</td><td>...</td><td>...</td><td>...</td><td>...</td><td>...</td><td>...</td><td>...</td><td>...</td><td>...</td><td>...</td><td>...</td><td>...</td><td>...</td><td>...</td><td>...</td><td>...</td><td>...</td><td>...</td><td>...</td><td>...</td><td>...</td><td>...</td><td>...</td><td>...</td></tr>\n",
       "<tr><td>39628416105843583</td><td>125.016848300671</td><td>27.0305222248222</td><td>20220221</td><td>0.352238360480861</td><td>9.16912282485273e-05</td><td>0</td><td>3.359778881073</td><td>14.9900045394897</td><td>34.4577903747559</td><td>GALAXY</td><td>131074</td><td>0.0307630971074104</td><td>4.0</td><td>5309</td><td>1.0072625140308474e-05</td><td>1191.0433896907052</td><td>872.0138009067713</td><td>4.6411401832517956e-07</td><td>1851.0454243791771</td><td>0.3899806387936812</td><td>195.1175849130611</td><td>0.9665982813867571</td><td>18.619896485002517</td><td>-22.80797880287651</td><td>1.5439496635465566e+37</td><td>7.782559019048943e-08</td><td>7.790528130410014e-08</td></tr>\n",
       "<tr><td>39628416105843604</td><td>125.017763611483</td><td>27.1060690662929</td><td>20220221</td><td>0.174594204333543</td><td>6.4429079356025e-06</td><td>0</td><td>40.7867965698242</td><td>80.0847930908203</td><td>135.294219970703</td><td>GALAXY</td><td>131074</td><td>0.0344518758356571</td><td>3.12070536613464</td><td>5309</td><td>1.0072625140308474e-05</td><td>1191.0433896907052</td><td>872.0138009067713</td><td>4.6411401832517956e-07</td><td>835.2499967016839</td><td>0.027401158799705557</td><td>80.6383251508116</td><td>0.9626687639729465</td><td>17.130494093127126</td><td>-22.568701547553275</td><td>1.2385747869923055e+37</td><td>6.245818547536509e-08</td><td>6.228487518509817e-08</td></tr>\n",
       "<tr><td>39628416105843845</td><td>125.031924428078</td><td>27.111346139475</td><td>20220221</td><td>0.182743475481368</td><td>6.18616527350448e-05</td><td>0</td><td>7.06354331970215</td><td>18.8773422241211</td><td>37.8468475341797</td><td>GALAXY</td><td>131074</td><td>0.0345714874565601</td><td>1.0</td><td>5309</td><td>1.0072625140308474e-05</td><td>1191.0433896907052</td><td>872.0138009067713</td><td>4.6411401832517956e-07</td><td>878.4550571645018</td><td>0.26310365985420575</td><td>85.18311791435873</td><td>0.9625416139518299</td><td>18.5134745099433</td><td>-21.295276774282947</td><td>3.833119207633413e+36</td><td>1.9330686211441386e-08</td><td>1.9278937407281224e-08</td></tr>\n",
       "<tr><td>39628416105844298</td><td>125.05760293352</td><td>27.0582763236863</td><td>20220221</td><td>0.195329095489262</td><td>4.88249500286496e-06</td><td>0</td><td>16.1714305877686</td><td>28.8249416351318</td><td>42.2510414123535</td><td>GALAXY</td><td>131074</td><td>0.0324333310127258</td><td>1.0</td><td>5309</td><td>1.0072625140308474e-05</td><td>1191.0433896907052</td><td>872.0138009067713</td><td>4.6411401832517956e-07</td><td>945.8634317663215</td><td>0.020764825898387997</td><td>92.33798030817498</td><td>0.9648170607556663</td><td>18.396518891122497</td><td>-21.572837259935703</td><td>4.949673134321937e+36</td><td>2.4964034418808e-08</td><td>2.4901003042516746e-08</td></tr>\n",
       "<tr><td>39628416105844454</td><td>125.066004935011</td><td>26.8948159752774</td><td>20220221</td><td>0.295192114961435</td><td>3.87620277378144e-05</td><td>0</td><td>5.62786912918091</td><td>16.5714530944824</td><td>34.0830993652344</td><td>GALAXY</td><td>131074</td><td>0.0294842533767223</td><td>1.82041370868683</td><td>5309</td><td>1.0072625140308474e-05</td><td>1191.0433896907052</td><td>872.0138009067713</td><td>4.6411401832517956e-07</td><td>1508.7160103243687</td><td>0.16485578935529616</td><td>154.88757059801287</td><td>0.9679643265670163</td><td>18.63330067846117</td><td>-22.350353714550224</td><td>1.012938555158221e+37</td><td>5.1083321555453874e-08</td><td>5.1063541203964186e-08</td></tr>\n",
       "<tr><td>39628416105845035</td><td>125.096545860918</td><td>26.9621489255148</td><td>20220221</td><td>0.105810267601623</td><td>7.04028114004126e-06</td><td>0</td><td>32.7034111022949</td><td>51.0725173950195</td><td>74.8686370849609</td><td>GALAXY</td><td>131074</td><td>0.030414167791605</td><td>1.0</td><td>5309</td><td>1.0072625140308474e-05</td><td>1191.0433896907052</td><td>872.0138009067713</td><td>4.6411401832517956e-07</td><td>484.9421737158699</td><td>0.029941751670273208</td><td>45.04974029317851</td><td>0.9669708120422257</td><td>17.777783594652114</td><td>-20.74040110026226</td><td>2.299333973077227e+36</td><td>1.1588908019834536e-08</td><td>1.1547543157641105e-08</td></tr>\n",
       "<tr><td>39628416105845154</td><td>125.102652884741</td><td>27.0724040607423</td><td>20220221</td><td>0.260076875615708</td><td>2.68207689569074e-05</td><td>0</td><td>8.0509786605835</td><td>23.2759952545166</td><td>47.3401031494141</td><td>GALAXY</td><td>131074</td><td>0.0330906212329865</td><td>2.68221378326416</td><td>5309</td><td>1.0072625140308474e-05</td><td>1191.0433896907052</td><td>872.0138009067713</td><td>4.6411401832517956e-07</td><td>1305.3099634279536</td><td>0.11406830354239</td><td>131.73404320968496</td><td>0.9641169940889952</td><td>18.272251345444342</td><td>-22.39680722736669</td><td>1.0572178983577278e+37</td><td>5.3331898098197686e-08</td><td>5.325728103564492e-08</td></tr>\n",
       "<tr><td>39628416110035087</td><td>125.138120219067</td><td>26.9879742417399</td><td>20220221</td><td>0.105590885273648</td><td>7.88571370309203e-06</td><td>0</td><td>47.4416999816895</td><td>91.1745223999023</td><td>150.456634521484</td><td>GALAXY</td><td>131074</td><td>0.0306672863662243</td><td>0.643560290336609</td><td>5309</td><td>1.0072625140308474e-05</td><td>1191.0433896907052</td><td>872.0138009067713</td><td>4.6411401832517956e-07</td><td>483.86726742516873</td><td>0.03353733027026082</td><td>44.944185438972184</td><td>0.9667005584047631</td><td>17.019701565880343</td><td>-21.493663258706302</td><td>4.6015793933084445e+36</td><td>2.3192452832208066e-08</td><td>2.310961454284152e-08</td></tr>\n",
       "<tr><td>39628416110035334</td><td>125.151221631566</td><td>26.9087310536509</td><td>20220221</td><td>0.241091754226828</td><td>5.53242737434986e-05</td><td>0</td><td>6.24959087371826</td><td>20.1616516113281</td><td>42.9787178039551</td><td>GALAXY</td><td>131074</td><td>0.0291141271591187</td><td>2.85131287574768</td><td>5309</td><td>1.0072625140308474e-05</td><td>1191.0433896907052</td><td>872.0138009067713</td><td>4.6411401832517956e-07</td><td>1197.770122676862</td><td>0.2352983737732666</td><td>119.73641303679652</td><td>0.9683600509618292</td><td>18.381958524234747</td><td>-22.100324020265553</td><td>8.045836891832029e+36</td><td>4.059396804030236e-08</td><td>4.051503237424143e-08</td></tr>\n",
       "<tr><td>39628437580677859</td><td>124.937870415734</td><td>28.1223006780036</td><td>20211204</td><td>0.360047464460604</td><td>2.13654523854284e-05</td><td>0</td><td>11.2783098220825</td><td>15.7344570159912</td><td>35.997730255127</td><td>QSO</td><td>131074</td><td>0.0260429382324219</td><td>1.0</td><td>5309</td><td>1.0072625140308474e-05</td><td>1191.0433896907052</td><td>872.0138009067713</td><td>4.6411401832517956e-07</td><td>1899.0052552849725</td><td>0.09086655069811453</td><td>200.8721457267909</td><td>0.9716498922004234</td><td>18.578086721304274</td><td>-22.90535471034441</td><td>1.6888205314915498e+37</td><td>8.512253735470053e-08</td><td>8.520216362211635e-08</td></tr>\n",
       "</table></div>"
      ],
      "text/plain": [
       "<Table length=202420>\n",
       "     TARGETID        TARGET_RA     ...        P_GAL_C        \n",
       "                                   ...                       \n",
       "      int64           float64      ...        float64        \n",
       "----------------- ---------------- ... ----------------------\n",
       "39633152527829326 118.906678329667 ... 1.4773380366171452e-05\n",
       "39633152527828097 118.809489648199 ... 1.2613459168425436e-05\n",
       "39633161172291136 118.873211836502 ... 2.4050742007987522e-05\n",
       "39633182479352413 119.081633292598 ... 3.0214907714042832e-05\n",
       "39633178255690531 119.144996424304 ... 2.7710092349914175e-05\n",
       "39633156860543914 118.898880617295 ... 1.5116112254598185e-05\n",
       "39633152532023216 119.218775817477 ... 3.2943710649225846e-05\n",
       "39633156860545502 119.024762190533 ... 1.6997516437322353e-05\n",
       "39633156864737985 119.240068645613 ... 1.8927274460990715e-05\n",
       "              ...              ... ...                    ...\n",
       "39628416105843583 125.016848300671 ...  7.790528130410014e-08\n",
       "39628416105843604 125.017763611483 ...  6.228487518509817e-08\n",
       "39628416105843845 125.031924428078 ... 1.9278937407281224e-08\n",
       "39628416105844298  125.05760293352 ... 2.4901003042516746e-08\n",
       "39628416105844454 125.066004935011 ... 5.1063541203964186e-08\n",
       "39628416105845035 125.096545860918 ... 1.1547543157641105e-08\n",
       "39628416105845154 125.102652884741 ...  5.325728103564492e-08\n",
       "39628416110035087 125.138120219067 ...  2.310961454284152e-08\n",
       "39628416110035334 125.151221631566 ...  4.051503237424143e-08\n",
       "39628437580677859 124.937870415734 ...  8.520216362211635e-08"
      ]
     },
     "execution_count": 161,
     "metadata": {},
     "output_type": "execute_result"
    }
   ],
   "source": [
    "data_f[:]"
   ]
  },
  {
   "cell_type": "markdown",
   "metadata": {
    "tags": []
   },
   "source": [
    "## Analyse the data: How much luminosity do we cover? Which galaxies should we observe?\n",
    "\n",
    "Lets look into what information we can retrieve from here. First we define, how many galaxies we could observe (N_galaxies).\n",
    "\n",
    "We then calculate the luminosity (lum) from all the galaxies in this area, i.e. the total luminosity. From there do some comparison between the covered luminosity and total luminosity depending on the ranking by probability:\n",
    "- simple \"Maximum lum that could be covered\" by looking at the brightest galaxies\n",
    "- Calculate the probability this way (done above) (from https://arxiv.org/pdf/1710.05452.pdf w/o normalization), both using a static and variable distance and error: $$P_{gal} = k^{-1}\\tilde{L_z}(1-f_{missed})\\cdot P_{2D}\\left(1-\\text{erf}\\left(\\frac{|D_{Gal}-D_{LVC}|}{\\sigma_{D,gal}^{2}+\\sigma_{D,LVC}^{2}+\\sigma_{D,cosmology}^{2}}\\right)\\right)$$\n",
    "- others may follow...\n",
    "\n",
    "Since we have the actual luminosity (here in r-band though), we don't need to again calculate the $$\\tilde{L}_{gal}$$ values. In the mentioned paper, they only use a fixed distance and error for the LIGO data. I will try both, to get an idea what the differences are."
   ]
  },
  {
   "cell_type": "code",
   "execution_count": 162,
   "metadata": {},
   "outputs": [],
   "source": [
    "N_galaxies = 200 # how many galaxies we can cover"
   ]
  },
  {
   "cell_type": "code",
   "execution_count": 163,
   "metadata": {},
   "outputs": [],
   "source": [
    "total_lum = np.sum(data_f[\"LUM_R\"])"
   ]
  },
  {
   "cell_type": "markdown",
   "metadata": {
    "tags": []
   },
   "source": [
    "### Compare lum with luminosity ranking\n",
    "\n",
    "https://iopscience.iop.org/article/10.3847/0067-0049/226/1/10"
   ]
  },
  {
   "cell_type": "code",
   "execution_count": 164,
   "metadata": {},
   "outputs": [],
   "source": [
    "data_sort_by_lums = data_f.group_by(\"LUM_R\")\n",
    "data_sort_by_lums = data_sort_by_lums[::-1]"
   ]
  },
  {
   "cell_type": "code",
   "execution_count": 165,
   "metadata": {},
   "outputs": [],
   "source": [
    "lum_after_N_highest = np.sum(data_sort_by_lums[\"LUM_R\"][:N_galaxies])"
   ]
  },
  {
   "cell_type": "code",
   "execution_count": 166,
   "metadata": {},
   "outputs": [
    {
     "name": "stdout",
     "output_type": "stream",
     "text": [
      "The theoretical maximum luminosity we could cover is 2.0923658644240958e+40, i.e. 0.6718264224519654 % of the total luminosity\n",
      "The TARGETID values of these galaxies are: \n",
      "      TARGETID    \n",
      "-----------------\n",
      "39633519583955987\n",
      "39628317141243532\n",
      "39633331494585194\n",
      "39633061960224143\n",
      "39633519521040731\n",
      "39633398527952991\n",
      "39628448221629430\n",
      "39633471852776157\n",
      "39633457785079859\n",
      "39633135066940772\n",
      "              ...\n",
      "39628415933875200\n",
      "39628442857113411\n",
      "39628209150496338\n",
      "39628361479225544\n",
      "39633413044437317\n",
      "39633459999671368\n",
      "39628458699000753\n",
      "39632999679003469\n",
      "39633292588223192\n",
      "39632975016497097\n",
      "39633156755686590\n",
      "Length = 200 rows\n"
     ]
    }
   ],
   "source": [
    "print(f\"The theoretical maximum luminosity we could cover is {lum_after_N_highest}, i.e. {lum_after_N_highest*100/total_lum} % of the total luminosity\")\n",
    "print(\"The TARGETID values of these galaxies are: \\n\", data_sort_by_lums[\"TARGETID\"][:N_galaxies])"
   ]
  },
  {
   "cell_type": "markdown",
   "metadata": {
    "tags": []
   },
   "source": [
    "### Compare lum with P_Gal ranking"
   ]
  },
  {
   "cell_type": "code",
   "execution_count": 167,
   "metadata": {},
   "outputs": [],
   "source": [
    "data_sort_by_PGal = data_f.group_by(\"P_GAL\")\n",
    "data_sort_by_PGal = data_sort_by_PGal[::-1]\n",
    "\n",
    "lum_after_N_PGal = np.sum(data_sort_by_PGal[\"LUM_R\"][:N_galaxies])"
   ]
  },
  {
   "cell_type": "code",
   "execution_count": 168,
   "metadata": {},
   "outputs": [
    {
     "name": "stdout",
     "output_type": "stream",
     "text": [
      "The maximum luminosity we cover when ranked by P_gal is 1.597129400180014e+40, i.e. 0.5128136285147835% of the total luminosity\n",
      "The TARGETID values of these galaxies are: \n",
      "    TARGET_RA        TARGET_DEC    ...      TARGETID             P_GAL         \n",
      "---------------- ---------------- ... ----------------- ----------------------\n",
      " 117.64991014334  41.943822596004 ... 39633112686137586 0.00013368252947689049\n",
      "117.218516077531  36.437525614265 ... 39633009476897923 0.00012370739787647214\n",
      "120.273838944499 52.6321863007449 ... 39633289081785272 0.00011797084493841352\n",
      "116.090888343008 31.2909532321728 ... 39628505842979413 0.00011411109203238714\n",
      "116.010184054081 31.6929558824703 ... 39628516169355019 0.00011095777582093273\n",
      "119.226004901504 61.1194051446327 ... 39633398527952991 0.00010883779295763144\n",
      "120.720354411327 43.5630610397087 ... 39633139433211671 0.00010599215772655478\n",
      "117.019336896091 30.9884143955956 ... 39628500675597323 0.00010129176193993208\n",
      "119.229736128548 41.2011423205128 ... 39633099109174024  9.863038686866439e-05\n",
      "119.878385143462 41.7337446858855 ... 39633108198232073  9.807410282967046e-05\n",
      "             ...              ... ...               ...                    ...\n",
      "116.080540723119 31.5705299657569 ... 39628511014554653    5.3272365278369e-05\n",
      "118.925180068213 46.6088529390376 ... 39633190867961391  5.325022088426286e-05\n",
      "117.652336879974 45.7816541534387 ... 39633178238912773 5.3206890741659365e-05\n",
      "120.533884694667 49.0706595336476 ... 39633231657567813  5.318815950690546e-05\n",
      "123.579772109608 51.3052661621067 ... 39633266700977562  5.317453653789319e-05\n",
      "118.696926662673 38.3349801204527 ... 39633043199102999 5.3134111556585445e-05\n",
      "122.436754271206 60.6661127298162 ... 39633395591941528  5.299755616784024e-05\n",
      "125.868449926794 66.9227174646662 ... 39633462570782059 5.2894707351229767e-05\n",
      "117.607693930107  44.127050478689 ... 39633152511052822 5.2866972707455135e-05\n",
      "115.407803805851 42.4262273235404 ... 39633121640972811  5.283457327837386e-05\n",
      "117.980003544025 30.2259218273096 ... 39628485060200149  5.278530965890809e-05\n",
      "Length = 200 rows\n"
     ]
    }
   ],
   "source": [
    "print(f\"The maximum luminosity we cover when ranked by P_gal is {lum_after_N_PGal}, i.e. {lum_after_N_PGal*100/total_lum}% of the total luminosity\") \n",
    "print(\"The TARGETID values of these galaxies are: \\n\", data_sort_by_PGal[\"TARGET_RA\", \"TARGET_DEC\", \"SERSIC\", \"TARGETID\", \"P_GAL\"][:N_galaxies])"
   ]
  },
  {
   "cell_type": "code",
   "execution_count": 169,
   "metadata": {},
   "outputs": [],
   "source": [
    "data_sort_by_PGal_C = data_f.group_by(\"P_GAL_C\")\n",
    "data_sort_by_PGal_C = data_sort_by_PGal_C[::-1]\n",
    "\n",
    "lum_after_N_PGal_C = np.sum(data_sort_by_PGal_C[\"LUM_R\"][:N_galaxies])"
   ]
  },
  {
   "cell_type": "code",
   "execution_count": 170,
   "metadata": {},
   "outputs": [
    {
     "name": "stdout",
     "output_type": "stream",
     "text": [
      "The maximum luminosity we cover when ranked by P_gal_C is 1.5956175286512073e+40, i.e. 0.5123281898744028% of the total luminosity\n",
      "The TARGETID values of these galaxies are: \n",
      "      TARGETID             P_GAL         \n",
      "----------------- ----------------------\n",
      "39633112686137586 0.00013368252947689049\n",
      "39633009476897923 0.00012370739787647214\n",
      "39633289081785272 0.00011797084493841352\n",
      "39628505842979413 0.00011411109203238714\n",
      "39628516169355019 0.00011095777582093273\n",
      "39633398527952991 0.00010883779295763144\n",
      "39633139433211671 0.00010599215772655478\n",
      "39628500675597323 0.00010129176193993208\n",
      "39633099109174024  9.863038686866439e-05\n",
      "39633108198232073  9.807410282967046e-05\n",
      "              ...                    ...\n",
      "39633190867961391  5.325022088426286e-05\n",
      "39628511014554653    5.3272365278369e-05\n",
      "39633231657567813  5.318815950690546e-05\n",
      "39633178238912773 5.3206890741659365e-05\n",
      "39633043199102999 5.3134111556585445e-05\n",
      "39633266700977562  5.317453653789319e-05\n",
      "39633395591941528  5.299755616784024e-05\n",
      "39633462570782059 5.2894707351229767e-05\n",
      "39633152511052822 5.2866972707455135e-05\n",
      "39633121640972811  5.283457327837386e-05\n",
      "39633112677746075 5.2757815791583696e-05\n",
      "Length = 200 rows\n"
     ]
    }
   ],
   "source": [
    "print(f\"The maximum luminosity we cover when ranked by P_gal_C is {lum_after_N_PGal_C}, i.e. {lum_after_N_PGal_C*100/total_lum}% of the total luminosity\") \n",
    "print(\"The TARGETID values of these galaxies are: \\n\", data_sort_by_PGal_C[\"TARGETID\", \"P_GAL\"][:N_galaxies])"
   ]
  },
  {
   "cell_type": "markdown",
   "metadata": {
    "tags": []
   },
   "source": [
    "## Now lets do some final steps, including exporting the list\n",
    "\n",
    "We want to cut out galaxies that are not observable by Wendelstein. For this we need the date (to calculate alt and az; we do this for three times to check observability) and Wendelstein location."
   ]
  },
  {
   "cell_type": "code",
   "execution_count": 171,
   "metadata": {},
   "outputs": [],
   "source": [
    "from astropy.coordinates import SkyCoord, EarthLocation, AltAz\n",
    "\n",
    "from datetime import datetime\n",
    "from suntimes import SunTimes\n",
    "\n",
    "#date\n",
    "day = datetime(2023,1,6)\n",
    "\n",
    "def conv_to_deg(deg, arcmin, arcsec):\n",
    "    return (deg+ arcmin/60+ arcsec/3600)*u.deg\n",
    "Wendelstein_loc = EarthLocation(lat = conv_to_deg(47, 42, 13.1), lon = conv_to_deg(12, 0, 43.4), height = 1838*u.m)"
   ]
  },
  {
   "cell_type": "code",
   "execution_count": 172,
   "metadata": {},
   "outputs": [
    {
     "data": {
      "text/plain": [
       "datetime.datetime(2023, 1, 6, 3, 6)"
      ]
     },
     "execution_count": 172,
     "metadata": {},
     "output_type": "execute_result"
    }
   ],
   "source": [
    "sun = SunTimes(Wendelstein_loc.lat.to_value(), Wendelstein_loc.lon.to_value(), Wendelstein_loc.height.to_value())\n",
    "sun.riseutc(day)"
   ]
  },
  {
   "cell_type": "code",
   "execution_count": 173,
   "metadata": {},
   "outputs": [],
   "source": [
    "r = rq.get('https://api.sunrise-sunset.org/json', params={'lat': Wendelstein_loc.lat.to_value(), 'lng': Wendelstein_loc.lon.to_value()}).json()['results']"
   ]
  },
  {
   "cell_type": "code",
   "execution_count": 174,
   "metadata": {},
   "outputs": [
    {
     "data": {
      "text/plain": [
       "'3:13:23 AM'"
      ]
     },
     "execution_count": 174,
     "metadata": {},
     "output_type": "execute_result"
    }
   ],
   "source": [
    "r[\"sunrise\"]"
   ]
  },
  {
   "cell_type": "code",
   "execution_count": 175,
   "metadata": {},
   "outputs": [
    {
     "name": "stdout",
     "output_type": "stream",
     "text": [
      "These are the stats for S230606d follow up :\n"
     ]
    }
   ],
   "source": [
    "print(f\"These are the stats for {superevent_name} follow up :\")"
   ]
  },
  {
   "cell_type": "code",
   "execution_count": 176,
   "metadata": {},
   "outputs": [
    {
     "name": "stdout",
     "output_type": "stream",
     "text": [
      "Localization area: 3081.8862652154053 deg2 \n",
      "Redshift range in data: 0.0692780624244073 to 0.476987133912732 \n",
      "corresponding lum distance range: 309.81656074662715 Mpc2 to 2646.5155168946267 Mpc2 \n",
      "highest prob location is at RA = 118.95491803278688 deg and dec = 44.20152985105137 deg \n",
      "total No. of objects in desi data is 202420\n"
     ]
    }
   ],
   "source": [
    "data_min_z = np.min(data_sort_by_PGal[\"Z\"])\n",
    "data_max_z = np.max(data_sort_by_PGal[\"Z\"])\n",
    "print(f\"Localization area: {area_99.to_value(u.deg**2)*u.deg**2} \\nRedshift range in data: {data_min_z} to {data_max_z} \\ncorresponding lum distance range: {data_min_dist*u.Mpc} to {data_max_dist*u.Mpc} \\nhighest prob location is at RA = {ra.deg*u.deg} and dec = {dec.deg*u.deg} \\ntotal No. of objects in desi data is {len(data_sort_by_PGal)}\")\n"
   ]
  },
  {
   "cell_type": "code",
   "execution_count": 177,
   "metadata": {},
   "outputs": [],
   "source": [
    "data_sort_by_PGal[\"TARGET_RA\", \"TARGET_DEC\", \"SERSIC\", \"Z\", \"P_GAL\"][:N_galaxies].write(f'PGAL/PGAL_{superevent_name}.ecsv', delimiter=',', format='ascii', overwrite = True)"
   ]
  },
  {
   "cell_type": "code",
   "execution_count": 178,
   "metadata": {},
   "outputs": [],
   "source": [
    "# add timing data to table, "
   ]
  }
 ],
 "metadata": {
  "kernelspec": {
   "display_name": "Python (MambaTest)",
   "language": "python",
   "name": "mambatest"
  },
  "language_info": {
   "codemirror_mode": {
    "name": "ipython",
    "version": 3
   },
   "file_extension": ".py",
   "mimetype": "text/x-python",
   "name": "python",
   "nbconvert_exporter": "python",
   "pygments_lexer": "ipython3",
   "version": "3.10.10"
  }
 },
 "nbformat": 4,
 "nbformat_minor": 4
}
