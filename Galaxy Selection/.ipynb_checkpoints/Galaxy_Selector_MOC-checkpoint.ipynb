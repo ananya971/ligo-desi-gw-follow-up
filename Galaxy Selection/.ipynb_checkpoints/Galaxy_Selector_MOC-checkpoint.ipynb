{
 "cells": [
  {
   "cell_type": "markdown",
   "metadata": {},
   "source": [
    "# Galaxy Selector MOC\n",
    "\n",
    "**Compared to the \"Simple Galaxy Selector, this works with Multi-Ordering-Sky-Maps**\n",
    "\n",
    "\n",
    "***NOTE (this note may be wrong, just copied from old notebook)***: Before anything can happen, download the GW event localization map. Open the terminal and type:\n",
    "\"curl -O https://gracedb.ligo.org/api/superevents/sid/files/bayestar.fits,0\"\n",
    "with sid = superevent ID (could be incorporated into this notebook)\n",
    "\n",
    "Select the galaxies to observe by WWFI in this simple manner:\n",
    "- get the LIGO event data\n",
    "- read the LIGO event data into the notebook, extract some information\n",
    "- read the DESI database into the notebook, \"clean\" the data\n",
    "- get the 90% credible regions for the event, add them as a column to the data\n",
    "- only keep data within the 90% region\n",
    "- calculate all the luminosities (& more)\n",
    "- rank them by luminosity (for now just print the TARGETID), 3D/2D localization and with a luminosity-distance 2D dependant counterpart likelihood\n",
    "\n",
    "Sources: \n",
    "- https://iopscience.iop.org/article/10.3847/0067-0049/226/1/10\n",
    "- https://emfollow.docs.ligo.org/userguide/tutorial/skymaps.html\n",
    "- https://emfollow.docs.ligo.org/userguide/tutorial/multiorder_skymaps.html\n",
    "- https://arxiv.org/pdf/1710.05452.pdf"
   ]
  },
  {
   "cell_type": "markdown",
   "metadata": {
    "tags": []
   },
   "source": [
    "## Import all libraries, load GW data and DESI data and extract basic info"
   ]
  },
  {
   "cell_type": "markdown",
   "metadata": {
    "tags": []
   },
   "source": [
    "### imports, GW data loading"
   ]
  },
  {
   "cell_type": "code",
   "execution_count": 90,
   "metadata": {},
   "outputs": [],
   "source": [
    "import numpy as np\n",
    "from scipy.stats import norm\n",
    "import scipy as sc\n",
    "\n",
    "from astropy.io import fits\n",
    "from astropy.table import Table, hstack\n",
    "from astropy import table\n",
    "\n",
    "import healpy as hp\n",
    "import astropy_healpix as ah\n",
    "\n",
    "from astropy.table import QTable\n",
    "\n",
    "import psycopg2\n",
    "\n",
    "from scipy.stats import norm\n",
    "\n",
    "\n",
    "from astropy.cosmology import Planck18, z_at_value\n",
    "from astropy.coordinates import Distance, SkyCoord\n",
    "from astropy import units as u\n",
    "\n",
    "import astropy.constants as asc\n",
    "\n",
    "import matplotlib.pyplot as plt\n",
    "\n",
    "import gasel as gs"
   ]
  },
  {
   "cell_type": "markdown",
   "metadata": {},
   "source": [
    "Specifiy the path where the data is located and then load the data (this loads everything, just have a look)"
   ]
  },
  {
   "cell_type": "code",
   "execution_count": 2,
   "metadata": {},
   "outputs": [
    {
     "data": {
      "text/html": [
       "<div><i>QTable length=5</i>\n",
       "<table id=\"table139680593388848\" class=\"table-striped table-bordered table-condensed\">\n",
       "<thead><tr><th>UNIQ</th><th>PROBDENSITY</th><th>DISTMU</th><th>DISTSIGMA</th><th>DISTNORM</th></tr></thead>\n",
       "<thead><tr><th></th><th>1 / sr</th><th>Mpc</th><th>Mpc</th><th>1 / Mpc2</th></tr></thead>\n",
       "<thead><tr><th>int64</th><th>float64</th><th>float64</th><th>float64</th><th>float64</th></tr></thead>\n",
       "<tr><td>1024</td><td>1.5324656455152846e-49</td><td>714.1819585125542</td><td>161.80898167011566</td><td>1.8648435769602432e-06</td></tr>\n",
       "<tr><td>1025</td><td>5.385644463361342e-50</td><td>721.1167587942227</td><td>171.98003188197197</td><td>1.8195498736811365e-06</td></tr>\n",
       "<tr><td>1026</td><td>1.507013849287337e-56</td><td>512.6497643516975</td><td>199.2304182183156</td><td>3.3061639172754294e-06</td></tr>\n",
       "<tr><td>1027</td><td>9.15663190324263e-58</td><td>624.4690102361741</td><td>203.60306281109953</td><td>2.3179848195476794e-06</td></tr>\n",
       "<tr><td>1028</td><td>1.0313363324845354e-49</td><td>674.1376225795897</td><td>201.22336091582892</td><td>2.0204049691069628e-06</td></tr>\n",
       "</table></div>"
      ],
      "text/plain": [
       "<QTable length=5>\n",
       " UNIQ      PROBDENSITY       ...     DISTSIGMA             DISTNORM       \n",
       "              1 / sr         ...        Mpc                1 / Mpc2       \n",
       "int64        float64         ...      float64              float64        \n",
       "----- ---------------------- ... ------------------ ----------------------\n",
       " 1024 1.5324656455152846e-49 ... 161.80898167011566 1.8648435769602432e-06\n",
       " 1025  5.385644463361342e-50 ... 171.98003188197197 1.8195498736811365e-06\n",
       " 1026  1.507013849287337e-56 ...  199.2304182183156 3.3061639172754294e-06\n",
       " 1027   9.15663190324263e-58 ... 203.60306281109953 2.3179848195476794e-06\n",
       " 1028 1.0313363324845354e-49 ... 201.22336091582892 2.0204049691069628e-06"
      ]
     },
     "execution_count": 2,
     "metadata": {},
     "output_type": "execute_result"
    }
   ],
   "source": [
    "path = \"/global/homes/j/jgassert/ligo-desi-gw-follow-up/Galaxy Selection/Files/S200129mbayestar.multiorder.fits,1\"\n",
    "skymap = QTable.read(path)\n",
    "\n",
    "skymap[:5]"
   ]
  },
  {
   "cell_type": "markdown",
   "metadata": {
    "tags": []
   },
   "source": [
    "### Get basic values from GW event\n",
    "\n",
    "We now extract some basic information  from the healpix data:\n",
    "- ipix_max: pixel with highest likelihood\n",
    "- npix: total number of pixels\n",
    "- ra, dec: ra and dec of the pixel with the highest likelihood\n",
    "\n",
    "Then we open the full fits file and extract some more basic info from the header:\n",
    "- dist_mean: mean distance of the GW event\n",
    "- dist_std: error of the distance"
   ]
  },
  {
   "cell_type": "code",
   "execution_count": 3,
   "metadata": {},
   "outputs": [
    {
     "name": "stdout",
     "output_type": "stream",
     "text": [
      "UNIQ ID of highest prob sky localization:  29382844\n"
     ]
    }
   ],
   "source": [
    "# most probable sky location\n",
    "i = np.argmax(skymap[\"PROBDENSITY\"])\n",
    "uniq = skymap[i][\"UNIQ\"]\n",
    "print(\"UNIQ ID of highest prob sky localization: \", uniq)"
   ]
  },
  {
   "cell_type": "code",
   "execution_count": 4,
   "metadata": {},
   "outputs": [
    {
     "name": "stdout",
     "output_type": "stream",
     "text": [
      "Highest probability at (RA, dec):  318.33984375 4.574345562095717 with prob [1/deg^2] of:  0.07437342287566126 and UNIQ ID:  29382844\n"
     ]
    }
   ],
   "source": [
    "# calculate the most probable pixel, convert to RA and dec\n",
    "level_max, ipix_max = ah.uniq_to_level_ipix(uniq)\n",
    "nside = ah.level_to_nside(level_max)\n",
    "ra, dec = ah.healpix_to_lonlat(ipix_max, nside, order = \"nested\")\n",
    "print(\"Highest probability at (RA, dec): \", ra.deg, dec.deg, \"with prob [1/deg^2] of: \", skymap[i]['PROBDENSITY'].to_value(u.deg**-2), \"and UNIQ ID: \", skymap[i][\"UNIQ\"])"
   ]
  },
  {
   "cell_type": "markdown",
   "metadata": {},
   "source": [
    "Now open the fits file and read basics info from the header"
   ]
  },
  {
   "cell_type": "code",
   "execution_count": 5,
   "metadata": {},
   "outputs": [
    {
     "name": "stdout",
     "output_type": "stream",
     "text": [
      "The dist_mean and dist_std values:  908.4386811451134 Mpc 202.2234141038336 Mpc\n"
     ]
    }
   ],
   "source": [
    "fits_gw = fits.open(path)\n",
    "header = fits_gw[1].header\n",
    "dist_mean = header[\"DISTMEAN\"]\n",
    "dist_std = header[\"DISTSTD\"]\n",
    "print(\"The dist_mean and dist_std values: \", dist_mean*u.Mpc, dist_std*u.Mpc)"
   ]
  },
  {
   "cell_type": "code",
   "execution_count": 6,
   "metadata": {},
   "outputs": [],
   "source": [
    "# these values (924, 188Mpc) are close to z= 0.19, 0.03"
   ]
  },
  {
   "cell_type": "markdown",
   "metadata": {
    "tags": []
   },
   "source": [
    "### Get DESI data\n",
    "\n",
    "Establish a connection to the DESI database and load the daily data."
   ]
  },
  {
   "cell_type": "code",
   "execution_count": 7,
   "metadata": {},
   "outputs": [],
   "source": [
    "try:\n",
    "    db = psycopg2.connect(host='decatdb.lbl.gov', database='desidb', user='desi', password = \"5kFibers!\", port=\"5432\")\n",
    "    cursor = db.cursor()\n",
    "except (Exception, psycopg2.Error) as error:\n",
    "    print(error)\n",
    "\n",
    "cursor = db.cursor()"
   ]
  },
  {
   "cell_type": "code",
   "execution_count": 8,
   "metadata": {},
   "outputs": [],
   "source": [
    "redux = 'daily'\n",
    "query = 'SELECT f.targetid,f.target_ra,f.target_dec,c.tileid,c.night,r.z,r.zerr,r.zwarn,r.deltachi2,f.flux_z,f.bgs_target,f.ebv, f.sersic, f.mws_target, c.filename\\n' \\\n",
    "                    f'FROM {redux}.tiles_fibermap f\\n' \\\n",
    "                    f'INNER JOIN {redux}.cumulative_tiles c ON f.cumultile_id=c.id\\n' \\\n",
    "                    f'INNER JOIN {redux}.tiles_redshifts r ON r.cumultile_id=c.id AND r.targetid=f.targetid\\n' \\\n",
    "                    f'WHERE q3c_radial_query( f.target_ra, f.target_dec, {ra.deg}, {dec.deg}, 50);'\n",
    "\n",
    "cursor.execute(query)\n",
    "rows = cursor.fetchall()"
   ]
  },
  {
   "cell_type": "markdown",
   "metadata": {
    "tags": []
   },
   "source": [
    "## Do all the calculations, selections,...\n",
    "\n",
    "- turn the daily DESI data into a Table\n",
    "- do some basic data selection stuff: only keep good + positive redshifts, only positive values of z-band flux and eliminate duplicates (right now simply takes the first entry)\n",
    "- add the ipix (healpix) pixel value for each target\n",
    "- calculate the probability for each target\n",
    "- add these values to the Table (\"PROB\"), select only targets within the 90% credible region (i.e. with a certainty of 90% the GW event is inside this region)\n",
    "- calculate the distances and its errors from the redshift, add to the data table\n",
    "- calculate the 3D probability just like here: https://iopscience.iop.org/article/10.3847/0067-0049/226/1/10 (§4) and add these values to the table\n",
    "- sort the table by its 3D probability (descending)\n",
    "- calculate absolute and apparent magnitude, luminosity and add to table\n",
    "\n",
    "The final step is to include the calculation of the most likely host galaxy from https://arxiv.org/pdf/1710.05452.pdf (GW170817); these values are then also added to the table as \"P_GAL\""
   ]
  },
  {
   "cell_type": "markdown",
   "metadata": {
    "tags": []
   },
   "source": [
    "### Create DESI data Table and data clean up"
   ]
  },
  {
   "cell_type": "code",
   "execution_count": 9,
   "metadata": {},
   "outputs": [
    {
     "data": {
      "text/html": [
       "<div><i>Table length=6726076</i>\n",
       "<table id=\"table139679463884688\" class=\"table-striped table-bordered table-condensed\">\n",
       "<thead><tr><th>TARGETID</th><th>TARGET_RA</th><th>TARGET_DEC</th><th>TILEID</th><th>NIGHT</th><th>Z</th><th>ZERR</th><th>ZWARN</th><th>DELTACHI2</th><th>FLUX_Z</th><th>BGS_TARGET</th><th>EBV</th><th>SERSIC</th><th>MWS_TARGET</th><th>FILENAME</th></tr></thead>\n",
       "<thead><tr><th>int64</th><th>float64</th><th>float64</th><th>int64</th><th>int64</th><th>float64</th><th>float64</th><th>int64</th><th>float64</th><th>float64</th><th>int64</th><th>float64</th><th>float64</th><th>int64</th><th>str71</th></tr></thead>\n",
       "<tr><td>2305843024288149014</td><td>288.437125408824</td><td>25.7673558069454</td><td>40350</td><td>20230511</td><td>2.41192312663584e-05</td><td>5.74052093931137e-07</td><td>0</td><td>275787.713730946</td><td>-99.0</td><td>0</td><td>0.440804988145828</td><td>0.0</td><td>1152921504606846976</td><td>daily/tiles/cumulative/40350/20230511/redrock-9-40350-thru20230511.fits</td></tr>\n",
       "<tr><td>2305843024288332221</td><td>288.42563904523</td><td>25.6421082666076</td><td>40350</td><td>20230511</td><td>-0.000347841386023699</td><td>1.67023387315074e-06</td><td>0</td><td>76657.2971824054</td><td>-99.0</td><td>0</td><td>0.559371054172516</td><td>0.0</td><td>1152921504606846976</td><td>daily/tiles/cumulative/40350/20230511/redrock-9-40350-thru20230511.fits</td></tr>\n",
       "<tr><td>2305843024292905381</td><td>288.642800456176</td><td>25.8505926807117</td><td>40350</td><td>20230511</td><td>-4.41892038965445e-05</td><td>1.33330003474229e-06</td><td>0</td><td>47018.0845161545</td><td>-99.0</td><td>0</td><td>0.516548931598663</td><td>0.0</td><td>1152921504606846976</td><td>daily/tiles/cumulative/40350/20230511/redrock-9-40350-thru20230511.fits</td></tr>\n",
       "<tr><td>-403509002</td><td>287.858501295119</td><td>26.3734778482201</td><td>40350</td><td>20230511</td><td>1.53259776377859</td><td>0.000104774843987268</td><td>1</td><td>49.7287774682045</td><td>0.0</td><td>0</td><td>0.337243884801865</td><td>0.0</td><td>0</td><td>daily/tiles/cumulative/40350/20230511/redrock-9-40350-thru20230511.fits</td></tr>\n",
       "<tr><td>2305843024380479782</td><td>287.969593143161</td><td>26.1570031375444</td><td>40350</td><td>20230511</td><td>1.1168489114782e-05</td><td>8.92050886784167e-07</td><td>0</td><td>113363.472911358</td><td>-99.0</td><td>0</td><td>0.341475278139114</td><td>0.0</td><td>1152921504606846976</td><td>daily/tiles/cumulative/40350/20230511/redrock-9-40350-thru20230511.fits</td></tr>\n",
       "<tr><td>2305843024288492892</td><td>288.703429502793</td><td>25.195925797038</td><td>40350</td><td>20230511</td><td>2.39565422280094e-05</td><td>6.29740692210237e-07</td><td>0</td><td>111983.268348011</td><td>-99.0</td><td>0</td><td>0.527522325515747</td><td>0.0</td><td>1152921504606846976</td><td>daily/tiles/cumulative/40350/20230511/redrock-9-40350-thru20230511.fits</td></tr>\n",
       "<tr><td>2305843024292849606</td><td>288.883592696404</td><td>25.7189372897126</td><td>40350</td><td>20230511</td><td>3.82437224561248e-05</td><td>8.68148465274979e-07</td><td>0</td><td>132800.083839793</td><td>-99.0</td><td>0</td><td>0.578824400901794</td><td>0.0</td><td>1152921504606846976</td><td>daily/tiles/cumulative/40350/20230511/redrock-9-40350-thru20230511.fits</td></tr>\n",
       "<tr><td>2305843024288437775</td><td>288.322571928291</td><td>25.255055122181</td><td>40350</td><td>20230511</td><td>-1.07467856394854e-05</td><td>9.9212810351001e-07</td><td>0</td><td>114249.979680069</td><td>-99.0</td><td>0</td><td>0.597545385360718</td><td>0.0</td><td>1152921504606846976</td><td>daily/tiles/cumulative/40350/20230511/redrock-9-40350-thru20230511.fits</td></tr>\n",
       "<tr><td>2305843024288343102</td><td>288.326104056761</td><td>25.3322437260209</td><td>40350</td><td>20230511</td><td>4.43215570436056e-06</td><td>5.28676074675685e-07</td><td>0</td><td>415219.770513907</td><td>-99.0</td><td>0</td><td>0.585721611976624</td><td>0.0</td><td>1152921504606846976</td><td>daily/tiles/cumulative/40350/20230511/redrock-9-40350-thru20230511.fits</td></tr>\n",
       "<tr><td>2305843024288473945</td><td>288.309349419269</td><td>25.1677099274214</td><td>40350</td><td>20230511</td><td>0.000109483652177182</td><td>1.31667468371462e-06</td><td>0</td><td>54970.7165456865</td><td>-99.0</td><td>0</td><td>0.649275541305542</td><td>0.0</td><td>1152921504606846976</td><td>daily/tiles/cumulative/40350/20230511/redrock-9-40350-thru20230511.fits</td></tr>\n",
       "<tr><td>...</td><td>...</td><td>...</td><td>...</td><td>...</td><td>...</td><td>...</td><td>...</td><td>...</td><td>...</td><td>...</td><td>...</td><td>...</td><td>...</td><td>...</td></tr>\n",
       "<tr><td>39632952186903578</td><td>277.730383098745</td><td>33.5339093079213</td><td>81112</td><td>20210513</td><td>0.656109311692122</td><td>0.000149117844520649</td><td>0</td><td>31.2419006675482</td><td>12.5850067138672</td><td>0</td><td>0.0641206577420235</td><td>1.0</td><td>0</td><td>daily/tiles/cumulative/81112/20210513/zbest-0-81112-thru20210513.fits</td></tr>\n",
       "<tr><td>39632947145350553</td><td>278.478315622839</td><td>33.2151182930105</td><td>81112</td><td>20210513</td><td>1.90496012435187</td><td>0.00144770210657231</td><td>0</td><td>34.1547495874111</td><td>4.1905779838562</td><td>0</td><td>0.0676218271255493</td><td>0.0</td><td>0</td><td>daily/tiles/cumulative/81112/20210513/zbest-0-81112-thru20210513.fits</td></tr>\n",
       "<tr><td>39632947145343764</td><td>278.231876331029</td><td>33.3369429618801</td><td>81112</td><td>20210513</td><td>0.487464525581629</td><td>8.0783101120908e-05</td><td>4</td><td>0.846032880246639</td><td>8.63459396362305</td><td>0</td><td>0.0678120404481888</td><td>4.0</td><td>0</td><td>daily/tiles/cumulative/81112/20210513/zbest-0-81112-thru20210513.fits</td></tr>\n",
       "<tr><td>39632947141152154</td><td>278.032871396324</td><td>33.151958702512</td><td>81112</td><td>20210513</td><td>0.331137929303646</td><td>6.93992799639284e-05</td><td>4</td><td>7.61560253798962</td><td>3.75551199913025</td><td>0</td><td>0.0672506242990494</td><td>0.0</td><td>0</td><td>daily/tiles/cumulative/81112/20210513/zbest-0-81112-thru20210513.fits</td></tr>\n",
       "<tr><td>39632947141149605</td><td>277.942008243513</td><td>33.359573899706</td><td>81112</td><td>20210513</td><td>0.905539475421371</td><td>0.000114678042441648</td><td>0</td><td>23.5221987646073</td><td>1.589959025383</td><td>0</td><td>0.0678494349122047</td><td>0.0</td><td>0</td><td>daily/tiles/cumulative/81112/20210513/zbest-0-81112-thru20210513.fits</td></tr>\n",
       "<tr><td>39632947136960509</td><td>277.844298591592</td><td>33.1352437160824</td><td>81112</td><td>20210513</td><td>0.408883902605569</td><td>9.24963419175853e-05</td><td>4</td><td>4.45792305842042</td><td>3.45679974555969</td><td>0</td><td>0.0664454847574234</td><td>1.0</td><td>0</td><td>daily/tiles/cumulative/81112/20210513/zbest-0-81112-thru20210513.fits</td></tr>\n",
       "<tr><td>39632942087014529</td><td>278.547576855912</td><td>32.9990567929518</td><td>81112</td><td>20210513</td><td>1.13535057848858</td><td>0.000153741016055761</td><td>0</td><td>9.68773314729333</td><td>1.29773592948914</td><td>0</td><td>0.0715665072202682</td><td>1.0</td><td>0</td><td>daily/tiles/cumulative/81112/20210513/zbest-0-81112-thru20210513.fits</td></tr>\n",
       "<tr><td>39632942082823689</td><td>278.376392976355</td><td>33.0528171661094</td><td>81112</td><td>20210513</td><td>1.29065673513334</td><td>9.58169657377349e-05</td><td>4</td><td>3.28950885824452</td><td>0.695868313312531</td><td>0</td><td>0.0725686326622963</td><td>0.0</td><td>0</td><td>daily/tiles/cumulative/81112/20210513/zbest-0-81112-thru20210513.fits</td></tr>\n",
       "<tr><td>39632942082819266</td><td>278.220105755881</td><td>33.0219475572766</td><td>81112</td><td>20210513</td><td>0.34881101528626</td><td>8.21206036428893e-05</td><td>4</td><td>1.52052199840546</td><td>1.71358919143677</td><td>0</td><td>0.0689078718423843</td><td>0.0</td><td>0</td><td>daily/tiles/cumulative/81112/20210513/zbest-0-81112-thru20210513.fits</td></tr>\n",
       "<tr><td>39632942078631170</td><td>278.166574347186</td><td>32.9944295908583</td><td>81112</td><td>20210513</td><td>0.308872630771127</td><td>0.000129183389990463</td><td>4</td><td>0.507711228448898</td><td>2.47074556350708</td><td>0</td><td>0.0694523677229881</td><td>0.0</td><td>0</td><td>daily/tiles/cumulative/81112/20210513/zbest-0-81112-thru20210513.fits</td></tr>\n",
       "</table></div>"
      ],
      "text/plain": [
       "<Table length=6726076>\n",
       "      TARGETID      ...\n",
       "       int64        ...\n",
       "------------------- ...\n",
       "2305843024288149014 ...\n",
       "2305843024288332221 ...\n",
       "2305843024292905381 ...\n",
       "         -403509002 ...\n",
       "2305843024380479782 ...\n",
       "2305843024288492892 ...\n",
       "2305843024292849606 ...\n",
       "2305843024288437775 ...\n",
       "2305843024288343102 ...\n",
       "2305843024288473945 ...\n",
       "                ... ...\n",
       "  39632952186903578 ...\n",
       "  39632947145350553 ...\n",
       "  39632947145343764 ...\n",
       "  39632947141152154 ...\n",
       "  39632947141149605 ...\n",
       "  39632947136960509 ...\n",
       "  39632942087014529 ...\n",
       "  39632942082823689 ...\n",
       "  39632942082819266 ...\n",
       "  39632942078631170 ..."
      ]
     },
     "execution_count": 9,
     "metadata": {},
     "output_type": "execute_result"
    }
   ],
   "source": [
    "if rows:\n",
    "    data = Table(list(map(list, zip(*rows))),\n",
    "                             names=['TARGETID', 'TARGET_RA', 'TARGET_DEC', 'TILEID', 'NIGHT', 'Z', 'ZERR', 'ZWARN', 'DELTACHI2', 'FLUX_Z', 'BGS_TARGET', 'EBV', 'SERSIC', 'MWS_TARGET','FILENAME'])\n",
    "data[:5:-1] "
   ]
  },
  {
   "cell_type": "code",
   "execution_count": 10,
   "metadata": {},
   "outputs": [],
   "source": [
    "data = data[data['ZWARN']==0]\n",
    "data = data[data['Z']>=0]\n",
    "data = data[data['FLUX_Z']>0]\n",
    "data = table.unique(data, keys = \"TARGETID\")"
   ]
  },
  {
   "cell_type": "code",
   "execution_count": 11,
   "metadata": {},
   "outputs": [
    {
     "name": "stdout",
     "output_type": "stream",
     "text": [
      "We have 3135207 objects in the full catalog\n"
     ]
    }
   ],
   "source": [
    "print(f\"We have {len(data)} objects in the full catalog\") "
   ]
  },
  {
   "cell_type": "markdown",
   "metadata": {
    "tags": []
   },
   "source": [
    "### Calculate the healpix id for every object in the catalog and its probability; append this data to the Table"
   ]
  },
  {
   "cell_type": "code",
   "execution_count": 12,
   "metadata": {},
   "outputs": [],
   "source": [
    "max_level = 29 # highest possible HEALPix resolution that can be represented in a 64-bit signed integer\n",
    "max_nside = ah.level_to_nside(max_level)\n",
    "level, ipix = ah.uniq_to_level_ipix(skymap[\"UNIQ\"])\n",
    "\n",
    "index = ipix*(2**(max_level-level))**2\n",
    "\n",
    "sorter = np.argsort(index)\n",
    "\n",
    "# this is the NESTED pixel index of the target sky location, NOT THE UNIQ ID\n",
    "match_ipix = ah.lonlat_to_healpix(data[\"TARGET_RA\"]*u.deg, data[\"TARGET_DEC\"]*u.deg, max_nside, order='nested')\n",
    "\n",
    "# here we get the pixel index (i.e. where the entry is in the table, also NOT THE UNIQ ID) of each target\n",
    "sorter_i = sorter[np.searchsorted(index, match_ipix, side='right', sorter=sorter) - 1]\n",
    "probdensity = skymap[sorter_i]['PROBDENSITY'].to_value(u.deg**-2)\n",
    "\n",
    "# now we calculate the UNIQ ID for all our targets:\n",
    "\n",
    "uniq = skymap[\"UNIQ\"][sorter_i]\n",
    "#to make things easier in future, I will now also append the UNIQ pixels DISTMU, DISTSIGMA and DISTNORM values. However, be careful, since these DO NOT CORRESPOND THE TARGETS IN DESI DIRECTLY!\n",
    "\n",
    "distmu = skymap[sorter_i][\"DISTMU\"]\n",
    "distsigma = skymap[sorter_i][\"DISTSIGMA\"]\n",
    "distnorm = skymap[sorter_i][\"DISTNORM\"]\n"
   ]
  },
  {
   "cell_type": "code",
   "execution_count": 13,
   "metadata": {},
   "outputs": [],
   "source": [
    "# len(UNIQ), len(data), len(skymap)"
   ]
  },
  {
   "cell_type": "code",
   "execution_count": 14,
   "metadata": {},
   "outputs": [],
   "source": [
    "#data = data.keep_columns([\"TARGETID\", \"TARGET_RA\", \"TARGET_DEC\", \"TILEID\", \"NIGHT\", \"Z\", \"ZERR\", \"ZWARN\", \"DELTACHI2\", \"FLUX_Z\", \"BGS_TARGET\", \"EBV\", \"SERSIC\", \"MWS_TARGET\", \"FILENAME\"])\n",
    "                          "
   ]
  },
  {
   "cell_type": "code",
   "execution_count": 15,
   "metadata": {},
   "outputs": [],
   "source": [
    "data = hstack([data, Table({\"UNIQ\": uniq}), Table({\"PROBDENSITY\": probdensity}), Table({\"DISTMU\": distmu}), Table({\"DISTSIGMA\": distsigma}), Table({\"DISTNORM\": distnorm})])"
   ]
  },
  {
   "cell_type": "code",
   "execution_count": 16,
   "metadata": {},
   "outputs": [
    {
     "data": {
      "text/html": [
       "<div><i>Table length=5</i>\n",
       "<table id=\"table139679463889920\" class=\"table-striped table-bordered table-condensed\">\n",
       "<thead><tr><th>TARGETID</th><th>TARGET_RA</th><th>TARGET_DEC</th><th>TILEID</th><th>NIGHT</th><th>Z</th><th>ZERR</th><th>ZWARN</th><th>DELTACHI2</th><th>FLUX_Z</th><th>BGS_TARGET</th><th>EBV</th><th>SERSIC</th><th>MWS_TARGET</th><th>FILENAME</th><th>UNIQ</th><th>PROBDENSITY</th><th>DISTMU</th><th>DISTSIGMA</th><th>DISTNORM</th></tr></thead>\n",
       "<thead><tr><th></th><th></th><th></th><th></th><th></th><th></th><th></th><th></th><th></th><th></th><th></th><th></th><th></th><th></th><th></th><th></th><th></th><th>Mpc</th><th>Mpc</th><th>1 / Mpc2</th></tr></thead>\n",
       "<thead><tr><th>int64</th><th>float64</th><th>float64</th><th>int64</th><th>int64</th><th>float64</th><th>float64</th><th>int64</th><th>float64</th><th>float64</th><th>int64</th><th>float64</th><th>float64</th><th>int64</th><th>str71</th><th>int64</th><th>float64</th><th>float64</th><th>float64</th><th>float64</th></tr></thead>\n",
       "<tr><td>39627426287845435</td><td>2.44719240020798</td><td>-14.8784810461915</td><td>4681</td><td>20211031</td><td>1.29487677591325</td><td>7.8087057171638e-05</td><td>0</td><td>180.558159992099</td><td>1.67646908760071</td><td>0</td><td>0.0271596927195787</td><td>0.0</td><td>0</td><td>daily/tiles/cumulative/4681/20211031/redrock-1-4681-thru20211031.fits</td><td>8388</td><td>1.8834870356564702e-38</td><td>409.51596882957267</td><td>345.5512809848393</td><td>3.556121926037712e-06</td></tr>\n",
       "<tr><td>39627426287845517</td><td>2.50471862202463</td><td>-14.8968566192167</td><td>4681</td><td>20211031</td><td>0.790131691198744</td><td>2.30243720492388e-05</td><td>0</td><td>461.392431020737</td><td>1.8420695066452</td><td>0</td><td>0.0275762490928173</td><td>0.0</td><td>0</td><td>daily/tiles/cumulative/4681/20211031/redrock-1-4681-thru20211031.fits</td><td>8388</td><td>1.8834870356564702e-38</td><td>409.51596882957267</td><td>345.5512809848393</td><td>3.556121926037712e-06</td></tr>\n",
       "<tr><td>39627426287845557</td><td>2.52321094106128</td><td>-14.9079968190469</td><td>4681</td><td>20211031</td><td>1.30947827895762</td><td>0.000110767434416278</td><td>0</td><td>26.432828810066</td><td>1.12536370754242</td><td>0</td><td>0.0276389718055725</td><td>1.0</td><td>0</td><td>daily/tiles/cumulative/4681/20211031/redrock-1-4681-thru20211031.fits</td><td>8388</td><td>1.8834870356564702e-38</td><td>409.51596882957267</td><td>345.5512809848393</td><td>3.556121926037712e-06</td></tr>\n",
       "<tr><td>39627426287845626</td><td>2.56200118260528</td><td>-14.8842963635124</td><td>4681</td><td>20211031</td><td>0.284550072861601</td><td>1.7577289604241e-05</td><td>0</td><td>180.535153388977</td><td>1.13342213630676</td><td>0</td><td>0.0275229904800653</td><td>0.0</td><td>0</td><td>daily/tiles/cumulative/4681/20211031/redrock-1-4681-thru20211031.fits</td><td>8388</td><td>1.8834870356564702e-38</td><td>409.51596882957267</td><td>345.5512809848393</td><td>3.556121926037712e-06</td></tr>\n",
       "<tr><td>39627426292039772</td><td>2.62606258092301</td><td>-14.8780864557311</td><td>4681</td><td>20211031</td><td>0.189790746031762</td><td>1.28616026055591e-05</td><td>0</td><td>41.7928801327944</td><td>0.959446787834167</td><td>0</td><td>0.0275655761361122</td><td>0.0</td><td>0</td><td>daily/tiles/cumulative/4681/20211031/redrock-1-4681-thru20211031.fits</td><td>8388</td><td>1.8834870356564702e-38</td><td>409.51596882957267</td><td>345.5512809848393</td><td>3.556121926037712e-06</td></tr>\n",
       "</table></div>"
      ],
      "text/plain": [
       "<Table length=5>\n",
       "     TARGETID        TARGET_RA     ...     DISTSIGMA            DISTNORM      \n",
       "                                   ...        Mpc               1 / Mpc2      \n",
       "      int64           float64      ...      float64             float64       \n",
       "----------------- ---------------- ... ----------------- ---------------------\n",
       "39627426287845435 2.44719240020798 ... 345.5512809848393 3.556121926037712e-06\n",
       "39627426287845517 2.50471862202463 ... 345.5512809848393 3.556121926037712e-06\n",
       "39627426287845557 2.52321094106128 ... 345.5512809848393 3.556121926037712e-06\n",
       "39627426287845626 2.56200118260528 ... 345.5512809848393 3.556121926037712e-06\n",
       "39627426292039772 2.62606258092301 ... 345.5512809848393 3.556121926037712e-06"
      ]
     },
     "execution_count": 16,
     "metadata": {},
     "output_type": "execute_result"
    }
   ],
   "source": [
    "data[:5]"
   ]
  },
  {
   "cell_type": "code",
   "execution_count": 17,
   "metadata": {},
   "outputs": [
    {
     "name": "stdout",
     "output_type": "stream",
     "text": [
      "The highest and lowest probability values in our catalog are: 8.612931378658332e-76 and 0.07437342287566126\n"
     ]
    }
   ],
   "source": [
    "print(f\"The highest and lowest probability values in our catalog are: {np.min(probdensity)} and {np.max(probdensity)}\")"
   ]
  },
  {
   "cell_type": "markdown",
   "metadata": {
    "tags": []
   },
   "source": [
    "### Sort the skymap table and get 90% credible region"
   ]
  },
  {
   "cell_type": "code",
   "execution_count": 18,
   "metadata": {},
   "outputs": [],
   "source": [
    "# copy the table\n",
    "skymap_sort = Table(skymap, copy = True)"
   ]
  },
  {
   "cell_type": "code",
   "execution_count": 19,
   "metadata": {},
   "outputs": [],
   "source": [
    "# check whether copy worked:\n",
    "# skymap_sort, skymap\n",
    "# np.max(skymap[\"UNIQ\"])"
   ]
  },
  {
   "cell_type": "code",
   "execution_count": 20,
   "metadata": {},
   "outputs": [],
   "source": [
    "# now sort the skymap by its probability (descending)\n",
    "skymap_sort.sort('PROBDENSITY', reverse=True)"
   ]
  },
  {
   "cell_type": "code",
   "execution_count": 21,
   "metadata": {},
   "outputs": [
    {
     "data": {
      "text/html": [
       "<div><i>Table length=5</i>\n",
       "<table id=\"table139679463890976\" class=\"table-striped table-bordered table-condensed\">\n",
       "<thead><tr><th>UNIQ</th><th>PROBDENSITY</th><th>DISTMU</th><th>DISTSIGMA</th><th>DISTNORM</th></tr></thead>\n",
       "<thead><tr><th></th><th>1 / sr</th><th>Mpc</th><th>Mpc</th><th>1 / Mpc2</th></tr></thead>\n",
       "<thead><tr><th>int64</th><th>float64</th><th>float64</th><th>float64</th><th>float64</th></tr></thead>\n",
       "<tr><td>29382844</td><td>244.15354488832944</td><td>905.4875407192519</td><td>168.42603182511863</td><td>1.178862966456941e-06</td></tr>\n",
       "<tr><td>29382833</td><td>244.15069570725393</td><td>906.3599020620863</td><td>168.32227138877792</td><td>1.1767188633863131e-06</td></tr>\n",
       "<tr><td>29382838</td><td>244.14297432946807</td><td>905.785362123571</td><td>168.39084745511798</td><td>1.1781302276595755e-06</td></tr>\n",
       "<tr><td>29382847</td><td>244.11738026796397</td><td>904.9078983771989</td><td>168.49631024409334</td><td>1.1802901306190855e-06</td></tr>\n",
       "<tr><td>29382835</td><td>244.07881873987986</td><td>906.0618018858346</td><td>168.35749619647882</td><td>1.1774510097184074e-06</td></tr>\n",
       "</table></div>"
      ],
      "text/plain": [
       "<Table length=5>\n",
       "  UNIQ      PROBDENSITY     ...     DISTSIGMA             DISTNORM       \n",
       "               1 / sr       ...        Mpc                1 / Mpc2       \n",
       " int64        float64       ...      float64              float64        \n",
       "-------- ------------------ ... ------------------ ----------------------\n",
       "29382844 244.15354488832944 ... 168.42603182511863  1.178862966456941e-06\n",
       "29382833 244.15069570725393 ... 168.32227138877792 1.1767188633863131e-06\n",
       "29382838 244.14297432946807 ... 168.39084745511798 1.1781302276595755e-06\n",
       "29382847 244.11738026796397 ... 168.49631024409334 1.1802901306190855e-06\n",
       "29382835 244.07881873987986 ... 168.35749619647882 1.1774510097184074e-06"
      ]
     },
     "execution_count": 21,
     "metadata": {},
     "output_type": "execute_result"
    }
   ],
   "source": [
    "# this shows the first entries sorted be their probability\n",
    "skymap_sort[:5]"
   ]
  },
  {
   "cell_type": "code",
   "execution_count": 22,
   "metadata": {},
   "outputs": [
    {
     "data": {
      "text/plain": [
       "53.032867206780615"
      ]
     },
     "execution_count": 22,
     "metadata": {},
     "output_type": "execute_result"
    }
   ],
   "source": [
    "# now get 90% credible region area\n",
    "\n",
    "level, ipix = ah.uniq_to_level_ipix(skymap_sort['UNIQ'])\n",
    "pixel_area = ah.nside_to_pixel_area(ah.level_to_nside(level)) # this is the area each pixel contains\n",
    "\n",
    "# calculate the probability per pixel (careful: since the pixels differ in size, this is not neceseraliy a useful quantity\n",
    "prob = pixel_area * skymap_sort['PROBDENSITY']\n",
    "\n",
    "# calc cumsum of probabilities and get index of pixel that sums up to 0.9\n",
    "cumprob = np.cumsum(prob)\n",
    "i = cumprob.searchsorted(0.9)\n",
    "\n",
    "# print area\n",
    "area_90 = pixel_area[:i].sum()\n",
    "area_90.to_value(u.deg**2)"
   ]
  },
  {
   "cell_type": "markdown",
   "metadata": {
    "jp-MarkdownHeadingCollapsed": true,
    "tags": []
   },
   "source": [
    "### can be deleted, just tried things out"
   ]
  },
  {
   "cell_type": "code",
   "execution_count": 23,
   "metadata": {},
   "outputs": [],
   "source": [
    "skymap_sort = hstack([skymap_sort, Table({\"PROB\": prob})])"
   ]
  },
  {
   "cell_type": "code",
   "execution_count": 24,
   "metadata": {},
   "outputs": [
    {
     "data": {
      "text/latex": [
       "$0.00022682015 \\; \\mathrm{}$"
      ],
      "text/plain": [
       "<Quantity 0.00022682>"
      ]
     },
     "execution_count": 24,
     "metadata": {},
     "output_type": "execute_result"
    }
   ],
   "source": [
    "np.max(prob)"
   ]
  },
  {
   "cell_type": "code",
   "execution_count": 25,
   "metadata": {},
   "outputs": [
    {
     "data": {
      "text/html": [
       "<div><i>Table length=5</i>\n",
       "<table id=\"table139679463891216\" class=\"table-striped table-bordered table-condensed\">\n",
       "<thead><tr><th>UNIQ</th><th>PROBDENSITY</th><th>DISTMU</th><th>DISTSIGMA</th><th>DISTNORM</th><th>PROB</th></tr></thead>\n",
       "<thead><tr><th></th><th>1 / sr</th><th>Mpc</th><th>Mpc</th><th>1 / Mpc2</th><th></th></tr></thead>\n",
       "<thead><tr><th>int64</th><th>float64</th><th>float64</th><th>float64</th><th>float64</th><th>float64</th></tr></thead>\n",
       "<tr><td>29382844</td><td>244.15354488832944</td><td>905.4875407192519</td><td>168.42603182511863</td><td>1.178862966456941e-06</td><td>6.09581456954544e-05</td></tr>\n",
       "<tr><td>29382833</td><td>244.15069570725393</td><td>906.3599020620863</td><td>168.32227138877792</td><td>1.1767188633863131e-06</td><td>6.0957434336562626e-05</td></tr>\n",
       "<tr><td>29382838</td><td>244.14297432946807</td><td>905.785362123571</td><td>168.39084745511798</td><td>1.1781302276595755e-06</td><td>6.095550652973003e-05</td></tr>\n",
       "<tr><td>29382847</td><td>244.11738026796397</td><td>904.9078983771989</td><td>168.49631024409334</td><td>1.1802901306190855e-06</td><td>6.0949116425786135e-05</td></tr>\n",
       "<tr><td>29382835</td><td>244.07881873987986</td><td>906.0618018858346</td><td>168.35749619647882</td><td>1.1774510097184074e-06</td><td>6.0939488716926676e-05</td></tr>\n",
       "</table></div>"
      ],
      "text/plain": [
       "<Table length=5>\n",
       "  UNIQ      PROBDENSITY     ...        DISTNORM                 PROB         \n",
       "               1 / sr       ...        1 / Mpc2                              \n",
       " int64        float64       ...        float64                float64        \n",
       "-------- ------------------ ... ---------------------- ----------------------\n",
       "29382844 244.15354488832944 ...  1.178862966456941e-06   6.09581456954544e-05\n",
       "29382833 244.15069570725393 ... 1.1767188633863131e-06 6.0957434336562626e-05\n",
       "29382838 244.14297432946807 ... 1.1781302276595755e-06  6.095550652973003e-05\n",
       "29382847 244.11738026796397 ... 1.1802901306190855e-06 6.0949116425786135e-05\n",
       "29382835 244.07881873987986 ... 1.1774510097184074e-06 6.0939488716926676e-05"
      ]
     },
     "execution_count": 25,
     "metadata": {},
     "output_type": "execute_result"
    }
   ],
   "source": [
    "skymap_sort[:5]"
   ]
  },
  {
   "cell_type": "code",
   "execution_count": 26,
   "metadata": {},
   "outputs": [],
   "source": [
    "skymap_prob = Table(skymap_sort, copy = True)"
   ]
  },
  {
   "cell_type": "code",
   "execution_count": 27,
   "metadata": {},
   "outputs": [],
   "source": [
    "skymap_prob.sort(\"PROB\", reverse = True)"
   ]
  },
  {
   "cell_type": "code",
   "execution_count": 28,
   "metadata": {},
   "outputs": [
    {
     "data": {
      "text/html": [
       "<div><i>Table length=5</i>\n",
       "<table id=\"table139679463898800\" class=\"table-striped table-bordered table-condensed\">\n",
       "<thead><tr><th>UNIQ</th><th>PROBDENSITY</th><th>DISTMU</th><th>DISTSIGMA</th><th>DISTNORM</th><th>PROB</th></tr></thead>\n",
       "<thead><tr><th></th><th>1 / sr</th><th>Mpc</th><th>Mpc</th><th>1 / Mpc2</th><th></th></tr></thead>\n",
       "<thead><tr><th>int64</th><th>float64</th><th>float64</th><th>float64</th><th>float64</th><th>float64</th></tr></thead>\n",
       "<tr><td>7344494</td><td>227.11872204879973</td><td>917.2444113491661</td><td>168.0419597839432</td><td>1.149986519956959e-06</td><td>0.00022682015377083184</td></tr>\n",
       "<tr><td>7347417</td><td>227.06118055964373</td><td>885.8238105385814</td><td>171.752754645542</td><td>1.2282253579061448e-06</td><td>0.0002267626879252123</td></tr>\n",
       "<tr><td>7344965</td><td>227.0062357278737</td><td>913.5162880494381</td><td>167.67633785878303</td><td>1.1592491070437897e-06</td><td>0.00022670781532343573</td></tr>\n",
       "<tr><td>7344614</td><td>227.00424753929823</td><td>915.343886171108</td><td>167.63138228341072</td><td>1.1547948041355468e-06</td><td>0.0002267058297485155</td></tr>\n",
       "<tr><td>7347420</td><td>227.0041792333663</td><td>885.422995167548</td><td>171.7402407754239</td><td>1.2293037638565399e-06</td><td>0.00022670576153237793</td></tr>\n",
       "</table></div>"
      ],
      "text/plain": [
       "<Table length=5>\n",
       "  UNIQ     PROBDENSITY     ...        DISTNORM                 PROB         \n",
       "              1 / sr       ...        1 / Mpc2                              \n",
       " int64       float64       ...        float64                float64        \n",
       "------- ------------------ ... ---------------------- ----------------------\n",
       "7344494 227.11872204879973 ...  1.149986519956959e-06 0.00022682015377083184\n",
       "7347417 227.06118055964373 ... 1.2282253579061448e-06  0.0002267626879252123\n",
       "7344965  227.0062357278737 ... 1.1592491070437897e-06 0.00022670781532343573\n",
       "7344614 227.00424753929823 ... 1.1547948041355468e-06  0.0002267058297485155\n",
       "7347420  227.0041792333663 ... 1.2293037638565399e-06 0.00022670576153237793"
      ]
     },
     "execution_count": 28,
     "metadata": {},
     "output_type": "execute_result"
    }
   ],
   "source": [
    "skymap_prob[:5]"
   ]
  },
  {
   "cell_type": "markdown",
   "metadata": {
    "tags": []
   },
   "source": [
    "### Compare Tables, only leave 90% credible region in DESI data table\n",
    "\n",
    "Now we can get a Table that only contains the 90% credible region. From there we only leave the matching objects in the DESI data"
   ]
  },
  {
   "cell_type": "code",
   "execution_count": 29,
   "metadata": {},
   "outputs": [],
   "source": [
    "# we simply select only the entries that are within the 90% credible region\n",
    "skymap_90 = skymap_sort[:i]"
   ]
  },
  {
   "cell_type": "code",
   "execution_count": 30,
   "metadata": {},
   "outputs": [
    {
     "name": "stdout",
     "output_type": "stream",
     "text": [
      "This is the number of UNIQ ID of objects which should lie within the 90% credible region (NOT THE NUMBER OF OBJECTS, as there can be multiple objects per UNIQ ID): 7251\n"
     ]
    }
   ],
   "source": [
    "print(\"This is the number of UNIQ ID of objects which should lie within the 90% credible region (NOT THE NUMBER OF OBJECTS, as there can be multiple objects per UNIQ ID):\", len(np.intersect1d(skymap_90[\"UNIQ\"], data[\"UNIQ\"])))"
   ]
  },
  {
   "cell_type": "code",
   "execution_count": 31,
   "metadata": {},
   "outputs": [],
   "source": [
    "mask = np.in1d(data[\"UNIQ\"], skymap_90[\"UNIQ\"])\n",
    "data_90 = data[mask]"
   ]
  },
  {
   "cell_type": "code",
   "execution_count": 32,
   "metadata": {},
   "outputs": [
    {
     "name": "stdout",
     "output_type": "stream",
     "text": [
      "We now have 80722 objects in the 90% credible region\n",
      "Check if the region from where the galaxies have been selected makes any sense (RA; DEC):  315.032699910502 320.968224603758 -1.33087910597711 14.1114593957212\n",
      "We can also check whether we have at least one galaxy in the UNIQ pixel with the highest probability from LIGO...\n",
      "This is True\n"
     ]
    }
   ],
   "source": [
    "print(f\"We now have {len(data_90)} objects in the 90% credible region\")\n",
    "print(\"Check if the region from where the galaxies have been selected makes any sense (RA; DEC): \", np.min(data_90[\"TARGET_RA\"]), np.max(data_90[\"TARGET_RA\"]), np.min(data_90[\"TARGET_DEC\"]), np.max(data_90[\"TARGET_DEC\"]))\n",
    "\n",
    "max_probdens_in_desi = np.max(data_90[\"PROBDENSITY\"])\n",
    "max_probdens_in_ligo = np.max(skymap[\"PROBDENSITY\"]).to_value(u.deg**-2)\n",
    "print(f\"We can also check whether we have at least one galaxy in the UNIQ pixel with the highest probability from LIGO...\")\n",
    "print(f\"This is {np.allclose(max_probdens_in_desi, max_probdens_in_ligo)}\")"
   ]
  },
  {
   "cell_type": "code",
   "execution_count": 33,
   "metadata": {},
   "outputs": [],
   "source": [
    "data_90.sort('PROBDENSITY', reverse=True)"
   ]
  },
  {
   "cell_type": "code",
   "execution_count": 34,
   "metadata": {},
   "outputs": [
    {
     "data": {
      "text/html": [
       "<div><i>Table length=2</i>\n",
       "<table id=\"table139679465516832\" class=\"table-striped table-bordered table-condensed\">\n",
       "<thead><tr><th>TARGETID</th><th>TARGET_RA</th><th>TARGET_DEC</th><th>TILEID</th><th>NIGHT</th><th>Z</th><th>ZERR</th><th>ZWARN</th><th>DELTACHI2</th><th>FLUX_Z</th><th>BGS_TARGET</th><th>EBV</th><th>SERSIC</th><th>MWS_TARGET</th><th>FILENAME</th><th>UNIQ</th><th>PROBDENSITY</th><th>DISTMU</th><th>DISTSIGMA</th><th>DISTNORM</th></tr></thead>\n",
       "<thead><tr><th></th><th></th><th></th><th></th><th></th><th></th><th></th><th></th><th></th><th></th><th></th><th></th><th></th><th></th><th></th><th></th><th></th><th>Mpc</th><th>Mpc</th><th>1 / Mpc2</th></tr></thead>\n",
       "<thead><tr><th>int64</th><th>float64</th><th>float64</th><th>int64</th><th>int64</th><th>float64</th><th>float64</th><th>int64</th><th>float64</th><th>float64</th><th>int64</th><th>float64</th><th>float64</th><th>int64</th><th>str71</th><th>int64</th><th>float64</th><th>float64</th><th>float64</th><th>float64</th></tr></thead>\n",
       "<tr><td>39627898725865034</td><td>318.341830044524</td><td>4.57322111244074</td><td>22388</td><td>20220530</td><td>0.265580972154904</td><td>1.64955354543276e-05</td><td>0</td><td>70.9080293998122</td><td>69.1650161743164</td><td>131074</td><td>0.112329810857773</td><td>1.13607883453369</td><td>0</td><td>daily/tiles/cumulative/22388/20220530/redrock-5-22388-thru20220530.fits</td><td>29382844</td><td>0.07437342287566126</td><td>905.4875407192519</td><td>168.42603182511863</td><td>1.178862966456941e-06</td></tr>\n",
       "<tr><td>39627898725865459</td><td>318.35988431132</td><td>4.53173120893407</td><td>9624</td><td>20220611</td><td>0.982156081823739</td><td>4.93303942864255e-05</td><td>0</td><td>115.738883554935</td><td>0.995873689651489</td><td>0</td><td>0.105607852339745</td><td>1.0</td><td>0</td><td>daily/tiles/cumulative/9624/20220611/redrock-4-9624-thru20220611.fits</td><td>29382833</td><td>0.07437255496547353</td><td>906.3599020620863</td><td>168.32227138877792</td><td>1.1767188633863131e-06</td></tr>\n",
       "</table></div>"
      ],
      "text/plain": [
       "<Table length=2>\n",
       "     TARGETID        TARGET_RA     ...     DISTSIGMA             DISTNORM       \n",
       "                                   ...        Mpc                1 / Mpc2       \n",
       "      int64           float64      ...      float64              float64        \n",
       "----------------- ---------------- ... ------------------ ----------------------\n",
       "39627898725865034 318.341830044524 ... 168.42603182511863  1.178862966456941e-06\n",
       "39627898725865459  318.35988431132 ... 168.32227138877792 1.1767188633863131e-06"
      ]
     },
     "execution_count": 34,
     "metadata": {},
     "output_type": "execute_result"
    }
   ],
   "source": [
    "data_90[:2]"
   ]
  },
  {
   "cell_type": "code",
   "execution_count": 35,
   "metadata": {},
   "outputs": [
    {
     "name": "stdout",
     "output_type": "stream",
     "text": [
      "We have now performed all the necessary steps to get the localization selection in 2D, i.e. the angle on the sky\n",
      "However, we have not used the distance data at all. Therefore our redhsifts range from 2.57495916197917e-08 to 5.55588409874102\n"
     ]
    }
   ],
   "source": [
    "print(\"We have now performed all the necessary steps to get the localization selection in 2D, i.e. the angle on the sky\")\n",
    "min_z = np.min(data_90[\"Z\"])\n",
    "max_z = np.max(data_90[\"Z\"])\n",
    "print(f\"However, we have not used the distance data at all. Therefore our redhsifts range from {min_z} to {max_z}\")"
   ]
  },
  {
   "cell_type": "markdown",
   "metadata": {},
   "source": [
    "### Calculate all the distances of the objects from the redshifts"
   ]
  },
  {
   "cell_type": "code",
   "execution_count": 36,
   "metadata": {},
   "outputs": [],
   "source": [
    "distances = Distance(z=data_90[\"Z\"], cosmology=Planck18)\n",
    "distances_err = Distance(z=data_90[\"ZERR\"], cosmology=Planck18)\n",
    "\n",
    "data_90 = hstack([data_90, Table({\"DIST_Z\": distances}), Table({\"DIST_Z_ERR\": distances_err})])"
   ]
  },
  {
   "cell_type": "code",
   "execution_count": 37,
   "metadata": {},
   "outputs": [
    {
     "data": {
      "text/html": [
       "<div><i>Table length=5</i>\n",
       "<table id=\"table139679465508624\" class=\"table-striped table-bordered table-condensed\">\n",
       "<thead><tr><th>TARGETID</th><th>TARGET_RA</th><th>TARGET_DEC</th><th>TILEID</th><th>NIGHT</th><th>Z</th><th>ZERR</th><th>ZWARN</th><th>DELTACHI2</th><th>FLUX_Z</th><th>BGS_TARGET</th><th>EBV</th><th>SERSIC</th><th>MWS_TARGET</th><th>FILENAME</th><th>UNIQ</th><th>PROBDENSITY</th><th>DISTMU</th><th>DISTSIGMA</th><th>DISTNORM</th><th>DIST_Z</th><th>DIST_Z_ERR</th></tr></thead>\n",
       "<thead><tr><th></th><th></th><th></th><th></th><th></th><th></th><th></th><th></th><th></th><th></th><th></th><th></th><th></th><th></th><th></th><th></th><th></th><th>Mpc</th><th>Mpc</th><th>1 / Mpc2</th><th>Mpc</th><th>Mpc</th></tr></thead>\n",
       "<thead><tr><th>int64</th><th>float64</th><th>float64</th><th>int64</th><th>int64</th><th>float64</th><th>float64</th><th>int64</th><th>float64</th><th>float64</th><th>int64</th><th>float64</th><th>float64</th><th>int64</th><th>str71</th><th>int64</th><th>float64</th><th>float64</th><th>float64</th><th>float64</th><th>float64</th><th>float64</th></tr></thead>\n",
       "<tr><td>39627898725865034</td><td>318.341830044524</td><td>4.57322111244074</td><td>22388</td><td>20220530</td><td>0.265580972154904</td><td>1.64955354543276e-05</td><td>0</td><td>70.9080293998122</td><td>69.1650161743164</td><td>131074</td><td>0.112329810857773</td><td>1.13607883453369</td><td>0</td><td>daily/tiles/cumulative/22388/20220530/redrock-5-22388-thru20220530.fits</td><td>29382844</td><td>0.07437342287566126</td><td>905.4875407192519</td><td>168.42603182511863</td><td>1.178862966456941e-06</td><td>1393.709064995035</td><td>0.07309044717122476</td></tr>\n",
       "<tr><td>39627898725865459</td><td>318.35988431132</td><td>4.53173120893407</td><td>9624</td><td>20220611</td><td>0.982156081823739</td><td>4.93303942864255e-05</td><td>0</td><td>115.738883554935</td><td>0.995873689651489</td><td>0</td><td>0.105607852339745</td><td>1.0</td><td>0</td><td>daily/tiles/cumulative/9624/20220611/redrock-4-9624-thru20220611.fits</td><td>29382833</td><td>0.07437255496547353</td><td>906.3599020620863</td><td>168.32227138877792</td><td>1.1767188633863131e-06</td><td>6642.314130103612</td><td>0.21858467963945125</td></tr>\n",
       "<tr><td>39627898725865283</td><td>318.352856381538</td><td>4.51929401195848</td><td>6551</td><td>20220606</td><td>0.818332646738268</td><td>4.60537894095151e-05</td><td>0</td><td>78.4640438482165</td><td>0.840378820896149</td><td>0</td><td>0.104418501257896</td><td>0.0</td><td>0</td><td>daily/tiles/cumulative/6551/20220606/redrock-9-6551-thru20220606.fits</td><td>29382833</td><td>0.07437255496547353</td><td>906.3599020620863</td><td>168.32227138877792</td><td>1.1767188633863131e-06</td><td>5307.569750224303</td><td>0.2040654177885191</td></tr>\n",
       "<tr><td>39627898725865383</td><td>318.357101734049</td><td>4.5156744518565</td><td>23974</td><td>20220601</td><td>0.0626446011077805</td><td>4.91603558902857e-06</td><td>0</td><td>2472.10256794095</td><td>271.315856933594</td><td>131074</td><td>0.103391066193581</td><td>0.674608528614044</td><td>0</td><td>daily/tiles/cumulative/23974/20220601/redrock-7-23974-thru20220601.fits</td><td>29382833</td><td>0.07437255496547353</td><td>906.3599020620863</td><td>168.32227138877792</td><td>1.1767188633863131e-06</td><td>290.596138689868</td><td>0.021782381719236157</td></tr>\n",
       "<tr><td>39627898725865711</td><td>318.367092687767</td><td>4.56975983518192</td><td>6551</td><td>20220609</td><td>0.901943609669016</td><td>5.25564168758817e-05</td><td>0</td><td>97.5929107367992</td><td>1.28755128383636</td><td>0</td><td>0.109757766127586</td><td>0.0</td><td>0</td><td>daily/tiles/cumulative/6551/20220609/redrock-9-6551-thru20220609.fits</td><td>29382838</td><td>0.0743702028992952</td><td>905.785362123571</td><td>168.39084745511798</td><td>1.1781302276595755e-06</td><td>5981.130570715325</td><td>0.23287987296867702</td></tr>\n",
       "</table></div>"
      ],
      "text/plain": [
       "<Table length=5>\n",
       "     TARGETID        TARGET_RA     ...       DIST_Z           DIST_Z_ERR     \n",
       "                                   ...        Mpc                Mpc         \n",
       "      int64           float64      ...      float64            float64       \n",
       "----------------- ---------------- ... ----------------- --------------------\n",
       "39627898725865034 318.341830044524 ... 1393.709064995035  0.07309044717122476\n",
       "39627898725865459  318.35988431132 ... 6642.314130103612  0.21858467963945125\n",
       "39627898725865283 318.352856381538 ... 5307.569750224303   0.2040654177885191\n",
       "39627898725865383 318.357101734049 ...  290.596138689868 0.021782381719236157\n",
       "39627898725865711 318.367092687767 ... 5981.130570715325  0.23287987296867702"
      ]
     },
     "execution_count": 37,
     "metadata": {},
     "output_type": "execute_result"
    }
   ],
   "source": [
    "data_90[:5]"
   ]
  },
  {
   "cell_type": "markdown",
   "metadata": {},
   "source": [
    "### Lets check how much the distance measurement changes in the 90% credible region of LIGO and compare to our DESI data\n",
    "\n",
    "We should see a lot more data in DESI (since we haven't done any redshift selection and there can be multiple objects per GW-pixel). Be carfeul, we are comparing actual object counts with the number of pixels.\n",
    "\n",
    "\n",
    "We still see, that most of the GW localization is roughly between 780Mpc and 950Mpc. DESI definitely has a most of its data in this range as well."
   ]
  },
  {
   "cell_type": "code",
   "execution_count": 38,
   "metadata": {},
   "outputs": [
    {
     "name": "stdout",
     "output_type": "stream",
     "text": [
      "Our distance ranges from 443.46970862827453 Mpc to 949.3641839334775 Mpc\n",
      "Let's visualize the distance distribution of the LIGO event in the 90% credible region\n"
     ]
    },
    {
     "data": {
      "image/png": "[encoded data removed]",
      "text/plain": [
       "<Figure size 1500x800 with 3 Axes>"
      ]
     },
     "metadata": {},
     "output_type": "display_data"
    }
   ],
   "source": [
    "dist_max_90 = np.max(skymap_90[\"DISTMU\"])*u.Mpc\n",
    "dist_min_90 = np.min(skymap_90[\"DISTMU\"])*u.Mpc\n",
    "print(f\"Our distance ranges from {dist_min_90} to {dist_max_90}\")\n",
    "print(\"Let's visualize the distance distribution of the LIGO event in the 90% credible region\")\n",
    "\n",
    "fig, ax = plt.subplots(ncols = 3, figsize = (15,8))\n",
    "\n",
    "\n",
    "ax[0].hist(data_90[\"DIST_Z\"], bins = \"auto\", color = \"orange\")\n",
    "ax[1].hist(data_90[\"DIST_Z\"], bins = \"auto\", color = \"green\")\n",
    "ax[2].hist(skymap_90[\"DISTMU\"], bins = \"auto\", color = \"blue\")\n",
    "\n",
    "\n",
    "for axis in ax:\n",
    "    axis.set_xlabel(\"distance bin (Mpc)\")\n",
    "\n",
    "ax[0].set_ylabel(\"object count\")\n",
    "ax[1].set_ylabel(\"object count\")\n",
    "ax[2].set_ylabel(\"pixel count\")\n",
    "\n",
    "ax[1].set_xlim(0,1000)\n",
    "    \n",
    "plt.show()"
   ]
  },
  {
   "cell_type": "code",
   "execution_count": 39,
   "metadata": {},
   "outputs": [
    {
     "data": {
      "text/plain": [
       "(7923, 80722)"
      ]
     },
     "execution_count": 39,
     "metadata": {},
     "output_type": "execute_result"
    }
   ],
   "source": [
    "len(skymap_90), len(data_90)"
   ]
  },
  {
   "cell_type": "markdown",
   "metadata": {},
   "source": [
    "### To reduce our data even more, lets cut out the unreasonably far away objects\n",
    "\n",
    "We simply take maximum and minimum distance we get from the LIGO skymap (i.e. DISTMU+-DISTERR) and check, whether every galaxy in that pixel falls inside this range."
   ]
  },
  {
   "cell_type": "code",
   "execution_count": 40,
   "metadata": {},
   "outputs": [],
   "source": [
    "z_selection_mask = data_90[\"DIST_Z\"] - data_90[\"DIST_Z_ERR\"] <  data_90[\"DISTMU\"] + data_90[\"DISTSIGMA\"]\n",
    "z_selection_mask &= data_90[\"DIST_Z\"] + data_90[\"DIST_Z_ERR\"] >  data_90[\"DISTMU\"] - data_90[\"DISTSIGMA\"]\n",
    "\n",
    "data_90_z = data_90[z_selection_mask]"
   ]
  },
  {
   "cell_type": "code",
   "execution_count": 41,
   "metadata": {},
   "outputs": [
    {
     "name": "stdout",
     "output_type": "stream",
     "text": [
      "The z-range selection has deleted 73063 objects from originally 80722 in the data set\n",
      "Therefore, we have 7659 objects left in the search region\n"
     ]
    }
   ],
   "source": [
    "remaining_obj = np.size(np.where(z_selection_mask == True))\n",
    "deleted_obj = np.size(np.where(z_selection_mask == False))\n",
    "\n",
    "print(f\"The z-range selection has deleted {deleted_obj} objects from originally {deleted_obj+remaining_obj} in the data set\")\n",
    "print(f\"Therefore, we have {remaining_obj} objects left in the search region\")"
   ]
  },
  {
   "cell_type": "code",
   "execution_count": 42,
   "metadata": {},
   "outputs": [
    {
     "name": "stdout",
     "output_type": "stream",
     "text": [
      "Our highest remaing probability density is 0.07436240650231796 compared to the originally highest prob density of 0.07437342287566126\n",
      "The difference in prob density is 1.1016373343303298e-05\n"
     ]
    }
   ],
   "source": [
    "highest_prob_dens = np.max(data_90_z[\"PROBDENSITY\"])\n",
    "print(f\"Our highest remaing probability density is {highest_prob_dens} compared to the originally highest prob density of {max_probdens_in_ligo}\")\n",
    "print(f\"The difference in prob density is {max_probdens_in_ligo-highest_prob_dens}\")"
   ]
  },
  {
   "cell_type": "code",
   "execution_count": 43,
   "metadata": {},
   "outputs": [
    {
     "data": {
      "text/html": [
       "<div><i>Table length=5</i>\n",
       "<table id=\"table139674427437456\" class=\"table-striped table-bordered table-condensed\">\n",
       "<thead><tr><th>TARGETID</th><th>TARGET_RA</th><th>TARGET_DEC</th><th>TILEID</th><th>NIGHT</th><th>Z</th><th>ZERR</th><th>ZWARN</th><th>DELTACHI2</th><th>FLUX_Z</th><th>BGS_TARGET</th><th>EBV</th><th>SERSIC</th><th>MWS_TARGET</th><th>FILENAME</th><th>UNIQ</th><th>PROBDENSITY</th><th>DISTMU</th><th>DISTSIGMA</th><th>DISTNORM</th><th>DIST_Z</th><th>DIST_Z_ERR</th></tr></thead>\n",
       "<thead><tr><th></th><th></th><th></th><th></th><th></th><th></th><th></th><th></th><th></th><th></th><th></th><th></th><th></th><th></th><th></th><th></th><th></th><th>Mpc</th><th>Mpc</th><th>1 / Mpc2</th><th>Mpc</th><th>Mpc</th></tr></thead>\n",
       "<thead><tr><th>int64</th><th>float64</th><th>float64</th><th>int64</th><th>int64</th><th>float64</th><th>float64</th><th>int64</th><th>float64</th><th>float64</th><th>int64</th><th>float64</th><th>float64</th><th>int64</th><th>str71</th><th>int64</th><th>float64</th><th>float64</th><th>float64</th><th>float64</th><th>float64</th><th>float64</th></tr></thead>\n",
       "<tr><td>39627898725865092</td><td>318.343975864463</td><td>4.61802503488804</td><td>20848</td><td>20220924</td><td>0.208246470972958</td><td>1.37796188782166e-05</td><td>0</td><td>225.36238026619</td><td>11.8762531280518</td><td>65537</td><td>0.117808014154434</td><td>0.624696314334869</td><td>0</td><td>daily/tiles/cumulative/20848/20220924/redrock-9-20848-thru20220924.fits</td><td>29382847</td><td>0.07436240650231796</td><td>904.9078983771989</td><td>168.49631024409334</td><td>1.1802901306190855e-06</td><td>1059.0229609439502</td><td>0.061056302872346105</td></tr>\n",
       "<tr><td>39627904748884504</td><td>318.307619403953</td><td>4.62952602574813</td><td>23974</td><td>20220601</td><td>0.190100594257485</td><td>9.22824458780535e-06</td><td>0</td><td>1030.32226741314</td><td>24.5754203796387</td><td>131074</td><td>0.119820907711983</td><td>2.01661849021912</td><td>0</td><td>daily/tiles/cumulative/23974/20220601/redrock-6-23974-thru20220601.fits</td><td>29383189</td><td>0.07434335353979521</td><td>904.5971259923128</td><td>168.5378997402391</td><td>1.181054491460503e-06</td><td>956.6801633556752</td><td>0.04088941324240107</td></tr>\n",
       "<tr><td>39627898725863881</td><td>318.298643799452</td><td>4.59852204654295</td><td>20848</td><td>20220924</td><td>0.19476438799531</td><td>6.23613062129715e-05</td><td>0</td><td>440.088293122128</td><td>50.5891990661621</td><td>131074</td><td>0.117149002850056</td><td>2.78044295310974</td><td>0</td><td>daily/tiles/cumulative/20848/20220924/redrock-0-20848-thru20220924.fits</td><td>29383188</td><td>0.07424021311683862</td><td>904.8631564363726</td><td>168.51215510726328</td><td>1.1803955029523384e-06</td><td>982.8146507517771</td><td>0.27632786031171425</td></tr>\n",
       "<tr><td>39627898725866090</td><td>318.380882366134</td><td>4.40495761835602</td><td>20848</td><td>20220924</td><td>0.150740158492244</td><td>3.32585084578696e-05</td><td>0</td><td>782.473413804546</td><td>92.1853179931641</td><td>131074</td><td>0.0887466147542</td><td>1.44437539577484</td><td>0</td><td>daily/tiles/cumulative/20848/20220924/redrock-0-20848-thru20220924.fits</td><td>29382790</td><td>0.07415767910631106</td><td>908.0657022820878</td><td>168.13088173978264</td><td>1.1725373283204994e-06</td><td>740.8940783584458</td><td>0.14736778322910477</td></tr>\n",
       "<tr><td>39627904748882793</td><td>318.241644599591</td><td>4.79834311703178</td><td>23974</td><td>20220601</td><td>0.208039482176389</td><td>8.87139709062428e-06</td><td>0</td><td>1761.58184480667</td><td>109.067489624023</td><td>131074</td><td>0.121510736644268</td><td>4.0</td><td>0</td><td>daily/tiles/cumulative/23974/20220601/redrock-6-23974-thru20220601.fits</td><td>29383276</td><td>0.07405352774678126</td><td>901.8422697824149</td><td>168.9210577145083</td><td>1.1878547037132735e-06</td><td>1057.8455989290974</td><td>0.03930824752110999</td></tr>\n",
       "</table></div>"
      ],
      "text/plain": [
       "<Table length=5>\n",
       "     TARGETID        TARGET_RA     ...       DIST_Z            DIST_Z_ERR     \n",
       "                                   ...        Mpc                 Mpc         \n",
       "      int64           float64      ...      float64             float64       \n",
       "----------------- ---------------- ... ------------------ --------------------\n",
       "39627898725865092 318.343975864463 ... 1059.0229609439502 0.061056302872346105\n",
       "39627904748884504 318.307619403953 ...  956.6801633556752  0.04088941324240107\n",
       "39627898725863881 318.298643799452 ...  982.8146507517771  0.27632786031171425\n",
       "39627898725866090 318.380882366134 ...  740.8940783584458  0.14736778322910477\n",
       "39627904748882793 318.241644599591 ... 1057.8455989290974  0.03930824752110999"
      ]
     },
     "execution_count": 43,
     "metadata": {},
     "output_type": "execute_result"
    }
   ],
   "source": [
    "data_90_z[:5]"
   ]
  },
  {
   "cell_type": "markdown",
   "metadata": {},
   "source": [
    "### get the apparent, absolute magnitudes and luminosities\n",
    "\n",
    "in order to do this: flux > 0 selection"
   ]
  },
  {
   "cell_type": "code",
   "execution_count": 93,
   "metadata": {},
   "outputs": [
    {
     "name": "stdout",
     "output_type": "stream",
     "text": [
      "We have 7659 objects remaining in our catalog, i.e. 0 had to be cut out due to bad fluxes\n"
     ]
    }
   ],
   "source": [
    "# get the apparent mags\n",
    "data_90_z = data_90_z[data_90_z[\"FLUX_Z\"] > 0]\n",
    "app_mag_z = gs.app_mag(data_90_z[\"FLUX_Z\"])\n",
    "flux_selection_cut = len(data_90_z)\n",
    "print(f\"We have {flux_selection_cut} objects remaining in our catalog, i.e. {remaining_obj-flux_selection_cut} had to be cut out due to bad fluxes\")\n",
    "\n",
    "# get the absolute mags\n",
    "abs_mag_z = gs.abs_mag(app_mag_z, data_90_z[\"Z\"], 0,0,0)\n",
    "\n",
    "# get the luminosities\n",
    "lums_z = gs.lum_z(abs_mag_z)"
   ]
  },
  {
   "cell_type": "code",
   "execution_count": 94,
   "metadata": {},
   "outputs": [],
   "source": [
    "data_f = hstack([data_90_z, Table({\"APP_MAG_Z\": app_mag_z}), Table({\"ABS_MAG_Z\": abs_mag_z}), Table({\"LUM_Z\": lums_z})])"
   ]
  },
  {
   "cell_type": "code",
   "execution_count": 95,
   "metadata": {},
   "outputs": [
    {
     "data": {
      "text/html": [
       "<div><i>Table length=5</i>\n",
       "<table id=\"table139674848908032\" class=\"table-striped table-bordered table-condensed\">\n",
       "<thead><tr><th>TARGETID</th><th>TARGET_RA</th><th>TARGET_DEC</th><th>TILEID</th><th>NIGHT</th><th>Z</th><th>ZERR</th><th>ZWARN</th><th>DELTACHI2</th><th>FLUX_Z</th><th>BGS_TARGET</th><th>EBV</th><th>SERSIC</th><th>MWS_TARGET</th><th>FILENAME</th><th>UNIQ</th><th>PROBDENSITY</th><th>DISTMU</th><th>DISTSIGMA</th><th>DISTNORM</th><th>DIST_Z</th><th>DIST_Z_ERR</th><th>APP_MAG_Z</th><th>ABS_MAG_Z</th><th>LUM_Z</th></tr></thead>\n",
       "<thead><tr><th></th><th></th><th></th><th></th><th></th><th></th><th></th><th></th><th></th><th></th><th></th><th></th><th></th><th></th><th></th><th></th><th></th><th>Mpc</th><th>Mpc</th><th>1 / Mpc2</th><th>Mpc</th><th>Mpc</th><th></th><th></th><th>W</th></tr></thead>\n",
       "<thead><tr><th>int64</th><th>float64</th><th>float64</th><th>int64</th><th>int64</th><th>float64</th><th>float64</th><th>int64</th><th>float64</th><th>float64</th><th>int64</th><th>float64</th><th>float64</th><th>int64</th><th>str71</th><th>int64</th><th>float64</th><th>float64</th><th>float64</th><th>float64</th><th>float64</th><th>float64</th><th>float64</th><th>float64</th><th>float64</th></tr></thead>\n",
       "<tr><td>39627898725865092</td><td>318.343975864463</td><td>4.61802503488804</td><td>20848</td><td>20220924</td><td>0.208246470972958</td><td>1.37796188782166e-05</td><td>0</td><td>225.36238026619</td><td>11.8762531280518</td><td>65537</td><td>0.117808014154434</td><td>0.624696314334869</td><td>0</td><td>daily/tiles/cumulative/20848/20220924/redrock-9-20848-thru20220924.fits</td><td>29382847</td><td>0.07436240650231796</td><td>904.9078983771989</td><td>168.49631024409334</td><td>1.1802901306190855e-06</td><td>1059.0229609439502</td><td>0.061056302872346105</td><td>19.81330138628198</td><td>-20.31122549500689</td><td>1.5485734676470713e+36</td></tr>\n",
       "<tr><td>39627904748884504</td><td>318.307619403953</td><td>4.62952602574813</td><td>23974</td><td>20220601</td><td>0.190100594257485</td><td>9.22824458780535e-06</td><td>0</td><td>1030.32226741314</td><td>24.5754203796387</td><td>131074</td><td>0.119820907711983</td><td>2.01661849021912</td><td>0</td><td>daily/tiles/cumulative/23974/20220601/redrock-6-23974-thru20220601.fits</td><td>29383189</td><td>0.07434335353979521</td><td>904.5971259923128</td><td>168.5378997402391</td><td>1.181054491460503e-06</td><td>956.6801633556752</td><td>0.04088941324240107</td><td>19.02374761130865</td><td>-20.88008623376063</td><td>2.6150265920761496e+36</td></tr>\n",
       "<tr><td>39627898725863881</td><td>318.298643799452</td><td>4.59852204654295</td><td>20848</td><td>20220924</td><td>0.19476438799531</td><td>6.23613062129715e-05</td><td>0</td><td>440.088293122128</td><td>50.5891990661621</td><td>131074</td><td>0.117149002850056</td><td>2.78044295310974</td><td>0</td><td>daily/tiles/cumulative/20848/20220924/redrock-0-20848-thru20220924.fits</td><td>29383188</td><td>0.07424021311683862</td><td>904.8631564363726</td><td>168.51215510726328</td><td>1.1803955029523384e-06</td><td>982.8146507517771</td><td>0.27632786031171425</td><td>18.239855490839112</td><td>-21.72250261843527</td><td>5.68123381615191e+36</td></tr>\n",
       "<tr><td>39627898725866090</td><td>318.380882366134</td><td>4.40495761835602</td><td>20848</td><td>20220924</td><td>0.150740158492244</td><td>3.32585084578696e-05</td><td>0</td><td>782.473413804546</td><td>92.1853179931641</td><td>131074</td><td>0.0887466147542</td><td>1.44437539577484</td><td>0</td><td>daily/tiles/cumulative/20848/20220924/redrock-0-20848-thru20220924.fits</td><td>29382790</td><td>0.07415767910631106</td><td>908.0657022820878</td><td>168.13088173978264</td><td>1.1725373283204994e-06</td><td>740.8940783584458</td><td>0.14736778322910477</td><td>17.588345604694855</td><td>-21.76043501365957</td><td>5.883227214843704e+36</td></tr>\n",
       "<tr><td>39627904748882793</td><td>318.241644599591</td><td>4.79834311703178</td><td>23974</td><td>20220601</td><td>0.208039482176389</td><td>8.87139709062428e-06</td><td>0</td><td>1761.58184480667</td><td>109.067489624023</td><td>131074</td><td>0.121510736644268</td><td>4.0</td><td>0</td><td>daily/tiles/cumulative/23974/20220601/redrock-6-23974-thru20220601.fits</td><td>29383276</td><td>0.07405352774678126</td><td>901.8422697824149</td><td>168.9210577145083</td><td>1.1878547037132735e-06</td><td>1057.8455989290974</td><td>0.03930824752110999</td><td>17.405761706960853</td><td>-22.71634971080482</td><td>1.418997075398255e+37</td></tr>\n",
       "</table></div>"
      ],
      "text/plain": [
       "<Table length=5>\n",
       "     TARGETID        TARGET_RA     ...     ABS_MAG_Z              LUM_Z         \n",
       "                                   ...                              W           \n",
       "      int64           float64      ...      float64              float64        \n",
       "----------------- ---------------- ... ------------------ ----------------------\n",
       "39627898725865092 318.343975864463 ... -20.31122549500689 1.5485734676470713e+36\n",
       "39627904748884504 318.307619403953 ... -20.88008623376063 2.6150265920761496e+36\n",
       "39627898725863881 318.298643799452 ... -21.72250261843527   5.68123381615191e+36\n",
       "39627898725866090 318.380882366134 ... -21.76043501365957  5.883227214843704e+36\n",
       "39627904748882793 318.241644599591 ... -22.71634971080482  1.418997075398255e+37"
      ]
     },
     "execution_count": 95,
     "metadata": {},
     "output_type": "execute_result"
    }
   ],
   "source": [
    "data_f[:5]"
   ]
  },
  {
   "cell_type": "code",
   "execution_count": 96,
   "metadata": {},
   "outputs": [
    {
     "name": "stdout",
     "output_type": "stream",
     "text": [
      "The maximum luminosity in our cataloge in the z-band is 8.604260524200638e+37 W with a prob density of     PROBDENSITY     \n",
      "--------------------\n",
      "0.050987393125054355\n"
     ]
    }
   ],
   "source": [
    "max_lum_z = np.max(data_f[\"LUM_Z\"])*u.W\n",
    "prob_dens_max_lum = data_f[data_f[\"LUM_Z\"] == max_lum_z][\"PROBDENSITY\"]\n",
    "print(f\"The maximum luminosity in our cataloge in the z-band is {max_lum_z} with a prob density of {prob_dens_max_lum}\")"
   ]
  },
  {
   "cell_type": "code",
   "execution_count": 97,
   "metadata": {},
   "outputs": [],
   "source": [
    "arg_errfc = abs(data_f[\"DIST_Z\"]-data_f[\"DISTMU\"])/(data_f[\"DIST_Z_ERR\"]**2+data_f[\"DISTSIGMA\"]**2)\n",
    "P_gal_unnorm = data_f[\"LUM_Z\"]*data_f[\"PROBDENSITY\"]*(1-sc.special.erf(arg_errfc))\n",
    "#dist_mean*u.Mpc, dist_std*u.Mpc\n",
    "arg_errfc_c = abs(data_f[\"DIST_Z\"].value-dist_mean)/(data_f[\"DIST_Z_ERR\"].value**2+dist_std**2)\n",
    "P_gal_unnorm_const = data_f[\"LUM_Z\"]*data_f[\"PROBDENSITY\"]*(1-sc.special.erf(arg_errfc_c))\n",
    "\n",
    "# now lets quickly normalize\n",
    "\n",
    "P_gal_sum = np.sum(P_gal_unnorm)\n",
    "P_gal_const_sum = np.sum(P_gal_unnorm_const)\n",
    "\n",
    "P_gal = 1/P_gal_sum * P_gal_unnorm\n",
    "P_gal_const = 1/P_gal_const_sum * P_gal_unnorm_const"
   ]
  },
  {
   "cell_type": "code",
   "execution_count": 100,
   "metadata": {},
   "outputs": [],
   "source": [
    "data_f = hstack([data_f, Table({\"P_GAL\": P_gal.value}), Table({\"P_GAL_C\": P_gal_const.value})])"
   ]
  },
  {
   "cell_type": "code",
   "execution_count": 101,
   "metadata": {},
   "outputs": [
    {
     "data": {
      "text/html": [
       "<div><i>Table length=5</i>\n",
       "<table id=\"table139674848903808\" class=\"table-striped table-bordered table-condensed\">\n",
       "<thead><tr><th>TARGETID</th><th>TARGET_RA</th><th>TARGET_DEC</th><th>TILEID</th><th>NIGHT</th><th>Z</th><th>ZERR</th><th>ZWARN</th><th>DELTACHI2</th><th>FLUX_Z</th><th>BGS_TARGET</th><th>EBV</th><th>SERSIC</th><th>MWS_TARGET</th><th>FILENAME</th><th>UNIQ</th><th>PROBDENSITY</th><th>DISTMU</th><th>DISTSIGMA</th><th>DISTNORM</th><th>DIST_Z</th><th>DIST_Z_ERR</th><th>APP_MAG_Z</th><th>ABS_MAG_Z</th><th>LUM_Z</th><th>P_GAL</th><th>P_GAL_C</th><th>SKY_COORD</th></tr></thead>\n",
       "<thead><tr><th></th><th></th><th></th><th></th><th></th><th></th><th></th><th></th><th></th><th></th><th></th><th></th><th></th><th></th><th></th><th></th><th></th><th>Mpc</th><th>Mpc</th><th>1 / Mpc2</th><th>Mpc</th><th>Mpc</th><th></th><th></th><th>W</th><th></th><th></th><th>deg,deg</th></tr></thead>\n",
       "<thead><tr><th>int64</th><th>float64</th><th>float64</th><th>int64</th><th>int64</th><th>float64</th><th>float64</th><th>int64</th><th>float64</th><th>float64</th><th>int64</th><th>float64</th><th>float64</th><th>int64</th><th>str71</th><th>int64</th><th>float64</th><th>float64</th><th>float64</th><th>float64</th><th>float64</th><th>float64</th><th>float64</th><th>float64</th><th>float64</th><th>float64</th><th>float64</th><th>SkyCoord</th></tr></thead>\n",
       "<tr><td>39627898725865092</td><td>318.343975864463</td><td>4.61802503488804</td><td>20848</td><td>20220924</td><td>0.208246470972958</td><td>1.37796188782166e-05</td><td>0</td><td>225.36238026619</td><td>11.8762531280518</td><td>65537</td><td>0.117808014154434</td><td>0.624696314334869</td><td>0</td><td>daily/tiles/cumulative/20848/20220924/redrock-9-20848-thru20220924.fits</td><td>29382847</td><td>0.07436240650231796</td><td>904.9078983771989</td><td>168.49631024409334</td><td>1.1802901306190855e-06</td><td>1059.0229609439502</td><td>0.061056302872346105</td><td>19.81330138628198</td><td>-20.31122549500689</td><td>1.5485734676470713e+36</td><td>0.00012338962233643616</td><td>0.00012358137488806145</td><td>318.343975864463,4.61802503488804</td></tr>\n",
       "<tr><td>39627904748884504</td><td>318.307619403953</td><td>4.62952602574813</td><td>23974</td><td>20220601</td><td>0.190100594257485</td><td>9.22824458780535e-06</td><td>0</td><td>1030.32226741314</td><td>24.5754203796387</td><td>131074</td><td>0.119820907711983</td><td>2.01661849021912</td><td>0</td><td>daily/tiles/cumulative/23974/20220601/redrock-6-23974-thru20220601.fits</td><td>29383189</td><td>0.07434335353979521</td><td>904.5971259923128</td><td>168.5378997402391</td><td>1.181054491460503e-06</td><td>956.6801633556752</td><td>0.04088941324240107</td><td>19.02374761130865</td><td>-20.88008623376063</td><td>2.6150265920761496e+36</td><td>0.00020916087729348057</td><td>0.000209226071489121</td><td>318.307619403953,4.62952602574813</td></tr>\n",
       "<tr><td>39627898725863881</td><td>318.298643799452</td><td>4.59852204654295</td><td>20848</td><td>20220924</td><td>0.19476438799531</td><td>6.23613062129715e-05</td><td>0</td><td>440.088293122128</td><td>50.5891990661621</td><td>131074</td><td>0.117149002850056</td><td>2.78044295310974</td><td>0</td><td>daily/tiles/cumulative/20848/20220924/redrock-0-20848-thru20220924.fits</td><td>29383188</td><td>0.07424021311683862</td><td>904.8631564363726</td><td>168.51215510726328</td><td>1.1803955029523384e-06</td><td>982.8146507517771</td><td>0.27632786031171425</td><td>18.239855490839112</td><td>-21.72250261843527</td><td>5.68123381615191e+36</td><td>0.00045331096201940994</td><td>0.000453592339056852</td><td>318.298643799452,4.59852204654295</td></tr>\n",
       "<tr><td>39627898725866090</td><td>318.380882366134</td><td>4.40495761835602</td><td>20848</td><td>20220924</td><td>0.150740158492244</td><td>3.32585084578696e-05</td><td>0</td><td>782.473413804546</td><td>92.1853179931641</td><td>131074</td><td>0.0887466147542</td><td>1.44437539577484</td><td>0</td><td>daily/tiles/cumulative/20848/20220924/redrock-0-20848-thru20220924.fits</td><td>29382790</td><td>0.07415767910631106</td><td>908.0657022820878</td><td>168.13088173978264</td><td>1.1725373283204994e-06</td><td>740.8940783584458</td><td>0.14736778322910477</td><td>17.588345604694855</td><td>-21.76043501365957</td><td>5.883227214843704e+36</td><td>0.00046722458931364327</td><td>0.0004679887259835733</td><td>318.380882366134,4.40495761835602</td></tr>\n",
       "<tr><td>39627904748882793</td><td>318.241644599591</td><td>4.79834311703178</td><td>23974</td><td>20220601</td><td>0.208039482176389</td><td>8.87139709062428e-06</td><td>0</td><td>1761.58184480667</td><td>109.067489624023</td><td>131074</td><td>0.121510736644268</td><td>4.0</td><td>0</td><td>daily/tiles/cumulative/23974/20220601/redrock-6-23974-thru20220601.fits</td><td>29383276</td><td>0.07405352774678126</td><td>901.8422697824149</td><td>168.9210577145083</td><td>1.1878547037132735e-06</td><td>1057.8455989290974</td><td>0.03930824752110999</td><td>17.405761706960853</td><td>-22.71634971080482</td><td>1.418997075398255e+37</td><td>0.0011259042325417689</td><td>0.0011277405387350305</td><td>318.241644599591,4.79834311703178</td></tr>\n",
       "</table></div>"
      ],
      "text/plain": [
       "<Table length=5>\n",
       "     TARGETID        TARGET_RA     ...             SKY_COORD            \n",
       "                                   ...              deg,deg             \n",
       "      int64           float64      ...              SkyCoord            \n",
       "----------------- ---------------- ... ---------------------------------\n",
       "39627898725865092 318.343975864463 ... 318.343975864463,4.61802503488804\n",
       "39627904748884504 318.307619403953 ... 318.307619403953,4.62952602574813\n",
       "39627898725863881 318.298643799452 ... 318.298643799452,4.59852204654295\n",
       "39627898725866090 318.380882366134 ... 318.380882366134,4.40495761835602\n",
       "39627904748882793 318.241644599591 ... 318.241644599591,4.79834311703178"
      ]
     },
     "execution_count": 101,
     "metadata": {},
     "output_type": "execute_result"
    }
   ],
   "source": [
    "data_f[:5]"
   ]
  },
  {
   "cell_type": "markdown",
   "metadata": {
    "tags": []
   },
   "source": [
    "## Analyse the data: How much luminosity do we cover? Which galaxies should we observe?\n",
    "\n",
    "Lets look into what information we can retrieve from here. First we define, how many galaxies we could observe (N_galaxies).\n",
    "\n",
    "We then calculate the luminosity (lum) from all the galaxies in this area, i.e. the total luminosity. From there do some comparison between the covered luminosity and total luminosity depending on the ranking by probability:\n",
    "- simple \"Maximum lum that could be covered\" by looking at the brightest galaxies\n",
    "- Calculate the probability this way (from https://arxiv.org/pdf/1710.05452.pdf w/o normalization), both using a static and variable distance and error: $$P_{gal} = k^{-1}\\tilde{L_z}\\cdot P_{2D}\\left(1-\\text{erf}\\left(\\frac{|D_{Gal}-D_{LVC}|}{\\sigma_{D,gal}^{2}+\\sigma_{D,LVC}^{2}}\\right)\\right)$$\n",
    "- others may follow...\n",
    "\n",
    "Since we have the actual luminosity (here in z-band though), we don't need to again calculate the $$\\tilde{L}_{gal}$$ values. In the mentioned paper, they only use a fixed distance and error for the LIGO data. I will try both, to get an idea what the differences are."
   ]
  },
  {
   "cell_type": "code",
   "execution_count": 102,
   "metadata": {},
   "outputs": [],
   "source": [
    "N_galaxies = 20 # how many galaxies we can cover"
   ]
  },
  {
   "cell_type": "code",
   "execution_count": 103,
   "metadata": {},
   "outputs": [],
   "source": [
    "total_lum = np.sum(data_f[\"LUM_Z\"])"
   ]
  },
  {
   "cell_type": "markdown",
   "metadata": {},
   "source": [
    "### Compare lum with luminosity ranking\n",
    "\n",
    "https://iopscience.iop.org/article/10.3847/0067-0049/226/1/10"
   ]
  },
  {
   "cell_type": "code",
   "execution_count": 104,
   "metadata": {},
   "outputs": [],
   "source": [
    "data_sort_by_lums = data_f.group_by(\"LUM_Z\")\n",
    "data_sort_by_lums = data_sort_by_lums[::-1]"
   ]
  },
  {
   "cell_type": "code",
   "execution_count": 105,
   "metadata": {},
   "outputs": [],
   "source": [
    "lum_after_N_highest = np.sum(data_sort_by_lums[\"LUM_Z\"][:N_galaxies])"
   ]
  },
  {
   "cell_type": "code",
   "execution_count": 106,
   "metadata": {},
   "outputs": [
    {
     "name": "stdout",
     "output_type": "stream",
     "text": [
      "The theoretical maximum luminosity we could cover is 1.0901517473258885e+39, i.e. 2.7073669031206746 % of the total luminosity\n",
      "The TARGETID values of these galaxies are: \n",
      "      TARGETID    \n",
      "-----------------\n",
      "39627958842824238\n",
      "39627922817945858\n",
      "39627820304960519\n",
      "39627874612807829\n",
      "39627934826237435\n",
      "39627826344757561\n",
      "39627934847206112\n",
      "39628060273680204\n",
      "39627844422209759\n",
      "39627946826144590\n",
      "39627958847018354\n",
      "39627970842728809\n",
      "39627952861748329\n",
      "39627970846923061\n",
      "39627916799120883\n",
      "39627850453616618\n",
      "39627958842822273\n",
      "39627958838624360\n",
      "39627898734251027\n",
      "39627988798545103\n"
     ]
    }
   ],
   "source": [
    "print(f\"The theoretical maximum luminosity we could cover is {lum_after_N_highest}, i.e. {lum_after_N_highest*100/total_lum} % of the total luminosity\")\n",
    "print(\"The TARGETID values of these galaxies are: \\n\", data_sort_by_lums[\"TARGETID\"][:N_galaxies])"
   ]
  },
  {
   "cell_type": "markdown",
   "metadata": {},
   "source": [
    "### Compare lum with P_Gal ranking"
   ]
  },
  {
   "cell_type": "code",
   "execution_count": 107,
   "metadata": {},
   "outputs": [],
   "source": [
    "data_sort_by_PGal = data_f.group_by(\"P_GAL\")\n",
    "data_sort_by_PGal = data_sort_by_PGal[::-1]\n",
    "\n",
    "lum_after_N_PGal = np.sum(data_sort_by_PGal[\"LUM_Z\"][:N_galaxies])"
   ]
  },
  {
   "cell_type": "code",
   "execution_count": 108,
   "metadata": {},
   "outputs": [
    {
     "name": "stdout",
     "output_type": "stream",
     "text": [
      "The maximum luminosity we cover when ranked by P_gal is 9.558784923988518e+38, i.e. 2.3739023489836333% of the total luminosity\n",
      "The TARGETID values of these galaxies are: \n",
      "    TARGET_RA        TARGET_DEC    ...      TARGETID             P_GAL        \n",
      "---------------- ---------------- ... ----------------- ---------------------\n",
      "318.519065989529 3.49036270524372 ... 39627874612807829  0.004928410695679763\n",
      "317.380232052698 7.02333758166365 ... 39627958842824238  0.004727211629171263\n",
      "318.739025446123 5.46327821766288 ... 39627922817945858 0.0034622433377530506\n",
      "317.439268719627 6.11971340319139 ... 39627934826237435 0.0030727181137481883\n",
      "318.744677586038 4.53405088264006 ... 39627898734251027  0.003005871089739542\n",
      "317.629888832876 6.97456109658116 ... 39627958847018354  0.002927700467580342\n",
      "318.631403383652 5.29428759950365 ... 39627916799120883 0.0026322906091851986\n",
      "317.674825951594 7.43135401798437 ... 39627970842728809   0.00252976070982652\n",
      "317.316412484686 6.99190027285033 ... 39627958842822273 0.0024328585315195965\n",
      "317.813993133723 5.22522869518789 ... 39627916786537828 0.0023530265736525333\n",
      "317.916613369853 6.77548648548987 ... 39627952853356817  0.002337693361583097\n",
      "318.319737912058 4.00992845799047 ... 39627886671433449   0.00221674849513421\n",
      "318.602423539323 5.98322731357081 ... 39627934847206112 0.0020134424524037263\n",
      "317.904836388471 7.51916205260468 ... 39627970846923061 0.0019502842004588817\n",
      "317.404276943046 7.62748168962615 ... 39627976832188781 0.0019158019120823567\n",
      "317.320487031853 8.13502901249687 ... 39627988798545103 0.0019127855688984448\n",
      "317.893849259234 4.73436278190127 ... 39627904744686029 0.0018697393309331084\n",
      "317.565881845056  7.3186772386459 ... 39627964844871234 0.0018576348155664739\n",
      "318.123415088363 3.15127236782429 ... 39627868573013675 0.0018476393171990245\n",
      "317.682433477787 4.84793595805477 ... 39627904740492910 0.0018441464331683658\n"
     ]
    }
   ],
   "source": [
    "print(f\"The maximum luminosity we cover when ranked by P_gal is {lum_after_N_PGal}, i.e. {lum_after_N_PGal*100/total_lum}% of the total luminosity\") \n",
    "print(\"The TARGETID values of these galaxies are: \\n\", data_sort_by_PGal[\"TARGET_RA\", \"TARGET_DEC\", \"SERSIC\", \"TARGETID\", \"P_GAL\"][:N_galaxies])"
   ]
  },
  {
   "cell_type": "code",
   "execution_count": 109,
   "metadata": {},
   "outputs": [],
   "source": [
    "data_sort_by_PGal_C = data_f.group_by(\"P_GAL_C\")\n",
    "data_sort_by_PGal_C = data_sort_by_PGal_C[::-1]\n",
    "\n",
    "lum_after_N_PGal_C = np.sum(data_sort_by_PGal_C[\"LUM_Z\"][:N_galaxies])"
   ]
  },
  {
   "cell_type": "code",
   "execution_count": 110,
   "metadata": {},
   "outputs": [
    {
     "name": "stdout",
     "output_type": "stream",
     "text": [
      "The maximum luminosity we cover when ranked by P_gal_C is 9.558784923988518e+38, i.e. 2.3739023489836333% of the total luminosity\n",
      "The TARGETID values of these galaxies are: \n",
      "      TARGETID             P_GAL        \n",
      "----------------- ---------------------\n",
      "39627874612807829  0.004928410695679763\n",
      "39627958842824238  0.004727211629171263\n",
      "39627922817945858 0.0034622433377530506\n",
      "39627934826237435 0.0030727181137481883\n",
      "39627898734251027  0.003005871089739542\n",
      "39627958847018354  0.002927700467580342\n",
      "39627916799120883 0.0026322906091851986\n",
      "39627970842728809   0.00252976070982652\n",
      "39627958842822273 0.0024328585315195965\n",
      "39627916786537828 0.0023530265736525333\n",
      "39627952853356817  0.002337693361583097\n",
      "39627886671433449   0.00221674849513421\n",
      "39627934847206112 0.0020134424524037263\n",
      "39627970846923061 0.0019502842004588817\n",
      "39627976832188781 0.0019158019120823567\n",
      "39627988798545103 0.0019127855688984448\n",
      "39627904744686029 0.0018697393309331084\n",
      "39627964844871234 0.0018576348155664739\n",
      "39627868573013675 0.0018476393171990245\n",
      "39627904740492910 0.0018441464331683658\n"
     ]
    }
   ],
   "source": [
    "print(f\"The maximum luminosity we cover when ranked by P_gal_C is {lum_after_N_PGal_C}, i.e. {lum_after_N_PGal_C*100/total_lum}% of the total luminosity\") \n",
    "print(\"The TARGETID values of these galaxies are: \\n\", data_sort_by_PGal_C[\"TARGETID\", \"P_GAL\"][:N_galaxies])"
   ]
  },
  {
   "cell_type": "code",
   "execution_count": 112,
   "metadata": {},
   "outputs": [],
   "source": [
    "data_sort_by_PGal[\"TARGET_RA\", \"TARGET_DEC\", \"SERSIC\", \"TARGETID\", \"P_GAL\"][:N_galaxies].write('PGAL_S200129.ecsv', delimiter=',', format='ascii', overwrite = True)"
   ]
  },
  {
   "cell_type": "code",
   "execution_count": null,
   "metadata": {},
   "outputs": [],
   "source": []
  }
 ],
 "metadata": {
  "kernelspec": {
   "display_name": "Python (MambaTest)",
   "language": "python",
   "name": "mambatest"
  },
  "language_info": {
   "codemirror_mode": {
    "name": "ipython",
    "version": 3
   },
   "file_extension": ".py",
   "mimetype": "text/x-python",
   "name": "python",
   "nbconvert_exporter": "python",
   "pygments_lexer": "ipython3",
   "version": "3.10.10"
  }
 },
 "nbformat": 4,
 "nbformat_minor": 4
}
