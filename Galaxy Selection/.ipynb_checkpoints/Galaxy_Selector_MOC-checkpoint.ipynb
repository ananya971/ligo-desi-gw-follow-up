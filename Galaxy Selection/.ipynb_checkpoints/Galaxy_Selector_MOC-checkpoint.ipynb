{
 "cells": [
  {
   "cell_type": "markdown",
   "metadata": {},
   "source": [
    "# Galaxy Selector MOC\n",
    "\n",
    "**Compared to the \"Simple Galaxy Selector, this works with Multi-Ordering-Sky-Maps**\n",
    "\n",
    "\n",
    "***NOTE (this note may be wrong, just copied from old notebook)***: Before anything can happen, download the GW event localization map. Open the terminal and type:\n",
    "\"curl -O https://gracedb.ligo.org/api/superevents/sid/files/bayestar.fits,0\"\n",
    "with sid = superevent ID (could be incorporated into this notebook)\n",
    "\n",
    "Select the galaxies to observe by WWFI in this simple manner:\n",
    "- get the LIGO event data\n",
    "- read the LIGO event data into the notebook, extract some information\n",
    "- read the DESI database into the notebook, \"clean\" the data\n",
    "- get the 90% credible regions for the event, add them as a column to the data\n",
    "- only keep data within the 90% region\n",
    "- calculate all the luminosities (& more)\n",
    "- rank them by luminosity (for now just print the TARGETID), 3D/2D localization and with a luminosity-distance 2D dependant counterpart likelihood\n",
    "\n",
    "Sources: \n",
    "- https://iopscience.iop.org/article/10.3847/0067-0049/226/1/10\n",
    "- https://emfollow.docs.ligo.org/userguide/tutorial/skymaps.html\n",
    "- https://emfollow.docs.ligo.org/userguide/tutorial/multiorder_skymaps.html\n",
    "- https://arxiv.org/pdf/1710.05452.pdf"
   ]
  },
  {
   "cell_type": "markdown",
   "metadata": {
    "tags": []
   },
   "source": [
    "## Import all libraries, load GW data and DESI data and extract basic info"
   ]
  },
  {
   "cell_type": "markdown",
   "metadata": {
    "tags": []
   },
   "source": [
    "### imports, GW data loading"
   ]
  },
  {
   "cell_type": "code",
   "execution_count": 2,
   "metadata": {},
   "outputs": [],
   "source": [
    "import numpy as np\n",
    "from scipy.stats import norm\n",
    "import scipy as sc\n",
    "\n",
    "from astropy.io import fits\n",
    "from astropy.table import Table, hstack\n",
    "from astropy import table\n",
    "\n",
    "import healpy as hp\n",
    "import astropy_healpix as ah\n",
    "\n",
    "from astropy.table import QTable\n",
    "\n",
    "import psycopg2\n",
    "\n",
    "from scipy.stats import norm\n",
    "\n",
    "\n",
    "from astropy.cosmology import Planck18, z_at_value\n",
    "from astropy.coordinates import Distance, SkyCoord\n",
    "from astropy import units as u\n",
    "\n",
    "import astropy.constants as asc\n",
    "\n",
    "import matplotlib.pyplot as plt\n",
    "\n",
    "import gasel as gs"
   ]
  },
  {
   "cell_type": "markdown",
   "metadata": {},
   "source": [
    "Specifiy the path where the data is located and then load the data (this loads everything, just have a look)"
   ]
  },
  {
   "cell_type": "code",
   "execution_count": 3,
   "metadata": {},
   "outputs": [
    {
     "data": {
      "text/html": [
       "<div><i>QTable length=5</i>\n",
       "<table id=\"table140608108219600\" class=\"table-striped table-bordered table-condensed\">\n",
       "<thead><tr><th>UNIQ</th><th>PROBDENSITY</th><th>DISTMU</th><th>DISTSIGMA</th><th>DISTNORM</th></tr></thead>\n",
       "<thead><tr><th></th><th>1 / sr</th><th>Mpc</th><th>Mpc</th><th>1 / Mpc2</th></tr></thead>\n",
       "<thead><tr><th>int64</th><th>float64</th><th>float64</th><th>float64</th><th>float64</th></tr></thead>\n",
       "<tr><td>1044</td><td>0.016208692149536234</td><td>329.8335648354947</td><td>195.2818132984347</td><td>6.830800768587574e-06</td></tr>\n",
       "<tr><td>1045</td><td>0.0094361028466903</td><td>320.4633814025056</td><td>200.98524531395094</td><td>7.023954764321991e-06</td></tr>\n",
       "<tr><td>1046</td><td>0.016898597527584054</td><td>314.4936570596655</td><td>196.5397679407034</td><td>7.307052070156846e-06</td></tr>\n",
       "<tr><td>1047</td><td>0.010541793690778735</td><td>304.5799527664867</td><td>201.6194114041581</td><td>7.546275323227178e-06</td></tr>\n",
       "<tr><td>1052</td><td>0.01712219820604556</td><td>294.2385042718834</td><td>198.31803414256544</td><td>8.001958063887823e-06</td></tr>\n",
       "</table></div>"
      ],
      "text/plain": [
       "<QTable length=5>\n",
       " UNIQ     PROBDENSITY      ...     DISTSIGMA             DISTNORM      \n",
       "             1 / sr        ...        Mpc                1 / Mpc2      \n",
       "int64       float64        ...      float64              float64       \n",
       "----- -------------------- ... ------------------ ---------------------\n",
       " 1044 0.016208692149536234 ...  195.2818132984347 6.830800768587574e-06\n",
       " 1045   0.0094361028466903 ... 200.98524531395094 7.023954764321991e-06\n",
       " 1046 0.016898597527584054 ...  196.5397679407034 7.307052070156846e-06\n",
       " 1047 0.010541793690778735 ...  201.6194114041581 7.546275323227178e-06\n",
       " 1052  0.01712219820604556 ... 198.31803414256544 8.001958063887823e-06"
      ]
     },
     "execution_count": 3,
     "metadata": {},
     "output_type": "execute_result"
    }
   ],
   "source": [
    "path = \"/global/homes/j/jgassert/ligo-desi-gw-follow-up/Galaxy Selection/Files/S230521kbayestar.multiorder.fits,1\"\n",
    "skymap = QTable.read(path)\n",
    "\n",
    "skymap[:5]"
   ]
  },
  {
   "cell_type": "markdown",
   "metadata": {
    "tags": []
   },
   "source": [
    "### Get basic values from GW event\n",
    "\n",
    "We now extract some basic information  from the healpix data:\n",
    "- ipix_max: pixel with highest likelihood\n",
    "- npix: total number of pixels\n",
    "- ra, dec: ra and dec of the pixel with the highest likelihood\n",
    "\n",
    "Then we open the full fits file and extract some more basic info from the header:\n",
    "- dist_mean: mean distance of the GW event\n",
    "- dist_std: error of the distance"
   ]
  },
  {
   "cell_type": "code",
   "execution_count": 4,
   "metadata": {},
   "outputs": [
    {
     "name": "stdout",
     "output_type": "stream",
     "text": [
      "UNIQ ID of highest prob sky localization:  842905\n"
     ]
    }
   ],
   "source": [
    "# most probable sky location\n",
    "i = np.argmax(skymap[\"PROBDENSITY\"])\n",
    "uniq = skymap[i][\"UNIQ\"]\n",
    "print(\"UNIQ ID of highest prob sky localization: \", uniq)"
   ]
  },
  {
   "cell_type": "code",
   "execution_count": 5,
   "metadata": {},
   "outputs": [
    {
     "name": "stdout",
     "output_type": "stream",
     "text": [
      "Highest probability at (RA, dec):  55.37109375 -16.957763300004142 with prob [1/deg^2] of:  0.0006961401736268609 and UNIQ ID:  842905\n"
     ]
    }
   ],
   "source": [
    "# calculate the most probable pixel, convert to RA and dec\n",
    "level_max, ipix_max = ah.uniq_to_level_ipix(uniq)\n",
    "nside = ah.level_to_nside(level_max)\n",
    "ra, dec = ah.healpix_to_lonlat(ipix_max, nside, order = \"nested\")\n",
    "print(\"Highest probability at (RA, dec): \", ra.deg, dec.deg, \"with prob [1/deg^2] of: \", skymap[i]['PROBDENSITY'].to_value(u.deg**-2), \"and UNIQ ID: \", skymap[i][\"UNIQ\"])"
   ]
  },
  {
   "cell_type": "markdown",
   "metadata": {},
   "source": [
    "Now open the fits file and read basics info from the header"
   ]
  },
  {
   "cell_type": "code",
   "execution_count": 6,
   "metadata": {},
   "outputs": [
    {
     "name": "stdout",
     "output_type": "stream",
     "text": [
      "The dist_mean and dist_std values:  453.9716641904466 Mpc 162.7030083768224 Mpc\n"
     ]
    }
   ],
   "source": [
    "fits_gw = fits.open(path)\n",
    "header = fits_gw[1].header\n",
    "dist_mean = header[\"DISTMEAN\"]\n",
    "dist_std = header[\"DISTSTD\"]\n",
    "print(\"The dist_mean and dist_std values: \", dist_mean*u.Mpc, dist_std*u.Mpc)"
   ]
  },
  {
   "cell_type": "code",
   "execution_count": 7,
   "metadata": {},
   "outputs": [],
   "source": [
    "# these values (924, 188Mpc) are close to z= 0.19, 0.03"
   ]
  },
  {
   "cell_type": "markdown",
   "metadata": {
    "tags": []
   },
   "source": [
    "### Get DESI data\n",
    "\n",
    "Establish a connection to the DESI database and load the daily data."
   ]
  },
  {
   "cell_type": "code",
   "execution_count": 8,
   "metadata": {},
   "outputs": [],
   "source": [
    "try:\n",
    "    db = psycopg2.connect(host='decatdb.lbl.gov', database='desidb', user='desi', password = \"5kFibers!\", port=\"5432\")\n",
    "    cursor = db.cursor()\n",
    "except (Exception, psycopg2.Error) as error:\n",
    "    print(error)\n",
    "\n",
    "cursor = db.cursor()"
   ]
  },
  {
   "cell_type": "code",
   "execution_count": 9,
   "metadata": {},
   "outputs": [],
   "source": [
    "redux = 'daily'\n",
    "query = 'SELECT f.targetid,f.target_ra,f.target_dec,c.tileid,c.night,r.z,r.zerr,r.zwarn,r.deltachi2,f.flux_z,f.bgs_target,f.ebv, f.sersic, f.mws_target, c.filename\\n' \\\n",
    "                    f'FROM {redux}.tiles_fibermap f\\n' \\\n",
    "                    f'INNER JOIN {redux}.cumulative_tiles c ON f.cumultile_id=c.id\\n' \\\n",
    "                    f'INNER JOIN {redux}.tiles_redshifts r ON r.cumultile_id=c.id AND r.targetid=f.targetid\\n' \\\n",
    "                    f'WHERE q3c_radial_query( f.target_ra, f.target_dec, {ra.deg}, {dec.deg}, 50);'\n",
    "\n",
    "cursor.execute(query)\n",
    "rows = cursor.fetchall()"
   ]
  },
  {
   "cell_type": "code",
   "execution_count": null,
   "metadata": {},
   "outputs": [],
   "source": [
    "print(\"hello\")"
   ]
  },
  {
   "cell_type": "markdown",
   "metadata": {
    "tags": []
   },
   "source": [
    "## Do all the calculations, selections,...\n",
    "\n",
    "- turn the daily DESI data into a Table\n",
    "- do some basic data selection stuff: only keep good + positive redshifts, only positive values of z-band flux and eliminate duplicates (right now simply takes the first entry)\n",
    "- add the ipix (healpix) pixel value for each target\n",
    "- calculate the probability for each target\n",
    "- add these values to the Table (\"PROB\"), select only targets within the 90% credible region (i.e. with a certainty of 90% the GW event is inside this region)\n",
    "- calculate the distances and its errors from the redshift, add to the data table\n",
    "- calculate the 3D probability just like here: https://iopscience.iop.org/article/10.3847/0067-0049/226/1/10 (§4) and add these values to the table\n",
    "- sort the table by its 3D probability (descending)\n",
    "- calculate absolute and apparent magnitude, luminosity and add to table\n",
    "\n",
    "The final step is to include the calculation of the most likely host galaxy from https://arxiv.org/pdf/1710.05452.pdf (GW170817); these values are then also added to the table as \"P_GAL\""
   ]
  },
  {
   "cell_type": "markdown",
   "metadata": {
    "tags": []
   },
   "source": [
    "### Create DESI data Table and data clean up"
   ]
  },
  {
   "cell_type": "code",
   "execution_count": 10,
   "metadata": {},
   "outputs": [
    {
     "data": {
      "text/html": [
       "<div><i>Table length=7785553</i>\n",
       "<table id=\"table140601761204976\" class=\"table-striped table-bordered table-condensed\">\n",
       "<thead><tr><th>TARGETID</th><th>TARGET_RA</th><th>TARGET_DEC</th><th>TILEID</th><th>NIGHT</th><th>Z</th><th>ZERR</th><th>ZWARN</th><th>DELTACHI2</th><th>FLUX_Z</th><th>BGS_TARGET</th><th>EBV</th><th>SERSIC</th><th>MWS_TARGET</th><th>FILENAME</th></tr></thead>\n",
       "<thead><tr><th>int64</th><th>float64</th><th>float64</th><th>int64</th><th>int64</th><th>float64</th><th>float64</th><th>int64</th><th>float64</th><th>float64</th><th>int64</th><th>float64</th><th>float64</th><th>int64</th><th>str71</th></tr></thead>\n",
       "<tr><td>2305843051005781968</td><td>106.01443859245</td><td>-28.1438030543462</td><td>41257</td><td>20230327</td><td>0.000173078296176008</td><td>4.36689754969643e-07</td><td>0</td><td>685299.872507306</td><td>-99.0</td><td>0</td><td>0.14657598733902</td><td>0.0</td><td>1152921504606846976</td><td>daily/tiles/cumulative/41257/20230327/redrock-9-41257-thru20230327.fits</td></tr>\n",
       "<tr><td>2305843051014141608</td><td>106.123778103246</td><td>-27.9670621647422</td><td>41257</td><td>20230327</td><td>0.000439284443068261</td><td>7.21075569444777e-07</td><td>0</td><td>167858.201147086</td><td>-99.0</td><td>0</td><td>0.148689433932304</td><td>0.0</td><td>1152921504606846976</td><td>daily/tiles/cumulative/41257/20230327/redrock-9-41257-thru20230327.fits</td></tr>\n",
       "<tr><td>2305843051005788830</td><td>106.029161586098</td><td>-28.1200665851008</td><td>41257</td><td>20230327</td><td>8.08963876703873e-05</td><td>1.24735050985549e-06</td><td>0</td><td>81224.0381447042</td><td>-99.0</td><td>0</td><td>0.145410850644112</td><td>0.0</td><td>1152921504606846976</td><td>daily/tiles/cumulative/41257/20230327/redrock-9-41257-thru20230327.fits</td></tr>\n",
       "<tr><td>2305843051005874551</td><td>106.447225144405</td><td>-28.1385890663114</td><td>41257</td><td>20230327</td><td>1.80659322225236e-05</td><td>3.31179476177597e-07</td><td>0</td><td>1109976.17384789</td><td>-99.0</td><td>0</td><td>0.170954242348671</td><td>0.0</td><td>1152921504606846976</td><td>daily/tiles/cumulative/41257/20230327/redrock-9-41257-thru20230327.fits</td></tr>\n",
       "<tr><td>2305843051005771422</td><td>106.24809035703</td><td>-28.4922935385323</td><td>41257</td><td>20230327</td><td>0.000264108673341714</td><td>1.16768092961177e-05</td><td>0</td><td>22872.7280765506</td><td>-99.0</td><td>0</td><td>0.150209158658981</td><td>0.0</td><td>576460795253096448</td><td>daily/tiles/cumulative/41257/20230327/redrock-9-41257-thru20230327.fits</td></tr>\n",
       "<tr><td>2305843051005788312</td><td>106.174243813664</td><td>-28.6043739749776</td><td>41257</td><td>20230327</td><td>0.000141221375404038</td><td>1.49953963106276e-06</td><td>0</td><td>54440.560464189</td><td>-99.0</td><td>0</td><td>0.156230270862579</td><td>0.0</td><td>1152921504606846976</td><td>daily/tiles/cumulative/41257/20230327/redrock-9-41257-thru20230327.fits</td></tr>\n",
       "<tr><td>2305843051014221542</td><td>105.734097016318</td><td>-27.7438033347518</td><td>41257</td><td>20230327</td><td>0.000192496913128352</td><td>1.67064710062782e-06</td><td>0</td><td>605185.591159315</td><td>-99.0</td><td>0</td><td>0.165630280971527</td><td>0.0</td><td>1152921504606846976</td><td>daily/tiles/cumulative/41257/20230327/redrock-9-41257-thru20230327.fits</td></tr>\n",
       "<tr><td>2305843051014220160</td><td>105.679453185735</td><td>-27.4916763565245</td><td>41257</td><td>20230327</td><td>0.000198079396538948</td><td>5.41645748694396e-07</td><td>0</td><td>300111.654388278</td><td>-99.0</td><td>0</td><td>0.166404381394386</td><td>0.0</td><td>1152921504606846976</td><td>daily/tiles/cumulative/41257/20230327/redrock-9-41257-thru20230327.fits</td></tr>\n",
       "<tr><td>-412579002</td><td>105.570939317275</td><td>-27.419222798047</td><td>41257</td><td>20230327</td><td>1.42795233056957</td><td>9.60264828707004e-05</td><td>1</td><td>52.242111902684</td><td>0.0</td><td>0</td><td>0.171723932027817</td><td>0.0</td><td>0</td><td>daily/tiles/cumulative/41257/20230327/redrock-9-41257-thru20230327.fits</td></tr>\n",
       "<tr><td>2305843051005876703</td><td>106.540061008947</td><td>-28.096259549429</td><td>41257</td><td>20230327</td><td>0.00101684854250799</td><td>1.02287462908606e-06</td><td>0</td><td>107221.834195379</td><td>-99.0</td><td>0</td><td>0.171779572963715</td><td>0.0</td><td>1152921504606846976</td><td>daily/tiles/cumulative/41257/20230327/redrock-9-41257-thru20230327.fits</td></tr>\n",
       "<tr><td>...</td><td>...</td><td>...</td><td>...</td><td>...</td><td>...</td><td>...</td><td>...</td><td>...</td><td>...</td><td>...</td><td>...</td><td>...</td><td>...</td><td>...</td></tr>\n",
       "<tr><td>39627480125932293</td><td>65.8332240721249</td><td>-12.7322723170644</td><td>23068</td><td>20210921</td><td>0.341390189076476</td><td>5.85518688395844e-05</td><td>0</td><td>119.799054122628</td><td>25.3625297546387</td><td>65537</td><td>0.0553384199738503</td><td>4.0</td><td>0</td><td>daily/tiles/cumulative/23068/20210921/redrock-0-23068-thru20210921.fits</td></tr>\n",
       "<tr><td>39627480125935154</td><td>65.9566248583794</td><td>-12.6973013207066</td><td>23068</td><td>20210921</td><td>-1.41096687101378e-05</td><td>2.08269750391024e-06</td><td>0</td><td>23154.0710074965</td><td>168.80078125</td><td>0</td><td>0.064228892326355</td><td>0.0</td><td>33</td><td>daily/tiles/cumulative/23068/20210921/redrock-0-23068-thru20210921.fits</td></tr>\n",
       "<tr><td>39627480125934841</td><td>65.9408155647461</td><td>-12.7879696693082</td><td>23068</td><td>20210921</td><td>6.6116490171068e-05</td><td>6.08550631963315e-06</td><td>0</td><td>1982.29745382769</td><td>46.4372673034668</td><td>0</td><td>0.0582771301269531</td><td>0.0</td><td>1280</td><td>daily/tiles/cumulative/23068/20210921/redrock-0-23068-thru20210921.fits</td></tr>\n",
       "<tr><td>39627468344134853</td><td>65.7917881298157</td><td>-13.2838161130307</td><td>23068</td><td>20210921</td><td>0.241206895303936</td><td>4.46092508259935e-05</td><td>0</td><td>460.111845549196</td><td>69.3668212890625</td><td>131074</td><td>0.0495496988296509</td><td>2.24130320549011</td><td>0</td><td>daily/tiles/cumulative/23068/20210921/redrock-0-23068-thru20210921.fits</td></tr>\n",
       "<tr><td>39627468339942795</td><td>65.6404992989736</td><td>-13.1736648318859</td><td>23068</td><td>20210921</td><td>5.44216865990301e-05</td><td>1.32884057688892e-06</td><td>0</td><td>60292.3574243224</td><td>314.750640869141</td><td>0</td><td>0.0542240776121616</td><td>0.0</td><td>1280</td><td>daily/tiles/cumulative/23068/20210921/redrock-0-23068-thru20210921.fits</td></tr>\n",
       "<tr><td>39627468339941871</td><td>65.5941659818219</td><td>-13.3252492307299</td><td>23068</td><td>20210921</td><td>0.354275368494656</td><td>3.00497117910083e-05</td><td>0</td><td>890.812600955367</td><td>39.2171669006348</td><td>131074</td><td>0.0599952787160873</td><td>2.98851609230042</td><td>0</td><td>daily/tiles/cumulative/23068/20210921/redrock-0-23068-thru20210921.fits</td></tr>\n",
       "<tr><td>39627468339942133</td><td>65.6060234548963</td><td>-13.2480210626256</td><td>23068</td><td>20210921</td><td>0.110841254149805</td><td>5.06354020852519e-06</td><td>0</td><td>1728.500659585</td><td>29.7267627716064</td><td>131074</td><td>0.0547304898500443</td><td>1.17173993587494</td><td>0</td><td>daily/tiles/cumulative/23068/20210921/redrock-0-23068-thru20210921.fits</td></tr>\n",
       "<tr><td>39627486023124589</td><td>65.7652705632844</td><td>-12.4508991934655</td><td>23068</td><td>20210921</td><td>0.164406022054081</td><td>3.17074591601191e-05</td><td>0</td><td>1547.00953584071</td><td>78.4004058837891</td><td>131074</td><td>0.0499742589890957</td><td>3.73878049850464</td><td>0</td><td>daily/tiles/cumulative/23068/20210921/redrock-0-23068-thru20210921.fits</td></tr>\n",
       "<tr><td>39627491928704342</td><td>65.7692675634397</td><td>-12.2462936176724</td><td>23068</td><td>20210921</td><td>0.158687647341639</td><td>1.48335647979635e-05</td><td>0</td><td>631.672722801566</td><td>46.0226287841797</td><td>131074</td><td>0.0460815094411373</td><td>0.599793612957001</td><td>0</td><td>daily/tiles/cumulative/23068/20210921/redrock-0-23068-thru20210921.fits</td></tr>\n",
       "<tr><td>39627491924514242</td><td>65.6965645965918</td><td>-12.3516222031626</td><td>23068</td><td>20210921</td><td>6.63136081939636e-05</td><td>5.23535354918063e-06</td><td>0</td><td>1743.90077068885</td><td>42.9793739318848</td><td>0</td><td>0.0489326566457748</td><td>0.0</td><td>10240</td><td>daily/tiles/cumulative/23068/20210921/redrock-0-23068-thru20210921.fits</td></tr>\n",
       "</table></div>"
      ],
      "text/plain": [
       "<Table length=7785553>\n",
       "      TARGETID      ...\n",
       "       int64        ...\n",
       "------------------- ...\n",
       "2305843051005781968 ...\n",
       "2305843051014141608 ...\n",
       "2305843051005788830 ...\n",
       "2305843051005874551 ...\n",
       "2305843051005771422 ...\n",
       "2305843051005788312 ...\n",
       "2305843051014221542 ...\n",
       "2305843051014220160 ...\n",
       "         -412579002 ...\n",
       "2305843051005876703 ...\n",
       "                ... ...\n",
       "  39627480125932293 ...\n",
       "  39627480125935154 ...\n",
       "  39627480125934841 ...\n",
       "  39627468344134853 ...\n",
       "  39627468339942795 ...\n",
       "  39627468339941871 ...\n",
       "  39627468339942133 ...\n",
       "  39627486023124589 ...\n",
       "  39627491928704342 ...\n",
       "  39627491924514242 ..."
      ]
     },
     "execution_count": 10,
     "metadata": {},
     "output_type": "execute_result"
    }
   ],
   "source": [
    "if rows:\n",
    "    data = Table(list(map(list, zip(*rows))),\n",
    "                             names=['TARGETID', 'TARGET_RA', 'TARGET_DEC', 'TILEID', 'NIGHT', 'Z', 'ZERR', 'ZWARN', 'DELTACHI2', 'FLUX_Z', 'BGS_TARGET', 'EBV', 'SERSIC', 'MWS_TARGET','FILENAME'])\n",
    "data[:5:-1] "
   ]
  },
  {
   "cell_type": "code",
   "execution_count": 11,
   "metadata": {},
   "outputs": [],
   "source": [
    "data = data[data['ZWARN']==0]\n",
    "data = data[data['Z']>=0]\n",
    "data = data[data['FLUX_Z']>0]\n",
    "data = table.unique(data, keys = \"TARGETID\")"
   ]
  },
  {
   "cell_type": "code",
   "execution_count": 12,
   "metadata": {},
   "outputs": [
    {
     "name": "stdout",
     "output_type": "stream",
     "text": [
      "We have 3669464 objects in the full catalog\n"
     ]
    }
   ],
   "source": [
    "print(f\"We have {len(data)} objects in the full catalog\") "
   ]
  },
  {
   "cell_type": "markdown",
   "metadata": {
    "tags": []
   },
   "source": [
    "### Calculate the healpix id for every object in the catalog and its probability; append this data to the Table"
   ]
  },
  {
   "cell_type": "code",
   "execution_count": 13,
   "metadata": {},
   "outputs": [],
   "source": [
    "max_level = 29 # highest possible HEALPix resolution that can be represented in a 64-bit signed integer\n",
    "max_nside = ah.level_to_nside(max_level)\n",
    "level, ipix = ah.uniq_to_level_ipix(skymap[\"UNIQ\"])\n",
    "\n",
    "index = ipix*(2**(max_level-level))**2\n",
    "\n",
    "sorter = np.argsort(index)\n",
    "\n",
    "# this is the NESTED pixel index of the target sky location, NOT THE UNIQ ID\n",
    "match_ipix = ah.lonlat_to_healpix(data[\"TARGET_RA\"]*u.deg, data[\"TARGET_DEC\"]*u.deg, max_nside, order='nested')\n",
    "\n",
    "# here we get the pixel index (i.e. where the entry is in the table, also NOT THE UNIQ ID) of each target\n",
    "sorter_i = sorter[np.searchsorted(index, match_ipix, side='right', sorter=sorter) - 1]\n",
    "probdensity = skymap[sorter_i]['PROBDENSITY'].to_value(u.deg**-2)\n",
    "\n",
    "# now we calculate the UNIQ ID for all our targets:\n",
    "\n",
    "uniq = skymap[\"UNIQ\"][sorter_i]\n",
    "#to make things easier in future, I will now also append the UNIQ pixels DISTMU, DISTSIGMA and DISTNORM values. However, be careful, since these DO NOT CORRESPOND THE TARGETS IN DESI DIRECTLY!\n",
    "\n",
    "distmu = skymap[sorter_i][\"DISTMU\"]\n",
    "distsigma = skymap[sorter_i][\"DISTSIGMA\"]\n",
    "distnorm = skymap[sorter_i][\"DISTNORM\"]\n"
   ]
  },
  {
   "cell_type": "code",
   "execution_count": 14,
   "metadata": {},
   "outputs": [],
   "source": [
    "# len(UNIQ), len(data), len(skymap)"
   ]
  },
  {
   "cell_type": "code",
   "execution_count": 15,
   "metadata": {},
   "outputs": [],
   "source": [
    "#data = data.keep_columns([\"TARGETID\", \"TARGET_RA\", \"TARGET_DEC\", \"TILEID\", \"NIGHT\", \"Z\", \"ZERR\", \"ZWARN\", \"DELTACHI2\", \"FLUX_Z\", \"BGS_TARGET\", \"EBV\", \"SERSIC\", \"MWS_TARGET\", \"FILENAME\"])\n",
    "                          "
   ]
  },
  {
   "cell_type": "code",
   "execution_count": 16,
   "metadata": {},
   "outputs": [],
   "source": [
    "data = hstack([data, Table({\"UNIQ\": uniq}), Table({\"PROBDENSITY\": probdensity}), Table({\"DISTMU\": distmu}), Table({\"DISTSIGMA\": distsigma}), Table({\"DISTNORM\": distnorm})])"
   ]
  },
  {
   "cell_type": "code",
   "execution_count": 17,
   "metadata": {},
   "outputs": [
    {
     "data": {
      "text/html": [
       "<div><i>Table length=5</i>\n",
       "<table id=\"table140607122062256\" class=\"table-striped table-bordered table-condensed\">\n",
       "<thead><tr><th>TARGETID</th><th>TARGET_RA</th><th>TARGET_DEC</th><th>TILEID</th><th>NIGHT</th><th>Z</th><th>ZERR</th><th>ZWARN</th><th>DELTACHI2</th><th>FLUX_Z</th><th>BGS_TARGET</th><th>EBV</th><th>SERSIC</th><th>MWS_TARGET</th><th>FILENAME</th><th>UNIQ</th><th>PROBDENSITY</th><th>DISTMU</th><th>DISTSIGMA</th><th>DISTNORM</th></tr></thead>\n",
       "<thead><tr><th></th><th></th><th></th><th></th><th></th><th></th><th></th><th></th><th></th><th></th><th></th><th></th><th></th><th></th><th></th><th></th><th></th><th>Mpc</th><th>Mpc</th><th>1 / Mpc2</th></tr></thead>\n",
       "<thead><tr><th>int64</th><th>float64</th><th>float64</th><th>int64</th><th>int64</th><th>float64</th><th>float64</th><th>int64</th><th>float64</th><th>float64</th><th>int64</th><th>float64</th><th>float64</th><th>int64</th><th>str71</th><th>int64</th><th>float64</th><th>float64</th><th>float64</th><th>float64</th></tr></thead>\n",
       "<tr><td>39627061832190641</td><td>59.2165320157917</td><td>-31.4299481556113</td><td>80638</td><td>20210103</td><td>0.238937497064568</td><td>6.99710411072008e-05</td><td>0</td><td>466.120967948809</td><td>41.0788841247559</td><td>0</td><td>0.00816093850880861</td><td>2.77092909812927</td><td>0</td><td>daily/tiles/cumulative/80638/20210103/zbest-1-80638-thru20210103.fits</td><td>12776</td><td>2.7952186657427622e-05</td><td>513.8803468488303</td><td>171.0542632243659</td><td>3.4091678569862472e-06</td></tr>\n",
       "<tr><td>39627061832190951</td><td>59.2292978334897</td><td>-31.3992516308194</td><td>80638</td><td>20210103</td><td>0.438405826524514</td><td>2.78744668816239e-05</td><td>0</td><td>352.36291655153</td><td>33.5477333068848</td><td>0</td><td>0.00807791762053967</td><td>1.0</td><td>0</td><td>daily/tiles/cumulative/80638/20210103/zbest-1-80638-thru20210103.fits</td><td>12776</td><td>2.7952186657427622e-05</td><td>513.8803468488303</td><td>171.0542632243659</td><td>3.4091678569862472e-06</td></tr>\n",
       "<tr><td>39627061832191195</td><td>59.2375674660685</td><td>-31.465361186617</td><td>80638</td><td>20210103</td><td>0.238310897970982</td><td>1.75347915179545e-05</td><td>0</td><td>328.81558907032</td><td>35.935661315918</td><td>0</td><td>0.00766526581719518</td><td>0.869647681713104</td><td>0</td><td>daily/tiles/cumulative/80638/20210103/zbest-1-80638-thru20210103.fits</td><td>12776</td><td>2.7952186657427622e-05</td><td>513.8803468488303</td><td>171.0542632243659</td><td>3.4091678569862472e-06</td></tr>\n",
       "<tr><td>39627061832191998</td><td>59.2645582386778</td><td>-31.4230991770234</td><td>80638</td><td>20210103</td><td>0.393151426753662</td><td>3.1609112502061e-05</td><td>0</td><td>356.921667993069</td><td>17.2847557067871</td><td>0</td><td>0.00733261834830046</td><td>4.0</td><td>0</td><td>daily/tiles/cumulative/80638/20210103/zbest-1-80638-thru20210103.fits</td><td>12776</td><td>2.7952186657427622e-05</td><td>513.8803468488303</td><td>171.0542632243659</td><td>3.4091678569862472e-06</td></tr>\n",
       "<tr><td>39627061832192525</td><td>59.285547722529</td><td>-31.3924182298098</td><td>80638</td><td>20210103</td><td>0.00017645934246002</td><td>4.30511201210351e-06</td><td>0</td><td>3789.60229892496</td><td>104.065368652344</td><td>0</td><td>0.00708019593730569</td><td>0.0</td><td>0</td><td>daily/tiles/cumulative/80638/20210103/zbest-1-80638-thru20210103.fits</td><td>12776</td><td>2.7952186657427622e-05</td><td>513.8803468488303</td><td>171.0542632243659</td><td>3.4091678569862472e-06</td></tr>\n",
       "</table></div>"
      ],
      "text/plain": [
       "<Table length=5>\n",
       "     TARGETID        TARGET_RA     ...     DISTSIGMA            DISTNORM       \n",
       "                                   ...        Mpc               1 / Mpc2       \n",
       "      int64           float64      ...      float64             float64        \n",
       "----------------- ---------------- ... ----------------- ----------------------\n",
       "39627061832190641 59.2165320157917 ... 171.0542632243659 3.4091678569862472e-06\n",
       "39627061832190951 59.2292978334897 ... 171.0542632243659 3.4091678569862472e-06\n",
       "39627061832191195 59.2375674660685 ... 171.0542632243659 3.4091678569862472e-06\n",
       "39627061832191998 59.2645582386778 ... 171.0542632243659 3.4091678569862472e-06\n",
       "39627061832192525  59.285547722529 ... 171.0542632243659 3.4091678569862472e-06"
      ]
     },
     "execution_count": 17,
     "metadata": {},
     "output_type": "execute_result"
    }
   ],
   "source": [
    "data[:5]"
   ]
  },
  {
   "cell_type": "code",
   "execution_count": 18,
   "metadata": {},
   "outputs": [
    {
     "name": "stdout",
     "output_type": "stream",
     "text": [
      "The highest and lowest probability values in our catalog are: 2.694356953566569e-09 and 0.0006961401736268609\n"
     ]
    }
   ],
   "source": [
    "print(f\"The highest and lowest probability values in our catalog are: {np.min(probdensity)} and {np.max(probdensity)}\")"
   ]
  },
  {
   "cell_type": "markdown",
   "metadata": {
    "tags": []
   },
   "source": [
    "### Sort the skymap table and get 90% credible region"
   ]
  },
  {
   "cell_type": "code",
   "execution_count": 19,
   "metadata": {},
   "outputs": [],
   "source": [
    "# copy the table\n",
    "skymap_sort = Table(skymap, copy = True)"
   ]
  },
  {
   "cell_type": "code",
   "execution_count": 20,
   "metadata": {},
   "outputs": [],
   "source": [
    "# check whether copy worked:\n",
    "# skymap_sort, skymap\n",
    "# np.max(skymap[\"UNIQ\"])"
   ]
  },
  {
   "cell_type": "code",
   "execution_count": 21,
   "metadata": {},
   "outputs": [],
   "source": [
    "# now sort the skymap by its probability (descending)\n",
    "skymap_sort.sort('PROBDENSITY', reverse=True)"
   ]
  },
  {
   "cell_type": "code",
   "execution_count": 22,
   "metadata": {},
   "outputs": [
    {
     "data": {
      "text/html": [
       "<div><i>Table length=5</i>\n",
       "<table id=\"table140601761217120\" class=\"table-striped table-bordered table-condensed\">\n",
       "<thead><tr><th>UNIQ</th><th>PROBDENSITY</th><th>DISTMU</th><th>DISTSIGMA</th><th>DISTNORM</th></tr></thead>\n",
       "<thead><tr><th></th><th>1 / sr</th><th>Mpc</th><th>Mpc</th><th>1 / Mpc2</th></tr></thead>\n",
       "<thead><tr><th>int64</th><th>float64</th><th>float64</th><th>float64</th><th>float64</th></tr></thead>\n",
       "<tr><td>842905</td><td>2.2852933824805364</td><td>411.30279549418725</td><td>167.53498820985465</td><td>5.071022929165314e-06</td></tr>\n",
       "<tr><td>842803</td><td>2.285254654711144</td><td>411.9758387155112</td><td>167.65041332335238</td><td>5.055818551933796e-06</td></tr>\n",
       "<tr><td>842771</td><td>2.285212714010414</td><td>412.4685454926489</td><td>167.72909784676014</td><td>5.044780006310506e-06</td></tr>\n",
       "<tr><td>842768</td><td>2.2844168865850416</td><td>413.20550602279934</td><td>167.74866252841994</td><td>5.029162477473011e-06</td></tr>\n",
       "<tr><td>842899</td><td>2.284388966915673</td><td>411.3728599710113</td><td>167.5586845584107</td><td>5.069337109218942e-06</td></tr>\n",
       "</table></div>"
      ],
      "text/plain": [
       "<Table length=5>\n",
       " UNIQ     PROBDENSITY     ...     DISTSIGMA             DISTNORM      \n",
       "             1 / sr       ...        Mpc                1 / Mpc2      \n",
       "int64       float64       ...      float64              float64       \n",
       "------ ------------------ ... ------------------ ---------------------\n",
       "842905 2.2852933824805364 ... 167.53498820985465 5.071022929165314e-06\n",
       "842803  2.285254654711144 ... 167.65041332335238 5.055818551933796e-06\n",
       "842771  2.285212714010414 ... 167.72909784676014 5.044780006310506e-06\n",
       "842768 2.2844168865850416 ... 167.74866252841994 5.029162477473011e-06\n",
       "842899  2.284388966915673 ...  167.5586845584107 5.069337109218942e-06"
      ]
     },
     "execution_count": 22,
     "metadata": {},
     "output_type": "execute_result"
    }
   ],
   "source": [
    "# this shows the first entries sorted be their probability\n",
    "skymap_sort[:5]"
   ]
  },
  {
   "cell_type": "code",
   "execution_count": 23,
   "metadata": {},
   "outputs": [
    {
     "data": {
      "text/plain": [
       "4713.473111505915"
      ]
     },
     "execution_count": 23,
     "metadata": {},
     "output_type": "execute_result"
    }
   ],
   "source": [
    "# now get 90% credible region area\n",
    "\n",
    "level, ipix = ah.uniq_to_level_ipix(skymap_sort['UNIQ'])\n",
    "pixel_area = ah.nside_to_pixel_area(ah.level_to_nside(level)) # this is the area each pixel contains\n",
    "\n",
    "# calculate the probability per pixel (careful: since the pixels differ in size, this is not neceseraliy a useful quantity\n",
    "prob = pixel_area * skymap_sort['PROBDENSITY']\n",
    "\n",
    "# calc cumsum of probabilities and get index of pixel that sums up to 0.9\n",
    "cumprob = np.cumsum(prob)\n",
    "i = cumprob.searchsorted(0.9)\n",
    "\n",
    "# print area\n",
    "area_90 = pixel_area[:i].sum()\n",
    "area_90.to_value(u.deg**2)"
   ]
  },
  {
   "cell_type": "markdown",
   "metadata": {
    "jp-MarkdownHeadingCollapsed": true,
    "tags": []
   },
   "source": [
    "### can be deleted, just tried things out"
   ]
  },
  {
   "cell_type": "code",
   "execution_count": 24,
   "metadata": {},
   "outputs": [],
   "source": [
    "skymap_sort = hstack([skymap_sort, Table({\"PROB\": prob})])"
   ]
  },
  {
   "cell_type": "code",
   "execution_count": 25,
   "metadata": {},
   "outputs": [
    {
     "data": {
      "text/latex": [
       "$0.00012762822 \\; \\mathrm{}$"
      ],
      "text/plain": [
       "<Quantity 0.00012763>"
      ]
     },
     "execution_count": 25,
     "metadata": {},
     "output_type": "execute_result"
    }
   ],
   "source": [
    "np.max(prob)"
   ]
  },
  {
   "cell_type": "code",
   "execution_count": 26,
   "metadata": {},
   "outputs": [
    {
     "data": {
      "text/html": [
       "<div><i>Table length=5</i>\n",
       "<table id=\"table140601761217744\" class=\"table-striped table-bordered table-condensed\">\n",
       "<thead><tr><th>UNIQ</th><th>PROBDENSITY</th><th>DISTMU</th><th>DISTSIGMA</th><th>DISTNORM</th><th>PROB</th></tr></thead>\n",
       "<thead><tr><th></th><th>1 / sr</th><th>Mpc</th><th>Mpc</th><th>1 / Mpc2</th><th></th></tr></thead>\n",
       "<thead><tr><th>int64</th><th>float64</th><th>float64</th><th>float64</th><th>float64</th><th>float64</th></tr></thead>\n",
       "<tr><td>842905</td><td>2.2852933824805364</td><td>411.30279549418725</td><td>167.53498820985465</td><td>5.071022929165314e-06</td><td>3.65166264938264e-05</td></tr>\n",
       "<tr><td>842803</td><td>2.285254654711144</td><td>411.9758387155112</td><td>167.65041332335238</td><td>5.055818551933796e-06</td><td>3.65160076640951e-05</td></tr>\n",
       "<tr><td>842771</td><td>2.285212714010414</td><td>412.4685454926489</td><td>167.72909784676014</td><td>5.044780006310506e-06</td><td>3.651533749504145e-05</td></tr>\n",
       "<tr><td>842768</td><td>2.2844168865850416</td><td>413.20550602279934</td><td>167.74866252841994</td><td>5.029162477473011e-06</td><td>3.650262099523943e-05</td></tr>\n",
       "<tr><td>842899</td><td>2.284388966915673</td><td>411.3728599710113</td><td>167.5586845584107</td><td>5.069337109218942e-06</td><td>3.650217486777677e-05</td></tr>\n",
       "</table></div>"
      ],
      "text/plain": [
       "<Table length=5>\n",
       " UNIQ     PROBDENSITY     ...        DISTNORM                PROB        \n",
       "             1 / sr       ...        1 / Mpc2                            \n",
       "int64       float64       ...        float64               float64       \n",
       "------ ------------------ ... --------------------- ---------------------\n",
       "842905 2.2852933824805364 ... 5.071022929165314e-06  3.65166264938264e-05\n",
       "842803  2.285254654711144 ... 5.055818551933796e-06  3.65160076640951e-05\n",
       "842771  2.285212714010414 ... 5.044780006310506e-06 3.651533749504145e-05\n",
       "842768 2.2844168865850416 ... 5.029162477473011e-06 3.650262099523943e-05\n",
       "842899  2.284388966915673 ... 5.069337109218942e-06 3.650217486777677e-05"
      ]
     },
     "execution_count": 26,
     "metadata": {},
     "output_type": "execute_result"
    }
   ],
   "source": [
    "skymap_sort[:5]"
   ]
  },
  {
   "cell_type": "code",
   "execution_count": 27,
   "metadata": {},
   "outputs": [],
   "source": [
    "skymap_prob = Table(skymap_sort, copy = True)"
   ]
  },
  {
   "cell_type": "code",
   "execution_count": 28,
   "metadata": {},
   "outputs": [],
   "source": [
    "skymap_prob.sort(\"PROB\", reverse = True)"
   ]
  },
  {
   "cell_type": "code",
   "execution_count": 29,
   "metadata": {},
   "outputs": [
    {
     "data": {
      "text/html": [
       "<div><i>Table length=5</i>\n",
       "<table id=\"table140601761207280\" class=\"table-striped table-bordered table-condensed\">\n",
       "<thead><tr><th>UNIQ</th><th>PROBDENSITY</th><th>DISTMU</th><th>DISTSIGMA</th><th>DISTNORM</th><th>PROB</th></tr></thead>\n",
       "<thead><tr><th></th><th>1 / sr</th><th>Mpc</th><th>Mpc</th><th>1 / Mpc2</th><th></th></tr></thead>\n",
       "<thead><tr><th>int64</th><th>float64</th><th>float64</th><th>float64</th><th>float64</th><th>float64</th></tr></thead>\n",
       "<tr><td>147520</td><td>1.9968158740347224</td><td>340.0970245374978</td><td>151.38665634630345</td><td>7.219099580028106e-06</td><td>0.0001276282161547641</td></tr>\n",
       "<tr><td>22391</td><td>0.49916852258613725</td><td>408.27813881973793</td><td>173.9043508419185</td><td>5.079391170298797e-06</td><td>0.00012761915392739905</td></tr>\n",
       "<tr><td>210557</td><td>1.9965226115454018</td><td>417.57169656639695</td><td>168.0297564409221</td><td>4.936698343205755e-06</td><td>0.00012760947202874638</td></tr>\n",
       "<tr><td>223973</td><td>1.9963886632964472</td><td>333.0497850557329</td><td>148.911459735319</td><td>7.5168521115783156e-06</td><td>0.00012760091061039358</td></tr>\n",
       "<tr><td>224024</td><td>1.99637145771165</td><td>313.24890528912255</td><td>141.7530098823321</td><td>8.463290105016805e-06</td><td>0.00012759981090053844</td></tr>\n",
       "</table></div>"
      ],
      "text/plain": [
       "<Table length=5>\n",
       " UNIQ      PROBDENSITY     ...        DISTNORM                 PROB         \n",
       "              1 / sr       ...        1 / Mpc2                              \n",
       "int64        float64       ...        float64                float64        \n",
       "------ ------------------- ... ---------------------- ----------------------\n",
       "147520  1.9968158740347224 ...  7.219099580028106e-06  0.0001276282161547641\n",
       " 22391 0.49916852258613725 ...  5.079391170298797e-06 0.00012761915392739905\n",
       "210557  1.9965226115454018 ...  4.936698343205755e-06 0.00012760947202874638\n",
       "223973  1.9963886632964472 ... 7.5168521115783156e-06 0.00012760091061039358\n",
       "224024    1.99637145771165 ...  8.463290105016805e-06 0.00012759981090053844"
      ]
     },
     "execution_count": 29,
     "metadata": {},
     "output_type": "execute_result"
    }
   ],
   "source": [
    "skymap_prob[:5]"
   ]
  },
  {
   "cell_type": "markdown",
   "metadata": {
    "tags": []
   },
   "source": [
    "### Compare Tables, only leave 90% credible region in DESI data table\n",
    "\n",
    "Now we can get a Table that only contains the 90% credible region. From there we only leave the matching objects in the DESI data"
   ]
  },
  {
   "cell_type": "code",
   "execution_count": 30,
   "metadata": {},
   "outputs": [],
   "source": [
    "# we simply select only the entries that are within the 90% credible region\n",
    "skymap_90 = skymap_sort[:i]"
   ]
  },
  {
   "cell_type": "code",
   "execution_count": 31,
   "metadata": {},
   "outputs": [
    {
     "name": "stdout",
     "output_type": "stream",
     "text": [
      "This is the number of UNIQ ID of objects which should lie within the 90% credible region (NOT THE NUMBER OF OBJECTS, as there can be multiple objects per UNIQ ID): 3726\n"
     ]
    }
   ],
   "source": [
    "print(\"This is the number of UNIQ ID of objects which should lie within the 90% credible region (NOT THE NUMBER OF OBJECTS, as there can be multiple objects per UNIQ ID):\", len(np.intersect1d(skymap_90[\"UNIQ\"], data[\"UNIQ\"])))"
   ]
  },
  {
   "cell_type": "code",
   "execution_count": 32,
   "metadata": {},
   "outputs": [],
   "source": [
    "mask = np.in1d(data[\"UNIQ\"], skymap_90[\"UNIQ\"])\n",
    "data_90 = data[mask]"
   ]
  },
  {
   "cell_type": "code",
   "execution_count": 33,
   "metadata": {},
   "outputs": [
    {
     "name": "stdout",
     "output_type": "stream",
     "text": [
      "We now have 1818879 objects in the 90% credible region\n",
      "Check if the region from where the galaxies have been selected makes any sense (RA; DEC):  22.963963278119 88.7002257866968 -31.4431363554699 29.7154101873868\n",
      "We can also check whether we have at least one galaxy in the UNIQ pixel with the highest probability from LIGO...\n",
      "This is True\n"
     ]
    }
   ],
   "source": [
    "print(f\"We now have {len(data_90)} objects in the 90% credible region\")\n",
    "print(\"Check if the region from where the galaxies have been selected makes any sense (RA; DEC): \", np.min(data_90[\"TARGET_RA\"]), np.max(data_90[\"TARGET_RA\"]), np.min(data_90[\"TARGET_DEC\"]), np.max(data_90[\"TARGET_DEC\"]))\n",
    "\n",
    "max_probdens_in_desi = np.max(data_90[\"PROBDENSITY\"])\n",
    "max_probdens_in_ligo = np.max(skymap[\"PROBDENSITY\"]).to_value(u.deg**-2)\n",
    "print(f\"We can also check whether we have at least one galaxy in the UNIQ pixel with the highest probability from LIGO...\")\n",
    "print(f\"This is {np.allclose(max_probdens_in_desi, max_probdens_in_ligo)}\")"
   ]
  },
  {
   "cell_type": "code",
   "execution_count": 34,
   "metadata": {},
   "outputs": [],
   "source": [
    "data_90.sort('PROBDENSITY', reverse=True)"
   ]
  },
  {
   "cell_type": "code",
   "execution_count": 35,
   "metadata": {},
   "outputs": [
    {
     "data": {
      "text/html": [
       "<div><i>Table length=2</i>\n",
       "<table id=\"table140601761216736\" class=\"table-striped table-bordered table-condensed\">\n",
       "<thead><tr><th>TARGETID</th><th>TARGET_RA</th><th>TARGET_DEC</th><th>TILEID</th><th>NIGHT</th><th>Z</th><th>ZERR</th><th>ZWARN</th><th>DELTACHI2</th><th>FLUX_Z</th><th>BGS_TARGET</th><th>EBV</th><th>SERSIC</th><th>MWS_TARGET</th><th>FILENAME</th><th>UNIQ</th><th>PROBDENSITY</th><th>DISTMU</th><th>DISTSIGMA</th><th>DISTNORM</th></tr></thead>\n",
       "<thead><tr><th></th><th></th><th></th><th></th><th></th><th></th><th></th><th></th><th></th><th></th><th></th><th></th><th></th><th></th><th></th><th></th><th></th><th>Mpc</th><th>Mpc</th><th>1 / Mpc2</th></tr></thead>\n",
       "<thead><tr><th>int64</th><th>float64</th><th>float64</th><th>int64</th><th>int64</th><th>float64</th><th>float64</th><th>int64</th><th>float64</th><th>float64</th><th>int64</th><th>float64</th><th>float64</th><th>int64</th><th>str71</th><th>int64</th><th>float64</th><th>float64</th><th>float64</th><th>float64</th></tr></thead>\n",
       "<tr><td>39627386446153549</td><td>55.3702778245081</td><td>-16.8604196483949</td><td>21424</td><td>20220204</td><td>0.0668773599452827</td><td>1.40046417093199e-05</td><td>0</td><td>263.026840798557</td><td>81.0766220092773</td><td>131074</td><td>0.186652675271034</td><td>1.521151304245</td><td>0</td><td>daily/tiles/cumulative/21424/20220204/redrock-5-21424-thru20220204.fits</td><td>842905</td><td>0.0006961401736268609</td><td>411.30279549418725</td><td>167.53498820985465</td><td>5.071022929165314e-06</td></tr>\n",
       "<tr><td>39627380666405427</td><td>55.5371902554619</td><td>-16.9579236641192</td><td>21424</td><td>20220204</td><td>0.32595584473728</td><td>9.3013627972941e-05</td><td>0</td><td>121.037470551208</td><td>46.1578521728516</td><td>131074</td><td>0.172625154256821</td><td>4.0</td><td>0</td><td>daily/tiles/cumulative/21424/20220204/redrock-5-21424-thru20220204.fits</td><td>842905</td><td>0.0006961401736268609</td><td>411.30279549418725</td><td>167.53498820985465</td><td>5.071022929165314e-06</td></tr>\n",
       "</table></div>"
      ],
      "text/plain": [
       "<Table length=2>\n",
       "     TARGETID        TARGET_RA     ...     DISTSIGMA             DISTNORM      \n",
       "                                   ...        Mpc                1 / Mpc2      \n",
       "      int64           float64      ...      float64              float64       \n",
       "----------------- ---------------- ... ------------------ ---------------------\n",
       "39627386446153549 55.3702778245081 ... 167.53498820985465 5.071022929165314e-06\n",
       "39627380666405427 55.5371902554619 ... 167.53498820985465 5.071022929165314e-06"
      ]
     },
     "execution_count": 35,
     "metadata": {},
     "output_type": "execute_result"
    }
   ],
   "source": [
    "data_90[:2]"
   ]
  },
  {
   "cell_type": "code",
   "execution_count": 36,
   "metadata": {},
   "outputs": [
    {
     "name": "stdout",
     "output_type": "stream",
     "text": [
      "We have now performed all the necessary steps to get the localization selection in 2D, i.e. the angle on the sky\n",
      "However, we have not used the distance data at all. Therefore our redhsifts range from 2.18626910126136e-10 to 6.94763515557217\n"
     ]
    }
   ],
   "source": [
    "print(\"We have now performed all the necessary steps to get the localization selection in 2D, i.e. the angle on the sky\")\n",
    "min_z = np.min(data_90[\"Z\"])\n",
    "max_z = np.max(data_90[\"Z\"])\n",
    "print(f\"However, we have not used the distance data at all. Therefore our redhsifts range from {min_z} to {max_z}\")"
   ]
  },
  {
   "cell_type": "markdown",
   "metadata": {},
   "source": [
    "### Calculate all the distances of the objects from the redshifts"
   ]
  },
  {
   "cell_type": "code",
   "execution_count": 37,
   "metadata": {},
   "outputs": [],
   "source": [
    "distances = Distance(z=data_90[\"Z\"], cosmology=Planck18)\n",
    "distances_err = Distance(z=data_90[\"ZERR\"], cosmology=Planck18)\n",
    "\n",
    "data_90 = hstack([data_90, Table({\"DIST_Z\": distances}), Table({\"DIST_Z_ERR\": distances_err})])"
   ]
  },
  {
   "cell_type": "code",
   "execution_count": 38,
   "metadata": {},
   "outputs": [
    {
     "data": {
      "text/html": [
       "<div><i>Table length=5</i>\n",
       "<table id=\"table140601261035664\" class=\"table-striped table-bordered table-condensed\">\n",
       "<thead><tr><th>TARGETID</th><th>TARGET_RA</th><th>TARGET_DEC</th><th>TILEID</th><th>NIGHT</th><th>Z</th><th>ZERR</th><th>ZWARN</th><th>DELTACHI2</th><th>FLUX_Z</th><th>BGS_TARGET</th><th>EBV</th><th>SERSIC</th><th>MWS_TARGET</th><th>FILENAME</th><th>UNIQ</th><th>PROBDENSITY</th><th>DISTMU</th><th>DISTSIGMA</th><th>DISTNORM</th><th>DIST_Z</th><th>DIST_Z_ERR</th></tr></thead>\n",
       "<thead><tr><th></th><th></th><th></th><th></th><th></th><th></th><th></th><th></th><th></th><th></th><th></th><th></th><th></th><th></th><th></th><th></th><th></th><th>Mpc</th><th>Mpc</th><th>1 / Mpc2</th><th>Mpc</th><th>Mpc</th></tr></thead>\n",
       "<thead><tr><th>int64</th><th>float64</th><th>float64</th><th>int64</th><th>int64</th><th>float64</th><th>float64</th><th>int64</th><th>float64</th><th>float64</th><th>int64</th><th>float64</th><th>float64</th><th>int64</th><th>str71</th><th>int64</th><th>float64</th><th>float64</th><th>float64</th><th>float64</th><th>float64</th><th>float64</th></tr></thead>\n",
       "<tr><td>39627386446153549</td><td>55.3702778245081</td><td>-16.8604196483949</td><td>21424</td><td>20220204</td><td>0.0668773599452827</td><td>1.40046417093199e-05</td><td>0</td><td>263.026840798557</td><td>81.0766220092773</td><td>131074</td><td>0.186652675271034</td><td>1.521151304245</td><td>0</td><td>daily/tiles/cumulative/21424/20220204/redrock-5-21424-thru20220204.fits</td><td>842905</td><td>0.0006961401736268609</td><td>411.30279549418725</td><td>167.53498820985465</td><td>5.071022929165314e-06</td><td>311.14743235563895</td><td>0.062053370334971825</td></tr>\n",
       "<tr><td>39627380666405427</td><td>55.5371902554619</td><td>-16.9579236641192</td><td>21424</td><td>20220204</td><td>0.32595584473728</td><td>9.3013627972941e-05</td><td>0</td><td>121.037470551208</td><td>46.1578521728516</td><td>131074</td><td>0.172625154256821</td><td>4.0</td><td>0</td><td>daily/tiles/cumulative/21424/20220204/redrock-5-21424-thru20220204.fits</td><td>842905</td><td>0.0006961401736268609</td><td>411.30279549418725</td><td>167.53498820985465</td><td>5.071022929165314e-06</td><td>1763.7108715056233</td><td>0.41216039657433484</td></tr>\n",
       "<tr><td>39627380662214207</td><td>55.3779824680077</td><td>-16.9479602208214</td><td>22998</td><td>20221008</td><td>0.326743814159947</td><td>3.07021800209291e-05</td><td>0</td><td>376.401269987226</td><td>34.0550994873047</td><td>131074</td><td>0.1615219861269</td><td>0.766848385334015</td><td>0</td><td>daily/tiles/cumulative/22998/20221008/redrock-8-22998-thru20221008.fits</td><td>842905</td><td>0.0006961401736268609</td><td>411.30279549418725</td><td>167.53498820985465</td><td>5.071022929165314e-06</td><td>1768.653181472726</td><td>0.13604047666102786</td></tr>\n",
       "<tr><td>39627380662214131</td><td>55.3757699870844</td><td>-16.9751165289826</td><td>21424</td><td>20220204</td><td>0.000205141989739599</td><td>1.93949193943806e-06</td><td>0</td><td>23427.9691609255</td><td>252.067474365234</td><td>0</td><td>0.15232215821743</td><td>0.0</td><td>1280</td><td>daily/tiles/cumulative/21424/20220204/redrock-5-21424-thru20220204.fits</td><td>842905</td><td>0.0006961401736268609</td><td>411.30279549418725</td><td>167.53498820985465</td><td>5.071022929165314e-06</td><td>0.9090997991977735</td><td>0.008593643516294774</td></tr>\n",
       "<tr><td>39627386446154315</td><td>55.3962590789157</td><td>-16.8704484151157</td><td>22998</td><td>20221008</td><td>0.217325052219998</td><td>1.52544114065371e-05</td><td>0</td><td>676.043238252401</td><td>29.2294845581055</td><td>131074</td><td>0.185834273695946</td><td>1.18119442462921</td><td>0</td><td>daily/tiles/cumulative/22998/20221008/redrock-8-22998-thru20221008.fits</td><td>842905</td><td>0.0006961401736268609</td><td>411.30279549418725</td><td>167.53498820985465</td><td>5.071022929165314e-06</td><td>1110.885605493616</td><td>0.06759105779340618</td></tr>\n",
       "</table></div>"
      ],
      "text/plain": [
       "<Table length=5>\n",
       "     TARGETID        TARGET_RA     ...       DIST_Z            DIST_Z_ERR     \n",
       "                                   ...        Mpc                 Mpc         \n",
       "      int64           float64      ...      float64             float64       \n",
       "----------------- ---------------- ... ------------------ --------------------\n",
       "39627386446153549 55.3702778245081 ... 311.14743235563895 0.062053370334971825\n",
       "39627380666405427 55.5371902554619 ... 1763.7108715056233  0.41216039657433484\n",
       "39627380662214207 55.3779824680077 ...  1768.653181472726  0.13604047666102786\n",
       "39627380662214131 55.3757699870844 ... 0.9090997991977735 0.008593643516294774\n",
       "39627386446154315 55.3962590789157 ...  1110.885605493616  0.06759105779340618"
      ]
     },
     "execution_count": 38,
     "metadata": {},
     "output_type": "execute_result"
    }
   ],
   "source": [
    "data_90[:5]"
   ]
  },
  {
   "cell_type": "markdown",
   "metadata": {},
   "source": [
    "### Lets check how much the distance measurement changes in the 90% credible region of LIGO and compare to our DESI data\n",
    "\n",
    "We should see a lot more data in DESI (since we haven't done any redshift selection and there can be multiple objects per GW-pixel). Be carfeul, we are comparing actual object counts with the number of pixels.\n",
    "\n",
    "\n",
    "We still see, that most of the GW localization is roughly between 780Mpc and 950Mpc. DESI definitely has a most of its data in this range as well."
   ]
  },
  {
   "cell_type": "code",
   "execution_count": 39,
   "metadata": {},
   "outputs": [
    {
     "name": "stdout",
     "output_type": "stream",
     "text": [
      "Our distance ranges from 85.99928952047401 Mpc to 512.7052452466055 Mpc\n",
      "Let's visualize the distance distribution of the LIGO event in the 90% credible region\n"
     ]
    },
    {
     "data": {
      "image/png": "[encoded data removed]",
      "text/plain": [
       "<Figure size 1500x800 with 3 Axes>"
      ]
     },
     "metadata": {},
     "output_type": "display_data"
    }
   ],
   "source": [
    "dist_max_90 = np.max(skymap_90[\"DISTMU\"])*u.Mpc\n",
    "dist_min_90 = np.min(skymap_90[\"DISTMU\"])*u.Mpc\n",
    "print(f\"Our distance ranges from {dist_min_90} to {dist_max_90}\")\n",
    "print(\"Let's visualize the distance distribution of the LIGO event in the 90% credible region\")\n",
    "\n",
    "fig, ax = plt.subplots(ncols = 3, figsize = (15,8))\n",
    "\n",
    "\n",
    "ax[0].hist(data_90[\"DIST_Z\"], bins = \"auto\", color = \"orange\")\n",
    "ax[1].hist(data_90[\"DIST_Z\"], bins = \"auto\", color = \"green\")\n",
    "ax[2].hist(skymap_90[\"DISTMU\"], bins = \"auto\", color = \"blue\")\n",
    "\n",
    "\n",
    "for axis in ax:\n",
    "    axis.set_xlabel(\"distance bin (Mpc)\")\n",
    "\n",
    "ax[0].set_ylabel(\"object count\")\n",
    "ax[1].set_ylabel(\"object count\")\n",
    "ax[2].set_ylabel(\"pixel count\")\n",
    "\n",
    "ax[1].set_xlim(0,1000)\n",
    "    \n",
    "plt.show()"
   ]
  },
  {
   "cell_type": "code",
   "execution_count": 40,
   "metadata": {},
   "outputs": [
    {
     "data": {
      "text/plain": [
       "(15219, 1818879)"
      ]
     },
     "execution_count": 40,
     "metadata": {},
     "output_type": "execute_result"
    }
   ],
   "source": [
    "len(skymap_90), len(data_90)"
   ]
  },
  {
   "cell_type": "markdown",
   "metadata": {},
   "source": [
    "### To reduce our data even more, lets cut out the unreasonably far away objects\n",
    "\n",
    "We simply take maximum and minimum distance we get from the LIGO skymap (i.e. DISTMU+-DISTERR) and check, whether every galaxy in that pixel falls inside this range."
   ]
  },
  {
   "cell_type": "code",
   "execution_count": 41,
   "metadata": {},
   "outputs": [],
   "source": [
    "z_selection_mask = data_90[\"DIST_Z\"] - data_90[\"DIST_Z_ERR\"] <  data_90[\"DISTMU\"] + data_90[\"DISTSIGMA\"]\n",
    "z_selection_mask &= data_90[\"DIST_Z\"] + data_90[\"DIST_Z_ERR\"] >  data_90[\"DISTMU\"] - data_90[\"DISTSIGMA\"]\n",
    "\n",
    "data_90_z = data_90[z_selection_mask]"
   ]
  },
  {
   "cell_type": "code",
   "execution_count": 42,
   "metadata": {},
   "outputs": [
    {
     "name": "stdout",
     "output_type": "stream",
     "text": [
      "The z-range selection has deleted 1750547 objects from originally 1818879 in the data set\n",
      "Therefore, we have 68332 objects left in the search region\n"
     ]
    }
   ],
   "source": [
    "remaining_obj = np.size(np.where(z_selection_mask == True))\n",
    "deleted_obj = np.size(np.where(z_selection_mask == False))\n",
    "\n",
    "print(f\"The z-range selection has deleted {deleted_obj} objects from originally {deleted_obj+remaining_obj} in the data set\")\n",
    "print(f\"Therefore, we have {remaining_obj} objects left in the search region\")"
   ]
  },
  {
   "cell_type": "code",
   "execution_count": 43,
   "metadata": {},
   "outputs": [
    {
     "name": "stdout",
     "output_type": "stream",
     "text": [
      "Our highest remaing probability density is 0.0006961401736268609 compared to the originally highest prob density of 0.0006961401736268609\n",
      "The difference in prob density is 0.0\n"
     ]
    }
   ],
   "source": [
    "highest_prob_dens = np.max(data_90_z[\"PROBDENSITY\"])\n",
    "print(f\"Our highest remaing probability density is {highest_prob_dens} compared to the originally highest prob density of {max_probdens_in_ligo}\")\n",
    "print(f\"The difference in prob density is {max_probdens_in_ligo-highest_prob_dens}\")"
   ]
  },
  {
   "cell_type": "code",
   "execution_count": 44,
   "metadata": {},
   "outputs": [
    {
     "data": {
      "text/html": [
       "<div><i>Table length=5</i>\n",
       "<table id=\"table140601261044640\" class=\"table-striped table-bordered table-condensed\">\n",
       "<thead><tr><th>TARGETID</th><th>TARGET_RA</th><th>TARGET_DEC</th><th>TILEID</th><th>NIGHT</th><th>Z</th><th>ZERR</th><th>ZWARN</th><th>DELTACHI2</th><th>FLUX_Z</th><th>BGS_TARGET</th><th>EBV</th><th>SERSIC</th><th>MWS_TARGET</th><th>FILENAME</th><th>UNIQ</th><th>PROBDENSITY</th><th>DISTMU</th><th>DISTSIGMA</th><th>DISTNORM</th><th>DIST_Z</th><th>DIST_Z_ERR</th></tr></thead>\n",
       "<thead><tr><th></th><th></th><th></th><th></th><th></th><th></th><th></th><th></th><th></th><th></th><th></th><th></th><th></th><th></th><th></th><th></th><th></th><th>Mpc</th><th>Mpc</th><th>1 / Mpc2</th><th>Mpc</th><th>Mpc</th></tr></thead>\n",
       "<thead><tr><th>int64</th><th>float64</th><th>float64</th><th>int64</th><th>int64</th><th>float64</th><th>float64</th><th>int64</th><th>float64</th><th>float64</th><th>int64</th><th>float64</th><th>float64</th><th>int64</th><th>str71</th><th>int64</th><th>float64</th><th>float64</th><th>float64</th><th>float64</th><th>float64</th><th>float64</th></tr></thead>\n",
       "<tr><td>39627386446153549</td><td>55.3702778245081</td><td>-16.8604196483949</td><td>21424</td><td>20220204</td><td>0.0668773599452827</td><td>1.40046417093199e-05</td><td>0</td><td>263.026840798557</td><td>81.0766220092773</td><td>131074</td><td>0.186652675271034</td><td>1.521151304245</td><td>0</td><td>daily/tiles/cumulative/21424/20220204/redrock-5-21424-thru20220204.fits</td><td>842905</td><td>0.0006961401736268609</td><td>411.30279549418725</td><td>167.53498820985465</td><td>5.071022929165314e-06</td><td>311.14743235563895</td><td>0.062053370334971825</td></tr>\n",
       "<tr><td>39627380662213536</td><td>55.3543258791898</td><td>-17.0888096935019</td><td>22998</td><td>20221008</td><td>0.118073274908686</td><td>7.29197020898552e-06</td><td>0</td><td>1096.87931081653</td><td>143.022354125977</td><td>131074</td><td>0.124019518494606</td><td>1.0</td><td>0</td><td>daily/tiles/cumulative/22998/20221008/redrock-8-22998-thru20221008.fits</td><td>842905</td><td>0.0006961401736268609</td><td>411.30279549418725</td><td>167.53498820985465</td><td>5.071022929165314e-06</td><td>568.4976039631888</td><td>0.03230993043227172</td></tr>\n",
       "<tr><td>39627386446154909</td><td>55.4161365653299</td><td>-16.8483453423354</td><td>21424</td><td>20220204</td><td>0.0670393545252449</td><td>1.95663896364832e-05</td><td>0</td><td>1523.14211689855</td><td>172.306381225586</td><td>131074</td><td>0.185057833790779</td><td>2.63122272491455</td><td>0</td><td>daily/tiles/cumulative/21424/20220204/redrock-5-21424-thru20220204.fits</td><td>842905</td><td>0.0006961401736268609</td><td>411.30279549418725</td><td>167.53498820985465</td><td>5.071022929165314e-06</td><td>311.93621011808364</td><td>0.08669736964015702</td></tr>\n",
       "<tr><td>39627380666404912</td><td>55.5198515536055</td><td>-16.9699811324963</td><td>21424</td><td>20220204</td><td>0.104407978174376</td><td>7.72627614161296e-06</td><td>0</td><td>1866.8133700788</td><td>61.3600616455078</td><td>131074</td><td>0.174790173768997</td><td>0.796634554862976</td><td>0</td><td>daily/tiles/cumulative/21424/20220204/redrock-5-21424-thru20220204.fits</td><td>842905</td><td>0.0006961401736268609</td><td>411.30279549418725</td><td>167.53498820985465</td><td>5.071022929165314e-06</td><td>498.2443529401044</td><td>0.03423430439176485</td></tr>\n",
       "<tr><td>39627380666403946</td><td>55.4879574174014</td><td>-16.9793947605937</td><td>22998</td><td>20221008</td><td>0.0915393206173162</td><td>2.1809231582413e-06</td><td>0</td><td>17459.6214997768</td><td>246.91845703125</td><td>131074</td><td>0.176994517445564</td><td>1.55053853988647</td><td>0</td><td>daily/tiles/cumulative/22998/20221008/redrock-8-22998-thru20221008.fits</td><td>842905</td><td>0.0006961401736268609</td><td>411.30279549418725</td><td>167.53498820985465</td><td>5.071022929165314e-06</td><td>433.1157893444821</td><td>0.009663396504060928</td></tr>\n",
       "</table></div>"
      ],
      "text/plain": [
       "<Table length=5>\n",
       "     TARGETID        TARGET_RA     ...       DIST_Z            DIST_Z_ERR     \n",
       "                                   ...        Mpc                 Mpc         \n",
       "      int64           float64      ...      float64             float64       \n",
       "----------------- ---------------- ... ------------------ --------------------\n",
       "39627386446153549 55.3702778245081 ... 311.14743235563895 0.062053370334971825\n",
       "39627380662213536 55.3543258791898 ...  568.4976039631888  0.03230993043227172\n",
       "39627386446154909 55.4161365653299 ... 311.93621011808364  0.08669736964015702\n",
       "39627380666404912 55.5198515536055 ...  498.2443529401044  0.03423430439176485\n",
       "39627380666403946 55.4879574174014 ...  433.1157893444821 0.009663396504060928"
      ]
     },
     "execution_count": 44,
     "metadata": {},
     "output_type": "execute_result"
    }
   ],
   "source": [
    "data_90_z[:5]"
   ]
  },
  {
   "cell_type": "markdown",
   "metadata": {},
   "source": [
    "### get the apparent, absolute magnitudes and luminosities\n",
    "\n",
    "in order to do this: flux > 0 selection"
   ]
  },
  {
   "cell_type": "code",
   "execution_count": 45,
   "metadata": {},
   "outputs": [
    {
     "name": "stdout",
     "output_type": "stream",
     "text": [
      "We have 68332 objects remaining in our catalog, i.e. 0 had to be cut out due to bad fluxes\n"
     ]
    },
    {
     "ename": "AttributeError",
     "evalue": "module 'gasel' has no attribute 'lum_z'",
     "output_type": "error",
     "traceback": [
      "\u001b[0;31m---------------------------------------------------------------------------\u001b[0m",
      "\u001b[0;31mAttributeError\u001b[0m                            Traceback (most recent call last)",
      "Cell \u001b[0;32mIn[45], line 11\u001b[0m\n\u001b[1;32m      8\u001b[0m abs_mag_z \u001b[38;5;241m=\u001b[39m gs\u001b[38;5;241m.\u001b[39mabs_mag(app_mag_z, data_90_z[\u001b[38;5;124m\"\u001b[39m\u001b[38;5;124mZ\u001b[39m\u001b[38;5;124m\"\u001b[39m], \u001b[38;5;241m0\u001b[39m,\u001b[38;5;241m0\u001b[39m,\u001b[38;5;241m0\u001b[39m)\n\u001b[1;32m     10\u001b[0m \u001b[38;5;66;03m# get the luminosities\u001b[39;00m\n\u001b[0;32m---> 11\u001b[0m lums_z \u001b[38;5;241m=\u001b[39m \u001b[43mgs\u001b[49m\u001b[38;5;241;43m.\u001b[39;49m\u001b[43mlum_z\u001b[49m(abs_mag_z)\n",
      "\u001b[0;31mAttributeError\u001b[0m: module 'gasel' has no attribute 'lum_z'"
     ]
    }
   ],
   "source": [
    "# get the apparent mags\n",
    "data_90_z = data_90_z[data_90_z[\"FLUX_Z\"] > 0]\n",
    "app_mag_z = gs.app_mag(data_90_z[\"FLUX_Z\"])\n",
    "flux_selection_cut = len(data_90_z)\n",
    "print(f\"We have {flux_selection_cut} objects remaining in our catalog, i.e. {remaining_obj-flux_selection_cut} had to be cut out due to bad fluxes\")\n",
    "\n",
    "# get the absolute mags\n",
    "abs_mag_z = gs.abs_mag(app_mag_z, data_90_z[\"Z\"], 0,0,0)\n",
    "\n",
    "# get the luminosities\n",
    "lums_z = gs.lum(abs_mag_z, band = \"z\")"
   ]
  },
  {
   "cell_type": "code",
   "execution_count": null,
   "metadata": {},
   "outputs": [],
   "source": [
    "data_f = hstack([data_90_z, Table({\"APP_MAG_Z\": app_mag_z}), Table({\"ABS_MAG_Z\": abs_mag_z}), Table({\"LUM_Z\": lums_z})])"
   ]
  },
  {
   "cell_type": "code",
   "execution_count": null,
   "metadata": {},
   "outputs": [],
   "source": [
    "data_f[:5]"
   ]
  },
  {
   "cell_type": "code",
   "execution_count": null,
   "metadata": {},
   "outputs": [],
   "source": [
    "max_lum_z = np.max(data_f[\"LUM_Z\"])*u.W\n",
    "prob_dens_max_lum = data_f[data_f[\"LUM_Z\"] == max_lum_z][\"PROBDENSITY\"]\n",
    "print(f\"The maximum luminosity in our cataloge in the z-band is {max_lum_z} with a prob density of {prob_dens_max_lum}\")"
   ]
  },
  {
   "cell_type": "code",
   "execution_count": null,
   "metadata": {},
   "outputs": [],
   "source": [
    "arg_errfc = abs(data_f[\"DIST_Z\"]-data_f[\"DISTMU\"])/(data_f[\"DIST_Z_ERR\"]**2+data_f[\"DISTSIGMA\"]**2)\n",
    "P_gal_unnorm = data_f[\"LUM_Z\"]*data_f[\"PROBDENSITY\"]*(1-sc.special.erf(arg_errfc))\n",
    "#dist_mean*u.Mpc, dist_std*u.Mpc\n",
    "arg_errfc_c = abs(data_f[\"DIST_Z\"].value-dist_mean)/(data_f[\"DIST_Z_ERR\"].value**2+dist_std**2)\n",
    "P_gal_unnorm_const = data_f[\"LUM_Z\"]*data_f[\"PROBDENSITY\"]*(1-sc.special.erf(arg_errfc_c))\n",
    "\n",
    "# now lets quickly normalize\n",
    "\n",
    "P_gal_sum = np.sum(P_gal_unnorm)\n",
    "P_gal_const_sum = np.sum(P_gal_unnorm_const)\n",
    "\n",
    "P_gal = 1/P_gal_sum * P_gal_unnorm\n",
    "P_gal_const = 1/P_gal_const_sum * P_gal_unnorm_const"
   ]
  },
  {
   "cell_type": "code",
   "execution_count": null,
   "metadata": {},
   "outputs": [],
   "source": [
    "data_f = hstack([data_f, Table({\"P_GAL\": P_gal.value}), Table({\"P_GAL_C\": P_gal_const.value})])"
   ]
  },
  {
   "cell_type": "code",
   "execution_count": null,
   "metadata": {},
   "outputs": [],
   "source": [
    "data_f[:5]"
   ]
  },
  {
   "cell_type": "markdown",
   "metadata": {
    "tags": []
   },
   "source": [
    "## Analyse the data: How much luminosity do we cover? Which galaxies should we observe?\n",
    "\n",
    "Lets look into what information we can retrieve from here. First we define, how many galaxies we could observe (N_galaxies).\n",
    "\n",
    "We then calculate the luminosity (lum) from all the galaxies in this area, i.e. the total luminosity. From there do some comparison between the covered luminosity and total luminosity depending on the ranking by probability:\n",
    "- simple \"Maximum lum that could be covered\" by looking at the brightest galaxies\n",
    "- Calculate the probability this way (from https://arxiv.org/pdf/1710.05452.pdf w/o normalization), both using a static and variable distance and error: $$P_{gal} = k^{-1}\\tilde{L_z}\\cdot P_{2D}\\left(1-\\text{erf}\\left(\\frac{|D_{Gal}-D_{LVC}|}{\\sigma_{D,gal}^{2}+\\sigma_{D,LVC}^{2}}\\right)\\right)$$\n",
    "- others may follow...\n",
    "\n",
    "Since we have the actual luminosity (here in z-band though), we don't need to again calculate the $$\\tilde{L}_{gal}$$ values. In the mentioned paper, they only use a fixed distance and error for the LIGO data. I will try both, to get an idea what the differences are."
   ]
  },
  {
   "cell_type": "code",
   "execution_count": null,
   "metadata": {},
   "outputs": [],
   "source": [
    "N_galaxies = 20 # how many galaxies we can cover"
   ]
  },
  {
   "cell_type": "code",
   "execution_count": null,
   "metadata": {},
   "outputs": [],
   "source": [
    "total_lum = np.sum(data_f[\"LUM_Z\"])"
   ]
  },
  {
   "cell_type": "markdown",
   "metadata": {},
   "source": [
    "### Compare lum with luminosity ranking\n",
    "\n",
    "https://iopscience.iop.org/article/10.3847/0067-0049/226/1/10"
   ]
  },
  {
   "cell_type": "code",
   "execution_count": null,
   "metadata": {},
   "outputs": [],
   "source": [
    "data_sort_by_lums = data_f.group_by(\"LUM_Z\")\n",
    "data_sort_by_lums = data_sort_by_lums[::-1]"
   ]
  },
  {
   "cell_type": "code",
   "execution_count": null,
   "metadata": {},
   "outputs": [],
   "source": [
    "lum_after_N_highest = np.sum(data_sort_by_lums[\"LUM_Z\"][:N_galaxies])"
   ]
  },
  {
   "cell_type": "code",
   "execution_count": null,
   "metadata": {},
   "outputs": [],
   "source": [
    "print(f\"The theoretical maximum luminosity we could cover is {lum_after_N_highest}, i.e. {lum_after_N_highest*100/total_lum} % of the total luminosity\")\n",
    "print(\"The TARGETID values of these galaxies are: \\n\", data_sort_by_lums[\"TARGETID\"][:N_galaxies])"
   ]
  },
  {
   "cell_type": "markdown",
   "metadata": {},
   "source": [
    "### Compare lum with P_Gal ranking"
   ]
  },
  {
   "cell_type": "code",
   "execution_count": null,
   "metadata": {},
   "outputs": [],
   "source": [
    "data_sort_by_PGal = data_f.group_by(\"P_GAL\")\n",
    "data_sort_by_PGal = data_sort_by_PGal[::-1]\n",
    "\n",
    "lum_after_N_PGal = np.sum(data_sort_by_PGal[\"LUM_Z\"][:N_galaxies])"
   ]
  },
  {
   "cell_type": "code",
   "execution_count": null,
   "metadata": {},
   "outputs": [],
   "source": [
    "print(f\"The maximum luminosity we cover when ranked by P_gal is {lum_after_N_PGal}, i.e. {lum_after_N_PGal*100/total_lum}% of the total luminosity\") \n",
    "print(\"The TARGETID values of these galaxies are: \\n\", data_sort_by_PGal[\"TARGET_RA\", \"TARGET_DEC\", \"SERSIC\", \"TARGETID\", \"P_GAL\"][:N_galaxies])"
   ]
  },
  {
   "cell_type": "code",
   "execution_count": null,
   "metadata": {},
   "outputs": [],
   "source": [
    "data_sort_by_PGal_C = data_f.group_by(\"P_GAL_C\")\n",
    "data_sort_by_PGal_C = data_sort_by_PGal_C[::-1]\n",
    "\n",
    "lum_after_N_PGal_C = np.sum(data_sort_by_PGal_C[\"LUM_Z\"][:N_galaxies])"
   ]
  },
  {
   "cell_type": "code",
   "execution_count": null,
   "metadata": {},
   "outputs": [],
   "source": [
    "print(f\"The maximum luminosity we cover when ranked by P_gal_C is {lum_after_N_PGal_C}, i.e. {lum_after_N_PGal_C*100/total_lum}% of the total luminosity\") \n",
    "print(\"The TARGETID values of these galaxies are: \\n\", data_sort_by_PGal_C[\"TARGETID\", \"P_GAL\"][:N_galaxies])"
   ]
  },
  {
   "cell_type": "code",
   "execution_count": null,
   "metadata": {},
   "outputs": [],
   "source": [
    "data_sort_by_PGal[\"TARGET_RA\", \"TARGET_DEC\", \"SERSIC\", \"Z\", \"P_GAL\"][:N_galaxies].write('PGAl_S200129.ecsv', delimiter=',', format='ascii', overwrite = True)\n"
   ]
  },
  {
   "cell_type": "code",
   "execution_count": null,
   "metadata": {},
   "outputs": [],
   "source": []
  }
 ],
 "metadata": {
  "kernelspec": {
   "display_name": "Python (MambaTest)",
   "language": "python",
   "name": "mambatest"
  },
  "language_info": {
   "codemirror_mode": {
    "name": "ipython",
    "version": 3
   },
   "file_extension": ".py",
   "mimetype": "text/x-python",
   "name": "python",
   "nbconvert_exporter": "python",
   "pygments_lexer": "ipython3",
   "version": "3.10.10"
  }
 },
 "nbformat": 4,
 "nbformat_minor": 4
}
