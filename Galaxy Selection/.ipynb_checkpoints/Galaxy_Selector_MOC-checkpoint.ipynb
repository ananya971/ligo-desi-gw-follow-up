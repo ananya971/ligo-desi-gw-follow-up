{
 "cells": [
  {
   "cell_type": "markdown",
   "metadata": {
    "tags": []
   },
   "source": [
    "# Galaxy Selector MOC\n",
    "\n",
    "**Designed to work with Multi-Ordering-Sky-Maps and both burst (i.e. no distance) and normal LVK maps**\n",
    "\n",
    "\n",
    "\n",
    "Select the galaxies to observe by WWFI in this simple manner:\n",
    "- get the LIGO event data\n",
    "- read the LIGO event data into the notebook, extract some information\n",
    "- read the DESI database into the notebook, \"clean\" the data\n",
    "- get the 99% credible regions for the event, add them as a column to the data\n",
    "- only keep data within the 99% region\n",
    "- calculate all the luminosities (& more)\n",
    "- rank them by luminosity (for now just print the TARGETID), 3D/2D localization and with a luminosity-distance 2D dependant counterpart likelihood\n",
    "\n",
    "(some) Sources: \n",
    "- https://iopscience.iop.org/article/10.3847/0067-0049/226/1/10\n",
    "- https://emfollow.docs.ligo.org/userguide/tutorial/skymaps.html\n",
    "- https://emfollow.docs.ligo.org/userguide/tutorial/multiorder_skymaps.html\n",
    "- https://arxiv.org/pdf/1710.05452.pdf"
   ]
  },
  {
   "cell_type": "markdown",
   "metadata": {
    "tags": []
   },
   "source": [
    "## Import all libraries, load GW data and DESI data and extract basic info"
   ]
  },
  {
   "cell_type": "markdown",
   "metadata": {
    "tags": []
   },
   "source": [
    "### imports, GW data loading"
   ]
  },
  {
   "cell_type": "code",
   "execution_count": 1,
   "metadata": {},
   "outputs": [],
   "source": [
    "import numpy as np\n",
    "from scipy.stats import norm\n",
    "import scipy as sc\n",
    "from scipy.integrate import quad\n",
    "\n",
    "\n",
    "from astropy.io import fits, ascii\n",
    "from astropy.table import Table, hstack, QTable\n",
    "from astropy import table\n",
    "from astropy.coordinates import SkyCoord, EarthLocation, AltAz\n",
    "\n",
    "import astropy_healpix as ah\n",
    "\n",
    "\n",
    "import psycopg2\n",
    "\n",
    "from scipy.stats import norm\n",
    "\n",
    "from astropy.cosmology import FlatLambdaCDM\n",
    "from astropy.cosmology import Planck18, z_at_value\n",
    "from astropy.coordinates import Distance, SkyCoord\n",
    "from astropy import units as u\n",
    "\n",
    "import astropy.constants as asc\n",
    "\n",
    "import matplotlib.pyplot as plt\n",
    "\n",
    "import requests as rq\n",
    "\n",
    "import gasel as gs\n",
    "\n",
    "from datetime import datetime\n",
    "from datetime import timedelta\n",
    "from datetime import date\n",
    "from suntimes import SunTimes\n",
    "import pytz"
   ]
  },
  {
   "cell_type": "code",
   "execution_count": 2,
   "metadata": {},
   "outputs": [
    {
     "name": "stdout",
     "output_type": "stream",
     "text": [
      "(to get DESI data) you should run scp dgruen@perlmutter.nersc.gov:/pscratch/sd/j/jgassert/good_z_data.fits /project/ls-gruen/ligodesi/\n"
     ]
    }
   ],
   "source": [
    "# Get DESI data\n",
    "print(\"(to get DESI data) you should run scp dgruen@perlmutter.nersc.gov:/pscratch/sd/j/jgassert/good_z_data.fits /project/ls-gruen/ligodesi/\")\n",
    "\n",
    "# specify the superevent name:\n",
    "superevent_name = \"S230619bg\"\n",
    "\n",
    "# pipeline - bayestar is preferred if available, otherwise maybe use olib? bilby? cwb? whatever these mean\n",
    "pipeline_type = \"bayestar\"\n",
    "\n",
    "if pipeline_type == \"cwb\":\n",
    "    # bursts probably only for very nearby core-collapse or Andromeda events, maybe cut at 1Mpc or something of that order? -> check if there is a very nearby galaxy\n",
    "        # think about which pipeline detected it!\n",
    "    # or very massive bbh but then hope is that cbc would detect as well\n",
    "    \n",
    "    modeled_search = False\n",
    "else:\n",
    "    modeled_search = True\n",
    "\n",
    "# storage directory\n",
    "# storage = \"/project/ls-gruen/ligodesi/\"\n",
    "# storage_desi_data = storage\n",
    "storage = \"/global/homes/j/jgassert/ligo-desi-gw-follow-up/Galaxy Selection/Files/\" # Julius on NERSC\n",
    "storage_desi_data = \"/pscratch/sd/j/jgassert/\""
   ]
  },
  {
   "cell_type": "code",
   "execution_count": 5,
   "metadata": {},
   "outputs": [
    {
     "name": "stdout",
     "output_type": "stream",
     "text": [
      "no local skymap...\n",
      "...will download LIGO event file from superevent S230619bg, corresponding file URL is https://gracedb.ligo.org/api/superevents/S230619bg/files/bayestar.multiorder.fits,1 and save it in .../Files/\n",
      "HTTP status 200\n"
     ]
    }
   ],
   "source": [
    "path = storage+f\"{superevent_name}{pipeline_type}.multiorder.fits,1\" # 5min after alert this should be there\n",
    "\n",
    "try:\n",
    "    skymap = QTable.read(path)\n",
    "    print(\"read skymap from local file\")\n",
    "    \n",
    "except:\n",
    "    download_url = f\"https://gracedb.ligo.org/api/superevents/{superevent_name}/files/{pipeline_type}.multiorder.fits,1\"\n",
    "    save_path = storage+f\"{superevent_name}{pipeline_type}.multiorder.fits,1\"\n",
    "    print(\"no local skymap...\")\n",
    "    print(f\"...will download LIGO event file from superevent {superevent_name}, corresponding file URL is {download_url} and save it in .../Files/\")\n",
    "    \n",
    "    response = rq.get(download_url, allow_redirects = True)\n",
    "    print(\"HTTP status\",response.status_code)\n",
    "    if response.status_code == 200:\n",
    "        with open(save_path, 'wb') as f:\n",
    "            f.write(response.content)\n",
    "            \n",
    "        skymap = QTable.read(path)"
   ]
  },
  {
   "cell_type": "markdown",
   "metadata": {},
   "source": [
    "Specifiy the path where the data is located and then load the data (this loads everything, just have a look)"
   ]
  },
  {
   "cell_type": "code",
   "execution_count": 6,
   "metadata": {},
   "outputs": [
    {
     "data": {
      "text/html": [
       "<div><i>QTable length=5</i>\n",
       "<table id=\"table139775079251680\" class=\"table-striped table-bordered table-condensed\">\n",
       "<thead><tr><th>UNIQ</th><th>PROBDENSITY</th><th>DISTMU</th><th>DISTSIGMA</th><th>DISTNORM</th></tr></thead>\n",
       "<thead><tr><th></th><th>1 / sr</th><th>Mpc</th><th>Mpc</th><th>1 / Mpc2</th></tr></thead>\n",
       "<thead><tr><th>int64</th><th>float64</th><th>float64</th><th>float64</th><th>float64</th></tr></thead>\n",
       "<tr><td>1024</td><td>1.1848687265984231e-07</td><td>31.606211061353385</td><td>157.26184435555413</td><td>5.932038732751096e-05</td></tr>\n",
       "<tr><td>1025</td><td>1.2661026595950913e-07</td><td>-210.63809144678473</td><td>193.95076343968125</td><td>0.0004278928007618939</td></tr>\n",
       "<tr><td>1026</td><td>1.0662937832413237e-07</td><td>70.39447572563797</td><td>151.69033338438769</td><td>4.384969951055856e-05</td></tr>\n",
       "<tr><td>1027</td><td>1.1742445420135443e-07</td><td>-148.50859514919424</td><td>186.45424850201562</td><td>0.0002468273821382713</td></tr>\n",
       "<tr><td>1028</td><td>1.586867953201177e-07</td><td>-1022.2560517210268</td><td>282.9580490334632</td><td>0.7204030905016724</td></tr>\n",
       "</table></div>"
      ],
      "text/plain": [
       "<QTable length=5>\n",
       " UNIQ      PROBDENSITY       ...     DISTSIGMA             DISTNORM      \n",
       "              1 / sr         ...        Mpc                1 / Mpc2      \n",
       "int64        float64         ...      float64              float64       \n",
       "----- ---------------------- ... ------------------ ---------------------\n",
       " 1024 1.1848687265984231e-07 ... 157.26184435555413 5.932038732751096e-05\n",
       " 1025 1.2661026595950913e-07 ... 193.95076343968125 0.0004278928007618939\n",
       " 1026 1.0662937832413237e-07 ... 151.69033338438769 4.384969951055856e-05\n",
       " 1027 1.1742445420135443e-07 ... 186.45424850201562 0.0002468273821382713\n",
       " 1028  1.586867953201177e-07 ...  282.9580490334632    0.7204030905016724"
      ]
     },
     "execution_count": 6,
     "metadata": {},
     "output_type": "execute_result"
    }
   ],
   "source": [
    "skymap[:5]"
   ]
  },
  {
   "cell_type": "markdown",
   "metadata": {
    "tags": []
   },
   "source": [
    "### Get basic values from GW event\n",
    "\n",
    "We now extract some basic information  from the healpix data:\n",
    "- ipix_max: pixel with highest likelihood\n",
    "- npix: total number of pixels\n",
    "- ra, dec: ra and dec of the pixel with the highest likelihood\n",
    "\n",
    "Then we open the full fits file and extract some more basic info from the header:\n",
    "- dist_mean: mean distance of the GW event\n",
    "- dist_std: error of the distance"
   ]
  },
  {
   "cell_type": "code",
   "execution_count": 7,
   "metadata": {},
   "outputs": [
    {
     "name": "stdout",
     "output_type": "stream",
     "text": [
      "UNIQ ID of highest prob sky localization:  367551\n"
     ]
    }
   ],
   "source": [
    "# most probable sky location\n",
    "i = np.argmax(skymap[\"PROBDENSITY\"])\n",
    "uniq = skymap[i][\"UNIQ\"]\n",
    "print(\"UNIQ ID of highest prob sky localization: \", uniq)"
   ]
  },
  {
   "cell_type": "code",
   "execution_count": 8,
   "metadata": {},
   "outputs": [
    {
     "name": "stdout",
     "output_type": "stream",
     "text": [
      "Highest probability at (RA, dec):  114.91416309012875 46.3750811884355 with prob [1/deg^2] of:  0.0011024695368083816 and UNIQ ID:  367551\n"
     ]
    }
   ],
   "source": [
    "# calculate the most probable pixel, convert to RA and dec\n",
    "level_max, ipix_max = ah.uniq_to_level_ipix(uniq)\n",
    "nside = ah.level_to_nside(level_max)\n",
    "ra, dec = ah.healpix_to_lonlat(ipix_max, nside, order = \"nested\")\n",
    "print(\"Highest probability at (RA, dec): \", ra.deg, dec.deg, \"with prob [1/deg^2] of: \", skymap[i]['PROBDENSITY'].to_value(u.deg**-2), \"and UNIQ ID: \", skymap[i][\"UNIQ\"])"
   ]
  },
  {
   "cell_type": "markdown",
   "metadata": {},
   "source": [
    "Now open the fits file and read basics info from the header"
   ]
  },
  {
   "cell_type": "code",
   "execution_count": 9,
   "metadata": {},
   "outputs": [
    {
     "name": "stdout",
     "output_type": "stream",
     "text": [
      "The dist_mean and dist_std values:  174.9921172475915 Mpc 56.39367956242045 Mpc\n",
      "This corresponds to the most likely z 0.03838040911111858 redshift and its error 0.012606192749614376 redshift\n"
     ]
    }
   ],
   "source": [
    "if modeled_search:\n",
    "    fits_gw = fits.open(path)\n",
    "    header = fits_gw[1].header\n",
    "    dist_mean = header[\"DISTMEAN\"]\n",
    "    dist_std = header[\"DISTSTD\"]\n",
    "    print(\"The dist_mean and dist_std values: \", dist_mean*u.Mpc, dist_std*u.Mpc)\n",
    "    most_likely_z = z_at_value(Planck18.luminosity_distance, dist_mean*u.Mpc, zmax = 5)\n",
    "    most_likely_z_std = z_at_value(Planck18.luminosity_distance, dist_std*u.Mpc, zmax = 5)\n",
    "    print(f\"This corresponds to the most likely z {most_likely_z} and its error {most_likely_z_std}\")\n",
    "else:\n",
    "    print(\"As this is an unmodeled search there is no distance available\")"
   ]
  },
  {
   "cell_type": "markdown",
   "metadata": {
    "tags": []
   },
   "source": [
    "### Get DESI data\n",
    "\n",
    "Load the full daily data from the file, which only includes good redshift objects"
   ]
  },
  {
   "cell_type": "code",
   "execution_count": 10,
   "metadata": {},
   "outputs": [],
   "source": [
    "follow_up_others = True\n",
    "\n",
    "follow_up_their_z = False"
   ]
  },
  {
   "cell_type": "code",
   "execution_count": 11,
   "metadata": {},
   "outputs": [],
   "source": [
    "if follow_up_others:\n",
    "    center_ra = 109.25\n",
    "    center_dec = 63.68\n",
    "    radius = 1.227/2\n",
    "    \n",
    "    data = gs.db_doall(center_ra, center_dec, radius)\n",
    "    \n",
    "    if follow_up_their_z:\n",
    "        z_others = 0\n",
    "        z_others_std = 0.4\n",
    "        sigma_accuracy = 1\n",
    "    \n",
    "        ii = data[\"Z\"]-sigma_accuracy*data[\"ZERR\"]<z_others+sigma_accuracy*z_others_std\n",
    "        ii &= data[\"Z\"]+sigma_accuracy*data[\"ZERR\"]>z_others-sigma_accuracy*z_others_std\n",
    "    \n",
    "        data = data[ii]\n",
    "    \n",
    "    \n",
    "else:\n",
    "    data = Table.read(storage_desi_data+\"good_z_data.fits\")"
   ]
  },
  {
   "cell_type": "code",
   "execution_count": 12,
   "metadata": {},
   "outputs": [
    {
     "data": {
      "text/html": [
       "<div><i>Table length=5</i>\n",
       "<table id=\"table139775079477120\" class=\"table-striped table-bordered table-condensed\">\n",
       "<thead><tr><th>TARGETID</th><th>TARGET_RA</th><th>TARGET_DEC</th><th>LASTNIGHT</th><th>Z</th><th>ZERR</th><th>ZWARN</th><th>FLUX_G</th><th>FLUX_R</th><th>FLUX_Z</th><th>SPECTYPE</th><th>BGS_TARGET</th><th>EBV</th><th>SERSIC</th></tr></thead>\n",
       "<thead><tr><th>int64</th><th>float64</th><th>float64</th><th>int64</th><th>float64</th><th>float64</th><th>int64</th><th>float64</th><th>float64</th><th>float64</th><th>str6</th><th>int64</th><th>float64</th><th>float64</th></tr></thead>\n",
       "<tr><td>2390768907976704</td><td>108.117557695096</td><td>63.3898431837045</td><td>20221205</td><td>0.040290694709979</td><td>1.41089692161923e-05</td><td>0</td><td>0.0</td><td>0.0</td><td>0.0</td><td>GALAXY</td><td>0</td><td>0.0678029283881187</td><td>0.0</td></tr>\n",
       "<tr><td>2782192329555969</td><td>109.350844476076</td><td>63.2528054158454</td><td>20220209</td><td>1.09743537372472</td><td>0.000147543353596166</td><td>0</td><td>0.0</td><td>0.0</td><td>0.0</td><td>QSO</td><td>0</td><td>0.0784731507301331</td><td>0.0</td></tr>\n",
       "<tr><td>2782192329555988</td><td>109.835945734956</td><td>63.1319999511355</td><td>20220209</td><td>0.000291144810787166</td><td>8.9372185391876e-05</td><td>0</td><td>0.0</td><td>0.0</td><td>0.0</td><td>STAR</td><td>0</td><td>0.0693535506725311</td><td>0.0</td></tr>\n",
       "<tr><td>2782195043270668</td><td>108.018208619957</td><td>63.4340683190374</td><td>20211117</td><td>0.694732350620082</td><td>2.01233823686163e-05</td><td>0</td><td>0.0</td><td>0.0</td><td>0.0</td><td>QSO</td><td>0</td><td>0.0</td><td>0.0</td></tr>\n",
       "<tr><td>2782195047464965</td><td>108.233018836918</td><td>63.4776203081309</td><td>20220209</td><td>4.08628438596717e-05</td><td>1.29322044023361e-05</td><td>0</td><td>0.0</td><td>0.0</td><td>0.0</td><td>STAR</td><td>0</td><td>0.069509819149971</td><td>0.0</td></tr>\n",
       "</table></div>"
      ],
      "text/plain": [
       "<Table length=5>\n",
       "    TARGETID        TARGET_RA     ...        EBV          SERSIC\n",
       "     int64           float64      ...      float64       float64\n",
       "---------------- ---------------- ... ------------------ -------\n",
       "2390768907976704 108.117557695096 ... 0.0678029283881187     0.0\n",
       "2782192329555969 109.350844476076 ... 0.0784731507301331     0.0\n",
       "2782192329555988 109.835945734956 ... 0.0693535506725311     0.0\n",
       "2782195043270668 108.018208619957 ...                0.0     0.0\n",
       "2782195047464965 108.233018836918 ...  0.069509819149971     0.0"
      ]
     },
     "execution_count": 12,
     "metadata": {},
     "output_type": "execute_result"
    }
   ],
   "source": [
    "data[:5]"
   ]
  },
  {
   "cell_type": "markdown",
   "metadata": {
    "tags": []
   },
   "source": [
    "## Do all the calculations, selections,...\n",
    "\n",
    "- turn the daily DESI data into a Table\n",
    "- do some basic data selection stuff: only keep good + positive redshifts, only positive values of r-band flux and eliminate duplicates (right now simply takes the first entry)\n",
    "- add the ipix (healpix) pixel value for each target\n",
    "- calculate the probability for each target\n",
    "- add these values to the Table (\"PROB\"), select only targets within the 99% credible region (i.e. with a certainty of 99% the GW event is inside this region)\n",
    "- calculate the distances and its errors from the redshift, add to the data table\n",
    "- calculate the 3D probability just like here: https://iopscience.iop.org/article/10.3847/0067-0049/226/1/10 (§4) and add these values to the table\n",
    "- sort the table by its 3D probability (descending)\n",
    "- calculate absolute and apparent magnitude, luminosity and add to table\n",
    "\n",
    "The final step is to include the calculation of the most likely host galaxy from https://arxiv.org/pdf/1710.05452.pdf (GW170817); these values are then also added to the table as \"P_GAL\""
   ]
  },
  {
   "cell_type": "code",
   "execution_count": 13,
   "metadata": {},
   "outputs": [
    {
     "data": {
      "text/html": [
       "<div><i>Table length=5</i>\n",
       "<table id=\"table139775079476112\" class=\"table-striped table-bordered table-condensed\">\n",
       "<thead><tr><th>TARGETID</th><th>TARGET_RA</th><th>TARGET_DEC</th><th>LASTNIGHT</th><th>Z</th><th>ZERR</th><th>ZWARN</th><th>FLUX_G</th><th>FLUX_R</th><th>FLUX_Z</th><th>SPECTYPE</th><th>BGS_TARGET</th><th>EBV</th><th>SERSIC</th></tr></thead>\n",
       "<thead><tr><th>int64</th><th>float64</th><th>float64</th><th>int64</th><th>float64</th><th>float64</th><th>int64</th><th>float64</th><th>float64</th><th>float64</th><th>str6</th><th>int64</th><th>float64</th><th>float64</th></tr></thead>\n",
       "<tr><td>2390768907976704</td><td>108.117557695096</td><td>63.3898431837045</td><td>20221205</td><td>0.040290694709979</td><td>1.41089692161923e-05</td><td>0</td><td>0.0</td><td>0.0</td><td>0.0</td><td>GALAXY</td><td>0</td><td>0.0678029283881187</td><td>0.0</td></tr>\n",
       "<tr><td>2782192329555969</td><td>109.350844476076</td><td>63.2528054158454</td><td>20220209</td><td>1.09743537372472</td><td>0.000147543353596166</td><td>0</td><td>0.0</td><td>0.0</td><td>0.0</td><td>QSO</td><td>0</td><td>0.0784731507301331</td><td>0.0</td></tr>\n",
       "<tr><td>2782192329555988</td><td>109.835945734956</td><td>63.1319999511355</td><td>20220209</td><td>0.000291144810787166</td><td>8.9372185391876e-05</td><td>0</td><td>0.0</td><td>0.0</td><td>0.0</td><td>STAR</td><td>0</td><td>0.0693535506725311</td><td>0.0</td></tr>\n",
       "<tr><td>2782195043270668</td><td>108.018208619957</td><td>63.4340683190374</td><td>20211117</td><td>0.694732350620082</td><td>2.01233823686163e-05</td><td>0</td><td>0.0</td><td>0.0</td><td>0.0</td><td>QSO</td><td>0</td><td>0.0</td><td>0.0</td></tr>\n",
       "<tr><td>2782195047464965</td><td>108.233018836918</td><td>63.4776203081309</td><td>20220209</td><td>4.08628438596717e-05</td><td>1.29322044023361e-05</td><td>0</td><td>0.0</td><td>0.0</td><td>0.0</td><td>STAR</td><td>0</td><td>0.069509819149971</td><td>0.0</td></tr>\n",
       "</table></div>"
      ],
      "text/plain": [
       "<Table length=5>\n",
       "    TARGETID        TARGET_RA     ...        EBV          SERSIC\n",
       "     int64           float64      ...      float64       float64\n",
       "---------------- ---------------- ... ------------------ -------\n",
       "2390768907976704 108.117557695096 ... 0.0678029283881187     0.0\n",
       "2782192329555969 109.350844476076 ... 0.0784731507301331     0.0\n",
       "2782192329555988 109.835945734956 ... 0.0693535506725311     0.0\n",
       "2782195043270668 108.018208619957 ...                0.0     0.0\n",
       "2782195047464965 108.233018836918 ...  0.069509819149971     0.0"
      ]
     },
     "execution_count": 13,
     "metadata": {},
     "output_type": "execute_result"
    }
   ],
   "source": [
    "data[:5]"
   ]
  },
  {
   "cell_type": "markdown",
   "metadata": {
    "tags": []
   },
   "source": [
    "### data clean up"
   ]
  },
  {
   "cell_type": "code",
   "execution_count": 14,
   "metadata": {},
   "outputs": [],
   "source": [
    "#data = data[data[\"Z\"]> 0] # this migh have 2 reasons\n",
    "#data = data[data[\"ZWARN\"] == 0]"
   ]
  },
  {
   "cell_type": "code",
   "execution_count": 15,
   "metadata": {},
   "outputs": [],
   "source": [
    "#data = data[data['FLUX_Z']>0]\n",
    "# data = table.unique(data, keys = \"TARGETID\")"
   ]
  },
  {
   "cell_type": "code",
   "execution_count": 16,
   "metadata": {},
   "outputs": [],
   "source": [
    "data = data[data[\"TARGETID\"]>0]"
   ]
  },
  {
   "cell_type": "code",
   "execution_count": 17,
   "metadata": {},
   "outputs": [
    {
     "name": "stdout",
     "output_type": "stream",
     "text": [
      "We have 1525 objects in the full catalog\n"
     ]
    }
   ],
   "source": [
    "print(f\"We have {len(data)} objects in the full catalog\")"
   ]
  },
  {
   "cell_type": "markdown",
   "metadata": {},
   "source": [
    "We should also get rid of stars, since they wont be the host of a GW event"
   ]
  },
  {
   "cell_type": "code",
   "execution_count": 18,
   "metadata": {},
   "outputs": [],
   "source": [
    "data = data[data[\"SPECTYPE\"] != \"STAR\"]"
   ]
  },
  {
   "cell_type": "markdown",
   "metadata": {
    "jp-MarkdownHeadingCollapsed": true,
    "tags": []
   },
   "source": [
    "### Calculate the healpix id for every object in the catalog and its probability; append this data to the Table"
   ]
  },
  {
   "cell_type": "code",
   "execution_count": 19,
   "metadata": {},
   "outputs": [],
   "source": [
    "max_level = 29 # highest possible HEALPix resolution that can be represented in a 64-bit signed integer\n",
    "max_nside = ah.level_to_nside(max_level)\n",
    "level, ipix = ah.uniq_to_level_ipix(skymap[\"UNIQ\"])\n",
    "\n",
    "index = ipix*(2**(max_level-level))**2\n",
    "\n",
    "sorter = np.argsort(index)\n",
    "\n",
    "# this is the NESTED pixel index of the target sky location, NOT THE UNIQ ID\n",
    "match_ipix = ah.lonlat_to_healpix(data[\"TARGET_RA\"]*u.deg, data[\"TARGET_DEC\"]*u.deg, max_nside, order='nested')\n",
    "\n",
    "# here we get the pixel index (i.e. where the entry is in the table, also NOT THE UNIQ ID) of each target\n",
    "sorter_i = sorter[np.searchsorted(index, match_ipix, side='right', sorter=sorter) - 1]\n",
    "probdensity = skymap[sorter_i]['PROBDENSITY'].to_value(u.deg**-2)\n",
    "\n",
    "# now we calculate the UNIQ ID for all our targets:\n",
    "\n",
    "uniq = skymap[\"UNIQ\"][sorter_i]\n",
    "#to make things easier in future, I will now also append the UNIQ pixels DISTMU, DISTSIGMA and DISTNORM values. However, be careful, since these DO NOT CORRESPOND THE TARGETS IN DESI DIRECTLY!\n",
    "\n",
    "if modeled_search:\n",
    "    distmu = skymap[sorter_i][\"DISTMU\"]\n",
    "    distsigma = skymap[sorter_i][\"DISTSIGMA\"]\n",
    "    distnorm = skymap[sorter_i][\"DISTNORM\"]\n"
   ]
  },
  {
   "cell_type": "code",
   "execution_count": 20,
   "metadata": {},
   "outputs": [],
   "source": [
    "# len(UNIQ), len(data), len(skymap)"
   ]
  },
  {
   "cell_type": "code",
   "execution_count": 21,
   "metadata": {},
   "outputs": [],
   "source": [
    "#data = data.keep_columns([\"TARGETID\", \"TARGET_RA\", \"TARGET_DEC\", \"TILEID\", \"NIGHT\", \"Z\", \"ZERR\", \"ZWARN\", \"DELTACHI2\", \"FLUX_Z\", \"BGS_TARGET\", \"EBV\", \"SERSIC\", \"MWS_TARGET\", \"FILENAME\"])\n",
    "                          "
   ]
  },
  {
   "cell_type": "code",
   "execution_count": 22,
   "metadata": {},
   "outputs": [],
   "source": [
    "if modeled_search:\n",
    "    data = hstack([data, Table({\"UNIQ\": uniq}), Table({\"PROBDENSITY\": probdensity}), Table({\"DISTMU\": distmu}), Table({\"DISTSIGMA\": distsigma}), Table({\"DISTNORM\": distnorm})])\n",
    "else: \n",
    "    data = hstack([data, Table({\"UNIQ\": uniq}), Table({\"PROBDENSITY\": probdensity})])\n",
    "    print(f\"The table will not contain any distance info since there is none available\")"
   ]
  },
  {
   "cell_type": "code",
   "execution_count": 23,
   "metadata": {},
   "outputs": [
    {
     "data": {
      "text/html": [
       "<div><i>Table length=5</i>\n",
       "<table id=\"table139775077740512\" class=\"table-striped table-bordered table-condensed\">\n",
       "<thead><tr><th>TARGETID</th><th>TARGET_RA</th><th>TARGET_DEC</th><th>LASTNIGHT</th><th>Z</th><th>ZERR</th><th>ZWARN</th><th>FLUX_G</th><th>FLUX_R</th><th>FLUX_Z</th><th>SPECTYPE</th><th>BGS_TARGET</th><th>EBV</th><th>SERSIC</th><th>UNIQ</th><th>PROBDENSITY</th><th>DISTMU</th><th>DISTSIGMA</th><th>DISTNORM</th></tr></thead>\n",
       "<thead><tr><th></th><th></th><th></th><th></th><th></th><th></th><th></th><th></th><th></th><th></th><th></th><th></th><th></th><th></th><th></th><th></th><th>Mpc</th><th>Mpc</th><th>1 / Mpc2</th></tr></thead>\n",
       "<thead><tr><th>int64</th><th>float64</th><th>float64</th><th>int64</th><th>float64</th><th>float64</th><th>int64</th><th>float64</th><th>float64</th><th>float64</th><th>str6</th><th>int64</th><th>float64</th><th>float64</th><th>int64</th><th>float64</th><th>float64</th><th>float64</th><th>float64</th></tr></thead>\n",
       "<tr><td>2390768907976704</td><td>108.117557695096</td><td>63.3898431837045</td><td>20221205</td><td>0.040290694709979</td><td>1.41089692161923e-05</td><td>0</td><td>0.0</td><td>0.0</td><td>0.0</td><td>GALAXY</td><td>0</td><td>0.0678029283881187</td><td>0.0</td><td>96790</td><td>0.0006250125158475294</td><td>149.3033049375056</td><td>57.516043844177965</td><td>3.906753146601501e-05</td></tr>\n",
       "<tr><td>2782192329555969</td><td>109.350844476076</td><td>63.2528054158454</td><td>20220209</td><td>1.09743537372472</td><td>0.000147543353596166</td><td>0</td><td>0.0</td><td>0.0</td><td>0.0</td><td>QSO</td><td>0</td><td>0.0784731507301331</td><td>0.0</td><td>387156</td><td>0.0006913585861411703</td><td>150.14573295535715</td><td>57.6661659004649</td><td>3.86603117225195e-05</td></tr>\n",
       "<tr><td>2782195043270668</td><td>108.018208619957</td><td>63.4340683190374</td><td>20211117</td><td>0.694732350620082</td><td>2.01233823686163e-05</td><td>0</td><td>0.0</td><td>0.0</td><td>0.0</td><td>QSO</td><td>0</td><td>0.0</td><td>0.0</td><td>96790</td><td>0.0006250125158475294</td><td>149.3033049375056</td><td>57.516043844177965</td><td>3.906753146601501e-05</td></tr>\n",
       "<tr><td>2782195047464982</td><td>108.66853748498</td><td>63.5804719641246</td><td>20221205</td><td>1.04279377444736</td><td>0.000269147973740109</td><td>0</td><td>0.0</td><td>0.0</td><td>0.0</td><td>QSO</td><td>0</td><td>0.0839990600943565</td><td>0.0</td><td>96791</td><td>0.0006364709635879498</td><td>149.3331604713215</td><td>57.53887013261409</td><td>3.904993395887667e-05</td></tr>\n",
       "<tr><td>2782197756985361</td><td>109.629536987384</td><td>63.83836045547</td><td>20211117</td><td>1.73335204334868</td><td>0.000141335924107196</td><td>0</td><td>0.0</td><td>0.0</td><td>0.0</td><td>QSO</td><td>0</td><td>0.0</td><td>0.0</td><td>387331</td><td>0.0006841282050531293</td><td>149.94004063279553</td><td>57.68182006273759</td><td>3.8750141248181716e-05</td></tr>\n",
       "</table></div>"
      ],
      "text/plain": [
       "<Table length=5>\n",
       "    TARGETID        TARGET_RA     ...     DISTSIGMA             DISTNORM       \n",
       "                                  ...        Mpc                1 / Mpc2       \n",
       "     int64           float64      ...      float64              float64        \n",
       "---------------- ---------------- ... ------------------ ----------------------\n",
       "2390768907976704 108.117557695096 ... 57.516043844177965  3.906753146601501e-05\n",
       "2782192329555969 109.350844476076 ...   57.6661659004649   3.86603117225195e-05\n",
       "2782195043270668 108.018208619957 ... 57.516043844177965  3.906753146601501e-05\n",
       "2782195047464982  108.66853748498 ...  57.53887013261409  3.904993395887667e-05\n",
       "2782197756985361 109.629536987384 ...  57.68182006273759 3.8750141248181716e-05"
      ]
     },
     "execution_count": 23,
     "metadata": {},
     "output_type": "execute_result"
    }
   ],
   "source": [
    "data[:5]"
   ]
  },
  {
   "cell_type": "code",
   "execution_count": 24,
   "metadata": {},
   "outputs": [
    {
     "name": "stdout",
     "output_type": "stream",
     "text": [
      "The highest and lowest probability values in our catalog are: 0.0007327942223399596 and 0.0006250125158475294\n"
     ]
    }
   ],
   "source": [
    "print(f\"The highest and lowest probability values in our catalog are: {np.max(probdensity)} and {np.min(probdensity)}\")"
   ]
  },
  {
   "cell_type": "markdown",
   "metadata": {
    "jp-MarkdownHeadingCollapsed": true,
    "tags": []
   },
   "source": [
    "### Sort the skymap table and get 99% credible region"
   ]
  },
  {
   "cell_type": "code",
   "execution_count": 25,
   "metadata": {},
   "outputs": [],
   "source": [
    "# copy the table\n",
    "skymap_sort = Table(skymap, copy = True)"
   ]
  },
  {
   "cell_type": "code",
   "execution_count": 26,
   "metadata": {},
   "outputs": [],
   "source": [
    "# check whether copy worked:\n",
    "# skymap_sort, skymap\n",
    "# np.max(skymap[\"UNIQ\"])"
   ]
  },
  {
   "cell_type": "code",
   "execution_count": 27,
   "metadata": {},
   "outputs": [],
   "source": [
    "# now sort the skymap by its probability (descending)\n",
    "skymap_sort.sort('PROBDENSITY', reverse=True)"
   ]
  },
  {
   "cell_type": "code",
   "execution_count": 28,
   "metadata": {},
   "outputs": [
    {
     "data": {
      "text/html": [
       "<div><i>Table length=5</i>\n",
       "<table id=\"table139775077460688\" class=\"table-striped table-bordered table-condensed\">\n",
       "<thead><tr><th>UNIQ</th><th>PROBDENSITY</th><th>DISTMU</th><th>DISTSIGMA</th><th>DISTNORM</th></tr></thead>\n",
       "<thead><tr><th></th><th>1 / sr</th><th>Mpc</th><th>Mpc</th><th>1 / Mpc2</th></tr></thead>\n",
       "<thead><tr><th>int64</th><th>float64</th><th>float64</th><th>float64</th><th>float64</th></tr></thead>\n",
       "<tr><td>367551</td><td>3.6191939961290607</td><td>153.67349325223066</td><td>57.556566405347546</td><td>3.7138720144593e-05</td></tr>\n",
       "<tr><td>367595</td><td>3.618619872501153</td><td>154.0953614985823</td><td>57.71548913236724</td><td>3.6935504629802136e-05</td></tr>\n",
       "<tr><td>367547</td><td>3.6168927557782644</td><td>153.24215649463997</td><td>57.39535664340765</td><td>3.734803144063708e-05</td></tr>\n",
       "<tr><td>367594</td><td>3.616534301359978</td><td>154.03607733098687</td><td>57.69556994020809</td><td>3.6963582046791717e-05</td></tr>\n",
       "<tr><td>373061</td><td>3.6157410492109827</td><td>154.27343879979674</td><td>57.78133019061871</td><td>3.6850418724867694e-05</td></tr>\n",
       "</table></div>"
      ],
      "text/plain": [
       "<Table length=5>\n",
       " UNIQ     PROBDENSITY     ...     DISTSIGMA             DISTNORM       \n",
       "             1 / sr       ...        Mpc                1 / Mpc2       \n",
       "int64       float64       ...      float64              float64        \n",
       "------ ------------------ ... ------------------ ----------------------\n",
       "367551 3.6191939961290607 ... 57.556566405347546    3.7138720144593e-05\n",
       "367595  3.618619872501153 ...  57.71548913236724 3.6935504629802136e-05\n",
       "367547 3.6168927557782644 ...  57.39535664340765  3.734803144063708e-05\n",
       "367594  3.616534301359978 ...  57.69556994020809 3.6963582046791717e-05\n",
       "373061 3.6157410492109827 ...  57.78133019061871 3.6850418724867694e-05"
      ]
     },
     "execution_count": 28,
     "metadata": {},
     "output_type": "execute_result"
    }
   ],
   "source": [
    "# this shows the first entries sorted be their probability\n",
    "skymap_sort[:5]"
   ]
  },
  {
   "cell_type": "code",
   "execution_count": 29,
   "metadata": {},
   "outputs": [
    {
     "name": "stdout",
     "output_type": "stream",
     "text": [
      "The 99% search area is 10343.45488358242°large\n"
     ]
    }
   ],
   "source": [
    "# now get 99% credible region area\n",
    "\n",
    "level, ipix = ah.uniq_to_level_ipix(skymap_sort['UNIQ'])\n",
    "pixel_area = ah.nside_to_pixel_area(ah.level_to_nside(level)) # this is the area each pixel contains\n",
    "\n",
    "# calculate the probability per pixel (careful: since the pixels differ in size, this is not neceseraliy a useful quantity\n",
    "prob = pixel_area * skymap_sort['PROBDENSITY']\n",
    "\n",
    "# calc cumsum of probabilities and get index of pixel that sums up to 0.99\n",
    "cumprob = np.cumsum(prob)\n",
    "i = cumprob.searchsorted(0.99)\n",
    "\n",
    "# print area\n",
    "area_99 = pixel_area[:i].sum()\n",
    "area_99_deg = area_99.to_value(u.deg**2)\n",
    "print(f\"The 99% search area is {area_99_deg}°large\")"
   ]
  },
  {
   "cell_type": "markdown",
   "metadata": {
    "jp-MarkdownHeadingCollapsed": true,
    "tags": []
   },
   "source": [
    "### can be deleted, just tried things out"
   ]
  },
  {
   "cell_type": "code",
   "execution_count": 30,
   "metadata": {},
   "outputs": [],
   "source": [
    "skymap_sort = hstack([skymap_sort, Table({\"PROB\": prob})])"
   ]
  },
  {
   "cell_type": "code",
   "execution_count": 31,
   "metadata": {},
   "outputs": [
    {
     "data": {
      "text/latex": [
       "$0.00014054955 \\; \\mathrm{}$"
      ],
      "text/plain": [
       "<Quantity 0.00014055>"
      ]
     },
     "execution_count": 31,
     "metadata": {},
     "output_type": "execute_result"
    }
   ],
   "source": [
    "np.max(prob)"
   ]
  },
  {
   "cell_type": "code",
   "execution_count": 32,
   "metadata": {},
   "outputs": [
    {
     "data": {
      "text/html": [
       "<div><i>Table length=5</i>\n",
       "<table id=\"table139775078984976\" class=\"table-striped table-bordered table-condensed\">\n",
       "<thead><tr><th>UNIQ</th><th>PROBDENSITY</th><th>DISTMU</th><th>DISTSIGMA</th><th>DISTNORM</th><th>PROB</th></tr></thead>\n",
       "<thead><tr><th></th><th>1 / sr</th><th>Mpc</th><th>Mpc</th><th>1 / Mpc2</th><th></th></tr></thead>\n",
       "<thead><tr><th>int64</th><th>float64</th><th>float64</th><th>float64</th><th>float64</th><th>float64</th></tr></thead>\n",
       "<tr><td>367551</td><td>3.6191939961290607</td><td>153.67349325223066</td><td>57.556566405347546</td><td>3.7138720144593e-05</td><td>5.783097976763582e-05</td></tr>\n",
       "<tr><td>367595</td><td>3.618619872501153</td><td>154.0953614985823</td><td>57.71548913236724</td><td>3.6935504629802136e-05</td><td>5.782180586539538e-05</td></tr>\n",
       "<tr><td>367547</td><td>3.6168927557782644</td><td>153.24215649463997</td><td>57.39535664340765</td><td>3.734803144063708e-05</td><td>5.779420832506885e-05</td></tr>\n",
       "<tr><td>367594</td><td>3.616534301359978</td><td>154.03607733098687</td><td>57.69556994020809</td><td>3.6963582046791717e-05</td><td>5.7788480593912766e-05</td></tr>\n",
       "<tr><td>373061</td><td>3.6157410492109827</td><td>154.27343879979674</td><td>57.78133019061871</td><td>3.6850418724867694e-05</td><td>5.777580524436581e-05</td></tr>\n",
       "</table></div>"
      ],
      "text/plain": [
       "<Table length=5>\n",
       " UNIQ     PROBDENSITY     ...        DISTNORM                 PROB         \n",
       "             1 / sr       ...        1 / Mpc2                              \n",
       "int64       float64       ...        float64                float64        \n",
       "------ ------------------ ... ---------------------- ----------------------\n",
       "367551 3.6191939961290607 ...    3.7138720144593e-05  5.783097976763582e-05\n",
       "367595  3.618619872501153 ... 3.6935504629802136e-05  5.782180586539538e-05\n",
       "367547 3.6168927557782644 ...  3.734803144063708e-05  5.779420832506885e-05\n",
       "367594  3.616534301359978 ... 3.6963582046791717e-05 5.7788480593912766e-05\n",
       "373061 3.6157410492109827 ... 3.6850418724867694e-05  5.777580524436581e-05"
      ]
     },
     "execution_count": 32,
     "metadata": {},
     "output_type": "execute_result"
    }
   ],
   "source": [
    "skymap_sort[:5]"
   ]
  },
  {
   "cell_type": "code",
   "execution_count": 33,
   "metadata": {},
   "outputs": [],
   "source": [
    "skymap_prob = Table(skymap_sort, copy = True)"
   ]
  },
  {
   "cell_type": "code",
   "execution_count": 34,
   "metadata": {},
   "outputs": [],
   "source": [
    "skymap_prob.sort(\"PROB\", reverse = True)"
   ]
  },
  {
   "cell_type": "code",
   "execution_count": 35,
   "metadata": {},
   "outputs": [
    {
     "data": {
      "text/html": [
       "<div><i>Table length=5</i>\n",
       "<table id=\"table139776205354128\" class=\"table-striped table-bordered table-condensed\">\n",
       "<thead><tr><th>UNIQ</th><th>PROBDENSITY</th><th>DISTMU</th><th>DISTSIGMA</th><th>DISTNORM</th><th>PROB</th></tr></thead>\n",
       "<thead><tr><th></th><th>1 / sr</th><th>Mpc</th><th>Mpc</th><th>1 / Mpc2</th><th></th></tr></thead>\n",
       "<thead><tr><th>int64</th><th>float64</th><th>float64</th><th>float64</th><th>float64</th><th>float64</th></tr></thead>\n",
       "<tr><td>97050</td><td>2.1989773992715316</td><td>147.76688856287637</td><td>57.37270689511823</td><td>3.9803179208849764e-05</td><td>0.00014054954514488592</td></tr>\n",
       "<tr><td>23539</td><td>0.5497211637150999</td><td>142.82143317866758</td><td>56.69579051758552</td><td>4.235716243793389e-05</td><td>0.00014054361730551673</td></tr>\n",
       "<tr><td>90209</td><td>2.1988311850416404</td><td>142.93113725805495</td><td>52.85200275871076</td><td>4.306450317692669e-05</td><td>0.00014054019973573723</td></tr>\n",
       "<tr><td>90846</td><td>2.1986813615785503</td><td>136.68002397701574</td><td>51.866596314038766</td><td>4.6795590497600065e-05</td><td>0.00014053062363932243</td></tr>\n",
       "<tr><td>12667</td><td>0.13738820136913166</td><td>76.06707060319594</td><td>53.42142148393927</td><td>0.00011680936842477672</td><td>0.00014050057425494113</td></tr>\n",
       "</table></div>"
      ],
      "text/plain": [
       "<Table length=5>\n",
       " UNIQ     PROBDENSITY     ...        DISTNORM                 PROB         \n",
       "             1 / sr       ...        1 / Mpc2                              \n",
       "int64       float64       ...        float64                float64        \n",
       "----- ------------------- ... ---------------------- ----------------------\n",
       "97050  2.1989773992715316 ... 3.9803179208849764e-05 0.00014054954514488592\n",
       "23539  0.5497211637150999 ...  4.235716243793389e-05 0.00014054361730551673\n",
       "90209  2.1988311850416404 ...  4.306450317692669e-05 0.00014054019973573723\n",
       "90846  2.1986813615785503 ... 4.6795590497600065e-05 0.00014053062363932243\n",
       "12667 0.13738820136913166 ... 0.00011680936842477672 0.00014050057425494113"
      ]
     },
     "execution_count": 35,
     "metadata": {},
     "output_type": "execute_result"
    }
   ],
   "source": [
    "skymap_prob[:5]"
   ]
  },
  {
   "cell_type": "markdown",
   "metadata": {
    "jp-MarkdownHeadingCollapsed": true,
    "tags": []
   },
   "source": [
    "### Compare Tables, only leave 99% credible region in DESI data table\n",
    "\n",
    "Now we can get a Table that only contains the 99% credible region. From there we only leave the matching objects in the DESI data"
   ]
  },
  {
   "cell_type": "code",
   "execution_count": 36,
   "metadata": {},
   "outputs": [],
   "source": [
    "# we simply select only the entries that are within the 99% credible region\n",
    "skymap_99 = skymap_sort[:i]"
   ]
  },
  {
   "cell_type": "code",
   "execution_count": 37,
   "metadata": {},
   "outputs": [
    {
     "name": "stdout",
     "output_type": "stream",
     "text": [
      "This is the number of UNIQ ID of objects which should lie within the 99% credible region (NOT THE NUMBER OF OBJECTS, as there can be multiple objects per UNIQ ID): 24\n"
     ]
    }
   ],
   "source": [
    "print(\"This is the number of UNIQ ID of objects which should lie within the 99% credible region (NOT THE NUMBER OF OBJECTS, as there can be multiple objects per UNIQ ID):\", len(np.intersect1d(skymap_99[\"UNIQ\"], data[\"UNIQ\"])))"
   ]
  },
  {
   "cell_type": "code",
   "execution_count": 38,
   "metadata": {},
   "outputs": [],
   "source": [
    "mask = np.in1d(data[\"UNIQ\"], skymap_99[\"UNIQ\"])\n",
    "data_99 = data[mask]"
   ]
  },
  {
   "cell_type": "code",
   "execution_count": 39,
   "metadata": {},
   "outputs": [
    {
     "name": "stdout",
     "output_type": "stream",
     "text": [
      "We now have 1307 objects in the 99% credible region\n",
      "Check if the region from where the galaxies have been selected makes any sense (RA; DEC):  107.870542705171 110.601794568369 63.0714584382638 64.2907410352226\n",
      "We can also check whether we have at least one galaxy in the UNIQ pixel with the highest probability from LIGO...\n",
      "This is False\n"
     ]
    }
   ],
   "source": [
    "print(f\"We now have {len(data_99)} objects in the 99% credible region\")\n",
    "print(\"Check if the region from where the galaxies have been selected makes any sense (RA; DEC): \", np.min(data_99[\"TARGET_RA\"]), np.max(data_99[\"TARGET_RA\"]), np.min(data_99[\"TARGET_DEC\"]), np.max(data_99[\"TARGET_DEC\"]))\n",
    "\n",
    "max_probdens_in_desi = np.max(data_99[\"PROBDENSITY\"])\n",
    "max_probdens_in_ligo = np.max(skymap[\"PROBDENSITY\"]).to_value(u.deg**-2)\n",
    "print(f\"We can also check whether we have at least one galaxy in the UNIQ pixel with the highest probability from LIGO...\")\n",
    "print(f\"This is {np.allclose(max_probdens_in_desi, max_probdens_in_ligo)}\")"
   ]
  },
  {
   "cell_type": "code",
   "execution_count": 40,
   "metadata": {},
   "outputs": [],
   "source": [
    "data_99.sort('PROBDENSITY', reverse=True)"
   ]
  },
  {
   "cell_type": "code",
   "execution_count": 41,
   "metadata": {},
   "outputs": [
    {
     "data": {
      "text/html": [
       "<div><i>Table length=2</i>\n",
       "<table id=\"table139775079474912\" class=\"table-striped table-bordered table-condensed\">\n",
       "<thead><tr><th>TARGETID</th><th>TARGET_RA</th><th>TARGET_DEC</th><th>LASTNIGHT</th><th>Z</th><th>ZERR</th><th>ZWARN</th><th>FLUX_G</th><th>FLUX_R</th><th>FLUX_Z</th><th>SPECTYPE</th><th>BGS_TARGET</th><th>EBV</th><th>SERSIC</th><th>UNIQ</th><th>PROBDENSITY</th><th>DISTMU</th><th>DISTSIGMA</th><th>DISTNORM</th></tr></thead>\n",
       "<thead><tr><th></th><th></th><th></th><th></th><th></th><th></th><th></th><th></th><th></th><th></th><th></th><th></th><th></th><th></th><th></th><th></th><th>Mpc</th><th>Mpc</th><th>1 / Mpc2</th></tr></thead>\n",
       "<thead><tr><th>int64</th><th>float64</th><th>float64</th><th>int64</th><th>float64</th><th>float64</th><th>int64</th><th>float64</th><th>float64</th><th>float64</th><th>str6</th><th>int64</th><th>float64</th><th>float64</th><th>int64</th><th>float64</th><th>float64</th><th>float64</th><th>float64</th></tr></thead>\n",
       "<tr><td>39633429481915836</td><td>110.42739650247</td><td>63.8735981328823</td><td>20220209</td><td>0.0979488719431986</td><td>3.37514295824153e-06</td><td>0</td><td>37.9538879394531</td><td>74.4375</td><td>130.063232421875</td><td>GALAXY</td><td>514</td><td>0.0677742585539818</td><td>0.673189997673035</td><td>385966</td><td>0.0007327942223399596</td><td>150.68973823498843</td><td>57.824463440299795</td><td>3.839027333104131e-05</td></tr>\n",
       "<tr><td>39633429481914784</td><td>110.296144757409</td><td>63.8417462061572</td><td>20221205</td><td>0.115021073057296</td><td>1.08827101885155e-05</td><td>0</td><td>6.07676601409912</td><td>13.4963397979736</td><td>23.4299468994141</td><td>GALAXY</td><td>514</td><td>0.0658892914652824</td><td>1.0</td><td>385966</td><td>0.0007327942223399596</td><td>150.68973823498843</td><td>57.824463440299795</td><td>3.839027333104131e-05</td></tr>\n",
       "</table></div>"
      ],
      "text/plain": [
       "<Table length=2>\n",
       "     TARGETID        TARGET_RA     ...     DISTSIGMA             DISTNORM      \n",
       "                                   ...        Mpc                1 / Mpc2      \n",
       "      int64           float64      ...      float64              float64       \n",
       "----------------- ---------------- ... ------------------ ---------------------\n",
       "39633429481915836  110.42739650247 ... 57.824463440299795 3.839027333104131e-05\n",
       "39633429481914784 110.296144757409 ... 57.824463440299795 3.839027333104131e-05"
      ]
     },
     "execution_count": 41,
     "metadata": {},
     "output_type": "execute_result"
    }
   ],
   "source": [
    "data_99[:2]"
   ]
  },
  {
   "cell_type": "code",
   "execution_count": 42,
   "metadata": {},
   "outputs": [
    {
     "name": "stdout",
     "output_type": "stream",
     "text": [
      "We have now performed all the necessary steps to get the localization selection in 2D, i.e. the angle on the sky\n",
      "However, we have not used the distance data at all. Therefore our redshifts range from 2.20487824533604e-06 to 1.73335204334868\n"
     ]
    }
   ],
   "source": [
    "if modeled_search:\n",
    "    print(\"We have now performed all the necessary steps to get the localization selection in 2D, i.e. the angle on the sky\")\n",
    "    min_z = np.min(data_99[\"Z\"])\n",
    "    max_z = np.max(data_99[\"Z\"])\n",
    "    print(f\"However, we have not used the distance data at all. Therefore our redshifts range from {min_z} to {max_z}\")\n",
    "else:\n",
    "    print(f\"Usually we would be performing steps to cut out objects that don't meet the z-range/distance from LIGO, since there is no distance, we - at least for now include everything!\")"
   ]
  },
  {
   "cell_type": "markdown",
   "metadata": {
    "jp-MarkdownHeadingCollapsed": true,
    "tags": []
   },
   "source": [
    "### Calculate all the distances of the objects from the redshifts\n",
    "\n",
    "We want to be conservative in estimating the distance from redshifts, therefore we will include different cosmologies.\n",
    "\n",
    "Our cosmologies include:\n",
    "- H0 = 68.20 ± 0.81 km s−1Mpc−1, from eBOSS https://arxiv.org/pdf/2007.08991.pdf\n",
    "- DES Y3 https://arxiv.org/abs/2105.13549\n",
    "- SH0ES https://pantheonplussh0es.github.io/\n",
    "\n",
    "Now we calculate the arithmetic mean of our distances and its standard deviation:\n",
    "$$distances_{mean} = \\frac{dist(z_{cosmo_{max}})+dist(z_{cosmo_{min}})}{2}$$\n",
    "and accordingly the standard deviation (n=2):\n",
    "$$\\sigma = \\sqrt{\\frac{1}{n-1}\\sum\\left(dist_i-distances_{mean}\\right)^2}$$\n"
   ]
  },
  {
   "cell_type": "code",
   "execution_count": 43,
   "metadata": {},
   "outputs": [],
   "source": [
    "#distances = Distance(z=data_99[\"Z\"], cosmology=Planck18)\n",
    "#distances_err = Distance(z=data_99[\"ZERR\"], cosmology=Planck18)"
   ]
  },
  {
   "cell_type": "code",
   "execution_count": 44,
   "metadata": {},
   "outputs": [],
   "source": [
    "if modeled_search:\n",
    "    # first define the cosmological maximum and minimum parameters\n",
    "    omega_M_max = 0.339+0.032 #(from DES)\n",
    "    omega_M_min = 0.299-2*0.016 #from eBOSS\n",
    "\n",
    "    H_0_max = 73.04+2*1.04 #from SH0ES\n",
    "    H_0_min = 67.4-2*0.5 #from Planck\n",
    "    \n",
    "    # then calculate min and max luminosity distance from the redshifts\n",
    "    cosmo_min_dist = FlatLambdaCDM(H0=H_0_max, Om0=omega_M_max)\n",
    "    cosmo_max_dist = FlatLambdaCDM(H0=H_0_min, Om0=omega_M_min)\n",
    "\n",
    "    dists_max = Distance(z=data_99[\"Z\"], cosmology=cosmo_max_dist)\n",
    "    dists_min = Distance(z=data_99[\"Z\"], cosmology=cosmo_min_dist)\n",
    "    \n",
    "    # and of course also calculate the maximum and minimum error from the redshfit uncertainty\n",
    "    dists_err_min = Distance(z=data_99[\"ZERR\"], cosmology=cosmo_max_dist)\n",
    "    dists_err_max = Distance(z=data_99[\"ZERR\"], cosmology=cosmo_min_dist)\n",
    "    \n",
    "    # now we get the mean distance and its error\n",
    "    dists_mean = (dists_max+dists_min)/2\n",
    "    dists_err_mean = (dists_err_max+dists_err_min)/2  # this is our sigma for the redshift error\n",
    "    \n",
    "    # calculate the stdev of the distance depending on the cosmology\n",
    "    dists_mean_stddev = np.sqrt((dists_max-dists_mean)**2+(dists_min-dists_mean)**2)\n",
    "    \n",
    "    # now stack all the data\n",
    "    data_99 = hstack([data_99, Table({\"DIST_Z_MEAN\": dists_mean}), Table({\"DIST_Z_ERR\": dists_err_mean}), Table({\"DIST_Z_COSMO_SIGMA\": dists_mean_stddev})])"
   ]
  },
  {
   "cell_type": "code",
   "execution_count": 45,
   "metadata": {},
   "outputs": [],
   "source": [
    "# dists_mean[:5], dists_mean_stddev[:5], dists_mean_stddev[:5]/dists_mean[:5], np.mean(dists_mean_stddev/dists_mean), np.max(dists_mean_stddev/dists_mean), np.min(dists_mean_stddev/dists_mean)\n"
   ]
  },
  {
   "cell_type": "code",
   "execution_count": 46,
   "metadata": {},
   "outputs": [
    {
     "data": {
      "text/html": [
       "<div><i>Table length=5</i>\n",
       "<table id=\"table139775082648416\" class=\"table-striped table-bordered table-condensed\">\n",
       "<thead><tr><th>TARGETID</th><th>TARGET_RA</th><th>TARGET_DEC</th><th>LASTNIGHT</th><th>Z</th><th>ZERR</th><th>ZWARN</th><th>FLUX_G</th><th>FLUX_R</th><th>FLUX_Z</th><th>SPECTYPE</th><th>BGS_TARGET</th><th>EBV</th><th>SERSIC</th><th>UNIQ</th><th>PROBDENSITY</th><th>DISTMU</th><th>DISTSIGMA</th><th>DISTNORM</th><th>DIST_Z_MEAN</th><th>DIST_Z_ERR</th><th>DIST_Z_COSMO_SIGMA</th></tr></thead>\n",
       "<thead><tr><th></th><th></th><th></th><th></th><th></th><th></th><th></th><th></th><th></th><th></th><th></th><th></th><th></th><th></th><th></th><th></th><th>Mpc</th><th>Mpc</th><th>1 / Mpc2</th><th>Mpc</th><th>Mpc</th><th>Mpc</th></tr></thead>\n",
       "<thead><tr><th>int64</th><th>float64</th><th>float64</th><th>int64</th><th>float64</th><th>float64</th><th>int64</th><th>float64</th><th>float64</th><th>float64</th><th>str6</th><th>int64</th><th>float64</th><th>float64</th><th>int64</th><th>float64</th><th>float64</th><th>float64</th><th>float64</th><th>float64</th><th>float64</th><th>float64</th></tr></thead>\n",
       "<tr><td>39633429481915836</td><td>110.42739650247</td><td>63.8735981328823</td><td>20220209</td><td>0.0979488719431986</td><td>3.37514295824153e-06</td><td>0</td><td>37.9538879394531</td><td>74.4375</td><td>130.063232421875</td><td>GALAXY</td><td>514</td><td>0.0677742585539818</td><td>0.673189997673035</td><td>385966</td><td>0.0007327942223399596</td><td>150.68973823498843</td><td>57.824463440299795</td><td>3.839027333104131e-05</td><td>446.5970835767914</td><td>0.01435417246015495</td><td>41.29886757552001</td></tr>\n",
       "<tr><td>39633429481914784</td><td>110.296144757409</td><td>63.8417462061572</td><td>20221205</td><td>0.115021073057296</td><td>1.08827101885155e-05</td><td>0</td><td>6.07676601409912</td><td>13.4963397979736</td><td>23.4299468994141</td><td>GALAXY</td><td>514</td><td>0.0658892914652824</td><td>1.0</td><td>385966</td><td>0.0007327942223399596</td><td>150.68973823498843</td><td>57.824463440299795</td><td>3.839027333104131e-05</td><td>530.3212466148015</td><td>0.04628343030426359</td><td>49.527170574057955</td></tr>\n",
       "<tr><td>39633429481915445</td><td>110.375525353536</td><td>63.8632402061289</td><td>20221205</td><td>0.233949249688343</td><td>5.60667502551439e-05</td><td>0</td><td>3.42963218688965</td><td>11.1894807815552</td><td>22.6905651092529</td><td>GALAXY</td><td>265</td><td>0.0671317055821419</td><td>1.671177983284</td><td>385966</td><td>0.0007327942223399596</td><td>150.68973823498843</td><td>57.824463440299795</td><td>3.839027333104131e-05</td><td>1157.7651461655857</td><td>0.2384563183418475</td><td>115.31807737797843</td></tr>\n",
       "<tr><td>39633429481915164</td><td>110.340722333392</td><td>63.8488131385904</td><td>20220209</td><td>0.218934132122315</td><td>2.10480116421426e-05</td><td>0</td><td>12.4438333511353</td><td>41.8683204650879</td><td>88.5216903686523</td><td>GALAXY</td><td>514</td><td>0.0670086592435837</td><td>1.7513689994812</td><td>385966</td><td>0.0007327942223399596</td><td>150.68973823498843</td><td>57.824463440299795</td><td>3.839027333104131e-05</td><td>1074.4877278374986</td><td>0.08951646420084237</td><td>106.20065701254585</td></tr>\n",
       "<tr><td>39633429481915099</td><td>110.333841989819</td><td>63.8137740094244</td><td>20220209</td><td>0.188325778486058</td><td>5.09175232032884e-05</td><td>0</td><td>8.796067237854</td><td>29.5214138031006</td><td>61.389835357666</td><td>GALAXY</td><td>514</td><td>0.067741833627224</td><td>4.0</td><td>385966</td><td>0.0007327942223399596</td><td>150.68973823498843</td><td>57.824463440299795</td><td>3.839027333104131e-05</td><td>908.2520189032776</td><td>0.21655539796191264</td><td>88.33628535894037</td></tr>\n",
       "</table></div>"
      ],
      "text/plain": [
       "<Table length=5>\n",
       "     TARGETID        TARGET_RA     ...      DIST_Z_ERR     DIST_Z_COSMO_SIGMA\n",
       "                                   ...         Mpc                Mpc        \n",
       "      int64           float64      ...       float64            float64      \n",
       "----------------- ---------------- ... ------------------- ------------------\n",
       "39633429481915836  110.42739650247 ... 0.01435417246015495  41.29886757552001\n",
       "39633429481914784 110.296144757409 ... 0.04628343030426359 49.527170574057955\n",
       "39633429481915445 110.375525353536 ...  0.2384563183418475 115.31807737797843\n",
       "39633429481915164 110.340722333392 ... 0.08951646420084237 106.20065701254585\n",
       "39633429481915099 110.333841989819 ... 0.21655539796191264  88.33628535894037"
      ]
     },
     "execution_count": 46,
     "metadata": {},
     "output_type": "execute_result"
    }
   ],
   "source": [
    "data_99[:5]"
   ]
  },
  {
   "cell_type": "markdown",
   "metadata": {
    "jp-MarkdownHeadingCollapsed": true,
    "tags": []
   },
   "source": [
    "### Lets check how much the distance measurement changes in the 99% credible region of LIGO and compare to our DESI data\n",
    "\n",
    "We should see a lot more data in DESI (since we haven't done any redshift selection and there can be multiple objects per GW-pixel). Be carfeul, we are comparing actual object counts with the number of pixels.\n",
    "\n",
    "\n",
    "We still see, that most of the GW localization is roughly between 780Mpc and 950Mpc. DESI definitely has a most of its data in this range as well."
   ]
  },
  {
   "cell_type": "code",
   "execution_count": 47,
   "metadata": {},
   "outputs": [
    {
     "name": "stdout",
     "output_type": "stream",
     "text": [
      "Our LIGO distances range from -2854.2626133573617 Mpc to 212.31816013823467 Mpc\n",
      "Let's visualize the distance distribution of the LIGO event in the 99% credible region\n"
     ]
    },
    {
     "data": {
      "image/png": "[encoded data removed]",
      "text/plain": [
       "<Figure size 1500x800 with 2 Axes>"
      ]
     },
     "metadata": {},
     "output_type": "display_data"
    }
   ],
   "source": [
    "if modeled_search:\n",
    "    plt_skymap = skymap_99[skymap_99[\"DISTMU\"]<np.inf]\n",
    "\n",
    "    dist_max_99 = np.max(plt_skymap[\"DISTMU\"])*u.Mpc\n",
    "    dist_min_99 = np.min(plt_skymap[\"DISTMU\"])*u.Mpc\n",
    "    print(f\"Our LIGO distances range from {dist_min_99} to {dist_max_99}\")\n",
    "    print(\"Let's visualize the distance distribution of the LIGO event in the 99% credible region\")\n",
    "\n",
    "    fig, ax = plt.subplots(ncols = 2, figsize = (15,8))\n",
    "\n",
    "\n",
    "    ax[0].hist(data_99[\"DIST_Z_MEAN\"], bins = \"auto\", color = \"orange\", label = \"DESI data\")\n",
    "    ax[1].hist(plt_skymap[\"DISTMU\"], bins = \"auto\", color = \"blue\", label = \"LIGO data\")\n",
    "\n",
    "\n",
    "    for axis in ax:\n",
    "        axis.set_xlabel(\"distance bin (Mpc)\")\n",
    "        axis.set_xlim(dist_min_99/u.Mpc, dist_max_99/u.Mpc)\n",
    "        axis.legend()\n",
    "\n",
    "    ax[0].set_ylabel(\"object count\")\n",
    "    ax[1].set_ylabel(\"pixel count\")\n",
    "\n",
    "    plt.show()"
   ]
  },
  {
   "cell_type": "code",
   "execution_count": 48,
   "metadata": {},
   "outputs": [
    {
     "data": {
      "text/plain": [
       "(16839, 1307)"
      ]
     },
     "execution_count": 48,
     "metadata": {},
     "output_type": "execute_result"
    }
   ],
   "source": [
    "len(skymap_99), len(data_99)"
   ]
  },
  {
   "cell_type": "markdown",
   "metadata": {
    "jp-MarkdownHeadingCollapsed": true,
    "tags": []
   },
   "source": [
    "### To reduce our data even more, lets cut out the unreasonably far away objects\n",
    "\n",
    "We simply take maximum and minimum distance we get from the LIGO skymap (i.e. DISTMU+-DISTERR) and check, whether every galaxy in that pixel falls inside this range.\n",
    "\n",
    "*Note: We do this only for our own GW-follow ups*"
   ]
  },
  {
   "cell_type": "code",
   "execution_count": 49,
   "metadata": {},
   "outputs": [],
   "source": [
    "if follow_up_others == False and modeled_search == True:\n",
    "    z_selection_mask = data_99[\"DIST_Z_MEAN\"] - 2*data_99[\"DIST_Z_ERR\"] - 2*data_99[\"DIST_Z_COSMO_SIGMA\"] <  data_99[\"DISTMU\"] + 2*data_99[\"DISTSIGMA\"]\n",
    "    z_selection_mask &= data_99[\"DIST_Z_MEAN\"] + 2*data_99[\"DIST_Z_ERR\"] + 2*data_99[\"DIST_Z_COSMO_SIGMA\"] >  data_99[\"DISTMU\"] - 2*data_99[\"DISTSIGMA\"]\n",
    "\n",
    "    data_99_z = data_99[z_selection_mask]\n",
    "\n",
    "    remaining_obj = np.size(np.where(z_selection_mask == True))\n",
    "    deleted_obj = np.size(np.where(z_selection_mask == False))\n",
    "\n",
    "    print(f\"The z-range selection has deleted {deleted_obj} objects from originally {deleted_obj+remaining_obj} in the data set\")\n",
    "    print(f\"Therefore, we have {remaining_obj} objects left in the search region\")\n",
    "\n",
    "    highest_prob_dens = np.max(data_99_z[\"PROBDENSITY\"])\n",
    "    print(f\"Our highest remaing probability density is {highest_prob_dens} compared to the originally highest prob density of {max_probdens_in_ligo}\")\n",
    "    print(f\"The difference in prob density is {max_probdens_in_ligo-highest_prob_dens}\")\n",
    "\n",
    "    \n",
    "else:\n",
    "    data_99_z = data_99\n",
    "    remaining_obj = len(data_99_z)"
   ]
  },
  {
   "cell_type": "code",
   "execution_count": 50,
   "metadata": {},
   "outputs": [
    {
     "data": {
      "text/html": [
       "<div><i>Table length=5</i>\n",
       "<table id=\"table139775063310688\" class=\"table-striped table-bordered table-condensed\">\n",
       "<thead><tr><th>TARGETID</th><th>TARGET_RA</th><th>TARGET_DEC</th><th>LASTNIGHT</th><th>Z</th><th>ZERR</th><th>ZWARN</th><th>FLUX_G</th><th>FLUX_R</th><th>FLUX_Z</th><th>SPECTYPE</th><th>BGS_TARGET</th><th>EBV</th><th>SERSIC</th><th>UNIQ</th><th>PROBDENSITY</th><th>DISTMU</th><th>DISTSIGMA</th><th>DISTNORM</th><th>DIST_Z_MEAN</th><th>DIST_Z_ERR</th><th>DIST_Z_COSMO_SIGMA</th></tr></thead>\n",
       "<thead><tr><th></th><th></th><th></th><th></th><th></th><th></th><th></th><th></th><th></th><th></th><th></th><th></th><th></th><th></th><th></th><th></th><th>Mpc</th><th>Mpc</th><th>1 / Mpc2</th><th>Mpc</th><th>Mpc</th><th>Mpc</th></tr></thead>\n",
       "<thead><tr><th>int64</th><th>float64</th><th>float64</th><th>int64</th><th>float64</th><th>float64</th><th>int64</th><th>float64</th><th>float64</th><th>float64</th><th>str6</th><th>int64</th><th>float64</th><th>float64</th><th>int64</th><th>float64</th><th>float64</th><th>float64</th><th>float64</th><th>float64</th><th>float64</th><th>float64</th></tr></thead>\n",
       "<tr><td>39633429481915836</td><td>110.42739650247</td><td>63.8735981328823</td><td>20220209</td><td>0.0979488719431986</td><td>3.37514295824153e-06</td><td>0</td><td>37.9538879394531</td><td>74.4375</td><td>130.063232421875</td><td>GALAXY</td><td>514</td><td>0.0677742585539818</td><td>0.673189997673035</td><td>385966</td><td>0.0007327942223399596</td><td>150.68973823498843</td><td>57.824463440299795</td><td>3.839027333104131e-05</td><td>446.5970835767914</td><td>0.01435417246015495</td><td>41.29886757552001</td></tr>\n",
       "<tr><td>39633429481914784</td><td>110.296144757409</td><td>63.8417462061572</td><td>20221205</td><td>0.115021073057296</td><td>1.08827101885155e-05</td><td>0</td><td>6.07676601409912</td><td>13.4963397979736</td><td>23.4299468994141</td><td>GALAXY</td><td>514</td><td>0.0658892914652824</td><td>1.0</td><td>385966</td><td>0.0007327942223399596</td><td>150.68973823498843</td><td>57.824463440299795</td><td>3.839027333104131e-05</td><td>530.3212466148015</td><td>0.04628343030426359</td><td>49.527170574057955</td></tr>\n",
       "<tr><td>39633429481915445</td><td>110.375525353536</td><td>63.8632402061289</td><td>20221205</td><td>0.233949249688343</td><td>5.60667502551439e-05</td><td>0</td><td>3.42963218688965</td><td>11.1894807815552</td><td>22.6905651092529</td><td>GALAXY</td><td>265</td><td>0.0671317055821419</td><td>1.671177983284</td><td>385966</td><td>0.0007327942223399596</td><td>150.68973823498843</td><td>57.824463440299795</td><td>3.839027333104131e-05</td><td>1157.7651461655857</td><td>0.2384563183418475</td><td>115.31807737797843</td></tr>\n",
       "<tr><td>39633429481915164</td><td>110.340722333392</td><td>63.8488131385904</td><td>20220209</td><td>0.218934132122315</td><td>2.10480116421426e-05</td><td>0</td><td>12.4438333511353</td><td>41.8683204650879</td><td>88.5216903686523</td><td>GALAXY</td><td>514</td><td>0.0670086592435837</td><td>1.7513689994812</td><td>385966</td><td>0.0007327942223399596</td><td>150.68973823498843</td><td>57.824463440299795</td><td>3.839027333104131e-05</td><td>1074.4877278374986</td><td>0.08951646420084237</td><td>106.20065701254585</td></tr>\n",
       "<tr><td>39633429481915099</td><td>110.333841989819</td><td>63.8137740094244</td><td>20220209</td><td>0.188325778486058</td><td>5.09175232032884e-05</td><td>0</td><td>8.796067237854</td><td>29.5214138031006</td><td>61.389835357666</td><td>GALAXY</td><td>514</td><td>0.067741833627224</td><td>4.0</td><td>385966</td><td>0.0007327942223399596</td><td>150.68973823498843</td><td>57.824463440299795</td><td>3.839027333104131e-05</td><td>908.2520189032776</td><td>0.21655539796191264</td><td>88.33628535894037</td></tr>\n",
       "</table></div>"
      ],
      "text/plain": [
       "<Table length=5>\n",
       "     TARGETID        TARGET_RA     ...      DIST_Z_ERR     DIST_Z_COSMO_SIGMA\n",
       "                                   ...         Mpc                Mpc        \n",
       "      int64           float64      ...       float64            float64      \n",
       "----------------- ---------------- ... ------------------- ------------------\n",
       "39633429481915836  110.42739650247 ... 0.01435417246015495  41.29886757552001\n",
       "39633429481914784 110.296144757409 ... 0.04628343030426359 49.527170574057955\n",
       "39633429481915445 110.375525353536 ...  0.2384563183418475 115.31807737797843\n",
       "39633429481915164 110.340722333392 ... 0.08951646420084237 106.20065701254585\n",
       "39633429481915099 110.333841989819 ... 0.21655539796191264  88.33628535894037"
      ]
     },
     "execution_count": 50,
     "metadata": {},
     "output_type": "execute_result"
    }
   ],
   "source": [
    "data_99_z[:5]"
   ]
  },
  {
   "cell_type": "markdown",
   "metadata": {
    "jp-MarkdownHeadingCollapsed": true,
    "tags": []
   },
   "source": [
    "### get the apparent, absolute magnitudes and luminosities\n",
    "\n",
    "in order to do this: flux > 0 selection  and gal ext correction"
   ]
  },
  {
   "cell_type": "code",
   "execution_count": 51,
   "metadata": {},
   "outputs": [
    {
     "name": "stdout",
     "output_type": "stream",
     "text": [
      "had to cut out -7 objects due to bad fluxes\n"
     ]
    }
   ],
   "source": [
    "# get the apparent mags\n",
    "orig_len = len(data_99_z)\n",
    "data_99_z = data_99_z[data_99_z[\"FLUX_R\"] > 0] # flux selection (only ones above 0)\n",
    "print(f\"had to cut out {len(data_99_z)-orig_len} objects due to bad fluxes\")\n",
    "data_99_z[\"MW_TRANSMISSION\"] = gs.mw_transmission_from_data_table(data = data_99_z, band = \"r\")\n",
    "#data_99_z[\"FLUX_R\"] = data_99_z[\"FLUX_R\"]/data_99_z[\"MW_TRANSMISSION\"]\n",
    "\n",
    "app_mag_r = gs.app_mag(data_99_z[\"FLUX_R\"], mw_transmission = data_99_z[\"MW_TRANSMISSION\"])\n",
    "flux_selection_cut = len(data_99_z)\n",
    "\n",
    "# get the absolute mags\n",
    "abs_mag_r = gs.abs_mag(app_mag_r, data_99_z[\"Z\"], 0,0,0)\n",
    "\n",
    "# get the luminosities\n",
    "lums_r = gs.lum(abs_mag_r, band = \"r\")"
   ]
  },
  {
   "cell_type": "code",
   "execution_count": 52,
   "metadata": {},
   "outputs": [],
   "source": [
    "data_f = hstack([data_99_z, Table({\"APP_MAG_R\": app_mag_r}), Table({\"ABS_MAG_R\": abs_mag_r}), Table({\"LUM_R\": lums_r})])"
   ]
  },
  {
   "cell_type": "code",
   "execution_count": 53,
   "metadata": {},
   "outputs": [
    {
     "data": {
      "text/html": [
       "<div><i>Table length=5</i>\n",
       "<table id=\"table139775063319136\" class=\"table-striped table-bordered table-condensed\">\n",
       "<thead><tr><th>TARGETID</th><th>TARGET_RA</th><th>TARGET_DEC</th><th>LASTNIGHT</th><th>Z</th><th>ZERR</th><th>ZWARN</th><th>FLUX_G</th><th>FLUX_R</th><th>FLUX_Z</th><th>SPECTYPE</th><th>BGS_TARGET</th><th>EBV</th><th>SERSIC</th><th>UNIQ</th><th>PROBDENSITY</th><th>DISTMU</th><th>DISTSIGMA</th><th>DISTNORM</th><th>DIST_Z_MEAN</th><th>DIST_Z_ERR</th><th>DIST_Z_COSMO_SIGMA</th><th>MW_TRANSMISSION</th><th>APP_MAG_R</th><th>ABS_MAG_R</th><th>LUM_R</th></tr></thead>\n",
       "<thead><tr><th></th><th></th><th></th><th></th><th></th><th></th><th></th><th></th><th></th><th></th><th></th><th></th><th></th><th></th><th></th><th></th><th>Mpc</th><th>Mpc</th><th>1 / Mpc2</th><th>Mpc</th><th>Mpc</th><th>Mpc</th><th></th><th></th><th></th><th>W</th></tr></thead>\n",
       "<thead><tr><th>int64</th><th>float64</th><th>float64</th><th>int64</th><th>float64</th><th>float64</th><th>int64</th><th>float64</th><th>float64</th><th>float64</th><th>str6</th><th>int64</th><th>float64</th><th>float64</th><th>int64</th><th>float64</th><th>float64</th><th>float64</th><th>float64</th><th>float64</th><th>float64</th><th>float64</th><th>float64</th><th>float64</th><th>float64</th><th>float64</th></tr></thead>\n",
       "<tr><td>39633429481915836</td><td>110.42739650247</td><td>63.8735981328823</td><td>20220209</td><td>0.0979488719431986</td><td>3.37514295824153e-06</td><td>0</td><td>37.9538879394531</td><td>74.4375</td><td>130.063232421875</td><td>GALAXY</td><td>514</td><td>0.0677742585539818</td><td>0.673189997673035</td><td>385966</td><td>0.0007327942223399596</td><td>150.68973823498843</td><td>57.824463440299795</td><td>3.839027333104131e-05</td><td>446.5970835767914</td><td>0.01435417246015495</td><td>41.29886757552001</td><td>0.8729900329940754</td><td>17.673043766319402</td><td>-20.666222961048575</td><td>9.961458892120805e+35</td></tr>\n",
       "<tr><td>39633429481914784</td><td>110.296144757409</td><td>63.8417462061572</td><td>20221205</td><td>0.115021073057296</td><td>1.08827101885155e-05</td><td>0</td><td>6.07676601409912</td><td>13.4963397979736</td><td>23.4299468994141</td><td>GALAXY</td><td>514</td><td>0.0658892914652824</td><td>1.0</td><td>385966</td><td>0.0007327942223399596</td><td>150.68973823498843</td><td>57.824463440299795</td><td>3.839027333104131e-05</td><td>530.3212466148015</td><td>0.04628343030426359</td><td>49.527170574057955</td><td>0.8762942474295586</td><td>19.531084891843925</td><td>-19.181399796558715</td><td>2.5374277277006396e+35</td></tr>\n",
       "<tr><td>39633429481915445</td><td>110.375525353536</td><td>63.8632402061289</td><td>20221205</td><td>0.233949249688343</td><td>5.60667502551439e-05</td><td>0</td><td>3.42963218688965</td><td>11.1894807815552</td><td>22.6905651092529</td><td>GALAXY</td><td>265</td><td>0.0671317055821419</td><td>1.671177983284</td><td>385966</td><td>0.0007327942223399596</td><td>150.68973823498843</td><td>57.824463440299795</td><td>3.839027333104131e-05</td><td>1157.7651461655857</td><td>0.2384563183418475</td><td>115.31807737797843</td><td>0.8741149810306155</td><td>19.731896571898318</td><td>-20.67659143309657</td><td>1.0057043669501604e+36</td></tr>\n",
       "<tr><td>39633429481915164</td><td>110.340722333392</td><td>63.8488131385904</td><td>20220209</td><td>0.218934132122315</td><td>2.10480116421426e-05</td><td>0</td><td>12.4438333511353</td><td>41.8683204650879</td><td>88.5216903686523</td><td>GALAXY</td><td>514</td><td>0.0670086592435837</td><td>1.7513689994812</td><td>385966</td><td>0.0007327942223399596</td><td>150.68973823498843</td><td>57.824463440299795</td><td>3.839027333104131e-05</td><td>1074.4877278374986</td><td>0.08951646420084237</td><td>106.20065701254585</td><td>0.874330569426192</td><td>18.299475308361203</td><td>-21.946853331674447</td><td>3.240224454237481e+36</td></tr>\n",
       "<tr><td>39633429481915099</td><td>110.333841989819</td><td>63.8137740094244</td><td>20220209</td><td>0.188325778486058</td><td>5.09175232032884e-05</td><td>0</td><td>8.796067237854</td><td>29.5214138031006</td><td>61.389835357666</td><td>GALAXY</td><td>514</td><td>0.067741833627224</td><td>4.0</td><td>385966</td><td>0.0007327942223399596</td><td>150.68973823498843</td><td>57.824463440299795</td><td>3.839027333104131e-05</td><td>908.2520189032776</td><td>0.21655539796191264</td><td>88.33628535894037</td><td>0.8730467661537381</td><td>18.67725088916674</td><td>-21.203961594860463</td><td>1.6346259931999653e+36</td></tr>\n",
       "</table></div>"
      ],
      "text/plain": [
       "<Table length=5>\n",
       "     TARGETID        TARGET_RA     ...         LUM_R         \n",
       "                                   ...           W           \n",
       "      int64           float64      ...        float64        \n",
       "----------------- ---------------- ... ----------------------\n",
       "39633429481915836  110.42739650247 ...  9.961458892120805e+35\n",
       "39633429481914784 110.296144757409 ... 2.5374277277006396e+35\n",
       "39633429481915445 110.375525353536 ... 1.0057043669501604e+36\n",
       "39633429481915164 110.340722333392 ...  3.240224454237481e+36\n",
       "39633429481915099 110.333841989819 ... 1.6346259931999653e+36"
      ]
     },
     "execution_count": 53,
     "metadata": {},
     "output_type": "execute_result"
    }
   ],
   "source": [
    "data_f[:5]"
   ]
  },
  {
   "cell_type": "markdown",
   "metadata": {
    "jp-MarkdownHeadingCollapsed": true,
    "tags": []
   },
   "source": [
    "### Check the absolute and apparent magnitudes\n",
    "\n",
    "This is a sanity check to quickly check whether there might be some obvious problem in the data/derivation of magnitudes..."
   ]
  },
  {
   "cell_type": "code",
   "execution_count": 54,
   "metadata": {},
   "outputs": [
    {
     "data": {
      "image/png": "[encoded data removed]",
      "text/plain": [
       "<Figure size 1000x500 with 3 Axes>"
      ]
     },
     "metadata": {},
     "output_type": "display_data"
    }
   ],
   "source": [
    "if len(data_f) < 1000000:\n",
    "    # dauert sonst einfach ewig\n",
    "    fig, ax = plt.subplots(ncols = 3, figsize=(10,5))\n",
    "\n",
    "    plot_names = [\"APP_MAG_R\", \"ABS_MAG_R\", \"LUM_R\"]\n",
    "    cnt = 0\n",
    "    for axis in ax:\n",
    "        axis.hist(data_f[plot_names[cnt]], bins = \"auto\")\n",
    "        axis.set_yscale(\"log\")\n",
    "        cnt += 1\n",
    "    plt.show()"
   ]
  },
  {
   "cell_type": "code",
   "execution_count": 55,
   "metadata": {},
   "outputs": [
    {
     "name": "stdout",
     "output_type": "stream",
     "text": [
      "These objects have a mean redshift of 4.785817119161421e-05, which corresponds to a mean distance of 0.20355129227587665 Mpc\n",
      "The minimum redshift is 2.20487824533604e-06, i.e. 0.009377135933743331 Mpc\n",
      "According to WolframAlpha the closest galaxy has a distance of roughly 25000ly = 7655pc (not Mpc, simply pc), so any object below 0.07Mpc is definitely not a real galaxy\n",
      "This reminded me to check if we have selected galaxies only...\n",
      "We have 0 stars in our catalogue of peculiar objects, compared to a total number of 3 objects...\n"
     ]
    },
    {
     "data": {
      "image/png": "[encoded data removed]",
      "text/plain": [
       "<Figure size 1500x800 with 5 Axes>"
      ]
     },
     "metadata": {},
     "output_type": "display_data"
    }
   ],
   "source": [
    "inspect_abs_mags = True\n",
    "\n",
    "if inspect_abs_mags:\n",
    "    data_to_inspect = data_f[data_f[\"ABS_MAG_R\"]> -12]\n",
    "    fig, ax = plt.subplots(ncols = 5, figsize = (15,8))\n",
    "    \n",
    "    ax[0].hist(data_to_inspect[\"ABS_MAG_R\"], bins = \"auto\")\n",
    "    ax[0].set_xlabel(\"abs mag in r-band\")\n",
    "    ax[1].hist(data_to_inspect[\"MW_TRANSMISSION\"], bins = \"auto\")\n",
    "    ax[1].set_xlabel(\"MW_TRANSMISSION\")\n",
    "    ax[2].hist(data_to_inspect[\"APP_MAG_R\"], bins = \"auto\")\n",
    "    ax[2].set_xlabel(\"App mag r-band\")\n",
    "    ax[3].hist(data_to_inspect[\"DIST_Z_MEAN\"], bins = \"auto\")\n",
    "    ax[3].set_xlabel(\"distance from redshift\")\n",
    "    ax[4].hist(data_to_inspect[\"Z\"], bins = \"auto\")\n",
    "    ax[4].set_xlabel(\"redshift\")\n",
    "    \n",
    "    mean_redshift_pec_objects = np.mean(data_to_inspect[\"Z\"])\n",
    "    mean_distance_pec_objects = np.mean(data_to_inspect[\"DIST_Z_MEAN\"])*u.Mpc\n",
    "    min_redshift_pec_objects = np.min(data_to_inspect[\"Z\"])\n",
    "    min_distance_pec_objects = np.min(data_to_inspect[\"DIST_Z_MEAN\"])*u.Mpc\n",
    "    \n",
    "    data_to_inspect_len = len(data_to_inspect)\n",
    "    star_data_len = len(data_to_inspect[data_to_inspect[\"SPECTYPE\"] == \"STAR\"])\n",
    "    \n",
    "    print(f\"These objects have a mean redshift of {mean_redshift_pec_objects}, which corresponds to a mean distance of {mean_distance_pec_objects}\")\n",
    "    print(f\"The minimum redshift is {min_redshift_pec_objects}, i.e. {min_distance_pec_objects}\")\n",
    "    print(f\"According to WolframAlpha the closest galaxy has a distance of roughly 25000ly = 7655pc (not Mpc, simply pc), so any object below 0.07Mpc is definitely not a real galaxy\")\n",
    "    print(f\"This reminded me to check if we have selected galaxies only...\")\n",
    "    print(f\"We have {star_data_len} stars in our catalogue of peculiar objects, compared to a total number of {data_to_inspect_len} objects...\")\n",
    "                        \n",
    "    for axis in ax:\n",
    "        axis.set_ylabel(\"bin count\")\n",
    "        #axis.legend()\n",
    "        \n",
    "    plt.tight_layout()\n",
    "    plt.show()\n",
    "    "
   ]
  },
  {
   "cell_type": "code",
   "execution_count": 56,
   "metadata": {},
   "outputs": [],
   "source": [
    "# np.max(data_f[\"MW_TRANSMISSION\"])"
   ]
  },
  {
   "cell_type": "markdown",
   "metadata": {
    "tags": []
   },
   "source": [
    "### start calculating the P_Gal (the probability that galaxy X is the host)"
   ]
  },
  {
   "cell_type": "code",
   "execution_count": 57,
   "metadata": {},
   "outputs": [
    {
     "name": "stdout",
     "output_type": "stream",
     "text": [
      "The maximum luminosity in our catalog in the r-band is 3.956278142493015e+38 W with a prob density of      PROBDENSITY     \n",
      "---------------------\n",
      "0.0006965796558407779\n"
     ]
    }
   ],
   "source": [
    "max_lum_r = np.max(data_f[\"LUM_R\"])*u.W\n",
    "prob_dens_max_lum = data_f[data_f[\"LUM_R\"] == max_lum_r][\"PROBDENSITY\"]\n",
    "print(f\"The maximum luminosity in our catalog in the r-band is {max_lum_r} with a prob density of {prob_dens_max_lum}\")"
   ]
  },
  {
   "cell_type": "code",
   "execution_count": 58,
   "metadata": {},
   "outputs": [],
   "source": [
    "if modeled_search:\n",
    "    \n",
    "    dist_delta = abs(data_f[\"DIST_Z_MEAN\"]-data_f[\"DISTMU\"])\n",
    "    combined_sigma2 =  data_f[\"DISTSIGMA\"]**2 + data_f[\"DIST_Z_COSMO_SIGMA\"].value**2 + data_f[\"DIST_Z_ERR\"]**2\n",
    "    P_gal_unnorm = data_f[\"LUM_R\"]*data_f[\"PROBDENSITY\"]/(np.sqrt(2*np.pi*combined_sigma2))*np.exp(-dist_delta**2/(combined_sigma2))\n",
    "    \n",
    "    P_gal_sum = np.sum(P_gal_unnorm)\n",
    "    P_gal = 1/P_gal_sum * P_gal_unnorm\n",
    "\n",
    "\n",
    "else:\n",
    "    P_gal_unnorm = data_f[\"LUM_R\"]*data_f[\"PROBDENSITY\"]\n",
    "    P_gal_sum = np.sum(P_gal_unnorm)\n",
    "    P_gal = 1/P_gal_sum * P_gal_unnorm"
   ]
  },
  {
   "cell_type": "markdown",
   "metadata": {
    "tags": []
   },
   "source": [
    "### Get the missed fraction of DESI due to mass/luminosity incompleteness\n",
    "\n",
    "$$f_{missed} =  \\frac{\\int_{-\\infty}^{\\infty} dm 10^{-0.4m}\\left(1-\\frac{Hist}{Schechter}\\right)\\cdot Schechter}{\\int_{-\\infty}^{\\infty}dm 10^{-0.4m}\\cdot Schechter}$$\n",
    "\n",
    "We want to account for the fact that some region were covered in more detail by DESI than others..."
   ]
  },
  {
   "cell_type": "code",
   "execution_count": 59,
   "metadata": {},
   "outputs": [],
   "source": [
    "if modeled_search:\n",
    "    \n",
    "    # get the Schechter model, see 1/V estimator, bin size of half a mag\n",
    "    from astropy.modeling.models import Schechter1D\n",
    "\n",
    "    phi_star = 0.0016745140734036254\n",
    "    m_star = -21.757361746831197\n",
    "    alpha = -1.1297780395774693\n",
    "\n",
    "    schechter_model = Schechter1D(phi_star, m_star, alpha)\n",
    "    \n",
    "    data_min_dist = np.min(data_f[\"DIST_Z_MEAN\"])*u.Mpc\n",
    "    data_max_dist = np.max(data_f[\"DIST_Z_MEAN\"])*u.Mpc\n",
    "    \n",
    "    abs_mag_max = np.max(data_f[\"ABS_MAG_R\"])\n",
    "    abs_mag_min = np.min(data_f[\"ABS_MAG_R\"])\n",
    "\n",
    "    bins = np.arange(abs_mag_min, abs_mag_max, 0.5)\n",
    "\n",
    "    hist, bins = np.histogram(data_f[\"ABS_MAG_R\"], bins =  bins)\n",
    "    \"\"\"\n",
    "    # normalize our histogram to our volume\n",
    "    volume = V_\n",
    "    hist = hist/(volume)\n",
    "    \n",
    "    #hist = hist/(area_99.to_value(u.deg**2)*(data_max_dist-data_min_dist).value*10**0) # completely wrong normalization\n",
    "    \n",
    "    print(f\"{abs_mag_min}, {abs_mag_max}, {data_min_dist}, {data_max_dist}, {(data_max_dist-data_min_dist).value*10**6}\")\n",
    "    \n",
    "    fig, ax = plt.subplots(figsize = (5,2.5))\n",
    "    bins_center = bins[1:]-(bins[1]-bins[2])/2\n",
    "    ax.plot(bins_center, hist, label = \"wrongly normalized distribution\")\n",
    "    ax.plot(np.linspace(-25,-18), schechter_model(np.linspace(-25,-18)),  label = \"some schechter fit\", color = \"red\")\n",
    "\n",
    "    ax.set_yscale(\"log\")\n",
    "    plt.show()\"\"\""
   ]
  },
  {
   "cell_type": "code",
   "execution_count": 60,
   "metadata": {},
   "outputs": [
    {
     "name": "stdout",
     "output_type": "stream",
     "text": [
      "(877176.5712112696, 0.0017536415515806425)\n",
      "(877176.5712112696, 0.0017536415515806425)\n",
      "1.0\n"
     ]
    }
   ],
   "source": [
    "if modeled_search:\n",
    "    def hist_func(M):\n",
    "        # https://stackoverflow.com/questions/2566412/find-nearest-value-in-numpy-array\n",
    "        # make sure array is a numpy array\n",
    "        # array = np.array(array)\n",
    "        idx = (np.abs(hist - M)).argmin()\n",
    "        val = hist[idx]\n",
    "        #print(f\"val {val}\")\n",
    "        return val\n",
    "\n",
    "    def num_func(M):\n",
    "        #print(f\"M is {M}\")\n",
    "        schechter_val = schechter_model(M)\n",
    "        #print(f\"schechter Val: {schechter_val}\")\n",
    "        lum_factor = 10**(-0.4*M)\n",
    "        #print(f\"lum factor {lum_factor}\")\n",
    "        weighting_coverage = (1-hist_func(M)/(schechter_val))\n",
    "        #print(f\"weighting_coverage: {weighting_coverage}\")\n",
    "        final_val = lum_factor*weighting_coverage*schechter_val\n",
    "        #print(f\"final value: {final_val}\")\n",
    "        return final_val\n",
    "    def denom_func(M):\n",
    "        lum_factor = 10**(-0.4*M)\n",
    "        schechter_val = schechter_model(M)\n",
    "        final_val = lum_factor*schechter_val\n",
    "\n",
    "        return final_val\n",
    "\n",
    "\n",
    "\n",
    "\n",
    "    numerator = quad(num_func, -28, -18)\n",
    "    denominator = quad(denom_func, -28, -18)\n",
    "\n",
    "    print(numerator)\n",
    "    print(denominator)\n",
    "\n",
    "    f_missed = numerator[0]/denominator[0]\n",
    "\n",
    "    print(f_missed)"
   ]
  },
  {
   "cell_type": "code",
   "execution_count": 61,
   "metadata": {},
   "outputs": [],
   "source": [
    "data_f = hstack([data_f, Table({\"P_GAL\": P_gal.value})])"
   ]
  },
  {
   "cell_type": "code",
   "execution_count": 62,
   "metadata": {},
   "outputs": [
    {
     "data": {
      "text/html": [
       "<div><i>Table length=1300</i>\n",
       "<table id=\"table139775071827616\" class=\"table-striped table-bordered table-condensed\">\n",
       "<thead><tr><th>TARGETID</th><th>TARGET_RA</th><th>TARGET_DEC</th><th>LASTNIGHT</th><th>Z</th><th>ZERR</th><th>ZWARN</th><th>FLUX_G</th><th>FLUX_R</th><th>FLUX_Z</th><th>SPECTYPE</th><th>BGS_TARGET</th><th>EBV</th><th>SERSIC</th><th>UNIQ</th><th>PROBDENSITY</th><th>DISTMU</th><th>DISTSIGMA</th><th>DISTNORM</th><th>DIST_Z_MEAN</th><th>DIST_Z_ERR</th><th>DIST_Z_COSMO_SIGMA</th><th>MW_TRANSMISSION</th><th>APP_MAG_R</th><th>ABS_MAG_R</th><th>LUM_R</th><th>P_GAL</th></tr></thead>\n",
       "<thead><tr><th></th><th></th><th></th><th></th><th></th><th></th><th></th><th></th><th></th><th></th><th></th><th></th><th></th><th></th><th></th><th></th><th>Mpc</th><th>Mpc</th><th>1 / Mpc2</th><th>Mpc</th><th>Mpc</th><th>Mpc</th><th></th><th></th><th></th><th>W</th><th></th></tr></thead>\n",
       "<thead><tr><th>int64</th><th>float64</th><th>float64</th><th>int64</th><th>float64</th><th>float64</th><th>int64</th><th>float64</th><th>float64</th><th>float64</th><th>str6</th><th>int64</th><th>float64</th><th>float64</th><th>int64</th><th>float64</th><th>float64</th><th>float64</th><th>float64</th><th>float64</th><th>float64</th><th>float64</th><th>float64</th><th>float64</th><th>float64</th><th>float64</th><th>float64</th></tr></thead>\n",
       "<tr><td>39633429481915836</td><td>110.42739650247</td><td>63.8735981328823</td><td>20220209</td><td>0.0979488719431986</td><td>3.37514295824153e-06</td><td>0</td><td>37.9538879394531</td><td>74.4375</td><td>130.063232421875</td><td>GALAXY</td><td>514</td><td>0.0677742585539818</td><td>0.673189997673035</td><td>385966</td><td>0.0007327942223399596</td><td>150.68973823498843</td><td>57.824463440299795</td><td>3.839027333104131e-05</td><td>446.5970835767914</td><td>0.01435417246015495</td><td>41.29886757552001</td><td>0.8729900329940754</td><td>17.673043766319402</td><td>-20.666222961048575</td><td>9.961458892120805e+35</td><td>1.6438370866917547e-09</td></tr>\n",
       "<tr><td>39633429481914784</td><td>110.296144757409</td><td>63.8417462061572</td><td>20221205</td><td>0.115021073057296</td><td>1.08827101885155e-05</td><td>0</td><td>6.07676601409912</td><td>13.4963397979736</td><td>23.4299468994141</td><td>GALAXY</td><td>514</td><td>0.0658892914652824</td><td>1.0</td><td>385966</td><td>0.0007327942223399596</td><td>150.68973823498843</td><td>57.824463440299795</td><td>3.839027333104131e-05</td><td>530.3212466148015</td><td>0.04628343030426359</td><td>49.527170574057955</td><td>0.8762942474295586</td><td>19.531084891843925</td><td>-19.181399796558715</td><td>2.5374277277006396e+35</td><td>2.1155935914015577e-13</td></tr>\n",
       "<tr><td>39633429481915445</td><td>110.375525353536</td><td>63.8632402061289</td><td>20221205</td><td>0.233949249688343</td><td>5.60667502551439e-05</td><td>0</td><td>3.42963218688965</td><td>11.1894807815552</td><td>22.6905651092529</td><td>GALAXY</td><td>265</td><td>0.0671317055821419</td><td>1.671177983284</td><td>385966</td><td>0.0007327942223399596</td><td>150.68973823498843</td><td>57.824463440299795</td><td>3.839027333104131e-05</td><td>1157.7651461655857</td><td>0.2384563183418475</td><td>115.31807737797843</td><td>0.8741149810306155</td><td>19.731896571898318</td><td>-20.67659143309657</td><td>1.0057043669501604e+36</td><td>1.0601585998591622e-28</td></tr>\n",
       "<tr><td>39633429481915164</td><td>110.340722333392</td><td>63.8488131385904</td><td>20220209</td><td>0.218934132122315</td><td>2.10480116421426e-05</td><td>0</td><td>12.4438333511353</td><td>41.8683204650879</td><td>88.5216903686523</td><td>GALAXY</td><td>514</td><td>0.0670086592435837</td><td>1.7513689994812</td><td>385966</td><td>0.0007327942223399596</td><td>150.68973823498843</td><td>57.824463440299795</td><td>3.839027333104131e-05</td><td>1074.4877278374986</td><td>0.08951646420084237</td><td>106.20065701254585</td><td>0.874330569426192</td><td>18.299475308361203</td><td>-21.946853331674447</td><td>3.240224454237481e+36</td><td>4.8042991924645545e-27</td></tr>\n",
       "<tr><td>39633429481915099</td><td>110.333841989819</td><td>63.8137740094244</td><td>20220209</td><td>0.188325778486058</td><td>5.09175232032884e-05</td><td>0</td><td>8.796067237854</td><td>29.5214138031006</td><td>61.389835357666</td><td>GALAXY</td><td>514</td><td>0.067741833627224</td><td>4.0</td><td>385966</td><td>0.0007327942223399596</td><td>150.68973823498843</td><td>57.824463440299795</td><td>3.839027333104131e-05</td><td>908.2520189032776</td><td>0.21655539796191264</td><td>88.33628535894037</td><td>0.8730467661537381</td><td>18.67725088916674</td><td>-21.203961594860463</td><td>1.6346259931999653e+36</td><td>2.6960722269932903e-24</td></tr>\n",
       "<tr><td>39633429481915015</td><td>110.326231265337</td><td>63.8354940545123</td><td>20211021</td><td>0.332507932850666</td><td>6.74088355966851e-06</td><td>0</td><td>5.41409683227539</td><td>15.1248264312744</td><td>29.6490325927734</td><td>GALAXY</td><td>514</td><td>0.06690564006567</td><td>1.0</td><td>385966</td><td>0.0007327942223399596</td><td>150.68973823498843</td><td>57.824463440299795</td><td>3.839027333104131e-05</td><td>1731.030123171363</td><td>0.028668431201778945</td><td>180.84169502075375</td><td>0.8745111093058688</td><td>19.405187328471502</td><td>-21.87707027800546</td><td>3.0385184229735526e+36</td><td>5.19224451504956e-32</td></tr>\n",
       "<tr><td>39633429481914815</td><td>110.299323567878</td><td>63.844229085912</td><td>20211117</td><td>0.115640978661701</td><td>2.1133144622517e-05</td><td>0</td><td>30.3131122589111</td><td>81.0627746582031</td><td>172.135055541992</td><td>GALAXY</td><td>514</td><td>0.0659121870994568</td><td>3.41131544113159</td><td>385966</td><td>0.0007327942223399596</td><td>150.68973823498843</td><td>57.824463440299795</td><td>3.839027333104131e-05</td><td>533.3927458174222</td><td>0.08987853765985512</td><td>49.83171607934856</td><td>0.8762540380617514</td><td>17.584521418586007</td><td>-21.14050729266186</td><td>1.541830667741378e+36</td><td>9.761335053970368e-13</td></tr>\n",
       "<tr><td>39633429481916038</td><td>110.458619549771</td><td>63.8437597764799</td><td>20211021</td><td>0.250862278277709</td><td>6.4939605261167e-05</td><td>0</td><td>4.80320453643799</td><td>17.2017097473145</td><td>34.7261848449707</td><td>GALAXY</td><td>514</td><td>0.0682858750224113</td><td>4.0</td><td>385966</td><td>0.0007327942223399596</td><td>150.68973823498843</td><td>57.824463440299795</td><td>3.839027333104131e-05</td><td>1252.8974223412451</td><td>0.2761951417116809</td><td>125.86498220325569</td><td>0.8720953571010084</td><td>19.262480897618232</td><td>-21.31755111582195</td><td>1.8149063034122564e+36</td><td>1.6511129996947406e-29</td></tr>\n",
       "<tr><td>39633429481916250</td><td>110.489251871342</td><td>63.8417869833066</td><td>20221205</td><td>0.220421623377366</td><td>6.04476166415522e-06</td><td>0</td><td>5.48152828216553</td><td>11.9513120651245</td><td>19.7527351379395</td><td>GALAXY</td><td>257</td><td>0.068164549767971</td><td>1.0</td><td>385966</td><td>0.0007327942223399596</td><td>150.68973823498843</td><td>57.824463440299795</td><td>3.839027333104131e-05</td><td>1082.6875764717176</td><td>0.025707867562573754</td><td>107.09352446675064</td><td>0.8723074384894927</td><td>19.65813497328037</td><td>-20.60470864377369</td><td>9.412765086760323e+35</td><td>1.0511697948348804e-27</td></tr>\n",
       "<tr><td>...</td><td>...</td><td>...</td><td>...</td><td>...</td><td>...</td><td>...</td><td>...</td><td>...</td><td>...</td><td>...</td><td>...</td><td>...</td><td>...</td><td>...</td><td>...</td><td>...</td><td>...</td><td>...</td><td>...</td><td>...</td><td>...</td><td>...</td><td>...</td><td>...</td><td>...</td><td>...</td></tr>\n",
       "<tr><td>39633426759814359</td><td>107.94940991831</td><td>63.6023700221151</td><td>20211021</td><td>0.438421300323138</td><td>8.1483200456259e-05</td><td>0</td><td>2.37475538253784</td><td>9.19672679901123</td><td>22.5723762512207</td><td>GALAXY</td><td>265</td><td>0.062323659658432</td><td>1.7671719789505</td><td>96790</td><td>0.0006250125158475294</td><td>149.3033049375056</td><td>57.516043844177965</td><td>3.906753146601501e-05</td><td>2394.1333743971195</td><td>0.34656121041960775</td><td>261.828283821946</td><td>0.8825787906015887</td><td>19.955300503128612</td><td>-22.03142273177717</td><td>3.5026992985327835e+36</td><td>1.559723140555133e-32</td></tr>\n",
       "<tr><td>39633426759814321</td><td>107.945985796011</td><td>63.5440201073191</td><td>20211117</td><td>0.220258132765373</td><td>6.54253996914606e-05</td><td>0</td><td>4.55363464355469</td><td>16.7924213409424</td><td>34.589485168457</td><td>GALAXY</td><td>514</td><td>0.0616434849798679</td><td>4.0</td><td>96790</td><td>0.0006250125158475294</td><td>149.3033049375056</td><td>57.516043844177965</td><td>3.906753146601501e-05</td><td>1081.7857863047077</td><td>0.27826138094764896</td><td>106.99527750505476</td><td>0.8837827298242276</td><td>19.303080470050443</td><td>-20.95795302069013</td><td>1.3032117018586062e+36</td><td>9.344367275470646e-28</td></tr>\n",
       "<tr><td>39633426759814302</td><td>107.943678663087</td><td>63.5522510217613</td><td>20220209</td><td>0.157587184442386</td><td>9.08027095586606e-06</td><td>0</td><td>18.3328456878662</td><td>42.3710479736328</td><td>77.7675170898438</td><td>GALAXY</td><td>514</td><td>0.0614397898316383</td><td>2.39940047264099</td><td>96790</td><td>0.0006250125158475294</td><td>149.3033049375056</td><td>57.516043844177965</td><td>3.906753146601501e-05</td><td>746.2209189692888</td><td>0.03861772505165367</td><td>71.37712077858149</td><td>0.8841435986925177</td><td>18.29863400320909</td><td>-21.155729131601053</td><td>1.563599112733856e+36</td><td>2.2257306010968798e-20</td></tr>\n",
       "<tr><td>39633426759814283</td><td>107.94062536257</td><td>63.5726974984809</td><td>20220209</td><td>0.218429531910119</td><td>0.000138916562427029</td><td>0</td><td>2.38311982154846</td><td>8.53662872314453</td><td>18.5104579925537</td><td>GALAXY</td><td>265</td><td>0.0615065470337868</td><td>1.0</td><td>96790</td><td>0.0006250125158475294</td><td>149.3033049375056</td><td>57.516043844177965</td><td>3.906753146601501e-05</td><td>1071.7086215526544</td><td>0.5908604667480424</td><td>105.89828895209224</td><td>0.8840253145700361</td><td>20.03794577014128</td><td>-20.202756979718036</td><td>6.500347208023551e+35</td><td>6.604600625201371e-28</td></tr>\n",
       "<tr><td>39633426759814254</td><td>107.937019431423</td><td>63.6145756204481</td><td>20211117</td><td>0.218120302146384</td><td>4.3731372947926e-05</td><td>0</td><td>13.1703453063965</td><td>48.4438972473145</td><td>102.759269714355</td><td>GALAXY</td><td>514</td><td>0.061959832906723</td><td>4.0</td><td>96790</td><td>0.0006250125158475294</td><td>149.3033049375056</td><td>57.516043844177965</td><td>3.906753146601501e-05</td><td>1070.0061575886805</td><td>0.1859912333487946</td><td>105.71312120263457</td><td>0.8832225758686928</td><td>18.15207771786543</td><td>-22.085171435360927</td><td>3.680461989255585e+36</td><td>3.96374859782783e-27</td></tr>\n",
       "<tr><td>39633426759814167</td><td>107.928437290886</td><td>63.5279524248134</td><td>20221205</td><td>0.217972389895078</td><td>4.08755428911619e-05</td><td>0</td><td>37.2716369628906</td><td>137.425582885742</td><td>289.406036376953</td><td>GALAXY</td><td>514</td><td>0.0612924918532372</td><td>4.0</td><td>96790</td><td>0.0006250125158475294</td><td>149.3033049375056</td><td>57.516043844177965</td><td>3.906753146601501e-05</td><td>1069.191996694119</td><td>0.17384489796377656</td><td>105.62458577400048</td><td>0.8844046454301113</td><td>17.021458568511516</td><td>-23.21413704577161</td><td>1.0410907336068762e+37</td><td>1.1536598297479144e-26</td></tr>\n",
       "<tr><td>39633426759814041</td><td>107.912206544848</td><td>63.5698020354408</td><td>20221205</td><td>0.217606752073378</td><td>7.91213476093024e-06</td><td>0</td><td>6.14778661727905</td><td>11.8524208068848</td><td>17.5544509887695</td><td>GALAXY</td><td>257</td><td>0.0605268590152264</td><td>1.0</td><td>96790</td><td>0.0006250125158475294</td><td>149.3033049375056</td><td>57.516043844177965</td><td>3.906753146601501e-05</td><td>1067.1798695195341</td><td>0.03364969765570075</td><td>105.40582384947345</td><td>0.8857627693060943</td><td>19.68377589923437</td><td>-20.547727731876755</td><td>8.931509313442796e+35</td><td>1.0621621389204379e-27</td></tr>\n",
       "<tr><td>39633426759813984</td><td>107.906084035061</td><td>63.5590368567832</td><td>20211021</td><td>0.132967779906749</td><td>7.2558214408827e-06</td><td>0</td><td>19.425760269165</td><td>34.6607093811035</td><td>48.8893089294434</td><td>GALAXY</td><td>514</td><td>0.0603871308267117</td><td>1.0</td><td>96790</td><td>0.0006250125158475294</td><td>149.3033049375056</td><td>57.516043844177965</td><td>3.906753146601501e-05</td><td>620.1215459554</td><td>0.0308584323815427</td><td>58.50748205700964</td><td>0.8860108522077123</td><td>18.519003986001103</td><td>-20.533272578036765</td><td>8.813386051809445e+35</td><td>1.8214000812297436e-16</td></tr>\n",
       "<tr><td>39633426764009484</td><td>108.644964650563</td><td>63.3889813690527</td><td>20220209</td><td>0.235713835001031</td><td>1.27349143342215e-05</td><td>0</td><td>38.4726676940918</td><td>110.964431762695</td><td>216.679550170898</td><td>GALAXY</td><td>514</td><td>0.0747391656041145</td><td>6.0</td><td>96790</td><td>0.0006250125158475294</td><td>149.3033049375056</td><td>57.516043844177965</td><td>3.906753146601501e-05</td><td>1167.6252611033724</td><td>0.05416080580050449</td><td>116.40478082995773</td><td>0.8608887454725251</td><td>17.224408091845742</td><td>-23.20250232415133</td><td>1.0299939941003881e+37</td><td>5.205101716953828e-28</td></tr>\n",
       "<tr><td>39633426768199768</td><td>108.678373125064</td><td>63.4229584993315</td><td>20211117</td><td>0.159334369255105</td><td>3.60712831879329e-05</td><td>0</td><td>11.088191986084</td><td>27.4410552978516</td><td>51.0199890136719</td><td>GALAXY</td><td>514</td><td>0.0773148089647293</td><td>1.0</td><td>96790</td><td>0.0006250125158475294</td><td>149.3033049375056</td><td>57.516043844177965</td><td>3.906753146601501e-05</td><td>755.295616074329</td><td>0.15341167632023112</td><td>72.31460475807171</td><td>0.8564562643845398</td><td>18.73576095325711</td><td>-20.744859051628293</td><td>1.070970191806272e+36</td><td>8.222472029641051e-21</td></tr>\n",
       "</table></div>"
      ],
      "text/plain": [
       "<Table length=1300>\n",
       "     TARGETID        TARGET_RA     ...         P_GAL         \n",
       "                                   ...                       \n",
       "      int64           float64      ...        float64        \n",
       "----------------- ---------------- ... ----------------------\n",
       "39633429481915836  110.42739650247 ... 1.6438370866917547e-09\n",
       "39633429481914784 110.296144757409 ... 2.1155935914015577e-13\n",
       "39633429481915445 110.375525353536 ... 1.0601585998591622e-28\n",
       "39633429481915164 110.340722333392 ... 4.8042991924645545e-27\n",
       "39633429481915099 110.333841989819 ... 2.6960722269932903e-24\n",
       "39633429481915015 110.326231265337 ...   5.19224451504956e-32\n",
       "39633429481914815 110.299323567878 ...  9.761335053970368e-13\n",
       "39633429481916038 110.458619549771 ... 1.6511129996947406e-29\n",
       "39633429481916250 110.489251871342 ... 1.0511697948348804e-27\n",
       "              ...              ... ...                    ...\n",
       "39633426759814359  107.94940991831 ...  1.559723140555133e-32\n",
       "39633426759814321 107.945985796011 ...  9.344367275470646e-28\n",
       "39633426759814302 107.943678663087 ... 2.2257306010968798e-20\n",
       "39633426759814283  107.94062536257 ...  6.604600625201371e-28\n",
       "39633426759814254 107.937019431423 ...   3.96374859782783e-27\n",
       "39633426759814167 107.928437290886 ... 1.1536598297479144e-26\n",
       "39633426759814041 107.912206544848 ... 1.0621621389204379e-27\n",
       "39633426759813984 107.906084035061 ... 1.8214000812297436e-16\n",
       "39633426764009484 108.644964650563 ...  5.205101716953828e-28\n",
       "39633426768199768 108.678373125064 ...  8.222472029641051e-21"
      ]
     },
     "execution_count": 62,
     "metadata": {},
     "output_type": "execute_result"
    }
   ],
   "source": [
    "data_f[:]"
   ]
  },
  {
   "cell_type": "markdown",
   "metadata": {
    "tags": []
   },
   "source": [
    "## Analyse the data: How much luminosity do we cover? Which galaxies should we observe?\n",
    "\n",
    "Lets look into what information we can retrieve from here. First we define, how many galaxies we could observe (N_galaxies).\n",
    "\n",
    "We then calculate the luminosity (lum) from all the galaxies in this area, i.e. the total luminosity. From there do some comparison between the covered luminosity and total luminosity depending on the ranking by probability:\n",
    "- simple \"Maximum lum that could be covered\" by looking at the brightest galaxies\n",
    "- Calculate the probability this way (done above) (from https://arxiv.org/pdf/1710.05452.pdf w/o normalization), both using a static and variable distance and error: $$P_{gal} = k^{-1}L_r(1-f_{missed})\\cdot P_{2D}\\frac{e^{-\\frac{\\left(D_{LVC}-D_{desi}\\right)^2}{\\sigma_{D,desi}^2+\\sigma_{D,cosmo}^2+\\sigma_{D,LVC}^2}}}{\\sqrt{2\\pi \\left(\\sigma_{D,desi}^2+\\sigma_{D,cosmo}^2+\\sigma_{D,LVC}^2\\right)}}$$\n",
    "- others may follow...\n",
    "\n",
    "Since we have the actual luminosity (here in r-band though), we don't need to again calculate the $$\\tilde{L}_{gal}$$ values. In the mentioned paper, they only use a fixed distance and error for the LIGO data. I will try both, to get an idea what the differences are."
   ]
  },
  {
   "cell_type": "code",
   "execution_count": 84,
   "metadata": {},
   "outputs": [],
   "source": [
    "N_galaxies = 20 # how many galaxies we can cover"
   ]
  },
  {
   "cell_type": "code",
   "execution_count": 85,
   "metadata": {},
   "outputs": [],
   "source": [
    "total_lum = np.sum(data_f[\"LUM_R\"])"
   ]
  },
  {
   "cell_type": "markdown",
   "metadata": {
    "tags": []
   },
   "source": [
    "### Compare lum with luminosity ranking\n",
    "\n",
    "https://iopscience.iop.org/article/10.3847/0067-0049/226/1/10"
   ]
  },
  {
   "cell_type": "code",
   "execution_count": 86,
   "metadata": {},
   "outputs": [],
   "source": [
    "data_sort_by_lums = data_f.group_by(\"LUM_R\")\n",
    "data_sort_by_lums = data_sort_by_lums[::-1]"
   ]
  },
  {
   "cell_type": "code",
   "execution_count": 87,
   "metadata": {},
   "outputs": [],
   "source": [
    "lum_after_N_highest = np.sum(data_sort_by_lums[\"LUM_R\"][:N_galaxies])"
   ]
  },
  {
   "cell_type": "code",
   "execution_count": 88,
   "metadata": {},
   "outputs": [
    {
     "name": "stdout",
     "output_type": "stream",
     "text": [
      "The theoretical maximum luminosity we could cover is 1.9180005799776483e+39, i.e. 39.327927887959326 % of the total luminosity\n",
      "The TARGETID values of these galaxies are: \n",
      "      TARGETID    \n",
      "-----------------\n",
      "39633426772396396\n",
      "39633429469334089\n",
      "39633429481915344\n",
      "39633432145299277\n",
      "39633429477722564\n",
      "39633424050291802\n",
      "39633426776588441\n",
      "39633426776588419\n",
      "39633426768202064\n",
      "39633434817071133\n",
      "39633429477723253\n",
      "39633424050292773\n",
      "39633426776591377\n",
      "39633426776592641\n",
      "39633424046100112\n",
      "39633432149494879\n",
      "39633432149494419\n",
      "39633432149494593\n",
      "39633432153688463\n",
      "39633426772398100\n"
     ]
    }
   ],
   "source": [
    "print(f\"The theoretical maximum luminosity we could cover is {lum_after_N_highest}, i.e. {lum_after_N_highest*100/total_lum} % of the total luminosity\")\n",
    "print(\"The TARGETID values of these galaxies are: \\n\", data_sort_by_lums[\"TARGETID\"][:N_galaxies])"
   ]
  },
  {
   "cell_type": "markdown",
   "metadata": {
    "tags": []
   },
   "source": [
    "### Compare lum with P_Gal ranking"
   ]
  },
  {
   "cell_type": "code",
   "execution_count": 89,
   "metadata": {},
   "outputs": [],
   "source": [
    "data_sort_by_PGal = data_f.group_by(\"P_GAL\")\n",
    "data_sort_by_PGal = data_sort_by_PGal[::-1]\n",
    "\n",
    "lum_after_N_PGal = np.sum(data_sort_by_PGal[\"LUM_R\"][:N_galaxies])"
   ]
  },
  {
   "cell_type": "code",
   "execution_count": 90,
   "metadata": {},
   "outputs": [
    {
     "name": "stdout",
     "output_type": "stream",
     "text": [
      "The luminosity we cover when observing 20 galaxies ranked by P_gal is 1.8660544076582217e+37W, i.e. 0.3826278987895115% of the total (DESI) luminosity in the search area\n",
      "The TARGETID values of these galaxies are: \n",
      "    TARGET_RA        TARGET_DEC    ...      TARGETID             P_GAL        \n",
      "---------------- ---------------- ... ----------------- ---------------------\n",
      "109.679989646446 63.1859641956687 ... 39633424046099433   0.31003527450473684\n",
      "110.293783220425 63.6778914381844 ... 39633429481914765   0.19123685046717395\n",
      "110.314138321524 63.6504317896136 ... 39633429481914934   0.14981853297561304\n",
      "108.194045155888 63.3413568832094 ... 39633424033518029   0.09448199856519199\n",
      "108.121785292373 63.3910844316621 ... 39633426764005478   0.05359341509678799\n",
      "109.122728489108 63.2971898203781 ... 39633424041905194   0.02532878691969397\n",
      "108.533591232646 63.6350800162167 ... 39633429465141214  0.021852249476128387\n",
      "110.304538646762 63.6359746825553 ... 39633429481914857  0.017025852166143923\n",
      "110.412228424205 63.6944294708043 ... 39633429481915719   0.01252694978092782\n",
      "109.202488045324 64.1263620578615 ... 39633434812875302   0.01242029394205031\n",
      "109.469151435058 63.4856096760743 ... 39633426772396229  0.012079707593153625\n",
      "109.308914958381 63.1691357450405 ... 39633424041906900  0.010657970370490082\n",
      "108.352995452704 63.3106751020939 ... 39633424037708917  0.010531878436809129\n",
      "108.801996373743 63.2128510109373 ... 39633424041902374   0.00878393273017744\n",
      " 110.27324581119 63.7230152076306 ... 39633429481914593  0.008580711590780079\n",
      "109.680388934741 63.1136735796085 ... 39633421294635012  0.008448171886639039\n",
      "110.286470639664 63.6776650996731 ... 39633429481914716  0.007483052455124387\n",
      "109.152821735138 63.5606394225006 ... 39633426768203195  0.005969556830486709\n",
      "109.125127153735 63.2959269258328 ... 39633424041905212 0.0047364931872434105\n",
      "108.927935559366  64.244484138259 ... 39633434808683268  0.003117721625380456\n"
     ]
    }
   ],
   "source": [
    "print(f\"The luminosity we cover when observing {N_galaxies} galaxies ranked by P_gal is {lum_after_N_PGal}W, i.e. {lum_after_N_PGal*100/total_lum}% of the total (DESI) luminosity in the search area\") \n",
    "print(\"The TARGETID values of these galaxies are: \\n\", data_sort_by_PGal[\"TARGET_RA\", \"TARGET_DEC\", \"SERSIC\", \"TARGETID\", \"P_GAL\"][:N_galaxies])\n"
   ]
  },
  {
   "cell_type": "code",
   "execution_count": 91,
   "metadata": {},
   "outputs": [
    {
     "data": {
      "text/html": [
       "<div><i>Table length=20</i>\n",
       "<table id=\"table139775062836560\" class=\"table-striped table-bordered table-condensed\">\n",
       "<thead><tr><th>TARGET_RA</th><th>TARGET_DEC</th><th>SERSIC</th><th>TARGETID</th><th>P_GAL</th></tr></thead>\n",
       "<thead><tr><th>float64</th><th>float64</th><th>float64</th><th>int64</th><th>float64</th></tr></thead>\n",
       "<tr><td>109.679989646446</td><td>63.1859641956687</td><td>3.46704173088074</td><td>39633424046099433</td><td>0.31003527450473684</td></tr>\n",
       "<tr><td>110.293783220425</td><td>63.6778914381844</td><td>2.24766325950623</td><td>39633429481914765</td><td>0.19123685046717395</td></tr>\n",
       "<tr><td>110.314138321524</td><td>63.6504317896136</td><td>4.0</td><td>39633429481914934</td><td>0.14981853297561304</td></tr>\n",
       "<tr><td>108.194045155888</td><td>63.3413568832094</td><td>1.75820446014404</td><td>39633424033518029</td><td>0.09448199856519199</td></tr>\n",
       "<tr><td>108.121785292373</td><td>63.3910844316621</td><td>0.541843414306641</td><td>39633426764005478</td><td>0.05359341509678799</td></tr>\n",
       "<tr><td>109.122728489108</td><td>63.2971898203781</td><td>1.68510389328003</td><td>39633424041905194</td><td>0.02532878691969397</td></tr>\n",
       "<tr><td>108.533591232646</td><td>63.6350800162167</td><td>1.12482023239136</td><td>39633429465141214</td><td>0.021852249476128387</td></tr>\n",
       "<tr><td>110.304538646762</td><td>63.6359746825553</td><td>4.0</td><td>39633429481914857</td><td>0.017025852166143923</td></tr>\n",
       "<tr><td>110.412228424205</td><td>63.6944294708043</td><td>1.32257449626923</td><td>39633429481915719</td><td>0.01252694978092782</td></tr>\n",
       "<tr><td>109.202488045324</td><td>64.1263620578615</td><td>1.25113642215729</td><td>39633434812875302</td><td>0.01242029394205031</td></tr>\n",
       "<tr><td>109.469151435058</td><td>63.4856096760743</td><td>3.2441463470459</td><td>39633426772396229</td><td>0.012079707593153625</td></tr>\n",
       "<tr><td>109.308914958381</td><td>63.1691357450405</td><td>0.902098059654236</td><td>39633424041906900</td><td>0.010657970370490082</td></tr>\n",
       "<tr><td>108.352995452704</td><td>63.3106751020939</td><td>1.11923325061798</td><td>39633424037708917</td><td>0.010531878436809129</td></tr>\n",
       "<tr><td>108.801996373743</td><td>63.2128510109373</td><td>1.74688184261322</td><td>39633424041902374</td><td>0.00878393273017744</td></tr>\n",
       "<tr><td>110.27324581119</td><td>63.7230152076306</td><td>0.5253586769104</td><td>39633429481914593</td><td>0.008580711590780079</td></tr>\n",
       "<tr><td>109.680388934741</td><td>63.1136735796085</td><td>1.05043387413025</td><td>39633421294635012</td><td>0.008448171886639039</td></tr>\n",
       "<tr><td>110.286470639664</td><td>63.6776650996731</td><td>0.5</td><td>39633429481914716</td><td>0.007483052455124387</td></tr>\n",
       "<tr><td>109.152821735138</td><td>63.5606394225006</td><td>1.10913634300232</td><td>39633426768203195</td><td>0.005969556830486709</td></tr>\n",
       "<tr><td>109.125127153735</td><td>63.2959269258328</td><td>1.78769540786743</td><td>39633424041905212</td><td>0.0047364931872434105</td></tr>\n",
       "<tr><td>108.927935559366</td><td>64.244484138259</td><td>1.0</td><td>39633434808683268</td><td>0.003117721625380456</td></tr>\n",
       "</table></div>"
      ],
      "text/plain": [
       "<Table length=20>\n",
       "   TARGET_RA        TARGET_DEC    ...      TARGETID             P_GAL        \n",
       "    float64          float64      ...       int64              float64       \n",
       "---------------- ---------------- ... ----------------- ---------------------\n",
       "109.679989646446 63.1859641956687 ... 39633424046099433   0.31003527450473684\n",
       "110.293783220425 63.6778914381844 ... 39633429481914765   0.19123685046717395\n",
       "110.314138321524 63.6504317896136 ... 39633429481914934   0.14981853297561304\n",
       "108.194045155888 63.3413568832094 ... 39633424033518029   0.09448199856519199\n",
       "108.121785292373 63.3910844316621 ... 39633426764005478   0.05359341509678799\n",
       "109.122728489108 63.2971898203781 ... 39633424041905194   0.02532878691969397\n",
       "108.533591232646 63.6350800162167 ... 39633429465141214  0.021852249476128387\n",
       "110.304538646762 63.6359746825553 ... 39633429481914857  0.017025852166143923\n",
       "110.412228424205 63.6944294708043 ... 39633429481915719   0.01252694978092782\n",
       "109.202488045324 64.1263620578615 ... 39633434812875302   0.01242029394205031\n",
       "109.469151435058 63.4856096760743 ... 39633426772396229  0.012079707593153625\n",
       "109.308914958381 63.1691357450405 ... 39633424041906900  0.010657970370490082\n",
       "108.352995452704 63.3106751020939 ... 39633424037708917  0.010531878436809129\n",
       "108.801996373743 63.2128510109373 ... 39633424041902374   0.00878393273017744\n",
       " 110.27324581119 63.7230152076306 ... 39633429481914593  0.008580711590780079\n",
       "109.680388934741 63.1136735796085 ... 39633421294635012  0.008448171886639039\n",
       "110.286470639664 63.6776650996731 ... 39633429481914716  0.007483052455124387\n",
       "109.152821735138 63.5606394225006 ... 39633426768203195  0.005969556830486709\n",
       "109.125127153735 63.2959269258328 ... 39633424041905212 0.0047364931872434105\n",
       "108.927935559366  64.244484138259 ... 39633434808683268  0.003117721625380456"
      ]
     },
     "execution_count": 91,
     "metadata": {},
     "output_type": "execute_result"
    }
   ],
   "source": [
    "data_sort_by_PGal[\"TARGET_RA\", \"TARGET_DEC\", \"SERSIC\", \"TARGETID\", \"P_GAL\"][:20]"
   ]
  },
  {
   "cell_type": "code",
   "execution_count": 92,
   "metadata": {},
   "outputs": [],
   "source": [
    "P_Gal_cumsum = np.cumsum(data_sort_by_PGal[\"P_GAL\"])"
   ]
  },
  {
   "cell_type": "code",
   "execution_count": 93,
   "metadata": {},
   "outputs": [
    {
     "data": {
      "image/png": "[encoded data removed]",
      "text/plain": [
       "<Figure size 640x480 with 1 Axes>"
      ]
     },
     "metadata": {},
     "output_type": "display_data"
    }
   ],
   "source": [
    "plt.plot(list(range(len(P_Gal_cumsum))),  P_Gal_cumsum)\n",
    "plt.xscale(\"log\")\n",
    "\n",
    "plt.yscale(\"log\")\n",
    "plt.xlim(1,len(P_Gal_cumsum))\n",
    "plt.savefig(dpi = 100, fname = f\"{superevent_name}PGAL_CUMULATIVE099.png\")\n",
    "plt.show()"
   ]
  },
  {
   "cell_type": "code",
   "execution_count": 94,
   "metadata": {},
   "outputs": [
    {
     "data": {
      "text/plain": [
       "'data_sort_by_PGal_C = data_f.group_by(\"P_GAL_C\")\\ndata_sort_by_PGal_C = data_sort_by_PGal_C[::-1]\\n\\nlum_after_N_PGal_C = np.sum(data_sort_by_PGal_C[\"LUM_R\"][:N_galaxies])'"
      ]
     },
     "execution_count": 94,
     "metadata": {},
     "output_type": "execute_result"
    }
   ],
   "source": [
    "\"\"\"data_sort_by_PGal_C = data_f.group_by(\"P_GAL_C\")\n",
    "data_sort_by_PGal_C = data_sort_by_PGal_C[::-1]\n",
    "\n",
    "lum_after_N_PGal_C = np.sum(data_sort_by_PGal_C[\"LUM_R\"][:N_galaxies])\"\"\""
   ]
  },
  {
   "cell_type": "code",
   "execution_count": 95,
   "metadata": {},
   "outputs": [
    {
     "data": {
      "text/plain": [
       "'print(f\"The maximum luminosity we cover when ranked by P_gal_C is {lum_after_N_PGal_C}, i.e. {lum_after_N_PGal_C*100/total_lum}% of the total luminosity\") \\nprint(\"The TARGETID values of these galaxies are: \\n\", data_sort_by_PGal_C[\"TARGETID\", \"P_GAL\"][:N_galaxies])'"
      ]
     },
     "execution_count": 95,
     "metadata": {},
     "output_type": "execute_result"
    }
   ],
   "source": [
    "\"\"\"print(f\"The maximum luminosity we cover when ranked by P_gal_C is {lum_after_N_PGal_C}, i.e. {lum_after_N_PGal_C*100/total_lum}% of the total luminosity\") \n",
    "print(\"The TARGETID values of these galaxies are: \\n\", data_sort_by_PGal_C[\"TARGETID\", \"P_GAL\"][:N_galaxies])\"\"\""
   ]
  },
  {
   "cell_type": "markdown",
   "metadata": {
    "tags": []
   },
   "source": [
    "## Exclude unobservabe objects from the PGal ranking and export list\n",
    "\n",
    "We want to cut out galaxies that are not observable by Wendelstein. For this we need the date (to calculate alt and az; we do this for three times to check observability) and Wendelstein location."
   ]
  },
  {
   "cell_type": "code",
   "execution_count": 96,
   "metadata": {},
   "outputs": [],
   "source": [
    "# convert DEG:MIN:SEC to deg with decimals...\n",
    "def conv_to_deg(deg, arcmin, arcsec):\n",
    "    return (deg+ arcmin/60+ arcsec/3600)*u.deg"
   ]
  },
  {
   "cell_type": "markdown",
   "metadata": {
    "tags": []
   },
   "source": [
    "### Get the observable objects (i.e. alt > 0) in the next night and apply that selection to our data"
   ]
  },
  {
   "cell_type": "code",
   "execution_count": 97,
   "metadata": {},
   "outputs": [
    {
     "name": "stderr",
     "output_type": "stream",
     "text": [
      "/tmp/ipykernel_2090118/3580540673.py:18: DeprecationWarning: parsing timezone aware datetimes is deprecated; this will raise an error in the future\n",
      "  t = np.arange(sunset_time, sunrise_time, timedelta(minutes=45)).astype(datetime)              # this may throw a deprecation warning, but seems fine anyway: https://github.com/numpy/numpy/issues/23904\n"
     ]
    }
   ],
   "source": [
    "# set the timzone\n",
    "timezone = \"Europe/Berlin\"\n",
    "tz_Berlin = pytz.timezone(timezone)\n",
    "\n",
    "# get the date (and actually time, but that it useless for us) of today and tomorrow\n",
    "day_Berlin = datetime.now(tz_Berlin)\n",
    "tmrw_Berlin = day_Berlin + timedelta(hours = 23, minutes = 59, seconds = 59)\n",
    "\n",
    "# set the Wendelstein location\n",
    "Wendelstein_loc = EarthLocation(lat = conv_to_deg(47, 42, 13.1), lon = conv_to_deg(12, 0, 43.4), height = 1838*u.m) #check - or + 12\n",
    "\n",
    "# define the sun object, which will tell us sunrise and set\n",
    "sun = SunTimes(Wendelstein_loc.lon.to_value(), Wendelstein_loc.lat.to_value(), Wendelstein_loc.height.to_value())\n",
    "sunset_time = sun.setwhere(day_Berlin, timezone)\n",
    "sunrise_time = sun.risewhere(tmrw_Berlin, timezone)\n",
    "\n",
    "# get a time array that includes the sunset time and from there a 30min interval until sunset\n",
    "t = np.arange(sunset_time, sunrise_time, timedelta(minutes=45)).astype(datetime)              # this may throw a deprecation warning, but seems fine anyway: https://github.com/numpy/numpy/issues/23904\n",
    "\n",
    "# a little cheap but effective: observation at sunset is useless, start 1h after:\n",
    "t = t[2:]"
   ]
  },
  {
   "cell_type": "code",
   "execution_count": 98,
   "metadata": {},
   "outputs": [],
   "source": [
    "# get all the SkyCoords for each objects in the data catalog\n",
    "target_SkyCoord = SkyCoord(data_sort_by_PGal[\"TARGET_RA\"], data_sort_by_PGal[\"TARGET_DEC\"], unit = \"deg\")"
   ]
  },
  {
   "cell_type": "code",
   "execution_count": 99,
   "metadata": {},
   "outputs": [],
   "source": [
    "# get Alt for the different times during the night\n",
    "# t should be an array that consists of a couple of night times, so if *all* of these times don't have a positive alt it will be discarded\n",
    "target_Alt = [target_SkyCoord.transform_to(AltAz(obstime = time, location = Wendelstein_loc)).alt.value for time in t]\n",
    "\n",
    "# now turn it into a numpy array\n",
    "target_Alt = np.array(target_Alt)\n",
    "\n",
    "# swap the axes so that the first axis is all the different targets and the second then includes the alt per observing time\n",
    "target_Alt_swapped = np.swapaxes(target_Alt, 0,1)\n",
    "\n",
    "# now create the selection for each target in the P_Gal catalog\n",
    "sel = []\n",
    "for target in target_Alt_swapped:\n",
    "    sel.append((target > 0).any())\n",
    "    \n",
    "# now apply the selection to the dataset\n",
    "data_sort_by_PGal_observable = data_sort_by_PGal[sel]"
   ]
  },
  {
   "cell_type": "code",
   "execution_count": 100,
   "metadata": {},
   "outputs": [
    {
     "name": "stdout",
     "output_type": "stream",
     "text": [
      "There were 0 non-observable objects in the current dataset. \n",
      "We have 1300 objects remaining\n"
     ]
    }
   ],
   "source": [
    "print(f\"There were {len(data_sort_by_PGal) - len(data_sort_by_PGal_observable)} non-observable objects in the current dataset. \\nWe have {len(data_sort_by_PGal_observable)} objects remaining\")"
   ]
  },
  {
   "cell_type": "markdown",
   "metadata": {
    "tags": []
   },
   "source": [
    "### Export the final list & print some data"
   ]
  },
  {
   "cell_type": "code",
   "execution_count": 101,
   "metadata": {},
   "outputs": [
    {
     "name": "stdout",
     "output_type": "stream",
     "text": [
      "These are the stats for S230619bg follow up :\n"
     ]
    }
   ],
   "source": [
    "print(f\"These are the stats for {superevent_name} follow up :\")"
   ]
  },
  {
   "cell_type": "code",
   "execution_count": 102,
   "metadata": {},
   "outputs": [
    {
     "name": "stdout",
     "output_type": "stream",
     "text": [
      "Localization area: 10343.45488358242 deg2 \n",
      "Redshift range in data: 2.20487824533604e-06 to 1.69612108825866 \n",
      "corresponding lum distance range: 0.009377135933743331 Mpc to 12487.869139484032 Mpc \n",
      "highest prob location is at RA = 114.91416309012875 deg and dec = 46.3750811884355 deg \n",
      "total No. of objects in desi data is 1300\n"
     ]
    }
   ],
   "source": [
    "data_min_z = np.min(data_sort_by_PGal_observable[\"Z\"])\n",
    "data_max_z = np.max(data_sort_by_PGal_observable[\"Z\"])\n",
    "print(f\"Localization area: {area_99.to_value(u.deg**2)*u.deg**2} \\nRedshift range in data: {data_min_z} to {data_max_z} \\ncorresponding lum distance range: {data_min_dist} to {data_max_dist} \\nhighest prob location is at RA = {ra.deg*u.deg} and dec = {dec.deg*u.deg} \\ntotal No. of objects in desi data is {len(data_sort_by_PGal)}\")\n"
   ]
  },
  {
   "cell_type": "code",
   "execution_count": 103,
   "metadata": {},
   "outputs": [],
   "source": [
    "data_sort_by_PGal_observable[\"TARGET_RA\", \"TARGET_DEC\", \"SERSIC\", \"Z\", \"P_GAL\"][:N_galaxies].write(f'PGAL/PGAL_{superevent_name}.ecsv', delimiter=',', format='ascii', overwrite = True)\n"
   ]
  },
  {
   "cell_type": "code",
   "execution_count": 104,
   "metadata": {},
   "outputs": [],
   "source": [
    "# add timing data to table, "
   ]
  }
 ],
 "metadata": {
  "kernelspec": {
   "display_name": "Python (MambaTest)",
   "language": "python",
   "name": "mambatest"
  },
  "language_info": {
   "codemirror_mode": {
    "name": "ipython",
    "version": 3
   },
   "file_extension": ".py",
   "mimetype": "text/x-python",
   "name": "python",
   "nbconvert_exporter": "python",
   "pygments_lexer": "ipython3",
   "version": "3.10.10"
  }
 },
 "nbformat": 4,
 "nbformat_minor": 4
}
