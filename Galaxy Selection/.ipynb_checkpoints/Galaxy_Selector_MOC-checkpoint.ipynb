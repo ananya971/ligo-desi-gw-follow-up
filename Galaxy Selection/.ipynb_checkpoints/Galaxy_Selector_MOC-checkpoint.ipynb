{
 "cells": [
  {
   "cell_type": "markdown",
   "metadata": {},
   "source": [
    "# Galaxy Selector MOC\n",
    "\n",
    "**Compared to the \"Simple Galaxy Selector, this works with Multi-Ordering-Sky-Maps**\n",
    "\n",
    "**ASTROPY_HEALPIX NOT INSTALLED -> DOES NOT WORK ON NERSC**\n",
    "\n",
    "\n",
    "***NOTE (this note may be wrong, just copied from old notebook)***: Before anything can happen, download the GW event localization map. Open the terminal and type:\n",
    "\"curl -O https://gracedb.ligo.org/api/superevents/sid/files/bayestar.fits,0\"\n",
    "with sid = superevent ID (could be incorporated into this notebook)\n",
    "\n",
    "Select the galaxies to observe by WWFI in this simple manner:\n",
    "- get the LIGO event data\n",
    "- read the LIGO event data into the notebook, extract some information\n",
    "- read the DESI database into the notebook, \"clean\" the data\n",
    "- get the 90% credible regions for the event, add them as a column to the data\n",
    "- only keep data within the 90% region\n",
    "- calculate all the luminosities (& more)\n",
    "- rank them by luminosity (for now just print the TARGETID), 3D/2D localization and with a luminosity-distance 2D dependant counterpart likelihood\n",
    "\n",
    "Sources: \n",
    "- https://iopscience.iop.org/article/10.3847/0067-0049/226/1/10\n",
    "- https://emfollow.docs.ligo.org/userguide/tutorial/skymaps.html\n",
    "- https://emfollow.docs.ligo.org/userguide/tutorial/multiorder_skymaps.html\n",
    "- https://arxiv.org/pdf/1710.05452.pdf"
   ]
  },
  {
   "cell_type": "code",
   "execution_count": 1,
   "metadata": {},
   "outputs": [],
   "source": [
    "import numpy as np\n",
    "from scipy.stats import norm\n",
    "import scipy as sc\n",
    "\n",
    "from astropy.io import fits\n",
    "from astropy.table import Table, hstack\n",
    "from astropy import table\n",
    "\n",
    "import healpy as hp\n",
    "import astropy_healpix as ah\n",
    "\n",
    "from astropy.table import QTable\n",
    "\n",
    "import psycopg2\n",
    "\n",
    "from astropy.cosmology import Planck18\n",
    "from astropy.coordinates import Distance\n",
    "from astropy import units as u\n",
    "\n",
    "import astropy.constants as asc\n",
    "\n",
    "import matplotlib.pyplot as plt"
   ]
  },
  {
   "cell_type": "markdown",
   "metadata": {},
   "source": [
    "Specifiy the path where the data is located and then load the data (this loads everything, just have a look)"
   ]
  },
  {
   "cell_type": "code",
   "execution_count": 155,
   "metadata": {},
   "outputs": [
    {
     "data": {
      "text/html": [
       "<div><i>QTable length=5</i>\n",
       "<table id=\"table140169643335184\" class=\"table-striped table-bordered table-condensed\">\n",
       "<thead><tr><th>UNIQ</th><th>PROBDENSITY</th><th>DISTMU</th><th>DISTSIGMA</th><th>DISTNORM</th></tr></thead>\n",
       "<thead><tr><th></th><th>1 / sr</th><th>Mpc</th><th>Mpc</th><th>1 / Mpc2</th></tr></thead>\n",
       "<thead><tr><th>int64</th><th>float64</th><th>float64</th><th>float64</th><th>float64</th></tr></thead>\n",
       "<tr><td>1024</td><td>2.810789289065552e-31</td><td>368.45220053665895</td><td>203.98712615523553</td><td>5.651336738354135e-06</td></tr>\n",
       "<tr><td>1025</td><td>2.2410403428136984e-31</td><td>inf</td><td>1.0</td><td>0.0</td></tr>\n",
       "<tr><td>1026</td><td>2.0339165245847635e-30</td><td>468.54148826812605</td><td>94.01334803516339</td><td>4.378865855578356e-06</td></tr>\n",
       "<tr><td>1027</td><td>1.742573180996848e-31</td><td>-693.5010210710931</td><td>584.6367464295139</td><td>5.9324972315106206e-05</td></tr>\n",
       "<tr><td>1028</td><td>5.0178196630906625e-30</td><td>inf</td><td>1.0</td><td>0.0</td></tr>\n",
       "</table></div>"
      ],
      "text/plain": [
       "<QTable length=5>\n",
       " UNIQ      PROBDENSITY       ...     DISTSIGMA             DISTNORM       \n",
       "              1 / sr         ...        Mpc                1 / Mpc2       \n",
       "int64        float64         ...      float64              float64        \n",
       "----- ---------------------- ... ------------------ ----------------------\n",
       " 1024  2.810789289065552e-31 ... 203.98712615523553  5.651336738354135e-06\n",
       " 1025 2.2410403428136984e-31 ...                1.0                    0.0\n",
       " 1026 2.0339165245847635e-30 ...  94.01334803516339  4.378865855578356e-06\n",
       " 1027  1.742573180996848e-31 ...  584.6367464295139 5.9324972315106206e-05\n",
       " 1028 5.0178196630906625e-30 ...                1.0                    0.0"
      ]
     },
     "execution_count": 155,
     "metadata": {},
     "output_type": "execute_result"
    }
   ],
   "source": [
    "path = \"/global/homes/j/jgassert/Code/data/bayestar.multiorderS200311bg.fits,1\"\n",
    "skymap = QTable.read(path)\n",
    "\n",
    "skymap[:5]"
   ]
  },
  {
   "cell_type": "markdown",
   "metadata": {},
   "source": [
    "### Get basic values from GW event\n",
    "\n",
    "We now extract some basic information  from the healpix data:\n",
    "- ipix_max: pixel with highest likelihood\n",
    "- npix: total number of pixels\n",
    "- ra, dec: ra and dec of the pixel with the highest likelihood\n",
    "\n",
    "Then we open the full fits file and extract some more basic info from the header:\n",
    "- dist_mean: mean distance of the GW event\n",
    "- dist_std: error of the distance"
   ]
  },
  {
   "cell_type": "code",
   "execution_count": 156,
   "metadata": {},
   "outputs": [
    {
     "name": "stdout",
     "output_type": "stream",
     "text": [
      "UNIQ ID of highest prob sky localization:  8635874\n"
     ]
    }
   ],
   "source": [
    "# most probable sky location\n",
    "i = np.argmax(skymap[\"PROBDENSITY\"])\n",
    "uniq = skymap[i][\"UNIQ\"]\n",
    "print(\"UNIQ ID of highest prob sky localization: \", uniq)"
   ]
  },
  {
   "cell_type": "code",
   "execution_count": 157,
   "metadata": {},
   "outputs": [
    {
     "name": "stdout",
     "output_type": "stream",
     "text": [
      "Highest probability at (RA, dec):  1.8896484375000004 -6.955230191010185 with prob [1/deg^2] of:  0.04597608759643093\n"
     ]
    }
   ],
   "source": [
    "# calculate the most probable pixel, convert to RA and dec\n",
    "level_max, ipix_max = ah.uniq_to_level_ipix(uniq)\n",
    "nside = ah.level_to_nside(level_max)\n",
    "ra, dec = ah.healpix_to_lonlat(ipix_max, nside, order = \"nested\")\n",
    "print(\"Highest probability at (RA, dec): \", ra.deg, dec.deg, \"with prob [1/deg^2] of: \", skymap[i]['PROBDENSITY'].to_value(u.deg**-2))"
   ]
  },
  {
   "cell_type": "markdown",
   "metadata": {},
   "source": [
    "Now open the fits file and read basics info from the header"
   ]
  },
  {
   "cell_type": "code",
   "execution_count": 158,
   "metadata": {},
   "outputs": [
    {
     "name": "stdout",
     "output_type": "stream",
     "text": [
      "The dist_mean and dist_std values:  924.038047662503 Mpc 188.4869314505396 Mpc\n"
     ]
    }
   ],
   "source": [
    "fits_gw = fits.open(path)\n",
    "header = fits_gw[1].header\n",
    "dist_mean = header[\"DISTMEAN\"]\n",
    "dist_std = header[\"DISTSTD\"]\n",
    "print(\"The dist_mean and dist_std values: \", dist_mean*u.Mpc, dist_std*u.Mpc)"
   ]
  },
  {
   "cell_type": "markdown",
   "metadata": {},
   "source": [
    "### Get DESI data\n",
    "\n",
    "Establish a connection to the DESI database and load the daily data."
   ]
  },
  {
   "cell_type": "code",
   "execution_count": 6,
   "metadata": {},
   "outputs": [],
   "source": [
    "try:\n",
    "    db = psycopg2.connect(host='decatdb.lbl.gov', database='desidb', user='desi', password = \"5kFibers!\", port=\"5432\")\n",
    "    cursor = db.cursor()\n",
    "except (Exception, psycopg2.Error) as error:\n",
    "    print(error)\n",
    "\n",
    "cursor = db.cursor()"
   ]
  },
  {
   "cell_type": "code",
   "execution_count": 8,
   "metadata": {},
   "outputs": [],
   "source": [
    "redux = 'daily'\n",
    "query = 'SELECT f.targetid,f.target_ra,f.target_dec,c.tileid,c.night,r.z,r.zerr,r.zwarn,r.deltachi2,f.flux_z,f.bgs_target,f.ebv, f.sersic, f.mws_target, c.filename\\n' \\\n",
    "                    f'FROM {redux}.tiles_fibermap f\\n' \\\n",
    "                    f'INNER JOIN {redux}.cumulative_tiles c ON f.cumultile_id=c.id\\n' \\\n",
    "                    f'INNER JOIN {redux}.tiles_redshifts r ON r.cumultile_id=c.id AND r.targetid=f.targetid\\n' \\\n",
    "                    f'WHERE q3c_radial_query( f.target_ra, f.target_dec, {ra.deg}, {dec.deg}, 50);'\n",
    "\n",
    "cursor.execute(query)\n",
    "rows = cursor.fetchall()"
   ]
  },
  {
   "cell_type": "markdown",
   "metadata": {},
   "source": [
    "## Do all the calculations, selections,...\n",
    "\n",
    "- turn the daily DESI data into a Table\n",
    "- do some basic data selection stuff: only keep good + positive redshifts, only positive values of z-band flux and eliminate duplicates (right now simply takes the first entry)\n",
    "- add the ipix (healpix) pixel value for each target\n",
    "- calculate the probability for each target\n",
    "- calculate the probabilities for each object\n",
    "- add these values to the able (\"PROB\"), select only targets within the 90% credible region (i.e. with a certainty of 90% the GW event is inside this region)\n",
    "- calculate the distances and its errors from the redshift, add to the data table\n",
    "- calculate the 3D probability just like here: https://iopscience.iop.org/article/10.3847/0067-0049/226/1/10 (§4) and add these values to the table\n",
    "- sort the table by its 3D probability (descending)\n",
    "- calculate absolute and apparent magnitude, luminosity and add to table\n",
    "\n",
    "The final step is to include the calculation of the most likely host galaxy from https://arxiv.org/pdf/1710.05452.pdf (GW170817); these values are then also added to the table as \"P_GAL\""
   ]
  },
  {
   "cell_type": "code",
   "execution_count": 18,
   "metadata": {},
   "outputs": [
    {
     "data": {
      "text/html": [
       "<div><i>Table length=14991129</i>\n",
       "<table id=\"table140169519182272\" class=\"table-striped table-bordered table-condensed\">\n",
       "<thead><tr><th>TARGETID</th><th>TARGET_RA</th><th>TARGET_DEC</th><th>TILEID</th><th>NIGHT</th><th>Z</th><th>ZERR</th><th>ZWARN</th><th>DELTACHI2</th><th>FLUX_Z</th><th>BGS_TARGET</th><th>EBV</th><th>SERSIC</th><th>MWS_TARGET</th><th>FILENAME</th></tr></thead>\n",
       "<thead><tr><th>int64</th><th>float64</th><th>float64</th><th>int64</th><th>int64</th><th>float64</th><th>float64</th><th>int64</th><th>float64</th><th>float64</th><th>int64</th><th>float64</th><th>float64</th><th>int64</th><th>str71</th></tr></thead>\n",
       "<tr><td>2305843041975433202</td><td>237.139251601027</td><td>-6.16722128539336</td><td>40020</td><td>20230501</td><td>0.000488501923668986</td><td>6.7198750610656e-07</td><td>0</td><td>207215.970368864</td><td>-99.0</td><td>0</td><td>0.159462139010429</td><td>0.0</td><td>1152921504606846976</td><td>daily/tiles/cumulative/40020/20230501/redrock-9-40020-thru20230501.fits</td></tr>\n",
       "<tr><td>2305843041975438825</td><td>237.351657790797</td><td>-5.94973101861982</td><td>40020</td><td>20230501</td><td>2.11552184318834e-05</td><td>3.52892141575608e-07</td><td>0</td><td>886573.461774786</td><td>-99.0</td><td>0</td><td>0.188542142510414</td><td>0.0</td><td>1152921504606846976</td><td>daily/tiles/cumulative/40020/20230501/redrock-9-40020-thru20230501.fits</td></tr>\n",
       "<tr><td>-400209204</td><td>237.201722331555</td><td>-6.07920818086159</td><td>40020</td><td>20230501</td><td>0.00129190278695159</td><td>9.34367337042744e-05</td><td>1</td><td>13.1656401884939</td><td>0.0</td><td>0</td><td>0.160429581999779</td><td>0.0</td><td>0</td><td>daily/tiles/cumulative/40020/20230501/redrock-9-40020-thru20230501.fits</td></tr>\n",
       "<tr><td>-400209218</td><td>237.27435919995</td><td>-6.08513032789981</td><td>40020</td><td>20230501</td><td>1.48812250211619</td><td>0.000184930904625776</td><td>1</td><td>28.405016079545</td><td>0.0</td><td>0</td><td>0.170396596193314</td><td>0.0</td><td>0</td><td>daily/tiles/cumulative/40020/20230501/redrock-9-40020-thru20230501.fits</td></tr>\n",
       "<tr><td>2305843041975432625</td><td>237.182030703466</td><td>-6.30925426080948</td><td>40020</td><td>20230501</td><td>-0.000174688182812153</td><td>4.01365425623457e-06</td><td>0</td><td>5584.83682483853</td><td>-99.0</td><td>0</td><td>0.164259031414986</td><td>0.0</td><td>288230376151711744</td><td>daily/tiles/cumulative/40020/20230501/redrock-9-40020-thru20230501.fits</td></tr>\n",
       "<tr><td>2305843041975435467</td><td>237.242614089092</td><td>-6.09027455473551</td><td>40020</td><td>20230501</td><td>0.000207226016957094</td><td>6.11075181929302e-06</td><td>0</td><td>1537.40508953569</td><td>-99.0</td><td>0</td><td>0.164962008595467</td><td>0.0</td><td>288230376151711744</td><td>daily/tiles/cumulative/40020/20230501/redrock-9-40020-thru20230501.fits</td></tr>\n",
       "<tr><td>2305843041988016046</td><td>237.70574697114</td><td>-5.92466221631669</td><td>40020</td><td>20230501</td><td>-0.000269137994562703</td><td>1.21995786441489e-06</td><td>0</td><td>54062.0109465284</td><td>-99.0</td><td>0</td><td>0.213628515601158</td><td>0.0</td><td>1152921504606846976</td><td>daily/tiles/cumulative/40020/20230501/redrock-9-40020-thru20230501.fits</td></tr>\n",
       "<tr><td>2305843041975402913</td><td>236.962267172561</td><td>-5.63283633588159</td><td>40020</td><td>20230501</td><td>0.000192521901830522</td><td>2.05681943248791e-06</td><td>0</td><td>20297.0332030501</td><td>-99.0</td><td>0</td><td>0.191328108310699</td><td>0.0</td><td>2305843009213693952</td><td>daily/tiles/cumulative/40020/20230501/redrock-9-40020-thru20230501.fits</td></tr>\n",
       "<tr><td>2305843041979612532</td><td>237.721708970586</td><td>-5.97028782087754</td><td>40020</td><td>20230501</td><td>-0.000531061403156393</td><td>1.02161353418203e-06</td><td>0</td><td>75416.411093223</td><td>-99.0</td><td>0</td><td>0.214854791760445</td><td>0.0</td><td>1152921504606846976</td><td>daily/tiles/cumulative/40020/20230501/redrock-9-40020-thru20230501.fits</td></tr>\n",
       "<tr><td>2305843041967019488</td><td>237.73628373707</td><td>-6.45603626344366</td><td>40020</td><td>20230501</td><td>-7.86435631444002e-05</td><td>7.1406999918275e-07</td><td>0</td><td>207439.391855757</td><td>-99.0</td><td>0</td><td>0.160238340497017</td><td>0.0</td><td>1152921504606846976</td><td>daily/tiles/cumulative/40020/20230501/redrock-9-40020-thru20230501.fits</td></tr>\n",
       "<tr><td>...</td><td>...</td><td>...</td><td>...</td><td>...</td><td>...</td><td>...</td><td>...</td><td>...</td><td>...</td><td>...</td><td>...</td><td>...</td><td>...</td><td>...</td></tr>\n",
       "<tr><td>39627914995566487</td><td>210.675330836938</td><td>5.29275027577496</td><td>146</td><td>20210504</td><td>0.729763212969574</td><td>2.54126928491425e-05</td><td>0</td><td>895.745514839888</td><td>2.9082453250885</td><td>0</td><td>0.026181997731328</td><td>1.0</td><td>0</td><td>daily/tiles/cumulative/146/20210504/zbest-7-146-thru20210504.fits</td></tr>\n",
       "<tr><td>39627914995565773</td><td>210.639247817933</td><td>5.20366342765201</td><td>146</td><td>20210504</td><td>1.57432635821704</td><td>0.00011787546982262</td><td>4</td><td>0.766836393624544</td><td>0.901813089847565</td><td>0</td><td>0.0255790464580059</td><td>1.0</td><td>0</td><td>daily/tiles/cumulative/146/20210504/zbest-7-146-thru20210504.fits</td></tr>\n",
       "<tr><td>39627908976739510</td><td>210.900319735537</td><td>4.99915522216207</td><td>146</td><td>20210504</td><td>1.06926521133409</td><td>0.000107815052410438</td><td>4</td><td>1.03410023450851</td><td>1.0098192691803</td><td>0</td><td>0.024555129930377</td><td>1.0</td><td>0</td><td>daily/tiles/cumulative/146/20210504/zbest-7-146-thru20210504.fits</td></tr>\n",
       "<tr><td>39627908976739147</td><td>210.881028401831</td><td>4.98961191626925</td><td>146</td><td>20210504</td><td>0.469525845174001</td><td>6.97700896578169e-05</td><td>4</td><td>3.68658245354891</td><td>0.999013304710388</td><td>0</td><td>0.0244015380740166</td><td>0.0</td><td>0</td><td>daily/tiles/cumulative/146/20210504/zbest-7-146-thru20210504.fits</td></tr>\n",
       "<tr><td>39627908968350406</td><td>210.369791441418</td><td>4.93548410355001</td><td>146</td><td>20210504</td><td>-0.000252943225942716</td><td>3.69802727671845e-06</td><td>0</td><td>29151.237444368</td><td>146.632171630859</td><td>0</td><td>0.0278229247778654</td><td>0.0</td><td>0</td><td>daily/tiles/cumulative/146/20210504/zbest-7-146-thru20210504.fits</td></tr>\n",
       "<tr><td>-739970</td><td>210.541562831849</td><td>5.05056834533198</td><td>146</td><td>20210504</td><td>-0.00199570145091582</td><td>4.13115987161332e-48</td><td>1570</td><td>1.94266889222573e+84</td><td>0.0</td><td>0</td><td>0.0</td><td>0.0</td><td>0</td><td>daily/tiles/cumulative/146/20210504/zbest-7-146-thru20210504.fits</td></tr>\n",
       "<tr><td>-739998</td><td>210.655318998832</td><td>4.98610527582836</td><td>146</td><td>20210504</td><td>-0.00199570145091582</td><td>4.13115987161332e-48</td><td>1570</td><td>1.94266889222573e+84</td><td>0.0</td><td>0</td><td>0.0</td><td>0.0</td><td>0</td><td>daily/tiles/cumulative/146/20210504/zbest-7-146-thru20210504.fits</td></tr>\n",
       "<tr><td>-740031</td><td>210.774305417395</td><td>4.93006196977117</td><td>146</td><td>20210504</td><td>-0.00199570145091582</td><td>4.13115987161332e-48</td><td>1570</td><td>1.94266889222573e+84</td><td>0.0</td><td>0</td><td>0.0</td><td>0.0</td><td>0</td><td>daily/tiles/cumulative/146/20210504/zbest-7-146-thru20210504.fits</td></tr>\n",
       "<tr><td>-740077</td><td>210.900314731062</td><td>5.12621313440946</td><td>146</td><td>20210504</td><td>-0.00199570145091582</td><td>4.13115987161332e-48</td><td>1570</td><td>1.94266889222573e+84</td><td>0.0</td><td>0</td><td>0.0</td><td>0.0</td><td>0</td><td>daily/tiles/cumulative/146/20210504/zbest-7-146-thru20210504.fits</td></tr>\n",
       "<tr><td>-740099</td><td>210.935506086062</td><td>5.42275113439652</td><td>146</td><td>20210504</td><td>-0.00199570145091582</td><td>4.13115987161332e-48</td><td>1570</td><td>1.94266889222573e+84</td><td>0.0</td><td>0</td><td>0.0</td><td>0.0</td><td>0</td><td>daily/tiles/cumulative/146/20210504/zbest-7-146-thru20210504.fits</td></tr>\n",
       "</table></div>"
      ],
      "text/plain": [
       "<Table length=14991129>\n",
       "      TARGETID      ...\n",
       "       int64        ...\n",
       "------------------- ...\n",
       "2305843041975433202 ...\n",
       "2305843041975438825 ...\n",
       "         -400209204 ...\n",
       "         -400209218 ...\n",
       "2305843041975432625 ...\n",
       "2305843041975435467 ...\n",
       "2305843041988016046 ...\n",
       "2305843041975402913 ...\n",
       "2305843041979612532 ...\n",
       "2305843041967019488 ...\n",
       "                ... ...\n",
       "  39627914995566487 ...\n",
       "  39627914995565773 ...\n",
       "  39627908976739510 ...\n",
       "  39627908976739147 ...\n",
       "  39627908968350406 ...\n",
       "            -739970 ...\n",
       "            -739998 ...\n",
       "            -740031 ...\n",
       "            -740077 ...\n",
       "            -740099 ..."
      ]
     },
     "execution_count": 18,
     "metadata": {},
     "output_type": "execute_result"
    }
   ],
   "source": [
    "if rows:\n",
    "    data = Table(list(map(list, zip(*rows))),\n",
    "                             names=['TARGETID', 'TARGET_RA', 'TARGET_DEC', 'TILEID', 'NIGHT', 'Z', 'ZERR', 'ZWARN', 'DELTACHI2', 'FLUX_Z', 'BGS_TARGET', 'EBV', 'SERSIC', 'MWS_TARGET','FILENAME'])\n",
    "data[:5:-1] "
   ]
  },
  {
   "cell_type": "markdown",
   "metadata": {},
   "source": [
    "basic data clean up:"
   ]
  },
  {
   "cell_type": "code",
   "execution_count": 19,
   "metadata": {},
   "outputs": [],
   "source": [
    "data = data[data['ZWARN']==0]\n",
    "data = data[data['Z']>=0]\n",
    "data = data[data['FLUX_Z']>0]\n",
    "data = table.unique(data, keys = \"TARGETID\")"
   ]
  },
  {
   "cell_type": "markdown",
   "metadata": {},
   "source": [
    "calculate the healpix id for every object in the catalog and its probability; then append this data to the Table"
   ]
  },
  {
   "cell_type": "code",
   "execution_count": 159,
   "metadata": {},
   "outputs": [],
   "source": [
    "max_level = 29 # highest possible HEALPix resolution that can be represented in a 64-bit signed integer\n",
    "max_nside = ah.level_to_nside(max_level)\n",
    "level, ipix = ah.uniq_to_level_ipix(skymap[\"UNIQ\"])"
   ]
  },
  {
   "cell_type": "code",
   "execution_count": 160,
   "metadata": {},
   "outputs": [
    {
     "data": {
      "text/plain": [
       "(array([ 4,  4,  4, ..., 10, 10, 10]),\n",
       " 19200,\n",
       " array([      0,       1,       2, ..., 4454033, 4454034, 4454035]),\n",
       " 19200)"
      ]
     },
     "execution_count": 160,
     "metadata": {},
     "output_type": "execute_result"
    }
   ],
   "source": [
    "level, len(level), ipix, len(ipix) "
   ]
  },
  {
   "cell_type": "code",
   "execution_count": 161,
   "metadata": {},
   "outputs": [],
   "source": [
    "index = ipix*(2**(max_level-level))**2"
   ]
  },
  {
   "cell_type": "code",
   "execution_count": 162,
   "metadata": {},
   "outputs": [
    {
     "data": {
      "text/plain": [
       "(array([                  0,    1125899906842624,    2251799813685248, ...,\n",
       "        1224315268499505152, 1224315543377412096, 1224315818255319040]),\n",
       " 19200)"
      ]
     },
     "execution_count": 162,
     "metadata": {},
     "output_type": "execute_result"
    }
   ],
   "source": [
    "index,len(index)"
   ]
  },
  {
   "cell_type": "code",
   "execution_count": 163,
   "metadata": {},
   "outputs": [],
   "source": [
    "sorter = np.argsort(index)"
   ]
  },
  {
   "cell_type": "code",
   "execution_count": 164,
   "metadata": {},
   "outputs": [
    {
     "data": {
      "text/plain": [
       "(array([   0,    1,    2, ..., 2301, 2302, 2303]), 19200)"
      ]
     },
     "execution_count": 164,
     "metadata": {},
     "output_type": "execute_result"
    }
   ],
   "source": [
    "sorter, len(sorter)"
   ]
  },
  {
   "cell_type": "code",
   "execution_count": 165,
   "metadata": {},
   "outputs": [],
   "source": [
    "match_ipix = ah.lonlat_to_healpix(data[\"TARGET_RA\"]*u.deg, data[\"TARGET_DEC\"]*u.deg, max_nside, order='nested')\n"
   ]
  },
  {
   "cell_type": "code",
   "execution_count": 166,
   "metadata": {},
   "outputs": [
    {
     "data": {
      "text/plain": [
       "array([2728622294581067943, 2728621779287900438, 2728621850916985205, ...,\n",
       "        727443823644003449,  727441492111965904,  727441547847715670])"
      ]
     },
     "execution_count": 166,
     "metadata": {},
     "output_type": "execute_result"
    }
   ],
   "source": [
    "match_ipix"
   ]
  },
  {
   "cell_type": "code",
   "execution_count": 167,
   "metadata": {},
   "outputs": [],
   "source": [
    "i = sorter[np.searchsorted(index, match_ipix, side='right', sorter=sorter) - 1]"
   ]
  },
  {
   "cell_type": "code",
   "execution_count": 168,
   "metadata": {},
   "outputs": [
    {
     "data": {
      "text/plain": [
       "(array([1939, 1939, 1939, ...,  645,  645,  645]), 6792308)"
      ]
     },
     "execution_count": 168,
     "metadata": {},
     "output_type": "execute_result"
    }
   ],
   "source": [
    "i, len(i)"
   ]
  },
  {
   "cell_type": "code",
   "execution_count": 169,
   "metadata": {},
   "outputs": [],
   "source": [
    "probs = skymap[i]['PROBDENSITY'].to_value(u.deg**-2)"
   ]
  },
  {
   "cell_type": "code",
   "execution_count": 170,
   "metadata": {},
   "outputs": [
    {
     "data": {
      "text/plain": [
       "(array([5.71064285e-34, 5.71064285e-34, 5.71064285e-34, ...,\n",
       "        7.17220113e-33, 7.17220113e-33, 7.17220113e-33]),\n",
       " 6792308)"
      ]
     },
     "execution_count": 170,
     "metadata": {},
     "output_type": "execute_result"
    }
   ],
   "source": [
    "probs, len(probs)"
   ]
  },
  {
   "cell_type": "code",
   "execution_count": 171,
   "metadata": {},
   "outputs": [
    {
     "data": {
      "text/plain": [
       "6792308"
      ]
     },
     "execution_count": 171,
     "metadata": {},
     "output_type": "execute_result"
    }
   ],
   "source": [
    "len(data)"
   ]
  },
  {
   "cell_type": "code",
   "execution_count": 192,
   "metadata": {},
   "outputs": [],
   "source": [
    "data = data.keep_columns([\"TARGETID\", \"TARGET_RA\", \"TARGET_DEC\", \"TILEID\", \"NIGHT\", \"Z\", \"ZERR\", \"ZWARN\", \"DELTACHI2\", \"FLUX_Z\", \"BGS_TARGET\", \"EBV\", \"SERSIC\", \"MWS_TARGET\", \"FILENAME\"])\n",
    "                          "
   ]
  },
  {
   "cell_type": "code",
   "execution_count": 193,
   "metadata": {},
   "outputs": [
    {
     "ename": "TypeError",
     "evalue": "len() of unsized object",
     "output_type": "error",
     "traceback": [
      "\u001b[0;31m---------------------------------------------------------------------------\u001b[0m",
      "\u001b[0;31mTypeError\u001b[0m                                 Traceback (most recent call last)",
      "Cell \u001b[0;32mIn[193], line 1\u001b[0m\n\u001b[0;32m----> 1\u001b[0m data \u001b[38;5;241m=\u001b[39m hstack([data, \u001b[43mTable\u001b[49m\u001b[43m(\u001b[49m\u001b[43m{\u001b[49m\u001b[38;5;124;43m\"\u001b[39;49m\u001b[38;5;124;43mUNIQ_PIX_ID\u001b[39;49m\u001b[38;5;124;43m\"\u001b[39;49m\u001b[43m:\u001b[49m\u001b[43m \u001b[49m\u001b[43mi\u001b[49m\u001b[43m}\u001b[49m\u001b[43m)\u001b[49m, Table({\u001b[38;5;124m\"\u001b[39m\u001b[38;5;124mPROB\u001b[39m\u001b[38;5;124m\"\u001b[39m: probs})])\n",
      "File \u001b[0;32m~/.conda/envs/MambaTest/lib/python3.10/site-packages/astropy/table/table.py:875\u001b[0m, in \u001b[0;36mTable.__init__\u001b[0;34m(self, data, masked, names, dtype, meta, copy, rows, copy_indices, units, descriptions, **kwargs)\u001b[0m\n\u001b[1;32m    872\u001b[0m \u001b[38;5;28mself\u001b[39m\u001b[38;5;241m.\u001b[39m_check_names_dtype(names, dtype, n_cols)\n\u001b[1;32m    874\u001b[0m \u001b[38;5;66;03m# Finally do the real initialization\u001b[39;00m\n\u001b[0;32m--> 875\u001b[0m \u001b[43minit_func\u001b[49m\u001b[43m(\u001b[49m\u001b[43mdata\u001b[49m\u001b[43m,\u001b[49m\u001b[43m \u001b[49m\u001b[43mnames\u001b[49m\u001b[43m,\u001b[49m\u001b[43m \u001b[49m\u001b[43mdtype\u001b[49m\u001b[43m,\u001b[49m\u001b[43m \u001b[49m\u001b[43mn_cols\u001b[49m\u001b[43m,\u001b[49m\u001b[43m \u001b[49m\u001b[43mcopy\u001b[49m\u001b[43m)\u001b[49m\n\u001b[1;32m    877\u001b[0m \u001b[38;5;66;03m# Set table meta.  If copy=True then deepcopy meta otherwise use the\u001b[39;00m\n\u001b[1;32m    878\u001b[0m \u001b[38;5;66;03m# user-supplied meta directly.\u001b[39;00m\n\u001b[1;32m    879\u001b[0m \u001b[38;5;28;01mif\u001b[39;00m meta \u001b[38;5;129;01mis\u001b[39;00m \u001b[38;5;129;01mnot\u001b[39;00m \u001b[38;5;28;01mNone\u001b[39;00m:\n",
      "File \u001b[0;32m~/.conda/envs/MambaTest/lib/python3.10/site-packages/astropy/table/table.py:1425\u001b[0m, in \u001b[0;36mTable._init_from_dict\u001b[0;34m(self, data, names, dtype, n_cols, copy)\u001b[0m\n\u001b[1;32m   1422\u001b[0m \u001b[38;5;250m\u001b[39m\u001b[38;5;124;03m\"\"\"Initialize table from a dictionary of columns\"\"\"\u001b[39;00m\n\u001b[1;32m   1424\u001b[0m data_list \u001b[38;5;241m=\u001b[39m [data[name] \u001b[38;5;28;01mfor\u001b[39;00m name \u001b[38;5;129;01min\u001b[39;00m names]\n\u001b[0;32m-> 1425\u001b[0m \u001b[38;5;28;43mself\u001b[39;49m\u001b[38;5;241;43m.\u001b[39;49m\u001b[43m_init_from_list\u001b[49m\u001b[43m(\u001b[49m\u001b[43mdata_list\u001b[49m\u001b[43m,\u001b[49m\u001b[43m \u001b[49m\u001b[43mnames\u001b[49m\u001b[43m,\u001b[49m\u001b[43m \u001b[49m\u001b[43mdtype\u001b[49m\u001b[43m,\u001b[49m\u001b[43m \u001b[49m\u001b[43mn_cols\u001b[49m\u001b[43m,\u001b[49m\u001b[43m \u001b[49m\u001b[43mcopy\u001b[49m\u001b[43m)\u001b[49m\n",
      "File \u001b[0;32m~/.conda/envs/MambaTest/lib/python3.10/site-packages/astropy/table/table.py:1244\u001b[0m, in \u001b[0;36mTable._init_from_list\u001b[0;34m(self, data, names, dtype, n_cols, copy)\u001b[0m\n\u001b[1;32m   1240\u001b[0m     col \u001b[38;5;241m=\u001b[39m \u001b[38;5;28mself\u001b[39m\u001b[38;5;241m.\u001b[39m_convert_data_to_col(col, copy, default_name, dtype, name)\n\u001b[1;32m   1242\u001b[0m     cols\u001b[38;5;241m.\u001b[39mappend(col)\n\u001b[0;32m-> 1244\u001b[0m \u001b[38;5;28;43mself\u001b[39;49m\u001b[38;5;241;43m.\u001b[39;49m\u001b[43m_init_from_cols\u001b[49m\u001b[43m(\u001b[49m\u001b[43mcols\u001b[49m\u001b[43m)\u001b[49m\n",
      "File \u001b[0;32m~/.conda/envs/MambaTest/lib/python3.10/site-packages/astropy/table/table.py:1469\u001b[0m, in \u001b[0;36mTable._init_from_cols\u001b[0;34m(self, cols)\u001b[0m\n\u001b[1;32m   1466\u001b[0m \u001b[38;5;28;01mdef\u001b[39;00m \u001b[38;5;21m_init_from_cols\u001b[39m(\u001b[38;5;28mself\u001b[39m, cols):\n\u001b[1;32m   1467\u001b[0m \u001b[38;5;250m    \u001b[39m\u001b[38;5;124;03m\"\"\"Initialize table from a list of Column or mixin objects\"\"\"\u001b[39;00m\n\u001b[0;32m-> 1469\u001b[0m     lengths \u001b[38;5;241m=\u001b[39m {\u001b[38;5;28mlen\u001b[39m(col) \u001b[38;5;28;01mfor\u001b[39;00m col \u001b[38;5;129;01min\u001b[39;00m cols}\n\u001b[1;32m   1470\u001b[0m     \u001b[38;5;28;01mif\u001b[39;00m \u001b[38;5;28mlen\u001b[39m(lengths) \u001b[38;5;241m>\u001b[39m \u001b[38;5;241m1\u001b[39m:\n\u001b[1;32m   1471\u001b[0m         \u001b[38;5;28;01mraise\u001b[39;00m \u001b[38;5;167;01mValueError\u001b[39;00m(\u001b[38;5;124mf\u001b[39m\u001b[38;5;124m\"\u001b[39m\u001b[38;5;124mInconsistent data column lengths: \u001b[39m\u001b[38;5;132;01m{\u001b[39;00mlengths\u001b[38;5;132;01m}\u001b[39;00m\u001b[38;5;124m\"\u001b[39m)\n",
      "File \u001b[0;32m~/.conda/envs/MambaTest/lib/python3.10/site-packages/astropy/table/table.py:1469\u001b[0m, in \u001b[0;36m<setcomp>\u001b[0;34m(.0)\u001b[0m\n\u001b[1;32m   1466\u001b[0m \u001b[38;5;28;01mdef\u001b[39;00m \u001b[38;5;21m_init_from_cols\u001b[39m(\u001b[38;5;28mself\u001b[39m, cols):\n\u001b[1;32m   1467\u001b[0m \u001b[38;5;250m    \u001b[39m\u001b[38;5;124;03m\"\"\"Initialize table from a list of Column or mixin objects\"\"\"\u001b[39;00m\n\u001b[0;32m-> 1469\u001b[0m     lengths \u001b[38;5;241m=\u001b[39m {\u001b[38;5;28;43mlen\u001b[39;49m\u001b[43m(\u001b[49m\u001b[43mcol\u001b[49m\u001b[43m)\u001b[49m \u001b[38;5;28;01mfor\u001b[39;00m col \u001b[38;5;129;01min\u001b[39;00m cols}\n\u001b[1;32m   1470\u001b[0m     \u001b[38;5;28;01mif\u001b[39;00m \u001b[38;5;28mlen\u001b[39m(lengths) \u001b[38;5;241m>\u001b[39m \u001b[38;5;241m1\u001b[39m:\n\u001b[1;32m   1471\u001b[0m         \u001b[38;5;28;01mraise\u001b[39;00m \u001b[38;5;167;01mValueError\u001b[39;00m(\u001b[38;5;124mf\u001b[39m\u001b[38;5;124m\"\u001b[39m\u001b[38;5;124mInconsistent data column lengths: \u001b[39m\u001b[38;5;132;01m{\u001b[39;00mlengths\u001b[38;5;132;01m}\u001b[39;00m\u001b[38;5;124m\"\u001b[39m)\n",
      "\u001b[0;31mTypeError\u001b[0m: len() of unsized object"
     ]
    }
   ],
   "source": [
    "data = hstack([data, Table({\"UNIQ\": i}), Table({\"PROB\": probs})])"
   ]
  },
  {
   "cell_type": "code",
   "execution_count": null,
   "metadata": {},
   "outputs": [],
   "source": [
    "data[:5]"
   ]
  },
  {
   "cell_type": "code",
   "execution_count": null,
   "metadata": {},
   "outputs": [],
   "source": [
    "i[0]"
   ]
  },
  {
   "cell_type": "code",
   "execution_count": null,
   "metadata": {},
   "outputs": [],
   "source": [
    "np.min(probs), np.max(probs)"
   ]
  },
  {
   "cell_type": "code",
   "execution_count": null,
   "metadata": {},
   "outputs": [],
   "source": [
    "type(skymap)"
   ]
  },
  {
   "cell_type": "code",
   "execution_count": null,
   "metadata": {},
   "outputs": [],
   "source": [
    "skymap_sort = Table(skymap, copy = True)"
   ]
  },
  {
   "cell_type": "code",
   "execution_count": null,
   "metadata": {},
   "outputs": [],
   "source": [
    "# find the 90% credible region\n",
    "\n",
    "skymap_sort.sort('PROBDENSITY', reverse=True)"
   ]
  },
  {
   "cell_type": "code",
   "execution_count": null,
   "metadata": {},
   "outputs": [],
   "source": [
    "skymap"
   ]
  },
  {
   "cell_type": "code",
   "execution_count": null,
   "metadata": {},
   "outputs": [],
   "source": [
    "skymap_sort"
   ]
  },
  {
   "cell_type": "code",
   "execution_count": null,
   "metadata": {},
   "outputs": [],
   "source": [
    "level, ipix = ah.uniq_to_level_ipix(skymap_sort['UNIQ'])\n",
    "pixel_area = ah.nside_to_pixel_area(ah.level_to_nside(level))"
   ]
  },
  {
   "cell_type": "code",
   "execution_count": null,
   "metadata": {},
   "outputs": [],
   "source": [
    "prob = pixel_area * skymap_sort['PROBDENSITY']"
   ]
  },
  {
   "cell_type": "code",
   "execution_count": null,
   "metadata": {},
   "outputs": [],
   "source": [
    "cumprob = np.cumsum(prob)"
   ]
  },
  {
   "cell_type": "code",
   "execution_count": null,
   "metadata": {},
   "outputs": [],
   "source": [
    "i = cumprob.searchsorted(0.9)"
   ]
  },
  {
   "cell_type": "code",
   "execution_count": 194,
   "metadata": {},
   "outputs": [
    {
     "data": {
      "text/plain": [
       "7896"
      ]
     },
     "execution_count": 194,
     "metadata": {},
     "output_type": "execute_result"
    }
   ],
   "source": [
    "i"
   ]
  },
  {
   "cell_type": "code",
   "execution_count": 195,
   "metadata": {},
   "outputs": [
    {
     "data": {
      "text/plain": [
       "51.97063618706022"
      ]
     },
     "execution_count": 195,
     "metadata": {},
     "output_type": "execute_result"
    }
   ],
   "source": [
    "area_90 = pixel_area[:i].sum()\n",
    "area_90.to_value(u.deg**2)"
   ]
  },
  {
   "cell_type": "code",
   "execution_count": 196,
   "metadata": {},
   "outputs": [
    {
     "data": {
      "text/html": [
       "<div><i>Table length=7896</i>\n",
       "<table id=\"table140169399777168\" class=\"table-striped table-bordered table-condensed\">\n",
       "<thead><tr><th>UNIQ</th><th>PROBDENSITY</th><th>DISTMU</th><th>DISTSIGMA</th><th>DISTNORM</th></tr></thead>\n",
       "<thead><tr><th></th><th>1 / sr</th><th>Mpc</th><th>Mpc</th><th>1 / Mpc2</th></tr></thead>\n",
       "<thead><tr><th>int64</th><th>float64</th><th>float64</th><th>float64</th><th>float64</th></tr></thead>\n",
       "<tr><td>8635874</td><td>150.9305923102596</td><td>864.0544123393728</td><td>177.93280764677917</td><td>1.2849339652181568e-06</td></tr>\n",
       "<tr><td>8635829</td><td>150.90015925644565</td><td>864.2823428505719</td><td>177.80232609133046</td><td>1.2843604402415653e-06</td></tr>\n",
       "<tr><td>8635881</td><td>150.81080736723487</td><td>863.8272214134608</td><td>178.0667315631715</td><td>1.2855036372743902e-06</td></tr>\n",
       "<tr><td>8635806</td><td>150.7196217659106</td><td>864.5086898474821</td><td>177.67590777910323</td><td>1.2837893324140424e-06</td></tr>\n",
       "<tr><td>8636263</td><td>150.6357713408702</td><td>868.0486892889259</td><td>174.41913767344835</td><td>1.2756231847675179e-06</td></tr>\n",
       "<tr><td>8636280</td><td>150.60578927581113</td><td>867.7820718105779</td><td>174.582871711354</td><td>1.2762836212810563e-06</td></tr>\n",
       "<tr><td>8635880</td><td>150.5516562424454</td><td>865.1611633727159</td><td>177.40748819509628</td><td>1.282088669267722e-06</td></tr>\n",
       "<tr><td>8635886</td><td>150.53933218598846</td><td>863.5978628495068</td><td>178.2052621826929</td><td>1.2860770614342774e-06</td></tr>\n",
       "<tr><td>8635883</td><td>150.5320859987755</td><td>864.9214315195803</td><td>177.54694120991212</td><td>1.282689341386773e-06</td></tr>\n",
       "<tr><td>...</td><td>...</td><td>...</td><td>...</td><td>...</td></tr>\n",
       "<tr><td>2149706</td><td>14.389172913885645</td><td>892.0156563892599</td><td>171.27986061740634</td><td>1.2120790145520037e-06</td></tr>\n",
       "<tr><td>536904</td><td>14.373032712282104</td><td>822.4969197824613</td><td>222.9655202150443</td><td>1.3770042220633078e-06</td></tr>\n",
       "<tr><td>2152725</td><td>14.372958631858179</td><td>703.8719786560956</td><td>260.83502630628317</td><td>1.7748455082053907e-06</td></tr>\n",
       "<tr><td>537603</td><td>14.351342701305397</td><td>614.2400046007998</td><td>286.96144145237747</td><td>2.1771032814581472e-06</td></tr>\n",
       "<tr><td>551555</td><td>14.298468794776062</td><td>784.445635184779</td><td>220.3202409824387</td><td>1.5062624858907812e-06</td></tr>\n",
       "<tr><td>536898</td><td>14.279300759887022</td><td>809.8040146911852</td><td>229.7343209162045</td><td>1.4113149337938014e-06</td></tr>\n",
       "<tr><td>536906</td><td>14.269563326813111</td><td>834.0659193668655</td><td>216.40034793358873</td><td>1.3468108022571136e-06</td></tr>\n",
       "<tr><td>2159398</td><td>14.260370031980896</td><td>889.8374202985184</td><td>155.48853063672757</td><td>1.2255092429606125e-06</td></tr>\n",
       "<tr><td>539898</td><td>14.225536432282727</td><td>886.0469873562276</td><td>157.15101912081803</td><td>1.2349098544781808e-06</td></tr>\n",
       "<tr><td>2161989</td><td>14.22360965592587</td><td>817.1730228035234</td><td>211.73694376847772</td><td>1.4033039005733966e-06</td></tr>\n",
       "</table></div>"
      ],
      "text/plain": [
       "<Table length=7896>\n",
       "  UNIQ     PROBDENSITY     ...     DISTSIGMA             DISTNORM       \n",
       "              1 / sr       ...        Mpc                1 / Mpc2       \n",
       " int64       float64       ...      float64              float64        \n",
       "------- ------------------ ... ------------------ ----------------------\n",
       "8635874  150.9305923102596 ... 177.93280764677917 1.2849339652181568e-06\n",
       "8635829 150.90015925644565 ... 177.80232609133046 1.2843604402415653e-06\n",
       "8635881 150.81080736723487 ...  178.0667315631715 1.2855036372743902e-06\n",
       "8635806  150.7196217659106 ... 177.67590777910323 1.2837893324140424e-06\n",
       "8636263  150.6357713408702 ... 174.41913767344835 1.2756231847675179e-06\n",
       "8636280 150.60578927581113 ...   174.582871711354 1.2762836212810563e-06\n",
       "8635880  150.5516562424454 ... 177.40748819509628  1.282088669267722e-06\n",
       "8635886 150.53933218598846 ...  178.2052621826929 1.2860770614342774e-06\n",
       "8635883  150.5320859987755 ... 177.54694120991212  1.282689341386773e-06\n",
       "    ...                ... ...                ...                    ...\n",
       "2149706 14.389172913885645 ... 171.27986061740634 1.2120790145520037e-06\n",
       " 536904 14.373032712282104 ...  222.9655202150443 1.3770042220633078e-06\n",
       "2152725 14.372958631858179 ... 260.83502630628317 1.7748455082053907e-06\n",
       " 537603 14.351342701305397 ... 286.96144145237747 2.1771032814581472e-06\n",
       " 551555 14.298468794776062 ...  220.3202409824387 1.5062624858907812e-06\n",
       " 536898 14.279300759887022 ...  229.7343209162045 1.4113149337938014e-06\n",
       " 536906 14.269563326813111 ... 216.40034793358873 1.3468108022571136e-06\n",
       "2159398 14.260370031980896 ... 155.48853063672757 1.2255092429606125e-06\n",
       " 539898 14.225536432282727 ... 157.15101912081803 1.2349098544781808e-06\n",
       "2161989  14.22360965592587 ... 211.73694376847772 1.4033039005733966e-06"
      ]
     },
     "execution_count": 196,
     "metadata": {},
     "output_type": "execute_result"
    }
   ],
   "source": [
    "skymap_sort[:i]"
   ]
  },
  {
   "cell_type": "code",
   "execution_count": 197,
   "metadata": {},
   "outputs": [
    {
     "ename": "TypeError",
     "evalue": "'NoneType' object is not subscriptable",
     "output_type": "error",
     "traceback": [
      "\u001b[0;31m---------------------------------------------------------------------------\u001b[0m",
      "\u001b[0;31mTypeError\u001b[0m                                 Traceback (most recent call last)",
      "Cell \u001b[0;32mIn[197], line 1\u001b[0m\n\u001b[0;32m----> 1\u001b[0m mask \u001b[38;5;241m=\u001b[39m [data[\u001b[38;5;124m\"\u001b[39m\u001b[38;5;124mUNIQ_PIX_ID\u001b[39m\u001b[38;5;124m\"\u001b[39m][q] \u001b[38;5;129;01min\u001b[39;00m skymap_sort[\u001b[38;5;124m\"\u001b[39m\u001b[38;5;124mUNIQ\u001b[39m\u001b[38;5;124m\"\u001b[39m][:i] \u001b[38;5;28;01mfor\u001b[39;00m q \u001b[38;5;129;01min\u001b[39;00m \u001b[38;5;28mrange\u001b[39m(\u001b[38;5;241m10\u001b[39m)]\n",
      "Cell \u001b[0;32mIn[197], line 1\u001b[0m, in \u001b[0;36m<listcomp>\u001b[0;34m(.0)\u001b[0m\n\u001b[0;32m----> 1\u001b[0m mask \u001b[38;5;241m=\u001b[39m [\u001b[43mdata\u001b[49m\u001b[43m[\u001b[49m\u001b[38;5;124;43m\"\u001b[39;49m\u001b[38;5;124;43mUNIQ_PIX_ID\u001b[39;49m\u001b[38;5;124;43m\"\u001b[39;49m\u001b[43m]\u001b[49m[q] \u001b[38;5;129;01min\u001b[39;00m skymap_sort[\u001b[38;5;124m\"\u001b[39m\u001b[38;5;124mUNIQ\u001b[39m\u001b[38;5;124m\"\u001b[39m][:i] \u001b[38;5;28;01mfor\u001b[39;00m q \u001b[38;5;129;01min\u001b[39;00m \u001b[38;5;28mrange\u001b[39m(\u001b[38;5;241m10\u001b[39m)]\n",
      "\u001b[0;31mTypeError\u001b[0m: 'NoneType' object is not subscriptable"
     ]
    }
   ],
   "source": [
    "mask = [data[\"UNIQ_PIX_ID\"][q] in skymap_sort[\"UNIQ\"][:i] for q in range(10)]"
   ]
  },
  {
   "cell_type": "code",
   "execution_count": null,
   "metadata": {},
   "outputs": [],
   "source": [
    "len(data)"
   ]
  },
  {
   "cell_type": "code",
   "execution_count": null,
   "metadata": {},
   "outputs": [],
   "source": [
    "np.max(data[\"UNIQ\"]), np.sort(skymap_sort[\"UNIQ\"])"
   ]
  },
  {
   "cell_type": "code",
   "execution_count": null,
   "metadata": {},
   "outputs": [],
   "source": [
    "1070 in data[\"UNIQ\"]"
   ]
  },
  {
   "cell_type": "code",
   "execution_count": null,
   "metadata": {},
   "outputs": [],
   "source": [
    "data_90 = data[mask]"
   ]
  },
  {
   "cell_type": "code",
   "execution_count": null,
   "metadata": {},
   "outputs": [],
   "source": [
    "data_90[:5]"
   ]
  },
  {
   "cell_type": "code",
   "execution_count": null,
   "metadata": {},
   "outputs": [],
   "source": []
  }
 ],
 "metadata": {
  "kernelspec": {
   "display_name": "Python (MambaTest)",
   "language": "python",
   "name": "mambatest"
  },
  "language_info": {
   "codemirror_mode": {
    "name": "ipython",
    "version": 3
   },
   "file_extension": ".py",
   "mimetype": "text/x-python",
   "name": "python",
   "nbconvert_exporter": "python",
   "pygments_lexer": "ipython3",
   "version": "3.10.10"
  }
 },
 "nbformat": 4,
 "nbformat_minor": 4
}
