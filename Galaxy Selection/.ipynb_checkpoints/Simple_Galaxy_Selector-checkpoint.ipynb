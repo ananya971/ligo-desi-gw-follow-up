{
 "cells": [
  {
   "cell_type": "markdown",
   "id": "a003f4a1-537d-4e87-88ad-b98e2bd808aa",
   "metadata": {
    "tags": []
   },
   "source": [
    "# Simple Galaxy Selector\n",
    "\n",
    "***NOTE***: Before anything can happen, download the GW event localization map. Open the terminal and type:\n",
    "\"curl -O https://gracedb.ligo.org/api/superevents/sid/files/bayestar.fits,0\"\n",
    "with sid = superevent ID\n",
    "\n",
    "Select the galaxies to observe by WWFI in this simple manner:\n",
    "- get the LIGO event data\n",
    "- read the LIGO event data into the notebook, extract some information\n",
    "- read the DESI database into the notebook, \"clean\" the data\n",
    "- get the 90% credible regions for the event, add them as a column to the data\n",
    "- only keep data within the 90% region\n",
    "- calculate all the luminosities (& more)\n",
    "- rank them by luminosity (for now just print the TARGETID), 3D/2D localization and with a luminosity-distance 2D dependant counterpart likelihood\n",
    "\n",
    "Sources: \n",
    "- https://iopscience.iop.org/article/10.3847/0067-0049/226/1/10\n",
    "- https://emfollow.docs.ligo.org/userguide/tutorial/skymaps.html\n",
    "- https://arxiv.org/pdf/1710.05452.pdf"
   ]
  },
  {
   "cell_type": "markdown",
   "id": "7b46e6c4-0e60-4515-89da-7dd6a6fda28d",
   "metadata": {
    "tags": []
   },
   "source": [
    "## Imports and loading data\n",
    "\n",
    "This assumes that we have had a GW event and the \"bayestar.fits.gz\" file is downloaded. The path variable below should then point to this file. From there we do the following:\n",
    "- import the packages\n",
    "- read the GW event localization file\n",
    "- read all the DESI data (i.e. the complete data available) within a radius of 50degrees around the highest probability pixel"
   ]
  },
  {
   "cell_type": "code",
   "execution_count": 1,
   "id": "1e8c5566-b651-4dd4-8a7a-5e249cea07be",
   "metadata": {},
   "outputs": [],
   "source": [
    "import numpy as np\n",
    "from scipy.stats import norm\n",
    "import scipy as sc\n",
    "\n",
    "from astropy.io import fits\n",
    "from astropy.table import Table, hstack\n",
    "from astropy import table\n",
    "\n",
    "import psycopg2\n",
    "\n",
    "import healpy as hp\n",
    "\n",
    "from astropy.cosmology import Planck18\n",
    "from astropy.coordinates import Distance\n",
    "from astropy import units as u\n",
    "\n",
    "import astropy.constants as asc\n",
    "\n",
    "import matplotlib.pyplot as plt"
   ]
  },
  {
   "cell_type": "markdown",
   "id": "31f868ed-fc7d-46e5-8d0c-1670d0ba576b",
   "metadata": {},
   "source": [
    "Specifiy the path where the data is located (one could integrate this into python, too, but then the file would be downloaded again and again...)"
   ]
  },
  {
   "cell_type": "code",
   "execution_count": 2,
   "id": "e351812e-940f-4ab3-9dc0-8f63e083e8e8",
   "metadata": {},
   "outputs": [],
   "source": [
    "gw_path = \"/global/homes/j/jgassert/Code/data/bayestar.fits.gz,1\""
   ]
  },
  {
   "cell_type": "markdown",
   "id": "4c6dcf74-2e60-451e-bd0e-385f4c518833",
   "metadata": {},
   "source": [
    "Load the healpix (2D probability map) file, and the mean distance (distmu), the std (distsigma) and the normalization (distnorm); i.e. we have both a 2D localization, but also get a distance localization"
   ]
  },
  {
   "cell_type": "code",
   "execution_count": 3,
   "id": "197ad143-02f9-4e3f-ab6e-d83bd44463b7",
   "metadata": {},
   "outputs": [],
   "source": [
    "hpx_gw, distmu, distsigma, distnorm = hp.read_map(gw_path, field = range(4))"
   ]
  },
  {
   "cell_type": "markdown",
   "id": "6b445bc6-c7eb-4f9e-95ff-d06e32dbde16",
   "metadata": {},
   "source": [
    "Lets look at the 2D localization in a mollweide view"
   ]
  },
  {
   "cell_type": "code",
   "execution_count": 4,
   "id": "5887e469-27fd-4903-a3c2-b56cef311cd3",
   "metadata": {},
   "outputs": [
    {
     "data": {
      "image/png": "[encoded data removed]",
      "text/plain": [
       "<Figure size 850x540 with 2 Axes>"
      ]
     },
     "metadata": {},
     "output_type": "display_data"
    }
   ],
   "source": [
    "hp.mollview(hpx_gw)"
   ]
  },
  {
   "cell_type": "markdown",
   "id": "ee24b97b-e430-45cc-898c-90f14d1c6694",
   "metadata": {},
   "source": [
    "### Get basic values from GW event\n",
    "\n",
    "We now extract some basic information  from the healpix data:\n",
    "- ipix_max: pixel with highest likelihood\n",
    "- npix: total number of pixels\n",
    "- ra, dec: ra and dec of the pixel with the highest likelihood\n",
    "\n",
    "Then we open the full fits file and extract some more basic info from the header:\n",
    "- dist_mean: mean distance of the GW event\n",
    "- dist_std: error of the distance"
   ]
  },
  {
   "cell_type": "code",
   "execution_count": 5,
   "id": "152173c3-6996-4b4b-b805-51bfaec1ea15",
   "metadata": {},
   "outputs": [],
   "source": [
    "ipix_max = np.argmax(hpx_gw)  # highest likely pixel"
   ]
  },
  {
   "cell_type": "code",
   "execution_count": 6,
   "id": "ee47dca0-60dc-4b23-aa3d-90c49c0bda49",
   "metadata": {},
   "outputs": [],
   "source": [
    "npix = len(hpx_gw) # number of pixels (same area) in total\n",
    "nside = hp.npix2nside(npix)"
   ]
  },
  {
   "cell_type": "code",
   "execution_count": 7,
   "id": "943a7274-0e0b-4564-a9a9-cb096a90b520",
   "metadata": {},
   "outputs": [],
   "source": [
    "pixarea = hp.nside2pixarea(nside)"
   ]
  },
  {
   "cell_type": "code",
   "execution_count": 8,
   "id": "96dde573-58de-4312-b336-c04811784e67",
   "metadata": {},
   "outputs": [
    {
     "data": {
      "text/plain": [
       "(9.986854087797142e-07, 1024, 12582912, 7051285, 0.00015073218027873602)"
      ]
     },
     "execution_count": 8,
     "metadata": {},
     "output_type": "execute_result"
    }
   ],
   "source": [
    "pixarea, nside, npix, ipix_max, hpx_gw[ipix_max]"
   ]
  },
  {
   "cell_type": "code",
   "execution_count": 9,
   "id": "6599bbaa-6235-4085-b306-a70b272c6565",
   "metadata": {},
   "outputs": [],
   "source": [
    "theta, phi = hp.pix2ang(nside, ipix_max)\n",
    "ra = np.rad2deg(phi)\n",
    "dec = np.rad2deg(0.5 * np.pi - theta) # highest probability pixel"
   ]
  },
  {
   "cell_type": "code",
   "execution_count": 10,
   "id": "a1cd0a24-69c3-474d-ac6a-7327edbb2fc4",
   "metadata": {},
   "outputs": [
    {
     "name": "stdout",
     "output_type": "stream",
     "text": [
      "The highest probability ra and dec are:  1.8896484375 -6.955230191010189\n"
     ]
    }
   ],
   "source": [
    "print(\"The highest probability ra and dec are: \", ra, dec)"
   ]
  },
  {
   "cell_type": "markdown",
   "id": "1d26d16c-70c8-4d09-85e9-6e4d60d7e2c8",
   "metadata": {},
   "source": [
    "Now open the fits file and read basics info from the header"
   ]
  },
  {
   "cell_type": "code",
   "execution_count": 11,
   "id": "5fe9b5b5-7823-406d-95e2-ddf6595523cf",
   "metadata": {},
   "outputs": [],
   "source": [
    "fits_gw = fits.open(gw_path)"
   ]
  },
  {
   "cell_type": "code",
   "execution_count": 12,
   "id": "cf1fc6cd-5146-4a63-8a68-9f54eb161c43",
   "metadata": {},
   "outputs": [],
   "source": [
    "header = fits_gw[1].header"
   ]
  },
  {
   "cell_type": "code",
   "execution_count": 13,
   "id": "8000b7ea-3007-43a1-bb91-6e4368f57052",
   "metadata": {},
   "outputs": [],
   "source": [
    "dist_mean = header[\"DISTMEAN\"]\n",
    "dist_std = header[\"DISTSTD\"]"
   ]
  },
  {
   "cell_type": "markdown",
   "id": "ab6dbcf0-c4e6-4ddb-92ed-a398715a2311",
   "metadata": {},
   "source": [
    "### Get DESI data\n",
    "\n",
    "Establish a connection to the DESI database and load the daily data."
   ]
  },
  {
   "cell_type": "code",
   "execution_count": 14,
   "id": "f2713005-44d6-45d8-9e5f-8f4be83ec263",
   "metadata": {},
   "outputs": [],
   "source": [
    "try:\n",
    "    db = psycopg2.connect(host='decatdb.lbl.gov', database='desidb', user='desi', password = \"5kFibers!\", port=\"5432\")\n",
    "    cursor = db.cursor()\n",
    "except (Exception, psycopg2.Error) as error:\n",
    "    print(error)"
   ]
  },
  {
   "cell_type": "code",
   "execution_count": 15,
   "id": "eab926c9-c526-4d80-ae4b-7c10d15499f9",
   "metadata": {},
   "outputs": [],
   "source": [
    "cursor = db.cursor()"
   ]
  },
  {
   "cell_type": "code",
   "execution_count": 16,
   "id": "66dcf23d-40e0-4620-ba2a-f8275e14a0a4",
   "metadata": {},
   "outputs": [],
   "source": [
    "redux = 'daily'"
   ]
  },
  {
   "cell_type": "markdown",
   "id": "f3c890d4-1130-42e3-8710-2ebd7baee041",
   "metadata": {},
   "source": [
    "This step usually takes about 15 min or so, depending on load and so on"
   ]
  },
  {
   "cell_type": "code",
   "execution_count": 17,
   "id": "7080af51-b51c-4087-b4da-b766f9109b8a",
   "metadata": {},
   "outputs": [],
   "source": [
    "query = 'SELECT f.targetid,f.target_ra,f.target_dec,c.tileid,c.night,r.z,r.zerr,r.zwarn,r.deltachi2,f.flux_z,f.bgs_target,f.ebv, f.sersic, f.mws_target, c.filename\\n' \\\n",
    "                    f'FROM {redux}.tiles_fibermap f\\n' \\\n",
    "                    f'INNER JOIN {redux}.cumulative_tiles c ON f.cumultile_id=c.id\\n' \\\n",
    "                    f'INNER JOIN {redux}.tiles_redshifts r ON r.cumultile_id=c.id AND r.targetid=f.targetid\\n' \\\n",
    "                    f'WHERE q3c_radial_query( f.target_ra, f.target_dec, {ra}, {dec}, 50);'"
   ]
  },
  {
   "cell_type": "code",
   "execution_count": 19,
   "id": "760a3cd1-b83d-4866-98f5-c1b62a8dfbfb",
   "metadata": {},
   "outputs": [],
   "source": [
    "cursor.execute(query)"
   ]
  },
  {
   "cell_type": "code",
   "execution_count": 20,
   "id": "d827f26e-85ca-4856-ac2b-e51dd89fd180",
   "metadata": {},
   "outputs": [],
   "source": [
    "rows = cursor.fetchall()"
   ]
  },
  {
   "cell_type": "markdown",
   "id": "5df724dc-9c47-44ba-8068-b73b97e6df8b",
   "metadata": {
    "tags": []
   },
   "source": [
    "## Do all the calculations, selections,...\n",
    "\n",
    "- turn the daily DESI data into a Table\n",
    "- do some basic data selection stuff: only keep good + positive redshifts, only positive values of z-band flux and eliminate duplicates (right now simply takes the first entry)\n",
    "- add the ipix (healpix) pixel value for each target\n",
    "- calculate the probability for each target\n",
    "- calculate the probabilities for each object\n",
    "- add these values to the able (\"PROB\"), select only targets within the 90% credible region (i.e. with a certainty of 90% the GW event is inside this region)\n",
    "- calculate the distances and its errors from the redshift, add to the data table\n",
    "- calculate the 3D probability just like here: https://iopscience.iop.org/article/10.3847/0067-0049/226/1/10 (§4) and add these values to the table\n",
    "- sort the table by its 3D probability (descending)\n",
    "- calculate absolute and apparent magnitude, luminosity and add to table\n",
    "\n",
    "The final step is to include the calculation of the most likely host galaxy from https://arxiv.org/pdf/1710.05452.pdf (GW170817); these values are then also added to the table as \"P_GAL\""
   ]
  },
  {
   "cell_type": "markdown",
   "id": "6cf6d074-2cd2-40b0-83bc-dc0d168b4cc8",
   "metadata": {},
   "source": [
    "turn the daily DESI data into a Table"
   ]
  },
  {
   "cell_type": "code",
   "execution_count": 21,
   "id": "8ae3fee8-1534-4387-907a-c84001223dad",
   "metadata": {},
   "outputs": [],
   "source": [
    "if rows:\n",
    "    data = Table(list(map(list, zip(*rows))),\n",
    "                             names=['TARGETID', 'TARGET_RA', 'TARGET_DEC', 'TILEID', 'NIGHT', 'Z', 'ZERR', 'ZWARN', 'DELTACHI2', 'FLUX_Z', 'BGS_TARGET', 'EBV', 'MWS_TARGET','FILENAME'])\n",
    "    "
   ]
  },
  {
   "cell_type": "markdown",
   "id": "ef333bea-bf43-4da5-a3aa-aa9c99fb786e",
   "metadata": {},
   "source": [
    "basic data cleanup"
   ]
  },
  {
   "cell_type": "code",
   "execution_count": 22,
   "id": "7b7e3dd1-47c0-48b0-9e96-7065b2ac2006",
   "metadata": {},
   "outputs": [
    {
     "data": {
      "text/html": [
       "<div><i>Table length=5</i>\n",
       "<table id=\"table140415414610064\" class=\"table-striped table-bordered table-condensed\">\n",
       "<thead><tr><th>TARGETID</th><th>TARGET_RA</th><th>TARGET_DEC</th><th>TILEID</th><th>NIGHT</th><th>Z</th><th>ZERR</th><th>ZWARN</th><th>DELTACHI2</th><th>FLUX_Z</th><th>BGS_TARGET</th><th>EBV</th><th>MWS_TARGET</th><th>FILENAME</th></tr></thead>\n",
       "<thead><tr><th>int64</th><th>float64</th><th>float64</th><th>int64</th><th>int64</th><th>float64</th><th>float64</th><th>int64</th><th>float64</th><th>float64</th><th>int64</th><th>float64</th><th>int64</th><th>str71</th></tr></thead>\n",
       "<tr><td>-104597140</td><td>312.029471959252</td><td>-4.52661248084158</td><td>20836</td><td>20210523</td><td>-0.00199570145091582</td><td>4.13115987161332e-48</td><td>1570</td><td>1.94266889222573e+84</td><td>0.0</td><td>0</td><td>0.0</td><td>0</td><td>daily/tiles/cumulative/20836/20210523/zbest-0-20836-thru20210523.fits</td></tr>\n",
       "<tr><td>-104596998</td><td>311.979712874088</td><td>-4.27622520653371</td><td>20836</td><td>20210523</td><td>1.21133875119695</td><td>8.74682386532794e-05</td><td>4</td><td>5.7918604388833</td><td>0.0</td><td>0</td><td>0.0</td><td>0</td><td>daily/tiles/cumulative/20836/20210523/zbest-0-20836-thru20210523.fits</td></tr>\n",
       "<tr><td>-104596946</td><td>311.948730324838</td><td>-4.15859016627675</td><td>20836</td><td>20210523</td><td>-0.00199570145091582</td><td>4.13115987161332e-48</td><td>1570</td><td>1.94266889222573e+84</td><td>0.0</td><td>0</td><td>0.0</td><td>0</td><td>daily/tiles/cumulative/20836/20210523/zbest-0-20836-thru20210523.fits</td></tr>\n",
       "<tr><td>-104596884</td><td>311.984626831439</td><td>-4.02166769972535</td><td>20836</td><td>20210523</td><td>1.22828009351466</td><td>0.000160077142217345</td><td>4</td><td>7.2225654348731</td><td>0.0</td><td>0</td><td>0.0</td><td>0</td><td>daily/tiles/cumulative/20836/20210523/zbest-0-20836-thru20210523.fits</td></tr>\n",
       "<tr><td>39627681284753925</td><td>311.689737034396</td><td>-4.5214246061359</td><td>20836</td><td>20210523</td><td>-0.000107091287854673</td><td>4.126419459822e-06</td><td>0</td><td>4228.83618008143</td><td>102.080421447754</td><td>0</td><td>0.0548193007707596</td><td>1280</td><td>daily/tiles/cumulative/20836/20210523/zbest-0-20836-thru20210523.fits</td></tr>\n",
       "</table></div>"
      ],
      "text/plain": [
       "<Table length=5>\n",
       "     TARGETID     ...\n",
       "      int64       ...\n",
       "----------------- ...\n",
       "       -104597140 ...\n",
       "       -104596998 ...\n",
       "       -104596946 ...\n",
       "       -104596884 ...\n",
       "39627681284753925 ..."
      ]
     },
     "execution_count": 22,
     "metadata": {},
     "output_type": "execute_result"
    }
   ],
   "source": [
    "data[:5]"
   ]
  },
  {
   "cell_type": "code",
   "execution_count": 23,
   "id": "1fcb2ac1-3ad3-444f-bc4c-dd3ec0a5a810",
   "metadata": {},
   "outputs": [],
   "source": [
    "data = data[data['ZWARN']==0]\n",
    "data = data[data['Z']>=0]\n",
    "data = data[data['FLUX_Z']>0]\n",
    "data = table.unique(data, keys = \"TARGETID\")"
   ]
  },
  {
   "cell_type": "code",
   "execution_count": 26,
   "id": "ccdc0b47-7902-485e-a922-37210b769864",
   "metadata": {},
   "outputs": [
    {
     "data": {
      "text/plain": [
       "6080662"
      ]
     },
     "execution_count": 26,
     "metadata": {},
     "output_type": "execute_result"
    }
   ],
   "source": [
    "len(data)"
   ]
  },
  {
   "cell_type": "markdown",
   "id": "d0ab9cd6-709a-4439-8069-984f0592c30a",
   "metadata": {},
   "source": [
    "calculate the healpix pixel id for every target and add to the table"
   ]
  },
  {
   "cell_type": "code",
   "execution_count": 28,
   "id": "64f12add-c952-4ea0-8022-b528e58abf7f",
   "metadata": {},
   "outputs": [],
   "source": [
    "theta = 0.5 * np.pi - np.deg2rad(data[\"TARGET_DEC\"])\n",
    "phi = np.deg2rad(data[\"TARGET_DEC\"])\n",
    "ipix = hp.ang2pix(nside, theta, phi)"
   ]
  },
  {
   "cell_type": "code",
   "execution_count": 29,
   "id": "10c69f2f-bd94-4ea2-af54-7e9871e82ca2",
   "metadata": {},
   "outputs": [],
   "source": [
    "data = hstack([data, Table({\"IPIX\": ipix})])"
   ]
  },
  {
   "cell_type": "markdown",
   "id": "ce1da5eb-cf01-46b6-8737-542a26ee3ed7",
   "metadata": {},
   "source": [
    "calculate the probability for each target and add to table"
   ]
  },
  {
   "cell_type": "code",
   "execution_count": 30,
   "id": "35e88579-30ef-4b42-bffa-35dd8761ad2b",
   "metadata": {},
   "outputs": [],
   "source": [
    "i = np.flipud(np.argsort(hpx_gw))\n",
    "sorted_credible_levels = np.cumsum(hpx_gw[i])\n",
    "credible_levels = np.empty_like(sorted_credible_levels)\n",
    "credible_levels[i] = sorted_credible_levels  # most probable: 0, lowest probability at 1"
   ]
  },
  {
   "cell_type": "code",
   "execution_count": 31,
   "id": "128b48db-0719-4dc7-aef8-bea2c1768812",
   "metadata": {},
   "outputs": [
    {
     "data": {
      "image/png": "[encoded data removed]",
      "text/plain": [
       "<Figure size 850x540 with 2 Axes>"
      ]
     },
     "metadata": {},
     "output_type": "display_data"
    }
   ],
   "source": [
    "hp.mollview(credible_levels)"
   ]
  },
  {
   "cell_type": "code",
   "execution_count": 32,
   "id": "88958399-2a98-4556-976c-e9a9985f8a28",
   "metadata": {},
   "outputs": [],
   "source": [
    "probability = credible_levels[ipix] # if lower than 0.9 => inside the 90% credible region"
   ]
  },
  {
   "cell_type": "code",
   "execution_count": 33,
   "id": "4bfa01d7-fc00-4c24-9c62-7a91985b8bb5",
   "metadata": {},
   "outputs": [],
   "source": [
    "data = hstack([data, Table({\"2D_PROB\": probability})])"
   ]
  },
  {
   "cell_type": "markdown",
   "id": "5783b0ce-7dcf-4754-bec2-3a684339c1a0",
   "metadata": {},
   "source": [
    "make a selection (here 90% credible region)"
   ]
  },
  {
   "cell_type": "code",
   "execution_count": 34,
   "id": "dfff4e89-53ac-4aa7-acf9-73dc16202542",
   "metadata": {},
   "outputs": [],
   "source": [
    "prob_data = data[data[\"2D_PROB\"]<0.9]"
   ]
  },
  {
   "cell_type": "markdown",
   "id": "0a38520f-7f2c-47df-a64d-3aa6194b0881",
   "metadata": {},
   "source": [
    "Calculate distances and errors from redshifts, add to table"
   ]
  },
  {
   "cell_type": "code",
   "execution_count": 35,
   "id": "217d64c1-18df-4487-8453-c96557a42938",
   "metadata": {},
   "outputs": [],
   "source": [
    "distances = Distance(z=prob_data[\"Z\"], cosmology=Planck18)\n",
    "distances_err = Distance(z=prob_data[\"ZERR\"], cosmology=Planck18)"
   ]
  },
  {
   "cell_type": "markdown",
   "id": "9c531ff9-b0b6-4247-ae37-8583710657be",
   "metadata": {},
   "source": [
    "calculate the 3D loc probability"
   ]
  },
  {
   "cell_type": "code",
   "execution_count": 36,
   "id": "ce508575-f894-47bf-b512-c5ebcc8fdb19",
   "metadata": {},
   "outputs": [],
   "source": [
    "dP_dV = prob_data[\"IPIX\"]*distnorm[prob_data[\"IPIX\"]]*norm(distmu[prob_data[\"IPIX\"]], distsigma[prob_data[\"IPIX\"]]).pdf(distances)/pixarea"
   ]
  },
  {
   "cell_type": "markdown",
   "id": "ec53a2ec-629f-4c3b-98d8-25111b93ad09",
   "metadata": {},
   "source": [
    "calc the app, abs magnitude and the luminosity in z-band"
   ]
  },
  {
   "cell_type": "code",
   "execution_count": 37,
   "id": "d10501a5-05b0-4b14-993c-887acf7d74fc",
   "metadata": {},
   "outputs": [],
   "source": [
    "# calculate the absolute and apparent magnitude of every galaxy (Planck Cosmology)\n",
    "app_mag = [22.5-2.5*np.log10(prob_data[\"FLUX_Z\"][q]) for q in range(len(prob_data[\"FLUX_Z\"]))]\n",
    "abs_mag = [(app_mag[q] - 5*np.log10(Distance(z=prob_data[\"Z\"][q], cosmology=Planck18)/u.Mpc*10**6)+5).value for q in range(len(prob_data[\"FLUX_Z\"]))]"
   ]
  },
  {
   "cell_type": "code",
   "execution_count": 38,
   "id": "51e69d37-6faa-4eff-ae63-e1fe918de5ff",
   "metadata": {},
   "outputs": [
    {
     "name": "stdout",
     "output_type": "stream",
     "text": [
      "1.0773791459375e+16\n",
      "4.528975799036195e-09\n",
      "1.3722764679446577e+35\n"
     ]
    }
   ],
   "source": [
    "# However, since we only look at the z-band we need to correct the solar luminosity\n",
    "# Calculation from here: https://astronomy.stackexchange.com/questions/25126/how-to-calculate-luminosity-in-g-band-from-absolute-ab-magnitude-and-luminosity\n",
    "\n",
    "# filter data from: https://arxiv.org/pdf/1804.08657.pdf\n",
    "lmbda = 920*10**(-9) #in  m\n",
    "del_lambda = 160*10**(-9) #in m\n",
    "del_v = (asc.c*lmbda/(del_lambda**2)).value # this is in /s now\n",
    "print(del_v)\n",
    "\n",
    "m_sun = -27.74 # in z-band: http://mips.as.arizona.edu/~cnaw/sun.html\n",
    "\n",
    "f_v = 10**((-48.6-m_sun)/2.5) # in erg/(cm^2 s Hz)\n",
    "print(f_v)\n",
    "dist_sun = 1.496*10**13 # in cm\n",
    "\n",
    "L_sun_z = f_v*del_v*4*np.pi*dist_sun**2 # this is  in erg/s, convert to W in function declaration\n",
    "# the value is roughly half of the full bolometric value... not sure if this makes sense\n",
    "print(L_sun_z)\n",
    "\n",
    "def lum_z(M):\n",
    "    return L_sun_z*10**(-7)*np.exp(-0.4*M)*u.W"
   ]
  },
  {
   "cell_type": "code",
   "execution_count": 39,
   "id": "e7d8240a-d402-4484-bd3b-aab427be5450",
   "metadata": {},
   "outputs": [],
   "source": [
    "lums = [lum_z(abs_mag[q]) for q in range(len(abs_mag))]"
   ]
  },
  {
   "cell_type": "markdown",
   "id": "18b36aa0-c851-45c2-a294-86b997d76e45",
   "metadata": {},
   "source": [
    "calc the P_gal values (see above description)"
   ]
  },
  {
   "cell_type": "code",
   "execution_count": 57,
   "id": "54b9e76e-63ba-4e4b-8ed8-7a110555888e",
   "metadata": {},
   "outputs": [],
   "source": [
    "def lum_wiggle(D_gal, m):\n",
    "    \"\"\"\n",
    "    Calculate a luminositiy proxy from the magnitude\n",
    "    PArams:\n",
    "    - D_gal: Distance to the galaxy, measured from redshift\n",
    "    - m: magnitude (for us in z-band)\n",
    "    \n",
    "    returns: D_gal**2*10**(-0.4*m)\n",
    "    \"\"\"\n",
    "    return D_gal**2*10**(-0.4*m)"
   ]
  },
  {
   "cell_type": "code",
   "execution_count": 58,
   "id": "e141e208-9019-4149-aa63-d73459ba50db",
   "metadata": {},
   "outputs": [],
   "source": [
    "arg_errfc = abs(distances.value-dist_mean)/(distances_err.value**2+dist_std**2)\n",
    "P_gal_unnorm = [lum_wiggle(distances[q].value, app_mag[q])*(1-prob_data[\"2D_PROB\"][q])*(1-sc.special.erf(arg_errfc[q])) for q in range(len(distances))]"
   ]
  },
  {
   "cell_type": "markdown",
   "id": "20711990-4264-49e0-ba1b-d5b0d64fadf9",
   "metadata": {},
   "source": [
    "Now add all the data into one table"
   ]
  },
  {
   "cell_type": "code",
   "execution_count": 59,
   "id": "fcde5d09-f5df-441f-ae6c-b5d88ec27972",
   "metadata": {},
   "outputs": [],
   "source": [
    "fully_proc_data = hstack([prob_data, Table({\"DIST\": distances}), Table({\"DIST_ERR\": distances_err}), Table({\"APP_MAG\": app_mag}), Table({\"dP_dV\": dP_dV}), Table({\"ABS_MAG\": abs_mag}), Table({\"LUM_Z\": lums}), Table({\"P_GAL_UNN\": P_gal_unnorm})])"
   ]
  },
  {
   "cell_type": "code",
   "execution_count": 60,
   "id": "6185667c-e0c1-4714-832d-0f5e856f51e3",
   "metadata": {},
   "outputs": [
    {
     "data": {
      "text/html": [
       "<div><i>Table length=5</i>\n",
       "<table id=\"table140414278116656\" class=\"table-striped table-bordered table-condensed\">\n",
       "<thead><tr><th>TARGETID</th><th>TARGET_RA</th><th>TARGET_DEC</th><th>TILEID</th><th>NIGHT</th><th>Z</th><th>ZERR</th><th>ZWARN</th><th>DELTACHI2</th><th>FLUX_Z</th><th>BGS_TARGET</th><th>EBV</th><th>MWS_TARGET</th><th>FILENAME</th><th>IPIX</th><th>2D_PROB</th><th>DIST</th><th>DIST_ERR</th><th>APP_MAG</th><th>dP_dV</th><th>ABS_MAG</th><th>LUM_Z</th><th>P_GAL_UNN</th></tr></thead>\n",
       "<thead><tr><th></th><th></th><th></th><th></th><th></th><th></th><th></th><th></th><th></th><th></th><th></th><th></th><th></th><th></th><th></th><th></th><th>Mpc</th><th>Mpc</th><th></th><th></th><th></th><th>W</th><th></th></tr></thead>\n",
       "<thead><tr><th>int64</th><th>float64</th><th>float64</th><th>int64</th><th>int64</th><th>float64</th><th>float64</th><th>int64</th><th>float64</th><th>float64</th><th>int64</th><th>float64</th><th>int64</th><th>str71</th><th>int64</th><th>float64</th><th>float64</th><th>float64</th><th>float64</th><th>float64</th><th>float64</th><th>float64</th><th>float64</th></tr></thead>\n",
       "<tr><td>39627766609478387</td><td>0.0209270367277411</td><td>-0.641401332788416</td><td>9371</td><td>20211005</td><td>2.65356140926086</td><td>0.000482188453605284</td><td>0</td><td>1034.16946551669</td><td>3.01712203025818</td><td>0</td><td>0.040060393512249</td><td>0</td><td>daily/tiles/cumulative/9371/20211005/redrock-7-9371-thru20211005.fits</td><td>6363129</td><td>0.8888815261073284</td><td>22444.434430859426</td><td>2.137302512912901</td><td>21.301017810081273</td><td>0.0</td><td>-25.454525521152963</td><td>3.625313809642719e+32</td><td>0.06615306541493836</td></tr>\n",
       "<tr><td>39627766609479164</td><td>0.0435325959573093</td><td>-0.645297806048659</td><td>6984</td><td>20221001</td><td>1.0959609747577</td><td>3.78320545613248e-05</td><td>0</td><td>165.373862624168</td><td>2.1507830619812</td><td>0</td><td>0.0403714440762997</td><td>0</td><td>daily/tiles/cumulative/6984/20221001/redrock-3-6984-thru20221001.fits</td><td>6363129</td><td>0.8888815261073284</td><td>7603.216424843932</td><td>0.16763366190438525</td><td>21.668508480930228</td><td>1.9011770375990428e-271</td><td>-22.736478283142176</td><td>1.2222848774700504e+32</td><td>0.010919170679091544</td></tr>\n",
       "<tr><td>39627766609479361</td><td>0.0484134436453084</td><td>-0.643993795407415</td><td>22120</td><td>20220918</td><td>0.140169519641021</td><td>4.05775518236172e-05</td><td>0</td><td>1345.70641556568</td><td>306.072326660156</td><td>131074</td><td>0.0404033809900284</td><td>0</td><td>daily/tiles/cumulative/22120/20220918/redrock-8-22120-thru20220918.fits</td><td>6363129</td><td>0.8888815261073284</td><td>684.4306023598893</td><td>0.1797993262099173</td><td>16.2854398377356</td><td>13544.541326179442</td><td>-22.89120725996818</td><td>1.3003241093303688e+32</td><td>0.01581071615474341</td></tr>\n",
       "<tr><td>39627766609482853</td><td>0.152804018058466</td><td>-0.62562653456945</td><td>9371</td><td>20211005</td><td>0.463787140567693</td><td>3.65044074901481e-05</td><td>0</td><td>429.066888332367</td><td>13.342022895813</td><td>0</td><td>0.0426968559622765</td><td>0</td><td>daily/tiles/cumulative/9371/20211005/redrock-7-9371-thru20211005.fits</td><td>6363129</td><td>0.8888815261073284</td><td>2669.080752200809</td><td>0.1617506991431791</td><td>19.686945796010285</td><td>1.0665834277308011e-16</td><td>-22.444862771137608</td><td>1.08771128778858e+32</td><td>0.009976741856507331</td></tr>\n",
       "<tr><td>39627766609483009</td><td>0.157117095975684</td><td>-0.645018480509963</td><td>3120</td><td>20211001</td><td>1.02138386663491</td><td>3.09321290931992e-05</td><td>0</td><td>351.483319759369</td><td>2.26622009277344</td><td>0</td><td>0.0431544780731201</td><td>0</td><td>daily/tiles/cumulative/3120/20211001/redrock-8-3120-thru20211001.fits</td><td>6363129</td><td>0.8888815261073284</td><td>6970.632782186603</td><td>0.13705939854683577</td><td>21.611744785568906</td><td>1.8235427927466138e-222</td><td>-22.604616236440474</td><td>1.159486388870195e+32</td><td>0.009908476624867883</td></tr>\n",
       "</table></div>"
      ],
      "text/plain": [
       "<Table length=5>\n",
       "     TARGETID         TARGET_RA      ...      P_GAL_UNN      \n",
       "                                     ...                     \n",
       "      int64            float64       ...       float64       \n",
       "----------------- ------------------ ... --------------------\n",
       "39627766609478387 0.0209270367277411 ...  0.06615306541493836\n",
       "39627766609479164 0.0435325959573093 ... 0.010919170679091544\n",
       "39627766609479361 0.0484134436453084 ...  0.01581071615474341\n",
       "39627766609482853  0.152804018058466 ... 0.009976741856507331\n",
       "39627766609483009  0.157117095975684 ... 0.009908476624867883"
      ]
     },
     "execution_count": 60,
     "metadata": {},
     "output_type": "execute_result"
    }
   ],
   "source": [
    "fully_proc_data[:5]"
   ]
  },
  {
   "cell_type": "markdown",
   "id": "dbde2590-fe95-4ee2-a68b-a44787906ebe",
   "metadata": {
    "tags": []
   },
   "source": [
    "## Analyse the data: How much luminosity do we cover? Which galaxies should we observe?\n",
    "\n",
    "Lets look into what information we can retrieve from here. First we define, how many galaxies we could observe (N_galaxies).\n",
    "\n",
    "We then calculate the luminosity (lum) from all the galaxies in this area, i.e. the total luminosity. From there do some comparison between the covered luminosity and total luminosity depending on the ranking by probability:\n",
    "- simple \"Maximum lum that could be covered\" by looking at the brightest galaxies\n",
    "- Use the 3D ranking, take the top N_galaxies (https://iopscience.iop.org/article/10.3847/0067-0049/226/1/10)\n",
    "- Use the 2D ranking, take the top N_galaxies (https://emfollow.docs.ligo.org/userguide/tutorial/skymaps.html)\n",
    "- Calculate the probability this way (from https://arxiv.org/pdf/1710.05452.pdf w/o normalization): $$P_{gal} = k^{-1}\\tilde{L_z}\\cdot P_{2D}\\left(1-\\text{erf}\\left(\\frac{|D_{Gal}-D_{LVC}|}{\\sigma_{D,gal}^{2}+\\sigma_{D,LVC}^{2}}\\right)\\right)$$"
   ]
  },
  {
   "cell_type": "markdown",
   "id": "2c8093ed-c4cd-4733-8a6c-118d738708c9",
   "metadata": {},
   "source": [
    "How many galaxies are in the 90% credible region with all our selections?"
   ]
  },
  {
   "cell_type": "code",
   "execution_count": 61,
   "id": "f23171f1-90f0-42c4-b3c7-d926dd2f1225",
   "metadata": {},
   "outputs": [
    {
     "data": {
      "text/plain": [
       "220584"
      ]
     },
     "execution_count": 61,
     "metadata": {},
     "output_type": "execute_result"
    }
   ],
   "source": [
    "len(fully_proc_data)"
   ]
  },
  {
   "cell_type": "code",
   "execution_count": 62,
   "id": "9eee1e48-f21d-4d75-8a98-a924a5b246dc",
   "metadata": {},
   "outputs": [],
   "source": [
    "N_galaxies = 10 # how many galaxies we can cover"
   ]
  },
  {
   "cell_type": "code",
   "execution_count": 63,
   "id": "e050faaf-1eac-46f3-a802-f8e8d97e9098",
   "metadata": {},
   "outputs": [],
   "source": [
    "total_lum = np.sum(fully_proc_data[\"LUM_Z\"])"
   ]
  },
  {
   "cell_type": "markdown",
   "id": "36a10f30-3b45-4084-8b19-f1040e064857",
   "metadata": {
    "tags": []
   },
   "source": [
    "### Compare lum with maximum lum ranking\n",
    "\n",
    "how much of the total lum could we cover after N_galaxies"
   ]
  },
  {
   "cell_type": "code",
   "execution_count": 64,
   "id": "1d97da5b-b6ac-4ab6-a960-fd9e7e49c9c8",
   "metadata": {},
   "outputs": [],
   "source": [
    "data_sort_by_lums = fully_proc_data.group_by(\"LUM_Z\")\n",
    "data_sort_by_lums = data_sort_by_lums[::-1]\n",
    "\n",
    "lum_after_N_highest = np.sum(data_sort_by_lums[\"LUM_Z\"][:N_galaxies])"
   ]
  },
  {
   "cell_type": "code",
   "execution_count": 77,
   "id": "abdcff86-d31a-4b18-b013-3431fdb6afdb",
   "metadata": {},
   "outputs": [
    {
     "name": "stdout",
     "output_type": "stream",
     "text": [
      "The theoretical maximum luminosity we could cover:  2.6692270147364845e+34 0.0010855243369538735\n",
      "The TARGETID values of these galaxies are: \n",
      "      TARGETID    \n",
      "-----------------\n",
      "39627778592611106\n",
      "39627784422692274\n",
      "39627773328753052\n",
      "39627773332948175\n",
      "39627785269943777\n",
      "39627784670154796\n",
      "39627790407960053\n",
      "39627779460828595\n",
      "39627784804372072\n",
      "39627773416836049\n"
     ]
    }
   ],
   "source": [
    "print(\"The theoretical maximum luminosity we could cover: \", lum_after_N_highest, lum_after_N_highest/total_lum)\n",
    "print(\"The TARGETID values of these galaxies are: \\n\", data_sort_by_lums[\"TARGETID\"][:N_galaxies])"
   ]
  },
  {
   "cell_type": "markdown",
   "id": "39e4a660-5d85-4dbc-adee-9485e6799683",
   "metadata": {
    "tags": []
   },
   "source": [
    "### Compare lum with 3D likelihood ranking\n",
    "\n",
    "https://iopscience.iop.org/article/10.3847/0067-0049/226/1/10"
   ]
  },
  {
   "cell_type": "code",
   "execution_count": 66,
   "id": "a7dbedb2-ea99-4afb-8927-a70c6f3e3076",
   "metadata": {},
   "outputs": [],
   "source": [
    "data_sort_by_3D = fully_proc_data.group_by(\"dP_dV\")\n",
    "data_sort_by_3D = data_sort_by_3D[::-1]\n",
    "\n",
    "lum_after_N_3D = np.sum(data_sort_by_3D[\"LUM_Z\"][:N_galaxies])"
   ]
  },
  {
   "cell_type": "code",
   "execution_count": 78,
   "id": "6b4f3583-4b78-469d-9047-acf66e3c27af",
   "metadata": {},
   "outputs": [
    {
     "name": "stdout",
     "output_type": "stream",
     "text": [
      "The maximum luminosity we cover when ranked by 3D:  4.9742897736326065e+32 2.0229499321443244e-05\n",
      "The TARGETID values of these galaxies are: \n",
      "      TARGETID    \n",
      "-----------------\n",
      "39627772313732101\n",
      "39627773064516000\n",
      "39627772036911557\n",
      "39627771932050722\n",
      "39627772733163287\n",
      "39627778345141146\n",
      "39627767221854182\n",
      "39627772909324348\n",
      "39627766693365848\n",
      "39627772275985113\n"
     ]
    }
   ],
   "source": [
    "print(\"The maximum luminosity we cover when ranked by 3D: \", lum_after_N_3D, lum_after_N_3D/total_lum)\n",
    "print(\"The TARGETID values of these galaxies are: \\n\", data_sort_by_3D[\"TARGETID\"][:N_galaxies])"
   ]
  },
  {
   "cell_type": "markdown",
   "id": "d4aec464-5a76-4523-a459-8842ec56394f",
   "metadata": {
    "tags": []
   },
   "source": [
    "### Compare lum with 2D likelihood ranking\n",
    "\n",
    "https://emfollow.docs.ligo.org/userguide/tutorial/skymaps.html"
   ]
  },
  {
   "cell_type": "code",
   "execution_count": 70,
   "id": "73721c62-cc38-4a88-8faf-5a794d68970a",
   "metadata": {},
   "outputs": [],
   "source": [
    "data_sort_by_2D = fully_proc_data.group_by(\"2D_PROB\")\n",
    "data_sort_by_2D = data_sort_by_2D[::-1]\n",
    "\n",
    "lum_after_N_2D = np.sum(data_sort_by_2D[\"LUM_Z\"][:N_galaxies])"
   ]
  },
  {
   "cell_type": "code",
   "execution_count": 79,
   "id": "0a075ab4-c887-42da-b755-8926682dfcd8",
   "metadata": {},
   "outputs": [
    {
     "name": "stdout",
     "output_type": "stream",
     "text": [
      "The maximum luminosity we cover when ranked by 2D:  1.0104084483814212e+33 4.1091407921709374e-05\n",
      "The TARGETID values of these galaxies are: \n",
      "      TARGETID    \n",
      "-----------------\n",
      "39636581241331279\n",
      "39636581241330730\n",
      "39636581241330350\n",
      "39636581241330233\n",
      "39636581241329808\n",
      "39636581241329692\n",
      "39636581241329503\n",
      "39636581241329122\n",
      "39636581241329095\n",
      "39636581241328573\n"
     ]
    }
   ],
   "source": [
    "print(\"The maximum luminosity we cover when ranked by 2D: \", lum_after_N_2D, lum_after_N_2D/total_lum)\n",
    "print(\"The TARGETID values of these galaxies are: \\n\", data_sort_by_2D[\"TARGETID\"][:N_galaxies])"
   ]
  },
  {
   "cell_type": "markdown",
   "id": "ac5df2c1-ed6c-4edb-9c6a-271501238f29",
   "metadata": {
    "tags": []
   },
   "source": [
    "### Compare lum with P_Gal ranking"
   ]
  },
  {
   "cell_type": "code",
   "execution_count": 73,
   "id": "44208aa3-e42d-48d6-afe7-8e174b3902bf",
   "metadata": {},
   "outputs": [],
   "source": [
    "data_sort_by_PGal = fully_proc_data.group_by(\"P_GAL_UNN\")\n",
    "data_sort_by_PGal = data_sort_by_PGal[::-1]\n",
    "\n",
    "lum_after_N_PGal = np.sum(data_sort_by_PGal[\"LUM_Z\"][:N_galaxies])"
   ]
  },
  {
   "cell_type": "code",
   "execution_count": 80,
   "id": "0338a0da-2592-4f39-9249-4e679ec6ef86",
   "metadata": {},
   "outputs": [
    {
     "name": "stdout",
     "output_type": "stream",
     "text": [
      "The maximum luminosity we cover when ranked by 2D:  2.349396654045548e+34 0.0009554553550688605\n",
      "The TARGETID values of these galaxies are: \n",
      "      TARGETID    \n",
      "-----------------\n",
      "39627778592611106\n",
      "39627773332948175\n",
      "39627785269943777\n",
      "39627784221368972\n",
      "39627784422692274\n",
      "39627778089292817\n",
      "39627778760383717\n",
      "39627790202444751\n",
      "39627790407960053\n",
      "39627773270035028\n"
     ]
    }
   ],
   "source": [
    "print(\"The maximum luminosity we cover when ranked by 2D: \", lum_after_N_PGal, lum_after_N_PGal/total_lum) \n",
    "print(\"The TARGETID values of these galaxies are: \\n\", data_sort_by_PGal[\"TARGETID\"][:N_galaxies])"
   ]
  },
  {
   "cell_type": "markdown",
   "id": "d2c92af9-4b79-436e-b3d3-3f5a311eee47",
   "metadata": {
    "jp-MarkdownHeadingCollapsed": true,
    "tags": []
   },
   "source": [
    "# other stuff"
   ]
  },
  {
   "cell_type": "code",
   "execution_count": null,
   "id": "8f71887e-729b-4583-bf7b-885f96b7fb3d",
   "metadata": {},
   "outputs": [],
   "source": [
    "obj_num = np.arange(0,1000,1)\n",
    "\n",
    "fig, ax = plt.subplots(figsize=(19, 5))\n",
    "\n",
    "ax.bar(obj_num, fully_proc_data[\"PROB\"][199000:200000], color = \"green\")\n",
    "plt.show()"
   ]
  },
  {
   "cell_type": "code",
   "execution_count": null,
   "id": "e64dfc37-d886-431f-bab7-e0a1460b285b",
   "metadata": {},
   "outputs": [],
   "source": [
    "np.min(fully_proc_data[\"2D_PROB\"])"
   ]
  },
  {
   "cell_type": "code",
   "execution_count": null,
   "id": "c019e5dc-3e74-45c5-b610-50e64e2e8331",
   "metadata": {},
   "outputs": [],
   "source": [
    "np.max(fully_proc_data[\"2D_PROB\"])"
   ]
  },
  {
   "cell_type": "code",
   "execution_count": null,
   "id": "5c7a95c2-5758-4380-a1ea-3414a3da82ec",
   "metadata": {},
   "outputs": [],
   "source": [
    "ii = fully_proc_data['TARGET_RA']>(1.1865234375)\n",
    "ii &= fully_proc_data['TARGET_RA']<(2.5048828125)\n",
    "ii &= fully_proc_data['TARGET_DEC']>(-8.611835338594284)\n",
    "ii &= fully_proc_data['TARGET_DEC']<(-5.079715792733479)\n",
    "\n",
    "selection = fully_proc_data[ii]"
   ]
  },
  {
   "cell_type": "code",
   "execution_count": null,
   "id": "32629d6d-2b02-474c-95c6-b5e1637ef680",
   "metadata": {},
   "outputs": [],
   "source": [
    "selection"
   ]
  },
  {
   "cell_type": "code",
   "execution_count": null,
   "id": "e945918d-b5cc-4543-81a2-17648a9095b4",
   "metadata": {},
   "outputs": [],
   "source": [
    "data_w3DProb = data_w3DProb.group_by(\"dP_dV\")\n",
    "data_w3DProb_desc = data_w3DProb[::-1]"
   ]
  }
 ],
 "metadata": {
  "kernelspec": {
   "display_name": "DESI 23.1",
   "language": "python",
   "name": "desi-23.1"
  },
  "language_info": {
   "codemirror_mode": {
    "name": "ipython",
    "version": 3
   },
   "file_extension": ".py",
   "mimetype": "text/x-python",
   "name": "python",
   "nbconvert_exporter": "python",
   "pygments_lexer": "ipython3",
   "version": "3.10.8"
  }
 },
 "nbformat": 4,
 "nbformat_minor": 5
}
