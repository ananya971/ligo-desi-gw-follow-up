{
 "cells": [
  {
   "cell_type": "markdown",
   "id": "e07dca0b-4d99-4873-99b7-d8c6e377e2d6",
   "metadata": {},
   "source": [
    "# Database Query\n",
    "\n",
    "This code is supposed to download the data from the DESI database daily and store relevant information in a fits file. For now I just query the data once and then put it in a fits file. From there, one could load the data, download all the data from the database and only add whats new on a daily basis."
   ]
  },
  {
   "cell_type": "code",
   "execution_count": null,
   "id": "c5ef3c7a-9053-40dc-9bea-b535aa3de3f2",
   "metadata": {},
   "outputs": [],
   "source": [
    "from astropy.io import fits\n",
    "from astropy.table import Table, hstack, vstack\n",
    "from astropy import table\n",
    "\n",
    "import numpy as np\n",
    "\n",
    "import gasel as gs\n",
    "\n",
    "from tqdm import tqdm"
   ]
  },
  {
   "cell_type": "code",
   "execution_count": 3,
   "id": "e864b788-aa5b-4342-96bc-db068425e9b8",
   "metadata": {},
   "outputs": [],
   "source": [
    "# connect to db\n",
    "cursor = gs.connect_to_time_db()"
   ]
  },
  {
   "cell_type": "code",
   "execution_count": 1,
   "id": "c2230193-e8e6-435b-be2d-e56bee37161d",
   "metadata": {},
   "outputs": [],
   "source": [
    "diameter = 4"
   ]
  },
  {
   "cell_type": "code",
   "execution_count": 4,
   "id": "ff04700a-779c-4b4d-abc4-a74c1d8a94a6",
   "metadata": {},
   "outputs": [
    {
     "name": "stderr",
     "output_type": "stream",
     "text": [
      "100%|██████████| 93/93 [28:54<00:00, 18.65s/it]\n"
     ]
    },
    {
     "data": {
      "text/html": [
       "<div><i>Table length=5</i>\n",
       "<table id=\"table140469301950496\" class=\"table-striped table-bordered table-condensed\">\n",
       "<thead><tr><th>TARGETID</th><th>TARGET_RA</th><th>TARGET_DEC</th><th>LASTNIGHT</th><th>Z</th><th>ZERR</th><th>ZWARN</th><th>FLUX_G</th><th>FLUX_R</th><th>FLUX_Z</th><th>SPECTYPE</th><th>BGS_TARGET</th><th>EBV</th><th>SERSIC</th></tr></thead>\n",
       "<thead><tr><th>int64</th><th>float64</th><th>float64</th><th>int64</th><th>float64</th><th>float64</th><th>int64</th><th>float64</th><th>float64</th><th>float64</th><th>str6</th><th>int64</th><th>float64</th><th>float64</th></tr></thead>\n",
       "<tr><td>39627461389979471</td><td>0.199208396611172</td><td>-13.4284533588966</td><td>20211020</td><td>0.0842981615211128</td><td>1.02751859803205e-05</td><td>0</td><td>349.176239013672</td><td>151.578369140625</td><td>657.703186035156</td><td>GALAXY</td><td>131074</td><td>0.0286298077553511</td><td>1.75290405750275</td></tr>\n",
       "<tr><td>39627461394171068</td><td>0.324188154725867</td><td>-13.3757445122443</td><td>20211020</td><td>0.358443849991424</td><td>6.26159169498368e-05</td><td>0</td><td>15.7543725967407</td><td>3.10386729240417</td><td>35.017635345459</td><td>GALAXY</td><td>131074</td><td>0.0287617538124323</td><td>4.0</td></tr>\n",
       "<tr><td>39627461394173293</td><td>0.423061498719655</td><td>-13.3821980272798</td><td>20211020</td><td>7.96335573109056e-06</td><td>2.72051014406708e-06</td><td>0</td><td>58.3771476745605</td><td>25.3495140075684</td><td>91.9729995727539</td><td>STAR</td><td>0</td><td>0.0290689337998629</td><td>0.0</td></tr>\n",
       "<tr><td>39627467278778997</td><td>0.54074701108748</td><td>-13.1672162663649</td><td>20211020</td><td>0.368523065341714</td><td>2.55883523529775e-05</td><td>0</td><td>15.623589515686</td><td>5.02074289321899</td><td>32.4087829589844</td><td>GALAXY</td><td>131074</td><td>0.0333173200488091</td><td>1.0</td></tr>\n",
       "<tr><td>616088219582202155</td><td>0.626179874156068</td><td>-13.3202664780153</td><td>20211020</td><td>0.187326155709928</td><td>7.97282091423762e-06</td><td>1</td><td>0.0</td><td>0.0</td><td>0.0</td><td>GALAXY</td><td>0</td><td>0.0</td><td>0.0</td></tr>\n",
       "</table></div>"
      ],
      "text/plain": [
       "<Table length=5>\n",
       "     TARGETID          TARGET_RA     ...        EBV              SERSIC     \n",
       "      int64             float64      ...      float64           float64     \n",
       "------------------ ----------------- ... ------------------ ----------------\n",
       " 39627461389979471 0.199208396611172 ... 0.0286298077553511 1.75290405750275\n",
       " 39627461394171068 0.324188154725867 ... 0.0287617538124323              4.0\n",
       " 39627461394173293 0.423061498719655 ... 0.0290689337998629              0.0\n",
       " 39627467278778997  0.54074701108748 ... 0.0333173200488091              1.0\n",
       "616088219582202155 0.626179874156068 ...                0.0              0.0"
      ]
     },
     "execution_count": 4,
     "metadata": {},
     "output_type": "execute_result"
    }
   ],
   "source": [
    "full_data = []\n",
    "\n",
    "for x in tqdm(np.arange(0, 370, diameter)): # could improve this since 0 = 360... (was 370)\n",
    "    #print(\"x: \", x)\n",
    "    for y in np.arange(-20, 90, diameter): # (was 100)\n",
    "        #print(\"x & y\", x,y)\n",
    "        #print(y)\n",
    "        rows = gs.get_data_rad_search(x,y, diameter/2, cursor)\n",
    "        #data = gs.make_list(rows)\n",
    "        #print(rows[:2])\n",
    "        if rows != None:\n",
    "            #print(f\"data {len(rows)}\")\n",
    "            #print(full_data)\n",
    "            #print(data)\n",
    "            #print(rows[:2])\n",
    "            for obj in rows:\n",
    "                \n",
    "                full_data.append(obj)\n",
    "        \n",
    "full_table = Table(rows = full_data, names = gs.std_names)\n",
    "\n",
    "\n",
    "full_table[:5]"
   ]
  },
  {
   "cell_type": "code",
   "execution_count": 5,
   "id": "287babc9-a644-44eb-b6e3-2e47e95cc4da",
   "metadata": {},
   "outputs": [
    {
     "data": {
      "text/plain": [
       "56232189"
      ]
     },
     "execution_count": 5,
     "metadata": {},
     "output_type": "execute_result"
    }
   ],
   "source": [
    "len(full_data)"
   ]
  },
  {
   "cell_type": "code",
   "execution_count": 6,
   "id": "e2594638-581d-4bb5-abc2-871ef00c1e3e",
   "metadata": {},
   "outputs": [],
   "source": [
    "full_table.write('/global/homes/j/jgassert/full_table.ecsv', overwrite=True)  "
   ]
  },
  {
   "cell_type": "code",
   "execution_count": 4,
   "id": "74ed329a-f5a3-41b5-bae1-15fadab5bc0f",
   "metadata": {},
   "outputs": [
    {
     "name": "stderr",
     "output_type": "stream",
     "text": [
      "100%|██████████| 92/92 [27:34<00:00, 17.99s/it]\n"
     ]
    }
   ],
   "source": [
    "full_data2 = []\n",
    "\n",
    "for x in tqdm(np.arange(2, 368, diameter)): # (was 360)\n",
    "    #print(\"x: \", x)\n",
    "    for y in np.arange(-18, 86, diameter): # (was 90)\n",
    "        #print(\"x & y\", x,y)\n",
    "        #print(y)\n",
    "        rows2 = gs.get_data_rad_search(x,y, diameter/2, cursor)\n",
    "        #data = gs.make_list(rows)\n",
    "        #print(rows[:2])\n",
    "        if rows2 != None:\n",
    "            #print(f\"data {len(rows)}\")\n",
    "            #print(full_data)\n",
    "            #print(data)\n",
    "            #print(rows[:2])\n",
    "            for obj2 in rows2:\n",
    "                \n",
    "                full_data2.append(obj2)"
   ]
  },
  {
   "cell_type": "code",
   "execution_count": 5,
   "id": "1b99cc41-033b-4bb2-81c6-777f5e0a3475",
   "metadata": {},
   "outputs": [],
   "source": [
    "full_table2 = Table(rows = full_data2, names = gs.std_names)"
   ]
  },
  {
   "cell_type": "code",
   "execution_count": 6,
   "id": "f178c01f-6f29-46bc-9dbf-489410e3a195",
   "metadata": {},
   "outputs": [
    {
     "data": {
      "text/plain": [
       "55860834"
      ]
     },
     "execution_count": 6,
     "metadata": {},
     "output_type": "execute_result"
    }
   ],
   "source": [
    "len(full_table2)"
   ]
  },
  {
   "cell_type": "code",
   "execution_count": 7,
   "id": "09cc8173-b0cb-4447-b691-8e2204f102e7",
   "metadata": {},
   "outputs": [],
   "source": [
    "full_table2.write('/global/homes/j/jgassert/full_table2.ecsv', overwrite=True)  "
   ]
  },
  {
   "cell_type": "code",
   "execution_count": null,
   "id": "680c21ae-0678-4c9e-9884-fde2bcf98436",
   "metadata": {},
   "outputs": [],
   "source": [
    "from astropy.io import ascii\n",
    "full_table = ascii.read(\"/global/homes/j/jgassert/full_table.ecsv\")"
   ]
  },
  {
   "cell_type": "code",
   "execution_count": null,
   "id": "ba5710dc-313b-4e63-bad0-1ffec76a3ab6",
   "metadata": {},
   "outputs": [],
   "source": []
  },
  {
   "cell_type": "code",
   "execution_count": null,
   "id": "29fdfec5-61dc-4375-acb9-3b80fa0fd12f",
   "metadata": {},
   "outputs": [],
   "source": [
    "full_table2 = ascii.read(\"/global/homes/j/jgassert/full_table2.ecsv\") "
   ]
  },
  {
   "cell_type": "code",
   "execution_count": null,
   "id": "0e123abd-e6b7-4638-a686-f13a90863732",
   "metadata": {},
   "outputs": [],
   "source": [
    "data = vstack([full_table, full_table2])"
   ]
  },
  {
   "cell_type": "code",
   "execution_count": null,
   "id": "a174e5ed-3a57-44ca-84f7-3b7b333cfea8",
   "metadata": {},
   "outputs": [],
   "source": [
    "data = table.unique(data, keys = \"TARGETID\")"
   ]
  },
  {
   "cell_type": "code",
   "execution_count": null,
   "id": "5003dfb6-5871-4d7a-9a45-d864c42f135e",
   "metadata": {},
   "outputs": [],
   "source": [
    "data.write('/global/homes/j/jgassert/data.ecsv', overwrite=False)  "
   ]
  },
  {
   "cell_type": "code",
   "execution_count": 4,
   "id": "d3ea5fbd-8d30-49c7-8942-abc13287872a",
   "metadata": {},
   "outputs": [],
   "source": [
    "data = ascii.read(\"/global/homes/j/jgassert/data.ecsv\") "
   ]
  },
  {
   "cell_type": "code",
   "execution_count": 5,
   "id": "c6026d54-d6c0-4763-abe0-b9282e188627",
   "metadata": {},
   "outputs": [
    {
     "data": {
      "text/plain": [
       "43953830"
      ]
     },
     "execution_count": 5,
     "metadata": {},
     "output_type": "execute_result"
    }
   ],
   "source": [
    "len(data)"
   ]
  },
  {
   "cell_type": "code",
   "execution_count": 6,
   "id": "cc050d9e-1503-4d21-a566-184bab1e8d5a",
   "metadata": {},
   "outputs": [
    {
     "data": {
      "text/html": [
       "<div><i>Table length=5</i>\n",
       "<table id=\"table140272391217088\" class=\"table-striped table-bordered table-condensed\">\n",
       "<thead><tr><th>TARGETID</th><th>TARGET_RA</th><th>TARGET_DEC</th><th>LASTNIGHT</th><th>Z</th><th>ZERR</th><th>ZWARN</th><th>FLUX_G</th><th>FLUX_R</th><th>FLUX_Z</th><th>SPECTYPE</th><th>BGS_TARGET</th><th>EBV</th><th>SERSIC</th></tr></thead>\n",
       "<thead><tr><th>int64</th><th>float64</th><th>float64</th><th>int64</th><th>float64</th><th>float64</th><th>int64</th><th>float64</th><th>float64</th><th>float64</th><th>str6</th><th>int64</th><th>float64</th><th>float64</th></tr></thead>\n",
       "<tr><td>-833389526</td><td>227.433272279891</td><td>66.6519046819295</td><td>20230427</td><td>1.1824834644376</td><td>9.79136990918098e-05</td><td>5</td><td>0.0</td><td>0.0</td><td>0.0</td><td>GALAXY</td><td>0</td><td>0.0290863439440727</td><td>0.0</td></tr>\n",
       "<tr><td>-833389518</td><td>228.204498084663</td><td>66.7769162408949</td><td>20230427</td><td>1.01705132530733</td><td>0.000198853226529452</td><td>5</td><td>0.0</td><td>0.0</td><td>0.0</td><td>GALAXY</td><td>0</td><td>0.0315619334578514</td><td>0.0</td></tr>\n",
       "<tr><td>-833389510</td><td>227.642453626374</td><td>66.7226250371644</td><td>20230427</td><td>1.20045807712059</td><td>0.000130270720806434</td><td>5</td><td>0.0</td><td>0.0</td><td>0.0</td><td>GALAXY</td><td>0</td><td>0.0310118906199932</td><td>0.0</td></tr>\n",
       "<tr><td>-833389492</td><td>227.755926256736</td><td>66.7768026589679</td><td>20230427</td><td>1.39280058555401</td><td>0.000191373523674881</td><td>2053</td><td>0.0</td><td>0.0</td><td>0.0</td><td>GALAXY</td><td>0</td><td>0.0316010527312756</td><td>0.0</td></tr>\n",
       "<tr><td>-833389491</td><td>227.851676937586</td><td>66.7933443247276</td><td>20230427</td><td>0.747688478964211</td><td>8.9141824351558e-05</td><td>5</td><td>0.0</td><td>0.0</td><td>0.0</td><td>GALAXY</td><td>0</td><td>0.0321089513599873</td><td>0.0</td></tr>\n",
       "</table></div>"
      ],
      "text/plain": [
       "<Table length=5>\n",
       " TARGETID     TARGET_RA        TARGET_DEC    ...        EBV          SERSIC\n",
       "  int64        float64          float64      ...      float64       float64\n",
       "---------- ---------------- ---------------- ... ------------------ -------\n",
       "-833389526 227.433272279891 66.6519046819295 ... 0.0290863439440727     0.0\n",
       "-833389518 228.204498084663 66.7769162408949 ... 0.0315619334578514     0.0\n",
       "-833389510 227.642453626374 66.7226250371644 ... 0.0310118906199932     0.0\n",
       "-833389492 227.755926256736 66.7768026589679 ... 0.0316010527312756     0.0\n",
       "-833389491 227.851676937586 66.7933443247276 ... 0.0321089513599873     0.0"
      ]
     },
     "execution_count": 6,
     "metadata": {},
     "output_type": "execute_result"
    }
   ],
   "source": [
    "data[:5]"
   ]
  },
  {
   "cell_type": "code",
   "execution_count": 14,
   "id": "cb58e387-c063-4ea1-80b9-c559fd1e7ca0",
   "metadata": {},
   "outputs": [],
   "source": [
    "good_z_data = data[data[\"ZWARN\"] == 0]"
   ]
  },
  {
   "cell_type": "code",
   "execution_count": 15,
   "id": "3428649a-6d8d-4003-a339-e2b73077355c",
   "metadata": {},
   "outputs": [],
   "source": [
    "good_z_data = good_z_data[good_z_data[\"Z\"]>0]"
   ]
  },
  {
   "cell_type": "code",
   "execution_count": 18,
   "id": "22034205-b621-41de-852c-64151115086d",
   "metadata": {},
   "outputs": [
    {
     "ename": "KeyboardInterrupt",
     "evalue": "",
     "output_type": "error",
     "traceback": [
      "\u001b[0;31m---------------------------------------------------------------------------\u001b[0m",
      "\u001b[0;31mKeyboardInterrupt\u001b[0m                         Traceback (most recent call last)",
      "Cell \u001b[0;32mIn[18], line 1\u001b[0m\n\u001b[0;32m----> 1\u001b[0m \u001b[43mgood_z_data\u001b[49m\u001b[38;5;241;43m.\u001b[39;49m\u001b[43mwrite\u001b[49m\u001b[43m(\u001b[49m\u001b[38;5;124;43m'\u001b[39;49m\u001b[38;5;124;43m/global/homes/j/jgassert/data.ecsv\u001b[39;49m\u001b[38;5;124;43m'\u001b[39;49m\u001b[43m,\u001b[49m\u001b[43m \u001b[49m\u001b[43moverwrite\u001b[49m\u001b[38;5;241;43m=\u001b[39;49m\u001b[38;5;28;43;01mTrue\u001b[39;49;00m\u001b[43m)\u001b[49m  \n",
      "File \u001b[0;32m~/.conda/envs/MambaTest/lib/python3.10/site-packages/astropy/table/connect.py:130\u001b[0m, in \u001b[0;36mTableWrite.__call__\u001b[0;34m(self, serialize_method, *args, **kwargs)\u001b[0m\n\u001b[1;32m    128\u001b[0m instance \u001b[38;5;241m=\u001b[39m \u001b[38;5;28mself\u001b[39m\u001b[38;5;241m.\u001b[39m_instance\n\u001b[1;32m    129\u001b[0m \u001b[38;5;28;01mwith\u001b[39;00m serialize_method_as(instance, serialize_method):\n\u001b[0;32m--> 130\u001b[0m     \u001b[38;5;28;43mself\u001b[39;49m\u001b[38;5;241;43m.\u001b[39;49m\u001b[43mregistry\u001b[49m\u001b[38;5;241;43m.\u001b[39;49m\u001b[43mwrite\u001b[49m\u001b[43m(\u001b[49m\u001b[43minstance\u001b[49m\u001b[43m,\u001b[49m\u001b[43m \u001b[49m\u001b[38;5;241;43m*\u001b[39;49m\u001b[43margs\u001b[49m\u001b[43m,\u001b[49m\u001b[43m \u001b[49m\u001b[38;5;241;43m*\u001b[39;49m\u001b[38;5;241;43m*\u001b[39;49m\u001b[43mkwargs\u001b[49m\u001b[43m)\u001b[49m\n",
      "File \u001b[0;32m~/.conda/envs/MambaTest/lib/python3.10/site-packages/astropy/io/registry/core.py:385\u001b[0m, in \u001b[0;36mUnifiedOutputRegistry.write\u001b[0;34m(self, data, format, *args, **kwargs)\u001b[0m\n\u001b[1;32m    380\u001b[0m     \u001b[38;5;28mformat\u001b[39m \u001b[38;5;241m=\u001b[39m \u001b[38;5;28mself\u001b[39m\u001b[38;5;241m.\u001b[39m_get_valid_format(\n\u001b[1;32m    381\u001b[0m         \u001b[38;5;124m\"\u001b[39m\u001b[38;5;124mwrite\u001b[39m\u001b[38;5;124m\"\u001b[39m, data\u001b[38;5;241m.\u001b[39m\u001b[38;5;18m__class__\u001b[39m, path, fileobj, args, kwargs\n\u001b[1;32m    382\u001b[0m     )\n\u001b[1;32m    384\u001b[0m writer \u001b[38;5;241m=\u001b[39m \u001b[38;5;28mself\u001b[39m\u001b[38;5;241m.\u001b[39mget_writer(\u001b[38;5;28mformat\u001b[39m, data\u001b[38;5;241m.\u001b[39m\u001b[38;5;18m__class__\u001b[39m)\n\u001b[0;32m--> 385\u001b[0m \u001b[38;5;28;01mreturn\u001b[39;00m \u001b[43mwriter\u001b[49m\u001b[43m(\u001b[49m\u001b[43mdata\u001b[49m\u001b[43m,\u001b[49m\u001b[43m \u001b[49m\u001b[38;5;241;43m*\u001b[39;49m\u001b[43margs\u001b[49m\u001b[43m,\u001b[49m\u001b[43m \u001b[49m\u001b[38;5;241;43m*\u001b[39;49m\u001b[38;5;241;43m*\u001b[39;49m\u001b[43mkwargs\u001b[49m\u001b[43m)\u001b[49m\n",
      "File \u001b[0;32m~/.conda/envs/MambaTest/lib/python3.10/site-packages/astropy/io/ascii/connect.py:28\u001b[0m, in \u001b[0;36mio_write\u001b[0;34m(format, table, filename, **kwargs)\u001b[0m\n\u001b[1;32m     26\u001b[0m     \u001b[38;5;28mformat\u001b[39m \u001b[38;5;241m=\u001b[39m re\u001b[38;5;241m.\u001b[39msub(\u001b[38;5;124mr\u001b[39m\u001b[38;5;124m\"\u001b[39m\u001b[38;5;124m^ascii\u001b[39m\u001b[38;5;124m\\\u001b[39m\u001b[38;5;124m.\u001b[39m\u001b[38;5;124m\"\u001b[39m, \u001b[38;5;124m\"\u001b[39m\u001b[38;5;124m\"\u001b[39m, \u001b[38;5;28mformat\u001b[39m)\n\u001b[1;32m     27\u001b[0m     kwargs[\u001b[38;5;124m\"\u001b[39m\u001b[38;5;124mformat\u001b[39m\u001b[38;5;124m\"\u001b[39m] \u001b[38;5;241m=\u001b[39m \u001b[38;5;28mformat\u001b[39m\n\u001b[0;32m---> 28\u001b[0m \u001b[38;5;28;01mreturn\u001b[39;00m \u001b[43mwrite\u001b[49m\u001b[43m(\u001b[49m\u001b[43mtable\u001b[49m\u001b[43m,\u001b[49m\u001b[43m \u001b[49m\u001b[43mfilename\u001b[49m\u001b[43m,\u001b[49m\u001b[43m \u001b[49m\u001b[38;5;241;43m*\u001b[39;49m\u001b[38;5;241;43m*\u001b[39;49m\u001b[43mkwargs\u001b[49m\u001b[43m)\u001b[49m\n",
      "File \u001b[0;32m~/.conda/envs/MambaTest/lib/python3.10/site-packages/astropy/io/ascii/ui.py:980\u001b[0m, in \u001b[0;36mwrite\u001b[0;34m(table, output, format, Writer, fast_writer, overwrite, **kwargs)\u001b[0m\n\u001b[1;32m    977\u001b[0m     writer\u001b[38;5;241m.\u001b[39mwrite(table, output)\n\u001b[1;32m    978\u001b[0m     \u001b[38;5;28;01mreturn\u001b[39;00m\n\u001b[0;32m--> 980\u001b[0m lines \u001b[38;5;241m=\u001b[39m \u001b[43mwriter\u001b[49m\u001b[38;5;241;43m.\u001b[39;49m\u001b[43mwrite\u001b[49m\u001b[43m(\u001b[49m\u001b[43mtable\u001b[49m\u001b[43m)\u001b[49m\n\u001b[1;32m    982\u001b[0m \u001b[38;5;66;03m# Write the lines to output\u001b[39;00m\n\u001b[1;32m    983\u001b[0m outstr \u001b[38;5;241m=\u001b[39m os\u001b[38;5;241m.\u001b[39mlinesep\u001b[38;5;241m.\u001b[39mjoin(lines)\n",
      "File \u001b[0;32m~/.conda/envs/MambaTest/lib/python3.10/site-packages/astropy/io/ascii/core.py:1581\u001b[0m, in \u001b[0;36mBaseReader.write\u001b[0;34m(self, table)\u001b[0m\n\u001b[1;32m   1579\u001b[0m lines \u001b[38;5;241m=\u001b[39m []\n\u001b[1;32m   1580\u001b[0m \u001b[38;5;28mself\u001b[39m\u001b[38;5;241m.\u001b[39mwrite_header(lines, table\u001b[38;5;241m.\u001b[39mmeta)\n\u001b[0;32m-> 1581\u001b[0m \u001b[38;5;28;43mself\u001b[39;49m\u001b[38;5;241;43m.\u001b[39;49m\u001b[43mdata\u001b[49m\u001b[38;5;241;43m.\u001b[39;49m\u001b[43mwrite\u001b[49m\u001b[43m(\u001b[49m\u001b[43mlines\u001b[49m\u001b[43m)\u001b[49m\n\u001b[1;32m   1583\u001b[0m \u001b[38;5;28;01mreturn\u001b[39;00m lines\n",
      "File \u001b[0;32m~/.conda/envs/MambaTest/lib/python3.10/site-packages/astropy/io/ascii/core.py:967\u001b[0m, in \u001b[0;36mBaseData.write\u001b[0;34m(self, lines)\u001b[0m\n\u001b[1;32m    964\u001b[0m \u001b[38;5;28;01mwhile\u001b[39;00m \u001b[38;5;28mlen\u001b[39m(lines) \u001b[38;5;241m<\u001b[39m data_start_line:\n\u001b[1;32m    965\u001b[0m     lines\u001b[38;5;241m.\u001b[39mappend(itertools\u001b[38;5;241m.\u001b[39mcycle(\u001b[38;5;28mself\u001b[39m\u001b[38;5;241m.\u001b[39mwrite_spacer_lines))\n\u001b[0;32m--> 967\u001b[0m col_str_iters \u001b[38;5;241m=\u001b[39m \u001b[38;5;28;43mself\u001b[39;49m\u001b[38;5;241;43m.\u001b[39;49m\u001b[43mstr_vals\u001b[49m\u001b[43m(\u001b[49m\u001b[43m)\u001b[49m\n\u001b[1;32m    968\u001b[0m \u001b[38;5;28;01mfor\u001b[39;00m vals \u001b[38;5;129;01min\u001b[39;00m \u001b[38;5;28mzip\u001b[39m(\u001b[38;5;241m*\u001b[39mcol_str_iters):\n\u001b[1;32m    969\u001b[0m     lines\u001b[38;5;241m.\u001b[39mappend(\u001b[38;5;28mself\u001b[39m\u001b[38;5;241m.\u001b[39msplitter\u001b[38;5;241m.\u001b[39mjoin(vals))\n",
      "File \u001b[0;32m~/.conda/envs/MambaTest/lib/python3.10/site-packages/astropy/io/ascii/ecsv.py:435\u001b[0m, in \u001b[0;36mEcsvData.str_vals\u001b[0;34m(self)\u001b[0m\n\u001b[1;32m    432\u001b[0m         \u001b[38;5;28;01mreturn\u001b[39;00m \u001b[38;5;28mstr\u001b[39m(col[idx])\n\u001b[1;32m    434\u001b[0m \u001b[38;5;28;01mtry\u001b[39;00m:\n\u001b[0;32m--> 435\u001b[0m     col\u001b[38;5;241m.\u001b[39mstr_vals \u001b[38;5;241m=\u001b[39m [format_col_item(idx) \u001b[38;5;28;01mfor\u001b[39;00m idx \u001b[38;5;129;01min\u001b[39;00m \u001b[38;5;28mrange\u001b[39m(\u001b[38;5;28mlen\u001b[39m(col))]\n\u001b[1;32m    436\u001b[0m \u001b[38;5;28;01mexcept\u001b[39;00m \u001b[38;5;167;01mTypeError\u001b[39;00m \u001b[38;5;28;01mas\u001b[39;00m exc:\n\u001b[1;32m    437\u001b[0m     \u001b[38;5;28;01mraise\u001b[39;00m \u001b[38;5;167;01mTypeError\u001b[39;00m(\n\u001b[1;32m    438\u001b[0m         \u001b[38;5;124mf\u001b[39m\u001b[38;5;124m\"\u001b[39m\u001b[38;5;124mcould not convert column \u001b[39m\u001b[38;5;132;01m{\u001b[39;00mcol\u001b[38;5;241m.\u001b[39minfo\u001b[38;5;241m.\u001b[39mname\u001b[38;5;132;01m!r}\u001b[39;00m\u001b[38;5;124m to string: \u001b[39m\u001b[38;5;132;01m{\u001b[39;00mexc\u001b[38;5;132;01m}\u001b[39;00m\u001b[38;5;124m\"\u001b[39m\n\u001b[1;32m    439\u001b[0m     ) \u001b[38;5;28;01mfrom\u001b[39;00m \u001b[38;5;21;01mexc\u001b[39;00m\n",
      "File \u001b[0;32m~/.conda/envs/MambaTest/lib/python3.10/site-packages/astropy/io/ascii/ecsv.py:435\u001b[0m, in \u001b[0;36m<listcomp>\u001b[0;34m(.0)\u001b[0m\n\u001b[1;32m    432\u001b[0m         \u001b[38;5;28;01mreturn\u001b[39;00m \u001b[38;5;28mstr\u001b[39m(col[idx])\n\u001b[1;32m    434\u001b[0m \u001b[38;5;28;01mtry\u001b[39;00m:\n\u001b[0;32m--> 435\u001b[0m     col\u001b[38;5;241m.\u001b[39mstr_vals \u001b[38;5;241m=\u001b[39m [\u001b[43mformat_col_item\u001b[49m\u001b[43m(\u001b[49m\u001b[43midx\u001b[49m\u001b[43m)\u001b[49m \u001b[38;5;28;01mfor\u001b[39;00m idx \u001b[38;5;129;01min\u001b[39;00m \u001b[38;5;28mrange\u001b[39m(\u001b[38;5;28mlen\u001b[39m(col))]\n\u001b[1;32m    436\u001b[0m \u001b[38;5;28;01mexcept\u001b[39;00m \u001b[38;5;167;01mTypeError\u001b[39;00m \u001b[38;5;28;01mas\u001b[39;00m exc:\n\u001b[1;32m    437\u001b[0m     \u001b[38;5;28;01mraise\u001b[39;00m \u001b[38;5;167;01mTypeError\u001b[39;00m(\n\u001b[1;32m    438\u001b[0m         \u001b[38;5;124mf\u001b[39m\u001b[38;5;124m\"\u001b[39m\u001b[38;5;124mcould not convert column \u001b[39m\u001b[38;5;132;01m{\u001b[39;00mcol\u001b[38;5;241m.\u001b[39minfo\u001b[38;5;241m.\u001b[39mname\u001b[38;5;132;01m!r}\u001b[39;00m\u001b[38;5;124m to string: \u001b[39m\u001b[38;5;132;01m{\u001b[39;00mexc\u001b[38;5;132;01m}\u001b[39;00m\u001b[38;5;124m\"\u001b[39m\n\u001b[1;32m    439\u001b[0m     ) \u001b[38;5;28;01mfrom\u001b[39;00m \u001b[38;5;21;01mexc\u001b[39;00m\n",
      "File \u001b[0;32m~/.conda/envs/MambaTest/lib/python3.10/site-packages/astropy/io/ascii/ecsv.py:432\u001b[0m, in \u001b[0;36mEcsvData.str_vals.<locals>.format_col_item\u001b[0;34m(idx)\u001b[0m\n\u001b[1;32m    431\u001b[0m \u001b[38;5;28;01mdef\u001b[39;00m \u001b[38;5;21mformat_col_item\u001b[39m(idx):\n\u001b[0;32m--> 432\u001b[0m     \u001b[38;5;28;01mreturn\u001b[39;00m \u001b[38;5;28;43mstr\u001b[39;49m\u001b[43m(\u001b[49m\u001b[43mcol\u001b[49m\u001b[43m[\u001b[49m\u001b[43midx\u001b[49m\u001b[43m]\u001b[49m\u001b[43m)\u001b[49m\n",
      "\u001b[0;31mKeyboardInterrupt\u001b[0m: "
     ]
    }
   ],
   "source": [
    "good_z_data.write('/global/homes/j/jgassert/good_z_data.ecsv', overwrite=True)  "
   ]
  },
  {
   "cell_type": "code",
   "execution_count": 17,
   "id": "fb7dd52e-c07e-4943-b302-38c131dcac5f",
   "metadata": {},
   "outputs": [
    {
     "data": {
      "text/plain": [
       "27335727"
      ]
     },
     "execution_count": 17,
     "metadata": {},
     "output_type": "execute_result"
    }
   ],
   "source": [
    "len(good_z_data)"
   ]
  },
  {
   "cell_type": "code",
   "execution_count": null,
   "id": "ce3d11fe-5326-4fe3-ac52-7e5c41f70dae",
   "metadata": {},
   "outputs": [],
   "source": []
  }
 ],
 "metadata": {
  "kernelspec": {
   "display_name": "Python (MambaTest)",
   "language": "python",
   "name": "mambatest"
  },
  "language_info": {
   "codemirror_mode": {
    "name": "ipython",
    "version": 3
   },
   "file_extension": ".py",
   "mimetype": "text/x-python",
   "name": "python",
   "nbconvert_exporter": "python",
   "pygments_lexer": "ipython3",
   "version": "3.10.10"
  }
 },
 "nbformat": 4,
 "nbformat_minor": 5
}
