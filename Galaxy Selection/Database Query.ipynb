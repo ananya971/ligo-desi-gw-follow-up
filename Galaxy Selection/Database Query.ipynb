{
 "cells": [
  {
   "cell_type": "markdown",
   "id": "e07dca0b-4d99-4873-99b7-d8c6e377e2d6",
   "metadata": {},
   "source": [
    "# Database Query\n",
    "\n",
    "This code is supposed to download the data from the DESI database daily and store relevant information in a fits file. For now I just query the data once and then put it in a fits file. From there, one could load the data, download all the data from the database and only add whats new on a daily basis."
   ]
  },
  {
   "cell_type": "code",
   "execution_count": 3,
   "id": "c5ef3c7a-9053-40dc-9bea-b535aa3de3f2",
   "metadata": {},
   "outputs": [],
   "source": [
    "from astropy.io import fits\n",
    "from astropy.table import Table, hstack, vstack\n",
    "from astropy import table\n",
    "\n",
    "import numpy as np\n",
    "\n",
    "import gasel as gs\n",
    "\n",
    "from tqdm import tqdm"
   ]
  },
  {
   "cell_type": "code",
   "execution_count": 2,
   "id": "e864b788-aa5b-4342-96bc-db068425e9b8",
   "metadata": {},
   "outputs": [],
   "source": [
    "# connect to db\n",
    "cursor = gs.connect_to_time_db()"
   ]
  },
  {
   "cell_type": "code",
   "execution_count": 4,
   "id": "c2230193-e8e6-435b-be2d-e56bee37161d",
   "metadata": {},
   "outputs": [],
   "source": [
    "diameter = 4"
   ]
  },
  {
   "cell_type": "code",
   "execution_count": 3,
   "id": "ff04700a-779c-4b4d-abc4-a74c1d8a94a6",
   "metadata": {},
   "outputs": [
    {
     "name": "stderr",
     "output_type": "stream",
     "text": [
      "100%|██████████| 93/93 [28:24<00:00, 18.32s/it]\n"
     ]
    },
    {
     "data": {
      "text/html": [
       "<div><i>Table length=5</i>\n",
       "<table id=\"table140582729924320\" class=\"table-striped table-bordered table-condensed\">\n",
       "<thead><tr><th>TARGETID</th><th>TARGET_RA</th><th>TARGET_DEC</th><th>LASTNIGHT</th><th>Z</th><th>ZERR</th><th>ZWARN</th><th>FLUX_G</th><th>FLUX_R</th><th>FLUX_Z</th><th>SPECTYPE</th><th>BGS_TARGET</th><th>EBV</th><th>SERSIC</th></tr></thead>\n",
       "<thead><tr><th>int64</th><th>float64</th><th>float64</th><th>int64</th><th>float64</th><th>float64</th><th>int64</th><th>float64</th><th>float64</th><th>float64</th><th>str6</th><th>int64</th><th>float64</th><th>float64</th></tr></thead>\n",
       "<tr><td>39627461389979471</td><td>0.199208396611172</td><td>-13.4284533588966</td><td>20211020</td><td>0.0842981615211128</td><td>1.02751859803205e-05</td><td>0</td><td>349.176239013672</td><td>151.578369140625</td><td>657.703186035156</td><td>GALAXY</td><td>131074</td><td>0.0286298077553511</td><td>1.75290405750275</td></tr>\n",
       "<tr><td>39627461394171068</td><td>0.324188154725867</td><td>-13.3757445122443</td><td>20211020</td><td>0.358443849991424</td><td>6.26159169498368e-05</td><td>0</td><td>15.7543725967407</td><td>3.10386729240417</td><td>35.017635345459</td><td>GALAXY</td><td>131074</td><td>0.0287617538124323</td><td>4.0</td></tr>\n",
       "<tr><td>39627461394173293</td><td>0.423061498719655</td><td>-13.3821980272798</td><td>20211020</td><td>7.96335573109056e-06</td><td>2.72051014406708e-06</td><td>0</td><td>58.3771476745605</td><td>25.3495140075684</td><td>91.9729995727539</td><td>STAR</td><td>0</td><td>0.0290689337998629</td><td>0.0</td></tr>\n",
       "<tr><td>39627467278778997</td><td>0.54074701108748</td><td>-13.1672162663649</td><td>20211020</td><td>0.368523065341714</td><td>2.55883523529775e-05</td><td>0</td><td>15.623589515686</td><td>5.02074289321899</td><td>32.4087829589844</td><td>GALAXY</td><td>131074</td><td>0.0333173200488091</td><td>1.0</td></tr>\n",
       "<tr><td>616088219582202155</td><td>0.626179874156068</td><td>-13.3202664780153</td><td>20211020</td><td>0.187326155709928</td><td>7.97282091423762e-06</td><td>1</td><td>0.0</td><td>0.0</td><td>0.0</td><td>GALAXY</td><td>0</td><td>0.0</td><td>0.0</td></tr>\n",
       "</table></div>"
      ],
      "text/plain": [
       "<Table length=5>\n",
       "     TARGETID          TARGET_RA     ...        EBV              SERSIC     \n",
       "      int64             float64      ...      float64           float64     \n",
       "------------------ ----------------- ... ------------------ ----------------\n",
       " 39627461389979471 0.199208396611172 ... 0.0286298077553511 1.75290405750275\n",
       " 39627461394171068 0.324188154725867 ... 0.0287617538124323              4.0\n",
       " 39627461394173293 0.423061498719655 ... 0.0290689337998629              0.0\n",
       " 39627467278778997  0.54074701108748 ... 0.0333173200488091              1.0\n",
       "616088219582202155 0.626179874156068 ...                0.0              0.0"
      ]
     },
     "execution_count": 3,
     "metadata": {},
     "output_type": "execute_result"
    }
   ],
   "source": [
    "full_data = []\n",
    "\n",
    "for x in tqdm(np.arange(0, 370, diameter)): # could improve this since 0 = 360... (was 370)\n",
    "    #print(\"x: \", x)\n",
    "    for y in np.arange(-20, 90, diameter): # (was 100)\n",
    "        #print(\"x & y\", x,y)\n",
    "        #print(y)\n",
    "        rows = gs.get_data_rad_search(x,y, diameter/2, cursor)\n",
    "        #data = gs.make_list(rows)\n",
    "        #print(rows[:2])\n",
    "        if rows != None:\n",
    "            #print(f\"data {len(rows)}\")\n",
    "            #print(full_data)\n",
    "            #print(data)\n",
    "            #print(rows[:2])\n",
    "            for obj in rows:\n",
    "                \n",
    "                full_data.append(obj)\n",
    "        \n",
    "full_table = Table(rows = full_data, names = gs.std_names)\n",
    "\n",
    "\n",
    "full_table[:5]"
   ]
  },
  {
   "cell_type": "code",
   "execution_count": 4,
   "id": "08b56c17-7820-4452-99c8-0f21347f5acf",
   "metadata": {},
   "outputs": [],
   "source": [
    "full_table = table.unique(full_table, keys = \"TARGETID\")"
   ]
  },
  {
   "cell_type": "code",
   "execution_count": 24,
   "id": "287babc9-a644-44eb-b6e3-2e47e95cc4da",
   "metadata": {},
   "outputs": [
    {
     "data": {
      "text/plain": [
       "56038946"
      ]
     },
     "execution_count": 24,
     "metadata": {},
     "output_type": "execute_result"
    }
   ],
   "source": [
    "len(full_data)"
   ]
  },
  {
   "cell_type": "code",
   "execution_count": 10,
   "id": "e2594638-581d-4bb5-abc2-871ef00c1e3e",
   "metadata": {},
   "outputs": [],
   "source": [
    "full_table.write('/global/homes/j/jgassert/full_table.ecsv', overwrite=True)  "
   ]
  },
  {
   "cell_type": "code",
   "execution_count": 11,
   "id": "b98981c1-e426-4736-98cc-352e071dca84",
   "metadata": {},
   "outputs": [
    {
     "name": "stdout",
     "output_type": "stream",
     "text": [
      "Stuff\n"
     ]
    }
   ],
   "source": [
    "print(\"Stuff\")"
   ]
  },
  {
   "cell_type": "code",
   "execution_count": 5,
   "id": "74ed329a-f5a3-41b5-bae1-15fadab5bc0f",
   "metadata": {},
   "outputs": [
    {
     "name": "stderr",
     "output_type": "stream",
     "text": [
      "100%|██████████| 92/92 [26:48<00:00, 17.48s/it]\n"
     ]
    }
   ],
   "source": [
    "full_data2 = []\n",
    "\n",
    "for x in tqdm(np.arange(2, 368, diameter)): # (was 360)\n",
    "    #print(\"x: \", x)\n",
    "    for y in np.arange(-18, 86, diameter): # (was 90)\n",
    "        #print(\"x & y\", x,y)\n",
    "        #print(y)\n",
    "        rows2 = gs.get_data_rad_search(x,y, diameter/2, cursor)\n",
    "        #data = gs.make_list(rows)\n",
    "        #print(rows[:2])\n",
    "        if rows2 != None:\n",
    "            #print(f\"data {len(rows)}\")\n",
    "            #print(full_data)\n",
    "            #print(data)\n",
    "            #print(rows[:2])\n",
    "            for obj2 in rows2:\n",
    "                \n",
    "                full_data2.append(obj2)"
   ]
  },
  {
   "cell_type": "code",
   "execution_count": 6,
   "id": "1b99cc41-033b-4bb2-81c6-777f5e0a3475",
   "metadata": {},
   "outputs": [],
   "source": [
    "full_table2 = Table(rows = full_data2, names = gs.std_names)"
   ]
  },
  {
   "cell_type": "code",
   "execution_count": 7,
   "id": "502b9a8a-decc-40a9-873f-f4252f3bd235",
   "metadata": {},
   "outputs": [],
   "source": [
    "full_table2 = table.unique(full_table2, keys = \"TARGETID\")"
   ]
  },
  {
   "cell_type": "code",
   "execution_count": 8,
   "id": "f178c01f-6f29-46bc-9dbf-489410e3a195",
   "metadata": {},
   "outputs": [
    {
     "data": {
      "text/plain": [
       "36559680"
      ]
     },
     "execution_count": 8,
     "metadata": {},
     "output_type": "execute_result"
    }
   ],
   "source": [
    "len(full_table2)"
   ]
  },
  {
   "cell_type": "code",
   "execution_count": 9,
   "id": "09cc8173-b0cb-4447-b691-8e2204f102e7",
   "metadata": {},
   "outputs": [],
   "source": [
    "full_table2.write('/global/homes/j/jgassert/full_table2.ecsv', overwrite=True)  "
   ]
  },
  {
   "cell_type": "code",
   "execution_count": 22,
   "id": "aa75ba6f-9eee-4e77-bb4c-969974371a7a",
   "metadata": {},
   "outputs": [],
   "source": [
    "full = 0"
   ]
  },
  {
   "cell_type": "code",
   "execution_count": null,
   "id": "b8180b61-5958-40f0-bba7-c721a49e1934",
   "metadata": {},
   "outputs": [],
   "source": [
    "full = hstack([full_table, full_table2])"
   ]
  },
  {
   "cell_type": "code",
   "execution_count": 26,
   "id": "e23bb1bb-0cc0-4cac-ad93-7428bcc3c3e1",
   "metadata": {},
   "outputs": [
    {
     "data": {
      "text/plain": [
       "36638229"
      ]
     },
     "execution_count": 26,
     "metadata": {},
     "output_type": "execute_result"
    }
   ],
   "source": [
    "len(full)"
   ]
  },
  {
   "cell_type": "code",
   "execution_count": 21,
   "id": "baa55a0c-1088-44d1-aba9-b8a1bbc3668c",
   "metadata": {},
   "outputs": [
    {
     "data": {
      "text/html": [
       "<div><i>Table length=6</i>\n",
       "<table id=\"table140503095337520\" class=\"table-striped table-bordered table-condensed\">\n",
       "<thead><tr><th>TARGETID_1</th><th>TARGET_RA_1</th><th>TARGET_DEC_1</th><th>LASTNIGHT_1</th><th>Z_1</th><th>ZERR_1</th><th>ZWARN_1</th><th>FLUX_G_1</th><th>FLUX_R_1</th><th>FLUX_Z_1</th><th>SPECTYPE_1</th><th>BGS_TARGET_1</th><th>EBV_1</th><th>SERSIC_1</th><th>TARGETID_2</th><th>TARGET_RA_2</th><th>TARGET_DEC_2</th><th>LASTNIGHT_2</th><th>Z_2</th><th>ZERR_2</th><th>ZWARN_2</th><th>FLUX_G_2</th><th>FLUX_R_2</th><th>FLUX_Z_2</th><th>SPECTYPE_2</th><th>BGS_TARGET_2</th><th>EBV_2</th><th>SERSIC_2</th></tr></thead>\n",
       "<thead><tr><th>int64</th><th>float64</th><th>float64</th><th>int64</th><th>float64</th><th>float64</th><th>int64</th><th>float64</th><th>float64</th><th>float64</th><th>str6</th><th>int64</th><th>float64</th><th>float64</th><th>int64</th><th>float64</th><th>float64</th><th>int64</th><th>float64</th><th>float64</th><th>int64</th><th>float64</th><th>float64</th><th>float64</th><th>str6</th><th>int64</th><th>float64</th><th>float64</th></tr></thead>\n",
       "<tr><td>-833389526</td><td>227.433272279891</td><td>66.6519046819295</td><td>20230427</td><td>1.1824834644376</td><td>9.79136990918098e-05</td><td>5</td><td>0.0</td><td>0.0</td><td>0.0</td><td>GALAXY</td><td>0</td><td>0.0290863439440727</td><td>0.0</td><td>-833389526</td><td>227.433272279891</td><td>66.6519046819295</td><td>20230427</td><td>1.1824834644376</td><td>9.79136990918098e-05</td><td>5</td><td>0.0</td><td>0.0</td><td>0.0</td><td>GALAXY</td><td>0</td><td>0.0290863439440727</td><td>0.0</td></tr>\n",
       "<tr><td>-833389518</td><td>228.204498084663</td><td>66.7769162408949</td><td>20230427</td><td>1.01705132530733</td><td>0.000198853226529452</td><td>5</td><td>0.0</td><td>0.0</td><td>0.0</td><td>GALAXY</td><td>0</td><td>0.0315619334578514</td><td>0.0</td><td>-833389518</td><td>228.204498084663</td><td>66.7769162408949</td><td>20230427</td><td>1.01705132530733</td><td>0.000198853226529452</td><td>5</td><td>0.0</td><td>0.0</td><td>0.0</td><td>GALAXY</td><td>0</td><td>0.0315619334578514</td><td>0.0</td></tr>\n",
       "<tr><td>-833389510</td><td>227.642453626374</td><td>66.7226250371644</td><td>20230427</td><td>1.20045807712059</td><td>0.000130270720806434</td><td>5</td><td>0.0</td><td>0.0</td><td>0.0</td><td>GALAXY</td><td>0</td><td>0.0310118906199932</td><td>0.0</td><td>-833389510</td><td>227.642453626374</td><td>66.7226250371644</td><td>20230427</td><td>1.20045807712059</td><td>0.000130270720806434</td><td>5</td><td>0.0</td><td>0.0</td><td>0.0</td><td>GALAXY</td><td>0</td><td>0.0310118906199932</td><td>0.0</td></tr>\n",
       "<tr><td>-833389492</td><td>227.755926256736</td><td>66.7768026589679</td><td>20230427</td><td>1.39280058555401</td><td>0.000191373523674881</td><td>2053</td><td>0.0</td><td>0.0</td><td>0.0</td><td>GALAXY</td><td>0</td><td>0.0316010527312756</td><td>0.0</td><td>-833389492</td><td>227.755926256736</td><td>66.7768026589679</td><td>20230427</td><td>1.39280058555401</td><td>0.000191373523674881</td><td>2053</td><td>0.0</td><td>0.0</td><td>0.0</td><td>GALAXY</td><td>0</td><td>0.0316010527312756</td><td>0.0</td></tr>\n",
       "<tr><td>-833389491</td><td>227.851676937586</td><td>66.7933443247276</td><td>20230427</td><td>0.747688478964211</td><td>8.9141824351558e-05</td><td>5</td><td>0.0</td><td>0.0</td><td>0.0</td><td>GALAXY</td><td>0</td><td>0.0321089513599873</td><td>0.0</td><td>-833389491</td><td>227.851676937586</td><td>66.7933443247276</td><td>20230427</td><td>0.747688478964211</td><td>8.9141824351558e-05</td><td>5</td><td>0.0</td><td>0.0</td><td>0.0</td><td>GALAXY</td><td>0</td><td>0.0321089513599873</td><td>0.0</td></tr>\n",
       "<tr><td>-833389472</td><td>227.867586316838</td><td>66.8320572673735</td><td>20230427</td><td>1.19571717482174</td><td>0.000116999729896098</td><td>2053</td><td>0.0</td><td>0.0</td><td>0.0</td><td>GALAXY</td><td>0</td><td>0.0323736257851124</td><td>0.0</td><td>-833389472</td><td>227.867586316838</td><td>66.8320572673735</td><td>20230427</td><td>1.19571717482174</td><td>0.000116999729896098</td><td>2053</td><td>0.0</td><td>0.0</td><td>0.0</td><td>GALAXY</td><td>0</td><td>0.0323736257851124</td><td>0.0</td></tr>\n",
       "</table></div>"
      ],
      "text/plain": [
       "<Table length=6>\n",
       "TARGETID_1   TARGET_RA_1      TARGET_DEC_1   ...       EBV_2        SERSIC_2\n",
       "  int64        float64          float64      ...      float64       float64 \n",
       "---------- ---------------- ---------------- ... ------------------ --------\n",
       "-833389526 227.433272279891 66.6519046819295 ... 0.0290863439440727      0.0\n",
       "-833389518 228.204498084663 66.7769162408949 ... 0.0315619334578514      0.0\n",
       "-833389510 227.642453626374 66.7226250371644 ... 0.0310118906199932      0.0\n",
       "-833389492 227.755926256736 66.7768026589679 ... 0.0316010527312756      0.0\n",
       "-833389491 227.851676937586 66.7933443247276 ... 0.0321089513599873      0.0\n",
       "-833389472 227.867586316838 66.8320572673735 ... 0.0323736257851124      0.0"
      ]
     },
     "execution_count": 21,
     "metadata": {},
     "output_type": "execute_result"
    }
   ],
   "source": [
    "full[:6]"
   ]
  },
  {
   "cell_type": "code",
   "execution_count": 20,
   "id": "45920f1e-caf0-4b97-aa4b-2ad5442a369b",
   "metadata": {},
   "outputs": [
    {
     "ename": "KeyError",
     "evalue": "'TARGETID'",
     "output_type": "error",
     "traceback": [
      "\u001b[0;31m---------------------------------------------------------------------------\u001b[0m",
      "\u001b[0;31mKeyError\u001b[0m                                  Traceback (most recent call last)",
      "Cell \u001b[0;32mIn[20], line 1\u001b[0m\n\u001b[0;32m----> 1\u001b[0m full \u001b[38;5;241m=\u001b[39m \u001b[43mtable\u001b[49m\u001b[38;5;241;43m.\u001b[39;49m\u001b[43munique\u001b[49m\u001b[43m(\u001b[49m\u001b[43mfull\u001b[49m\u001b[43m,\u001b[49m\u001b[43m \u001b[49m\u001b[43mkeys\u001b[49m\u001b[43m \u001b[49m\u001b[38;5;241;43m=\u001b[39;49m\u001b[43m \u001b[49m\u001b[38;5;124;43m\"\u001b[39;49m\u001b[38;5;124;43mTARGETID\u001b[39;49m\u001b[38;5;124;43m\"\u001b[39;49m\u001b[43m)\u001b[49m\n",
      "File \u001b[0;32m~/.conda/envs/MambaTest/lib/python3.10/site-packages/astropy/table/operations.py:881\u001b[0m, in \u001b[0;36munique\u001b[0;34m(input_table, keys, silent, keep)\u001b[0m\n\u001b[1;32m    879\u001b[0m \u001b[38;5;66;03m# Check for columns with masked values\u001b[39;00m\n\u001b[1;32m    880\u001b[0m \u001b[38;5;28;01mfor\u001b[39;00m key \u001b[38;5;129;01min\u001b[39;00m keys[:]:\n\u001b[0;32m--> 881\u001b[0m     col \u001b[38;5;241m=\u001b[39m \u001b[43minput_table\u001b[49m\u001b[43m[\u001b[49m\u001b[43mkey\u001b[49m\u001b[43m]\u001b[49m\n\u001b[1;32m    882\u001b[0m     \u001b[38;5;28;01mif\u001b[39;00m \u001b[38;5;28mhasattr\u001b[39m(col, \u001b[38;5;124m\"\u001b[39m\u001b[38;5;124mmask\u001b[39m\u001b[38;5;124m\"\u001b[39m) \u001b[38;5;129;01mand\u001b[39;00m np\u001b[38;5;241m.\u001b[39many(col\u001b[38;5;241m.\u001b[39mmask):\n\u001b[1;32m    883\u001b[0m         \u001b[38;5;28;01mif\u001b[39;00m \u001b[38;5;129;01mnot\u001b[39;00m silent:\n",
      "File \u001b[0;32m~/.conda/envs/MambaTest/lib/python3.10/site-packages/astropy/table/table.py:2075\u001b[0m, in \u001b[0;36mTable.__getitem__\u001b[0;34m(self, item)\u001b[0m\n\u001b[1;32m   2073\u001b[0m \u001b[38;5;28;01mdef\u001b[39;00m \u001b[38;5;21m__getitem__\u001b[39m(\u001b[38;5;28mself\u001b[39m, item):\n\u001b[1;32m   2074\u001b[0m     \u001b[38;5;28;01mif\u001b[39;00m \u001b[38;5;28misinstance\u001b[39m(item, \u001b[38;5;28mstr\u001b[39m):\n\u001b[0;32m-> 2075\u001b[0m         \u001b[38;5;28;01mreturn\u001b[39;00m \u001b[38;5;28;43mself\u001b[39;49m\u001b[38;5;241;43m.\u001b[39;49m\u001b[43mcolumns\u001b[49m\u001b[43m[\u001b[49m\u001b[43mitem\u001b[49m\u001b[43m]\u001b[49m\n\u001b[1;32m   2076\u001b[0m     \u001b[38;5;28;01melif\u001b[39;00m \u001b[38;5;28misinstance\u001b[39m(item, (\u001b[38;5;28mint\u001b[39m, np\u001b[38;5;241m.\u001b[39minteger)):\n\u001b[1;32m   2077\u001b[0m         \u001b[38;5;28;01mreturn\u001b[39;00m \u001b[38;5;28mself\u001b[39m\u001b[38;5;241m.\u001b[39mRow(\u001b[38;5;28mself\u001b[39m, item)\n",
      "File \u001b[0;32m~/.conda/envs/MambaTest/lib/python3.10/site-packages/astropy/table/table.py:263\u001b[0m, in \u001b[0;36mTableColumns.__getitem__\u001b[0;34m(self, item)\u001b[0m\n\u001b[1;32m    253\u001b[0m \u001b[38;5;250m\u001b[39m\u001b[38;5;124;03m\"\"\"Get items from a TableColumns object.\u001b[39;00m\n\u001b[1;32m    254\u001b[0m \u001b[38;5;124;03m::\u001b[39;00m\n\u001b[1;32m    255\u001b[0m \n\u001b[0;32m   (...)\u001b[0m\n\u001b[1;32m    260\u001b[0m \u001b[38;5;124;03m  tc[1:3] # <TableColumns names=('b', 'c')>\u001b[39;00m\n\u001b[1;32m    261\u001b[0m \u001b[38;5;124;03m\"\"\"\u001b[39;00m\n\u001b[1;32m    262\u001b[0m \u001b[38;5;28;01mif\u001b[39;00m \u001b[38;5;28misinstance\u001b[39m(item, \u001b[38;5;28mstr\u001b[39m):\n\u001b[0;32m--> 263\u001b[0m     \u001b[38;5;28;01mreturn\u001b[39;00m \u001b[43mOrderedDict\u001b[49m\u001b[38;5;241;43m.\u001b[39;49m\u001b[38;5;21;43m__getitem__\u001b[39;49m\u001b[43m(\u001b[49m\u001b[38;5;28;43mself\u001b[39;49m\u001b[43m,\u001b[49m\u001b[43m \u001b[49m\u001b[43mitem\u001b[49m\u001b[43m)\u001b[49m\n\u001b[1;32m    264\u001b[0m \u001b[38;5;28;01melif\u001b[39;00m \u001b[38;5;28misinstance\u001b[39m(item, (\u001b[38;5;28mint\u001b[39m, np\u001b[38;5;241m.\u001b[39minteger)):\n\u001b[1;32m    265\u001b[0m     \u001b[38;5;28;01mreturn\u001b[39;00m \u001b[38;5;28mlist\u001b[39m(\u001b[38;5;28mself\u001b[39m\u001b[38;5;241m.\u001b[39mvalues())[item]\n",
      "\u001b[0;31mKeyError\u001b[0m: 'TARGETID'"
     ]
    }
   ],
   "source": [
    "full = table.unique(full, keys = \"TARGETID\")"
   ]
  },
  {
   "cell_type": "code",
   "execution_count": null,
   "id": "5ccf1104-a16d-4d2d-ab3a-bf1d0f64b865",
   "metadata": {},
   "outputs": [],
   "source": [
    "len(full)"
   ]
  },
  {
   "cell_type": "code",
   "execution_count": 2,
   "id": "0cc8073f-2a40-4026-bbe0-422eb9061cd2",
   "metadata": {},
   "outputs": [],
   "source": [
    "from astropy.io import ascii\n"
   ]
  },
  {
   "cell_type": "code",
   "execution_count": 2,
   "id": "680c21ae-0678-4c9e-9884-fde2bcf98436",
   "metadata": {},
   "outputs": [],
   "source": [
    "data1 = ascii.read(\"/global/homes/j/jgassert/full_table.ecsv\") "
   ]
  },
  {
   "cell_type": "code",
   "execution_count": 3,
   "id": "74fbd124-1ffc-41e4-9a5d-d7d3db7d12b9",
   "metadata": {},
   "outputs": [],
   "source": [
    "data2 = ascii.read(\"/global/homes/j/jgassert/full_table2.ecsv\") "
   ]
  },
  {
   "cell_type": "code",
   "execution_count": 12,
   "id": "f26c4512-3756-4e3a-8de2-754a6c60ba6b",
   "metadata": {},
   "outputs": [
    {
     "data": {
      "text/html": [
       "<div><i>Table length=5</i>\n",
       "<table id=\"table139704737868400\" class=\"table-striped table-bordered table-condensed\">\n",
       "<thead><tr><th>TARGETID</th><th>TARGET_RA</th><th>TARGET_DEC</th><th>LASTNIGHT</th><th>Z</th><th>ZERR</th><th>ZWARN</th><th>FLUX_G</th><th>FLUX_R</th><th>FLUX_Z</th><th>SPECTYPE</th><th>BGS_TARGET</th><th>EBV</th><th>SERSIC</th></tr></thead>\n",
       "<thead><tr><th>int64</th><th>float64</th><th>float64</th><th>int64</th><th>float64</th><th>float64</th><th>int64</th><th>float64</th><th>float64</th><th>float64</th><th>str6</th><th>int64</th><th>float64</th><th>float64</th></tr></thead>\n",
       "<tr><td>-833389526</td><td>227.433272279891</td><td>66.6519046819295</td><td>20230427</td><td>1.1824834644376</td><td>9.79136990918098e-05</td><td>5</td><td>0.0</td><td>0.0</td><td>0.0</td><td>GALAXY</td><td>0</td><td>0.0290863439440727</td><td>0.0</td></tr>\n",
       "<tr><td>-833389518</td><td>228.204498084663</td><td>66.7769162408949</td><td>20230427</td><td>1.01705132530733</td><td>0.000198853226529452</td><td>5</td><td>0.0</td><td>0.0</td><td>0.0</td><td>GALAXY</td><td>0</td><td>0.0315619334578514</td><td>0.0</td></tr>\n",
       "<tr><td>-833389510</td><td>227.642453626374</td><td>66.7226250371644</td><td>20230427</td><td>1.20045807712059</td><td>0.000130270720806434</td><td>5</td><td>0.0</td><td>0.0</td><td>0.0</td><td>GALAXY</td><td>0</td><td>0.0310118906199932</td><td>0.0</td></tr>\n",
       "<tr><td>-833389492</td><td>227.755926256736</td><td>66.7768026589679</td><td>20230427</td><td>1.39280058555401</td><td>0.000191373523674881</td><td>2053</td><td>0.0</td><td>0.0</td><td>0.0</td><td>GALAXY</td><td>0</td><td>0.0316010527312756</td><td>0.0</td></tr>\n",
       "<tr><td>-833389491</td><td>227.851676937586</td><td>66.7933443247276</td><td>20230427</td><td>0.747688478964211</td><td>8.9141824351558e-05</td><td>5</td><td>0.0</td><td>0.0</td><td>0.0</td><td>GALAXY</td><td>0</td><td>0.0321089513599873</td><td>0.0</td></tr>\n",
       "</table></div>"
      ],
      "text/plain": [
       "<Table length=5>\n",
       " TARGETID     TARGET_RA        TARGET_DEC    ...        EBV          SERSIC\n",
       "  int64        float64          float64      ...      float64       float64\n",
       "---------- ---------------- ---------------- ... ------------------ -------\n",
       "-833389526 227.433272279891 66.6519046819295 ... 0.0290863439440727     0.0\n",
       "-833389518 228.204498084663 66.7769162408949 ... 0.0315619334578514     0.0\n",
       "-833389510 227.642453626374 66.7226250371644 ... 0.0310118906199932     0.0\n",
       "-833389492 227.755926256736 66.7768026589679 ... 0.0316010527312756     0.0\n",
       "-833389491 227.851676937586 66.7933443247276 ... 0.0321089513599873     0.0"
      ]
     },
     "execution_count": 12,
     "metadata": {},
     "output_type": "execute_result"
    }
   ],
   "source": [
    "data1[:5]"
   ]
  },
  {
   "cell_type": "code",
   "execution_count": 9,
   "id": "0e123abd-e6b7-4638-a686-f13a90863732",
   "metadata": {},
   "outputs": [],
   "source": [
    "data = vstack([data1, data2])"
   ]
  },
  {
   "cell_type": "code",
   "execution_count": 10,
   "id": "bc23527c-0c10-4c29-8845-81ab17ba67df",
   "metadata": {},
   "outputs": [
    {
     "data": {
      "text/html": [
       "<div><i>Table length=5</i>\n",
       "<table id=\"table140502007019984\" class=\"table-striped table-bordered table-condensed\">\n",
       "<thead><tr><th>TARGETID</th><th>TARGET_RA</th><th>TARGET_DEC</th><th>LASTNIGHT</th><th>Z</th><th>ZERR</th><th>ZWARN</th><th>FLUX_G</th><th>FLUX_R</th><th>FLUX_Z</th><th>SPECTYPE</th><th>BGS_TARGET</th><th>EBV</th><th>SERSIC</th></tr></thead>\n",
       "<thead><tr><th>int64</th><th>float64</th><th>float64</th><th>int64</th><th>float64</th><th>float64</th><th>int64</th><th>float64</th><th>float64</th><th>float64</th><th>str6</th><th>int64</th><th>float64</th><th>float64</th></tr></thead>\n",
       "<tr><td>-833389526</td><td>227.433272279891</td><td>66.6519046819295</td><td>20230427</td><td>1.1824834644376</td><td>9.79136990918098e-05</td><td>5</td><td>0.0</td><td>0.0</td><td>0.0</td><td>GALAXY</td><td>0</td><td>0.0290863439440727</td><td>0.0</td></tr>\n",
       "<tr><td>-833389518</td><td>228.204498084663</td><td>66.7769162408949</td><td>20230427</td><td>1.01705132530733</td><td>0.000198853226529452</td><td>5</td><td>0.0</td><td>0.0</td><td>0.0</td><td>GALAXY</td><td>0</td><td>0.0315619334578514</td><td>0.0</td></tr>\n",
       "<tr><td>-833389510</td><td>227.642453626374</td><td>66.7226250371644</td><td>20230427</td><td>1.20045807712059</td><td>0.000130270720806434</td><td>5</td><td>0.0</td><td>0.0</td><td>0.0</td><td>GALAXY</td><td>0</td><td>0.0310118906199932</td><td>0.0</td></tr>\n",
       "<tr><td>-833389492</td><td>227.755926256736</td><td>66.7768026589679</td><td>20230427</td><td>1.39280058555401</td><td>0.000191373523674881</td><td>2053</td><td>0.0</td><td>0.0</td><td>0.0</td><td>GALAXY</td><td>0</td><td>0.0316010527312756</td><td>0.0</td></tr>\n",
       "<tr><td>-833389491</td><td>227.851676937586</td><td>66.7933443247276</td><td>20230427</td><td>0.747688478964211</td><td>8.9141824351558e-05</td><td>5</td><td>0.0</td><td>0.0</td><td>0.0</td><td>GALAXY</td><td>0</td><td>0.0321089513599873</td><td>0.0</td></tr>\n",
       "</table></div>"
      ],
      "text/plain": [
       "<Table length=5>\n",
       " TARGETID     TARGET_RA        TARGET_DEC    ...        EBV          SERSIC\n",
       "  int64        float64          float64      ...      float64       float64\n",
       "---------- ---------------- ---------------- ... ------------------ -------\n",
       "-833389526 227.433272279891 66.6519046819295 ... 0.0290863439440727     0.0\n",
       "-833389518 228.204498084663 66.7769162408949 ... 0.0315619334578514     0.0\n",
       "-833389510 227.642453626374 66.7226250371644 ... 0.0310118906199932     0.0\n",
       "-833389492 227.755926256736 66.7768026589679 ... 0.0316010527312756     0.0\n",
       "-833389491 227.851676937586 66.7933443247276 ... 0.0321089513599873     0.0"
      ]
     },
     "execution_count": 10,
     "metadata": {},
     "output_type": "execute_result"
    }
   ],
   "source": [
    "data[:5]"
   ]
  },
  {
   "cell_type": "code",
   "execution_count": 11,
   "id": "a174e5ed-3a57-44ca-84f7-3b7b333cfea8",
   "metadata": {},
   "outputs": [],
   "source": [
    "data = table.unique(data, keys = \"TARGETID\")"
   ]
  },
  {
   "cell_type": "code",
   "execution_count": 12,
   "id": "2ebdf490-d82b-4e9e-ba21-c6d90a0f6263",
   "metadata": {},
   "outputs": [
    {
     "data": {
      "text/plain": [
       "(36638229, 36559680, 43953830)"
      ]
     },
     "execution_count": 12,
     "metadata": {},
     "output_type": "execute_result"
    }
   ],
   "source": [
    "len(data1), len(data2), len(data)"
   ]
  },
  {
   "cell_type": "code",
   "execution_count": 13,
   "id": "5003dfb6-5871-4d7a-9a45-d864c42f135e",
   "metadata": {},
   "outputs": [],
   "source": [
    "data.write('/global/homes/j/jgassert/data.ecsv', overwrite=False)  "
   ]
  },
  {
   "cell_type": "code",
   "execution_count": 4,
   "id": "d3ea5fbd-8d30-49c7-8942-abc13287872a",
   "metadata": {},
   "outputs": [],
   "source": [
    "data = ascii.read(\"/global/homes/j/jgassert/data.ecsv\") "
   ]
  },
  {
   "cell_type": "code",
   "execution_count": 5,
   "id": "c6026d54-d6c0-4763-abe0-b9282e188627",
   "metadata": {},
   "outputs": [
    {
     "data": {
      "text/plain": [
       "43953830"
      ]
     },
     "execution_count": 5,
     "metadata": {},
     "output_type": "execute_result"
    }
   ],
   "source": [
    "len(data)"
   ]
  },
  {
   "cell_type": "code",
   "execution_count": 6,
   "id": "cc050d9e-1503-4d21-a566-184bab1e8d5a",
   "metadata": {},
   "outputs": [
    {
     "data": {
      "text/html": [
       "<div><i>Table length=5</i>\n",
       "<table id=\"table140272391217088\" class=\"table-striped table-bordered table-condensed\">\n",
       "<thead><tr><th>TARGETID</th><th>TARGET_RA</th><th>TARGET_DEC</th><th>LASTNIGHT</th><th>Z</th><th>ZERR</th><th>ZWARN</th><th>FLUX_G</th><th>FLUX_R</th><th>FLUX_Z</th><th>SPECTYPE</th><th>BGS_TARGET</th><th>EBV</th><th>SERSIC</th></tr></thead>\n",
       "<thead><tr><th>int64</th><th>float64</th><th>float64</th><th>int64</th><th>float64</th><th>float64</th><th>int64</th><th>float64</th><th>float64</th><th>float64</th><th>str6</th><th>int64</th><th>float64</th><th>float64</th></tr></thead>\n",
       "<tr><td>-833389526</td><td>227.433272279891</td><td>66.6519046819295</td><td>20230427</td><td>1.1824834644376</td><td>9.79136990918098e-05</td><td>5</td><td>0.0</td><td>0.0</td><td>0.0</td><td>GALAXY</td><td>0</td><td>0.0290863439440727</td><td>0.0</td></tr>\n",
       "<tr><td>-833389518</td><td>228.204498084663</td><td>66.7769162408949</td><td>20230427</td><td>1.01705132530733</td><td>0.000198853226529452</td><td>5</td><td>0.0</td><td>0.0</td><td>0.0</td><td>GALAXY</td><td>0</td><td>0.0315619334578514</td><td>0.0</td></tr>\n",
       "<tr><td>-833389510</td><td>227.642453626374</td><td>66.7226250371644</td><td>20230427</td><td>1.20045807712059</td><td>0.000130270720806434</td><td>5</td><td>0.0</td><td>0.0</td><td>0.0</td><td>GALAXY</td><td>0</td><td>0.0310118906199932</td><td>0.0</td></tr>\n",
       "<tr><td>-833389492</td><td>227.755926256736</td><td>66.7768026589679</td><td>20230427</td><td>1.39280058555401</td><td>0.000191373523674881</td><td>2053</td><td>0.0</td><td>0.0</td><td>0.0</td><td>GALAXY</td><td>0</td><td>0.0316010527312756</td><td>0.0</td></tr>\n",
       "<tr><td>-833389491</td><td>227.851676937586</td><td>66.7933443247276</td><td>20230427</td><td>0.747688478964211</td><td>8.9141824351558e-05</td><td>5</td><td>0.0</td><td>0.0</td><td>0.0</td><td>GALAXY</td><td>0</td><td>0.0321089513599873</td><td>0.0</td></tr>\n",
       "</table></div>"
      ],
      "text/plain": [
       "<Table length=5>\n",
       " TARGETID     TARGET_RA        TARGET_DEC    ...        EBV          SERSIC\n",
       "  int64        float64          float64      ...      float64       float64\n",
       "---------- ---------------- ---------------- ... ------------------ -------\n",
       "-833389526 227.433272279891 66.6519046819295 ... 0.0290863439440727     0.0\n",
       "-833389518 228.204498084663 66.7769162408949 ... 0.0315619334578514     0.0\n",
       "-833389510 227.642453626374 66.7226250371644 ... 0.0310118906199932     0.0\n",
       "-833389492 227.755926256736 66.7768026589679 ... 0.0316010527312756     0.0\n",
       "-833389491 227.851676937586 66.7933443247276 ... 0.0321089513599873     0.0"
      ]
     },
     "execution_count": 6,
     "metadata": {},
     "output_type": "execute_result"
    }
   ],
   "source": [
    "data[:5]"
   ]
  },
  {
   "cell_type": "code",
   "execution_count": null,
   "id": "cb58e387-c063-4ea1-80b9-c559fd1e7ca0",
   "metadata": {},
   "outputs": [],
   "source": []
  }
 ],
 "metadata": {
  "kernelspec": {
   "display_name": "Python (MambaTest)",
   "language": "python",
   "name": "mambatest"
  },
  "language_info": {
   "codemirror_mode": {
    "name": "ipython",
    "version": 3
   },
   "file_extension": ".py",
   "mimetype": "text/x-python",
   "name": "python",
   "nbconvert_exporter": "python",
   "pygments_lexer": "ipython3",
   "version": "3.10.10"
  }
 },
 "nbformat": 4,
 "nbformat_minor": 5
}
