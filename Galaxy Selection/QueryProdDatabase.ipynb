{
 "cells": [
  {
   "cell_type": "code",
   "execution_count": 1,
   "id": "7e09aab2-2157-46bf-8309-6fd2af3f1fe3",
   "metadata": {},
   "outputs": [],
   "source": [
    "from astropy.io import fits\n",
    "from astropy.table import Table, hstack, vstack\n",
    "from astropy import table\n",
    "\n",
    "import numpy as np\n",
    "\n",
    "import gasel as gs\n",
    "\n",
    "from tqdm import tqdm"
   ]
  },
  {
   "cell_type": "code",
   "execution_count": 7,
   "id": "01d52894-9fcf-42ab-b4a5-3ab0d6e93ac6",
   "metadata": {},
   "outputs": [],
   "source": [
    "#\n",
    "# Imports\n",
    "#\n",
    "import os\n",
    "from types import MethodType\n",
    "import matplotlib.pyplot as plt\n",
    "from matplotlib.font_manager import fontManager, FontProperties\n",
    "from sqlalchemy import __version__ as sqlalchemy_version\n",
    "from sqlalchemy import inspect\n",
    "from sqlalchemy.sql import func\n",
    "import astropy.units as u\n",
    "#\n",
    "# DESI software\n",
    "#\n",
    "from desiutil.log import get_logger, DEBUG\n",
    "from desitarget.targetmask import (desi_mask, mws_mask, bgs_mask)\n",
    "\n",
    "from specprodDB import __version__ as specprodDB_version\n",
    "import specprodDB.load as db\n",
    "\n",
    "specprod = os.environ['SPECPROD'] = 'fuji'"
   ]
  },
  {
   "cell_type": "code",
   "execution_count": 8,
   "id": "482d86da-a7e2-43ee-a7de-e0f6d10326a4",
   "metadata": {},
   "outputs": [
    {
     "name": "stdout",
     "output_type": "stream",
     "text": [
      "CRITICAL:load.py:1172:setup_db: Could not load database information!\n"
     ]
    }
   ],
   "source": [
    "db.log = get_logger()\n",
    "postgresql = db.setup_db(schema=specprod, hostname='specprod-db.desi.lbl.gov', username='desi')\n"
   ]
  },
  {
   "cell_type": "code",
   "execution_count": 9,
   "id": "e0481693-7c8d-44f5-b62f-a2456044abb9",
   "metadata": {},
   "outputs": [],
   "source": [
    "# Release directory path\n",
    "\n",
    "specprod = 'iron'    # Internal name for most current data release\n",
    "path = '/global/cfs/cdirs/desi/spectro/redux/iron/zcatalog/zall-pix-iron.fits'\n"
   ]
  },
  {
   "cell_type": "code",
   "execution_count": 12,
   "id": "15c88833-f910-495c-9f52-1e23872017a2",
   "metadata": {},
   "outputs": [],
   "source": [
    "data = Table.read(path)"
   ]
  },
  {
   "cell_type": "code",
   "execution_count": 13,
   "id": "514148f7-2a54-4821-9f15-f2bba8dc4870",
   "metadata": {},
   "outputs": [
    {
     "name": "stdout",
     "output_type": "stream",
     "text": [
      "Tiles table columns: ['TARGETID', 'SURVEY', 'PROGRAM', 'HEALPIX', 'SPGRPVAL', 'Z', 'ZERR', 'ZWARN', 'CHI2', 'COEFF', 'NPIXELS', 'SPECTYPE', 'SUBTYPE', 'NCOEFF', 'DELTACHI2', 'COADD_FIBERSTATUS', 'TARGET_RA', 'TARGET_DEC', 'PMRA', 'PMDEC', 'REF_EPOCH', 'FA_TARGET', 'FA_TYPE', 'OBJTYPE', 'SUBPRIORITY', 'OBSCONDITIONS', 'RELEASE', 'BRICKNAME', 'BRICKID', 'BRICK_OBJID', 'MORPHTYPE', 'EBV', 'FLUX_G', 'FLUX_R', 'FLUX_Z', 'FLUX_W1', 'FLUX_W2', 'FLUX_IVAR_G', 'FLUX_IVAR_R', 'FLUX_IVAR_Z', 'FLUX_IVAR_W1', 'FLUX_IVAR_W2', 'FIBERFLUX_G', 'FIBERFLUX_R', 'FIBERFLUX_Z', 'FIBERTOTFLUX_G', 'FIBERTOTFLUX_R', 'FIBERTOTFLUX_Z', 'MASKBITS', 'SERSIC', 'SHAPE_R', 'SHAPE_E1', 'SHAPE_E2', 'REF_ID', 'REF_CAT', 'GAIA_PHOT_G_MEAN_MAG', 'GAIA_PHOT_BP_MEAN_MAG', 'GAIA_PHOT_RP_MEAN_MAG', 'PARALLAX', 'PHOTSYS', 'PRIORITY_INIT', 'NUMOBS_INIT', 'CMX_TARGET', 'DESI_TARGET', 'BGS_TARGET', 'MWS_TARGET', 'SCND_TARGET', 'SV1_DESI_TARGET', 'SV1_BGS_TARGET', 'SV1_MWS_TARGET', 'SV1_SCND_TARGET', 'SV2_DESI_TARGET', 'SV2_BGS_TARGET', 'SV2_MWS_TARGET', 'SV2_SCND_TARGET', 'SV3_DESI_TARGET', 'SV3_BGS_TARGET', 'SV3_MWS_TARGET', 'SV3_SCND_TARGET', 'PLATE_RA', 'PLATE_DEC', 'COADD_NUMEXP', 'COADD_EXPTIME', 'COADD_NUMNIGHT', 'COADD_NUMTILE', 'MEAN_DELTA_X', 'RMS_DELTA_X', 'MEAN_DELTA_Y', 'RMS_DELTA_Y', 'MEAN_FIBER_RA', 'STD_FIBER_RA', 'MEAN_FIBER_DEC', 'STD_FIBER_DEC', 'MEAN_PSF_TO_FIBER_SPECFLUX', 'TSNR2_GPBDARK_B', 'TSNR2_ELG_B', 'TSNR2_GPBBRIGHT_B', 'TSNR2_LYA_B', 'TSNR2_BGS_B', 'TSNR2_GPBBACKUP_B', 'TSNR2_QSO_B', 'TSNR2_LRG_B', 'TSNR2_GPBDARK_R', 'TSNR2_ELG_R', 'TSNR2_GPBBRIGHT_R', 'TSNR2_LYA_R', 'TSNR2_BGS_R', 'TSNR2_GPBBACKUP_R', 'TSNR2_QSO_R', 'TSNR2_LRG_R', 'TSNR2_GPBDARK_Z', 'TSNR2_ELG_Z', 'TSNR2_GPBBRIGHT_Z', 'TSNR2_LYA_Z', 'TSNR2_BGS_Z', 'TSNR2_GPBBACKUP_Z', 'TSNR2_QSO_Z', 'TSNR2_LRG_Z', 'TSNR2_GPBDARK', 'TSNR2_ELG', 'TSNR2_GPBBRIGHT', 'TSNR2_LYA', 'TSNR2_BGS', 'TSNR2_GPBBACKUP', 'TSNR2_QSO', 'TSNR2_LRG', 'MAIN_NSPEC', 'MAIN_PRIMARY', 'SV_NSPEC', 'SV_PRIMARY', 'ZCAT_NSPEC', 'ZCAT_PRIMARY']\n"
     ]
    }
   ],
   "source": [
    "print(f\"Tiles table columns: {data.colnames}\")"
   ]
  },
  {
   "cell_type": "code",
   "execution_count": 11,
   "id": "37e9a41d-819b-400a-be7d-508edb9e5779",
   "metadata": {},
   "outputs": [
    {
     "data": {
      "text/html": [
       "<div><i>Table length=5</i>\n",
       "<table id=\"table140256706659664\" class=\"table-striped table-bordered table-condensed\">\n",
       "<thead><tr><th>TARGETID</th><th>SURVEY</th><th>PROGRAM</th><th>HEALPIX</th><th>SPGRPVAL</th><th>Z</th><th>ZERR</th><th>ZWARN</th><th>CHI2</th><th>COEFF</th><th>NPIXELS</th><th>SPECTYPE</th><th>SUBTYPE</th><th>NCOEFF</th><th>DELTACHI2</th><th>COADD_FIBERSTATUS</th><th>TARGET_RA</th><th>TARGET_DEC</th><th>PMRA</th><th>PMDEC</th><th>REF_EPOCH</th><th>FA_TARGET</th><th>FA_TYPE</th><th>OBJTYPE</th><th>SUBPRIORITY</th><th>OBSCONDITIONS</th><th>RELEASE</th><th>BRICKNAME</th><th>BRICKID</th><th>BRICK_OBJID</th><th>MORPHTYPE</th><th>EBV</th><th>FLUX_G</th><th>FLUX_R</th><th>FLUX_Z</th><th>FLUX_W1</th><th>FLUX_W2</th><th>FLUX_IVAR_G</th><th>FLUX_IVAR_R</th><th>FLUX_IVAR_Z</th><th>FLUX_IVAR_W1</th><th>FLUX_IVAR_W2</th><th>FIBERFLUX_G</th><th>FIBERFLUX_R</th><th>FIBERFLUX_Z</th><th>FIBERTOTFLUX_G</th><th>FIBERTOTFLUX_R</th><th>FIBERTOTFLUX_Z</th><th>MASKBITS</th><th>SERSIC</th><th>SHAPE_R</th><th>SHAPE_E1</th><th>SHAPE_E2</th><th>REF_ID</th><th>REF_CAT</th><th>GAIA_PHOT_G_MEAN_MAG</th><th>GAIA_PHOT_BP_MEAN_MAG</th><th>GAIA_PHOT_RP_MEAN_MAG</th><th>PARALLAX</th><th>PHOTSYS</th><th>PRIORITY_INIT</th><th>NUMOBS_INIT</th><th>CMX_TARGET</th><th>DESI_TARGET</th><th>BGS_TARGET</th><th>MWS_TARGET</th><th>SCND_TARGET</th><th>SV1_DESI_TARGET</th><th>SV1_BGS_TARGET</th><th>SV1_MWS_TARGET</th><th>SV1_SCND_TARGET</th><th>SV2_DESI_TARGET</th><th>SV2_BGS_TARGET</th><th>SV2_MWS_TARGET</th><th>SV2_SCND_TARGET</th><th>SV3_DESI_TARGET</th><th>SV3_BGS_TARGET</th><th>SV3_MWS_TARGET</th><th>SV3_SCND_TARGET</th><th>PLATE_RA</th><th>PLATE_DEC</th><th>COADD_NUMEXP</th><th>COADD_EXPTIME</th><th>COADD_NUMNIGHT</th><th>COADD_NUMTILE</th><th>MEAN_DELTA_X</th><th>RMS_DELTA_X</th><th>MEAN_DELTA_Y</th><th>RMS_DELTA_Y</th><th>MEAN_FIBER_RA</th><th>STD_FIBER_RA</th><th>MEAN_FIBER_DEC</th><th>STD_FIBER_DEC</th><th>MEAN_PSF_TO_FIBER_SPECFLUX</th><th>TSNR2_GPBDARK_B</th><th>TSNR2_ELG_B</th><th>TSNR2_GPBBRIGHT_B</th><th>TSNR2_LYA_B</th><th>TSNR2_BGS_B</th><th>TSNR2_GPBBACKUP_B</th><th>TSNR2_QSO_B</th><th>TSNR2_LRG_B</th><th>TSNR2_GPBDARK_R</th><th>TSNR2_ELG_R</th><th>TSNR2_GPBBRIGHT_R</th><th>TSNR2_LYA_R</th><th>TSNR2_BGS_R</th><th>TSNR2_GPBBACKUP_R</th><th>TSNR2_QSO_R</th><th>TSNR2_LRG_R</th><th>TSNR2_GPBDARK_Z</th><th>TSNR2_ELG_Z</th><th>TSNR2_GPBBRIGHT_Z</th><th>TSNR2_LYA_Z</th><th>TSNR2_BGS_Z</th><th>TSNR2_GPBBACKUP_Z</th><th>TSNR2_QSO_Z</th><th>TSNR2_LRG_Z</th><th>TSNR2_GPBDARK</th><th>TSNR2_ELG</th><th>TSNR2_GPBBRIGHT</th><th>TSNR2_LYA</th><th>TSNR2_BGS</th><th>TSNR2_GPBBACKUP</th><th>TSNR2_QSO</th><th>TSNR2_LRG</th><th>MAIN_NSPEC</th><th>MAIN_PRIMARY</th><th>SV_NSPEC</th><th>SV_PRIMARY</th><th>ZCAT_NSPEC</th><th>ZCAT_PRIMARY</th></tr></thead>\n",
       "<thead><tr><th>int64</th><th>bytes7</th><th>bytes6</th><th>int32</th><th>int32</th><th>float64</th><th>float64</th><th>int64</th><th>float64</th><th>float64[10]</th><th>int64</th><th>bytes6</th><th>bytes20</th><th>int64</th><th>float64</th><th>int32</th><th>float64</th><th>float64</th><th>float32</th><th>float32</th><th>float32</th><th>int64</th><th>uint8</th><th>bytes3</th><th>float64</th><th>int32</th><th>int16</th><th>bytes8</th><th>int32</th><th>int32</th><th>bytes4</th><th>float32</th><th>float32</th><th>float32</th><th>float32</th><th>float32</th><th>float32</th><th>float32</th><th>float32</th><th>float32</th><th>float32</th><th>float32</th><th>float32</th><th>float32</th><th>float32</th><th>float32</th><th>float32</th><th>float32</th><th>int16</th><th>float32</th><th>float32</th><th>float32</th><th>float32</th><th>int64</th><th>bytes2</th><th>float32</th><th>float32</th><th>float32</th><th>float32</th><th>bytes1</th><th>int64</th><th>int64</th><th>int64</th><th>int64</th><th>int64</th><th>int64</th><th>int64</th><th>int64</th><th>int64</th><th>int64</th><th>int64</th><th>int64</th><th>int64</th><th>int64</th><th>int64</th><th>int64</th><th>int64</th><th>int64</th><th>int64</th><th>float64</th><th>float64</th><th>int16</th><th>float32</th><th>int16</th><th>int16</th><th>float32</th><th>float32</th><th>float32</th><th>float32</th><th>float64</th><th>float32</th><th>float64</th><th>float32</th><th>float32</th><th>float32</th><th>float32</th><th>float32</th><th>float32</th><th>float32</th><th>float32</th><th>float32</th><th>float32</th><th>float32</th><th>float32</th><th>float32</th><th>float32</th><th>float32</th><th>float32</th><th>float32</th><th>float32</th><th>float32</th><th>float32</th><th>float32</th><th>float32</th><th>float32</th><th>float32</th><th>float32</th><th>float32</th><th>float32</th><th>float32</th><th>float32</th><th>float32</th><th>float32</th><th>float32</th><th>float32</th><th>float32</th><th>int32</th><th>bool</th><th>int32</th><th>bool</th><th>int64</th><th>bool</th></tr></thead>\n",
       "<tr><td>616089230757593610</td><td>cmx</td><td>other</td><td>2152</td><td>2152</td><td>1.0791766289321538</td><td>7.976155724325214e-05</td><td>5</td><td>8216.139930009842</td><td>-33.17498930077342 .. -5.208363636811209</td><td>7929</td><td>GALAXY</td><td>--</td><td>10</td><td>7.797783680260181</td><td>0</td><td>23.914121939862518</td><td>29.974787585945496</td><td>0.0</td><td>0.0</td><td>0.0</td><td>4294967296</td><td>4</td><td>SKY</td><td>0.8476382465505894</td><td>63</td><td>9010</td><td>0240p300</td><td>495765</td><td>522</td><td>--</td><td>0.052554555</td><td>0.0</td><td>0.0</td><td>0.0</td><td>0.0</td><td>0.0</td><td>0.0</td><td>0.0</td><td>0.0</td><td>0.0</td><td>0.0</td><td>-0.003990191</td><td>0.026369713</td><td>0.0027650434</td><td>0.0</td><td>0.0</td><td>0.0</td><td>0</td><td>0.0</td><td>0.0</td><td>0.0</td><td>0.0</td><td>0</td><td>--</td><td>0.0</td><td>0.0</td><td>0.0</td><td>0.0</td><td>--</td><td>-1</td><td>-1</td><td>4294967296</td><td>4294967296</td><td>0</td><td>0</td><td>0</td><td>0</td><td>0</td><td>0</td><td>0</td><td>0</td><td>0</td><td>0</td><td>0</td><td>0</td><td>0</td><td>0</td><td>0</td><td>23.914121939862518</td><td>29.974787585945496</td><td>4</td><td>3600.0</td><td>1</td><td>1</td><td>-0.004</td><td>0.008336666</td><td>-0.00275</td><td>0.009987492</td><td>23.914140396147115</td><td>0.14040637</td><td>29.974777243955057</td><td>0.12941206</td><td>0.793052</td><td>503.58948</td><td>0.28491688</td><td>95.3294</td><td>237.3061</td><td>1532.9242</td><td>655.2306</td><td>7.5112343</td><td>2.6768427</td><td>35436.12</td><td>78.399994</td><td>6369.7666</td><td>0.12792668</td><td>7309.4854</td><td>38544.22</td><td>23.566744</td><td>113.39009</td><td>4.7555222e-05</td><td>257.79123</td><td>9.025902e-06</td><td>0.0</td><td>11335.126</td><td>6.294764e-05</td><td>52.45089</td><td>118.084785</td><td>35939.71</td><td>336.47614</td><td>6465.096</td><td>237.43404</td><td>20177.535</td><td>39199.45</td><td>83.52887</td><td>234.15172</td><td>0</td><td>False</td><td>0</td><td>False</td><td>1</td><td>True</td></tr>\n",
       "<tr><td>39628473202904408</td><td>cmx</td><td>other</td><td>2152</td><td>2152</td><td>0.18041169660845957</td><td>8.960946944102742e-06</td><td>0</td><td>12898.885674536228</td><td>-154.23490287912554 .. 7.913019229731855</td><td>7927</td><td>GALAXY</td><td>--</td><td>10</td><td>8807.606114089489</td><td>0</td><td>24.04010479193436</td><td>29.813362596941825</td><td>0.0</td><td>0.0</td><td>2020.9597</td><td>72057594037929216</td><td>1</td><td>TGT</td><td>0.6306843567905966</td><td>7</td><td>9010</td><td>0240p297</td><td>494513</td><td>3416</td><td>DEV</td><td>0.047077972</td><td>6.2664</td><td>17.88001</td><td>40.539513</td><td>59.783627</td><td>50.919693</td><td>533.2463</td><td>113.88678</td><td>26.52623</td><td>1.9925343</td><td>0.54442453</td><td>2.5057633</td><td>7.149731</td><td>16.210651</td><td>2.5057633</td><td>7.149731</td><td>16.210651</td><td>0</td><td>4.0</td><td>0.96060556</td><td>-0.2916907</td><td>-0.14283308</td><td>0</td><td>--</td><td>0.0</td><td>0.0</td><td>0.0</td><td>0.0</td><td>S</td><td>3200</td><td>1</td><td>72057594037929216</td><td>0</td><td>0</td><td>0</td><td>0</td><td>0</td><td>0</td><td>0</td><td>0</td><td>0</td><td>0</td><td>0</td><td>0</td><td>0</td><td>0</td><td>0</td><td>0</td><td>24.04010479193436</td><td>29.813362596941825</td><td>4</td><td>3600.0</td><td>1</td><td>1</td><td>0.00025</td><td>0.003354102</td><td>-0.0045</td><td>0.011247222</td><td>24.040103662284565</td><td>0.06309803</td><td>29.813346201005267</td><td>0.1351914</td><td>0.7384255</td><td>377.79254</td><td>0.28339842</td><td>72.926216</td><td>288.22272</td><td>1447.5352</td><td>521.2925</td><td>7.547525</td><td>2.1574273</td><td>35958.336</td><td>78.70132</td><td>6427.523</td><td>0.13338135</td><td>7261.2534</td><td>37828.41</td><td>23.487883</td><td>114.04315</td><td>5.815913e-05</td><td>259.26437</td><td>1.0986373e-05</td><td>0.0</td><td>11504.459</td><td>7.433777e-05</td><td>52.711308</td><td>119.88662</td><td>36336.13</td><td>338.24908</td><td>6500.449</td><td>288.3561</td><td>20213.248</td><td>38349.703</td><td>83.74672</td><td>236.08719</td><td>0</td><td>False</td><td>0</td><td>False</td><td>1</td><td>True</td></tr>\n",
       "<tr><td>39628473202902554</td><td>cmx</td><td>other</td><td>2152</td><td>2152</td><td>1.63316422932749</td><td>0.00011756651034070694</td><td>4</td><td>8708.7687215209</td><td>-48.90513520355845 .. -6.2857406255420525</td><td>7928</td><td>GALAXY</td><td>--</td><td>10</td><td>5.136610597372055</td><td>0</td><td>23.945875345349148</td><td>29.828361100149564</td><td>0.0</td><td>0.0</td><td>2020.9597</td><td>4096</td><td>1</td><td>TGT</td><td>0.9733467479956088</td><td>1</td><td>9010</td><td>0240p297</td><td>494513</td><td>1562</td><td>PSF</td><td>0.051681582</td><td>0.37152117</td><td>0.6850158</td><td>1.0201772</td><td>2.7956157</td><td>3.3131866</td><td>1447.5828</td><td>409.9668</td><td>44.40046</td><td>3.311732</td><td>0.7376221</td><td>0.28886968</td><td>0.53262186</td><td>0.7932207</td><td>0.28886974</td><td>0.53262186</td><td>0.793221</td><td>0</td><td>0.0</td><td>0.0</td><td>0.0</td><td>0.0</td><td>0</td><td>--</td><td>0.0</td><td>0.0</td><td>0.0</td><td>0.0</td><td>S</td><td>3400</td><td>1</td><td>4096</td><td>0</td><td>0</td><td>0</td><td>0</td><td>0</td><td>0</td><td>0</td><td>0</td><td>0</td><td>0</td><td>0</td><td>0</td><td>0</td><td>0</td><td>0</td><td>0</td><td>23.945875345349148</td><td>29.828361100149564</td><td>4</td><td>3600.0</td><td>1</td><td>1</td><td>-0.00325</td><td>0.005315073</td><td>-0.0035</td><td>0.0118110115</td><td>23.945890224080333</td><td>0.079532295</td><td>29.828348267778797</td><td>0.14833571</td><td>0.789</td><td>383.38605</td><td>0.28221205</td><td>73.97696</td><td>283.66455</td><td>1445.6101</td><td>525.71124</td><td>7.5007405</td><td>2.1748986</td><td>36952.945</td><td>81.261536</td><td>6595.867</td><td>0.13634476</td><td>7462.901</td><td>38547.28</td><td>24.183681</td><td>117.7056</td><td>6.0965303e-05</td><td>271.86307</td><td>1.1504455e-05</td><td>0.0</td><td>11980.396</td><td>7.728159e-05</td><td>55.067783</td><td>125.41507</td><td>37336.332</td><td>353.4068</td><td>6669.844</td><td>283.8009</td><td>20888.906</td><td>39072.992</td><td>86.752205</td><td>245.29556</td><td>0</td><td>False</td><td>0</td><td>False</td><td>1</td><td>True</td></tr>\n",
       "<tr><td>616089225506325615</td><td>cmx</td><td>other</td><td>2152</td><td>2152</td><td>1.165846507673017</td><td>7.87248138223779e-05</td><td>5</td><td>8774.241835206747</td><td>46.00886243649128 .. 0.46492521964468886</td><td>7928</td><td>GALAXY</td><td>--</td><td>10</td><td>2.6211926639080048</td><td>0</td><td>24.0248158157784</td><td>29.859929824300632</td><td>0.0</td><td>0.0</td><td>0.0</td><td>4294967296</td><td>4</td><td>SKY</td><td>0.9313062399242229</td><td>63</td><td>9010</td><td>0240p297</td><td>494513</td><td>1135</td><td>--</td><td>0.04864642</td><td>0.0</td><td>0.0</td><td>0.0</td><td>0.0</td><td>0.0</td><td>0.0</td><td>0.0</td><td>0.0</td><td>0.0</td><td>0.0</td><td>0.034998354</td><td>-0.017701544</td><td>-0.017740862</td><td>0.0</td><td>0.0</td><td>0.0</td><td>0</td><td>0.0</td><td>0.0</td><td>0.0</td><td>0.0</td><td>0</td><td>--</td><td>0.0</td><td>0.0</td><td>0.0</td><td>0.0</td><td>--</td><td>-1</td><td>-1</td><td>4294967296</td><td>4294967296</td><td>0</td><td>0</td><td>0</td><td>0</td><td>0</td><td>0</td><td>0</td><td>0</td><td>0</td><td>0</td><td>0</td><td>0</td><td>0</td><td>0</td><td>0</td><td>24.0248158157784</td><td>29.859929824300632</td><td>4</td><td>3600.0</td><td>1</td><td>1</td><td>-0.002</td><td>0.0045276927</td><td>-0.00475</td><td>0.011011357</td><td>24.024824967776166</td><td>0.07699444</td><td>29.8599123759356</td><td>0.13131185</td><td>0.7930857</td><td>397.3948</td><td>0.29567477</td><td>76.490555</td><td>302.83038</td><td>1500.9755</td><td>545.82733</td><td>7.898096</td><td>2.2488015</td><td>37745.4</td><td>82.957344</td><td>6722.5015</td><td>0.13893037</td><td>7591.499</td><td>39491.305</td><td>24.750284</td><td>119.938934</td><td>6.1277664e-05</td><td>275.0915</td><td>1.153931e-05</td><td>0.0</td><td>12073.086</td><td>7.790482e-05</td><td>55.88102</td><td>126.679794</td><td>38142.793</td><td>358.3445</td><td>6798.992</td><td>302.9693</td><td>21165.56</td><td>40037.133</td><td>88.5294</td><td>248.86752</td><td>0</td><td>False</td><td>0</td><td>False</td><td>1</td><td>True</td></tr>\n",
       "<tr><td>39628473202903445</td><td>cmx</td><td>other</td><td>2152</td><td>2152</td><td>0.02990605985737026</td><td>6.194897510194285e-05</td><td>4</td><td>8817.198489451723</td><td>86.7201671279403 .. 5.866219772330459</td><td>7928</td><td>GALAXY</td><td>--</td><td>10</td><td>2.2118262518779375</td><td>0</td><td>23.992033514299845</td><td>29.781982988701284</td><td>0.0</td><td>0.0</td><td>2020.9597</td><td>4096</td><td>1</td><td>TGT</td><td>0.6102468219832407</td><td>1</td><td>9010</td><td>0240p297</td><td>494513</td><td>2453</td><td>PSF</td><td>0.04961497</td><td>0.47470406</td><td>1.1346066</td><td>2.2381434</td><td>9.788383</td><td>16.913479</td><td>1714.0192</td><td>470.1745</td><td>75.69697</td><td>3.2272918</td><td>0.69773054</td><td>0.36972436</td><td>0.8836911</td><td>1.7431833</td><td>0.36972436</td><td>0.8836911</td><td>1.7431833</td><td>0</td><td>0.0</td><td>0.0</td><td>0.0</td><td>0.0</td><td>0</td><td>--</td><td>0.0</td><td>0.0</td><td>0.0</td><td>0.0</td><td>S</td><td>3400</td><td>1</td><td>4096</td><td>0</td><td>0</td><td>0</td><td>0</td><td>0</td><td>0</td><td>0</td><td>0</td><td>0</td><td>0</td><td>0</td><td>0</td><td>0</td><td>0</td><td>0</td><td>0</td><td>23.992033514299845</td><td>29.781982988701284</td><td>4</td><td>3600.0</td><td>1</td><td>1</td><td>-0.0015</td><td>0.004636809</td><td>-0.0085</td><td>0.014781745</td><td>23.99204043344221</td><td>0.082372345</td><td>29.781952166307505</td><td>0.15774429</td><td>0.789</td><td>350.6231</td><td>0.24812005</td><td>68.169235</td><td>241.21364</td><td>1298.3458</td><td>483.40805</td><td>6.530246</td><td>1.959584</td><td>33911.074</td><td>74.720184</td><td>6107.4756</td><td>0.12238238</td><td>6898.046</td><td>35634.273</td><td>22.028118</td><td>108.41568</td><td>5.3678308e-05</td><td>250.19902</td><td>1.0205678e-05</td><td>0.0</td><td>11096.349</td><td>6.834482e-05</td><td>50.255085</td><td>115.549355</td><td>34261.7</td><td>325.16733</td><td>6175.645</td><td>241.33601</td><td>19292.74</td><td>36117.68</td><td>78.813446</td><td>225.92462</td><td>0</td><td>False</td><td>0</td><td>False</td><td>1</td><td>True</td></tr>\n",
       "</table></div>"
      ],
      "text/plain": [
       "<Table length=5>\n",
       "     TARGETID      SURVEY PROGRAM HEALPIX ... SV_PRIMARY ZCAT_NSPEC ZCAT_PRIMARY\n",
       "      int64        bytes7  bytes6  int32  ...    bool      int64        bool    \n",
       "------------------ ------ ------- ------- ... ---------- ---------- ------------\n",
       "616089230757593610    cmx   other    2152 ...      False          1         True\n",
       " 39628473202904408    cmx   other    2152 ...      False          1         True\n",
       " 39628473202902554    cmx   other    2152 ...      False          1         True\n",
       "616089225506325615    cmx   other    2152 ...      False          1         True\n",
       " 39628473202903445    cmx   other    2152 ...      False          1         True"
      ]
     },
     "execution_count": 11,
     "metadata": {},
     "output_type": "execute_result"
    }
   ],
   "source": [
    "data[:5]"
   ]
  },
  {
   "cell_type": "code",
   "execution_count": null,
   "id": "c4605401-e192-4e69-83a4-d165ff0c5630",
   "metadata": {},
   "outputs": [],
   "source": []
  }
 ],
 "metadata": {
  "kernelspec": {
   "display_name": "DESI 23.1",
   "language": "python",
   "name": "desi-23.1"
  },
  "language_info": {
   "codemirror_mode": {
    "name": "ipython",
    "version": 3
   },
   "file_extension": ".py",
   "mimetype": "text/x-python",
   "name": "python",
   "nbconvert_exporter": "python",
   "pygments_lexer": "ipython3",
   "version": "3.10.8"
  }
 },
 "nbformat": 4,
 "nbformat_minor": 5
}
