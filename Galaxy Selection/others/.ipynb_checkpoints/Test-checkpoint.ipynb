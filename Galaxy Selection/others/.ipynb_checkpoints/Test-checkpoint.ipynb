{
 "cells": [
  {
   "cell_type": "code",
   "execution_count": 1,
   "id": "6c285916-cfcd-4c6f-bd00-8692d117a759",
   "metadata": {},
   "outputs": [],
   "source": [
    "from desitarget.targets import desi_mask, bgs_mask, mws_mask"
   ]
  },
  {
   "cell_type": "code",
   "execution_count": 2,
   "id": "ce0e5dde-b4f1-4635-a404-bacd60adcfea",
   "metadata": {},
   "outputs": [
    {
     "data": {
      "text/plain": [
       "['BGS_FAINT',\n",
       " 'BGS_BRIGHT',\n",
       " 'BGS_WISE',\n",
       " 'BGS_FAINT_HIP',\n",
       " 'BGS_FAINT_NORTH',\n",
       " 'BGS_BRIGHT_NORTH',\n",
       " 'BGS_WISE_NORTH',\n",
       " 'BGS_FAINT_SOUTH',\n",
       " 'BGS_BRIGHT_SOUTH',\n",
       " 'BGS_WISE_SOUTH']"
      ]
     },
     "execution_count": 2,
     "metadata": {},
     "output_type": "execute_result"
    }
   ],
   "source": [
    "bgs_mask.names()"
   ]
  },
  {
   "cell_type": "code",
   "execution_count": 6,
   "id": "e0d5c201-a20b-45af-95e8-e13edb1b9213",
   "metadata": {},
   "outputs": [
    {
     "data": {
      "text/plain": [
       "(131072, 512, 2)"
      ]
     },
     "execution_count": 6,
     "metadata": {},
     "output_type": "execute_result"
    }
   ],
   "source": [
    "bgs_mask[\"BGS_BRIGHT_SOUTH\"], bgs_mask[\"BGS_BRIGHT_NORTH\"], bgs_mask[\"BGS_BRIGHT\"]"
   ]
  },
  {
   "cell_type": "code",
   "execution_count": null,
   "id": "66677c47-4de8-4414-bbe4-7e3901cfd238",
   "metadata": {},
   "outputs": [],
   "source": [
    "select=target&bgs_mask[\"BGS_BRIGHT_SOUTH\"]"
   ]
  }
 ],
 "metadata": {
  "kernelspec": {
   "display_name": "DESI 23.1",
   "language": "python",
   "name": "desi-23.1"
  },
  "language_info": {
   "codemirror_mode": {
    "name": "ipython",
    "version": 3
   },
   "file_extension": ".py",
   "mimetype": "text/x-python",
   "name": "python",
   "nbconvert_exporter": "python",
   "pygments_lexer": "ipython3",
   "version": "3.10.8"
  }
 },
 "nbformat": 4,
 "nbformat_minor": 5
}
