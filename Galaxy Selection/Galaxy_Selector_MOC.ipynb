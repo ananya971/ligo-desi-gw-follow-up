{
 "cells": [
  {
   "cell_type": "markdown",
   "metadata": {},
   "source": [
    "# Galaxy Selector MOC\n",
    "\n",
    "**Compared to the \"Simple Galaxy Selector, this works with Multi-Ordering-Sky-Maps**\n",
    "\n",
    "\n",
    "***NOTE (this note may be wrong, just copied from old notebook)***: Before anything can happen, download the GW event localization map. Open the terminal and type:\n",
    "\"curl -O https://gracedb.ligo.org/api/superevents/sid/files/bayestar.fits,0\"\n",
    "with sid = superevent ID (could be incorporated into this notebook)\n",
    "\n",
    "Select the galaxies to observe by WWFI in this simple manner:\n",
    "- get the LIGO event data\n",
    "- read the LIGO event data into the notebook, extract some information\n",
    "- read the DESI database into the notebook, \"clean\" the data\n",
    "- get the 90% credible regions for the event, add them as a column to the data\n",
    "- only keep data within the 90% region\n",
    "- calculate all the luminosities (& more)\n",
    "- rank them by luminosity (for now just print the TARGETID), 3D/2D localization and with a luminosity-distance 2D dependant counterpart likelihood\n",
    "\n",
    "Sources: \n",
    "- https://iopscience.iop.org/article/10.3847/0067-0049/226/1/10\n",
    "- https://emfollow.docs.ligo.org/userguide/tutorial/skymaps.html\n",
    "- https://emfollow.docs.ligo.org/userguide/tutorial/multiorder_skymaps.html\n",
    "- https://arxiv.org/pdf/1710.05452.pdf"
   ]
  },
  {
   "cell_type": "markdown",
   "metadata": {
    "tags": []
   },
   "source": [
    "## Import all libraries, load GW data and DESI data and extract basic info"
   ]
  },
  {
   "cell_type": "markdown",
   "metadata": {
    "tags": []
   },
   "source": [
    "### imports, GW data loading"
   ]
  },
  {
   "cell_type": "code",
   "execution_count": 63,
   "metadata": {},
   "outputs": [],
   "source": [
    "import numpy as np\n",
    "from scipy.stats import norm\n",
    "import scipy as sc\n",
    "\n",
    "from astropy.io import fits\n",
    "from astropy.table import Table, hstack\n",
    "from astropy import table\n",
    "\n",
    "import healpy as hp\n",
    "import astropy_healpix as ah\n",
    "\n",
    "from astropy.table import QTable\n",
    "\n",
    "import psycopg2\n",
    "\n",
    "from scipy.stats import norm\n",
    "\n",
    "\n",
    "from astropy.cosmology import Planck18, z_at_value\n",
    "from astropy.coordinates import Distance, SkyCoord\n",
    "from astropy import units as u\n",
    "\n",
    "import astropy.constants as asc\n",
    "\n",
    "import matplotlib.pyplot as plt\n",
    "\n",
    "import gasel as gs"
   ]
  },
  {
   "cell_type": "markdown",
   "metadata": {},
   "source": [
    "Specifiy the path where the data is located and then load the data (this loads everything, just have a look)"
   ]
  },
  {
   "cell_type": "code",
   "execution_count": 64,
   "metadata": {},
   "outputs": [
    {
     "data": {
      "text/html": [
       "<div><i>QTable length=5</i>\n",
       "<table id=\"table140607122060192\" class=\"table-striped table-bordered table-condensed\">\n",
       "<thead><tr><th>UNIQ</th><th>PROBDENSITY</th><th>DISTMU</th><th>DISTSIGMA</th><th>DISTNORM</th></tr></thead>\n",
       "<thead><tr><th></th><th>1 / sr</th><th>Mpc</th><th>Mpc</th><th>1 / Mpc2</th></tr></thead>\n",
       "<thead><tr><th>int64</th><th>float64</th><th>float64</th><th>float64</th><th>float64</th></tr></thead>\n",
       "<tr><td>1045</td><td>0.029303756273802613</td><td>1593.8240337328732</td><td>515.8564456938193</td><td>3.563354517213414e-07</td></tr>\n",
       "<tr><td>1046</td><td>0.028392681869408246</td><td>1577.2742104062504</td><td>510.38311474193097</td><td>3.638682797470182e-07</td></tr>\n",
       "<tr><td>1047</td><td>0.02349500703651242</td><td>1480.7296444977283</td><td>479.20190913876587</td><td>4.128543780193468e-07</td></tr>\n",
       "<tr><td>1049</td><td>0.028459908912918216</td><td>1578.6321710060924</td><td>510.7294673088845</td><td>3.6325507210447283e-07</td></tr>\n",
       "<tr><td>1050</td><td>0.029225602009572485</td><td>1592.7193718515464</td><td>515.2442411347533</td><td>3.568633032212571e-07</td></tr>\n",
       "</table></div>"
      ],
      "text/plain": [
       "<QTable length=5>\n",
       " UNIQ     PROBDENSITY      ...     DISTSIGMA             DISTNORM       \n",
       "             1 / sr        ...        Mpc                1 / Mpc2       \n",
       "int64       float64        ...      float64              float64        \n",
       "----- -------------------- ... ------------------ ----------------------\n",
       " 1045 0.029303756273802613 ...  515.8564456938193  3.563354517213414e-07\n",
       " 1046 0.028392681869408246 ... 510.38311474193097  3.638682797470182e-07\n",
       " 1047  0.02349500703651242 ... 479.20190913876587  4.128543780193468e-07\n",
       " 1049 0.028459908912918216 ...  510.7294673088845 3.6325507210447283e-07\n",
       " 1050 0.029225602009572485 ...  515.2442411347533  3.568633032212571e-07"
      ]
     },
     "execution_count": 64,
     "metadata": {},
     "output_type": "execute_result"
    }
   ],
   "source": [
    "path = \"/global/homes/j/jgassert/ligo-desi-gw-follow-up/Galaxy Selection/Files/S230522abayestar.multiorder.fits,1\"\n",
    "skymap = QTable.read(path)\n",
    "\n",
    "skymap[:5]"
   ]
  },
  {
   "cell_type": "markdown",
   "metadata": {
    "tags": []
   },
   "source": [
    "### Get basic values from GW event\n",
    "\n",
    "We now extract some basic information  from the healpix data:\n",
    "- ipix_max: pixel with highest likelihood\n",
    "- npix: total number of pixels\n",
    "- ra, dec: ra and dec of the pixel with the highest likelihood\n",
    "\n",
    "Then we open the full fits file and extract some more basic info from the header:\n",
    "- dist_mean: mean distance of the GW event\n",
    "- dist_std: error of the distance"
   ]
  },
  {
   "cell_type": "code",
   "execution_count": 65,
   "metadata": {},
   "outputs": [
    {
     "name": "stdout",
     "output_type": "stream",
     "text": [
      "UNIQ ID of highest prob sky localization:  30827\n"
     ]
    }
   ],
   "source": [
    "# most probable sky location\n",
    "i = np.argmax(skymap[\"PROBDENSITY\"])\n",
    "uniq = skymap[i][\"UNIQ\"]\n",
    "print(\"UNIQ ID of highest prob sky localization: \", uniq)"
   ]
  },
  {
   "cell_type": "code",
   "execution_count": 66,
   "metadata": {},
   "outputs": [
    {
     "name": "stdout",
     "output_type": "stream",
     "text": [
      "Highest probability at (RA, dec):  293.90625 30.69158768492234 with prob [1/deg^2] of:  8.263083256297391e-05 and UNIQ ID:  30827\n"
     ]
    }
   ],
   "source": [
    "# calculate the most probable pixel, convert to RA and dec\n",
    "level_max, ipix_max = ah.uniq_to_level_ipix(uniq)\n",
    "nside = ah.level_to_nside(level_max)\n",
    "ra, dec = ah.healpix_to_lonlat(ipix_max, nside, order = \"nested\")\n",
    "print(\"Highest probability at (RA, dec): \", ra.deg, dec.deg, \"with prob [1/deg^2] of: \", skymap[i]['PROBDENSITY'].to_value(u.deg**-2), \"and UNIQ ID: \", skymap[i][\"UNIQ\"])"
   ]
  },
  {
   "cell_type": "markdown",
   "metadata": {},
   "source": [
    "Now open the fits file and read basics info from the header"
   ]
  },
  {
   "cell_type": "code",
   "execution_count": 67,
   "metadata": {},
   "outputs": [
    {
     "name": "stdout",
     "output_type": "stream",
     "text": [
      "The dist_mean and dist_std values:  3101.911440270933 Mpc 1032.142383672648 Mpc\n"
     ]
    }
   ],
   "source": [
    "fits_gw = fits.open(path)\n",
    "header = fits_gw[1].header\n",
    "dist_mean = header[\"DISTMEAN\"]\n",
    "dist_std = header[\"DISTSTD\"]\n",
    "print(\"The dist_mean and dist_std values: \", dist_mean*u.Mpc, dist_std*u.Mpc)"
   ]
  },
  {
   "cell_type": "code",
   "execution_count": 68,
   "metadata": {},
   "outputs": [],
   "source": [
    "# these values (924, 188Mpc) are close to z= 0.19, 0.03"
   ]
  },
  {
   "cell_type": "markdown",
   "metadata": {
    "tags": []
   },
   "source": [
    "### Get DESI data\n",
    "\n",
    "Establish a connection to the DESI database and load the daily data."
   ]
  },
  {
   "cell_type": "code",
   "execution_count": 69,
   "metadata": {},
   "outputs": [],
   "source": [
    "try:\n",
    "    db = psycopg2.connect(host='decatdb.lbl.gov', database='desidb', user='desi', password = \"5kFibers!\", port=\"5432\")\n",
    "    cursor = db.cursor()\n",
    "except (Exception, psycopg2.Error) as error:\n",
    "    print(error)\n",
    "\n",
    "cursor = db.cursor()"
   ]
  },
  {
   "cell_type": "code",
   "execution_count": 70,
   "metadata": {},
   "outputs": [],
   "source": [
    "redux = 'daily'\n",
    "query = 'SELECT f.targetid,f.target_ra,f.target_dec,c.tileid,c.night,r.z,r.zerr,r.zwarn,r.deltachi2,f.flux_z,f.bgs_target,f.ebv, f.sersic, f.mws_target, c.filename\\n' \\\n",
    "                    f'FROM {redux}.tiles_fibermap f\\n' \\\n",
    "                    f'INNER JOIN {redux}.cumulative_tiles c ON f.cumultile_id=c.id\\n' \\\n",
    "                    f'INNER JOIN {redux}.tiles_redshifts r ON r.cumultile_id=c.id AND r.targetid=f.targetid\\n' \\\n",
    "                    f'WHERE q3c_radial_query( f.target_ra, f.target_dec, {ra.deg}, {dec.deg}, 50);'\n",
    "\n",
    "cursor.execute(query)\n",
    "rows = cursor.fetchall()"
   ]
  },
  {
   "cell_type": "markdown",
   "metadata": {
    "tags": []
   },
   "source": [
    "## Do all the calculations, selections,...\n",
    "\n",
    "- turn the daily DESI data into a Table\n",
    "- do some basic data selection stuff: only keep good + positive redshifts, only positive values of z-band flux and eliminate duplicates (right now simply takes the first entry)\n",
    "- add the ipix (healpix) pixel value for each target\n",
    "- calculate the probability for each target\n",
    "- add these values to the Table (\"PROB\"), select only targets within the 90% credible region (i.e. with a certainty of 90% the GW event is inside this region)\n",
    "- calculate the distances and its errors from the redshift, add to the data table\n",
    "- calculate the 3D probability just like here: https://iopscience.iop.org/article/10.3847/0067-0049/226/1/10 (§4) and add these values to the table\n",
    "- sort the table by its 3D probability (descending)\n",
    "- calculate absolute and apparent magnitude, luminosity and add to table\n",
    "\n",
    "The final step is to include the calculation of the most likely host galaxy from https://arxiv.org/pdf/1710.05452.pdf (GW170817); these values are then also added to the table as \"P_GAL\""
   ]
  },
  {
   "cell_type": "markdown",
   "metadata": {
    "tags": []
   },
   "source": [
    "### Create DESI data Table and data clean up"
   ]
  },
  {
   "cell_type": "code",
   "execution_count": 72,
   "metadata": {},
   "outputs": [
    {
     "data": {
      "text/html": [
       "<div><i>Table length=10801562</i>\n",
       "<table id=\"table140589148905840\" class=\"table-striped table-bordered table-condensed\">\n",
       "<thead><tr><th>TARGETID</th><th>TARGET_RA</th><th>TARGET_DEC</th><th>TILEID</th><th>NIGHT</th><th>Z</th><th>ZERR</th><th>ZWARN</th><th>DELTACHI2</th><th>FLUX_Z</th><th>BGS_TARGET</th><th>EBV</th><th>SERSIC</th><th>MWS_TARGET</th><th>FILENAME</th></tr></thead>\n",
       "<thead><tr><th>int64</th><th>float64</th><th>float64</th><th>int64</th><th>int64</th><th>float64</th><th>float64</th><th>int64</th><th>float64</th><th>float64</th><th>int64</th><th>float64</th><th>float64</th><th>int64</th><th>str71</th></tr></thead>\n",
       "<tr><td>39633054372724796</td><td>247.142648499851</td><td>38.811505440908</td><td>25435</td><td>20230520</td><td>0.36128150437353</td><td>8.75863235901406e-05</td><td>0</td><td>146.109357248992</td><td>36.8784484863281</td><td>514</td><td>0.00851269625127316</td><td>4.0</td><td>0</td><td>daily/tiles/cumulative/25435/20230520/redrock-9-25435-thru20230520.fits</td></tr>\n",
       "<tr><td>39633044901986975</td><td>247.356025802072</td><td>38.3648092744739</td><td>25435</td><td>20230520</td><td>5.25898696080585e-05</td><td>6.12892339678604e-06</td><td>0</td><td>2053.86738169171</td><td>71.0185623168945</td><td>0</td><td>0.00904854945838451</td><td>0.0</td><td>17</td><td>daily/tiles/cumulative/25435/20230520/redrock-9-25435-thru20230520.fits</td></tr>\n",
       "<tr><td>-254359010</td><td>246.599542771627</td><td>39.4412005253432</td><td>25435</td><td>20230520</td><td>1.34451722450903</td><td>0.000119095005760056</td><td>2053</td><td>3.62523132562637</td><td>0.0</td><td>0</td><td>0.00975194107741117</td><td>0.0</td><td>0</td><td>daily/tiles/cumulative/25435/20230520/redrock-9-25435-thru20230520.fits</td></tr>\n",
       "<tr><td>39633059078734602</td><td>246.798732733926</td><td>39.0657353306997</td><td>25435</td><td>20230520</td><td>-3.84890194848649e-05</td><td>4.23183454976143e-06</td><td>0</td><td>5662.7716538402</td><td>113.394309997559</td><td>0</td><td>0.0107947746291757</td><td>0.0</td><td>768</td><td>daily/tiles/cumulative/25435/20230520/redrock-9-25435-thru20230520.fits</td></tr>\n",
       "<tr><td>39633054376922004</td><td>247.663371281755</td><td>38.8095387301562</td><td>25435</td><td>20230520</td><td>3.09542247868878e-05</td><td>4.75760113093703e-06</td><td>0</td><td>6910.24263383773</td><td>116.152069091797</td><td>0</td><td>0.00726486509665847</td><td>0.0</td><td>17</td><td>daily/tiles/cumulative/25435/20230520/redrock-9-25435-thru20230520.fits</td></tr>\n",
       "<tr><td>39633049641551936</td><td>247.043202760099</td><td>38.5006942255478</td><td>25435</td><td>20230520</td><td>0.174914166990973</td><td>4.82542323477764e-05</td><td>0</td><td>988.144366179593</td><td>173.299377441406</td><td>514</td><td>0.00890133250504732</td><td>4.366295337677</td><td>0</td><td>daily/tiles/cumulative/25435/20230520/redrock-9-25435-thru20230520.fits</td></tr>\n",
       "<tr><td>39633049641552273</td><td>247.059924850491</td><td>38.3902040521157</td><td>25435</td><td>20230520</td><td>0.455458014949545</td><td>1.47603191454041e-05</td><td>0</td><td>751.373251080513</td><td>23.459379196167</td><td>257</td><td>0.0102210314944386</td><td>0.580598890781403</td><td>0</td><td>daily/tiles/cumulative/25435/20230520/redrock-9-25435-thru20230520.fits</td></tr>\n",
       "<tr><td>39633044897793062</td><td>247.066480862594</td><td>38.3465183797582</td><td>25435</td><td>20230520</td><td>0.239952732860842</td><td>6.61649887912269e-05</td><td>0</td><td>159.081957055256</td><td>62.5650253295898</td><td>514</td><td>0.00949942599982023</td><td>2.16679096221924</td><td>0</td><td>daily/tiles/cumulative/25435/20230520/redrock-9-25435-thru20230520.fits</td></tr>\n",
       "<tr><td>39633049641553034</td><td>247.102932601802</td><td>38.389857668431</td><td>25435</td><td>20230520</td><td>0.175996562485287</td><td>7.83110737803604e-06</td><td>0</td><td>1334.46322470903</td><td>40.7736434936523</td><td>514</td><td>0.00981849897652864</td><td>1.0</td><td>0</td><td>daily/tiles/cumulative/25435/20230520/redrock-9-25435-thru20230520.fits</td></tr>\n",
       "<tr><td>39633059087122673</td><td>247.394767853509</td><td>39.1033281284919</td><td>25435</td><td>20230520</td><td>-7.08296066704047e-05</td><td>4.59673210940111e-06</td><td>0</td><td>3526.63191941041</td><td>89.957649230957</td><td>0</td><td>0.00521639548242092</td><td>0.0</td><td>768</td><td>daily/tiles/cumulative/25435/20230520/redrock-9-25435-thru20230520.fits</td></tr>\n",
       "<tr><td>...</td><td>...</td><td>...</td><td>...</td><td>...</td><td>...</td><td>...</td><td>...</td><td>...</td><td>...</td><td>...</td><td>...</td><td>...</td><td>...</td><td>...</td></tr>\n",
       "<tr><td>39632941713723475</td><td>252.262667565865</td><td>32.9866337541505</td><td>397</td><td>20210504</td><td>0.159794501229999</td><td>4.26188891631873e-05</td><td>0</td><td>139.351297197863</td><td>35.4108543395996</td><td>0</td><td>0.0306952074170113</td><td>4.0</td><td>0</td><td>daily/tiles/cumulative/397/20210504/zbest-0-397-thru20210504.fits</td></tr>\n",
       "<tr><td>39632941713723218</td><td>252.245812358384</td><td>32.9282365959689</td><td>397</td><td>20210504</td><td>-0.000461610855994526</td><td>1.92994708630382e-05</td><td>0</td><td>690.373906337714</td><td>35.4825172424316</td><td>0</td><td>0.0325374007225037</td><td>0.0</td><td>0</td><td>daily/tiles/cumulative/397/20210504/zbest-0-397-thru20210504.fits</td></tr>\n",
       "<tr><td>39632941713720668</td><td>252.089225698914</td><td>32.9905630720175</td><td>397</td><td>20210504</td><td>0.160882090666829</td><td>2.94213176618752e-05</td><td>0</td><td>909.344234343618</td><td>91.0203018188477</td><td>0</td><td>0.0326494090259075</td><td>2.87970685958862</td><td>0</td><td>daily/tiles/cumulative/397/20210504/zbest-0-397-thru20210504.fits</td></tr>\n",
       "<tr><td>-1993018</td><td>252.236686279361</td><td>33.8705280171828</td><td>397</td><td>20210504</td><td>-0.00199570145091582</td><td>4.13115987161332e-48</td><td>1570</td><td>1.94266889222573e+84</td><td>0.0</td><td>0</td><td>0.0</td><td>0.0</td><td>0</td><td>daily/tiles/cumulative/397/20210504/zbest-0-397-thru20210504.fits</td></tr>\n",
       "<tr><td>-1993027</td><td>252.252055414018</td><td>33.844701546393</td><td>397</td><td>20210504</td><td>-0.00199570145091582</td><td>4.13115987161332e-48</td><td>1570</td><td>1.94266889222573e+84</td><td>0.0</td><td>0</td><td>0.0</td><td>0.0</td><td>0</td><td>daily/tiles/cumulative/397/20210504/zbest-0-397-thru20210504.fits</td></tr>\n",
       "<tr><td>-1993164</td><td>252.720515887823</td><td>33.3618072861535</td><td>397</td><td>20210504</td><td>-0.00199570145091582</td><td>4.13115987161332e-48</td><td>1570</td><td>1.94266889222573e+84</td><td>0.0</td><td>0</td><td>0.0</td><td>0.0</td><td>0</td><td>daily/tiles/cumulative/397/20210504/zbest-0-397-thru20210504.fits</td></tr>\n",
       "<tr><td>-1993360</td><td>252.717522752488</td><td>33.011182166734</td><td>397</td><td>20210504</td><td>-0.00199570145091582</td><td>4.13115987161332e-48</td><td>1570</td><td>1.94266889222573e+84</td><td>0.0</td><td>0</td><td>0.0</td><td>0.0</td><td>0</td><td>daily/tiles/cumulative/397/20210504/zbest-0-397-thru20210504.fits</td></tr>\n",
       "<tr><td>-1993374</td><td>252.044745354311</td><td>33.1250071620113</td><td>397</td><td>20210504</td><td>-0.00199570145091582</td><td>4.13115987161332e-48</td><td>1570</td><td>1.94266889222573e+84</td><td>0.0</td><td>0</td><td>0.0</td><td>0.0</td><td>0</td><td>daily/tiles/cumulative/397/20210504/zbest-0-397-thru20210504.fits</td></tr>\n",
       "<tr><td>-1993394</td><td>252.160062743768</td><td>33.0652362427637</td><td>397</td><td>20210504</td><td>1.3539239152047</td><td>0.000157968988254046</td><td>4</td><td>1.83240693807602</td><td>0.0</td><td>0</td><td>0.0</td><td>0.0</td><td>0</td><td>daily/tiles/cumulative/397/20210504/zbest-0-397-thru20210504.fits</td></tr>\n",
       "<tr><td>-1993466</td><td>251.977657999506</td><td>32.9665010703538</td><td>397</td><td>20210504</td><td>-0.00199570145091582</td><td>4.13115987161332e-48</td><td>1570</td><td>1.94266889222573e+84</td><td>0.0</td><td>0</td><td>0.0</td><td>0.0</td><td>0</td><td>daily/tiles/cumulative/397/20210504/zbest-0-397-thru20210504.fits</td></tr>\n",
       "</table></div>"
      ],
      "text/plain": [
       "<Table length=10801562>\n",
       "     TARGETID     ...\n",
       "      int64       ...\n",
       "----------------- ...\n",
       "39633054372724796 ...\n",
       "39633044901986975 ...\n",
       "       -254359010 ...\n",
       "39633059078734602 ...\n",
       "39633054376922004 ...\n",
       "39633049641551936 ...\n",
       "39633049641552273 ...\n",
       "39633044897793062 ...\n",
       "39633049641553034 ...\n",
       "39633059087122673 ...\n",
       "              ... ...\n",
       "39632941713723475 ...\n",
       "39632941713723218 ...\n",
       "39632941713720668 ...\n",
       "         -1993018 ...\n",
       "         -1993027 ...\n",
       "         -1993164 ...\n",
       "         -1993360 ...\n",
       "         -1993374 ...\n",
       "         -1993394 ...\n",
       "         -1993466 ..."
      ]
     },
     "execution_count": 72,
     "metadata": {},
     "output_type": "execute_result"
    }
   ],
   "source": [
    "if rows:\n",
    "    data = Table(list(map(list, zip(*rows))),\n",
    "                             names=['TARGETID', 'TARGET_RA', 'TARGET_DEC', 'TILEID', 'NIGHT', 'Z', 'ZERR', 'ZWARN', 'DELTACHI2', 'FLUX_Z', 'BGS_TARGET', 'EBV', 'SERSIC', 'MWS_TARGET','FILENAME'])\n",
    "data[:5:-1] "
   ]
  },
  {
   "cell_type": "code",
   "execution_count": 73,
   "metadata": {},
   "outputs": [],
   "source": [
    "data = data[data['ZWARN']==0]\n",
    "data = data[data['Z']>=0]\n",
    "data = data[data['FLUX_Z']>0]\n",
    "data = table.unique(data, keys = \"TARGETID\")"
   ]
  },
  {
   "cell_type": "code",
   "execution_count": 74,
   "metadata": {},
   "outputs": [
    {
     "name": "stdout",
     "output_type": "stream",
     "text": [
      "We have 4694341 objects in the full catalog\n"
     ]
    }
   ],
   "source": [
    "print(f\"We have {len(data)} objects in the full catalog\") "
   ]
  },
  {
   "cell_type": "markdown",
   "metadata": {
    "tags": []
   },
   "source": [
    "### Calculate the healpix id for every object in the catalog and its probability; append this data to the Table"
   ]
  },
  {
   "cell_type": "code",
   "execution_count": 75,
   "metadata": {},
   "outputs": [],
   "source": [
    "max_level = 29 # highest possible HEALPix resolution that can be represented in a 64-bit signed integer\n",
    "max_nside = ah.level_to_nside(max_level)\n",
    "level, ipix = ah.uniq_to_level_ipix(skymap[\"UNIQ\"])\n",
    "\n",
    "index = ipix*(2**(max_level-level))**2\n",
    "\n",
    "sorter = np.argsort(index)\n",
    "\n",
    "# this is the NESTED pixel index of the target sky location, NOT THE UNIQ ID\n",
    "match_ipix = ah.lonlat_to_healpix(data[\"TARGET_RA\"]*u.deg, data[\"TARGET_DEC\"]*u.deg, max_nside, order='nested')\n",
    "\n",
    "# here we get the pixel index (i.e. where the entry is in the table, also NOT THE UNIQ ID) of each target\n",
    "sorter_i = sorter[np.searchsorted(index, match_ipix, side='right', sorter=sorter) - 1]\n",
    "probdensity = skymap[sorter_i]['PROBDENSITY'].to_value(u.deg**-2)\n",
    "\n",
    "# now we calculate the UNIQ ID for all our targets:\n",
    "\n",
    "uniq = skymap[\"UNIQ\"][sorter_i]\n",
    "#to make things easier in future, I will now also append the UNIQ pixels DISTMU, DISTSIGMA and DISTNORM values. However, be careful, since these DO NOT CORRESPOND THE TARGETS IN DESI DIRECTLY!\n",
    "\n",
    "distmu = skymap[sorter_i][\"DISTMU\"]\n",
    "distsigma = skymap[sorter_i][\"DISTSIGMA\"]\n",
    "distnorm = skymap[sorter_i][\"DISTNORM\"]\n"
   ]
  },
  {
   "cell_type": "code",
   "execution_count": 76,
   "metadata": {},
   "outputs": [],
   "source": [
    "# len(UNIQ), len(data), len(skymap)"
   ]
  },
  {
   "cell_type": "code",
   "execution_count": 77,
   "metadata": {},
   "outputs": [],
   "source": [
    "#data = data.keep_columns([\"TARGETID\", \"TARGET_RA\", \"TARGET_DEC\", \"TILEID\", \"NIGHT\", \"Z\", \"ZERR\", \"ZWARN\", \"DELTACHI2\", \"FLUX_Z\", \"BGS_TARGET\", \"EBV\", \"SERSIC\", \"MWS_TARGET\", \"FILENAME\"])\n",
    "                          "
   ]
  },
  {
   "cell_type": "code",
   "execution_count": 78,
   "metadata": {},
   "outputs": [],
   "source": [
    "data = hstack([data, Table({\"UNIQ\": uniq}), Table({\"PROBDENSITY\": probdensity}), Table({\"DISTMU\": distmu}), Table({\"DISTSIGMA\": distsigma}), Table({\"DISTNORM\": distnorm})])"
   ]
  },
  {
   "cell_type": "code",
   "execution_count": 79,
   "metadata": {},
   "outputs": [
    {
     "data": {
      "text/html": [
       "<div><i>Table length=5</i>\n",
       "<table id=\"table140601751048192\" class=\"table-striped table-bordered table-condensed\">\n",
       "<thead><tr><th>TARGETID</th><th>TARGET_RA</th><th>TARGET_DEC</th><th>TILEID</th><th>NIGHT</th><th>Z</th><th>ZERR</th><th>ZWARN</th><th>DELTACHI2</th><th>FLUX_Z</th><th>BGS_TARGET</th><th>EBV</th><th>SERSIC</th><th>MWS_TARGET</th><th>FILENAME</th><th>UNIQ</th><th>PROBDENSITY</th><th>DISTMU</th><th>DISTSIGMA</th><th>DISTNORM</th></tr></thead>\n",
       "<thead><tr><th></th><th></th><th></th><th></th><th></th><th></th><th></th><th></th><th></th><th></th><th></th><th></th><th></th><th></th><th></th><th></th><th></th><th>Mpc</th><th>Mpc</th><th>1 / Mpc2</th></tr></thead>\n",
       "<thead><tr><th>int64</th><th>float64</th><th>float64</th><th>int64</th><th>int64</th><th>float64</th><th>float64</th><th>int64</th><th>float64</th><th>float64</th><th>int64</th><th>float64</th><th>float64</th><th>int64</th><th>str71</th><th>int64</th><th>float64</th><th>float64</th><th>float64</th><th>float64</th></tr></thead>\n",
       "<tr><td>39627460672749994</td><td>316.075157442061</td><td>-13.6310868745627</td><td>21872</td><td>20211029</td><td>0.416700916600313</td><td>2.46290891466202e-05</td><td>0</td><td>175.43090057373</td><td>15.7218132019043</td><td>65545</td><td>0.0463812276721001</td><td>1.0</td><td>0</td><td>daily/tiles/cumulative/21872/20211029/redrock-9-21872-thru20211029.fits</td><td>16326</td><td>2.774175531193883e-05</td><td>2326.3580258968173</td><td>752.5801204793004</td><td>1.6727339549619812e-07</td></tr>\n",
       "<tr><td>39627460672750523</td><td>316.129752386656</td><td>-13.6292699138002</td><td>21872</td><td>20211029</td><td>0.317717201006356</td><td>5.86501301186487e-05</td><td>0</td><td>754.035196565092</td><td>146.238967895508</td><td>131074</td><td>0.0483423806726933</td><td>6.0</td><td>0</td><td>daily/tiles/cumulative/21872/20211029/redrock-9-21872-thru20211029.fits</td><td>16326</td><td>2.774175531193883e-05</td><td>2326.3580258968173</td><td>752.5801204793004</td><td>1.6727339549619812e-07</td></tr>\n",
       "<tr><td>39627460672750566</td><td>316.132722579841</td><td>-13.6443986382141</td><td>21872</td><td>20211029</td><td>0.262338143982214</td><td>2.49150650660767e-05</td><td>0</td><td>677.188760980964</td><td>26.616096496582</td><td>65537</td><td>0.0473134927451611</td><td>0.656544327735901</td><td>0</td><td>daily/tiles/cumulative/21872/20211029/redrock-9-21872-thru20211029.fits</td><td>16326</td><td>2.774175531193883e-05</td><td>2326.3580258968173</td><td>752.5801204793004</td><td>1.6727339549619812e-07</td></tr>\n",
       "<tr><td>39627460672751152</td><td>316.186054070507</td><td>-13.6391033327971</td><td>21872</td><td>20211029</td><td>0.205103903960105</td><td>9.65350436552956e-06</td><td>0</td><td>941.831816613674</td><td>12.1276807785034</td><td>65545</td><td>0.0495129190385342</td><td>0.5</td><td>0</td><td>daily/tiles/cumulative/21872/20211029/redrock-9-21872-thru20211029.fits</td><td>16326</td><td>2.774175531193883e-05</td><td>2326.3580258968173</td><td>752.5801204793004</td><td>1.6727339549619812e-07</td></tr>\n",
       "<tr><td>39627466519613448</td><td>314.271103128212</td><td>-13.4087247838399</td><td>21872</td><td>20211029</td><td>0.501685292682823</td><td>8.14879662100166e-05</td><td>0</td><td>267.10806242004</td><td>40.0189247131348</td><td>131074</td><td>0.0459239855408669</td><td>1.74498915672302</td><td>0</td><td>daily/tiles/cumulative/21872/20211029/redrock-1-21872-thru20211029.fits</td><td>16332</td><td>2.9947924204889715e-05</td><td>2386.436077796873</td><td>772.0360825251853</td><td>1.58956455826681e-07</td></tr>\n",
       "</table></div>"
      ],
      "text/plain": [
       "<Table length=5>\n",
       "     TARGETID        TARGET_RA     ...     DISTSIGMA            DISTNORM       \n",
       "                                   ...        Mpc               1 / Mpc2       \n",
       "      int64           float64      ...      float64             float64        \n",
       "----------------- ---------------- ... ----------------- ----------------------\n",
       "39627460672749994 316.075157442061 ... 752.5801204793004 1.6727339549619812e-07\n",
       "39627460672750523 316.129752386656 ... 752.5801204793004 1.6727339549619812e-07\n",
       "39627460672750566 316.132722579841 ... 752.5801204793004 1.6727339549619812e-07\n",
       "39627460672751152 316.186054070507 ... 752.5801204793004 1.6727339549619812e-07\n",
       "39627466519613448 314.271103128212 ... 772.0360825251853   1.58956455826681e-07"
      ]
     },
     "execution_count": 79,
     "metadata": {},
     "output_type": "execute_result"
    }
   ],
   "source": [
    "data[:5]"
   ]
  },
  {
   "cell_type": "code",
   "execution_count": 80,
   "metadata": {},
   "outputs": [
    {
     "name": "stdout",
     "output_type": "stream",
     "text": [
      "The highest and lowest probability values in our catalog are: 2.0258913187191926e-05 and 7.740471663183922e-05\n"
     ]
    }
   ],
   "source": [
    "print(f\"The highest and lowest probability values in our catalog are: {np.min(probdensity)} and {np.max(probdensity)}\")"
   ]
  },
  {
   "cell_type": "markdown",
   "metadata": {
    "tags": []
   },
   "source": [
    "### Sort the skymap table and get 90% credible region"
   ]
  },
  {
   "cell_type": "code",
   "execution_count": 81,
   "metadata": {},
   "outputs": [],
   "source": [
    "# copy the table\n",
    "skymap_sort = Table(skymap, copy = True)"
   ]
  },
  {
   "cell_type": "code",
   "execution_count": 82,
   "metadata": {},
   "outputs": [],
   "source": [
    "# check whether copy worked:\n",
    "# skymap_sort, skymap\n",
    "# np.max(skymap[\"UNIQ\"])"
   ]
  },
  {
   "cell_type": "code",
   "execution_count": 83,
   "metadata": {},
   "outputs": [],
   "source": [
    "# now sort the skymap by its probability (descending)\n",
    "skymap_sort.sort('PROBDENSITY', reverse=True)"
   ]
  },
  {
   "cell_type": "code",
   "execution_count": 84,
   "metadata": {},
   "outputs": [
    {
     "data": {
      "text/html": [
       "<div><i>Table length=5</i>\n",
       "<table id=\"table140601751048144\" class=\"table-striped table-bordered table-condensed\">\n",
       "<thead><tr><th>UNIQ</th><th>PROBDENSITY</th><th>DISTMU</th><th>DISTSIGMA</th><th>DISTNORM</th></tr></thead>\n",
       "<thead><tr><th></th><th>1 / sr</th><th>Mpc</th><th>Mpc</th><th>1 / Mpc2</th></tr></thead>\n",
       "<thead><tr><th>int64</th><th>float64</th><th>float64</th><th>float64</th><th>float64</th></tr></thead>\n",
       "<tr><td>30827</td><td>0.2712610218444879</td><td>3347.4248298385446</td><td>1082.6894852163814</td><td>8.079305698237059e-08</td></tr>\n",
       "<tr><td>56168</td><td>0.2712558843532586</td><td>3347.4035959907383</td><td>1082.6829149469697</td><td>8.079407778520979e-08</td></tr>\n",
       "<tr><td>56170</td><td>0.2712471550927869</td><td>3347.3773618922824</td><td>1082.6666546877664</td><td>8.079545398327668e-08</td></tr>\n",
       "<tr><td>30826</td><td>0.2712452369877947</td><td>3347.3680299460825</td><td>1082.6651356239838</td><td>8.079588330351662e-08</td></tr>\n",
       "<tr><td>56127</td><td>0.2712174881419412</td><td>3347.2526504708267</td><td>1082.6288027979672</td><td>8.080143953777071e-08</td></tr>\n",
       "</table></div>"
      ],
      "text/plain": [
       "<Table length=5>\n",
       " UNIQ    PROBDENSITY     ...     DISTSIGMA             DISTNORM      \n",
       "            1 / sr       ...        Mpc                1 / Mpc2      \n",
       "int64      float64       ...      float64              float64       \n",
       "----- ------------------ ... ------------------ ---------------------\n",
       "30827 0.2712610218444879 ... 1082.6894852163814 8.079305698237059e-08\n",
       "56168 0.2712558843532586 ... 1082.6829149469697 8.079407778520979e-08\n",
       "56170 0.2712471550927869 ... 1082.6666546877664 8.079545398327668e-08\n",
       "30826 0.2712452369877947 ... 1082.6651356239838 8.079588330351662e-08\n",
       "56127 0.2712174881419412 ... 1082.6288027979672 8.080143953777071e-08"
      ]
     },
     "execution_count": 84,
     "metadata": {},
     "output_type": "execute_result"
    }
   ],
   "source": [
    "# this shows the first entries sorted be their probability\n",
    "skymap_sort[:5]"
   ]
  },
  {
   "cell_type": "code",
   "execution_count": 85,
   "metadata": {},
   "outputs": [
    {
     "data": {
      "text/plain": [
       "24218.657426213435"
      ]
     },
     "execution_count": 85,
     "metadata": {},
     "output_type": "execute_result"
    }
   ],
   "source": [
    "# now get 90% credible region area\n",
    "\n",
    "level, ipix = ah.uniq_to_level_ipix(skymap_sort['UNIQ'])\n",
    "pixel_area = ah.nside_to_pixel_area(ah.level_to_nside(level)) # this is the area each pixel contains\n",
    "\n",
    "# calculate the probability per pixel (careful: since the pixels differ in size, this is not neceseraliy a useful quantity\n",
    "prob = pixel_area * skymap_sort['PROBDENSITY']\n",
    "\n",
    "# calc cumsum of probabilities and get index of pixel that sums up to 0.9\n",
    "cumprob = np.cumsum(prob)\n",
    "i = cumprob.searchsorted(0.9)\n",
    "\n",
    "# print area\n",
    "area_90 = pixel_area[:i].sum()\n",
    "area_90.to_value(u.deg**2)"
   ]
  },
  {
   "cell_type": "markdown",
   "metadata": {
    "jp-MarkdownHeadingCollapsed": true,
    "tags": []
   },
   "source": [
    "### can be deleted, just tried things out"
   ]
  },
  {
   "cell_type": "code",
   "execution_count": 86,
   "metadata": {},
   "outputs": [],
   "source": [
    "skymap_sort = hstack([skymap_sort, Table({\"PROB\": prob})])"
   ]
  },
  {
   "cell_type": "code",
   "execution_count": 87,
   "metadata": {},
   "outputs": [
    {
     "data": {
      "text/latex": [
       "$0.00012012706 \\; \\mathrm{}$"
      ],
      "text/plain": [
       "<Quantity 0.00012013>"
      ]
     },
     "execution_count": 87,
     "metadata": {},
     "output_type": "execute_result"
    }
   ],
   "source": [
    "np.max(prob)"
   ]
  },
  {
   "cell_type": "code",
   "execution_count": 88,
   "metadata": {},
   "outputs": [
    {
     "data": {
      "text/html": [
       "<div><i>Table length=5</i>\n",
       "<table id=\"table140601751050352\" class=\"table-striped table-bordered table-condensed\">\n",
       "<thead><tr><th>UNIQ</th><th>PROBDENSITY</th><th>DISTMU</th><th>DISTSIGMA</th><th>DISTNORM</th><th>PROB</th></tr></thead>\n",
       "<thead><tr><th></th><th>1 / sr</th><th>Mpc</th><th>Mpc</th><th>1 / Mpc2</th><th></th></tr></thead>\n",
       "<thead><tr><th>int64</th><th>float64</th><th>float64</th><th>float64</th><th>float64</th><th>float64</th></tr></thead>\n",
       "<tr><td>30827</td><td>0.2712610218444879</td><td>3347.4248298385446</td><td>1082.6894852163814</td><td>8.079305698237059e-08</td><td>6.935153266861194e-05</td></tr>\n",
       "<tr><td>56168</td><td>0.2712558843532586</td><td>3347.4035959907383</td><td>1082.6829149469697</td><td>8.079407778520979e-08</td><td>6.935021919980466e-05</td></tr>\n",
       "<tr><td>56170</td><td>0.2712471550927869</td><td>3347.3773618922824</td><td>1082.6666546877664</td><td>8.079545398327668e-08</td><td>6.934798744682866e-05</td></tr>\n",
       "<tr><td>30826</td><td>0.2712452369877947</td><td>3347.3680299460825</td><td>1082.6651356239838</td><td>8.079588330351662e-08</td><td>6.934749705746078e-05</td></tr>\n",
       "<tr><td>56127</td><td>0.2712174881419412</td><td>3347.2526504708267</td><td>1082.6288027979672</td><td>8.080143953777071e-08</td><td>6.934040269138991e-05</td></tr>\n",
       "</table></div>"
      ],
      "text/plain": [
       "<Table length=5>\n",
       " UNIQ    PROBDENSITY     ...        DISTNORM                PROB        \n",
       "            1 / sr       ...        1 / Mpc2                            \n",
       "int64      float64       ...        float64               float64       \n",
       "----- ------------------ ... --------------------- ---------------------\n",
       "30827 0.2712610218444879 ... 8.079305698237059e-08 6.935153266861194e-05\n",
       "56168 0.2712558843532586 ... 8.079407778520979e-08 6.935021919980466e-05\n",
       "56170 0.2712471550927869 ... 8.079545398327668e-08 6.934798744682866e-05\n",
       "30826 0.2712452369877947 ... 8.079588330351662e-08 6.934749705746078e-05\n",
       "56127 0.2712174881419412 ... 8.080143953777071e-08 6.934040269138991e-05"
      ]
     },
     "execution_count": 88,
     "metadata": {},
     "output_type": "execute_result"
    }
   ],
   "source": [
    "skymap_sort[:5]"
   ]
  },
  {
   "cell_type": "code",
   "execution_count": 89,
   "metadata": {},
   "outputs": [],
   "source": [
    "skymap_prob = Table(skymap_sort, copy = True)"
   ]
  },
  {
   "cell_type": "code",
   "execution_count": 90,
   "metadata": {},
   "outputs": [],
   "source": [
    "skymap_prob.sort(\"PROB\", reverse = True)"
   ]
  },
  {
   "cell_type": "code",
   "execution_count": 91,
   "metadata": {},
   "outputs": [
    {
     "data": {
      "text/html": [
       "<div><i>Table length=5</i>\n",
       "<table id=\"table140601749283520\" class=\"table-striped table-bordered table-condensed\">\n",
       "<thead><tr><th>UNIQ</th><th>PROBDENSITY</th><th>DISTMU</th><th>DISTSIGMA</th><th>DISTNORM</th><th>PROB</th></tr></thead>\n",
       "<thead><tr><th></th><th>1 / sr</th><th>Mpc</th><th>Mpc</th><th>1 / Mpc2</th><th></th></tr></thead>\n",
       "<thead><tr><th>int64</th><th>float64</th><th>float64</th><th>float64</th><th>float64</th><th>float64</th></tr></thead>\n",
       "<tr><td>11555</td><td>0.11746599874987697</td><td>2532.502520442503</td><td>819.130563602206</td><td>1.4115426746394087e-07</td><td>0.00012012705687474</td></tr>\n",
       "<tr><td>3320</td><td>0.02936262391289069</td><td>1594.9283732640865</td><td>516.1833836425061</td><td>3.5584614641812193e-07</td><td>0.00012011120257142887</td></tr>\n",
       "<tr><td>6402</td><td>0.11742850594081668</td><td>2532.039244311846</td><td>819.1386831328434</td><td>1.412007707227517e-07</td><td>0.0001200887147088851</td></tr>\n",
       "<tr><td>7440</td><td>0.11738032243125528</td><td>2531.1595244575537</td><td>819.2858677954423</td><td>1.4128483175800458e-07</td><td>0.0001200394396569117</td></tr>\n",
       "<tr><td>8012</td><td>0.11732371849190307</td><td>2531.057719209934</td><td>819.0057862090923</td><td>1.4130427289796124e-07</td><td>0.00011998155341992175</td></tr>\n",
       "</table></div>"
      ],
      "text/plain": [
       "<Table length=5>\n",
       " UNIQ     PROBDENSITY     ...        DISTNORM                 PROB         \n",
       "             1 / sr       ...        1 / Mpc2                              \n",
       "int64       float64       ...        float64                float64        \n",
       "----- ------------------- ... ---------------------- ----------------------\n",
       "11555 0.11746599874987697 ... 1.4115426746394087e-07    0.00012012705687474\n",
       " 3320 0.02936262391289069 ... 3.5584614641812193e-07 0.00012011120257142887\n",
       " 6402 0.11742850594081668 ...  1.412007707227517e-07  0.0001200887147088851\n",
       " 7440 0.11738032243125528 ... 1.4128483175800458e-07  0.0001200394396569117\n",
       " 8012 0.11732371849190307 ... 1.4130427289796124e-07 0.00011998155341992175"
      ]
     },
     "execution_count": 91,
     "metadata": {},
     "output_type": "execute_result"
    }
   ],
   "source": [
    "skymap_prob[:5]"
   ]
  },
  {
   "cell_type": "markdown",
   "metadata": {
    "tags": []
   },
   "source": [
    "### Compare Tables, only leave 90% credible region in DESI data table\n",
    "\n",
    "Now we can get a Table that only contains the 90% credible region. From there we only leave the matching objects in the DESI data"
   ]
  },
  {
   "cell_type": "code",
   "execution_count": 92,
   "metadata": {},
   "outputs": [],
   "source": [
    "# we simply select only the entries that are within the 90% credible region\n",
    "skymap_90 = skymap_sort[:i]"
   ]
  },
  {
   "cell_type": "code",
   "execution_count": 93,
   "metadata": {},
   "outputs": [
    {
     "name": "stdout",
     "output_type": "stream",
     "text": [
      "This is the number of UNIQ ID of objects which should lie within the 90% credible region (NOT THE NUMBER OF OBJECTS, as there can be multiple objects per UNIQ ID): 2876\n"
     ]
    }
   ],
   "source": [
    "print(\"This is the number of UNIQ ID of objects which should lie within the 90% credible region (NOT THE NUMBER OF OBJECTS, as there can be multiple objects per UNIQ ID):\", len(np.intersect1d(skymap_90[\"UNIQ\"], data[\"UNIQ\"])))"
   ]
  },
  {
   "cell_type": "code",
   "execution_count": 94,
   "metadata": {},
   "outputs": [],
   "source": [
    "mask = np.in1d(data[\"UNIQ\"], skymap_90[\"UNIQ\"])\n",
    "data_90 = data[mask]"
   ]
  },
  {
   "cell_type": "code",
   "execution_count": 95,
   "metadata": {},
   "outputs": [
    {
     "name": "stdout",
     "output_type": "stream",
     "text": [
      "We now have 4694341 objects in the 90% credible region\n",
      "Check if the region from where the galaxies have been selected makes any sense (RA; DEC):  230.929933245455 353.450287347815 -13.6443986382141 80.169733932861\n",
      "We can also check whether we have at least one galaxy in the UNIQ pixel with the highest probability from LIGO...\n",
      "This is False\n"
     ]
    }
   ],
   "source": [
    "print(f\"We now have {len(data_90)} objects in the 90% credible region\")\n",
    "print(\"Check if the region from where the galaxies have been selected makes any sense (RA; DEC): \", np.min(data_90[\"TARGET_RA\"]), np.max(data_90[\"TARGET_RA\"]), np.min(data_90[\"TARGET_DEC\"]), np.max(data_90[\"TARGET_DEC\"]))\n",
    "\n",
    "max_probdens_in_desi = np.max(data_90[\"PROBDENSITY\"])\n",
    "max_probdens_in_ligo = np.max(skymap[\"PROBDENSITY\"]).to_value(u.deg**-2)\n",
    "print(f\"We can also check whether we have at least one galaxy in the UNIQ pixel with the highest probability from LIGO...\")\n",
    "print(f\"This is {np.allclose(max_probdens_in_desi, max_probdens_in_ligo)}\")"
   ]
  },
  {
   "cell_type": "code",
   "execution_count": 96,
   "metadata": {},
   "outputs": [],
   "source": [
    "data_90.sort('PROBDENSITY', reverse=True)"
   ]
  },
  {
   "cell_type": "code",
   "execution_count": 97,
   "metadata": {},
   "outputs": [
    {
     "data": {
      "text/html": [
       "<div><i>Table length=2</i>\n",
       "<table id=\"table140601749277616\" class=\"table-striped table-bordered table-condensed\">\n",
       "<thead><tr><th>TARGETID</th><th>TARGET_RA</th><th>TARGET_DEC</th><th>TILEID</th><th>NIGHT</th><th>Z</th><th>ZERR</th><th>ZWARN</th><th>DELTACHI2</th><th>FLUX_Z</th><th>BGS_TARGET</th><th>EBV</th><th>SERSIC</th><th>MWS_TARGET</th><th>FILENAME</th><th>UNIQ</th><th>PROBDENSITY</th><th>DISTMU</th><th>DISTSIGMA</th><th>DISTNORM</th></tr></thead>\n",
       "<thead><tr><th></th><th></th><th></th><th></th><th></th><th></th><th></th><th></th><th></th><th></th><th></th><th></th><th></th><th></th><th></th><th></th><th></th><th>Mpc</th><th>Mpc</th><th>1 / Mpc2</th></tr></thead>\n",
       "<thead><tr><th>int64</th><th>float64</th><th>float64</th><th>int64</th><th>int64</th><th>float64</th><th>float64</th><th>int64</th><th>float64</th><th>float64</th><th>int64</th><th>float64</th><th>float64</th><th>int64</th><th>str71</th><th>int64</th><th>float64</th><th>float64</th><th>float64</th><th>float64</th></tr></thead>\n",
       "<tr><td>39632957249428111</td><td>279.528998640127</td><td>33.8029856616974</td><td>81112</td><td>20210513</td><td>2.34626748854458</td><td>0.000752057176905733</td><td>0</td><td>96.0491077620536</td><td>3.55239152908325</td><td>0</td><td>0.0679977536201477</td><td>0.0</td><td>0</td><td>daily/tiles/cumulative/81112/20210513/zbest-8-81112-thru20210513.fits</td><td>31243</td><td>7.740471663183922e-05</td><td>3274.4162641041653</td><td>1059.8083381397971</td><td>8.442499801894188e-08</td></tr>\n",
       "<tr><td>39632952212063115</td><td>279.294167607132</td><td>33.4805978544231</td><td>81112</td><td>20210513</td><td>0.414173631003969</td><td>8.85297457464023e-05</td><td>0</td><td>10.5778310447931</td><td>26.3261489868164</td><td>257</td><td>0.0675732344388962</td><td>2.12837624549866</td><td>0</td><td>daily/tiles/cumulative/81112/20210513/zbest-9-81112-thru20210513.fits</td><td>31243</td><td>7.740471663183922e-05</td><td>3274.4162641041653</td><td>1059.8083381397971</td><td>8.442499801894188e-08</td></tr>\n",
       "</table></div>"
      ],
      "text/plain": [
       "<Table length=2>\n",
       "     TARGETID        TARGET_RA     ...     DISTSIGMA             DISTNORM      \n",
       "                                   ...        Mpc                1 / Mpc2      \n",
       "      int64           float64      ...      float64              float64       \n",
       "----------------- ---------------- ... ------------------ ---------------------\n",
       "39632957249428111 279.528998640127 ... 1059.8083381397971 8.442499801894188e-08\n",
       "39632952212063115 279.294167607132 ... 1059.8083381397971 8.442499801894188e-08"
      ]
     },
     "execution_count": 97,
     "metadata": {},
     "output_type": "execute_result"
    }
   ],
   "source": [
    "data_90[:2]"
   ]
  },
  {
   "cell_type": "code",
   "execution_count": 98,
   "metadata": {},
   "outputs": [
    {
     "name": "stdout",
     "output_type": "stream",
     "text": [
      "We have now performed all the necessary steps to get the localization selection in 2D, i.e. the angle on the sky\n",
      "However, we have not used the distance data at all. Therefore our redhsifts range from 4.81932436205922e-10 to 6.85686043636468\n"
     ]
    }
   ],
   "source": [
    "print(\"We have now performed all the necessary steps to get the localization selection in 2D, i.e. the angle on the sky\")\n",
    "min_z = np.min(data_90[\"Z\"])\n",
    "max_z = np.max(data_90[\"Z\"])\n",
    "print(f\"However, we have not used the distance data at all. Therefore our redhsifts range from {min_z} to {max_z}\")"
   ]
  },
  {
   "cell_type": "markdown",
   "metadata": {},
   "source": [
    "### Calculate all the distances of the objects from the redshifts"
   ]
  },
  {
   "cell_type": "code",
   "execution_count": 99,
   "metadata": {},
   "outputs": [],
   "source": [
    "distances = Distance(z=data_90[\"Z\"], cosmology=Planck18)\n",
    "distances_err = Distance(z=data_90[\"ZERR\"], cosmology=Planck18)\n",
    "\n",
    "data_90 = hstack([data_90, Table({\"DIST_Z\": distances}), Table({\"DIST_Z_ERR\": distances_err})])"
   ]
  },
  {
   "cell_type": "code",
   "execution_count": 100,
   "metadata": {},
   "outputs": [
    {
     "data": {
      "text/html": [
       "<div><i>Table length=5</i>\n",
       "<table id=\"table140607121888432\" class=\"table-striped table-bordered table-condensed\">\n",
       "<thead><tr><th>TARGETID</th><th>TARGET_RA</th><th>TARGET_DEC</th><th>TILEID</th><th>NIGHT</th><th>Z</th><th>ZERR</th><th>ZWARN</th><th>DELTACHI2</th><th>FLUX_Z</th><th>BGS_TARGET</th><th>EBV</th><th>SERSIC</th><th>MWS_TARGET</th><th>FILENAME</th><th>UNIQ</th><th>PROBDENSITY</th><th>DISTMU</th><th>DISTSIGMA</th><th>DISTNORM</th><th>DIST_Z</th><th>DIST_Z_ERR</th></tr></thead>\n",
       "<thead><tr><th></th><th></th><th></th><th></th><th></th><th></th><th></th><th></th><th></th><th></th><th></th><th></th><th></th><th></th><th></th><th></th><th></th><th>Mpc</th><th>Mpc</th><th>1 / Mpc2</th><th>Mpc</th><th>Mpc</th></tr></thead>\n",
       "<thead><tr><th>int64</th><th>float64</th><th>float64</th><th>int64</th><th>int64</th><th>float64</th><th>float64</th><th>int64</th><th>float64</th><th>float64</th><th>int64</th><th>float64</th><th>float64</th><th>int64</th><th>str71</th><th>int64</th><th>float64</th><th>float64</th><th>float64</th><th>float64</th><th>float64</th><th>float64</th></tr></thead>\n",
       "<tr><td>39632957249428111</td><td>279.528998640127</td><td>33.8029856616974</td><td>81112</td><td>20210513</td><td>2.34626748854458</td><td>0.000752057176905733</td><td>0</td><td>96.0491077620536</td><td>3.55239152908325</td><td>0</td><td>0.0679977536201477</td><td>0.0</td><td>0</td><td>daily/tiles/cumulative/81112/20210513/zbest-8-81112-thru20210513.fits</td><td>31243</td><td>7.740471663183922e-05</td><td>3274.4162641041653</td><td>1059.8083381397971</td><td>8.442499801894188e-08</td><td>19339.31800400032</td><td>3.3341859421024473</td></tr>\n",
       "<tr><td>39632952212063115</td><td>279.294167607132</td><td>33.4805978544231</td><td>81112</td><td>20210513</td><td>0.414173631003969</td><td>8.85297457464023e-05</td><td>0</td><td>10.5778310447931</td><td>26.3261489868164</td><td>257</td><td>0.0675732344388962</td><td>2.12837624549866</td><td>0</td><td>daily/tiles/cumulative/81112/20210513/zbest-9-81112-thru20210513.fits</td><td>31243</td><td>7.740471663183922e-05</td><td>3274.4162641041653</td><td>1059.8083381397971</td><td>8.442499801894188e-08</td><td>2334.0631954755336</td><td>0.392290146101148</td></tr>\n",
       "<tr><td>39632962274200717</td><td>279.742352512558</td><td>34.0406583580893</td><td>81112</td><td>20210513</td><td>0.715396865995214</td><td>9.31982872898698e-05</td><td>0</td><td>29.6244165673561</td><td>7.85115766525269</td><td>0</td><td>0.076921358704567</td><td>1.0</td><td>0</td><td>daily/tiles/cumulative/81112/20210513/zbest-8-81112-thru20210513.fits</td><td>31243</td><td>7.740471663183922e-05</td><td>3274.4162641041653</td><td>1059.8083381397971</td><td>8.442499801894188e-08</td><td>4502.561769779485</td><td>0.4129787142337032</td></tr>\n",
       "<tr><td>39632962274200481</td><td>279.733411019701</td><td>33.9664986261796</td><td>81112</td><td>20210513</td><td>0.499811639580795</td><td>9.69123761215224e-05</td><td>0</td><td>10.792769536376</td><td>31.1279239654541</td><td>0</td><td>0.07459507137537</td><td>4.0</td><td>0</td><td>daily/tiles/cumulative/81112/20210513/zbest-8-81112-thru20210513.fits</td><td>31243</td><td>7.740471663183922e-05</td><td>3274.4162641041653</td><td>1059.8083381397971</td><td>8.442499801894188e-08</td><td>2918.3090875802363</td><td>0.42943774598854334</td></tr>\n",
       "<tr><td>39632957249427367</td><td>279.503563693254</td><td>33.7733527604534</td><td>81112</td><td>20210513</td><td>0.262598383450057</td><td>5.54371147170733e-05</td><td>0</td><td>11.3345417492092</td><td>0.486104398965836</td><td>0</td><td>0.0671378001570702</td><td>0.0</td><td>0</td><td>daily/tiles/cumulative/81112/20210513/zbest-8-81112-thru20210513.fits</td><td>31243</td><td>7.740471663183922e-05</td><td>3274.4162641041653</td><td>1059.8083381397971</td><td>8.442499801894188e-08</td><td>1375.887022396523</td><td>0.24564491852548473</td></tr>\n",
       "</table></div>"
      ],
      "text/plain": [
       "<Table length=5>\n",
       "     TARGETID        TARGET_RA     ...       DIST_Z            DIST_Z_ERR    \n",
       "                                   ...        Mpc                 Mpc        \n",
       "      int64           float64      ...      float64             float64      \n",
       "----------------- ---------------- ... ------------------ -------------------\n",
       "39632957249428111 279.528998640127 ...  19339.31800400032  3.3341859421024473\n",
       "39632952212063115 279.294167607132 ... 2334.0631954755336   0.392290146101148\n",
       "39632962274200717 279.742352512558 ...  4502.561769779485  0.4129787142337032\n",
       "39632962274200481 279.733411019701 ... 2918.3090875802363 0.42943774598854334\n",
       "39632957249427367 279.503563693254 ...  1375.887022396523 0.24564491852548473"
      ]
     },
     "execution_count": 100,
     "metadata": {},
     "output_type": "execute_result"
    }
   ],
   "source": [
    "data_90[:5]"
   ]
  },
  {
   "cell_type": "markdown",
   "metadata": {},
   "source": [
    "### Lets check how much the distance measurement changes in the 90% credible region of LIGO and compare to our DESI data\n",
    "\n",
    "We should see a lot more data in DESI (since we haven't done any redshift selection and there can be multiple objects per GW-pixel). Be carfeul, we are comparing actual object counts with the number of pixels.\n",
    "\n",
    "\n",
    "We still see, that most of the GW localization is roughly between 780Mpc and 950Mpc. DESI definitely has a most of its data in this range as well."
   ]
  },
  {
   "cell_type": "code",
   "execution_count": 101,
   "metadata": {},
   "outputs": [
    {
     "name": "stdout",
     "output_type": "stream",
     "text": [
      "Our distance ranges from 1761.2485562775692 Mpc to 3347.4248298385446 Mpc\n",
      "Let's visualize the distance distribution of the LIGO event in the 90% credible region\n"
     ]
    },
    {
     "data": {
      "image/png": "[encoded data removed]",
      "text/plain": [
       "<Figure size 1500x800 with 3 Axes>"
      ]
     },
     "metadata": {},
     "output_type": "display_data"
    }
   ],
   "source": [
    "dist_max_90 = np.max(skymap_90[\"DISTMU\"])*u.Mpc\n",
    "dist_min_90 = np.min(skymap_90[\"DISTMU\"])*u.Mpc\n",
    "print(f\"Our distance ranges from {dist_min_90} to {dist_max_90}\")\n",
    "print(\"Let's visualize the distance distribution of the LIGO event in the 90% credible region\")\n",
    "\n",
    "fig, ax = plt.subplots(ncols = 3, figsize = (15,8))\n",
    "\n",
    "\n",
    "ax[0].hist(data_90[\"DIST_Z\"], bins = \"auto\", color = \"orange\")\n",
    "ax[1].hist(data_90[\"DIST_Z\"], bins = \"auto\", color = \"green\")\n",
    "ax[2].hist(skymap_90[\"DISTMU\"], bins = \"auto\", color = \"blue\")\n",
    "\n",
    "\n",
    "for axis in ax:\n",
    "    axis.set_xlabel(\"distance bin (Mpc)\")\n",
    "\n",
    "ax[0].set_ylabel(\"object count\")\n",
    "ax[1].set_ylabel(\"object count\")\n",
    "ax[2].set_ylabel(\"pixel count\")\n",
    "\n",
    "ax[1].set_xlim(0,1000)\n",
    "    \n",
    "plt.show()"
   ]
  },
  {
   "cell_type": "code",
   "execution_count": 102,
   "metadata": {},
   "outputs": [
    {
     "data": {
      "text/plain": [
       "(16874, 4694341)"
      ]
     },
     "execution_count": 102,
     "metadata": {},
     "output_type": "execute_result"
    }
   ],
   "source": [
    "len(skymap_90), len(data_90)"
   ]
  },
  {
   "cell_type": "markdown",
   "metadata": {},
   "source": [
    "### To reduce our data even more, lets cut out the unreasonably far away objects\n",
    "\n",
    "We simply take maximum and minimum distance we get from the LIGO skymap (i.e. DISTMU+-DISTERR) and check, whether every galaxy in that pixel falls inside this range."
   ]
  },
  {
   "cell_type": "code",
   "execution_count": 103,
   "metadata": {},
   "outputs": [],
   "source": [
    "z_selection_mask = data_90[\"DIST_Z\"] - data_90[\"DIST_Z_ERR\"] <  data_90[\"DISTMU\"] + data_90[\"DISTSIGMA\"]\n",
    "z_selection_mask &= data_90[\"DIST_Z\"] + data_90[\"DIST_Z_ERR\"] >  data_90[\"DISTMU\"] - data_90[\"DISTSIGMA\"]\n",
    "\n",
    "data_90_z = data_90[z_selection_mask]"
   ]
  },
  {
   "cell_type": "code",
   "execution_count": 104,
   "metadata": {},
   "outputs": [
    {
     "name": "stdout",
     "output_type": "stream",
     "text": [
      "The z-range selection has deleted 4033758 objects from originally 4694341 in the data set\n",
      "Therefore, we have 660583 objects left in the search region\n"
     ]
    }
   ],
   "source": [
    "remaining_obj = np.size(np.where(z_selection_mask == True))\n",
    "deleted_obj = np.size(np.where(z_selection_mask == False))\n",
    "\n",
    "print(f\"The z-range selection has deleted {deleted_obj} objects from originally {deleted_obj+remaining_obj} in the data set\")\n",
    "print(f\"Therefore, we have {remaining_obj} objects left in the search region\")"
   ]
  },
  {
   "cell_type": "code",
   "execution_count": 105,
   "metadata": {},
   "outputs": [
    {
     "name": "stdout",
     "output_type": "stream",
     "text": [
      "Our highest remaing probability density is 7.740471663183922e-05 compared to the originally highest prob density of 8.263083256297391e-05\n",
      "The difference in prob density is 5.2261159311346944e-06\n"
     ]
    }
   ],
   "source": [
    "highest_prob_dens = np.max(data_90_z[\"PROBDENSITY\"])\n",
    "print(f\"Our highest remaing probability density is {highest_prob_dens} compared to the originally highest prob density of {max_probdens_in_ligo}\")\n",
    "print(f\"The difference in prob density is {max_probdens_in_ligo-highest_prob_dens}\")"
   ]
  },
  {
   "cell_type": "code",
   "execution_count": 106,
   "metadata": {},
   "outputs": [
    {
     "data": {
      "text/html": [
       "<div><i>Table length=5</i>\n",
       "<table id=\"table140607121897264\" class=\"table-striped table-bordered table-condensed\">\n",
       "<thead><tr><th>TARGETID</th><th>TARGET_RA</th><th>TARGET_DEC</th><th>TILEID</th><th>NIGHT</th><th>Z</th><th>ZERR</th><th>ZWARN</th><th>DELTACHI2</th><th>FLUX_Z</th><th>BGS_TARGET</th><th>EBV</th><th>SERSIC</th><th>MWS_TARGET</th><th>FILENAME</th><th>UNIQ</th><th>PROBDENSITY</th><th>DISTMU</th><th>DISTSIGMA</th><th>DISTNORM</th><th>DIST_Z</th><th>DIST_Z_ERR</th></tr></thead>\n",
       "<thead><tr><th></th><th></th><th></th><th></th><th></th><th></th><th></th><th></th><th></th><th></th><th></th><th></th><th></th><th></th><th></th><th></th><th></th><th>Mpc</th><th>Mpc</th><th>1 / Mpc2</th><th>Mpc</th><th>Mpc</th></tr></thead>\n",
       "<thead><tr><th>int64</th><th>float64</th><th>float64</th><th>int64</th><th>int64</th><th>float64</th><th>float64</th><th>int64</th><th>float64</th><th>float64</th><th>int64</th><th>float64</th><th>float64</th><th>int64</th><th>str71</th><th>int64</th><th>float64</th><th>float64</th><th>float64</th><th>float64</th><th>float64</th><th>float64</th></tr></thead>\n",
       "<tr><td>39632952212063115</td><td>279.294167607132</td><td>33.4805978544231</td><td>81112</td><td>20210513</td><td>0.414173631003969</td><td>8.85297457464023e-05</td><td>0</td><td>10.5778310447931</td><td>26.3261489868164</td><td>257</td><td>0.0675732344388962</td><td>2.12837624549866</td><td>0</td><td>daily/tiles/cumulative/81112/20210513/zbest-9-81112-thru20210513.fits</td><td>31243</td><td>7.740471663183922e-05</td><td>3274.4162641041653</td><td>1059.8083381397971</td><td>8.442499801894188e-08</td><td>2334.0631954755336</td><td>0.392290146101148</td></tr>\n",
       "<tr><td>39632962274200481</td><td>279.733411019701</td><td>33.9664986261796</td><td>81112</td><td>20210513</td><td>0.499811639580795</td><td>9.69123761215224e-05</td><td>0</td><td>10.792769536376</td><td>31.1279239654541</td><td>0</td><td>0.07459507137537</td><td>4.0</td><td>0</td><td>daily/tiles/cumulative/81112/20210513/zbest-8-81112-thru20210513.fits</td><td>31243</td><td>7.740471663183922e-05</td><td>3274.4162641041653</td><td>1059.8083381397971</td><td>8.442499801894188e-08</td><td>2918.3090875802363</td><td>0.42943774598854334</td></tr>\n",
       "<tr><td>39632962274198952</td><td>279.679909399735</td><td>34.0605667937843</td><td>81112</td><td>20210513</td><td>0.620662101106397</td><td>9.22578876546957e-05</td><td>0</td><td>16.0793663971126</td><td>22.074275970459</td><td>0</td><td>0.0742209479212761</td><td>4.0</td><td>0</td><td>daily/tiles/cumulative/81112/20210513/zbest-8-81112-thru20210513.fits</td><td>31243</td><td>7.740471663183922e-05</td><td>3274.4162641041653</td><td>1059.8083381397971</td><td>8.442499801894188e-08</td><td>3788.057675745966</td><td>0.4088113361918642</td></tr>\n",
       "<tr><td>39632962274198115</td><td>279.649628940594</td><td>33.9382222148794</td><td>81112</td><td>20210513</td><td>0.619760980109084</td><td>5.15479085613828e-05</td><td>0</td><td>17.8373381197453</td><td>35.7083778381348</td><td>0</td><td>0.0696481466293335</td><td>4.0</td><td>0</td><td>daily/tiles/cumulative/81112/20210513/zbest-8-81112-thru20210513.fits</td><td>31243</td><td>7.740471663183922e-05</td><td>3274.4162641041653</td><td>1059.8083381397971</td><td>8.442499801894188e-08</td><td>3781.392539937417</td><td>0.2284109501898885</td></tr>\n",
       "<tr><td>39632962270010861</td><td>279.602397819564</td><td>33.8936841864184</td><td>81112</td><td>20210513</td><td>0.527670269872489</td><td>7.86754188726973e-05</td><td>0</td><td>50.20505048614</td><td>12.8523759841919</td><td>0</td><td>0.0678077712655067</td><td>1.0</td><td>0</td><td>daily/tiles/cumulative/81112/20210513/zbest-8-81112-thru20210513.fits</td><td>31243</td><td>7.740471663183922e-05</td><td>3274.4162641041653</td><td>1059.8083381397971</td><td>8.442499801894188e-08</td><td>3114.326877296438</td><td>0.34862133823820096</td></tr>\n",
       "</table></div>"
      ],
      "text/plain": [
       "<Table length=5>\n",
       "     TARGETID        TARGET_RA     ...       DIST_Z            DIST_Z_ERR    \n",
       "                                   ...        Mpc                 Mpc        \n",
       "      int64           float64      ...      float64             float64      \n",
       "----------------- ---------------- ... ------------------ -------------------\n",
       "39632952212063115 279.294167607132 ... 2334.0631954755336   0.392290146101148\n",
       "39632962274200481 279.733411019701 ... 2918.3090875802363 0.42943774598854334\n",
       "39632962274198952 279.679909399735 ...  3788.057675745966  0.4088113361918642\n",
       "39632962274198115 279.649628940594 ...  3781.392539937417  0.2284109501898885\n",
       "39632962270010861 279.602397819564 ...  3114.326877296438 0.34862133823820096"
      ]
     },
     "execution_count": 106,
     "metadata": {},
     "output_type": "execute_result"
    }
   ],
   "source": [
    "data_90_z[:5]"
   ]
  },
  {
   "cell_type": "markdown",
   "metadata": {},
   "source": [
    "### get the apparent, absolute magnitudes and luminosities\n",
    "\n",
    "in order to do this: flux > 0 selection"
   ]
  },
  {
   "cell_type": "code",
   "execution_count": 107,
   "metadata": {},
   "outputs": [
    {
     "name": "stdout",
     "output_type": "stream",
     "text": [
      "We have 660583 objects remaining in our catalog, i.e. 0 had to be cut out due to bad fluxes\n"
     ]
    }
   ],
   "source": [
    "# get the apparent mags\n",
    "data_90_z = data_90_z[data_90_z[\"FLUX_Z\"] > 0]\n",
    "app_mag_z = gs.app_mag(data_90_z[\"FLUX_Z\"])\n",
    "flux_selection_cut = len(data_90_z)\n",
    "print(f\"We have {flux_selection_cut} objects remaining in our catalog, i.e. {remaining_obj-flux_selection_cut} had to be cut out due to bad fluxes\")\n",
    "\n",
    "# get the absolute mags\n",
    "abs_mag_z = gs.abs_mag(app_mag_z, data_90_z[\"Z\"], 0,0,0)\n",
    "\n",
    "# get the luminosities\n",
    "lums_z = gs.lum(abs_mag_z, band = \"z\")"
   ]
  },
  {
   "cell_type": "code",
   "execution_count": 108,
   "metadata": {},
   "outputs": [],
   "source": [
    "data_f = hstack([data_90_z, Table({\"APP_MAG_Z\": app_mag_z}), Table({\"ABS_MAG_Z\": abs_mag_z}), Table({\"LUM_Z\": lums_z})])"
   ]
  },
  {
   "cell_type": "code",
   "execution_count": 109,
   "metadata": {},
   "outputs": [
    {
     "data": {
      "text/html": [
       "<div><i>Table length=5</i>\n",
       "<table id=\"table140607126262288\" class=\"table-striped table-bordered table-condensed\">\n",
       "<thead><tr><th>TARGETID</th><th>TARGET_RA</th><th>TARGET_DEC</th><th>TILEID</th><th>NIGHT</th><th>Z</th><th>ZERR</th><th>ZWARN</th><th>DELTACHI2</th><th>FLUX_Z</th><th>BGS_TARGET</th><th>EBV</th><th>SERSIC</th><th>MWS_TARGET</th><th>FILENAME</th><th>UNIQ</th><th>PROBDENSITY</th><th>DISTMU</th><th>DISTSIGMA</th><th>DISTNORM</th><th>DIST_Z</th><th>DIST_Z_ERR</th><th>APP_MAG_Z</th><th>ABS_MAG_Z</th><th>LUM_Z</th></tr></thead>\n",
       "<thead><tr><th></th><th></th><th></th><th></th><th></th><th></th><th></th><th></th><th></th><th></th><th></th><th></th><th></th><th></th><th></th><th></th><th></th><th>Mpc</th><th>Mpc</th><th>1 / Mpc2</th><th>Mpc</th><th>Mpc</th><th></th><th></th><th>W</th></tr></thead>\n",
       "<thead><tr><th>int64</th><th>float64</th><th>float64</th><th>int64</th><th>int64</th><th>float64</th><th>float64</th><th>int64</th><th>float64</th><th>float64</th><th>int64</th><th>float64</th><th>float64</th><th>int64</th><th>str71</th><th>int64</th><th>float64</th><th>float64</th><th>float64</th><th>float64</th><th>float64</th><th>float64</th><th>float64</th><th>float64</th><th>float64</th></tr></thead>\n",
       "<tr><td>39632952212063115</td><td>279.294167607132</td><td>33.4805978544231</td><td>81112</td><td>20210513</td><td>0.414173631003969</td><td>8.85297457464023e-05</td><td>0</td><td>10.5778310447931</td><td>26.3261489868164</td><td>257</td><td>0.0675732344388962</td><td>2.12837624549866</td><td>0</td><td>daily/tiles/cumulative/81112/20210513/zbest-9-81112-thru20210513.fits</td><td>31243</td><td>7.740471663183922e-05</td><td>3274.4162641041653</td><td>1059.8083381397971</td><td>8.442499801894188e-08</td><td>2334.0631954755336</td><td>0.392290146101148</td><td>18.949031663105977</td><td>-22.89153138951695</td><td>1.6674551900835333e+37</td></tr>\n",
       "<tr><td>39632962274200481</td><td>279.733411019701</td><td>33.9664986261796</td><td>81112</td><td>20210513</td><td>0.499811639580795</td><td>9.69123761215224e-05</td><td>0</td><td>10.792769536376</td><td>31.1279239654541</td><td>0</td><td>0.07459507137537</td><td>4.0</td><td>0</td><td>daily/tiles/cumulative/81112/20210513/zbest-8-81112-thru20210513.fits</td><td>31243</td><td>7.740471663183922e-05</td><td>3274.4162641041653</td><td>1059.8083381397971</td><td>8.442499801894188e-08</td><td>2918.3090875802363</td><td>0.42943774598854334</td><td>18.76712460757838</td><td>-23.558531830074514</td><td>3.08215409649962e+37</td></tr>\n",
       "<tr><td>39632962274198952</td><td>279.679909399735</td><td>34.0605667937843</td><td>81112</td><td>20210513</td><td>0.620662101106397</td><td>9.22578876546957e-05</td><td>0</td><td>16.0793663971126</td><td>22.074275970459</td><td>0</td><td>0.0742209479212761</td><td>4.0</td><td>0</td><td>daily/tiles/cumulative/81112/20210513/zbest-8-81112-thru20210513.fits</td><td>31243</td><td>7.740471663183922e-05</td><td>3274.4162641041653</td><td>1059.8083381397971</td><td>8.442499801894188e-08</td><td>3788.057675745966</td><td>0.4088113361918642</td><td>19.14028383060941</td><td>-23.751799083437913</td><td>3.6826568181125015e+37</td></tr>\n",
       "<tr><td>39632962274198115</td><td>279.649628940594</td><td>33.9382222148794</td><td>81112</td><td>20210513</td><td>0.619760980109084</td><td>5.15479085613828e-05</td><td>0</td><td>17.8373381197453</td><td>35.7083778381348</td><td>0</td><td>0.0696481466293335</td><td>4.0</td><td>0</td><td>daily/tiles/cumulative/81112/20210513/zbest-8-81112-thru20210513.fits</td><td>31243</td><td>7.740471663183922e-05</td><td>3274.4162641041653</td><td>1059.8083381397971</td><td>8.442499801894188e-08</td><td>3781.392539937417</td><td>0.2284109501898885</td><td>18.61807469627305</td><td>-24.27018411910341</td><td>5.93629211473424e+37</td></tr>\n",
       "<tr><td>39632962270010861</td><td>279.602397819564</td><td>33.8936841864184</td><td>81112</td><td>20210513</td><td>0.527670269872489</td><td>7.86754188726973e-05</td><td>0</td><td>50.20505048614</td><td>12.8523759841919</td><td>0</td><td>0.0678077712655067</td><td>1.0</td><td>0</td><td>daily/tiles/cumulative/81112/20210513/zbest-8-81112-thru20210513.fits</td><td>31243</td><td>7.740471663183922e-05</td><td>3274.4162641041653</td><td>1059.8083381397971</td><td>8.442499801894188e-08</td><td>3114.326877296438</td><td>0.34862133823820096</td><td>19.727541445143466</td><td>-22.739279524012844</td><td>1.4492837597141853e+37</td></tr>\n",
       "</table></div>"
      ],
      "text/plain": [
       "<Table length=5>\n",
       "     TARGETID        TARGET_RA     ...         LUM_Z         \n",
       "                                   ...           W           \n",
       "      int64           float64      ...        float64        \n",
       "----------------- ---------------- ... ----------------------\n",
       "39632952212063115 279.294167607132 ... 1.6674551900835333e+37\n",
       "39632962274200481 279.733411019701 ...   3.08215409649962e+37\n",
       "39632962274198952 279.679909399735 ... 3.6826568181125015e+37\n",
       "39632962274198115 279.649628940594 ...   5.93629211473424e+37\n",
       "39632962270010861 279.602397819564 ... 1.4492837597141853e+37"
      ]
     },
     "execution_count": 109,
     "metadata": {},
     "output_type": "execute_result"
    }
   ],
   "source": [
    "data_f[:5]"
   ]
  },
  {
   "cell_type": "code",
   "execution_count": 110,
   "metadata": {},
   "outputs": [
    {
     "name": "stdout",
     "output_type": "stream",
     "text": [
      "The maximum luminosity in our cataloge in the z-band is 1.2266470710102596e+39 W with a prob density of      PROBDENSITY     \n",
      "---------------------\n",
      "3.666576683123629e-05\n"
     ]
    }
   ],
   "source": [
    "max_lum_z = np.max(data_f[\"LUM_Z\"])*u.W\n",
    "prob_dens_max_lum = data_f[data_f[\"LUM_Z\"] == max_lum_z][\"PROBDENSITY\"]\n",
    "print(f\"The maximum luminosity in our cataloge in the z-band is {max_lum_z} with a prob density of {prob_dens_max_lum}\")"
   ]
  },
  {
   "cell_type": "code",
   "execution_count": 111,
   "metadata": {},
   "outputs": [],
   "source": [
    "arg_errfc = abs(data_f[\"DIST_Z\"]-data_f[\"DISTMU\"])/(data_f[\"DIST_Z_ERR\"]**2+data_f[\"DISTSIGMA\"]**2)\n",
    "P_gal_unnorm = data_f[\"LUM_Z\"]*data_f[\"PROBDENSITY\"]*(1-sc.special.erf(arg_errfc))\n",
    "#dist_mean*u.Mpc, dist_std*u.Mpc\n",
    "arg_errfc_c = abs(data_f[\"DIST_Z\"].value-dist_mean)/(data_f[\"DIST_Z_ERR\"].value**2+dist_std**2)\n",
    "P_gal_unnorm_const = data_f[\"LUM_Z\"]*data_f[\"PROBDENSITY\"]*(1-sc.special.erf(arg_errfc_c))\n",
    "\n",
    "# now lets quickly normalize\n",
    "\n",
    "P_gal_sum = np.sum(P_gal_unnorm)\n",
    "P_gal_const_sum = np.sum(P_gal_unnorm_const)\n",
    "\n",
    "P_gal = 1/P_gal_sum * P_gal_unnorm\n",
    "P_gal_const = 1/P_gal_const_sum * P_gal_unnorm_const"
   ]
  },
  {
   "cell_type": "code",
   "execution_count": 112,
   "metadata": {},
   "outputs": [],
   "source": [
    "data_f = hstack([data_f, Table({\"P_GAL\": P_gal.value}), Table({\"P_GAL_C\": P_gal_const.value})])"
   ]
  },
  {
   "cell_type": "code",
   "execution_count": 113,
   "metadata": {},
   "outputs": [
    {
     "data": {
      "text/html": [
       "<div><i>Table length=5</i>\n",
       "<table id=\"table140607121895920\" class=\"table-striped table-bordered table-condensed\">\n",
       "<thead><tr><th>TARGETID</th><th>TARGET_RA</th><th>TARGET_DEC</th><th>TILEID</th><th>NIGHT</th><th>Z</th><th>ZERR</th><th>ZWARN</th><th>DELTACHI2</th><th>FLUX_Z</th><th>BGS_TARGET</th><th>EBV</th><th>SERSIC</th><th>MWS_TARGET</th><th>FILENAME</th><th>UNIQ</th><th>PROBDENSITY</th><th>DISTMU</th><th>DISTSIGMA</th><th>DISTNORM</th><th>DIST_Z</th><th>DIST_Z_ERR</th><th>APP_MAG_Z</th><th>ABS_MAG_Z</th><th>LUM_Z</th><th>P_GAL</th><th>P_GAL_C</th></tr></thead>\n",
       "<thead><tr><th></th><th></th><th></th><th></th><th></th><th></th><th></th><th></th><th></th><th></th><th></th><th></th><th></th><th></th><th></th><th></th><th></th><th>Mpc</th><th>Mpc</th><th>1 / Mpc2</th><th>Mpc</th><th>Mpc</th><th></th><th></th><th>W</th><th></th><th></th></tr></thead>\n",
       "<thead><tr><th>int64</th><th>float64</th><th>float64</th><th>int64</th><th>int64</th><th>float64</th><th>float64</th><th>int64</th><th>float64</th><th>float64</th><th>int64</th><th>float64</th><th>float64</th><th>int64</th><th>str71</th><th>int64</th><th>float64</th><th>float64</th><th>float64</th><th>float64</th><th>float64</th><th>float64</th><th>float64</th><th>float64</th><th>float64</th><th>float64</th><th>float64</th></tr></thead>\n",
       "<tr><td>39632952212063115</td><td>279.294167607132</td><td>33.4805978544231</td><td>81112</td><td>20210513</td><td>0.414173631003969</td><td>8.85297457464023e-05</td><td>0</td><td>10.5778310447931</td><td>26.3261489868164</td><td>257</td><td>0.0675732344388962</td><td>2.12837624549866</td><td>0</td><td>daily/tiles/cumulative/81112/20210513/zbest-9-81112-thru20210513.fits</td><td>31243</td><td>7.740471663183922e-05</td><td>3274.4162641041653</td><td>1059.8083381397971</td><td>8.442499801894188e-08</td><td>2334.0631954755336</td><td>0.392290146101148</td><td>18.949031663105977</td><td>-22.89153138951695</td><td>1.6674551900835333e+37</td><td>2.3994564455339936e-06</td><td>2.399845905459516e-06</td></tr>\n",
       "<tr><td>39632962274200481</td><td>279.733411019701</td><td>33.9664986261796</td><td>81112</td><td>20210513</td><td>0.499811639580795</td><td>9.69123761215224e-05</td><td>0</td><td>10.792769536376</td><td>31.1279239654541</td><td>0</td><td>0.07459507137537</td><td>4.0</td><td>0</td><td>daily/tiles/cumulative/81112/20210513/zbest-8-81112-thru20210513.fits</td><td>31243</td><td>7.740471663183922e-05</td><td>3274.4162641041653</td><td>1059.8083381397971</td><td>8.442499801894188e-08</td><td>2918.3090875802363</td><td>0.42943774598854334</td><td>18.76712460757838</td><td>-23.558531830074514</td><td>3.08215409649962e+37</td><td>4.437804022888033e-06</td><td>4.4386655514346664e-06</td></tr>\n",
       "<tr><td>39632962274198952</td><td>279.679909399735</td><td>34.0605667937843</td><td>81112</td><td>20210513</td><td>0.620662101106397</td><td>9.22578876546957e-05</td><td>0</td><td>16.0793663971126</td><td>22.074275970459</td><td>0</td><td>0.0742209479212761</td><td>4.0</td><td>0</td><td>daily/tiles/cumulative/81112/20210513/zbest-8-81112-thru20210513.fits</td><td>31243</td><td>7.740471663183922e-05</td><td>3274.4162641041653</td><td>1059.8083381397971</td><td>8.442499801894188e-08</td><td>3788.057675745966</td><td>0.4088113361918642</td><td>19.14028383060941</td><td>-23.751799083437913</td><td>3.6826568181125015e+37</td><td>5.301591468842174e-06</td><td>5.300636784840568e-06</td></tr>\n",
       "<tr><td>39632962274198115</td><td>279.649628940594</td><td>33.9382222148794</td><td>81112</td><td>20210513</td><td>0.619760980109084</td><td>5.15479085613828e-05</td><td>0</td><td>17.8373381197453</td><td>35.7083778381348</td><td>0</td><td>0.0696481466293335</td><td>4.0</td><td>0</td><td>daily/tiles/cumulative/81112/20210513/zbest-8-81112-thru20210513.fits</td><td>31243</td><td>7.740471663183922e-05</td><td>3274.4162641041653</td><td>1059.8083381397971</td><td>8.442499801894188e-08</td><td>3781.392539937417</td><td>0.2284109501898885</td><td>18.61807469627305</td><td>-24.27018411910341</td><td>5.93629211473424e+37</td><td>8.54600578488074e-06</td><td>8.544469985324941e-06</td></tr>\n",
       "<tr><td>39632962270010861</td><td>279.602397819564</td><td>33.8936841864184</td><td>81112</td><td>20210513</td><td>0.527670269872489</td><td>7.86754188726973e-05</td><td>0</td><td>50.20505048614</td><td>12.8523759841919</td><td>0</td><td>0.0678077712655067</td><td>1.0</td><td>0</td><td>daily/tiles/cumulative/81112/20210513/zbest-8-81112-thru20210513.fits</td><td>31243</td><td>7.740471663183922e-05</td><td>3274.4162641041653</td><td>1059.8083381397971</td><td>8.442499801894188e-08</td><td>3114.326877296438</td><td>0.34862133823820096</td><td>19.727541445143466</td><td>-22.739279524012844</td><td>1.4492837597141853e+37</td><td>2.087145576231956e-06</td><td>2.0875181241557186e-06</td></tr>\n",
       "</table></div>"
      ],
      "text/plain": [
       "<Table length=5>\n",
       "     TARGETID        TARGET_RA     ...        P_GAL_C        \n",
       "                                   ...                       \n",
       "      int64           float64      ...        float64        \n",
       "----------------- ---------------- ... ----------------------\n",
       "39632952212063115 279.294167607132 ...  2.399845905459516e-06\n",
       "39632962274200481 279.733411019701 ... 4.4386655514346664e-06\n",
       "39632962274198952 279.679909399735 ...  5.300636784840568e-06\n",
       "39632962274198115 279.649628940594 ...  8.544469985324941e-06\n",
       "39632962270010861 279.602397819564 ... 2.0875181241557186e-06"
      ]
     },
     "execution_count": 113,
     "metadata": {},
     "output_type": "execute_result"
    }
   ],
   "source": [
    "data_f[:5]"
   ]
  },
  {
   "cell_type": "markdown",
   "metadata": {
    "tags": []
   },
   "source": [
    "## Analyse the data: How much luminosity do we cover? Which galaxies should we observe?\n",
    "\n",
    "Lets look into what information we can retrieve from here. First we define, how many galaxies we could observe (N_galaxies).\n",
    "\n",
    "We then calculate the luminosity (lum) from all the galaxies in this area, i.e. the total luminosity. From there do some comparison between the covered luminosity and total luminosity depending on the ranking by probability:\n",
    "- simple \"Maximum lum that could be covered\" by looking at the brightest galaxies\n",
    "- Calculate the probability this way (from https://arxiv.org/pdf/1710.05452.pdf w/o normalization), both using a static and variable distance and error: $$P_{gal} = k^{-1}\\tilde{L_z}\\cdot P_{2D}\\left(1-\\text{erf}\\left(\\frac{|D_{Gal}-D_{LVC}|}{\\sigma_{D,gal}^{2}+\\sigma_{D,LVC}^{2}}\\right)\\right)$$\n",
    "- others may follow...\n",
    "\n",
    "Since we have the actual luminosity (here in z-band though), we don't need to again calculate the $$\\tilde{L}_{gal}$$ values. In the mentioned paper, they only use a fixed distance and error for the LIGO data. I will try both, to get an idea what the differences are."
   ]
  },
  {
   "cell_type": "code",
   "execution_count": 114,
   "metadata": {},
   "outputs": [],
   "source": [
    "N_galaxies = 20 # how many galaxies we can cover"
   ]
  },
  {
   "cell_type": "code",
   "execution_count": 115,
   "metadata": {},
   "outputs": [],
   "source": [
    "total_lum = np.sum(data_f[\"LUM_Z\"])"
   ]
  },
  {
   "cell_type": "markdown",
   "metadata": {},
   "source": [
    "### Compare lum with luminosity ranking\n",
    "\n",
    "https://iopscience.iop.org/article/10.3847/0067-0049/226/1/10"
   ]
  },
  {
   "cell_type": "code",
   "execution_count": 116,
   "metadata": {},
   "outputs": [],
   "source": [
    "data_sort_by_lums = data_f.group_by(\"LUM_Z\")\n",
    "data_sort_by_lums = data_sort_by_lums[::-1]"
   ]
  },
  {
   "cell_type": "code",
   "execution_count": 117,
   "metadata": {},
   "outputs": [],
   "source": [
    "lum_after_N_highest = np.sum(data_sort_by_lums[\"LUM_Z\"][:N_galaxies])"
   ]
  },
  {
   "cell_type": "code",
   "execution_count": 118,
   "metadata": {},
   "outputs": [
    {
     "name": "stdout",
     "output_type": "stream",
     "text": [
      "The theoretical maximum luminosity we could cover is 1.338516472326886e+40, i.e. 0.1058808329338184 % of the total luminosity\n",
      "The TARGETID values of these galaxies are: \n",
      "      TARGETID    \n",
      "-----------------\n",
      "39633502190175579\n",
      "39628374557066779\n",
      "39633451388766544\n",
      "39627808460247354\n",
      "39633225353530994\n",
      "39628428705531143\n",
      "39628245632552051\n",
      "39633091844639742\n",
      "39628212543688143\n",
      "39628518170039615\n",
      "39633414021712524\n",
      "39627946951967689\n",
      "39633490148331342\n",
      "39633419876963292\n",
      "39633063948321850\n",
      "39628504026843512\n",
      "39628380114520686\n",
      "39633283343979115\n",
      "39633162568991140\n",
      "39633494384576298\n"
     ]
    }
   ],
   "source": [
    "print(f\"The theoretical maximum luminosity we could cover is {lum_after_N_highest}, i.e. {lum_after_N_highest*100/total_lum} % of the total luminosity\")\n",
    "print(\"The TARGETID values of these galaxies are: \\n\", data_sort_by_lums[\"TARGETID\"][:N_galaxies])"
   ]
  },
  {
   "cell_type": "markdown",
   "metadata": {},
   "source": [
    "### Compare lum with P_Gal ranking"
   ]
  },
  {
   "cell_type": "code",
   "execution_count": 119,
   "metadata": {},
   "outputs": [],
   "source": [
    "data_sort_by_PGal = data_f.group_by(\"P_GAL\")\n",
    "data_sort_by_PGal = data_sort_by_PGal[::-1]\n",
    "\n",
    "lum_after_N_PGal = np.sum(data_sort_by_PGal[\"LUM_Z\"][:N_galaxies])"
   ]
  },
  {
   "cell_type": "code",
   "execution_count": 120,
   "metadata": {},
   "outputs": [
    {
     "name": "stdout",
     "output_type": "stream",
     "text": [
      "The maximum luminosity we cover when ranked by P_gal is 1.2082044789929408e+40, i.e. 0.0955727473175999% of the total luminosity\n",
      "The TARGETID values of these galaxies are: \n",
      "    TARGET_RA        TARGET_DEC    ...      TARGETID             P_GAL         \n",
      "---------------- ---------------- ... ----------------- ----------------------\n",
      "254.378966243912 25.0603503476827 ... 39628374557066779 0.00010212422479998402\n",
      "272.348893009799 48.5470195367965 ... 39633225353530994  9.075539566576028e-05\n",
      "268.719195114419 71.5401722504212 ... 39633502190175579   8.36275587715123e-05\n",
      "267.069207993741 40.7315325824462 ... 39633091844639742  7.946479564186824e-05\n",
      "272.781268001595 65.6886086369931 ... 39633451388766544  7.486421155448195e-05\n",
      "280.697521880561 52.1813246932094 ... 39633283343979115  5.882132801234944e-05\n",
      "248.139889477539 27.4585209668413 ... 39628428705531143  5.514245457922669e-05\n",
      "255.882613896611 31.6765092468937 ... 39628518170039615  5.513922657199153e-05\n",
      "281.138972303754 49.7781473954365 ... 39633245255502120  5.486766745642644e-05\n",
      "329.479912004027  17.643782824556 ... 39628212543688143  5.442217851346897e-05\n",
      "260.242934128505 39.3703689467778 ... 39633063948321850  5.307014944196385e-05\n",
      "259.892464266274 25.1828993570203 ... 39628380114520686  5.148924530991533e-05\n",
      "285.690418950941 62.6668315329806 ... 39633419876963292  5.139191146972362e-05\n",
      "272.495468636351  37.558329811266 ... 39633030901402666  5.063611838396693e-05\n",
      "246.491166011739 19.2391887574748 ... 39628245632552051 4.7212513221648896e-05\n",
      "277.999118954432 37.0153150701166 ... 39633021338391375  4.507434202099171e-05\n",
      " 279.69229204063 50.7784451271168 ... 39633260728287845 4.4012779793793595e-05\n",
      "321.867717456072  17.271276600816 ... 39628200887714086  4.376988591214431e-05\n",
      "279.229343298992 49.5699138097538 ... 39633241312857405  4.314237239557985e-05\n",
      "279.882892843788  53.573755688304 ... 39633301614365898  4.262954775768046e-05\n"
     ]
    }
   ],
   "source": [
    "print(f\"The maximum luminosity we cover when ranked by P_gal is {lum_after_N_PGal}, i.e. {lum_after_N_PGal*100/total_lum}% of the total luminosity\") \n",
    "print(\"The TARGETID values of these galaxies are: \\n\", data_sort_by_PGal[\"TARGET_RA\", \"TARGET_DEC\", \"SERSIC\", \"TARGETID\", \"P_GAL\"][:N_galaxies])"
   ]
  },
  {
   "cell_type": "code",
   "execution_count": 121,
   "metadata": {},
   "outputs": [],
   "source": [
    "data_sort_by_PGal_C = data_f.group_by(\"P_GAL_C\")\n",
    "data_sort_by_PGal_C = data_sort_by_PGal_C[::-1]\n",
    "\n",
    "lum_after_N_PGal_C = np.sum(data_sort_by_PGal_C[\"LUM_Z\"][:N_galaxies])"
   ]
  },
  {
   "cell_type": "code",
   "execution_count": 122,
   "metadata": {},
   "outputs": [
    {
     "name": "stdout",
     "output_type": "stream",
     "text": [
      "The maximum luminosity we cover when ranked by P_gal_C is 1.2082044789929408e+40, i.e. 0.0955727473175999% of the total luminosity\n",
      "The TARGETID values of these galaxies are: \n",
      "      TARGETID             P_GAL         \n",
      "----------------- ----------------------\n",
      "39628374557066779 0.00010212422479998402\n",
      "39633225353530994  9.075539566576028e-05\n",
      "39633502190175579   8.36275587715123e-05\n",
      "39633091844639742  7.946479564186824e-05\n",
      "39633451388766544  7.486421155448195e-05\n",
      "39633283343979115  5.882132801234944e-05\n",
      "39628428705531143  5.514245457922669e-05\n",
      "39628518170039615  5.513922657199153e-05\n",
      "39633245255502120  5.486766745642644e-05\n",
      "39628212543688143  5.442217851346897e-05\n",
      "39633063948321850  5.307014944196385e-05\n",
      "39628380114520686  5.148924530991533e-05\n",
      "39633419876963292  5.139191146972362e-05\n",
      "39633030901402666  5.063611838396693e-05\n",
      "39628245632552051 4.7212513221648896e-05\n",
      "39633021338391375  4.507434202099171e-05\n",
      "39633260728287845 4.4012779793793595e-05\n",
      "39628200887714086  4.376988591214431e-05\n",
      "39633241312857405  4.314237239557985e-05\n",
      "39633301614365898  4.262954775768046e-05\n"
     ]
    }
   ],
   "source": [
    "print(f\"The maximum luminosity we cover when ranked by P_gal_C is {lum_after_N_PGal_C}, i.e. {lum_after_N_PGal_C*100/total_lum}% of the total luminosity\") \n",
    "print(\"The TARGETID values of these galaxies are: \\n\", data_sort_by_PGal_C[\"TARGETID\", \"P_GAL\"][:N_galaxies])"
   ]
  },
  {
   "cell_type": "code",
   "execution_count": 123,
   "metadata": {},
   "outputs": [],
   "source": [
    "data_sort_by_PGal[\"TARGET_RA\", \"TARGET_DEC\", \"SERSIC\", \"Z\", \"P_GAL\"][:N_galaxies].write('PGAl_S200129.ecsv', delimiter=',', format='ascii', overwrite = True)\n"
   ]
  },
  {
   "cell_type": "code",
   "execution_count": null,
   "metadata": {},
   "outputs": [],
   "source": []
  }
 ],
 "metadata": {
  "kernelspec": {
   "display_name": "Python (MambaTest)",
   "language": "python",
   "name": "mambatest"
  },
  "language_info": {
   "codemirror_mode": {
    "name": "ipython",
    "version": 3
   },
   "file_extension": ".py",
   "mimetype": "text/x-python",
   "name": "python",
   "nbconvert_exporter": "python",
   "pygments_lexer": "ipython3",
   "version": "3.10.10"
  }
 },
 "nbformat": 4,
 "nbformat_minor": 4
}
