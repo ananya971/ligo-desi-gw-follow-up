{
 "cells": [
  {
   "cell_type": "markdown",
   "metadata": {
    "tags": []
   },
   "source": [
    "# Galaxy Selector MOC\n",
    "\n",
    "**Compared to the \"Simple Galaxy Selector, this works with Multi-Ordering-Sky-Maps**\n",
    "\n",
    "\n",
    "***NOTE (this note may be wrong, just copied from old notebook)***: Before anything can happen, download the GW event localization map. Open the terminal and type:\n",
    "\"curl -O https://gracedb.ligo.org/api/superevents/sid/files/bayestar.fits,0\"\n",
    "with sid = superevent ID (could be incorporated into this notebook)\n",
    "\n",
    "Select the galaxies to observe by WWFI in this simple manner:\n",
    "- get the LIGO event data\n",
    "- read the LIGO event data into the notebook, extract some information\n",
    "- read the DESI database into the notebook, \"clean\" the data\n",
    "- get the 99% credible regions for the event, add them as a column to the data\n",
    "- only keep data within the 99% region\n",
    "- calculate all the luminosities (& more)\n",
    "- rank them by luminosity (for now just print the TARGETID), 3D/2D localization and with a luminosity-distance 2D dependant counterpart likelihood\n",
    "\n",
    "Sources: \n",
    "- https://iopscience.iop.org/article/10.3847/0067-0049/226/1/10\n",
    "- https://emfollow.docs.ligo.org/userguide/tutorial/skymaps.html\n",
    "- https://emfollow.docs.ligo.org/userguide/tutorial/multiorder_skymaps.html\n",
    "- https://arxiv.org/pdf/1710.05452.pdf"
   ]
  },
  {
   "cell_type": "markdown",
   "metadata": {
    "tags": []
   },
   "source": [
    "## Import all libraries, load GW data and DESI data and extract basic info"
   ]
  },
  {
   "cell_type": "markdown",
   "metadata": {
    "tags": []
   },
   "source": [
    "### imports, GW data loading"
   ]
  },
  {
   "cell_type": "code",
   "execution_count": 1,
   "metadata": {},
   "outputs": [],
   "source": [
    "import numpy as np\n",
    "from scipy.stats import norm\n",
    "import scipy as sc\n",
    "\n",
    "from astropy.io import fits, ascii\n",
    "from astropy.table import Table, hstack\n",
    "from astropy import table\n",
    "\n",
    "#import healpy as hp\n",
    "import astropy_healpix as ah\n",
    "\n",
    "from astropy.table import QTable\n",
    "\n",
    "import psycopg2\n",
    "\n",
    "from scipy.stats import norm\n",
    "\n",
    "\n",
    "from astropy.cosmology import Planck18, z_at_value\n",
    "from astropy.coordinates import Distance, SkyCoord\n",
    "from astropy import units as u\n",
    "\n",
    "import astropy.constants as asc\n",
    "\n",
    "import matplotlib.pyplot as plt\n",
    "\n",
    "import requests as rq\n",
    "\n",
    "import gasel as gs\n",
    "\n",
    "import shutil"
   ]
  },
  {
   "cell_type": "code",
   "execution_count": 2,
   "metadata": {},
   "outputs": [],
   "source": [
    "# specify the superevent name:\n",
    "superevent_name = \"S230606z\""
   ]
  },
  {
   "cell_type": "code",
   "execution_count": 3,
   "metadata": {},
   "outputs": [
    {
     "name": "stdout",
     "output_type": "stream",
     "text": [
      "read skymap from local file\n"
     ]
    }
   ],
   "source": [
    "pipeline_type = \"bayestar\"\n",
    "\n",
    "path = f\"/global/homes/j/jgassert/ligo-desi-gw-follow-up/Galaxy Selection/Files/{superevent_name}{pipeline_type}.multiorder.fits,1\"\n",
    "\n",
    "try:\n",
    "    skymap = QTable.read(path)\n",
    "    print(\"read skymap from local file\")\n",
    "    \n",
    "except:\n",
    "    download_url = f\"https://gracedb.ligo.org/api/superevents/{superevent_name}/files/{pipeline_type}.multiorder.fits,1\"\n",
    "    save_path = f\"Files/{superevent_name}{pipeline_type}.multiorder.fits,1\"\n",
    "    print(\"no local skymap...\")\n",
    "    print(f\"...will download LIGO event file from superevent {superevent_name}, corresponding file URL is {download_url} and save it in .../Files/\")\n",
    "    \n",
    "    response = rq.get(download_url, allow_redirects = True)\n",
    "    if response.status_code == 200:\n",
    "        with open(save_path, 'wb') as f:\n",
    "            #response.raw.decode_content = True\n",
    "            #shutil.copyfileobj(response.raw, f)\n",
    "            #print(response.content)\n",
    "            f.write(response.content)\n",
    "            \n",
    "        skymap = QTable.read(path)"
   ]
  },
  {
   "cell_type": "markdown",
   "metadata": {},
   "source": [
    "Specifiy the path where the data is located and then load the data (this loads everything, just have a look)"
   ]
  },
  {
   "cell_type": "code",
   "execution_count": 4,
   "metadata": {},
   "outputs": [
    {
     "data": {
      "text/html": [
       "<div><i>QTable length=5</i>\n",
       "<table id=\"table139870735235104\" class=\"table-striped table-bordered table-condensed\">\n",
       "<thead><tr><th>UNIQ</th><th>PROBDENSITY</th><th>DISTMU</th><th>DISTSIGMA</th><th>DISTNORM</th></tr></thead>\n",
       "<thead><tr><th></th><th>1 / sr</th><th>Mpc</th><th>Mpc</th><th>1 / Mpc2</th></tr></thead>\n",
       "<thead><tr><th>int64</th><th>float64</th><th>float64</th><th>float64</th><th>float64</th></tr></thead>\n",
       "<tr><td>1029</td><td>0.019599843338698235</td><td>387.4171580454321</td><td>2035.5499043885234</td><td>3.597397977063981e-07</td></tr>\n",
       "<tr><td>1040</td><td>0.0032460628931672416</td><td>893.8982011890348</td><td>1897.7038012717908</td><td>2.775336037544377e-07</td></tr>\n",
       "<tr><td>1041</td><td>0.000660523727795567</td><td>inf</td><td>1.0</td><td>0.0</td></tr>\n",
       "<tr><td>1042</td><td>0.009212992599255036</td><td>1056.9819640079818</td><td>1663.2308805554057</td><td>2.909496716626531e-07</td></tr>\n",
       "<tr><td>1043</td><td>0.0014765584966860428</td><td>-4693.32915826326</td><td>2799.8555054310364</td><td>8.877449774149851e-06</td></tr>\n",
       "</table></div>"
      ],
      "text/plain": [
       "<QTable length=5>\n",
       " UNIQ      PROBDENSITY      ...     DISTSIGMA             DISTNORM      \n",
       "              1 / sr        ...        Mpc                1 / Mpc2      \n",
       "int64        float64        ...      float64              float64       \n",
       "----- --------------------- ... ------------------ ---------------------\n",
       " 1029  0.019599843338698235 ... 2035.5499043885234 3.597397977063981e-07\n",
       " 1040 0.0032460628931672416 ... 1897.7038012717908 2.775336037544377e-07\n",
       " 1041  0.000660523727795567 ...                1.0                   0.0\n",
       " 1042  0.009212992599255036 ... 1663.2308805554057 2.909496716626531e-07\n",
       " 1043 0.0014765584966860428 ... 2799.8555054310364 8.877449774149851e-06"
      ]
     },
     "execution_count": 4,
     "metadata": {},
     "output_type": "execute_result"
    }
   ],
   "source": [
    "skymap[:5]"
   ]
  },
  {
   "cell_type": "markdown",
   "metadata": {
    "tags": []
   },
   "source": [
    "### Get basic values from GW event\n",
    "\n",
    "We now extract some basic information  from the healpix data:\n",
    "- ipix_max: pixel with highest likelihood\n",
    "- npix: total number of pixels\n",
    "- ra, dec: ra and dec of the pixel with the highest likelihood\n",
    "\n",
    "Then we open the full fits file and extract some more basic info from the header:\n",
    "- dist_mean: mean distance of the GW event\n",
    "- dist_std: error of the distance"
   ]
  },
  {
   "cell_type": "code",
   "execution_count": 5,
   "metadata": {},
   "outputs": [
    {
     "name": "stdout",
     "output_type": "stream",
     "text": [
      "UNIQ ID of highest prob sky localization:  703076\n"
     ]
    }
   ],
   "source": [
    "# most probable sky location\n",
    "i = np.argmax(skymap[\"PROBDENSITY\"])\n",
    "uniq = skymap[i][\"UNIQ\"]\n",
    "print(\"UNIQ ID of highest prob sky localization: \", uniq)"
   ]
  },
  {
   "cell_type": "code",
   "execution_count": 6,
   "metadata": {},
   "outputs": [
    {
     "name": "stdout",
     "output_type": "stream",
     "text": [
      "Highest probability at (RA, dec):  150.1171875 9.442777526802821 with prob [1/deg^2] of:  0.001325465889562678 and UNIQ ID:  703076\n"
     ]
    }
   ],
   "source": [
    "# calculate the most probable pixel, convert to RA and dec\n",
    "level_max, ipix_max = ah.uniq_to_level_ipix(uniq)\n",
    "nside = ah.level_to_nside(level_max)\n",
    "ra, dec = ah.healpix_to_lonlat(ipix_max, nside, order = \"nested\")\n",
    "print(\"Highest probability at (RA, dec): \", ra.deg, dec.deg, \"with prob [1/deg^2] of: \", skymap[i]['PROBDENSITY'].to_value(u.deg**-2), \"and UNIQ ID: \", skymap[i][\"UNIQ\"])"
   ]
  },
  {
   "cell_type": "markdown",
   "metadata": {},
   "source": [
    "Now open the fits file and read basics info from the header"
   ]
  },
  {
   "cell_type": "code",
   "execution_count": 7,
   "metadata": {},
   "outputs": [
    {
     "name": "stdout",
     "output_type": "stream",
     "text": [
      "The dist_mean and dist_std values:  4496.887061114983 Mpc 2023.244821059532 Mpc\n"
     ]
    }
   ],
   "source": [
    "fits_gw = fits.open(path)\n",
    "header = fits_gw[1].header\n",
    "dist_mean = header[\"DISTMEAN\"]\n",
    "dist_std = header[\"DISTSTD\"]\n",
    "print(\"The dist_mean and dist_std values: \", dist_mean*u.Mpc, dist_std*u.Mpc)"
   ]
  },
  {
   "cell_type": "code",
   "execution_count": 8,
   "metadata": {},
   "outputs": [],
   "source": [
    "most_likely_z = z_at_value(Planck18.luminosity_distance, dist_mean*u.Mpc, zmax = 5)\n",
    "most_likely_z_std = z_at_value(Planck18.luminosity_distance, dist_std*u.Mpc, zmax = 5)"
   ]
  },
  {
   "cell_type": "code",
   "execution_count": 9,
   "metadata": {},
   "outputs": [
    {
     "data": {
      "text/plain": [
       "(<Quantity 0.71465796 redshift>, <Quantity 0.36674819 redshift>)"
      ]
     },
     "execution_count": 9,
     "metadata": {},
     "output_type": "execute_result"
    }
   ],
   "source": [
    "most_likely_z, most_likely_z_std"
   ]
  },
  {
   "cell_type": "markdown",
   "metadata": {
    "tags": []
   },
   "source": [
    "### Get DESI data\n",
    "\n",
    "Load the full daily data from the file, which only includes good redshift objects"
   ]
  },
  {
   "cell_type": "code",
   "execution_count": 10,
   "metadata": {},
   "outputs": [],
   "source": [
    "follow_up_others = False"
   ]
  },
  {
   "cell_type": "code",
   "execution_count": 11,
   "metadata": {},
   "outputs": [],
   "source": [
    "if follow_up_others:\n",
    "    center_ra = 235.9839\n",
    "    center_dec = 15.2248\n",
    "    radius = 1/360\n",
    "    z_others = 0\n",
    "    z_others_std = 0.4\n",
    "    \n",
    "    sigma_accuracy = 3\n",
    "    \n",
    "    data = gs.db_doall(center_ra, center_dec, radius)\n",
    "    \n",
    "    #ii = data[\"Z\"]-sigma_accuracy*data[\"ZERR\"]<z_others+sigma_accuracy*z_others_std\n",
    "    #ii &= data[\"Z\"]+sigma_accuracy*data[\"ZERR\"]>z_others-sigma_accuracy*z_others_std\n",
    "    \n",
    "    #data = data[ii]\n",
    "    \n",
    "    \n",
    "else:\n",
    "    data = Table.read(\"/global/homes/j/jgassert/good_z_data_BGSBright.fits\")"
   ]
  },
  {
   "cell_type": "code",
   "execution_count": 12,
   "metadata": {},
   "outputs": [
    {
     "data": {
      "text/html": [
       "<div><i>Table length=5</i>\n",
       "<table id=\"table139870733331728\" class=\"table-striped table-bordered table-condensed\">\n",
       "<thead><tr><th>TARGETID</th><th>TARGET_RA</th><th>TARGET_DEC</th><th>LASTNIGHT</th><th>Z</th><th>ZERR</th><th>ZWARN</th><th>FLUX_G</th><th>FLUX_R</th><th>FLUX_Z</th><th>SPECTYPE</th><th>BGS_TARGET</th><th>EBV</th><th>SERSIC</th></tr></thead>\n",
       "<thead><tr><th>int64</th><th>float64</th><th>float64</th><th>int64</th><th>float64</th><th>float64</th><th>int64</th><th>float64</th><th>float64</th><th>float64</th><th>bytes6</th><th>int64</th><th>float64</th><th>float64</th></tr></thead>\n",
       "<tr><td>39627322533350395</td><td>11.2017136545986</td><td>-19.3753250062112</td><td>20211215</td><td>0.274138421339174</td><td>7.3501930183854e-05</td><td>0</td><td>7.64354562759399</td><td>29.5323829650879</td><td>61.7763519287109</td><td>GALAXY</td><td>131074</td><td>0.0190095156431198</td><td>6.0</td></tr>\n",
       "<tr><td>39627322533353907</td><td>11.3031570730046</td><td>-19.3778160129495</td><td>20211215</td><td>0.160812674805974</td><td>3.74070815089717e-05</td><td>0</td><td>21.8182907104492</td><td>44.3453521728516</td><td>74.1602554321289</td><td>GALAXY</td><td>131074</td><td>0.0181874949485064</td><td>1.12676537036896</td></tr>\n",
       "<tr><td>39627322701120343</td><td>21.7265690067643</td><td>-19.404267970287</td><td>20211022</td><td>0.0347373193412903</td><td>3.04502283257839e-06</td><td>0</td><td>30.611120223999</td><td>40.2380104064941</td><td>47.7578353881836</td><td>GALAXY</td><td>131074</td><td>0.026496633887291</td><td>0.66505241394043</td></tr>\n",
       "<tr><td>39627322701120643</td><td>21.7335960725857</td><td>-19.3756051133826</td><td>20211022</td><td>0.252243092187585</td><td>4.24386834432005e-05</td><td>0</td><td>19.3021106719971</td><td>69.4891662597656</td><td>144.997436523438</td><td>GALAXY</td><td>131074</td><td>0.0254172254353762</td><td>5.25417852401733</td></tr>\n",
       "<tr><td>39627322701122007</td><td>21.7682640928066</td><td>-19.3895060286576</td><td>20211022</td><td>0.272183664497557</td><td>7.48448457991176e-06</td><td>0</td><td>10.1746435165405</td><td>19.1892528533936</td><td>29.1437644958496</td><td>GALAXY</td><td>131074</td><td>0.0247003585100174</td><td>0.544734835624695</td></tr>\n",
       "</table></div>"
      ],
      "text/plain": [
       "<Table length=5>\n",
       "     TARGETID        TARGET_RA     ...        EBV               SERSIC     \n",
       "      int64           float64      ...      float64            float64     \n",
       "----------------- ---------------- ... ------------------ -----------------\n",
       "39627322533350395 11.2017136545986 ... 0.0190095156431198               6.0\n",
       "39627322533353907 11.3031570730046 ... 0.0181874949485064  1.12676537036896\n",
       "39627322701120343 21.7265690067643 ...  0.026496633887291  0.66505241394043\n",
       "39627322701120643 21.7335960725857 ... 0.0254172254353762  5.25417852401733\n",
       "39627322701122007 21.7682640928066 ... 0.0247003585100174 0.544734835624695"
      ]
     },
     "execution_count": 12,
     "metadata": {},
     "output_type": "execute_result"
    }
   ],
   "source": [
    "data[:5]"
   ]
  },
  {
   "cell_type": "markdown",
   "metadata": {
    "tags": []
   },
   "source": [
    "## Do all the calculations, selections,...\n",
    "\n",
    "- turn the daily DESI data into a Table\n",
    "- do some basic data selection stuff: only keep good + positive redshifts, only positive values of r-band flux and eliminate duplicates (right now simply takes the first entry)\n",
    "- add the ipix (healpix) pixel value for each target\n",
    "- calculate the probability for each target\n",
    "- add these values to the Table (\"PROB\"), select only targets within the 99% credible region (i.e. with a certainty of 99% the GW event is inside this region)\n",
    "- calculate the distances and its errors from the redshift, add to the data table\n",
    "- calculate the 3D probability just like here: https://iopscience.iop.org/article/10.3847/0067-0049/226/1/10 (§4) and add these values to the table\n",
    "- sort the table by its 3D probability (descending)\n",
    "- calculate absolute and apparent magnitude, luminosity and add to table\n",
    "\n",
    "The final step is to include the calculation of the most likely host galaxy from https://arxiv.org/pdf/1710.05452.pdf (GW170817); these values are then also added to the table as \"P_GAL\""
   ]
  },
  {
   "cell_type": "code",
   "execution_count": 13,
   "metadata": {},
   "outputs": [
    {
     "data": {
      "text/html": [
       "<div><i>Table length=5</i>\n",
       "<table id=\"table139870733331632\" class=\"table-striped table-bordered table-condensed\">\n",
       "<thead><tr><th>TARGETID</th><th>TARGET_RA</th><th>TARGET_DEC</th><th>LASTNIGHT</th><th>Z</th><th>ZERR</th><th>ZWARN</th><th>FLUX_G</th><th>FLUX_R</th><th>FLUX_Z</th><th>SPECTYPE</th><th>BGS_TARGET</th><th>EBV</th><th>SERSIC</th></tr></thead>\n",
       "<thead><tr><th>int64</th><th>float64</th><th>float64</th><th>int64</th><th>float64</th><th>float64</th><th>int64</th><th>float64</th><th>float64</th><th>float64</th><th>bytes6</th><th>int64</th><th>float64</th><th>float64</th></tr></thead>\n",
       "<tr><td>39627322533350395</td><td>11.2017136545986</td><td>-19.3753250062112</td><td>20211215</td><td>0.274138421339174</td><td>7.3501930183854e-05</td><td>0</td><td>7.64354562759399</td><td>29.5323829650879</td><td>61.7763519287109</td><td>GALAXY</td><td>131074</td><td>0.0190095156431198</td><td>6.0</td></tr>\n",
       "<tr><td>39627322533353907</td><td>11.3031570730046</td><td>-19.3778160129495</td><td>20211215</td><td>0.160812674805974</td><td>3.74070815089717e-05</td><td>0</td><td>21.8182907104492</td><td>44.3453521728516</td><td>74.1602554321289</td><td>GALAXY</td><td>131074</td><td>0.0181874949485064</td><td>1.12676537036896</td></tr>\n",
       "<tr><td>39627322701120343</td><td>21.7265690067643</td><td>-19.404267970287</td><td>20211022</td><td>0.0347373193412903</td><td>3.04502283257839e-06</td><td>0</td><td>30.611120223999</td><td>40.2380104064941</td><td>47.7578353881836</td><td>GALAXY</td><td>131074</td><td>0.026496633887291</td><td>0.66505241394043</td></tr>\n",
       "<tr><td>39627322701120643</td><td>21.7335960725857</td><td>-19.3756051133826</td><td>20211022</td><td>0.252243092187585</td><td>4.24386834432005e-05</td><td>0</td><td>19.3021106719971</td><td>69.4891662597656</td><td>144.997436523438</td><td>GALAXY</td><td>131074</td><td>0.0254172254353762</td><td>5.25417852401733</td></tr>\n",
       "<tr><td>39627322701122007</td><td>21.7682640928066</td><td>-19.3895060286576</td><td>20211022</td><td>0.272183664497557</td><td>7.48448457991176e-06</td><td>0</td><td>10.1746435165405</td><td>19.1892528533936</td><td>29.1437644958496</td><td>GALAXY</td><td>131074</td><td>0.0247003585100174</td><td>0.544734835624695</td></tr>\n",
       "</table></div>"
      ],
      "text/plain": [
       "<Table length=5>\n",
       "     TARGETID        TARGET_RA     ...        EBV               SERSIC     \n",
       "      int64           float64      ...      float64            float64     \n",
       "----------------- ---------------- ... ------------------ -----------------\n",
       "39627322533350395 11.2017136545986 ... 0.0190095156431198               6.0\n",
       "39627322533353907 11.3031570730046 ... 0.0181874949485064  1.12676537036896\n",
       "39627322701120343 21.7265690067643 ...  0.026496633887291  0.66505241394043\n",
       "39627322701120643 21.7335960725857 ... 0.0254172254353762  5.25417852401733\n",
       "39627322701122007 21.7682640928066 ... 0.0247003585100174 0.544734835624695"
      ]
     },
     "execution_count": 13,
     "metadata": {},
     "output_type": "execute_result"
    }
   ],
   "source": [
    "data[:5]"
   ]
  },
  {
   "cell_type": "markdown",
   "metadata": {
    "tags": []
   },
   "source": [
    "### data clean up"
   ]
  },
  {
   "cell_type": "code",
   "execution_count": 14,
   "metadata": {},
   "outputs": [],
   "source": [
    "#data = data[data[\"Z\"]> 0]\n",
    "#data = data[data[\"ZWARN\"] == 0]"
   ]
  },
  {
   "cell_type": "code",
   "execution_count": 15,
   "metadata": {},
   "outputs": [],
   "source": [
    "#data = data[data['FLUX_Z']>0]\n",
    "data = table.unique(data, keys = \"TARGETID\")"
   ]
  },
  {
   "cell_type": "code",
   "execution_count": 16,
   "metadata": {},
   "outputs": [],
   "source": [
    "data = data[data[\"TARGETID\"]>0]"
   ]
  },
  {
   "cell_type": "code",
   "execution_count": 17,
   "metadata": {},
   "outputs": [
    {
     "name": "stdout",
     "output_type": "stream",
     "text": [
      "We have 7184940 objects in the full catalog\n"
     ]
    }
   ],
   "source": [
    "print(f\"We have {len(data)} objects in the full catalog\") "
   ]
  },
  {
   "cell_type": "markdown",
   "metadata": {
    "tags": []
   },
   "source": [
    "### Calculate the healpix id for every object in the catalog and its probability; append this data to the Table"
   ]
  },
  {
   "cell_type": "code",
   "execution_count": 18,
   "metadata": {},
   "outputs": [],
   "source": [
    "max_level = 29 # highest possible HEALPix resolution that can be represented in a 64-bit signed integer\n",
    "max_nside = ah.level_to_nside(max_level)\n",
    "level, ipix = ah.uniq_to_level_ipix(skymap[\"UNIQ\"])\n",
    "\n",
    "index = ipix*(2**(max_level-level))**2\n",
    "\n",
    "sorter = np.argsort(index)\n",
    "\n",
    "# this is the NESTED pixel index of the target sky location, NOT THE UNIQ ID\n",
    "match_ipix = ah.lonlat_to_healpix(data[\"TARGET_RA\"]*u.deg, data[\"TARGET_DEC\"]*u.deg, max_nside, order='nested')\n",
    "\n",
    "# here we get the pixel index (i.e. where the entry is in the table, also NOT THE UNIQ ID) of each target\n",
    "sorter_i = sorter[np.searchsorted(index, match_ipix, side='right', sorter=sorter) - 1]\n",
    "probdensity = skymap[sorter_i]['PROBDENSITY'].to_value(u.deg**-2)\n",
    "\n",
    "# now we calculate the UNIQ ID for all our targets:\n",
    "\n",
    "uniq = skymap[\"UNIQ\"][sorter_i]\n",
    "#to make things easier in future, I will now also append the UNIQ pixels DISTMU, DISTSIGMA and DISTNORM values. However, be careful, since these DO NOT CORRESPOND THE TARGETS IN DESI DIRECTLY!\n",
    "\n",
    "distmu = skymap[sorter_i][\"DISTMU\"]\n",
    "distsigma = skymap[sorter_i][\"DISTSIGMA\"]\n",
    "distnorm = skymap[sorter_i][\"DISTNORM\"]\n"
   ]
  },
  {
   "cell_type": "code",
   "execution_count": 19,
   "metadata": {},
   "outputs": [],
   "source": [
    "# len(UNIQ), len(data), len(skymap)"
   ]
  },
  {
   "cell_type": "code",
   "execution_count": 20,
   "metadata": {},
   "outputs": [],
   "source": [
    "#data = data.keep_columns([\"TARGETID\", \"TARGET_RA\", \"TARGET_DEC\", \"TILEID\", \"NIGHT\", \"Z\", \"ZERR\", \"ZWARN\", \"DELTACHI2\", \"FLUX_Z\", \"BGS_TARGET\", \"EBV\", \"SERSIC\", \"MWS_TARGET\", \"FILENAME\"])\n",
    "                          "
   ]
  },
  {
   "cell_type": "code",
   "execution_count": 21,
   "metadata": {},
   "outputs": [],
   "source": [
    "data = hstack([data, Table({\"UNIQ\": uniq}), Table({\"PROBDENSITY\": probdensity}), Table({\"DISTMU\": distmu}), Table({\"DISTSIGMA\": distsigma}), Table({\"DISTNORM\": distnorm})])"
   ]
  },
  {
   "cell_type": "code",
   "execution_count": 22,
   "metadata": {},
   "outputs": [
    {
     "data": {
      "text/html": [
       "<div><i>Table length=5</i>\n",
       "<table id=\"table139870733898016\" class=\"table-striped table-bordered table-condensed\">\n",
       "<thead><tr><th>TARGETID</th><th>TARGET_RA</th><th>TARGET_DEC</th><th>LASTNIGHT</th><th>Z</th><th>ZERR</th><th>ZWARN</th><th>FLUX_G</th><th>FLUX_R</th><th>FLUX_Z</th><th>SPECTYPE</th><th>BGS_TARGET</th><th>EBV</th><th>SERSIC</th><th>UNIQ</th><th>PROBDENSITY</th><th>DISTMU</th><th>DISTSIGMA</th><th>DISTNORM</th></tr></thead>\n",
       "<thead><tr><th></th><th></th><th></th><th></th><th></th><th></th><th></th><th></th><th></th><th></th><th></th><th></th><th></th><th></th><th></th><th></th><th>Mpc</th><th>Mpc</th><th>1 / Mpc2</th></tr></thead>\n",
       "<thead><tr><th>int64</th><th>float64</th><th>float64</th><th>int64</th><th>float64</th><th>float64</th><th>int64</th><th>float64</th><th>float64</th><th>float64</th><th>bytes6</th><th>int64</th><th>float64</th><th>float64</th><th>int64</th><th>float64</th><th>float64</th><th>float64</th><th>float64</th></tr></thead>\n",
       "<tr><td>39627322533350395</td><td>11.2017136545986</td><td>-19.3753250062112</td><td>20211215</td><td>0.274138421339174</td><td>7.3501930183854e-05</td><td>0</td><td>7.64354562759399</td><td>29.5323829650879</td><td>61.7763519287109</td><td>GALAXY</td><td>131074</td><td>0.0190095156431198</td><td>6.0</td><td>2076</td><td>5.359977041958253e-08</td><td>982.9068010846312</td><td>219.3986733037057</td><td>9.859584307247734e-07</td></tr>\n",
       "<tr><td>39627322533353907</td><td>11.3031570730046</td><td>-19.3778160129495</td><td>20211215</td><td>0.160812674805974</td><td>3.74070815089717e-05</td><td>0</td><td>21.8182907104492</td><td>44.3453521728516</td><td>74.1602554321289</td><td>GALAXY</td><td>131074</td><td>0.0181874949485064</td><td>1.12676537036896</td><td>2076</td><td>5.359977041958253e-08</td><td>982.9068010846312</td><td>219.3986733037057</td><td>9.859584307247734e-07</td></tr>\n",
       "<tr><td>39627322701120343</td><td>21.7265690067643</td><td>-19.404267970287</td><td>20211022</td><td>0.0347373193412903</td><td>3.04502283257839e-06</td><td>0</td><td>30.611120223999</td><td>40.2380104064941</td><td>47.7578353881836</td><td>GALAXY</td><td>131074</td><td>0.026496633887291</td><td>0.66505241394043</td><td>2069</td><td>1.4027590558401122e-07</td><td>-1112.5700569988471</td><td>1181.7468153236198</td><td>8.35994089961374e-06</td></tr>\n",
       "<tr><td>39627322701120643</td><td>21.7335960725857</td><td>-19.3756051133826</td><td>20211022</td><td>0.252243092187585</td><td>4.24386834432005e-05</td><td>0</td><td>19.3021106719971</td><td>69.4891662597656</td><td>144.997436523438</td><td>GALAXY</td><td>131074</td><td>0.0254172254353762</td><td>5.25417852401733</td><td>2069</td><td>1.4027590558401122e-07</td><td>-1112.5700569988471</td><td>1181.7468153236198</td><td>8.35994089961374e-06</td></tr>\n",
       "<tr><td>39627322701122007</td><td>21.7682640928066</td><td>-19.3895060286576</td><td>20211022</td><td>0.272183664497557</td><td>7.48448457991176e-06</td><td>0</td><td>10.1746435165405</td><td>19.1892528533936</td><td>29.1437644958496</td><td>GALAXY</td><td>131074</td><td>0.0247003585100174</td><td>0.544734835624695</td><td>2069</td><td>1.4027590558401122e-07</td><td>-1112.5700569988471</td><td>1181.7468153236198</td><td>8.35994089961374e-06</td></tr>\n",
       "</table></div>"
      ],
      "text/plain": [
       "<Table length=5>\n",
       "     TARGETID        TARGET_RA     ...     DISTSIGMA             DISTNORM      \n",
       "                                   ...        Mpc                1 / Mpc2      \n",
       "      int64           float64      ...      float64              float64       \n",
       "----------------- ---------------- ... ------------------ ---------------------\n",
       "39627322533350395 11.2017136545986 ...  219.3986733037057 9.859584307247734e-07\n",
       "39627322533353907 11.3031570730046 ...  219.3986733037057 9.859584307247734e-07\n",
       "39627322701120343 21.7265690067643 ... 1181.7468153236198  8.35994089961374e-06\n",
       "39627322701120643 21.7335960725857 ... 1181.7468153236198  8.35994089961374e-06\n",
       "39627322701122007 21.7682640928066 ... 1181.7468153236198  8.35994089961374e-06"
      ]
     },
     "execution_count": 22,
     "metadata": {},
     "output_type": "execute_result"
    }
   ],
   "source": [
    "data[:5]"
   ]
  },
  {
   "cell_type": "code",
   "execution_count": 23,
   "metadata": {},
   "outputs": [
    {
     "name": "stdout",
     "output_type": "stream",
     "text": [
      "The highest and lowest probability values in our catalog are: 5.075197621715801e-21 and 0.001325465889562678\n"
     ]
    }
   ],
   "source": [
    "print(f\"The highest and lowest probability values in our catalog are: {np.min(probdensity)} and {np.max(probdensity)}\")"
   ]
  },
  {
   "cell_type": "markdown",
   "metadata": {
    "tags": []
   },
   "source": [
    "### Sort the skymap table and get 99% credible region"
   ]
  },
  {
   "cell_type": "code",
   "execution_count": 24,
   "metadata": {},
   "outputs": [],
   "source": [
    "# copy the table\n",
    "skymap_sort = Table(skymap, copy = True)"
   ]
  },
  {
   "cell_type": "code",
   "execution_count": 25,
   "metadata": {},
   "outputs": [],
   "source": [
    "# check whether copy worked:\n",
    "# skymap_sort, skymap\n",
    "# np.max(skymap[\"UNIQ\"])"
   ]
  },
  {
   "cell_type": "code",
   "execution_count": 26,
   "metadata": {},
   "outputs": [],
   "source": [
    "# now sort the skymap by its probability (descending)\n",
    "skymap_sort.sort('PROBDENSITY', reverse=True)"
   ]
  },
  {
   "cell_type": "code",
   "execution_count": 27,
   "metadata": {},
   "outputs": [
    {
     "data": {
      "text/html": [
       "<div><i>Table length=5</i>\n",
       "<table id=\"table139870733907904\" class=\"table-striped table-bordered table-condensed\">\n",
       "<thead><tr><th>UNIQ</th><th>PROBDENSITY</th><th>DISTMU</th><th>DISTSIGMA</th><th>DISTNORM</th></tr></thead>\n",
       "<thead><tr><th></th><th>1 / sr</th><th>Mpc</th><th>Mpc</th><th>1 / Mpc2</th></tr></thead>\n",
       "<thead><tr><th>int64</th><th>float64</th><th>float64</th><th>float64</th><th>float64</th></tr></thead>\n",
       "<tr><td>703076</td><td>4.351247838980323</td><td>1413.6713646724643</td><td>391.4435717005969</td><td>4.6475050409402765e-07</td></tr>\n",
       "<tr><td>703078</td><td>4.3491122393907995</td><td>1409.1734690191358</td><td>393.5062904965263</td><td>4.6715568676211496e-07</td></tr>\n",
       "<tr><td>703073</td><td>4.328129085626749</td><td>1423.9564068240359</td><td>396.27674472776425</td><td>4.5773207103118723e-07</td></tr>\n",
       "<tr><td>703079</td><td>4.3151589045688485</td><td>1398.6305326046115</td><td>389.0377955473389</td><td>4.7449248372055416e-07</td></tr>\n",
       "<tr><td>703075</td><td>4.303124577151972</td><td>1419.5273746100486</td><td>398.5117921645866</td><td>4.60009912562234e-07</td></tr>\n",
       "</table></div>"
      ],
      "text/plain": [
       "<Table length=5>\n",
       " UNIQ     PROBDENSITY     ...     DISTSIGMA             DISTNORM       \n",
       "             1 / sr       ...        Mpc                1 / Mpc2       \n",
       "int64       float64       ...      float64              float64        \n",
       "------ ------------------ ... ------------------ ----------------------\n",
       "703076  4.351247838980323 ...  391.4435717005969 4.6475050409402765e-07\n",
       "703078 4.3491122393907995 ...  393.5062904965263 4.6715568676211496e-07\n",
       "703073  4.328129085626749 ... 396.27674472776425 4.5773207103118723e-07\n",
       "703079 4.3151589045688485 ...  389.0377955473389 4.7449248372055416e-07\n",
       "703075  4.303124577151972 ...  398.5117921645866   4.60009912562234e-07"
      ]
     },
     "execution_count": 27,
     "metadata": {},
     "output_type": "execute_result"
    }
   ],
   "source": [
    "# this shows the first entries sorted be their probability\n",
    "skymap_sort[:5]"
   ]
  },
  {
   "cell_type": "code",
   "execution_count": 28,
   "metadata": {},
   "outputs": [
    {
     "data": {
      "text/plain": [
       "13576.414004935838"
      ]
     },
     "execution_count": 28,
     "metadata": {},
     "output_type": "execute_result"
    }
   ],
   "source": [
    "# now get 99% credible region area\n",
    "\n",
    "level, ipix = ah.uniq_to_level_ipix(skymap_sort['UNIQ'])\n",
    "pixel_area = ah.nside_to_pixel_area(ah.level_to_nside(level)) # this is the area each pixel contains\n",
    "\n",
    "# calculate the probability per pixel (careful: since the pixels differ in size, this is not neceseraliy a useful quantity\n",
    "prob = pixel_area * skymap_sort['PROBDENSITY']\n",
    "\n",
    "# calc cumsum of probabilities and get index of pixel that sums up to 0.99\n",
    "cumprob = np.cumsum(prob)\n",
    "i = cumprob.searchsorted(0.99)\n",
    "\n",
    "# print area\n",
    "area_99 = pixel_area[:i].sum()\n",
    "area_99.to_value(u.deg**2)"
   ]
  },
  {
   "cell_type": "markdown",
   "metadata": {
    "jp-MarkdownHeadingCollapsed": true,
    "tags": []
   },
   "source": [
    "### can be deleted, just tried things out"
   ]
  },
  {
   "cell_type": "code",
   "execution_count": 29,
   "metadata": {},
   "outputs": [],
   "source": [
    "skymap_sort = hstack([skymap_sort, Table({\"PROB\": prob})])"
   ]
  },
  {
   "cell_type": "code",
   "execution_count": 30,
   "metadata": {},
   "outputs": [
    {
     "data": {
      "text/latex": [
       "$0.00012124872 \\; \\mathrm{}$"
      ],
      "text/plain": [
       "<Quantity 0.00012125>"
      ]
     },
     "execution_count": 30,
     "metadata": {},
     "output_type": "execute_result"
    }
   ],
   "source": [
    "np.max(prob)"
   ]
  },
  {
   "cell_type": "code",
   "execution_count": 31,
   "metadata": {},
   "outputs": [
    {
     "data": {
      "text/html": [
       "<div><i>Table length=5</i>\n",
       "<table id=\"table139870733899936\" class=\"table-striped table-bordered table-condensed\">\n",
       "<thead><tr><th>UNIQ</th><th>PROBDENSITY</th><th>DISTMU</th><th>DISTSIGMA</th><th>DISTNORM</th><th>PROB</th></tr></thead>\n",
       "<thead><tr><th></th><th>1 / sr</th><th>Mpc</th><th>Mpc</th><th>1 / Mpc2</th><th></th></tr></thead>\n",
       "<thead><tr><th>int64</th><th>float64</th><th>float64</th><th>float64</th><th>float64</th><th>float64</th></tr></thead>\n",
       "<tr><td>703076</td><td>4.351247838980323</td><td>1413.6713646724643</td><td>391.4435717005969</td><td>4.6475050409402765e-07</td><td>6.95284436283826e-05</td></tr>\n",
       "<tr><td>703078</td><td>4.3491122393907995</td><td>1409.1734690191358</td><td>393.5062904965263</td><td>4.6715568676211496e-07</td><td>6.949431895399774e-05</td></tr>\n",
       "<tr><td>703073</td><td>4.328129085626749</td><td>1423.9564068240359</td><td>396.27674472776425</td><td>4.5773207103118723e-07</td><td>6.915902984208833e-05</td></tr>\n",
       "<tr><td>703079</td><td>4.3151589045688485</td><td>1398.6305326046115</td><td>389.0377955473389</td><td>4.7449248372055416e-07</td><td>6.895177975294023e-05</td></tr>\n",
       "<tr><td>703075</td><td>4.303124577151972</td><td>1419.5273746100486</td><td>398.5117921645866</td><td>4.60009912562234e-07</td><td>6.875948363780883e-05</td></tr>\n",
       "</table></div>"
      ],
      "text/plain": [
       "<Table length=5>\n",
       " UNIQ     PROBDENSITY     ...        DISTNORM                 PROB        \n",
       "             1 / sr       ...        1 / Mpc2                             \n",
       "int64       float64       ...        float64                float64       \n",
       "------ ------------------ ... ---------------------- ---------------------\n",
       "703076  4.351247838980323 ... 4.6475050409402765e-07  6.95284436283826e-05\n",
       "703078 4.3491122393907995 ... 4.6715568676211496e-07 6.949431895399774e-05\n",
       "703073  4.328129085626749 ... 4.5773207103118723e-07 6.915902984208833e-05\n",
       "703079 4.3151589045688485 ... 4.7449248372055416e-07 6.895177975294023e-05\n",
       "703075  4.303124577151972 ...   4.60009912562234e-07 6.875948363780883e-05"
      ]
     },
     "execution_count": 31,
     "metadata": {},
     "output_type": "execute_result"
    }
   ],
   "source": [
    "skymap_sort[:5]"
   ]
  },
  {
   "cell_type": "code",
   "execution_count": 32,
   "metadata": {},
   "outputs": [],
   "source": [
    "skymap_prob = Table(skymap_sort, copy = True)"
   ]
  },
  {
   "cell_type": "code",
   "execution_count": 33,
   "metadata": {},
   "outputs": [],
   "source": [
    "skymap_prob.sort(\"PROB\", reverse = True)"
   ]
  },
  {
   "cell_type": "code",
   "execution_count": 34,
   "metadata": {},
   "outputs": [
    {
     "data": {
      "text/html": [
       "<div><i>Table length=5</i>\n",
       "<table id=\"table139870733894128\" class=\"table-striped table-bordered table-condensed\">\n",
       "<thead><tr><th>UNIQ</th><th>PROBDENSITY</th><th>DISTMU</th><th>DISTSIGMA</th><th>DISTNORM</th><th>PROB</th></tr></thead>\n",
       "<thead><tr><th></th><th>1 / sr</th><th>Mpc</th><th>Mpc</th><th>1 / Mpc2</th><th></th></tr></thead>\n",
       "<thead><tr><th>int64</th><th>float64</th><th>float64</th><th>float64</th><th>float64</th><th>float64</th></tr></thead>\n",
       "<tr><td>31887</td><td>0.47425125920653005</td><td>2737.6767933721962</td><td>1924.8562370877792</td><td>9.011571066089407e-08</td><td>0.00012124872004223172</td></tr>\n",
       "<tr><td>196172</td><td>1.896939509859872</td><td>5249.327676334689</td><td>1618.8781000491267</td><td>3.31389201914622e-08</td><td>0.00012124453182942701</td></tr>\n",
       "<tr><td>196432</td><td>1.8969147956875163</td><td>5167.2377615209</td><td>1617.8976492350967</td><td>3.410910416111697e-08</td><td>0.00012124295220169442</td></tr>\n",
       "<tr><td>124989</td><td>1.8966006163174018</td><td>4950.174985849531</td><td>1601.5341225422633</td><td>3.694293600658707e-08</td><td>0.00012122287115512335</td></tr>\n",
       "<tr><td>125035</td><td>1.8964174836267236</td><td>4918.988252496032</td><td>1611.3772231880891</td><td>3.7323809573521065e-08</td><td>0.00012121116607057609</td></tr>\n",
       "</table></div>"
      ],
      "text/plain": [
       "<Table length=5>\n",
       " UNIQ      PROBDENSITY     ...        DISTNORM                 PROB         \n",
       "              1 / sr       ...        1 / Mpc2                              \n",
       "int64        float64       ...        float64                float64        \n",
       "------ ------------------- ... ---------------------- ----------------------\n",
       " 31887 0.47425125920653005 ...  9.011571066089407e-08 0.00012124872004223172\n",
       "196172   1.896939509859872 ...   3.31389201914622e-08 0.00012124453182942701\n",
       "196432  1.8969147956875163 ...  3.410910416111697e-08 0.00012124295220169442\n",
       "124989  1.8966006163174018 ...  3.694293600658707e-08 0.00012122287115512335\n",
       "125035  1.8964174836267236 ... 3.7323809573521065e-08 0.00012121116607057609"
      ]
     },
     "execution_count": 34,
     "metadata": {},
     "output_type": "execute_result"
    }
   ],
   "source": [
    "skymap_prob[:5]"
   ]
  },
  {
   "cell_type": "markdown",
   "metadata": {
    "tags": []
   },
   "source": [
    "### Compare Tables, only leave 99% credible region in DESI data table\n",
    "\n",
    "Now we can get a Table that only contains the 99% credible region. From there we only leave the matching objects in the DESI data"
   ]
  },
  {
   "cell_type": "code",
   "execution_count": 35,
   "metadata": {},
   "outputs": [],
   "source": [
    "# we simply select only the entries that are within the 99% credible region\n",
    "skymap_99 = skymap_sort[:i]"
   ]
  },
  {
   "cell_type": "code",
   "execution_count": 36,
   "metadata": {},
   "outputs": [
    {
     "name": "stdout",
     "output_type": "stream",
     "text": [
      "This is the number of UNIQ ID of objects which should lie within the 99% credible region (NOT THE NUMBER OF OBJECTS, as there can be multiple objects per UNIQ ID): 7386\n"
     ]
    }
   ],
   "source": [
    "print(\"This is the number of UNIQ ID of objects which should lie within the 99% credible region (NOT THE NUMBER OF OBJECTS, as there can be multiple objects per UNIQ ID):\", len(np.intersect1d(skymap_99[\"UNIQ\"], data[\"UNIQ\"])))"
   ]
  },
  {
   "cell_type": "code",
   "execution_count": 37,
   "metadata": {},
   "outputs": [],
   "source": [
    "mask = np.in1d(data[\"UNIQ\"], skymap_99[\"UNIQ\"])\n",
    "data_99 = data[mask]"
   ]
  },
  {
   "cell_type": "code",
   "execution_count": 38,
   "metadata": {},
   "outputs": [
    {
     "name": "stdout",
     "output_type": "stream",
     "text": [
      "We now have 2429015 objects in the 99% credible region\n",
      "Check if the region from where the galaxies have been selected makes any sense (RA; DEC):  0.000223486714700848 359.999983255483 -19.5558516500285 63.4077227206616\n",
      "We can also check whether we have at least one galaxy in the UNIQ pixel with the highest probability from LIGO...\n",
      "This is True\n"
     ]
    }
   ],
   "source": [
    "print(f\"We now have {len(data_99)} objects in the 99% credible region\")\n",
    "print(\"Check if the region from where the galaxies have been selected makes any sense (RA; DEC): \", np.min(data_99[\"TARGET_RA\"]), np.max(data_99[\"TARGET_RA\"]), np.min(data_99[\"TARGET_DEC\"]), np.max(data_99[\"TARGET_DEC\"]))\n",
    "\n",
    "max_probdens_in_desi = np.max(data_99[\"PROBDENSITY\"])\n",
    "max_probdens_in_ligo = np.max(skymap[\"PROBDENSITY\"]).to_value(u.deg**-2)\n",
    "print(f\"We can also check whether we have at least one galaxy in the UNIQ pixel with the highest probability from LIGO...\")\n",
    "print(f\"This is {np.allclose(max_probdens_in_desi, max_probdens_in_ligo)}\")"
   ]
  },
  {
   "cell_type": "code",
   "execution_count": 39,
   "metadata": {},
   "outputs": [],
   "source": [
    "data_99.sort('PROBDENSITY', reverse=True)"
   ]
  },
  {
   "cell_type": "code",
   "execution_count": 40,
   "metadata": {},
   "outputs": [
    {
     "data": {
      "text/html": [
       "<div><i>Table length=2</i>\n",
       "<table id=\"table139870733899312\" class=\"table-striped table-bordered table-condensed\">\n",
       "<thead><tr><th>TARGETID</th><th>TARGET_RA</th><th>TARGET_DEC</th><th>LASTNIGHT</th><th>Z</th><th>ZERR</th><th>ZWARN</th><th>FLUX_G</th><th>FLUX_R</th><th>FLUX_Z</th><th>SPECTYPE</th><th>BGS_TARGET</th><th>EBV</th><th>SERSIC</th><th>UNIQ</th><th>PROBDENSITY</th><th>DISTMU</th><th>DISTSIGMA</th><th>DISTNORM</th></tr></thead>\n",
       "<thead><tr><th></th><th></th><th></th><th></th><th></th><th></th><th></th><th></th><th></th><th></th><th></th><th></th><th></th><th></th><th></th><th></th><th>Mpc</th><th>Mpc</th><th>1 / Mpc2</th></tr></thead>\n",
       "<thead><tr><th>int64</th><th>float64</th><th>float64</th><th>int64</th><th>float64</th><th>float64</th><th>int64</th><th>float64</th><th>float64</th><th>float64</th><th>bytes6</th><th>int64</th><th>float64</th><th>float64</th><th>int64</th><th>float64</th><th>float64</th><th>float64</th><th>float64</th></tr></thead>\n",
       "<tr><td>39628015889547901</td><td>150.159714968829</td><td>9.47376442605925</td><td>20211204</td><td>0.402155950395106</td><td>5.27828907309909e-05</td><td>0</td><td>4.80024671554565</td><td>27.0464096069336</td><td>64.8180847167969</td><td>GALAXY</td><td>131074</td><td>0.0432062074542046</td><td>6.0</td><td>703076</td><td>0.001325465889562678</td><td>1413.6713646724643</td><td>391.4435717005969</td><td>4.6475050409402765e-07</td></tr>\n",
       "<tr><td>39628015885355689</td><td>150.007843278908</td><td>9.42653958951469</td><td>20220311</td><td>0.210020705255728</td><td>3.58092211507828e-05</td><td>0</td><td>25.8274745941162</td><td>86.3816070556641</td><td>172.61589050293</td><td>GALAXY</td><td>131074</td><td>0.0371329039335251</td><td>3.23985075950623</td><td>703076</td><td>0.001325465889562678</td><td>1413.6713646724643</td><td>391.4435717005969</td><td>4.6475050409402765e-07</td></tr>\n",
       "</table></div>"
      ],
      "text/plain": [
       "<Table length=2>\n",
       "     TARGETID        TARGET_RA     ...     DISTSIGMA            DISTNORM       \n",
       "                                   ...        Mpc               1 / Mpc2       \n",
       "      int64           float64      ...      float64             float64        \n",
       "----------------- ---------------- ... ----------------- ----------------------\n",
       "39628015889547901 150.159714968829 ... 391.4435717005969 4.6475050409402765e-07\n",
       "39628015885355689 150.007843278908 ... 391.4435717005969 4.6475050409402765e-07"
      ]
     },
     "execution_count": 40,
     "metadata": {},
     "output_type": "execute_result"
    }
   ],
   "source": [
    "data_99[:2]"
   ]
  },
  {
   "cell_type": "code",
   "execution_count": 41,
   "metadata": {},
   "outputs": [
    {
     "name": "stdout",
     "output_type": "stream",
     "text": [
      "We have now performed all the necessary steps to get the localization selection in 2D, i.e. the angle on the sky\n",
      "However, we have not used the distance data at all. Therefore our redhsifts range from 5.2468041134197e-09 to 6.6304191072122\n"
     ]
    }
   ],
   "source": [
    "print(\"We have now performed all the necessary steps to get the localization selection in 2D, i.e. the angle on the sky\")\n",
    "min_z = np.min(data_99[\"Z\"])\n",
    "max_z = np.max(data_99[\"Z\"])\n",
    "print(f\"However, we have not used the distance data at all. Therefore our redhsifts range from {min_z} to {max_z}\")"
   ]
  },
  {
   "cell_type": "markdown",
   "metadata": {
    "tags": []
   },
   "source": [
    "### Calculate all the distances of the objects from the redshifts\n",
    "\n",
    "We want to be conservative in estimating the distance from redshifts, therefore we will include different cosmologies.\n",
    "\n",
    "Our cosmologies include:\n",
    "- H0 = 68.20 ± 0.81 km s−1Mpc−1, from eBOSS https://arxiv.org/pdf/2007.08991.pdf\n",
    "- DES Y3 https://arxiv.org/abs/2105.13549\n",
    "- SH0ES https://pantheonplussh0es.github.io/\n",
    "\n",
    "Now we calculate the arithmetic mean of our distances and its standard deviation:\n",
    "$$distances_{mean} = \\frac{dist(z_{cosmo_{max}})+dist(z_{cosmo_{min}})}{2}$$\n",
    "and accordingly the standard deviation (n=2):\n",
    "$$\\sigma = \\sqrt{\\frac{1}{n-1}\\sum\\left(dist_i-distances_{mean}\\right)^2}$$\n"
   ]
  },
  {
   "cell_type": "code",
   "execution_count": 42,
   "metadata": {},
   "outputs": [],
   "source": [
    "#distances = Distance(z=data_99[\"Z\"], cosmology=Planck18)\n",
    "#distances_err = Distance(z=data_99[\"ZERR\"], cosmology=Planck18)"
   ]
  },
  {
   "cell_type": "code",
   "execution_count": 43,
   "metadata": {},
   "outputs": [],
   "source": [
    "from astropy.cosmology import FlatLambdaCDM\n",
    "\n",
    "omega_M_max = 0.339+0.032 #(from DES)\n",
    "omega_M_min = 0.299-2*0.016 #from eBOSS\n",
    "\n",
    "H_0_max = 73.04+2*1.04 #from SH0ES\n",
    "H_0_min = 67.4-2*0.5 #from Planck\n",
    "\n",
    "cosmo_min_dist = FlatLambdaCDM(H0=H_0_max, Om0=omega_M_max)\n",
    "cosmo_max_dist = FlatLambdaCDM(H0=H_0_min, Om0=omega_M_min)\n",
    "\n",
    "dists_max = Distance(z=data_99[\"Z\"], cosmology=cosmo_max_dist)\n",
    "dists_min = Distance(z=data_99[\"Z\"], cosmology=cosmo_min_dist)\n",
    "\n",
    "dists_err_min = Distance(z=data_99[\"ZERR\"], cosmology=cosmo_max_dist)\n",
    "dists_err_max = Distance(z=data_99[\"ZERR\"], cosmology=cosmo_min_dist)"
   ]
  },
  {
   "cell_type": "code",
   "execution_count": 44,
   "metadata": {},
   "outputs": [],
   "source": [
    "dists_mean = (dists_max+dists_min)/2\n",
    "dists_err_mean = (dists_err_max+dists_err_min)/2  # nehme ich als sigma"
   ]
  },
  {
   "cell_type": "code",
   "execution_count": 45,
   "metadata": {},
   "outputs": [],
   "source": [
    "dists_mean_stddev = np.sqrt((dists_max-dists_mean)**2+(dists_min-dists_mean)**2)"
   ]
  },
  {
   "cell_type": "code",
   "execution_count": 46,
   "metadata": {},
   "outputs": [
    {
     "data": {
      "text/plain": [
       "(<Distance [2161.97290078, 1025.58539922, 1880.77995745, 1942.41510354,\n",
       "             757.92551979] Mpc>,\n",
       " <Quantity [232.90668702, 100.89823063, 198.68205518, 206.10468823,\n",
       "             72.58657236] Mpc>,\n",
       " <Quantity [0.10772877, 0.09838111, 0.10563812, 0.10610744, 0.09577006]>,\n",
       " <Quantity 0.09874525>,\n",
       " <Quantity 0.16685454>,\n",
       " <Quantity 0.08713916>)"
      ]
     },
     "execution_count": 46,
     "metadata": {},
     "output_type": "execute_result"
    }
   ],
   "source": [
    "dists_mean[:5], dists_mean_stddev[:5], dists_mean_stddev[:5]/dists_mean[:5], np.mean(dists_mean_stddev/dists_mean), np.max(dists_mean_stddev/dists_mean), np.min(dists_mean_stddev/dists_mean)\n"
   ]
  },
  {
   "cell_type": "code",
   "execution_count": 47,
   "metadata": {},
   "outputs": [],
   "source": [
    "data_99 = hstack([data_99, Table({\"DIST_Z_MEAN\": dists_mean}), Table({\"DIST_Z_ERR\": dists_err_mean}), Table({\"DIST_Z_COSMO_SIGMA\": dists_mean_stddev})])"
   ]
  },
  {
   "cell_type": "code",
   "execution_count": 48,
   "metadata": {},
   "outputs": [
    {
     "data": {
      "text/html": [
       "<div><i>Table length=5</i>\n",
       "<table id=\"table139870734193408\" class=\"table-striped table-bordered table-condensed\">\n",
       "<thead><tr><th>TARGETID</th><th>TARGET_RA</th><th>TARGET_DEC</th><th>LASTNIGHT</th><th>Z</th><th>ZERR</th><th>ZWARN</th><th>FLUX_G</th><th>FLUX_R</th><th>FLUX_Z</th><th>SPECTYPE</th><th>BGS_TARGET</th><th>EBV</th><th>SERSIC</th><th>UNIQ</th><th>PROBDENSITY</th><th>DISTMU</th><th>DISTSIGMA</th><th>DISTNORM</th><th>DIST_Z_MEAN</th><th>DIST_Z_ERR</th><th>DIST_Z_COSMO_SIGMA</th></tr></thead>\n",
       "<thead><tr><th></th><th></th><th></th><th></th><th></th><th></th><th></th><th></th><th></th><th></th><th></th><th></th><th></th><th></th><th></th><th></th><th>Mpc</th><th>Mpc</th><th>1 / Mpc2</th><th>Mpc</th><th>Mpc</th><th>Mpc</th></tr></thead>\n",
       "<thead><tr><th>int64</th><th>float64</th><th>float64</th><th>int64</th><th>float64</th><th>float64</th><th>int64</th><th>float64</th><th>float64</th><th>float64</th><th>bytes6</th><th>int64</th><th>float64</th><th>float64</th><th>int64</th><th>float64</th><th>float64</th><th>float64</th><th>float64</th><th>float64</th><th>float64</th><th>float64</th></tr></thead>\n",
       "<tr><td>39628015889547901</td><td>150.159714968829</td><td>9.47376442605925</td><td>20211204</td><td>0.402155950395106</td><td>5.27828907309909e-05</td><td>0</td><td>4.80024671554565</td><td>27.0464096069336</td><td>64.8180847167969</td><td>GALAXY</td><td>131074</td><td>0.0432062074542046</td><td>6.0</td><td>703076</td><td>0.001325465889562678</td><td>1413.6713646724643</td><td>391.4435717005969</td><td>4.6475050409402765e-07</td><td>2161.9729007834494</td><td>0.22448924180855045</td><td>232.90668702000372</td></tr>\n",
       "<tr><td>39628015885355689</td><td>150.007843278908</td><td>9.42653958951469</td><td>20220311</td><td>0.210020705255728</td><td>3.58092211507828e-05</td><td>0</td><td>25.8274745941162</td><td>86.3816070556641</td><td>172.61589050293</td><td>GALAXY</td><td>131074</td><td>0.0371329039335251</td><td>3.23985075950623</td><td>703076</td><td>0.001325465889562678</td><td>1413.6713646724643</td><td>391.4435717005969</td><td>4.6475050409402765e-07</td><td>1025.5853992246257</td><td>0.15229709232917973</td><td>100.89823062698069</td></tr>\n",
       "<tr><td>39628015885357096</td><td>150.073471593864</td><td>9.46505478952279</td><td>20220113</td><td>0.357084851770514</td><td>5.48722042862276e-05</td><td>0</td><td>7.69501638412476</td><td>28.9897422790527</td><td>62.9424362182617</td><td>GALAXY</td><td>131074</td><td>0.0401519536972046</td><td>2.25408148765564</td><td>703076</td><td>0.001325465889562678</td><td>1413.6713646724643</td><td>391.4435717005969</td><td>4.6475050409402765e-07</td><td>1880.7799574486194</td><td>0.23337560722947587</td><td>198.68205517551868</td></tr>\n",
       "<tr><td>39628015885357259</td><td>150.082156831908</td><td>9.53982511698847</td><td>20221124</td><td>0.367079965339814</td><td>6.31044842180793e-05</td><td>0</td><td>4.51560068130493</td><td>20.3098297119141</td><td>48.8351898193359</td><td>GALAXY</td><td>131074</td><td>0.03929078951478</td><td>1.0</td><td>703076</td><td>0.001325465889562678</td><td>1413.6713646724643</td><td>391.4435717005969</td><td>4.6475050409402765e-07</td><td>1942.4151035365376</td><td>0.26838979825408504</td><td>206.10468823452675</td></tr>\n",
       "<tr><td>39628015885357793</td><td>150.109137762823</td><td>9.43005407045067</td><td>20220113</td><td>0.159840122125491</td><td>0.000108158367658108</td><td>0</td><td>40.8466148376465</td><td>101.478126525879</td><td>187.100067138672</td><td>GALAXY</td><td>131074</td><td>0.0422442778944969</td><td>5.20538425445557</td><td>703076</td><td>0.001325465889562678</td><td>1413.6713646724643</td><td>391.4435717005969</td><td>4.6475050409402765e-07</td><td>757.9255197886257</td><td>0.4600243677571778</td><td>72.58657235552612</td></tr>\n",
       "</table></div>"
      ],
      "text/plain": [
       "<Table length=5>\n",
       "     TARGETID        TARGET_RA     ...      DIST_Z_ERR     DIST_Z_COSMO_SIGMA\n",
       "                                   ...         Mpc                Mpc        \n",
       "      int64           float64      ...       float64            float64      \n",
       "----------------- ---------------- ... ------------------- ------------------\n",
       "39628015889547901 150.159714968829 ... 0.22448924180855045 232.90668702000372\n",
       "39628015885355689 150.007843278908 ... 0.15229709232917973 100.89823062698069\n",
       "39628015885357096 150.073471593864 ... 0.23337560722947587 198.68205517551868\n",
       "39628015885357259 150.082156831908 ... 0.26838979825408504 206.10468823452675\n",
       "39628015885357793 150.109137762823 ...  0.4600243677571778  72.58657235552612"
      ]
     },
     "execution_count": 48,
     "metadata": {},
     "output_type": "execute_result"
    }
   ],
   "source": [
    "data_99[:5]"
   ]
  },
  {
   "cell_type": "code",
   "execution_count": 49,
   "metadata": {},
   "outputs": [
    {
     "data": {
      "text/plain": [
       "109"
      ]
     },
     "execution_count": 49,
     "metadata": {},
     "output_type": "execute_result"
    }
   ],
   "source": [
    "len(skymap_99[skymap_99[\"DISTMU\"] == np.inf])"
   ]
  },
  {
   "cell_type": "markdown",
   "metadata": {
    "tags": []
   },
   "source": [
    "### Lets check how much the distance measurement changes in the 99% credible region of LIGO and compare to our DESI data\n",
    "\n",
    "We should see a lot more data in DESI (since we haven't done any redshift selection and there can be multiple objects per GW-pixel). Be carfeul, we are comparing actual object counts with the number of pixels.\n",
    "\n",
    "\n",
    "We still see, that most of the GW localization is roughly between 780Mpc and 950Mpc. DESI definitely has a most of its data in this range as well."
   ]
  },
  {
   "cell_type": "code",
   "execution_count": 50,
   "metadata": {},
   "outputs": [],
   "source": [
    "plt_skymap = skymap_99[skymap_99[\"DISTMU\"]<np.inf]\n"
   ]
  },
  {
   "cell_type": "code",
   "execution_count": 51,
   "metadata": {},
   "outputs": [
    {
     "name": "stdout",
     "output_type": "stream",
     "text": [
      "Our distance ranges from -239061.0692852555 Mpc to 5625.289141189993 Mpc\n",
      "Let's visualize the distance distribution of the LIGO event in the 99% credible region\n"
     ]
    },
    {
     "data": {
      "image/png": "[encoded data removed]",
      "text/plain": [
       "<Figure size 1500x800 with 3 Axes>"
      ]
     },
     "metadata": {},
     "output_type": "display_data"
    }
   ],
   "source": [
    "dist_max_99 = np.max(plt_skymap[\"DISTMU\"])*u.Mpc\n",
    "dist_min_99 = np.min(plt_skymap[\"DISTMU\"])*u.Mpc\n",
    "print(f\"Our distance ranges from {dist_min_99} to {dist_max_99}\")\n",
    "print(\"Let's visualize the distance distribution of the LIGO event in the 99% credible region\")\n",
    "\n",
    "fig, ax = plt.subplots(ncols = 3, figsize = (15,8))\n",
    "\n",
    "\n",
    "ax[0].hist(data_99[\"DIST_Z_MEAN\"], bins = \"auto\", color = \"orange\")\n",
    "ax[1].hist(data_99[\"DIST_Z_MEAN\"], bins = \"auto\", color = \"green\")\n",
    "ax[2].hist(plt_skymap[\"DISTMU\"], bins = \"auto\", color = \"blue\")\n",
    "\n",
    "\n",
    "for axis in ax:\n",
    "    axis.set_xlabel(\"distance bin (Mpc)\")\n",
    "\n",
    "ax[0].set_ylabel(\"object count\")\n",
    "ax[1].set_ylabel(\"object count\")\n",
    "ax[2].set_ylabel(\"pixel count\")\n",
    "\n",
    "ax[1].set_xlim(0,1000)\n",
    "    \n",
    "plt.show()"
   ]
  },
  {
   "cell_type": "code",
   "execution_count": 52,
   "metadata": {},
   "outputs": [
    {
     "data": {
      "text/plain": [
       "(17136, 2429015)"
      ]
     },
     "execution_count": 52,
     "metadata": {},
     "output_type": "execute_result"
    }
   ],
   "source": [
    "len(skymap_99), len(data_99)"
   ]
  },
  {
   "cell_type": "markdown",
   "metadata": {
    "tags": []
   },
   "source": [
    "### To reduce our data even more, lets cut out the unreasonably far away objects\n",
    "\n",
    "We simply take maximum and minimum distance we get from the LIGO skymap (i.e. DISTMU+-DISTERR) and check, whether every galaxy in that pixel falls inside this range.\n",
    "\n",
    "*Note: We do this only for our own GW-follow ups*"
   ]
  },
  {
   "cell_type": "code",
   "execution_count": 53,
   "metadata": {},
   "outputs": [
    {
     "name": "stdout",
     "output_type": "stream",
     "text": [
      "The z-range selection has deleted 1455256 objects from originally 2429015 in the data set\n",
      "Therefore, we have 973759 objects left in the search region\n",
      "Our highest remaing probability density is 0.001325465889562678 compared to the originally highest prob density of 0.001325465889562678\n",
      "The difference in prob density is 0.0\n"
     ]
    }
   ],
   "source": [
    "if follow_up_others == False:\n",
    "    z_selection_mask = data_99[\"DIST_Z_MEAN\"] - data_99[\"DIST_Z_ERR\"] - data_99[\"DIST_Z_COSMO_SIGMA\"] <  data_99[\"DISTMU\"] + data_99[\"DISTSIGMA\"]\n",
    "    z_selection_mask &= data_99[\"DIST_Z_MEAN\"] + data_99[\"DIST_Z_ERR\"] + data_99[\"DIST_Z_COSMO_SIGMA\"] >  data_99[\"DISTMU\"] - data_99[\"DISTSIGMA\"]\n",
    "\n",
    "    data_99_z = data_99[z_selection_mask]\n",
    "\n",
    "    remaining_obj = np.size(np.where(z_selection_mask == True))\n",
    "    deleted_obj = np.size(np.where(z_selection_mask == False))\n",
    "\n",
    "    print(f\"The z-range selection has deleted {deleted_obj} objects from originally {deleted_obj+remaining_obj} in the data set\")\n",
    "    print(f\"Therefore, we have {remaining_obj} objects left in the search region\")\n",
    "\n",
    "    highest_prob_dens = np.max(data_99_z[\"PROBDENSITY\"])\n",
    "    print(f\"Our highest remaing probability density is {highest_prob_dens} compared to the originally highest prob density of {max_probdens_in_ligo}\")\n",
    "    print(f\"The difference in prob density is {max_probdens_in_ligo-highest_prob_dens}\")\n",
    "\n",
    "    \n",
    "else:\n",
    "    data_99_z = data_99\n",
    "    remaining_obj = len(data_99_z)"
   ]
  },
  {
   "cell_type": "code",
   "execution_count": 54,
   "metadata": {},
   "outputs": [
    {
     "data": {
      "text/html": [
       "<div><i>Table length=5</i>\n",
       "<table id=\"table139868110404816\" class=\"table-striped table-bordered table-condensed\">\n",
       "<thead><tr><th>TARGETID</th><th>TARGET_RA</th><th>TARGET_DEC</th><th>LASTNIGHT</th><th>Z</th><th>ZERR</th><th>ZWARN</th><th>FLUX_G</th><th>FLUX_R</th><th>FLUX_Z</th><th>SPECTYPE</th><th>BGS_TARGET</th><th>EBV</th><th>SERSIC</th><th>UNIQ</th><th>PROBDENSITY</th><th>DISTMU</th><th>DISTSIGMA</th><th>DISTNORM</th><th>DIST_Z_MEAN</th><th>DIST_Z_ERR</th><th>DIST_Z_COSMO_SIGMA</th></tr></thead>\n",
       "<thead><tr><th></th><th></th><th></th><th></th><th></th><th></th><th></th><th></th><th></th><th></th><th></th><th></th><th></th><th></th><th></th><th></th><th>Mpc</th><th>Mpc</th><th>1 / Mpc2</th><th>Mpc</th><th>Mpc</th><th>Mpc</th></tr></thead>\n",
       "<thead><tr><th>int64</th><th>float64</th><th>float64</th><th>int64</th><th>float64</th><th>float64</th><th>int64</th><th>float64</th><th>float64</th><th>float64</th><th>bytes6</th><th>int64</th><th>float64</th><th>float64</th><th>int64</th><th>float64</th><th>float64</th><th>float64</th><th>float64</th><th>float64</th><th>float64</th><th>float64</th></tr></thead>\n",
       "<tr><td>39628015885355689</td><td>150.007843278908</td><td>9.42653958951469</td><td>20220311</td><td>0.210020705255728</td><td>3.58092211507828e-05</td><td>0</td><td>25.8274745941162</td><td>86.3816070556641</td><td>172.61589050293</td><td>GALAXY</td><td>131074</td><td>0.0371329039335251</td><td>3.23985075950623</td><td>703076</td><td>0.001325465889562678</td><td>1413.6713646724643</td><td>391.4435717005969</td><td>4.6475050409402765e-07</td><td>1025.5853992246257</td><td>0.15229709232917973</td><td>100.89823062698069</td></tr>\n",
       "<tr><td>39628015885357096</td><td>150.073471593864</td><td>9.46505478952279</td><td>20220113</td><td>0.357084851770514</td><td>5.48722042862276e-05</td><td>0</td><td>7.69501638412476</td><td>28.9897422790527</td><td>62.9424362182617</td><td>GALAXY</td><td>131074</td><td>0.0401519536972046</td><td>2.25408148765564</td><td>703076</td><td>0.001325465889562678</td><td>1413.6713646724643</td><td>391.4435717005969</td><td>4.6475050409402765e-07</td><td>1880.7799574486194</td><td>0.23337560722947587</td><td>198.68205517551868</td></tr>\n",
       "<tr><td>39628015885357259</td><td>150.082156831908</td><td>9.53982511698847</td><td>20221124</td><td>0.367079965339814</td><td>6.31044842180793e-05</td><td>0</td><td>4.51560068130493</td><td>20.3098297119141</td><td>48.8351898193359</td><td>GALAXY</td><td>131074</td><td>0.03929078951478</td><td>1.0</td><td>703076</td><td>0.001325465889562678</td><td>1413.6713646724643</td><td>391.4435717005969</td><td>4.6475050409402765e-07</td><td>1942.4151035365376</td><td>0.26838979825408504</td><td>206.10468823452675</td></tr>\n",
       "<tr><td>39628015889547872</td><td>150.157733647902</td><td>9.50824685205413</td><td>20220113</td><td>0.286336493872942</td><td>9.55255290452772e-05</td><td>0</td><td>4.72777128219604</td><td>18.5015392303467</td><td>42.0057830810547</td><td>GALAXY</td><td>131074</td><td>0.0417047068476677</td><td>4.0</td><td>703076</td><td>0.001325465889562678</td><td>1413.6713646724643</td><td>391.4435717005969</td><td>4.6475050409402765e-07</td><td>1456.8792294552545</td><td>0.4062898550141651</td><td>148.93152680603043</td></tr>\n",
       "<tr><td>39628015885356767</td><td>150.059114207401</td><td>9.46358622978681</td><td>20220113</td><td>0.367720700809151</td><td>1.29024434107988e-05</td><td>0</td><td>7.07731580734253</td><td>16.1731739044189</td><td>27.0104961395264</td><td>GALAXY</td><td>131074</td><td>0.0393442809581757</td><td>1.0</td><td>703076</td><td>0.001325465889562678</td><td>1413.6713646724643</td><td>391.4435717005969</td><td>4.6475050409402765e-07</td><td>1946.3804761956428</td><td>0.05487330366223161</td><td>206.58378832806835</td></tr>\n",
       "</table></div>"
      ],
      "text/plain": [
       "<Table length=5>\n",
       "     TARGETID        TARGET_RA     ...      DIST_Z_ERR     DIST_Z_COSMO_SIGMA\n",
       "                                   ...         Mpc                Mpc        \n",
       "      int64           float64      ...       float64            float64      \n",
       "----------------- ---------------- ... ------------------- ------------------\n",
       "39628015885355689 150.007843278908 ... 0.15229709232917973 100.89823062698069\n",
       "39628015885357096 150.073471593864 ... 0.23337560722947587 198.68205517551868\n",
       "39628015885357259 150.082156831908 ... 0.26838979825408504 206.10468823452675\n",
       "39628015889547872 150.157733647902 ...  0.4062898550141651 148.93152680603043\n",
       "39628015885356767 150.059114207401 ... 0.05487330366223161 206.58378832806835"
      ]
     },
     "execution_count": 54,
     "metadata": {},
     "output_type": "execute_result"
    }
   ],
   "source": [
    "data_99_z[:5]"
   ]
  },
  {
   "cell_type": "markdown",
   "metadata": {
    "tags": []
   },
   "source": [
    "### get the apparent, absolute magnitudes and luminosities\n",
    "\n",
    "in order to do this: flux > 0 selection  and gal ext correction"
   ]
  },
  {
   "cell_type": "code",
   "execution_count": 55,
   "metadata": {},
   "outputs": [
    {
     "name": "stdout",
     "output_type": "stream",
     "text": [
      "had to cut out 0 objects due to bad fluxes\n"
     ]
    }
   ],
   "source": [
    "# get the apparent mags\n",
    "orig_len = len(data_99_z)\n",
    "data_99_z = data_99_z[data_99_z[\"FLUX_R\"] > 0] # flux selection (only ones above 0)\n",
    "print(f\"had to cut out {len(data_99_z)-orig_len} objects due to bad fluxes\")\n",
    "data_99_z[\"MW_TRANSMISSION\"] = gs.mw_transmission_from_data_table(data = data_99_z, band = \"r\")\n",
    "#data_99_z[\"FLUX_R\"] = data_99_z[\"FLUX_R\"]/data_99_z[\"MW_TRANSMISSION\"]\n",
    "\n",
    "app_mag_r = gs.app_mag(data_99_z[\"FLUX_R\"], mw_transmission = data_99_z[\"MW_TRANSMISSION\"])\n",
    "flux_selection_cut = len(data_99_z)\n",
    "\n",
    "# get the absolute mags\n",
    "abs_mag_r = gs.abs_mag(app_mag_r, data_99_z[\"Z\"], 0,0,0)\n",
    "\n",
    "# get the luminosities\n",
    "lums_r = gs.lum(abs_mag_r, band = \"r\")"
   ]
  },
  {
   "cell_type": "code",
   "execution_count": 56,
   "metadata": {},
   "outputs": [],
   "source": [
    "data_f = hstack([data_99_z, Table({\"APP_MAG_R\": app_mag_r}), Table({\"ABS_MAG_R\": abs_mag_r}), Table({\"LUM_R\": lums_r})])"
   ]
  },
  {
   "cell_type": "code",
   "execution_count": 57,
   "metadata": {},
   "outputs": [
    {
     "data": {
      "text/html": [
       "<div><i>Table length=5</i>\n",
       "<table id=\"table139868110405296\" class=\"table-striped table-bordered table-condensed\">\n",
       "<thead><tr><th>TARGETID</th><th>TARGET_RA</th><th>TARGET_DEC</th><th>LASTNIGHT</th><th>Z</th><th>ZERR</th><th>ZWARN</th><th>FLUX_G</th><th>FLUX_R</th><th>FLUX_Z</th><th>SPECTYPE</th><th>BGS_TARGET</th><th>EBV</th><th>SERSIC</th><th>UNIQ</th><th>PROBDENSITY</th><th>DISTMU</th><th>DISTSIGMA</th><th>DISTNORM</th><th>DIST_Z_MEAN</th><th>DIST_Z_ERR</th><th>DIST_Z_COSMO_SIGMA</th><th>MW_TRANSMISSION</th><th>APP_MAG_R</th><th>ABS_MAG_R</th><th>LUM_R</th></tr></thead>\n",
       "<thead><tr><th></th><th></th><th></th><th></th><th></th><th></th><th></th><th></th><th></th><th></th><th></th><th></th><th></th><th></th><th></th><th></th><th>Mpc</th><th>Mpc</th><th>1 / Mpc2</th><th>Mpc</th><th>Mpc</th><th>Mpc</th><th></th><th></th><th></th><th>W</th></tr></thead>\n",
       "<thead><tr><th>int64</th><th>float64</th><th>float64</th><th>int64</th><th>float64</th><th>float64</th><th>int64</th><th>float64</th><th>float64</th><th>float64</th><th>bytes6</th><th>int64</th><th>float64</th><th>float64</th><th>int64</th><th>float64</th><th>float64</th><th>float64</th><th>float64</th><th>float64</th><th>float64</th><th>float64</th><th>float64</th><th>float64</th><th>float64</th><th>float64</th></tr></thead>\n",
       "<tr><td>39628015885355689</td><td>150.007843278908</td><td>9.42653958951469</td><td>20220311</td><td>0.210020705255728</td><td>3.58092211507828e-05</td><td>0</td><td>25.8274745941162</td><td>86.3816070556641</td><td>172.61589050293</td><td>GALAXY</td><td>131074</td><td>0.0371329039335251</td><td>3.23985075950623</td><td>703076</td><td>0.001325465889562678</td><td>1413.6713646724643</td><td>391.4435717005969</td><td>4.6475050409402765e-07</td><td>1025.5853992246257</td><td>0.15229709232917973</td><td>100.89823062698069</td><td>0.9282811260782516</td><td>17.578145602383774</td><td>-22.566995251107254</td><td>5.736300091263263e+36</td></tr>\n",
       "<tr><td>39628015885357096</td><td>150.073471593864</td><td>9.46505478952279</td><td>20220113</td><td>0.357084851770514</td><td>5.48722042862276e-05</td><td>0</td><td>7.69501638412476</td><td>28.9897422790527</td><td>62.9424362182617</td><td>GALAXY</td><td>131074</td><td>0.0401519536972046</td><td>2.25408148765564</td><td>703076</td><td>0.001325465889562678</td><td>1413.6713646724643</td><td>391.4435717005969</td><td>4.6475050409402765e-07</td><td>1880.7799574486194</td><td>0.23337560722947587</td><td>198.68205517551868</td><td>0.92268134388548</td><td>18.757018462599433</td><td>-22.705474307975038</td><td>6.516636339119759e+36</td></tr>\n",
       "<tr><td>39628015885357259</td><td>150.082156831908</td><td>9.53982511698847</td><td>20221124</td><td>0.367079965339814</td><td>6.31044842180793e-05</td><td>0</td><td>4.51560068130493</td><td>20.3098297119141</td><td>48.8351898193359</td><td>GALAXY</td><td>131074</td><td>0.03929078951478</td><td>1.0</td><td>703076</td><td>0.001325465889562678</td><td>1413.6713646724643</td><td>391.4435717005969</td><td>4.6475050409402765e-07</td><td>1942.4151035365376</td><td>0.26838979825408504</td><td>206.10468823452675</td><td>0.9242751926181327</td><td>19.145237536837904</td><td>-22.38730133601279</td><td>4.861320977332693e+36</td></tr>\n",
       "<tr><td>39628015889547872</td><td>150.157733647902</td><td>9.50824685205413</td><td>20220113</td><td>0.286336493872942</td><td>9.55255290452772e-05</td><td>0</td><td>4.72777128219604</td><td>18.5015392303467</td><td>42.0057830810547</td><td>GALAXY</td><td>131074</td><td>0.0417047068476677</td><td>4.0</td><td>703076</td><td>0.001325465889562678</td><td>1413.6713646724643</td><td>391.4435717005969</td><td>4.6475050409402765e-07</td><td>1456.8792294552545</td><td>0.4062898550141651</td><td>148.93152680603043</td><td>0.9198144399110084</td><td>19.241230905616508</td><td>-21.66647331479525</td><td>2.5027823787635974e+36</td></tr>\n",
       "<tr><td>39628015885356767</td><td>150.059114207401</td><td>9.46358622978681</td><td>20220113</td><td>0.367720700809151</td><td>1.29024434107988e-05</td><td>0</td><td>7.07731580734253</td><td>16.1731739044189</td><td>27.0104961395264</td><td>GALAXY</td><td>131074</td><td>0.0393442809581757</td><td>1.0</td><td>703076</td><td>0.001325465889562678</td><td>1413.6713646724643</td><td>391.4435717005969</td><td>4.6475050409402765e-07</td><td>1946.3804761956428</td><td>0.05487330366223161</td><td>206.58378832806835</td><td>0.9241761101296421</td><td>19.39239870366409</td><td>-22.14457025181267</td><td>3.887423568908617e+36</td></tr>\n",
       "</table></div>"
      ],
      "text/plain": [
       "<Table length=5>\n",
       "     TARGETID        TARGET_RA     ...         LUM_R         \n",
       "                                   ...           W           \n",
       "      int64           float64      ...        float64        \n",
       "----------------- ---------------- ... ----------------------\n",
       "39628015885355689 150.007843278908 ...  5.736300091263263e+36\n",
       "39628015885357096 150.073471593864 ...  6.516636339119759e+36\n",
       "39628015885357259 150.082156831908 ...  4.861320977332693e+36\n",
       "39628015889547872 150.157733647902 ... 2.5027823787635974e+36\n",
       "39628015885356767 150.059114207401 ...  3.887423568908617e+36"
      ]
     },
     "execution_count": 57,
     "metadata": {},
     "output_type": "execute_result"
    }
   ],
   "source": [
    "data_f[:5]"
   ]
  },
  {
   "cell_type": "code",
   "execution_count": 58,
   "metadata": {},
   "outputs": [
    {
     "data": {
      "image/png": "[encoded data removed]",
      "text/plain": [
       "<Figure size 1000x500 with 3 Axes>"
      ]
     },
     "metadata": {},
     "output_type": "display_data"
    }
   ],
   "source": [
    "fig, ax = plt.subplots(ncols = 3, figsize=(10,5))\n",
    "\n",
    "plot_names = [\"APP_MAG_R\", \"ABS_MAG_R\", \"LUM_R\"]\n",
    "cnt = 0\n",
    "for axis in ax:\n",
    "    axis.hist(data_f[plot_names[cnt]], bins = \"auto\")\n",
    "    axis.set_yscale(\"log\")\n",
    "    cnt += 1\n",
    "plt.show()"
   ]
  },
  {
   "cell_type": "code",
   "execution_count": 59,
   "metadata": {},
   "outputs": [],
   "source": [
    "# np.max(data_f[\"MW_TRANSMISSION\"])"
   ]
  },
  {
   "cell_type": "code",
   "execution_count": 60,
   "metadata": {},
   "outputs": [
    {
     "name": "stdout",
     "output_type": "stream",
     "text": [
      "The maximum luminosity in our cataloge in the r-band is 1.2922193013175082e+39 W with a prob density of     PROBDENSITY     \n",
      "--------------------\n",
      "8.42104428353149e-05\n"
     ]
    }
   ],
   "source": [
    "max_lum_r = np.max(data_f[\"LUM_R\"])*u.W\n",
    "prob_dens_max_lum = data_f[data_f[\"LUM_R\"] == max_lum_r][\"PROBDENSITY\"]\n",
    "print(f\"The maximum luminosity in our cataloge in the r-band is {max_lum_r} with a prob density of {prob_dens_max_lum}\")"
   ]
  },
  {
   "cell_type": "code",
   "execution_count": 61,
   "metadata": {},
   "outputs": [],
   "source": [
    "arg_errfc = abs(data_f[\"DIST_Z_MEAN\"]-data_f[\"DISTMU\"])/(data_f[\"DIST_Z_ERR\"]**2+data_f[\"DISTSIGMA\"]**2+data_f[\"DIST_Z_COSMO_SIGMA\"].value**2)\n",
    "P_gal_unnorm = data_f[\"LUM_R\"]*data_f[\"PROBDENSITY\"]*(1-sc.special.erf(arg_errfc))\n",
    "#dist_mean*u.Mpc, dist_std*u.Mpc\n",
    "arg_errfc_c = abs(data_f[\"DIST_Z_MEAN\"].value-dist_mean)/(data_f[\"DIST_Z_ERR\"].value**2+dist_std**2+data_f[\"DIST_Z_COSMO_SIGMA\"].value**2)\n",
    "P_gal_unnorm_const = data_f[\"LUM_R\"]*data_f[\"PROBDENSITY\"]*(1-sc.special.erf(arg_errfc_c))\n",
    "\n",
    "# now lets quickly normalize\n",
    "\n",
    "P_gal_sum = np.sum(P_gal_unnorm)\n",
    "P_gal_const_sum = np.sum(P_gal_unnorm_const)\n",
    "\n",
    "P_gal = 1/P_gal_sum * P_gal_unnorm\n",
    "P_gal_const = 1/P_gal_const_sum * P_gal_unnorm_const"
   ]
  },
  {
   "cell_type": "markdown",
   "metadata": {},
   "source": [
    "### Get the missed fraction of DESI due to mass/luminosity incompleteness\n",
    "\n",
    "$$f_{missed} =  \\frac{\\int_{-\\infty}^{\\infty} dm 10^{-0.4m}\\left(1-\\frac{Hist\\cdotw}{Schechter}\\right)\\cdot Schechter}{\\int_{-\\infty}^{\\infty}dm 10^{-0.4m}\\cdot Schechter}$$"
   ]
  },
  {
   "cell_type": "code",
   "execution_count": 62,
   "metadata": {},
   "outputs": [],
   "source": [
    "# get the Schechter model, see 1/V estimator, bin size of half a mag\n",
    "from astropy.modeling.models import Schechter1D\n",
    "\n",
    "phi_star = 0.0017411666759990893\n",
    "m_star = -21.938911723873762\n",
    "alpha = -1.0776969153907823\n",
    "\n",
    "schechter_model = Schechter1D(phi_star, m_star, alpha)"
   ]
  },
  {
   "cell_type": "code",
   "execution_count": 63,
   "metadata": {},
   "outputs": [],
   "source": [
    "data_min_dist = np.min(data_f[\"DIST_Z_MEAN\"])*u.Mpc\n",
    "data_max_dist = np.max(data_f[\"DIST_Z_MEAN\"])*u.Mpc"
   ]
  },
  {
   "cell_type": "code",
   "execution_count": 64,
   "metadata": {},
   "outputs": [],
   "source": [
    "abs_mag_max = np.max(data_f[\"ABS_MAG_R\"])\n",
    "abs_mag_min = np.min(data_f[\"ABS_MAG_R\"])\n",
    "\n",
    "bins = np.arange(abs_mag_min, abs_mag_max, 0.5)\n",
    "\n",
    "hist, bins = np.histogram(data_f[\"ABS_MAG_R\"], bins =  bins)\n",
    "hist = hist/(area_99.to_value(u.deg**2)*(data_max_dist-data_min_dist).value*10**0) # completely wrong normalization"
   ]
  },
  {
   "cell_type": "code",
   "execution_count": 65,
   "metadata": {},
   "outputs": [
    {
     "data": {
      "text/plain": [
       "(-28.448756152353454, 15.031811713262377)"
      ]
     },
     "execution_count": 65,
     "metadata": {},
     "output_type": "execute_result"
    }
   ],
   "source": [
    "abs_mag_min, abs_mag_max"
   ]
  },
  {
   "cell_type": "code",
   "execution_count": 66,
   "metadata": {},
   "outputs": [
    {
     "data": {
      "text/plain": [
       "(<Quantity 6.28676311e-05 Mpc>, <Quantity 8327.41504574 Mpc>, 8327414982.87297)"
      ]
     },
     "execution_count": 66,
     "metadata": {},
     "output_type": "execute_result"
    }
   ],
   "source": [
    "data_min_dist, data_max_dist, (data_max_dist-data_min_dist).value*10**6"
   ]
  },
  {
   "cell_type": "code",
   "execution_count": 67,
   "metadata": {},
   "outputs": [
    {
     "data": {
      "image/png": "[encoded data removed]",
      "text/plain": [
       "<Figure size 500x250 with 1 Axes>"
      ]
     },
     "metadata": {},
     "output_type": "display_data"
    }
   ],
   "source": [
    "fig, ax = plt.subplots(figsize = (5,2.5))\n",
    "bins_center = bins[1:]-(bins[1]-bins[2])/2\n",
    "ax.plot(bins_center, hist, label = \"wrongly normalized distribution\")\n",
    "ax.plot(np.linspace(-25,-18), schechter_model(np.linspace(-25,-18)),  label = \"some schechter fit\", color = \"red\")\n",
    "\n",
    "ax.set_yscale(\"log\")\n",
    "plt.show()"
   ]
  },
  {
   "cell_type": "code",
   "execution_count": 68,
   "metadata": {},
   "outputs": [
    {
     "data": {
      "text/plain": [
       "array([4.42257008e-08, 1.32677102e-07, 2.12283364e-07, 3.44960466e-07,\n",
       "       6.63385512e-07, 9.90655699e-07, 2.57393579e-06, 4.45795064e-06,\n",
       "       1.47448487e-05, 7.80848974e-05, 3.61270905e-04, 1.01103490e-03,\n",
       "       1.63553718e-03, 1.74830387e-03, 1.42335111e-03, 9.61236762e-04,\n",
       "       5.63417738e-04, 3.20149848e-04, 1.74364248e-04, 1.07778033e-04,\n",
       "       6.76653223e-05, 4.39072758e-05, 3.09049197e-05, 1.90258965e-05,\n",
       "       1.08706773e-05, 6.52771344e-06, 4.00684849e-06, 2.21128504e-06,\n",
       "       1.25600990e-06, 9.11049437e-07, 8.66823736e-07, 3.18425046e-07,\n",
       "       2.29973644e-07, 1.06141682e-07, 2.65354205e-08, 0.00000000e+00,\n",
       "       6.19159812e-08, 8.84514017e-08, 1.14986822e-07, 1.14986822e-07,\n",
       "       2.91889625e-07, 3.71495887e-07, 5.66088971e-07, 8.57978596e-07,\n",
       "       9.72965418e-07, 1.17640364e-06, 1.41522243e-06, 1.24716476e-06,\n",
       "       1.26485504e-06, 1.10564252e-06, 9.46429998e-07, 9.46429998e-07,\n",
       "       8.49133456e-07, 7.16456353e-07, 4.68792429e-07, 3.53805607e-07,\n",
       "       3.71495887e-07, 2.29973644e-07, 1.59212523e-07, 1.85747943e-07,\n",
       "       1.41522243e-07, 1.23831962e-07, 6.19159812e-08, 7.96062615e-08,\n",
       "       4.42257008e-08, 1.76902803e-08, 2.65354205e-08, 3.53805607e-08,\n",
       "       1.76902803e-08, 2.65354205e-08, 0.00000000e+00, 1.76902803e-08,\n",
       "       0.00000000e+00, 8.84514017e-09, 0.00000000e+00, 0.00000000e+00,\n",
       "       8.84514017e-09, 0.00000000e+00, 8.84514017e-09, 0.00000000e+00,\n",
       "       0.00000000e+00, 0.00000000e+00, 0.00000000e+00, 0.00000000e+00,\n",
       "       0.00000000e+00, 0.00000000e+00])"
      ]
     },
     "execution_count": 68,
     "metadata": {},
     "output_type": "execute_result"
    }
   ],
   "source": [
    "hist"
   ]
  },
  {
   "cell_type": "code",
   "execution_count": 69,
   "metadata": {},
   "outputs": [
    {
     "name": "stdout",
     "output_type": "stream",
     "text": [
      "(1052592.2749107545, 0.0003165349709348675)\n",
      "(1052592.2749107545, 0.0003165349709348675)\n",
      "1.0\n"
     ]
    }
   ],
   "source": [
    "from scipy.integrate import quad\n",
    "\n",
    "def hist_func(M):\n",
    "    # https://stackoverflow.com/questions/2566412/find-nearest-value-in-numpy-array\n",
    "    # make sure array is a numpy array\n",
    "    # array = np.array(array)\n",
    "    idx = (np.abs(hist - M)).argmin()\n",
    "    val = hist[idx]\n",
    "    #print(f\"val {val}\")\n",
    "    return val\n",
    "\n",
    "def num_func(M):\n",
    "    #print(f\"M is {M}\")\n",
    "    schechter_val = schechter_model(M)\n",
    "    #print(f\"schechter Val: {schechter_val}\")\n",
    "    lum_factor = 10**(-0.4*M)\n",
    "    #print(f\"lum factor {lum_factor}\")\n",
    "    weighting_coverage = (1-hist_func(M)/(schechter_val))\n",
    "    #print(f\"weighting_coverage: {weighting_coverage}\")\n",
    "    final_val = lum_factor*weighting_coverage*schechter_val\n",
    "    #print(f\"final value: {final_val}\")\n",
    "    return final_val\n",
    "def denom_func(M):\n",
    "    lum_factor = 10**(-0.4*M)\n",
    "    schechter_val = schechter_model(M)\n",
    "    final_val = lum_factor*schechter_val\n",
    "\n",
    "    return final_val\n",
    "\n",
    "    \n",
    "    \n",
    "\n",
    "numerator = quad(num_func, -28, -18)\n",
    "denominator = quad(denom_func, -28, -18)\n",
    "\n",
    "print(numerator)\n",
    "print(denominator)\n",
    "\n",
    "f_missed = numerator[0]/denominator[0]\n",
    "\n",
    "print(f_missed)"
   ]
  },
  {
   "cell_type": "code",
   "execution_count": 70,
   "metadata": {},
   "outputs": [],
   "source": [
    "data_f = hstack([data_f, Table({\"P_GAL\": P_gal.value}), Table({\"P_GAL_C\": P_gal_const.value})])"
   ]
  },
  {
   "cell_type": "code",
   "execution_count": 71,
   "metadata": {},
   "outputs": [
    {
     "data": {
      "text/html": [
       "<div><i>Table length=973759</i>\n",
       "<table id=\"table139868000978160\" class=\"table-striped table-bordered table-condensed\">\n",
       "<thead><tr><th>TARGETID</th><th>TARGET_RA</th><th>TARGET_DEC</th><th>LASTNIGHT</th><th>Z</th><th>ZERR</th><th>ZWARN</th><th>FLUX_G</th><th>FLUX_R</th><th>FLUX_Z</th><th>SPECTYPE</th><th>BGS_TARGET</th><th>EBV</th><th>SERSIC</th><th>UNIQ</th><th>PROBDENSITY</th><th>DISTMU</th><th>DISTSIGMA</th><th>DISTNORM</th><th>DIST_Z_MEAN</th><th>DIST_Z_ERR</th><th>DIST_Z_COSMO_SIGMA</th><th>MW_TRANSMISSION</th><th>APP_MAG_R</th><th>ABS_MAG_R</th><th>LUM_R</th><th>P_GAL</th><th>P_GAL_C</th></tr></thead>\n",
       "<thead><tr><th></th><th></th><th></th><th></th><th></th><th></th><th></th><th></th><th></th><th></th><th></th><th></th><th></th><th></th><th></th><th></th><th>Mpc</th><th>Mpc</th><th>1 / Mpc2</th><th>Mpc</th><th>Mpc</th><th>Mpc</th><th></th><th></th><th></th><th>W</th><th></th><th></th></tr></thead>\n",
       "<thead><tr><th>int64</th><th>float64</th><th>float64</th><th>int64</th><th>float64</th><th>float64</th><th>int64</th><th>float64</th><th>float64</th><th>float64</th><th>bytes6</th><th>int64</th><th>float64</th><th>float64</th><th>int64</th><th>float64</th><th>float64</th><th>float64</th><th>float64</th><th>float64</th><th>float64</th><th>float64</th><th>float64</th><th>float64</th><th>float64</th><th>float64</th><th>float64</th><th>float64</th></tr></thead>\n",
       "<tr><td>39628015885355689</td><td>150.007843278908</td><td>9.42653958951469</td><td>20220311</td><td>0.210020705255728</td><td>3.58092211507828e-05</td><td>0</td><td>25.8274745941162</td><td>86.3816070556641</td><td>172.61589050293</td><td>GALAXY</td><td>131074</td><td>0.0371329039335251</td><td>3.23985075950623</td><td>703076</td><td>0.001325465889562678</td><td>1413.6713646724643</td><td>391.4435717005969</td><td>4.6475050409402765e-07</td><td>1025.5853992246257</td><td>0.15229709232917973</td><td>100.89823062698069</td><td>0.9282811260782516</td><td>17.578145602383774</td><td>-22.566995251107254</td><td>5.736300091263263e+36</td><td>3.851400666067741e-05</td><td>3.857557866750903e-05</td></tr>\n",
       "<tr><td>39628015885357096</td><td>150.073471593864</td><td>9.46505478952279</td><td>20220113</td><td>0.357084851770514</td><td>5.48722042862276e-05</td><td>0</td><td>7.69501638412476</td><td>28.9897422790527</td><td>62.9424362182617</td><td>GALAXY</td><td>131074</td><td>0.0401519536972046</td><td>2.25408148765564</td><td>703076</td><td>0.001325465889562678</td><td>1413.6713646724643</td><td>391.4435717005969</td><td>4.6475050409402765e-07</td><td>1880.7799574486194</td><td>0.23337560722947587</td><td>198.68205517551868</td><td>0.92268134388548</td><td>18.757018462599433</td><td>-22.705474307975038</td><td>6.516636339119759e+36</td><td>4.375082283395577e-05</td><td>4.383373703425921e-05</td></tr>\n",
       "<tr><td>39628015885357259</td><td>150.082156831908</td><td>9.53982511698847</td><td>20221124</td><td>0.367079965339814</td><td>6.31044842180793e-05</td><td>0</td><td>4.51560068130493</td><td>20.3098297119141</td><td>48.8351898193359</td><td>GALAXY</td><td>131074</td><td>0.03929078951478</td><td>1.0</td><td>703076</td><td>0.001325465889562678</td><td>1413.6713646724643</td><td>391.4435717005969</td><td>4.6475050409402765e-07</td><td>1942.4151035365376</td><td>0.26838979825408504</td><td>206.10468823452675</td><td>0.9242751926181327</td><td>19.145237536837904</td><td>-22.38730133601279</td><td>4.861320977332693e+36</td><td>3.26272556484694e-05</td><td>3.269993147240942e-05</td></tr>\n",
       "<tr><td>39628015889547872</td><td>150.157733647902</td><td>9.50824685205413</td><td>20220113</td><td>0.286336493872942</td><td>9.55255290452772e-05</td><td>0</td><td>4.72777128219604</td><td>18.5015392303467</td><td>42.0057830810547</td><td>GALAXY</td><td>131074</td><td>0.0417047068476677</td><td>4.0</td><td>703076</td><td>0.001325465889562678</td><td>1413.6713646724643</td><td>391.4435717005969</td><td>4.6475050409402765e-07</td><td>1456.8792294552545</td><td>0.4062898550141651</td><td>148.93152680603043</td><td>0.9198144399110084</td><td>19.241230905616508</td><td>-21.66647331479525</td><td>2.5027823787635974e+36</td><td>1.6844363150197135e-05</td><td>1.6832796927178336e-05</td></tr>\n",
       "<tr><td>39628015885356767</td><td>150.059114207401</td><td>9.46358622978681</td><td>20220113</td><td>0.367720700809151</td><td>1.29024434107988e-05</td><td>0</td><td>7.07731580734253</td><td>16.1731739044189</td><td>27.0104961395264</td><td>GALAXY</td><td>131074</td><td>0.0393442809581757</td><td>1.0</td><td>703076</td><td>0.001325465889562678</td><td>1413.6713646724643</td><td>391.4435717005969</td><td>4.6475050409402765e-07</td><td>1946.3804761956428</td><td>0.05487330366223161</td><td>206.58378832806835</td><td>0.9241761101296421</td><td>19.39239870366409</td><td>-22.14457025181267</td><td>3.887423568908617e+36</td><td>2.6090325805255807e-05</td><td>2.6148988463482382e-05</td></tr>\n",
       "<tr><td>39628015885355510</td><td>149.999273619651</td><td>9.47155615272884</td><td>20220113</td><td>0.226518883531726</td><td>8.47781461792303e-06</td><td>0</td><td>8.31970977783203</td><td>17.1523151397705</td><td>30.0975227355957</td><td>GALAXY</td><td>131074</td><td>0.0359519720077515</td><td>0.67070198059082</td><td>703076</td><td>0.001325465889562678</td><td>1413.6713646724643</td><td>391.4435717005969</td><td>4.6475050409402765e-07</td><td>1116.414510118312</td><td>0.03605550593908233</td><td>110.77724109704671</td><td>0.9304807731154824</td><td>19.33596164044689</td><td>-20.993519931600837</td><td>1.346609690181684e+36</td><td>9.047172978234143e-06</td><td>9.055936826911118e-06</td></tr>\n",
       "<tr><td>39628009921057991</td><td>150.115103485439</td><td>9.35172821843265</td><td>20220113</td><td>0.255901115526701</td><td>7.79196620292618e-05</td><td>0</td><td>4.72585391998291</td><td>17.6568298339844</td><td>36.421501159668</td><td>GALAXY</td><td>131074</td><td>0.0421106144785881</td><td>4.0</td><td>703076</td><td>0.001325465889562678</td><td>1413.6713646724643</td><td>391.4435717005969</td><td>4.6475050409402765e-07</td><td>1281.507847816482</td><td>0.3314040048532316</td><td>129.06366634566314</td><td>0.9190664678582765</td><td>19.291085473986108</td><td>-21.337995066764975</td><td>1.84940398626001e+36</td><td>1.2439491330217941e-05</td><td>1.2437800051885493e-05</td></tr>\n",
       "<tr><td>39628015885356697</td><td>150.056728524058</td><td>9.49339213569857</td><td>20220113</td><td>0.306393595644253</td><td>1.39032414838295e-05</td><td>0</td><td>13.6409044265747</td><td>32.4617118835449</td><td>66.1757965087891</td><td>GALAXY</td><td>131074</td><td>0.0388548634946346</td><td>1.0</td><td>703076</td><td>0.001325465889562678</td><td>1413.6713646724643</td><td>391.4435717005969</td><td>4.6475050409402765e-07</td><td>1574.796421794026</td><td>0.05912968188265777</td><td>162.53357853457518</td><td>0.925083056866795</td><td>18.637023269994256</td><td>-22.439752813856988</td><td>5.101934611613413e+36</td><td>3.43121059055668e-05</td><td>3.431488070472277e-05</td></tr>\n",
       "<tr><td>39628015889547957</td><td>150.162733708514</td><td>9.43087093439204</td><td>20220113</td><td>0.359363136324781</td><td>2.56085715702527e-05</td><td>0</td><td>6.32288360595703</td><td>18.6155967712402</td><td>36.6174125671387</td><td>GALAXY</td><td>131074</td><td>0.044047836214304</td><td>1.0</td><td>703076</td><td>0.001325465889562678</td><td>1413.6713646724643</td><td>391.4435717005969</td><td>4.6475050409402765e-07</td><td>1894.792145788804</td><td>0.10891274659726671</td><td>200.3655096978049</td><td>0.915505090286978</td><td>19.229459500363475</td><td>-22.249157191929555</td><td>4.2805210732734326e+36</td><td>2.873610544650237e-05</td><td>2.879276444429566e-05</td></tr>\n",
       "<tr><td>...</td><td>...</td><td>...</td><td>...</td><td>...</td><td>...</td><td>...</td><td>...</td><td>...</td><td>...</td><td>...</td><td>...</td><td>...</td><td>...</td><td>...</td><td>...</td><td>...</td><td>...</td><td>...</td><td>...</td><td>...</td><td>...</td><td>...</td><td>...</td><td>...</td><td>...</td><td>...</td><td>...</td></tr>\n",
       "<tr><td>39627915104620712</td><td>217.308348785809</td><td>5.26700103989713</td><td>20220127</td><td>0.148076836200061</td><td>6.84355257658071e-06</td><td>0</td><td>54.5666351318359</td><td>91.7334213256836</td><td>137.83625793457</td><td>GALAXY</td><td>131074</td><td>0.028926769271493</td><td>3.35272359848022</td><td>2653</td><td>3.988140516801217e-06</td><td>777.4839902361897</td><td>437.89697748785807</td><td>1.2592328722667683e-06</td><td>697.1155215398753</td><td>0.029105076479115838</td><td>66.33026578734392</td><td>0.9436743269014838</td><td>17.530736371497476</td><td>-21.775762864211224</td><td>2.767826788615778e+36</td><td>5.6039236543181754e-08</td><td>5.599915658827016e-08</td></tr>\n",
       "<tr><td>39627915104620360</td><td>217.291667087741</td><td>5.25535934633781</td><td>20220313</td><td>0.159861893403288</td><td>1.48311032138009e-05</td><td>0</td><td>19.0638580322266</td><td>41.8026351928711</td><td>77.4616317749023</td><td>GALAXY</td><td>131074</td><td>0.0293024368584156</td><td>1.77640509605408</td><td>2653</td><td>3.988140516801217e-06</td><td>777.4839902361897</td><td>437.89697748785807</td><td>1.2592328722667683e-06</td><td>758.038760923051</td><td>0.06307586881740204</td><td>72.59828582982189</td><td>0.9429641002652231</td><td>18.383228747166065</td><td>-21.105266256678618</td><td>1.4925890986149493e+36</td><td>3.02305486726344e-08</td><td>3.019883791991814e-08</td></tr>\n",
       "<tr><td>39627915104620302</td><td>217.289339870144</td><td>5.19941938502697</td><td>20220127</td><td>0.159140377432309</td><td>6.71854618846895e-05</td><td>0</td><td>24.3185958862305</td><td>67.3172988891602</td><td>127.050491333008</td><td>GALAXY</td><td>131074</td><td>0.0302073247730732</td><td>4.0</td><td>2653</td><td>3.988140516801217e-06</td><td>777.4839902361897</td><td>437.89697748785807</td><td>1.2592328722667683e-06</td><td>754.2872290805178</td><td>0.28574750174451724</td><td>72.21035711630664</td><td>0.94125553815797</td><td>17.86395215739363</td><td>-21.61376578763873</td><td>2.3841856940770366e+36</td><td>4.828769704215517e-08</td><td>4.8238032798512824e-08</td></tr>\n",
       "<tr><td>39627915104620254</td><td>217.287201852298</td><td>5.37448793156802</td><td>20210603</td><td>0.11269225591509</td><td>2.35986176778137e-05</td><td>0</td><td>25.2491760253906</td><td>53.0073852539062</td><td>90.8597106933594</td><td>GALAXY</td><td>131074</td><td>0.0293787010014057</td><td>0.731212258338928</td><td>2653</td><td>3.988140516801217e-06</td><td>777.4839902361897</td><td>437.89697748785807</td><td>1.2592328722667683e-06</td><td>518.8020077696665</td><td>0.1003642986457305</td><td>48.38668759991984</td><td>0.9428199826939636</td><td>18.125230991884308</td><td>-20.539553106233186</td><td>8.864515529327407e+35</td><td>1.7928977773606137e-08</td><td>1.793395175572467e-08</td></tr>\n",
       "<tr><td>39627915104620236</td><td>217.286145096484</td><td>5.17601277306926</td><td>20210603</td><td>0.220879140288168</td><td>7.78709722036544e-05</td><td>0</td><td>10.3884010314941</td><td>31.549560546875</td><td>62.4726524353027</td><td>GALAXY</td><td>131074</td><td>0.0308890528976917</td><td>1.96071231365204</td><td>2653</td><td>3.988140516801217e-06</td><td>777.4839902361897</td><td>437.89697748785807</td><td>1.2592328722667683e-06</td><td>1085.2118837346184</td><td>0.3311969074195449</td><td>107.3686081300524</td><td>0.9399703797188471</td><td>18.68530213503429</td><td>-21.582600415139353</td><td>2.3167220315334222e+36</td><td>4.6847410659681886e-08</td><td>4.6877416844111905e-08</td></tr>\n",
       "<tr><td>39627915104619484</td><td>217.2533353931</td><td>5.18579668577092</td><td>20220323</td><td>0.145892550605883</td><td>8.08233892769623e-06</td><td>0</td><td>38.7611923217773</td><td>73.6504974365234</td><td>121.866958618164</td><td>GALAXY</td><td>131074</td><td>0.0307306852191687</td><td>1.0</td><td>2653</td><td>3.988140516801217e-06</td><td>777.4839902361897</td><td>437.89697748785807</td><td>1.2592328722667683e-06</td><td>685.9069130384578</td><td>0.03437356729316486</td><td>65.1845243431941</td><td>0.9402687696837625</td><td>17.76519081791369</td><td>-21.50609875767313</td><td>2.1591025272248064e+36</td><td>4.371176825233756e-08</td><td>4.3683204016239084e-08</td></tr>\n",
       "<tr><td>39627915104620043</td><td>217.278680443721</td><td>5.13458357704669</td><td>20210603</td><td>0.145324501379389</td><td>2.09220470444723e-05</td><td>0</td><td>18.6501960754395</td><td>35.6828651428223</td><td>57.2168579101562</td><td>GALAXY</td><td>131074</td><td>0.0319710597395897</td><td>1.0</td><td>2653</td><td>3.988140516801217e-06</td><td>777.4839902361897</td><td>437.89697748785807</td><td>1.2592328722667683e-06</td><td>682.9962665156755</td><td>0.08898073258157287</td><td>64.88738096115755</td><td>0.9379342382824033</td><td>18.54928167744821</td><td>-20.712770567318255</td><td>1.0397812689469159e+36</td><td>2.1050371817124547e-08</td><td>2.1036953937130052e-08</td></tr>\n",
       "<tr><td>39627915104619888</td><td>217.271773660659</td><td>5.21576150275939</td><td>20220127</td><td>0.184375289591984</td><td>5.60160240295108e-05</td><td>0</td><td>8.65399169921875</td><td>25.5480060577393</td><td>50.7039985656738</td><td>GALAXY</td><td>131074</td><td>0.0299728959798813</td><td>5.84428644180298</td><td>2653</td><td>3.988140516801217e-06</td><td>777.4839902361897</td><td>437.89697748785807</td><td>1.2592328722667683e-06</td><td>887.1484250475421</td><td>0.23824056647789868</td><td>86.1014915364538</td><td>0.9416978770184884</td><td>18.916386452191777</td><td>-20.913756485276433</td><td>1.2512277185672718e+36</td><td>2.532914772498058e-08</td><td>2.53164029945009e-08</td></tr>\n",
       "<tr><td>39627915104619750</td><td>217.266193760451</td><td>5.35737165710711</td><td>20220127</td><td>0.148126700996483</td><td>3.9186328188901e-05</td><td>0</td><td>36.4885749816895</td><td>97.3239517211914</td><td>195.606918334961</td><td>GALAXY</td><td>131074</td><td>0.029294004663825</td><td>6.0</td><td>2653</td><td>3.988140516801217e-06</td><td>777.4839902361897</td><td>437.89697748785807</td><td>1.2592328722667683e-06</td><td>697.3717064692569</td><td>0.16666040283330108</td><td>66.35648021882453</td><td>0.9429800360707047</td><td>17.465706909305865</td><td>-21.841590448782128</td><td>2.9408301499048435e+36</td><td>5.9542064345315274e-08</td><td>5.949939516379427e-08</td></tr>\n",
       "<tr><td>39627848754922898</td><td>216.318562137073</td><td>2.59937217894041</td><td>20220304</td><td>0.164620701568932</td><td>1.34131954969442e-05</td><td>0</td><td>7.49935865402222</td><td>15.7960958480835</td><td>26.3078727722168</td><td>GALAXY</td><td>131074</td><td>0.0379493236541748</td><td>1.0</td><td>2653</td><td>3.988140516801217e-06</td><td>777.4839902361897</td><td>437.89697748785807</td><td>1.2592328722667683e-06</td><td>782.8524493009106</td><td>0.057045523314376734</td><td>75.17054721002538</td><td>0.9267634736517081</td><td>19.421047870980473</td><td>-20.137414299774065</td><td>6.120677296624231e+35</td><td>1.2397676145053832e-08</td><td>1.2383758081645836e-08</td></tr>\n",
       "</table></div>"
      ],
      "text/plain": [
       "<Table length=973759>\n",
       "     TARGETID        TARGET_RA     ...        P_GAL_C        \n",
       "                                   ...                       \n",
       "      int64           float64      ...        float64        \n",
       "----------------- ---------------- ... ----------------------\n",
       "39628015885355689 150.007843278908 ...  3.857557866750903e-05\n",
       "39628015885357096 150.073471593864 ...  4.383373703425921e-05\n",
       "39628015885357259 150.082156831908 ...  3.269993147240942e-05\n",
       "39628015889547872 150.157733647902 ... 1.6832796927178336e-05\n",
       "39628015885356767 150.059114207401 ... 2.6148988463482382e-05\n",
       "39628015885355510 149.999273619651 ...  9.055936826911118e-06\n",
       "39628009921057991 150.115103485439 ... 1.2437800051885493e-05\n",
       "39628015885356697 150.056728524058 ...  3.431488070472277e-05\n",
       "39628015889547957 150.162733708514 ...  2.879276444429566e-05\n",
       "              ...              ... ...                    ...\n",
       "39627915104620712 217.308348785809 ...  5.599915658827016e-08\n",
       "39627915104620360 217.291667087741 ...  3.019883791991814e-08\n",
       "39627915104620302 217.289339870144 ... 4.8238032798512824e-08\n",
       "39627915104620254 217.287201852298 ...  1.793395175572467e-08\n",
       "39627915104620236 217.286145096484 ... 4.6877416844111905e-08\n",
       "39627915104619484   217.2533353931 ... 4.3683204016239084e-08\n",
       "39627915104620043 217.278680443721 ... 2.1036953937130052e-08\n",
       "39627915104619888 217.271773660659 ...   2.53164029945009e-08\n",
       "39627915104619750 217.266193760451 ...  5.949939516379427e-08\n",
       "39627848754922898 216.318562137073 ... 1.2383758081645836e-08"
      ]
     },
     "execution_count": 71,
     "metadata": {},
     "output_type": "execute_result"
    }
   ],
   "source": [
    "data_f[:]"
   ]
  },
  {
   "cell_type": "markdown",
   "metadata": {
    "tags": []
   },
   "source": [
    "## Analyse the data: How much luminosity do we cover? Which galaxies should we observe?\n",
    "\n",
    "Lets look into what information we can retrieve from here. First we define, how many galaxies we could observe (N_galaxies).\n",
    "\n",
    "We then calculate the luminosity (lum) from all the galaxies in this area, i.e. the total luminosity. From there do some comparison between the covered luminosity and total luminosity depending on the ranking by probability:\n",
    "- simple \"Maximum lum that could be covered\" by looking at the brightest galaxies\n",
    "- Calculate the probability this way (done above) (from https://arxiv.org/pdf/1710.05452.pdf w/o normalization), both using a static and variable distance and error: $$P_{gal} = k^{-1}\\tilde{L_z}(1-f_{missed})\\cdot P_{2D}\\left(1-\\text{erf}\\left(\\frac{|D_{Gal}-D_{LVC}|}{\\sigma_{D,gal}^{2}+\\sigma_{D,LVC}^{2}+\\sigma_{D,cosmology}^{2}}\\right)\\right)$$\n",
    "- others may follow...\n",
    "\n",
    "Since we have the actual luminosity (here in r-band though), we don't need to again calculate the $$\\tilde{L}_{gal}$$ values. In the mentioned paper, they only use a fixed distance and error for the LIGO data. I will try both, to get an idea what the differences are."
   ]
  },
  {
   "cell_type": "code",
   "execution_count": 72,
   "metadata": {},
   "outputs": [],
   "source": [
    "N_galaxies = 200 # how many galaxies we can cover"
   ]
  },
  {
   "cell_type": "code",
   "execution_count": 73,
   "metadata": {},
   "outputs": [],
   "source": [
    "total_lum = np.sum(data_f[\"LUM_R\"])"
   ]
  },
  {
   "cell_type": "markdown",
   "metadata": {
    "tags": []
   },
   "source": [
    "### Compare lum with luminosity ranking\n",
    "\n",
    "https://iopscience.iop.org/article/10.3847/0067-0049/226/1/10"
   ]
  },
  {
   "cell_type": "code",
   "execution_count": 74,
   "metadata": {},
   "outputs": [],
   "source": [
    "data_sort_by_lums = data_f.group_by(\"LUM_R\")\n",
    "data_sort_by_lums = data_sort_by_lums[::-1]"
   ]
  },
  {
   "cell_type": "code",
   "execution_count": 75,
   "metadata": {},
   "outputs": [],
   "source": [
    "lum_after_N_highest = np.sum(data_sort_by_lums[\"LUM_R\"][:N_galaxies])"
   ]
  },
  {
   "cell_type": "code",
   "execution_count": 76,
   "metadata": {},
   "outputs": [
    {
     "name": "stdout",
     "output_type": "stream",
     "text": [
      "The theoretical maximum luminosity we could cover is 5.137247857951115e+40, i.e. 1.6465299573612726 % of the total luminosity\n",
      "The TARGETID values of these galaxies are: \n",
      "      TARGETID    \n",
      "-----------------\n",
      "39632966992791807\n",
      "39633275865535641\n",
      "39632956913881776\n",
      "39633049826103549\n",
      "39633260686347178\n",
      "39633260636013725\n",
      "39628341443038500\n",
      "39633275894892167\n",
      "39633001704851064\n",
      "39633184295487333\n",
      "              ...\n",
      "39628199906249014\n",
      "39632957039710190\n",
      "39633011351748679\n",
      "39632961968016791\n",
      "39633343217664092\n",
      "39628307855054494\n",
      "39628482031915778\n",
      "39633275831977089\n",
      "39628428835553700\n",
      "39633006578633191\n",
      "39633279594269322\n",
      "Length = 200 rows\n"
     ]
    }
   ],
   "source": [
    "print(f\"The theoretical maximum luminosity we could cover is {lum_after_N_highest}, i.e. {lum_after_N_highest*100/total_lum} % of the total luminosity\")\n",
    "print(\"The TARGETID values of these galaxies are: \\n\", data_sort_by_lums[\"TARGETID\"][:N_galaxies])"
   ]
  },
  {
   "cell_type": "markdown",
   "metadata": {
    "tags": []
   },
   "source": [
    "### Compare lum with P_Gal ranking"
   ]
  },
  {
   "cell_type": "code",
   "execution_count": 77,
   "metadata": {},
   "outputs": [],
   "source": [
    "data_sort_by_PGal = data_f.group_by(\"P_GAL\")\n",
    "data_sort_by_PGal = data_sort_by_PGal[::-1]\n",
    "\n",
    "lum_after_N_PGal = np.sum(data_sort_by_PGal[\"LUM_R\"][:N_galaxies])"
   ]
  },
  {
   "cell_type": "code",
   "execution_count": 78,
   "metadata": {},
   "outputs": [
    {
     "name": "stdout",
     "output_type": "stream",
     "text": [
      "The maximum luminosity we cover when ranked by P_gal is 3.2032428895285863e+40, i.e. 1.0266655462516117% of the total luminosity\n",
      "The TARGETID values of these galaxies are: \n",
      "    TARGET_RA        TARGET_DEC    ...      TARGETID             P_GAL         \n",
      "---------------- ---------------- ... ----------------- ----------------------\n",
      "271.476659719351 30.3559718805515 ... 39628487287378587  0.0014520737772738385\n",
      "271.069028055204 35.8629430498743 ... 39632996898180271  0.0013263032640971266\n",
      "265.857944641287 25.9960447673049 ... 39628396564579048  0.0009920246683903398\n",
      "263.426014928104 22.8065935554236 ... 39628324925867780  0.0009361290204050026\n",
      " 279.03546892617 35.2949649789273 ... 39632987154809486  0.0009283532238255114\n",
      "271.440520469831 34.3112518948741 ... 39632967168951922  0.0008674861300933135\n",
      "272.495468636351  37.558329811266 ... 39633030901402666  0.0008616499368930134\n",
      "270.346868359302  33.400087370352 ... 39632952086234108  0.0008511917614739558\n",
      "279.109218965033 36.7455711697037 ... 39633016519133122  0.0007002727183661701\n",
      "252.565070775037 23.5885672863797 ... 39628341443038500   0.000622048269043035\n",
      "             ...              ... ...               ...                    ...\n",
      "270.303195578911 24.0690346353645 ... 39628352784439032 0.00012187687307071311\n",
      " 269.46873238325 33.4731081510647 ... 39632952073651474 0.00012141978425557805\n",
      "257.343747506488 12.8499220410779 ... 39628094767628754  0.0001214044882485558\n",
      "272.979786858965  38.271737182664 ... 39633045237536717 0.00012130657413632543\n",
      "244.778030282543 3.05993164076202 ... 39627861312668402 0.00012101045570357621\n",
      "265.439536614206 19.6984659749413 ... 39628257338853965 0.00012063868461679418\n",
      "260.968738012719  10.190051258742 ... 39628035586007679  0.0001198105598350156\n",
      "149.012191133622 7.65940628889657 ... 39627974030393926 0.00011954848100704791\n",
      "269.810346333257 29.1920510725387 ... 39628466261334573 0.00011943613794588761\n",
      "267.559374839663 21.9280993184215 ... 39628308219957399 0.00011925379204142556\n",
      "262.256359119579 13.9011599824113 ... 39628124249395542 0.00011909292353901588\n",
      "Length = 200 rows\n"
     ]
    }
   ],
   "source": [
    "print(f\"The maximum luminosity we cover when ranked by P_gal is {lum_after_N_PGal}, i.e. {lum_after_N_PGal*100/total_lum}% of the total luminosity\") \n",
    "print(\"The TARGETID values of these galaxies are: \\n\", data_sort_by_PGal[\"TARGET_RA\", \"TARGET_DEC\", \"SERSIC\", \"TARGETID\", \"P_GAL\"][:N_galaxies])"
   ]
  },
  {
   "cell_type": "code",
   "execution_count": 79,
   "metadata": {},
   "outputs": [],
   "source": [
    "data_sort_by_PGal_C = data_f.group_by(\"P_GAL_C\")\n",
    "data_sort_by_PGal_C = data_sort_by_PGal_C[::-1]\n",
    "\n",
    "lum_after_N_PGal_C = np.sum(data_sort_by_PGal_C[\"LUM_R\"][:N_galaxies])"
   ]
  },
  {
   "cell_type": "code",
   "execution_count": 80,
   "metadata": {},
   "outputs": [
    {
     "name": "stdout",
     "output_type": "stream",
     "text": [
      "The maximum luminosity we cover when ranked by P_gal_C is 3.2032428895285863e+40, i.e. 1.0266655462516117% of the total luminosity\n",
      "The TARGETID values of these galaxies are: \n",
      "      TARGETID             P_GAL         \n",
      "----------------- ----------------------\n",
      "39628487287378587  0.0014520737772738385\n",
      "39632996898180271  0.0013263032640971266\n",
      "39628396564579048  0.0009920246683903398\n",
      "39628324925867780  0.0009361290204050026\n",
      "39632987154809486  0.0009283532238255114\n",
      "39632967168951922  0.0008674861300933135\n",
      "39633030901402666  0.0008616499368930134\n",
      "39632952086234108  0.0008511917614739558\n",
      "39633016519133122  0.0007002727183661701\n",
      "39628341443038500   0.000622048269043035\n",
      "              ...                    ...\n",
      "39628352784439032 0.00012187687307071311\n",
      "39628094767628754  0.0001214044882485558\n",
      "39632952073651474 0.00012141978425557805\n",
      "39633045237536717 0.00012130657413632543\n",
      "39627861312668402 0.00012101045570357621\n",
      "39628257338853965 0.00012063868461679418\n",
      "39628035586007679  0.0001198105598350156\n",
      "39627974030393926 0.00011954848100704791\n",
      "39628466261334573 0.00011943613794588761\n",
      "39628308219957399 0.00011925379204142556\n",
      "39628124249395542 0.00011909292353901588\n",
      "Length = 200 rows\n"
     ]
    }
   ],
   "source": [
    "print(f\"The maximum luminosity we cover when ranked by P_gal_C is {lum_after_N_PGal_C}, i.e. {lum_after_N_PGal_C*100/total_lum}% of the total luminosity\") \n",
    "print(\"The TARGETID values of these galaxies are: \\n\", data_sort_by_PGal_C[\"TARGETID\", \"P_GAL\"][:N_galaxies])"
   ]
  },
  {
   "cell_type": "markdown",
   "metadata": {
    "tags": []
   },
   "source": [
    "## Now lets do some final steps, including exporting the list\n",
    "\n",
    "We want to cut out galaxies that are not observable by Wendelstein. For this we need the date (to calculate alt and az; we do this for three times to check observability) and Wendelstein location."
   ]
  },
  {
   "cell_type": "code",
   "execution_count": 81,
   "metadata": {},
   "outputs": [],
   "source": [
    "from astropy.coordinates import SkyCoord, EarthLocation, AltAz\n",
    "\n",
    "from datetime import datetime\n",
    "from suntimes import SunTimes\n",
    "\n",
    "#date\n",
    "day = datetime(2023,1,6)\n",
    "\n",
    "def conv_to_deg(deg, arcmin, arcsec):\n",
    "    return (deg+ arcmin/60+ arcsec/3600)*u.deg\n",
    "Wendelstein_loc = EarthLocation(lat = conv_to_deg(47, 42, 13.1), lon = conv_to_deg(12, 0, 43.4), height = 1838*u.m)"
   ]
  },
  {
   "cell_type": "code",
   "execution_count": 82,
   "metadata": {},
   "outputs": [
    {
     "data": {
      "text/plain": [
       "datetime.datetime(2023, 1, 6, 3, 6)"
      ]
     },
     "execution_count": 82,
     "metadata": {},
     "output_type": "execute_result"
    }
   ],
   "source": [
    "sun = SunTimes(Wendelstein_loc.lat.to_value(), Wendelstein_loc.lon.to_value(), Wendelstein_loc.height.to_value())\n",
    "sun.riseutc(day)"
   ]
  },
  {
   "cell_type": "code",
   "execution_count": 83,
   "metadata": {},
   "outputs": [],
   "source": [
    "r = rq.get('https://api.sunrise-sunset.org/json', params={'lat': Wendelstein_loc.lat.to_value(), 'lng': Wendelstein_loc.lon.to_value()}).json()['results']"
   ]
  },
  {
   "cell_type": "code",
   "execution_count": 84,
   "metadata": {},
   "outputs": [
    {
     "data": {
      "text/plain": [
       "'3:13:23 AM'"
      ]
     },
     "execution_count": 84,
     "metadata": {},
     "output_type": "execute_result"
    }
   ],
   "source": [
    "r[\"sunrise\"]"
   ]
  },
  {
   "cell_type": "code",
   "execution_count": 85,
   "metadata": {},
   "outputs": [
    {
     "name": "stdout",
     "output_type": "stream",
     "text": [
      "These are the stats for S230606z follow up :\n"
     ]
    }
   ],
   "source": [
    "print(f\"These are the stats for {superevent_name} follow up :\")"
   ]
  },
  {
   "cell_type": "code",
   "execution_count": 86,
   "metadata": {},
   "outputs": [
    {
     "name": "stdout",
     "output_type": "stream",
     "text": [
      "Localization area: 13576.414004935838 deg2 \n",
      "Redshift range in data: 1.47823074756008e-08 to 1.22053343447484 \n",
      "corresponding lum distance range: 6.286763107143094e-05 Mpc2 to 8327.415045740601 Mpc2 \n",
      "highest prob location is at RA = 150.1171875 deg and dec = 9.442777526802821 deg \n",
      "total No. of objects in desi data is 973759\n"
     ]
    }
   ],
   "source": [
    "data_min_z = np.min(data_sort_by_PGal[\"Z\"])\n",
    "data_max_z = np.max(data_sort_by_PGal[\"Z\"])\n",
    "print(f\"Localization area: {area_99.to_value(u.deg**2)*u.deg**2} \\nRedshift range in data: {data_min_z} to {data_max_z} \\ncorresponding lum distance range: {data_min_dist*u.Mpc} to {data_max_dist*u.Mpc} \\nhighest prob location is at RA = {ra.deg*u.deg} and dec = {dec.deg*u.deg} \\ntotal No. of objects in desi data is {len(data_sort_by_PGal)}\")\n"
   ]
  },
  {
   "cell_type": "code",
   "execution_count": 87,
   "metadata": {},
   "outputs": [],
   "source": [
    "data_sort_by_PGal[\"TARGET_RA\", \"TARGET_DEC\", \"SERSIC\", \"Z\", \"P_GAL\"][:N_galaxies].write(f'PGAL/PGAL_{superevent_name}.ecsv', delimiter=',', format='ascii', overwrite = True)"
   ]
  },
  {
   "cell_type": "code",
   "execution_count": 88,
   "metadata": {},
   "outputs": [],
   "source": [
    "# add timing data to table, "
   ]
  }
 ],
 "metadata": {
  "kernelspec": {
   "display_name": "Python (MambaTest)",
   "language": "python",
   "name": "mambatest"
  },
  "language_info": {
   "codemirror_mode": {
    "name": "ipython",
    "version": 3
   },
   "file_extension": ".py",
   "mimetype": "text/x-python",
   "name": "python",
   "nbconvert_exporter": "python",
   "pygments_lexer": "ipython3",
   "version": "3.10.10"
  }
 },
 "nbformat": 4,
 "nbformat_minor": 4
}
