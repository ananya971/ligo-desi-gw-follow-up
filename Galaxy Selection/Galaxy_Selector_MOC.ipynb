{
 "cells": [
  {
   "cell_type": "markdown",
   "metadata": {},
   "source": [
    "# Galaxy Selector MOC\n",
    "\n",
    "**Compared to the \"Simple Galaxy Selector, this works with Multi-Ordering-Sky-Maps**\n",
    "\n",
    "\n",
    "***NOTE (this note may be wrong, just copied from old notebook)***: Before anything can happen, download the GW event localization map. Open the terminal and type:\n",
    "\"curl -O https://gracedb.ligo.org/api/superevents/sid/files/bayestar.fits,0\"\n",
    "with sid = superevent ID (could be incorporated into this notebook)\n",
    "\n",
    "Select the galaxies to observe by WWFI in this simple manner:\n",
    "- get the LIGO event data\n",
    "- read the LIGO event data into the notebook, extract some information\n",
    "- read the DESI database into the notebook, \"clean\" the data\n",
    "- get the 90% credible regions for the event, add them as a column to the data\n",
    "- only keep data within the 90% region\n",
    "- calculate all the luminosities (& more)\n",
    "- rank them by luminosity (for now just print the TARGETID), 3D/2D localization and with a luminosity-distance 2D dependant counterpart likelihood\n",
    "\n",
    "Sources: \n",
    "- https://iopscience.iop.org/article/10.3847/0067-0049/226/1/10\n",
    "- https://emfollow.docs.ligo.org/userguide/tutorial/skymaps.html\n",
    "- https://emfollow.docs.ligo.org/userguide/tutorial/multiorder_skymaps.html\n",
    "- https://arxiv.org/pdf/1710.05452.pdf"
   ]
  },
  {
   "cell_type": "markdown",
   "metadata": {
    "tags": []
   },
   "source": [
    "## Import all libraries, load GW data and DESI data and extract basic info"
   ]
  },
  {
   "cell_type": "markdown",
   "metadata": {
    "tags": []
   },
   "source": [
    "### imports, GW data loading"
   ]
  },
  {
   "cell_type": "code",
   "execution_count": 1,
   "metadata": {},
   "outputs": [],
   "source": [
    "import numpy as np\n",
    "from scipy.stats import norm\n",
    "import scipy as sc\n",
    "\n",
    "from astropy.io import fits, ascii\n",
    "from astropy.table import Table, hstack\n",
    "from astropy import table\n",
    "\n",
    "import healpy as hp\n",
    "import astropy_healpix as ah\n",
    "\n",
    "from astropy.table import QTable\n",
    "\n",
    "import psycopg2\n",
    "\n",
    "from scipy.stats import norm\n",
    "\n",
    "\n",
    "from astropy.cosmology import Planck18, z_at_value\n",
    "from astropy.coordinates import Distance, SkyCoord\n",
    "from astropy import units as u\n",
    "\n",
    "import astropy.constants as asc\n",
    "\n",
    "import matplotlib.pyplot as plt\n",
    "\n",
    "import gasel as gs"
   ]
  },
  {
   "cell_type": "markdown",
   "metadata": {},
   "source": [
    "Specifiy the path where the data is located and then load the data (this loads everything, just have a look)"
   ]
  },
  {
   "cell_type": "code",
   "execution_count": 2,
   "metadata": {},
   "outputs": [
    {
     "data": {
      "text/html": [
       "<div><i>QTable length=5</i>\n",
       "<table id=\"table139965606273536\" class=\"table-striped table-bordered table-condensed\">\n",
       "<thead><tr><th>UNIQ</th><th>PROBDENSITY</th><th>DISTMU</th><th>DISTSIGMA</th><th>DISTNORM</th></tr></thead>\n",
       "<thead><tr><th></th><th>1 / sr</th><th>Mpc</th><th>Mpc</th><th>1 / Mpc2</th></tr></thead>\n",
       "<thead><tr><th>int64</th><th>float64</th><th>float64</th><th>float64</th><th>float64</th></tr></thead>\n",
       "<tr><td>1070</td><td>0.025102307158691887</td><td>1056.8693638771251</td><td>477.5750352152896</td><td>7.438482137484406e-07</td></tr>\n",
       "<tr><td>1071</td><td>0.02146924958653858</td><td>1002.8049243502378</td><td>453.6163338562323</td><td>8.259288240366145e-07</td></tr>\n",
       "<tr><td>1079</td><td>0.028719740292960014</td><td>1105.8403948495118</td><td>499.16954450010587</td><td>6.796689961007796e-07</td></tr>\n",
       "<tr><td>1080</td><td>0.027035018766381314</td><td>1083.7831797972703</td><td>489.2770753376015</td><td>7.075848942846563e-07</td></tr>\n",
       "<tr><td>1081</td><td>0.023985301491187418</td><td>1040.9304365221444</td><td>470.42485686691833</td><td>7.667739954604647e-07</td></tr>\n",
       "</table></div>"
      ],
      "text/plain": [
       "<QTable length=5>\n",
       " UNIQ     PROBDENSITY      ...     DISTSIGMA             DISTNORM      \n",
       "             1 / sr        ...        Mpc                1 / Mpc2      \n",
       "int64       float64        ...      float64              float64       \n",
       "----- -------------------- ... ------------------ ---------------------\n",
       " 1070 0.025102307158691887 ...  477.5750352152896 7.438482137484406e-07\n",
       " 1071  0.02146924958653858 ...  453.6163338562323 8.259288240366145e-07\n",
       " 1079 0.028719740292960014 ... 499.16954450010587 6.796689961007796e-07\n",
       " 1080 0.027035018766381314 ...  489.2770753376015 7.075848942846563e-07\n",
       " 1081 0.023985301491187418 ... 470.42485686691833 7.667739954604647e-07"
      ]
     },
     "execution_count": 2,
     "metadata": {},
     "output_type": "execute_result"
    }
   ],
   "source": [
    "path = \"/global/homes/j/jgassert/ligo-desi-gw-follow-up/Galaxy Selection/Files/S230524bbayestar.multiorder.fits,1\"\n",
    "skymap = QTable.read(path)\n",
    "\n",
    "skymap[:5]"
   ]
  },
  {
   "cell_type": "markdown",
   "metadata": {
    "tags": []
   },
   "source": [
    "### Get basic values from GW event\n",
    "\n",
    "We now extract some basic information  from the healpix data:\n",
    "- ipix_max: pixel with highest likelihood\n",
    "- npix: total number of pixels\n",
    "- ra, dec: ra and dec of the pixel with the highest likelihood\n",
    "\n",
    "Then we open the full fits file and extract some more basic info from the header:\n",
    "- dist_mean: mean distance of the GW event\n",
    "- dist_std: error of the distance"
   ]
  },
  {
   "cell_type": "code",
   "execution_count": 3,
   "metadata": {},
   "outputs": [
    {
     "name": "stdout",
     "output_type": "stream",
     "text": [
      "UNIQ ID of highest prob sky localization:  25756\n"
     ]
    }
   ],
   "source": [
    "# most probable sky location\n",
    "i = np.argmax(skymap[\"PROBDENSITY\"])\n",
    "uniq = skymap[i][\"UNIQ\"]\n",
    "print(\"UNIQ ID of highest prob sky localization: \", uniq)"
   ]
  },
  {
   "cell_type": "code",
   "execution_count": 4,
   "metadata": {},
   "outputs": [
    {
     "name": "stdout",
     "output_type": "stream",
     "text": [
      "Highest probability at (RA, dec):  244.68749999999997 30.69158768492234 with prob [1/deg^2] of:  8.254542655096076e-05 and UNIQ ID:  25756\n"
     ]
    }
   ],
   "source": [
    "# calculate the most probable pixel, convert to RA and dec\n",
    "level_max, ipix_max = ah.uniq_to_level_ipix(uniq)\n",
    "nside = ah.level_to_nside(level_max)\n",
    "ra, dec = ah.healpix_to_lonlat(ipix_max, nside, order = \"nested\")\n",
    "print(\"Highest probability at (RA, dec): \", ra.deg, dec.deg, \"with prob [1/deg^2] of: \", skymap[i]['PROBDENSITY'].to_value(u.deg**-2), \"and UNIQ ID: \", skymap[i][\"UNIQ\"])"
   ]
  },
  {
   "cell_type": "markdown",
   "metadata": {},
   "source": [
    "Now open the fits file and read basics info from the header"
   ]
  },
  {
   "cell_type": "code",
   "execution_count": 5,
   "metadata": {},
   "outputs": [
    {
     "name": "stdout",
     "output_type": "stream",
     "text": [
      "The dist_mean and dist_std values:  2436.6948033422 Mpc 890.9650450387676 Mpc\n"
     ]
    }
   ],
   "source": [
    "fits_gw = fits.open(path)\n",
    "header = fits_gw[1].header\n",
    "dist_mean = header[\"DISTMEAN\"]\n",
    "dist_std = header[\"DISTSTD\"]\n",
    "print(\"The dist_mean and dist_std values: \", dist_mean*u.Mpc, dist_std*u.Mpc)"
   ]
  },
  {
   "cell_type": "code",
   "execution_count": 6,
   "metadata": {},
   "outputs": [],
   "source": [
    "# these values (924, 188Mpc) are close to z= 0.19, 0.03"
   ]
  },
  {
   "cell_type": "markdown",
   "metadata": {
    "tags": []
   },
   "source": [
    "### Get DESI data\n",
    "\n",
    "Load the full daily data from the file, which only includes good redshift objects"
   ]
  },
  {
   "cell_type": "code",
   "execution_count": 8,
   "metadata": {},
   "outputs": [],
   "source": [
    "desi_path = \"/global/homes/j/jgassert/data.ecsv\"\n",
    "data = ascii.read(desi_path)"
   ]
  },
  {
   "cell_type": "markdown",
   "metadata": {
    "tags": []
   },
   "source": [
    "## Do all the calculations, selections,...\n",
    "\n",
    "- turn the daily DESI data into a Table\n",
    "- do some basic data selection stuff: only keep good + positive redshifts, only positive values of z-band flux and eliminate duplicates (right now simply takes the first entry)\n",
    "- add the ipix (healpix) pixel value for each target\n",
    "- calculate the probability for each target\n",
    "- add these values to the Table (\"PROB\"), select only targets within the 90% credible region (i.e. with a certainty of 90% the GW event is inside this region)\n",
    "- calculate the distances and its errors from the redshift, add to the data table\n",
    "- calculate the 3D probability just like here: https://iopscience.iop.org/article/10.3847/0067-0049/226/1/10 (§4) and add these values to the table\n",
    "- sort the table by its 3D probability (descending)\n",
    "- calculate absolute and apparent magnitude, luminosity and add to table\n",
    "\n",
    "The final step is to include the calculation of the most likely host galaxy from https://arxiv.org/pdf/1710.05452.pdf (GW170817); these values are then also added to the table as \"P_GAL\""
   ]
  },
  {
   "cell_type": "code",
   "execution_count": 9,
   "metadata": {},
   "outputs": [
    {
     "data": {
      "text/html": [
       "<div><i>Table length=5</i>\n",
       "<table id=\"table139965606274928\" class=\"table-striped table-bordered table-condensed\">\n",
       "<thead><tr><th>TARGETID</th><th>TARGET_RA</th><th>TARGET_DEC</th><th>LASTNIGHT</th><th>Z</th><th>ZERR</th><th>ZWARN</th><th>FLUX_G</th><th>FLUX_R</th><th>FLUX_Z</th><th>SPECTYPE</th><th>BGS_TARGET</th><th>EBV</th><th>SERSIC</th></tr></thead>\n",
       "<thead><tr><th>int64</th><th>float64</th><th>float64</th><th>int64</th><th>float64</th><th>float64</th><th>int64</th><th>float64</th><th>float64</th><th>float64</th><th>str6</th><th>int64</th><th>float64</th><th>float64</th></tr></thead>\n",
       "<tr><td>-833389526</td><td>227.433272279891</td><td>66.6519046819295</td><td>20230427</td><td>1.1824834644376</td><td>9.79136990918098e-05</td><td>5</td><td>0.0</td><td>0.0</td><td>0.0</td><td>GALAXY</td><td>0</td><td>0.0290863439440727</td><td>0.0</td></tr>\n",
       "<tr><td>-833389518</td><td>228.204498084663</td><td>66.7769162408949</td><td>20230427</td><td>1.01705132530733</td><td>0.000198853226529452</td><td>5</td><td>0.0</td><td>0.0</td><td>0.0</td><td>GALAXY</td><td>0</td><td>0.0315619334578514</td><td>0.0</td></tr>\n",
       "<tr><td>-833389510</td><td>227.642453626374</td><td>66.7226250371644</td><td>20230427</td><td>1.20045807712059</td><td>0.000130270720806434</td><td>5</td><td>0.0</td><td>0.0</td><td>0.0</td><td>GALAXY</td><td>0</td><td>0.0310118906199932</td><td>0.0</td></tr>\n",
       "<tr><td>-833389492</td><td>227.755926256736</td><td>66.7768026589679</td><td>20230427</td><td>1.39280058555401</td><td>0.000191373523674881</td><td>2053</td><td>0.0</td><td>0.0</td><td>0.0</td><td>GALAXY</td><td>0</td><td>0.0316010527312756</td><td>0.0</td></tr>\n",
       "<tr><td>-833389491</td><td>227.851676937586</td><td>66.7933443247276</td><td>20230427</td><td>0.747688478964211</td><td>8.9141824351558e-05</td><td>5</td><td>0.0</td><td>0.0</td><td>0.0</td><td>GALAXY</td><td>0</td><td>0.0321089513599873</td><td>0.0</td></tr>\n",
       "</table></div>"
      ],
      "text/plain": [
       "<Table length=5>\n",
       " TARGETID     TARGET_RA        TARGET_DEC    ...        EBV          SERSIC\n",
       "  int64        float64          float64      ...      float64       float64\n",
       "---------- ---------------- ---------------- ... ------------------ -------\n",
       "-833389526 227.433272279891 66.6519046819295 ... 0.0290863439440727     0.0\n",
       "-833389518 228.204498084663 66.7769162408949 ... 0.0315619334578514     0.0\n",
       "-833389510 227.642453626374 66.7226250371644 ... 0.0310118906199932     0.0\n",
       "-833389492 227.755926256736 66.7768026589679 ... 0.0316010527312756     0.0\n",
       "-833389491 227.851676937586 66.7933443247276 ... 0.0321089513599873     0.0"
      ]
     },
     "execution_count": 9,
     "metadata": {},
     "output_type": "execute_result"
    }
   ],
   "source": [
    "data[:5]"
   ]
  },
  {
   "cell_type": "markdown",
   "metadata": {
    "tags": []
   },
   "source": [
    "### data clean up"
   ]
  },
  {
   "cell_type": "code",
   "execution_count": 10,
   "metadata": {},
   "outputs": [],
   "source": [
    "data = data[data[\"Z\"]> 0]\n",
    "data = data[data[\"ZWARN\"] == 0]"
   ]
  },
  {
   "cell_type": "code",
   "execution_count": 11,
   "metadata": {},
   "outputs": [],
   "source": [
    "data = data[data['FLUX_Z']>0]\n",
    "data = table.unique(data, keys = \"TARGETID\")"
   ]
  },
  {
   "cell_type": "code",
   "execution_count": 12,
   "metadata": {},
   "outputs": [
    {
     "name": "stdout",
     "output_type": "stream",
     "text": [
      "We have 25324419 objects in the full catalog\n"
     ]
    }
   ],
   "source": [
    "print(f\"We have {len(data)} objects in the full catalog\") "
   ]
  },
  {
   "cell_type": "markdown",
   "metadata": {
    "tags": []
   },
   "source": [
    "### Calculate the healpix id for every object in the catalog and its probability; append this data to the Table"
   ]
  },
  {
   "cell_type": "code",
   "execution_count": 13,
   "metadata": {},
   "outputs": [],
   "source": [
    "max_level = 29 # highest possible HEALPix resolution that can be represented in a 64-bit signed integer\n",
    "max_nside = ah.level_to_nside(max_level)\n",
    "level, ipix = ah.uniq_to_level_ipix(skymap[\"UNIQ\"])\n",
    "\n",
    "index = ipix*(2**(max_level-level))**2\n",
    "\n",
    "sorter = np.argsort(index)\n",
    "\n",
    "# this is the NESTED pixel index of the target sky location, NOT THE UNIQ ID\n",
    "match_ipix = ah.lonlat_to_healpix(data[\"TARGET_RA\"]*u.deg, data[\"TARGET_DEC\"]*u.deg, max_nside, order='nested')\n",
    "\n",
    "# here we get the pixel index (i.e. where the entry is in the table, also NOT THE UNIQ ID) of each target\n",
    "sorter_i = sorter[np.searchsorted(index, match_ipix, side='right', sorter=sorter) - 1]\n",
    "probdensity = skymap[sorter_i]['PROBDENSITY'].to_value(u.deg**-2)\n",
    "\n",
    "# now we calculate the UNIQ ID for all our targets:\n",
    "\n",
    "uniq = skymap[\"UNIQ\"][sorter_i]\n",
    "#to make things easier in future, I will now also append the UNIQ pixels DISTMU, DISTSIGMA and DISTNORM values. However, be careful, since these DO NOT CORRESPOND THE TARGETS IN DESI DIRECTLY!\n",
    "\n",
    "distmu = skymap[sorter_i][\"DISTMU\"]\n",
    "distsigma = skymap[sorter_i][\"DISTSIGMA\"]\n",
    "distnorm = skymap[sorter_i][\"DISTNORM\"]\n"
   ]
  },
  {
   "cell_type": "code",
   "execution_count": 14,
   "metadata": {},
   "outputs": [],
   "source": [
    "# len(UNIQ), len(data), len(skymap)"
   ]
  },
  {
   "cell_type": "code",
   "execution_count": 15,
   "metadata": {},
   "outputs": [],
   "source": [
    "#data = data.keep_columns([\"TARGETID\", \"TARGET_RA\", \"TARGET_DEC\", \"TILEID\", \"NIGHT\", \"Z\", \"ZERR\", \"ZWARN\", \"DELTACHI2\", \"FLUX_Z\", \"BGS_TARGET\", \"EBV\", \"SERSIC\", \"MWS_TARGET\", \"FILENAME\"])\n",
    "                          "
   ]
  },
  {
   "cell_type": "code",
   "execution_count": 16,
   "metadata": {},
   "outputs": [],
   "source": [
    "data = hstack([data, Table({\"UNIQ\": uniq}), Table({\"PROBDENSITY\": probdensity}), Table({\"DISTMU\": distmu}), Table({\"DISTSIGMA\": distsigma}), Table({\"DISTNORM\": distnorm})])"
   ]
  },
  {
   "cell_type": "code",
   "execution_count": 17,
   "metadata": {},
   "outputs": [
    {
     "data": {
      "text/html": [
       "<div><i>Table length=5</i>\n",
       "<table id=\"table139964464969328\" class=\"table-striped table-bordered table-condensed\">\n",
       "<thead><tr><th>TARGETID</th><th>TARGET_RA</th><th>TARGET_DEC</th><th>LASTNIGHT</th><th>Z</th><th>ZERR</th><th>ZWARN</th><th>FLUX_G</th><th>FLUX_R</th><th>FLUX_Z</th><th>SPECTYPE</th><th>BGS_TARGET</th><th>EBV</th><th>SERSIC</th><th>UNIQ</th><th>PROBDENSITY</th><th>DISTMU</th><th>DISTSIGMA</th><th>DISTNORM</th></tr></thead>\n",
       "<thead><tr><th></th><th></th><th></th><th></th><th></th><th></th><th></th><th></th><th></th><th></th><th></th><th></th><th></th><th></th><th></th><th></th><th>Mpc</th><th>Mpc</th><th>1 / Mpc2</th></tr></thead>\n",
       "<thead><tr><th>int64</th><th>float64</th><th>float64</th><th>int64</th><th>float64</th><th>float64</th><th>int64</th><th>float64</th><th>float64</th><th>float64</th><th>str6</th><th>int64</th><th>float64</th><th>float64</th><th>int64</th><th>float64</th><th>float64</th><th>float64</th><th>float64</th></tr></thead>\n",
       "<tr><td>39627267193704468</td><td>87.2931346460236</td><td>-21.8854203931447</td><td>20210116</td><td>1.54139764931006</td><td>6.51899837787448e-05</td><td>0</td><td>0.678932547569275</td><td>0.544187486171722</td><td>0.814229965209961</td><td>GALAXY</td><td>0</td><td>0.0382782742381096</td><td>1.0</td><td>37456</td><td>6.500068421559401e-05</td><td>2192.9073107829745</td><td>949.0797358089065</td><td>1.7520531310591857e-07</td></tr>\n",
       "<tr><td>39627267193707272</td><td>87.3699284683912</td><td>-21.8766676366579</td><td>20210116</td><td>1.25698383007386</td><td>0.000243185890649753</td><td>0</td><td>1.8541316986084</td><td>1.37864375114441</td><td>1.71930611133575</td><td>QSO</td><td>0</td><td>0.0393409058451653</td><td>0.0</td><td>37114</td><td>6.467447055460739e-05</td><td>2189.0538766222107</td><td>947.6387785479297</td><td>1.7580954426518166e-07</td></tr>\n",
       "<tr><td>39627267197895900</td><td>87.4762538649076</td><td>-21.8806878993573</td><td>20210116</td><td>0.126248515944835</td><td>1.06512530797224e-05</td><td>0</td><td>0.420664072036743</td><td>0.235325276851654</td><td>0.483817219734192</td><td>GALAXY</td><td>0</td><td>0.0426067262887955</td><td>0.0</td><td>37114</td><td>6.467447055460739e-05</td><td>2189.0538766222107</td><td>947.6387785479297</td><td>1.7580954426518166e-07</td></tr>\n",
       "<tr><td>39627267197896032</td><td>87.4794499851022</td><td>-21.9167919737848</td><td>20210116</td><td>1.53241656944708</td><td>0.000234283455894663</td><td>0</td><td>0.668777704238892</td><td>0.317722111940384</td><td>0.890449166297913</td><td>QSO</td><td>0</td><td>0.0414619110524654</td><td>0.0</td><td>37114</td><td>6.467447055460739e-05</td><td>2189.0538766222107</td><td>947.6387785479297</td><td>1.7580954426518166e-07</td></tr>\n",
       "<tr><td>39627267197896327</td><td>87.4883036183932</td><td>-21.9417798804529</td><td>20210116</td><td>1.45163923277157</td><td>0.000133357679299795</td><td>0</td><td>1.55398964881897</td><td>0.562485635280609</td><td>3.03630256652832</td><td>QSO</td><td>0</td><td>0.0413365438580513</td><td>0.0</td><td>37114</td><td>6.467447055460739e-05</td><td>2189.0538766222107</td><td>947.6387785479297</td><td>1.7580954426518166e-07</td></tr>\n",
       "</table></div>"
      ],
      "text/plain": [
       "<Table length=5>\n",
       "     TARGETID        TARGET_RA     ...     DISTSIGMA            DISTNORM       \n",
       "                                   ...        Mpc               1 / Mpc2       \n",
       "      int64           float64      ...      float64             float64        \n",
       "----------------- ---------------- ... ----------------- ----------------------\n",
       "39627267193704468 87.2931346460236 ... 949.0797358089065 1.7520531310591857e-07\n",
       "39627267193707272 87.3699284683912 ... 947.6387785479297 1.7580954426518166e-07\n",
       "39627267197895900 87.4762538649076 ... 947.6387785479297 1.7580954426518166e-07\n",
       "39627267197896032 87.4794499851022 ... 947.6387785479297 1.7580954426518166e-07\n",
       "39627267197896327 87.4883036183932 ... 947.6387785479297 1.7580954426518166e-07"
      ]
     },
     "execution_count": 17,
     "metadata": {},
     "output_type": "execute_result"
    }
   ],
   "source": [
    "data[:5]"
   ]
  },
  {
   "cell_type": "code",
   "execution_count": 18,
   "metadata": {},
   "outputs": [
    {
     "name": "stdout",
     "output_type": "stream",
     "text": [
      "The highest and lowest probability values in our catalog are: 6.142880107305406e-09 and 8.254542655096076e-05\n"
     ]
    }
   ],
   "source": [
    "print(f\"The highest and lowest probability values in our catalog are: {np.min(probdensity)} and {np.max(probdensity)}\")"
   ]
  },
  {
   "cell_type": "markdown",
   "metadata": {
    "tags": []
   },
   "source": [
    "### Sort the skymap table and get 90% credible region"
   ]
  },
  {
   "cell_type": "code",
   "execution_count": 19,
   "metadata": {},
   "outputs": [],
   "source": [
    "# copy the table\n",
    "skymap_sort = Table(skymap, copy = True)"
   ]
  },
  {
   "cell_type": "code",
   "execution_count": 20,
   "metadata": {},
   "outputs": [],
   "source": [
    "# check whether copy worked:\n",
    "# skymap_sort, skymap\n",
    "# np.max(skymap[\"UNIQ\"])"
   ]
  },
  {
   "cell_type": "code",
   "execution_count": 21,
   "metadata": {},
   "outputs": [],
   "source": [
    "# now sort the skymap by its probability (descending)\n",
    "skymap_sort.sort('PROBDENSITY', reverse=True)"
   ]
  },
  {
   "cell_type": "code",
   "execution_count": 22,
   "metadata": {},
   "outputs": [
    {
     "data": {
      "text/html": [
       "<div><i>Table length=5</i>\n",
       "<table id=\"table139964464971392\" class=\"table-striped table-bordered table-condensed\">\n",
       "<thead><tr><th>UNIQ</th><th>PROBDENSITY</th><th>DISTMU</th><th>DISTSIGMA</th><th>DISTNORM</th></tr></thead>\n",
       "<thead><tr><th></th><th>1 / sr</th><th>Mpc</th><th>Mpc</th><th>1 / Mpc2</th></tr></thead>\n",
       "<thead><tr><th>int64</th><th>float64</th><th>float64</th><th>float64</th><th>float64</th></tr></thead>\n",
       "<tr><td>25756</td><td>0.27098065044592196</td><td>2388.926527675562</td><td>1017.1124211340401</td><td>1.4838006844388912e-07</td></tr>\n",
       "<tr><td>51091</td><td>0.27097594525954255</td><td>2388.9101041000754</td><td>1017.1085537910616</td><td>1.4838197000286126e-07</td></tr>\n",
       "<tr><td>51097</td><td>0.2709669971211624</td><td>2388.8882395698406</td><td>1017.096493218224</td><td>1.483848082509022e-07</td></tr>\n",
       "<tr><td>25753</td><td>0.27096521425247183</td><td>2388.88375273842</td><td>1017.0932278035259</td><td>1.4838542576981302e-07</td></tr>\n",
       "<tr><td>51096</td><td>0.2709371553335126</td><td>2388.793100542863</td><td>1017.0650269219238</td><td>1.4839622686234683e-07</td></tr>\n",
       "</table></div>"
      ],
      "text/plain": [
       "<Table length=5>\n",
       " UNIQ     PROBDENSITY     ...     DISTSIGMA             DISTNORM       \n",
       "             1 / sr       ...        Mpc                1 / Mpc2       \n",
       "int64       float64       ...      float64              float64        \n",
       "----- ------------------- ... ------------------ ----------------------\n",
       "25756 0.27098065044592196 ... 1017.1124211340401 1.4838006844388912e-07\n",
       "51091 0.27097594525954255 ... 1017.1085537910616 1.4838197000286126e-07\n",
       "51097  0.2709669971211624 ...  1017.096493218224  1.483848082509022e-07\n",
       "25753 0.27096521425247183 ... 1017.0932278035259 1.4838542576981302e-07\n",
       "51096  0.2709371553335126 ... 1017.0650269219238 1.4839622686234683e-07"
      ]
     },
     "execution_count": 22,
     "metadata": {},
     "output_type": "execute_result"
    }
   ],
   "source": [
    "# this shows the first entries sorted be their probability\n",
    "skymap_sort[:5]"
   ]
  },
  {
   "cell_type": "code",
   "execution_count": 23,
   "metadata": {},
   "outputs": [
    {
     "data": {
      "text/plain": [
       "24222.014600794282"
      ]
     },
     "execution_count": 23,
     "metadata": {},
     "output_type": "execute_result"
    }
   ],
   "source": [
    "# now get 90% credible region area\n",
    "\n",
    "level, ipix = ah.uniq_to_level_ipix(skymap_sort['UNIQ'])\n",
    "pixel_area = ah.nside_to_pixel_area(ah.level_to_nside(level)) # this is the area each pixel contains\n",
    "\n",
    "# calculate the probability per pixel (careful: since the pixels differ in size, this is not neceseraliy a useful quantity\n",
    "prob = pixel_area * skymap_sort['PROBDENSITY']\n",
    "\n",
    "# calc cumsum of probabilities and get index of pixel that sums up to 0.9\n",
    "cumprob = np.cumsum(prob)\n",
    "i = cumprob.searchsorted(0.9)\n",
    "\n",
    "# print area\n",
    "area_90 = pixel_area[:i].sum()\n",
    "area_90.to_value(u.deg**2)"
   ]
  },
  {
   "cell_type": "markdown",
   "metadata": {
    "jp-MarkdownHeadingCollapsed": true,
    "tags": []
   },
   "source": [
    "### can be deleted, just tried things out"
   ]
  },
  {
   "cell_type": "code",
   "execution_count": 24,
   "metadata": {},
   "outputs": [],
   "source": [
    "skymap_sort = hstack([skymap_sort, Table({\"PROB\": prob})])"
   ]
  },
  {
   "cell_type": "code",
   "execution_count": 25,
   "metadata": {},
   "outputs": [
    {
     "data": {
      "text/latex": [
       "$0.0001204321 \\; \\mathrm{}$"
      ],
      "text/plain": [
       "<Quantity 0.00012043>"
      ]
     },
     "execution_count": 25,
     "metadata": {},
     "output_type": "execute_result"
    }
   ],
   "source": [
    "np.max(prob)"
   ]
  },
  {
   "cell_type": "code",
   "execution_count": 26,
   "metadata": {},
   "outputs": [
    {
     "data": {
      "text/html": [
       "<div><i>Table length=5</i>\n",
       "<table id=\"table139964465195824\" class=\"table-striped table-bordered table-condensed\">\n",
       "<thead><tr><th>UNIQ</th><th>PROBDENSITY</th><th>DISTMU</th><th>DISTSIGMA</th><th>DISTNORM</th><th>PROB</th></tr></thead>\n",
       "<thead><tr><th></th><th>1 / sr</th><th>Mpc</th><th>Mpc</th><th>1 / Mpc2</th><th></th></tr></thead>\n",
       "<thead><tr><th>int64</th><th>float64</th><th>float64</th><th>float64</th><th>float64</th><th>float64</th></tr></thead>\n",
       "<tr><td>25756</td><td>0.27098065044592196</td><td>2388.926527675562</td><td>1017.1124211340401</td><td>1.4838006844388912e-07</td><td>6.927985194546647e-05</td></tr>\n",
       "<tr><td>51091</td><td>0.27097594525954255</td><td>2388.9101041000754</td><td>1017.1085537910616</td><td>1.4838197000286126e-07</td><td>6.927864900121491e-05</td></tr>\n",
       "<tr><td>51097</td><td>0.2709669971211624</td><td>2388.8882395698406</td><td>1017.096493218224</td><td>1.483848082509022e-07</td><td>6.927636128915448e-05</td></tr>\n",
       "<tr><td>25753</td><td>0.27096521425247183</td><td>2388.88375273842</td><td>1017.0932278035259</td><td>1.4838542576981302e-07</td><td>6.927590547476804e-05</td></tr>\n",
       "<tr><td>51096</td><td>0.2709371553335126</td><td>2388.793100542863</td><td>1017.0650269219238</td><td>1.4839622686234683e-07</td><td>6.926873183433267e-05</td></tr>\n",
       "</table></div>"
      ],
      "text/plain": [
       "<Table length=5>\n",
       " UNIQ     PROBDENSITY     ...        DISTNORM                 PROB        \n",
       "             1 / sr       ...        1 / Mpc2                             \n",
       "int64       float64       ...        float64                float64       \n",
       "----- ------------------- ... ---------------------- ---------------------\n",
       "25756 0.27098065044592196 ... 1.4838006844388912e-07 6.927985194546647e-05\n",
       "51091 0.27097594525954255 ... 1.4838197000286126e-07 6.927864900121491e-05\n",
       "51097  0.2709669971211624 ...  1.483848082509022e-07 6.927636128915448e-05\n",
       "25753 0.27096521425247183 ... 1.4838542576981302e-07 6.927590547476804e-05\n",
       "51096  0.2709371553335126 ... 1.4839622686234683e-07 6.926873183433267e-05"
      ]
     },
     "execution_count": 26,
     "metadata": {},
     "output_type": "execute_result"
    }
   ],
   "source": [
    "skymap_sort[:5]"
   ]
  },
  {
   "cell_type": "code",
   "execution_count": 27,
   "metadata": {},
   "outputs": [],
   "source": [
    "skymap_prob = Table(skymap_sort, copy = True)"
   ]
  },
  {
   "cell_type": "code",
   "execution_count": 28,
   "metadata": {},
   "outputs": [],
   "source": [
    "skymap_prob.sort(\"PROB\", reverse = True)"
   ]
  },
  {
   "cell_type": "code",
   "execution_count": 29,
   "metadata": {},
   "outputs": [
    {
     "data": {
      "text/html": [
       "<div><i>Table length=5</i>\n",
       "<table id=\"table139964465190112\" class=\"table-striped table-bordered table-condensed\">\n",
       "<thead><tr><th>UNIQ</th><th>PROBDENSITY</th><th>DISTMU</th><th>DISTSIGMA</th><th>DISTNORM</th><th>PROB</th></tr></thead>\n",
       "<thead><tr><th></th><th>1 / sr</th><th>Mpc</th><th>Mpc</th><th>1 / Mpc2</th><th></th></tr></thead>\n",
       "<thead><tr><th>int64</th><th>float64</th><th>float64</th><th>float64</th><th>float64</th><th>float64</th></tr></thead>\n",
       "<tr><td>8544</td><td>0.11776428029029429</td><td>1783.708531171874</td><td>789.5436156070857</td><td>2.629252780209617e-07</td><td>0.00012043209564299407</td></tr>\n",
       "<tr><td>1446</td><td>0.029409532289307604</td><td>1114.640854191237</td><td>503.1099743329846</td><td>6.689931772337782e-07</td><td>0.00012030308670000075</td></tr>\n",
       "<tr><td>8098</td><td>0.11762319764051929</td><td>1783.0326307286564</td><td>789.2200268785671</td><td>2.6312728732083623e-07</td><td>0.0001202878169268215</td></tr>\n",
       "<tr><td>10607</td><td>0.11761258452088137</td><td>1782.921407393565</td><td>789.2193917595281</td><td>2.6315486910123283e-07</td><td>0.00012027696337907211</td></tr>\n",
       "<tr><td>11517</td><td>0.11757206049569427</td><td>1782.6897560729255</td><td>789.1416204602132</td><td>2.6322058845602873e-07</td><td>0.0001202355213283489</td></tr>\n",
       "</table></div>"
      ],
      "text/plain": [
       "<Table length=5>\n",
       " UNIQ     PROBDENSITY      ...        DISTNORM                 PROB         \n",
       "             1 / sr        ...        1 / Mpc2                              \n",
       "int64       float64        ...        float64                float64        \n",
       "----- -------------------- ... ---------------------- ----------------------\n",
       " 8544  0.11776428029029429 ...  2.629252780209617e-07 0.00012043209564299407\n",
       " 1446 0.029409532289307604 ...  6.689931772337782e-07 0.00012030308670000075\n",
       " 8098  0.11762319764051929 ... 2.6312728732083623e-07  0.0001202878169268215\n",
       "10607  0.11761258452088137 ... 2.6315486910123283e-07 0.00012027696337907211\n",
       "11517  0.11757206049569427 ... 2.6322058845602873e-07  0.0001202355213283489"
      ]
     },
     "execution_count": 29,
     "metadata": {},
     "output_type": "execute_result"
    }
   ],
   "source": [
    "skymap_prob[:5]"
   ]
  },
  {
   "cell_type": "markdown",
   "metadata": {
    "tags": []
   },
   "source": [
    "### Compare Tables, only leave 90% credible region in DESI data table\n",
    "\n",
    "Now we can get a Table that only contains the 90% credible region. From there we only leave the matching objects in the DESI data"
   ]
  },
  {
   "cell_type": "code",
   "execution_count": 30,
   "metadata": {},
   "outputs": [],
   "source": [
    "# we simply select only the entries that are within the 90% credible region\n",
    "skymap_90 = skymap_sort[:i]"
   ]
  },
  {
   "cell_type": "code",
   "execution_count": 31,
   "metadata": {},
   "outputs": [
    {
     "name": "stdout",
     "output_type": "stream",
     "text": [
      "This is the number of UNIQ ID of objects which should lie within the 90% credible region (NOT THE NUMBER OF OBJECTS, as there can be multiple objects per UNIQ ID): 7326\n"
     ]
    }
   ],
   "source": [
    "print(\"This is the number of UNIQ ID of objects which should lie within the 90% credible region (NOT THE NUMBER OF OBJECTS, as there can be multiple objects per UNIQ ID):\", len(np.intersect1d(skymap_90[\"UNIQ\"], data[\"UNIQ\"])))"
   ]
  },
  {
   "cell_type": "code",
   "execution_count": 32,
   "metadata": {},
   "outputs": [],
   "source": [
    "mask = np.in1d(data[\"UNIQ\"], skymap_90[\"UNIQ\"])\n",
    "data_90 = data[mask]"
   ]
  },
  {
   "cell_type": "code",
   "execution_count": 33,
   "metadata": {},
   "outputs": [
    {
     "name": "stdout",
     "output_type": "stream",
     "text": [
      "We now have 15720865 objects in the 90% credible region\n",
      "Check if the region from where the galaxies have been selected makes any sense (RA; DEC):  1.84754109952898e-06 359.999921118173 -21.9997270654372 84.6091397280709\n",
      "We can also check whether we have at least one galaxy in the UNIQ pixel with the highest probability from LIGO...\n",
      "This is True\n"
     ]
    }
   ],
   "source": [
    "print(f\"We now have {len(data_90)} objects in the 90% credible region\")\n",
    "print(\"Check if the region from where the galaxies have been selected makes any sense (RA; DEC): \", np.min(data_90[\"TARGET_RA\"]), np.max(data_90[\"TARGET_RA\"]), np.min(data_90[\"TARGET_DEC\"]), np.max(data_90[\"TARGET_DEC\"]))\n",
    "\n",
    "max_probdens_in_desi = np.max(data_90[\"PROBDENSITY\"])\n",
    "max_probdens_in_ligo = np.max(skymap[\"PROBDENSITY\"]).to_value(u.deg**-2)\n",
    "print(f\"We can also check whether we have at least one galaxy in the UNIQ pixel with the highest probability from LIGO...\")\n",
    "print(f\"This is {np.allclose(max_probdens_in_desi, max_probdens_in_ligo)}\")"
   ]
  },
  {
   "cell_type": "code",
   "execution_count": 34,
   "metadata": {},
   "outputs": [],
   "source": [
    "data_90.sort('PROBDENSITY', reverse=True)"
   ]
  },
  {
   "cell_type": "code",
   "execution_count": 35,
   "metadata": {},
   "outputs": [
    {
     "data": {
      "text/html": [
       "<div><i>Table length=2</i>\n",
       "<table id=\"table139964465190784\" class=\"table-striped table-bordered table-condensed\">\n",
       "<thead><tr><th>TARGETID</th><th>TARGET_RA</th><th>TARGET_DEC</th><th>LASTNIGHT</th><th>Z</th><th>ZERR</th><th>ZWARN</th><th>FLUX_G</th><th>FLUX_R</th><th>FLUX_Z</th><th>SPECTYPE</th><th>BGS_TARGET</th><th>EBV</th><th>SERSIC</th><th>UNIQ</th><th>PROBDENSITY</th><th>DISTMU</th><th>DISTSIGMA</th><th>DISTNORM</th></tr></thead>\n",
       "<thead><tr><th></th><th></th><th></th><th></th><th></th><th></th><th></th><th></th><th></th><th></th><th></th><th></th><th></th><th></th><th></th><th></th><th>Mpc</th><th>Mpc</th><th>1 / Mpc2</th></tr></thead>\n",
       "<thead><tr><th>int64</th><th>float64</th><th>float64</th><th>int64</th><th>float64</th><th>float64</th><th>int64</th><th>float64</th><th>float64</th><th>float64</th><th>str6</th><th>int64</th><th>float64</th><th>float64</th><th>int64</th><th>float64</th><th>float64</th><th>float64</th><th>float64</th></tr></thead>\n",
       "<tr><td>39628486893113662</td><td>244.411251099257</td><td>30.3267165582943</td><td>20220426</td><td>0.0936610071621255</td><td>2.52493092452139e-05</td><td>0</td><td>131.158737182617</td><td>60.6123695373535</td><td>224.047103881836</td><td>GALAXY</td><td>131074</td><td>0.0344885066151619</td><td>2.21570348739624</td><td>25756</td><td>8.254542655096076e-05</td><td>2388.926527675562</td><td>1017.1124211340401</td><td>1.4838006844388912e-07</td></tr>\n",
       "<tr><td>39628492127604477</td><td>245.307895547923</td><td>30.620972877359</td><td>20220509</td><td>0.537347596528873</td><td>0.000100604088632446</td><td>0</td><td>7.80932760238647</td><td>1.82416248321533</td><td>20.5430908203125</td><td>GALAXY</td><td>0</td><td>0.0259376429021358</td><td>1.91903901100159</td><td>25756</td><td>8.254542655096076e-05</td><td>2388.926527675562</td><td>1017.1124211340401</td><td>1.4838006844388912e-07</td></tr>\n",
       "</table></div>"
      ],
      "text/plain": [
       "<Table length=2>\n",
       "     TARGETID        TARGET_RA     ...     DISTSIGMA             DISTNORM       \n",
       "                                   ...        Mpc                1 / Mpc2       \n",
       "      int64           float64      ...      float64              float64        \n",
       "----------------- ---------------- ... ------------------ ----------------------\n",
       "39628486893113662 244.411251099257 ... 1017.1124211340401 1.4838006844388912e-07\n",
       "39628492127604477 245.307895547923 ... 1017.1124211340401 1.4838006844388912e-07"
      ]
     },
     "execution_count": 35,
     "metadata": {},
     "output_type": "execute_result"
    }
   ],
   "source": [
    "data_90[:2]"
   ]
  },
  {
   "cell_type": "code",
   "execution_count": 36,
   "metadata": {},
   "outputs": [
    {
     "name": "stdout",
     "output_type": "stream",
     "text": [
      "We have now performed all the necessary steps to get the localization selection in 2D, i.e. the angle on the sky\n",
      "However, we have not used the distance data at all. Therefore our redhsifts range from 9.62592861409062e-11 to 6.94763515557217\n"
     ]
    }
   ],
   "source": [
    "print(\"We have now performed all the necessary steps to get the localization selection in 2D, i.e. the angle on the sky\")\n",
    "min_z = np.min(data_90[\"Z\"])\n",
    "max_z = np.max(data_90[\"Z\"])\n",
    "print(f\"However, we have not used the distance data at all. Therefore our redhsifts range from {min_z} to {max_z}\")"
   ]
  },
  {
   "cell_type": "markdown",
   "metadata": {},
   "source": [
    "### Calculate all the distances of the objects from the redshifts"
   ]
  },
  {
   "cell_type": "code",
   "execution_count": 37,
   "metadata": {},
   "outputs": [],
   "source": [
    "distances = Distance(z=data_90[\"Z\"], cosmology=Planck18)\n",
    "distances_err = Distance(z=data_90[\"ZERR\"], cosmology=Planck18)\n",
    "\n",
    "data_90 = hstack([data_90, Table({\"DIST_Z\": distances}), Table({\"DIST_Z_ERR\": distances_err})])"
   ]
  },
  {
   "cell_type": "code",
   "execution_count": 38,
   "metadata": {},
   "outputs": [
    {
     "data": {
      "text/html": [
       "<div><i>Table length=5</i>\n",
       "<table id=\"table139964464968752\" class=\"table-striped table-bordered table-condensed\">\n",
       "<thead><tr><th>TARGETID</th><th>TARGET_RA</th><th>TARGET_DEC</th><th>LASTNIGHT</th><th>Z</th><th>ZERR</th><th>ZWARN</th><th>FLUX_G</th><th>FLUX_R</th><th>FLUX_Z</th><th>SPECTYPE</th><th>BGS_TARGET</th><th>EBV</th><th>SERSIC</th><th>UNIQ</th><th>PROBDENSITY</th><th>DISTMU</th><th>DISTSIGMA</th><th>DISTNORM</th><th>DIST_Z</th><th>DIST_Z_ERR</th></tr></thead>\n",
       "<thead><tr><th></th><th></th><th></th><th></th><th></th><th></th><th></th><th></th><th></th><th></th><th></th><th></th><th></th><th></th><th></th><th></th><th>Mpc</th><th>Mpc</th><th>1 / Mpc2</th><th>Mpc</th><th>Mpc</th></tr></thead>\n",
       "<thead><tr><th>int64</th><th>float64</th><th>float64</th><th>int64</th><th>float64</th><th>float64</th><th>int64</th><th>float64</th><th>float64</th><th>float64</th><th>str6</th><th>int64</th><th>float64</th><th>float64</th><th>int64</th><th>float64</th><th>float64</th><th>float64</th><th>float64</th><th>float64</th><th>float64</th></tr></thead>\n",
       "<tr><td>39628486893113662</td><td>244.411251099257</td><td>30.3267165582943</td><td>20220426</td><td>0.0936610071621255</td><td>2.52493092452139e-05</td><td>0</td><td>131.158737182617</td><td>60.6123695373535</td><td>224.047103881836</td><td>GALAXY</td><td>131074</td><td>0.0344885066151619</td><td>2.21570348739624</td><td>25756</td><td>8.254542655096076e-05</td><td>2388.926527675562</td><td>1017.1124211340401</td><td>1.4838006844388912e-07</td><td>443.7843040873353</td><td>0.11187849541970689</td></tr>\n",
       "<tr><td>39628492127604477</td><td>245.307895547923</td><td>30.620972877359</td><td>20220509</td><td>0.537347596528873</td><td>0.000100604088632446</td><td>0</td><td>7.80932760238647</td><td>1.82416248321533</td><td>20.5430908203125</td><td>GALAXY</td><td>0</td><td>0.0259376429021358</td><td>1.91903901100159</td><td>25756</td><td>8.254542655096076e-05</td><td>2388.926527675562</td><td>1017.1124211340401</td><td>1.4838006844388912e-07</td><td>3183.067840381233</td><td>0.44579770965242405</td></tr>\n",
       "<tr><td>39628481667011475</td><td>244.781498708761</td><td>30.1088742813958</td><td>20220605</td><td>0.803828109360517</td><td>0.000223876357473446</td><td>0</td><td>1.04229640960693</td><td>0.284002780914307</td><td>6.17165184020996</td><td>GALAXY</td><td>0</td><td>0.0326249301433563</td><td>4.0</td><td>25756</td><td>8.254542655096076e-05</td><td>2388.926527675562</td><td>1017.1124211340401</td><td>1.4838006844388912e-07</td><td>5192.457817940395</td><td>0.9921365879996091</td></tr>\n",
       "<tr><td>39628481667011429</td><td>244.779141401247</td><td>30.1122025883113</td><td>20220426</td><td>0.218085176477233</td><td>1.83461833434228e-05</td><td>0</td><td>12.1096172332764</td><td>5.6483359336853</td><td>20.7802448272705</td><td>GALAXY</td><td>65537</td><td>0.0325831398367882</td><td>1.0</td><td>25756</td><td>8.254542655096076e-05</td><td>2388.926527675562</td><td>1017.1124211340401</td><td>1.4838006844388912e-07</td><td>1115.2476430864715</td><td>0.08129064076428257</td></tr>\n",
       "<tr><td>39628481667011370</td><td>244.775352030029</td><td>30.0979178915831</td><td>20210612</td><td>0.734322727766937</td><td>3.32787936656395e-05</td><td>0</td><td>0.902413070201874</td><td>0.633959770202637</td><td>1.84884560108185</td><td>GALAXY</td><td>0</td><td>0.0332439281046391</td><td>1.0</td><td>25756</td><td>8.254542655096076e-05</td><td>2388.926527675562</td><td>1017.1124211340401</td><td>1.4838006844388912e-07</td><td>4648.432538171033</td><td>0.1474576688704485</td></tr>\n",
       "</table></div>"
      ],
      "text/plain": [
       "<Table length=5>\n",
       "     TARGETID        TARGET_RA     ...       DIST_Z            DIST_Z_ERR    \n",
       "                                   ...        Mpc                 Mpc        \n",
       "      int64           float64      ...      float64             float64      \n",
       "----------------- ---------------- ... ------------------ -------------------\n",
       "39628486893113662 244.411251099257 ...  443.7843040873353 0.11187849541970689\n",
       "39628492127604477 245.307895547923 ...  3183.067840381233 0.44579770965242405\n",
       "39628481667011475 244.781498708761 ...  5192.457817940395  0.9921365879996091\n",
       "39628481667011429 244.779141401247 ... 1115.2476430864715 0.08129064076428257\n",
       "39628481667011370 244.775352030029 ...  4648.432538171033  0.1474576688704485"
      ]
     },
     "execution_count": 38,
     "metadata": {},
     "output_type": "execute_result"
    }
   ],
   "source": [
    "data_90[:5]"
   ]
  },
  {
   "cell_type": "markdown",
   "metadata": {},
   "source": [
    "### Lets check how much the distance measurement changes in the 90% credible region of LIGO and compare to our DESI data\n",
    "\n",
    "We should see a lot more data in DESI (since we haven't done any redshift selection and there can be multiple objects per GW-pixel). Be carfeul, we are comparing actual object counts with the number of pixels.\n",
    "\n",
    "\n",
    "We still see, that most of the GW localization is roughly between 780Mpc and 950Mpc. DESI definitely has a most of its data in this range as well."
   ]
  },
  {
   "cell_type": "code",
   "execution_count": 39,
   "metadata": {},
   "outputs": [
    {
     "name": "stdout",
     "output_type": "stream",
     "text": [
      "Our distance ranges from 1231.695586160883 Mpc to 2388.926527675562 Mpc\n",
      "Let's visualize the distance distribution of the LIGO event in the 90% credible region\n"
     ]
    },
    {
     "data": {
      "image/png": "[encoded data removed]",
      "text/plain": [
       "<Figure size 1500x800 with 3 Axes>"
      ]
     },
     "metadata": {},
     "output_type": "display_data"
    }
   ],
   "source": [
    "dist_max_90 = np.max(skymap_90[\"DISTMU\"])*u.Mpc\n",
    "dist_min_90 = np.min(skymap_90[\"DISTMU\"])*u.Mpc\n",
    "print(f\"Our distance ranges from {dist_min_90} to {dist_max_90}\")\n",
    "print(\"Let's visualize the distance distribution of the LIGO event in the 90% credible region\")\n",
    "\n",
    "fig, ax = plt.subplots(ncols = 3, figsize = (15,8))\n",
    "\n",
    "\n",
    "ax[0].hist(data_90[\"DIST_Z\"], bins = \"auto\", color = \"orange\")\n",
    "ax[1].hist(data_90[\"DIST_Z\"], bins = \"auto\", color = \"green\")\n",
    "ax[2].hist(skymap_90[\"DISTMU\"], bins = \"auto\", color = \"blue\")\n",
    "\n",
    "\n",
    "for axis in ax:\n",
    "    axis.set_xlabel(\"distance bin (Mpc)\")\n",
    "\n",
    "ax[0].set_ylabel(\"object count\")\n",
    "ax[1].set_ylabel(\"object count\")\n",
    "ax[2].set_ylabel(\"pixel count\")\n",
    "\n",
    "ax[1].set_xlim(0,1000)\n",
    "    \n",
    "plt.show()"
   ]
  },
  {
   "cell_type": "code",
   "execution_count": 40,
   "metadata": {},
   "outputs": [
    {
     "data": {
      "text/plain": [
       "(16830, 15720865)"
      ]
     },
     "execution_count": 40,
     "metadata": {},
     "output_type": "execute_result"
    }
   ],
   "source": [
    "len(skymap_90), len(data_90)"
   ]
  },
  {
   "cell_type": "markdown",
   "metadata": {},
   "source": [
    "### To reduce our data even more, lets cut out the unreasonably far away objects\n",
    "\n",
    "We simply take maximum and minimum distance we get from the LIGO skymap (i.e. DISTMU+-DISTERR) and check, whether every galaxy in that pixel falls inside this range."
   ]
  },
  {
   "cell_type": "code",
   "execution_count": 41,
   "metadata": {},
   "outputs": [],
   "source": [
    "z_selection_mask = data_90[\"DIST_Z\"] - data_90[\"DIST_Z_ERR\"] <  data_90[\"DISTMU\"] + data_90[\"DISTSIGMA\"]\n",
    "z_selection_mask &= data_90[\"DIST_Z\"] + data_90[\"DIST_Z_ERR\"] >  data_90[\"DISTMU\"] - data_90[\"DISTSIGMA\"]\n",
    "\n",
    "data_90_z = data_90[z_selection_mask]"
   ]
  },
  {
   "cell_type": "code",
   "execution_count": 42,
   "metadata": {},
   "outputs": [
    {
     "name": "stdout",
     "output_type": "stream",
     "text": [
      "The z-range selection has deleted 11881226 objects from originally 15720865 in the data set\n",
      "Therefore, we have 3839639 objects left in the search region\n"
     ]
    }
   ],
   "source": [
    "remaining_obj = np.size(np.where(z_selection_mask == True))\n",
    "deleted_obj = np.size(np.where(z_selection_mask == False))\n",
    "\n",
    "print(f\"The z-range selection has deleted {deleted_obj} objects from originally {deleted_obj+remaining_obj} in the data set\")\n",
    "print(f\"Therefore, we have {remaining_obj} objects left in the search region\")"
   ]
  },
  {
   "cell_type": "code",
   "execution_count": 43,
   "metadata": {},
   "outputs": [
    {
     "name": "stdout",
     "output_type": "stream",
     "text": [
      "Our highest remaing probability density is 8.254542655096076e-05 compared to the originally highest prob density of 8.254542655096076e-05\n",
      "The difference in prob density is 0.0\n"
     ]
    }
   ],
   "source": [
    "highest_prob_dens = np.max(data_90_z[\"PROBDENSITY\"])\n",
    "print(f\"Our highest remaing probability density is {highest_prob_dens} compared to the originally highest prob density of {max_probdens_in_ligo}\")\n",
    "print(f\"The difference in prob density is {max_probdens_in_ligo-highest_prob_dens}\")"
   ]
  },
  {
   "cell_type": "code",
   "execution_count": 44,
   "metadata": {},
   "outputs": [
    {
     "data": {
      "text/html": [
       "<div><i>Table length=5</i>\n",
       "<table id=\"table139964465200864\" class=\"table-striped table-bordered table-condensed\">\n",
       "<thead><tr><th>TARGETID</th><th>TARGET_RA</th><th>TARGET_DEC</th><th>LASTNIGHT</th><th>Z</th><th>ZERR</th><th>ZWARN</th><th>FLUX_G</th><th>FLUX_R</th><th>FLUX_Z</th><th>SPECTYPE</th><th>BGS_TARGET</th><th>EBV</th><th>SERSIC</th><th>UNIQ</th><th>PROBDENSITY</th><th>DISTMU</th><th>DISTSIGMA</th><th>DISTNORM</th><th>DIST_Z</th><th>DIST_Z_ERR</th></tr></thead>\n",
       "<thead><tr><th></th><th></th><th></th><th></th><th></th><th></th><th></th><th></th><th></th><th></th><th></th><th></th><th></th><th></th><th></th><th></th><th>Mpc</th><th>Mpc</th><th>1 / Mpc2</th><th>Mpc</th><th>Mpc</th></tr></thead>\n",
       "<thead><tr><th>int64</th><th>float64</th><th>float64</th><th>int64</th><th>float64</th><th>float64</th><th>int64</th><th>float64</th><th>float64</th><th>float64</th><th>str6</th><th>int64</th><th>float64</th><th>float64</th><th>int64</th><th>float64</th><th>float64</th><th>float64</th><th>float64</th><th>float64</th><th>float64</th></tr></thead>\n",
       "<tr><td>39628492127604477</td><td>245.307895547923</td><td>30.620972877359</td><td>20220509</td><td>0.537347596528873</td><td>0.000100604088632446</td><td>0</td><td>7.80932760238647</td><td>1.82416248321533</td><td>20.5430908203125</td><td>GALAXY</td><td>0</td><td>0.0259376429021358</td><td>1.91903901100159</td><td>25756</td><td>8.254542655096076e-05</td><td>2388.926527675562</td><td>1017.1124211340401</td><td>1.4838006844388912e-07</td><td>3183.067840381233</td><td>0.44579770965242405</td></tr>\n",
       "<tr><td>39628481667010741</td><td>244.738244165986</td><td>30.0821464191053</td><td>20220409</td><td>0.482245464163977</td><td>2.78865888908517e-06</td><td>0</td><td>0.757790982723236</td><td>0.724115133285522</td><td>1.12726938724518</td><td>GALAXY</td><td>0</td><td>0.0342096015810966</td><td>1.0</td><td>25756</td><td>8.254542655096076e-05</td><td>2388.926527675562</td><td>1017.1124211340401</td><td>1.4838006844388912e-07</td><td>2796.1713160826607</td><td>0.01235620292853704</td></tr>\n",
       "<tr><td>39628481667010679</td><td>244.734191806462</td><td>30.1026546552076</td><td>20230313</td><td>0.302325503238015</td><td>8.25472936412211e-05</td><td>0</td><td>14.4518594741821</td><td>3.29580330848694</td><td>35.8650207519531</td><td>GALAXY</td><td>65537</td><td>0.0332599431276321</td><td>4.0</td><td>25756</td><td>8.254542655096076e-05</td><td>2388.926527675562</td><td>1017.1124211340401</td><td>1.4838006844388912e-07</td><td>1616.831975582346</td><td>0.36577922047931694</td></tr>\n",
       "<tr><td>39628481667010666</td><td>244.73340491721</td><td>30.0895851259223</td><td>20210523</td><td>0.294697065981468</td><td>8.49727923236266e-05</td><td>0</td><td>23.1262664794922</td><td>6.18275690078735</td><td>51.4869689941406</td><td>GALAXY</td><td>131074</td><td>0.0337170660495758</td><td>1.97284626960754</td><td>25756</td><td>8.254542655096076e-05</td><td>2388.926527675562</td><td>1017.1124211340401</td><td>1.4838006844388912e-07</td><td>1569.975437818251</td><td>0.3765276625451793</td></tr>\n",
       "<tr><td>39628481667010360</td><td>244.715455110645</td><td>30.0430095295523</td><td>20210612</td><td>0.548183278809077</td><td>5.72508953941004e-05</td><td>0</td><td>0.553049504756927</td><td>0.55375611782074</td><td>0.795593678951263</td><td>GALAXY</td><td>0</td><td>0.0380657948553562</td><td>1.0</td><td>25756</td><td>8.254542655096076e-05</td><td>2388.926527675562</td><td>1017.1124211340401</td><td>1.4838006844388912e-07</td><td>3260.4265596967302</td><td>0.25368223363491066</td></tr>\n",
       "</table></div>"
      ],
      "text/plain": [
       "<Table length=5>\n",
       "     TARGETID        TARGET_RA     ...       DIST_Z            DIST_Z_ERR    \n",
       "                                   ...        Mpc                 Mpc        \n",
       "      int64           float64      ...      float64             float64      \n",
       "----------------- ---------------- ... ------------------ -------------------\n",
       "39628492127604477 245.307895547923 ...  3183.067840381233 0.44579770965242405\n",
       "39628481667010741 244.738244165986 ... 2796.1713160826607 0.01235620292853704\n",
       "39628481667010679 244.734191806462 ...  1616.831975582346 0.36577922047931694\n",
       "39628481667010666  244.73340491721 ...  1569.975437818251  0.3765276625451793\n",
       "39628481667010360 244.715455110645 ... 3260.4265596967302 0.25368223363491066"
      ]
     },
     "execution_count": 44,
     "metadata": {},
     "output_type": "execute_result"
    }
   ],
   "source": [
    "data_90_z[:5]"
   ]
  },
  {
   "cell_type": "markdown",
   "metadata": {},
   "source": [
    "### get the apparent, absolute magnitudes and luminosities\n",
    "\n",
    "in order to do this: flux > 0 selection  and gal ext correction"
   ]
  },
  {
   "cell_type": "code",
   "execution_count": 46,
   "metadata": {},
   "outputs": [
    {
     "name": "stderr",
     "output_type": "stream",
     "text": [
      "/tmp/ipykernel_243156/973744509.py:5: RuntimeWarning: divide by zero encountered in divide\n",
      "  data_90_z[\"FLUX_Z\"] = data_90_z[\"FLUX_Z\"]/data_90_z[\"MW_TRANSMISSION\"]\n"
     ]
    },
    {
     "name": "stdout",
     "output_type": "stream",
     "text": [
      "We have 3839639 objects remaining in our catalog, i.e. 0 had to be cut out due to bad fluxes\n"
     ]
    }
   ],
   "source": [
    "# get the apparent mags\n",
    "data_90_z = data_90_z[data_90_z[\"FLUX_Z\"] > 0] # flux selection (only ones above 0)\n",
    "data_90_z[\"MW_TRANSMISSION\"] = data_90_z[\"EBV\"]*gs.ext_coeffs[4]\n",
    "\n",
    "#data_90_z[\"FLUX_Z\"] = data_90_z[\"FLUX_Z\"]/data_90_z[\"MW_TRANSMISSION\"]\n",
    "\n",
    "app_mag_z = gs.app_mag(data_90_z[\"FLUX_Z\"])\n",
    "flux_selection_cut = len(data_90_z)\n",
    "print(f\"We have {flux_selection_cut} objects remaining in our catalog, i.e. {remaining_obj-flux_selection_cut} had to be cut out due to bad fluxes\")\n",
    "\n",
    "# get the absolute mags\n",
    "abs_mag_z = gs.abs_mag(app_mag_z, data_90_z[\"Z\"], 0,0,0)\n",
    "\n",
    "# get the luminosities\n",
    "lums_z = gs.lum(abs_mag_z, band = \"z\")"
   ]
  },
  {
   "cell_type": "code",
   "execution_count": 47,
   "metadata": {},
   "outputs": [],
   "source": [
    "data_f = hstack([data_90_z, Table({\"APP_MAG_Z\": app_mag_z}), Table({\"ABS_MAG_Z\": abs_mag_z}), Table({\"LUM_Z\": lums_z})])"
   ]
  },
  {
   "cell_type": "code",
   "execution_count": 48,
   "metadata": {},
   "outputs": [
    {
     "data": {
      "text/html": [
       "<div><i>Table length=5</i>\n",
       "<table id=\"table139964464968800\" class=\"table-striped table-bordered table-condensed\">\n",
       "<thead><tr><th>TARGETID</th><th>TARGET_RA</th><th>TARGET_DEC</th><th>LASTNIGHT</th><th>Z</th><th>ZERR</th><th>ZWARN</th><th>FLUX_G</th><th>FLUX_R</th><th>FLUX_Z</th><th>SPECTYPE</th><th>BGS_TARGET</th><th>EBV</th><th>SERSIC</th><th>UNIQ</th><th>PROBDENSITY</th><th>DISTMU</th><th>DISTSIGMA</th><th>DISTNORM</th><th>DIST_Z</th><th>DIST_Z_ERR</th><th>MW_TRANSMISSION</th><th>APP_MAG_Z</th><th>ABS_MAG_Z</th><th>LUM_Z</th></tr></thead>\n",
       "<thead><tr><th></th><th></th><th></th><th></th><th></th><th></th><th></th><th></th><th></th><th></th><th></th><th></th><th></th><th></th><th></th><th></th><th>Mpc</th><th>Mpc</th><th>1 / Mpc2</th><th>Mpc</th><th>Mpc</th><th></th><th></th><th></th><th>W</th></tr></thead>\n",
       "<thead><tr><th>int64</th><th>float64</th><th>float64</th><th>int64</th><th>float64</th><th>float64</th><th>int64</th><th>float64</th><th>float64</th><th>float64</th><th>str6</th><th>int64</th><th>float64</th><th>float64</th><th>int64</th><th>float64</th><th>float64</th><th>float64</th><th>float64</th><th>float64</th><th>float64</th><th>float64</th><th>float64</th><th>float64</th><th>float64</th></tr></thead>\n",
       "<tr><td>39628492127604477</td><td>245.307895547923</td><td>30.620972877359</td><td>20220509</td><td>0.537347596528873</td><td>0.000100604088632446</td><td>0</td><td>7.80932760238647</td><td>1.82416248321533</td><td>654.0201610279872</td><td>GALAXY</td><td>0</td><td>0.0259376429021358</td><td>1.91903901100159</td><td>25756</td><td>8.254542655096076e-05</td><td>2388.926527675562</td><td>1017.1124211340401</td><td>1.4838006844388912e-07</td><td>3183.067840381233</td><td>0.44579770965242405</td><td>0.03141048555448646</td><td>15.461022159433032</td><td>-27.05320731452221</td><td>7.704146663667487e+38</td></tr>\n",
       "<tr><td>39628481667010741</td><td>244.738244165986</td><td>30.0821464191053</td><td>20220409</td><td>0.482245464163977</td><td>2.78865888908517e-06</td><td>0</td><td>0.757790982723236</td><td>0.724115133285522</td><td>27.210439331991747</td><td>GALAXY</td><td>0</td><td>0.0342096015810966</td><td>1.0</td><td>25756</td><td>8.254542655096076e-05</td><td>2388.926527675562</td><td>1017.1124211340401</td><td>1.4838006844388912e-07</td><td>2796.1713160826607</td><td>0.01235620292853704</td><td>0.041427827514707985</td><td>18.913161115422028</td><td>-23.31965776599428</td><td>2.47345903721282e+37</td></tr>\n",
       "<tr><td>39628481667010679</td><td>244.734191806462</td><td>30.1026546552076</td><td>20230313</td><td>0.302325503238015</td><td>8.25472936412211e-05</td><td>0</td><td>14.4518594741821</td><td>3.29580330848694</td><td>890.4415994006762</td><td>GALAXY</td><td>65537</td><td>0.0332599431276321</td><td>4.0</td><td>25756</td><td>8.254542655096076e-05</td><td>2388.926527675562</td><td>1017.1124211340401</td><td>1.4838006844388912e-07</td><td>1616.831975582346</td><td>0.36577922047931694</td><td>0.040277791127562475</td><td>15.125986397379272</td><td>-25.917338050115056</td><td>2.706305599287603e+38</td></tr>\n",
       "<tr><td>39628481667010666</td><td>244.73340491721</td><td>30.0895851259223</td><td>20210523</td><td>0.294697065981468</td><td>8.49727923236266e-05</td><td>0</td><td>23.1262664794922</td><td>6.18275690078735</td><td>1260.9660855035384</td><td>GALAXY</td><td>131074</td><td>0.0337170660495758</td><td>1.97284626960754</td><td>25756</td><td>8.254542655096076e-05</td><td>2388.926527675562</td><td>1017.1124211340401</td><td>1.4838006844388912e-07</td><td>1569.975437818251</td><td>0.3765276625451793</td><td>0.040831366986036295</td><td>14.748241484750364</td><td>-26.23122280499185</td><td>3.613522290258165e+38</td></tr>\n",
       "<tr><td>39628481667010360</td><td>244.715455110645</td><td>30.0430095295523</td><td>20210612</td><td>0.548183278809077</td><td>5.72508953941004e-05</td><td>0</td><td>0.553049504756927</td><td>0.55375611782074</td><td>17.25886684304142</td><td>GALAXY</td><td>0</td><td>0.0380657948553562</td><td>1.0</td><td>25756</td><td>8.254542655096076e-05</td><td>2388.926527675562</td><td>1017.1124211340401</td><td>1.4838006844388912e-07</td><td>3260.4265596967302</td><td>0.25368223363491066</td><td>0.04609767756983636</td><td>19.40746930486162</td><td>-23.158902806526726</td><td>2.1330583641225773e+37</td></tr>\n",
       "</table></div>"
      ],
      "text/plain": [
       "<Table length=5>\n",
       "     TARGETID        TARGET_RA     ...         LUM_Z         \n",
       "                                   ...           W           \n",
       "      int64           float64      ...        float64        \n",
       "----------------- ---------------- ... ----------------------\n",
       "39628492127604477 245.307895547923 ...  7.704146663667487e+38\n",
       "39628481667010741 244.738244165986 ...   2.47345903721282e+37\n",
       "39628481667010679 244.734191806462 ...  2.706305599287603e+38\n",
       "39628481667010666  244.73340491721 ...  3.613522290258165e+38\n",
       "39628481667010360 244.715455110645 ... 2.1330583641225773e+37"
      ]
     },
     "execution_count": 48,
     "metadata": {},
     "output_type": "execute_result"
    }
   ],
   "source": [
    "data_f[:5]"
   ]
  },
  {
   "cell_type": "code",
   "execution_count": 49,
   "metadata": {},
   "outputs": [
    {
     "name": "stdout",
     "output_type": "stream",
     "text": [
      "The maximum luminosity in our cataloge in the z-band is inf W with a prob density of      PROBDENSITY      \n",
      "----------------------\n",
      "  8.23262338870796e-05\n",
      " 8.230851836134922e-05\n",
      " 8.229449009409845e-05\n",
      " 8.221459225861368e-05\n",
      "  8.21641592452965e-05\n",
      "  8.21641592452965e-05\n",
      "  8.21641592452965e-05\n",
      "  8.21641592452965e-05\n",
      "  8.21641592452965e-05\n",
      "  8.21641592452965e-05\n",
      "                   ...\n",
      "1.2089809415669354e-05\n",
      "1.2089809415669354e-05\n",
      "1.2089809415669354e-05\n",
      "1.2089809415669354e-05\n",
      "1.2089809415669354e-05\n",
      "1.2089809415669354e-05\n",
      "  1.20456668179492e-05\n",
      "  1.20456668179492e-05\n",
      "  1.20456668179492e-05\n",
      "  1.20456668179492e-05\n",
      "  1.20456668179492e-05\n",
      "Length = 5875 rows\n"
     ]
    }
   ],
   "source": [
    "max_lum_z = np.max(data_f[\"LUM_Z\"])*u.W\n",
    "prob_dens_max_lum = data_f[data_f[\"LUM_Z\"] == max_lum_z][\"PROBDENSITY\"]\n",
    "print(f\"The maximum luminosity in our cataloge in the z-band is {max_lum_z} with a prob density of {prob_dens_max_lum}\")"
   ]
  },
  {
   "cell_type": "code",
   "execution_count": 50,
   "metadata": {},
   "outputs": [
    {
     "name": "stderr",
     "output_type": "stream",
     "text": [
      "/tmp/ipykernel_243156/440661683.py:12: RuntimeWarning: invalid value encountered in multiply\n",
      "  P_gal = 1/P_gal_sum * P_gal_unnorm\n",
      "/tmp/ipykernel_243156/440661683.py:13: RuntimeWarning: invalid value encountered in multiply\n",
      "  P_gal_const = 1/P_gal_const_sum * P_gal_unnorm_const\n"
     ]
    }
   ],
   "source": [
    "arg_errfc = abs(data_f[\"DIST_Z\"]-data_f[\"DISTMU\"])/(data_f[\"DIST_Z_ERR\"]**2+data_f[\"DISTSIGMA\"]**2)\n",
    "P_gal_unnorm = data_f[\"LUM_Z\"]*data_f[\"PROBDENSITY\"]*(1-sc.special.erf(arg_errfc))\n",
    "#dist_mean*u.Mpc, dist_std*u.Mpc\n",
    "arg_errfc_c = abs(data_f[\"DIST_Z\"].value-dist_mean)/(data_f[\"DIST_Z_ERR\"].value**2+dist_std**2)\n",
    "P_gal_unnorm_const = data_f[\"LUM_Z\"]*data_f[\"PROBDENSITY\"]*(1-sc.special.erf(arg_errfc_c))\n",
    "\n",
    "# now lets quickly normalize\n",
    "\n",
    "P_gal_sum = np.sum(P_gal_unnorm)\n",
    "P_gal_const_sum = np.sum(P_gal_unnorm_const)\n",
    "\n",
    "P_gal = 1/P_gal_sum * P_gal_unnorm\n",
    "P_gal_const = 1/P_gal_const_sum * P_gal_unnorm_const"
   ]
  },
  {
   "cell_type": "code",
   "execution_count": 51,
   "metadata": {},
   "outputs": [],
   "source": [
    "data_f = hstack([data_f, Table({\"P_GAL\": P_gal.value}), Table({\"P_GAL_C\": P_gal_const.value})])"
   ]
  },
  {
   "cell_type": "code",
   "execution_count": 52,
   "metadata": {},
   "outputs": [
    {
     "data": {
      "text/html": [
       "<div><i>Table length=5</i>\n",
       "<table id=\"table139964465194720\" class=\"table-striped table-bordered table-condensed\">\n",
       "<thead><tr><th>TARGETID</th><th>TARGET_RA</th><th>TARGET_DEC</th><th>LASTNIGHT</th><th>Z</th><th>ZERR</th><th>ZWARN</th><th>FLUX_G</th><th>FLUX_R</th><th>FLUX_Z</th><th>SPECTYPE</th><th>BGS_TARGET</th><th>EBV</th><th>SERSIC</th><th>UNIQ</th><th>PROBDENSITY</th><th>DISTMU</th><th>DISTSIGMA</th><th>DISTNORM</th><th>DIST_Z</th><th>DIST_Z_ERR</th><th>MW_TRANSMISSION</th><th>APP_MAG_Z</th><th>ABS_MAG_Z</th><th>LUM_Z</th><th>P_GAL</th><th>P_GAL_C</th></tr></thead>\n",
       "<thead><tr><th></th><th></th><th></th><th></th><th></th><th></th><th></th><th></th><th></th><th></th><th></th><th></th><th></th><th></th><th></th><th></th><th>Mpc</th><th>Mpc</th><th>1 / Mpc2</th><th>Mpc</th><th>Mpc</th><th></th><th></th><th></th><th>W</th><th></th><th></th></tr></thead>\n",
       "<thead><tr><th>int64</th><th>float64</th><th>float64</th><th>int64</th><th>float64</th><th>float64</th><th>int64</th><th>float64</th><th>float64</th><th>float64</th><th>str6</th><th>int64</th><th>float64</th><th>float64</th><th>int64</th><th>float64</th><th>float64</th><th>float64</th><th>float64</th><th>float64</th><th>float64</th><th>float64</th><th>float64</th><th>float64</th><th>float64</th><th>float64</th><th>float64</th></tr></thead>\n",
       "<tr><td>39628492127604477</td><td>245.307895547923</td><td>30.620972877359</td><td>20220509</td><td>0.537347596528873</td><td>0.000100604088632446</td><td>0</td><td>7.80932760238647</td><td>1.82416248321533</td><td>654.0201610279872</td><td>GALAXY</td><td>0</td><td>0.0259376429021358</td><td>1.91903901100159</td><td>25756</td><td>8.254542655096076e-05</td><td>2388.926527675562</td><td>1017.1124211340401</td><td>1.4838006844388912e-07</td><td>3183.067840381233</td><td>0.44579770965242405</td><td>0.03141048555448646</td><td>15.461022159433032</td><td>-27.05320731452221</td><td>7.704146663667487e+38</td><td>0.0</td><td>0.0</td></tr>\n",
       "<tr><td>39628481667010741</td><td>244.738244165986</td><td>30.0821464191053</td><td>20220409</td><td>0.482245464163977</td><td>2.78865888908517e-06</td><td>0</td><td>0.757790982723236</td><td>0.724115133285522</td><td>27.210439331991747</td><td>GALAXY</td><td>0</td><td>0.0342096015810966</td><td>1.0</td><td>25756</td><td>8.254542655096076e-05</td><td>2388.926527675562</td><td>1017.1124211340401</td><td>1.4838006844388912e-07</td><td>2796.1713160826607</td><td>0.01235620292853704</td><td>0.041427827514707985</td><td>18.913161115422028</td><td>-23.31965776599428</td><td>2.47345903721282e+37</td><td>0.0</td><td>0.0</td></tr>\n",
       "<tr><td>39628481667010679</td><td>244.734191806462</td><td>30.1026546552076</td><td>20230313</td><td>0.302325503238015</td><td>8.25472936412211e-05</td><td>0</td><td>14.4518594741821</td><td>3.29580330848694</td><td>890.4415994006762</td><td>GALAXY</td><td>65537</td><td>0.0332599431276321</td><td>4.0</td><td>25756</td><td>8.254542655096076e-05</td><td>2388.926527675562</td><td>1017.1124211340401</td><td>1.4838006844388912e-07</td><td>1616.831975582346</td><td>0.36577922047931694</td><td>0.040277791127562475</td><td>15.125986397379272</td><td>-25.917338050115056</td><td>2.706305599287603e+38</td><td>0.0</td><td>0.0</td></tr>\n",
       "<tr><td>39628481667010666</td><td>244.73340491721</td><td>30.0895851259223</td><td>20210523</td><td>0.294697065981468</td><td>8.49727923236266e-05</td><td>0</td><td>23.1262664794922</td><td>6.18275690078735</td><td>1260.9660855035384</td><td>GALAXY</td><td>131074</td><td>0.0337170660495758</td><td>1.97284626960754</td><td>25756</td><td>8.254542655096076e-05</td><td>2388.926527675562</td><td>1017.1124211340401</td><td>1.4838006844388912e-07</td><td>1569.975437818251</td><td>0.3765276625451793</td><td>0.040831366986036295</td><td>14.748241484750364</td><td>-26.23122280499185</td><td>3.613522290258165e+38</td><td>0.0</td><td>0.0</td></tr>\n",
       "<tr><td>39628481667010360</td><td>244.715455110645</td><td>30.0430095295523</td><td>20210612</td><td>0.548183278809077</td><td>5.72508953941004e-05</td><td>0</td><td>0.553049504756927</td><td>0.55375611782074</td><td>17.25886684304142</td><td>GALAXY</td><td>0</td><td>0.0380657948553562</td><td>1.0</td><td>25756</td><td>8.254542655096076e-05</td><td>2388.926527675562</td><td>1017.1124211340401</td><td>1.4838006844388912e-07</td><td>3260.4265596967302</td><td>0.25368223363491066</td><td>0.04609767756983636</td><td>19.40746930486162</td><td>-23.158902806526726</td><td>2.1330583641225773e+37</td><td>0.0</td><td>0.0</td></tr>\n",
       "</table></div>"
      ],
      "text/plain": [
       "<Table length=5>\n",
       "     TARGETID        TARGET_RA        TARGET_DEC    ...  P_GAL  P_GAL_C\n",
       "                                                    ...                \n",
       "      int64           float64          float64      ... float64 float64\n",
       "----------------- ---------------- ---------------- ... ------- -------\n",
       "39628492127604477 245.307895547923  30.620972877359 ...     0.0     0.0\n",
       "39628481667010741 244.738244165986 30.0821464191053 ...     0.0     0.0\n",
       "39628481667010679 244.734191806462 30.1026546552076 ...     0.0     0.0\n",
       "39628481667010666  244.73340491721 30.0895851259223 ...     0.0     0.0\n",
       "39628481667010360 244.715455110645 30.0430095295523 ...     0.0     0.0"
      ]
     },
     "execution_count": 52,
     "metadata": {},
     "output_type": "execute_result"
    }
   ],
   "source": [
    "data_f[:5]"
   ]
  },
  {
   "cell_type": "markdown",
   "metadata": {
    "tags": []
   },
   "source": [
    "## Analyse the data: How much luminosity do we cover? Which galaxies should we observe?\n",
    "\n",
    "Lets look into what information we can retrieve from here. First we define, how many galaxies we could observe (N_galaxies).\n",
    "\n",
    "We then calculate the luminosity (lum) from all the galaxies in this area, i.e. the total luminosity. From there do some comparison between the covered luminosity and total luminosity depending on the ranking by probability:\n",
    "- simple \"Maximum lum that could be covered\" by looking at the brightest galaxies\n",
    "- Calculate the probability this way (from https://arxiv.org/pdf/1710.05452.pdf w/o normalization), both using a static and variable distance and error: $$P_{gal} = k^{-1}\\tilde{L_z}\\cdot P_{2D}\\left(1-\\text{erf}\\left(\\frac{|D_{Gal}-D_{LVC}|}{\\sigma_{D,gal}^{2}+\\sigma_{D,LVC}^{2}}\\right)\\right)$$\n",
    "- others may follow...\n",
    "\n",
    "Since we have the actual luminosity (here in z-band though), we don't need to again calculate the $$\\tilde{L}_{gal}$$ values. In the mentioned paper, they only use a fixed distance and error for the LIGO data. I will try both, to get an idea what the differences are."
   ]
  },
  {
   "cell_type": "code",
   "execution_count": 53,
   "metadata": {},
   "outputs": [],
   "source": [
    "N_galaxies = 20 # how many galaxies we can cover"
   ]
  },
  {
   "cell_type": "code",
   "execution_count": 54,
   "metadata": {},
   "outputs": [],
   "source": [
    "total_lum = np.sum(data_f[\"LUM_Z\"])"
   ]
  },
  {
   "cell_type": "markdown",
   "metadata": {},
   "source": [
    "### Compare lum with luminosity ranking\n",
    "\n",
    "https://iopscience.iop.org/article/10.3847/0067-0049/226/1/10"
   ]
  },
  {
   "cell_type": "code",
   "execution_count": 55,
   "metadata": {},
   "outputs": [],
   "source": [
    "data_sort_by_lums = data_f.group_by(\"LUM_Z\")\n",
    "data_sort_by_lums = data_sort_by_lums[::-1]"
   ]
  },
  {
   "cell_type": "code",
   "execution_count": 56,
   "metadata": {},
   "outputs": [],
   "source": [
    "lum_after_N_highest = np.sum(data_sort_by_lums[\"LUM_Z\"][:N_galaxies])"
   ]
  },
  {
   "cell_type": "code",
   "execution_count": 57,
   "metadata": {},
   "outputs": [
    {
     "name": "stdout",
     "output_type": "stream",
     "text": [
      "The theoretical maximum luminosity we could cover is inf, i.e. nan % of the total luminosity\n",
      "The TARGETID values of these galaxies are: \n",
      "      TARGETID    \n",
      "-----------------\n",
      "39628072831422876\n",
      "39628078766361072\n",
      "39628049133601678\n",
      "39628066930034838\n",
      "39628060999289367\n",
      "39628287755948749\n",
      "39628287747559664\n",
      "39628310262580324\n",
      "39628293380509530\n",
      "39628282114608580\n",
      "39628304625436806\n",
      "39628315857783850\n",
      "39628321440400106\n",
      "39628315832617588\n",
      "39628315841006316\n",
      "39628131903996585\n",
      "39628131895610233\n",
      "39628131912385768\n",
      "39628131912386131\n",
      "39628126040358994\n"
     ]
    },
    {
     "name": "stderr",
     "output_type": "stream",
     "text": [
      "/tmp/ipykernel_243156/122994387.py:1: RuntimeWarning: invalid value encountered in scalar divide\n",
      "  print(f\"The theoretical maximum luminosity we could cover is {lum_after_N_highest}, i.e. {lum_after_N_highest*100/total_lum} % of the total luminosity\")\n"
     ]
    }
   ],
   "source": [
    "print(f\"The theoretical maximum luminosity we could cover is {lum_after_N_highest}, i.e. {lum_after_N_highest*100/total_lum} % of the total luminosity\")\n",
    "print(\"The TARGETID values of these galaxies are: \\n\", data_sort_by_lums[\"TARGETID\"][:N_galaxies])"
   ]
  },
  {
   "cell_type": "markdown",
   "metadata": {},
   "source": [
    "### Compare lum with P_Gal ranking"
   ]
  },
  {
   "cell_type": "code",
   "execution_count": 58,
   "metadata": {},
   "outputs": [],
   "source": [
    "data_sort_by_PGal = data_f.group_by(\"P_GAL\")\n",
    "data_sort_by_PGal = data_sort_by_PGal[::-1]\n",
    "\n",
    "lum_after_N_PGal = np.sum(data_sort_by_PGal[\"LUM_Z\"][:N_galaxies])"
   ]
  },
  {
   "cell_type": "code",
   "execution_count": 59,
   "metadata": {},
   "outputs": [
    {
     "name": "stdout",
     "output_type": "stream",
     "text": [
      "The maximum luminosity we cover when ranked by P_gal is inf, i.e. nan% of the total luminosity\n",
      "The TARGETID values of these galaxies are: \n",
      "     TARGET_RA        TARGET_DEC    SERSIC      TARGETID     P_GAL\n",
      "----------------- ---------------- ------ ----------------- -----\n",
      "0.499497905623266 11.9556911407253    0.0 39628072831422876   nan\n",
      " 1.67465600203055 12.1612269823246    0.0 39628078766361072   nan\n",
      " 1.31902584688177 10.9889575305807    0.0 39628049133601678   nan\n",
      " 1.63484349280745 11.7065345718638    0.0 39628066930034838   nan\n",
      " 1.18760702089412 11.4189097654077    0.0 39628060999289367   nan\n",
      " 38.0353587787192 21.1287218277731    0.0 39628287755948749   nan\n",
      " 37.4209905006093 21.2961460902493    0.0 39628287747559664   nan\n",
      " 38.6530636537961 22.2313011323397    0.0 39628310262580324   nan\n",
      " 37.2077303335268 21.4404783840671    0.0 39628293380509530   nan\n",
      " 38.1807070911734  21.074220726112    0.0 39628282114608580   nan\n",
      " 36.9856732102342 21.9071645488472    0.0 39628304625436806   nan\n",
      " 38.8251579425585 22.4345122574048    0.0 39628315857783850   nan\n",
      " 38.4790319640638 22.7169445920666    0.0 39628321440400106   nan\n",
      " 37.2216261993172 22.4482596501605    0.0 39628315832617588   nan\n",
      " 37.7056546108582  22.527938610685    0.0 39628315841006316   nan\n",
      " 12.1526213375559 14.3900315932849    0.0 39628131903996585   nan\n",
      " 11.7896289623562 14.5063220474498    0.0 39628131895610233   nan\n",
      " 12.7048179643035 14.5290923595034    0.0 39628131912385768   nan\n",
      " 12.7241659529579  14.517692247359    0.0 39628131912386131   nan\n",
      "  12.107001518464 14.1732720434108    0.0 39628126040358994   nan\n"
     ]
    },
    {
     "name": "stderr",
     "output_type": "stream",
     "text": [
      "/tmp/ipykernel_243156/3530422453.py:1: RuntimeWarning: invalid value encountered in scalar divide\n",
      "  print(f\"The maximum luminosity we cover when ranked by P_gal is {lum_after_N_PGal}, i.e. {lum_after_N_PGal*100/total_lum}% of the total luminosity\")\n"
     ]
    }
   ],
   "source": [
    "print(f\"The maximum luminosity we cover when ranked by P_gal is {lum_after_N_PGal}, i.e. {lum_after_N_PGal*100/total_lum}% of the total luminosity\") \n",
    "print(\"The TARGETID values of these galaxies are: \\n\", data_sort_by_PGal[\"TARGET_RA\", \"TARGET_DEC\", \"SERSIC\", \"TARGETID\", \"P_GAL\"][:N_galaxies])"
   ]
  },
  {
   "cell_type": "code",
   "execution_count": 60,
   "metadata": {},
   "outputs": [],
   "source": [
    "data_sort_by_PGal_C = data_f.group_by(\"P_GAL_C\")\n",
    "data_sort_by_PGal_C = data_sort_by_PGal_C[::-1]\n",
    "\n",
    "lum_after_N_PGal_C = np.sum(data_sort_by_PGal_C[\"LUM_Z\"][:N_galaxies])"
   ]
  },
  {
   "cell_type": "code",
   "execution_count": 61,
   "metadata": {},
   "outputs": [
    {
     "name": "stdout",
     "output_type": "stream",
     "text": [
      "The maximum luminosity we cover when ranked by P_gal_C is inf, i.e. nan% of the total luminosity\n",
      "The TARGETID values of these galaxies are: \n",
      "      TARGETID     P_GAL\n",
      "----------------- -----\n",
      "39628072831422876   nan\n",
      "39628078766361072   nan\n",
      "39628049133601678   nan\n",
      "39628066930034838   nan\n",
      "39628060999289367   nan\n",
      "39628287755948749   nan\n",
      "39628287747559664   nan\n",
      "39628310262580324   nan\n",
      "39628293380509530   nan\n",
      "39628282114608580   nan\n",
      "39628304625436806   nan\n",
      "39628315857783850   nan\n",
      "39628321440400106   nan\n",
      "39628315832617588   nan\n",
      "39628315841006316   nan\n",
      "39628131903996585   nan\n",
      "39628131895610233   nan\n",
      "39628131912385768   nan\n",
      "39628131912386131   nan\n",
      "39628126040358994   nan\n"
     ]
    },
    {
     "name": "stderr",
     "output_type": "stream",
     "text": [
      "/tmp/ipykernel_243156/4279787764.py:1: RuntimeWarning: invalid value encountered in scalar divide\n",
      "  print(f\"The maximum luminosity we cover when ranked by P_gal_C is {lum_after_N_PGal_C}, i.e. {lum_after_N_PGal_C*100/total_lum}% of the total luminosity\")\n"
     ]
    }
   ],
   "source": [
    "print(f\"The maximum luminosity we cover when ranked by P_gal_C is {lum_after_N_PGal_C}, i.e. {lum_after_N_PGal_C*100/total_lum}% of the total luminosity\") \n",
    "print(\"The TARGETID values of these galaxies are: \\n\", data_sort_by_PGal_C[\"TARGETID\", \"P_GAL\"][:N_galaxies])"
   ]
  },
  {
   "cell_type": "code",
   "execution_count": 62,
   "metadata": {},
   "outputs": [
    {
     "ename": "OSError",
     "evalue": "File PGAl_S200129.ecsv already exists. If you mean to replace it then use the argument \"overwrite=True\".",
     "output_type": "error",
     "traceback": [
      "\u001b[0;31m---------------------------------------------------------------------------\u001b[0m",
      "\u001b[0;31mOSError\u001b[0m                                   Traceback (most recent call last)",
      "Cell \u001b[0;32mIn[62], line 1\u001b[0m\n\u001b[0;32m----> 1\u001b[0m \u001b[43mdata_sort_by_PGal\u001b[49m\u001b[43m[\u001b[49m\u001b[38;5;124;43m\"\u001b[39;49m\u001b[38;5;124;43mTARGET_RA\u001b[39;49m\u001b[38;5;124;43m\"\u001b[39;49m\u001b[43m,\u001b[49m\u001b[43m \u001b[49m\u001b[38;5;124;43m\"\u001b[39;49m\u001b[38;5;124;43mTARGET_DEC\u001b[39;49m\u001b[38;5;124;43m\"\u001b[39;49m\u001b[43m,\u001b[49m\u001b[43m \u001b[49m\u001b[38;5;124;43m\"\u001b[39;49m\u001b[38;5;124;43mSERSIC\u001b[39;49m\u001b[38;5;124;43m\"\u001b[39;49m\u001b[43m,\u001b[49m\u001b[43m \u001b[49m\u001b[38;5;124;43m\"\u001b[39;49m\u001b[38;5;124;43mZ\u001b[39;49m\u001b[38;5;124;43m\"\u001b[39;49m\u001b[43m,\u001b[49m\u001b[43m \u001b[49m\u001b[38;5;124;43m\"\u001b[39;49m\u001b[38;5;124;43mP_GAL\u001b[39;49m\u001b[38;5;124;43m\"\u001b[39;49m\u001b[43m]\u001b[49m\u001b[43m[\u001b[49m\u001b[43m:\u001b[49m\u001b[43mN_galaxies\u001b[49m\u001b[43m]\u001b[49m\u001b[38;5;241;43m.\u001b[39;49m\u001b[43mwrite\u001b[49m\u001b[43m(\u001b[49m\u001b[38;5;124;43m'\u001b[39;49m\u001b[38;5;124;43mPGAl_S200129.ecsv\u001b[39;49m\u001b[38;5;124;43m'\u001b[39;49m\u001b[43m,\u001b[49m\u001b[43m \u001b[49m\u001b[43mdelimiter\u001b[49m\u001b[38;5;241;43m=\u001b[39;49m\u001b[38;5;124;43m'\u001b[39;49m\u001b[38;5;124;43m,\u001b[39;49m\u001b[38;5;124;43m'\u001b[39;49m\u001b[43m,\u001b[49m\u001b[43m \u001b[49m\u001b[38;5;28;43mformat\u001b[39;49m\u001b[38;5;241;43m=\u001b[39;49m\u001b[38;5;124;43m'\u001b[39;49m\u001b[38;5;124;43mascii\u001b[39;49m\u001b[38;5;124;43m'\u001b[39;49m\u001b[43m,\u001b[49m\u001b[43m \u001b[49m\u001b[43moverwrite\u001b[49m\u001b[43m \u001b[49m\u001b[38;5;241;43m=\u001b[39;49m\u001b[43m \u001b[49m\u001b[38;5;28;43;01mFalse\u001b[39;49;00m\u001b[43m)\u001b[49m\n",
      "File \u001b[0;32m~/.conda/envs/MambaTest/lib/python3.10/site-packages/astropy/table/connect.py:130\u001b[0m, in \u001b[0;36mTableWrite.__call__\u001b[0;34m(self, serialize_method, *args, **kwargs)\u001b[0m\n\u001b[1;32m    128\u001b[0m instance \u001b[38;5;241m=\u001b[39m \u001b[38;5;28mself\u001b[39m\u001b[38;5;241m.\u001b[39m_instance\n\u001b[1;32m    129\u001b[0m \u001b[38;5;28;01mwith\u001b[39;00m serialize_method_as(instance, serialize_method):\n\u001b[0;32m--> 130\u001b[0m     \u001b[38;5;28;43mself\u001b[39;49m\u001b[38;5;241;43m.\u001b[39;49m\u001b[43mregistry\u001b[49m\u001b[38;5;241;43m.\u001b[39;49m\u001b[43mwrite\u001b[49m\u001b[43m(\u001b[49m\u001b[43minstance\u001b[49m\u001b[43m,\u001b[49m\u001b[43m \u001b[49m\u001b[38;5;241;43m*\u001b[39;49m\u001b[43margs\u001b[49m\u001b[43m,\u001b[49m\u001b[43m \u001b[49m\u001b[38;5;241;43m*\u001b[39;49m\u001b[38;5;241;43m*\u001b[39;49m\u001b[43mkwargs\u001b[49m\u001b[43m)\u001b[49m\n",
      "File \u001b[0;32m~/.conda/envs/MambaTest/lib/python3.10/site-packages/astropy/io/registry/core.py:385\u001b[0m, in \u001b[0;36mUnifiedOutputRegistry.write\u001b[0;34m(self, data, format, *args, **kwargs)\u001b[0m\n\u001b[1;32m    380\u001b[0m     \u001b[38;5;28mformat\u001b[39m \u001b[38;5;241m=\u001b[39m \u001b[38;5;28mself\u001b[39m\u001b[38;5;241m.\u001b[39m_get_valid_format(\n\u001b[1;32m    381\u001b[0m         \u001b[38;5;124m\"\u001b[39m\u001b[38;5;124mwrite\u001b[39m\u001b[38;5;124m\"\u001b[39m, data\u001b[38;5;241m.\u001b[39m\u001b[38;5;18m__class__\u001b[39m, path, fileobj, args, kwargs\n\u001b[1;32m    382\u001b[0m     )\n\u001b[1;32m    384\u001b[0m writer \u001b[38;5;241m=\u001b[39m \u001b[38;5;28mself\u001b[39m\u001b[38;5;241m.\u001b[39mget_writer(\u001b[38;5;28mformat\u001b[39m, data\u001b[38;5;241m.\u001b[39m\u001b[38;5;18m__class__\u001b[39m)\n\u001b[0;32m--> 385\u001b[0m \u001b[38;5;28;01mreturn\u001b[39;00m \u001b[43mwriter\u001b[49m\u001b[43m(\u001b[49m\u001b[43mdata\u001b[49m\u001b[43m,\u001b[49m\u001b[43m \u001b[49m\u001b[38;5;241;43m*\u001b[39;49m\u001b[43margs\u001b[49m\u001b[43m,\u001b[49m\u001b[43m \u001b[49m\u001b[38;5;241;43m*\u001b[39;49m\u001b[38;5;241;43m*\u001b[39;49m\u001b[43mkwargs\u001b[49m\u001b[43m)\u001b[49m\n",
      "File \u001b[0;32m~/.conda/envs/MambaTest/lib/python3.10/site-packages/astropy/io/ascii/connect.py:28\u001b[0m, in \u001b[0;36mio_write\u001b[0;34m(format, table, filename, **kwargs)\u001b[0m\n\u001b[1;32m     26\u001b[0m     \u001b[38;5;28mformat\u001b[39m \u001b[38;5;241m=\u001b[39m re\u001b[38;5;241m.\u001b[39msub(\u001b[38;5;124mr\u001b[39m\u001b[38;5;124m\"\u001b[39m\u001b[38;5;124m^ascii\u001b[39m\u001b[38;5;124m\\\u001b[39m\u001b[38;5;124m.\u001b[39m\u001b[38;5;124m\"\u001b[39m, \u001b[38;5;124m\"\u001b[39m\u001b[38;5;124m\"\u001b[39m, \u001b[38;5;28mformat\u001b[39m)\n\u001b[1;32m     27\u001b[0m     kwargs[\u001b[38;5;124m\"\u001b[39m\u001b[38;5;124mformat\u001b[39m\u001b[38;5;124m\"\u001b[39m] \u001b[38;5;241m=\u001b[39m \u001b[38;5;28mformat\u001b[39m\n\u001b[0;32m---> 28\u001b[0m \u001b[38;5;28;01mreturn\u001b[39;00m \u001b[43mwrite\u001b[49m\u001b[43m(\u001b[49m\u001b[43mtable\u001b[49m\u001b[43m,\u001b[49m\u001b[43m \u001b[49m\u001b[43mfilename\u001b[49m\u001b[43m,\u001b[49m\u001b[43m \u001b[49m\u001b[38;5;241;43m*\u001b[39;49m\u001b[38;5;241;43m*\u001b[39;49m\u001b[43mkwargs\u001b[49m\u001b[43m)\u001b[49m\n",
      "File \u001b[0;32m~/.conda/envs/MambaTest/lib/python3.10/site-packages/astropy/io/ascii/ui.py:940\u001b[0m, in \u001b[0;36mwrite\u001b[0;34m(table, output, format, Writer, fast_writer, overwrite, **kwargs)\u001b[0m\n\u001b[1;32m    938\u001b[0m     output \u001b[38;5;241m=\u001b[39m os\u001b[38;5;241m.\u001b[39mpath\u001b[38;5;241m.\u001b[39mexpanduser(output)\n\u001b[1;32m    939\u001b[0m     \u001b[38;5;28;01mif\u001b[39;00m \u001b[38;5;129;01mnot\u001b[39;00m overwrite \u001b[38;5;129;01mand\u001b[39;00m os\u001b[38;5;241m.\u001b[39mpath\u001b[38;5;241m.\u001b[39mlexists(output):\n\u001b[0;32m--> 940\u001b[0m         \u001b[38;5;28;01mraise\u001b[39;00m \u001b[38;5;167;01mOSError\u001b[39;00m(NOT_OVERWRITING_MSG\u001b[38;5;241m.\u001b[39mformat(output))\n\u001b[1;32m    942\u001b[0m \u001b[38;5;28;01mif\u001b[39;00m output \u001b[38;5;129;01mis\u001b[39;00m \u001b[38;5;28;01mNone\u001b[39;00m:\n\u001b[1;32m    943\u001b[0m     output \u001b[38;5;241m=\u001b[39m sys\u001b[38;5;241m.\u001b[39mstdout\n",
      "\u001b[0;31mOSError\u001b[0m: File PGAl_S200129.ecsv already exists. If you mean to replace it then use the argument \"overwrite=True\"."
     ]
    }
   ],
   "source": [
    "data_sort_by_PGal[\"TARGET_RA\", \"TARGET_DEC\", \"SERSIC\", \"Z\", \"P_GAL\"][:N_galaxies].write('PGAl_S200129.ecsv', delimiter=',', format='ascii', overwrite = False)\n"
   ]
  },
  {
   "cell_type": "code",
   "execution_count": null,
   "metadata": {},
   "outputs": [],
   "source": []
  }
 ],
 "metadata": {
  "kernelspec": {
   "display_name": "Python (MambaTest)",
   "language": "python",
   "name": "mambatest"
  },
  "language_info": {
   "codemirror_mode": {
    "name": "ipython",
    "version": 3
   },
   "file_extension": ".py",
   "mimetype": "text/x-python",
   "name": "python",
   "nbconvert_exporter": "python",
   "pygments_lexer": "ipython3",
   "version": "3.10.10"
  }
 },
 "nbformat": 4,
 "nbformat_minor": 4
}
