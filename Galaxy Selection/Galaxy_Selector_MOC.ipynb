{
 "cells": [
  {
   "cell_type": "markdown",
   "metadata": {
    "tags": []
   },
   "source": [
    "# Galaxy Selector MOC\n",
    "\n",
    "**Designed to work with Multi-Ordering-Sky-Maps and both burst (i.e. no distance) and normal LVK maps**\n",
    "\n",
    "\n",
    "\n",
    "Select the galaxies to observe by WWFI in this simple manner:\n",
    "- get the LIGO event data\n",
    "- read the LIGO event data into the notebook, extract some information\n",
    "- read the DESI database into the notebook, \"clean\" the data\n",
    "- get the 99% credible regions for the event, add them as a column to the data\n",
    "- only keep data within the 99% region\n",
    "- calculate all the luminosities (& more)\n",
    "- rank them by luminosity (for now just print the TARGETID), 3D/2D localization and with a luminosity-distance 2D dependant counterpart likelihood\n",
    "\n",
    "(some) Sources: \n",
    "- https://iopscience.iop.org/article/10.3847/0067-0049/226/1/10\n",
    "- https://emfollow.docs.ligo.org/userguide/tutorial/skymaps.html\n",
    "- https://emfollow.docs.ligo.org/userguide/tutorial/multiorder_skymaps.html\n",
    "- https://arxiv.org/pdf/1710.05452.pdf"
   ]
  },
  {
   "cell_type": "markdown",
   "metadata": {
    "tags": []
   },
   "source": [
    "## Import all libraries, load GW data and DESI data and extract basic info"
   ]
  },
  {
   "cell_type": "markdown",
   "metadata": {
    "tags": []
   },
   "source": [
    "### imports, GW data loading"
   ]
  },
  {
   "cell_type": "code",
   "execution_count": 1,
   "metadata": {},
   "outputs": [],
   "source": [
    "import numpy as np\n",
    "from scipy.stats import norm\n",
    "import scipy as sc\n",
    "from scipy.integrate import quad\n",
    "\n",
    "\n",
    "from astropy.io import fits, ascii\n",
    "from astropy.table import Table, hstack, QTable\n",
    "from astropy import table\n",
    "from astropy.coordinates import SkyCoord, EarthLocation, AltAz\n",
    "\n",
    "import astropy_healpix as ah\n",
    "\n",
    "\n",
    "import psycopg2\n",
    "\n",
    "from scipy.stats import norm\n",
    "\n",
    "from astropy.cosmology import FlatLambdaCDM\n",
    "from astropy.cosmology import Planck18, z_at_value\n",
    "from astropy.coordinates import Distance, SkyCoord\n",
    "from astropy import units as u\n",
    "\n",
    "import astropy.constants as asc\n",
    "\n",
    "import matplotlib.pyplot as plt\n",
    "\n",
    "import requests as rq\n",
    "\n",
    "import gasel as gs\n",
    "\n",
    "from datetime import datetime\n",
    "from datetime import timedelta\n",
    "from datetime import date\n",
    "from suntimes import SunTimes\n",
    "import pytz"
   ]
  },
  {
   "cell_type": "code",
   "execution_count": 2,
   "metadata": {},
   "outputs": [
    {
     "name": "stdout",
     "output_type": "stream",
     "text": [
      "(to get DESI data) you should run scp dgruen@perlmutter.nersc.gov:/pscratch/sd/j/jgassert/good_z_data.fits /project/ls-gruen/ligodesi/\n"
     ]
    }
   ],
   "source": [
    "# Get DESI data\n",
    "print(\"(to get DESI data) you should run scp dgruen@perlmutter.nersc.gov:/pscratch/sd/j/jgassert/good_z_data.fits /project/ls-gruen/ligodesi/\")\n",
    "\n",
    "# specify the superevent name:\n",
    "superevent_name = \"S230627c\"\n",
    "\n",
    "# pipeline - bayestar is preferred if available, otherwise maybe use olib? bilby? cwb? whatever these mean\n",
    "pipeline_type = \"bayestar\"\n",
    "\n",
    "if pipeline_type == \"cwb\":\n",
    "    # bursts probably only for very nearby core-collapse or Andromeda events, maybe cut at 1Mpc or something of that order? -> check if there is a very nearby galaxy\n",
    "        # think about which pipeline detected it!\n",
    "    # or very massive bbh but then hope is that cbc would detect as well\n",
    "    \n",
    "    modeled_search = False\n",
    "else:\n",
    "    modeled_search = True\n",
    "\n",
    "# storage directory\n",
    "# storage = \"/project/ls-gruen/ligodesi/\"\n",
    "# storage_desi_data = storage\n",
    "storage = \"/global/homes/j/jgassert/ligo-desi-gw-follow-up/Galaxy Selection/Files/\" # Julius on NERSC\n",
    "storage_desi_data = \"/pscratch/sd/j/jgassert/\""
   ]
  },
  {
   "cell_type": "code",
   "execution_count": 3,
   "metadata": {},
   "outputs": [
    {
     "name": "stdout",
     "output_type": "stream",
     "text": [
      "read skymap from local file\n"
     ]
    }
   ],
   "source": [
    "path = storage+f\"{superevent_name}{pipeline_type}.multiorder.fits,1\" # 5min after alert this should be there\n",
    "\n",
    "try:\n",
    "    skymap = QTable.read(path)\n",
    "    print(\"read skymap from local file\")\n",
    "    \n",
    "except:\n",
    "    download_url = f\"https://gracedb.ligo.org/api/superevents/{superevent_name}/files/{pipeline_type}.multiorder.fits,1\"\n",
    "    save_path = storage+f\"{superevent_name}{pipeline_type}.multiorder.fits,1\"\n",
    "    print(\"no local skymap...\")\n",
    "    print(f\"...will download LIGO event file from superevent {superevent_name}, corresponding file URL is {download_url} and save it in .../Files/\")\n",
    "    \n",
    "    response = rq.get(download_url, allow_redirects = True)\n",
    "    print(\"HTTP status\",response.status_code)\n",
    "    if response.status_code == 200:\n",
    "        with open(save_path, 'wb') as f:\n",
    "            f.write(response.content)\n",
    "            \n",
    "        skymap = QTable.read(path)"
   ]
  },
  {
   "cell_type": "markdown",
   "metadata": {},
   "source": [
    "Specifiy the path where the data is located and then load the data (this loads everything, just have a look)"
   ]
  },
  {
   "cell_type": "code",
   "execution_count": 4,
   "metadata": {},
   "outputs": [
    {
     "data": {
      "text/html": [
       "<div><i>QTable length=5</i>\n",
       "<table id=\"table140655985463824\" class=\"table-striped table-bordered table-condensed\">\n",
       "<thead><tr><th>UNIQ</th><th>PROBDENSITY</th><th>DISTMU</th><th>DISTSIGMA</th><th>DISTNORM</th></tr></thead>\n",
       "<thead><tr><th></th><th>1 / sr</th><th>Mpc</th><th>Mpc</th><th>1 / Mpc2</th></tr></thead>\n",
       "<thead><tr><th>int64</th><th>float64</th><th>float64</th><th>float64</th><th>float64</th></tr></thead>\n",
       "<tr><td>1024</td><td>4.834044936031839e-59</td><td>87.43650628311332</td><td>5.361010453946117</td><td>0.00013031212381646256</td></tr>\n",
       "<tr><td>1025</td><td>2.608327404101132e-66</td><td>59.407119949864665</td><td>51.91809126858443</td><td>0.000164524119655172</td></tr>\n",
       "<tr><td>1026</td><td>3.913738900051278e-55</td><td>89.63029724276628</td><td>4.9586462203413495</td><td>0.00012409752623990028</td></tr>\n",
       "<tr><td>1027</td><td>2.1602709155673238e-63</td><td>89.48140051853844</td><td>23.865930127557007</td><td>0.00011659770413241142</td></tr>\n",
       "<tr><td>1028</td><td>2.1830901379702983e-72</td><td>96.48564911597133</td><td>17.122543791193262</td><td>0.00010413779022211329</td></tr>\n",
       "</table></div>"
      ],
      "text/plain": [
       "<QTable length=5>\n",
       " UNIQ      PROBDENSITY       ...     DISTSIGMA             DISTNORM       \n",
       "              1 / sr         ...        Mpc                1 / Mpc2       \n",
       "int64        float64         ...      float64              float64        \n",
       "----- ---------------------- ... ------------------ ----------------------\n",
       " 1024  4.834044936031839e-59 ...  5.361010453946117 0.00013031212381646256\n",
       " 1025  2.608327404101132e-66 ...  51.91809126858443   0.000164524119655172\n",
       " 1026  3.913738900051278e-55 ... 4.9586462203413495 0.00012409752623990028\n",
       " 1027 2.1602709155673238e-63 ... 23.865930127557007 0.00011659770413241142\n",
       " 1028 2.1830901379702983e-72 ... 17.122543791193262 0.00010413779022211329"
      ]
     },
     "execution_count": 4,
     "metadata": {},
     "output_type": "execute_result"
    }
   ],
   "source": [
    "skymap[:5]"
   ]
  },
  {
   "cell_type": "markdown",
   "metadata": {
    "tags": []
   },
   "source": [
    "### Get basic values from GW event\n",
    "\n",
    "We now extract some basic information  from the healpix data:\n",
    "- ipix_max: pixel with highest likelihood\n",
    "- npix: total number of pixels\n",
    "- ra, dec: ra and dec of the pixel with the highest likelihood\n",
    "\n",
    "Then we open the full fits file and extract some more basic info from the header:\n",
    "- dist_mean: mean distance of the GW event\n",
    "- dist_std: error of the distance"
   ]
  },
  {
   "cell_type": "code",
   "execution_count": 5,
   "metadata": {},
   "outputs": [
    {
     "name": "stdout",
     "output_type": "stream",
     "text": [
      "UNIQ ID of highest prob sky localization:  5714048\n"
     ]
    }
   ],
   "source": [
    "# most probable sky location\n",
    "i = np.argmax(skymap[\"PROBDENSITY\"])\n",
    "uniq = skymap[i][\"UNIQ\"]\n",
    "print(\"UNIQ ID of highest prob sky localization: \", uniq)"
   ]
  },
  {
   "cell_type": "code",
   "execution_count": 6,
   "metadata": {},
   "outputs": [
    {
     "name": "stdout",
     "output_type": "stream",
     "text": [
      "Highest probability at (RA, dec):  160.56933483652762 48.58109886316553 with prob [1/deg^2] of:  0.037787030614068476 and UNIQ ID:  5714048\n"
     ]
    }
   ],
   "source": [
    "# calculate the most probable pixel, convert to RA and dec\n",
    "level_max, ipix_max = ah.uniq_to_level_ipix(uniq)\n",
    "nside = ah.level_to_nside(level_max)\n",
    "ra, dec = ah.healpix_to_lonlat(ipix_max, nside, order = \"nested\")\n",
    "print(\"Highest probability at (RA, dec): \", ra.deg, dec.deg, \"with prob [1/deg^2] of: \", skymap[i]['PROBDENSITY'].to_value(u.deg**-2), \"and UNIQ ID: \", skymap[i][\"UNIQ\"])"
   ]
  },
  {
   "cell_type": "markdown",
   "metadata": {},
   "source": [
    "Now open the fits file and read basics info from the header"
   ]
  },
  {
   "cell_type": "code",
   "execution_count": 7,
   "metadata": {},
   "outputs": [
    {
     "name": "stdout",
     "output_type": "stream",
     "text": [
      "The dist_mean and dist_std values:  277.7947337520903 Mpc 68.32180306338739 Mpc\n",
      "This corresponds to the most likely z 0.05999613953326298 redshift and its error 0.01524239412015507 redshift\n"
     ]
    }
   ],
   "source": [
    "if modeled_search:\n",
    "    fits_gw = fits.open(path)\n",
    "    header = fits_gw[1].header\n",
    "    dist_mean = header[\"DISTMEAN\"]\n",
    "    dist_std = header[\"DISTSTD\"]\n",
    "    print(\"The dist_mean and dist_std values: \", dist_mean*u.Mpc, dist_std*u.Mpc)\n",
    "    most_likely_z = z_at_value(Planck18.luminosity_distance, dist_mean*u.Mpc, zmax = 5)\n",
    "    most_likely_z_std = z_at_value(Planck18.luminosity_distance, dist_std*u.Mpc, zmax = 5)\n",
    "    print(f\"This corresponds to the most likely z {most_likely_z} and its error {most_likely_z_std}\")\n",
    "else:\n",
    "    print(\"As this is an unmodeled search there is no distance available\")"
   ]
  },
  {
   "cell_type": "markdown",
   "metadata": {
    "tags": []
   },
   "source": [
    "### Get DESI data\n",
    "\n",
    "Load the full daily data from the file, which only includes good redshift objects"
   ]
  },
  {
   "cell_type": "code",
   "execution_count": 8,
   "metadata": {},
   "outputs": [],
   "source": [
    "follow_up_others = False\n",
    "\n",
    "follow_up_their_z = False"
   ]
  },
  {
   "cell_type": "code",
   "execution_count": 9,
   "metadata": {},
   "outputs": [],
   "source": [
    "if follow_up_others:\n",
    "    center_ra = 109.25\n",
    "    center_dec = 63.68\n",
    "    radius = 1.227\n",
    "    \n",
    "    data = gs.db_doall(center_ra, center_dec, radius)\n",
    "    \n",
    "    if follow_up_their_z:\n",
    "        z_others = 0\n",
    "        z_others_std = 0.4\n",
    "        sigma_accuracy = 1\n",
    "    \n",
    "        ii = data[\"Z\"]-sigma_accuracy*data[\"ZERR\"]<z_others+sigma_accuracy*z_others_std\n",
    "        ii &= data[\"Z\"]+sigma_accuracy*data[\"ZERR\"]>z_others-sigma_accuracy*z_others_std\n",
    "    \n",
    "        data = data[ii]\n",
    "    \n",
    "    \n",
    "else:\n",
    "    data = Table.read(storage_desi_data+\"good_z_data.fits\")"
   ]
  },
  {
   "cell_type": "code",
   "execution_count": 10,
   "metadata": {},
   "outputs": [
    {
     "data": {
      "text/html": [
       "<div><i>Table length=5</i>\n",
       "<table id=\"table140654862743008\" class=\"table-striped table-bordered table-condensed\">\n",
       "<thead><tr><th>TARGETID</th><th>TARGET_RA</th><th>TARGET_DEC</th><th>LASTNIGHT</th><th>Z</th><th>ZERR</th><th>ZWARN</th><th>FLUX_G</th><th>FLUX_R</th><th>FLUX_Z</th><th>SPECTYPE</th><th>BGS_TARGET</th><th>EBV</th><th>SERSIC</th></tr></thead>\n",
       "<thead><tr><th>int64</th><th>float64</th><th>float64</th><th>int64</th><th>float64</th><th>float64</th><th>int64</th><th>float64</th><th>float64</th><th>float64</th><th>bytes6</th><th>int64</th><th>float64</th><th>float64</th></tr></thead>\n",
       "<tr><td>-407206628</td><td>289.160148698913</td><td>63.8756777034092</td><td>20210513</td><td>0.488143245600312</td><td>6.00460085329576e-05</td><td>0</td><td>0.0</td><td>0.0</td><td>0.0</td><td>GALAXY</td><td>0</td><td>0.0</td><td>0.0</td></tr>\n",
       "<tr><td>-407206517</td><td>289.24523373072</td><td>64.1182126208345</td><td>20210513</td><td>0.353953432359517</td><td>9.16563620937551e-05</td><td>0</td><td>0.0</td><td>0.0</td><td>0.0</td><td>GALAXY</td><td>0</td><td>0.0</td><td>0.0</td></tr>\n",
       "<tr><td>-407206395</td><td>288.991137990503</td><td>64.4269390406163</td><td>20210513</td><td>1.04167986703249</td><td>0.000103598417102832</td><td>0</td><td>0.0</td><td>0.0</td><td>0.0</td><td>GALAXY</td><td>0</td><td>0.0</td><td>0.0</td></tr>\n",
       "<tr><td>-407206306</td><td>288.328820102558</td><td>64.8171915439228</td><td>20210513</td><td>0.446085744563991</td><td>0.000103302897346752</td><td>0</td><td>0.0</td><td>0.0</td><td>0.0</td><td>GALAXY</td><td>0</td><td>0.0</td><td>0.0</td></tr>\n",
       "<tr><td>-407206302</td><td>288.170414727353</td><td>64.8761951861955</td><td>20210513</td><td>5.11210896599966</td><td>0.000690663180059733</td><td>0</td><td>0.0</td><td>0.0</td><td>0.0</td><td>QSO</td><td>0</td><td>0.0</td><td>0.0</td></tr>\n",
       "</table></div>"
      ],
      "text/plain": [
       "<Table length=5>\n",
       " TARGETID     TARGET_RA        TARGET_DEC    ... BGS_TARGET   EBV    SERSIC\n",
       "  int64        float64          float64      ...   int64    float64 float64\n",
       "---------- ---------------- ---------------- ... ---------- ------- -------\n",
       "-407206628 289.160148698913 63.8756777034092 ...          0     0.0     0.0\n",
       "-407206517  289.24523373072 64.1182126208345 ...          0     0.0     0.0\n",
       "-407206395 288.991137990503 64.4269390406163 ...          0     0.0     0.0\n",
       "-407206306 288.328820102558 64.8171915439228 ...          0     0.0     0.0\n",
       "-407206302 288.170414727353 64.8761951861955 ...          0     0.0     0.0"
      ]
     },
     "execution_count": 10,
     "metadata": {},
     "output_type": "execute_result"
    }
   ],
   "source": [
    "data[:5]"
   ]
  },
  {
   "cell_type": "markdown",
   "metadata": {
    "tags": []
   },
   "source": [
    "## Do all the calculations, selections,...\n",
    "\n",
    "- turn the daily DESI data into a Table\n",
    "- do some basic data selection stuff: only keep good + positive redshifts, only positive values of r-band flux and eliminate duplicates (right now simply takes the first entry)\n",
    "- add the ipix (healpix) pixel value for each target\n",
    "- calculate the probability for each target\n",
    "- add these values to the Table (\"PROB\"), select only targets within the 99% credible region (i.e. with a certainty of 99% the GW event is inside this region)\n",
    "- calculate the distances and its errors from the redshift, add to the data table\n",
    "- calculate the 3D probability just like here: https://iopscience.iop.org/article/10.3847/0067-0049/226/1/10 (§4) and add these values to the table\n",
    "- sort the table by its 3D probability (descending)\n",
    "- calculate absolute and apparent magnitude, luminosity and add to table\n",
    "\n",
    "The final step is to include the calculation of the most likely host galaxy from https://arxiv.org/pdf/1710.05452.pdf (GW170817); these values are then also added to the table as \"P_GAL\""
   ]
  },
  {
   "cell_type": "code",
   "execution_count": 11,
   "metadata": {},
   "outputs": [
    {
     "data": {
      "text/html": [
       "<div><i>Table length=5</i>\n",
       "<table id=\"table140654862739456\" class=\"table-striped table-bordered table-condensed\">\n",
       "<thead><tr><th>TARGETID</th><th>TARGET_RA</th><th>TARGET_DEC</th><th>LASTNIGHT</th><th>Z</th><th>ZERR</th><th>ZWARN</th><th>FLUX_G</th><th>FLUX_R</th><th>FLUX_Z</th><th>SPECTYPE</th><th>BGS_TARGET</th><th>EBV</th><th>SERSIC</th></tr></thead>\n",
       "<thead><tr><th>int64</th><th>float64</th><th>float64</th><th>int64</th><th>float64</th><th>float64</th><th>int64</th><th>float64</th><th>float64</th><th>float64</th><th>bytes6</th><th>int64</th><th>float64</th><th>float64</th></tr></thead>\n",
       "<tr><td>-407206628</td><td>289.160148698913</td><td>63.8756777034092</td><td>20210513</td><td>0.488143245600312</td><td>6.00460085329576e-05</td><td>0</td><td>0.0</td><td>0.0</td><td>0.0</td><td>GALAXY</td><td>0</td><td>0.0</td><td>0.0</td></tr>\n",
       "<tr><td>-407206517</td><td>289.24523373072</td><td>64.1182126208345</td><td>20210513</td><td>0.353953432359517</td><td>9.16563620937551e-05</td><td>0</td><td>0.0</td><td>0.0</td><td>0.0</td><td>GALAXY</td><td>0</td><td>0.0</td><td>0.0</td></tr>\n",
       "<tr><td>-407206395</td><td>288.991137990503</td><td>64.4269390406163</td><td>20210513</td><td>1.04167986703249</td><td>0.000103598417102832</td><td>0</td><td>0.0</td><td>0.0</td><td>0.0</td><td>GALAXY</td><td>0</td><td>0.0</td><td>0.0</td></tr>\n",
       "<tr><td>-407206306</td><td>288.328820102558</td><td>64.8171915439228</td><td>20210513</td><td>0.446085744563991</td><td>0.000103302897346752</td><td>0</td><td>0.0</td><td>0.0</td><td>0.0</td><td>GALAXY</td><td>0</td><td>0.0</td><td>0.0</td></tr>\n",
       "<tr><td>-407206302</td><td>288.170414727353</td><td>64.8761951861955</td><td>20210513</td><td>5.11210896599966</td><td>0.000690663180059733</td><td>0</td><td>0.0</td><td>0.0</td><td>0.0</td><td>QSO</td><td>0</td><td>0.0</td><td>0.0</td></tr>\n",
       "</table></div>"
      ],
      "text/plain": [
       "<Table length=5>\n",
       " TARGETID     TARGET_RA        TARGET_DEC    ... BGS_TARGET   EBV    SERSIC\n",
       "  int64        float64          float64      ...   int64    float64 float64\n",
       "---------- ---------------- ---------------- ... ---------- ------- -------\n",
       "-407206628 289.160148698913 63.8756777034092 ...          0     0.0     0.0\n",
       "-407206517  289.24523373072 64.1182126208345 ...          0     0.0     0.0\n",
       "-407206395 288.991137990503 64.4269390406163 ...          0     0.0     0.0\n",
       "-407206306 288.328820102558 64.8171915439228 ...          0     0.0     0.0\n",
       "-407206302 288.170414727353 64.8761951861955 ...          0     0.0     0.0"
      ]
     },
     "execution_count": 11,
     "metadata": {},
     "output_type": "execute_result"
    }
   ],
   "source": [
    "data[:5]"
   ]
  },
  {
   "cell_type": "markdown",
   "metadata": {
    "tags": []
   },
   "source": [
    "### data clean up"
   ]
  },
  {
   "cell_type": "code",
   "execution_count": 12,
   "metadata": {},
   "outputs": [],
   "source": [
    "#data = data[data[\"Z\"]> 0] # this migh have 2 reasons\n",
    "#data = data[data[\"ZWARN\"] == 0]"
   ]
  },
  {
   "cell_type": "code",
   "execution_count": 13,
   "metadata": {},
   "outputs": [],
   "source": [
    "#data = data[data['FLUX_Z']>0]\n",
    "# data = table.unique(data, keys = \"TARGETID\")"
   ]
  },
  {
   "cell_type": "code",
   "execution_count": 14,
   "metadata": {},
   "outputs": [],
   "source": [
    "data = data[data[\"TARGETID\"]>0]"
   ]
  },
  {
   "cell_type": "code",
   "execution_count": 15,
   "metadata": {},
   "outputs": [
    {
     "name": "stdout",
     "output_type": "stream",
     "text": [
      "We have 28139735 objects in the full catalog\n"
     ]
    }
   ],
   "source": [
    "print(f\"We have {len(data)} objects in the full catalog\")"
   ]
  },
  {
   "cell_type": "markdown",
   "metadata": {},
   "source": [
    "We should also get rid of stars, since they wont be the host of a GW event"
   ]
  },
  {
   "cell_type": "code",
   "execution_count": 16,
   "metadata": {},
   "outputs": [],
   "source": [
    "data = data[data[\"SPECTYPE\"] != \"STAR\"]"
   ]
  },
  {
   "cell_type": "markdown",
   "metadata": {
    "jp-MarkdownHeadingCollapsed": true,
    "tags": []
   },
   "source": [
    "### Calculate the healpix id for every object in the catalog and its probability; append this data to the Table"
   ]
  },
  {
   "cell_type": "code",
   "execution_count": 17,
   "metadata": {},
   "outputs": [],
   "source": [
    "max_level = 29 # highest possible HEALPix resolution that can be represented in a 64-bit signed integer\n",
    "max_nside = ah.level_to_nside(max_level)\n",
    "level, ipix = ah.uniq_to_level_ipix(skymap[\"UNIQ\"])\n",
    "\n",
    "index = ipix*(2**(max_level-level))**2\n",
    "\n",
    "sorter = np.argsort(index)\n",
    "\n",
    "# this is the NESTED pixel index of the target sky location, NOT THE UNIQ ID\n",
    "match_ipix = ah.lonlat_to_healpix(data[\"TARGET_RA\"]*u.deg, data[\"TARGET_DEC\"]*u.deg, max_nside, order='nested')\n",
    "\n",
    "# here we get the pixel index (i.e. where the entry is in the table, also NOT THE UNIQ ID) of each target\n",
    "sorter_i = sorter[np.searchsorted(index, match_ipix, side='right', sorter=sorter) - 1]\n",
    "probdensity = skymap[sorter_i]['PROBDENSITY'].to_value(u.deg**-2)\n",
    "\n",
    "# now we calculate the UNIQ ID for all our targets:\n",
    "\n",
    "uniq = skymap[\"UNIQ\"][sorter_i]\n",
    "#to make things easier in future, I will now also append the UNIQ pixels DISTMU, DISTSIGMA and DISTNORM values. However, be careful, since these DO NOT CORRESPOND THE TARGETS IN DESI DIRECTLY!\n",
    "\n",
    "if modeled_search:\n",
    "    distmu = skymap[sorter_i][\"DISTMU\"]\n",
    "    distsigma = skymap[sorter_i][\"DISTSIGMA\"]\n",
    "    distnorm = skymap[sorter_i][\"DISTNORM\"]\n"
   ]
  },
  {
   "cell_type": "code",
   "execution_count": 18,
   "metadata": {},
   "outputs": [],
   "source": [
    "# len(UNIQ), len(data), len(skymap)"
   ]
  },
  {
   "cell_type": "code",
   "execution_count": 19,
   "metadata": {},
   "outputs": [],
   "source": [
    "#data = data.keep_columns([\"TARGETID\", \"TARGET_RA\", \"TARGET_DEC\", \"TILEID\", \"NIGHT\", \"Z\", \"ZERR\", \"ZWARN\", \"DELTACHI2\", \"FLUX_Z\", \"BGS_TARGET\", \"EBV\", \"SERSIC\", \"MWS_TARGET\", \"FILENAME\"])\n",
    "                          "
   ]
  },
  {
   "cell_type": "code",
   "execution_count": 20,
   "metadata": {},
   "outputs": [],
   "source": [
    "if modeled_search:\n",
    "    data = hstack([data, Table({\"UNIQ\": uniq}), Table({\"PROBDENSITY\": probdensity}), Table({\"DISTMU\": distmu}), Table({\"DISTSIGMA\": distsigma}), Table({\"DISTNORM\": distnorm})])\n",
    "else: \n",
    "    data = hstack([data, Table({\"UNIQ\": uniq}), Table({\"PROBDENSITY\": probdensity})])\n",
    "    print(f\"The table will not contain any distance info since there is none available\")"
   ]
  },
  {
   "cell_type": "code",
   "execution_count": 21,
   "metadata": {},
   "outputs": [
    {
     "data": {
      "text/html": [
       "<div><i>Table length=5</i>\n",
       "<table id=\"table140654860897632\" class=\"table-striped table-bordered table-condensed\">\n",
       "<thead><tr><th>TARGETID</th><th>TARGET_RA</th><th>TARGET_DEC</th><th>LASTNIGHT</th><th>Z</th><th>ZERR</th><th>ZWARN</th><th>FLUX_G</th><th>FLUX_R</th><th>FLUX_Z</th><th>SPECTYPE</th><th>BGS_TARGET</th><th>EBV</th><th>SERSIC</th><th>UNIQ</th><th>PROBDENSITY</th><th>DISTMU</th><th>DISTSIGMA</th><th>DISTNORM</th></tr></thead>\n",
       "<thead><tr><th></th><th></th><th></th><th></th><th></th><th></th><th></th><th></th><th></th><th></th><th></th><th></th><th></th><th></th><th></th><th></th><th>Mpc</th><th>Mpc</th><th>1 / Mpc2</th></tr></thead>\n",
       "<thead><tr><th>int64</th><th>float64</th><th>float64</th><th>int64</th><th>float64</th><th>float64</th><th>int64</th><th>float64</th><th>float64</th><th>float64</th><th>bytes6</th><th>int64</th><th>float64</th><th>float64</th><th>int64</th><th>float64</th><th>float64</th><th>float64</th><th>float64</th></tr></thead>\n",
       "<tr><td>6448025174016</td><td>179.15657</td><td>28.4234799</td><td>20210318</td><td>0.0221933367215889</td><td>9.68081653157043e-06</td><td>0</td><td>0.0</td><td>0.0</td><td>0.0</td><td>GALAXY</td><td>0</td><td>0.0</td><td>0.0</td><td>2803</td><td>3.0561786840682283e-80</td><td>133.80240846209236</td><td>8.901309833295631</td><td>5.56101838272623e-05</td></tr>\n",
       "<tr><td>6521555517440</td><td>204.22749</td><td>32.09493</td><td>20210404</td><td>0.3238872170838</td><td>2.72909868562699e-05</td><td>0</td><td>0.0</td><td>0.0</td><td>0.0</td><td>GALAXY</td><td>0</td><td>0.0</td><td>0.0</td><td>1676</td><td>4.629778143330291e-111</td><td>610.3405416412296</td><td>319.0610885940094</td><td>2.111669507870351e-06</td></tr>\n",
       "<tr><td>6536638234624</td><td>186.274119</td><td>32.84503</td><td>20210402</td><td>0.0764062738003505</td><td>1.47657330826664e-05</td><td>0</td><td>0.0</td><td>0.0</td><td>0.0</td><td>GALAXY</td><td>0</td><td>0.0</td><td>0.0</td><td>2807</td><td>1.8991757569237766e-91</td><td>134.31597851562455</td><td>14.68172271841688</td><td>5.477550649418343e-05</td></tr>\n",
       "<tr><td>45803351579259</td><td>198.2176891</td><td>18.3113961</td><td>20210316</td><td>1.49911242224797</td><td>3.38509589473939e-05</td><td>0</td><td>0.0</td><td>0.0</td><td>0.0</td><td>GALAXY</td><td>0</td><td>0.0</td><td>0.0</td><td>2773</td><td>1.7696180281233606e-108</td><td>276.8064432389025</td><td>48.45277336847071</td><td>1.266312025824273e-05</td></tr>\n",
       "<tr><td>46523089944591</td><td>258.5210502</td><td>56.1317935</td><td>20210409</td><td>1.62639091480193</td><td>0.000120044446065552</td><td>0</td><td>0.0</td><td>0.0</td><td>0.0</td><td>GALAXY</td><td>0</td><td>0.0</td><td>0.0</td><td>1660</td><td>3.5084401820854176e-87</td><td>133.13768284208044</td><td>9.566330044554194</td><td>5.61256762363643e-05</td></tr>\n",
       "</table></div>"
      ],
      "text/plain": [
       "<Table length=5>\n",
       "   TARGETID     TARGET_RA  ...     DISTSIGMA            DISTNORM      \n",
       "                           ...        Mpc               1 / Mpc2      \n",
       "    int64        float64   ...      float64             float64       \n",
       "-------------- ----------- ... ----------------- ---------------------\n",
       " 6448025174016   179.15657 ... 8.901309833295631  5.56101838272623e-05\n",
       " 6521555517440   204.22749 ... 319.0610885940094 2.111669507870351e-06\n",
       " 6536638234624  186.274119 ... 14.68172271841688 5.477550649418343e-05\n",
       "45803351579259 198.2176891 ... 48.45277336847071 1.266312025824273e-05\n",
       "46523089944591 258.5210502 ... 9.566330044554194  5.61256762363643e-05"
      ]
     },
     "execution_count": 21,
     "metadata": {},
     "output_type": "execute_result"
    }
   ],
   "source": [
    "data[:5]"
   ]
  },
  {
   "cell_type": "code",
   "execution_count": 22,
   "metadata": {},
   "outputs": [
    {
     "name": "stdout",
     "output_type": "stream",
     "text": [
      "The highest and lowest probability values in our catalog are: 0.037787030614068476 and 5.640177057737879e-113\n"
     ]
    }
   ],
   "source": [
    "print(f\"The highest and lowest probability values in our catalog are: {np.max(probdensity)} and {np.min(probdensity)}\")"
   ]
  },
  {
   "cell_type": "markdown",
   "metadata": {
    "tags": []
   },
   "source": [
    "### Sort the skymap table and get 99% credible region"
   ]
  },
  {
   "cell_type": "code",
   "execution_count": 23,
   "metadata": {},
   "outputs": [],
   "source": [
    "# copy the table\n",
    "skymap_sort = Table(skymap, copy = True)"
   ]
  },
  {
   "cell_type": "code",
   "execution_count": 24,
   "metadata": {},
   "outputs": [],
   "source": [
    "# check whether copy worked:\n",
    "# skymap_sort, skymap\n",
    "# np.max(skymap[\"UNIQ\"])"
   ]
  },
  {
   "cell_type": "code",
   "execution_count": 25,
   "metadata": {},
   "outputs": [],
   "source": [
    "# now sort the skymap by its probability (descending)\n",
    "skymap_sort.sort('PROBDENSITY', reverse=True)"
   ]
  },
  {
   "cell_type": "code",
   "execution_count": 26,
   "metadata": {},
   "outputs": [
    {
     "data": {
      "text/html": [
       "<div><i>Table length=5</i>\n",
       "<table id=\"table140654860899264\" class=\"table-striped table-bordered table-condensed\">\n",
       "<thead><tr><th>UNIQ</th><th>PROBDENSITY</th><th>DISTMU</th><th>DISTSIGMA</th><th>DISTNORM</th></tr></thead>\n",
       "<thead><tr><th></th><th>1 / sr</th><th>Mpc</th><th>Mpc</th><th>1 / Mpc2</th></tr></thead>\n",
       "<thead><tr><th>int64</th><th>float64</th><th>float64</th><th>float64</th><th>float64</th></tr></thead>\n",
       "<tr><td>5714048</td><td>124.04750404795215</td><td>257.2238287543571</td><td>66.49742110330038</td><td>1.4167119276752243e-05</td></tr>\n",
       "<tr><td>5714059</td><td>123.98193572292033</td><td>257.2390784708651</td><td>66.50711538589478</td><td>1.4165286102841546e-05</td></tr>\n",
       "<tr><td>5711229</td><td>123.91805643873167</td><td>257.2126592663569</td><td>66.48908918983129</td><td>1.4168495054436612e-05</td></tr>\n",
       "<tr><td>5714050</td><td>123.9034870235283</td><td>257.2279952589682</td><td>66.5006508066238</td><td>1.4166602877037654e-05</td></tr>\n",
       "<tr><td>5711231</td><td>123.79123613436587</td><td>257.2170581576809</td><td>66.49224071058316</td><td>1.4167956673784435e-05</td></tr>\n",
       "</table></div>"
      ],
      "text/plain": [
       "<Table length=5>\n",
       "  UNIQ     PROBDENSITY     ...     DISTSIGMA            DISTNORM       \n",
       "              1 / sr       ...        Mpc               1 / Mpc2       \n",
       " int64       float64       ...      float64             float64        \n",
       "------- ------------------ ... ----------------- ----------------------\n",
       "5714048 124.04750404795215 ... 66.49742110330038 1.4167119276752243e-05\n",
       "5714059 123.98193572292033 ... 66.50711538589478 1.4165286102841546e-05\n",
       "5711229 123.91805643873167 ... 66.48908918983129 1.4168495054436612e-05\n",
       "5714050  123.9034870235283 ...  66.5006508066238 1.4166602877037654e-05\n",
       "5711231 123.79123613436587 ... 66.49224071058316 1.4167956673784435e-05"
      ]
     },
     "execution_count": 26,
     "metadata": {},
     "output_type": "execute_result"
    }
   ],
   "source": [
    "# this shows the first entries sorted be their probability\n",
    "skymap_sort[:5]"
   ]
  },
  {
   "cell_type": "code",
   "execution_count": 27,
   "metadata": {},
   "outputs": [
    {
     "name": "stdout",
     "output_type": "stream",
     "text": [
      "The 99% search area is 262.2792641284897° large\n"
     ]
    }
   ],
   "source": [
    "# now get 99% credible region area\n",
    "\n",
    "level, ipix = ah.uniq_to_level_ipix(skymap_sort['UNIQ'])\n",
    "pixel_area = ah.nside_to_pixel_area(ah.level_to_nside(level)) # this is the area each pixel contains\n",
    "\n",
    "# calculate the probability per pixel (careful: since the pixels differ in size, this is not neceseraliy a useful quantity\n",
    "prob = pixel_area * skymap_sort['PROBDENSITY']\n",
    "\n",
    "# calc cumsum of probabilities and get index of pixel that sums up to 0.99\n",
    "cumprob = np.cumsum(prob)\n",
    "i = cumprob.searchsorted(0.99)\n",
    "\n",
    "# print area\n",
    "area_99 = pixel_area[:i].sum()\n",
    "area_99_deg = area_99.to_value(u.deg**2)\n",
    "print(f\"The 99% search area is {area_99_deg}° large\")"
   ]
  },
  {
   "cell_type": "markdown",
   "metadata": {
    "jp-MarkdownHeadingCollapsed": true,
    "tags": []
   },
   "source": [
    "### can be deleted, just tried things out"
   ]
  },
  {
   "cell_type": "code",
   "execution_count": 28,
   "metadata": {},
   "outputs": [],
   "source": [
    "skymap_sort = hstack([skymap_sort, Table({\"PROB\": prob})])"
   ]
  },
  {
   "cell_type": "code",
   "execution_count": 29,
   "metadata": {},
   "outputs": [
    {
     "data": {
      "text/latex": [
       "$0.00023709192 \\; \\mathrm{}$"
      ],
      "text/plain": [
       "<Quantity 0.00023709>"
      ]
     },
     "execution_count": 29,
     "metadata": {},
     "output_type": "execute_result"
    }
   ],
   "source": [
    "np.max(prob)"
   ]
  },
  {
   "cell_type": "code",
   "execution_count": 30,
   "metadata": {},
   "outputs": [
    {
     "data": {
      "text/html": [
       "<div><i>Table length=5</i>\n",
       "<table id=\"table140654861372480\" class=\"table-striped table-bordered table-condensed\">\n",
       "<thead><tr><th>UNIQ</th><th>PROBDENSITY</th><th>DISTMU</th><th>DISTSIGMA</th><th>DISTNORM</th><th>PROB</th></tr></thead>\n",
       "<thead><tr><th></th><th>1 / sr</th><th>Mpc</th><th>Mpc</th><th>1 / Mpc2</th><th></th></tr></thead>\n",
       "<thead><tr><th>int64</th><th>float64</th><th>float64</th><th>float64</th><th>float64</th><th>float64</th></tr></thead>\n",
       "<tr><td>5714048</td><td>124.04750404795215</td><td>257.2238287543571</td><td>66.49742110330038</td><td>1.4167119276752243e-05</td><td>0.00012388443228823233</td></tr>\n",
       "<tr><td>5714059</td><td>123.98193572292033</td><td>257.2390784708651</td><td>66.50711538589478</td><td>1.4165286102841546e-05</td><td>0.00012381895015874494</td></tr>\n",
       "<tr><td>5711229</td><td>123.91805643873167</td><td>257.2126592663569</td><td>66.48908918983129</td><td>1.4168495054436612e-05</td><td>0.00012375515484970245</td></tr>\n",
       "<tr><td>5714050</td><td>123.9034870235283</td><td>257.2279952589682</td><td>66.5006508066238</td><td>1.4166602877037654e-05</td><td>0.00012374060458732438</td></tr>\n",
       "<tr><td>5711231</td><td>123.79123613436587</td><td>257.2170581576809</td><td>66.49224071058316</td><td>1.4167956673784435e-05</td><td>0.0001236285012621953</td></tr>\n",
       "</table></div>"
      ],
      "text/plain": [
       "<Table length=5>\n",
       "  UNIQ     PROBDENSITY     ...        DISTNORM                 PROB         \n",
       "              1 / sr       ...        1 / Mpc2                              \n",
       " int64       float64       ...        float64                float64        \n",
       "------- ------------------ ... ---------------------- ----------------------\n",
       "5714048 124.04750404795215 ... 1.4167119276752243e-05 0.00012388443228823233\n",
       "5714059 123.98193572292033 ... 1.4165286102841546e-05 0.00012381895015874494\n",
       "5711229 123.91805643873167 ... 1.4168495054436612e-05 0.00012375515484970245\n",
       "5714050  123.9034870235283 ... 1.4166602877037654e-05 0.00012374060458732438\n",
       "5711231 123.79123613436587 ... 1.4167956673784435e-05  0.0001236285012621953"
      ]
     },
     "execution_count": 30,
     "metadata": {},
     "output_type": "execute_result"
    }
   ],
   "source": [
    "skymap_sort[:5]"
   ]
  },
  {
   "cell_type": "code",
   "execution_count": 31,
   "metadata": {},
   "outputs": [],
   "source": [
    "skymap_prob = Table(skymap_sort, copy = True)"
   ]
  },
  {
   "cell_type": "code",
   "execution_count": 32,
   "metadata": {},
   "outputs": [],
   "source": [
    "skymap_prob.sort(\"PROB\", reverse = True)"
   ]
  },
  {
   "cell_type": "code",
   "execution_count": 33,
   "metadata": {},
   "outputs": [
    {
     "data": {
      "text/html": [
       "<div><i>Table length=5</i>\n",
       "<table id=\"table140654861374736\" class=\"table-striped table-bordered table-condensed\">\n",
       "<thead><tr><th>UNIQ</th><th>PROBDENSITY</th><th>DISTMU</th><th>DISTSIGMA</th><th>DISTNORM</th><th>PROB</th></tr></thead>\n",
       "<thead><tr><th></th><th>1 / sr</th><th>Mpc</th><th>Mpc</th><th>1 / Mpc2</th><th></th></tr></thead>\n",
       "<thead><tr><th>int64</th><th>float64</th><th>float64</th><th>float64</th><th>float64</th><th>float64</th></tr></thead>\n",
       "<tr><td>356932</td><td>14.8377507764058</td><td>255.48247374747064</td><td>65.87710236582865</td><td>1.4365532549260116e-05</td><td>0.00023709192319210158</td></tr>\n",
       "<tr><td>1392051</td><td>59.333833755664905</td><td>246.62346342350926</td><td>64.76581798183818</td><td>1.5380424126454675e-05</td><td>0.00023702333607497525</td></tr>\n",
       "<tr><td>1434688</td><td>59.32217318678399</td><td>257.9049966310415</td><td>66.52577312814834</td><td>1.4096291987212861e-05</td><td>0.0002369767551149775</td></tr>\n",
       "<tr><td>1434870</td><td>59.3033998443452</td><td>257.9168556704448</td><td>66.55440473160782</td><td>1.4094319661048502e-05</td><td>0.00023690176046230692</td></tr>\n",
       "<tr><td>1392057</td><td>59.285353448257375</td><td>244.82651256734712</td><td>65.16520454065005</td><td>1.5579603515352915e-05</td><td>0.00023682966977249103</td></tr>\n",
       "</table></div>"
      ],
      "text/plain": [
       "<Table length=5>\n",
       "  UNIQ     PROBDENSITY     ...        DISTNORM                 PROB         \n",
       "              1 / sr       ...        1 / Mpc2                              \n",
       " int64       float64       ...        float64                float64        \n",
       "------- ------------------ ... ---------------------- ----------------------\n",
       " 356932   14.8377507764058 ... 1.4365532549260116e-05 0.00023709192319210158\n",
       "1392051 59.333833755664905 ... 1.5380424126454675e-05 0.00023702333607497525\n",
       "1434688  59.32217318678399 ... 1.4096291987212861e-05  0.0002369767551149775\n",
       "1434870   59.3033998443452 ... 1.4094319661048502e-05 0.00023690176046230692\n",
       "1392057 59.285353448257375 ... 1.5579603515352915e-05 0.00023682966977249103"
      ]
     },
     "execution_count": 33,
     "metadata": {},
     "output_type": "execute_result"
    }
   ],
   "source": [
    "skymap_prob[:5]"
   ]
  },
  {
   "cell_type": "markdown",
   "metadata": {
    "tags": []
   },
   "source": [
    "### Compare Tables, only leave 99% credible region in DESI data table\n",
    "\n",
    "Now we can get a Table that only contains the 99% credible region. From there we only leave the matching objects in the DESI data"
   ]
  },
  {
   "cell_type": "code",
   "execution_count": 34,
   "metadata": {},
   "outputs": [],
   "source": [
    "# we simply select only the entries that are within the 99% credible region\n",
    "skymap_99 = skymap_sort[:i]"
   ]
  },
  {
   "cell_type": "code",
   "execution_count": 35,
   "metadata": {},
   "outputs": [
    {
     "name": "stdout",
     "output_type": "stream",
     "text": [
      "This is the number of UNIQ ID of objects which should lie within the 99% credible region (NOT THE NUMBER OF OBJECTS, as there can be multiple objects per UNIQ ID): 9122\n"
     ]
    }
   ],
   "source": [
    "print(\"This is the number of UNIQ ID of objects which should lie within the 99% credible region (NOT THE NUMBER OF OBJECTS, as there can be multiple objects per UNIQ ID):\", len(np.intersect1d(skymap_99[\"UNIQ\"], data[\"UNIQ\"])))"
   ]
  },
  {
   "cell_type": "code",
   "execution_count": 36,
   "metadata": {},
   "outputs": [],
   "source": [
    "mask = np.in1d(data[\"UNIQ\"], skymap_99[\"UNIQ\"])\n",
    "data_99 = data[mask]"
   ]
  },
  {
   "cell_type": "code",
   "execution_count": 37,
   "metadata": {},
   "outputs": [
    {
     "name": "stdout",
     "output_type": "stream",
     "text": [
      "We now have 185159 objects in the 99% credible region\n",
      "Check if the region from where the galaxies have been selected makes any sense (RA; DEC):  3.90761344834922 171.307148605026 12.3633042403745 84.6059844754331\n",
      "We can also check whether we have at least one galaxy in the UNIQ pixel with the highest probability from LIGO...\n",
      "This is True\n"
     ]
    }
   ],
   "source": [
    "print(f\"We now have {len(data_99)} objects in the 99% credible region\")\n",
    "print(\"Check if the region from where the galaxies have been selected makes any sense (RA; DEC): \", np.min(data_99[\"TARGET_RA\"]), np.max(data_99[\"TARGET_RA\"]), np.min(data_99[\"TARGET_DEC\"]), np.max(data_99[\"TARGET_DEC\"]))\n",
    "\n",
    "max_probdens_in_desi = np.max(data_99[\"PROBDENSITY\"])\n",
    "max_probdens_in_ligo = np.max(skymap[\"PROBDENSITY\"]).to_value(u.deg**-2)\n",
    "print(f\"We can also check whether we have at least one galaxy in the UNIQ pixel with the highest probability from LIGO...\")\n",
    "print(f\"This is {np.allclose(max_probdens_in_desi, max_probdens_in_ligo)}\")"
   ]
  },
  {
   "cell_type": "code",
   "execution_count": 38,
   "metadata": {},
   "outputs": [],
   "source": [
    "data_99.sort('PROBDENSITY', reverse=True)"
   ]
  },
  {
   "cell_type": "code",
   "execution_count": 39,
   "metadata": {},
   "outputs": [
    {
     "data": {
      "text/html": [
       "<div><i>Table length=2</i>\n",
       "<table id=\"table140654861381216\" class=\"table-striped table-bordered table-condensed\">\n",
       "<thead><tr><th>TARGETID</th><th>TARGET_RA</th><th>TARGET_DEC</th><th>LASTNIGHT</th><th>Z</th><th>ZERR</th><th>ZWARN</th><th>FLUX_G</th><th>FLUX_R</th><th>FLUX_Z</th><th>SPECTYPE</th><th>BGS_TARGET</th><th>EBV</th><th>SERSIC</th><th>UNIQ</th><th>PROBDENSITY</th><th>DISTMU</th><th>DISTSIGMA</th><th>DISTNORM</th></tr></thead>\n",
       "<thead><tr><th></th><th></th><th></th><th></th><th></th><th></th><th></th><th></th><th></th><th></th><th></th><th></th><th></th><th></th><th></th><th></th><th>Mpc</th><th>Mpc</th><th>1 / Mpc2</th></tr></thead>\n",
       "<thead><tr><th>int64</th><th>float64</th><th>float64</th><th>int64</th><th>float64</th><th>float64</th><th>int64</th><th>float64</th><th>float64</th><th>float64</th><th>bytes6</th><th>int64</th><th>float64</th><th>float64</th><th>int64</th><th>float64</th><th>float64</th><th>float64</th><th>float64</th></tr></thead>\n",
       "<tr><td>39633224107820478</td><td>160.61727712405</td><td>48.5795094937581</td><td>20220421</td><td>0.0285309495506233</td><td>8.94976626877758e-06</td><td>0</td><td>10.7434968948364</td><td>15.5962247848511</td><td>18.0656089782715</td><td>GALAXY</td><td>514</td><td>0.0126253934577107</td><td>1.0</td><td>5714048</td><td>0.037787030614068476</td><td>257.2238287543571</td><td>66.49742110330038</td><td>1.4167119276752243e-05</td></tr>\n",
       "<tr><td>39633224107820353</td><td>160.604648933614</td><td>48.578025379034</td><td>20220317</td><td>0.0287743051597604</td><td>5.06052819531529e-06</td><td>0</td><td>97.8936462402344</td><td>140.151321411133</td><td>171.730010986328</td><td>GALAXY</td><td>514</td><td>0.0124998781830072</td><td>0.747448742389679</td><td>5714048</td><td>0.037787030614068476</td><td>257.2238287543571</td><td>66.49742110330038</td><td>1.4167119276752243e-05</td></tr>\n",
       "</table></div>"
      ],
      "text/plain": [
       "<Table length=2>\n",
       "     TARGETID        TARGET_RA     ...     DISTSIGMA            DISTNORM       \n",
       "                                   ...        Mpc               1 / Mpc2       \n",
       "      int64           float64      ...      float64             float64        \n",
       "----------------- ---------------- ... ----------------- ----------------------\n",
       "39633224107820478  160.61727712405 ... 66.49742110330038 1.4167119276752243e-05\n",
       "39633224107820353 160.604648933614 ... 66.49742110330038 1.4167119276752243e-05"
      ]
     },
     "execution_count": 39,
     "metadata": {},
     "output_type": "execute_result"
    }
   ],
   "source": [
    "data_99[:2]"
   ]
  },
  {
   "cell_type": "code",
   "execution_count": 40,
   "metadata": {},
   "outputs": [
    {
     "name": "stdout",
     "output_type": "stream",
     "text": [
      "We have now performed all the necessary steps to get the localization selection in 2D, i.e. the angle on the sky\n",
      "However, we have not used the distance data at all. Therefore our redshifts range from 3.60713580819307e-07 to 6.04654256723574\n"
     ]
    }
   ],
   "source": [
    "if modeled_search:\n",
    "    print(\"We have now performed all the necessary steps to get the localization selection in 2D, i.e. the angle on the sky\")\n",
    "    min_z = np.min(data_99[\"Z\"])\n",
    "    max_z = np.max(data_99[\"Z\"])\n",
    "    print(f\"However, we have not used the distance data at all. Therefore our redshifts range from {min_z} to {max_z}\")\n",
    "else:\n",
    "    print(f\"Usually we would be performing steps to cut out objects that don't meet the z-range/distance from LIGO, since there is no distance, we - at least for now include everything!\")"
   ]
  },
  {
   "cell_type": "markdown",
   "metadata": {
    "tags": []
   },
   "source": [
    "### Calculate all the distances of the objects from the redshifts\n",
    "\n",
    "We want to be conservative in estimating the distance from redshifts, therefore we will include different cosmologies.\n",
    "\n",
    "Our cosmologies include:\n",
    "- H0 = 68.20 ± 0.81 km s−1Mpc−1, from eBOSS https://arxiv.org/pdf/2007.08991.pdf\n",
    "- DES Y3 https://arxiv.org/abs/2105.13549\n",
    "- SH0ES https://pantheonplussh0es.github.io/\n",
    "\n",
    "Now we calculate the arithmetic mean of our distances and its standard deviation:\n",
    "$$distances_{mean} = \\frac{dist(z_{cosmo_{max}})+dist(z_{cosmo_{min}})}{2}$$\n",
    "and accordingly the standard deviation (n=2):\n",
    "$$\\sigma = \\sqrt{\\frac{1}{n-1}\\sum\\left(dist_i-distances_{mean}\\right)^2}$$\n"
   ]
  },
  {
   "cell_type": "code",
   "execution_count": 41,
   "metadata": {},
   "outputs": [],
   "source": [
    "#distances = Distance(z=data_99[\"Z\"], cosmology=Planck18)\n",
    "#distances_err = Distance(z=data_99[\"ZERR\"], cosmology=Planck18)"
   ]
  },
  {
   "cell_type": "code",
   "execution_count": 42,
   "metadata": {},
   "outputs": [],
   "source": [
    "if modeled_search:\n",
    "    # first define the cosmological maximum and minimum parameters\n",
    "    omega_M_max = 0.339+0.032 #(from DES)\n",
    "    omega_M_min = 0.299-2*0.016 #from eBOSS\n",
    "\n",
    "    H_0_max = 73.04+2*1.04 #from SH0ES\n",
    "    H_0_min = 67.4-2*0.5 #from Planck\n",
    "    \n",
    "    # then calculate min and max luminosity distance from the redshifts\n",
    "    cosmo_min_dist = FlatLambdaCDM(H0=H_0_max, Om0=omega_M_max)\n",
    "    cosmo_max_dist = FlatLambdaCDM(H0=H_0_min, Om0=omega_M_min)\n",
    "\n",
    "    dists_max = Distance(z=data_99[\"Z\"], cosmology=cosmo_max_dist)\n",
    "    dists_min = Distance(z=data_99[\"Z\"], cosmology=cosmo_min_dist)\n",
    "    \n",
    "    # and of course also calculate the maximum and minimum error from the redshfit uncertainty\n",
    "    dists_err_min = Distance(z=data_99[\"ZERR\"], cosmology=cosmo_max_dist)\n",
    "    dists_err_max = Distance(z=data_99[\"ZERR\"], cosmology=cosmo_min_dist)\n",
    "    \n",
    "    # now we get the mean distance and its error\n",
    "    dists_mean = (dists_max+dists_min)/2\n",
    "    dists_err_mean = (dists_err_max+dists_err_min)/2  # this is our sigma for the redshift error\n",
    "    \n",
    "    # calculate the stdev of the distance depending on the cosmology\n",
    "    dists_mean_stddev = np.sqrt((dists_max-dists_mean)**2+(dists_min-dists_mean)**2)\n",
    "    \n",
    "    # now stack all the data\n",
    "    data_99 = hstack([data_99, Table({\"DIST_Z_MEAN\": dists_mean}), Table({\"DIST_Z_ERR\": dists_err_mean}), Table({\"DIST_Z_COSMO_SIGMA\": dists_mean_stddev})])"
   ]
  },
  {
   "cell_type": "code",
   "execution_count": 43,
   "metadata": {},
   "outputs": [],
   "source": [
    "# dists_mean[:5], dists_mean_stddev[:5], dists_mean_stddev[:5]/dists_mean[:5], np.mean(dists_mean_stddev/dists_mean), np.max(dists_mean_stddev/dists_mean), np.min(dists_mean_stddev/dists_mean)\n"
   ]
  },
  {
   "cell_type": "code",
   "execution_count": 44,
   "metadata": {},
   "outputs": [
    {
     "data": {
      "text/html": [
       "<div><i>Table length=5</i>\n",
       "<table id=\"table140654861385536\" class=\"table-striped table-bordered table-condensed\">\n",
       "<thead><tr><th>TARGETID</th><th>TARGET_RA</th><th>TARGET_DEC</th><th>LASTNIGHT</th><th>Z</th><th>ZERR</th><th>ZWARN</th><th>FLUX_G</th><th>FLUX_R</th><th>FLUX_Z</th><th>SPECTYPE</th><th>BGS_TARGET</th><th>EBV</th><th>SERSIC</th><th>UNIQ</th><th>PROBDENSITY</th><th>DISTMU</th><th>DISTSIGMA</th><th>DISTNORM</th><th>DIST_Z_MEAN</th><th>DIST_Z_ERR</th><th>DIST_Z_COSMO_SIGMA</th></tr></thead>\n",
       "<thead><tr><th></th><th></th><th></th><th></th><th></th><th></th><th></th><th></th><th></th><th></th><th></th><th></th><th></th><th></th><th></th><th></th><th>Mpc</th><th>Mpc</th><th>1 / Mpc2</th><th>Mpc</th><th>Mpc</th><th>Mpc</th></tr></thead>\n",
       "<thead><tr><th>int64</th><th>float64</th><th>float64</th><th>int64</th><th>float64</th><th>float64</th><th>int64</th><th>float64</th><th>float64</th><th>float64</th><th>bytes6</th><th>int64</th><th>float64</th><th>float64</th><th>int64</th><th>float64</th><th>float64</th><th>float64</th><th>float64</th><th>float64</th><th>float64</th><th>float64</th></tr></thead>\n",
       "<tr><td>39633224107820478</td><td>160.61727712405</td><td>48.5795094937581</td><td>20220421</td><td>0.0285309495506233</td><td>8.94976626877758e-06</td><td>0</td><td>10.7434968948364</td><td>15.5962247848511</td><td>18.0656089782715</td><td>GALAXY</td><td>514</td><td>0.0126253934577107</td><td>1.0</td><td>5714048</td><td>0.037787030614068476</td><td>257.2238287543571</td><td>66.49742110330038</td><td>1.4167119276752243e-05</td><td>123.9536160087099</td><td>0.03806269441783726</td><td>10.9951801895185</td></tr>\n",
       "<tr><td>39633224107820353</td><td>160.604648933614</td><td>48.578025379034</td><td>20220317</td><td>0.0287743051597604</td><td>5.06052819531529e-06</td><td>0</td><td>97.8936462402344</td><td>140.151321411133</td><td>171.730010986328</td><td>GALAXY</td><td>514</td><td>0.0124998781830072</td><td>0.747448742389679</td><td>5714048</td><td>0.037787030614068476</td><td>257.2238287543571</td><td>66.49742110330038</td><td>1.4167119276752243e-05</td><td>125.03313371942757</td><td>0.021521988481177905</td><td>11.092602925118296</td></tr>\n",
       "<tr><td>39633224107820140</td><td>160.583239022152</td><td>48.6010654897294</td><td>20220421</td><td>0.23449829444878</td><td>0.000106434004744369</td><td>0</td><td>3.79690313339233</td><td>11.5464544296265</td><td>19.737398147583</td><td>GALAXY</td><td>257</td><td>0.0123096574097872</td><td>1.0</td><td>5714048</td><td>0.037787030614068476</td><td>257.2238287543571</td><td>66.49742110330038</td><td>1.4167119276752243e-05</td><td>1160.831445951118</td><td>0.4526896289045135</td><td>115.65585909181476</td></tr>\n",
       "<tr><td>39633224107820130</td><td>160.582254511931</td><td>48.6057650714367</td><td>20220317</td><td>0.0866269894393046</td><td>8.07347855837462e-06</td><td>0</td><td>16.9728450775146</td><td>20.6989097595215</td><td>21.8458423614502</td><td>GALAXY</td><td>514</td><td>0.0122952042147517</td><td>2.34993124008179</td><td>5714048</td><td>0.037787030614068476</td><td>257.2238287543571</td><td>66.49742110330038</td><td>1.4167119276752243e-05</td><td>392.00432420309085</td><td>0.03433588458543407</td><td>36.01115009426769</td></tr>\n",
       "<tr><td>39633224107819966</td><td>160.563779139401</td><td>48.5791101535965</td><td>20220218</td><td>0.0286392319026312</td><td>6.027066595383e-06</td><td>0</td><td>26.5717449188232</td><td>42.2222900390625</td><td>58.09375</td><td>GALAXY</td><td>514</td><td>0.0121476463973522</td><td>1.2306604385376</td><td>5714048</td><td>0.037787030614068476</td><td>257.2238287543571</td><td>66.49742110330038</td><td>1.4167119276752243e-05</td><td>124.43390708157122</td><td>0.025632611568898005</td><td>11.03852132423984</td></tr>\n",
       "</table></div>"
      ],
      "text/plain": [
       "<Table length=5>\n",
       "     TARGETID        TARGET_RA     ...      DIST_Z_ERR      DIST_Z_COSMO_SIGMA\n",
       "                                   ...         Mpc                 Mpc        \n",
       "      int64           float64      ...       float64             float64      \n",
       "----------------- ---------------- ... -------------------- ------------------\n",
       "39633224107820478  160.61727712405 ...  0.03806269441783726   10.9951801895185\n",
       "39633224107820353 160.604648933614 ... 0.021521988481177905 11.092602925118296\n",
       "39633224107820140 160.583239022152 ...   0.4526896289045135 115.65585909181476\n",
       "39633224107820130 160.582254511931 ...  0.03433588458543407  36.01115009426769\n",
       "39633224107819966 160.563779139401 ... 0.025632611568898005  11.03852132423984"
      ]
     },
     "execution_count": 44,
     "metadata": {},
     "output_type": "execute_result"
    }
   ],
   "source": [
    "data_99[:5]"
   ]
  },
  {
   "cell_type": "markdown",
   "metadata": {
    "jp-MarkdownHeadingCollapsed": true,
    "tags": []
   },
   "source": [
    "### Lets check how much the distance measurement changes in the 99% credible region of LIGO and compare to our DESI data\n",
    "\n",
    "We should see a lot more data in DESI (since we haven't done any redshift selection and there can be multiple objects per GW-pixel). Be carfeul, we are comparing actual object counts with the number of pixels.\n",
    "\n",
    "\n",
    "We still see, that most of the GW localization is roughly between 780Mpc and 950Mpc. DESI definitely has a most of its data in this range as well."
   ]
  },
  {
   "cell_type": "code",
   "execution_count": 45,
   "metadata": {},
   "outputs": [
    {
     "name": "stdout",
     "output_type": "stream",
     "text": [
      "Our LIGO distances range from 72.25245607627038 Mpc to 268.80553619932044 Mpc\n",
      "Let's visualize the distance distribution of the LIGO event in the 99% credible region\n"
     ]
    },
    {
     "data": {
      "image/png": "[encoded data removed]",
      "text/plain": [
       "<Figure size 1500x800 with 2 Axes>"
      ]
     },
     "metadata": {},
     "output_type": "display_data"
    }
   ],
   "source": [
    "if modeled_search:\n",
    "    plt_skymap = skymap_99[skymap_99[\"DISTMU\"]<np.inf]\n",
    "\n",
    "    dist_max_99 = np.max(plt_skymap[\"DISTMU\"])*u.Mpc\n",
    "    dist_min_99 = np.min(plt_skymap[\"DISTMU\"])*u.Mpc\n",
    "    print(f\"Our LIGO distances range from {dist_min_99} to {dist_max_99}\")\n",
    "    print(\"Let's visualize the distance distribution of the LIGO event in the 99% credible region\")\n",
    "\n",
    "    fig, ax = plt.subplots(ncols = 2, figsize = (15,8))\n",
    "\n",
    "\n",
    "    ax[0].hist(data_99[\"DIST_Z_MEAN\"], bins = \"auto\", color = \"orange\", label = \"DESI data\")\n",
    "    ax[1].hist(plt_skymap[\"DISTMU\"], bins = \"auto\", color = \"blue\", label = \"LIGO data\")\n",
    "\n",
    "\n",
    "    for axis in ax:\n",
    "        axis.set_xlabel(\"distance bin (Mpc)\")\n",
    "        axis.set_xlim(dist_min_99/u.Mpc, dist_max_99/u.Mpc)\n",
    "        axis.legend()\n",
    "\n",
    "    ax[0].set_ylabel(\"object count\")\n",
    "    ax[1].set_ylabel(\"pixel count\")\n",
    "\n",
    "    plt.show()"
   ]
  },
  {
   "cell_type": "code",
   "execution_count": 46,
   "metadata": {},
   "outputs": [
    {
     "data": {
      "text/plain": [
       "(10466, 185159)"
      ]
     },
     "execution_count": 46,
     "metadata": {},
     "output_type": "execute_result"
    }
   ],
   "source": [
    "len(skymap_99), len(data_99)"
   ]
  },
  {
   "cell_type": "markdown",
   "metadata": {
    "tags": []
   },
   "source": [
    "### To reduce our data even more, lets cut out the unreasonably far away objects\n",
    "\n",
    "We simply take maximum and minimum distance we get from the LIGO skymap (i.e. DISTMU+-DISTERR) and check, whether every galaxy in that pixel falls inside this range.\n",
    "\n",
    "*Note: We do this only for our own GW-follow ups*"
   ]
  },
  {
   "cell_type": "code",
   "execution_count": 47,
   "metadata": {},
   "outputs": [
    {
     "name": "stdout",
     "output_type": "stream",
     "text": [
      "The z-range selection has deleted 174733 objects from originally 185159 in the data set\n",
      "Therefore, we have 10426 objects left in the search region\n",
      "Our highest remaing probability density is 0.037787030614068476 compared to the originally highest prob density of 0.037787030614068476\n",
      "The difference in prob density is 0.0\n"
     ]
    }
   ],
   "source": [
    "if follow_up_their_z == False and modeled_search == True:\n",
    "    z_selection_mask = data_99[\"DIST_Z_MEAN\"] - 2*data_99[\"DIST_Z_ERR\"] - 2*data_99[\"DIST_Z_COSMO_SIGMA\"] <  data_99[\"DISTMU\"] + 2*data_99[\"DISTSIGMA\"]\n",
    "    z_selection_mask &= data_99[\"DIST_Z_MEAN\"] + 2*data_99[\"DIST_Z_ERR\"] + 2*data_99[\"DIST_Z_COSMO_SIGMA\"] >  data_99[\"DISTMU\"] - 2*data_99[\"DISTSIGMA\"]\n",
    "\n",
    "    data_99_z = data_99[z_selection_mask]\n",
    "\n",
    "    remaining_obj = np.size(np.where(z_selection_mask == True))\n",
    "    deleted_obj = np.size(np.where(z_selection_mask == False))\n",
    "\n",
    "    print(f\"The z-range selection has deleted {deleted_obj} objects from originally {deleted_obj+remaining_obj} in the data set\")\n",
    "    print(f\"Therefore, we have {remaining_obj} objects left in the search region\")\n",
    "\n",
    "    highest_prob_dens = np.max(data_99_z[\"PROBDENSITY\"])\n",
    "    print(f\"Our highest remaing probability density is {highest_prob_dens} compared to the originally highest prob density of {max_probdens_in_ligo}\")\n",
    "    print(f\"The difference in prob density is {max_probdens_in_ligo-highest_prob_dens}\")\n",
    "\n",
    "    \n",
    "else:\n",
    "    data_99_z = data_99\n",
    "    remaining_obj = len(data_99_z)"
   ]
  },
  {
   "cell_type": "code",
   "execution_count": 48,
   "metadata": {},
   "outputs": [
    {
     "data": {
      "text/html": [
       "<div><i>Table length=5</i>\n",
       "<table id=\"table140654861371856\" class=\"table-striped table-bordered table-condensed\">\n",
       "<thead><tr><th>TARGETID</th><th>TARGET_RA</th><th>TARGET_DEC</th><th>LASTNIGHT</th><th>Z</th><th>ZERR</th><th>ZWARN</th><th>FLUX_G</th><th>FLUX_R</th><th>FLUX_Z</th><th>SPECTYPE</th><th>BGS_TARGET</th><th>EBV</th><th>SERSIC</th><th>UNIQ</th><th>PROBDENSITY</th><th>DISTMU</th><th>DISTSIGMA</th><th>DISTNORM</th><th>DIST_Z_MEAN</th><th>DIST_Z_ERR</th><th>DIST_Z_COSMO_SIGMA</th></tr></thead>\n",
       "<thead><tr><th></th><th></th><th></th><th></th><th></th><th></th><th></th><th></th><th></th><th></th><th></th><th></th><th></th><th></th><th></th><th></th><th>Mpc</th><th>Mpc</th><th>1 / Mpc2</th><th>Mpc</th><th>Mpc</th><th>Mpc</th></tr></thead>\n",
       "<thead><tr><th>int64</th><th>float64</th><th>float64</th><th>int64</th><th>float64</th><th>float64</th><th>int64</th><th>float64</th><th>float64</th><th>float64</th><th>bytes6</th><th>int64</th><th>float64</th><th>float64</th><th>int64</th><th>float64</th><th>float64</th><th>float64</th><th>float64</th><th>float64</th><th>float64</th><th>float64</th></tr></thead>\n",
       "<tr><td>39633224107820478</td><td>160.61727712405</td><td>48.5795094937581</td><td>20220421</td><td>0.0285309495506233</td><td>8.94976626877758e-06</td><td>0</td><td>10.7434968948364</td><td>15.5962247848511</td><td>18.0656089782715</td><td>GALAXY</td><td>514</td><td>0.0126253934577107</td><td>1.0</td><td>5714048</td><td>0.037787030614068476</td><td>257.2238287543571</td><td>66.49742110330038</td><td>1.4167119276752243e-05</td><td>123.9536160087099</td><td>0.03806269441783726</td><td>10.9951801895185</td></tr>\n",
       "<tr><td>39633224107820353</td><td>160.604648933614</td><td>48.578025379034</td><td>20220317</td><td>0.0287743051597604</td><td>5.06052819531529e-06</td><td>0</td><td>97.8936462402344</td><td>140.151321411133</td><td>171.730010986328</td><td>GALAXY</td><td>514</td><td>0.0124998781830072</td><td>0.747448742389679</td><td>5714048</td><td>0.037787030614068476</td><td>257.2238287543571</td><td>66.49742110330038</td><td>1.4167119276752243e-05</td><td>125.03313371942757</td><td>0.021521988481177905</td><td>11.092602925118296</td></tr>\n",
       "<tr><td>39633224107820130</td><td>160.582254511931</td><td>48.6057650714367</td><td>20220317</td><td>0.0866269894393046</td><td>8.07347855837462e-06</td><td>0</td><td>16.9728450775146</td><td>20.6989097595215</td><td>21.8458423614502</td><td>GALAXY</td><td>514</td><td>0.0122952042147517</td><td>2.34993124008179</td><td>5714048</td><td>0.037787030614068476</td><td>257.2238287543571</td><td>66.49742110330038</td><td>1.4167119276752243e-05</td><td>392.00432420309085</td><td>0.03433588458543407</td><td>36.01115009426769</td></tr>\n",
       "<tr><td>39633224107819966</td><td>160.563779139401</td><td>48.5791101535965</td><td>20220218</td><td>0.0286392319026312</td><td>6.027066595383e-06</td><td>0</td><td>26.5717449188232</td><td>42.2222900390625</td><td>58.09375</td><td>GALAXY</td><td>514</td><td>0.0121476463973522</td><td>1.2306604385376</td><td>5714048</td><td>0.037787030614068476</td><td>257.2238287543571</td><td>66.49742110330038</td><td>1.4167119276752243e-05</td><td>124.43390708157122</td><td>0.025632611568898005</td><td>11.03852132423984</td></tr>\n",
       "<tr><td>39633228113381386</td><td>160.596181344532</td><td>48.7591124780506</td><td>20220317</td><td>0.0870420579070183</td><td>3.1481411106676e-06</td><td>0</td><td>37.4118041992188</td><td>61.7050819396973</td><td>88.4442367553711</td><td>GALAXY</td><td>514</td><td>0.0124244792386889</td><td>1.0</td><td>5714059</td><td>0.037767057360077544</td><td>257.2390784708651</td><td>66.50711538589478</td><td>1.4165286102841546e-05</td><td>393.9924779500584</td><td>0.013388752166195443</td><td>36.20262091287905</td></tr>\n",
       "</table></div>"
      ],
      "text/plain": [
       "<Table length=5>\n",
       "     TARGETID        TARGET_RA     ...      DIST_Z_ERR      DIST_Z_COSMO_SIGMA\n",
       "                                   ...         Mpc                 Mpc        \n",
       "      int64           float64      ...       float64             float64      \n",
       "----------------- ---------------- ... -------------------- ------------------\n",
       "39633224107820478  160.61727712405 ...  0.03806269441783726   10.9951801895185\n",
       "39633224107820353 160.604648933614 ... 0.021521988481177905 11.092602925118296\n",
       "39633224107820130 160.582254511931 ...  0.03433588458543407  36.01115009426769\n",
       "39633224107819966 160.563779139401 ... 0.025632611568898005  11.03852132423984\n",
       "39633228113381386 160.596181344532 ... 0.013388752166195443  36.20262091287905"
      ]
     },
     "execution_count": 48,
     "metadata": {},
     "output_type": "execute_result"
    }
   ],
   "source": [
    "data_99_z[:5]"
   ]
  },
  {
   "cell_type": "markdown",
   "metadata": {
    "tags": []
   },
   "source": [
    "### get the apparent, absolute magnitudes and luminosities\n",
    "\n",
    "in order to do this: flux > 0 selection  and gal ext correction"
   ]
  },
  {
   "cell_type": "code",
   "execution_count": 49,
   "metadata": {},
   "outputs": [
    {
     "name": "stdout",
     "output_type": "stream",
     "text": [
      "had to cut out -426 objects due to bad fluxes\n"
     ]
    }
   ],
   "source": [
    "# get the apparent mags\n",
    "orig_len = len(data_99_z)\n",
    "data_99_z = data_99_z[data_99_z[\"FLUX_R\"] > 0] # flux selection (only ones above 0)\n",
    "print(f\"had to cut out {len(data_99_z)-orig_len} objects due to bad fluxes\")\n",
    "data_99_z[\"MW_TRANSMISSION\"] = gs.mw_transmission_from_data_table(data = data_99_z, band = \"r\")\n",
    "#data_99_z[\"FLUX_R\"] = data_99_z[\"FLUX_R\"]/data_99_z[\"MW_TRANSMISSION\"]\n",
    "\n",
    "app_mag_r = gs.app_mag(data_99_z[\"FLUX_R\"], mw_transmission = data_99_z[\"MW_TRANSMISSION\"])\n",
    "flux_selection_cut = len(data_99_z)\n",
    "\n",
    "# get the absolute mags\n",
    "abs_mag_r = gs.abs_mag(app_mag_r, data_99_z[\"Z\"], 0,0,0)\n",
    "\n",
    "# get the luminosities\n",
    "lums_r = gs.lum(abs_mag_r, band = \"r\")"
   ]
  },
  {
   "cell_type": "code",
   "execution_count": 50,
   "metadata": {},
   "outputs": [],
   "source": [
    "data_f = hstack([data_99_z, Table({\"APP_MAG_R\": app_mag_r}), Table({\"ABS_MAG_R\": abs_mag_r}), Table({\"LUM_R\": lums_r})])"
   ]
  },
  {
   "cell_type": "code",
   "execution_count": 51,
   "metadata": {},
   "outputs": [
    {
     "data": {
      "text/html": [
       "<div><i>Table length=5</i>\n",
       "<table id=\"table140654861590224\" class=\"table-striped table-bordered table-condensed\">\n",
       "<thead><tr><th>TARGETID</th><th>TARGET_RA</th><th>TARGET_DEC</th><th>LASTNIGHT</th><th>Z</th><th>ZERR</th><th>ZWARN</th><th>FLUX_G</th><th>FLUX_R</th><th>FLUX_Z</th><th>SPECTYPE</th><th>BGS_TARGET</th><th>EBV</th><th>SERSIC</th><th>UNIQ</th><th>PROBDENSITY</th><th>DISTMU</th><th>DISTSIGMA</th><th>DISTNORM</th><th>DIST_Z_MEAN</th><th>DIST_Z_ERR</th><th>DIST_Z_COSMO_SIGMA</th><th>MW_TRANSMISSION</th><th>APP_MAG_R</th><th>ABS_MAG_R</th><th>LUM_R</th></tr></thead>\n",
       "<thead><tr><th></th><th></th><th></th><th></th><th></th><th></th><th></th><th></th><th></th><th></th><th></th><th></th><th></th><th></th><th></th><th></th><th>Mpc</th><th>Mpc</th><th>1 / Mpc2</th><th>Mpc</th><th>Mpc</th><th>Mpc</th><th></th><th></th><th></th><th>W</th></tr></thead>\n",
       "<thead><tr><th>int64</th><th>float64</th><th>float64</th><th>int64</th><th>float64</th><th>float64</th><th>int64</th><th>float64</th><th>float64</th><th>float64</th><th>bytes6</th><th>int64</th><th>float64</th><th>float64</th><th>int64</th><th>float64</th><th>float64</th><th>float64</th><th>float64</th><th>float64</th><th>float64</th><th>float64</th><th>float64</th><th>float64</th><th>float64</th><th>float64</th></tr></thead>\n",
       "<tr><td>39633224107820478</td><td>160.61727712405</td><td>48.5795094937581</td><td>20220421</td><td>0.0285309495506233</td><td>8.94976626877758e-06</td><td>0</td><td>10.7434968948364</td><td>15.5962247848511</td><td>18.0656089782715</td><td>GALAXY</td><td>514</td><td>0.0126253934577107</td><td>1.0</td><td>5714048</td><td>0.037787030614068476</td><td>257.2238287543571</td><td>66.49742110330038</td><td>1.4167119276752243e-05</td><td>123.9536160087099</td><td>0.03806269441783726</td><td>10.9951801895185</td><td>0.9750140131499763</td><td>19.489978428963674</td><td>-16.065545563200722</td><td>1.4389708223947236e+34</td></tr>\n",
       "<tr><td>39633224107820353</td><td>160.604648933614</td><td>48.578025379034</td><td>20220317</td><td>0.0287743051597604</td><td>5.06052819531529e-06</td><td>0</td><td>97.8936462402344</td><td>140.151321411133</td><td>171.730010986328</td><td>GALAXY</td><td>514</td><td>0.0124998781830072</td><td>0.747448742389679</td><td>5714048</td><td>0.037787030614068476</td><td>257.2238287543571</td><td>66.49742110330038</td><td>1.4167119276752243e-05</td><td>125.03313371942757</td><td>0.021521988481177905</td><td>11.092602925118296</td><td>0.9752593126341212</td><td>17.106307272964337</td><td>-18.468048027825574</td><td>1.3153852687659661e+35</td></tr>\n",
       "<tr><td>39633224107820130</td><td>160.582254511931</td><td>48.6057650714367</td><td>20220317</td><td>0.0866269894393046</td><td>8.07347855837462e-06</td><td>0</td><td>16.9728450775146</td><td>20.6989097595215</td><td>21.8458423614502</td><td>GALAXY</td><td>514</td><td>0.0122952042147517</td><td>2.34993124008179</td><td>5714048</td><td>0.037787030614068476</td><td>257.2238287543571</td><td>66.49742110330038</td><td>1.4167119276752243e-05</td><td>392.00432420309085</td><td>0.03433588458543407</td><td>36.01115009426769</td><td>0.9756594474711141</td><td>19.183376957722288</td><td>-18.87269450014388</td><td>1.9094643864830322e+35</td></tr>\n",
       "<tr><td>39633224107819966</td><td>160.563779139401</td><td>48.5791101535965</td><td>20220218</td><td>0.0286392319026312</td><td>6.027066595383e-06</td><td>0</td><td>26.5717449188232</td><td>42.2222900390625</td><td>58.09375</td><td>GALAXY</td><td>514</td><td>0.0121476463973522</td><td>1.2306604385376</td><td>5714048</td><td>0.037787030614068476</td><td>257.2238287543571</td><td>66.49742110330038</td><td>1.4167119276752243e-05</td><td>124.43390708157122</td><td>0.025632611568898005</td><td>11.03852132423984</td><td>0.9759480228448494</td><td>18.409712259600234</td><td>-17.154210188273915</td><td>3.922092554033521e+34</td></tr>\n",
       "<tr><td>39633228113381386</td><td>160.596181344532</td><td>48.7591124780506</td><td>20220317</td><td>0.0870420579070183</td><td>3.1481411106676e-06</td><td>0</td><td>37.4118041992188</td><td>61.7050819396973</td><td>88.4442367553711</td><td>GALAXY</td><td>514</td><td>0.0124244792386889</td><td>1.0</td><td>5714059</td><td>0.037767057360077544</td><td>257.2390784708651</td><td>66.50711538589478</td><td>1.4165286102841546e-05</td><td>393.9924779500584</td><td>0.013388752166195443</td><td>36.20262091287905</td><td>0.9754066974544541</td><td>17.997161999775827</td><td>-20.069897425936745</td><td>5.751653742759046e+35</td></tr>\n",
       "</table></div>"
      ],
      "text/plain": [
       "<Table length=5>\n",
       "     TARGETID        TARGET_RA     ...         LUM_R         \n",
       "                                   ...           W           \n",
       "      int64           float64      ...        float64        \n",
       "----------------- ---------------- ... ----------------------\n",
       "39633224107820478  160.61727712405 ... 1.4389708223947236e+34\n",
       "39633224107820353 160.604648933614 ... 1.3153852687659661e+35\n",
       "39633224107820130 160.582254511931 ... 1.9094643864830322e+35\n",
       "39633224107819966 160.563779139401 ...  3.922092554033521e+34\n",
       "39633228113381386 160.596181344532 ...  5.751653742759046e+35"
      ]
     },
     "execution_count": 51,
     "metadata": {},
     "output_type": "execute_result"
    }
   ],
   "source": [
    "data_f[:5]"
   ]
  },
  {
   "cell_type": "markdown",
   "metadata": {
    "tags": []
   },
   "source": [
    "### Check the absolute and apparent magnitudes\n",
    "\n",
    "This is a sanity check to quickly check whether there might be some obvious problem in the data/derivation of magnitudes..."
   ]
  },
  {
   "cell_type": "code",
   "execution_count": 52,
   "metadata": {},
   "outputs": [
    {
     "data": {
      "image/png": "[encoded data removed]",
      "text/plain": [
       "<Figure size 1000x500 with 3 Axes>"
      ]
     },
     "metadata": {},
     "output_type": "display_data"
    }
   ],
   "source": [
    "if len(data_f) < 1000000:\n",
    "    # dauert sonst einfach ewig\n",
    "    fig, ax = plt.subplots(ncols = 3, figsize=(10,5))\n",
    "\n",
    "    plot_names = [\"APP_MAG_R\", \"ABS_MAG_R\", \"LUM_R\"]\n",
    "    cnt = 0\n",
    "    for axis in ax:\n",
    "        axis.hist(data_f[plot_names[cnt]], bins = \"auto\")\n",
    "        axis.set_yscale(\"log\")\n",
    "        cnt += 1\n",
    "    plt.show()"
   ]
  },
  {
   "cell_type": "code",
   "execution_count": 53,
   "metadata": {},
   "outputs": [],
   "source": [
    "inspect_abs_mags = False\n",
    "\n",
    "if inspect_abs_mags:\n",
    "    data_to_inspect = data_f[data_f[\"ABS_MAG_R\"]> -12]\n",
    "    fig, ax = plt.subplots(ncols = 5, figsize = (15,8))\n",
    "    \n",
    "    ax[0].hist(data_to_inspect[\"ABS_MAG_R\"], bins = \"auto\")\n",
    "    ax[0].set_xlabel(\"abs mag in r-band\")\n",
    "    ax[1].hist(data_to_inspect[\"MW_TRANSMISSION\"], bins = \"auto\")\n",
    "    ax[1].set_xlabel(\"MW_TRANSMISSION\")\n",
    "    ax[2].hist(data_to_inspect[\"APP_MAG_R\"], bins = \"auto\")\n",
    "    ax[2].set_xlabel(\"App mag r-band\")\n",
    "    ax[3].hist(data_to_inspect[\"DIST_Z_MEAN\"], bins = \"auto\")\n",
    "    ax[3].set_xlabel(\"distance from redshift\")\n",
    "    ax[4].hist(data_to_inspect[\"Z\"], bins = \"auto\")\n",
    "    ax[4].set_xlabel(\"redshift\")\n",
    "    \n",
    "    mean_redshift_pec_objects = np.mean(data_to_inspect[\"Z\"])\n",
    "    mean_distance_pec_objects = np.mean(data_to_inspect[\"DIST_Z_MEAN\"])*u.Mpc\n",
    "    min_redshift_pec_objects = np.min(data_to_inspect[\"Z\"])\n",
    "    min_distance_pec_objects = np.min(data_to_inspect[\"DIST_Z_MEAN\"])*u.Mpc\n",
    "    \n",
    "    data_to_inspect_len = len(data_to_inspect)\n",
    "    star_data_len = len(data_to_inspect[data_to_inspect[\"SPECTYPE\"] == \"STAR\"])\n",
    "    \n",
    "    print(f\"These objects have a mean redshift of {mean_redshift_pec_objects}, which corresponds to a mean distance of {mean_distance_pec_objects}\")\n",
    "    print(f\"The minimum redshift is {min_redshift_pec_objects}, i.e. {min_distance_pec_objects}\")\n",
    "    print(f\"According to WolframAlpha the closest galaxy has a distance of roughly 25000ly = 7655pc (not Mpc, simply pc), so any object below 0.07Mpc is definitely not a real galaxy\")\n",
    "    print(f\"This reminded me to check if we have selected galaxies only...\")\n",
    "    print(f\"We have {star_data_len} stars in our catalogue of peculiar objects, compared to a total number of {data_to_inspect_len} objects...\")\n",
    "                        \n",
    "    for axis in ax:\n",
    "        axis.set_ylabel(\"bin count\")\n",
    "        #axis.legend()\n",
    "        \n",
    "    plt.tight_layout()\n",
    "    plt.show()\n",
    "    "
   ]
  },
  {
   "cell_type": "code",
   "execution_count": 54,
   "metadata": {},
   "outputs": [],
   "source": [
    "# np.max(data_f[\"MW_TRANSMISSION\"])"
   ]
  },
  {
   "cell_type": "markdown",
   "metadata": {
    "tags": []
   },
   "source": [
    "### start calculating the P_Gal (the probability that galaxy X is the host)"
   ]
  },
  {
   "cell_type": "code",
   "execution_count": 55,
   "metadata": {},
   "outputs": [
    {
     "name": "stdout",
     "output_type": "stream",
     "text": [
      "The maximum luminosity in our catalog in the r-band is 1.326534860338231e+37 W with a prob density of     PROBDENSITY    \n",
      "-------------------\n",
      "0.01645199266417121\n"
     ]
    }
   ],
   "source": [
    "max_lum_r = np.max(data_f[\"LUM_R\"])*u.W\n",
    "prob_dens_max_lum = data_f[data_f[\"LUM_R\"] == max_lum_r][\"PROBDENSITY\"]\n",
    "print(f\"The maximum luminosity in our catalog in the r-band is {max_lum_r} with a prob density of {prob_dens_max_lum}\")"
   ]
  },
  {
   "cell_type": "code",
   "execution_count": 56,
   "metadata": {},
   "outputs": [],
   "source": [
    "if modeled_search:\n",
    "    \n",
    "    dist_delta = abs(data_f[\"DIST_Z_MEAN\"]-data_f[\"DISTMU\"])\n",
    "    combined_sigma2 =  data_f[\"DISTSIGMA\"]**2 + data_f[\"DIST_Z_COSMO_SIGMA\"].value**2 + data_f[\"DIST_Z_ERR\"]**2\n",
    "    P_gal_unnorm = data_f[\"LUM_R\"]*data_f[\"PROBDENSITY\"]/(np.sqrt(2*np.pi*combined_sigma2))*np.exp(-dist_delta**2/(combined_sigma2))\n",
    "    \n",
    "    P_gal_sum = np.sum(P_gal_unnorm)\n",
    "    P_gal = 1/P_gal_sum * P_gal_unnorm\n",
    "\n",
    "\n",
    "else:\n",
    "    P_gal_unnorm = data_f[\"LUM_R\"]*data_f[\"PROBDENSITY\"]\n",
    "    P_gal_sum = np.sum(P_gal_unnorm)\n",
    "    P_gal = 1/P_gal_sum * P_gal_unnorm"
   ]
  },
  {
   "cell_type": "markdown",
   "metadata": {
    "tags": []
   },
   "source": [
    "### Get the missed fraction of DESI due to mass/luminosity incompleteness\n",
    "\n",
    "$$f_{missed} =  \\frac{\\int_{-\\infty}^{\\infty} dM 10^{-0.4M}\\left(1-\\frac{Hist}{Schechter}\\right)\\cdot Schechter}{\\int_{-\\infty}^{\\infty}dM 10^{-0.4M}\\cdot Schechter}$$\n",
    "\n",
    "We want to account for the fact that some region were covered in more detail by DESI than others..."
   ]
  },
  {
   "cell_type": "code",
   "execution_count": 57,
   "metadata": {},
   "outputs": [],
   "source": [
    "def V_dat(data):\n",
    "    dat_sort_lowest = data.group_by(\"DIST_Z_MEAN\")\n",
    "    mean_min_dist = np.mean(dat_sort_lowest[\"DIST_Z_MEAN\"][:10])\n",
    "    dat_sort_highest = dat_sort_lowest[::-1]\n",
    "    mean_max_dist = np.mean(dat_sort_highest[\"DIST_Z_MEAN\"][:10])\n",
    "    return 4*np.pi/3 * area_99_deg/gs.omega_sky * (mean_max_dist**3-mean_min_dist**3)"
   ]
  },
  {
   "cell_type": "code",
   "execution_count": 58,
   "metadata": {},
   "outputs": [
    {
     "name": "stdout",
     "output_type": "stream",
     "text": [
      "3048114.281895377\n"
     ]
    },
    {
     "data": {
      "image/png": "[encoded data removed]",
      "text/plain": [
       "<Figure size 500x250 with 1 Axes>"
      ]
     },
     "metadata": {},
     "output_type": "display_data"
    }
   ],
   "source": [
    "if modeled_search:\n",
    "    \n",
    "    # get the Schechter model, see 1/V estimator, bin size of half a mag\n",
    "    from astropy.modeling.models import Schechter1D\n",
    "\n",
    "    phi_star = 0.0016745140734036254\n",
    "    m_star = -21.757361746831197\n",
    "    alpha = -1.1297780395774693\n",
    "\n",
    "    schechter_model = Schechter1D(phi_star, m_star, alpha)\n",
    "    \n",
    "    abs_mag_max = np.max(data_f[\"ABS_MAG_R\"])\n",
    "    abs_mag_min = np.min(data_f[\"ABS_MAG_R\"])\n",
    "\n",
    "    data_min_dist = np.min(data_f[\"DIST_Z_MEAN\"])\n",
    "    data_max_dist = np.max(data_f[\"DIST_Z_MEAN\"])\n",
    "    \n",
    "    bins = np.arange(abs_mag_min, abs_mag_max, 0.5)\n",
    "\n",
    "    hist, bins = np.histogram(data_f[\"ABS_MAG_R\"], bins =  bins)\n",
    "    #print(hist[:])\n",
    "    # normalize our histogram to our volume\n",
    "    volume = V_dat(data_f)\n",
    "    hist = hist/(volume)\n",
    "    #print(hist[:])\n",
    "    #print(bins)\n",
    "    print(volume)\n",
    "    \n",
    "    #hist = hist/(area_99.to_value(u.deg**2)*(data_max_dist-data_min_dist).value*10**0) # completely wrong normalization\n",
    "    \n",
    "    #print(f\"{abs_mag_min}, {abs_mag_max}, {data_min_dist}, {data_max_dist}\")\n",
    "    \n",
    "    fig, ax = plt.subplots(figsize = (5,2.5))\n",
    "    bins_center = bins[1:]-(bins[1]-bins[2])/2\n",
    "    ax.plot(bins_center, hist, label = \"normalized distribution\")\n",
    "    ax.plot(np.linspace(-25,-8), schechter_model(np.linspace(-25,-8)),  label = \"some schechter fit\", color = \"red\")\n",
    "\n",
    "    ax.set_yscale(\"log\")\n",
    "    plt.show()"
   ]
  },
  {
   "cell_type": "code",
   "execution_count": 59,
   "metadata": {},
   "outputs": [
    {
     "data": {
      "text/plain": [
       "(numpy.ndarray, 1846291.1437220573)"
      ]
     },
     "execution_count": 59,
     "metadata": {},
     "output_type": "execute_result"
    }
   ],
   "source": [
    "type(hist), 246831256.82765186 - 244984965.6839298"
   ]
  },
  {
   "cell_type": "code",
   "execution_count": 60,
   "metadata": {},
   "outputs": [
    {
     "name": "stdout",
     "output_type": "stream",
     "text": [
      "num: (296646.9065597413, 0.21635492295567932)\n",
      "denom: (924272.0726096857, 0.005902445979669296)\n",
      "fraction missed:  0.32095193109336045\n"
     ]
    },
    {
     "name": "stderr",
     "output_type": "stream",
     "text": [
      "/tmp/ipykernel_1519018/1182701063.py:38: IntegrationWarning: The occurrence of roundoff error is detected, which prevents \n",
      "  the requested tolerance from being achieved.  The error may be \n",
      "  underestimated.\n",
      "  numerator = quad(num_func, lower_int_limit, upper_int_limit, limit = 1000)\n"
     ]
    }
   ],
   "source": [
    "bins_center = bins[1:]-np.abs(bins[1]-bins[0])/2\n",
    "\n",
    "if modeled_search:\n",
    "    def hist_func(M):\n",
    "        # https://stackoverflow.com/questions/2566412/find-nearest-value-in-numpy-array\n",
    "        # make sure array is a numpy array\n",
    "        # array = np.array(array)\n",
    "        idx = (np.abs(bins_center - M)).argmin()\n",
    "        #print(idx)\n",
    "        val = hist[idx]\n",
    "        #print(f\"val {val}\")\n",
    "        return val\n",
    "\n",
    "    def num_func(M):\n",
    "        #print(f\"M is {M}\")\n",
    "        schechter_val = schechter_model(M)\n",
    "        #print(f\"schechter Val: {schechter_val}\")\n",
    "        lum_factor = 10**(-0.4*M)\n",
    "        #print(f\"lum factor {lum_factor}\")\n",
    "        hist_val = hist_func(M)\n",
    "        #print(f\"hist val {hist_val}\")\n",
    "        weighting_coverage = (1-hist_val/(schechter_val))\n",
    "        #print(f\"weighting_coverage: {weighting_coverage}\")\n",
    "        final_val = lum_factor*weighting_coverage*schechter_val\n",
    "        #print(f\"final value: {final_val}\")\n",
    "        return final_val\n",
    "    def denom_func(M):\n",
    "        lum_factor = 10**(-0.4*M)\n",
    "        schechter_val = schechter_model(M)\n",
    "        final_val = lum_factor*schechter_val\n",
    "\n",
    "        return final_val\n",
    "\n",
    "    lower_int_limit = -28\n",
    "    upper_int_limit = 100\n",
    "\n",
    "\n",
    "    numerator = quad(num_func, lower_int_limit, upper_int_limit, limit = 1000)\n",
    "    denominator = quad(denom_func, lower_int_limit, upper_int_limit)\n",
    "\n",
    "    print(f\"num: {numerator}\")\n",
    "    print(f\"denom: {denominator}\")\n",
    "\n",
    "    f_missed = numerator[0]/denominator[0]\n",
    "\n",
    "    print(\"fraction missed: \", f_missed)\n",
    "    P_gal = P_gal*(1-f_missed)"
   ]
  },
  {
   "cell_type": "code",
   "execution_count": 61,
   "metadata": {},
   "outputs": [],
   "source": [
    "data_f = hstack([data_f, Table({\"P_GAL\": P_gal.value})])"
   ]
  },
  {
   "cell_type": "code",
   "execution_count": 62,
   "metadata": {},
   "outputs": [
    {
     "data": {
      "text/html": [
       "<div><i>Table length=10000</i>\n",
       "<table id=\"table140651152074944\" class=\"table-striped table-bordered table-condensed\">\n",
       "<thead><tr><th>TARGETID</th><th>TARGET_RA</th><th>TARGET_DEC</th><th>LASTNIGHT</th><th>Z</th><th>ZERR</th><th>ZWARN</th><th>FLUX_G</th><th>FLUX_R</th><th>FLUX_Z</th><th>SPECTYPE</th><th>BGS_TARGET</th><th>EBV</th><th>SERSIC</th><th>UNIQ</th><th>PROBDENSITY</th><th>DISTMU</th><th>DISTSIGMA</th><th>DISTNORM</th><th>DIST_Z_MEAN</th><th>DIST_Z_ERR</th><th>DIST_Z_COSMO_SIGMA</th><th>MW_TRANSMISSION</th><th>APP_MAG_R</th><th>ABS_MAG_R</th><th>LUM_R</th><th>P_GAL</th></tr></thead>\n",
       "<thead><tr><th></th><th></th><th></th><th></th><th></th><th></th><th></th><th></th><th></th><th></th><th></th><th></th><th></th><th></th><th></th><th></th><th>Mpc</th><th>Mpc</th><th>1 / Mpc2</th><th>Mpc</th><th>Mpc</th><th>Mpc</th><th></th><th></th><th></th><th>W</th><th></th></tr></thead>\n",
       "<thead><tr><th>int64</th><th>float64</th><th>float64</th><th>int64</th><th>float64</th><th>float64</th><th>int64</th><th>float64</th><th>float64</th><th>float64</th><th>bytes6</th><th>int64</th><th>float64</th><th>float64</th><th>int64</th><th>float64</th><th>float64</th><th>float64</th><th>float64</th><th>float64</th><th>float64</th><th>float64</th><th>float64</th><th>float64</th><th>float64</th><th>float64</th><th>float64</th></tr></thead>\n",
       "<tr><td>39633224107820478</td><td>160.61727712405</td><td>48.5795094937581</td><td>20220421</td><td>0.0285309495506233</td><td>8.94976626877758e-06</td><td>0</td><td>10.7434968948364</td><td>15.5962247848511</td><td>18.0656089782715</td><td>GALAXY</td><td>514</td><td>0.0126253934577107</td><td>1.0</td><td>5714048</td><td>0.037787030614068476</td><td>257.2238287543571</td><td>66.49742110330038</td><td>1.4167119276752243e-05</td><td>123.9536160087099</td><td>0.03806269441783726</td><td>10.9951801895185</td><td>0.9750140131499763</td><td>19.489978428963674</td><td>-16.065545563200722</td><td>1.4389708223947236e+34</td><td>8.204685195188566e-07</td></tr>\n",
       "<tr><td>39633224107820353</td><td>160.604648933614</td><td>48.578025379034</td><td>20220317</td><td>0.0287743051597604</td><td>5.06052819531529e-06</td><td>0</td><td>97.8936462402344</td><td>140.151321411133</td><td>171.730010986328</td><td>GALAXY</td><td>514</td><td>0.0124998781830072</td><td>0.747448742389679</td><td>5714048</td><td>0.037787030614068476</td><td>257.2238287543571</td><td>66.49742110330038</td><td>1.4167119276752243e-05</td><td>125.03313371942757</td><td>0.021521988481177905</td><td>11.092602925118296</td><td>0.9752593126341212</td><td>17.106307272964337</td><td>-18.468048027825574</td><td>1.3153852687659661e+35</td><td>8.00104902591509e-06</td></tr>\n",
       "<tr><td>39633224107820130</td><td>160.582254511931</td><td>48.6057650714367</td><td>20220317</td><td>0.0866269894393046</td><td>8.07347855837462e-06</td><td>0</td><td>16.9728450775146</td><td>20.6989097595215</td><td>21.8458423614502</td><td>GALAXY</td><td>514</td><td>0.0122952042147517</td><td>2.34993124008179</td><td>5714048</td><td>0.037787030614068476</td><td>257.2238287543571</td><td>66.49742110330038</td><td>1.4167119276752243e-05</td><td>392.00432420309085</td><td>0.03433588458543407</td><td>36.01115009426769</td><td>0.9756594474711141</td><td>19.183376957722288</td><td>-18.87269450014388</td><td>1.9094643864830322e+35</td><td>2.019911112135531e-05</td></tr>\n",
       "<tr><td>39633224107819966</td><td>160.563779139401</td><td>48.5791101535965</td><td>20220218</td><td>0.0286392319026312</td><td>6.027066595383e-06</td><td>0</td><td>26.5717449188232</td><td>42.2222900390625</td><td>58.09375</td><td>GALAXY</td><td>514</td><td>0.0121476463973522</td><td>1.2306604385376</td><td>5714048</td><td>0.037787030614068476</td><td>257.2238287543571</td><td>66.49742110330038</td><td>1.4167119276752243e-05</td><td>124.43390708157122</td><td>0.025632611568898005</td><td>11.03852132423984</td><td>0.9759480228448494</td><td>18.409712259600234</td><td>-17.154210188273915</td><td>3.922092554033521e+34</td><td>2.3017206311539325e-06</td></tr>\n",
       "<tr><td>39633228113381386</td><td>160.596181344532</td><td>48.7591124780506</td><td>20220317</td><td>0.0870420579070183</td><td>3.1481411106676e-06</td><td>0</td><td>37.4118041992188</td><td>61.7050819396973</td><td>88.4442367553711</td><td>GALAXY</td><td>514</td><td>0.0124244792386889</td><td>1.0</td><td>5714059</td><td>0.037767057360077544</td><td>257.2390784708651</td><td>66.50711538589478</td><td>1.4165286102841546e-05</td><td>393.9924779500584</td><td>0.013388752166195443</td><td>36.20262091287905</td><td>0.9754066974544541</td><td>17.997161999775827</td><td>-20.069897425936745</td><td>5.751653742759046e+35</td><td>5.577907301383973e-05</td></tr>\n",
       "<tr><td>39633220077096130</td><td>160.502714787099</td><td>48.2425806193775</td><td>20220421</td><td>0.0897279204540391</td><td>5.57873828172042e-05</td><td>0</td><td>18.6595916748047</td><td>20.146915435791</td><td>41.3743362426758</td><td>GALAXY</td><td>514</td><td>0.016830001026392</td><td>4.0</td><td>5711198</td><td>0.03760913254142433</td><td>257.1988923476034</td><td>66.4756591890677</td><td>1.4170275396363581e-05</td><td>406.88206991315235</td><td>0.23726809598302773</td><td>37.44598704707183</td><td>0.9668323360395499</td><td>19.202856508913612</td><td>-18.934122818785468</td><td>2.0206118248120075e+35</td><td>1.0765392271121148e-05</td></tr>\n",
       "<tr><td>39633220077096092</td><td>160.499405352143</td><td>48.2443654394894</td><td>20220218</td><td>0.0891938021197193</td><td>9.58136623875225e-06</td><td>0</td><td>90.8169174194336</td><td>219.478057861328</td><td>450.9931640625</td><td>GALAXY</td><td>514</td><td>0.0167716387659311</td><td>3.6061794757843</td><td>5711198</td><td>0.03760913254142433</td><td>257.1988923476034</td><td>66.4756591890677</td><td>1.4170275396363581e-05</td><td>404.31543579408657</td><td>0.04074886204326435</td><td>37.198123334357426</td><td>0.9669454309971518</td><td>16.61002714276029</td><td>-21.513207702637356</td><td>2.1732858067659255e+36</td><td>0.0001306248179764647</td></tr>\n",
       "<tr><td>39633232102162826</td><td>160.676651886262</td><td>48.9948178021776</td><td>20220218</td><td>0.0266874244394829</td><td>6.65223658190699e-06</td><td>0</td><td>142.321075439453</td><td>284.887725830078</td><td>496.859161376953</td><td>GALAXY</td><td>514</td><td>0.0139780789613724</td><td>1.08673894405365</td><td>5714093</td><td>0.03754523982911819</td><td>257.61898975895224</td><td>66.60936322650437</td><td>1.4123430807874492e-05</td><td>115.78790156525507</td><td>0.028291420875771106</td><td>10.259164768003501</td><td>0.9723743183998059</td><td>16.33289935418822</td><td>-19.074631407313106</td><td>2.2997801736098604e+35</td><td>7.753170089237103e-06</td></tr>\n",
       "<tr><td>39633240016817200</td><td>160.728359315402</td><td>49.5122907593121</td><td>20220317</td><td>0.0317096528038131</td><td>7.42219329991124e-06</td><td>0</td><td>457.960144042969</td><td>1022.95190429688</td><td>1736.21923828125</td><td>GALAXY</td><td>514</td><td>0.0166523698717356</td><td>5.2728910446167</td><td>5714486</td><td>0.03742726892583277</td><td>257.6441706844403</td><td>66.61454063608322</td><td>1.41207056457255e-05</td><td>138.0835427904784</td><td>0.03156600268877997</td><td>12.272576159036594</td><td>0.9671765925675718</td><td>14.939126405285093</td><td>-20.85083373882638</td><td>1.180775295668725e+36</td><td>0.00014680297874632262</td></tr>\n",
       "<tr><td>...</td><td>...</td><td>...</td><td>...</td><td>...</td><td>...</td><td>...</td><td>...</td><td>...</td><td>...</td><td>...</td><td>...</td><td>...</td><td>...</td><td>...</td><td>...</td><td>...</td><td>...</td><td>...</td><td>...</td><td>...</td><td>...</td><td>...</td><td>...</td><td>...</td><td>...</td><td>...</td></tr>\n",
       "<tr><td>39628186564166312</td><td>150.03966353025</td><td>16.6456428024779</td><td>20230408</td><td>0.0433353317404415</td><td>2.88986307808906e-06</td><td>0</td><td>37.5603256225586</td><td>47.2457160949707</td><td>53.5255661010742</td><td>GALAXY</td><td>131074</td><td>0.0284927766770124</td><td>0.519054412841797</td><td>83240</td><td>0.00014295750182934244</td><td>149.02300138172038</td><td>6.88529550836443</td><td>4.493319330225297e-05</td><td>190.299376282295</td><td>0.012290317225373229</td><td>17.034292231044883</td><td>0.9444954871495707</td><td>18.252093628200583</td><td>-18.234424977271416</td><td>1.0607273174137994e+35</td><td>2.69170266791494e-08</td></tr>\n",
       "<tr><td>39628186564165981</td><td>150.019988145829</td><td>16.7249105185755</td><td>20230408</td><td>0.0310406362935331</td><td>2.53128035401077e-05</td><td>0</td><td>22.3288764953613</td><td>33.0323295593262</td><td>44.7141876220703</td><td>GALAXY</td><td>131074</td><td>0.0282513089478016</td><td>1.14817929267883</td><td>83240</td><td>0.00014295750182934244</td><td>149.02300138172038</td><td>6.88529550836443</td><td>4.493319330225297e-05</td><td>135.10437193938446</td><td>0.1076548267397068</td><td>12.00284939989052</td><td>0.9449526791756272</td><td>18.641177144757716</td><td>-17.101415674106864</td><td>3.7359412006296096e+34</td><td>7.119441455390067e-07</td></tr>\n",
       "<tr><td>39633057942079486</td><td>159.975008059892</td><td>38.9136701437227</td><td>20220318</td><td>0.0760206201046235</td><td>1.10346647509988e-05</td><td>0</td><td>9.90598011016846</td><td>16.4130802154541</td><td>21.752571105957</td><td>GALAXY</td><td>514</td><td>0.0156707316637039</td><td>1.0</td><td>86997</td><td>0.000141266574781241</td><td>266.69966731080206</td><td>61.19364122149539</td><td>1.3355883017057145e-05</td><td>341.54567838868695</td><td>0.04692968821717773</td><td>31.179889157966443</td><td>0.9690812596725837</td><td>19.427925257838186</td><td>-18.32886847858703</td><td>1.1571273376654657e+35</td><td>3.6820899827218965e-07</td></tr>\n",
       "<tr><td>39633053223488335</td><td>159.796613561558</td><td>38.8423329380876</td><td>20221207</td><td>0.0990022074777887</td><td>2.75120607013467e-05</td><td>0</td><td>23.6322822570801</td><td>40.3625183105469</td><td>58.4598121643066</td><td>GALAXY</td><td>514</td><td>0.0194588378071785</td><td>0.516136229038239</td><td>86997</td><td>0.000141266574781241</td><td>266.69966731080206</td><td>61.19364122149539</td><td>1.3355883017057145e-05</td><td>451.7141344283007</td><td>0.11700841806079623</td><td>41.79766850662269</td><td>0.9617518437900264</td><td>18.44271193132176</td><td>-19.921300214386363</td><td>5.015957504093054e+35</td><td>9.524258045984257e-09</td></tr>\n",
       "<tr><td>39633057942079124</td><td>159.942629352055</td><td>38.9922250508813</td><td>20220318</td><td>0.0726701986014387</td><td>1.98101474284317e-06</td><td>0</td><td>27.4824810028076</td><td>37.3164443969727</td><td>42.9463119506836</td><td>GALAXY</td><td>514</td><td>0.0153268789872527</td><td>1.14947164058685</td><td>86997</td><td>0.000141266574781241</td><td>266.69966731080206</td><td>61.19364122149539</td><td>1.3355883017057145e-05</td><td>325.74528963498153</td><td>0.0084250644646569</td><td>29.678325565528823</td><td>0.9697493217637007</td><td>18.536898070337667</td><td>-19.117020782919493</td><td>2.3913441158391118e+35</td><td>1.1858936702521385e-06</td></tr>\n",
       "<tr><td>39633053223487433</td><td>159.721345388199</td><td>38.7995461031599</td><td>20220318</td><td>0.0506166317680028</td><td>9.00695739366864e-06</td><td>0</td><td>235.086196899414</td><td>382.222412109375</td><td>496.390563964844</td><td>GALAXY</td><td>514</td><td>0.020643362775445</td><td>1.45933783054352</td><td>86997</td><td>0.000141266574781241</td><td>266.69966731080206</td><td>61.19364122149539</td><td>1.3355883017057145e-05</td><td>223.42915993341217</td><td>0.038305925710882975</td><td>20.088567121574755</td><td>0.9594713630177377</td><td>15.999289670378914</td><td>-20.835791269940984</td><td>1.1645288994828923e+36</td><td>8.251292457831686e-06</td></tr>\n",
       "<tr><td>39633053223488051</td><td>159.774272044723</td><td>38.6706497026762</td><td>20221207</td><td>0.056136906612234</td><td>7.90978593316489e-06</td><td>0</td><td>51.6031608581543</td><td>95.5689544677734</td><td>151.925582885742</td><td>GALAXY</td><td>514</td><td>0.0179309584200382</td><td>0.734120905399323</td><td>86997</td><td>0.000141266574781241</td><td>266.69966731080206</td><td>61.19364122149539</td><td>1.3355883017057145e-05</td><td>248.76316910613352</td><td>0.033639708219160416</td><td>22.441143762736598</td><td>0.9647013666957689</td><td>17.510190147434564</td><td>-19.558159253349096</td><td>3.5900249265615526e+35</td><td>3.6595532768488426e-06</td></tr>\n",
       "<tr><td>39633053227681596</td><td>160.039421641279</td><td>38.8703314343731</td><td>20220318</td><td>0.0833022977548051</td><td>1.45459966494784e-05</td><td>0</td><td>21.7864246368408</td><td>49.2766189575195</td><td>98.5668182373047</td><td>GALAXY</td><td>514</td><td>0.0169907938688993</td><td>1.0</td><td>86997</td><td>0.000141266574781241</td><td>266.69966731080206</td><td>61.19364122149539</td><td>1.3355883017057145e-05</td><td>376.11586233485076</td><td>0.061863312773042085</td><td>34.484009074684465</td><td>0.9665208185202661</td><td>18.231425778281956</td><td>-19.734778686841036</td><td>4.224207442695185e+35</td><td>3.8077024071931177e-07</td></tr>\n",
       "<tr><td>39633053227682999</td><td>160.164638745703</td><td>38.7802473516148</td><td>20220327</td><td>0.0757900233679653</td><td>4.11556994278512e-06</td><td>0</td><td>11.4522590637207</td><td>15.8406982421875</td><td>18.9003105163574</td><td>GALAXY</td><td>514</td><td>0.0161983650177717</td><td>0.588924050331116</td><td>86997</td><td>0.000141266574781241</td><td>266.69966731080206</td><td>61.19364122149539</td><td>1.3355883017057145e-05</td><td>340.45605229173395</td><td>0.01750315019357588</td><td>31.07616433426972</td><td>0.9680570298858848</td><td>19.465316555363266</td><td>-18.284537019939016</td><td>1.1108324823276221e+35</td><td>3.6549470153962397e-07</td></tr>\n",
       "<tr><td>39633057942080454</td><td>160.068705794704</td><td>38.9177213660104</td><td>20220318</td><td>0.0842353946860145</td><td>3.77949328693415e-06</td><td>0</td><td>9.104079246521</td><td>16.0593910217285</td><td>21.4817543029785</td><td>GALAXY</td><td>514</td><td>0.0168857276439667</td><td>1.28294110298157</td><td>86997</td><td>0.000141266574781241</td><td>266.69966731080206</td><td>61.19364122149539</td><td>1.3355883017057145e-05</td><td>380.56848599143376</td><td>0.016073842166581982</td><td>34.91143817867022</td><td>0.9667243608016114</td><td>19.448933975043087</td><td>-18.542832250538336</td><td>1.4091806234197142e+35</td><td>1.0516926331232355e-07</td></tr>\n",
       "</table></div>"
      ],
      "text/plain": [
       "<Table length=10000>\n",
       "     TARGETID        TARGET_RA     ...         P_GAL         \n",
       "                                   ...                       \n",
       "      int64           float64      ...        float64        \n",
       "----------------- ---------------- ... ----------------------\n",
       "39633224107820478  160.61727712405 ...  8.204685195188566e-07\n",
       "39633224107820353 160.604648933614 ...   8.00104902591509e-06\n",
       "39633224107820130 160.582254511931 ...  2.019911112135531e-05\n",
       "39633224107819966 160.563779139401 ... 2.3017206311539325e-06\n",
       "39633228113381386 160.596181344532 ...  5.577907301383973e-05\n",
       "39633220077096130 160.502714787099 ... 1.0765392271121148e-05\n",
       "39633220077096092 160.499405352143 ...  0.0001306248179764647\n",
       "39633232102162826 160.676651886262 ...  7.753170089237103e-06\n",
       "39633240016817200 160.728359315402 ... 0.00014680297874632262\n",
       "              ...              ... ...                    ...\n",
       "39628186564166312  150.03966353025 ...   2.69170266791494e-08\n",
       "39628186564165981 150.019988145829 ...  7.119441455390067e-07\n",
       "39633057942079486 159.975008059892 ... 3.6820899827218965e-07\n",
       "39633053223488335 159.796613561558 ...  9.524258045984257e-09\n",
       "39633057942079124 159.942629352055 ... 1.1858936702521385e-06\n",
       "39633053223487433 159.721345388199 ...  8.251292457831686e-06\n",
       "39633053223488051 159.774272044723 ... 3.6595532768488426e-06\n",
       "39633053227681596 160.039421641279 ... 3.8077024071931177e-07\n",
       "39633053227682999 160.164638745703 ... 3.6549470153962397e-07\n",
       "39633057942080454 160.068705794704 ... 1.0516926331232355e-07"
      ]
     },
     "execution_count": 62,
     "metadata": {},
     "output_type": "execute_result"
    }
   ],
   "source": [
    "data_f[:]"
   ]
  },
  {
   "cell_type": "markdown",
   "metadata": {
    "tags": []
   },
   "source": [
    "## Analyse the data: How much luminosity do we cover? Which galaxies should we observe?\n",
    "\n",
    "Lets look into what information we can retrieve from here. First we define, how many galaxies we could observe (N_galaxies).\n",
    "\n",
    "We then calculate the luminosity (lum) from all the galaxies in this area, i.e. the total luminosity. From there do some comparison between the covered luminosity and total luminosity depending on the ranking by probability:\n",
    "- simple \"Maximum lum that could be covered\" by looking at the brightest galaxies\n",
    "- Calculate the probability this way (done above) (from https://arxiv.org/pdf/1710.05452.pdf w/o normalization), both using a static and variable distance and error: $$P_{gal} = k^{-1}L_r(1-f_{missed})\\cdot P_{2D}\\frac{e^{-\\frac{\\left(D_{LVC}-D_{desi}\\right)^2}{\\sigma_{D,desi}^2+\\sigma_{D,cosmo}^2+\\sigma_{D,LVC}^2}}}{\\sqrt{2\\pi \\left(\\sigma_{D,desi}^2+\\sigma_{D,cosmo}^2+\\sigma_{D,LVC}^2\\right)}}$$\n",
    "- others may follow...\n",
    "\n",
    "Since we have the actual luminosity (here in r-band though), we don't need to again calculate the $$\\tilde{L}_{gal}$$ values. In the mentioned paper, they only use a fixed distance and error for the LIGO data. I will try both, to get an idea what the differences are."
   ]
  },
  {
   "cell_type": "code",
   "execution_count": 63,
   "metadata": {},
   "outputs": [],
   "source": [
    "N_galaxies = 20 # how many galaxies we can cover"
   ]
  },
  {
   "cell_type": "code",
   "execution_count": 64,
   "metadata": {},
   "outputs": [],
   "source": [
    "total_lum = np.sum(data_f[\"LUM_R\"])"
   ]
  },
  {
   "cell_type": "markdown",
   "metadata": {
    "tags": []
   },
   "source": [
    "### Compare lum with luminosity ranking\n",
    "\n",
    "https://iopscience.iop.org/article/10.3847/0067-0049/226/1/10"
   ]
  },
  {
   "cell_type": "code",
   "execution_count": 65,
   "metadata": {},
   "outputs": [],
   "source": [
    "data_sort_by_lums = data_f.group_by(\"LUM_R\")\n",
    "data_sort_by_lums = data_sort_by_lums[::-1]"
   ]
  },
  {
   "cell_type": "code",
   "execution_count": 66,
   "metadata": {},
   "outputs": [],
   "source": [
    "lum_after_N_highest = np.sum(data_sort_by_lums[\"LUM_R\"][:N_galaxies])"
   ]
  },
  {
   "cell_type": "code",
   "execution_count": 67,
   "metadata": {},
   "outputs": [
    {
     "name": "stdout",
     "output_type": "stream",
     "text": [
      "The theoretical maximum luminosity we could cover is 1.719827725692483e+38, i.e. 2.9093728984093623 % of the total luminosity\n",
      "The TARGETID values of these galaxies are: \n",
      "      TARGETID    \n",
      "-----------------\n",
      "39633081241439773\n",
      "39633358673674448\n",
      "39632975582727750\n",
      "39633440441631299\n",
      "39633478857262011\n",
      "39633307591246223\n",
      "39633361886512546\n",
      "39633365086768338\n",
      "39633076627705628\n",
      "39633358677869556\n",
      "39633034189734958\n",
      "39633029349507749\n",
      "39633135477983145\n",
      "39628475111309380\n",
      "39633165941214597\n",
      "39633081254020571\n",
      "39633161663022517\n",
      "39633380819602932\n",
      "39633458028350405\n",
      "39633540735828094\n"
     ]
    }
   ],
   "source": [
    "print(f\"The theoretical maximum luminosity we could cover is {lum_after_N_highest}, i.e. {lum_after_N_highest*100/total_lum} % of the total luminosity\")\n",
    "print(\"The TARGETID values of these galaxies are: \\n\", data_sort_by_lums[\"TARGETID\"][:N_galaxies])"
   ]
  },
  {
   "cell_type": "markdown",
   "metadata": {
    "tags": []
   },
   "source": [
    "### Compare lum with P_Gal ranking"
   ]
  },
  {
   "cell_type": "code",
   "execution_count": 68,
   "metadata": {},
   "outputs": [],
   "source": [
    "data_sort_by_PGal = data_f.group_by(\"P_GAL\")\n",
    "data_sort_by_PGal = data_sort_by_PGal[::-1]\n",
    "\n",
    "lum_after_N_PGal = np.sum(data_sort_by_PGal[\"LUM_R\"][:N_galaxies])\n",
    "lum_after_10_PGal = np.sum(data_sort_by_PGal[\"LUM_R\"][:10])"
   ]
  },
  {
   "cell_type": "code",
   "execution_count": 69,
   "metadata": {},
   "outputs": [
    {
     "name": "stdout",
     "output_type": "stream",
     "text": [
      "The luminosity we cover when observing 20 galaxies ranked by P_gal is 8.155461465972112e+37W, i.e. 1.3796311228537408% of the total (DESI) luminosity in the search area\n",
      "The luminosity we cover when observing 10 galaxies ranked by P_gal is 5.115299074121927e+37W, i.e. 0.865337398111577% of the total (DESI) luminosity in the search area\n",
      "The TARGETID values of these galaxies are: \n",
      "    TARGET_RA        TARGET_DEC    ...      TARGETID             P_GAL        \n",
      "---------------- ---------------- ... ----------------- ---------------------\n",
      "159.132741406714 45.2793855713682 ... 39633170227794004  0.007702259948010605\n",
      "160.788605223521 52.5566485559508 ... 39633285814419623   0.00749102828690736\n",
      "162.300420730946 57.8372551359261 ... 39633358673674448  0.006551262490035823\n",
      "161.351290633544 51.9378457634401 ... 39633278386310487  0.006434548759403466\n",
      "160.623914804067 49.7263326582477 ... 39633243942685377  0.004612950060888768\n",
      "162.862873413447 57.7100968822253 ... 39633358677869556   0.00450399746134985\n",
      "160.763119607896 51.4848207404392 ... 39633270874311327   0.00447528570698456\n",
      "160.009499232963 45.6275428108155 ... 39633178738032785    0.0043629945937226\n",
      "157.407258495435 38.4061125626019 ... 39633048462950834  0.004292110935141764\n",
      "159.558488055666 47.0325902417434 ... 39633199646638150  0.004253265601847129\n",
      "162.484977253773 52.8773566980097 ... 39633293175425428  0.004068921931298383\n",
      "162.403471847279 55.4299965201975 ... 39633328621490247 0.0038553715355947094\n",
      " 160.94428282679 51.3413765906407 ... 39633267095241242  0.003832571887261839\n",
      "159.412370353188 43.6711141613036 ... 39633144294409477 0.0036638871563430277\n",
      "162.583003622782 56.3476484514602 ... 39633338838811034 0.0034165751745785047\n",
      " 158.31582539162   40.01121043558 ... 39633076615120351 0.0033936488241795293\n",
      "158.097701776049 40.1690299148185 ... 39633081241440324  0.003393449615294398\n",
      " 161.97182808695 56.5865399015681 ... 39633342194253964  0.003290562440517704\n",
      "160.075025352481 45.1986259710216 ... 39633170240374974 0.0032819743140906853\n",
      "160.691086986778 49.7767805388813 ... 39633243942685989  0.003246320218559871\n"
     ]
    }
   ],
   "source": [
    "print(f\"The luminosity we cover when observing {N_galaxies} galaxies ranked by P_gal is {lum_after_N_PGal}W, i.e. {lum_after_N_PGal*100/total_lum}% of the total (DESI) luminosity in the search area\")\n",
    "print(f\"The luminosity we cover when observing 10 galaxies ranked by P_gal is {lum_after_10_PGal}W, i.e. {lum_after_10_PGal*100/total_lum}% of the total (DESI) luminosity in the search area\") \n",
    "\n",
    "print(\"The TARGETID values of these galaxies are: \\n\", data_sort_by_PGal[\"TARGET_RA\", \"TARGET_DEC\", \"SERSIC\", \"TARGETID\", \"P_GAL\"][:N_galaxies])\n"
   ]
  },
  {
   "cell_type": "code",
   "execution_count": 70,
   "metadata": {},
   "outputs": [
    {
     "data": {
      "text/html": [
       "<div><i>Table length=20</i>\n",
       "<table id=\"table140651155978992\" class=\"table-striped table-bordered table-condensed\">\n",
       "<thead><tr><th>TARGET_RA</th><th>TARGET_DEC</th><th>SERSIC</th><th>TARGETID</th><th>P_GAL</th></tr></thead>\n",
       "<thead><tr><th>float64</th><th>float64</th><th>float64</th><th>int64</th><th>float64</th></tr></thead>\n",
       "<tr><td>159.132741406714</td><td>45.2793855713682</td><td>4.68412828445435</td><td>39633170227794004</td><td>0.007702259948010605</td></tr>\n",
       "<tr><td>160.788605223521</td><td>52.5566485559508</td><td>4.17646789550781</td><td>39633285814419623</td><td>0.00749102828690736</td></tr>\n",
       "<tr><td>162.300420730946</td><td>57.8372551359261</td><td>4.0</td><td>39633358673674448</td><td>0.006551262490035823</td></tr>\n",
       "<tr><td>161.351290633544</td><td>51.9378457634401</td><td>2.3444881439209</td><td>39633278386310487</td><td>0.006434548759403466</td></tr>\n",
       "<tr><td>160.623914804067</td><td>49.7263326582477</td><td>4.0</td><td>39633243942685377</td><td>0.004612950060888768</td></tr>\n",
       "<tr><td>162.862873413447</td><td>57.7100968822253</td><td>5.14554357528687</td><td>39633358677869556</td><td>0.00450399746134985</td></tr>\n",
       "<tr><td>160.763119607896</td><td>51.4848207404392</td><td>1.29343521595001</td><td>39633270874311327</td><td>0.00447528570698456</td></tr>\n",
       "<tr><td>160.009499232963</td><td>45.6275428108155</td><td>0.759382426738739</td><td>39633178738032785</td><td>0.0043629945937226</td></tr>\n",
       "<tr><td>157.407258495435</td><td>38.4061125626019</td><td>4.19937038421631</td><td>39633048462950834</td><td>0.004292110935141764</td></tr>\n",
       "<tr><td>159.558488055666</td><td>47.0325902417434</td><td>4.47678422927856</td><td>39633199646638150</td><td>0.004253265601847129</td></tr>\n",
       "<tr><td>162.484977253773</td><td>52.8773566980097</td><td>5.06264352798462</td><td>39633293175425428</td><td>0.004068921931298383</td></tr>\n",
       "<tr><td>162.403471847279</td><td>55.4299965201975</td><td>1.38836181163788</td><td>39633328621490247</td><td>0.0038553715355947094</td></tr>\n",
       "<tr><td>160.94428282679</td><td>51.3413765906407</td><td>6.0</td><td>39633267095241242</td><td>0.003832571887261839</td></tr>\n",
       "<tr><td>159.412370353188</td><td>43.6711141613036</td><td>2.80088067054749</td><td>39633144294409477</td><td>0.0036638871563430277</td></tr>\n",
       "<tr><td>162.583003622782</td><td>56.3476484514602</td><td>3.19916582107544</td><td>39633338838811034</td><td>0.0034165751745785047</td></tr>\n",
       "<tr><td>158.31582539162</td><td>40.01121043558</td><td>1.24571883678436</td><td>39633076615120351</td><td>0.0033936488241795293</td></tr>\n",
       "<tr><td>158.097701776049</td><td>40.1690299148185</td><td>4.44932079315186</td><td>39633081241440324</td><td>0.003393449615294398</td></tr>\n",
       "<tr><td>161.97182808695</td><td>56.5865399015681</td><td>3.45061564445496</td><td>39633342194253964</td><td>0.003290562440517704</td></tr>\n",
       "<tr><td>160.075025352481</td><td>45.1986259710216</td><td>0.858019053936005</td><td>39633170240374974</td><td>0.0032819743140906853</td></tr>\n",
       "<tr><td>160.691086986778</td><td>49.7767805388813</td><td>1.51447355747223</td><td>39633243942685989</td><td>0.003246320218559871</td></tr>\n",
       "</table></div>"
      ],
      "text/plain": [
       "<Table length=20>\n",
       "   TARGET_RA        TARGET_DEC    ...      TARGETID             P_GAL        \n",
       "    float64          float64      ...       int64              float64       \n",
       "---------------- ---------------- ... ----------------- ---------------------\n",
       "159.132741406714 45.2793855713682 ... 39633170227794004  0.007702259948010605\n",
       "160.788605223521 52.5566485559508 ... 39633285814419623   0.00749102828690736\n",
       "162.300420730946 57.8372551359261 ... 39633358673674448  0.006551262490035823\n",
       "161.351290633544 51.9378457634401 ... 39633278386310487  0.006434548759403466\n",
       "160.623914804067 49.7263326582477 ... 39633243942685377  0.004612950060888768\n",
       "162.862873413447 57.7100968822253 ... 39633358677869556   0.00450399746134985\n",
       "160.763119607896 51.4848207404392 ... 39633270874311327   0.00447528570698456\n",
       "160.009499232963 45.6275428108155 ... 39633178738032785    0.0043629945937226\n",
       "157.407258495435 38.4061125626019 ... 39633048462950834  0.004292110935141764\n",
       "159.558488055666 47.0325902417434 ... 39633199646638150  0.004253265601847129\n",
       "162.484977253773 52.8773566980097 ... 39633293175425428  0.004068921931298383\n",
       "162.403471847279 55.4299965201975 ... 39633328621490247 0.0038553715355947094\n",
       " 160.94428282679 51.3413765906407 ... 39633267095241242  0.003832571887261839\n",
       "159.412370353188 43.6711141613036 ... 39633144294409477 0.0036638871563430277\n",
       "162.583003622782 56.3476484514602 ... 39633338838811034 0.0034165751745785047\n",
       " 158.31582539162   40.01121043558 ... 39633076615120351 0.0033936488241795293\n",
       "158.097701776049 40.1690299148185 ... 39633081241440324  0.003393449615294398\n",
       " 161.97182808695 56.5865399015681 ... 39633342194253964  0.003290562440517704\n",
       "160.075025352481 45.1986259710216 ... 39633170240374974 0.0032819743140906853\n",
       "160.691086986778 49.7767805388813 ... 39633243942685989  0.003246320218559871"
      ]
     },
     "execution_count": 70,
     "metadata": {},
     "output_type": "execute_result"
    }
   ],
   "source": [
    "data_sort_by_PGal[\"TARGET_RA\", \"TARGET_DEC\", \"SERSIC\", \"TARGETID\", \"P_GAL\"][:20]"
   ]
  },
  {
   "cell_type": "code",
   "execution_count": 71,
   "metadata": {},
   "outputs": [],
   "source": [
    "P_Gal_cumsum = np.cumsum(data_sort_by_PGal[\"P_GAL\"])"
   ]
  },
  {
   "cell_type": "code",
   "execution_count": 72,
   "metadata": {},
   "outputs": [
    {
     "data": {
      "image/png": "[encoded data removed]",
      "text/plain": [
       "<Figure size 640x480 with 1 Axes>"
      ]
     },
     "metadata": {},
     "output_type": "display_data"
    }
   ],
   "source": [
    "plt.plot(list(range(len(P_Gal_cumsum))),  P_Gal_cumsum)\n",
    "plt.xscale(\"log\")\n",
    "\n",
    "plt.yscale(\"log\")\n",
    "plt.xlim(1,len(P_Gal_cumsum))\n",
    "plt.savefig(dpi = 100, fname = f\"{superevent_name}PGAL_CUMULATIVE099.png\")\n",
    "plt.show()"
   ]
  },
  {
   "cell_type": "code",
   "execution_count": 73,
   "metadata": {},
   "outputs": [
    {
     "data": {
      "text/plain": [
       "'data_sort_by_PGal_C = data_f.group_by(\"P_GAL_C\")\\ndata_sort_by_PGal_C = data_sort_by_PGal_C[::-1]\\n\\nlum_after_N_PGal_C = np.sum(data_sort_by_PGal_C[\"LUM_R\"][:N_galaxies])'"
      ]
     },
     "execution_count": 73,
     "metadata": {},
     "output_type": "execute_result"
    }
   ],
   "source": [
    "\"\"\"data_sort_by_PGal_C = data_f.group_by(\"P_GAL_C\")\n",
    "data_sort_by_PGal_C = data_sort_by_PGal_C[::-1]\n",
    "\n",
    "lum_after_N_PGal_C = np.sum(data_sort_by_PGal_C[\"LUM_R\"][:N_galaxies])\"\"\""
   ]
  },
  {
   "cell_type": "code",
   "execution_count": 74,
   "metadata": {},
   "outputs": [
    {
     "data": {
      "text/plain": [
       "'print(f\"The maximum luminosity we cover when ranked by P_gal_C is {lum_after_N_PGal_C}, i.e. {lum_after_N_PGal_C*100/total_lum}% of the total luminosity\") \\nprint(\"The TARGETID values of these galaxies are: \\n\", data_sort_by_PGal_C[\"TARGETID\", \"P_GAL\"][:N_galaxies])'"
      ]
     },
     "execution_count": 74,
     "metadata": {},
     "output_type": "execute_result"
    }
   ],
   "source": [
    "\"\"\"print(f\"The maximum luminosity we cover when ranked by P_gal_C is {lum_after_N_PGal_C}, i.e. {lum_after_N_PGal_C*100/total_lum}% of the total luminosity\") \n",
    "print(\"The TARGETID values of these galaxies are: \\n\", data_sort_by_PGal_C[\"TARGETID\", \"P_GAL\"][:N_galaxies])\"\"\""
   ]
  },
  {
   "cell_type": "markdown",
   "metadata": {
    "tags": []
   },
   "source": [
    "## Exclude unobservabe objects from the PGal ranking and export list\n",
    "\n",
    "We want to cut out galaxies that are not observable by Wendelstein. For this we need the date (to calculate alt and az; we do this for three times to check observability) and Wendelstein location."
   ]
  },
  {
   "cell_type": "code",
   "execution_count": 75,
   "metadata": {},
   "outputs": [],
   "source": [
    "# convert DEG:MIN:SEC to deg with decimals...\n",
    "def conv_to_deg(deg, arcmin, arcsec):\n",
    "    return (deg+ arcmin/60+ arcsec/3600)*u.deg"
   ]
  },
  {
   "cell_type": "markdown",
   "metadata": {
    "tags": []
   },
   "source": [
    "### Get the observable objects (i.e. alt > 0) in the next night and apply that selection to our data"
   ]
  },
  {
   "cell_type": "code",
   "execution_count": 76,
   "metadata": {},
   "outputs": [
    {
     "name": "stderr",
     "output_type": "stream",
     "text": [
      "/tmp/ipykernel_1519018/3580540673.py:18: DeprecationWarning: parsing timezone aware datetimes is deprecated; this will raise an error in the future\n",
      "  t = np.arange(sunset_time, sunrise_time, timedelta(minutes=45)).astype(datetime)              # this may throw a deprecation warning, but seems fine anyway: https://github.com/numpy/numpy/issues/23904\n"
     ]
    }
   ],
   "source": [
    "# set the timzone\n",
    "timezone = \"Europe/Berlin\"\n",
    "tz_Berlin = pytz.timezone(timezone)\n",
    "\n",
    "# get the date (and actually time, but that it useless for us) of today and tomorrow\n",
    "day_Berlin = datetime.now(tz_Berlin)\n",
    "tmrw_Berlin = day_Berlin + timedelta(hours = 23, minutes = 59, seconds = 59)\n",
    "\n",
    "# set the Wendelstein location\n",
    "Wendelstein_loc = EarthLocation(lat = conv_to_deg(47, 42, 13.1), lon = conv_to_deg(12, 0, 43.4), height = 1838*u.m) #check - or + 12\n",
    "\n",
    "# define the sun object, which will tell us sunrise and set\n",
    "sun = SunTimes(Wendelstein_loc.lon.to_value(), Wendelstein_loc.lat.to_value(), Wendelstein_loc.height.to_value())\n",
    "sunset_time = sun.setwhere(day_Berlin, timezone)\n",
    "sunrise_time = sun.risewhere(tmrw_Berlin, timezone)\n",
    "\n",
    "# get a time array that includes the sunset time and from there a 30min interval until sunset\n",
    "t = np.arange(sunset_time, sunrise_time, timedelta(minutes=45)).astype(datetime)              # this may throw a deprecation warning, but seems fine anyway: https://github.com/numpy/numpy/issues/23904\n",
    "\n",
    "# a little cheap but effective: observation at sunset is useless, start 1h after:\n",
    "t = t[2:]"
   ]
  },
  {
   "cell_type": "code",
   "execution_count": 77,
   "metadata": {},
   "outputs": [],
   "source": [
    "# get all the SkyCoords for each objects in the data catalog\n",
    "target_SkyCoord = SkyCoord(data_sort_by_PGal[\"TARGET_RA\"], data_sort_by_PGal[\"TARGET_DEC\"], unit = \"deg\")"
   ]
  },
  {
   "cell_type": "code",
   "execution_count": 78,
   "metadata": {},
   "outputs": [],
   "source": [
    "# get Alt for the different times during the night\n",
    "# t should be an array that consists of a couple of night times, so if *all* of these times don't have a positive alt it will be discarded\n",
    "target_Alt = [target_SkyCoord.transform_to(AltAz(obstime = time, location = Wendelstein_loc)).alt.value for time in t]\n",
    "\n",
    "# now turn it into a numpy array\n",
    "target_Alt = np.array(target_Alt)\n",
    "\n",
    "# swap the axes so that the first axis is all the different targets and the second then includes the alt per observing time\n",
    "target_Alt_swapped = np.swapaxes(target_Alt, 0,1)\n",
    "\n",
    "# now create the selection for each target in the P_Gal catalog\n",
    "sel = []\n",
    "for target in target_Alt_swapped:\n",
    "    sel.append((target > 0).any())\n",
    "    \n",
    "# now apply the selection to the dataset\n",
    "data_sort_by_PGal_observable = data_sort_by_PGal[sel]"
   ]
  },
  {
   "cell_type": "code",
   "execution_count": 79,
   "metadata": {},
   "outputs": [
    {
     "name": "stdout",
     "output_type": "stream",
     "text": [
      "There were 0 non-observable objects in the current dataset. \n",
      "We have 10000 objects remaining\n"
     ]
    }
   ],
   "source": [
    "print(f\"There were {len(data_sort_by_PGal) - len(data_sort_by_PGal_observable)} non-observable objects in the current dataset. \\nWe have {len(data_sort_by_PGal_observable)} objects remaining\")"
   ]
  },
  {
   "cell_type": "markdown",
   "metadata": {
    "tags": []
   },
   "source": [
    "### Export the final list & print some data"
   ]
  },
  {
   "cell_type": "code",
   "execution_count": 80,
   "metadata": {},
   "outputs": [
    {
     "name": "stdout",
     "output_type": "stream",
     "text": [
      "These are the stats for S230627c follow up :\n"
     ]
    }
   ],
   "source": [
    "print(f\"These are the stats for {superevent_name} follow up :\")"
   ]
  },
  {
   "cell_type": "code",
   "execution_count": 81,
   "metadata": {},
   "outputs": [
    {
     "name": "stdout",
     "output_type": "stream",
     "text": [
      "Localization area: 262.2792641284897 deg2 \n",
      "Redshift range in data: 0.00525083921002088 to 0.106446077875062 \n",
      "corresponding lum distance range: 22.420592242657477 to 488.05901319367365 \n",
      "highest prob location is at RA = 160.56933483652762 deg and dec = 48.58109886316553 deg \n",
      "total No. of objects in desi data is 10000\n"
     ]
    }
   ],
   "source": [
    "data_min_z = np.min(data_sort_by_PGal_observable[\"Z\"])\n",
    "data_max_z = np.max(data_sort_by_PGal_observable[\"Z\"])\n",
    "print(f\"Localization area: {area_99.to_value(u.deg**2)*u.deg**2} \\nRedshift range in data: {data_min_z} to {data_max_z} \\ncorresponding lum distance range: {data_min_dist} to {data_max_dist} \\nhighest prob location is at RA = {ra.deg*u.deg} and dec = {dec.deg*u.deg} \\ntotal No. of objects in desi data is {len(data_sort_by_PGal)}\")\n"
   ]
  },
  {
   "cell_type": "code",
   "execution_count": 82,
   "metadata": {},
   "outputs": [
    {
     "ename": "OSError",
     "evalue": "File PGAL/PGAL_S230627c90.ecsv already exists. If you mean to replace it then use the argument \"overwrite=True\".",
     "output_type": "error",
     "traceback": [
      "\u001b[0;31m---------------------------------------------------------------------------\u001b[0m",
      "\u001b[0;31mOSError\u001b[0m                                   Traceback (most recent call last)",
      "Cell \u001b[0;32mIn[82], line 1\u001b[0m\n\u001b[0;32m----> 1\u001b[0m \u001b[43mdata_sort_by_PGal_observable\u001b[49m\u001b[43m[\u001b[49m\u001b[38;5;124;43m\"\u001b[39;49m\u001b[38;5;124;43mTARGET_RA\u001b[39;49m\u001b[38;5;124;43m\"\u001b[39;49m\u001b[43m,\u001b[49m\u001b[43m \u001b[49m\u001b[38;5;124;43m\"\u001b[39;49m\u001b[38;5;124;43mTARGET_DEC\u001b[39;49m\u001b[38;5;124;43m\"\u001b[39;49m\u001b[43m,\u001b[49m\u001b[43m \u001b[49m\u001b[38;5;124;43m\"\u001b[39;49m\u001b[38;5;124;43mSERSIC\u001b[39;49m\u001b[38;5;124;43m\"\u001b[39;49m\u001b[43m,\u001b[49m\u001b[43m \u001b[49m\u001b[38;5;124;43m\"\u001b[39;49m\u001b[38;5;124;43mZ\u001b[39;49m\u001b[38;5;124;43m\"\u001b[39;49m\u001b[43m,\u001b[49m\u001b[43m \u001b[49m\u001b[38;5;124;43m\"\u001b[39;49m\u001b[38;5;124;43mP_GAL\u001b[39;49m\u001b[38;5;124;43m\"\u001b[39;49m\u001b[43m]\u001b[49m\u001b[43m[\u001b[49m\u001b[43m:\u001b[49m\u001b[43mN_galaxies\u001b[49m\u001b[43m]\u001b[49m\u001b[38;5;241;43m.\u001b[39;49m\u001b[43mwrite\u001b[49m\u001b[43m(\u001b[49m\u001b[38;5;124;43mf\u001b[39;49m\u001b[38;5;124;43m'\u001b[39;49m\u001b[38;5;124;43mPGAL/PGAL_\u001b[39;49m\u001b[38;5;132;43;01m{\u001b[39;49;00m\u001b[43msuperevent_name\u001b[49m\u001b[38;5;132;43;01m}\u001b[39;49;00m\u001b[38;5;124;43m90.ecsv\u001b[39;49m\u001b[38;5;124;43m'\u001b[39;49m\u001b[43m,\u001b[49m\u001b[43m \u001b[49m\u001b[43mdelimiter\u001b[49m\u001b[38;5;241;43m=\u001b[39;49m\u001b[38;5;124;43m'\u001b[39;49m\u001b[38;5;124;43m,\u001b[39;49m\u001b[38;5;124;43m'\u001b[39;49m\u001b[43m,\u001b[49m\u001b[43m \u001b[49m\u001b[38;5;28;43mformat\u001b[39;49m\u001b[38;5;241;43m=\u001b[39;49m\u001b[38;5;124;43m'\u001b[39;49m\u001b[38;5;124;43mascii\u001b[39;49m\u001b[38;5;124;43m'\u001b[39;49m\u001b[43m,\u001b[49m\u001b[43m \u001b[49m\u001b[43moverwrite\u001b[49m\u001b[43m \u001b[49m\u001b[38;5;241;43m=\u001b[39;49m\u001b[43m \u001b[49m\u001b[38;5;28;43;01mFalse\u001b[39;49;00m\u001b[43m)\u001b[49m\n",
      "File \u001b[0;32m~/.conda/envs/MambaTest/lib/python3.10/site-packages/astropy/table/connect.py:130\u001b[0m, in \u001b[0;36mTableWrite.__call__\u001b[0;34m(self, serialize_method, *args, **kwargs)\u001b[0m\n\u001b[1;32m    128\u001b[0m instance \u001b[38;5;241m=\u001b[39m \u001b[38;5;28mself\u001b[39m\u001b[38;5;241m.\u001b[39m_instance\n\u001b[1;32m    129\u001b[0m \u001b[38;5;28;01mwith\u001b[39;00m serialize_method_as(instance, serialize_method):\n\u001b[0;32m--> 130\u001b[0m     \u001b[38;5;28;43mself\u001b[39;49m\u001b[38;5;241;43m.\u001b[39;49m\u001b[43mregistry\u001b[49m\u001b[38;5;241;43m.\u001b[39;49m\u001b[43mwrite\u001b[49m\u001b[43m(\u001b[49m\u001b[43minstance\u001b[49m\u001b[43m,\u001b[49m\u001b[43m \u001b[49m\u001b[38;5;241;43m*\u001b[39;49m\u001b[43margs\u001b[49m\u001b[43m,\u001b[49m\u001b[43m \u001b[49m\u001b[38;5;241;43m*\u001b[39;49m\u001b[38;5;241;43m*\u001b[39;49m\u001b[43mkwargs\u001b[49m\u001b[43m)\u001b[49m\n",
      "File \u001b[0;32m~/.conda/envs/MambaTest/lib/python3.10/site-packages/astropy/io/registry/core.py:385\u001b[0m, in \u001b[0;36mUnifiedOutputRegistry.write\u001b[0;34m(self, data, format, *args, **kwargs)\u001b[0m\n\u001b[1;32m    380\u001b[0m     \u001b[38;5;28mformat\u001b[39m \u001b[38;5;241m=\u001b[39m \u001b[38;5;28mself\u001b[39m\u001b[38;5;241m.\u001b[39m_get_valid_format(\n\u001b[1;32m    381\u001b[0m         \u001b[38;5;124m\"\u001b[39m\u001b[38;5;124mwrite\u001b[39m\u001b[38;5;124m\"\u001b[39m, data\u001b[38;5;241m.\u001b[39m\u001b[38;5;18m__class__\u001b[39m, path, fileobj, args, kwargs\n\u001b[1;32m    382\u001b[0m     )\n\u001b[1;32m    384\u001b[0m writer \u001b[38;5;241m=\u001b[39m \u001b[38;5;28mself\u001b[39m\u001b[38;5;241m.\u001b[39mget_writer(\u001b[38;5;28mformat\u001b[39m, data\u001b[38;5;241m.\u001b[39m\u001b[38;5;18m__class__\u001b[39m)\n\u001b[0;32m--> 385\u001b[0m \u001b[38;5;28;01mreturn\u001b[39;00m \u001b[43mwriter\u001b[49m\u001b[43m(\u001b[49m\u001b[43mdata\u001b[49m\u001b[43m,\u001b[49m\u001b[43m \u001b[49m\u001b[38;5;241;43m*\u001b[39;49m\u001b[43margs\u001b[49m\u001b[43m,\u001b[49m\u001b[43m \u001b[49m\u001b[38;5;241;43m*\u001b[39;49m\u001b[38;5;241;43m*\u001b[39;49m\u001b[43mkwargs\u001b[49m\u001b[43m)\u001b[49m\n",
      "File \u001b[0;32m~/.conda/envs/MambaTest/lib/python3.10/site-packages/astropy/io/ascii/connect.py:28\u001b[0m, in \u001b[0;36mio_write\u001b[0;34m(format, table, filename, **kwargs)\u001b[0m\n\u001b[1;32m     26\u001b[0m     \u001b[38;5;28mformat\u001b[39m \u001b[38;5;241m=\u001b[39m re\u001b[38;5;241m.\u001b[39msub(\u001b[38;5;124mr\u001b[39m\u001b[38;5;124m\"\u001b[39m\u001b[38;5;124m^ascii\u001b[39m\u001b[38;5;124m\\\u001b[39m\u001b[38;5;124m.\u001b[39m\u001b[38;5;124m\"\u001b[39m, \u001b[38;5;124m\"\u001b[39m\u001b[38;5;124m\"\u001b[39m, \u001b[38;5;28mformat\u001b[39m)\n\u001b[1;32m     27\u001b[0m     kwargs[\u001b[38;5;124m\"\u001b[39m\u001b[38;5;124mformat\u001b[39m\u001b[38;5;124m\"\u001b[39m] \u001b[38;5;241m=\u001b[39m \u001b[38;5;28mformat\u001b[39m\n\u001b[0;32m---> 28\u001b[0m \u001b[38;5;28;01mreturn\u001b[39;00m \u001b[43mwrite\u001b[49m\u001b[43m(\u001b[49m\u001b[43mtable\u001b[49m\u001b[43m,\u001b[49m\u001b[43m \u001b[49m\u001b[43mfilename\u001b[49m\u001b[43m,\u001b[49m\u001b[43m \u001b[49m\u001b[38;5;241;43m*\u001b[39;49m\u001b[38;5;241;43m*\u001b[39;49m\u001b[43mkwargs\u001b[49m\u001b[43m)\u001b[49m\n",
      "File \u001b[0;32m~/.conda/envs/MambaTest/lib/python3.10/site-packages/astropy/io/ascii/ui.py:940\u001b[0m, in \u001b[0;36mwrite\u001b[0;34m(table, output, format, Writer, fast_writer, overwrite, **kwargs)\u001b[0m\n\u001b[1;32m    938\u001b[0m     output \u001b[38;5;241m=\u001b[39m os\u001b[38;5;241m.\u001b[39mpath\u001b[38;5;241m.\u001b[39mexpanduser(output)\n\u001b[1;32m    939\u001b[0m     \u001b[38;5;28;01mif\u001b[39;00m \u001b[38;5;129;01mnot\u001b[39;00m overwrite \u001b[38;5;129;01mand\u001b[39;00m os\u001b[38;5;241m.\u001b[39mpath\u001b[38;5;241m.\u001b[39mlexists(output):\n\u001b[0;32m--> 940\u001b[0m         \u001b[38;5;28;01mraise\u001b[39;00m \u001b[38;5;167;01mOSError\u001b[39;00m(NOT_OVERWRITING_MSG\u001b[38;5;241m.\u001b[39mformat(output))\n\u001b[1;32m    942\u001b[0m \u001b[38;5;28;01mif\u001b[39;00m output \u001b[38;5;129;01mis\u001b[39;00m \u001b[38;5;28;01mNone\u001b[39;00m:\n\u001b[1;32m    943\u001b[0m     output \u001b[38;5;241m=\u001b[39m sys\u001b[38;5;241m.\u001b[39mstdout\n",
      "\u001b[0;31mOSError\u001b[0m: File PGAL/PGAL_S230627c90.ecsv already exists. If you mean to replace it then use the argument \"overwrite=True\"."
     ]
    }
   ],
   "source": [
    "data_sort_by_PGal_observable[\"TARGET_RA\", \"TARGET_DEC\", \"SERSIC\", \"Z\", \"P_GAL\"][:N_galaxies].write(f'PGAL/PGAL_{superevent_name}90.ecsv', delimiter=',', format='ascii', overwrite = False)\n"
   ]
  },
  {
   "cell_type": "code",
   "execution_count": null,
   "metadata": {},
   "outputs": [],
   "source": [
    "# add timing data to table, "
   ]
  },
  {
   "cell_type": "code",
   "execution_count": 83,
   "metadata": {},
   "outputs": [],
   "source": [
    "check_object = data_f[data_f[\"TARGETID\"] == 39633545861267796]"
   ]
  },
  {
   "cell_type": "code",
   "execution_count": 84,
   "metadata": {},
   "outputs": [
    {
     "data": {
      "text/html": [
       "<div><i>Table length=0</i>\n",
       "<table id=\"table140651160518608\" class=\"table-striped table-bordered table-condensed\">\n",
       "<thead><tr><th>TARGETID</th><th>TARGET_RA</th><th>TARGET_DEC</th><th>LASTNIGHT</th><th>Z</th><th>ZERR</th><th>ZWARN</th><th>FLUX_G</th><th>FLUX_R</th><th>FLUX_Z</th><th>SPECTYPE</th><th>BGS_TARGET</th><th>EBV</th><th>SERSIC</th><th>UNIQ</th><th>PROBDENSITY</th><th>DISTMU</th><th>DISTSIGMA</th><th>DISTNORM</th><th>DIST_Z_MEAN</th><th>DIST_Z_ERR</th><th>DIST_Z_COSMO_SIGMA</th><th>MW_TRANSMISSION</th><th>APP_MAG_R</th><th>ABS_MAG_R</th><th>LUM_R</th><th>P_GAL</th></tr></thead>\n",
       "<thead><tr><th></th><th></th><th></th><th></th><th></th><th></th><th></th><th></th><th></th><th></th><th></th><th></th><th></th><th></th><th></th><th></th><th>Mpc</th><th>Mpc</th><th>1 / Mpc2</th><th>Mpc</th><th>Mpc</th><th>Mpc</th><th></th><th></th><th></th><th>W</th><th></th></tr></thead>\n",
       "<thead><tr><th>int64</th><th>float64</th><th>float64</th><th>int64</th><th>float64</th><th>float64</th><th>int64</th><th>float64</th><th>float64</th><th>float64</th><th>bytes6</th><th>int64</th><th>float64</th><th>float64</th><th>int64</th><th>float64</th><th>float64</th><th>float64</th><th>float64</th><th>float64</th><th>float64</th><th>float64</th><th>float64</th><th>float64</th><th>float64</th><th>float64</th><th>float64</th></tr></thead>\n",
       "</table></div>"
      ],
      "text/plain": [
       "<Table length=0>\n",
       "TARGETID TARGET_RA TARGET_DEC LASTNIGHT ... APP_MAG_R ABS_MAG_R  LUM_R   P_GAL \n",
       "                                        ...                        W           \n",
       " int64    float64   float64     int64   ...  float64   float64  float64 float64\n",
       "-------- --------- ---------- --------- ... --------- --------- ------- -------"
      ]
     },
     "execution_count": 84,
     "metadata": {},
     "output_type": "execute_result"
    }
   ],
   "source": [
    "check_object"
   ]
  },
  {
   "cell_type": "code",
   "execution_count": null,
   "metadata": {},
   "outputs": [],
   "source": [
    "for q in range(20):\n",
    "    "
   ]
  }
 ],
 "metadata": {
  "kernelspec": {
   "display_name": "Python (MambaTest)",
   "language": "python",
   "name": "mambatest"
  },
  "language_info": {
   "codemirror_mode": {
    "name": "ipython",
    "version": 3
   },
   "file_extension": ".py",
   "mimetype": "text/x-python",
   "name": "python",
   "nbconvert_exporter": "python",
   "pygments_lexer": "ipython3",
   "version": "3.10.10"
  }
 },
 "nbformat": 4,
 "nbformat_minor": 4
}
