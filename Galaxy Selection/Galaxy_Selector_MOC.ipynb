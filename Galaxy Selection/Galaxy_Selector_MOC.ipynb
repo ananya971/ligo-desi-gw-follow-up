{
 "cells": [
  {
   "cell_type": "markdown",
   "metadata": {
    "tags": []
   },
   "source": [
    "# Galaxy Selector MOC\n",
    "\n",
    "**Designed to work with Multi-Ordering-Sky-Maps and both burst (i.e. no distance) and normal LVK maps**\n",
    "\n",
    "\n",
    "\n",
    "Select the galaxies to observe by WWFI in this simple manner:\n",
    "- get the LIGO event data\n",
    "- read the LIGO event data into the notebook, extract some information\n",
    "- read the DESI database into the notebook, \"clean\" the data\n",
    "- get the 99% credible regions for the event, add them as a column to the data\n",
    "- only keep data within the 99% region\n",
    "- calculate all the luminosities (& more)\n",
    "- rank them by luminosity (for now just print the TARGETID), 3D/2D localization and with a luminosity-distance 2D dependant counterpart likelihood\n",
    "\n",
    "(some) Sources: \n",
    "- https://iopscience.iop.org/article/10.3847/0067-0049/226/1/10\n",
    "- https://emfollow.docs.ligo.org/userguide/tutorial/skymaps.html\n",
    "- https://emfollow.docs.ligo.org/userguide/tutorial/multiorder_skymaps.html\n",
    "- https://arxiv.org/pdf/1710.05452.pdf"
   ]
  },
  {
   "cell_type": "markdown",
   "metadata": {
    "jp-MarkdownHeadingCollapsed": true,
    "tags": []
   },
   "source": [
    "## Import all libraries, load GW data and DESI data and extract basic info"
   ]
  },
  {
   "cell_type": "markdown",
   "metadata": {
    "jp-MarkdownHeadingCollapsed": true,
    "tags": []
   },
   "source": [
    "### imports, GW data loading"
   ]
  },
  {
   "cell_type": "code",
   "execution_count": 1,
   "metadata": {},
   "outputs": [],
   "source": [
    "import numpy as np\n",
    "from scipy.stats import norm\n",
    "import scipy as sc\n",
    "from scipy.integrate import quad\n",
    "\n",
    "\n",
    "from astropy.io import fits, ascii\n",
    "from astropy.table import Table, hstack\n",
    "from astropy import table\n",
    "\n",
    "import astropy_healpix as ah\n",
    "\n",
    "from astropy.table import QTable\n",
    "\n",
    "\n",
    "\n",
    "import psycopg2\n",
    "\n",
    "from scipy.stats import norm\n",
    "\n",
    "from astropy.cosmology import FlatLambdaCDM\n",
    "from astropy.cosmology import Planck18, z_at_value\n",
    "from astropy.coordinates import Distance, SkyCoord\n",
    "from astropy import units as u\n",
    "\n",
    "import astropy.constants as asc\n",
    "\n",
    "import matplotlib.pyplot as plt\n",
    "\n",
    "import requests as rq\n",
    "\n",
    "import gasel as gs"
   ]
  },
  {
   "cell_type": "code",
   "execution_count": 337,
   "metadata": {},
   "outputs": [
    {
     "name": "stdout",
     "output_type": "stream",
     "text": [
      "you should run scp dgruen@perlmutter.nersc.gov:/global/homes/j/jgassert/good_z_data_BGSBright.fits /project/ls-gruen/ligodesi/\n"
     ]
    }
   ],
   "source": [
    "# Get DESI data\n",
    "print(\"(to get DESI data) you should run scp dgruen@perlmutter.nersc.gov:/global/homes/j/jgassert/good_z_data_BGSBright.fits /project/ls-gruen/ligodesi/\")\n",
    "\n",
    "# specify the superevent name:\n",
    "superevent_name = \"S230609u\"\n",
    "\n",
    "# pipeline - bayestar is preferred if available, otherwise maybe use olib? bilby? cwb? whatever these mean\n",
    "pipeline_type = \"bayestar\"\n",
    "\n",
    "if pipeline_type == \"cwb\":\n",
    "    # bursts probably only for very nearby core-collapse or Andromeda events, maybe cut at 1Mpc or something of that order? -> check if there is a very nearby galaxy\n",
    "        # think about which pipeline detected it!\n",
    "    # or very massive bbh but then hope is that cbc would detect as well\n",
    "    \n",
    "    modeled_search = False\n",
    "else:\n",
    "    modeled_search = True\n",
    "\n",
    "# storage directory\n",
    "# storage = \"/project/ls-gruen/ligodesi/\"\n",
    "# storage_desi_data = storage\n",
    "storage = \"/global/homes/j/jgassert/ligo-desi-gw-follow-up/Galaxy Selection/Files/\" # Julius on NERSC\n",
    "storage_desi_data = \"/global/homes/j/jgassert/\""
   ]
  },
  {
   "cell_type": "code",
   "execution_count": 338,
   "metadata": {},
   "outputs": [
    {
     "name": "stdout",
     "output_type": "stream",
     "text": [
      "no local skymap...\n",
      "...will download LIGO event file from superevent S230609u, corresponding file URL is https://gracedb.ligo.org/api/superevents/S230609u/files/bayestar.multiorder.fits,1 and save it in .../Files/\n",
      "HTTP status 200\n"
     ]
    }
   ],
   "source": [
    "path = storage+f\"{superevent_name}{pipeline_type}.multiorder.fits,1\" # 5min after alert this should be there\n",
    "\n",
    "try:\n",
    "    skymap = QTable.read(path)\n",
    "    print(\"read skymap from local file\")\n",
    "    \n",
    "except:\n",
    "    download_url = f\"https://gracedb.ligo.org/api/superevents/{superevent_name}/files/{pipeline_type}.multiorder.fits,1\"\n",
    "    save_path = storage+f\"{superevent_name}{pipeline_type}.multiorder.fits,1\"\n",
    "    print(\"no local skymap...\")\n",
    "    print(f\"...will download LIGO event file from superevent {superevent_name}, corresponding file URL is {download_url} and save it in .../Files/\")\n",
    "    \n",
    "    response = rq.get(download_url, allow_redirects = True)\n",
    "    print(\"HTTP status\",response.status_code)\n",
    "    if response.status_code == 200:\n",
    "        with open(save_path, 'wb') as f:\n",
    "            f.write(response.content)\n",
    "            \n",
    "        skymap = QTable.read(path)"
   ]
  },
  {
   "cell_type": "markdown",
   "metadata": {},
   "source": [
    "Specifiy the path where the data is located and then load the data (this loads everything, just have a look)"
   ]
  },
  {
   "cell_type": "code",
   "execution_count": 339,
   "metadata": {},
   "outputs": [
    {
     "data": {
      "text/html": [
       "<div><i>QTable length=5</i>\n",
       "<table id=\"table140003316721856\" class=\"table-striped table-bordered table-condensed\">\n",
       "<thead><tr><th>UNIQ</th><th>PROBDENSITY</th><th>DISTMU</th><th>DISTSIGMA</th><th>DISTNORM</th></tr></thead>\n",
       "<thead><tr><th></th><th>1 / sr</th><th>Mpc</th><th>Mpc</th><th>1 / Mpc2</th></tr></thead>\n",
       "<thead><tr><th>int64</th><th>float64</th><th>float64</th><th>float64</th><th>float64</th></tr></thead>\n",
       "<tr><td>1024</td><td>1.2244322287211873e-09</td><td>inf</td><td>1.0</td><td>0.0</td></tr>\n",
       "<tr><td>1025</td><td>3.6186401822054184e-09</td><td>inf</td><td>1.0</td><td>0.0</td></tr>\n",
       "<tr><td>1026</td><td>1.6473597195454547e-09</td><td>inf</td><td>1.0</td><td>0.0</td></tr>\n",
       "<tr><td>1027</td><td>3.0758964347991933e-09</td><td>inf</td><td>1.0</td><td>0.0</td></tr>\n",
       "<tr><td>1028</td><td>8.740285819236264e-08</td><td>inf</td><td>1.0</td><td>0.0</td></tr>\n",
       "</table></div>"
      ],
      "text/plain": [
       "<QTable length=5>\n",
       " UNIQ      PROBDENSITY        DISTMU DISTSIGMA DISTNORM\n",
       "              1 / sr           Mpc      Mpc    1 / Mpc2\n",
       "int64        float64         float64  float64  float64 \n",
       "----- ---------------------- ------- --------- --------\n",
       " 1024 1.2244322287211873e-09     inf       1.0      0.0\n",
       " 1025 3.6186401822054184e-09     inf       1.0      0.0\n",
       " 1026 1.6473597195454547e-09     inf       1.0      0.0\n",
       " 1027 3.0758964347991933e-09     inf       1.0      0.0\n",
       " 1028  8.740285819236264e-08     inf       1.0      0.0"
      ]
     },
     "execution_count": 339,
     "metadata": {},
     "output_type": "execute_result"
    }
   ],
   "source": [
    "skymap[:5]"
   ]
  },
  {
   "cell_type": "markdown",
   "metadata": {
    "jp-MarkdownHeadingCollapsed": true,
    "tags": []
   },
   "source": [
    "### Get basic values from GW event\n",
    "\n",
    "We now extract some basic information  from the healpix data:\n",
    "- ipix_max: pixel with highest likelihood\n",
    "- npix: total number of pixels\n",
    "- ra, dec: ra and dec of the pixel with the highest likelihood\n",
    "\n",
    "Then we open the full fits file and extract some more basic info from the header:\n",
    "- dist_mean: mean distance of the GW event\n",
    "- dist_std: error of the distance"
   ]
  },
  {
   "cell_type": "code",
   "execution_count": 340,
   "metadata": {},
   "outputs": [
    {
     "name": "stdout",
     "output_type": "stream",
     "text": [
      "UNIQ ID of highest prob sky localization:  591799\n"
     ]
    }
   ],
   "source": [
    "# most probable sky location\n",
    "i = np.argmax(skymap[\"PROBDENSITY\"])\n",
    "uniq = skymap[i][\"UNIQ\"]\n",
    "print(\"UNIQ ID of highest prob sky localization: \", uniq)"
   ]
  },
  {
   "cell_type": "code",
   "execution_count": 341,
   "metadata": {},
   "outputs": [
    {
     "name": "stdout",
     "output_type": "stream",
     "text": [
      "Highest probability at (RA, dec):  94.5703125 -26.443334157130206 with prob [1/deg^2] of:  0.0022315359827684428 and UNIQ ID:  591799\n"
     ]
    }
   ],
   "source": [
    "# calculate the most probable pixel, convert to RA and dec\n",
    "level_max, ipix_max = ah.uniq_to_level_ipix(uniq)\n",
    "nside = ah.level_to_nside(level_max)\n",
    "ra, dec = ah.healpix_to_lonlat(ipix_max, nside, order = \"nested\")\n",
    "print(\"Highest probability at (RA, dec): \", ra.deg, dec.deg, \"with prob [1/deg^2] of: \", skymap[i]['PROBDENSITY'].to_value(u.deg**-2), \"and UNIQ ID: \", skymap[i][\"UNIQ\"])"
   ]
  },
  {
   "cell_type": "markdown",
   "metadata": {},
   "source": [
    "Now open the fits file and read basics info from the header"
   ]
  },
  {
   "cell_type": "code",
   "execution_count": 342,
   "metadata": {},
   "outputs": [
    {
     "name": "stdout",
     "output_type": "stream",
     "text": [
      "The dist_mean and dist_std values:  2798.778095695261 Mpc 842.0974799542527 Mpc\n",
      "This corresponds to the most likely z 0.48262211443495223 redshift and its error 0.16939643985202008 redshift\n"
     ]
    }
   ],
   "source": [
    "if modeled_search:\n",
    "    fits_gw = fits.open(path)\n",
    "    header = fits_gw[1].header\n",
    "    dist_mean = header[\"DISTMEAN\"]\n",
    "    dist_std = header[\"DISTSTD\"]\n",
    "    print(\"The dist_mean and dist_std values: \", dist_mean*u.Mpc, dist_std*u.Mpc)\n",
    "    most_likely_z = z_at_value(Planck18.luminosity_distance, dist_mean*u.Mpc, zmax = 5)\n",
    "    most_likely_z_std = z_at_value(Planck18.luminosity_distance, dist_std*u.Mpc, zmax = 5)\n",
    "    print(f\"This corresponds to the most likely z {most_likely_z} and its error {most_likely_z_std}\")\n",
    "else:\n",
    "    print(\"As this is an unmodeled search there is no distance available\")"
   ]
  },
  {
   "cell_type": "markdown",
   "metadata": {
    "jp-MarkdownHeadingCollapsed": true,
    "tags": []
   },
   "source": [
    "### Get DESI data\n",
    "\n",
    "Load the full daily data from the file, which only includes good redshift objects"
   ]
  },
  {
   "cell_type": "code",
   "execution_count": 429,
   "metadata": {},
   "outputs": [],
   "source": [
    "follow_up_others = False"
   ]
  },
  {
   "cell_type": "code",
   "execution_count": 430,
   "metadata": {},
   "outputs": [],
   "source": [
    "if follow_up_others:\n",
    "    center_ra = 235.9839\n",
    "    center_dec = 15.2248\n",
    "    radius = 1/360\n",
    "    z_others = 0\n",
    "    z_others_std = 0.4\n",
    "    \n",
    "    sigma_accuracy = 3\n",
    "    \n",
    "    data = gs.db_doall(center_ra, center_dec, radius)\n",
    "    \n",
    "    #ii = data[\"Z\"]-sigma_accuracy*data[\"ZERR\"]<z_others+sigma_accuracy*z_others_std\n",
    "    #ii &= data[\"Z\"]+sigma_accuracy*data[\"ZERR\"]>z_others-sigma_accuracy*z_others_std\n",
    "    \n",
    "    #data = data[ii]\n",
    "    \n",
    "    \n",
    "else:\n",
    "    data = Table.read(storage_desi_data+\"good_z_data.fits\")"
   ]
  },
  {
   "cell_type": "code",
   "execution_count": 431,
   "metadata": {},
   "outputs": [
    {
     "data": {
      "text/html": [
       "<div><i>Table length=5</i>\n",
       "<table id=\"table140023445108960\" class=\"table-striped table-bordered table-condensed\">\n",
       "<thead><tr><th>TARGETID</th><th>TARGET_RA</th><th>TARGET_DEC</th><th>LASTNIGHT</th><th>Z</th><th>ZERR</th><th>ZWARN</th><th>FLUX_G</th><th>FLUX_R</th><th>FLUX_Z</th><th>SPECTYPE</th><th>BGS_TARGET</th><th>EBV</th><th>SERSIC</th></tr></thead>\n",
       "<thead><tr><th>int64</th><th>float64</th><th>float64</th><th>int64</th><th>float64</th><th>float64</th><th>int64</th><th>float64</th><th>float64</th><th>float64</th><th>bytes6</th><th>int64</th><th>float64</th><th>float64</th></tr></thead>\n",
       "<tr><td>-407206628</td><td>289.160148698913</td><td>63.8756777034092</td><td>20210513</td><td>0.488143245600312</td><td>6.00460085329576e-05</td><td>0</td><td>0.0</td><td>0.0</td><td>0.0</td><td>GALAXY</td><td>0</td><td>0.0</td><td>0.0</td></tr>\n",
       "<tr><td>-407206517</td><td>289.24523373072</td><td>64.1182126208345</td><td>20210513</td><td>0.353953432359517</td><td>9.16563620937551e-05</td><td>0</td><td>0.0</td><td>0.0</td><td>0.0</td><td>GALAXY</td><td>0</td><td>0.0</td><td>0.0</td></tr>\n",
       "<tr><td>-407206395</td><td>288.991137990503</td><td>64.4269390406163</td><td>20210513</td><td>1.04167986703249</td><td>0.000103598417102832</td><td>0</td><td>0.0</td><td>0.0</td><td>0.0</td><td>GALAXY</td><td>0</td><td>0.0</td><td>0.0</td></tr>\n",
       "<tr><td>-407206306</td><td>288.328820102558</td><td>64.8171915439228</td><td>20210513</td><td>0.446085744563991</td><td>0.000103302897346752</td><td>0</td><td>0.0</td><td>0.0</td><td>0.0</td><td>GALAXY</td><td>0</td><td>0.0</td><td>0.0</td></tr>\n",
       "<tr><td>-407206302</td><td>288.170414727353</td><td>64.8761951861955</td><td>20210513</td><td>5.11210896599966</td><td>0.000690663180059733</td><td>0</td><td>0.0</td><td>0.0</td><td>0.0</td><td>QSO</td><td>0</td><td>0.0</td><td>0.0</td></tr>\n",
       "</table></div>"
      ],
      "text/plain": [
       "<Table length=5>\n",
       " TARGETID     TARGET_RA        TARGET_DEC    ... BGS_TARGET   EBV    SERSIC\n",
       "  int64        float64          float64      ...   int64    float64 float64\n",
       "---------- ---------------- ---------------- ... ---------- ------- -------\n",
       "-407206628 289.160148698913 63.8756777034092 ...          0     0.0     0.0\n",
       "-407206517  289.24523373072 64.1182126208345 ...          0     0.0     0.0\n",
       "-407206395 288.991137990503 64.4269390406163 ...          0     0.0     0.0\n",
       "-407206306 288.328820102558 64.8171915439228 ...          0     0.0     0.0\n",
       "-407206302 288.170414727353 64.8761951861955 ...          0     0.0     0.0"
      ]
     },
     "execution_count": 431,
     "metadata": {},
     "output_type": "execute_result"
    }
   ],
   "source": [
    "data[:5]"
   ]
  },
  {
   "cell_type": "markdown",
   "metadata": {
    "tags": []
   },
   "source": [
    "## Do all the calculations, selections,...\n",
    "\n",
    "- turn the daily DESI data into a Table\n",
    "- do some basic data selection stuff: only keep good + positive redshifts, only positive values of r-band flux and eliminate duplicates (right now simply takes the first entry)\n",
    "- add the ipix (healpix) pixel value for each target\n",
    "- calculate the probability for each target\n",
    "- add these values to the Table (\"PROB\"), select only targets within the 99% credible region (i.e. with a certainty of 99% the GW event is inside this region)\n",
    "- calculate the distances and its errors from the redshift, add to the data table\n",
    "- calculate the 3D probability just like here: https://iopscience.iop.org/article/10.3847/0067-0049/226/1/10 (§4) and add these values to the table\n",
    "- sort the table by its 3D probability (descending)\n",
    "- calculate absolute and apparent magnitude, luminosity and add to table\n",
    "\n",
    "The final step is to include the calculation of the most likely host galaxy from https://arxiv.org/pdf/1710.05452.pdf (GW170817); these values are then also added to the table as \"P_GAL\""
   ]
  },
  {
   "cell_type": "code",
   "execution_count": 432,
   "metadata": {},
   "outputs": [
    {
     "data": {
      "text/html": [
       "<div><i>Table length=5</i>\n",
       "<table id=\"table140023445098112\" class=\"table-striped table-bordered table-condensed\">\n",
       "<thead><tr><th>TARGETID</th><th>TARGET_RA</th><th>TARGET_DEC</th><th>LASTNIGHT</th><th>Z</th><th>ZERR</th><th>ZWARN</th><th>FLUX_G</th><th>FLUX_R</th><th>FLUX_Z</th><th>SPECTYPE</th><th>BGS_TARGET</th><th>EBV</th><th>SERSIC</th></tr></thead>\n",
       "<thead><tr><th>int64</th><th>float64</th><th>float64</th><th>int64</th><th>float64</th><th>float64</th><th>int64</th><th>float64</th><th>float64</th><th>float64</th><th>bytes6</th><th>int64</th><th>float64</th><th>float64</th></tr></thead>\n",
       "<tr><td>-407206628</td><td>289.160148698913</td><td>63.8756777034092</td><td>20210513</td><td>0.488143245600312</td><td>6.00460085329576e-05</td><td>0</td><td>0.0</td><td>0.0</td><td>0.0</td><td>GALAXY</td><td>0</td><td>0.0</td><td>0.0</td></tr>\n",
       "<tr><td>-407206517</td><td>289.24523373072</td><td>64.1182126208345</td><td>20210513</td><td>0.353953432359517</td><td>9.16563620937551e-05</td><td>0</td><td>0.0</td><td>0.0</td><td>0.0</td><td>GALAXY</td><td>0</td><td>0.0</td><td>0.0</td></tr>\n",
       "<tr><td>-407206395</td><td>288.991137990503</td><td>64.4269390406163</td><td>20210513</td><td>1.04167986703249</td><td>0.000103598417102832</td><td>0</td><td>0.0</td><td>0.0</td><td>0.0</td><td>GALAXY</td><td>0</td><td>0.0</td><td>0.0</td></tr>\n",
       "<tr><td>-407206306</td><td>288.328820102558</td><td>64.8171915439228</td><td>20210513</td><td>0.446085744563991</td><td>0.000103302897346752</td><td>0</td><td>0.0</td><td>0.0</td><td>0.0</td><td>GALAXY</td><td>0</td><td>0.0</td><td>0.0</td></tr>\n",
       "<tr><td>-407206302</td><td>288.170414727353</td><td>64.8761951861955</td><td>20210513</td><td>5.11210896599966</td><td>0.000690663180059733</td><td>0</td><td>0.0</td><td>0.0</td><td>0.0</td><td>QSO</td><td>0</td><td>0.0</td><td>0.0</td></tr>\n",
       "</table></div>"
      ],
      "text/plain": [
       "<Table length=5>\n",
       " TARGETID     TARGET_RA        TARGET_DEC    ... BGS_TARGET   EBV    SERSIC\n",
       "  int64        float64          float64      ...   int64    float64 float64\n",
       "---------- ---------------- ---------------- ... ---------- ------- -------\n",
       "-407206628 289.160148698913 63.8756777034092 ...          0     0.0     0.0\n",
       "-407206517  289.24523373072 64.1182126208345 ...          0     0.0     0.0\n",
       "-407206395 288.991137990503 64.4269390406163 ...          0     0.0     0.0\n",
       "-407206306 288.328820102558 64.8171915439228 ...          0     0.0     0.0\n",
       "-407206302 288.170414727353 64.8761951861955 ...          0     0.0     0.0"
      ]
     },
     "execution_count": 432,
     "metadata": {},
     "output_type": "execute_result"
    }
   ],
   "source": [
    "data[:5]"
   ]
  },
  {
   "cell_type": "markdown",
   "metadata": {
    "jp-MarkdownHeadingCollapsed": true,
    "tags": []
   },
   "source": [
    "### data clean up"
   ]
  },
  {
   "cell_type": "code",
   "execution_count": 433,
   "metadata": {},
   "outputs": [],
   "source": [
    "#data = data[data[\"Z\"]> 0]\n",
    "#data = data[data[\"ZWARN\"] == 0]"
   ]
  },
  {
   "cell_type": "code",
   "execution_count": 434,
   "metadata": {},
   "outputs": [],
   "source": [
    "#data = data[data['FLUX_Z']>0]\n",
    "data = table.unique(data, keys = \"TARGETID\")"
   ]
  },
  {
   "cell_type": "code",
   "execution_count": 435,
   "metadata": {},
   "outputs": [],
   "source": [
    "data = data[data[\"TARGETID\"]>0]"
   ]
  },
  {
   "cell_type": "code",
   "execution_count": 436,
   "metadata": {},
   "outputs": [
    {
     "name": "stdout",
     "output_type": "stream",
     "text": [
      "We have 27880744 objects in the full catalog\n"
     ]
    }
   ],
   "source": [
    "print(f\"We have {len(data)} objects in the full catalog\") "
   ]
  },
  {
   "cell_type": "markdown",
   "metadata": {},
   "source": [
    "We should also get rid of stars, since they wont be the host of a GW event"
   ]
  },
  {
   "cell_type": "code",
   "execution_count": 437,
   "metadata": {},
   "outputs": [],
   "source": [
    "data = data[data[\"SPECTYPE\"] != \"STAR\"]"
   ]
  },
  {
   "cell_type": "markdown",
   "metadata": {
    "jp-MarkdownHeadingCollapsed": true,
    "tags": []
   },
   "source": [
    "### Calculate the healpix id for every object in the catalog and its probability; append this data to the Table"
   ]
  },
  {
   "cell_type": "code",
   "execution_count": 438,
   "metadata": {},
   "outputs": [],
   "source": [
    "max_level = 29 # highest possible HEALPix resolution that can be represented in a 64-bit signed integer\n",
    "max_nside = ah.level_to_nside(max_level)\n",
    "level, ipix = ah.uniq_to_level_ipix(skymap[\"UNIQ\"])\n",
    "\n",
    "index = ipix*(2**(max_level-level))**2\n",
    "\n",
    "sorter = np.argsort(index)\n",
    "\n",
    "# this is the NESTED pixel index of the target sky location, NOT THE UNIQ ID\n",
    "match_ipix = ah.lonlat_to_healpix(data[\"TARGET_RA\"]*u.deg, data[\"TARGET_DEC\"]*u.deg, max_nside, order='nested')\n",
    "\n",
    "# here we get the pixel index (i.e. where the entry is in the table, also NOT THE UNIQ ID) of each target\n",
    "sorter_i = sorter[np.searchsorted(index, match_ipix, side='right', sorter=sorter) - 1]\n",
    "probdensity = skymap[sorter_i]['PROBDENSITY'].to_value(u.deg**-2)\n",
    "\n",
    "# now we calculate the UNIQ ID for all our targets:\n",
    "\n",
    "uniq = skymap[\"UNIQ\"][sorter_i]\n",
    "#to make things easier in future, I will now also append the UNIQ pixels DISTMU, DISTSIGMA and DISTNORM values. However, be careful, since these DO NOT CORRESPOND THE TARGETS IN DESI DIRECTLY!\n",
    "\n",
    "if modeled_search:\n",
    "    distmu = skymap[sorter_i][\"DISTMU\"]\n",
    "    distsigma = skymap[sorter_i][\"DISTSIGMA\"]\n",
    "    distnorm = skymap[sorter_i][\"DISTNORM\"]\n"
   ]
  },
  {
   "cell_type": "code",
   "execution_count": 439,
   "metadata": {},
   "outputs": [],
   "source": [
    "# len(UNIQ), len(data), len(skymap)"
   ]
  },
  {
   "cell_type": "code",
   "execution_count": 440,
   "metadata": {},
   "outputs": [],
   "source": [
    "#data = data.keep_columns([\"TARGETID\", \"TARGET_RA\", \"TARGET_DEC\", \"TILEID\", \"NIGHT\", \"Z\", \"ZERR\", \"ZWARN\", \"DELTACHI2\", \"FLUX_Z\", \"BGS_TARGET\", \"EBV\", \"SERSIC\", \"MWS_TARGET\", \"FILENAME\"])\n",
    "                          "
   ]
  },
  {
   "cell_type": "code",
   "execution_count": 441,
   "metadata": {},
   "outputs": [],
   "source": [
    "if modeled_search:\n",
    "    data = hstack([data, Table({\"UNIQ\": uniq}), Table({\"PROBDENSITY\": probdensity}), Table({\"DISTMU\": distmu}), Table({\"DISTSIGMA\": distsigma}), Table({\"DISTNORM\": distnorm})])\n",
    "else: \n",
    "    data = hstack([data, Table({\"UNIQ\": uniq}), Table({\"PROBDENSITY\": probdensity})])\n",
    "    print(f\"The table will not contain any distance info since there is none available\")"
   ]
  },
  {
   "cell_type": "code",
   "execution_count": 442,
   "metadata": {},
   "outputs": [
    {
     "data": {
      "text/html": [
       "<div><i>Table length=5</i>\n",
       "<table id=\"table140023642266240\" class=\"table-striped table-bordered table-condensed\">\n",
       "<thead><tr><th>TARGETID</th><th>TARGET_RA</th><th>TARGET_DEC</th><th>LASTNIGHT</th><th>Z</th><th>ZERR</th><th>ZWARN</th><th>FLUX_G</th><th>FLUX_R</th><th>FLUX_Z</th><th>SPECTYPE</th><th>BGS_TARGET</th><th>EBV</th><th>SERSIC</th><th>UNIQ</th><th>PROBDENSITY</th><th>DISTMU</th><th>DISTSIGMA</th><th>DISTNORM</th></tr></thead>\n",
       "<thead><tr><th></th><th></th><th></th><th></th><th></th><th></th><th></th><th></th><th></th><th></th><th></th><th></th><th></th><th></th><th></th><th></th><th>Mpc</th><th>Mpc</th><th>1 / Mpc2</th></tr></thead>\n",
       "<thead><tr><th>int64</th><th>float64</th><th>float64</th><th>int64</th><th>float64</th><th>float64</th><th>int64</th><th>float64</th><th>float64</th><th>float64</th><th>bytes6</th><th>int64</th><th>float64</th><th>float64</th><th>int64</th><th>float64</th><th>float64</th><th>float64</th><th>float64</th></tr></thead>\n",
       "<tr><td>6448025174016</td><td>179.15657</td><td>28.4234799</td><td>20210318</td><td>0.0221933367215889</td><td>9.68081653157043e-06</td><td>0</td><td>0.0</td><td>0.0</td><td>0.0</td><td>GALAXY</td><td>0</td><td>0.0</td><td>0.0</td><td>2803</td><td>3.048194174452861e-14</td><td>2954.3221516121816</td><td>1809.2459608283675</td><td>8.369212343064796e-08</td></tr>\n",
       "<tr><td>6521555517440</td><td>204.22749</td><td>32.09493</td><td>20210404</td><td>0.3238872170838</td><td>2.72909868562699e-05</td><td>0</td><td>0.0</td><td>0.0</td><td>0.0</td><td>GALAXY</td><td>0</td><td>0.0</td><td>0.0</td><td>1676</td><td>2.2923452966039407e-12</td><td>-1125.9343624438945</td><td>2850.8124601195805</td><td>4.830243160208085e-07</td></tr>\n",
       "<tr><td>6536638234624</td><td>186.274119</td><td>32.84503</td><td>20210402</td><td>0.0764062738003505</td><td>1.47657330826664e-05</td><td>0</td><td>0.0</td><td>0.0</td><td>0.0</td><td>GALAXY</td><td>0</td><td>0.0</td><td>0.0</td><td>2807</td><td>2.0782752875347166e-14</td><td>4118.812017239321</td><td>1562.6655174688085</td><td>5.153393470040171e-08</td></tr>\n",
       "<tr><td>45803351579259</td><td>198.2176891</td><td>18.3113961</td><td>20210316</td><td>1.49911242224797</td><td>3.38509589473939e-05</td><td>0</td><td>0.0</td><td>0.0</td><td>0.0</td><td>GALAXY</td><td>0</td><td>0.0</td><td>0.0</td><td>2773</td><td>1.9980899316906909e-10</td><td>inf</td><td>1.0</td><td>0.0</td></tr>\n",
       "<tr><td>46523089944591</td><td>258.5210502</td><td>56.1317935</td><td>20210409</td><td>1.62639091480193</td><td>0.000120044446065552</td><td>0</td><td>0.0</td><td>0.0</td><td>0.0</td><td>GALAXY</td><td>0</td><td>0.0</td><td>0.0</td><td>6641</td><td>1.9620568525875646e-08</td><td>3165.9826341019275</td><td>1274.667359546746</td><td>8.586516872843094e-08</td></tr>\n",
       "</table></div>"
      ],
      "text/plain": [
       "<Table length=5>\n",
       "   TARGETID     TARGET_RA  ...     DISTSIGMA             DISTNORM      \n",
       "                           ...        Mpc                1 / Mpc2      \n",
       "    int64        float64   ...      float64              float64       \n",
       "-------------- ----------- ... ------------------ ---------------------\n",
       " 6448025174016   179.15657 ... 1809.2459608283675 8.369212343064796e-08\n",
       " 6521555517440   204.22749 ... 2850.8124601195805 4.830243160208085e-07\n",
       " 6536638234624  186.274119 ... 1562.6655174688085 5.153393470040171e-08\n",
       "45803351579259 198.2176891 ...                1.0                   0.0\n",
       "46523089944591 258.5210502 ...  1274.667359546746 8.586516872843094e-08"
      ]
     },
     "execution_count": 442,
     "metadata": {},
     "output_type": "execute_result"
    }
   ],
   "source": [
    "data[:5]"
   ]
  },
  {
   "cell_type": "code",
   "execution_count": 443,
   "metadata": {},
   "outputs": [
    {
     "name": "stdout",
     "output_type": "stream",
     "text": [
      "The highest and lowest probability values in our catalog are: 0.0019891805592143867 and 1.2077099785747572e-14\n"
     ]
    }
   ],
   "source": [
    "print(f\"The highest and lowest probability values in our catalog are: {np.max(probdensity)} and {np.min(probdensity)}\")"
   ]
  },
  {
   "cell_type": "markdown",
   "metadata": {
    "jp-MarkdownHeadingCollapsed": true,
    "tags": []
   },
   "source": [
    "### Sort the skymap table and get 99% credible region"
   ]
  },
  {
   "cell_type": "code",
   "execution_count": 444,
   "metadata": {},
   "outputs": [],
   "source": [
    "# copy the table\n",
    "skymap_sort = Table(skymap, copy = True)"
   ]
  },
  {
   "cell_type": "code",
   "execution_count": 445,
   "metadata": {},
   "outputs": [],
   "source": [
    "# check whether copy worked:\n",
    "# skymap_sort, skymap\n",
    "# np.max(skymap[\"UNIQ\"])"
   ]
  },
  {
   "cell_type": "code",
   "execution_count": 446,
   "metadata": {},
   "outputs": [],
   "source": [
    "# now sort the skymap by its probability (descending)\n",
    "skymap_sort.sort('PROBDENSITY', reverse=True)"
   ]
  },
  {
   "cell_type": "code",
   "execution_count": 447,
   "metadata": {},
   "outputs": [
    {
     "data": {
      "text/html": [
       "<div><i>Table length=5</i>\n",
       "<table id=\"table140023642267776\" class=\"table-striped table-bordered table-condensed\">\n",
       "<thead><tr><th>UNIQ</th><th>PROBDENSITY</th><th>DISTMU</th><th>DISTSIGMA</th><th>DISTNORM</th></tr></thead>\n",
       "<thead><tr><th></th><th>1 / sr</th><th>Mpc</th><th>Mpc</th><th>1 / Mpc2</th></tr></thead>\n",
       "<thead><tr><th>int64</th><th>float64</th><th>float64</th><th>float64</th><th>float64</th></tr></thead>\n",
       "<tr><td>591799</td><td>7.32570049451194</td><td>2585.854049788445</td><td>868.376535587565</td><td>1.343986259209612e-07</td></tr>\n",
       "<tr><td>591720</td><td>7.322245127712063</td><td>2581.3237238018223</td><td>866.8585064360851</td><td>1.348706847183906e-07</td></tr>\n",
       "<tr><td>591714</td><td>7.321790677355392</td><td>2580.432592049214</td><td>866.5527920745982</td><td>1.3496405731183445e-07</td></tr>\n",
       "<tr><td>591722</td><td>7.321074055888819</td><td>2582.188045927099</td><td>867.1542885907996</td><td>1.347802368851216e-07</td></tr>\n",
       "<tr><td>591805</td><td>7.321022361944126</td><td>2586.4989247911353</td><td>868.5961126779994</td><td>1.3433152238027153e-07</td></tr>\n",
       "</table></div>"
      ],
      "text/plain": [
       "<Table length=5>\n",
       " UNIQ     PROBDENSITY    ...     DISTSIGMA            DISTNORM       \n",
       "             1 / sr      ...        Mpc               1 / Mpc2       \n",
       "int64       float64      ...      float64             float64        \n",
       "------ ----------------- ... ----------------- ----------------------\n",
       "591799  7.32570049451194 ...  868.376535587565  1.343986259209612e-07\n",
       "591720 7.322245127712063 ... 866.8585064360851  1.348706847183906e-07\n",
       "591714 7.321790677355392 ... 866.5527920745982 1.3496405731183445e-07\n",
       "591722 7.321074055888819 ... 867.1542885907996  1.347802368851216e-07\n",
       "591805 7.321022361944126 ... 868.5961126779994 1.3433152238027153e-07"
      ]
     },
     "execution_count": 447,
     "metadata": {},
     "output_type": "execute_result"
    }
   ],
   "source": [
    "# this shows the first entries sorted be their probability\n",
    "skymap_sort[:5]"
   ]
  },
  {
   "cell_type": "code",
   "execution_count": 448,
   "metadata": {},
   "outputs": [
    {
     "name": "stdout",
     "output_type": "stream",
     "text": [
      "The 99% search area is 4236.754321025971°large\n"
     ]
    }
   ],
   "source": [
    "# now get 99% credible region area\n",
    "\n",
    "level, ipix = ah.uniq_to_level_ipix(skymap_sort['UNIQ'])\n",
    "pixel_area = ah.nside_to_pixel_area(ah.level_to_nside(level)) # this is the area each pixel contains\n",
    "\n",
    "# calculate the probability per pixel (careful: since the pixels differ in size, this is not neceseraliy a useful quantity\n",
    "prob = pixel_area * skymap_sort['PROBDENSITY']\n",
    "\n",
    "# calc cumsum of probabilities and get index of pixel that sums up to 0.99\n",
    "cumprob = np.cumsum(prob)\n",
    "i = cumprob.searchsorted(0.99)\n",
    "\n",
    "# print area\n",
    "area_99 = pixel_area[:i].sum()\n",
    "area_99_deg = area_99.to_value(u.deg**2)\n",
    "print(f\"The 99% search area is {area_99_deg}°large\")"
   ]
  },
  {
   "cell_type": "markdown",
   "metadata": {
    "jp-MarkdownHeadingCollapsed": true,
    "tags": []
   },
   "source": [
    "### can be deleted, just tried things out"
   ]
  },
  {
   "cell_type": "code",
   "execution_count": 449,
   "metadata": {},
   "outputs": [],
   "source": [
    "skymap_sort = hstack([skymap_sort, Table({\"PROB\": prob})])"
   ]
  },
  {
   "cell_type": "code",
   "execution_count": 450,
   "metadata": {},
   "outputs": [
    {
     "data": {
      "text/latex": [
       "$0.00013461622 \\; \\mathrm{}$"
      ],
      "text/plain": [
       "<Quantity 0.00013462>"
      ]
     },
     "execution_count": 450,
     "metadata": {},
     "output_type": "execute_result"
    }
   ],
   "source": [
    "np.max(prob)"
   ]
  },
  {
   "cell_type": "code",
   "execution_count": 451,
   "metadata": {},
   "outputs": [
    {
     "data": {
      "text/html": [
       "<div><i>Table length=5</i>\n",
       "<table id=\"table140023642273296\" class=\"table-striped table-bordered table-condensed\">\n",
       "<thead><tr><th>UNIQ</th><th>PROBDENSITY</th><th>DISTMU</th><th>DISTSIGMA</th><th>DISTNORM</th><th>PROB</th></tr></thead>\n",
       "<thead><tr><th></th><th>1 / sr</th><th>Mpc</th><th>Mpc</th><th>1 / Mpc2</th><th></th></tr></thead>\n",
       "<thead><tr><th>int64</th><th>float64</th><th>float64</th><th>float64</th><th>float64</th><th>float64</th></tr></thead>\n",
       "<tr><td>591799</td><td>7.32570049451194</td><td>2585.854049788445</td><td>868.376535587565</td><td>1.343986259209612e-07</td><td>0.00011705712308735059</td></tr>\n",
       "<tr><td>591720</td><td>7.322245127712063</td><td>2581.3237238018223</td><td>866.8585064360851</td><td>1.348706847183906e-07</td><td>0.00011700190989687028</td></tr>\n",
       "<tr><td>591714</td><td>7.321790677355392</td><td>2580.432592049214</td><td>866.5527920745982</td><td>1.3496405731183445e-07</td><td>0.00011699464824982673</td></tr>\n",
       "<tr><td>591722</td><td>7.321074055888819</td><td>2582.188045927099</td><td>867.1542885907996</td><td>1.347802368851216e-07</td><td>0.00011698319737939018</td></tr>\n",
       "<tr><td>591805</td><td>7.321022361944126</td><td>2586.4989247911353</td><td>868.5961126779994</td><td>1.3433152238027153e-07</td><td>0.00011698237136357758</td></tr>\n",
       "</table></div>"
      ],
      "text/plain": [
       "<Table length=5>\n",
       " UNIQ     PROBDENSITY    ...        DISTNORM                 PROB         \n",
       "             1 / sr      ...        1 / Mpc2                              \n",
       "int64       float64      ...        float64                float64        \n",
       "------ ----------------- ... ---------------------- ----------------------\n",
       "591799  7.32570049451194 ...  1.343986259209612e-07 0.00011705712308735059\n",
       "591720 7.322245127712063 ...  1.348706847183906e-07 0.00011700190989687028\n",
       "591714 7.321790677355392 ... 1.3496405731183445e-07 0.00011699464824982673\n",
       "591722 7.321074055888819 ...  1.347802368851216e-07 0.00011698319737939018\n",
       "591805 7.321022361944126 ... 1.3433152238027153e-07 0.00011698237136357758"
      ]
     },
     "execution_count": 451,
     "metadata": {},
     "output_type": "execute_result"
    }
   ],
   "source": [
    "skymap_sort[:5]"
   ]
  },
  {
   "cell_type": "code",
   "execution_count": 452,
   "metadata": {},
   "outputs": [],
   "source": [
    "skymap_prob = Table(skymap_sort, copy = True)"
   ]
  },
  {
   "cell_type": "code",
   "execution_count": 453,
   "metadata": {},
   "outputs": [],
   "source": [
    "skymap_prob.sort(\"PROB\", reverse = True)"
   ]
  },
  {
   "cell_type": "code",
   "execution_count": 454,
   "metadata": {},
   "outputs": [
    {
     "data": {
      "text/html": [
       "<div><i>Table length=5</i>\n",
       "<table id=\"table140023642265664\" class=\"table-striped table-bordered table-condensed\">\n",
       "<thead><tr><th>UNIQ</th><th>PROBDENSITY</th><th>DISTMU</th><th>DISTSIGMA</th><th>DISTNORM</th><th>PROB</th></tr></thead>\n",
       "<thead><tr><th></th><th>1 / sr</th><th>Mpc</th><th>Mpc</th><th>1 / Mpc2</th><th></th></tr></thead>\n",
       "<thead><tr><th>int64</th><th>float64</th><th>float64</th><th>float64</th><th>float64</th><th>float64</th></tr></thead>\n",
       "<tr><td>4309</td><td>0.13163420015961974</td><td>929.4620081637144</td><td>280.59356116928063</td><td>1.060864309106485e-06</td><td>0.00013461622271569978</td></tr>\n",
       "<tr><td>222700</td><td>2.105982273445538</td><td>2257.961348233943</td><td>714.0780602846145</td><td>1.7830902379381402e-07</td><td>0.00013460568112888248</td></tr>\n",
       "<tr><td>9955</td><td>0.1315128565622241</td><td>1939.199393454237</td><td>624.993170502434</td><td>2.4090249925048983e-07</td><td>0.0001344921302176079</td></tr>\n",
       "<tr><td>37263</td><td>0.5260195386008715</td><td>2606.2763503262495</td><td>902.541810358333</td><td>1.3145775050999627e-07</td><td>0.00013448397771103436</td></tr>\n",
       "<tr><td>16758</td><td>0.5260169818588811</td><td>1293.4932069371093</td><td>459.3029379151513</td><td>5.307857131437124e-07</td><td>0.0001344833240455189</td></tr>\n",
       "</table></div>"
      ],
      "text/plain": [
       "<Table length=5>\n",
       " UNIQ      PROBDENSITY     ...        DISTNORM                 PROB         \n",
       "              1 / sr       ...        1 / Mpc2                              \n",
       "int64        float64       ...        float64                float64        \n",
       "------ ------------------- ... ---------------------- ----------------------\n",
       "  4309 0.13163420015961974 ...  1.060864309106485e-06 0.00013461622271569978\n",
       "222700   2.105982273445538 ... 1.7830902379381402e-07 0.00013460568112888248\n",
       "  9955  0.1315128565622241 ... 2.4090249925048983e-07  0.0001344921302176079\n",
       " 37263  0.5260195386008715 ... 1.3145775050999627e-07 0.00013448397771103436\n",
       " 16758  0.5260169818588811 ...  5.307857131437124e-07  0.0001344833240455189"
      ]
     },
     "execution_count": 454,
     "metadata": {},
     "output_type": "execute_result"
    }
   ],
   "source": [
    "skymap_prob[:5]"
   ]
  },
  {
   "cell_type": "markdown",
   "metadata": {
    "jp-MarkdownHeadingCollapsed": true,
    "tags": []
   },
   "source": [
    "### Compare Tables, only leave 99% credible region in DESI data table\n",
    "\n",
    "Now we can get a Table that only contains the 99% credible region. From there we only leave the matching objects in the DESI data"
   ]
  },
  {
   "cell_type": "code",
   "execution_count": 455,
   "metadata": {},
   "outputs": [],
   "source": [
    "# we simply select only the entries that are within the 99% credible region\n",
    "skymap_99 = skymap_sort[:i]"
   ]
  },
  {
   "cell_type": "code",
   "execution_count": 456,
   "metadata": {},
   "outputs": [
    {
     "name": "stdout",
     "output_type": "stream",
     "text": [
      "This is the number of UNIQ ID of objects which should lie within the 99% credible region (NOT THE NUMBER OF OBJECTS, as there can be multiple objects per UNIQ ID): 2904\n"
     ]
    }
   ],
   "source": [
    "print(\"This is the number of UNIQ ID of objects which should lie within the 99% credible region (NOT THE NUMBER OF OBJECTS, as there can be multiple objects per UNIQ ID):\", len(np.intersect1d(skymap_99[\"UNIQ\"], data[\"UNIQ\"])))"
   ]
  },
  {
   "cell_type": "code",
   "execution_count": 457,
   "metadata": {},
   "outputs": [],
   "source": [
    "mask = np.in1d(data[\"UNIQ\"], skymap_99[\"UNIQ\"])\n",
    "data_99 = data[mask]"
   ]
  },
  {
   "cell_type": "code",
   "execution_count": 458,
   "metadata": {},
   "outputs": [
    {
     "name": "stdout",
     "output_type": "stream",
     "text": [
      "We now have 2329917 objects in the 99% credible region\n",
      "Check if the region from where the galaxies have been selected makes any sense (RA; DEC):  17.00491913272 285.588539333929 -21.9997270654372 81.5410802135118\n",
      "We can also check whether we have at least one galaxy in the UNIQ pixel with the highest probability from LIGO...\n",
      "This is False\n"
     ]
    }
   ],
   "source": [
    "print(f\"We now have {len(data_99)} objects in the 99% credible region\")\n",
    "print(\"Check if the region from where the galaxies have been selected makes any sense (RA; DEC): \", np.min(data_99[\"TARGET_RA\"]), np.max(data_99[\"TARGET_RA\"]), np.min(data_99[\"TARGET_DEC\"]), np.max(data_99[\"TARGET_DEC\"]))\n",
    "\n",
    "max_probdens_in_desi = np.max(data_99[\"PROBDENSITY\"])\n",
    "max_probdens_in_ligo = np.max(skymap[\"PROBDENSITY\"]).to_value(u.deg**-2)\n",
    "print(f\"We can also check whether we have at least one galaxy in the UNIQ pixel with the highest probability from LIGO...\")\n",
    "print(f\"This is {np.allclose(max_probdens_in_desi, max_probdens_in_ligo)}\")"
   ]
  },
  {
   "cell_type": "code",
   "execution_count": 459,
   "metadata": {},
   "outputs": [],
   "source": [
    "data_99.sort('PROBDENSITY', reverse=True)"
   ]
  },
  {
   "cell_type": "code",
   "execution_count": 460,
   "metadata": {},
   "outputs": [
    {
     "data": {
      "text/html": [
       "<div><i>Table length=2</i>\n",
       "<table id=\"table140015525242544\" class=\"table-striped table-bordered table-condensed\">\n",
       "<thead><tr><th>TARGETID</th><th>TARGET_RA</th><th>TARGET_DEC</th><th>LASTNIGHT</th><th>Z</th><th>ZERR</th><th>ZWARN</th><th>FLUX_G</th><th>FLUX_R</th><th>FLUX_Z</th><th>SPECTYPE</th><th>BGS_TARGET</th><th>EBV</th><th>SERSIC</th><th>UNIQ</th><th>PROBDENSITY</th><th>DISTMU</th><th>DISTSIGMA</th><th>DISTNORM</th></tr></thead>\n",
       "<thead><tr><th></th><th></th><th></th><th></th><th></th><th></th><th></th><th></th><th></th><th></th><th></th><th></th><th></th><th></th><th></th><th></th><th>Mpc</th><th>Mpc</th><th>1 / Mpc2</th></tr></thead>\n",
       "<thead><tr><th>int64</th><th>float64</th><th>float64</th><th>int64</th><th>float64</th><th>float64</th><th>int64</th><th>float64</th><th>float64</th><th>float64</th><th>bytes6</th><th>int64</th><th>float64</th><th>float64</th><th>int64</th><th>float64</th><th>float64</th><th>float64</th><th>float64</th></tr></thead>\n",
       "<tr><td>39627329441367512</td><td>87.0214831261028</td><td>-19.3159172815501</td><td>20210107</td><td>0.405551670647463</td><td>3.44483765499101e-05</td><td>0</td><td>1.73643779754639</td><td>6.23603582382202</td><td>13.1384925842285</td><td>GALAXY</td><td>0</td><td>0.0637876316905022</td><td>1.0</td><td>599488</td><td>0.0019891805592143867</td><td>2562.9822109730985</td><td>861.3009065740661</td><td>1.367885805870855e-07</td></tr>\n",
       "<tr><td>39627318037056833</td><td>87.0551075993945</td><td>-19.6428138784943</td><td>20210107</td><td>0.268409679624286</td><td>1.51862890830181e-05</td><td>0</td><td>3.05206036567688</td><td>7.90451812744141</td><td>15.2817258834839</td><td>GALAXY</td><td>0</td><td>0.0581257492303848</td><td>1.0</td><td>599359</td><td>0.00197831813706484</td><td>2567.62032815077</td><td>862.9638209307491</td><td>1.3629150317579056e-07</td></tr>\n",
       "</table></div>"
      ],
      "text/plain": [
       "<Table length=2>\n",
       "     TARGETID        TARGET_RA     ...     DISTSIGMA            DISTNORM       \n",
       "                                   ...        Mpc               1 / Mpc2       \n",
       "      int64           float64      ...      float64             float64        \n",
       "----------------- ---------------- ... ----------------- ----------------------\n",
       "39627329441367512 87.0214831261028 ... 861.3009065740661  1.367885805870855e-07\n",
       "39627318037056833 87.0551075993945 ... 862.9638209307491 1.3629150317579056e-07"
      ]
     },
     "execution_count": 460,
     "metadata": {},
     "output_type": "execute_result"
    }
   ],
   "source": [
    "data_99[:2]"
   ]
  },
  {
   "cell_type": "code",
   "execution_count": 461,
   "metadata": {},
   "outputs": [
    {
     "name": "stdout",
     "output_type": "stream",
     "text": [
      "We have now performed all the necessary steps to get the localization selection in 2D, i.e. the angle on the sky\n",
      "However, we have not used the distance data at all. Therefore our redshifts range from 5.31004411037158e-09 to 6.68597850286256\n"
     ]
    }
   ],
   "source": [
    "if modeled_search:\n",
    "    print(\"We have now performed all the necessary steps to get the localization selection in 2D, i.e. the angle on the sky\")\n",
    "    min_z = np.min(data_99[\"Z\"])\n",
    "    max_z = np.max(data_99[\"Z\"])\n",
    "    print(f\"However, we have not used the distance data at all. Therefore our redshifts range from {min_z} to {max_z}\")\n",
    "else:\n",
    "    print(f\"Usually we would be performing steps to cut out objects that don't meet the z-range/distance from LIGO, since there is no distance, we - at least for now include everything!\")"
   ]
  },
  {
   "cell_type": "markdown",
   "metadata": {
    "jp-MarkdownHeadingCollapsed": true,
    "tags": []
   },
   "source": [
    "### Calculate all the distances of the objects from the redshifts\n",
    "\n",
    "We want to be conservative in estimating the distance from redshifts, therefore we will include different cosmologies.\n",
    "\n",
    "Our cosmologies include:\n",
    "- H0 = 68.20 ± 0.81 km s−1Mpc−1, from eBOSS https://arxiv.org/pdf/2007.08991.pdf\n",
    "- DES Y3 https://arxiv.org/abs/2105.13549\n",
    "- SH0ES https://pantheonplussh0es.github.io/\n",
    "\n",
    "Now we calculate the arithmetic mean of our distances and its standard deviation:\n",
    "$$distances_{mean} = \\frac{dist(z_{cosmo_{max}})+dist(z_{cosmo_{min}})}{2}$$\n",
    "and accordingly the standard deviation (n=2):\n",
    "$$\\sigma = \\sqrt{\\frac{1}{n-1}\\sum\\left(dist_i-distances_{mean}\\right)^2}$$\n"
   ]
  },
  {
   "cell_type": "code",
   "execution_count": 462,
   "metadata": {},
   "outputs": [],
   "source": [
    "#distances = Distance(z=data_99[\"Z\"], cosmology=Planck18)\n",
    "#distances_err = Distance(z=data_99[\"ZERR\"], cosmology=Planck18)"
   ]
  },
  {
   "cell_type": "code",
   "execution_count": 463,
   "metadata": {},
   "outputs": [],
   "source": [
    "if modeled_search:\n",
    "    # first define the cosmological maximum and minimum parameters\n",
    "    omega_M_max = 0.339+0.032 #(from DES)\n",
    "    omega_M_min = 0.299-2*0.016 #from eBOSS\n",
    "\n",
    "    H_0_max = 73.04+2*1.04 #from SH0ES\n",
    "    H_0_min = 67.4-2*0.5 #from Planck\n",
    "    \n",
    "    # then calculate min and max luminosity distance from the redshifts\n",
    "    cosmo_min_dist = FlatLambdaCDM(H0=H_0_max, Om0=omega_M_max)\n",
    "    cosmo_max_dist = FlatLambdaCDM(H0=H_0_min, Om0=omega_M_min)\n",
    "\n",
    "    dists_max = Distance(z=data_99[\"Z\"], cosmology=cosmo_max_dist)\n",
    "    dists_min = Distance(z=data_99[\"Z\"], cosmology=cosmo_min_dist)\n",
    "    \n",
    "    # and of course also calculate the maximum and minimum error from the redshfit uncertainty\n",
    "    dists_err_min = Distance(z=data_99[\"ZERR\"], cosmology=cosmo_max_dist)\n",
    "    dists_err_max = Distance(z=data_99[\"ZERR\"], cosmology=cosmo_min_dist)\n",
    "    \n",
    "    # now we get the mean distance and its error\n",
    "    dists_mean = (dists_max+dists_min)/2\n",
    "    dists_err_mean = (dists_err_max+dists_err_min)/2  # this is our sigma for the redshift error\n",
    "    \n",
    "    # calculate the stdev of the distance depending on the cosmology\n",
    "    dists_mean_stddev = np.sqrt((dists_max-dists_mean)**2+(dists_min-dists_mean)**2)\n",
    "    \n",
    "    # now stack all the data\n",
    "    data_99 = hstack([data_99, Table({\"DIST_Z_MEAN\": dists_mean}), Table({\"DIST_Z_ERR\": dists_err_mean}), Table({\"DIST_Z_COSMO_SIGMA\": dists_mean_stddev})])"
   ]
  },
  {
   "cell_type": "code",
   "execution_count": 464,
   "metadata": {},
   "outputs": [],
   "source": [
    "# dists_mean[:5], dists_mean_stddev[:5], dists_mean_stddev[:5]/dists_mean[:5], np.mean(dists_mean_stddev/dists_mean), np.max(dists_mean_stddev/dists_mean), np.min(dists_mean_stddev/dists_mean)\n"
   ]
  },
  {
   "cell_type": "code",
   "execution_count": 465,
   "metadata": {},
   "outputs": [
    {
     "data": {
      "text/html": [
       "<div><i>Table length=5</i>\n",
       "<table id=\"table140015525232752\" class=\"table-striped table-bordered table-condensed\">\n",
       "<thead><tr><th>TARGETID</th><th>TARGET_RA</th><th>TARGET_DEC</th><th>LASTNIGHT</th><th>Z</th><th>ZERR</th><th>ZWARN</th><th>FLUX_G</th><th>FLUX_R</th><th>FLUX_Z</th><th>SPECTYPE</th><th>BGS_TARGET</th><th>EBV</th><th>SERSIC</th><th>UNIQ</th><th>PROBDENSITY</th><th>DISTMU</th><th>DISTSIGMA</th><th>DISTNORM</th><th>DIST_Z_MEAN</th><th>DIST_Z_ERR</th><th>DIST_Z_COSMO_SIGMA</th></tr></thead>\n",
       "<thead><tr><th></th><th></th><th></th><th></th><th></th><th></th><th></th><th></th><th></th><th></th><th></th><th></th><th></th><th></th><th></th><th></th><th>Mpc</th><th>Mpc</th><th>1 / Mpc2</th><th>Mpc</th><th>Mpc</th><th>Mpc</th></tr></thead>\n",
       "<thead><tr><th>int64</th><th>float64</th><th>float64</th><th>int64</th><th>float64</th><th>float64</th><th>int64</th><th>float64</th><th>float64</th><th>float64</th><th>bytes6</th><th>int64</th><th>float64</th><th>float64</th><th>int64</th><th>float64</th><th>float64</th><th>float64</th><th>float64</th><th>float64</th><th>float64</th><th>float64</th></tr></thead>\n",
       "<tr><td>39627329441367512</td><td>87.0214831261028</td><td>-19.3159172815501</td><td>20210107</td><td>0.405551670647463</td><td>3.44483765499101e-05</td><td>0</td><td>1.73643779754639</td><td>6.23603582382202</td><td>13.1384925842285</td><td>GALAXY</td><td>0</td><td>0.0637876316905022</td><td>1.0</td><td>599488</td><td>0.0019891805592143867</td><td>2562.9822109730985</td><td>861.3009065740661</td><td>1.367885805870855e-07</td><td>2183.492406350188</td><td>0.14650925004373436</td><td>235.56300720926782</td></tr>\n",
       "<tr><td>39627318037056833</td><td>87.0551075993945</td><td>-19.6428138784943</td><td>20210107</td><td>0.268409679624286</td><td>1.51862890830181e-05</td><td>0</td><td>3.05206036567688</td><td>7.90451812744141</td><td>15.2817258834839</td><td>GALAXY</td><td>0</td><td>0.0581257492303848</td><td>1.0</td><td>599359</td><td>0.00197831813706484</td><td>2567.62032815077</td><td>862.9638209307491</td><td>1.3629150317579056e-07</td><td>1353.0555272199908</td><td>0.06458647235400179</td><td>137.11573399046333</td></tr>\n",
       "<tr><td>616088070340477851</td><td>87.1183808319715</td><td>-19.680166475756</td><td>20210206</td><td>0.508388753086125</td><td>6.23261576343437e-05</td><td>0</td><td>0.0</td><td>0.0</td><td>0.0</td><td>GALAXY</td><td>0</td><td>0.0</td><td>0.0</td><td>599359</td><td>0.00197831813706484</td><td>2567.62032815077</td><td>862.9638209307491</td><td>1.3629150317579056e-07</td><td>2856.015230051721</td><td>0.26507933858103094</td><td>320.9869191686455</td></tr>\n",
       "<tr><td>39627318037057219</td><td>87.066255739702</td><td>-19.6587108421125</td><td>20210206</td><td>1.45256609927591</td><td>3.05799472908312e-05</td><td>0</td><td>0.453402727842331</td><td>0.579267501831055</td><td>0.872416198253632</td><td>GALAXY</td><td>0</td><td>0.0574152544140816</td><td>1.0</td><td>599359</td><td>0.00197831813706484</td><td>2567.62032815077</td><td>862.9638209307491</td><td>1.3629150317579056e-07</td><td>10320.524636492057</td><td>0.1300564022740129</td><td>1438.2573981007924</td></tr>\n",
       "<tr><td>616088076036342006</td><td>87.0852247595879</td><td>-19.576043033542</td><td>20210107</td><td>1.48880514438833</td><td>7.76971202034664e-05</td><td>0</td><td>0.0</td><td>0.0</td><td>0.0</td><td>GALAXY</td><td>0</td><td>0.0</td><td>0.0</td><td>599359</td><td>0.00197831813706484</td><td>2567.62032815077</td><td>862.9638209307491</td><td>1.3629150317579056e-07</td><td>10638.485010885372</td><td>0.33045744498575413</td><td>1489.472940889187</td></tr>\n",
       "</table></div>"
      ],
      "text/plain": [
       "<Table length=5>\n",
       "     TARGETID         TARGET_RA     ...      DIST_Z_ERR     DIST_Z_COSMO_SIGMA\n",
       "                                    ...         Mpc                Mpc        \n",
       "      int64            float64      ...       float64            float64      \n",
       "------------------ ---------------- ... ------------------- ------------------\n",
       " 39627329441367512 87.0214831261028 ... 0.14650925004373436 235.56300720926782\n",
       " 39627318037056833 87.0551075993945 ... 0.06458647235400179 137.11573399046333\n",
       "616088070340477851 87.1183808319715 ... 0.26507933858103094  320.9869191686455\n",
       " 39627318037057219  87.066255739702 ...  0.1300564022740129 1438.2573981007924\n",
       "616088076036342006 87.0852247595879 ... 0.33045744498575413  1489.472940889187"
      ]
     },
     "execution_count": 465,
     "metadata": {},
     "output_type": "execute_result"
    }
   ],
   "source": [
    "data_99[:5]"
   ]
  },
  {
   "cell_type": "markdown",
   "metadata": {
    "jp-MarkdownHeadingCollapsed": true,
    "tags": []
   },
   "source": [
    "### Lets check how much the distance measurement changes in the 99% credible region of LIGO and compare to our DESI data\n",
    "\n",
    "We should see a lot more data in DESI (since we haven't done any redshift selection and there can be multiple objects per GW-pixel). Be carfeul, we are comparing actual object counts with the number of pixels.\n",
    "\n",
    "\n",
    "We still see, that most of the GW localization is roughly between 780Mpc and 950Mpc. DESI definitely has a most of its data in this range as well."
   ]
  },
  {
   "cell_type": "code",
   "execution_count": 466,
   "metadata": {},
   "outputs": [
    {
     "name": "stdout",
     "output_type": "stream",
     "text": [
      "Our LIGO distances range from 593.0855608959163 Mpc to 2868.558092298574 Mpc\n",
      "Let's visualize the distance distribution of the LIGO event in the 99% credible region\n"
     ]
    },
    {
     "data": {
      "image/png": "[encoded data removed]",
      "text/plain": [
       "<Figure size 1500x800 with 2 Axes>"
      ]
     },
     "metadata": {},
     "output_type": "display_data"
    }
   ],
   "source": [
    "if modeled_search:\n",
    "    plt_skymap = skymap_99[skymap_99[\"DISTMU\"]<np.inf]\n",
    "\n",
    "    dist_max_99 = np.max(plt_skymap[\"DISTMU\"])*u.Mpc\n",
    "    dist_min_99 = np.min(plt_skymap[\"DISTMU\"])*u.Mpc\n",
    "    print(f\"Our LIGO distances range from {dist_min_99} to {dist_max_99}\")\n",
    "    print(\"Let's visualize the distance distribution of the LIGO event in the 99% credible region\")\n",
    "\n",
    "    fig, ax = plt.subplots(ncols = 2, figsize = (15,8))\n",
    "\n",
    "\n",
    "    ax[0].hist(data_99[\"DIST_Z_MEAN\"], bins = \"auto\", color = \"orange\", label = \"DESI data\")\n",
    "    ax[1].hist(plt_skymap[\"DISTMU\"], bins = \"auto\", color = \"blue\", label = \"LIGO data\")\n",
    "\n",
    "\n",
    "    for axis in ax:\n",
    "        axis.set_xlabel(\"distance bin (Mpc)\")\n",
    "        axis.set_xlim(dist_min_99/u.Mpc, dist_max_99/u.Mpc)\n",
    "        axis.legend()\n",
    "\n",
    "    ax[0].set_ylabel(\"object count\")\n",
    "    ax[1].set_ylabel(\"pixel count\")\n",
    "\n",
    "    plt.show()"
   ]
  },
  {
   "cell_type": "code",
   "execution_count": 467,
   "metadata": {},
   "outputs": [
    {
     "data": {
      "text/plain": [
       "(15086, 2329917)"
      ]
     },
     "execution_count": 467,
     "metadata": {},
     "output_type": "execute_result"
    }
   ],
   "source": [
    "len(skymap_99), len(data_99)"
   ]
  },
  {
   "cell_type": "markdown",
   "metadata": {
    "jp-MarkdownHeadingCollapsed": true,
    "tags": []
   },
   "source": [
    "### To reduce our data even more, lets cut out the unreasonably far away objects\n",
    "\n",
    "We simply take maximum and minimum distance we get from the LIGO skymap (i.e. DISTMU+-DISTERR) and check, whether every galaxy in that pixel falls inside this range.\n",
    "\n",
    "*Note: We do this only for our own GW-follow ups*"
   ]
  },
  {
   "cell_type": "code",
   "execution_count": 468,
   "metadata": {},
   "outputs": [
    {
     "name": "stdout",
     "output_type": "stream",
     "text": [
      "The z-range selection has deleted 1733480 objects from originally 2329917 in the data set\n",
      "Therefore, we have 596437 objects left in the search region\n",
      "Our highest remaing probability density is 0.0019891805592143867 compared to the originally highest prob density of 0.0022315359827684428\n",
      "The difference in prob density is 0.00024235542355405607\n"
     ]
    }
   ],
   "source": [
    "if follow_up_others == False and modeled_search == True:\n",
    "    z_selection_mask = data_99[\"DIST_Z_MEAN\"] - 2*data_99[\"DIST_Z_ERR\"] - 2*data_99[\"DIST_Z_COSMO_SIGMA\"] <  data_99[\"DISTMU\"] + 2*data_99[\"DISTSIGMA\"]\n",
    "    z_selection_mask &= data_99[\"DIST_Z_MEAN\"] + 2*data_99[\"DIST_Z_ERR\"] + 2*data_99[\"DIST_Z_COSMO_SIGMA\"] >  data_99[\"DISTMU\"] - 2*data_99[\"DISTSIGMA\"]\n",
    "\n",
    "    data_99_z = data_99[z_selection_mask]\n",
    "\n",
    "    remaining_obj = np.size(np.where(z_selection_mask == True))\n",
    "    deleted_obj = np.size(np.where(z_selection_mask == False))\n",
    "\n",
    "    print(f\"The z-range selection has deleted {deleted_obj} objects from originally {deleted_obj+remaining_obj} in the data set\")\n",
    "    print(f\"Therefore, we have {remaining_obj} objects left in the search region\")\n",
    "\n",
    "    highest_prob_dens = np.max(data_99_z[\"PROBDENSITY\"])\n",
    "    print(f\"Our highest remaing probability density is {highest_prob_dens} compared to the originally highest prob density of {max_probdens_in_ligo}\")\n",
    "    print(f\"The difference in prob density is {max_probdens_in_ligo-highest_prob_dens}\")\n",
    "\n",
    "    \n",
    "else:\n",
    "    data_99_z = data_99\n",
    "    remaining_obj = len(data_99_z)"
   ]
  },
  {
   "cell_type": "code",
   "execution_count": 469,
   "metadata": {},
   "outputs": [
    {
     "data": {
      "text/html": [
       "<div><i>Table length=5</i>\n",
       "<table id=\"table140015524663296\" class=\"table-striped table-bordered table-condensed\">\n",
       "<thead><tr><th>TARGETID</th><th>TARGET_RA</th><th>TARGET_DEC</th><th>LASTNIGHT</th><th>Z</th><th>ZERR</th><th>ZWARN</th><th>FLUX_G</th><th>FLUX_R</th><th>FLUX_Z</th><th>SPECTYPE</th><th>BGS_TARGET</th><th>EBV</th><th>SERSIC</th><th>UNIQ</th><th>PROBDENSITY</th><th>DISTMU</th><th>DISTSIGMA</th><th>DISTNORM</th><th>DIST_Z_MEAN</th><th>DIST_Z_ERR</th><th>DIST_Z_COSMO_SIGMA</th></tr></thead>\n",
       "<thead><tr><th></th><th></th><th></th><th></th><th></th><th></th><th></th><th></th><th></th><th></th><th></th><th></th><th></th><th></th><th></th><th></th><th>Mpc</th><th>Mpc</th><th>1 / Mpc2</th><th>Mpc</th><th>Mpc</th><th>Mpc</th></tr></thead>\n",
       "<thead><tr><th>int64</th><th>float64</th><th>float64</th><th>int64</th><th>float64</th><th>float64</th><th>int64</th><th>float64</th><th>float64</th><th>float64</th><th>bytes6</th><th>int64</th><th>float64</th><th>float64</th><th>int64</th><th>float64</th><th>float64</th><th>float64</th><th>float64</th><th>float64</th><th>float64</th><th>float64</th></tr></thead>\n",
       "<tr><td>39627329441367512</td><td>87.0214831261028</td><td>-19.3159172815501</td><td>20210107</td><td>0.405551670647463</td><td>3.44483765499101e-05</td><td>0</td><td>1.73643779754639</td><td>6.23603582382202</td><td>13.1384925842285</td><td>GALAXY</td><td>0</td><td>0.0637876316905022</td><td>1.0</td><td>599488</td><td>0.0019891805592143867</td><td>2562.9822109730985</td><td>861.3009065740661</td><td>1.367885805870855e-07</td><td>2183.492406350188</td><td>0.14650925004373436</td><td>235.56300720926782</td></tr>\n",
       "<tr><td>616088070340477851</td><td>87.1183808319715</td><td>-19.680166475756</td><td>20210206</td><td>0.508388753086125</td><td>6.23261576343437e-05</td><td>0</td><td>0.0</td><td>0.0</td><td>0.0</td><td>GALAXY</td><td>0</td><td>0.0</td><td>0.0</td><td>599359</td><td>0.00197831813706484</td><td>2567.62032815077</td><td>862.9638209307491</td><td>1.3629150317579056e-07</td><td>2856.015230051721</td><td>0.26507933858103094</td><td>320.9869191686455</td></tr>\n",
       "<tr><td>39627329437177493</td><td>86.9323141087831</td><td>-19.1704331266067</td><td>20210107</td><td>0.356280695109085</td><td>1.24449339129845e-05</td><td>0</td><td>3.78639912605286</td><td>10.0700845718384</td><td>19.1833915710449</td><td>GALAXY</td><td>0</td><td>0.0658317059278488</td><td>1.0</td><td>599490</td><td>0.00197613698587998</td><td>2562.07303121524</td><td>861.0789197986969</td><td>1.3688298780261502e-07</td><td>1875.8393618928155</td><td>0.052927525231635686</td><td>198.08904858563852</td></tr>\n",
       "<tr><td>39627329441367651</td><td>87.0258454971578</td><td>-19.283549087624</td><td>20210107</td><td>0.403222031933717</td><td>2.14880628477579e-05</td><td>0</td><td>2.50455784797668</td><td>8.54479694366455</td><td>18.5866603851318</td><td>GALAXY</td><td>0</td><td>0.0637028589844704</td><td>0.665353775024414</td><td>599490</td><td>0.00197613698587998</td><td>2562.07303121524</td><td>861.0789197986969</td><td>1.3688298780261502e-07</td><td>2168.723975306241</td><td>0.09138801742114039</td><td>233.73947343007</td></tr>\n",
       "<tr><td>39627329441366288</td><td>86.9714440576614</td><td>-19.2272898194948</td><td>20210107</td><td>0.372820207766997</td><td>4.60867072100309e-05</td><td>0</td><td>2.09091639518738</td><td>6.80626535415649</td><td>13.8271465301514</td><td>GALAXY</td><td>0</td><td>0.0646747946739197</td><td>0.677806317806244</td><td>599490</td><td>0.00197613698587998</td><td>2562.07303121524</td><td>861.0789197986969</td><td>1.3688298780261502e-07</td><td>1978.0010649916294</td><td>0.19600891405307036</td><td>210.410878632549</td></tr>\n",
       "</table></div>"
      ],
      "text/plain": [
       "<Table length=5>\n",
       "     TARGETID         TARGET_RA     ...      DIST_Z_ERR      DIST_Z_COSMO_SIGMA\n",
       "                                    ...         Mpc                 Mpc        \n",
       "      int64            float64      ...       float64             float64      \n",
       "------------------ ---------------- ... -------------------- ------------------\n",
       " 39627329441367512 87.0214831261028 ...  0.14650925004373436 235.56300720926782\n",
       "616088070340477851 87.1183808319715 ...  0.26507933858103094  320.9869191686455\n",
       " 39627329437177493 86.9323141087831 ... 0.052927525231635686 198.08904858563852\n",
       " 39627329441367651 87.0258454971578 ...  0.09138801742114039    233.73947343007\n",
       " 39627329441366288 86.9714440576614 ...  0.19600891405307036   210.410878632549"
      ]
     },
     "execution_count": 469,
     "metadata": {},
     "output_type": "execute_result"
    }
   ],
   "source": [
    "data_99_z[:5]"
   ]
  },
  {
   "cell_type": "markdown",
   "metadata": {
    "tags": []
   },
   "source": [
    "### get the apparent, absolute magnitudes and luminosities\n",
    "\n",
    "in order to do this: flux > 0 selection  and gal ext correction"
   ]
  },
  {
   "cell_type": "code",
   "execution_count": 470,
   "metadata": {},
   "outputs": [
    {
     "name": "stdout",
     "output_type": "stream",
     "text": [
      "had to cut out -14347 objects due to bad fluxes\n"
     ]
    }
   ],
   "source": [
    "# get the apparent mags\n",
    "orig_len = len(data_99_z)\n",
    "data_99_z = data_99_z[data_99_z[\"FLUX_R\"] > 0] # flux selection (only ones above 0)\n",
    "print(f\"had to cut out {len(data_99_z)-orig_len} objects due to bad fluxes\")\n",
    "data_99_z[\"MW_TRANSMISSION\"] = gs.mw_transmission_from_data_table(data = data_99_z, band = \"r\")\n",
    "#data_99_z[\"FLUX_R\"] = data_99_z[\"FLUX_R\"]/data_99_z[\"MW_TRANSMISSION\"]\n",
    "\n",
    "app_mag_r = gs.app_mag(data_99_z[\"FLUX_R\"], mw_transmission = data_99_z[\"MW_TRANSMISSION\"])\n",
    "flux_selection_cut = len(data_99_z)\n",
    "\n",
    "# get the absolute mags\n",
    "abs_mag_r = gs.abs_mag(app_mag_r, data_99_z[\"Z\"], 0,0,0)\n",
    "\n",
    "# get the luminosities\n",
    "lums_r = gs.lum(abs_mag_r, band = \"r\")"
   ]
  },
  {
   "cell_type": "code",
   "execution_count": 471,
   "metadata": {},
   "outputs": [],
   "source": [
    "data_f = hstack([data_99_z, Table({\"APP_MAG_R\": app_mag_r}), Table({\"ABS_MAG_R\": abs_mag_r}), Table({\"LUM_R\": lums_r})])"
   ]
  },
  {
   "cell_type": "code",
   "execution_count": 472,
   "metadata": {},
   "outputs": [
    {
     "data": {
      "text/html": [
       "<div><i>Table length=5</i>\n",
       "<table id=\"table140015525243024\" class=\"table-striped table-bordered table-condensed\">\n",
       "<thead><tr><th>TARGETID</th><th>TARGET_RA</th><th>TARGET_DEC</th><th>LASTNIGHT</th><th>Z</th><th>ZERR</th><th>ZWARN</th><th>FLUX_G</th><th>FLUX_R</th><th>FLUX_Z</th><th>SPECTYPE</th><th>BGS_TARGET</th><th>EBV</th><th>SERSIC</th><th>UNIQ</th><th>PROBDENSITY</th><th>DISTMU</th><th>DISTSIGMA</th><th>DISTNORM</th><th>DIST_Z_MEAN</th><th>DIST_Z_ERR</th><th>DIST_Z_COSMO_SIGMA</th><th>MW_TRANSMISSION</th><th>APP_MAG_R</th><th>ABS_MAG_R</th><th>LUM_R</th></tr></thead>\n",
       "<thead><tr><th></th><th></th><th></th><th></th><th></th><th></th><th></th><th></th><th></th><th></th><th></th><th></th><th></th><th></th><th></th><th></th><th>Mpc</th><th>Mpc</th><th>1 / Mpc2</th><th>Mpc</th><th>Mpc</th><th>Mpc</th><th></th><th></th><th></th><th>W</th></tr></thead>\n",
       "<thead><tr><th>int64</th><th>float64</th><th>float64</th><th>int64</th><th>float64</th><th>float64</th><th>int64</th><th>float64</th><th>float64</th><th>float64</th><th>bytes6</th><th>int64</th><th>float64</th><th>float64</th><th>int64</th><th>float64</th><th>float64</th><th>float64</th><th>float64</th><th>float64</th><th>float64</th><th>float64</th><th>float64</th><th>float64</th><th>float64</th><th>float64</th></tr></thead>\n",
       "<tr><td>39627329441367512</td><td>87.0214831261028</td><td>-19.3159172815501</td><td>20210107</td><td>0.405551670647463</td><td>3.44483765499101e-05</td><td>0</td><td>1.73643779754639</td><td>6.23603582382202</td><td>13.1384925842285</td><td>GALAXY</td><td>0</td><td>0.0637876316905022</td><td>1.0</td><td>599488</td><td>0.0019891805592143867</td><td>2562.9822109730985</td><td>861.3009065740661</td><td>1.367885805870855e-07</td><td>2183.492406350188</td><td>0.14650925004373436</td><td>235.56300720926782</td><td>0.8806136764160551</td><td>20.374692061541026</td><td>-21.411984082695106</td><td>1.9798276978731544e+36</td></tr>\n",
       "<tr><td>39627329437177493</td><td>86.9323141087831</td><td>-19.1704331266067</td><td>20210107</td><td>0.356280695109085</td><td>1.24449339129845e-05</td><td>0</td><td>3.78639912605286</td><td>10.0700845718384</td><td>19.1833915710449</td><td>GALAXY</td><td>0</td><td>0.0658317059278488</td><td>1.0</td><td>599490</td><td>0.00197613698587998</td><td>2562.07303121524</td><td>861.0789197986969</td><td>1.3688298780261502e-07</td><td>1875.8393618928155</td><td>0.052927525231635686</td><td>198.08904858563852</td><td>0.8770332838058498</td><td>19.849957393584784</td><td>-21.60682153415652</td><td>2.3689853572179725e+36</td></tr>\n",
       "<tr><td>39627329441367651</td><td>87.0258454971578</td><td>-19.283549087624</td><td>20210107</td><td>0.403222031933717</td><td>2.14880628477579e-05</td><td>0</td><td>2.50455784797668</td><td>8.54479694366455</td><td>18.5866603851318</td><td>GALAXY</td><td>0</td><td>0.0637028589844704</td><td>0.665353775024414</td><td>599490</td><td>0.00197613698587998</td><td>2562.07303121524</td><td>861.0789197986969</td><td>1.3688298780261502e-07</td><td>2168.723975306241</td><td>0.09138801742114039</td><td>233.73947343007</td><td>0.8807624792146085</td><td>20.032892646362356</td><td>-21.739041528844915</td><td>2.6757798208226047e+36</td></tr>\n",
       "<tr><td>39627329441366288</td><td>86.9714440576614</td><td>-19.2272898194948</td><td>20210107</td><td>0.372820207766997</td><td>4.60867072100309e-05</td><td>0</td><td>2.09091639518738</td><td>6.80626535415649</td><td>13.8271465301514</td><td>GALAXY</td><td>0</td><td>0.0646747946739197</td><td>0.677806317806244</td><td>599490</td><td>0.00197613698587998</td><td>2562.07303121524</td><td>861.0789197986969</td><td>1.3688298780261502e-07</td><td>1978.0010649916294</td><td>0.19600891405307036</td><td>210.410878632549</td><td>0.8790579333728415</td><td>20.2777715522765</td><td>-21.294204010335665</td><td>1.7762961185637535e+36</td></tr>\n",
       "<tr><td>39627323732920603</td><td>86.9037933972536</td><td>-19.508210698781</td><td>20210107</td><td>0.598456896845099</td><td>6.21925476077341e-05</td><td>0</td><td>1.11535751819611</td><td>6.6240758895874</td><td>25.0407218933105</td><td>GALAXY</td><td>0</td><td>0.05992316827178</td><td>6.0</td><td>599445</td><td>0.0019636417514989116</td><td>2566.7812080767403</td><td>862.7688889284643</td><td>1.3637783842421925e-07</td><td>3475.569075569475</td><td>0.2645110549025907</td><td>403.31932197732635</td><td>0.8874226425853272</td><td>20.317513015468442</td><td>-22.478770843168952</td><td>5.288616796151136e+36</td></tr>\n",
       "</table></div>"
      ],
      "text/plain": [
       "<Table length=5>\n",
       "     TARGETID        TARGET_RA     ...         LUM_R         \n",
       "                                   ...           W           \n",
       "      int64           float64      ...        float64        \n",
       "----------------- ---------------- ... ----------------------\n",
       "39627329441367512 87.0214831261028 ... 1.9798276978731544e+36\n",
       "39627329437177493 86.9323141087831 ... 2.3689853572179725e+36\n",
       "39627329441367651 87.0258454971578 ... 2.6757798208226047e+36\n",
       "39627329441366288 86.9714440576614 ... 1.7762961185637535e+36\n",
       "39627323732920603 86.9037933972536 ...  5.288616796151136e+36"
      ]
     },
     "execution_count": 472,
     "metadata": {},
     "output_type": "execute_result"
    }
   ],
   "source": [
    "data_f[:5]"
   ]
  },
  {
   "cell_type": "markdown",
   "metadata": {},
   "source": [
    "### Check the absolute and apparent magnitudes\n",
    "\n",
    "This is a sanity check to quickly check whether there might be some obvious problem in the data/derivation of magnitudes..."
   ]
  },
  {
   "cell_type": "code",
   "execution_count": 473,
   "metadata": {},
   "outputs": [
    {
     "data": {
      "image/png": "[encoded data removed]",
      "text/plain": [
       "<Figure size 1000x500 with 3 Axes>"
      ]
     },
     "metadata": {},
     "output_type": "display_data"
    }
   ],
   "source": [
    "if len(data_f) < 1000000:\n",
    "    # dauert sonst einfach ewig\n",
    "    fig, ax = plt.subplots(ncols = 3, figsize=(10,5))\n",
    "\n",
    "    plot_names = [\"APP_MAG_R\", \"ABS_MAG_R\", \"LUM_R\"]\n",
    "    cnt = 0\n",
    "    for axis in ax:\n",
    "        axis.hist(data_f[plot_names[cnt]], bins = \"auto\")\n",
    "        axis.set_yscale(\"log\")\n",
    "        cnt += 1\n",
    "    plt.show()"
   ]
  },
  {
   "cell_type": "code",
   "execution_count": 507,
   "metadata": {},
   "outputs": [
    {
     "name": "stdout",
     "output_type": "stream",
     "text": [
      "These objects have a mean redshift of 0.005803846281070924, which corresponds to a mean distance of 25.200380589298565 Mpc\n",
      "The minimum redshift is 3.82229586945523e-06, i.e. 0.01625587819507659 Mpc\n",
      "According to WolframAlpha the closest galaxy has a distance of roughly 25000ly = 7655pc (not Mpc, simply pc), so any object below 0.07Mpc is definitely not a real galaxy\n",
      "This reminded me to check if we have selected galaxies only...\n",
      "We have 0 stars in our catalogue of peculiar objects, compared to a total number of 82 objects...\n"
     ]
    },
    {
     "data": {
      "image/png": "[encoded data removed]",
      "text/plain": [
       "<Figure size 1500x800 with 5 Axes>"
      ]
     },
     "metadata": {},
     "output_type": "display_data"
    }
   ],
   "source": [
    "inspect_abs_mags = True\n",
    "\n",
    "if inspect_abs_mags:\n",
    "    data_to_inspect = data_f[data_f[\"ABS_MAG_R\"]> -12]\n",
    "    fig, ax = plt.subplots(ncols = 5, figsize = (15,8))\n",
    "    \n",
    "    ax[0].hist(data_to_inspect[\"ABS_MAG_R\"], bins = \"auto\")\n",
    "    ax[0].set_xlabel(\"abs mag in r-band\")\n",
    "    ax[1].hist(data_to_inspect[\"MW_TRANSMISSION\"], bins = \"auto\")\n",
    "    ax[1].set_xlabel(\"MW_TRANSMISSION\")\n",
    "    ax[2].hist(data_to_inspect[\"APP_MAG_R\"], bins = \"auto\")\n",
    "    ax[2].set_xlabel(\"App mag r-band\")\n",
    "    ax[3].hist(data_to_inspect[\"DIST_Z_MEAN\"], bins = \"auto\")\n",
    "    ax[3].set_xlabel(\"distance from redshift\")\n",
    "    ax[4].hist(data_to_inspect[\"Z\"], bins = \"auto\")\n",
    "    ax[4].set_xlabel(\"redshift\")\n",
    "    \n",
    "    mean_redshift_pec_objects = np.mean(data_to_inspect[\"Z\"])\n",
    "    mean_distance_pec_objects = np.mean(data_to_inspect[\"DIST_Z_MEAN\"])*u.Mpc\n",
    "    min_redshift_pec_objects = np.min(data_to_inspect[\"Z\"])\n",
    "    min_distance_pec_objects = np.min(data_to_inspect[\"DIST_Z_MEAN\"])*u.Mpc\n",
    "    \n",
    "    data_to_inspect_len = len(data_to_inspect)\n",
    "    star_data_len = len(data_to_inspect[data_to_inspect[\"SPECTYPE\"] == \"STAR\"])\n",
    "    \n",
    "    print(f\"These objects have a mean redshift of {mean_redshift_pec_objects}, which corresponds to a mean distance of {mean_distance_pec_objects}\")\n",
    "    print(f\"The minimum redshift is {min_redshift_pec_objects}, i.e. {min_distance_pec_objects}\")\n",
    "    print(f\"According to WolframAlpha the closest galaxy has a distance of roughly 25000ly = 7655pc (not Mpc, simply pc), so any object below 0.07Mpc is definitely not a real galaxy\")\n",
    "    print(f\"This reminded me to check if we have selected galaxies only...\")\n",
    "    print(f\"We have {star_data_len} stars in our catalogue of peculiar objects, compared to a total number of {data_to_inspect_len} objects...\")\n",
    "                        \n",
    "    for axis in ax:\n",
    "        axis.set_ylabel(\"bin count\")\n",
    "        #axis.legend()\n",
    "        \n",
    "    plt.tight_layout()\n",
    "    plt.show()\n",
    "    "
   ]
  },
  {
   "cell_type": "code",
   "execution_count": 475,
   "metadata": {},
   "outputs": [],
   "source": [
    "# np.max(data_f[\"MW_TRANSMISSION\"])"
   ]
  },
  {
   "cell_type": "markdown",
   "metadata": {
    "jp-MarkdownHeadingCollapsed": true,
    "tags": []
   },
   "source": [
    "### start calculating the P_Gal (the probability that galaxy X is the host)"
   ]
  },
  {
   "cell_type": "code",
   "execution_count": 476,
   "metadata": {},
   "outputs": [
    {
     "name": "stdout",
     "output_type": "stream",
     "text": [
      "The maximum luminosity in our catalog in the r-band is 9.457010998480101e+38 W with a prob density of      PROBDENSITY     \n",
      "---------------------\n",
      "6.223522337811908e-05\n"
     ]
    }
   ],
   "source": [
    "max_lum_r = np.max(data_f[\"LUM_R\"])*u.W\n",
    "prob_dens_max_lum = data_f[data_f[\"LUM_R\"] == max_lum_r][\"PROBDENSITY\"]\n",
    "print(f\"The maximum luminosity in our catalog in the r-band is {max_lum_r} with a prob density of {prob_dens_max_lum}\")"
   ]
  },
  {
   "cell_type": "code",
   "execution_count": 477,
   "metadata": {},
   "outputs": [],
   "source": [
    "if modeled_search:\n",
    "\n",
    "    arg_errfc = abs(data_f[\"DIST_Z_MEAN\"]-data_f[\"DISTMU\"])/(data_f[\"DIST_Z_ERR\"]**2+data_f[\"DISTSIGMA\"]**2+data_f[\"DIST_Z_COSMO_SIGMA\"].value**2)\n",
    "    P_gal_unnorm = data_f[\"LUM_R\"]*data_f[\"PROBDENSITY\"]*(1-sc.special.erf(arg_errfc))\n",
    "    #dist_mean*u.Mpc, dist_std*u.Mpc\n",
    "    arg_errfc_c = abs(data_f[\"DIST_Z_MEAN\"].value-dist_mean)/(data_f[\"DIST_Z_ERR\"].value**2+dist_std**2+data_f[\"DIST_Z_COSMO_SIGMA\"].value**2)\n",
    "    P_gal_unnorm_const = data_f[\"LUM_R\"]*data_f[\"PROBDENSITY\"]*(1-sc.special.erf(arg_errfc_c))\n",
    "\n",
    "    # now lets quickly normalize\n",
    "\n",
    "    P_gal_sum = np.sum(P_gal_unnorm)\n",
    "    P_gal_const_sum = np.sum(P_gal_unnorm_const)\n",
    "\n",
    "    P_gal = 1/P_gal_sum * P_gal_unnorm\n",
    "    P_gal_const = 1/P_gal_const_sum * P_gal_unnorm_const\n",
    "\n",
    "else:\n",
    "    P_gal_unnorm = data_f[\"LUM_R\"]*data_f[\"PROBDENSITY\"]\n",
    "    P_gal_sum = np.sum(P_gal_unnorm)\n",
    "    P_gal = 1/P_gal_sum * P_gal_unnorm"
   ]
  },
  {
   "cell_type": "markdown",
   "metadata": {
    "tags": []
   },
   "source": [
    "### Get the missed fraction of DESI due to mass/luminosity incompleteness\n",
    "\n",
    "$$f_{missed} =  \\frac{\\int_{-\\infty}^{\\infty} dm 10^{-0.4m}\\left(1-\\frac{Hist}{Schechter}\\right)\\cdot Schechter}{\\int_{-\\infty}^{\\infty}dm 10^{-0.4m}\\cdot Schechter}$$\n",
    "\n",
    "We want to account for the fact that some region were covered in more detail by DESI than others..."
   ]
  },
  {
   "cell_type": "code",
   "execution_count": 478,
   "metadata": {},
   "outputs": [
    {
     "name": "stdout",
     "output_type": "stream",
     "text": [
      "-28.109800328602574, 7.367272922638271, 0.01625587819507659 Mpc, 4408.59945542783 Mpc, 4408583199.549636\n"
     ]
    },
    {
     "data": {
      "image/png": "[encoded data removed]",
      "text/plain": [
       "<Figure size 500x250 with 1 Axes>"
      ]
     },
     "metadata": {},
     "output_type": "display_data"
    }
   ],
   "source": [
    "if modeled_search:\n",
    "\n",
    "    # get the Schechter model, see 1/V estimator, bin size of half a mag\n",
    "    from astropy.modeling.models import Schechter1D\n",
    "\n",
    "    phi_star = 0.0017411666759990893\n",
    "    m_star = -21.938911723873762\n",
    "    alpha = -1.0776969153907823\n",
    "\n",
    "    schechter_model = Schechter1D(phi_star, m_star, alpha)\n",
    "    \n",
    "    data_min_dist = np.min(data_f[\"DIST_Z_MEAN\"])*u.Mpc\n",
    "    data_max_dist = np.max(data_f[\"DIST_Z_MEAN\"])*u.Mpc\n",
    "    \n",
    "    abs_mag_max = np.max(data_f[\"ABS_MAG_R\"])\n",
    "    abs_mag_min = np.min(data_f[\"ABS_MAG_R\"])\n",
    "\n",
    "    bins = np.arange(abs_mag_min, abs_mag_max, 0.5)\n",
    "\n",
    "    hist, bins = np.histogram(data_f[\"ABS_MAG_R\"], bins =  bins)\n",
    "    hist = hist/(area_99.to_value(u.deg**2)*(data_max_dist-data_min_dist).value*10**0) # completely wrong normalization\n",
    "    \n",
    "    print(f\"{abs_mag_min}, {abs_mag_max}, {data_min_dist}, {data_max_dist}, {(data_max_dist-data_min_dist).value*10**6}\")\n",
    "    \n",
    "    fig, ax = plt.subplots(figsize = (5,2.5))\n",
    "    bins_center = bins[1:]-(bins[1]-bins[2])/2\n",
    "    ax.plot(bins_center, hist, label = \"wrongly normalized distribution\")\n",
    "    ax.plot(np.linspace(-25,-18), schechter_model(np.linspace(-25,-18)),  label = \"some schechter fit\", color = \"red\")\n",
    "\n",
    "    ax.set_yscale(\"log\")\n",
    "    plt.show()"
   ]
  },
  {
   "cell_type": "code",
   "execution_count": 479,
   "metadata": {},
   "outputs": [
    {
     "name": "stdout",
     "output_type": "stream",
     "text": [
      "(1052592.2749107545, 0.0003165349709348675)\n",
      "(1052592.2749107545, 0.0003165349709348675)\n",
      "1.0\n"
     ]
    }
   ],
   "source": [
    "if modeled_search:\n",
    "    def hist_func(M):\n",
    "        # https://stackoverflow.com/questions/2566412/find-nearest-value-in-numpy-array\n",
    "        # make sure array is a numpy array\n",
    "        # array = np.array(array)\n",
    "        idx = (np.abs(hist - M)).argmin()\n",
    "        val = hist[idx]\n",
    "        #print(f\"val {val}\")\n",
    "        return val\n",
    "\n",
    "    def num_func(M):\n",
    "        #print(f\"M is {M}\")\n",
    "        schechter_val = schechter_model(M)\n",
    "        #print(f\"schechter Val: {schechter_val}\")\n",
    "        lum_factor = 10**(-0.4*M)\n",
    "        #print(f\"lum factor {lum_factor}\")\n",
    "        weighting_coverage = (1-hist_func(M)/(schechter_val))\n",
    "        #print(f\"weighting_coverage: {weighting_coverage}\")\n",
    "        final_val = lum_factor*weighting_coverage*schechter_val\n",
    "        #print(f\"final value: {final_val}\")\n",
    "        return final_val\n",
    "    def denom_func(M):\n",
    "        lum_factor = 10**(-0.4*M)\n",
    "        schechter_val = schechter_model(M)\n",
    "        final_val = lum_factor*schechter_val\n",
    "\n",
    "        return final_val\n",
    "\n",
    "\n",
    "\n",
    "\n",
    "    numerator = quad(num_func, -28, -18)\n",
    "    denominator = quad(denom_func, -28, -18)\n",
    "\n",
    "    print(numerator)\n",
    "    print(denominator)\n",
    "\n",
    "    f_missed = numerator[0]/denominator[0]\n",
    "\n",
    "    print(f_missed)"
   ]
  },
  {
   "cell_type": "code",
   "execution_count": 480,
   "metadata": {},
   "outputs": [],
   "source": [
    "data_f = hstack([data_f, Table({\"P_GAL\": P_gal.value})])"
   ]
  },
  {
   "cell_type": "code",
   "execution_count": 481,
   "metadata": {},
   "outputs": [
    {
     "data": {
      "text/html": [
       "<div><i>Table length=582090</i>\n",
       "<table id=\"table140023458623264\" class=\"table-striped table-bordered table-condensed\">\n",
       "<thead><tr><th>TARGETID</th><th>TARGET_RA</th><th>TARGET_DEC</th><th>LASTNIGHT</th><th>Z</th><th>ZERR</th><th>ZWARN</th><th>FLUX_G</th><th>FLUX_R</th><th>FLUX_Z</th><th>SPECTYPE</th><th>BGS_TARGET</th><th>EBV</th><th>SERSIC</th><th>UNIQ</th><th>PROBDENSITY</th><th>DISTMU</th><th>DISTSIGMA</th><th>DISTNORM</th><th>DIST_Z_MEAN</th><th>DIST_Z_ERR</th><th>DIST_Z_COSMO_SIGMA</th><th>MW_TRANSMISSION</th><th>APP_MAG_R</th><th>ABS_MAG_R</th><th>LUM_R</th><th>P_GAL</th></tr></thead>\n",
       "<thead><tr><th></th><th></th><th></th><th></th><th></th><th></th><th></th><th></th><th></th><th></th><th></th><th></th><th></th><th></th><th></th><th></th><th>Mpc</th><th>Mpc</th><th>1 / Mpc2</th><th>Mpc</th><th>Mpc</th><th>Mpc</th><th></th><th></th><th></th><th>W</th><th></th></tr></thead>\n",
       "<thead><tr><th>int64</th><th>float64</th><th>float64</th><th>int64</th><th>float64</th><th>float64</th><th>int64</th><th>float64</th><th>float64</th><th>float64</th><th>bytes6</th><th>int64</th><th>float64</th><th>float64</th><th>int64</th><th>float64</th><th>float64</th><th>float64</th><th>float64</th><th>float64</th><th>float64</th><th>float64</th><th>float64</th><th>float64</th><th>float64</th><th>float64</th><th>float64</th></tr></thead>\n",
       "<tr><td>39627329441367512</td><td>87.0214831261028</td><td>-19.3159172815501</td><td>20210107</td><td>0.405551670647463</td><td>3.44483765499101e-05</td><td>0</td><td>1.73643779754639</td><td>6.23603582382202</td><td>13.1384925842285</td><td>GALAXY</td><td>0</td><td>0.0637876316905022</td><td>1.0</td><td>599488</td><td>0.0019891805592143867</td><td>2562.9822109730985</td><td>861.3009065740661</td><td>1.367885805870855e-07</td><td>2183.492406350188</td><td>0.14650925004373436</td><td>235.56300720926782</td><td>0.8806136764160551</td><td>20.374692061541026</td><td>-21.411984082695106</td><td>1.9798276978731544e+36</td><td>2.327992127280143e-05</td></tr>\n",
       "<tr><td>39627329437177493</td><td>86.9323141087831</td><td>-19.1704331266067</td><td>20210107</td><td>0.356280695109085</td><td>1.24449339129845e-05</td><td>0</td><td>3.78639912605286</td><td>10.0700845718384</td><td>19.1833915710449</td><td>GALAXY</td><td>0</td><td>0.0658317059278488</td><td>1.0</td><td>599490</td><td>0.00197613698587998</td><td>2562.07303121524</td><td>861.0789197986969</td><td>1.3688298780261502e-07</td><td>1875.8393618928155</td><td>0.052927525231635686</td><td>198.08904858563852</td><td>0.8770332838058498</td><td>19.849957393584784</td><td>-21.60682153415652</td><td>2.3689853572179725e+36</td><td>2.7660604223543337e-05</td></tr>\n",
       "<tr><td>39627329441367651</td><td>87.0258454971578</td><td>-19.283549087624</td><td>20210107</td><td>0.403222031933717</td><td>2.14880628477579e-05</td><td>0</td><td>2.50455784797668</td><td>8.54479694366455</td><td>18.5866603851318</td><td>GALAXY</td><td>0</td><td>0.0637028589844704</td><td>0.665353775024414</td><td>599490</td><td>0.00197613698587998</td><td>2562.07303121524</td><td>861.0789197986969</td><td>1.3688298780261502e-07</td><td>2168.723975306241</td><td>0.09138801742114039</td><td>233.73947343007</td><td>0.8807624792146085</td><td>20.032892646362356</td><td>-21.739041528844915</td><td>2.6757798208226047e+36</td><td>3.1256361943934886e-05</td></tr>\n",
       "<tr><td>39627329441366288</td><td>86.9714440576614</td><td>-19.2272898194948</td><td>20210107</td><td>0.372820207766997</td><td>4.60867072100309e-05</td><td>0</td><td>2.09091639518738</td><td>6.80626535415649</td><td>13.8271465301514</td><td>GALAXY</td><td>0</td><td>0.0646747946739197</td><td>0.677806317806244</td><td>599490</td><td>0.00197613698587998</td><td>2562.07303121524</td><td>861.0789197986969</td><td>1.3688298780261502e-07</td><td>1978.0010649916294</td><td>0.19600891405307036</td><td>210.410878632549</td><td>0.8790579333728415</td><td>20.2777715522765</td><td>-21.294204010335665</td><td>1.7762961185637535e+36</td><td>2.074345962391112e-05</td></tr>\n",
       "<tr><td>39627323732920603</td><td>86.9037933972536</td><td>-19.508210698781</td><td>20210107</td><td>0.598456896845099</td><td>6.21925476077341e-05</td><td>0</td><td>1.11535751819611</td><td>6.6240758895874</td><td>25.0407218933105</td><td>GALAXY</td><td>0</td><td>0.05992316827178</td><td>6.0</td><td>599445</td><td>0.0019636417514989116</td><td>2566.7812080767403</td><td>862.7688889284643</td><td>1.3637783842421925e-07</td><td>3475.569075569475</td><td>0.2645110549025907</td><td>403.31932197732635</td><td>0.8874226425853272</td><td>20.317513015468442</td><td>-22.478770843168952</td><td>5.288616796151136e+36</td><td>6.135165638961945e-05</td></tr>\n",
       "<tr><td>39627323732921413</td><td>86.9318969673453</td><td>-19.5073393234705</td><td>20210107</td><td>0.523618923576222</td><td>0.000106715513828015</td><td>0</td><td>2.77214670181274</td><td>9.32881450653076</td><td>19.5623760223389</td><td>GALAXY</td><td>0</td><td>0.0598355568945408</td><td>2.83805012702942</td><td>599445</td><td>0.0019636417514989116</td><td>2566.7812080767403</td><td>862.7688889284643</td><td>1.3637783842421925e-07</td><td>2958.8735229256426</td><td>0.45388705279319863</td><td>334.43222659839194</td><td>0.8875776176649666</td><td>19.945949710675826</td><td>-22.50078180529662</td><td>5.396926267479929e+36</td><td>6.26465963801535e-05</td></tr>\n",
       "<tr><td>39627323732922621</td><td>86.9729923692133</td><td>-19.5069510118159</td><td>20210206</td><td>0.310754747323153</td><td>2.03664386336641e-05</td><td>0</td><td>0.338057577610016</td><td>0.502276599407196</td><td>0.553105890750885</td><td>GALAXY</td><td>0</td><td>0.0602727234363556</td><td>0.0</td><td>599445</td><td>0.0019636417514989116</td><td>2566.7812080767403</td><td>862.7688889284643</td><td>1.3637783842421925e-07</td><td>1600.6770871821298</td><td>0.08661771276359684</td><td>165.54420735585455</td><td>0.8868045865005804</td><td>23.11721246333182</td><td>-17.99497418499197</td><td>8.507920765943912e+34</td><td>9.866997716605562e-07</td></tr>\n",
       "<tr><td>39627323732923264</td><td>86.9945305605309</td><td>-19.571258574454</td><td>20210107</td><td>0.445907117763289</td><td>1.30838674285237e-05</td><td>0</td><td>3.2194881439209</td><td>9.75046253204346</td><td>18.4175662994385</td><td>GALAXY</td><td>0</td><td>0.0580326095223427</td><td>1.0</td><td>599445</td><td>0.0019636417514989116</td><td>2566.7812080767403</td><td>862.7688889284643</td><td>1.3637783842421925e-07</td><td>2442.687104675052</td><td>0.055644896622769946</td><td>267.9486239454607</td><td>0.8907728532011877</td><td>19.90185438852945</td><td>-22.128479371585698</td><td>3.830235801251024e+36</td><td>4.447607566949057e-05</td></tr>\n",
       "<tr><td>39627323732923428</td><td>87.0003750768537</td><td>-19.5126656926787</td><td>20210107</td><td>0.358191439337954</td><td>6.48760545347636e-05</td><td>0</td><td>1.18985891342163</td><td>5.78510713577271</td><td>13.2836599349976</td><td>GALAXY</td><td>0</td><td>0.0602085292339325</td><td>1.0</td><td>599445</td><td>0.0019636417514989116</td><td>2566.7812080767403</td><td>862.7688889284643</td><td>1.3637783842421925e-07</td><td>1887.583096878163</td><td>0.2759248402409712</td><td>199.49910230622675</td><td>0.8869180573897271</td><td>20.463930227325584</td><td>-21.00640591431869</td><td>1.3626870490303817e+36</td><td>1.5810548507766655e-05</td></tr>\n",
       "<tr><td>...</td><td>...</td><td>...</td><td>...</td><td>...</td><td>...</td><td>...</td><td>...</td><td>...</td><td>...</td><td>...</td><td>...</td><td>...</td><td>...</td><td>...</td><td>...</td><td>...</td><td>...</td><td>...</td><td>...</td><td>...</td><td>...</td><td>...</td><td>...</td><td>...</td><td>...</td><td>...</td></tr>\n",
       "<tr><td>39633034986652170</td><td>219.130969057514</td><td>37.8557697576597</td><td>20220402</td><td>0.429786140579604</td><td>6.02633757921516e-05</td><td>0</td><td>3.93386340141296</td><td>23.4678382873535</td><td>59.2267761230469</td><td>GALAXY</td><td>514</td><td>0.00800197850912809</td><td>4.0</td><td>6736</td><td>1.3316811867104378e-05</td><td>2509.035723225597</td><td>941.1683829830349</td><td>1.3926694527579296e-07</td><td>2338.3902745103896</td><td>0.25630571909412403</td><td>254.8317434584783</td><td>0.9840905874128144</td><td>19.056404977490246</td><td>-22.879145821410177</td><td>7.647017626448752e+36</td><td>6.021678940714411e-07</td></tr>\n",
       "<tr><td>39633034986651947</td><td>219.112143208919</td><td>37.7557251223174</td><td>20220427</td><td>0.596934434890437</td><td>3.83938842481855e-05</td><td>0</td><td>0.304937988519669</td><td>0.349416583776474</td><td>0.55180436372757</td><td>GALAXY</td><td>0</td><td>0.00897904299199581</td><td>0.0</td><td>6736</td><td>1.3316811867104378e-05</td><td>2509.035723225597</td><td>941.1683829830349</td><td>1.3926694527579296e-07</td><td>3464.877745090833</td><td>0.1632900208113527</td><td>401.87244262977936</td><td>0.9821654234368534</td><td>23.622102819122812</td><td>-19.167490281962646</td><td>2.5051277365815908e+35</td><td>1.971041926874614e-08</td></tr>\n",
       "<tr><td>39633034986652068</td><td>219.121669364928</td><td>37.8057562475398</td><td>20220509</td><td>0.356288292674858</td><td>6.92077261480445e-05</td><td>0</td><td>5.46981143951416</td><td>18.9436359405518</td><td>40.5317649841309</td><td>GALAXY</td><td>514</td><td>0.00814338680356741</td><td>1.0</td><td>6736</td><td>1.3316811867104378e-05</td><td>2509.035723225597</td><td>941.1683829830349</td><td>1.3926694527579296e-07</td><td>1875.8860272042396</td><td>0.29434887861207387</td><td>198.09464831306124</td><td>0.9838117294863631</td><td>19.288621643223667</td><td>-22.16821132374883</td><td>3.972997503676511e+36</td><td>3.126772020171894e-07</td></tr>\n",
       "<tr><td>39633034982461443</td><td>219.079221181217</td><td>37.6426258235968</td><td>20220426</td><td>0.337128760859464</td><td>0.000144230146623705</td><td>0</td><td>4.34389972686768</td><td>21.3692417144775</td><td>49.3931655883789</td><td>GALAXY</td><td>514</td><td>0.00964466389268637</td><td>6.0</td><td>6736</td><td>1.3316811867104378e-05</td><td>2509.035723225597</td><td>941.1683829830349</td><td>1.3926694527579296e-07</td><td>1758.9870278311196</td><td>0.6134634759592472</td><td>184.15106072912312</td><td>0.98085607113365</td><td>19.154540432522396</td><td>-22.16252061974277</td><td>3.9522281813908326e+36</td><td>3.10996606451645e-07</td></tr>\n",
       "<tr><td>39633034982461498</td><td>219.082378659112</td><td>37.7275706624042</td><td>20220426</td><td>0.430954922989083</td><td>0.00010231315091597</td><td>0</td><td>1.81291937828064</td><td>9.226637840271</td><td>18.843391418457</td><td>GALAXY</td><td>257</td><td>0.00938915088772774</td><td>1.0</td><td>6736</td><td>1.3316811867104378e-05</td><td>2509.035723225597</td><td>941.1683829830349</td><td>1.3926694527579296e-07</td><td>2345.918450443449</td><td>0.4351612701006987</td><td>255.774741062313</td><td>0.9813584878365271</td><td>20.06696052212022</td><td>-21.87557202095217</td><td>3.034328324131552e+36</td><td>2.389417278724016e-07</td></tr>\n",
       "<tr><td>39633034982461511</td><td>219.083322118656</td><td>37.8258652186477</td><td>20230429</td><td>0.484280393086722</td><td>6.7335915331804e-05</td><td>0</td><td>0.566019117832184</td><td>3.63539958000183</td><td>10.9280185699463</td><td>GALAXY</td><td>0</td><td>0.00830640830099583</td><td>1.0</td><td>6736</td><td>1.3316811867104378e-05</td><td>2509.035723225597</td><td>941.1683829830349</td><td>1.3926694527579296e-07</td><td>2694.859242864569</td><td>0.28638743044778836</td><td>300.1137862187425</td><td>0.9834903482625731</td><td>21.08054487377183</td><td>-21.163188624487102</td><td>1.574378725305019e+36</td><td>1.2397364193912794e-07</td></tr>\n",
       "<tr><td>39633034986651716</td><td>219.093573786906</td><td>37.8290011267503</td><td>20210620</td><td>0.486777154071861</td><td>0.000124760086162484</td><td>0</td><td>2.80220222473145</td><td>13.1819524765015</td><td>32.3443565368652</td><td>GALAXY</td><td>257</td><td>0.00821318663656712</td><td>6.0</td><td>6736</td><td>1.3316811867104378e-05</td><td>2509.035723225597</td><td>941.1683829830349</td><td>1.3926694527579296e-07</td><td>2711.453209083026</td><td>0.5306423166708247</td><td>302.2519323619347</td><td>0.9836741129654638</td><td>19.682178751901247</td><td>-22.57488822951447</td><td>5.778153227765208e+36</td><td>4.5498910858617445e-07</td></tr>\n",
       "<tr><td>39633034986651790</td><td>219.098401768383</td><td>37.7857106717285</td><td>20220509</td><td>0.353996587006525</td><td>3.87159424191876e-05</td><td>0</td><td>4.87088203430176</td><td>17.0077610015869</td><td>35.5913352966309</td><td>GALAXY</td><td>514</td><td>0.00842881668359041</td><td>1.56910812854767</td><td>6736</td><td>1.3316811867104378e-05</td><td>2509.035723225597</td><td>941.1683829830349</td><td>1.3926694527579296e-07</td><td>1861.8211203556116</td><td>0.16465978165559186</td><td>196.40809184074328</td><td>0.9832491009068596</td><td>19.405041033948287</td><td>-22.0354433547313</td><td>3.515694297697227e+36</td><td>2.7668226709733926e-07</td></tr>\n",
       "<tr><td>39633034986651836</td><td>219.102559807678</td><td>37.7783288305815</td><td>20210620</td><td>0.354300213071431</td><td>9.34495117418116e-05</td><td>0</td><td>5.08158731460571</td><td>24.0910472869873</td><td>54.0168991088867</td><td>GALAXY</td><td>514</td><td>0.00856308918446302</td><td>6.0</td><td>6736</td><td>1.3316811867104378e-05</td><td>2509.035723225597</td><td>941.1683829830349</td><td>1.3926694527579296e-07</td><td>1863.683289859013</td><td>0.3974594939411813</td><td>196.63125062774193</td><td>0.9829845393285487</td><td>19.026727517744355</td><td>-22.415928475721955</td><td>4.991202072649541e+36</td><td>3.9280444576654e-07</td></tr>\n",
       "<tr><td>39633034986651869</td><td>219.105577055605</td><td>37.8691172904209</td><td>20210620</td><td>0.331210222012413</td><td>5.01220831523442e-05</td><td>0</td><td>2.63929653167725</td><td>10.2693948745728</td><td>20.720890045166</td><td>GALAXY</td><td>257</td><td>0.00818482972681522</td><td>1.0</td><td>6736</td><td>1.3316811867104378e-05</td><td>2509.035723225597</td><td>941.1683829830349</td><td>1.3926694527579296e-07</td><td>1723.1954176775505</td><td>0.21317221247806165</td><td>179.91605251432867</td><td>0.9837300187897804</td><td>19.953327676783324</td><td>-21.319075651727083</td><td>1.8174564931220842e+36</td><td>1.4300718901206863e-07</td></tr>\n",
       "</table></div>"
      ],
      "text/plain": [
       "<Table length=582090>\n",
       "     TARGETID        TARGET_RA     ...         P_GAL         \n",
       "                                   ...                       \n",
       "      int64           float64      ...        float64        \n",
       "----------------- ---------------- ... ----------------------\n",
       "39627329441367512 87.0214831261028 ...  2.327992127280143e-05\n",
       "39627329437177493 86.9323141087831 ... 2.7660604223543337e-05\n",
       "39627329441367651 87.0258454971578 ... 3.1256361943934886e-05\n",
       "39627329441366288 86.9714440576614 ...  2.074345962391112e-05\n",
       "39627323732920603 86.9037933972536 ...  6.135165638961945e-05\n",
       "39627323732921413 86.9318969673453 ...   6.26465963801535e-05\n",
       "39627323732922621 86.9729923692133 ...  9.866997716605562e-07\n",
       "39627323732923264 86.9945305605309 ...  4.447607566949057e-05\n",
       "39627323732923428 87.0003750768537 ... 1.5810548507766655e-05\n",
       "              ...              ... ...                    ...\n",
       "39633034986652170 219.130969057514 ...  6.021678940714411e-07\n",
       "39633034986651947 219.112143208919 ...  1.971041926874614e-08\n",
       "39633034986652068 219.121669364928 ...  3.126772020171894e-07\n",
       "39633034982461443 219.079221181217 ...   3.10996606451645e-07\n",
       "39633034982461498 219.082378659112 ...  2.389417278724016e-07\n",
       "39633034982461511 219.083322118656 ... 1.2397364193912794e-07\n",
       "39633034986651716 219.093573786906 ... 4.5498910858617445e-07\n",
       "39633034986651790 219.098401768383 ... 2.7668226709733926e-07\n",
       "39633034986651836 219.102559807678 ...    3.9280444576654e-07\n",
       "39633034986651869 219.105577055605 ... 1.4300718901206863e-07"
      ]
     },
     "execution_count": 481,
     "metadata": {},
     "output_type": "execute_result"
    }
   ],
   "source": [
    "data_f[:]"
   ]
  },
  {
   "cell_type": "markdown",
   "metadata": {
    "jp-MarkdownHeadingCollapsed": true,
    "tags": []
   },
   "source": [
    "## Analyse the data: How much luminosity do we cover? Which galaxies should we observe?\n",
    "\n",
    "Lets look into what information we can retrieve from here. First we define, how many galaxies we could observe (N_galaxies).\n",
    "\n",
    "We then calculate the luminosity (lum) from all the galaxies in this area, i.e. the total luminosity. From there do some comparison between the covered luminosity and total luminosity depending on the ranking by probability:\n",
    "- simple \"Maximum lum that could be covered\" by looking at the brightest galaxies\n",
    "- Calculate the probability this way (done above) (from https://arxiv.org/pdf/1710.05452.pdf w/o normalization), both using a static and variable distance and error: $$P_{gal} = k^{-1}\\tilde{L_z}(1-f_{missed})\\cdot P_{2D}\\left(1-\\text{erf}\\left(\\frac{|D_{Gal}-D_{LVC}|}{\\sigma_{D,gal}^{2}+\\sigma_{D,LVC}^{2}+\\sigma_{D,cosmology}^{2}}\\right)\\right)$$\n",
    "- others may follow...\n",
    "\n",
    "Since we have the actual luminosity (here in r-band though), we don't need to again calculate the $$\\tilde{L}_{gal}$$ values. In the mentioned paper, they only use a fixed distance and error for the LIGO data. I will try both, to get an idea what the differences are."
   ]
  },
  {
   "cell_type": "code",
   "execution_count": 482,
   "metadata": {},
   "outputs": [],
   "source": [
    "N_galaxies = 200 # how many galaxies we can cover"
   ]
  },
  {
   "cell_type": "code",
   "execution_count": 483,
   "metadata": {},
   "outputs": [],
   "source": [
    "total_lum = np.sum(data_f[\"LUM_R\"])"
   ]
  },
  {
   "cell_type": "markdown",
   "metadata": {
    "jp-MarkdownHeadingCollapsed": true,
    "tags": []
   },
   "source": [
    "### Compare lum with luminosity ranking\n",
    "\n",
    "https://iopscience.iop.org/article/10.3847/0067-0049/226/1/10"
   ]
  },
  {
   "cell_type": "code",
   "execution_count": 484,
   "metadata": {},
   "outputs": [],
   "source": [
    "data_sort_by_lums = data_f.group_by(\"LUM_R\")\n",
    "data_sort_by_lums = data_sort_by_lums[::-1]"
   ]
  },
  {
   "cell_type": "code",
   "execution_count": 485,
   "metadata": {},
   "outputs": [],
   "source": [
    "lum_after_N_highest = np.sum(data_sort_by_lums[\"LUM_R\"][:N_galaxies])"
   ]
  },
  {
   "cell_type": "code",
   "execution_count": 486,
   "metadata": {},
   "outputs": [
    {
     "name": "stdout",
     "output_type": "stream",
     "text": [
      "The theoretical maximum luminosity we could cover is 1.6162785286450165e+40, i.e. 0.9110471796838707 % of the total luminosity\n",
      "The TARGETID values of these galaxies are: \n",
      "      TARGETID    \n",
      "-----------------\n",
      "39633502190175579\n",
      "39633349458790906\n",
      "39632946335844121\n",
      "39633414021712524\n",
      "39633507802153583\n",
      "39632936177240295\n",
      "39628470942171640\n",
      "39633446212995004\n",
      "39633490148331342\n",
      "39633408216796356\n",
      "              ...\n",
      "39627957207042299\n",
      "39633058793521303\n",
      "39627755679127058\n",
      "39628527892431090\n",
      "39627689279098474\n",
      "39633315497513611\n",
      "39628363156949622\n",
      "39627824524430098\n",
      "39633256370408993\n",
      "39633063528892007\n",
      "39628465476995978\n",
      "Length = 200 rows\n"
     ]
    }
   ],
   "source": [
    "print(f\"The theoretical maximum luminosity we could cover is {lum_after_N_highest}, i.e. {lum_after_N_highest*100/total_lum} % of the total luminosity\")\n",
    "print(\"The TARGETID values of these galaxies are: \\n\", data_sort_by_lums[\"TARGETID\"][:N_galaxies])"
   ]
  },
  {
   "cell_type": "markdown",
   "metadata": {
    "tags": []
   },
   "source": [
    "### Compare lum with P_Gal ranking"
   ]
  },
  {
   "cell_type": "code",
   "execution_count": 487,
   "metadata": {},
   "outputs": [],
   "source": [
    "data_sort_by_PGal = data_f.group_by(\"P_GAL\")\n",
    "data_sort_by_PGal = data_sort_by_PGal[::-1]\n",
    "\n",
    "lum_after_N_PGal = np.sum(data_sort_by_PGal[\"LUM_R\"][:N_galaxies])"
   ]
  },
  {
   "cell_type": "code",
   "execution_count": 488,
   "metadata": {},
   "outputs": [
    {
     "name": "stdout",
     "output_type": "stream",
     "text": [
      "The luminosity we cover when observing 200 galaxies ranked by P_gal is 1.073358170191009e+40W, i.e. 0.6050194421396852% of the total (DESI) luminosity in the search area\n",
      "The TARGETID values of these galaxies are: \n",
      "    TARGET_RA         TARGET_DEC     ...      TARGETID             P_GAL         \n",
      "---------------- ------------------ ... ----------------- ----------------------\n",
      "220.741413131001   33.3342978245912 ... 39632946335844121   0.000353009575260953\n",
      "268.719195114419   71.5401722504212 ... 39633502190175579 0.00034784845501474967\n",
      "238.662462110582   61.8610359187067 ... 39633408216796356  0.0002789581572028153\n",
      "259.947690070368   72.1909462587688 ... 39633507802153583 0.00025656868956721966\n",
      "236.755871965099   54.5113086859126 ... 39633315430401675  0.0002315871317055384\n",
      "226.752292595104   36.0814434630607 ... 39633001197341208 0.00020042713284988196\n",
      "73.6754923727529  -1.50522977830283 ... 39627749723213698   0.000196602619279816\n",
      "86.9060754139484  -20.7144066045714 ... 39627295341678750 0.00019442734712104903\n",
      "86.0963119432306  -19.7406916893868 ... 39627318020284066  0.0001900705067636924\n",
      "230.349431708166   46.2122111161611 ... 39633187978087823 0.00018495872661722715\n",
      "             ...                ... ...               ...                    ...\n",
      "74.9442463088362  -5.43024583737016 ... 39627653237443130  5.925563048956696e-05\n",
      "74.9737604023919    -4.782212503948 ... 39627671302308158  5.913399230240101e-05\n",
      "84.7230472565627  -19.4486825352536 ... 39627323699364594  5.904411830760092e-05\n",
      "85.5507558729291  -20.1977316559488 ... 39627306641136420  5.902817652244129e-05\n",
      "233.494510096025   55.2821767866153 ... 39633325857441586  5.889580774922552e-05\n",
      "86.2971004623057  -19.0507079589145 ... 39627335141433204 5.8794451971443764e-05\n",
      "74.9552307905578  -7.31413608730106 ... 39627611189546914 5.8766171869266655e-05\n",
      "229.631363339132   48.5214553626142 ... 39633224879571255  5.875229077073382e-05\n",
      "72.0774185506812 -0.850749687252486 ... 39627767817439420  5.867004064918758e-05\n",
      "75.3494903058449  -4.50036107616666 ... 39627677329525210 5.8432631716153426e-05\n",
      "73.5473027126172  -3.27034729239501 ... 39627707448824349 5.8302384921694066e-05\n",
      "Length = 200 rows\n"
     ]
    }
   ],
   "source": [
    "print(f\"The luminosity we cover when observing {N_galaxies} galaxies ranked by P_gal is {lum_after_N_PGal}W, i.e. {lum_after_N_PGal*100/total_lum}% of the total (DESI) luminosity in the search area\") \n",
    "print(\"The TARGETID values of these galaxies are: \\n\", data_sort_by_PGal[\"TARGET_RA\", \"TARGET_DEC\", \"SERSIC\", \"TARGETID\", \"P_GAL\"][:N_galaxies])"
   ]
  },
  {
   "cell_type": "code",
   "execution_count": 489,
   "metadata": {},
   "outputs": [
    {
     "data": {
      "text/plain": [
       "'data_sort_by_PGal_C = data_f.group_by(\"P_GAL_C\")\\ndata_sort_by_PGal_C = data_sort_by_PGal_C[::-1]\\n\\nlum_after_N_PGal_C = np.sum(data_sort_by_PGal_C[\"LUM_R\"][:N_galaxies])'"
      ]
     },
     "execution_count": 489,
     "metadata": {},
     "output_type": "execute_result"
    }
   ],
   "source": [
    "\"\"\"data_sort_by_PGal_C = data_f.group_by(\"P_GAL_C\")\n",
    "data_sort_by_PGal_C = data_sort_by_PGal_C[::-1]\n",
    "\n",
    "lum_after_N_PGal_C = np.sum(data_sort_by_PGal_C[\"LUM_R\"][:N_galaxies])\"\"\""
   ]
  },
  {
   "cell_type": "code",
   "execution_count": 490,
   "metadata": {},
   "outputs": [
    {
     "data": {
      "text/plain": [
       "'print(f\"The maximum luminosity we cover when ranked by P_gal_C is {lum_after_N_PGal_C}, i.e. {lum_after_N_PGal_C*100/total_lum}% of the total luminosity\") \\nprint(\"The TARGETID values of these galaxies are: \\n\", data_sort_by_PGal_C[\"TARGETID\", \"P_GAL\"][:N_galaxies])'"
      ]
     },
     "execution_count": 490,
     "metadata": {},
     "output_type": "execute_result"
    }
   ],
   "source": [
    "\"\"\"print(f\"The maximum luminosity we cover when ranked by P_gal_C is {lum_after_N_PGal_C}, i.e. {lum_after_N_PGal_C*100/total_lum}% of the total luminosity\") \n",
    "print(\"The TARGETID values of these galaxies are: \\n\", data_sort_by_PGal_C[\"TARGETID\", \"P_GAL\"][:N_galaxies])\"\"\""
   ]
  },
  {
   "cell_type": "markdown",
   "metadata": {
    "tags": []
   },
   "source": [
    "## Now lets do some final steps, including exporting the list\n",
    "\n",
    "We want to cut out galaxies that are not observable by Wendelstein. For this we need the date (to calculate alt and az; we do this for three times to check observability) and Wendelstein location."
   ]
  },
  {
   "cell_type": "code",
   "execution_count": 491,
   "metadata": {},
   "outputs": [],
   "source": [
    "from astropy.coordinates import SkyCoord, EarthLocation, AltAz\n",
    "\n",
    "from datetime import datetime\n",
    "from suntimes import SunTimes\n",
    "\n",
    "#date\n",
    "day = datetime(2023,1,6)\n",
    "\n",
    "def conv_to_deg(deg, arcmin, arcsec):\n",
    "    return (deg+ arcmin/60+ arcsec/3600)*u.deg\n",
    "Wendelstein_loc = EarthLocation(lat = conv_to_deg(47, 42, 13.1), lon = conv_to_deg(12, 0, 43.4), height = 1838*u.m)"
   ]
  },
  {
   "cell_type": "code",
   "execution_count": 492,
   "metadata": {},
   "outputs": [
    {
     "data": {
      "text/plain": [
       "datetime.datetime(2023, 1, 6, 3, 6)"
      ]
     },
     "execution_count": 492,
     "metadata": {},
     "output_type": "execute_result"
    }
   ],
   "source": [
    "sun = SunTimes(Wendelstein_loc.lat.to_value(), Wendelstein_loc.lon.to_value(), Wendelstein_loc.height.to_value())\n",
    "sun.riseutc(day)"
   ]
  },
  {
   "cell_type": "code",
   "execution_count": 493,
   "metadata": {},
   "outputs": [],
   "source": [
    "r = rq.get('https://api.sunrise-sunset.org/json', params={'lat': Wendelstein_loc.lat.to_value(), 'lng': Wendelstein_loc.lon.to_value()}).json()['results']"
   ]
  },
  {
   "cell_type": "code",
   "execution_count": 494,
   "metadata": {},
   "outputs": [
    {
     "data": {
      "text/plain": [
       "'3:12:16 AM'"
      ]
     },
     "execution_count": 494,
     "metadata": {},
     "output_type": "execute_result"
    }
   ],
   "source": [
    "r[\"sunrise\"]"
   ]
  },
  {
   "cell_type": "code",
   "execution_count": 495,
   "metadata": {},
   "outputs": [
    {
     "name": "stdout",
     "output_type": "stream",
     "text": [
      "These are the stats for S230609u follow up :\n"
     ]
    }
   ],
   "source": [
    "print(f\"These are the stats for {superevent_name} follow up :\")"
   ]
  },
  {
   "cell_type": "code",
   "execution_count": 496,
   "metadata": {},
   "outputs": [
    {
     "name": "stdout",
     "output_type": "stream",
     "text": [
      "Localization area: 4236.754321025971 deg2 \n",
      "Redshift range in data: 3.82229586945523e-06 to 0.727745350484718 \n",
      "corresponding lum distance range: 0.01625587819507659 Mpc to 4408.59945542783 Mpc \n",
      "highest prob location is at RA = 94.5703125 deg and dec = -26.443334157130206 deg \n",
      "total No. of objects in desi data is 582090\n"
     ]
    }
   ],
   "source": [
    "data_min_z = np.min(data_sort_by_PGal[\"Z\"])\n",
    "data_max_z = np.max(data_sort_by_PGal[\"Z\"])\n",
    "print(f\"Localization area: {area_99.to_value(u.deg**2)*u.deg**2} \\nRedshift range in data: {data_min_z} to {data_max_z} \\ncorresponding lum distance range: {data_min_dist} to {data_max_dist} \\nhighest prob location is at RA = {ra.deg*u.deg} and dec = {dec.deg*u.deg} \\ntotal No. of objects in desi data is {len(data_sort_by_PGal)}\")\n"
   ]
  },
  {
   "cell_type": "code",
   "execution_count": 497,
   "metadata": {},
   "outputs": [],
   "source": [
    "data_sort_by_PGal[\"TARGET_RA\", \"TARGET_DEC\", \"SERSIC\", \"Z\", \"P_GAL\"][:N_galaxies].write(f'PGAL/PGAL_{superevent_name}.ecsv', delimiter=',', format='ascii', overwrite = True)"
   ]
  },
  {
   "cell_type": "code",
   "execution_count": 498,
   "metadata": {},
   "outputs": [],
   "source": [
    "# add timing data to table, "
   ]
  }
 ],
 "metadata": {
  "kernelspec": {
   "display_name": "Python (MambaTest)",
   "language": "python",
   "name": "mambatest"
  },
  "language_info": {
   "codemirror_mode": {
    "name": "ipython",
    "version": 3
   },
   "file_extension": ".py",
   "mimetype": "text/x-python",
   "name": "python",
   "nbconvert_exporter": "python",
   "pygments_lexer": "ipython3",
   "version": "3.10.10"
  }
 },
 "nbformat": 4,
 "nbformat_minor": 4
}
