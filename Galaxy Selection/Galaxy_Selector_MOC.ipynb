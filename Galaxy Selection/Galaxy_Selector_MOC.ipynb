{
 "cells": [
  {
   "cell_type": "markdown",
   "metadata": {
    "tags": []
   },
   "source": [
    "# Galaxy Selector MOC\n",
    "\n",
    "**Designed to work with Multi-Ordering-Sky-Maps and both burst (i.e. no distance) and normal LVK maps**\n",
    "\n",
    "\n",
    "\n",
    "Select the galaxies to observe by WWFI in this simple manner:\n",
    "- get the LIGO event data\n",
    "- read the LIGO event data into the notebook, extract some information\n",
    "- read the DESI database into the notebook, \"clean\" the data\n",
    "- get the 99% credible regions for the event, add them as a column to the data\n",
    "- only keep data within the 99% region\n",
    "- calculate all the luminosities (& more)\n",
    "- rank them by luminosity (for now just print the TARGETID), 3D/2D localization and with a luminosity-distance 2D dependant counterpart likelihood\n",
    "\n",
    "(some) Sources: \n",
    "- https://iopscience.iop.org/article/10.3847/0067-0049/226/1/10\n",
    "- https://emfollow.docs.ligo.org/userguide/tutorial/skymaps.html\n",
    "- https://emfollow.docs.ligo.org/userguide/tutorial/multiorder_skymaps.html\n",
    "- https://arxiv.org/pdf/1710.05452.pdf"
   ]
  },
  {
   "cell_type": "markdown",
   "metadata": {
    "tags": []
   },
   "source": [
    "## Import all libraries, load GW data and DESI data and extract basic info"
   ]
  },
  {
   "cell_type": "markdown",
   "metadata": {
    "tags": []
   },
   "source": [
    "### imports, GW data loading"
   ]
  },
  {
   "cell_type": "code",
   "execution_count": 1,
   "metadata": {},
   "outputs": [],
   "source": [
    "import numpy as np\n",
    "from scipy.stats import norm\n",
    "import scipy as sc\n",
    "from scipy.integrate import quad\n",
    "\n",
    "\n",
    "from astropy.io import fits, ascii\n",
    "from astropy.table import Table, hstack, QTable\n",
    "from astropy import table\n",
    "from astropy.coordinates import SkyCoord, EarthLocation, AltAz\n",
    "\n",
    "import astropy_healpix as ah\n",
    "\n",
    "\n",
    "import psycopg2\n",
    "\n",
    "from scipy.stats import norm\n",
    "\n",
    "from astropy.cosmology import FlatLambdaCDM\n",
    "from astropy.cosmology import Planck18, z_at_value\n",
    "from astropy.coordinates import Distance, SkyCoord\n",
    "from astropy import units as u\n",
    "\n",
    "import astropy.constants as asc\n",
    "\n",
    "import matplotlib.pyplot as plt\n",
    "\n",
    "import requests as rq\n",
    "\n",
    "import gasel as gs\n",
    "\n",
    "from datetime import datetime\n",
    "from datetime import timedelta\n",
    "from datetime import date\n",
    "from suntimes import SunTimes\n",
    "import pytz"
   ]
  },
  {
   "cell_type": "code",
   "execution_count": 2,
   "metadata": {},
   "outputs": [
    {
     "name": "stdout",
     "output_type": "stream",
     "text": [
      "(to get DESI data) you should run scp dgruen@perlmutter.nersc.gov:/pscratch/sd/j/jgassert/good_z_data.fits /project/ls-gruen/ligodesi/\n"
     ]
    }
   ],
   "source": [
    "# Get DESI data\n",
    "print(\"(to get DESI data) you should run scp dgruen@perlmutter.nersc.gov:/pscratch/sd/j/jgassert/good_z_data.fits /project/ls-gruen/ligodesi/\")\n",
    "\n",
    "# specify the superevent name:\n",
    "superevent_name = \"S230619bg\"\n",
    "\n",
    "# pipeline - bayestar is preferred if available, otherwise maybe use olib? bilby? cwb? whatever these mean\n",
    "pipeline_type = \"bayestar\"\n",
    "\n",
    "if pipeline_type == \"cwb\":\n",
    "    # bursts probably only for very nearby core-collapse or Andromeda events, maybe cut at 1Mpc or something of that order? -> check if there is a very nearby galaxy\n",
    "        # think about which pipeline detected it!\n",
    "    # or very massive bbh but then hope is that cbc would detect as well\n",
    "    \n",
    "    modeled_search = False\n",
    "else:\n",
    "    modeled_search = True\n",
    "\n",
    "# storage directory\n",
    "# storage = \"/project/ls-gruen/ligodesi/\"\n",
    "# storage_desi_data = storage\n",
    "storage = \"/global/homes/j/jgassert/ligo-desi-gw-follow-up/Galaxy Selection/Files/\" # Julius on NERSC\n",
    "storage_desi_data = \"/pscratch/sd/j/jgassert/\""
   ]
  },
  {
   "cell_type": "code",
   "execution_count": 5,
   "metadata": {},
   "outputs": [
    {
     "name": "stdout",
     "output_type": "stream",
     "text": [
      "no local skymap...\n",
      "...will download LIGO event file from superevent S230619bg, corresponding file URL is https://gracedb.ligo.org/api/superevents/S230619bg/files/bayestar.multiorder.fits,1 and save it in .../Files/\n",
      "HTTP status 200\n"
     ]
    }
   ],
   "source": [
    "path = storage+f\"{superevent_name}{pipeline_type}.multiorder.fits,1\" # 5min after alert this should be there\n",
    "\n",
    "try:\n",
    "    skymap = QTable.read(path)\n",
    "    print(\"read skymap from local file\")\n",
    "    \n",
    "except:\n",
    "    download_url = f\"https://gracedb.ligo.org/api/superevents/{superevent_name}/files/{pipeline_type}.multiorder.fits,1\"\n",
    "    save_path = storage+f\"{superevent_name}{pipeline_type}.multiorder.fits,1\"\n",
    "    print(\"no local skymap...\")\n",
    "    print(f\"...will download LIGO event file from superevent {superevent_name}, corresponding file URL is {download_url} and save it in .../Files/\")\n",
    "    \n",
    "    response = rq.get(download_url, allow_redirects = True)\n",
    "    print(\"HTTP status\",response.status_code)\n",
    "    if response.status_code == 200:\n",
    "        with open(save_path, 'wb') as f:\n",
    "            f.write(response.content)\n",
    "            \n",
    "        skymap = QTable.read(path)"
   ]
  },
  {
   "cell_type": "markdown",
   "metadata": {},
   "source": [
    "Specifiy the path where the data is located and then load the data (this loads everything, just have a look)"
   ]
  },
  {
   "cell_type": "code",
   "execution_count": 6,
   "metadata": {},
   "outputs": [
    {
     "data": {
      "text/html": [
       "<div><i>QTable length=5</i>\n",
       "<table id=\"table139775079251680\" class=\"table-striped table-bordered table-condensed\">\n",
       "<thead><tr><th>UNIQ</th><th>PROBDENSITY</th><th>DISTMU</th><th>DISTSIGMA</th><th>DISTNORM</th></tr></thead>\n",
       "<thead><tr><th></th><th>1 / sr</th><th>Mpc</th><th>Mpc</th><th>1 / Mpc2</th></tr></thead>\n",
       "<thead><tr><th>int64</th><th>float64</th><th>float64</th><th>float64</th><th>float64</th></tr></thead>\n",
       "<tr><td>1024</td><td>1.1848687265984231e-07</td><td>31.606211061353385</td><td>157.26184435555413</td><td>5.932038732751096e-05</td></tr>\n",
       "<tr><td>1025</td><td>1.2661026595950913e-07</td><td>-210.63809144678473</td><td>193.95076343968125</td><td>0.0004278928007618939</td></tr>\n",
       "<tr><td>1026</td><td>1.0662937832413237e-07</td><td>70.39447572563797</td><td>151.69033338438769</td><td>4.384969951055856e-05</td></tr>\n",
       "<tr><td>1027</td><td>1.1742445420135443e-07</td><td>-148.50859514919424</td><td>186.45424850201562</td><td>0.0002468273821382713</td></tr>\n",
       "<tr><td>1028</td><td>1.586867953201177e-07</td><td>-1022.2560517210268</td><td>282.9580490334632</td><td>0.7204030905016724</td></tr>\n",
       "</table></div>"
      ],
      "text/plain": [
       "<QTable length=5>\n",
       " UNIQ      PROBDENSITY       ...     DISTSIGMA             DISTNORM      \n",
       "              1 / sr         ...        Mpc                1 / Mpc2      \n",
       "int64        float64         ...      float64              float64       \n",
       "----- ---------------------- ... ------------------ ---------------------\n",
       " 1024 1.1848687265984231e-07 ... 157.26184435555413 5.932038732751096e-05\n",
       " 1025 1.2661026595950913e-07 ... 193.95076343968125 0.0004278928007618939\n",
       " 1026 1.0662937832413237e-07 ... 151.69033338438769 4.384969951055856e-05\n",
       " 1027 1.1742445420135443e-07 ... 186.45424850201562 0.0002468273821382713\n",
       " 1028  1.586867953201177e-07 ...  282.9580490334632    0.7204030905016724"
      ]
     },
     "execution_count": 6,
     "metadata": {},
     "output_type": "execute_result"
    }
   ],
   "source": [
    "skymap[:5]"
   ]
  },
  {
   "cell_type": "markdown",
   "metadata": {
    "tags": []
   },
   "source": [
    "### Get basic values from GW event\n",
    "\n",
    "We now extract some basic information  from the healpix data:\n",
    "- ipix_max: pixel with highest likelihood\n",
    "- npix: total number of pixels\n",
    "- ra, dec: ra and dec of the pixel with the highest likelihood\n",
    "\n",
    "Then we open the full fits file and extract some more basic info from the header:\n",
    "- dist_mean: mean distance of the GW event\n",
    "- dist_std: error of the distance"
   ]
  },
  {
   "cell_type": "code",
   "execution_count": 7,
   "metadata": {},
   "outputs": [
    {
     "name": "stdout",
     "output_type": "stream",
     "text": [
      "UNIQ ID of highest prob sky localization:  367551\n"
     ]
    }
   ],
   "source": [
    "# most probable sky location\n",
    "i = np.argmax(skymap[\"PROBDENSITY\"])\n",
    "uniq = skymap[i][\"UNIQ\"]\n",
    "print(\"UNIQ ID of highest prob sky localization: \", uniq)"
   ]
  },
  {
   "cell_type": "code",
   "execution_count": 8,
   "metadata": {},
   "outputs": [
    {
     "name": "stdout",
     "output_type": "stream",
     "text": [
      "Highest probability at (RA, dec):  114.91416309012875 46.3750811884355 with prob [1/deg^2] of:  0.0011024695368083816 and UNIQ ID:  367551\n"
     ]
    }
   ],
   "source": [
    "# calculate the most probable pixel, convert to RA and dec\n",
    "level_max, ipix_max = ah.uniq_to_level_ipix(uniq)\n",
    "nside = ah.level_to_nside(level_max)\n",
    "ra, dec = ah.healpix_to_lonlat(ipix_max, nside, order = \"nested\")\n",
    "print(\"Highest probability at (RA, dec): \", ra.deg, dec.deg, \"with prob [1/deg^2] of: \", skymap[i]['PROBDENSITY'].to_value(u.deg**-2), \"and UNIQ ID: \", skymap[i][\"UNIQ\"])"
   ]
  },
  {
   "cell_type": "markdown",
   "metadata": {},
   "source": [
    "Now open the fits file and read basics info from the header"
   ]
  },
  {
   "cell_type": "code",
   "execution_count": 9,
   "metadata": {},
   "outputs": [
    {
     "name": "stdout",
     "output_type": "stream",
     "text": [
      "The dist_mean and dist_std values:  174.9921172475915 Mpc 56.39367956242045 Mpc\n",
      "This corresponds to the most likely z 0.03838040911111858 redshift and its error 0.012606192749614376 redshift\n"
     ]
    }
   ],
   "source": [
    "if modeled_search:\n",
    "    fits_gw = fits.open(path)\n",
    "    header = fits_gw[1].header\n",
    "    dist_mean = header[\"DISTMEAN\"]\n",
    "    dist_std = header[\"DISTSTD\"]\n",
    "    print(\"The dist_mean and dist_std values: \", dist_mean*u.Mpc, dist_std*u.Mpc)\n",
    "    most_likely_z = z_at_value(Planck18.luminosity_distance, dist_mean*u.Mpc, zmax = 5)\n",
    "    most_likely_z_std = z_at_value(Planck18.luminosity_distance, dist_std*u.Mpc, zmax = 5)\n",
    "    print(f\"This corresponds to the most likely z {most_likely_z} and its error {most_likely_z_std}\")\n",
    "else:\n",
    "    print(\"As this is an unmodeled search there is no distance available\")"
   ]
  },
  {
   "cell_type": "markdown",
   "metadata": {
    "tags": []
   },
   "source": [
    "### Get DESI data\n",
    "\n",
    "Load the full daily data from the file, which only includes good redshift objects"
   ]
  },
  {
   "cell_type": "code",
   "execution_count": 106,
   "metadata": {},
   "outputs": [],
   "source": [
    "follow_up_others = True\n",
    "\n",
    "follow_up_their_z = False"
   ]
  },
  {
   "cell_type": "code",
   "execution_count": 184,
   "metadata": {},
   "outputs": [],
   "source": [
    "if follow_up_others:\n",
    "    center_ra = 109.25\n",
    "    center_dec = 63.68\n",
    "    radius = 1.227\n",
    "    \n",
    "    data = gs.db_doall(center_ra, center_dec, radius)\n",
    "    \n",
    "    if follow_up_their_z:\n",
    "        z_others = 0\n",
    "        z_others_std = 0.4\n",
    "        sigma_accuracy = 1\n",
    "    \n",
    "        ii = data[\"Z\"]-sigma_accuracy*data[\"ZERR\"]<z_others+sigma_accuracy*z_others_std\n",
    "        ii &= data[\"Z\"]+sigma_accuracy*data[\"ZERR\"]>z_others-sigma_accuracy*z_others_std\n",
    "    \n",
    "        data = data[ii]\n",
    "    \n",
    "    \n",
    "else:\n",
    "    data = Table.read(storage_desi_data+\"good_z_data.fits\")"
   ]
  },
  {
   "cell_type": "code",
   "execution_count": 185,
   "metadata": {},
   "outputs": [
    {
     "data": {
      "text/html": [
       "<div><i>Table length=5</i>\n",
       "<table id=\"table139775019219552\" class=\"table-striped table-bordered table-condensed\">\n",
       "<thead><tr><th>TARGETID</th><th>TARGET_RA</th><th>TARGET_DEC</th><th>LASTNIGHT</th><th>Z</th><th>ZERR</th><th>ZWARN</th><th>FLUX_G</th><th>FLUX_R</th><th>FLUX_Z</th><th>SPECTYPE</th><th>BGS_TARGET</th><th>EBV</th><th>SERSIC</th></tr></thead>\n",
       "<thead><tr><th>int64</th><th>float64</th><th>float64</th><th>int64</th><th>float64</th><th>float64</th><th>int64</th><th>float64</th><th>float64</th><th>float64</th><th>str6</th><th>int64</th><th>float64</th><th>float64</th></tr></thead>\n",
       "<tr><td>2390768907976704</td><td>108.117557695096</td><td>63.3898431837045</td><td>20221205</td><td>0.040290694709979</td><td>1.41089692161923e-05</td><td>0</td><td>0.0</td><td>0.0</td><td>0.0</td><td>GALAXY</td><td>0</td><td>0.0678029283881187</td><td>0.0</td></tr>\n",
       "<tr><td>2390768933142528</td><td>111.989797314532</td><td>63.6146358407325</td><td>20211117</td><td>0.0934443871117946</td><td>1.90568192578149e-05</td><td>0</td><td>0.0</td><td>0.0</td><td>0.0</td><td>GALAXY</td><td>0</td><td>0.0</td><td>0.0</td></tr>\n",
       "<tr><td>2390774276685824</td><td>106.902575002915</td><td>64.1112227574243</td><td>20221205</td><td>0.0660483607657598</td><td>3.56884559173764e-06</td><td>0</td><td>0.0</td><td>0.0</td><td>0.0</td><td>GALAXY</td><td>0</td><td>0.0419820547103882</td><td>0.0</td></tr>\n",
       "<tr><td>2390776952651779</td><td>108.902911335767</td><td>64.3218075418946</td><td>20221205</td><td>0.0369128515434421</td><td>2.16750059284245e-05</td><td>0</td><td>0.0</td><td>0.0</td><td>0.0</td><td>GALAXY</td><td>0</td><td>0.0644607543945312</td><td>0.0</td></tr>\n",
       "<tr><td>2390779574091786</td><td>107.213934346044</td><td>64.4718658628562</td><td>20221205</td><td>0.0368722464794676</td><td>2.59529363438167e-05</td><td>0</td><td>0.0</td><td>0.0</td><td>0.0</td><td>GALAXY</td><td>0</td><td>0.0424562469124794</td><td>0.0</td></tr>\n",
       "</table></div>"
      ],
      "text/plain": [
       "<Table length=5>\n",
       "    TARGETID        TARGET_RA     ...        EBV          SERSIC\n",
       "     int64           float64      ...      float64       float64\n",
       "---------------- ---------------- ... ------------------ -------\n",
       "2390768907976704 108.117557695096 ... 0.0678029283881187     0.0\n",
       "2390768933142528 111.989797314532 ...                0.0     0.0\n",
       "2390774276685824 106.902575002915 ... 0.0419820547103882     0.0\n",
       "2390776952651779 108.902911335767 ... 0.0644607543945312     0.0\n",
       "2390779574091786 107.213934346044 ... 0.0424562469124794     0.0"
      ]
     },
     "execution_count": 185,
     "metadata": {},
     "output_type": "execute_result"
    }
   ],
   "source": [
    "data[:5]"
   ]
  },
  {
   "cell_type": "markdown",
   "metadata": {
    "tags": []
   },
   "source": [
    "## Do all the calculations, selections,...\n",
    "\n",
    "- turn the daily DESI data into a Table\n",
    "- do some basic data selection stuff: only keep good + positive redshifts, only positive values of r-band flux and eliminate duplicates (right now simply takes the first entry)\n",
    "- add the ipix (healpix) pixel value for each target\n",
    "- calculate the probability for each target\n",
    "- add these values to the Table (\"PROB\"), select only targets within the 99% credible region (i.e. with a certainty of 99% the GW event is inside this region)\n",
    "- calculate the distances and its errors from the redshift, add to the data table\n",
    "- calculate the 3D probability just like here: https://iopscience.iop.org/article/10.3847/0067-0049/226/1/10 (§4) and add these values to the table\n",
    "- sort the table by its 3D probability (descending)\n",
    "- calculate absolute and apparent magnitude, luminosity and add to table\n",
    "\n",
    "The final step is to include the calculation of the most likely host galaxy from https://arxiv.org/pdf/1710.05452.pdf (GW170817); these values are then also added to the table as \"P_GAL\""
   ]
  },
  {
   "cell_type": "code",
   "execution_count": 186,
   "metadata": {},
   "outputs": [
    {
     "data": {
      "text/html": [
       "<div><i>Table length=5</i>\n",
       "<table id=\"table139776205342752\" class=\"table-striped table-bordered table-condensed\">\n",
       "<thead><tr><th>TARGETID</th><th>TARGET_RA</th><th>TARGET_DEC</th><th>LASTNIGHT</th><th>Z</th><th>ZERR</th><th>ZWARN</th><th>FLUX_G</th><th>FLUX_R</th><th>FLUX_Z</th><th>SPECTYPE</th><th>BGS_TARGET</th><th>EBV</th><th>SERSIC</th></tr></thead>\n",
       "<thead><tr><th>int64</th><th>float64</th><th>float64</th><th>int64</th><th>float64</th><th>float64</th><th>int64</th><th>float64</th><th>float64</th><th>float64</th><th>str6</th><th>int64</th><th>float64</th><th>float64</th></tr></thead>\n",
       "<tr><td>2390768907976704</td><td>108.117557695096</td><td>63.3898431837045</td><td>20221205</td><td>0.040290694709979</td><td>1.41089692161923e-05</td><td>0</td><td>0.0</td><td>0.0</td><td>0.0</td><td>GALAXY</td><td>0</td><td>0.0678029283881187</td><td>0.0</td></tr>\n",
       "<tr><td>2390768933142528</td><td>111.989797314532</td><td>63.6146358407325</td><td>20211117</td><td>0.0934443871117946</td><td>1.90568192578149e-05</td><td>0</td><td>0.0</td><td>0.0</td><td>0.0</td><td>GALAXY</td><td>0</td><td>0.0</td><td>0.0</td></tr>\n",
       "<tr><td>2390774276685824</td><td>106.902575002915</td><td>64.1112227574243</td><td>20221205</td><td>0.0660483607657598</td><td>3.56884559173764e-06</td><td>0</td><td>0.0</td><td>0.0</td><td>0.0</td><td>GALAXY</td><td>0</td><td>0.0419820547103882</td><td>0.0</td></tr>\n",
       "<tr><td>2390776952651779</td><td>108.902911335767</td><td>64.3218075418946</td><td>20221205</td><td>0.0369128515434421</td><td>2.16750059284245e-05</td><td>0</td><td>0.0</td><td>0.0</td><td>0.0</td><td>GALAXY</td><td>0</td><td>0.0644607543945312</td><td>0.0</td></tr>\n",
       "<tr><td>2390779574091786</td><td>107.213934346044</td><td>64.4718658628562</td><td>20221205</td><td>0.0368722464794676</td><td>2.59529363438167e-05</td><td>0</td><td>0.0</td><td>0.0</td><td>0.0</td><td>GALAXY</td><td>0</td><td>0.0424562469124794</td><td>0.0</td></tr>\n",
       "</table></div>"
      ],
      "text/plain": [
       "<Table length=5>\n",
       "    TARGETID        TARGET_RA     ...        EBV          SERSIC\n",
       "     int64           float64      ...      float64       float64\n",
       "---------------- ---------------- ... ------------------ -------\n",
       "2390768907976704 108.117557695096 ... 0.0678029283881187     0.0\n",
       "2390768933142528 111.989797314532 ...                0.0     0.0\n",
       "2390774276685824 106.902575002915 ... 0.0419820547103882     0.0\n",
       "2390776952651779 108.902911335767 ... 0.0644607543945312     0.0\n",
       "2390779574091786 107.213934346044 ... 0.0424562469124794     0.0"
      ]
     },
     "execution_count": 186,
     "metadata": {},
     "output_type": "execute_result"
    }
   ],
   "source": [
    "data[:5]"
   ]
  },
  {
   "cell_type": "markdown",
   "metadata": {
    "tags": []
   },
   "source": [
    "### data clean up"
   ]
  },
  {
   "cell_type": "code",
   "execution_count": 187,
   "metadata": {},
   "outputs": [],
   "source": [
    "#data = data[data[\"Z\"]> 0] # this migh have 2 reasons\n",
    "#data = data[data[\"ZWARN\"] == 0]"
   ]
  },
  {
   "cell_type": "code",
   "execution_count": 188,
   "metadata": {},
   "outputs": [],
   "source": [
    "#data = data[data['FLUX_Z']>0]\n",
    "# data = table.unique(data, keys = \"TARGETID\")"
   ]
  },
  {
   "cell_type": "code",
   "execution_count": 189,
   "metadata": {},
   "outputs": [],
   "source": [
    "data = data[data[\"TARGETID\"]>0]"
   ]
  },
  {
   "cell_type": "code",
   "execution_count": 190,
   "metadata": {},
   "outputs": [
    {
     "name": "stdout",
     "output_type": "stream",
     "text": [
      "We have 5694 objects in the full catalog\n"
     ]
    }
   ],
   "source": [
    "print(f\"We have {len(data)} objects in the full catalog\")"
   ]
  },
  {
   "cell_type": "markdown",
   "metadata": {},
   "source": [
    "We should also get rid of stars, since they wont be the host of a GW event"
   ]
  },
  {
   "cell_type": "code",
   "execution_count": 191,
   "metadata": {},
   "outputs": [],
   "source": [
    "data = data[data[\"SPECTYPE\"] != \"STAR\"]"
   ]
  },
  {
   "cell_type": "markdown",
   "metadata": {
    "jp-MarkdownHeadingCollapsed": true,
    "tags": []
   },
   "source": [
    "### Calculate the healpix id for every object in the catalog and its probability; append this data to the Table"
   ]
  },
  {
   "cell_type": "code",
   "execution_count": 192,
   "metadata": {},
   "outputs": [],
   "source": [
    "max_level = 29 # highest possible HEALPix resolution that can be represented in a 64-bit signed integer\n",
    "max_nside = ah.level_to_nside(max_level)\n",
    "level, ipix = ah.uniq_to_level_ipix(skymap[\"UNIQ\"])\n",
    "\n",
    "index = ipix*(2**(max_level-level))**2\n",
    "\n",
    "sorter = np.argsort(index)\n",
    "\n",
    "# this is the NESTED pixel index of the target sky location, NOT THE UNIQ ID\n",
    "match_ipix = ah.lonlat_to_healpix(data[\"TARGET_RA\"]*u.deg, data[\"TARGET_DEC\"]*u.deg, max_nside, order='nested')\n",
    "\n",
    "# here we get the pixel index (i.e. where the entry is in the table, also NOT THE UNIQ ID) of each target\n",
    "sorter_i = sorter[np.searchsorted(index, match_ipix, side='right', sorter=sorter) - 1]\n",
    "probdensity = skymap[sorter_i]['PROBDENSITY'].to_value(u.deg**-2)\n",
    "\n",
    "# now we calculate the UNIQ ID for all our targets:\n",
    "\n",
    "uniq = skymap[\"UNIQ\"][sorter_i]\n",
    "#to make things easier in future, I will now also append the UNIQ pixels DISTMU, DISTSIGMA and DISTNORM values. However, be careful, since these DO NOT CORRESPOND THE TARGETS IN DESI DIRECTLY!\n",
    "\n",
    "if modeled_search:\n",
    "    distmu = skymap[sorter_i][\"DISTMU\"]\n",
    "    distsigma = skymap[sorter_i][\"DISTSIGMA\"]\n",
    "    distnorm = skymap[sorter_i][\"DISTNORM\"]\n"
   ]
  },
  {
   "cell_type": "code",
   "execution_count": 193,
   "metadata": {},
   "outputs": [],
   "source": [
    "# len(UNIQ), len(data), len(skymap)"
   ]
  },
  {
   "cell_type": "code",
   "execution_count": 194,
   "metadata": {},
   "outputs": [],
   "source": [
    "#data = data.keep_columns([\"TARGETID\", \"TARGET_RA\", \"TARGET_DEC\", \"TILEID\", \"NIGHT\", \"Z\", \"ZERR\", \"ZWARN\", \"DELTACHI2\", \"FLUX_Z\", \"BGS_TARGET\", \"EBV\", \"SERSIC\", \"MWS_TARGET\", \"FILENAME\"])\n",
    "                          "
   ]
  },
  {
   "cell_type": "code",
   "execution_count": 195,
   "metadata": {},
   "outputs": [],
   "source": [
    "if modeled_search:\n",
    "    data = hstack([data, Table({\"UNIQ\": uniq}), Table({\"PROBDENSITY\": probdensity}), Table({\"DISTMU\": distmu}), Table({\"DISTSIGMA\": distsigma}), Table({\"DISTNORM\": distnorm})])\n",
    "else: \n",
    "    data = hstack([data, Table({\"UNIQ\": uniq}), Table({\"PROBDENSITY\": probdensity})])\n",
    "    print(f\"The table will not contain any distance info since there is none available\")"
   ]
  },
  {
   "cell_type": "code",
   "execution_count": 196,
   "metadata": {},
   "outputs": [
    {
     "data": {
      "text/html": [
       "<div><i>Table length=5</i>\n",
       "<table id=\"table139775067900752\" class=\"table-striped table-bordered table-condensed\">\n",
       "<thead><tr><th>TARGETID</th><th>TARGET_RA</th><th>TARGET_DEC</th><th>LASTNIGHT</th><th>Z</th><th>ZERR</th><th>ZWARN</th><th>FLUX_G</th><th>FLUX_R</th><th>FLUX_Z</th><th>SPECTYPE</th><th>BGS_TARGET</th><th>EBV</th><th>SERSIC</th><th>UNIQ</th><th>PROBDENSITY</th><th>DISTMU</th><th>DISTSIGMA</th><th>DISTNORM</th></tr></thead>\n",
       "<thead><tr><th></th><th></th><th></th><th></th><th></th><th></th><th></th><th></th><th></th><th></th><th></th><th></th><th></th><th></th><th></th><th></th><th>Mpc</th><th>Mpc</th><th>1 / Mpc2</th></tr></thead>\n",
       "<thead><tr><th>int64</th><th>float64</th><th>float64</th><th>int64</th><th>float64</th><th>float64</th><th>int64</th><th>float64</th><th>float64</th><th>float64</th><th>str6</th><th>int64</th><th>float64</th><th>float64</th><th>int64</th><th>float64</th><th>float64</th><th>float64</th><th>float64</th></tr></thead>\n",
       "<tr><td>2390768907976704</td><td>108.117557695096</td><td>63.3898431837045</td><td>20221205</td><td>0.040290694709979</td><td>1.41089692161923e-05</td><td>0</td><td>0.0</td><td>0.0</td><td>0.0</td><td>GALAXY</td><td>0</td><td>0.0678029283881187</td><td>0.0</td><td>96790</td><td>0.0006250125158475294</td><td>149.3033049375056</td><td>57.516043844177965</td><td>3.906753146601501e-05</td></tr>\n",
       "<tr><td>2390768933142528</td><td>111.989797314532</td><td>63.6146358407325</td><td>20211117</td><td>0.0934443871117946</td><td>1.90568192578149e-05</td><td>0</td><td>0.0</td><td>0.0</td><td>0.0</td><td>GALAXY</td><td>0</td><td>0.0</td><td>0.0</td><td>385959</td><td>0.0007781040677504851</td><td>151.48402115621033</td><td>57.97892255525045</td><td>3.801383409175562e-05</td></tr>\n",
       "<tr><td>2390774276685824</td><td>106.902575002915</td><td>64.1112227574243</td><td>20221205</td><td>0.0660483607657598</td><td>3.56884559173764e-06</td><td>0</td><td>0.0</td><td>0.0</td><td>0.0</td><td>GALAXY</td><td>0</td><td>0.0419820547103882</td><td>0.0</td><td>96796</td><td>0.0005788118273295831</td><td>148.72895335352928</td><td>57.4337816536212</td><td>3.9345266769761104e-05</td></tr>\n",
       "<tr><td>2390776952651779</td><td>108.902911335767</td><td>64.3218075418946</td><td>20221205</td><td>0.0369128515434421</td><td>2.16750059284245e-05</td><td>0</td><td>0.0</td><td>0.0</td><td>0.0</td><td>GALAXY</td><td>0</td><td>0.0644607543945312</td><td>0.0</td><td>96834</td><td>0.0006475363119740661</td><td>149.35125624822575</td><td>57.55771747081563</td><td>3.903839842271462e-05</td></tr>\n",
       "<tr><td>2390779574091786</td><td>107.213934346044</td><td>64.4718658628562</td><td>20221205</td><td>0.0368722464794676</td><td>2.59529363438167e-05</td><td>0</td><td>0.0</td><td>0.0</td><td>0.0</td><td>GALAXY</td><td>0</td><td>0.0424562469124794</td><td>0.0</td><td>96797</td><td>0.0005907768266173125</td><td>148.75350937953618</td><td>57.453699574300764</td><td>3.9330431864940366e-05</td></tr>\n",
       "</table></div>"
      ],
      "text/plain": [
       "<Table length=5>\n",
       "    TARGETID        TARGET_RA     ...     DISTSIGMA             DISTNORM       \n",
       "                                  ...        Mpc                1 / Mpc2       \n",
       "     int64           float64      ...      float64              float64        \n",
       "---------------- ---------------- ... ------------------ ----------------------\n",
       "2390768907976704 108.117557695096 ... 57.516043844177965  3.906753146601501e-05\n",
       "2390768933142528 111.989797314532 ...  57.97892255525045  3.801383409175562e-05\n",
       "2390774276685824 106.902575002915 ...   57.4337816536212 3.9345266769761104e-05\n",
       "2390776952651779 108.902911335767 ...  57.55771747081563  3.903839842271462e-05\n",
       "2390779574091786 107.213934346044 ... 57.453699574300764 3.9330431864940366e-05"
      ]
     },
     "execution_count": 196,
     "metadata": {},
     "output_type": "execute_result"
    }
   ],
   "source": [
    "data[:5]"
   ]
  },
  {
   "cell_type": "code",
   "execution_count": 197,
   "metadata": {},
   "outputs": [
    {
     "name": "stdout",
     "output_type": "stream",
     "text": [
      "The highest and lowest probability values in our catalog are: 0.0007976139821086394 and 0.0005333777673477411\n"
     ]
    }
   ],
   "source": [
    "print(f\"The highest and lowest probability values in our catalog are: {np.max(probdensity)} and {np.min(probdensity)}\")"
   ]
  },
  {
   "cell_type": "markdown",
   "metadata": {
    "jp-MarkdownHeadingCollapsed": true,
    "tags": []
   },
   "source": [
    "### Sort the skymap table and get 99% credible region"
   ]
  },
  {
   "cell_type": "code",
   "execution_count": 198,
   "metadata": {},
   "outputs": [],
   "source": [
    "# copy the table\n",
    "skymap_sort = Table(skymap, copy = True)"
   ]
  },
  {
   "cell_type": "code",
   "execution_count": 199,
   "metadata": {},
   "outputs": [],
   "source": [
    "# check whether copy worked:\n",
    "# skymap_sort, skymap\n",
    "# np.max(skymap[\"UNIQ\"])"
   ]
  },
  {
   "cell_type": "code",
   "execution_count": 200,
   "metadata": {},
   "outputs": [],
   "source": [
    "# now sort the skymap by its probability (descending)\n",
    "skymap_sort.sort('PROBDENSITY', reverse=True)"
   ]
  },
  {
   "cell_type": "code",
   "execution_count": 201,
   "metadata": {},
   "outputs": [
    {
     "data": {
      "text/html": [
       "<div><i>Table length=5</i>\n",
       "<table id=\"table139775067907328\" class=\"table-striped table-bordered table-condensed\">\n",
       "<thead><tr><th>UNIQ</th><th>PROBDENSITY</th><th>DISTMU</th><th>DISTSIGMA</th><th>DISTNORM</th></tr></thead>\n",
       "<thead><tr><th></th><th>1 / sr</th><th>Mpc</th><th>Mpc</th><th>1 / Mpc2</th></tr></thead>\n",
       "<thead><tr><th>int64</th><th>float64</th><th>float64</th><th>float64</th><th>float64</th></tr></thead>\n",
       "<tr><td>367551</td><td>3.6191939961290607</td><td>153.67349325223066</td><td>57.556566405347546</td><td>3.7138720144593e-05</td></tr>\n",
       "<tr><td>367595</td><td>3.618619872501153</td><td>154.0953614985823</td><td>57.71548913236724</td><td>3.6935504629802136e-05</td></tr>\n",
       "<tr><td>367547</td><td>3.6168927557782644</td><td>153.24215649463997</td><td>57.39535664340765</td><td>3.734803144063708e-05</td></tr>\n",
       "<tr><td>367594</td><td>3.616534301359978</td><td>154.03607733098687</td><td>57.69556994020809</td><td>3.6963582046791717e-05</td></tr>\n",
       "<tr><td>373061</td><td>3.6157410492109827</td><td>154.27343879979674</td><td>57.78133019061871</td><td>3.6850418724867694e-05</td></tr>\n",
       "</table></div>"
      ],
      "text/plain": [
       "<Table length=5>\n",
       " UNIQ     PROBDENSITY     ...     DISTSIGMA             DISTNORM       \n",
       "             1 / sr       ...        Mpc                1 / Mpc2       \n",
       "int64       float64       ...      float64              float64        \n",
       "------ ------------------ ... ------------------ ----------------------\n",
       "367551 3.6191939961290607 ... 57.556566405347546    3.7138720144593e-05\n",
       "367595  3.618619872501153 ...  57.71548913236724 3.6935504629802136e-05\n",
       "367547 3.6168927557782644 ...  57.39535664340765  3.734803144063708e-05\n",
       "367594  3.616534301359978 ...  57.69556994020809 3.6963582046791717e-05\n",
       "373061 3.6157410492109827 ...  57.78133019061871 3.6850418724867694e-05"
      ]
     },
     "execution_count": 201,
     "metadata": {},
     "output_type": "execute_result"
    }
   ],
   "source": [
    "# this shows the first entries sorted be their probability\n",
    "skymap_sort[:5]"
   ]
  },
  {
   "cell_type": "code",
   "execution_count": 202,
   "metadata": {},
   "outputs": [
    {
     "name": "stdout",
     "output_type": "stream",
     "text": [
      "The 99% search area is 10343.45488358242°large\n"
     ]
    }
   ],
   "source": [
    "# now get 99% credible region area\n",
    "\n",
    "level, ipix = ah.uniq_to_level_ipix(skymap_sort['UNIQ'])\n",
    "pixel_area = ah.nside_to_pixel_area(ah.level_to_nside(level)) # this is the area each pixel contains\n",
    "\n",
    "# calculate the probability per pixel (careful: since the pixels differ in size, this is not neceseraliy a useful quantity\n",
    "prob = pixel_area * skymap_sort['PROBDENSITY']\n",
    "\n",
    "# calc cumsum of probabilities and get index of pixel that sums up to 0.99\n",
    "cumprob = np.cumsum(prob)\n",
    "i = cumprob.searchsorted(0.99)\n",
    "\n",
    "# print area\n",
    "area_99 = pixel_area[:i].sum()\n",
    "area_99_deg = area_99.to_value(u.deg**2)\n",
    "print(f\"The 99% search area is {area_99_deg}°large\")"
   ]
  },
  {
   "cell_type": "markdown",
   "metadata": {
    "jp-MarkdownHeadingCollapsed": true,
    "tags": []
   },
   "source": [
    "### can be deleted, just tried things out"
   ]
  },
  {
   "cell_type": "code",
   "execution_count": 203,
   "metadata": {},
   "outputs": [],
   "source": [
    "skymap_sort = hstack([skymap_sort, Table({\"PROB\": prob})])"
   ]
  },
  {
   "cell_type": "code",
   "execution_count": 204,
   "metadata": {},
   "outputs": [
    {
     "data": {
      "text/latex": [
       "$0.00014054955 \\; \\mathrm{}$"
      ],
      "text/plain": [
       "<Quantity 0.00014055>"
      ]
     },
     "execution_count": 204,
     "metadata": {},
     "output_type": "execute_result"
    }
   ],
   "source": [
    "np.max(prob)"
   ]
  },
  {
   "cell_type": "code",
   "execution_count": 205,
   "metadata": {},
   "outputs": [
    {
     "data": {
      "text/html": [
       "<div><i>Table length=5</i>\n",
       "<table id=\"table139775021961456\" class=\"table-striped table-bordered table-condensed\">\n",
       "<thead><tr><th>UNIQ</th><th>PROBDENSITY</th><th>DISTMU</th><th>DISTSIGMA</th><th>DISTNORM</th><th>PROB</th></tr></thead>\n",
       "<thead><tr><th></th><th>1 / sr</th><th>Mpc</th><th>Mpc</th><th>1 / Mpc2</th><th></th></tr></thead>\n",
       "<thead><tr><th>int64</th><th>float64</th><th>float64</th><th>float64</th><th>float64</th><th>float64</th></tr></thead>\n",
       "<tr><td>367551</td><td>3.6191939961290607</td><td>153.67349325223066</td><td>57.556566405347546</td><td>3.7138720144593e-05</td><td>5.783097976763582e-05</td></tr>\n",
       "<tr><td>367595</td><td>3.618619872501153</td><td>154.0953614985823</td><td>57.71548913236724</td><td>3.6935504629802136e-05</td><td>5.782180586539538e-05</td></tr>\n",
       "<tr><td>367547</td><td>3.6168927557782644</td><td>153.24215649463997</td><td>57.39535664340765</td><td>3.734803144063708e-05</td><td>5.779420832506885e-05</td></tr>\n",
       "<tr><td>367594</td><td>3.616534301359978</td><td>154.03607733098687</td><td>57.69556994020809</td><td>3.6963582046791717e-05</td><td>5.7788480593912766e-05</td></tr>\n",
       "<tr><td>373061</td><td>3.6157410492109827</td><td>154.27343879979674</td><td>57.78133019061871</td><td>3.6850418724867694e-05</td><td>5.777580524436581e-05</td></tr>\n",
       "</table></div>"
      ],
      "text/plain": [
       "<Table length=5>\n",
       " UNIQ     PROBDENSITY     ...        DISTNORM                 PROB         \n",
       "             1 / sr       ...        1 / Mpc2                              \n",
       "int64       float64       ...        float64                float64        \n",
       "------ ------------------ ... ---------------------- ----------------------\n",
       "367551 3.6191939961290607 ...    3.7138720144593e-05  5.783097976763582e-05\n",
       "367595  3.618619872501153 ... 3.6935504629802136e-05  5.782180586539538e-05\n",
       "367547 3.6168927557782644 ...  3.734803144063708e-05  5.779420832506885e-05\n",
       "367594  3.616534301359978 ... 3.6963582046791717e-05 5.7788480593912766e-05\n",
       "373061 3.6157410492109827 ... 3.6850418724867694e-05  5.777580524436581e-05"
      ]
     },
     "execution_count": 205,
     "metadata": {},
     "output_type": "execute_result"
    }
   ],
   "source": [
    "skymap_sort[:5]"
   ]
  },
  {
   "cell_type": "code",
   "execution_count": 206,
   "metadata": {},
   "outputs": [],
   "source": [
    "skymap_prob = Table(skymap_sort, copy = True)"
   ]
  },
  {
   "cell_type": "code",
   "execution_count": 207,
   "metadata": {},
   "outputs": [],
   "source": [
    "skymap_prob.sort(\"PROB\", reverse = True)"
   ]
  },
  {
   "cell_type": "code",
   "execution_count": 208,
   "metadata": {},
   "outputs": [
    {
     "data": {
      "text/html": [
       "<div><i>Table length=5</i>\n",
       "<table id=\"table139775067909056\" class=\"table-striped table-bordered table-condensed\">\n",
       "<thead><tr><th>UNIQ</th><th>PROBDENSITY</th><th>DISTMU</th><th>DISTSIGMA</th><th>DISTNORM</th><th>PROB</th></tr></thead>\n",
       "<thead><tr><th></th><th>1 / sr</th><th>Mpc</th><th>Mpc</th><th>1 / Mpc2</th><th></th></tr></thead>\n",
       "<thead><tr><th>int64</th><th>float64</th><th>float64</th><th>float64</th><th>float64</th><th>float64</th></tr></thead>\n",
       "<tr><td>97050</td><td>2.1989773992715316</td><td>147.76688856287637</td><td>57.37270689511823</td><td>3.9803179208849764e-05</td><td>0.00014054954514488592</td></tr>\n",
       "<tr><td>23539</td><td>0.5497211637150999</td><td>142.82143317866758</td><td>56.69579051758552</td><td>4.235716243793389e-05</td><td>0.00014054361730551673</td></tr>\n",
       "<tr><td>90209</td><td>2.1988311850416404</td><td>142.93113725805495</td><td>52.85200275871076</td><td>4.306450317692669e-05</td><td>0.00014054019973573723</td></tr>\n",
       "<tr><td>90846</td><td>2.1986813615785503</td><td>136.68002397701574</td><td>51.866596314038766</td><td>4.6795590497600065e-05</td><td>0.00014053062363932243</td></tr>\n",
       "<tr><td>12667</td><td>0.13738820136913166</td><td>76.06707060319594</td><td>53.42142148393927</td><td>0.00011680936842477672</td><td>0.00014050057425494113</td></tr>\n",
       "</table></div>"
      ],
      "text/plain": [
       "<Table length=5>\n",
       " UNIQ     PROBDENSITY     ...        DISTNORM                 PROB         \n",
       "             1 / sr       ...        1 / Mpc2                              \n",
       "int64       float64       ...        float64                float64        \n",
       "----- ------------------- ... ---------------------- ----------------------\n",
       "97050  2.1989773992715316 ... 3.9803179208849764e-05 0.00014054954514488592\n",
       "23539  0.5497211637150999 ...  4.235716243793389e-05 0.00014054361730551673\n",
       "90209  2.1988311850416404 ...  4.306450317692669e-05 0.00014054019973573723\n",
       "90846  2.1986813615785503 ... 4.6795590497600065e-05 0.00014053062363932243\n",
       "12667 0.13738820136913166 ... 0.00011680936842477672 0.00014050057425494113"
      ]
     },
     "execution_count": 208,
     "metadata": {},
     "output_type": "execute_result"
    }
   ],
   "source": [
    "skymap_prob[:5]"
   ]
  },
  {
   "cell_type": "markdown",
   "metadata": {
    "jp-MarkdownHeadingCollapsed": true,
    "tags": []
   },
   "source": [
    "### Compare Tables, only leave 99% credible region in DESI data table\n",
    "\n",
    "Now we can get a Table that only contains the 99% credible region. From there we only leave the matching objects in the DESI data"
   ]
  },
  {
   "cell_type": "code",
   "execution_count": 209,
   "metadata": {},
   "outputs": [],
   "source": [
    "# we simply select only the entries that are within the 99% credible region\n",
    "skymap_99 = skymap_sort[:i]"
   ]
  },
  {
   "cell_type": "code",
   "execution_count": 210,
   "metadata": {},
   "outputs": [
    {
     "name": "stdout",
     "output_type": "stream",
     "text": [
      "This is the number of UNIQ ID of objects which should lie within the 99% credible region (NOT THE NUMBER OF OBJECTS, as there can be multiple objects per UNIQ ID): 74\n"
     ]
    }
   ],
   "source": [
    "print(\"This is the number of UNIQ ID of objects which should lie within the 99% credible region (NOT THE NUMBER OF OBJECTS, as there can be multiple objects per UNIQ ID):\", len(np.intersect1d(skymap_99[\"UNIQ\"], data[\"UNIQ\"])))"
   ]
  },
  {
   "cell_type": "code",
   "execution_count": 211,
   "metadata": {},
   "outputs": [],
   "source": [
    "mask = np.in1d(data[\"UNIQ\"], skymap_99[\"UNIQ\"])\n",
    "data_99 = data[mask]"
   ]
  },
  {
   "cell_type": "code",
   "execution_count": 212,
   "metadata": {},
   "outputs": [
    {
     "name": "stdout",
     "output_type": "stream",
     "text": [
      "We now have 4962 objects in the 99% credible region\n",
      "Check if the region from where the galaxies have been selected makes any sense (RA; DEC):  106.49777700661 112.009189774526 62.4584945523612 64.8976280734181\n",
      "We can also check whether we have at least one galaxy in the UNIQ pixel with the highest probability from LIGO...\n",
      "This is False\n"
     ]
    }
   ],
   "source": [
    "print(f\"We now have {len(data_99)} objects in the 99% credible region\")\n",
    "print(\"Check if the region from where the galaxies have been selected makes any sense (RA; DEC): \", np.min(data_99[\"TARGET_RA\"]), np.max(data_99[\"TARGET_RA\"]), np.min(data_99[\"TARGET_DEC\"]), np.max(data_99[\"TARGET_DEC\"]))\n",
    "\n",
    "max_probdens_in_desi = np.max(data_99[\"PROBDENSITY\"])\n",
    "max_probdens_in_ligo = np.max(skymap[\"PROBDENSITY\"]).to_value(u.deg**-2)\n",
    "print(f\"We can also check whether we have at least one galaxy in the UNIQ pixel with the highest probability from LIGO...\")\n",
    "print(f\"This is {np.allclose(max_probdens_in_desi, max_probdens_in_ligo)}\")"
   ]
  },
  {
   "cell_type": "code",
   "execution_count": 213,
   "metadata": {},
   "outputs": [],
   "source": [
    "data_99.sort('PROBDENSITY', reverse=True)"
   ]
  },
  {
   "cell_type": "code",
   "execution_count": 214,
   "metadata": {},
   "outputs": [
    {
     "data": {
      "text/html": [
       "<div><i>Table length=2</i>\n",
       "<table id=\"table139775022420112\" class=\"table-striped table-bordered table-condensed\">\n",
       "<thead><tr><th>TARGETID</th><th>TARGET_RA</th><th>TARGET_DEC</th><th>LASTNIGHT</th><th>Z</th><th>ZERR</th><th>ZWARN</th><th>FLUX_G</th><th>FLUX_R</th><th>FLUX_Z</th><th>SPECTYPE</th><th>BGS_TARGET</th><th>EBV</th><th>SERSIC</th><th>UNIQ</th><th>PROBDENSITY</th><th>DISTMU</th><th>DISTSIGMA</th><th>DISTNORM</th></tr></thead>\n",
       "<thead><tr><th></th><th></th><th></th><th></th><th></th><th></th><th></th><th></th><th></th><th></th><th></th><th></th><th></th><th></th><th></th><th></th><th>Mpc</th><th>Mpc</th><th>1 / Mpc2</th></tr></thead>\n",
       "<thead><tr><th>int64</th><th>float64</th><th>float64</th><th>int64</th><th>float64</th><th>float64</th><th>int64</th><th>float64</th><th>float64</th><th>float64</th><th>str6</th><th>int64</th><th>float64</th><th>float64</th><th>int64</th><th>float64</th><th>float64</th><th>float64</th><th>float64</th></tr></thead>\n",
       "<tr><td>39633426789174617</td><td>111.936857360301</td><td>63.4743674946783</td><td>20230129</td><td>0.379383738868246</td><td>4.07679684567819e-05</td><td>0</td><td>5.00664520263672</td><td>15.5178127288818</td><td>27.9241046905518</td><td>GALAXY</td><td>514</td><td>0.060694582760334</td><td>1.0</td><td>385957</td><td>0.0007976139821086394</td><td>151.85054126037488</td><td>58.04194675311499</td><td>3.784333889126021e-05</td></tr>\n",
       "<tr><td>39633426789174471</td><td>111.917533419385</td><td>63.4911023975644</td><td>20211117</td><td>0.131012387241451</td><td>1.08493925107933e-05</td><td>0</td><td>5.82465934753418</td><td>8.98613262176514</td><td>11.9544172286987</td><td>GALAXY</td><td>257</td><td>0.0608360022306442</td><td>1.0</td><td>385957</td><td>0.0007976139821086394</td><td>151.85054126037488</td><td>58.04194675311499</td><td>3.784333889126021e-05</td></tr>\n",
       "</table></div>"
      ],
      "text/plain": [
       "<Table length=2>\n",
       "     TARGETID        TARGET_RA     ...     DISTSIGMA            DISTNORM      \n",
       "                                   ...        Mpc               1 / Mpc2      \n",
       "      int64           float64      ...      float64             float64       \n",
       "----------------- ---------------- ... ----------------- ---------------------\n",
       "39633426789174617 111.936857360301 ... 58.04194675311499 3.784333889126021e-05\n",
       "39633426789174471 111.917533419385 ... 58.04194675311499 3.784333889126021e-05"
      ]
     },
     "execution_count": 214,
     "metadata": {},
     "output_type": "execute_result"
    }
   ],
   "source": [
    "data_99[:2]"
   ]
  },
  {
   "cell_type": "code",
   "execution_count": 215,
   "metadata": {},
   "outputs": [
    {
     "name": "stdout",
     "output_type": "stream",
     "text": [
      "We have now performed all the necessary steps to get the localization selection in 2D, i.e. the angle on the sky\n",
      "However, we have not used the distance data at all. Therefore our redshifts range from 2.20487824533604e-06 to 3.30872397027335\n"
     ]
    }
   ],
   "source": [
    "if modeled_search:\n",
    "    print(\"We have now performed all the necessary steps to get the localization selection in 2D, i.e. the angle on the sky\")\n",
    "    min_z = np.min(data_99[\"Z\"])\n",
    "    max_z = np.max(data_99[\"Z\"])\n",
    "    print(f\"However, we have not used the distance data at all. Therefore our redshifts range from {min_z} to {max_z}\")\n",
    "else:\n",
    "    print(f\"Usually we would be performing steps to cut out objects that don't meet the z-range/distance from LIGO, since there is no distance, we - at least for now include everything!\")"
   ]
  },
  {
   "cell_type": "markdown",
   "metadata": {
    "tags": []
   },
   "source": [
    "### Calculate all the distances of the objects from the redshifts\n",
    "\n",
    "We want to be conservative in estimating the distance from redshifts, therefore we will include different cosmologies.\n",
    "\n",
    "Our cosmologies include:\n",
    "- H0 = 68.20 ± 0.81 km s−1Mpc−1, from eBOSS https://arxiv.org/pdf/2007.08991.pdf\n",
    "- DES Y3 https://arxiv.org/abs/2105.13549\n",
    "- SH0ES https://pantheonplussh0es.github.io/\n",
    "\n",
    "Now we calculate the arithmetic mean of our distances and its standard deviation:\n",
    "$$distances_{mean} = \\frac{dist(z_{cosmo_{max}})+dist(z_{cosmo_{min}})}{2}$$\n",
    "and accordingly the standard deviation (n=2):\n",
    "$$\\sigma = \\sqrt{\\frac{1}{n-1}\\sum\\left(dist_i-distances_{mean}\\right)^2}$$\n"
   ]
  },
  {
   "cell_type": "code",
   "execution_count": 216,
   "metadata": {},
   "outputs": [],
   "source": [
    "#distances = Distance(z=data_99[\"Z\"], cosmology=Planck18)\n",
    "#distances_err = Distance(z=data_99[\"ZERR\"], cosmology=Planck18)"
   ]
  },
  {
   "cell_type": "code",
   "execution_count": 217,
   "metadata": {},
   "outputs": [],
   "source": [
    "if modeled_search:\n",
    "    # first define the cosmological maximum and minimum parameters\n",
    "    omega_M_max = 0.339+0.032 #(from DES)\n",
    "    omega_M_min = 0.299-2*0.016 #from eBOSS\n",
    "\n",
    "    H_0_max = 73.04+2*1.04 #from SH0ES\n",
    "    H_0_min = 67.4-2*0.5 #from Planck\n",
    "    \n",
    "    # then calculate min and max luminosity distance from the redshifts\n",
    "    cosmo_min_dist = FlatLambdaCDM(H0=H_0_max, Om0=omega_M_max)\n",
    "    cosmo_max_dist = FlatLambdaCDM(H0=H_0_min, Om0=omega_M_min)\n",
    "\n",
    "    dists_max = Distance(z=data_99[\"Z\"], cosmology=cosmo_max_dist)\n",
    "    dists_min = Distance(z=data_99[\"Z\"], cosmology=cosmo_min_dist)\n",
    "    \n",
    "    # and of course also calculate the maximum and minimum error from the redshfit uncertainty\n",
    "    dists_err_min = Distance(z=data_99[\"ZERR\"], cosmology=cosmo_max_dist)\n",
    "    dists_err_max = Distance(z=data_99[\"ZERR\"], cosmology=cosmo_min_dist)\n",
    "    \n",
    "    # now we get the mean distance and its error\n",
    "    dists_mean = (dists_max+dists_min)/2\n",
    "    dists_err_mean = (dists_err_max+dists_err_min)/2  # this is our sigma for the redshift error\n",
    "    \n",
    "    # calculate the stdev of the distance depending on the cosmology\n",
    "    dists_mean_stddev = np.sqrt((dists_max-dists_mean)**2+(dists_min-dists_mean)**2)\n",
    "    \n",
    "    # now stack all the data\n",
    "    data_99 = hstack([data_99, Table({\"DIST_Z_MEAN\": dists_mean}), Table({\"DIST_Z_ERR\": dists_err_mean}), Table({\"DIST_Z_COSMO_SIGMA\": dists_mean_stddev})])"
   ]
  },
  {
   "cell_type": "code",
   "execution_count": 218,
   "metadata": {},
   "outputs": [],
   "source": [
    "# dists_mean[:5], dists_mean_stddev[:5], dists_mean_stddev[:5]/dists_mean[:5], np.mean(dists_mean_stddev/dists_mean), np.max(dists_mean_stddev/dists_mean), np.min(dists_mean_stddev/dists_mean)\n"
   ]
  },
  {
   "cell_type": "code",
   "execution_count": 219,
   "metadata": {},
   "outputs": [
    {
     "data": {
      "text/html": [
       "<div><i>Table length=5</i>\n",
       "<table id=\"table139775071294208\" class=\"table-striped table-bordered table-condensed\">\n",
       "<thead><tr><th>TARGETID</th><th>TARGET_RA</th><th>TARGET_DEC</th><th>LASTNIGHT</th><th>Z</th><th>ZERR</th><th>ZWARN</th><th>FLUX_G</th><th>FLUX_R</th><th>FLUX_Z</th><th>SPECTYPE</th><th>BGS_TARGET</th><th>EBV</th><th>SERSIC</th><th>UNIQ</th><th>PROBDENSITY</th><th>DISTMU</th><th>DISTSIGMA</th><th>DISTNORM</th><th>DIST_Z_MEAN</th><th>DIST_Z_ERR</th><th>DIST_Z_COSMO_SIGMA</th></tr></thead>\n",
       "<thead><tr><th></th><th></th><th></th><th></th><th></th><th></th><th></th><th></th><th></th><th></th><th></th><th></th><th></th><th></th><th></th><th></th><th>Mpc</th><th>Mpc</th><th>1 / Mpc2</th><th>Mpc</th><th>Mpc</th><th>Mpc</th></tr></thead>\n",
       "<thead><tr><th>int64</th><th>float64</th><th>float64</th><th>int64</th><th>float64</th><th>float64</th><th>int64</th><th>float64</th><th>float64</th><th>float64</th><th>str6</th><th>int64</th><th>float64</th><th>float64</th><th>int64</th><th>float64</th><th>float64</th><th>float64</th><th>float64</th><th>float64</th><th>float64</th><th>float64</th></tr></thead>\n",
       "<tr><td>39633426789174617</td><td>111.936857360301</td><td>63.4743674946783</td><td>20230129</td><td>0.379383738868246</td><td>4.07679684567819e-05</td><td>0</td><td>5.00664520263672</td><td>15.5178127288818</td><td>27.9241046905518</td><td>GALAXY</td><td>514</td><td>0.060694582760334</td><td>1.0</td><td>385957</td><td>0.0007976139821086394</td><td>151.85054126037488</td><td>58.04194675311499</td><td>3.784333889126021e-05</td><td>2018.8579553017184</td><td>0.17338736646680636</td><td>215.3732396595541</td></tr>\n",
       "<tr><td>39633426789174471</td><td>111.917533419385</td><td>63.4911023975644</td><td>20211117</td><td>0.131012387241451</td><td>1.08493925107933e-05</td><td>0</td><td>5.82465934753418</td><td>8.98613262176514</td><td>11.9544172286987</td><td>GALAXY</td><td>257</td><td>0.0608360022306442</td><td>1.0</td><td>385957</td><td>0.0007976139821086394</td><td>151.85054126037488</td><td>58.04194675311499</td><td>3.784333889126021e-05</td><td>610.2495337872992</td><td>0.046141731299051816</td><td>57.51259125602893</td></tr>\n",
       "<tr><td>39633426789175050</td><td>112.000075872904</td><td>63.5873232374804</td><td>20211021</td><td>0.156678985110412</td><td>3.62502954571809e-05</td><td>0</td><td>26.4139022827148</td><td>80.9213562011719</td><td>168.434906005859</td><td>GALAXY</td><td>514</td><td>0.0559299886226654</td><td>6.0</td><td>385957</td><td>0.0007976139821086394</td><td>151.85054126037488</td><td>58.04194675311499</td><td>3.784333889126021e-05</td><td>741.5103435691892</td><td>0.15417303908936658</td><td>70.89107282734332</td></tr>\n",
       "<tr><td>39633426789174819</td><td>111.96769974688</td><td>63.5252815916207</td><td>20211117</td><td>0.508485783245216</td><td>7.23605864838721e-05</td><td>0</td><td>1.61727976799011</td><td>7.71978330612183</td><td>24.2473335266113</td><td>GALAXY</td><td>257</td><td>0.0591009184718132</td><td>1.0</td><td>385957</td><td>0.0007976139821086394</td><td>151.85054126037488</td><td>58.04194675311499</td><td>3.784333889126021e-05</td><td>2856.667984400731</td><td>0.30775911760407515</td><td>321.07194775830806</td></tr>\n",
       "<tr><td>39633426789174346</td><td>111.8961949227</td><td>63.4247827588558</td><td>20211021</td><td>0.356311702702702</td><td>9.38122175032557e-05</td><td>0</td><td>3.06520199775696</td><td>15.5115604400635</td><td>39.6922149658203</td><td>GALAXY</td><td>514</td><td>0.0640551969408989</td><td>4.0</td><td>385956</td><td>0.0007946236598688675</td><td>151.9264010963017</td><td>58.064455695839726</td><td>3.780662849277352e-05</td><td>1876.0298164025317</td><td>0.39900226463243077</td><td>198.11190284442992</td></tr>\n",
       "</table></div>"
      ],
      "text/plain": [
       "<Table length=5>\n",
       "     TARGETID        TARGET_RA     ...      DIST_Z_ERR      DIST_Z_COSMO_SIGMA\n",
       "                                   ...         Mpc                 Mpc        \n",
       "      int64           float64      ...       float64             float64      \n",
       "----------------- ---------------- ... -------------------- ------------------\n",
       "39633426789174617 111.936857360301 ...  0.17338736646680636  215.3732396595541\n",
       "39633426789174471 111.917533419385 ... 0.046141731299051816  57.51259125602893\n",
       "39633426789175050 112.000075872904 ...  0.15417303908936658  70.89107282734332\n",
       "39633426789174819  111.96769974688 ...  0.30775911760407515 321.07194775830806\n",
       "39633426789174346   111.8961949227 ...  0.39900226463243077 198.11190284442992"
      ]
     },
     "execution_count": 219,
     "metadata": {},
     "output_type": "execute_result"
    }
   ],
   "source": [
    "data_99[:5]"
   ]
  },
  {
   "cell_type": "markdown",
   "metadata": {
    "jp-MarkdownHeadingCollapsed": true,
    "tags": []
   },
   "source": [
    "### Lets check how much the distance measurement changes in the 99% credible region of LIGO and compare to our DESI data\n",
    "\n",
    "We should see a lot more data in DESI (since we haven't done any redshift selection and there can be multiple objects per GW-pixel). Be carfeul, we are comparing actual object counts with the number of pixels.\n",
    "\n",
    "\n",
    "We still see, that most of the GW localization is roughly between 780Mpc and 950Mpc. DESI definitely has a most of its data in this range as well."
   ]
  },
  {
   "cell_type": "code",
   "execution_count": 220,
   "metadata": {},
   "outputs": [
    {
     "name": "stdout",
     "output_type": "stream",
     "text": [
      "Our LIGO distances range from -2854.2626133573617 Mpc to 212.31816013823467 Mpc\n",
      "Let's visualize the distance distribution of the LIGO event in the 99% credible region\n"
     ]
    },
    {
     "data": {
      "image/png": "[encoded data removed]",
      "text/plain": [
       "<Figure size 1500x800 with 2 Axes>"
      ]
     },
     "metadata": {},
     "output_type": "display_data"
    }
   ],
   "source": [
    "if modeled_search:\n",
    "    plt_skymap = skymap_99[skymap_99[\"DISTMU\"]<np.inf]\n",
    "\n",
    "    dist_max_99 = np.max(plt_skymap[\"DISTMU\"])*u.Mpc\n",
    "    dist_min_99 = np.min(plt_skymap[\"DISTMU\"])*u.Mpc\n",
    "    print(f\"Our LIGO distances range from {dist_min_99} to {dist_max_99}\")\n",
    "    print(\"Let's visualize the distance distribution of the LIGO event in the 99% credible region\")\n",
    "\n",
    "    fig, ax = plt.subplots(ncols = 2, figsize = (15,8))\n",
    "\n",
    "\n",
    "    ax[0].hist(data_99[\"DIST_Z_MEAN\"], bins = \"auto\", color = \"orange\", label = \"DESI data\")\n",
    "    ax[1].hist(plt_skymap[\"DISTMU\"], bins = \"auto\", color = \"blue\", label = \"LIGO data\")\n",
    "\n",
    "\n",
    "    for axis in ax:\n",
    "        axis.set_xlabel(\"distance bin (Mpc)\")\n",
    "        axis.set_xlim(dist_min_99/u.Mpc, dist_max_99/u.Mpc)\n",
    "        axis.legend()\n",
    "\n",
    "    ax[0].set_ylabel(\"object count\")\n",
    "    ax[1].set_ylabel(\"pixel count\")\n",
    "\n",
    "    plt.show()"
   ]
  },
  {
   "cell_type": "code",
   "execution_count": 221,
   "metadata": {},
   "outputs": [
    {
     "data": {
      "text/plain": [
       "(16839, 4962)"
      ]
     },
     "execution_count": 221,
     "metadata": {},
     "output_type": "execute_result"
    }
   ],
   "source": [
    "len(skymap_99), len(data_99)"
   ]
  },
  {
   "cell_type": "markdown",
   "metadata": {
    "tags": []
   },
   "source": [
    "### To reduce our data even more, lets cut out the unreasonably far away objects\n",
    "\n",
    "We simply take maximum and minimum distance we get from the LIGO skymap (i.e. DISTMU+-DISTERR) and check, whether every galaxy in that pixel falls inside this range.\n",
    "\n",
    "*Note: We do this only for our own GW-follow ups*"
   ]
  },
  {
   "cell_type": "code",
   "execution_count": 222,
   "metadata": {},
   "outputs": [
    {
     "name": "stdout",
     "output_type": "stream",
     "text": [
      "The z-range selection has deleted 4757 objects from originally 4962 in the data set\n",
      "Therefore, we have 205 objects left in the search region\n",
      "Our highest remaing probability density is 0.0007914254560411755 compared to the originally highest prob density of 0.0011024695368083816\n",
      "The difference in prob density is 0.0003110440807672061\n"
     ]
    }
   ],
   "source": [
    "if follow_up_their_z == False and modeled_search == True:\n",
    "    z_selection_mask = data_99[\"DIST_Z_MEAN\"] - 2*data_99[\"DIST_Z_ERR\"] - 2*data_99[\"DIST_Z_COSMO_SIGMA\"] <  data_99[\"DISTMU\"] + 2*data_99[\"DISTSIGMA\"]\n",
    "    z_selection_mask &= data_99[\"DIST_Z_MEAN\"] + 2*data_99[\"DIST_Z_ERR\"] + 2*data_99[\"DIST_Z_COSMO_SIGMA\"] >  data_99[\"DISTMU\"] - 2*data_99[\"DISTSIGMA\"]\n",
    "\n",
    "    data_99_z = data_99[z_selection_mask]\n",
    "\n",
    "    remaining_obj = np.size(np.where(z_selection_mask == True))\n",
    "    deleted_obj = np.size(np.where(z_selection_mask == False))\n",
    "\n",
    "    print(f\"The z-range selection has deleted {deleted_obj} objects from originally {deleted_obj+remaining_obj} in the data set\")\n",
    "    print(f\"Therefore, we have {remaining_obj} objects left in the search region\")\n",
    "\n",
    "    highest_prob_dens = np.max(data_99_z[\"PROBDENSITY\"])\n",
    "    print(f\"Our highest remaing probability density is {highest_prob_dens} compared to the originally highest prob density of {max_probdens_in_ligo}\")\n",
    "    print(f\"The difference in prob density is {max_probdens_in_ligo-highest_prob_dens}\")\n",
    "\n",
    "    \n",
    "else:\n",
    "    data_99_z = data_99\n",
    "    remaining_obj = len(data_99_z)"
   ]
  },
  {
   "cell_type": "code",
   "execution_count": 223,
   "metadata": {},
   "outputs": [
    {
     "data": {
      "text/html": [
       "<div><i>Table length=5</i>\n",
       "<table id=\"table139775041863888\" class=\"table-striped table-bordered table-condensed\">\n",
       "<thead><tr><th>TARGETID</th><th>TARGET_RA</th><th>TARGET_DEC</th><th>LASTNIGHT</th><th>Z</th><th>ZERR</th><th>ZWARN</th><th>FLUX_G</th><th>FLUX_R</th><th>FLUX_Z</th><th>SPECTYPE</th><th>BGS_TARGET</th><th>EBV</th><th>SERSIC</th><th>UNIQ</th><th>PROBDENSITY</th><th>DISTMU</th><th>DISTSIGMA</th><th>DISTNORM</th><th>DIST_Z_MEAN</th><th>DIST_Z_ERR</th><th>DIST_Z_COSMO_SIGMA</th></tr></thead>\n",
       "<thead><tr><th></th><th></th><th></th><th></th><th></th><th></th><th></th><th></th><th></th><th></th><th></th><th></th><th></th><th></th><th></th><th></th><th>Mpc</th><th>Mpc</th><th>1 / Mpc2</th><th>Mpc</th><th>Mpc</th><th>Mpc</th></tr></thead>\n",
       "<thead><tr><th>int64</th><th>float64</th><th>float64</th><th>int64</th><th>float64</th><th>float64</th><th>int64</th><th>float64</th><th>float64</th><th>float64</th><th>str6</th><th>int64</th><th>float64</th><th>float64</th><th>int64</th><th>float64</th><th>float64</th><th>float64</th><th>float64</th><th>float64</th><th>float64</th><th>float64</th></tr></thead>\n",
       "<tr><td>39633424062875024</td><td>111.713566147542</td><td>63.1419730649608</td><td>20211117</td><td>0.0390282946484466</td><td>9.9844344587878e-06</td><td>0</td><td>278.126159667969</td><td>718.665405273438</td><td>1441.375</td><td>GALAXY</td><td>514</td><td>0.0725817605853081</td><td>6.0</td><td>385953</td><td>0.0007914254560411755</td><td>151.82945226251914</td><td>58.02227254505086</td><td>3.785577524527747e-05</td><td>170.85659538718602</td><td>0.04246309527603858</td><td>15.253727635738004</td></tr>\n",
       "<tr><td>39633426789173308</td><td>111.736171284179</td><td>63.5552435372105</td><td>20211021</td><td>0.0282042086536955</td><td>9.10882947082062e-07</td><td>0</td><td>165.932754516602</td><td>274.627471923828</td><td>363.853668212891</td><td>GALAXY</td><td>514</td><td>0.0634711235761642</td><td>1.0</td><td>385959</td><td>0.0007781040677504851</td><td>151.48402115621033</td><td>57.97892255525045</td><td>3.801383409175562e-05</td><td>122.50478954437932</td><td>0.003873894075155383</td><td>10.864472819035733</td></tr>\n",
       "<tr><td>39633426789172888</td><td>111.672975853296</td><td>63.4535669550102</td><td>20211021</td><td>0.023791464661012</td><td>3.97896035168704e-06</td><td>0</td><td>10.0822553634644</td><td>16.180212020874</td><td>20.4424533843994</td><td>GALAXY</td><td>514</td><td>0.0679906606674194</td><td>1.0</td><td>385958</td><td>0.0007746452342657246</td><td>151.39231329655962</td><td>57.93833465403801</td><td>3.806081984646445e-05</td><td>103.00379372971504</td><td>0.016922160079391273</td><td>9.110119380929953</td></tr>\n",
       "<tr><td>39633424058681945</td><td>111.307806799194</td><td>63.3154698241461</td><td>20211021</td><td>0.038475792351274</td><td>5.51130247206232e-06</td><td>0</td><td>62.5688514709473</td><td>94.1482772827148</td><td>98.9482116699219</td><td>GALAXY</td><td>514</td><td>0.0625854134559631</td><td>1.0</td><td>385955</td><td>0.0007710554010457992</td><td>151.4664805554651</td><td>57.9604933240595</td><td>3.802459392105197e-05</td><td>168.37082638333962</td><td>0.023439100532889834</td><td>15.026721537298805</td></tr>\n",
       "<tr><td>39633424058682535</td><td>111.385755808088</td><td>63.2784339826973</td><td>20211117</td><td>0.0383910478884679</td><td>2.03680573514479e-06</td><td>0</td><td>14.6463298797607</td><td>21.6853809356689</td><td>25.1931324005127</td><td>GALAXY</td><td>514</td><td>0.0652815327048302</td><td>0.5</td><td>385955</td><td>0.0007710554010457992</td><td>151.4664805554651</td><td>57.9604933240595</td><td>3.802459392105197e-05</td><td>167.98971954179018</td><td>0.00866233854358257</td><td>14.991930866978695</td></tr>\n",
       "</table></div>"
      ],
      "text/plain": [
       "<Table length=5>\n",
       "     TARGETID        TARGET_RA     ...      DIST_Z_ERR      DIST_Z_COSMO_SIGMA\n",
       "                                   ...         Mpc                 Mpc        \n",
       "      int64           float64      ...       float64             float64      \n",
       "----------------- ---------------- ... -------------------- ------------------\n",
       "39633424062875024 111.713566147542 ...  0.04246309527603858 15.253727635738004\n",
       "39633426789173308 111.736171284179 ... 0.003873894075155383 10.864472819035733\n",
       "39633426789172888 111.672975853296 ... 0.016922160079391273  9.110119380929953\n",
       "39633424058681945 111.307806799194 ... 0.023439100532889834 15.026721537298805\n",
       "39633424058682535 111.385755808088 ...  0.00866233854358257 14.991930866978695"
      ]
     },
     "execution_count": 223,
     "metadata": {},
     "output_type": "execute_result"
    }
   ],
   "source": [
    "data_99_z[:5]"
   ]
  },
  {
   "cell_type": "markdown",
   "metadata": {
    "tags": []
   },
   "source": [
    "### get the apparent, absolute magnitudes and luminosities\n",
    "\n",
    "in order to do this: flux > 0 selection  and gal ext correction"
   ]
  },
  {
   "cell_type": "code",
   "execution_count": 224,
   "metadata": {},
   "outputs": [
    {
     "name": "stdout",
     "output_type": "stream",
     "text": [
      "had to cut out -7 objects due to bad fluxes\n"
     ]
    }
   ],
   "source": [
    "# get the apparent mags\n",
    "orig_len = len(data_99_z)\n",
    "data_99_z = data_99_z[data_99_z[\"FLUX_R\"] > 0] # flux selection (only ones above 0)\n",
    "print(f\"had to cut out {len(data_99_z)-orig_len} objects due to bad fluxes\")\n",
    "data_99_z[\"MW_TRANSMISSION\"] = gs.mw_transmission_from_data_table(data = data_99_z, band = \"r\")\n",
    "#data_99_z[\"FLUX_R\"] = data_99_z[\"FLUX_R\"]/data_99_z[\"MW_TRANSMISSION\"]\n",
    "\n",
    "app_mag_r = gs.app_mag(data_99_z[\"FLUX_R\"], mw_transmission = data_99_z[\"MW_TRANSMISSION\"])\n",
    "flux_selection_cut = len(data_99_z)\n",
    "\n",
    "# get the absolute mags\n",
    "abs_mag_r = gs.abs_mag(app_mag_r, data_99_z[\"Z\"], 0,0,0)\n",
    "\n",
    "# get the luminosities\n",
    "lums_r = gs.lum(abs_mag_r, band = \"r\")"
   ]
  },
  {
   "cell_type": "code",
   "execution_count": 225,
   "metadata": {},
   "outputs": [],
   "source": [
    "data_f = hstack([data_99_z, Table({\"APP_MAG_R\": app_mag_r}), Table({\"ABS_MAG_R\": abs_mag_r}), Table({\"LUM_R\": lums_r})])"
   ]
  },
  {
   "cell_type": "code",
   "execution_count": 226,
   "metadata": {},
   "outputs": [
    {
     "data": {
      "text/html": [
       "<div><i>Table length=5</i>\n",
       "<table id=\"table139775042788592\" class=\"table-striped table-bordered table-condensed\">\n",
       "<thead><tr><th>TARGETID</th><th>TARGET_RA</th><th>TARGET_DEC</th><th>LASTNIGHT</th><th>Z</th><th>ZERR</th><th>ZWARN</th><th>FLUX_G</th><th>FLUX_R</th><th>FLUX_Z</th><th>SPECTYPE</th><th>BGS_TARGET</th><th>EBV</th><th>SERSIC</th><th>UNIQ</th><th>PROBDENSITY</th><th>DISTMU</th><th>DISTSIGMA</th><th>DISTNORM</th><th>DIST_Z_MEAN</th><th>DIST_Z_ERR</th><th>DIST_Z_COSMO_SIGMA</th><th>MW_TRANSMISSION</th><th>APP_MAG_R</th><th>ABS_MAG_R</th><th>LUM_R</th></tr></thead>\n",
       "<thead><tr><th></th><th></th><th></th><th></th><th></th><th></th><th></th><th></th><th></th><th></th><th></th><th></th><th></th><th></th><th></th><th></th><th>Mpc</th><th>Mpc</th><th>1 / Mpc2</th><th>Mpc</th><th>Mpc</th><th>Mpc</th><th></th><th></th><th></th><th>W</th></tr></thead>\n",
       "<thead><tr><th>int64</th><th>float64</th><th>float64</th><th>int64</th><th>float64</th><th>float64</th><th>int64</th><th>float64</th><th>float64</th><th>float64</th><th>str6</th><th>int64</th><th>float64</th><th>float64</th><th>int64</th><th>float64</th><th>float64</th><th>float64</th><th>float64</th><th>float64</th><th>float64</th><th>float64</th><th>float64</th><th>float64</th><th>float64</th><th>float64</th></tr></thead>\n",
       "<tr><td>39633424062875024</td><td>111.713566147542</td><td>63.1419730649608</td><td>20211117</td><td>0.0390282946484466</td><td>9.9844344587878e-06</td><td>0</td><td>278.126159667969</td><td>718.665405273438</td><td>1441.375</td><td>GALAXY</td><td>514</td><td>0.0725817605853081</td><td>6.0</td><td>385953</td><td>0.0007914254560411755</td><td>151.82945226251914</td><td>58.02227254505086</td><td>3.785577524527747e-05</td><td>170.85659538718602</td><td>0.04246309527603858</td><td>15.253727635738004</td><td>0.8646191207736298</td><td>15.200745240148763</td><td>-21.051715408269118</td><td>1.4207573975323272e+36</td></tr>\n",
       "<tr><td>39633426789173308</td><td>111.736171284179</td><td>63.5552435372105</td><td>20211021</td><td>0.0282042086536955</td><td>9.10882947082062e-07</td><td>0</td><td>165.932754516602</td><td>274.627471923828</td><td>363.853668212891</td><td>GALAXY</td><td>514</td><td>0.0634711235761642</td><td>1.0</td><td>385959</td><td>0.0007781040677504851</td><td>151.48402115621033</td><td>57.97892255525045</td><td>3.801383409175562e-05</td><td>122.50478954437932</td><td>0.003873894075155383</td><td>10.864472819035733</td><td>0.8805514448793541</td><td>16.265026887513567</td><td>-19.2649641181716</td><td>2.740434396681219e+35</td></tr>\n",
       "<tr><td>39633426789172888</td><td>111.672975853296</td><td>63.4535669550102</td><td>20211021</td><td>0.023791464661012</td><td>3.97896035168704e-06</td><td>0</td><td>10.0822553634644</td><td>16.180212020874</td><td>20.4424533843994</td><td>GALAXY</td><td>514</td><td>0.0679906606674194</td><td>1.0</td><td>385958</td><td>0.0007746452342657246</td><td>151.39231329655962</td><td>57.93833465403801</td><td>3.806081984646445e-05</td><td>103.00379372971504</td><td>0.016922160079391273</td><td>9.110119380929953</td><td>0.8726114935155593</td><td>19.329591801926924</td><td>-15.823868401245377</td><td>1.151810738429326e+34</td></tr>\n",
       "<tr><td>39633424058681945</td><td>111.307806799194</td><td>63.3154698241461</td><td>20211021</td><td>0.038475792351274</td><td>5.51130247206232e-06</td><td>0</td><td>62.5688514709473</td><td>94.1482772827148</td><td>98.9482116699219</td><td>GALAXY</td><td>514</td><td>0.0625854134559631</td><td>1.0</td><td>385955</td><td>0.0007710554010457992</td><td>151.4664805554651</td><td>57.9604933240595</td><td>3.802459392105197e-05</td><td>168.37082638333962</td><td>0.023439100532889834</td><td>15.026721537298805</td><td>0.8821159119634253</td><td>17.429283195966413</td><td>-18.79134907825317</td><td>1.7716315018229665e+35</td></tr>\n",
       "<tr><td>39633424058682535</td><td>111.385755808088</td><td>63.2784339826973</td><td>20211117</td><td>0.0383910478884679</td><td>2.03680573514479e-06</td><td>0</td><td>14.6463298797607</td><td>21.6853809356689</td><td>25.1931324005127</td><td>GALAXY</td><td>514</td><td>0.0652815327048302</td><td>0.5</td><td>385955</td><td>0.0007710554010457992</td><td>151.4664805554651</td><td>57.9604933240595</td><td>3.802459392105197e-05</td><td>167.98971954179018</td><td>0.00866233854358257</td><td>14.991930866978695</td><td>0.8773622696364212</td><td>19.01752974589858</td><td>-17.198181245078306</td><td>4.0841930382704677e+34</td></tr>\n",
       "</table></div>"
      ],
      "text/plain": [
       "<Table length=5>\n",
       "     TARGETID        TARGET_RA     ...         LUM_R         \n",
       "                                   ...           W           \n",
       "      int64           float64      ...        float64        \n",
       "----------------- ---------------- ... ----------------------\n",
       "39633424062875024 111.713566147542 ... 1.4207573975323272e+36\n",
       "39633426789173308 111.736171284179 ...  2.740434396681219e+35\n",
       "39633426789172888 111.672975853296 ...  1.151810738429326e+34\n",
       "39633424058681945 111.307806799194 ... 1.7716315018229665e+35\n",
       "39633424058682535 111.385755808088 ... 4.0841930382704677e+34"
      ]
     },
     "execution_count": 226,
     "metadata": {},
     "output_type": "execute_result"
    }
   ],
   "source": [
    "data_f[:5]"
   ]
  },
  {
   "cell_type": "markdown",
   "metadata": {
    "tags": []
   },
   "source": [
    "### Check the absolute and apparent magnitudes\n",
    "\n",
    "This is a sanity check to quickly check whether there might be some obvious problem in the data/derivation of magnitudes..."
   ]
  },
  {
   "cell_type": "code",
   "execution_count": 227,
   "metadata": {},
   "outputs": [
    {
     "data": {
      "image/png": "[encoded data removed]",
      "text/plain": [
       "<Figure size 1000x500 with 3 Axes>"
      ]
     },
     "metadata": {},
     "output_type": "display_data"
    }
   ],
   "source": [
    "if len(data_f) < 1000000:\n",
    "    # dauert sonst einfach ewig\n",
    "    fig, ax = plt.subplots(ncols = 3, figsize=(10,5))\n",
    "\n",
    "    plot_names = [\"APP_MAG_R\", \"ABS_MAG_R\", \"LUM_R\"]\n",
    "    cnt = 0\n",
    "    for axis in ax:\n",
    "        axis.hist(data_f[plot_names[cnt]], bins = \"auto\")\n",
    "        axis.set_yscale(\"log\")\n",
    "        cnt += 1\n",
    "    plt.show()"
   ]
  },
  {
   "cell_type": "code",
   "execution_count": 228,
   "metadata": {},
   "outputs": [],
   "source": [
    "inspect_abs_mags = False\n",
    "\n",
    "if inspect_abs_mags:\n",
    "    data_to_inspect = data_f[data_f[\"ABS_MAG_R\"]> -12]\n",
    "    fig, ax = plt.subplots(ncols = 5, figsize = (15,8))\n",
    "    \n",
    "    ax[0].hist(data_to_inspect[\"ABS_MAG_R\"], bins = \"auto\")\n",
    "    ax[0].set_xlabel(\"abs mag in r-band\")\n",
    "    ax[1].hist(data_to_inspect[\"MW_TRANSMISSION\"], bins = \"auto\")\n",
    "    ax[1].set_xlabel(\"MW_TRANSMISSION\")\n",
    "    ax[2].hist(data_to_inspect[\"APP_MAG_R\"], bins = \"auto\")\n",
    "    ax[2].set_xlabel(\"App mag r-band\")\n",
    "    ax[3].hist(data_to_inspect[\"DIST_Z_MEAN\"], bins = \"auto\")\n",
    "    ax[3].set_xlabel(\"distance from redshift\")\n",
    "    ax[4].hist(data_to_inspect[\"Z\"], bins = \"auto\")\n",
    "    ax[4].set_xlabel(\"redshift\")\n",
    "    \n",
    "    mean_redshift_pec_objects = np.mean(data_to_inspect[\"Z\"])\n",
    "    mean_distance_pec_objects = np.mean(data_to_inspect[\"DIST_Z_MEAN\"])*u.Mpc\n",
    "    min_redshift_pec_objects = np.min(data_to_inspect[\"Z\"])\n",
    "    min_distance_pec_objects = np.min(data_to_inspect[\"DIST_Z_MEAN\"])*u.Mpc\n",
    "    \n",
    "    data_to_inspect_len = len(data_to_inspect)\n",
    "    star_data_len = len(data_to_inspect[data_to_inspect[\"SPECTYPE\"] == \"STAR\"])\n",
    "    \n",
    "    print(f\"These objects have a mean redshift of {mean_redshift_pec_objects}, which corresponds to a mean distance of {mean_distance_pec_objects}\")\n",
    "    print(f\"The minimum redshift is {min_redshift_pec_objects}, i.e. {min_distance_pec_objects}\")\n",
    "    print(f\"According to WolframAlpha the closest galaxy has a distance of roughly 25000ly = 7655pc (not Mpc, simply pc), so any object below 0.07Mpc is definitely not a real galaxy\")\n",
    "    print(f\"This reminded me to check if we have selected galaxies only...\")\n",
    "    print(f\"We have {star_data_len} stars in our catalogue of peculiar objects, compared to a total number of {data_to_inspect_len} objects...\")\n",
    "                        \n",
    "    for axis in ax:\n",
    "        axis.set_ylabel(\"bin count\")\n",
    "        #axis.legend()\n",
    "        \n",
    "    plt.tight_layout()\n",
    "    plt.show()\n",
    "    "
   ]
  },
  {
   "cell_type": "code",
   "execution_count": 229,
   "metadata": {},
   "outputs": [],
   "source": [
    "# np.max(data_f[\"MW_TRANSMISSION\"])"
   ]
  },
  {
   "cell_type": "markdown",
   "metadata": {
    "tags": []
   },
   "source": [
    "### start calculating the P_Gal (the probability that galaxy X is the host)"
   ]
  },
  {
   "cell_type": "code",
   "execution_count": 230,
   "metadata": {},
   "outputs": [
    {
     "name": "stdout",
     "output_type": "stream",
     "text": [
      "The maximum luminosity in our catalog in the r-band is 5.586803133446306e+36 W with a prob density of      PROBDENSITY     \n",
      "---------------------\n",
      "0.0006913585861411703\n"
     ]
    }
   ],
   "source": [
    "max_lum_r = np.max(data_f[\"LUM_R\"])*u.W\n",
    "prob_dens_max_lum = data_f[data_f[\"LUM_R\"] == max_lum_r][\"PROBDENSITY\"]\n",
    "print(f\"The maximum luminosity in our catalog in the r-band is {max_lum_r} with a prob density of {prob_dens_max_lum}\")"
   ]
  },
  {
   "cell_type": "code",
   "execution_count": 231,
   "metadata": {},
   "outputs": [],
   "source": [
    "if modeled_search:\n",
    "    \n",
    "    dist_delta = abs(data_f[\"DIST_Z_MEAN\"]-data_f[\"DISTMU\"])\n",
    "    combined_sigma2 =  data_f[\"DISTSIGMA\"]**2 + data_f[\"DIST_Z_COSMO_SIGMA\"].value**2 + data_f[\"DIST_Z_ERR\"]**2\n",
    "    P_gal_unnorm = data_f[\"LUM_R\"]*data_f[\"PROBDENSITY\"]/(np.sqrt(2*np.pi*combined_sigma2))*np.exp(-dist_delta**2/(combined_sigma2))\n",
    "    \n",
    "    P_gal_sum = np.sum(P_gal_unnorm)\n",
    "    P_gal = 1/P_gal_sum * P_gal_unnorm\n",
    "\n",
    "\n",
    "else:\n",
    "    P_gal_unnorm = data_f[\"LUM_R\"]*data_f[\"PROBDENSITY\"]\n",
    "    P_gal_sum = np.sum(P_gal_unnorm)\n",
    "    P_gal = 1/P_gal_sum * P_gal_unnorm"
   ]
  },
  {
   "cell_type": "markdown",
   "metadata": {
    "tags": []
   },
   "source": [
    "### Get the missed fraction of DESI due to mass/luminosity incompleteness\n",
    "\n",
    "$$f_{missed} =  \\frac{\\int_{-\\infty}^{\\infty} dM 10^{-0.4M}\\left(1-\\frac{Hist}{Schechter}\\right)\\cdot Schechter}{\\int_{-\\infty}^{\\infty}dM 10^{-0.4M}\\cdot Schechter}$$\n",
    "\n",
    "We want to account for the fact that some region were covered in more detail by DESI than others..."
   ]
  },
  {
   "cell_type": "code",
   "execution_count": 232,
   "metadata": {},
   "outputs": [],
   "source": [
    "if modeled_search:\n",
    "    \n",
    "    # get the Schechter model, see 1/V estimator, bin size of half a mag\n",
    "    from astropy.modeling.models import Schechter1D\n",
    "\n",
    "    phi_star = 0.0016745140734036254\n",
    "    m_star = -21.757361746831197\n",
    "    alpha = -1.1297780395774693\n",
    "\n",
    "    schechter_model = Schechter1D(phi_star, m_star, alpha)\n",
    "    \n",
    "    data_min_dist = np.min(data_f[\"DIST_Z_MEAN\"])*u.Mpc\n",
    "    data_max_dist = np.max(data_f[\"DIST_Z_MEAN\"])*u.Mpc\n",
    "    \n",
    "    abs_mag_max = np.max(data_f[\"ABS_MAG_R\"])\n",
    "    abs_mag_min = np.min(data_f[\"ABS_MAG_R\"])\n",
    "\n",
    "    bins = np.arange(abs_mag_min, abs_mag_max, 0.5)\n",
    "\n",
    "    hist, bins = np.histogram(data_f[\"ABS_MAG_R\"], bins =  bins)\n",
    "    \"\"\"\n",
    "    # normalize our histogram to our volume\n",
    "    volume = V_\n",
    "    hist = hist/(volume)\n",
    "    \n",
    "    #hist = hist/(area_99.to_value(u.deg**2)*(data_max_dist-data_min_dist).value*10**0) # completely wrong normalization\n",
    "    \n",
    "    print(f\"{abs_mag_min}, {abs_mag_max}, {data_min_dist}, {data_max_dist}, {(data_max_dist-data_min_dist).value*10**6}\")\n",
    "    \n",
    "    fig, ax = plt.subplots(figsize = (5,2.5))\n",
    "    bins_center = bins[1:]-(bins[1]-bins[2])/2\n",
    "    ax.plot(bins_center, hist, label = \"wrongly normalized distribution\")\n",
    "    ax.plot(np.linspace(-25,-18), schechter_model(np.linspace(-25,-18)),  label = \"some schechter fit\", color = \"red\")\n",
    "\n",
    "    ax.set_yscale(\"log\")\n",
    "    plt.show()\"\"\""
   ]
  },
  {
   "cell_type": "code",
   "execution_count": 233,
   "metadata": {},
   "outputs": [
    {
     "name": "stdout",
     "output_type": "stream",
     "text": [
      "(-344119891247.08496, 1200.845593769946)\n",
      "(877176.5712112696, 0.0017536415515806425)\n",
      "-392304.01556655695\n"
     ]
    }
   ],
   "source": [
    "if modeled_search:\n",
    "    def hist_func(M):\n",
    "        # https://stackoverflow.com/questions/2566412/find-nearest-value-in-numpy-array\n",
    "        # make sure array is a numpy array\n",
    "        # array = np.array(array)\n",
    "        idx = (np.abs(hist - M)).argmin()\n",
    "        val = hist[idx]\n",
    "        #print(f\"val {val}\")\n",
    "        return val\n",
    "\n",
    "    def num_func(M):\n",
    "        #print(f\"M is {M}\")\n",
    "        schechter_val = schechter_model(M)\n",
    "        #print(f\"schechter Val: {schechter_val}\")\n",
    "        lum_factor = 10**(-0.4*M)\n",
    "        #print(f\"lum factor {lum_factor}\")\n",
    "        weighting_coverage = (1-hist_func(M)/(schechter_val))\n",
    "        #print(f\"weighting_coverage: {weighting_coverage}\")\n",
    "        final_val = lum_factor*weighting_coverage*schechter_val\n",
    "        #print(f\"final value: {final_val}\")\n",
    "        return final_val\n",
    "    def denom_func(M):\n",
    "        lum_factor = 10**(-0.4*M)\n",
    "        schechter_val = schechter_model(M)\n",
    "        final_val = lum_factor*schechter_val\n",
    "\n",
    "        return final_val\n",
    "\n",
    "\n",
    "\n",
    "\n",
    "    numerator = quad(num_func, -28, -18)\n",
    "    denominator = quad(denom_func, -28, -18)\n",
    "\n",
    "    print(numerator)\n",
    "    print(denominator)\n",
    "\n",
    "    f_missed = numerator[0]/denominator[0]\n",
    "\n",
    "    print(f_missed)"
   ]
  },
  {
   "cell_type": "code",
   "execution_count": 234,
   "metadata": {},
   "outputs": [],
   "source": [
    "data_f = hstack([data_f, Table({\"P_GAL\": P_gal.value})])"
   ]
  },
  {
   "cell_type": "code",
   "execution_count": 235,
   "metadata": {},
   "outputs": [
    {
     "data": {
      "text/html": [
       "<div><i>Table length=198</i>\n",
       "<table id=\"table139775041868160\" class=\"table-striped table-bordered table-condensed\">\n",
       "<thead><tr><th>TARGETID</th><th>TARGET_RA</th><th>TARGET_DEC</th><th>LASTNIGHT</th><th>Z</th><th>ZERR</th><th>ZWARN</th><th>FLUX_G</th><th>FLUX_R</th><th>FLUX_Z</th><th>SPECTYPE</th><th>BGS_TARGET</th><th>EBV</th><th>SERSIC</th><th>UNIQ</th><th>PROBDENSITY</th><th>DISTMU</th><th>DISTSIGMA</th><th>DISTNORM</th><th>DIST_Z_MEAN</th><th>DIST_Z_ERR</th><th>DIST_Z_COSMO_SIGMA</th><th>MW_TRANSMISSION</th><th>APP_MAG_R</th><th>ABS_MAG_R</th><th>LUM_R</th><th>P_GAL</th></tr></thead>\n",
       "<thead><tr><th></th><th></th><th></th><th></th><th></th><th></th><th></th><th></th><th></th><th></th><th></th><th></th><th></th><th></th><th></th><th></th><th>Mpc</th><th>Mpc</th><th>1 / Mpc2</th><th>Mpc</th><th>Mpc</th><th>Mpc</th><th></th><th></th><th></th><th>W</th><th></th></tr></thead>\n",
       "<thead><tr><th>int64</th><th>float64</th><th>float64</th><th>int64</th><th>float64</th><th>float64</th><th>int64</th><th>float64</th><th>float64</th><th>float64</th><th>str6</th><th>int64</th><th>float64</th><th>float64</th><th>int64</th><th>float64</th><th>float64</th><th>float64</th><th>float64</th><th>float64</th><th>float64</th><th>float64</th><th>float64</th><th>float64</th><th>float64</th><th>float64</th><th>float64</th></tr></thead>\n",
       "<tr><td>39633424062875024</td><td>111.713566147542</td><td>63.1419730649608</td><td>20211117</td><td>0.0390282946484466</td><td>9.9844344587878e-06</td><td>0</td><td>278.126159667969</td><td>718.665405273438</td><td>1441.375</td><td>GALAXY</td><td>514</td><td>0.0725817605853081</td><td>6.0</td><td>385953</td><td>0.0007914254560411755</td><td>151.82945226251914</td><td>58.02227254505086</td><td>3.785577524527747e-05</td><td>170.85659538718602</td><td>0.04246309527603858</td><td>15.253727635738004</td><td>0.8646191207736298</td><td>15.200745240148763</td><td>-21.051715408269118</td><td>1.4207573975323272e+36</td><td>0.033549356753869206</td></tr>\n",
       "<tr><td>39633426789173308</td><td>111.736171284179</td><td>63.5552435372105</td><td>20211021</td><td>0.0282042086536955</td><td>9.10882947082062e-07</td><td>0</td><td>165.932754516602</td><td>274.627471923828</td><td>363.853668212891</td><td>GALAXY</td><td>514</td><td>0.0634711235761642</td><td>1.0</td><td>385959</td><td>0.0007781040677504851</td><td>151.48402115621033</td><td>57.97892255525045</td><td>3.801383409175562e-05</td><td>122.50478954437932</td><td>0.003873894075155383</td><td>10.864472819035733</td><td>0.8805514448793541</td><td>16.265026887513567</td><td>-19.2649641181716</td><td>2.740434396681219e+35</td><td>0.005621095486561334</td></tr>\n",
       "<tr><td>39633426789172888</td><td>111.672975853296</td><td>63.4535669550102</td><td>20211021</td><td>0.023791464661012</td><td>3.97896035168704e-06</td><td>0</td><td>10.0822553634644</td><td>16.180212020874</td><td>20.4424533843994</td><td>GALAXY</td><td>514</td><td>0.0679906606674194</td><td>1.0</td><td>385958</td><td>0.0007746452342657246</td><td>151.39231329655962</td><td>57.93833465403801</td><td>3.806081984646445e-05</td><td>103.00379372971504</td><td>0.016922160079391273</td><td>9.110119380929953</td><td>0.8726114935155593</td><td>19.329591801926924</td><td>-15.823868401245377</td><td>1.151810738429326e+34</td><td>0.00015245498106018247</td></tr>\n",
       "<tr><td>39633424058681945</td><td>111.307806799194</td><td>63.3154698241461</td><td>20211021</td><td>0.038475792351274</td><td>5.51130247206232e-06</td><td>0</td><td>62.5688514709473</td><td>94.1482772827148</td><td>98.9482116699219</td><td>GALAXY</td><td>514</td><td>0.0625854134559631</td><td>1.0</td><td>385955</td><td>0.0007710554010457992</td><td>151.4664805554651</td><td>57.9604933240595</td><td>3.802459392105197e-05</td><td>168.37082638333962</td><td>0.023439100532889834</td><td>15.026721537298805</td><td>0.8821159119634253</td><td>17.429283195966413</td><td>-18.79134907825317</td><td>1.7716315018229665e+35</td><td>0.004169946344264388</td></tr>\n",
       "<tr><td>39633424058682535</td><td>111.385755808088</td><td>63.2784339826973</td><td>20211117</td><td>0.0383910478884679</td><td>2.03680573514479e-06</td><td>0</td><td>14.6463298797607</td><td>21.6853809356689</td><td>25.1931324005127</td><td>GALAXY</td><td>514</td><td>0.0652815327048302</td><td>0.5</td><td>385955</td><td>0.0007710554010457992</td><td>151.4664805554651</td><td>57.9604933240595</td><td>3.802459392105197e-05</td><td>167.98971954179018</td><td>0.00866233854358257</td><td>14.991930866978695</td><td>0.8773622696364212</td><td>19.01752974589858</td><td>-17.198181245078306</td><td>4.0841930382704677e+34</td><td>0.0009648508359422106</td></tr>\n",
       "<tr><td>39633424058681927</td><td>111.306252346634</td><td>63.3144971667035</td><td>20211117</td><td>0.0384274688566561</td><td>2.00844713206849e-06</td><td>0</td><td>97.4660873413086</td><td>147.433029174805</td><td>205.112854003906</td><td>GALAXY</td><td>514</td><td>0.0624894313514233</td><td>1.42138993740082</td><td>385955</td><td>0.0007710554010457992</td><td>151.4664805554651</td><td>57.9604933240595</td><td>3.802459392105197e-05</td><td>168.15350388744693</td><td>0.008541731946953889</td><td>15.006882073865858</td><td>0.8822856160370881</td><td>16.94253602565678</td><td>-19.275291300803836</td><td>2.7666249106417043e+35</td><td>0.006525625818808566</td></tr>\n",
       "<tr><td>39633426784979528</td><td>111.279991924303</td><td>63.4280463971166</td><td>20211021</td><td>0.0381069720062911</td><td>1.95841465161006e-06</td><td>0</td><td>11.5349740982056</td><td>21.9496326446533</td><td>34.4434394836426</td><td>GALAXY</td><td>514</td><td>0.0604563802480698</td><td>1.0</td><td>385955</td><td>0.0007710554010457992</td><td>151.4664805554651</td><td>57.9604933240595</td><td>3.802459392105197e-05</td><td>166.71251927142964</td><td>0.008328948315176003</td><td>14.875362153838385</td><td>0.885887893405409</td><td>19.014878776175284</td><td>-17.18425777926213</td><td>4.032151805421024e+34</td><td>0.0009638090485777159</td></tr>\n",
       "<tr><td>39633424058683656</td><td>111.521359743308</td><td>63.2010567163675</td><td>20211021</td><td>0.016143982428459</td><td>1.24046095033973e-05</td><td>0</td><td>63.5243835449219</td><td>112.67317199707</td><td>154.746505737305</td><td>GALAXY</td><td>514</td><td>0.066321074962616</td><td>1.59492409229279</td><td>385955</td><td>0.0007710554010457992</td><td>151.4664805554651</td><td>57.9604933240595</td><td>3.802459392105197e-05</td><td>69.49959661159181</td><td>0.05275602641495959</td><td>6.117729618698196</td><td>0.8755362588315873</td><td>17.226134038801387</td><td>-17.07291612981442</td><td>3.6391521595427153e+34</td><td>0.0001318585760254894</td></tr>\n",
       "<tr><td>39633424058681887</td><td>111.303240786671</td><td>63.3167710407588</td><td>20221205</td><td>0.0386238402300753</td><td>1.66958073311587e-05</td><td>0</td><td>10.9892120361328</td><td>16.1065902709961</td><td>18.4233131408691</td><td>GALAXY</td><td>514</td><td>0.0623610280454159</td><td>0.5</td><td>385955</td><td>0.0007710554010457992</td><td>151.4664805554651</td><td>57.9604933240595</td><td>3.802459392105197e-05</td><td>169.03672405323454</td><td>0.07100645423770754</td><td>15.087518553074789</td><td>0.8825126944540761</td><td>19.34679337551668</td><td>-16.882411051084635</td><td>3.0535018194745614e+34</td><td>0.0007139740435284176</td></tr>\n",
       "<tr><td>...</td><td>...</td><td>...</td><td>...</td><td>...</td><td>...</td><td>...</td><td>...</td><td>...</td><td>...</td><td>...</td><td>...</td><td>...</td><td>...</td><td>...</td><td>...</td><td>...</td><td>...</td><td>...</td><td>...</td><td>...</td><td>...</td><td>...</td><td>...</td><td>...</td><td>...</td><td>...</td></tr>\n",
       "<tr><td>39633424029319900</td><td>107.202898645485</td><td>63.2757806812478</td><td>20211117</td><td>0.0482374542918433</td><td>4.01800483265267e-06</td><td>0</td><td>17.2937984466553</td><td>30.4197635650635</td><td>43.840202331543</td><td>GALAXY</td><td>514</td><td>0.0739779695868492</td><td>1.7340030670166</td><td>96793</td><td>0.0005665994691671283</td><td>148.69192310211577</td><td>57.40996230919844</td><td>3.936655215204159e-05</td><td>212.56804772077606</td><td>0.01708821325013979</td><td>19.084474610812748</td><td>0.8622030906114025</td><td>18.63113435264292</td><td>-18.0957210242593</td><td>9.33516873648218e+34</td><td>0.0005676239793586561</td></tr>\n",
       "<tr><td>39633424025127702</td><td>106.887624526062</td><td>63.3511944057219</td><td>20220209</td><td>0.0491352038600845</td><td>8.68277370973674e-06</td><td>0</td><td>32.2815322875977</td><td>55.7966117858887</td><td>76.0985260009766</td><td>GALAXY</td><td>514</td><td>0.0710226818919182</td><td>1.0</td><td>96793</td><td>0.0005665994691671283</td><td>148.69192310211577</td><td>57.40996230919844</td><td>3.936655215204159e-05</td><td>216.66225307707373</td><td>0.03692718727114111</td><td>19.46265879800103</td><td>0.8673249858089345</td><td>17.978935075504786</td><td>-18.789352787196854</td><td>1.7683770807900797e+35</td><td>0.0009306233336969519</td></tr>\n",
       "<tr><td>39633424025125987</td><td>106.689315180668</td><td>63.3730719489898</td><td>20211117</td><td>0.0389625151238883</td><td>9.54223316536686e-06</td><td>0</td><td>218.382186889648</td><td>509.862274169922</td><td>1037.71118164062</td><td>GALAXY</td><td>514</td><td>0.0678047761321068</td><td>3.76656603813171</td><td>96793</td><td>0.0005665994691671283</td><td>148.69192310211577</td><td>57.40996230919844</td><td>3.936655215204159e-05</td><td>170.560546516091</td><td>0.04058243067652008</td><td>15.226684140712212</td><td>0.8729366404468738</td><td>15.583824610253552</td><td>-20.664869734290804</td><td>9.94905098349685e+35</td><td>0.016405079867327334</td></tr>\n",
       "<tr><td>39633424025129248</td><td>107.082396822386</td><td>63.1929233809595</td><td>20211021</td><td>0.0409163146192517</td><td>2.77001602834917e-06</td><td>0</td><td>48.1230926513672</td><td>77.6786499023438</td><td>96.3901138305664</td><td>GALAXY</td><td>514</td><td>0.0738350227475166</td><td>1.2717592716217</td><td>96793</td><td>0.0005665994691671283</td><td>148.69192310211577</td><td>57.40996230919844</td><td>3.936655215204159e-05</td><td>179.36531668759807</td><td>0.011780617866755036</td><td>16.03186382068001</td><td>0.8624501383685684</td><td>17.6135808187799</td><td>-18.74442656045484</td><td>1.696697370804453e+35</td><td>0.002449772286862524</td></tr>\n",
       "<tr><td>39633424025128487</td><td>106.991643139641</td><td>63.2680712508543</td><td>20220209</td><td>0.0498339419346464</td><td>6.03967469853023e-06</td><td>0</td><td>55.474178314209</td><td>94.2806930541992</td><td>135.073760986328</td><td>GALAXY</td><td>514</td><td>0.0759077668190002</td><td>2.0</td><td>96793</td><td>0.0005665994691671283</td><td>148.69192310211577</td><td>57.40996230919844</td><td>3.936655215204159e-05</td><td>219.85228937108897</td><td>0.025686233024526113</td><td>19.757591704073217</td><td>0.8588748382529459</td><td>17.398767783531532</td><td>-19.401263528692112</td><td>3.1069851258858498e+35</td><td>0.0014530459974453939</td></tr>\n",
       "<tr><td>39633424025129168</td><td>107.069774476584</td><td>63.2390069000302</td><td>20211021</td><td>0.0403701979014912</td><td>1.94983050119299e-05</td><td>0</td><td>70.5661239624023</td><td>130.420059204102</td><td>164.108871459961</td><td>GALAXY</td><td>514</td><td>0.0756498426198959</td><td>1.83686101436615</td><td>96793</td><td>0.0005665994691671283</td><td>148.69192310211577</td><td>57.40996230919844</td><td>3.936655215204159e-05</td><td>176.90186341002243</td><td>0.08292551753232044</td><td>15.8064021655061</td><td>0.8593189260044191</td><td>17.04702495991114</td><td>-19.280948322090303</td><td>2.7810775002735565e+35</td><td>0.004185116030932766</td></tr>\n",
       "<tr><td>39633429456749314</td><td>106.969746947834</td><td>63.6308929479617</td><td>20211117</td><td>0.045358068855714</td><td>1.44170935367102e-05</td><td>0</td><td>5.62454748153687</td><td>11.585807800293</td><td>17.9436893463135</td><td>GALAXY</td><td>265</td><td>0.0608166940510273</td><td>1.0</td><td>96793</td><td>0.0005665994691671283</td><td>148.69192310211577</td><td>57.40996230919844</td><td>3.936655215204159e-05</td><td>199.47001912354526</td><td>0.06131508898682318</td><td>17.87720162844762</td><td>0.8852483979860518</td><td>19.70784707472278</td><td>-16.880886790511298</td><td>3.0492180285841317e+34</td><td>0.0002787439193684163</td></tr>\n",
       "<tr><td>39633426755616954</td><td>107.021954449639</td><td>63.3771709486953</td><td>20211021</td><td>0.0481877608033631</td><td>2.15927873437429e-06</td><td>0</td><td>13.3053188323975</td><td>22.3800983428955</td><td>30.1556587219238</td><td>GALAXY</td><td>514</td><td>0.0706197917461395</td><td>2.33149719238281</td><td>96793</td><td>0.0005665994691671283</td><td>148.69192310211577</td><td>57.40996230919844</td><td>3.936655215204159e-05</td><td>212.34156427288093</td><td>0.009183205262577494</td><td>19.063565472875474</td><td>0.8680255991832657</td><td>18.971676356714088</td><td>-17.752863823022775</td><td>6.8073689889380845e+34</td><td>0.0004171453971972931</td></tr>\n",
       "<tr><td>39633421273665591</td><td>107.208540101223</td><td>63.0094554166624</td><td>20211117</td><td>0.0399534338984898</td><td>3.1390259122534e-06</td><td>0</td><td>45.8238868713379</td><td>91.6199951171875</td><td>154.157104492188</td><td>GALAXY</td><td>514</td><td>0.0720198228955269</td><td>0.864833414554596</td><td>96792</td><td>0.0005538159389316777</td><td>148.4771766720366</td><td>57.30989430555722</td><td>3.948355904175704e-05</td><td>175.02314644369318</td><td>0.013349985978625314</td><td>15.63455284326339</td><td>0.8655934195263109</td><td>17.43830920464259</td><td>-18.866476577691</td><td>1.8985602933253077e+35</td><td>0.002869402713478637</td></tr>\n",
       "<tr><td>39633421273664892</td><td>107.129699089204</td><td>63.0048873384038</td><td>20211021</td><td>0.0401570739905391</td><td>1.13536666208485e-06</td><td>0</td><td>8.54288959503174</td><td>13.5087518692017</td><td>16.8654861450195</td><td>GALAXY</td><td>514</td><td>0.0693557560443878</td><td>1.43606686592102</td><td>96792</td><td>0.0005538159389316777</td><td>148.4771766720366</td><td>57.30989430555722</td><td>3.948355904175704e-05</td><td>175.94099434120835</td><td>0.004828601696309977</td><td>15.718499538868317</td><td>0.8702273931088433</td><td>19.522543813424658</td><td>-16.79360115994263</td><td>2.8136769102075613e+34</td><td>0.0004192255521019459</td></tr>\n",
       "</table></div>"
      ],
      "text/plain": [
       "<Table length=198>\n",
       "     TARGETID        TARGET_RA     ...         P_GAL         \n",
       "                                   ...                       \n",
       "      int64           float64      ...        float64        \n",
       "----------------- ---------------- ... ----------------------\n",
       "39633424062875024 111.713566147542 ...   0.033549356753869206\n",
       "39633426789173308 111.736171284179 ...   0.005621095486561334\n",
       "39633426789172888 111.672975853296 ... 0.00015245498106018247\n",
       "39633424058681945 111.307806799194 ...   0.004169946344264388\n",
       "39633424058682535 111.385755808088 ...  0.0009648508359422106\n",
       "39633424058681927 111.306252346634 ...   0.006525625818808566\n",
       "39633426784979528 111.279991924303 ...  0.0009638090485777159\n",
       "39633424058683656 111.521359743308 ...  0.0001318585760254894\n",
       "39633424058681887 111.303240786671 ...  0.0007139740435284176\n",
       "              ...              ... ...                    ...\n",
       "39633424029319900 107.202898645485 ...  0.0005676239793586561\n",
       "39633424025127702 106.887624526062 ...  0.0009306233336969519\n",
       "39633424025125987 106.689315180668 ...   0.016405079867327334\n",
       "39633424025129248 107.082396822386 ...   0.002449772286862524\n",
       "39633424025128487 106.991643139641 ...  0.0014530459974453939\n",
       "39633424025129168 107.069774476584 ...   0.004185116030932766\n",
       "39633429456749314 106.969746947834 ...  0.0002787439193684163\n",
       "39633426755616954 107.021954449639 ...  0.0004171453971972931\n",
       "39633421273665591 107.208540101223 ...   0.002869402713478637\n",
       "39633421273664892 107.129699089204 ...  0.0004192255521019459"
      ]
     },
     "execution_count": 235,
     "metadata": {},
     "output_type": "execute_result"
    }
   ],
   "source": [
    "data_f[:]"
   ]
  },
  {
   "cell_type": "markdown",
   "metadata": {
    "tags": []
   },
   "source": [
    "## Analyse the data: How much luminosity do we cover? Which galaxies should we observe?\n",
    "\n",
    "Lets look into what information we can retrieve from here. First we define, how many galaxies we could observe (N_galaxies).\n",
    "\n",
    "We then calculate the luminosity (lum) from all the galaxies in this area, i.e. the total luminosity. From there do some comparison between the covered luminosity and total luminosity depending on the ranking by probability:\n",
    "- simple \"Maximum lum that could be covered\" by looking at the brightest galaxies\n",
    "- Calculate the probability this way (done above) (from https://arxiv.org/pdf/1710.05452.pdf w/o normalization), both using a static and variable distance and error: $$P_{gal} = k^{-1}L_r(1-f_{missed})\\cdot P_{2D}\\frac{e^{-\\frac{\\left(D_{LVC}-D_{desi}\\right)^2}{\\sigma_{D,desi}^2+\\sigma_{D,cosmo}^2+\\sigma_{D,LVC}^2}}}{\\sqrt{2\\pi \\left(\\sigma_{D,desi}^2+\\sigma_{D,cosmo}^2+\\sigma_{D,LVC}^2\\right)}}$$\n",
    "- others may follow...\n",
    "\n",
    "Since we have the actual luminosity (here in r-band though), we don't need to again calculate the $$\\tilde{L}_{gal}$$ values. In the mentioned paper, they only use a fixed distance and error for the LIGO data. I will try both, to get an idea what the differences are."
   ]
  },
  {
   "cell_type": "code",
   "execution_count": 236,
   "metadata": {},
   "outputs": [],
   "source": [
    "N_galaxies = 20 # how many galaxies we can cover"
   ]
  },
  {
   "cell_type": "code",
   "execution_count": 237,
   "metadata": {},
   "outputs": [],
   "source": [
    "total_lum = np.sum(data_f[\"LUM_R\"])"
   ]
  },
  {
   "cell_type": "markdown",
   "metadata": {
    "tags": []
   },
   "source": [
    "### Compare lum with luminosity ranking\n",
    "\n",
    "https://iopscience.iop.org/article/10.3847/0067-0049/226/1/10"
   ]
  },
  {
   "cell_type": "code",
   "execution_count": 238,
   "metadata": {},
   "outputs": [],
   "source": [
    "data_sort_by_lums = data_f.group_by(\"LUM_R\")\n",
    "data_sort_by_lums = data_sort_by_lums[::-1]"
   ]
  },
  {
   "cell_type": "code",
   "execution_count": 239,
   "metadata": {},
   "outputs": [],
   "source": [
    "lum_after_N_highest = np.sum(data_sort_by_lums[\"LUM_R\"][:N_galaxies])"
   ]
  },
  {
   "cell_type": "code",
   "execution_count": 240,
   "metadata": {},
   "outputs": [
    {
     "name": "stdout",
     "output_type": "stream",
     "text": [
      "The theoretical maximum luminosity we could cover is 4.811390086447225e+37, i.e. 58.54820677037489 % of the total luminosity\n",
      "The TARGETID values of these galaxies are: \n",
      "      TARGETID    \n",
      "-----------------\n",
      "39633424046099433\n",
      "39633429460946003\n",
      "39633432132718111\n",
      "39633440055755334\n",
      "39633429481914765\n",
      "39633429460946859\n",
      "39633429481914934\n",
      "39633429452556827\n",
      "39633421277855936\n",
      "39633434800296858\n",
      "39633421277858835\n",
      "39633424033518029\n",
      "39633440047370893\n",
      "39633418509619123\n",
      "39633418526394874\n",
      "39633424062875024\n",
      "39633424033515014\n",
      "39633426772396229\n",
      "39633424062873866\n",
      "39633434808682308\n"
     ]
    }
   ],
   "source": [
    "print(f\"The theoretical maximum luminosity we could cover is {lum_after_N_highest}, i.e. {lum_after_N_highest*100/total_lum} % of the total luminosity\")\n",
    "print(\"The TARGETID values of these galaxies are: \\n\", data_sort_by_lums[\"TARGETID\"][:N_galaxies])"
   ]
  },
  {
   "cell_type": "markdown",
   "metadata": {
    "tags": []
   },
   "source": [
    "### Compare lum with P_Gal ranking"
   ]
  },
  {
   "cell_type": "code",
   "execution_count": 241,
   "metadata": {},
   "outputs": [],
   "source": [
    "data_sort_by_PGal = data_f.group_by(\"P_GAL\")\n",
    "data_sort_by_PGal = data_sort_by_PGal[::-1]\n",
    "\n",
    "lum_after_N_PGal = np.sum(data_sort_by_PGal[\"LUM_R\"][:N_galaxies])\n",
    "lum_after_10_PGal = np.sum(data_sort_by_PGal[\"LUM_R\"][:10])"
   ]
  },
  {
   "cell_type": "code",
   "execution_count": 242,
   "metadata": {},
   "outputs": [
    {
     "name": "stdout",
     "output_type": "stream",
     "text": [
      "The luminosity we cover when observing 20 galaxies ranked by P_gal is 3.3615447285786455e+37W, i.e. 40.90552050457716% of the total (DESI) luminosity in the search area\n",
      "The luminosity we cover when observing 10 galaxies ranked by P_gal is 2.288831124131789e+37W, i.e. 27.852025196545547% of the total (DESI) luminosity in the search area\n",
      "The TARGETID values of these galaxies are: \n",
      "    TARGET_RA        TARGET_DEC    ...      TARGETID            P_GAL        \n",
      "---------------- ---------------- ... ----------------- --------------------\n",
      "109.679989646446 63.1859641956687 ... 39633424046099433  0.11285691573827052\n",
      "110.293783220425 63.6778914381844 ... 39633429481914765  0.06961272762817944\n",
      "110.314138321524 63.6504317896136 ... 39633429481914934 0.054535915563381276\n",
      "107.976547449392 64.3383699099546 ... 39633434800296858  0.04034513987715156\n",
      "110.899530203126 62.8054387147274 ... 39633418526394874   0.0368619806336522\n",
      " 107.61178560693 62.9409343260143 ... 39633421277858835  0.03611415226180546\n",
      "108.194045155888 63.3413568832094 ... 39633424033518029  0.03439268956698137\n",
      "111.713566147542 63.1419730649608 ... 39633424062875024 0.033549356753869206\n",
      "111.560574739366 63.2346973676546 ... 39633424062873866  0.03097630893000877\n",
      "108.947934089356 62.6981225073975 ... 39633418509619123  0.03029424740873916\n",
      "108.812973879775  64.282899018641 ... 39633434808682308  0.02705057333443502\n",
      "107.846150810543 63.2194850217972 ... 39633424033515014 0.023596349710945184\n",
      "108.121785292373 63.3910844316621 ... 39633426764005478  0.01950870765065782\n",
      "110.876606123079 63.4042756434811 ... 39633426780786600  0.01658822608242262\n",
      "106.689315180668 63.3730719489898 ... 39633424025125987 0.016405079867327334\n",
      "107.249193480276 62.9870989369035 ... 39633421277855936  0.01502550451249387\n",
      "109.152440923857 62.8781234907612 ... 39633421290441026 0.014739405945314137\n",
      " 108.10187675333 63.0606776354551 ... 39633421282052759 0.014282998346192805\n",
      "110.224697766126 63.1872371607692 ... 39633424050293763 0.013673753677250586\n",
      "107.214590912119 64.4737206662142 ... 39633437430124389 0.012501842248186153\n"
     ]
    }
   ],
   "source": [
    "print(f\"The luminosity we cover when observing {N_galaxies} galaxies ranked by P_gal is {lum_after_N_PGal}W, i.e. {lum_after_N_PGal*100/total_lum}% of the total (DESI) luminosity in the search area\")\n",
    "print(f\"The luminosity we cover when observing 10 galaxies ranked by P_gal is {lum_after_10_PGal}W, i.e. {lum_after_10_PGal*100/total_lum}% of the total (DESI) luminosity in the search area\") \n",
    "\n",
    "print(\"The TARGETID values of these galaxies are: \\n\", data_sort_by_PGal[\"TARGET_RA\", \"TARGET_DEC\", \"SERSIC\", \"TARGETID\", \"P_GAL\"][:N_galaxies])\n"
   ]
  },
  {
   "cell_type": "code",
   "execution_count": 243,
   "metadata": {},
   "outputs": [
    {
     "data": {
      "text/html": [
       "<div><i>Table length=20</i>\n",
       "<table id=\"table139775038399168\" class=\"table-striped table-bordered table-condensed\">\n",
       "<thead><tr><th>TARGET_RA</th><th>TARGET_DEC</th><th>SERSIC</th><th>TARGETID</th><th>P_GAL</th></tr></thead>\n",
       "<thead><tr><th>float64</th><th>float64</th><th>float64</th><th>int64</th><th>float64</th></tr></thead>\n",
       "<tr><td>109.679989646446</td><td>63.1859641956687</td><td>3.46704173088074</td><td>39633424046099433</td><td>0.11285691573827052</td></tr>\n",
       "<tr><td>110.293783220425</td><td>63.6778914381844</td><td>2.24766325950623</td><td>39633429481914765</td><td>0.06961272762817944</td></tr>\n",
       "<tr><td>110.314138321524</td><td>63.6504317896136</td><td>4.0</td><td>39633429481914934</td><td>0.054535915563381276</td></tr>\n",
       "<tr><td>107.976547449392</td><td>64.3383699099546</td><td>3.40936183929443</td><td>39633434800296858</td><td>0.04034513987715156</td></tr>\n",
       "<tr><td>110.899530203126</td><td>62.8054387147274</td><td>5.34930229187012</td><td>39633418526394874</td><td>0.0368619806336522</td></tr>\n",
       "<tr><td>107.61178560693</td><td>62.9409343260143</td><td>5.36525583267212</td><td>39633421277858835</td><td>0.03611415226180546</td></tr>\n",
       "<tr><td>108.194045155888</td><td>63.3413568832094</td><td>1.75820446014404</td><td>39633424033518029</td><td>0.03439268956698137</td></tr>\n",
       "<tr><td>111.713566147542</td><td>63.1419730649608</td><td>6.0</td><td>39633424062875024</td><td>0.033549356753869206</td></tr>\n",
       "<tr><td>111.560574739366</td><td>63.2346973676546</td><td>1.91962885856628</td><td>39633424062873866</td><td>0.03097630893000877</td></tr>\n",
       "<tr><td>108.947934089356</td><td>62.6981225073975</td><td>4.36008071899414</td><td>39633418509619123</td><td>0.03029424740873916</td></tr>\n",
       "<tr><td>108.812973879775</td><td>64.282899018641</td><td>5.40028047561646</td><td>39633434808682308</td><td>0.02705057333443502</td></tr>\n",
       "<tr><td>107.846150810543</td><td>63.2194850217972</td><td>4.0</td><td>39633424033515014</td><td>0.023596349710945184</td></tr>\n",
       "<tr><td>108.121785292373</td><td>63.3910844316621</td><td>0.541843414306641</td><td>39633426764005478</td><td>0.01950870765065782</td></tr>\n",
       "<tr><td>110.876606123079</td><td>63.4042756434811</td><td>1.57736384868622</td><td>39633426780786600</td><td>0.01658822608242262</td></tr>\n",
       "<tr><td>106.689315180668</td><td>63.3730719489898</td><td>3.76656603813171</td><td>39633424025125987</td><td>0.016405079867327334</td></tr>\n",
       "<tr><td>107.249193480276</td><td>62.9870989369035</td><td>1.54550802707672</td><td>39633421277855936</td><td>0.01502550451249387</td></tr>\n",
       "<tr><td>109.152440923857</td><td>62.8781234907612</td><td>1.53342723846436</td><td>39633421290441026</td><td>0.014739405945314137</td></tr>\n",
       "<tr><td>108.10187675333</td><td>63.0606776354551</td><td>6.0</td><td>39633421282052759</td><td>0.014282998346192805</td></tr>\n",
       "<tr><td>110.224697766126</td><td>63.1872371607692</td><td>6.0</td><td>39633424050293763</td><td>0.013673753677250586</td></tr>\n",
       "<tr><td>107.214590912119</td><td>64.4737206662142</td><td>1.52785706520081</td><td>39633437430124389</td><td>0.012501842248186153</td></tr>\n",
       "</table></div>"
      ],
      "text/plain": [
       "<Table length=20>\n",
       "   TARGET_RA        TARGET_DEC    ...      TARGETID            P_GAL        \n",
       "    float64          float64      ...       int64             float64       \n",
       "---------------- ---------------- ... ----------------- --------------------\n",
       "109.679989646446 63.1859641956687 ... 39633424046099433  0.11285691573827052\n",
       "110.293783220425 63.6778914381844 ... 39633429481914765  0.06961272762817944\n",
       "110.314138321524 63.6504317896136 ... 39633429481914934 0.054535915563381276\n",
       "107.976547449392 64.3383699099546 ... 39633434800296858  0.04034513987715156\n",
       "110.899530203126 62.8054387147274 ... 39633418526394874   0.0368619806336522\n",
       " 107.61178560693 62.9409343260143 ... 39633421277858835  0.03611415226180546\n",
       "108.194045155888 63.3413568832094 ... 39633424033518029  0.03439268956698137\n",
       "111.713566147542 63.1419730649608 ... 39633424062875024 0.033549356753869206\n",
       "111.560574739366 63.2346973676546 ... 39633424062873866  0.03097630893000877\n",
       "108.947934089356 62.6981225073975 ... 39633418509619123  0.03029424740873916\n",
       "108.812973879775  64.282899018641 ... 39633434808682308  0.02705057333443502\n",
       "107.846150810543 63.2194850217972 ... 39633424033515014 0.023596349710945184\n",
       "108.121785292373 63.3910844316621 ... 39633426764005478  0.01950870765065782\n",
       "110.876606123079 63.4042756434811 ... 39633426780786600  0.01658822608242262\n",
       "106.689315180668 63.3730719489898 ... 39633424025125987 0.016405079867327334\n",
       "107.249193480276 62.9870989369035 ... 39633421277855936  0.01502550451249387\n",
       "109.152440923857 62.8781234907612 ... 39633421290441026 0.014739405945314137\n",
       " 108.10187675333 63.0606776354551 ... 39633421282052759 0.014282998346192805\n",
       "110.224697766126 63.1872371607692 ... 39633424050293763 0.013673753677250586\n",
       "107.214590912119 64.4737206662142 ... 39633437430124389 0.012501842248186153"
      ]
     },
     "execution_count": 243,
     "metadata": {},
     "output_type": "execute_result"
    }
   ],
   "source": [
    "data_sort_by_PGal[\"TARGET_RA\", \"TARGET_DEC\", \"SERSIC\", \"TARGETID\", \"P_GAL\"][:20]"
   ]
  },
  {
   "cell_type": "code",
   "execution_count": 244,
   "metadata": {},
   "outputs": [],
   "source": [
    "P_Gal_cumsum = np.cumsum(data_sort_by_PGal[\"P_GAL\"])"
   ]
  },
  {
   "cell_type": "code",
   "execution_count": 245,
   "metadata": {},
   "outputs": [
    {
     "data": {
      "image/png": "[encoded data removed]",
      "text/plain": [
       "<Figure size 640x480 with 1 Axes>"
      ]
     },
     "metadata": {},
     "output_type": "display_data"
    }
   ],
   "source": [
    "plt.plot(list(range(len(P_Gal_cumsum))),  P_Gal_cumsum)\n",
    "plt.xscale(\"log\")\n",
    "\n",
    "plt.yscale(\"log\")\n",
    "plt.xlim(1,len(P_Gal_cumsum))\n",
    "plt.savefig(dpi = 100, fname = f\"{superevent_name}PGAL_CUMULATIVE099.png\")\n",
    "plt.show()"
   ]
  },
  {
   "cell_type": "code",
   "execution_count": 246,
   "metadata": {},
   "outputs": [
    {
     "data": {
      "text/plain": [
       "'data_sort_by_PGal_C = data_f.group_by(\"P_GAL_C\")\\ndata_sort_by_PGal_C = data_sort_by_PGal_C[::-1]\\n\\nlum_after_N_PGal_C = np.sum(data_sort_by_PGal_C[\"LUM_R\"][:N_galaxies])'"
      ]
     },
     "execution_count": 246,
     "metadata": {},
     "output_type": "execute_result"
    }
   ],
   "source": [
    "\"\"\"data_sort_by_PGal_C = data_f.group_by(\"P_GAL_C\")\n",
    "data_sort_by_PGal_C = data_sort_by_PGal_C[::-1]\n",
    "\n",
    "lum_after_N_PGal_C = np.sum(data_sort_by_PGal_C[\"LUM_R\"][:N_galaxies])\"\"\""
   ]
  },
  {
   "cell_type": "code",
   "execution_count": 247,
   "metadata": {},
   "outputs": [
    {
     "data": {
      "text/plain": [
       "'print(f\"The maximum luminosity we cover when ranked by P_gal_C is {lum_after_N_PGal_C}, i.e. {lum_after_N_PGal_C*100/total_lum}% of the total luminosity\") \\nprint(\"The TARGETID values of these galaxies are: \\n\", data_sort_by_PGal_C[\"TARGETID\", \"P_GAL\"][:N_galaxies])'"
      ]
     },
     "execution_count": 247,
     "metadata": {},
     "output_type": "execute_result"
    }
   ],
   "source": [
    "\"\"\"print(f\"The maximum luminosity we cover when ranked by P_gal_C is {lum_after_N_PGal_C}, i.e. {lum_after_N_PGal_C*100/total_lum}% of the total luminosity\") \n",
    "print(\"The TARGETID values of these galaxies are: \\n\", data_sort_by_PGal_C[\"TARGETID\", \"P_GAL\"][:N_galaxies])\"\"\""
   ]
  },
  {
   "cell_type": "markdown",
   "metadata": {
    "tags": []
   },
   "source": [
    "## Exclude unobservabe objects from the PGal ranking and export list\n",
    "\n",
    "We want to cut out galaxies that are not observable by Wendelstein. For this we need the date (to calculate alt and az; we do this for three times to check observability) and Wendelstein location."
   ]
  },
  {
   "cell_type": "code",
   "execution_count": 248,
   "metadata": {},
   "outputs": [],
   "source": [
    "# convert DEG:MIN:SEC to deg with decimals...\n",
    "def conv_to_deg(deg, arcmin, arcsec):\n",
    "    return (deg+ arcmin/60+ arcsec/3600)*u.deg"
   ]
  },
  {
   "cell_type": "markdown",
   "metadata": {
    "tags": []
   },
   "source": [
    "### Get the observable objects (i.e. alt > 0) in the next night and apply that selection to our data"
   ]
  },
  {
   "cell_type": "code",
   "execution_count": 249,
   "metadata": {},
   "outputs": [
    {
     "name": "stderr",
     "output_type": "stream",
     "text": [
      "/tmp/ipykernel_2090118/3580540673.py:18: DeprecationWarning: parsing timezone aware datetimes is deprecated; this will raise an error in the future\n",
      "  t = np.arange(sunset_time, sunrise_time, timedelta(minutes=45)).astype(datetime)              # this may throw a deprecation warning, but seems fine anyway: https://github.com/numpy/numpy/issues/23904\n"
     ]
    }
   ],
   "source": [
    "# set the timzone\n",
    "timezone = \"Europe/Berlin\"\n",
    "tz_Berlin = pytz.timezone(timezone)\n",
    "\n",
    "# get the date (and actually time, but that it useless for us) of today and tomorrow\n",
    "day_Berlin = datetime.now(tz_Berlin)\n",
    "tmrw_Berlin = day_Berlin + timedelta(hours = 23, minutes = 59, seconds = 59)\n",
    "\n",
    "# set the Wendelstein location\n",
    "Wendelstein_loc = EarthLocation(lat = conv_to_deg(47, 42, 13.1), lon = conv_to_deg(12, 0, 43.4), height = 1838*u.m) #check - or + 12\n",
    "\n",
    "# define the sun object, which will tell us sunrise and set\n",
    "sun = SunTimes(Wendelstein_loc.lon.to_value(), Wendelstein_loc.lat.to_value(), Wendelstein_loc.height.to_value())\n",
    "sunset_time = sun.setwhere(day_Berlin, timezone)\n",
    "sunrise_time = sun.risewhere(tmrw_Berlin, timezone)\n",
    "\n",
    "# get a time array that includes the sunset time and from there a 30min interval until sunset\n",
    "t = np.arange(sunset_time, sunrise_time, timedelta(minutes=45)).astype(datetime)              # this may throw a deprecation warning, but seems fine anyway: https://github.com/numpy/numpy/issues/23904\n",
    "\n",
    "# a little cheap but effective: observation at sunset is useless, start 1h after:\n",
    "t = t[2:]"
   ]
  },
  {
   "cell_type": "code",
   "execution_count": 250,
   "metadata": {},
   "outputs": [],
   "source": [
    "# get all the SkyCoords for each objects in the data catalog\n",
    "target_SkyCoord = SkyCoord(data_sort_by_PGal[\"TARGET_RA\"], data_sort_by_PGal[\"TARGET_DEC\"], unit = \"deg\")"
   ]
  },
  {
   "cell_type": "code",
   "execution_count": 251,
   "metadata": {},
   "outputs": [],
   "source": [
    "# get Alt for the different times during the night\n",
    "# t should be an array that consists of a couple of night times, so if *all* of these times don't have a positive alt it will be discarded\n",
    "target_Alt = [target_SkyCoord.transform_to(AltAz(obstime = time, location = Wendelstein_loc)).alt.value for time in t]\n",
    "\n",
    "# now turn it into a numpy array\n",
    "target_Alt = np.array(target_Alt)\n",
    "\n",
    "# swap the axes so that the first axis is all the different targets and the second then includes the alt per observing time\n",
    "target_Alt_swapped = np.swapaxes(target_Alt, 0,1)\n",
    "\n",
    "# now create the selection for each target in the P_Gal catalog\n",
    "sel = []\n",
    "for target in target_Alt_swapped:\n",
    "    sel.append((target > 0).any())\n",
    "    \n",
    "# now apply the selection to the dataset\n",
    "data_sort_by_PGal_observable = data_sort_by_PGal[sel]"
   ]
  },
  {
   "cell_type": "code",
   "execution_count": 252,
   "metadata": {},
   "outputs": [
    {
     "name": "stdout",
     "output_type": "stream",
     "text": [
      "There were 0 non-observable objects in the current dataset. \n",
      "We have 198 objects remaining\n"
     ]
    }
   ],
   "source": [
    "print(f\"There were {len(data_sort_by_PGal) - len(data_sort_by_PGal_observable)} non-observable objects in the current dataset. \\nWe have {len(data_sort_by_PGal_observable)} objects remaining\")"
   ]
  },
  {
   "cell_type": "markdown",
   "metadata": {
    "tags": []
   },
   "source": [
    "### Export the final list & print some data"
   ]
  },
  {
   "cell_type": "code",
   "execution_count": 253,
   "metadata": {},
   "outputs": [
    {
     "name": "stdout",
     "output_type": "stream",
     "text": [
      "These are the stats for S230619bg follow up :\n"
     ]
    }
   ],
   "source": [
    "print(f\"These are the stats for {superevent_name} follow up :\")"
   ]
  },
  {
   "cell_type": "code",
   "execution_count": 254,
   "metadata": {},
   "outputs": [
    {
     "name": "stdout",
     "output_type": "stream",
     "text": [
      "Localization area: 10343.45488358242 deg2 \n",
      "Redshift range in data: 0.0140483036831276 to 0.0727722682952353 \n",
      "corresponding lum distance range: 60.38323357325109 Mpc to 326.225654260868 Mpc \n",
      "highest prob location is at RA = 114.91416309012875 deg and dec = 46.3750811884355 deg \n",
      "total No. of objects in desi data is 198\n"
     ]
    }
   ],
   "source": [
    "data_min_z = np.min(data_sort_by_PGal_observable[\"Z\"])\n",
    "data_max_z = np.max(data_sort_by_PGal_observable[\"Z\"])\n",
    "print(f\"Localization area: {area_99.to_value(u.deg**2)*u.deg**2} \\nRedshift range in data: {data_min_z} to {data_max_z} \\ncorresponding lum distance range: {data_min_dist} to {data_max_dist} \\nhighest prob location is at RA = {ra.deg*u.deg} and dec = {dec.deg*u.deg} \\ntotal No. of objects in desi data is {len(data_sort_by_PGal)}\")\n"
   ]
  },
  {
   "cell_type": "code",
   "execution_count": 255,
   "metadata": {},
   "outputs": [
    {
     "ename": "OSError",
     "evalue": "File PGAL/PGAL_S230619bg.ecsv already exists. If you mean to replace it then use the argument \"overwrite=True\".",
     "output_type": "error",
     "traceback": [
      "\u001b[0;31m---------------------------------------------------------------------------\u001b[0m",
      "\u001b[0;31mOSError\u001b[0m                                   Traceback (most recent call last)",
      "Cell \u001b[0;32mIn[255], line 1\u001b[0m\n\u001b[0;32m----> 1\u001b[0m \u001b[43mdata_sort_by_PGal_observable\u001b[49m\u001b[43m[\u001b[49m\u001b[38;5;124;43m\"\u001b[39;49m\u001b[38;5;124;43mTARGET_RA\u001b[39;49m\u001b[38;5;124;43m\"\u001b[39;49m\u001b[43m,\u001b[49m\u001b[43m \u001b[49m\u001b[38;5;124;43m\"\u001b[39;49m\u001b[38;5;124;43mTARGET_DEC\u001b[39;49m\u001b[38;5;124;43m\"\u001b[39;49m\u001b[43m,\u001b[49m\u001b[43m \u001b[49m\u001b[38;5;124;43m\"\u001b[39;49m\u001b[38;5;124;43mSERSIC\u001b[39;49m\u001b[38;5;124;43m\"\u001b[39;49m\u001b[43m,\u001b[49m\u001b[43m \u001b[49m\u001b[38;5;124;43m\"\u001b[39;49m\u001b[38;5;124;43mZ\u001b[39;49m\u001b[38;5;124;43m\"\u001b[39;49m\u001b[43m,\u001b[49m\u001b[43m \u001b[49m\u001b[38;5;124;43m\"\u001b[39;49m\u001b[38;5;124;43mP_GAL\u001b[39;49m\u001b[38;5;124;43m\"\u001b[39;49m\u001b[43m]\u001b[49m\u001b[43m[\u001b[49m\u001b[43m:\u001b[49m\u001b[43mN_galaxies\u001b[49m\u001b[43m]\u001b[49m\u001b[38;5;241;43m.\u001b[39;49m\u001b[43mwrite\u001b[49m\u001b[43m(\u001b[49m\u001b[38;5;124;43mf\u001b[39;49m\u001b[38;5;124;43m'\u001b[39;49m\u001b[38;5;124;43mPGAL/PGAL_\u001b[39;49m\u001b[38;5;132;43;01m{\u001b[39;49;00m\u001b[43msuperevent_name\u001b[49m\u001b[38;5;132;43;01m}\u001b[39;49;00m\u001b[38;5;124;43m.ecsv\u001b[39;49m\u001b[38;5;124;43m'\u001b[39;49m\u001b[43m,\u001b[49m\u001b[43m \u001b[49m\u001b[43mdelimiter\u001b[49m\u001b[38;5;241;43m=\u001b[39;49m\u001b[38;5;124;43m'\u001b[39;49m\u001b[38;5;124;43m,\u001b[39;49m\u001b[38;5;124;43m'\u001b[39;49m\u001b[43m,\u001b[49m\u001b[43m \u001b[49m\u001b[38;5;28;43mformat\u001b[39;49m\u001b[38;5;241;43m=\u001b[39;49m\u001b[38;5;124;43m'\u001b[39;49m\u001b[38;5;124;43mascii\u001b[39;49m\u001b[38;5;124;43m'\u001b[39;49m\u001b[43m,\u001b[49m\u001b[43m \u001b[49m\u001b[43moverwrite\u001b[49m\u001b[43m \u001b[49m\u001b[38;5;241;43m=\u001b[39;49m\u001b[43m \u001b[49m\u001b[38;5;28;43;01mFalse\u001b[39;49;00m\u001b[43m)\u001b[49m\n",
      "File \u001b[0;32m~/.conda/envs/MambaTest/lib/python3.10/site-packages/astropy/table/connect.py:130\u001b[0m, in \u001b[0;36mTableWrite.__call__\u001b[0;34m(self, serialize_method, *args, **kwargs)\u001b[0m\n\u001b[1;32m    128\u001b[0m instance \u001b[38;5;241m=\u001b[39m \u001b[38;5;28mself\u001b[39m\u001b[38;5;241m.\u001b[39m_instance\n\u001b[1;32m    129\u001b[0m \u001b[38;5;28;01mwith\u001b[39;00m serialize_method_as(instance, serialize_method):\n\u001b[0;32m--> 130\u001b[0m     \u001b[38;5;28;43mself\u001b[39;49m\u001b[38;5;241;43m.\u001b[39;49m\u001b[43mregistry\u001b[49m\u001b[38;5;241;43m.\u001b[39;49m\u001b[43mwrite\u001b[49m\u001b[43m(\u001b[49m\u001b[43minstance\u001b[49m\u001b[43m,\u001b[49m\u001b[43m \u001b[49m\u001b[38;5;241;43m*\u001b[39;49m\u001b[43margs\u001b[49m\u001b[43m,\u001b[49m\u001b[43m \u001b[49m\u001b[38;5;241;43m*\u001b[39;49m\u001b[38;5;241;43m*\u001b[39;49m\u001b[43mkwargs\u001b[49m\u001b[43m)\u001b[49m\n",
      "File \u001b[0;32m~/.conda/envs/MambaTest/lib/python3.10/site-packages/astropy/io/registry/core.py:385\u001b[0m, in \u001b[0;36mUnifiedOutputRegistry.write\u001b[0;34m(self, data, format, *args, **kwargs)\u001b[0m\n\u001b[1;32m    380\u001b[0m     \u001b[38;5;28mformat\u001b[39m \u001b[38;5;241m=\u001b[39m \u001b[38;5;28mself\u001b[39m\u001b[38;5;241m.\u001b[39m_get_valid_format(\n\u001b[1;32m    381\u001b[0m         \u001b[38;5;124m\"\u001b[39m\u001b[38;5;124mwrite\u001b[39m\u001b[38;5;124m\"\u001b[39m, data\u001b[38;5;241m.\u001b[39m\u001b[38;5;18m__class__\u001b[39m, path, fileobj, args, kwargs\n\u001b[1;32m    382\u001b[0m     )\n\u001b[1;32m    384\u001b[0m writer \u001b[38;5;241m=\u001b[39m \u001b[38;5;28mself\u001b[39m\u001b[38;5;241m.\u001b[39mget_writer(\u001b[38;5;28mformat\u001b[39m, data\u001b[38;5;241m.\u001b[39m\u001b[38;5;18m__class__\u001b[39m)\n\u001b[0;32m--> 385\u001b[0m \u001b[38;5;28;01mreturn\u001b[39;00m \u001b[43mwriter\u001b[49m\u001b[43m(\u001b[49m\u001b[43mdata\u001b[49m\u001b[43m,\u001b[49m\u001b[43m \u001b[49m\u001b[38;5;241;43m*\u001b[39;49m\u001b[43margs\u001b[49m\u001b[43m,\u001b[49m\u001b[43m \u001b[49m\u001b[38;5;241;43m*\u001b[39;49m\u001b[38;5;241;43m*\u001b[39;49m\u001b[43mkwargs\u001b[49m\u001b[43m)\u001b[49m\n",
      "File \u001b[0;32m~/.conda/envs/MambaTest/lib/python3.10/site-packages/astropy/io/ascii/connect.py:28\u001b[0m, in \u001b[0;36mio_write\u001b[0;34m(format, table, filename, **kwargs)\u001b[0m\n\u001b[1;32m     26\u001b[0m     \u001b[38;5;28mformat\u001b[39m \u001b[38;5;241m=\u001b[39m re\u001b[38;5;241m.\u001b[39msub(\u001b[38;5;124mr\u001b[39m\u001b[38;5;124m\"\u001b[39m\u001b[38;5;124m^ascii\u001b[39m\u001b[38;5;124m\\\u001b[39m\u001b[38;5;124m.\u001b[39m\u001b[38;5;124m\"\u001b[39m, \u001b[38;5;124m\"\u001b[39m\u001b[38;5;124m\"\u001b[39m, \u001b[38;5;28mformat\u001b[39m)\n\u001b[1;32m     27\u001b[0m     kwargs[\u001b[38;5;124m\"\u001b[39m\u001b[38;5;124mformat\u001b[39m\u001b[38;5;124m\"\u001b[39m] \u001b[38;5;241m=\u001b[39m \u001b[38;5;28mformat\u001b[39m\n\u001b[0;32m---> 28\u001b[0m \u001b[38;5;28;01mreturn\u001b[39;00m \u001b[43mwrite\u001b[49m\u001b[43m(\u001b[49m\u001b[43mtable\u001b[49m\u001b[43m,\u001b[49m\u001b[43m \u001b[49m\u001b[43mfilename\u001b[49m\u001b[43m,\u001b[49m\u001b[43m \u001b[49m\u001b[38;5;241;43m*\u001b[39;49m\u001b[38;5;241;43m*\u001b[39;49m\u001b[43mkwargs\u001b[49m\u001b[43m)\u001b[49m\n",
      "File \u001b[0;32m~/.conda/envs/MambaTest/lib/python3.10/site-packages/astropy/io/ascii/ui.py:940\u001b[0m, in \u001b[0;36mwrite\u001b[0;34m(table, output, format, Writer, fast_writer, overwrite, **kwargs)\u001b[0m\n\u001b[1;32m    938\u001b[0m     output \u001b[38;5;241m=\u001b[39m os\u001b[38;5;241m.\u001b[39mpath\u001b[38;5;241m.\u001b[39mexpanduser(output)\n\u001b[1;32m    939\u001b[0m     \u001b[38;5;28;01mif\u001b[39;00m \u001b[38;5;129;01mnot\u001b[39;00m overwrite \u001b[38;5;129;01mand\u001b[39;00m os\u001b[38;5;241m.\u001b[39mpath\u001b[38;5;241m.\u001b[39mlexists(output):\n\u001b[0;32m--> 940\u001b[0m         \u001b[38;5;28;01mraise\u001b[39;00m \u001b[38;5;167;01mOSError\u001b[39;00m(NOT_OVERWRITING_MSG\u001b[38;5;241m.\u001b[39mformat(output))\n\u001b[1;32m    942\u001b[0m \u001b[38;5;28;01mif\u001b[39;00m output \u001b[38;5;129;01mis\u001b[39;00m \u001b[38;5;28;01mNone\u001b[39;00m:\n\u001b[1;32m    943\u001b[0m     output \u001b[38;5;241m=\u001b[39m sys\u001b[38;5;241m.\u001b[39mstdout\n",
      "\u001b[0;31mOSError\u001b[0m: File PGAL/PGAL_S230619bg.ecsv already exists. If you mean to replace it then use the argument \"overwrite=True\"."
     ]
    }
   ],
   "source": [
    "data_sort_by_PGal_observable[\"TARGET_RA\", \"TARGET_DEC\", \"SERSIC\", \"Z\", \"P_GAL\"][:N_galaxies].write(f'PGAL/PGAL_{superevent_name}.ecsv', delimiter=',', format='ascii', overwrite = False)\n"
   ]
  },
  {
   "cell_type": "code",
   "execution_count": null,
   "metadata": {},
   "outputs": [],
   "source": [
    "# add timing data to table, "
   ]
  }
 ],
 "metadata": {
  "kernelspec": {
   "display_name": "Python (MambaTest)",
   "language": "python",
   "name": "mambatest"
  },
  "language_info": {
   "codemirror_mode": {
    "name": "ipython",
    "version": 3
   },
   "file_extension": ".py",
   "mimetype": "text/x-python",
   "name": "python",
   "nbconvert_exporter": "python",
   "pygments_lexer": "ipython3",
   "version": "3.10.10"
  }
 },
 "nbformat": 4,
 "nbformat_minor": 4
}
