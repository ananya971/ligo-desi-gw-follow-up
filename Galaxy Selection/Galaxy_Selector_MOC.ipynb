{
 "cells": [
  {
   "attachments": {},
   "cell_type": "markdown",
   "metadata": {
    "tags": []
   },
   "source": [
    "# Galaxy Selector MOC\n",
    "\n",
    "**Designed to work with Multi-Ordering-Sky-Maps and both burst (i.e. no distance) and normal LVK maps**\n",
    "\n",
    "\n",
    "\n",
    "Select the galaxies to observe by WWFI in this simple manner:\n",
    "- get the LIGO event data\n",
    "- read the LIGO event data into the notebook, extract some information\n",
    "- read the DESI database into the notebook, \"clean\" the data\n",
    "- get the 99% credible regions for the event, add them as a column to the data\n",
    "- only keep data within the 99% region\n",
    "- calculate all the luminosities (& more)\n",
    "- rank them by luminosity (for now just print the TARGETID), 3D/2D localization and with a luminosity-distance 2D dependant counterpart likelihood\n",
    "\n",
    "(some) Sources: \n",
    "- https://iopscience.iop.org/article/10.3847/0067-0049/226/1/10\n",
    "- https://emfollow.docs.ligo.org/userguide/tutorial/skymaps.html\n",
    "- https://emfollow.docs.ligo.org/userguide/tutorial/multiorder_skymaps.html\n",
    "- https://arxiv.org/pdf/1710.05452.pdf"
   ]
  },
  {
   "attachments": {},
   "cell_type": "markdown",
   "metadata": {
    "tags": []
   },
   "source": [
    "## Import all libraries, load GW data and DESI data and extract basic info"
   ]
  },
  {
   "attachments": {},
   "cell_type": "markdown",
   "metadata": {
    "tags": []
   },
   "source": [
    "### imports, GW data loading"
   ]
  },
  {
   "cell_type": "code",
   "execution_count": 207,
   "metadata": {},
   "outputs": [],
   "source": [
    "import numpy as np\n",
    "from scipy.stats import norm\n",
    "import scipy as sc\n",
    "from scipy.integrate import quad\n",
    "\n",
    "\n",
    "from astropy.io import fits, ascii\n",
    "from astropy.table import Table, hstack, QTable, vstack\n",
    "from astropy import table\n",
    "from astropy.coordinates import SkyCoord, EarthLocation, AltAz\n",
    "\n",
    "import astropy_healpix as ah\n",
    "\n",
    "\n",
    "import psycopg2\n",
    "\n",
    "from scipy.stats import norm\n",
    "\n",
    "from astropy.cosmology import FlatLambdaCDM\n",
    "from astropy.cosmology import Planck18, z_at_value\n",
    "from astropy.coordinates import Distance, SkyCoord\n",
    "from astropy import units as u\n",
    "\n",
    "import astropy.constants as asc\n",
    "\n",
    "import matplotlib.pyplot as plt\n",
    "\n",
    "import requests as rq\n",
    "\n",
    "import gasel as gs\n",
    "\n",
    "from datetime import datetime\n",
    "from datetime import timedelta\n",
    "from datetime import date\n",
    "from suntimes import SunTimes\n",
    "import pytz"
   ]
  },
  {
   "cell_type": "code",
   "execution_count": 208,
   "metadata": {},
   "outputs": [
    {
     "name": "stdout",
     "output_type": "stream",
     "text": [
      "(to get DESI data) you should run scp dgruen@perlmutter.nersc.gov:/pscratch/sd/j/jgassert/good_z_data.fits /project/ls-gruen/ligodesi/\n"
     ]
    }
   ],
   "source": [
    "# Get DESI data\n",
    "print(\"(to get DESI data) you should run scp dgruen@perlmutter.nersc.gov:/pscratch/sd/j/jgassert/good_z_data.fits /project/ls-gruen/ligodesi/\")\n",
    "\n",
    "# specify the superevent name:\n",
    "superevent_name = \"S230627c\"\n",
    "\n",
    "# pipeline - bayestar is preferred if available, otherwise maybe use olib? bilby? cwb? whatever these mean\n",
    "pipeline_type = \"bayestar\"\n",
    "\n",
    "# do we cross-match to some other catalog in the end?\n",
    "cross_match = True\n",
    "\n",
    "if pipeline_type == \"cwb\":\n",
    "    # bursts probably only for very nearby core-collapse or Andromeda events, maybe cut at 1Mpc or something of that order? -> check if there is a very nearby galaxy\n",
    "        # think about which pipeline detected it!\n",
    "    # or very massive bbh but then hope is that cbc would detect as well\n",
    "    \n",
    "    modeled_search = False\n",
    "else:\n",
    "    modeled_search = True\n",
    "\n",
    "# storage directory\n",
    "# storage = \"/project/ls-gruen/ligodesi/\"\n",
    "# storage_desi_data = storage\n",
    "storage = \"/Users/juliusgassert/Desktop/Studium/LMU/Physik/BA/LIGO DESI GW Follow Up/ligo-desi-gw-follow-up/Galaxy Selection/Files/\" # Julius on NERSC\n",
    "storage_desi_data = \"/Users/juliusgassert/Astro/\""
   ]
  },
  {
   "cell_type": "code",
   "execution_count": 209,
   "metadata": {},
   "outputs": [
    {
     "name": "stdout",
     "output_type": "stream",
     "text": [
      "read skymap from local file\n"
     ]
    }
   ],
   "source": [
    "path = storage+f\"{superevent_name}{pipeline_type}.multiorder.fits,1\" # 5min after alert this should be there\n",
    "\n",
    "try:\n",
    "    skymap = QTable.read(path)\n",
    "    print(\"read skymap from local file\")\n",
    "    \n",
    "except:\n",
    "    download_url = f\"https://gracedb.ligo.org/api/superevents/{superevent_name}/files/{pipeline_type}.multiorder.fits,1\"\n",
    "    save_path = storage+f\"{superevent_name}{pipeline_type}.multiorder.fits,1\"\n",
    "    print(\"no local skymap...\")\n",
    "    print(f\"...will download LIGO event file from superevent {superevent_name}, corresponding file URL is {download_url} and save it in .../Files/\")\n",
    "    \n",
    "    response = rq.get(download_url, allow_redirects = True)\n",
    "    print(\"HTTP status\",response.status_code)\n",
    "    if response.status_code == 200:\n",
    "        with open(save_path, 'wb') as f:\n",
    "            f.write(response.content)\n",
    "            \n",
    "        skymap = QTable.read(path) # Galaxy Selection/Files/S230627cbayestar.multiorder.fits,1\n",
    "                                   # Galaxy Selection/Files/S230627cbayestar.multiorder.fits,1"
   ]
  },
  {
   "attachments": {},
   "cell_type": "markdown",
   "metadata": {},
   "source": [
    "Specifiy the path where the data is located and then load the data (this loads everything, just have a look)"
   ]
  },
  {
   "cell_type": "code",
   "execution_count": 210,
   "metadata": {},
   "outputs": [
    {
     "data": {
      "text/html": [
       "<div><i>QTable length=5</i>\n",
       "<table id=\"table5047370704\" class=\"table-striped table-bordered table-condensed\">\n",
       "<thead><tr><th>UNIQ</th><th>PROBDENSITY</th><th>DISTMU</th><th>DISTSIGMA</th><th>DISTNORM</th></tr></thead>\n",
       "<thead><tr><th></th><th>1 / sr</th><th>Mpc</th><th>Mpc</th><th>1 / Mpc2</th></tr></thead>\n",
       "<thead><tr><th>int64</th><th>float64</th><th>float64</th><th>float64</th><th>float64</th></tr></thead>\n",
       "<tr><td>1024</td><td>4.834044936031839e-59</td><td>87.43650628311332</td><td>5.361010453946117</td><td>0.00013031212381646256</td></tr>\n",
       "<tr><td>1025</td><td>2.608327404101132e-66</td><td>59.407119949864665</td><td>51.91809126858443</td><td>0.000164524119655172</td></tr>\n",
       "<tr><td>1026</td><td>3.913738900051278e-55</td><td>89.63029724276628</td><td>4.9586462203413495</td><td>0.00012409752623990028</td></tr>\n",
       "<tr><td>1027</td><td>2.1602709155673238e-63</td><td>89.48140051853844</td><td>23.865930127557007</td><td>0.00011659770413241142</td></tr>\n",
       "<tr><td>1028</td><td>2.1830901379702983e-72</td><td>96.48564911597133</td><td>17.122543791193262</td><td>0.00010413779022211329</td></tr>\n",
       "</table></div>"
      ],
      "text/plain": [
       "<QTable length=5>\n",
       " UNIQ      PROBDENSITY       ...     DISTSIGMA             DISTNORM       \n",
       "              1 / sr         ...        Mpc                1 / Mpc2       \n",
       "int64        float64         ...      float64              float64        \n",
       "----- ---------------------- ... ------------------ ----------------------\n",
       " 1024  4.834044936031839e-59 ...  5.361010453946117 0.00013031212381646256\n",
       " 1025  2.608327404101132e-66 ...  51.91809126858443   0.000164524119655172\n",
       " 1026  3.913738900051278e-55 ... 4.9586462203413495 0.00012409752623990028\n",
       " 1027 2.1602709155673238e-63 ... 23.865930127557007 0.00011659770413241142\n",
       " 1028 2.1830901379702983e-72 ... 17.122543791193262 0.00010413779022211329"
      ]
     },
     "execution_count": 210,
     "metadata": {},
     "output_type": "execute_result"
    }
   ],
   "source": [
    "skymap[:5]"
   ]
  },
  {
   "attachments": {},
   "cell_type": "markdown",
   "metadata": {
    "tags": []
   },
   "source": [
    "### Get basic values from GW event\n",
    "\n",
    "We now extract some basic information  from the healpix data:\n",
    "- ipix_max: pixel with highest likelihood\n",
    "- npix: total number of pixels\n",
    "- ra, dec: ra and dec of the pixel with the highest likelihood\n",
    "\n",
    "Then we open the full fits file and extract some more basic info from the header:\n",
    "- dist_mean: mean distance of the GW event\n",
    "- dist_std: error of the distance"
   ]
  },
  {
   "cell_type": "code",
   "execution_count": 211,
   "metadata": {},
   "outputs": [
    {
     "name": "stdout",
     "output_type": "stream",
     "text": [
      "UNIQ ID of highest prob sky localization:  5714048\n"
     ]
    }
   ],
   "source": [
    "# most probable sky location\n",
    "i = np.argmax(skymap[\"PROBDENSITY\"])\n",
    "uniq = skymap[i][\"UNIQ\"]\n",
    "print(\"UNIQ ID of highest prob sky localization: \", uniq)"
   ]
  },
  {
   "cell_type": "code",
   "execution_count": 212,
   "metadata": {},
   "outputs": [
    {
     "name": "stdout",
     "output_type": "stream",
     "text": [
      "Highest probability at (RA, dec):  160.56933483652762 48.58109886316553 with prob [1/deg^2] of:  0.037787030614068476 and UNIQ ID:  5714048\n"
     ]
    }
   ],
   "source": [
    "# calculate the most probable pixel, convert to RA and dec\n",
    "level_max, ipix_max = ah.uniq_to_level_ipix(uniq)\n",
    "nside = ah.level_to_nside(level_max)\n",
    "ra, dec = ah.healpix_to_lonlat(ipix_max, nside, order = \"nested\")\n",
    "print(\"Highest probability at (RA, dec): \", ra.deg, dec.deg, \"with prob [1/deg^2] of: \", skymap[i]['PROBDENSITY'].to_value(u.deg**-2), \"and UNIQ ID: \", skymap[i][\"UNIQ\"])"
   ]
  },
  {
   "attachments": {},
   "cell_type": "markdown",
   "metadata": {},
   "source": [
    "Now open the fits file and read basics info from the header"
   ]
  },
  {
   "cell_type": "code",
   "execution_count": 213,
   "metadata": {},
   "outputs": [
    {
     "name": "stdout",
     "output_type": "stream",
     "text": [
      "The dist_mean and dist_std values:  277.7947337520903 Mpc 68.32180306338739 Mpc\n",
      "This corresponds to the most likely z 0.05999613953326298 redshift and its error 0.01524239412015507 redshift\n"
     ]
    }
   ],
   "source": [
    "if modeled_search:\n",
    "    fits_gw = fits.open(path)\n",
    "    header = fits_gw[1].header\n",
    "    dist_mean = header[\"DISTMEAN\"]\n",
    "    dist_std = header[\"DISTSTD\"]\n",
    "    print(\"The dist_mean and dist_std values: \", dist_mean*u.Mpc, dist_std*u.Mpc)\n",
    "    most_likely_z = z_at_value(Planck18.luminosity_distance, dist_mean*u.Mpc, zmax = 5)\n",
    "    most_likely_z_std = z_at_value(Planck18.luminosity_distance, dist_std*u.Mpc, zmax = 5)\n",
    "    print(f\"This corresponds to the most likely z {most_likely_z} and its error {most_likely_z_std}\")\n",
    "else:\n",
    "    print(\"As this is an unmodeled search there is no distance available\")"
   ]
  },
  {
   "attachments": {},
   "cell_type": "markdown",
   "metadata": {
    "tags": []
   },
   "source": [
    "### Get DESI data\n",
    "\n",
    "Load the full daily data from the file, which only includes good redshift objects"
   ]
  },
  {
   "cell_type": "code",
   "execution_count": 214,
   "metadata": {},
   "outputs": [],
   "source": [
    "follow_up_others = False\n",
    "\n",
    "follow_up_their_z = False"
   ]
  },
  {
   "cell_type": "code",
   "execution_count": 215,
   "metadata": {},
   "outputs": [],
   "source": [
    "if follow_up_others:\n",
    "    center_ra = 109.25\n",
    "    center_dec = 63.68\n",
    "    radius = 1.227\n",
    "    \n",
    "    data = gs.db_doall(center_ra, center_dec, radius)\n",
    "    \n",
    "    if follow_up_their_z:\n",
    "        z_others = 0\n",
    "        z_others_std = 0.4\n",
    "        sigma_accuracy = 1\n",
    "    \n",
    "        ii = data[\"Z\"]-sigma_accuracy*data[\"ZERR\"]<z_others+sigma_accuracy*z_others_std\n",
    "        ii &= data[\"Z\"]+sigma_accuracy*data[\"ZERR\"]>z_others-sigma_accuracy*z_others_std\n",
    "    \n",
    "        data = data[ii]\n",
    "    \n",
    "    \n",
    "else:\n",
    "    data = Table.read(storage_desi_data+\"good_z_data.fits\")"
   ]
  },
  {
   "cell_type": "code",
   "execution_count": 216,
   "metadata": {},
   "outputs": [
    {
     "data": {
      "text/html": [
       "<div><i>Table length=5</i>\n",
       "<table id=\"table4979752768\" class=\"table-striped table-bordered table-condensed\">\n",
       "<thead><tr><th>TARGETID</th><th>TARGET_RA</th><th>TARGET_DEC</th><th>LASTNIGHT</th><th>Z</th><th>ZERR</th><th>ZWARN</th><th>FLUX_G</th><th>FLUX_R</th><th>FLUX_Z</th><th>SPECTYPE</th><th>BGS_TARGET</th><th>EBV</th><th>SERSIC</th></tr></thead>\n",
       "<thead><tr><th>int64</th><th>float64</th><th>float64</th><th>int64</th><th>float64</th><th>float64</th><th>int64</th><th>float64</th><th>float64</th><th>float64</th><th>bytes6</th><th>int64</th><th>float64</th><th>float64</th></tr></thead>\n",
       "<tr><td>-407206628</td><td>289.160148698913</td><td>63.8756777034092</td><td>20210513</td><td>0.488143245600312</td><td>6.00460085329576e-05</td><td>0</td><td>0.0</td><td>0.0</td><td>0.0</td><td>GALAXY</td><td>0</td><td>0.0</td><td>0.0</td></tr>\n",
       "<tr><td>-407206517</td><td>289.24523373072</td><td>64.1182126208345</td><td>20210513</td><td>0.353953432359517</td><td>9.16563620937551e-05</td><td>0</td><td>0.0</td><td>0.0</td><td>0.0</td><td>GALAXY</td><td>0</td><td>0.0</td><td>0.0</td></tr>\n",
       "<tr><td>-407206395</td><td>288.991137990503</td><td>64.4269390406163</td><td>20210513</td><td>1.04167986703249</td><td>0.000103598417102832</td><td>0</td><td>0.0</td><td>0.0</td><td>0.0</td><td>GALAXY</td><td>0</td><td>0.0</td><td>0.0</td></tr>\n",
       "<tr><td>-407206306</td><td>288.328820102558</td><td>64.8171915439228</td><td>20210513</td><td>0.446085744563991</td><td>0.000103302897346752</td><td>0</td><td>0.0</td><td>0.0</td><td>0.0</td><td>GALAXY</td><td>0</td><td>0.0</td><td>0.0</td></tr>\n",
       "<tr><td>-407206302</td><td>288.170414727353</td><td>64.8761951861955</td><td>20210513</td><td>5.11210896599966</td><td>0.000690663180059733</td><td>0</td><td>0.0</td><td>0.0</td><td>0.0</td><td>QSO</td><td>0</td><td>0.0</td><td>0.0</td></tr>\n",
       "</table></div>"
      ],
      "text/plain": [
       "<Table length=5>\n",
       " TARGETID     TARGET_RA        TARGET_DEC    ... BGS_TARGET   EBV    SERSIC\n",
       "  int64        float64          float64      ...   int64    float64 float64\n",
       "---------- ---------------- ---------------- ... ---------- ------- -------\n",
       "-407206628 289.160148698913 63.8756777034092 ...          0     0.0     0.0\n",
       "-407206517  289.24523373072 64.1182126208345 ...          0     0.0     0.0\n",
       "-407206395 288.991137990503 64.4269390406163 ...          0     0.0     0.0\n",
       "-407206306 288.328820102558 64.8171915439228 ...          0     0.0     0.0\n",
       "-407206302 288.170414727353 64.8761951861955 ...          0     0.0     0.0"
      ]
     },
     "execution_count": 216,
     "metadata": {},
     "output_type": "execute_result"
    }
   ],
   "source": [
    "data[:5]"
   ]
  },
  {
   "attachments": {},
   "cell_type": "markdown",
   "metadata": {
    "tags": []
   },
   "source": [
    "## Do all the calculations, selections,...\n",
    "\n",
    "- turn the daily DESI data into a Table\n",
    "- do some basic data selection stuff: only keep good + positive redshifts, only positive values of r-band flux and eliminate duplicates (right now simply takes the first entry)\n",
    "- add the ipix (healpix) pixel value for each target\n",
    "- calculate the probability for each target\n",
    "- add these values to the Table (\"PROB\"), select only targets within the 99% credible region (i.e. with a certainty of 99% the GW event is inside this region)\n",
    "- calculate the distances and its errors from the redshift, add to the data table\n",
    "- calculate the 3D probability just like here: https://iopscience.iop.org/article/10.3847/0067-0049/226/1/10 (§4) and add these values to the table\n",
    "- sort the table by its 3D probability (descending)\n",
    "- calculate absolute and apparent magnitude, luminosity and add to table\n",
    "\n",
    "The final step is to include the calculation of the most likely host galaxy from https://arxiv.org/pdf/1710.05452.pdf (GW170817); these values are then also added to the table as \"P_GAL\""
   ]
  },
  {
   "cell_type": "code",
   "execution_count": 217,
   "metadata": {},
   "outputs": [
    {
     "data": {
      "text/html": [
       "<div><i>Table length=5</i>\n",
       "<table id=\"table5047355808\" class=\"table-striped table-bordered table-condensed\">\n",
       "<thead><tr><th>TARGETID</th><th>TARGET_RA</th><th>TARGET_DEC</th><th>LASTNIGHT</th><th>Z</th><th>ZERR</th><th>ZWARN</th><th>FLUX_G</th><th>FLUX_R</th><th>FLUX_Z</th><th>SPECTYPE</th><th>BGS_TARGET</th><th>EBV</th><th>SERSIC</th></tr></thead>\n",
       "<thead><tr><th>int64</th><th>float64</th><th>float64</th><th>int64</th><th>float64</th><th>float64</th><th>int64</th><th>float64</th><th>float64</th><th>float64</th><th>bytes6</th><th>int64</th><th>float64</th><th>float64</th></tr></thead>\n",
       "<tr><td>-407206628</td><td>289.160148698913</td><td>63.8756777034092</td><td>20210513</td><td>0.488143245600312</td><td>6.00460085329576e-05</td><td>0</td><td>0.0</td><td>0.0</td><td>0.0</td><td>GALAXY</td><td>0</td><td>0.0</td><td>0.0</td></tr>\n",
       "<tr><td>-407206517</td><td>289.24523373072</td><td>64.1182126208345</td><td>20210513</td><td>0.353953432359517</td><td>9.16563620937551e-05</td><td>0</td><td>0.0</td><td>0.0</td><td>0.0</td><td>GALAXY</td><td>0</td><td>0.0</td><td>0.0</td></tr>\n",
       "<tr><td>-407206395</td><td>288.991137990503</td><td>64.4269390406163</td><td>20210513</td><td>1.04167986703249</td><td>0.000103598417102832</td><td>0</td><td>0.0</td><td>0.0</td><td>0.0</td><td>GALAXY</td><td>0</td><td>0.0</td><td>0.0</td></tr>\n",
       "<tr><td>-407206306</td><td>288.328820102558</td><td>64.8171915439228</td><td>20210513</td><td>0.446085744563991</td><td>0.000103302897346752</td><td>0</td><td>0.0</td><td>0.0</td><td>0.0</td><td>GALAXY</td><td>0</td><td>0.0</td><td>0.0</td></tr>\n",
       "<tr><td>-407206302</td><td>288.170414727353</td><td>64.8761951861955</td><td>20210513</td><td>5.11210896599966</td><td>0.000690663180059733</td><td>0</td><td>0.0</td><td>0.0</td><td>0.0</td><td>QSO</td><td>0</td><td>0.0</td><td>0.0</td></tr>\n",
       "</table></div>"
      ],
      "text/plain": [
       "<Table length=5>\n",
       " TARGETID     TARGET_RA        TARGET_DEC    ... BGS_TARGET   EBV    SERSIC\n",
       "  int64        float64          float64      ...   int64    float64 float64\n",
       "---------- ---------------- ---------------- ... ---------- ------- -------\n",
       "-407206628 289.160148698913 63.8756777034092 ...          0     0.0     0.0\n",
       "-407206517  289.24523373072 64.1182126208345 ...          0     0.0     0.0\n",
       "-407206395 288.991137990503 64.4269390406163 ...          0     0.0     0.0\n",
       "-407206306 288.328820102558 64.8171915439228 ...          0     0.0     0.0\n",
       "-407206302 288.170414727353 64.8761951861955 ...          0     0.0     0.0"
      ]
     },
     "execution_count": 217,
     "metadata": {},
     "output_type": "execute_result"
    }
   ],
   "source": [
    "data[:5]"
   ]
  },
  {
   "attachments": {},
   "cell_type": "markdown",
   "metadata": {
    "tags": []
   },
   "source": [
    "### data clean up"
   ]
  },
  {
   "cell_type": "code",
   "execution_count": 218,
   "metadata": {},
   "outputs": [],
   "source": [
    "#data = data[data[\"Z\"]> 0] # this migh have 2 reasons\n",
    "#data = data[data[\"ZWARN\"] == 0]"
   ]
  },
  {
   "cell_type": "code",
   "execution_count": 219,
   "metadata": {},
   "outputs": [],
   "source": [
    "#data = data[data['FLUX_Z']>0]\n",
    "# data = table.unique(data, keys = \"TARGETID\")"
   ]
  },
  {
   "cell_type": "code",
   "execution_count": 220,
   "metadata": {},
   "outputs": [],
   "source": [
    "data = data[data[\"TARGETID\"]>0]"
   ]
  },
  {
   "cell_type": "code",
   "execution_count": 221,
   "metadata": {},
   "outputs": [
    {
     "name": "stdout",
     "output_type": "stream",
     "text": [
      "We have 28139735 objects in the full catalog\n"
     ]
    }
   ],
   "source": [
    "print(f\"We have {len(data)} objects in the full catalog\")"
   ]
  },
  {
   "attachments": {},
   "cell_type": "markdown",
   "metadata": {},
   "source": [
    "We should also get rid of stars, since they wont be the host of a GW event"
   ]
  },
  {
   "cell_type": "code",
   "execution_count": 222,
   "metadata": {},
   "outputs": [],
   "source": [
    "data = data[data[\"SPECTYPE\"] != \"STAR\"]"
   ]
  },
  {
   "attachments": {},
   "cell_type": "markdown",
   "metadata": {
    "jp-MarkdownHeadingCollapsed": true,
    "tags": []
   },
   "source": [
    "### Calculate the healpix id for every object in the catalog and its probability; append this data to the Table"
   ]
  },
  {
   "cell_type": "code",
   "execution_count": 223,
   "metadata": {},
   "outputs": [],
   "source": [
    "max_level = 29 # highest possible HEALPix resolution that can be represented in a 64-bit signed integer\n",
    "max_nside = ah.level_to_nside(max_level)\n",
    "level, ipix = ah.uniq_to_level_ipix(skymap[\"UNIQ\"])\n",
    "\n",
    "index = ipix*(2**(max_level-level))**2\n",
    "\n",
    "sorter = np.argsort(index)\n",
    "\n",
    "# this is the NESTED pixel index of the target sky location, NOT THE UNIQ ID\n",
    "match_ipix = ah.lonlat_to_healpix(data[\"TARGET_RA\"]*u.deg, data[\"TARGET_DEC\"]*u.deg, max_nside, order='nested')\n",
    "\n",
    "# here we get the pixel index (i.e. where the entry is in the table, also NOT THE UNIQ ID) of each target\n",
    "sorter_i = sorter[np.searchsorted(index, match_ipix, side='right', sorter=sorter) - 1]\n",
    "probdensity = skymap[sorter_i]['PROBDENSITY'].to_value(u.deg**-2)\n",
    "\n",
    "# now we calculate the UNIQ ID for all our targets:\n",
    "\n",
    "uniq = skymap[\"UNIQ\"][sorter_i]\n",
    "#to make things easier in future, I will now also append the UNIQ pixels DISTMU, DISTSIGMA and DISTNORM values. However, be careful, since these DO NOT CORRESPOND THE TARGETS IN DESI DIRECTLY!\n",
    "\n",
    "if modeled_search:\n",
    "    distmu = skymap[sorter_i][\"DISTMU\"]\n",
    "    distsigma = skymap[sorter_i][\"DISTSIGMA\"]\n",
    "    distnorm = skymap[sorter_i][\"DISTNORM\"]\n"
   ]
  },
  {
   "cell_type": "code",
   "execution_count": 224,
   "metadata": {},
   "outputs": [],
   "source": [
    "# len(UNIQ), len(data), len(skymap)"
   ]
  },
  {
   "cell_type": "code",
   "execution_count": 225,
   "metadata": {},
   "outputs": [],
   "source": [
    "#data = data.keep_columns([\"TARGETID\", \"TARGET_RA\", \"TARGET_DEC\", \"TILEID\", \"NIGHT\", \"Z\", \"ZERR\", \"ZWARN\", \"DELTACHI2\", \"FLUX_Z\", \"BGS_TARGET\", \"EBV\", \"SERSIC\", \"MWS_TARGET\", \"FILENAME\"])\n",
    "                          "
   ]
  },
  {
   "cell_type": "code",
   "execution_count": 226,
   "metadata": {},
   "outputs": [],
   "source": [
    "if modeled_search:\n",
    "    data = hstack([data, Table({\"UNIQ\": uniq}), Table({\"PROBDENSITY\": probdensity}), Table({\"DISTMU\": distmu}), Table({\"DISTSIGMA\": distsigma}), Table({\"DISTNORM\": distnorm})])\n",
    "else: \n",
    "    data = hstack([data, Table({\"UNIQ\": uniq}), Table({\"PROBDENSITY\": probdensity})])\n",
    "    print(f\"The table will not contain any distance info since there is none available\")"
   ]
  },
  {
   "cell_type": "code",
   "execution_count": 227,
   "metadata": {},
   "outputs": [
    {
     "data": {
      "text/html": [
       "<div><i>Table length=5</i>\n",
       "<table id=\"table5019033760\" class=\"table-striped table-bordered table-condensed\">\n",
       "<thead><tr><th>TARGETID</th><th>TARGET_RA</th><th>TARGET_DEC</th><th>LASTNIGHT</th><th>Z</th><th>ZERR</th><th>ZWARN</th><th>FLUX_G</th><th>FLUX_R</th><th>FLUX_Z</th><th>SPECTYPE</th><th>BGS_TARGET</th><th>EBV</th><th>SERSIC</th><th>UNIQ</th><th>PROBDENSITY</th><th>DISTMU</th><th>DISTSIGMA</th><th>DISTNORM</th></tr></thead>\n",
       "<thead><tr><th></th><th></th><th></th><th></th><th></th><th></th><th></th><th></th><th></th><th></th><th></th><th></th><th></th><th></th><th></th><th></th><th>Mpc</th><th>Mpc</th><th>1 / Mpc2</th></tr></thead>\n",
       "<thead><tr><th>int64</th><th>float64</th><th>float64</th><th>int64</th><th>float64</th><th>float64</th><th>int64</th><th>float64</th><th>float64</th><th>float64</th><th>bytes6</th><th>int64</th><th>float64</th><th>float64</th><th>int64</th><th>float64</th><th>float64</th><th>float64</th><th>float64</th></tr></thead>\n",
       "<tr><td>6448025174016</td><td>179.15657</td><td>28.4234799</td><td>20210318</td><td>0.0221933367215889</td><td>9.68081653157043e-06</td><td>0</td><td>0.0</td><td>0.0</td><td>0.0</td><td>GALAXY</td><td>0</td><td>0.0</td><td>0.0</td><td>2803</td><td>3.0561786840682283e-80</td><td>133.80240846209236</td><td>8.901309833295631</td><td>5.56101838272623e-05</td></tr>\n",
       "<tr><td>6521555517440</td><td>204.22749</td><td>32.09493</td><td>20210404</td><td>0.3238872170838</td><td>2.72909868562699e-05</td><td>0</td><td>0.0</td><td>0.0</td><td>0.0</td><td>GALAXY</td><td>0</td><td>0.0</td><td>0.0</td><td>1676</td><td>4.629778143330291e-111</td><td>610.3405416412296</td><td>319.0610885940094</td><td>2.111669507870351e-06</td></tr>\n",
       "<tr><td>6536638234624</td><td>186.274119</td><td>32.84503</td><td>20210402</td><td>0.0764062738003505</td><td>1.47657330826664e-05</td><td>0</td><td>0.0</td><td>0.0</td><td>0.0</td><td>GALAXY</td><td>0</td><td>0.0</td><td>0.0</td><td>2807</td><td>1.8991757569237766e-91</td><td>134.31597851562455</td><td>14.68172271841688</td><td>5.477550649418343e-05</td></tr>\n",
       "<tr><td>45803351579259</td><td>198.2176891</td><td>18.3113961</td><td>20210316</td><td>1.49911242224797</td><td>3.38509589473939e-05</td><td>0</td><td>0.0</td><td>0.0</td><td>0.0</td><td>GALAXY</td><td>0</td><td>0.0</td><td>0.0</td><td>2773</td><td>1.7696180281233606e-108</td><td>276.8064432389025</td><td>48.45277336847071</td><td>1.266312025824273e-05</td></tr>\n",
       "<tr><td>46523089944591</td><td>258.5210502</td><td>56.1317935</td><td>20210409</td><td>1.62639091480193</td><td>0.000120044446065552</td><td>0</td><td>0.0</td><td>0.0</td><td>0.0</td><td>GALAXY</td><td>0</td><td>0.0</td><td>0.0</td><td>1660</td><td>3.5084401820854176e-87</td><td>133.13768284208044</td><td>9.566330044554194</td><td>5.61256762363643e-05</td></tr>\n",
       "</table></div>"
      ],
      "text/plain": [
       "<Table length=5>\n",
       "   TARGETID     TARGET_RA  ...     DISTSIGMA            DISTNORM      \n",
       "                           ...        Mpc               1 / Mpc2      \n",
       "    int64        float64   ...      float64             float64       \n",
       "-------------- ----------- ... ----------------- ---------------------\n",
       " 6448025174016   179.15657 ... 8.901309833295631  5.56101838272623e-05\n",
       " 6521555517440   204.22749 ... 319.0610885940094 2.111669507870351e-06\n",
       " 6536638234624  186.274119 ... 14.68172271841688 5.477550649418343e-05\n",
       "45803351579259 198.2176891 ... 48.45277336847071 1.266312025824273e-05\n",
       "46523089944591 258.5210502 ... 9.566330044554194  5.61256762363643e-05"
      ]
     },
     "execution_count": 227,
     "metadata": {},
     "output_type": "execute_result"
    }
   ],
   "source": [
    "data[:5]"
   ]
  },
  {
   "cell_type": "code",
   "execution_count": 228,
   "metadata": {},
   "outputs": [
    {
     "name": "stdout",
     "output_type": "stream",
     "text": [
      "The highest and lowest probability values in our catalog are: 0.037787030614068476 and 5.640177057737879e-113\n"
     ]
    }
   ],
   "source": [
    "print(f\"The highest and lowest probability values in our catalog are: {np.max(probdensity)} and {np.min(probdensity)}\")"
   ]
  },
  {
   "attachments": {},
   "cell_type": "markdown",
   "metadata": {
    "tags": []
   },
   "source": [
    "### Sort the skymap table and get 99% credible region"
   ]
  },
  {
   "cell_type": "code",
   "execution_count": 229,
   "metadata": {},
   "outputs": [],
   "source": [
    "# copy the table\n",
    "skymap_sort = Table(skymap, copy = True)"
   ]
  },
  {
   "cell_type": "code",
   "execution_count": 230,
   "metadata": {},
   "outputs": [],
   "source": [
    "# check whether copy worked:\n",
    "# skymap_sort, skymap\n",
    "# np.max(skymap[\"UNIQ\"])"
   ]
  },
  {
   "cell_type": "code",
   "execution_count": 231,
   "metadata": {},
   "outputs": [],
   "source": [
    "# now sort the skymap by its probability (descending)\n",
    "skymap_sort.sort('PROBDENSITY', reverse=True)"
   ]
  },
  {
   "cell_type": "code",
   "execution_count": 232,
   "metadata": {},
   "outputs": [
    {
     "data": {
      "text/html": [
       "<div><i>Table length=5</i>\n",
       "<table id=\"table4982764880\" class=\"table-striped table-bordered table-condensed\">\n",
       "<thead><tr><th>UNIQ</th><th>PROBDENSITY</th><th>DISTMU</th><th>DISTSIGMA</th><th>DISTNORM</th></tr></thead>\n",
       "<thead><tr><th></th><th>1 / sr</th><th>Mpc</th><th>Mpc</th><th>1 / Mpc2</th></tr></thead>\n",
       "<thead><tr><th>int64</th><th>float64</th><th>float64</th><th>float64</th><th>float64</th></tr></thead>\n",
       "<tr><td>5714048</td><td>124.04750404795215</td><td>257.2238287543571</td><td>66.49742110330038</td><td>1.4167119276752243e-05</td></tr>\n",
       "<tr><td>5714059</td><td>123.98193572292033</td><td>257.2390784708651</td><td>66.50711538589478</td><td>1.4165286102841546e-05</td></tr>\n",
       "<tr><td>5711229</td><td>123.91805643873167</td><td>257.2126592663569</td><td>66.48908918983129</td><td>1.4168495054436612e-05</td></tr>\n",
       "<tr><td>5714050</td><td>123.9034870235283</td><td>257.2279952589682</td><td>66.5006508066238</td><td>1.4166602877037654e-05</td></tr>\n",
       "<tr><td>5711231</td><td>123.79123613436587</td><td>257.2170581576809</td><td>66.49224071058316</td><td>1.4167956673784435e-05</td></tr>\n",
       "</table></div>"
      ],
      "text/plain": [
       "<Table length=5>\n",
       "  UNIQ     PROBDENSITY     ...     DISTSIGMA            DISTNORM       \n",
       "              1 / sr       ...        Mpc               1 / Mpc2       \n",
       " int64       float64       ...      float64             float64        \n",
       "------- ------------------ ... ----------------- ----------------------\n",
       "5714048 124.04750404795215 ... 66.49742110330038 1.4167119276752243e-05\n",
       "5714059 123.98193572292033 ... 66.50711538589478 1.4165286102841546e-05\n",
       "5711229 123.91805643873167 ... 66.48908918983129 1.4168495054436612e-05\n",
       "5714050  123.9034870235283 ...  66.5006508066238 1.4166602877037654e-05\n",
       "5711231 123.79123613436587 ... 66.49224071058316 1.4167956673784435e-05"
      ]
     },
     "execution_count": 232,
     "metadata": {},
     "output_type": "execute_result"
    }
   ],
   "source": [
    "# this shows the first entries sorted be their probability\n",
    "skymap_sort[:5]"
   ]
  },
  {
   "cell_type": "code",
   "execution_count": 233,
   "metadata": {},
   "outputs": [
    {
     "name": "stdout",
     "output_type": "stream",
     "text": [
      "The 99% search area is 262.2792641284897° large\n"
     ]
    }
   ],
   "source": [
    "# now get 99% credible region area\n",
    "\n",
    "level, ipix = ah.uniq_to_level_ipix(skymap_sort['UNIQ'])\n",
    "pixel_area = ah.nside_to_pixel_area(ah.level_to_nside(level)) # this is the area each pixel contains\n",
    "\n",
    "# calculate the probability per pixel (careful: since the pixels differ in size, this is not neceseraliy a useful quantity\n",
    "prob = pixel_area * skymap_sort['PROBDENSITY']\n",
    "\n",
    "# calc cumsum of probabilities and get index of pixel that sums up to 0.99\n",
    "cumprob = np.cumsum(prob)\n",
    "i = cumprob.searchsorted(0.99)\n",
    "\n",
    "# print area\n",
    "area_99 = pixel_area[:i].sum()\n",
    "area_99_deg = area_99.to_value(u.deg**2)\n",
    "print(f\"The 99% search area is {area_99_deg}° large\")"
   ]
  },
  {
   "attachments": {},
   "cell_type": "markdown",
   "metadata": {
    "jp-MarkdownHeadingCollapsed": true,
    "tags": []
   },
   "source": [
    "### can be deleted, just tried things out"
   ]
  },
  {
   "cell_type": "code",
   "execution_count": 234,
   "metadata": {},
   "outputs": [],
   "source": [
    "skymap_sort = hstack([skymap_sort, Table({\"PROB\": prob})])"
   ]
  },
  {
   "cell_type": "code",
   "execution_count": 235,
   "metadata": {},
   "outputs": [
    {
     "data": {
      "text/latex": [
       "$0.00023709192 \\; \\mathrm{}$"
      ],
      "text/plain": [
       "<Quantity 0.00023709>"
      ]
     },
     "execution_count": 235,
     "metadata": {},
     "output_type": "execute_result"
    }
   ],
   "source": [
    "np.max(prob)"
   ]
  },
  {
   "cell_type": "code",
   "execution_count": 236,
   "metadata": {},
   "outputs": [
    {
     "data": {
      "text/html": [
       "<div><i>Table length=5</i>\n",
       "<table id=\"table5022659584\" class=\"table-striped table-bordered table-condensed\">\n",
       "<thead><tr><th>UNIQ</th><th>PROBDENSITY</th><th>DISTMU</th><th>DISTSIGMA</th><th>DISTNORM</th><th>PROB</th></tr></thead>\n",
       "<thead><tr><th></th><th>1 / sr</th><th>Mpc</th><th>Mpc</th><th>1 / Mpc2</th><th></th></tr></thead>\n",
       "<thead><tr><th>int64</th><th>float64</th><th>float64</th><th>float64</th><th>float64</th><th>float64</th></tr></thead>\n",
       "<tr><td>5714048</td><td>124.04750404795215</td><td>257.2238287543571</td><td>66.49742110330038</td><td>1.4167119276752243e-05</td><td>0.00012388443228823233</td></tr>\n",
       "<tr><td>5714059</td><td>123.98193572292033</td><td>257.2390784708651</td><td>66.50711538589478</td><td>1.4165286102841546e-05</td><td>0.00012381895015874494</td></tr>\n",
       "<tr><td>5711229</td><td>123.91805643873167</td><td>257.2126592663569</td><td>66.48908918983129</td><td>1.4168495054436612e-05</td><td>0.00012375515484970245</td></tr>\n",
       "<tr><td>5714050</td><td>123.9034870235283</td><td>257.2279952589682</td><td>66.5006508066238</td><td>1.4166602877037654e-05</td><td>0.00012374060458732438</td></tr>\n",
       "<tr><td>5711231</td><td>123.79123613436587</td><td>257.2170581576809</td><td>66.49224071058316</td><td>1.4167956673784435e-05</td><td>0.0001236285012621953</td></tr>\n",
       "</table></div>"
      ],
      "text/plain": [
       "<Table length=5>\n",
       "  UNIQ     PROBDENSITY     ...        DISTNORM                 PROB         \n",
       "              1 / sr       ...        1 / Mpc2                              \n",
       " int64       float64       ...        float64                float64        \n",
       "------- ------------------ ... ---------------------- ----------------------\n",
       "5714048 124.04750404795215 ... 1.4167119276752243e-05 0.00012388443228823233\n",
       "5714059 123.98193572292033 ... 1.4165286102841546e-05 0.00012381895015874494\n",
       "5711229 123.91805643873167 ... 1.4168495054436612e-05 0.00012375515484970245\n",
       "5714050  123.9034870235283 ... 1.4166602877037654e-05 0.00012374060458732438\n",
       "5711231 123.79123613436587 ... 1.4167956673784435e-05  0.0001236285012621953"
      ]
     },
     "execution_count": 236,
     "metadata": {},
     "output_type": "execute_result"
    }
   ],
   "source": [
    "skymap_sort[:5]"
   ]
  },
  {
   "cell_type": "code",
   "execution_count": 237,
   "metadata": {},
   "outputs": [],
   "source": [
    "skymap_prob = Table(skymap_sort, copy = True)"
   ]
  },
  {
   "cell_type": "code",
   "execution_count": 238,
   "metadata": {},
   "outputs": [],
   "source": [
    "skymap_prob.sort(\"PROB\", reverse = True)"
   ]
  },
  {
   "cell_type": "code",
   "execution_count": 239,
   "metadata": {},
   "outputs": [
    {
     "data": {
      "text/html": [
       "<div><i>Table length=5</i>\n",
       "<table id=\"table5022660160\" class=\"table-striped table-bordered table-condensed\">\n",
       "<thead><tr><th>UNIQ</th><th>PROBDENSITY</th><th>DISTMU</th><th>DISTSIGMA</th><th>DISTNORM</th><th>PROB</th></tr></thead>\n",
       "<thead><tr><th></th><th>1 / sr</th><th>Mpc</th><th>Mpc</th><th>1 / Mpc2</th><th></th></tr></thead>\n",
       "<thead><tr><th>int64</th><th>float64</th><th>float64</th><th>float64</th><th>float64</th><th>float64</th></tr></thead>\n",
       "<tr><td>356932</td><td>14.8377507764058</td><td>255.48247374747064</td><td>65.87710236582865</td><td>1.4365532549260116e-05</td><td>0.00023709192319210158</td></tr>\n",
       "<tr><td>1392051</td><td>59.333833755664905</td><td>246.62346342350926</td><td>64.76581798183818</td><td>1.5380424126454675e-05</td><td>0.00023702333607497525</td></tr>\n",
       "<tr><td>1434688</td><td>59.32217318678399</td><td>257.9049966310415</td><td>66.52577312814834</td><td>1.4096291987212861e-05</td><td>0.0002369767551149775</td></tr>\n",
       "<tr><td>1434870</td><td>59.3033998443452</td><td>257.9168556704448</td><td>66.55440473160782</td><td>1.4094319661048502e-05</td><td>0.00023690176046230692</td></tr>\n",
       "<tr><td>1392057</td><td>59.285353448257375</td><td>244.82651256734712</td><td>65.16520454065005</td><td>1.5579603515352915e-05</td><td>0.00023682966977249103</td></tr>\n",
       "</table></div>"
      ],
      "text/plain": [
       "<Table length=5>\n",
       "  UNIQ     PROBDENSITY     ...        DISTNORM                 PROB         \n",
       "              1 / sr       ...        1 / Mpc2                              \n",
       " int64       float64       ...        float64                float64        \n",
       "------- ------------------ ... ---------------------- ----------------------\n",
       " 356932   14.8377507764058 ... 1.4365532549260116e-05 0.00023709192319210158\n",
       "1392051 59.333833755664905 ... 1.5380424126454675e-05 0.00023702333607497525\n",
       "1434688  59.32217318678399 ... 1.4096291987212861e-05  0.0002369767551149775\n",
       "1434870   59.3033998443452 ... 1.4094319661048502e-05 0.00023690176046230692\n",
       "1392057 59.285353448257375 ... 1.5579603515352915e-05 0.00023682966977249103"
      ]
     },
     "execution_count": 239,
     "metadata": {},
     "output_type": "execute_result"
    }
   ],
   "source": [
    "skymap_prob[:5]"
   ]
  },
  {
   "attachments": {},
   "cell_type": "markdown",
   "metadata": {
    "tags": []
   },
   "source": [
    "### Compare Tables, only leave 99% credible region in DESI data table\n",
    "\n",
    "Now we can get a Table that only contains the 99% credible region. From there we only leave the matching objects in the DESI data"
   ]
  },
  {
   "cell_type": "code",
   "execution_count": 240,
   "metadata": {},
   "outputs": [],
   "source": [
    "# we simply select only the entries that are within the 99% credible region\n",
    "skymap_99 = skymap_sort[:i]"
   ]
  },
  {
   "cell_type": "code",
   "execution_count": 241,
   "metadata": {},
   "outputs": [
    {
     "name": "stdout",
     "output_type": "stream",
     "text": [
      "This is the number of UNIQ ID of objects which should lie within the 99% credible region (NOT THE NUMBER OF OBJECTS, as there can be multiple objects per UNIQ ID): 9122\n"
     ]
    }
   ],
   "source": [
    "print(\"This is the number of UNIQ ID of objects which should lie within the 99% credible region (NOT THE NUMBER OF OBJECTS, as there can be multiple objects per UNIQ ID):\", len(np.intersect1d(skymap_99[\"UNIQ\"], data[\"UNIQ\"])))"
   ]
  },
  {
   "cell_type": "code",
   "execution_count": 242,
   "metadata": {},
   "outputs": [],
   "source": [
    "mask = np.in1d(data[\"UNIQ\"], skymap_99[\"UNIQ\"])\n",
    "data_99 = data[mask]"
   ]
  },
  {
   "cell_type": "code",
   "execution_count": 243,
   "metadata": {},
   "outputs": [
    {
     "name": "stdout",
     "output_type": "stream",
     "text": [
      "We now have 185159 objects in the 99% credible region\n",
      "Check if the region from where the galaxies have been selected makes any sense (RA; DEC):  3.90761344834922 171.307148605026 12.3633042403745 84.6059844754331\n",
      "We can also check whether we have at least one galaxy in the UNIQ pixel with the highest probability from LIGO...\n",
      "This is True\n"
     ]
    }
   ],
   "source": [
    "print(f\"We now have {len(data_99)} objects in the 99% credible region\")\n",
    "print(\"Check if the region from where the galaxies have been selected makes any sense (RA; DEC): \", np.min(data_99[\"TARGET_RA\"]), np.max(data_99[\"TARGET_RA\"]), np.min(data_99[\"TARGET_DEC\"]), np.max(data_99[\"TARGET_DEC\"]))\n",
    "\n",
    "max_probdens_in_desi = np.max(data_99[\"PROBDENSITY\"])\n",
    "max_probdens_in_ligo = np.max(skymap[\"PROBDENSITY\"]).to_value(u.deg**-2)\n",
    "print(f\"We can also check whether we have at least one galaxy in the UNIQ pixel with the highest probability from LIGO...\")\n",
    "print(f\"This is {np.allclose(max_probdens_in_desi, max_probdens_in_ligo)}\")"
   ]
  },
  {
   "cell_type": "code",
   "execution_count": 244,
   "metadata": {},
   "outputs": [],
   "source": [
    "data_99.sort('PROBDENSITY', reverse=True)"
   ]
  },
  {
   "cell_type": "code",
   "execution_count": 245,
   "metadata": {},
   "outputs": [
    {
     "data": {
      "text/html": [
       "<div><i>Table length=2</i>\n",
       "<table id=\"table5047355856\" class=\"table-striped table-bordered table-condensed\">\n",
       "<thead><tr><th>TARGETID</th><th>TARGET_RA</th><th>TARGET_DEC</th><th>LASTNIGHT</th><th>Z</th><th>ZERR</th><th>ZWARN</th><th>FLUX_G</th><th>FLUX_R</th><th>FLUX_Z</th><th>SPECTYPE</th><th>BGS_TARGET</th><th>EBV</th><th>SERSIC</th><th>UNIQ</th><th>PROBDENSITY</th><th>DISTMU</th><th>DISTSIGMA</th><th>DISTNORM</th></tr></thead>\n",
       "<thead><tr><th></th><th></th><th></th><th></th><th></th><th></th><th></th><th></th><th></th><th></th><th></th><th></th><th></th><th></th><th></th><th></th><th>Mpc</th><th>Mpc</th><th>1 / Mpc2</th></tr></thead>\n",
       "<thead><tr><th>int64</th><th>float64</th><th>float64</th><th>int64</th><th>float64</th><th>float64</th><th>int64</th><th>float64</th><th>float64</th><th>float64</th><th>bytes6</th><th>int64</th><th>float64</th><th>float64</th><th>int64</th><th>float64</th><th>float64</th><th>float64</th><th>float64</th></tr></thead>\n",
       "<tr><td>39633224107820478</td><td>160.61727712405</td><td>48.5795094937581</td><td>20220421</td><td>0.0285309495506233</td><td>8.94976626877758e-06</td><td>0</td><td>10.7434968948364</td><td>15.5962247848511</td><td>18.0656089782715</td><td>GALAXY</td><td>514</td><td>0.0126253934577107</td><td>1.0</td><td>5714048</td><td>0.037787030614068476</td><td>257.2238287543571</td><td>66.49742110330038</td><td>1.4167119276752243e-05</td></tr>\n",
       "<tr><td>39633224107820353</td><td>160.604648933614</td><td>48.578025379034</td><td>20220317</td><td>0.0287743051597604</td><td>5.06052819531529e-06</td><td>0</td><td>97.8936462402344</td><td>140.151321411133</td><td>171.730010986328</td><td>GALAXY</td><td>514</td><td>0.0124998781830072</td><td>0.747448742389679</td><td>5714048</td><td>0.037787030614068476</td><td>257.2238287543571</td><td>66.49742110330038</td><td>1.4167119276752243e-05</td></tr>\n",
       "</table></div>"
      ],
      "text/plain": [
       "<Table length=2>\n",
       "     TARGETID        TARGET_RA     ...     DISTSIGMA            DISTNORM       \n",
       "                                   ...        Mpc               1 / Mpc2       \n",
       "      int64           float64      ...      float64             float64        \n",
       "----------------- ---------------- ... ----------------- ----------------------\n",
       "39633224107820478  160.61727712405 ... 66.49742110330038 1.4167119276752243e-05\n",
       "39633224107820353 160.604648933614 ... 66.49742110330038 1.4167119276752243e-05"
      ]
     },
     "execution_count": 245,
     "metadata": {},
     "output_type": "execute_result"
    }
   ],
   "source": [
    "data_99[:2]"
   ]
  },
  {
   "cell_type": "code",
   "execution_count": 246,
   "metadata": {},
   "outputs": [
    {
     "name": "stdout",
     "output_type": "stream",
     "text": [
      "We have now performed all the necessary steps to get the localization selection in 2D, i.e. the angle on the sky\n",
      "However, we have not used the distance data at all. Therefore our redshifts range from 3.60713580819307e-07 to 6.04654256723574\n"
     ]
    }
   ],
   "source": [
    "if modeled_search:\n",
    "    print(\"We have now performed all the necessary steps to get the localization selection in 2D, i.e. the angle on the sky\")\n",
    "    min_z = np.min(data_99[\"Z\"])\n",
    "    max_z = np.max(data_99[\"Z\"])\n",
    "    print(f\"However, we have not used the distance data at all. Therefore our redshifts range from {min_z} to {max_z}\")\n",
    "else:\n",
    "    print(f\"Usually we would be performing steps to cut out objects that don't meet the z-range/distance from LIGO, since there is no distance, we - at least for now include everything!\")"
   ]
  },
  {
   "attachments": {},
   "cell_type": "markdown",
   "metadata": {
    "tags": []
   },
   "source": [
    "### Calculate all the distances of the objects from the redshifts\n",
    "\n",
    "We want to be conservative in estimating the distance from redshifts, therefore we will include different cosmologies.\n",
    "\n",
    "Our cosmologies include:\n",
    "- H0 = 68.20 ± 0.81 km s−1Mpc−1, from eBOSS https://arxiv.org/pdf/2007.08991.pdf\n",
    "- DES Y3 https://arxiv.org/abs/2105.13549\n",
    "- SH0ES https://pantheonplussh0es.github.io/\n",
    "\n",
    "Now we calculate the arithmetic mean of our distances and its standard deviation:\n",
    "$$distances_{mean} = \\frac{dist(z_{cosmo_{max}})+dist(z_{cosmo_{min}})}{2}$$\n",
    "and accordingly the standard deviation (n=2):\n",
    "$$\\sigma = \\sqrt{\\frac{1}{n-1}\\sum\\left(dist_i-distances_{mean}\\right)^2}$$\n"
   ]
  },
  {
   "cell_type": "code",
   "execution_count": 247,
   "metadata": {},
   "outputs": [],
   "source": [
    "#distances = Distance(z=data_99[\"Z\"], cosmology=Planck18)\n",
    "#distances_err = Distance(z=data_99[\"ZERR\"], cosmology=Planck18)"
   ]
  },
  {
   "cell_type": "code",
   "execution_count": 248,
   "metadata": {},
   "outputs": [],
   "source": [
    "if modeled_search:\n",
    "    # first define the cosmological maximum and minimum parameters\n",
    "    omega_M_max = 0.339+0.032 #(from DES)\n",
    "    omega_M_min = 0.299-2*0.016 #from eBOSS\n",
    "\n",
    "    H_0_max = 73.04+2*1.04 #from SH0ES\n",
    "    H_0_min = 67.4-2*0.5 #from Planck\n",
    "    \n",
    "    # then calculate min and max luminosity distance from the redshifts\n",
    "    cosmo_min_dist = FlatLambdaCDM(H0=H_0_max, Om0=omega_M_max)\n",
    "    cosmo_max_dist = FlatLambdaCDM(H0=H_0_min, Om0=omega_M_min)\n",
    "\n",
    "    dists_max = Distance(z=data_99[\"Z\"], cosmology=cosmo_max_dist)\n",
    "    dists_min = Distance(z=data_99[\"Z\"], cosmology=cosmo_min_dist)\n",
    "    \n",
    "    # and of course also calculate the maximum and minimum error from the redshfit uncertainty\n",
    "    dists_err_min = Distance(z=data_99[\"ZERR\"], cosmology=cosmo_max_dist)\n",
    "    dists_err_max = Distance(z=data_99[\"ZERR\"], cosmology=cosmo_min_dist)\n",
    "    \n",
    "    # now we get the mean distance and its error\n",
    "    dists_mean = (dists_max+dists_min)/2\n",
    "    dists_err_mean = (dists_err_max+dists_err_min)/2  # this is our sigma for the redshift error\n",
    "    \n",
    "    # calculate the stdev of the distance depending on the cosmology\n",
    "    dists_mean_stddev = np.sqrt((dists_max-dists_mean)**2+(dists_min-dists_mean)**2)\n",
    "    \n",
    "    # now stack all the data\n",
    "    data_99 = hstack([data_99, Table({\"DIST_Z_MEAN\": dists_mean}), Table({\"DIST_Z_ERR\": dists_err_mean}), Table({\"DIST_Z_COSMO_SIGMA\": dists_mean_stddev})])"
   ]
  },
  {
   "cell_type": "code",
   "execution_count": 249,
   "metadata": {},
   "outputs": [],
   "source": [
    "# dists_mean[:5], dists_mean_stddev[:5], dists_mean_stddev[:5]/dists_mean[:5], np.mean(dists_mean_stddev/dists_mean), np.max(dists_mean_stddev/dists_mean), np.min(dists_mean_stddev/dists_mean)\n"
   ]
  },
  {
   "cell_type": "code",
   "execution_count": 250,
   "metadata": {},
   "outputs": [
    {
     "data": {
      "text/html": [
       "<div><i>Table length=5</i>\n",
       "<table id=\"table4981221408\" class=\"table-striped table-bordered table-condensed\">\n",
       "<thead><tr><th>TARGETID</th><th>TARGET_RA</th><th>TARGET_DEC</th><th>LASTNIGHT</th><th>Z</th><th>ZERR</th><th>ZWARN</th><th>FLUX_G</th><th>FLUX_R</th><th>FLUX_Z</th><th>SPECTYPE</th><th>BGS_TARGET</th><th>EBV</th><th>SERSIC</th><th>UNIQ</th><th>PROBDENSITY</th><th>DISTMU</th><th>DISTSIGMA</th><th>DISTNORM</th><th>DIST_Z_MEAN</th><th>DIST_Z_ERR</th><th>DIST_Z_COSMO_SIGMA</th></tr></thead>\n",
       "<thead><tr><th></th><th></th><th></th><th></th><th></th><th></th><th></th><th></th><th></th><th></th><th></th><th></th><th></th><th></th><th></th><th></th><th>Mpc</th><th>Mpc</th><th>1 / Mpc2</th><th>Mpc</th><th>Mpc</th><th>Mpc</th></tr></thead>\n",
       "<thead><tr><th>int64</th><th>float64</th><th>float64</th><th>int64</th><th>float64</th><th>float64</th><th>int64</th><th>float64</th><th>float64</th><th>float64</th><th>bytes6</th><th>int64</th><th>float64</th><th>float64</th><th>int64</th><th>float64</th><th>float64</th><th>float64</th><th>float64</th><th>float64</th><th>float64</th><th>float64</th></tr></thead>\n",
       "<tr><td>39633224107820478</td><td>160.61727712405</td><td>48.5795094937581</td><td>20220421</td><td>0.0285309495506233</td><td>8.94976626877758e-06</td><td>0</td><td>10.7434968948364</td><td>15.5962247848511</td><td>18.0656089782715</td><td>GALAXY</td><td>514</td><td>0.0126253934577107</td><td>1.0</td><td>5714048</td><td>0.037787030614068476</td><td>257.2238287543571</td><td>66.49742110330038</td><td>1.4167119276752243e-05</td><td>123.9536160087099</td><td>0.03806269441783726</td><td>10.9951801895185</td></tr>\n",
       "<tr><td>39633224107820353</td><td>160.604648933614</td><td>48.578025379034</td><td>20220317</td><td>0.0287743051597604</td><td>5.06052819531529e-06</td><td>0</td><td>97.8936462402344</td><td>140.151321411133</td><td>171.730010986328</td><td>GALAXY</td><td>514</td><td>0.0124998781830072</td><td>0.747448742389679</td><td>5714048</td><td>0.037787030614068476</td><td>257.2238287543571</td><td>66.49742110330038</td><td>1.4167119276752243e-05</td><td>125.03313371942757</td><td>0.021521988481177905</td><td>11.092602925118296</td></tr>\n",
       "<tr><td>39633224107820140</td><td>160.583239022152</td><td>48.6010654897294</td><td>20220421</td><td>0.23449829444878</td><td>0.000106434004744369</td><td>0</td><td>3.79690313339233</td><td>11.5464544296265</td><td>19.737398147583</td><td>GALAXY</td><td>257</td><td>0.0123096574097872</td><td>1.0</td><td>5714048</td><td>0.037787030614068476</td><td>257.2238287543571</td><td>66.49742110330038</td><td>1.4167119276752243e-05</td><td>1160.831445951118</td><td>0.4526896289045135</td><td>115.65585909181476</td></tr>\n",
       "<tr><td>39633224107820130</td><td>160.582254511931</td><td>48.6057650714367</td><td>20220317</td><td>0.0866269894393046</td><td>8.07347855837462e-06</td><td>0</td><td>16.9728450775146</td><td>20.6989097595215</td><td>21.8458423614502</td><td>GALAXY</td><td>514</td><td>0.0122952042147517</td><td>2.34993124008179</td><td>5714048</td><td>0.037787030614068476</td><td>257.2238287543571</td><td>66.49742110330038</td><td>1.4167119276752243e-05</td><td>392.00432420309085</td><td>0.03433588458543407</td><td>36.01115009426769</td></tr>\n",
       "<tr><td>39633224107819966</td><td>160.563779139401</td><td>48.5791101535965</td><td>20220218</td><td>0.0286392319026312</td><td>6.027066595383e-06</td><td>0</td><td>26.5717449188232</td><td>42.2222900390625</td><td>58.09375</td><td>GALAXY</td><td>514</td><td>0.0121476463973522</td><td>1.2306604385376</td><td>5714048</td><td>0.037787030614068476</td><td>257.2238287543571</td><td>66.49742110330038</td><td>1.4167119276752243e-05</td><td>124.43390708157122</td><td>0.025632611568898005</td><td>11.03852132423984</td></tr>\n",
       "</table></div>"
      ],
      "text/plain": [
       "<Table length=5>\n",
       "     TARGETID        TARGET_RA     ...      DIST_Z_ERR      DIST_Z_COSMO_SIGMA\n",
       "                                   ...         Mpc                 Mpc        \n",
       "      int64           float64      ...       float64             float64      \n",
       "----------------- ---------------- ... -------------------- ------------------\n",
       "39633224107820478  160.61727712405 ...  0.03806269441783726   10.9951801895185\n",
       "39633224107820353 160.604648933614 ... 0.021521988481177905 11.092602925118296\n",
       "39633224107820140 160.583239022152 ...   0.4526896289045135 115.65585909181476\n",
       "39633224107820130 160.582254511931 ...  0.03433588458543407  36.01115009426769\n",
       "39633224107819966 160.563779139401 ... 0.025632611568898005  11.03852132423984"
      ]
     },
     "execution_count": 250,
     "metadata": {},
     "output_type": "execute_result"
    }
   ],
   "source": [
    "data_99[:5]"
   ]
  },
  {
   "attachments": {},
   "cell_type": "markdown",
   "metadata": {
    "jp-MarkdownHeadingCollapsed": true,
    "tags": []
   },
   "source": [
    "### Lets check how much the distance measurement changes in the 99% credible region of LIGO and compare to our DESI data\n",
    "\n",
    "We should see a lot more data in DESI (since we haven't done any redshift selection and there can be multiple objects per GW-pixel). Be carfeul, we are comparing actual object counts with the number of pixels.\n",
    "\n",
    "\n",
    "We still see, that most of the GW localization is roughly between 780Mpc and 950Mpc. DESI definitely has a most of its data in this range as well."
   ]
  },
  {
   "cell_type": "code",
   "execution_count": 251,
   "metadata": {},
   "outputs": [
    {
     "name": "stdout",
     "output_type": "stream",
     "text": [
      "Our LIGO distances range from 72.25245607627038 Mpc to 268.80553619932044 Mpc\n",
      "Let's visualize the distance distribution of the LIGO event in the 99% credible region\n"
     ]
    },
    {
     "data": {
      "image/png": "[encoded data removed]",
      "text/plain": [
       "<Figure size 1080x576 with 2 Axes>"
      ]
     },
     "metadata": {
      "needs_background": "light"
     },
     "output_type": "display_data"
    }
   ],
   "source": [
    "if modeled_search:\n",
    "    plt_skymap = skymap_99[skymap_99[\"DISTMU\"]<np.inf]\n",
    "\n",
    "    dist_max_99 = np.max(plt_skymap[\"DISTMU\"])*u.Mpc\n",
    "    dist_min_99 = np.min(plt_skymap[\"DISTMU\"])*u.Mpc\n",
    "    print(f\"Our LIGO distances range from {dist_min_99} to {dist_max_99}\")\n",
    "    print(\"Let's visualize the distance distribution of the LIGO event in the 99% credible region\")\n",
    "\n",
    "    fig, ax = plt.subplots(ncols = 2, figsize = (15,8))\n",
    "\n",
    "\n",
    "    ax[0].hist(data_99[\"DIST_Z_MEAN\"], bins = \"auto\", color = \"orange\", label = \"DESI data\")\n",
    "    ax[1].hist(plt_skymap[\"DISTMU\"], bins = \"auto\", color = \"blue\", label = \"LIGO data\")\n",
    "\n",
    "\n",
    "    for axis in ax:\n",
    "        axis.set_xlabel(\"distance bin (Mpc)\")\n",
    "        axis.set_xlim(dist_min_99/u.Mpc, dist_max_99/u.Mpc)\n",
    "        axis.legend()\n",
    "\n",
    "    ax[0].set_ylabel(\"object count\")\n",
    "    ax[1].set_ylabel(\"pixel count\")\n",
    "\n",
    "    plt.show()"
   ]
  },
  {
   "cell_type": "code",
   "execution_count": 252,
   "metadata": {},
   "outputs": [
    {
     "data": {
      "text/plain": [
       "(10466, 185159)"
      ]
     },
     "execution_count": 252,
     "metadata": {},
     "output_type": "execute_result"
    }
   ],
   "source": [
    "len(skymap_99), len(data_99)"
   ]
  },
  {
   "attachments": {},
   "cell_type": "markdown",
   "metadata": {
    "tags": []
   },
   "source": [
    "### To reduce our data even more, lets cut out the unreasonably far away objects\n",
    "\n",
    "We simply take maximum and minimum distance we get from the LIGO skymap (i.e. DISTMU+-DISTERR) and check, whether every galaxy in that pixel falls inside this range.\n",
    "\n",
    "*Note: We do this only for our own GW-follow ups*"
   ]
  },
  {
   "cell_type": "code",
   "execution_count": 253,
   "metadata": {},
   "outputs": [
    {
     "name": "stdout",
     "output_type": "stream",
     "text": [
      "The z-range selection has deleted 174733 objects from originally 185159 in the data set\n",
      "Therefore, we have 10426 objects left in the search region\n",
      "Our highest remaing probability density is 0.037787030614068476 compared to the originally highest prob density of 0.037787030614068476\n",
      "The difference in prob density is 0.0\n"
     ]
    }
   ],
   "source": [
    "if follow_up_their_z == False and modeled_search == True:\n",
    "    z_selection_mask = data_99[\"DIST_Z_MEAN\"] - 2*data_99[\"DIST_Z_ERR\"] - 2*data_99[\"DIST_Z_COSMO_SIGMA\"] <  data_99[\"DISTMU\"] + 2*data_99[\"DISTSIGMA\"]\n",
    "    z_selection_mask &= data_99[\"DIST_Z_MEAN\"] + 2*data_99[\"DIST_Z_ERR\"] + 2*data_99[\"DIST_Z_COSMO_SIGMA\"] >  data_99[\"DISTMU\"] - 2*data_99[\"DISTSIGMA\"]\n",
    "\n",
    "    data_99_z = data_99[z_selection_mask]\n",
    "\n",
    "    remaining_obj = np.size(np.where(z_selection_mask == True))\n",
    "    deleted_obj = np.size(np.where(z_selection_mask == False))\n",
    "\n",
    "    print(f\"The z-range selection has deleted {deleted_obj} objects from originally {deleted_obj+remaining_obj} in the data set\")\n",
    "    print(f\"Therefore, we have {remaining_obj} objects left in the search region\")\n",
    "\n",
    "    highest_prob_dens = np.max(data_99_z[\"PROBDENSITY\"])\n",
    "    print(f\"Our highest remaing probability density is {highest_prob_dens} compared to the originally highest prob density of {max_probdens_in_ligo}\")\n",
    "    print(f\"The difference in prob density is {max_probdens_in_ligo-highest_prob_dens}\")\n",
    "\n",
    "    \n",
    "else:\n",
    "    data_99_z = data_99\n",
    "    remaining_obj = len(data_99_z)"
   ]
  },
  {
   "cell_type": "code",
   "execution_count": 254,
   "metadata": {},
   "outputs": [
    {
     "data": {
      "text/html": [
       "<div><i>Table length=5</i>\n",
       "<table id=\"table5019037408\" class=\"table-striped table-bordered table-condensed\">\n",
       "<thead><tr><th>TARGETID</th><th>TARGET_RA</th><th>TARGET_DEC</th><th>LASTNIGHT</th><th>Z</th><th>ZERR</th><th>ZWARN</th><th>FLUX_G</th><th>FLUX_R</th><th>FLUX_Z</th><th>SPECTYPE</th><th>BGS_TARGET</th><th>EBV</th><th>SERSIC</th><th>UNIQ</th><th>PROBDENSITY</th><th>DISTMU</th><th>DISTSIGMA</th><th>DISTNORM</th><th>DIST_Z_MEAN</th><th>DIST_Z_ERR</th><th>DIST_Z_COSMO_SIGMA</th></tr></thead>\n",
       "<thead><tr><th></th><th></th><th></th><th></th><th></th><th></th><th></th><th></th><th></th><th></th><th></th><th></th><th></th><th></th><th></th><th></th><th>Mpc</th><th>Mpc</th><th>1 / Mpc2</th><th>Mpc</th><th>Mpc</th><th>Mpc</th></tr></thead>\n",
       "<thead><tr><th>int64</th><th>float64</th><th>float64</th><th>int64</th><th>float64</th><th>float64</th><th>int64</th><th>float64</th><th>float64</th><th>float64</th><th>bytes6</th><th>int64</th><th>float64</th><th>float64</th><th>int64</th><th>float64</th><th>float64</th><th>float64</th><th>float64</th><th>float64</th><th>float64</th><th>float64</th></tr></thead>\n",
       "<tr><td>39633224107820478</td><td>160.61727712405</td><td>48.5795094937581</td><td>20220421</td><td>0.0285309495506233</td><td>8.94976626877758e-06</td><td>0</td><td>10.7434968948364</td><td>15.5962247848511</td><td>18.0656089782715</td><td>GALAXY</td><td>514</td><td>0.0126253934577107</td><td>1.0</td><td>5714048</td><td>0.037787030614068476</td><td>257.2238287543571</td><td>66.49742110330038</td><td>1.4167119276752243e-05</td><td>123.9536160087099</td><td>0.03806269441783726</td><td>10.9951801895185</td></tr>\n",
       "<tr><td>39633224107820353</td><td>160.604648933614</td><td>48.578025379034</td><td>20220317</td><td>0.0287743051597604</td><td>5.06052819531529e-06</td><td>0</td><td>97.8936462402344</td><td>140.151321411133</td><td>171.730010986328</td><td>GALAXY</td><td>514</td><td>0.0124998781830072</td><td>0.747448742389679</td><td>5714048</td><td>0.037787030614068476</td><td>257.2238287543571</td><td>66.49742110330038</td><td>1.4167119276752243e-05</td><td>125.03313371942757</td><td>0.021521988481177905</td><td>11.092602925118296</td></tr>\n",
       "<tr><td>39633224107820130</td><td>160.582254511931</td><td>48.6057650714367</td><td>20220317</td><td>0.0866269894393046</td><td>8.07347855837462e-06</td><td>0</td><td>16.9728450775146</td><td>20.6989097595215</td><td>21.8458423614502</td><td>GALAXY</td><td>514</td><td>0.0122952042147517</td><td>2.34993124008179</td><td>5714048</td><td>0.037787030614068476</td><td>257.2238287543571</td><td>66.49742110330038</td><td>1.4167119276752243e-05</td><td>392.00432420309085</td><td>0.03433588458543407</td><td>36.01115009426769</td></tr>\n",
       "<tr><td>39633224107819966</td><td>160.563779139401</td><td>48.5791101535965</td><td>20220218</td><td>0.0286392319026312</td><td>6.027066595383e-06</td><td>0</td><td>26.5717449188232</td><td>42.2222900390625</td><td>58.09375</td><td>GALAXY</td><td>514</td><td>0.0121476463973522</td><td>1.2306604385376</td><td>5714048</td><td>0.037787030614068476</td><td>257.2238287543571</td><td>66.49742110330038</td><td>1.4167119276752243e-05</td><td>124.43390708157122</td><td>0.025632611568898005</td><td>11.03852132423984</td></tr>\n",
       "<tr><td>39633228113381386</td><td>160.596181344532</td><td>48.7591124780506</td><td>20220317</td><td>0.0870420579070183</td><td>3.1481411106676e-06</td><td>0</td><td>37.4118041992188</td><td>61.7050819396973</td><td>88.4442367553711</td><td>GALAXY</td><td>514</td><td>0.0124244792386889</td><td>1.0</td><td>5714059</td><td>0.037767057360077544</td><td>257.2390784708651</td><td>66.50711538589478</td><td>1.4165286102841546e-05</td><td>393.9924779500584</td><td>0.013388752166195443</td><td>36.20262091287905</td></tr>\n",
       "</table></div>"
      ],
      "text/plain": [
       "<Table length=5>\n",
       "     TARGETID        TARGET_RA     ...      DIST_Z_ERR      DIST_Z_COSMO_SIGMA\n",
       "                                   ...         Mpc                 Mpc        \n",
       "      int64           float64      ...       float64             float64      \n",
       "----------------- ---------------- ... -------------------- ------------------\n",
       "39633224107820478  160.61727712405 ...  0.03806269441783726   10.9951801895185\n",
       "39633224107820353 160.604648933614 ... 0.021521988481177905 11.092602925118296\n",
       "39633224107820130 160.582254511931 ...  0.03433588458543407  36.01115009426769\n",
       "39633224107819966 160.563779139401 ... 0.025632611568898005  11.03852132423984\n",
       "39633228113381386 160.596181344532 ... 0.013388752166195443  36.20262091287905"
      ]
     },
     "execution_count": 254,
     "metadata": {},
     "output_type": "execute_result"
    }
   ],
   "source": [
    "data_99_z[:5]"
   ]
  },
  {
   "attachments": {},
   "cell_type": "markdown",
   "metadata": {
    "tags": []
   },
   "source": [
    "### get the apparent, absolute magnitudes and luminosities\n",
    "\n",
    "in order to do this: flux > 0 selection  and gal ext correction"
   ]
  },
  {
   "cell_type": "code",
   "execution_count": 255,
   "metadata": {},
   "outputs": [
    {
     "name": "stdout",
     "output_type": "stream",
     "text": [
      "had to cut out -426 objects due to bad fluxes\n"
     ]
    }
   ],
   "source": [
    "# get the apparent mags\n",
    "orig_len = len(data_99_z)\n",
    "data_99_z = data_99_z[data_99_z[\"FLUX_R\"] > 0] # flux selection (only ones above 0)\n",
    "print(f\"had to cut out {len(data_99_z)-orig_len} objects due to bad fluxes\")\n",
    "data_99_z[\"MW_TRANSMISSION\"] = gs.mw_transmission_from_data_table(data = data_99_z, band = \"r\")\n",
    "#data_99_z[\"FLUX_R\"] = data_99_z[\"FLUX_R\"]/data_99_z[\"MW_TRANSMISSION\"]\n",
    "\n",
    "app_mag_r = gs.app_mag(data_99_z[\"FLUX_R\"], mw_transmission = data_99_z[\"MW_TRANSMISSION\"])\n",
    "flux_selection_cut = len(data_99_z)\n",
    "\n",
    "# get the absolute mags\n",
    "abs_mag_r = gs.abs_mag(app_mag_r, data_99_z[\"Z\"], 0,0,0)\n",
    "\n",
    "# get the luminosities\n",
    "lums_r = gs.lum(abs_mag_r, band = \"r\")"
   ]
  },
  {
   "cell_type": "code",
   "execution_count": 256,
   "metadata": {},
   "outputs": [],
   "source": [
    "data_f = hstack([data_99_z, Table({\"APP_MAG_R\": app_mag_r}), Table({\"ABS_MAG_R\": abs_mag_r}), Table({\"LUM_R\": lums_r})])"
   ]
  },
  {
   "cell_type": "code",
   "execution_count": 257,
   "metadata": {},
   "outputs": [
    {
     "data": {
      "text/html": [
       "<div><i>Table length=5</i>\n",
       "<table id=\"table4981361536\" class=\"table-striped table-bordered table-condensed\">\n",
       "<thead><tr><th>TARGETID</th><th>TARGET_RA</th><th>TARGET_DEC</th><th>LASTNIGHT</th><th>Z</th><th>ZERR</th><th>ZWARN</th><th>FLUX_G</th><th>FLUX_R</th><th>FLUX_Z</th><th>SPECTYPE</th><th>BGS_TARGET</th><th>EBV</th><th>SERSIC</th><th>UNIQ</th><th>PROBDENSITY</th><th>DISTMU</th><th>DISTSIGMA</th><th>DISTNORM</th><th>DIST_Z_MEAN</th><th>DIST_Z_ERR</th><th>DIST_Z_COSMO_SIGMA</th><th>MW_TRANSMISSION</th><th>APP_MAG_R</th><th>ABS_MAG_R</th><th>LUM_R</th></tr></thead>\n",
       "<thead><tr><th></th><th></th><th></th><th></th><th></th><th></th><th></th><th></th><th></th><th></th><th></th><th></th><th></th><th></th><th></th><th></th><th>Mpc</th><th>Mpc</th><th>1 / Mpc2</th><th>Mpc</th><th>Mpc</th><th>Mpc</th><th></th><th></th><th></th><th>W</th></tr></thead>\n",
       "<thead><tr><th>int64</th><th>float64</th><th>float64</th><th>int64</th><th>float64</th><th>float64</th><th>int64</th><th>float64</th><th>float64</th><th>float64</th><th>bytes6</th><th>int64</th><th>float64</th><th>float64</th><th>int64</th><th>float64</th><th>float64</th><th>float64</th><th>float64</th><th>float64</th><th>float64</th><th>float64</th><th>float64</th><th>float64</th><th>float64</th><th>float64</th></tr></thead>\n",
       "<tr><td>39633224107820478</td><td>160.61727712405</td><td>48.5795094937581</td><td>20220421</td><td>0.0285309495506233</td><td>8.94976626877758e-06</td><td>0</td><td>10.7434968948364</td><td>15.5962247848511</td><td>18.0656089782715</td><td>GALAXY</td><td>514</td><td>0.0126253934577107</td><td>1.0</td><td>5714048</td><td>0.037787030614068476</td><td>257.2238287543571</td><td>66.49742110330038</td><td>1.4167119276752243e-05</td><td>123.9536160087099</td><td>0.03806269441783726</td><td>10.9951801895185</td><td>0.9750140131499763</td><td>19.489978428963674</td><td>-16.065545563200722</td><td>1.4389708223947236e+34</td></tr>\n",
       "<tr><td>39633224107820353</td><td>160.604648933614</td><td>48.578025379034</td><td>20220317</td><td>0.0287743051597604</td><td>5.06052819531529e-06</td><td>0</td><td>97.8936462402344</td><td>140.151321411133</td><td>171.730010986328</td><td>GALAXY</td><td>514</td><td>0.0124998781830072</td><td>0.747448742389679</td><td>5714048</td><td>0.037787030614068476</td><td>257.2238287543571</td><td>66.49742110330038</td><td>1.4167119276752243e-05</td><td>125.03313371942757</td><td>0.021521988481177905</td><td>11.092602925118296</td><td>0.9752593126341212</td><td>17.106307272964337</td><td>-18.468048027825574</td><td>1.3153852687659661e+35</td></tr>\n",
       "<tr><td>39633224107820130</td><td>160.582254511931</td><td>48.6057650714367</td><td>20220317</td><td>0.0866269894393046</td><td>8.07347855837462e-06</td><td>0</td><td>16.9728450775146</td><td>20.6989097595215</td><td>21.8458423614502</td><td>GALAXY</td><td>514</td><td>0.0122952042147517</td><td>2.34993124008179</td><td>5714048</td><td>0.037787030614068476</td><td>257.2238287543571</td><td>66.49742110330038</td><td>1.4167119276752243e-05</td><td>392.00432420309085</td><td>0.03433588458543407</td><td>36.01115009426769</td><td>0.9756594474711141</td><td>19.183376957722288</td><td>-18.87269450014388</td><td>1.9094643864830322e+35</td></tr>\n",
       "<tr><td>39633224107819966</td><td>160.563779139401</td><td>48.5791101535965</td><td>20220218</td><td>0.0286392319026312</td><td>6.027066595383e-06</td><td>0</td><td>26.5717449188232</td><td>42.2222900390625</td><td>58.09375</td><td>GALAXY</td><td>514</td><td>0.0121476463973522</td><td>1.2306604385376</td><td>5714048</td><td>0.037787030614068476</td><td>257.2238287543571</td><td>66.49742110330038</td><td>1.4167119276752243e-05</td><td>124.43390708157122</td><td>0.025632611568898005</td><td>11.03852132423984</td><td>0.9759480228448494</td><td>18.409712259600234</td><td>-17.154210188273915</td><td>3.922092554033521e+34</td></tr>\n",
       "<tr><td>39633228113381386</td><td>160.596181344532</td><td>48.7591124780506</td><td>20220317</td><td>0.0870420579070183</td><td>3.1481411106676e-06</td><td>0</td><td>37.4118041992188</td><td>61.7050819396973</td><td>88.4442367553711</td><td>GALAXY</td><td>514</td><td>0.0124244792386889</td><td>1.0</td><td>5714059</td><td>0.037767057360077544</td><td>257.2390784708651</td><td>66.50711538589478</td><td>1.4165286102841546e-05</td><td>393.9924779500584</td><td>0.013388752166195443</td><td>36.20262091287905</td><td>0.9754066974544541</td><td>17.997161999775827</td><td>-20.069897425936745</td><td>5.751653742759046e+35</td></tr>\n",
       "</table></div>"
      ],
      "text/plain": [
       "<Table length=5>\n",
       "     TARGETID        TARGET_RA     ...         LUM_R         \n",
       "                                   ...           W           \n",
       "      int64           float64      ...        float64        \n",
       "----------------- ---------------- ... ----------------------\n",
       "39633224107820478  160.61727712405 ... 1.4389708223947236e+34\n",
       "39633224107820353 160.604648933614 ... 1.3153852687659661e+35\n",
       "39633224107820130 160.582254511931 ... 1.9094643864830322e+35\n",
       "39633224107819966 160.563779139401 ...  3.922092554033521e+34\n",
       "39633228113381386 160.596181344532 ...  5.751653742759046e+35"
      ]
     },
     "execution_count": 257,
     "metadata": {},
     "output_type": "execute_result"
    }
   ],
   "source": [
    "data_f[:5]"
   ]
  },
  {
   "attachments": {},
   "cell_type": "markdown",
   "metadata": {
    "tags": []
   },
   "source": [
    "### Check the absolute and apparent magnitudes\n",
    "\n",
    "This is a sanity check to quickly check whether there might be some obvious problem in the data/derivation of magnitudes..."
   ]
  },
  {
   "cell_type": "code",
   "execution_count": 258,
   "metadata": {},
   "outputs": [
    {
     "data": {
      "image/png": "[encoded data removed]",
      "text/plain": [
       "<Figure size 720x360 with 3 Axes>"
      ]
     },
     "metadata": {
      "needs_background": "light"
     },
     "output_type": "display_data"
    }
   ],
   "source": [
    "if len(data_f) < 1000000:\n",
    "    # dauert sonst einfach ewig\n",
    "    fig, ax = plt.subplots(ncols = 3, figsize=(10,5))\n",
    "\n",
    "    plot_names = [\"APP_MAG_R\", \"ABS_MAG_R\", \"LUM_R\"]\n",
    "    cnt = 0\n",
    "    for axis in ax:\n",
    "        axis.hist(data_f[plot_names[cnt]], bins = \"auto\")\n",
    "        axis.set_yscale(\"log\")\n",
    "        cnt += 1\n",
    "    plt.show()"
   ]
  },
  {
   "cell_type": "code",
   "execution_count": 259,
   "metadata": {},
   "outputs": [],
   "source": [
    "inspect_abs_mags = False\n",
    "\n",
    "if inspect_abs_mags:\n",
    "    data_to_inspect = data_f[data_f[\"ABS_MAG_R\"]> -12]\n",
    "    fig, ax = plt.subplots(ncols = 5, figsize = (15,8))\n",
    "    \n",
    "    ax[0].hist(data_to_inspect[\"ABS_MAG_R\"], bins = \"auto\")\n",
    "    ax[0].set_xlabel(\"abs mag in r-band\")\n",
    "    ax[1].hist(data_to_inspect[\"MW_TRANSMISSION\"], bins = \"auto\")\n",
    "    ax[1].set_xlabel(\"MW_TRANSMISSION\")\n",
    "    ax[2].hist(data_to_inspect[\"APP_MAG_R\"], bins = \"auto\")\n",
    "    ax[2].set_xlabel(\"App mag r-band\")\n",
    "    ax[3].hist(data_to_inspect[\"DIST_Z_MEAN\"], bins = \"auto\")\n",
    "    ax[3].set_xlabel(\"distance from redshift\")\n",
    "    ax[4].hist(data_to_inspect[\"Z\"], bins = \"auto\")\n",
    "    ax[4].set_xlabel(\"redshift\")\n",
    "    \n",
    "    mean_redshift_pec_objects = np.mean(data_to_inspect[\"Z\"])\n",
    "    mean_distance_pec_objects = np.mean(data_to_inspect[\"DIST_Z_MEAN\"])*u.Mpc\n",
    "    min_redshift_pec_objects = np.min(data_to_inspect[\"Z\"])\n",
    "    min_distance_pec_objects = np.min(data_to_inspect[\"DIST_Z_MEAN\"])*u.Mpc\n",
    "    \n",
    "    data_to_inspect_len = len(data_to_inspect)\n",
    "    star_data_len = len(data_to_inspect[data_to_inspect[\"SPECTYPE\"] == \"STAR\"])\n",
    "    \n",
    "    print(f\"These objects have a mean redshift of {mean_redshift_pec_objects}, which corresponds to a mean distance of {mean_distance_pec_objects}\")\n",
    "    print(f\"The minimum redshift is {min_redshift_pec_objects}, i.e. {min_distance_pec_objects}\")\n",
    "    print(f\"According to WolframAlpha the closest galaxy has a distance of roughly 25000ly = 7655pc (not Mpc, simply pc), so any object below 0.07Mpc is definitely not a real galaxy\")\n",
    "    print(f\"This reminded me to check if we have selected galaxies only...\")\n",
    "    print(f\"We have {star_data_len} stars in our catalogue of peculiar objects, compared to a total number of {data_to_inspect_len} objects...\")\n",
    "                        \n",
    "    for axis in ax:\n",
    "        axis.set_ylabel(\"bin count\")\n",
    "        #axis.legend()\n",
    "        \n",
    "    plt.tight_layout()\n",
    "    plt.show()\n",
    "    "
   ]
  },
  {
   "cell_type": "code",
   "execution_count": 260,
   "metadata": {},
   "outputs": [],
   "source": [
    "# np.max(data_f[\"MW_TRANSMISSION\"])"
   ]
  },
  {
   "attachments": {},
   "cell_type": "markdown",
   "metadata": {
    "tags": []
   },
   "source": [
    "### start calculating the P_Gal (the probability that galaxy X is the host)"
   ]
  },
  {
   "cell_type": "code",
   "execution_count": 261,
   "metadata": {},
   "outputs": [
    {
     "name": "stdout",
     "output_type": "stream",
     "text": [
      "The maximum luminosity in our catalog in the r-band is 1.326534860338231e+37 W with a prob density of     PROBDENSITY    \n",
      "-------------------\n",
      "0.01645199266417121\n"
     ]
    }
   ],
   "source": [
    "max_lum_r = np.max(data_f[\"LUM_R\"])*u.W\n",
    "prob_dens_max_lum = data_f[data_f[\"LUM_R\"] == max_lum_r][\"PROBDENSITY\"]\n",
    "print(f\"The maximum luminosity in our catalog in the r-band is {max_lum_r} with a prob density of {prob_dens_max_lum}\")"
   ]
  },
  {
   "cell_type": "code",
   "execution_count": 262,
   "metadata": {},
   "outputs": [],
   "source": [
    "if modeled_search:\n",
    "    \n",
    "    dist_delta = abs(data_f[\"DIST_Z_MEAN\"]-data_f[\"DISTMU\"])\n",
    "    combined_sigma2 = data_f[\"DISTSIGMA\"]**2 + data_f[\"DIST_Z_COSMO_SIGMA\"].value**2 + data_f[\"DIST_Z_ERR\"]**2\n",
    "    \n",
    "    P_gal_unnorm_no_Lum = data_f[\"PROBDENSITY\"]/(np.sqrt(2*np.pi*combined_sigma2))*np.exp(-dist_delta**2/(combined_sigma2))\n",
    "    P_gal_unnorm = data_f[\"LUM_R\"]*P_gal_unnorm_no_Lum\n",
    "    \n",
    "\n",
    "    if cross_match:\n",
    "        P_gal_no_Lum_sum = np.sum(P_gal_unnorm_no_Lum)\n",
    "        P_gal_no_Lum = 1/P_gal_no_Lum_sum * P_gal_unnorm_no_Lum\n",
    "    \n",
    "    P_gal_sum = np.sum(P_gal_unnorm)\n",
    "    P_gal = 1/P_gal_sum * P_gal_unnorm\n",
    "\n",
    "\n",
    "else:\n",
    "    P_gal_unnorm = data_f[\"LUM_R\"]*data_f[\"PROBDENSITY\"]\n",
    "    P_gal_sum = np.sum(P_gal_unnorm)\n",
    "    P_gal = 1/P_gal_sum * P_gal_unnorm"
   ]
  },
  {
   "attachments": {},
   "cell_type": "markdown",
   "metadata": {
    "tags": []
   },
   "source": [
    "### Get the missed fraction of DESI due to mass/luminosity incompleteness\n",
    "\n",
    "$$f_{missed} =  \\frac{\\int_{-\\infty}^{\\infty} dM 10^{-0.4M}\\left(1-\\frac{Hist}{Schechter}\\right)\\cdot Schechter}{\\int_{-\\infty}^{\\infty}dM 10^{-0.4M}\\cdot Schechter}$$\n",
    "\n",
    "We want to account for the fact that some region were covered in more detail by DESI than others..."
   ]
  },
  {
   "cell_type": "code",
   "execution_count": 263,
   "metadata": {},
   "outputs": [],
   "source": [
    "def V_dat(data):\n",
    "    dat_sort_lowest = data.group_by(\"DIST_Z_MEAN\")\n",
    "    mean_min_dist = np.mean(dat_sort_lowest[\"DIST_Z_MEAN\"][:10])\n",
    "    dat_sort_highest = dat_sort_lowest[::-1]\n",
    "    mean_max_dist = np.mean(dat_sort_highest[\"DIST_Z_MEAN\"][:10])\n",
    "    return 4*np.pi/3 * area_99_deg/gs.omega_sky * (mean_max_dist**3-mean_min_dist**3)"
   ]
  },
  {
   "cell_type": "code",
   "execution_count": 264,
   "metadata": {},
   "outputs": [
    {
     "name": "stdout",
     "output_type": "stream",
     "text": [
      "3048114.281895377\n"
     ]
    },
    {
     "data": {
      "image/png": "[encoded data removed]",
      "text/plain": [
       "<Figure size 360x180 with 1 Axes>"
      ]
     },
     "metadata": {
      "needs_background": "light"
     },
     "output_type": "display_data"
    }
   ],
   "source": [
    "if modeled_search:\n",
    "    \n",
    "    # get the Schechter model, see 1/V estimator, bin size of half a mag\n",
    "    from astropy.modeling.models import Schechter1D\n",
    "\n",
    "    phi_star = 0.0016745140734036254\n",
    "    m_star = -21.757361746831197\n",
    "    alpha = -1.1297780395774693\n",
    "\n",
    "    schechter_model = Schechter1D(phi_star, m_star, alpha)\n",
    "    \n",
    "    abs_mag_max = np.max(data_f[\"ABS_MAG_R\"])\n",
    "    abs_mag_min = np.min(data_f[\"ABS_MAG_R\"])\n",
    "\n",
    "    data_min_dist = np.min(data_f[\"DIST_Z_MEAN\"])\n",
    "    data_max_dist = np.max(data_f[\"DIST_Z_MEAN\"])\n",
    "    \n",
    "    bins = np.arange(abs_mag_min, abs_mag_max, 0.5)\n",
    "\n",
    "    hist, bins = np.histogram(data_f[\"ABS_MAG_R\"], bins =  bins)\n",
    "    #print(hist[:])\n",
    "    # normalize our histogram to our volume\n",
    "    volume = V_dat(data_f)\n",
    "    hist = hist/(volume)\n",
    "    #print(hist[:])\n",
    "    #print(bins)\n",
    "    print(volume)\n",
    "    \n",
    "    #hist = hist/(area_99.to_value(u.deg**2)*(data_max_dist-data_min_dist).value*10**0) # completely wrong normalization\n",
    "    \n",
    "    #print(f\"{abs_mag_min}, {abs_mag_max}, {data_min_dist}, {data_max_dist}\")\n",
    "    \n",
    "    fig, ax = plt.subplots(figsize = (5,2.5))\n",
    "    bins_center = bins[1:]-(bins[1]-bins[2])/2\n",
    "    ax.plot(bins_center, hist, label = \"normalized distribution\")\n",
    "    ax.plot(np.linspace(-25,-8), schechter_model(np.linspace(-25,-8)),  label = \"some schechter fit\", color = \"red\")\n",
    "\n",
    "    ax.set_yscale(\"log\")\n",
    "    plt.show()"
   ]
  },
  {
   "cell_type": "code",
   "execution_count": 265,
   "metadata": {},
   "outputs": [
    {
     "data": {
      "text/plain": [
       "(numpy.ndarray, 1846291.1437220573)"
      ]
     },
     "execution_count": 265,
     "metadata": {},
     "output_type": "execute_result"
    }
   ],
   "source": [
    "type(hist), 246831256.82765186 - 244984965.6839298"
   ]
  },
  {
   "cell_type": "code",
   "execution_count": 266,
   "metadata": {},
   "outputs": [
    {
     "name": "stdout",
     "output_type": "stream",
     "text": [
      "num: (296646.9065597413, 0.216354922959287)\n",
      "denom: (924272.0726096857, 0.005902445979669296)\n",
      "fraction missed:  0.32095193109336045\n"
     ]
    },
    {
     "name": "stderr",
     "output_type": "stream",
     "text": [
      "/var/folders/x0/lptlz3bs7gl7kwkjgk1pnbr00000gn/T/ipykernel_83894/3679873690.py:38: IntegrationWarning: The occurrence of roundoff error is detected, which prevents \n",
      "  the requested tolerance from being achieved.  The error may be \n",
      "  underestimated.\n",
      "  numerator = quad(num_func, lower_int_limit, upper_int_limit, limit = 1000)\n"
     ]
    }
   ],
   "source": [
    "bins_center = bins[1:]-np.abs(bins[1]-bins[0])/2\n",
    "\n",
    "if modeled_search:\n",
    "    def hist_func(M):\n",
    "        # https://stackoverflow.com/questions/2566412/find-nearest-value-in-numpy-array\n",
    "        # make sure array is a numpy array\n",
    "        # array = np.array(array)\n",
    "        idx = (np.abs(bins_center - M)).argmin()\n",
    "        #print(idx)\n",
    "        val = hist[idx]\n",
    "        #print(f\"val {val}\")\n",
    "        return val\n",
    "\n",
    "    def num_func(M):\n",
    "        #print(f\"M is {M}\")\n",
    "        schechter_val = schechter_model(M)\n",
    "        #print(f\"schechter Val: {schechter_val}\")\n",
    "        lum_factor = 10**(-0.4*M)\n",
    "        #print(f\"lum factor {lum_factor}\")\n",
    "        hist_val = hist_func(M)\n",
    "        #print(f\"hist val {hist_val}\")\n",
    "        weighting_coverage = (1-hist_val/(schechter_val))\n",
    "        #print(f\"weighting_coverage: {weighting_coverage}\")\n",
    "        final_val = lum_factor*weighting_coverage*schechter_val\n",
    "        #print(f\"final value: {final_val}\")\n",
    "        return final_val\n",
    "    def denom_func(M):\n",
    "        lum_factor = 10**(-0.4*M)\n",
    "        schechter_val = schechter_model(M)\n",
    "        final_val = lum_factor*schechter_val\n",
    "\n",
    "        return final_val\n",
    "\n",
    "    lower_int_limit = -28\n",
    "    upper_int_limit = 100\n",
    "\n",
    "\n",
    "    numerator = quad(num_func, lower_int_limit, upper_int_limit, limit = 1000)\n",
    "    denominator = quad(denom_func, lower_int_limit, upper_int_limit)\n",
    "\n",
    "    print(f\"num: {numerator}\")\n",
    "    print(f\"denom: {denominator}\")\n",
    "\n",
    "    f_missed = numerator[0]/denominator[0]\n",
    "\n",
    "    print(\"fraction missed: \", f_missed)\n",
    "    P_gal_f_missed = P_gal*(1-f_missed)"
   ]
  },
  {
   "cell_type": "code",
   "execution_count": 267,
   "metadata": {},
   "outputs": [],
   "source": [
    "data_f = hstack([data_f, Table({\"P_GAL\": P_gal_f_missed.value}), Table({\"P_GAL_NO_LUM\": P_gal_no_Lum.value})])"
   ]
  },
  {
   "cell_type": "code",
   "execution_count": 268,
   "metadata": {},
   "outputs": [
    {
     "data": {
      "text/html": [
       "<div><i>Table length=10000</i>\n",
       "<table id=\"table4998943312\" class=\"table-striped table-bordered table-condensed\">\n",
       "<thead><tr><th>TARGETID</th><th>TARGET_RA</th><th>TARGET_DEC</th><th>LASTNIGHT</th><th>Z</th><th>ZERR</th><th>ZWARN</th><th>FLUX_G</th><th>FLUX_R</th><th>FLUX_Z</th><th>SPECTYPE</th><th>BGS_TARGET</th><th>EBV</th><th>SERSIC</th><th>UNIQ</th><th>PROBDENSITY</th><th>DISTMU</th><th>DISTSIGMA</th><th>DISTNORM</th><th>DIST_Z_MEAN</th><th>DIST_Z_ERR</th><th>DIST_Z_COSMO_SIGMA</th><th>MW_TRANSMISSION</th><th>APP_MAG_R</th><th>ABS_MAG_R</th><th>LUM_R</th><th>P_GAL</th><th>P_GAL_NO_LUM</th></tr></thead>\n",
       "<thead><tr><th></th><th></th><th></th><th></th><th></th><th></th><th></th><th></th><th></th><th></th><th></th><th></th><th></th><th></th><th></th><th></th><th>Mpc</th><th>Mpc</th><th>1 / Mpc2</th><th>Mpc</th><th>Mpc</th><th>Mpc</th><th></th><th></th><th></th><th>W</th><th></th><th></th></tr></thead>\n",
       "<thead><tr><th>int64</th><th>float64</th><th>float64</th><th>int64</th><th>float64</th><th>float64</th><th>int64</th><th>float64</th><th>float64</th><th>float64</th><th>bytes6</th><th>int64</th><th>float64</th><th>float64</th><th>int64</th><th>float64</th><th>float64</th><th>float64</th><th>float64</th><th>float64</th><th>float64</th><th>float64</th><th>float64</th><th>float64</th><th>float64</th><th>float64</th><th>float64</th><th>float64</th></tr></thead>\n",
       "<tr><td>39633224107820478</td><td>160.61727712405</td><td>48.5795094937581</td><td>20220421</td><td>0.0285309495506233</td><td>8.94976626877758e-06</td><td>0</td><td>10.7434968948364</td><td>15.5962247848511</td><td>18.0656089782715</td><td>GALAXY</td><td>514</td><td>0.0126253934577107</td><td>1.0</td><td>5714048</td><td>0.037787030614068476</td><td>257.2238287543571</td><td>66.49742110330038</td><td>1.4167119276752243e-05</td><td>123.9536160087099</td><td>0.03806269441783726</td><td>10.9951801895185</td><td>0.9750140131499763</td><td>19.489978428963674</td><td>-16.065545563200722</td><td>1.4389708223947236e+34</td><td>8.204685195188568e-07</td><td>4.497922905374657e-05</td></tr>\n",
       "<tr><td>39633224107820353</td><td>160.604648933614</td><td>48.578025379034</td><td>20220317</td><td>0.0287743051597604</td><td>5.06052819531529e-06</td><td>0</td><td>97.8936462402344</td><td>140.151321411133</td><td>171.730010986328</td><td>GALAXY</td><td>514</td><td>0.0124998781830072</td><td>0.747448742389679</td><td>5714048</td><td>0.037787030614068476</td><td>257.2238287543571</td><td>66.49742110330038</td><td>1.4167119276752243e-05</td><td>125.03313371942757</td><td>0.021521988481177905</td><td>11.092602925118296</td><td>0.9752593126341212</td><td>17.106307272964337</td><td>-18.468048027825574</td><td>1.3153852687659661e+35</td><td>8.00104902591509e-06</td><td>4.798395384886369e-05</td></tr>\n",
       "<tr><td>39633224107820130</td><td>160.582254511931</td><td>48.6057650714367</td><td>20220317</td><td>0.0866269894393046</td><td>8.07347855837462e-06</td><td>0</td><td>16.9728450775146</td><td>20.6989097595215</td><td>21.8458423614502</td><td>GALAXY</td><td>514</td><td>0.0122952042147517</td><td>2.34993124008179</td><td>5714048</td><td>0.037787030614068476</td><td>257.2238287543571</td><td>66.49742110330038</td><td>1.4167119276752243e-05</td><td>392.00432420309085</td><td>0.03433588458543407</td><td>36.01115009426769</td><td>0.9756594474711141</td><td>19.183376957722288</td><td>-18.87269450014388</td><td>1.9094643864830322e+35</td><td>2.019911112135531e-05</td><td>8.344931356662497e-05</td></tr>\n",
       "<tr><td>39633224107819966</td><td>160.563779139401</td><td>48.5791101535965</td><td>20220218</td><td>0.0286392319026312</td><td>6.027066595383e-06</td><td>0</td><td>26.5717449188232</td><td>42.2222900390625</td><td>58.09375</td><td>GALAXY</td><td>514</td><td>0.0121476463973522</td><td>1.2306604385376</td><td>5714048</td><td>0.037787030614068476</td><td>257.2238287543571</td><td>66.49742110330038</td><td>1.4167119276752243e-05</td><td>124.43390708157122</td><td>0.025632611568898005</td><td>11.03852132423984</td><td>0.9759480228448494</td><td>18.409712259600234</td><td>-17.154210188273915</td><td>3.922092554033521e+34</td><td>2.3017206311539325e-06</td><td>4.629529389618888e-05</td></tr>\n",
       "<tr><td>39633228113381386</td><td>160.596181344532</td><td>48.7591124780506</td><td>20220317</td><td>0.0870420579070183</td><td>3.1481411106676e-06</td><td>0</td><td>37.4118041992188</td><td>61.7050819396973</td><td>88.4442367553711</td><td>GALAXY</td><td>514</td><td>0.0124244792386889</td><td>1.0</td><td>5714059</td><td>0.037767057360077544</td><td>257.2390784708651</td><td>66.50711538589478</td><td>1.4165286102841546e-05</td><td>393.9924779500584</td><td>0.013388752166195443</td><td>36.20262091287905</td><td>0.9754066974544541</td><td>17.997161999775827</td><td>-20.069897425936745</td><td>5.751653742759046e+35</td><td>5.577907301383973e-05</td><td>7.650338163277982e-05</td></tr>\n",
       "<tr><td>39633220077096130</td><td>160.502714787099</td><td>48.2425806193775</td><td>20220421</td><td>0.0897279204540391</td><td>5.57873828172042e-05</td><td>0</td><td>18.6595916748047</td><td>20.146915435791</td><td>41.3743362426758</td><td>GALAXY</td><td>514</td><td>0.016830001026392</td><td>4.0</td><td>5711198</td><td>0.03760913254142433</td><td>257.1988923476034</td><td>66.4756591890677</td><td>1.4170275396363581e-05</td><td>406.88206991315235</td><td>0.23726809598302773</td><td>37.44598704707183</td><td>0.9668323360395499</td><td>19.202856508913612</td><td>-18.934122818785468</td><td>2.0206118248120075e+35</td><td>1.0765392271121148e-05</td><td>4.2028998569573734e-05</td></tr>\n",
       "<tr><td>39633220077096092</td><td>160.499405352143</td><td>48.2443654394894</td><td>20220218</td><td>0.0891938021197193</td><td>9.58136623875225e-06</td><td>0</td><td>90.8169174194336</td><td>219.478057861328</td><td>450.9931640625</td><td>GALAXY</td><td>514</td><td>0.0167716387659311</td><td>3.6061794757843</td><td>5711198</td><td>0.03760913254142433</td><td>257.1988923476034</td><td>66.4756591890677</td><td>1.4170275396363581e-05</td><td>404.31543579408657</td><td>0.04074886204326435</td><td>37.198123334357426</td><td>0.9669454309971518</td><td>16.61002714276029</td><td>-21.513207702637356</td><td>2.1732858067659255e+36</td><td>0.0001306248179764647</td><td>4.7414472965215824e-05</td></tr>\n",
       "<tr><td>39633232102162826</td><td>160.676651886262</td><td>48.9948178021776</td><td>20220218</td><td>0.0266874244394829</td><td>6.65223658190699e-06</td><td>0</td><td>142.321075439453</td><td>284.887725830078</td><td>496.859161376953</td><td>GALAXY</td><td>514</td><td>0.0139780789613724</td><td>1.08673894405365</td><td>5714093</td><td>0.03754523982911819</td><td>257.61898975895224</td><td>66.60936322650437</td><td>1.4123430807874492e-05</td><td>115.78790156525507</td><td>0.028291420875771106</td><td>10.259164768003501</td><td>0.9723743183998059</td><td>16.33289935418822</td><td>-19.074631407313106</td><td>2.2997801736098604e+35</td><td>7.753170089237103e-06</td><td>2.659469775705411e-05</td></tr>\n",
       "<tr><td>39633240016817200</td><td>160.728359315402</td><td>49.5122907593121</td><td>20220317</td><td>0.0317096528038131</td><td>7.42219329991124e-06</td><td>0</td><td>457.960144042969</td><td>1022.95190429688</td><td>1736.21923828125</td><td>GALAXY</td><td>514</td><td>0.0166523698717356</td><td>5.2728910446167</td><td>5714486</td><td>0.03742726892583277</td><td>257.6441706844403</td><td>66.61454063608322</td><td>1.41207056457255e-05</td><td>138.0835427904784</td><td>0.03156600268877997</td><td>12.272576159036594</td><td>0.9671765925675718</td><td>14.939126405285093</td><td>-20.85083373882638</td><td>1.180775295668725e+36</td><td>0.0001468029787463226</td><td>9.807756673160566e-05</td></tr>\n",
       "<tr><td>...</td><td>...</td><td>...</td><td>...</td><td>...</td><td>...</td><td>...</td><td>...</td><td>...</td><td>...</td><td>...</td><td>...</td><td>...</td><td>...</td><td>...</td><td>...</td><td>...</td><td>...</td><td>...</td><td>...</td><td>...</td><td>...</td><td>...</td><td>...</td><td>...</td><td>...</td><td>...</td><td>...</td></tr>\n",
       "<tr><td>39628186564166312</td><td>150.03966353025</td><td>16.6456428024779</td><td>20230408</td><td>0.0433353317404415</td><td>2.88986307808906e-06</td><td>0</td><td>37.5603256225586</td><td>47.2457160949707</td><td>53.5255661010742</td><td>GALAXY</td><td>131074</td><td>0.0284927766770124</td><td>0.519054412841797</td><td>83240</td><td>0.00014295750182934244</td><td>149.02300138172038</td><td>6.88529550836443</td><td>4.493319330225297e-05</td><td>190.299376282295</td><td>0.012290317225373229</td><td>17.034292231044883</td><td>0.9444954871495707</td><td>18.252093628200583</td><td>-18.234424977271416</td><td>1.0607273174137994e+35</td><td>2.69170266791494e-08</td><td>2.0018217535713637e-07</td></tr>\n",
       "<tr><td>39628186564165981</td><td>150.019988145829</td><td>16.7249105185755</td><td>20230408</td><td>0.0310406362935331</td><td>2.53128035401077e-05</td><td>0</td><td>22.3288764953613</td><td>33.0323295593262</td><td>44.7141876220703</td><td>GALAXY</td><td>131074</td><td>0.0282513089478016</td><td>1.14817929267883</td><td>83240</td><td>0.00014295750182934244</td><td>149.02300138172038</td><td>6.88529550836443</td><td>4.493319330225297e-05</td><td>135.10437193938446</td><td>0.1076548267397068</td><td>12.00284939989052</td><td>0.9449526791756272</td><td>18.641177144757716</td><td>-17.101415674106864</td><td>3.7359412006296096e+34</td><td>7.119441455390067e-07</td><td>1.5033079831780783e-05</td></tr>\n",
       "<tr><td>39633057942079486</td><td>159.975008059892</td><td>38.9136701437227</td><td>20220318</td><td>0.0760206201046235</td><td>1.10346647509988e-05</td><td>0</td><td>9.90598011016846</td><td>16.4130802154541</td><td>21.752571105957</td><td>GALAXY</td><td>514</td><td>0.0156707316637039</td><td>1.0</td><td>86997</td><td>0.000141266574781241</td><td>266.69966731080206</td><td>61.19364122149539</td><td>1.3355883017057145e-05</td><td>341.54567838868695</td><td>0.04692968821717773</td><td>31.179889157966443</td><td>0.9690812596725837</td><td>19.427925257838186</td><td>-18.32886847858703</td><td>1.1571273376654657e+35</td><td>3.682089982721896e-07</td><td>2.510240409098711e-06</td></tr>\n",
       "<tr><td>39633053223488335</td><td>159.796613561558</td><td>38.8423329380876</td><td>20221207</td><td>0.0990022074777887</td><td>2.75120607013467e-05</td><td>0</td><td>23.6322822570801</td><td>40.3625183105469</td><td>58.4598121643066</td><td>GALAXY</td><td>514</td><td>0.0194588378071785</td><td>0.516136229038239</td><td>86997</td><td>0.000141266574781241</td><td>266.69966731080206</td><td>61.19364122149539</td><td>1.3355883017057145e-05</td><td>451.7141344283007</td><td>0.11700841806079623</td><td>41.79766850662269</td><td>0.9617518437900264</td><td>18.44271193132176</td><td>-19.921300214386363</td><td>5.015957504093054e+35</td><td>9.524258045984257e-09</td><td>1.4978881258702467e-08</td></tr>\n",
       "<tr><td>39633057942079124</td><td>159.942629352055</td><td>38.9922250508813</td><td>20220318</td><td>0.0726701986014387</td><td>1.98101474284317e-06</td><td>0</td><td>27.4824810028076</td><td>37.3164443969727</td><td>42.9463119506836</td><td>GALAXY</td><td>514</td><td>0.0153268789872527</td><td>1.14947164058685</td><td>86997</td><td>0.000141266574781241</td><td>266.69966731080206</td><td>61.19364122149539</td><td>1.3355883017057145e-05</td><td>325.74528963498153</td><td>0.0084250644646569</td><td>29.678325565528823</td><td>0.9697493217637007</td><td>18.536898070337667</td><td>-19.117020782919493</td><td>2.3913441158391118e+35</td><td>1.1858936702521385e-06</td><td>3.9120621720390234e-06</td></tr>\n",
       "<tr><td>39633053223487433</td><td>159.721345388199</td><td>38.7995461031599</td><td>20220318</td><td>0.0506166317680028</td><td>9.00695739366864e-06</td><td>0</td><td>235.086196899414</td><td>382.222412109375</td><td>496.390563964844</td><td>GALAXY</td><td>514</td><td>0.020643362775445</td><td>1.45933783054352</td><td>86997</td><td>0.000141266574781241</td><td>266.69966731080206</td><td>61.19364122149539</td><td>1.3355883017057145e-05</td><td>223.42915993341217</td><td>0.038305925710882975</td><td>20.088567121574755</td><td>0.9594713630177377</td><td>15.999289670378912</td><td>-20.835791269940984</td><td>1.1645288994828923e+36</td><td>8.251292457831686e-06</td><td>5.589510583457422e-06</td></tr>\n",
       "<tr><td>39633053223488051</td><td>159.774272044723</td><td>38.6706497026762</td><td>20221207</td><td>0.056136906612234</td><td>7.90978593316489e-06</td><td>0</td><td>51.6031608581543</td><td>95.5689544677734</td><td>151.925582885742</td><td>GALAXY</td><td>514</td><td>0.0179309584200382</td><td>0.734120905399323</td><td>86997</td><td>0.000141266574781241</td><td>266.69966731080206</td><td>61.19364122149539</td><td>1.3355883017057145e-05</td><td>248.76316910613352</td><td>0.033639708219160416</td><td>22.441143762736598</td><td>0.9647013666957689</td><td>17.510190147434564</td><td>-19.558159253349096</td><td>3.5900249265615526e+35</td><td>3.6595532768488426e-06</td><td>8.041418840341212e-06</td></tr>\n",
       "<tr><td>39633053227681596</td><td>160.039421641279</td><td>38.8703314343731</td><td>20220318</td><td>0.0833022977548051</td><td>1.45459966494784e-05</td><td>0</td><td>21.7864246368408</td><td>49.2766189575195</td><td>98.5668182373047</td><td>GALAXY</td><td>514</td><td>0.0169907938688993</td><td>1.0</td><td>86997</td><td>0.000141266574781241</td><td>266.69966731080206</td><td>61.19364122149539</td><td>1.3355883017057145e-05</td><td>376.11586233485076</td><td>0.061863312773042085</td><td>34.484009074684465</td><td>0.9665208185202661</td><td>18.231425778281956</td><td>-19.734778686841036</td><td>4.224207442695185e+35</td><td>3.8077024071931177e-07</td><td>7.110822437476867e-07</td></tr>\n",
       "<tr><td>39633053227682999</td><td>160.164638745703</td><td>38.7802473516148</td><td>20220327</td><td>0.0757900233679653</td><td>4.11556994278512e-06</td><td>0</td><td>11.4522590637207</td><td>15.8406982421875</td><td>18.9003105163574</td><td>GALAXY</td><td>514</td><td>0.0161983650177717</td><td>0.588924050331116</td><td>86997</td><td>0.000141266574781241</td><td>266.69966731080206</td><td>61.19364122149539</td><td>1.3355883017057145e-05</td><td>340.45605229173395</td><td>0.01750315019357588</td><td>31.07616433426972</td><td>0.9680570298858848</td><td>19.465316555363266</td><td>-18.284537019939016</td><td>1.1108324823276221e+35</td><td>3.654947015396239e-07</td><td>2.59558100861196e-06</td></tr>\n",
       "<tr><td>39633057942080454</td><td>160.068705794704</td><td>38.9177213660104</td><td>20220318</td><td>0.0842353946860145</td><td>3.77949328693415e-06</td><td>0</td><td>9.104079246521</td><td>16.0593910217285</td><td>21.4817543029785</td><td>GALAXY</td><td>514</td><td>0.0168857276439667</td><td>1.28294110298157</td><td>86997</td><td>0.000141266574781241</td><td>266.69966731080206</td><td>61.19364122149539</td><td>1.3355883017057145e-05</td><td>380.56848599143376</td><td>0.016073842166581982</td><td>34.91143817867022</td><td>0.9667243608016114</td><td>19.448933975043087</td><td>-18.542832250538336</td><td>1.4091806234197142e+35</td><td>1.0516926331232355e-07</td><td>5.887409467205922e-07</td></tr>\n",
       "</table></div>"
      ],
      "text/plain": [
       "<Table length=10000>\n",
       "     TARGETID        TARGET_RA     ...      P_GAL_NO_LUM     \n",
       "                                   ...                       \n",
       "      int64           float64      ...        float64        \n",
       "----------------- ---------------- ... ----------------------\n",
       "39633224107820478  160.61727712405 ...  4.497922905374657e-05\n",
       "39633224107820353 160.604648933614 ...  4.798395384886369e-05\n",
       "39633224107820130 160.582254511931 ...  8.344931356662497e-05\n",
       "39633224107819966 160.563779139401 ...  4.629529389618888e-05\n",
       "39633228113381386 160.596181344532 ...  7.650338163277982e-05\n",
       "39633220077096130 160.502714787099 ... 4.2028998569573734e-05\n",
       "39633220077096092 160.499405352143 ... 4.7414472965215824e-05\n",
       "39633232102162826 160.676651886262 ...  2.659469775705411e-05\n",
       "39633240016817200 160.728359315402 ...  9.807756673160566e-05\n",
       "              ...              ... ...                    ...\n",
       "39628186564166312  150.03966353025 ... 2.0018217535713637e-07\n",
       "39628186564165981 150.019988145829 ... 1.5033079831780783e-05\n",
       "39633057942079486 159.975008059892 ...  2.510240409098711e-06\n",
       "39633053223488335 159.796613561558 ... 1.4978881258702467e-08\n",
       "39633057942079124 159.942629352055 ... 3.9120621720390234e-06\n",
       "39633053223487433 159.721345388199 ...  5.589510583457422e-06\n",
       "39633053223488051 159.774272044723 ...  8.041418840341212e-06\n",
       "39633053227681596 160.039421641279 ...  7.110822437476867e-07\n",
       "39633053227682999 160.164638745703 ...   2.59558100861196e-06\n",
       "39633057942080454 160.068705794704 ...  5.887409467205922e-07"
      ]
     },
     "execution_count": 268,
     "metadata": {},
     "output_type": "execute_result"
    }
   ],
   "source": [
    "data_f[:]"
   ]
  },
  {
   "attachments": {},
   "cell_type": "markdown",
   "metadata": {
    "tags": []
   },
   "source": [
    "## Analyse the data: How much luminosity do we cover? Which galaxies should we observe?\n",
    "\n",
    "Lets look into what information we can retrieve from here. First we define, how many galaxies we could observe (N_galaxies).\n",
    "\n",
    "We then calculate the luminosity (lum) from all the galaxies in this area, i.e. the total luminosity. From there do some comparison between the covered luminosity and total luminosity depending on the ranking by probability:\n",
    "- simple \"Maximum lum that could be covered\" by looking at the brightest galaxies\n",
    "- Calculate the probability this way (done above) (from https://arxiv.org/pdf/1710.05452.pdf w/o normalization), both using a static and variable distance and error: $$P_{gal} = k^{-1}L_r(1-f_{missed})\\cdot P_{2D}\\frac{e^{-\\frac{\\left(D_{LVC}-D_{desi}\\right)^2}{\\sigma_{D,desi}^2+\\sigma_{D,cosmo}^2+\\sigma_{D,LVC}^2}}}{\\sqrt{2\\pi \\left(\\sigma_{D,desi}^2+\\sigma_{D,cosmo}^2+\\sigma_{D,LVC}^2\\right)}}$$\n",
    "- others may follow...\n",
    "\n",
    "Since we have the actual luminosity (here in r-band though), we don't need to again calculate the $$\\tilde{L}_{gal}$$ values. In the mentioned paper, they only use a fixed distance and error for the LIGO data. I will try both, to get an idea what the differences are."
   ]
  },
  {
   "cell_type": "code",
   "execution_count": 269,
   "metadata": {},
   "outputs": [],
   "source": [
    "N_galaxies = 20 # how many galaxies we can cover"
   ]
  },
  {
   "cell_type": "code",
   "execution_count": 270,
   "metadata": {},
   "outputs": [],
   "source": [
    "total_lum = np.sum(data_f[\"LUM_R\"])"
   ]
  },
  {
   "attachments": {},
   "cell_type": "markdown",
   "metadata": {
    "tags": []
   },
   "source": [
    "### Compare lum with luminosity ranking\n",
    "\n",
    "https://iopscience.iop.org/article/10.3847/0067-0049/226/1/10"
   ]
  },
  {
   "cell_type": "code",
   "execution_count": 271,
   "metadata": {},
   "outputs": [],
   "source": [
    "data_sort_by_lums = data_f.group_by(\"LUM_R\")\n",
    "data_sort_by_lums = data_sort_by_lums[::-1]"
   ]
  },
  {
   "cell_type": "code",
   "execution_count": 272,
   "metadata": {},
   "outputs": [],
   "source": [
    "lum_after_N_highest = np.sum(data_sort_by_lums[\"LUM_R\"][:N_galaxies])"
   ]
  },
  {
   "cell_type": "code",
   "execution_count": 273,
   "metadata": {},
   "outputs": [
    {
     "name": "stdout",
     "output_type": "stream",
     "text": [
      "The theoretical maximum luminosity we could cover is 1.719827725692483e+38, i.e. 2.9093728984093623 % of the total luminosity\n",
      "The TARGETID values of these galaxies are: \n",
      "      TARGETID    \n",
      "-----------------\n",
      "39633081241439773\n",
      "39633358673674448\n",
      "39632975582727750\n",
      "39633440441631299\n",
      "39633478857262011\n",
      "39633307591246223\n",
      "39633361886512546\n",
      "39633365086768338\n",
      "39633076627705628\n",
      "39633358677869556\n",
      "39633034189734958\n",
      "39633029349507749\n",
      "39633135477983145\n",
      "39628475111309380\n",
      "39633165941214597\n",
      "39633081254020571\n",
      "39633161663022517\n",
      "39633380819602932\n",
      "39633458028350405\n",
      "39633540735828094\n"
     ]
    }
   ],
   "source": [
    "print(f\"The theoretical maximum luminosity we could cover is {lum_after_N_highest}, i.e. {lum_after_N_highest*100/total_lum} % of the total luminosity\")\n",
    "print(\"The TARGETID values of these galaxies are: \\n\", data_sort_by_lums[\"TARGETID\"][:N_galaxies])"
   ]
  },
  {
   "attachments": {},
   "cell_type": "markdown",
   "metadata": {
    "tags": []
   },
   "source": [
    "### Compare lum with P_Gal ranking"
   ]
  },
  {
   "cell_type": "code",
   "execution_count": 274,
   "metadata": {},
   "outputs": [],
   "source": [
    "data_sort_by_PGal = data_f.group_by(\"P_GAL\")\n",
    "data_sort_by_PGal = data_sort_by_PGal[::-1]\n",
    "\n",
    "lum_after_N_PGal = np.sum(data_sort_by_PGal[\"LUM_R\"][:N_galaxies])\n",
    "lum_after_10_PGal = np.sum(data_sort_by_PGal[\"LUM_R\"][:10])"
   ]
  },
  {
   "cell_type": "code",
   "execution_count": 275,
   "metadata": {},
   "outputs": [
    {
     "name": "stdout",
     "output_type": "stream",
     "text": [
      "The luminosity we cover when observing 20 galaxies ranked by P_gal is 8.155461465972112e+37W, i.e. 1.3796311228537408% of the total (DESI) luminosity in the search area\n",
      "The luminosity we cover when observing 10 galaxies ranked by P_gal is 5.115299074121927e+37W, i.e. 0.865337398111577% of the total (DESI) luminosity in the search area\n",
      "The TARGETID values of these galaxies are: \n",
      "    TARGET_RA        TARGET_DEC    ...      TARGETID             P_GAL        \n",
      "---------------- ---------------- ... ----------------- ---------------------\n",
      "159.132741406714 45.2793855713682 ... 39633170227794004  0.007702259948010604\n",
      "160.788605223521 52.5566485559508 ... 39633285814419623   0.00749102828690736\n",
      "162.300420730946 57.8372551359261 ... 39633358673674448  0.006551262490035821\n",
      "161.351290633544 51.9378457634401 ... 39633278386310487  0.006434548759403464\n",
      "160.623914804067 49.7263326582477 ... 39633243942685377   0.00461295006088877\n",
      "162.862873413447 57.7100968822253 ... 39633358677869556   0.00450399746134985\n",
      "160.763119607896 51.4848207404392 ... 39633270874311327  0.004475285706984559\n",
      "160.009499232963 45.6275428108155 ... 39633178738032785    0.0043629945937226\n",
      "157.407258495435 38.4061125626019 ... 39633048462950834  0.004292110935141765\n",
      "159.558488055666 47.0325902417434 ... 39633199646638150   0.00425326560184713\n",
      "162.484977253773 52.8773566980097 ... 39633293175425428  0.004068921931298383\n",
      "162.403471847279 55.4299965201975 ... 39633328621490247  0.003855371535594709\n",
      " 160.94428282679 51.3413765906407 ... 39633267095241242  0.003832571887261839\n",
      "159.412370353188 43.6711141613036 ... 39633144294409477 0.0036638871563430277\n",
      "162.583003622782 56.3476484514602 ... 39633338838811034 0.0034165751745785047\n",
      " 158.31582539162   40.01121043558 ... 39633076615120351 0.0033936488241795293\n",
      "158.097701776049 40.1690299148185 ... 39633081241440324 0.0033934496152943977\n",
      " 161.97182808695 56.5865399015681 ... 39633342194253964  0.003290562440517704\n",
      "160.075025352481 45.1986259710216 ... 39633170240374974 0.0032819743140906858\n",
      "160.691086986778 49.7767805388813 ... 39633243942685989  0.003246320218559871\n"
     ]
    }
   ],
   "source": [
    "print(f\"The luminosity we cover when observing {N_galaxies} galaxies ranked by P_gal is {lum_after_N_PGal}W, i.e. {lum_after_N_PGal*100/total_lum}% of the total (DESI) luminosity in the search area\")\n",
    "print(f\"The luminosity we cover when observing 10 galaxies ranked by P_gal is {lum_after_10_PGal}W, i.e. {lum_after_10_PGal*100/total_lum}% of the total (DESI) luminosity in the search area\") \n",
    "\n",
    "print(\"The TARGETID values of these galaxies are: \\n\", data_sort_by_PGal[\"TARGET_RA\", \"TARGET_DEC\", \"SERSIC\", \"TARGETID\", \"P_GAL\"][:N_galaxies])\n"
   ]
  },
  {
   "cell_type": "code",
   "execution_count": 276,
   "metadata": {},
   "outputs": [
    {
     "data": {
      "text/html": [
       "<div><i>Table length=20</i>\n",
       "<table id=\"table4981492848\" class=\"table-striped table-bordered table-condensed\">\n",
       "<thead><tr><th>TARGET_RA</th><th>TARGET_DEC</th><th>SERSIC</th><th>TARGETID</th><th>P_GAL</th></tr></thead>\n",
       "<thead><tr><th>float64</th><th>float64</th><th>float64</th><th>int64</th><th>float64</th></tr></thead>\n",
       "<tr><td>159.132741406714</td><td>45.2793855713682</td><td>4.68412828445435</td><td>39633170227794004</td><td>0.007702259948010604</td></tr>\n",
       "<tr><td>160.788605223521</td><td>52.5566485559508</td><td>4.17646789550781</td><td>39633285814419623</td><td>0.00749102828690736</td></tr>\n",
       "<tr><td>162.300420730946</td><td>57.8372551359261</td><td>4.0</td><td>39633358673674448</td><td>0.006551262490035821</td></tr>\n",
       "<tr><td>161.351290633544</td><td>51.9378457634401</td><td>2.3444881439209</td><td>39633278386310487</td><td>0.006434548759403464</td></tr>\n",
       "<tr><td>160.623914804067</td><td>49.7263326582477</td><td>4.0</td><td>39633243942685377</td><td>0.00461295006088877</td></tr>\n",
       "<tr><td>162.862873413447</td><td>57.7100968822253</td><td>5.14554357528687</td><td>39633358677869556</td><td>0.00450399746134985</td></tr>\n",
       "<tr><td>160.763119607896</td><td>51.4848207404392</td><td>1.29343521595001</td><td>39633270874311327</td><td>0.004475285706984559</td></tr>\n",
       "<tr><td>160.009499232963</td><td>45.6275428108155</td><td>0.759382426738739</td><td>39633178738032785</td><td>0.0043629945937226</td></tr>\n",
       "<tr><td>157.407258495435</td><td>38.4061125626019</td><td>4.19937038421631</td><td>39633048462950834</td><td>0.004292110935141765</td></tr>\n",
       "<tr><td>159.558488055666</td><td>47.0325902417434</td><td>4.47678422927856</td><td>39633199646638150</td><td>0.00425326560184713</td></tr>\n",
       "<tr><td>162.484977253773</td><td>52.8773566980097</td><td>5.06264352798462</td><td>39633293175425428</td><td>0.004068921931298383</td></tr>\n",
       "<tr><td>162.403471847279</td><td>55.4299965201975</td><td>1.38836181163788</td><td>39633328621490247</td><td>0.003855371535594709</td></tr>\n",
       "<tr><td>160.94428282679</td><td>51.3413765906407</td><td>6.0</td><td>39633267095241242</td><td>0.003832571887261839</td></tr>\n",
       "<tr><td>159.412370353188</td><td>43.6711141613036</td><td>2.80088067054749</td><td>39633144294409477</td><td>0.0036638871563430277</td></tr>\n",
       "<tr><td>162.583003622782</td><td>56.3476484514602</td><td>3.19916582107544</td><td>39633338838811034</td><td>0.0034165751745785047</td></tr>\n",
       "<tr><td>158.31582539162</td><td>40.01121043558</td><td>1.24571883678436</td><td>39633076615120351</td><td>0.0033936488241795293</td></tr>\n",
       "<tr><td>158.097701776049</td><td>40.1690299148185</td><td>4.44932079315186</td><td>39633081241440324</td><td>0.0033934496152943977</td></tr>\n",
       "<tr><td>161.97182808695</td><td>56.5865399015681</td><td>3.45061564445496</td><td>39633342194253964</td><td>0.003290562440517704</td></tr>\n",
       "<tr><td>160.075025352481</td><td>45.1986259710216</td><td>0.858019053936005</td><td>39633170240374974</td><td>0.0032819743140906858</td></tr>\n",
       "<tr><td>160.691086986778</td><td>49.7767805388813</td><td>1.51447355747223</td><td>39633243942685989</td><td>0.003246320218559871</td></tr>\n",
       "</table></div>"
      ],
      "text/plain": [
       "<Table length=20>\n",
       "   TARGET_RA        TARGET_DEC    ...      TARGETID             P_GAL        \n",
       "    float64          float64      ...       int64              float64       \n",
       "---------------- ---------------- ... ----------------- ---------------------\n",
       "159.132741406714 45.2793855713682 ... 39633170227794004  0.007702259948010604\n",
       "160.788605223521 52.5566485559508 ... 39633285814419623   0.00749102828690736\n",
       "162.300420730946 57.8372551359261 ... 39633358673674448  0.006551262490035821\n",
       "161.351290633544 51.9378457634401 ... 39633278386310487  0.006434548759403464\n",
       "160.623914804067 49.7263326582477 ... 39633243942685377   0.00461295006088877\n",
       "162.862873413447 57.7100968822253 ... 39633358677869556   0.00450399746134985\n",
       "160.763119607896 51.4848207404392 ... 39633270874311327  0.004475285706984559\n",
       "160.009499232963 45.6275428108155 ... 39633178738032785    0.0043629945937226\n",
       "157.407258495435 38.4061125626019 ... 39633048462950834  0.004292110935141765\n",
       "159.558488055666 47.0325902417434 ... 39633199646638150   0.00425326560184713\n",
       "162.484977253773 52.8773566980097 ... 39633293175425428  0.004068921931298383\n",
       "162.403471847279 55.4299965201975 ... 39633328621490247  0.003855371535594709\n",
       " 160.94428282679 51.3413765906407 ... 39633267095241242  0.003832571887261839\n",
       "159.412370353188 43.6711141613036 ... 39633144294409477 0.0036638871563430277\n",
       "162.583003622782 56.3476484514602 ... 39633338838811034 0.0034165751745785047\n",
       " 158.31582539162   40.01121043558 ... 39633076615120351 0.0033936488241795293\n",
       "158.097701776049 40.1690299148185 ... 39633081241440324 0.0033934496152943977\n",
       " 161.97182808695 56.5865399015681 ... 39633342194253964  0.003290562440517704\n",
       "160.075025352481 45.1986259710216 ... 39633170240374974 0.0032819743140906858\n",
       "160.691086986778 49.7767805388813 ... 39633243942685989  0.003246320218559871"
      ]
     },
     "execution_count": 276,
     "metadata": {},
     "output_type": "execute_result"
    }
   ],
   "source": [
    "data_sort_by_PGal[\"TARGET_RA\", \"TARGET_DEC\", \"SERSIC\", \"TARGETID\", \"P_GAL\"][:20]"
   ]
  },
  {
   "cell_type": "code",
   "execution_count": 277,
   "metadata": {},
   "outputs": [],
   "source": [
    "P_Gal_cumsum = np.cumsum(data_sort_by_PGal[\"P_GAL\"])"
   ]
  },
  {
   "cell_type": "code",
   "execution_count": 278,
   "metadata": {},
   "outputs": [
    {
     "data": {
      "image/png": "[encoded data removed]",
      "text/plain": [
       "<Figure size 432x288 with 1 Axes>"
      ]
     },
     "metadata": {
      "needs_background": "light"
     },
     "output_type": "display_data"
    }
   ],
   "source": [
    "plt.plot(list(range(len(P_Gal_cumsum))),  P_Gal_cumsum)\n",
    "plt.xscale(\"log\")\n",
    "\n",
    "plt.yscale(\"log\")\n",
    "plt.xlim(1,len(P_Gal_cumsum))\n",
    "plt.savefig(dpi = 100, fname = f\"{superevent_name}PGAL_CUMULATIVE099.png\")\n",
    "plt.show()"
   ]
  },
  {
   "cell_type": "code",
   "execution_count": 279,
   "metadata": {},
   "outputs": [
    {
     "data": {
      "text/plain": [
       "'data_sort_by_PGal_C = data_f.group_by(\"P_GAL_C\")\\ndata_sort_by_PGal_C = data_sort_by_PGal_C[::-1]\\n\\nlum_after_N_PGal_C = np.sum(data_sort_by_PGal_C[\"LUM_R\"][:N_galaxies])'"
      ]
     },
     "execution_count": 279,
     "metadata": {},
     "output_type": "execute_result"
    }
   ],
   "source": [
    "\"\"\"data_sort_by_PGal_C = data_f.group_by(\"P_GAL_C\")\n",
    "data_sort_by_PGal_C = data_sort_by_PGal_C[::-1]\n",
    "\n",
    "lum_after_N_PGal_C = np.sum(data_sort_by_PGal_C[\"LUM_R\"][:N_galaxies])\"\"\""
   ]
  },
  {
   "cell_type": "code",
   "execution_count": 280,
   "metadata": {},
   "outputs": [
    {
     "data": {
      "text/plain": [
       "'print(f\"The maximum luminosity we cover when ranked by P_gal_C is {lum_after_N_PGal_C}, i.e. {lum_after_N_PGal_C*100/total_lum}% of the total luminosity\") \\nprint(\"The TARGETID values of these galaxies are: \\n\", data_sort_by_PGal_C[\"TARGETID\", \"P_GAL\"][:N_galaxies])'"
      ]
     },
     "execution_count": 280,
     "metadata": {},
     "output_type": "execute_result"
    }
   ],
   "source": [
    "\"\"\"print(f\"The maximum luminosity we cover when ranked by P_gal_C is {lum_after_N_PGal_C}, i.e. {lum_after_N_PGal_C*100/total_lum}% of the total luminosity\") \n",
    "print(\"The TARGETID values of these galaxies are: \\n\", data_sort_by_PGal_C[\"TARGETID\", \"P_GAL\"][:N_galaxies])\"\"\""
   ]
  },
  {
   "attachments": {},
   "cell_type": "markdown",
   "metadata": {
    "tags": []
   },
   "source": [
    "## Exclude unobservabe objects from the PGal ranking and export list\n",
    "\n",
    "We want to cut out galaxies that are not observable by Wendelstein. For this we need the date (to calculate alt and az; we do this for three times to check observability) and Wendelstein location."
   ]
  },
  {
   "cell_type": "code",
   "execution_count": 281,
   "metadata": {},
   "outputs": [],
   "source": [
    "# convert DEG:MIN:SEC to deg with decimals...\n",
    "def conv_to_deg(deg, arcmin, arcsec):\n",
    "    return (deg+ arcmin/60+ arcsec/3600)*u.deg"
   ]
  },
  {
   "attachments": {},
   "cell_type": "markdown",
   "metadata": {
    "tags": []
   },
   "source": [
    "### Get the observable objects (i.e. alt > 0) in the next night and apply that selection to our data"
   ]
  },
  {
   "cell_type": "code",
   "execution_count": 282,
   "metadata": {},
   "outputs": [
    {
     "name": "stderr",
     "output_type": "stream",
     "text": [
      "/var/folders/x0/lptlz3bs7gl7kwkjgk1pnbr00000gn/T/ipykernel_83894/3580540673.py:18: DeprecationWarning: parsing timezone aware datetimes is deprecated; this will raise an error in the future\n",
      "  t = np.arange(sunset_time, sunrise_time, timedelta(minutes=45)).astype(datetime)              # this may throw a deprecation warning, but seems fine anyway: https://github.com/numpy/numpy/issues/23904\n"
     ]
    }
   ],
   "source": [
    "# set the timzone\n",
    "timezone = \"Europe/Berlin\"\n",
    "tz_Berlin = pytz.timezone(timezone)\n",
    "\n",
    "# get the date (and actually time, but that it useless for us) of today and tomorrow\n",
    "day_Berlin = datetime.now(tz_Berlin)\n",
    "tmrw_Berlin = day_Berlin + timedelta(hours = 23, minutes = 59, seconds = 59)\n",
    "\n",
    "# set the Wendelstein location\n",
    "Wendelstein_loc = EarthLocation(lat = conv_to_deg(47, 42, 13.1), lon = conv_to_deg(12, 0, 43.4), height = 1838*u.m) #check - or + 12\n",
    "\n",
    "# define the sun object, which will tell us sunrise and set\n",
    "sun = SunTimes(Wendelstein_loc.lon.to_value(), Wendelstein_loc.lat.to_value(), Wendelstein_loc.height.to_value())\n",
    "sunset_time = sun.setwhere(day_Berlin, timezone)\n",
    "sunrise_time = sun.risewhere(tmrw_Berlin, timezone)\n",
    "\n",
    "# get a time array that includes the sunset time and from there a 30min interval until sunset\n",
    "t = np.arange(sunset_time, sunrise_time, timedelta(minutes=45)).astype(datetime)              # this may throw a deprecation warning, but seems fine anyway: https://github.com/numpy/numpy/issues/23904\n",
    "\n",
    "# a little cheap but effective: observation at sunset is useless, start 1h after:\n",
    "t = t[2:]"
   ]
  },
  {
   "cell_type": "code",
   "execution_count": 283,
   "metadata": {},
   "outputs": [],
   "source": [
    "# get all the SkyCoords for each objects in the data catalog\n",
    "target_SkyCoord = SkyCoord(data_sort_by_PGal[\"TARGET_RA\"], data_sort_by_PGal[\"TARGET_DEC\"], unit = \"deg\")"
   ]
  },
  {
   "cell_type": "code",
   "execution_count": 284,
   "metadata": {},
   "outputs": [],
   "source": [
    "# get Alt for the different times during the night\n",
    "# t should be an array that consists of a couple of night times, so if *all* of these times don't have a positive alt it will be discarded\n",
    "target_Alt = [target_SkyCoord.transform_to(AltAz(obstime = time, location = Wendelstein_loc)).alt.value for time in t]\n",
    "\n",
    "# now turn it into a numpy array\n",
    "target_Alt = np.array(target_Alt)\n",
    "\n",
    "# swap the axes so that the first axis is all the different targets and the second then includes the alt per observing time\n",
    "target_Alt_swapped = np.swapaxes(target_Alt, 0,1)\n",
    "\n",
    "# now create the selection for each target in the P_Gal catalog\n",
    "sel = []\n",
    "for target in target_Alt_swapped:\n",
    "    sel.append((target > 0).any())\n",
    "    \n",
    "# now apply the selection to the dataset\n",
    "data_sort_by_PGal_observable = data_sort_by_PGal[sel]"
   ]
  },
  {
   "cell_type": "code",
   "execution_count": 285,
   "metadata": {},
   "outputs": [
    {
     "name": "stdout",
     "output_type": "stream",
     "text": [
      "There were 0 non-observable objects in the current dataset. \n",
      "We have 10000 objects remaining\n"
     ]
    }
   ],
   "source": [
    "print(f\"There were {len(data_sort_by_PGal) - len(data_sort_by_PGal_observable)} non-observable objects in the current dataset. \\nWe have {len(data_sort_by_PGal_observable)} objects remaining\")"
   ]
  },
  {
   "attachments": {},
   "cell_type": "markdown",
   "metadata": {
    "tags": []
   },
   "source": [
    "### Export the final list & print some data"
   ]
  },
  {
   "cell_type": "code",
   "execution_count": 286,
   "metadata": {},
   "outputs": [
    {
     "name": "stdout",
     "output_type": "stream",
     "text": [
      "These are the stats for S230627c follow up :\n"
     ]
    }
   ],
   "source": [
    "print(f\"These are the stats for {superevent_name} follow up :\")"
   ]
  },
  {
   "cell_type": "code",
   "execution_count": 287,
   "metadata": {},
   "outputs": [
    {
     "name": "stdout",
     "output_type": "stream",
     "text": [
      "Localization area: 262.2792641284897 deg2 \n",
      "Redshift range in data: 0.00525083921002088 to 0.106446077875062 \n",
      "corresponding lum distance range: 22.420592242657477 to 488.05901319367365 \n",
      "highest prob location is at RA = 160.56933483652762 deg and dec = 48.58109886316553 deg \n",
      "total No. of objects in desi data is 10000\n"
     ]
    }
   ],
   "source": [
    "data_min_z = np.min(data_sort_by_PGal_observable[\"Z\"])\n",
    "data_max_z = np.max(data_sort_by_PGal_observable[\"Z\"])\n",
    "print(f\"Localization area: {area_99.to_value(u.deg**2)*u.deg**2} \\nRedshift range in data: {data_min_z} to {data_max_z} \\ncorresponding lum distance range: {data_min_dist} to {data_max_dist} \\nhighest prob location is at RA = {ra.deg*u.deg} and dec = {dec.deg*u.deg} \\ntotal No. of objects in desi data is {len(data_sort_by_PGal)}\")\n"
   ]
  },
  {
   "cell_type": "code",
   "execution_count": 288,
   "metadata": {},
   "outputs": [],
   "source": [
    "#data_sort_by_PGal_observable[\"TARGET_RA\", \"TARGET_DEC\", \"SERSIC\", \"Z\", \"P_GAL\"][:N_galaxies].write(f'PGAL/PGAL_{superevent_name}90.ecsv', delimiter=',', format='ascii', overwrite = False)\n"
   ]
  },
  {
   "cell_type": "code",
   "execution_count": 289,
   "metadata": {},
   "outputs": [],
   "source": [
    "# add timing data to table, "
   ]
  },
  {
   "cell_type": "code",
   "execution_count": 290,
   "metadata": {},
   "outputs": [],
   "source": [
    "check_object = data_f[data_f[\"TARGETID\"] == 39633545861267796]"
   ]
  },
  {
   "cell_type": "code",
   "execution_count": 291,
   "metadata": {},
   "outputs": [
    {
     "data": {
      "text/html": [
       "<div><i>Table length=0</i>\n",
       "<table id=\"table4980990064\" class=\"table-striped table-bordered table-condensed\">\n",
       "<thead><tr><th>TARGETID</th><th>TARGET_RA</th><th>TARGET_DEC</th><th>LASTNIGHT</th><th>Z</th><th>ZERR</th><th>ZWARN</th><th>FLUX_G</th><th>FLUX_R</th><th>FLUX_Z</th><th>SPECTYPE</th><th>BGS_TARGET</th><th>EBV</th><th>SERSIC</th><th>UNIQ</th><th>PROBDENSITY</th><th>DISTMU</th><th>DISTSIGMA</th><th>DISTNORM</th><th>DIST_Z_MEAN</th><th>DIST_Z_ERR</th><th>DIST_Z_COSMO_SIGMA</th><th>MW_TRANSMISSION</th><th>APP_MAG_R</th><th>ABS_MAG_R</th><th>LUM_R</th><th>P_GAL</th><th>P_GAL_NO_LUM</th></tr></thead>\n",
       "<thead><tr><th></th><th></th><th></th><th></th><th></th><th></th><th></th><th></th><th></th><th></th><th></th><th></th><th></th><th></th><th></th><th></th><th>Mpc</th><th>Mpc</th><th>1 / Mpc2</th><th>Mpc</th><th>Mpc</th><th>Mpc</th><th></th><th></th><th></th><th>W</th><th></th><th></th></tr></thead>\n",
       "<thead><tr><th>int64</th><th>float64</th><th>float64</th><th>int64</th><th>float64</th><th>float64</th><th>int64</th><th>float64</th><th>float64</th><th>float64</th><th>bytes6</th><th>int64</th><th>float64</th><th>float64</th><th>int64</th><th>float64</th><th>float64</th><th>float64</th><th>float64</th><th>float64</th><th>float64</th><th>float64</th><th>float64</th><th>float64</th><th>float64</th><th>float64</th><th>float64</th><th>float64</th></tr></thead>\n",
       "</table></div>"
      ],
      "text/plain": [
       "<Table length=0>\n",
       "TARGETID TARGET_RA TARGET_DEC LASTNIGHT ...  LUM_R   P_GAL  P_GAL_NO_LUM\n",
       "                                        ...    W                        \n",
       " int64    float64   float64     int64   ... float64 float64   float64   \n",
       "-------- --------- ---------- --------- ... ------- ------- ------------"
      ]
     },
     "execution_count": 291,
     "metadata": {},
     "output_type": "execute_result"
    }
   ],
   "source": [
    "check_object"
   ]
  },
  {
   "cell_type": "code",
   "execution_count": 292,
   "metadata": {},
   "outputs": [
    {
     "name": "stdout",
     "output_type": "stream",
     "text": [
      "1 https://airmass.org/chart/obsid:wendelstein/date:2023-06-27/object:Object/ra:159.132741406714/dec:45.2793855713682\n",
      "2 https://airmass.org/chart/obsid:wendelstein/date:2023-06-27/object:Object/ra:160.788605223521/dec:52.5566485559508\n",
      "3 https://airmass.org/chart/obsid:wendelstein/date:2023-06-27/object:Object/ra:162.300420730946/dec:57.8372551359261\n",
      "4 https://airmass.org/chart/obsid:wendelstein/date:2023-06-27/object:Object/ra:161.351290633544/dec:51.9378457634401\n",
      "5 https://airmass.org/chart/obsid:wendelstein/date:2023-06-27/object:Object/ra:160.623914804067/dec:49.7263326582477\n",
      "6 https://airmass.org/chart/obsid:wendelstein/date:2023-06-27/object:Object/ra:162.862873413447/dec:57.7100968822253\n",
      "7 https://airmass.org/chart/obsid:wendelstein/date:2023-06-27/object:Object/ra:160.763119607896/dec:51.4848207404392\n",
      "8 https://airmass.org/chart/obsid:wendelstein/date:2023-06-27/object:Object/ra:160.009499232963/dec:45.6275428108155\n",
      "9 https://airmass.org/chart/obsid:wendelstein/date:2023-06-27/object:Object/ra:157.407258495435/dec:38.4061125626019\n",
      "10 https://airmass.org/chart/obsid:wendelstein/date:2023-06-27/object:Object/ra:159.558488055666/dec:47.0325902417434\n",
      "11 https://airmass.org/chart/obsid:wendelstein/date:2023-06-27/object:Object/ra:162.484977253773/dec:52.8773566980097\n",
      "12 https://airmass.org/chart/obsid:wendelstein/date:2023-06-27/object:Object/ra:162.403471847279/dec:55.4299965201975\n",
      "13 https://airmass.org/chart/obsid:wendelstein/date:2023-06-27/object:Object/ra:160.94428282679/dec:51.3413765906407\n",
      "14 https://airmass.org/chart/obsid:wendelstein/date:2023-06-27/object:Object/ra:159.412370353188/dec:43.6711141613036\n",
      "15 https://airmass.org/chart/obsid:wendelstein/date:2023-06-27/object:Object/ra:162.583003622782/dec:56.3476484514602\n",
      "16 https://airmass.org/chart/obsid:wendelstein/date:2023-06-27/object:Object/ra:158.31582539162/dec:40.01121043558\n",
      "17 https://airmass.org/chart/obsid:wendelstein/date:2023-06-27/object:Object/ra:158.097701776049/dec:40.1690299148185\n",
      "18 https://airmass.org/chart/obsid:wendelstein/date:2023-06-27/object:Object/ra:161.97182808695/dec:56.5865399015681\n",
      "19 https://airmass.org/chart/obsid:wendelstein/date:2023-06-27/object:Object/ra:160.075025352481/dec:45.1986259710216\n",
      "20 https://airmass.org/chart/obsid:wendelstein/date:2023-06-27/object:Object/ra:160.691086986778/dec:49.7767805388813\n"
     ]
    }
   ],
   "source": [
    "for q in range(20):\n",
    "    ra, dec = data_sort_by_PGal_observable[\"TARGET_RA\"][q], data_sort_by_PGal_observable[\"TARGET_DEC\"][q]\n",
    "    url = f\"https://airmass.org/chart/obsid:wendelstein/date:2023-06-27/object:Object/ra:{ra}/dec:{dec}\"\n",
    "    print(q+1, url)\n",
    "    "
   ]
  },
  {
   "attachments": {},
   "cell_type": "markdown",
   "metadata": {},
   "source": []
  },
  {
   "cell_type": "code",
   "execution_count": 293,
   "metadata": {},
   "outputs": [],
   "source": [
    "# read in other catalog\n",
    "\n",
    "crossmatch_data = Table.read(f\"{storage_desi_data}230627c_cr90_milliquas.fits\")"
   ]
  },
  {
   "cell_type": "code",
   "execution_count": 294,
   "metadata": {},
   "outputs": [
    {
     "data": {
      "text/html": [
       "<div><i>Table length=5</i>\n",
       "<table id=\"table5000960560\" class=\"table-striped table-bordered table-condensed\">\n",
       "<thead><tr><th>RA</th><th>DEC</th><th>NAME</th><th>TYPE</th><th>RMAG</th><th>BMAG</th><th>COMMENT</th><th>R</th><th>B</th><th>Z</th><th>CITE</th><th>ZCITE</th><th>RXPCT</th><th>QPCT</th><th>XNAME</th><th>RNAME</th><th>LOBE1</th><th>LOBE2</th></tr></thead>\n",
       "<thead><tr><th>float64</th><th>float64</th><th>bytes25</th><th>bytes4</th><th>float32</th><th>float32</th><th>bytes3</th><th>bytes1</th><th>bytes1</th><th>float32</th><th>bytes6</th><th>bytes6</th><th>int16</th><th>int16</th><th>bytes22</th><th>bytes22</th><th>bytes22</th><th>bytes22</th></tr></thead>\n",
       "<tr><td>155.0534932</td><td>32.7936631</td><td>SDSS J102012.84+324737.2</td><td>QR</td><td>18.82</td><td>18.7</td><td>g+G</td><td>-</td><td>-</td><td>0.62</td><td>DR16Q</td><td>DR16Q</td><td>100</td><td>98</td><td></td><td>ILTJ102012.82+324737.6</td><td></td><td></td></tr>\n",
       "<tr><td>155.0778901</td><td>32.1253539</td><td>SDSS J102018.69+320731.2</td><td>Q</td><td>21.24</td><td>21.32</td><td>g</td><td>-</td><td>-</td><td>1.607</td><td>DR16Q</td><td>DR16</td><td>--</td><td>--</td><td></td><td></td><td></td><td></td></tr>\n",
       "<tr><td>155.0968903</td><td>32.0538785</td><td>J102023.25+320313.9</td><td>R</td><td>22.47</td><td>22.65</td><td>gN</td><td>1</td><td>1</td><td>--</td><td>MQ</td><td></td><td>98</td><td>67</td><td></td><td>ILTJ102023.27+320313.7</td><td></td><td></td></tr>\n",
       "<tr><td>155.1009717</td><td>33.5453484</td><td>J102024.23+333243.2</td><td>R</td><td>19.81</td><td>19.87</td><td>j+N</td><td>-</td><td>1</td><td>--</td><td>MQ</td><td></td><td>96</td><td>80</td><td></td><td>ILTJ102024.29+333243.2</td><td></td><td></td></tr>\n",
       "<tr><td>155.1099874</td><td>32.7419714</td><td>SDSS J102026.39+324431.0</td><td>Q</td><td>21.41</td><td>21.49</td><td>gG</td><td>-</td><td>-</td><td>1.738</td><td>DR16Q</td><td>DR16</td><td>--</td><td>--</td><td></td><td></td><td></td><td></td></tr>\n",
       "</table></div>"
      ],
      "text/plain": [
       "<Table length=5>\n",
       "     RA        DEC               NAME           ...  LOBE1   LOBE2 \n",
       "  float64    float64           bytes25          ... bytes22 bytes22\n",
       "----------- ---------- ------------------------ ... ------- -------\n",
       "155.0534932 32.7936631 SDSS J102012.84+324737.2 ...                \n",
       "155.0778901 32.1253539 SDSS J102018.69+320731.2 ...                \n",
       "155.0968903 32.0538785      J102023.25+320313.9 ...                \n",
       "155.1009717 33.5453484      J102024.23+333243.2 ...                \n",
       "155.1099874 32.7419714 SDSS J102026.39+324431.0 ...                "
      ]
     },
     "execution_count": 294,
     "metadata": {},
     "output_type": "execute_result"
    }
   ],
   "source": [
    "crossmatch_data[:5]"
   ]
  },
  {
   "cell_type": "code",
   "execution_count": 299,
   "metadata": {},
   "outputs": [],
   "source": [
    "def cross_match(crossmatch_data, desi_data, radius_arcsec = 2):\n",
    "    \"\"\"\n",
    "    Generate crossmatched list\n",
    "    \"\"\"\n",
    "    crossmatch_list = []\n",
    "    no_match_counter = 0\n",
    "    single_match_counter = 0\n",
    "    multiple_match_counter = 0\n",
    "    radius = radius_arcsec/3600\n",
    "    for crossmatch_target in crossmatch_data:\n",
    "        crossmatch_target_ra = crossmatch_target[\"RA\"]\n",
    "        crossmatch_target_dec = crossmatch_target[\"DEC\"]\n",
    "        ra_deltas = crossmatch_target_ra - desi_data[\"TARGET_RA\"]\n",
    "        dec_deltas = crossmatch_target_dec - desi_data[\"TARGET_DEC\"]\n",
    "        tot_delta = np.sqrt(ra_deltas**2+dec_deltas**2)\n",
    "        overlap = tot_delta < radius\n",
    "        desi_overlap = desi_data[overlap]\n",
    "        if len(desi_overlap) > 1:\n",
    "            target_Table = QTable([crossmatch_target, desi_overlap[0]])\n",
    "            for q in range(len(desi_overlap)-1):\n",
    "                target_Table_2 = QTable([crossmatch_target, desi_overlap[q+1]])\n",
    "                target_Table = vstack(target_Table, target_Table_2)\n",
    "            crossmatch_list.append(target_Table)\n",
    "            multiple_match_counter += 1\n",
    "        elif len(desi_overlap) == 1:\n",
    "            #print(type(crossmatch_target), type(desi_overlap))\n",
    "            #print(crossmatch_target)\n",
    "            crossmatch_target = Table(crossmatch_target)\n",
    "            crossmatch_target.rename_column(\"Z\", \"Z_MILLIQUAS\")\n",
    "            target_Table = hstack([crossmatch_target, desi_overlap])\n",
    "            #print(target_Table)\n",
    "            crossmatch_list.append(target_Table)\n",
    "            single_match_counter += 1\n",
    "        else:\n",
    "            # print(“no matching target\")\n",
    "            no_match_counter += 1\n",
    "    print(f\"original crossmatch catalog length was {len(crossmatch_data)}\")\n",
    "    print(f\"unable to match {no_match_counter} sources\")\n",
    "    print(f\"matched {single_match_counter} single sources\")\n",
    "    print(f\"matched {multiple_match_counter} multiple sources\")\n",
    "    if multiple_match_counter == 0:\n",
    "        all_single = True\n",
    "    else:\n",
    "        all_single = False\n",
    "    return crossmatch_list, all_single\n"
   ]
  },
  {
   "cell_type": "code",
   "execution_count": 300,
   "metadata": {},
   "outputs": [
    {
     "name": "stdout",
     "output_type": "stream",
     "text": [
      "original crossmatch catalog length was 14826\n",
      "unable to match 14761 sources\n",
      "matched 65 single sources\n",
      "matched 0 multiple sources\n"
     ]
    }
   ],
   "source": [
    "crossmatched_list, all_single = cross_match(crossmatch_data, data_f)"
   ]
  },
  {
   "cell_type": "code",
   "execution_count": 301,
   "metadata": {},
   "outputs": [],
   "source": [
    " \n",
    "if all_single:\n",
    "    crossmatched_table = crossmatched_list[0]\n",
    "    for target in crossmatched_list[1:]:\n",
    "        crossmatched_table = vstack([crossmatched_table, target])\n",
    "\n",
    "else:\n",
    "    print(\"creating list, but this contains the same DESI galaxies multiple times\")\n",
    "    crossmatched_table = crossmatched_list[0]\n",
    "    for target in crossmatched_list[1:]:\n",
    "        crossmatched_table = vstack([crossmatched_table, target])"
   ]
  },
  {
   "cell_type": "code",
   "execution_count": 302,
   "metadata": {},
   "outputs": [
    {
     "data": {
      "text/html": [
       "<div><i>Table length=65</i>\n",
       "<table id=\"table4997055536\" class=\"table-striped table-bordered table-condensed\">\n",
       "<thead><tr><th>RA</th><th>DEC</th><th>NAME</th><th>TYPE</th><th>RMAG</th><th>BMAG</th><th>COMMENT</th><th>R</th><th>B</th><th>Z_MILLIQUAS</th><th>CITE</th><th>ZCITE</th><th>RXPCT</th><th>QPCT</th><th>XNAME</th><th>RNAME</th><th>LOBE1</th><th>LOBE2</th><th>TARGETID</th><th>TARGET_RA</th><th>TARGET_DEC</th><th>LASTNIGHT</th><th>Z</th><th>ZERR</th><th>ZWARN</th><th>FLUX_G</th><th>FLUX_R</th><th>FLUX_Z</th><th>SPECTYPE</th><th>BGS_TARGET</th><th>EBV</th><th>SERSIC</th><th>UNIQ</th><th>PROBDENSITY</th><th>DISTMU</th><th>DISTSIGMA</th><th>DISTNORM</th><th>DIST_Z_MEAN</th><th>DIST_Z_ERR</th><th>DIST_Z_COSMO_SIGMA</th><th>MW_TRANSMISSION</th><th>APP_MAG_R</th><th>ABS_MAG_R</th><th>LUM_R</th><th>P_GAL</th><th>P_GAL_NO_LUM</th></tr></thead>\n",
       "<thead><tr><th></th><th></th><th></th><th></th><th></th><th></th><th></th><th></th><th></th><th></th><th></th><th></th><th></th><th></th><th></th><th></th><th></th><th></th><th></th><th></th><th></th><th></th><th></th><th></th><th></th><th></th><th></th><th></th><th></th><th></th><th></th><th></th><th></th><th></th><th>Mpc</th><th>Mpc</th><th>1 / Mpc2</th><th>Mpc</th><th>Mpc</th><th>Mpc</th><th></th><th></th><th></th><th>W</th><th></th><th></th></tr></thead>\n",
       "<thead><tr><th>float64</th><th>float64</th><th>bytes25</th><th>bytes4</th><th>float32</th><th>float32</th><th>bytes3</th><th>bytes1</th><th>bytes1</th><th>float32</th><th>bytes6</th><th>bytes6</th><th>int16</th><th>int16</th><th>bytes22</th><th>bytes22</th><th>bytes22</th><th>bytes22</th><th>int64</th><th>float64</th><th>float64</th><th>int64</th><th>float64</th><th>float64</th><th>int64</th><th>float64</th><th>float64</th><th>float64</th><th>bytes6</th><th>int64</th><th>float64</th><th>float64</th><th>int64</th><th>float64</th><th>float64</th><th>float64</th><th>float64</th><th>float64</th><th>float64</th><th>float64</th><th>float64</th><th>float64</th><th>float64</th><th>float64</th><th>float64</th><th>float64</th></tr></thead>\n",
       "<tr><td>155.6496238</td><td>30.2984746</td><td>SDSS J102235.91+301754.4</td><td>ARX</td><td>17.0</td><td>18.11</td><td>paG</td><td>1</td><td>-</td><td>0.089</td><td>DR16</td><td>LOZAGN</td><td>100</td><td>22</td><td>XMMSL J102236.4+301757</td><td>ILTJ102235.93+301754.9</td><td></td><td></td><td>39628485605461676</td><td>155.649626811862</td><td>30.2984749622211</td><td>20230421</td><td>0.0892061225660586</td><td>5.52901946433831e-06</td><td>0</td><td>58.8456230163574</td><td>101.20873260498</td><td>140.196029663086</td><td>QSO</td><td>131074</td><td>0.0292662531137466</td><td>6.0</td><td>346477</td><td>0.0031217738901161206</td><td>203.68874962368506</td><td>68.14959903221975</td><td>2.1676697133507887e-05</td><td>404.3746211978713</td><td>0.0235144497129962</td><td>37.20383739746441</td><td>0.9430324849717393</td><td>17.423271667218607</td><td>-20.700281101118513</td><td>1.0278889637024004e+36</td><td>2.630990579503281e-07</td><td>2.019180590594635e-07</td></tr>\n",
       "<tr><td>156.1938</td><td>34.64893</td><td>CGCG 183-21</td><td>NR</td><td>11.01</td><td>12.81</td><td>p+</td><td>1</td><td>1</td><td>0.037</td><td>PGC</td><td>2MAGN</td><td>100</td><td>0</td><td></td><td>ILTJ102446.49+343856.3</td><td></td><td></td><td>39632975549172268</td><td>156.193721007862</td><td>34.6489381157905</td><td>20220221</td><td>0.0372904387388756</td><td>1.09228864423801e-05</td><td>0</td><td>1520.45007324219</td><td>3479.55932617188</td><td>5937.205078125</td><td>GALAXY</td><td>514</td><td>0.0136635201051831</td><td>4.07217073440552</td><td>1390854</td><td>0.004171495207369688</td><td>218.29778841426042</td><td>68.74428345628493</td><td>1.909154408200394e-05</td><td>163.04419572258104</td><td>0.04645429861824385</td><td>14.540772307115141</td><td>0.9729875250714335</td><td>13.616457566311608</td><td>-22.534358927060566</td><td>5.566437452997771e+36</td><td>0.0009033688129462948</td><td>0.00012802354030156613</td></tr>\n",
       "<tr><td>156.4930165</td><td>38.6915401</td><td>SDSS J102558.33+384129.5</td><td>NR</td><td>14.49</td><td>16.48</td><td>p+G</td><td>-</td><td>-</td><td>0.094</td><td>DR16</td><td>DR16</td><td>100</td><td>3</td><td></td><td>ILTJ102558.30+384129.5</td><td></td><td></td><td>39633053181544264</td><td>156.49303317736</td><td>38.6915326916193</td><td>20221207</td><td>0.0939435834767224</td><td>2.31778544872922e-05</td><td>0</td><td>201.989547729492</td><td>437.879364013672</td><td>752.824645996094</td><td>GALAXY</td><td>514</td><td>0.0128985457122326</td><td>6.0</td><td>348057</td><td>0.0020089898276232604</td><td>252.84155165489892</td><td>60.69935348897727</td><td>1.4789999053491076e-05</td><td>427.1984799847833</td><td>0.09857477224160849</td><td>39.41284412393844</td><td>0.974480394072669</td><td>15.868546567947256</td><td>-22.37426463854586</td><td>4.803298958748872e+36</td><td>2.0397107285577696e-06</td><td>3.349893769743544e-07</td></tr>\n",
       "<tr><td>157.1829443</td><td>37.0918127</td><td>KUG 1025+373</td><td>NR</td><td>12.6</td><td>14.11</td><td>p+G</td><td>1</td><td>1</td><td>0.046</td><td>PGC</td><td>DR16</td><td>98</td><td>0</td><td></td><td>ILTJ102843.91+370529.3</td><td></td><td></td><td>39633019715194360</td><td>157.182941297827</td><td>37.0918171518867</td><td>20211226</td><td>0.0455565752751903</td><td>1.11898983333438e-05</td><td>0</td><td>715.659301757812</td><td>1607.1787109375</td><td>2760.71850585938</td><td>GALAXY</td><td>514</td><td>0.0144199598580599</td><td>3.22035694122314</td><td>1391763</td><td>0.009432827821890312</td><td>232.39852541326948</td><td>67.25968036770942</td><td>1.7084441956053746e-05</td><td>200.37136457458968</td><td>0.047589891862772155</td><td>17.960153279078117</td><td>0.9715135605631295</td><td>14.453461739817076</td><td>-22.14506362270041</td><td>3.889190459836697e+36</td><td>0.0021635066721745547</td><td>0.0004388348403155651</td></tr>\n",
       "<tr><td>157.1869703</td><td>37.2316411</td><td>KUG 1025+374</td><td>NR</td><td>14.72</td><td>15.81</td><td>p+m</td><td>1</td><td>1</td><td>0.055</td><td>PGC</td><td>DR16</td><td>99</td><td>0</td><td></td><td>ILTJ102844.85+371354.7</td><td></td><td></td><td>39633024547029500</td><td>157.186940986664</td><td>37.2316463132475</td><td>20211226</td><td>0.0551168644651229</td><td>9.71120327788971e-06</td><td>0</td><td>277.816772460938</td><td>552.018920898438</td><td>888.657836914062</td><td>GALAXY</td><td>514</td><td>0.0145689332857728</td><td>1.53848564624786</td><td>1391772</td><td>0.009291086040386774</td><td>233.5120314562796</td><td>67.02180914816401</td><td>1.6943507312129673e-05</td><td>244.0679009707215</td><td>0.04130105373262066</td><td>22.004027359047722</td><td>0.9712235409179459</td><td>15.61341309171602</td><td>-21.4135523727968</td><td>1.982689523530436e+36</td><td>0.001295500623425745</td><td>0.0005154481526988778</td></tr>\n",
       "<tr><td>157.2980338</td><td>39.1148741</td><td>KUG 1026+393</td><td>AR</td><td>10.73</td><td>12.77</td><td>p+G</td><td>-</td><td>-</td><td>0.026</td><td>PGC</td><td>DR16</td><td>98</td><td>3</td><td></td><td>ILTJ102911.62+390653.4</td><td></td><td></td><td>39633057908523897</td><td>157.298056882153</td><td>39.1148646534479</td><td>20221207</td><td>0.0259150839946971</td><td>2.20472051067421e-05</td><td>0</td><td>635.162658691406</td><td>1224.75109863281</td><td>1899.97351074219</td><td>GALAXY</td><td>514</td><td>0.0137769747525454</td><td>2.60762286186218</td><td>1392395</td><td>0.00804465842784519</td><td>245.36980390458774</td><td>64.34172382814599</td><td>1.554094093107249e-05</td><td>112.3732581677927</td><td>0.09376607088840172</td><td>9.951865190809857</td><td>0.9727663099762196</td><td>14.749901708684181</td><td>-20.592622480992635</td><td>9.308565415408152e+35</td><td>8.991413133984438e-06</td><td>7.619864890427157e-06</td></tr>\n",
       "<tr><td>157.4004894</td><td>40.401998</td><td>PGC 2165272</td><td>NR</td><td>13.61</td><td>15.62</td><td>p+G</td><td>1</td><td>1</td><td>0.096</td><td>PGC</td><td>DR16</td><td>100</td><td>0</td><td></td><td>ILTJ102936.10+402407.5</td><td></td><td></td><td>39633085850976545</td><td>157.400482934167</td><td>40.4019874073216</td><td>20230308</td><td>0.0957665853298839</td><td>8.09288260250659e-06</td><td>0</td><td>206.5390625</td><td>471.437072753906</td><td>819.861694335938</td><td>GALAXY</td><td>514</td><td>0.0121356016024947</td><td>4.60519599914551</td><td>1392578</td><td>0.005376285665690565</td><td>250.86489272660307</td><td>63.036560592516096</td><td>1.4946166400078699e-05</td><td>436.0161523826238</td><td>0.03441840900943691</td><td>40.26917266664871</td><td>0.9759715823361669</td><td>15.7900336022253</td><td>-22.49715322758084</td><td>5.378919610956091e+36</td><td>4.282547136642559e-06</td><td>6.280716217884636e-07</td></tr>\n",
       "<tr><td>157.4359703</td><td>40.4938451</td><td>MCG 7-22-010</td><td>NR</td><td>10.74</td><td>11.86</td><td>p+</td><td>1</td><td>1</td><td>0.044</td><td>PGC</td><td>DR16</td><td>97</td><td>0</td><td></td><td>ILDJ102944.64+402936.6</td><td></td><td></td><td>39633085850976936</td><td>157.435939924605</td><td>40.4937425067916</td><td>20221207</td><td>0.0438632321766583</td><td>1.08318940588057e-05</td><td>0</td><td>758.520874023438</td><td>1534.45141601562</td><td>2513.81787109375</td><td>GALAXY</td><td>514</td><td>0.0138228731229901</td><td>1.52898693084717</td><td>1392578</td><td>0.005376285665690565</td><td>250.86489272660307</td><td>63.036560592516096</td><td>1.4946166400078699e-05</td><td>192.69032239960563</td><td>0.04606731095631584</td><td>17.25386477117426</td><td>0.9726768311281969</td><td>14.50503857233022</td><td>-22.008596368826275</td><td>3.429827753165113e+36</td><td>0.0006481208631278085</td><td>0.00014906845986531697</td></tr>\n",
       "<tr><td>157.4450468</td><td>40.3204546</td><td>RXS J10297+4019</td><td>AR</td><td>15.07</td><td>16.71</td><td>paG</td><td>1</td><td>1</td><td>0.067</td><td>1954</td><td>LOZAGN</td><td>100</td><td>0</td><td></td><td>ILTJ102946.83+401913.9</td><td></td><td></td><td>39633081233050855</td><td>157.444968166621</td><td>40.3204378162064</td><td>20221207</td><td>0.0677493526344013</td><td>1.41315388717964e-05</td><td>0</td><td>71.0757904052734</td><td>163.912536621094</td><td>359.965545654297</td><td>QSO</td><td>514</td><td>0.0112055214121938</td><td>0.5</td><td>1392576</td><td>0.006961137039594106</td><td>249.7695662451832</td><td>63.628078616983764</td><td>1.5052680393679055e-05</td><td>302.6606376653841</td><td>0.06010062794146062</td><td>27.49431798774919</td><td>0.9777925279363573</td><td>16.93908635729005</td><td>-20.555189419734816</td><td>8.993102235070497e+35</td><td>0.00025596422862414963</td><td>0.00022452867768466646</td></tr>\n",
       "<tr><td>...</td><td>...</td><td>...</td><td>...</td><td>...</td><td>...</td><td>...</td><td>...</td><td>...</td><td>...</td><td>...</td><td>...</td><td>...</td><td>...</td><td>...</td><td>...</td><td>...</td><td>...</td><td>...</td><td>...</td><td>...</td><td>...</td><td>...</td><td>...</td><td>...</td><td>...</td><td>...</td><td>...</td><td>...</td><td>...</td><td>...</td><td>...</td><td>...</td><td>...</td><td>...</td><td>...</td><td>...</td><td>...</td><td>...</td><td>...</td><td>...</td><td>...</td><td>...</td><td>...</td><td>...</td><td>...</td></tr>\n",
       "<tr><td>163.4730143</td><td>56.248474</td><td>SDSS J105353.52+561454.6</td><td>N</td><td>14.43</td><td>16.75</td><td>p+G</td><td>1</td><td>1</td><td>0.077</td><td>DR16</td><td>DR16</td><td>--</td><td>--</td><td></td><td></td><td></td><td></td><td>39633338847199671</td><td>163.473018657455</td><td>56.2484614610192</td><td>20230208</td><td>0.0773375851444378</td><td>1.49134289561109e-05</td><td>0</td><td>159.513168334961</td><td>389.3154296875</td><td>717.574096679688</td><td>GALAXY</td><td>514</td><td>0.0102964714169502</td><td>3.47198939323425</td><td>1435513</td><td>0.007442612837689219</td><td>263.10426973285746</td><td>66.44169497046022</td><td>1.35798825884271e-05</td><td>347.7747283529511</td><td>0.06342599967305712</td><td>31.773344610996055</td><td>0.9795755829080907</td><td>16.001840837207588</td><td>-21.79420748538154</td><td>2.8152486366771915e+36</td><td>0.0003849014489410533</td><td>0.0001078536537215316</td></tr>\n",
       "<tr><td>163.9069023</td><td>61.7823935</td><td>J105537.65+614656.6</td><td>R</td><td>18.73</td><td>19.78</td><td>pN</td><td>-</td><td>-</td><td>1.5</td><td>MQ</td><td>MQ</td><td>81</td><td>74</td><td></td><td>VLAJ105537.47+614657.0</td><td>ILTJ105537.46+614657.2</td><td>FIRST J105537.4+614657</td><td>39633407621203142</td><td>163.90690582529</td><td>61.7824047347737</td><td>20220120</td><td>0.0546408369230726</td><td>2.49877381674582e-06</td><td>0</td><td>18.3957672119141</td><td>27.4750595092773</td><td>36.2905426025391</td><td>GALAXY</td><td>514</td><td>0.0124139571562409</td><td>2.03874230384827</td><td>1527905</td><td>0.01217383680811315</td><td>254.19100707188247</td><td>66.93845483083247</td><td>1.4473080698596746e-05</td><td>241.87891189892144</td><td>0.01062704802596167</td><td>21.800409505806797</td><td>0.9754272670893898</td><td>18.875640624849275</td><td>-18.13175833231827</td><td>9.650217363793092e+34</td><td>8.211085951014699e-05</td><td>0.0006712210619849124</td></tr>\n",
       "<tr><td>164.1321801</td><td>57.3477723</td><td>MCG 10-16-031</td><td>N</td><td>12.88</td><td>14.62</td><td>p+G</td><td>1</td><td>1</td><td>0.068</td><td>PGC</td><td>DR16</td><td>--</td><td>--</td><td></td><td></td><td></td><td></td><td>39633352164116493</td><td>164.132151395921</td><td>57.3477488967965</td><td>20220121</td><td>0.0674698558973548</td><td>1.68179075767833e-05</td><td>0</td><td>434.561004638672</td><td>981.363037109375</td><td>1775.30993652344</td><td>GALAXY</td><td>514</td><td>0.00802233256399632</td><td>4.0</td><td>1438371</td><td>0.004296270638351639</td><td>264.7203105593274</td><td>65.97348762308978</td><td>1.3435563424852147e-05</td><td>301.3538264065433</td><td>0.07152574728788785</td><td>27.371032700443724</td><td>0.9840504442366012</td><td>15.002969163548613</td><td>-22.481908619047715</td><td>5.3039229969477924e+36</td><td>0.0012441578952312345</td><td>0.00018504628157582252</td></tr>\n",
       "<tr><td>164.3169</td><td>66.75301</td><td>MCG 11-14-001</td><td>N</td><td>11.83</td><td>12.77</td><td>p+</td><td>1</td><td>1</td><td>0.038</td><td>PGC</td><td>2MAGN</td><td>--</td><td>--</td><td></td><td></td><td></td><td></td><td>39633460440072501</td><td>164.316797695764</td><td>66.7529978948711</td><td>20220120</td><td>0.0378655944586787</td><td>1.11716861833891e-05</td><td>0</td><td>842.606384277344</td><td>1975.04406738281</td><td>3548.783203125</td><td>GALAXY</td><td>514</td><td>0.0164937973022461</td><td>3.40000009536743</td><td>1530287</td><td>0.006681278657730086</td><td>230.02916937166444</td><td>71.89858580532369</td><td>1.721693825060615e-05</td><td>165.62768448839023</td><td>0.04751243613955618</td><td>14.776380668564306</td><td>0.9674840163236444</td><td>14.22516752183794</td><td>-21.959790928321503</td><td>3.279065818102619e+36</td><td>0.0007012406612155031</td><td>0.00016870153319264867</td></tr>\n",
       "<tr><td>164.9315403</td><td>65.0684411</td><td>PGC 2674265</td><td>NRX</td><td>14.29</td><td>16.67</td><td>p+</td><td>1</td><td>1</td><td>0.084</td><td>PGC</td><td>DR16</td><td>100</td><td>15</td><td>2SXPS J105943.7+650407</td><td>ILTJ105943.55+650406.5</td><td></td><td></td><td>39633443037906543</td><td>164.931560227237</td><td>65.0684697943693</td><td>20220120</td><td>0.0834666488308561</td><td>2.59896802140048e-06</td><td>0</td><td>186.895065307617</td><td>394.435394287109</td><td>725.39306640625</td><td>GALAXY</td><td>514</td><td>0.0254930891096592</td><td>3.31875014305115</td><td>1528748</td><td>0.007523042858728008</td><td>252.97685192293224</td><td>65.73047354307509</td><td>1.4637483083248374e-05</td><td>376.8997524786962</td><td>0.01105316532540778</td><td>34.559227902854865</td><td>0.9501907870696941</td><td>15.954587340541295</td><td>-22.01613917645038</td><td>3.4537383521894836e+36</td><td>0.00010960858867934648</td><td>2.5035555118281048e-05</td></tr>\n",
       "<tr><td>164.9728148</td><td>59.9543143</td><td>NPM 1G+60.0090</td><td>AR</td><td>14.01</td><td>15.57</td><td>p+G</td><td>1</td><td>1</td><td>0.045</td><td>PGC</td><td>DR16</td><td>100</td><td>0</td><td></td><td>VLAJ105953.43+595715.4</td><td>ILTJ105953.47+595715.5</td><td>FIRST J105953.4+595715</td><td>39633386939091823</td><td>164.97285457218</td><td>59.9543110825106</td><td>20220121</td><td>0.045172693453959</td><td>3.42298634806615e-06</td><td>0</td><td>294.060852050781</td><td>640.828979492188</td><td>1135.38427734375</td><td>GALAXY</td><td>514</td><td>0.0101422742009163</td><td>2.14243221282959</td><td>360080</td><td>0.003087614882162371</td><td>265.97985665548475</td><td>64.71818058156911</td><td>1.334512699201749e-05</td><td>198.62851638612335</td><td>0.014557646521909856</td><td>17.799774375776735</td><td>0.979878355224482</td><td>15.461075053504127</td><td>-21.118477384030783</td><td>1.5108617146789797e+36</td><td>0.0001288241425549408</td><td>6.726274968656612e-05</td></tr>\n",
       "<tr><td>165.0313538</td><td>66.4092714</td><td>PGC 2686917</td><td>NR</td><td>15.2</td><td>17.05</td><td>p+G</td><td>1</td><td>1</td><td>0.083</td><td>PGC</td><td>DR16</td><td>98</td><td>0</td><td></td><td>ILTJ110007.36+662433.4</td><td></td><td></td><td>39633458028350795</td><td>165.031377716165</td><td>66.4092584219246</td><td>20220120</td><td>0.0825498902651404</td><td>1.18858664766034e-05</td><td>0</td><td>152.417556762695</td><td>342.467834472656</td><td>586.949096679688</td><td>GALAXY</td><td>514</td><td>0.022265849635005</td><td>4.0</td><td>1530265</td><td>0.0066917939989063775</td><td>249.02731145410513</td><td>66.09923215052798</td><td>1.5063945309240605e-05</td><td>372.52921131416457</td><td>0.05054982483393468</td><td>34.14001609849898</td><td>0.956356479136946</td><td>16.115000042185386</td><td>-21.830393074750475</td><td>2.9106567493921084e+36</td><td>8.441507465662327e-05</td><td>2.287868660391715e-05</td></tr>\n",
       "<tr><td>165.1601712</td><td>72.3806997</td><td>PGC 2749234</td><td>A</td><td>15.14</td><td>17.43</td><td>pG</td><td>1</td><td>1</td><td>0.029</td><td>PGC</td><td>0961</td><td>--</td><td>--</td><td></td><td></td><td></td><td></td><td>39633509156916361</td><td>165.160190091743</td><td>72.3806947123172</td><td>20230107</td><td>0.0287719103572585</td><td>2.57465286138473e-06</td><td>0</td><td>123.128196716309</td><td>276.496887207031</td><td>516.534240722656</td><td>GALAXY</td><td>514</td><td>0.0498957373201847</td><td>1.96586871147156</td><td>384426</td><td>0.003466369186007672</td><td>226.42462736372522</td><td>68.50524488024321</td><td>1.7869655151018307e-05</td><td>125.02250863790388</td><td>0.010949755044088093</td><td>11.091643911323484</td><td>0.9048378314514526</td><td>16.287201259603584</td><td>-19.286969488652694</td><td>2.7965433648325215e+35</td><td>8.379124156211596e-06</td><td>2.363628077963797e-05</td></tr>\n",
       "<tr><td>165.5541106</td><td>64.9902556</td><td>PGC 2673538</td><td>ARX</td><td>14.78</td><td>16.26</td><td>p+G</td><td>1</td><td>1</td><td>0.078</td><td>PGC</td><td>DR14</td><td>100</td><td>15</td><td>4XMM J110213.0+645924</td><td>VLAJ110213.08+645924.8</td><td>ILDJ110213.05+645925.2</td><td>NVSS J110212.9+645925</td><td>39633443042101321</td><td>165.554284281057</td><td>64.9902370205992</td><td>20220120</td><td>0.0774569856223389</td><td>2.6101893781732e-06</td><td>0</td><td>239.222991943359</td><td>549.924682617188</td><td>1023.93560791016</td><td>GALAXY</td><td>514</td><td>0.0312965959310532</td><td>5.91526794433594</td><td>382188</td><td>0.0038829664636461686</td><td>261.41980017589</td><td>62.94215913798644</td><td>1.383087196183214e-05</td><td>348.3399851982259</td><td>0.011100888786734705</td><td>31.8272393891278</td><td>0.9392029389574112</td><td>15.581140575171197</td><td>-22.21843505799969</td><td>4.1610964831810436e+36</td><td>0.00025451080203880397</td><td>4.825035429580348e-05</td></tr>\n",
       "<tr><td>165.6533079</td><td>72.7773635</td><td>PGC 33335</td><td>AX</td><td>15.04</td><td>16.88</td><td>pG</td><td>1</td><td>-</td><td>0.089</td><td>PGC</td><td>1782</td><td>99</td><td>73</td><td>2SXPS J110236.6+724639</td><td></td><td>XMMSL J110235.5+724639</td><td></td><td>39633510985632229</td><td>165.653304866804</td><td>72.7773634395645</td><td>20210223</td><td>0.0871539094396014</td><td>1.07845159909672e-05</td><td>0</td><td>188.469131469727</td><td>308.185882568359</td><td>511.151947021484</td><td>QSO</td><td>0</td><td>0.0511661730706692</td><td>0.0</td><td>384771</td><td>0.0029623370666690715</td><td>233.20848491253275</td><td>65.92149809710293</td><td>1.7026569270396155e-05</td><td>394.52841357769205</td><td>0.045865813583930326</td><td>36.25424894257283</td><td>0.902536891677218</td><td>16.16663055589295</td><td>-21.9033813500101</td><td>3.113051480627233e+36</td><td>6.2641287857847654e-06</td><td>1.5873637132511343e-06</td></tr>\n",
       "</table></div>"
      ],
      "text/plain": [
       "<Table length=65>\n",
       "     RA        DEC     ...         P_GAL               P_GAL_NO_LUM     \n",
       "                       ...                                              \n",
       "  float64    float64   ...        float64                float64        \n",
       "----------- ---------- ... ---------------------- ----------------------\n",
       "155.6496238 30.2984746 ...  2.630990579503281e-07  2.019180590594635e-07\n",
       "   156.1938   34.64893 ...  0.0009033688129462948 0.00012802354030156613\n",
       "156.4930165 38.6915401 ... 2.0397107285577696e-06  3.349893769743544e-07\n",
       "157.1829443 37.0918127 ...  0.0021635066721745547  0.0004388348403155651\n",
       "157.1869703 37.2316411 ...   0.001295500623425745  0.0005154481526988778\n",
       "157.2980338 39.1148741 ...  8.991413133984438e-06  7.619864890427157e-06\n",
       "157.4004894  40.401998 ...  4.282547136642559e-06  6.280716217884636e-07\n",
       "157.4359703 40.4938451 ...  0.0006481208631278085 0.00014906845986531697\n",
       "157.4450468 40.3204546 ... 0.00025596422862414963 0.00022452867768466646\n",
       "        ...        ... ...                    ...                    ...\n",
       "163.4730143  56.248474 ...  0.0003849014489410533  0.0001078536537215316\n",
       "163.9069023 61.7823935 ...  8.211085951014699e-05  0.0006712210619849124\n",
       "164.1321801 57.3477723 ...  0.0012441578952312345 0.00018504628157582252\n",
       "   164.3169   66.75301 ...  0.0007012406612155031 0.00016870153319264867\n",
       "164.9315403 65.0684411 ... 0.00010960858867934648 2.5035555118281048e-05\n",
       "164.9728148 59.9543143 ...  0.0001288241425549408  6.726274968656612e-05\n",
       "165.0313538 66.4092714 ...  8.441507465662327e-05  2.287868660391715e-05\n",
       "165.1601712 72.3806997 ...  8.379124156211596e-06  2.363628077963797e-05\n",
       "165.5541106 64.9902556 ... 0.00025451080203880397  4.825035429580348e-05\n",
       "165.6533079 72.7773635 ... 6.2641287857847654e-06 1.5873637132511343e-06"
      ]
     },
     "execution_count": 302,
     "metadata": {},
     "output_type": "execute_result"
    }
   ],
   "source": [
    "crossmatched_table"
   ]
  },
  {
   "cell_type": "code",
   "execution_count": 307,
   "metadata": {},
   "outputs": [
    {
     "data": {
      "text/html": [
       "<div><i>Table length=65</i>\n",
       "<table id=\"table5000794368\" class=\"table-striped table-bordered table-condensed\">\n",
       "<thead><tr><th>RA</th><th>DEC</th><th>NAME</th><th>TYPE</th><th>RMAG</th><th>BMAG</th><th>COMMENT</th><th>R</th><th>B</th><th>Z_MILLIQUAS</th><th>CITE</th><th>ZCITE</th><th>RXPCT</th><th>QPCT</th><th>XNAME</th><th>RNAME</th><th>LOBE1</th><th>LOBE2</th><th>TARGETID</th><th>TARGET_RA</th><th>TARGET_DEC</th><th>LASTNIGHT</th><th>Z</th><th>ZERR</th><th>ZWARN</th><th>FLUX_G</th><th>FLUX_R</th><th>FLUX_Z</th><th>SPECTYPE</th><th>BGS_TARGET</th><th>EBV</th><th>SERSIC</th><th>UNIQ</th><th>PROBDENSITY</th><th>DISTMU</th><th>DISTSIGMA</th><th>DISTNORM</th><th>DIST_Z_MEAN</th><th>DIST_Z_ERR</th><th>DIST_Z_COSMO_SIGMA</th><th>MW_TRANSMISSION</th><th>APP_MAG_R</th><th>ABS_MAG_R</th><th>LUM_R</th><th>P_GAL</th><th>P_GAL_NO_LUM</th></tr></thead>\n",
       "<thead><tr><th></th><th></th><th></th><th></th><th></th><th></th><th></th><th></th><th></th><th></th><th></th><th></th><th></th><th></th><th></th><th></th><th></th><th></th><th></th><th></th><th></th><th></th><th></th><th></th><th></th><th></th><th></th><th></th><th></th><th></th><th></th><th></th><th></th><th></th><th>Mpc</th><th>Mpc</th><th>1 / Mpc2</th><th>Mpc</th><th>Mpc</th><th>Mpc</th><th></th><th></th><th></th><th>W</th><th></th><th></th></tr></thead>\n",
       "<thead><tr><th>float64</th><th>float64</th><th>bytes25</th><th>bytes4</th><th>float32</th><th>float32</th><th>bytes3</th><th>bytes1</th><th>bytes1</th><th>float32</th><th>bytes6</th><th>bytes6</th><th>int16</th><th>int16</th><th>bytes22</th><th>bytes22</th><th>bytes22</th><th>bytes22</th><th>int64</th><th>float64</th><th>float64</th><th>int64</th><th>float64</th><th>float64</th><th>int64</th><th>float64</th><th>float64</th><th>float64</th><th>bytes6</th><th>int64</th><th>float64</th><th>float64</th><th>int64</th><th>float64</th><th>float64</th><th>float64</th><th>float64</th><th>float64</th><th>float64</th><th>float64</th><th>float64</th><th>float64</th><th>float64</th><th>float64</th><th>float64</th><th>float64</th></tr></thead>\n",
       "<tr><td>159.63926</td><td>46.9685435</td><td>PGC 2290168</td><td>AR</td><td>15.47</td><td>16.79</td><td>p+G</td><td>1</td><td>-</td><td>0.063</td><td>PGC</td><td>LOZAGN</td><td>99</td><td>1</td><td></td><td>ILTJ103833.40+465806.4</td><td></td><td></td><td>39633199646638841</td><td>159.639538633152</td><td>46.9686977324465</td><td>20220421</td><td>0.0630172033890511</td><td>1.34135199035127e-05</td><td>0</td><td>33.2362022399902</td><td>74.8496780395508</td><td>171.289657592773</td><td>QSO</td><td>514</td><td>0.0144410552456975</td><td>0.5</td><td>5705429</td><td>0.02381783591278587</td><td>255.74913547491101</td><td>65.97889949170653</td><td>1.4334695573630122e-05</td><td>280.59854248198894</td><td>0.05704690300646839</td><td>25.41803730374242</td><td>0.9714724870578842</td><td>17.783101422293</td><td>-19.546790525707223</td><td>3.552629951764869e+35</td><td>0.0005365886438494086</td><td>0.0011914987120262585</td></tr>\n",
       "<tr><td>161.8457</td><td>50.551246</td><td>SDSS J104722.96+503304.4</td><td>N</td><td>15.47</td><td>17.45</td><td>p+a</td><td>1</td><td>1</td><td>0.053</td><td>DR16</td><td>DR16</td><td>--</td><td>--</td><td></td><td></td><td></td><td></td><td>39633255623821521</td><td>161.845700207372</td><td>50.5512111827313</td><td>20220218</td><td>0.0525896133401201</td><td>1.58495499166668e-05</td><td>0</td><td>89.2966842651367</td><td>194.561737060547</td><td>340.091094970703</td><td>GALAXY</td><td>514</td><td>0.0151101378723979</td><td>2.2010440826416</td><td>1428716</td><td>0.017242576606211854</td><td>259.74486750511346</td><td>67.11913265577212</td><td>1.3894224860484919e-05</td><td>232.46229565513815</td><td>0.06740731920003051</td><td>20.92572708758533</td><td>0.9701706588500298</td><td>16.744476752437407</td><td>-20.176680924979777</td><td>6.346088622275353e+35</td><td>0.0006792113977830673</td><td>0.00084430800222506</td></tr>\n",
       "<tr><td>158.1841965</td><td>39.2229856</td><td>PGC 3095962</td><td>AR</td><td>15.07</td><td>16.64</td><td>paG</td><td>-</td><td>1</td><td>0.064</td><td>PGC</td><td>LOZAGN</td><td>100</td><td>1</td><td></td><td>ILTJ103244.20+391322.6</td><td></td><td></td><td>39633062618727281</td><td>158.184193469159</td><td>39.2229842755935</td><td>20221130</td><td>0.0645631182623234</td><td>1.94272206850087e-06</td><td>0</td><td>111.979141235352</td><td>158.138442993164</td><td>197.310852050781</td><td>QSO</td><td>1028</td><td>0.0147584211081266</td><td>0.0</td><td>5568243</td><td>0.018614574295727156</td><td>246.147968694342</td><td>65.04803959014497</td><td>1.5427328867678393e-05</td><td>287.7910079210164</td><td>0.008262209176068378</td><td>26.093739136743757</td><td>0.9708547734394031</td><td>16.9702920294544</td><td>-20.414569183668803</td><td>7.900624772136484e+35</td><td>0.0007479031351277635</td><td>0.0007467685003812076</td></tr>\n",
       "<tr><td>163.9069023</td><td>61.7823935</td><td>J105537.65+614656.6</td><td>R</td><td>18.73</td><td>19.78</td><td>pN</td><td>-</td><td>-</td><td>1.5</td><td>MQ</td><td>MQ</td><td>81</td><td>74</td><td></td><td>VLAJ105537.47+614657.0</td><td>ILTJ105537.46+614657.2</td><td>FIRST J105537.4+614657</td><td>39633407621203142</td><td>163.90690582529</td><td>61.7824047347737</td><td>20220120</td><td>0.0546408369230726</td><td>2.49877381674582e-06</td><td>0</td><td>18.3957672119141</td><td>27.4750595092773</td><td>36.2905426025391</td><td>GALAXY</td><td>514</td><td>0.0124139571562409</td><td>2.03874230384827</td><td>1527905</td><td>0.01217383680811315</td><td>254.19100707188247</td><td>66.93845483083247</td><td>1.4473080698596746e-05</td><td>241.87891189892144</td><td>0.01062704802596167</td><td>21.800409505806797</td><td>0.9754272670893898</td><td>18.875640624849275</td><td>-18.13175833231827</td><td>9.650217363793092e+34</td><td>8.211085951014699e-05</td><td>0.0006712210619849124</td></tr>\n",
       "<tr><td>162.0404125</td><td>56.9165355</td><td>SDSS J104809.69+565459.3</td><td>ARX</td><td>14.88</td><td>16.6</td><td>pmG</td><td>1</td><td>1</td><td>0.046</td><td>DR16</td><td>LOZAGN</td><td>100</td><td>2</td><td>4XMM J104809.7+565501</td><td>ILTJ104809.72+565459.1</td><td></td><td></td><td>39633348850616847</td><td>162.040428310705</td><td>56.9165164281332</td><td>20230108</td><td>0.046238029261905</td><td>6.66989492511024e-06</td><td>0</td><td>179.503524780273</td><td>375.778930664062</td><td>634.978332519531</td><td>GALAXY</td><td>514</td><td>0.0073608560487628</td><td>4.0</td><td>5748001</td><td>0.01993416197937009</td><td>255.59929081659462</td><td>67.2007155714068</td><td>1.4317027751513178e-05</td><td>203.46744847562843</td><td>0.028366520750722532</td><td>18.245232221064533</td><td>0.9853558762806062</td><td>16.046651711648153</td><td>-20.5851747468841</td><td>9.244930729729854e+35</td><td>0.0007665678531643028</td><td>0.0006541073275085103</td></tr>\n",
       "<tr><td>157.1869703</td><td>37.2316411</td><td>KUG 1025+374</td><td>NR</td><td>14.72</td><td>15.81</td><td>p+m</td><td>1</td><td>1</td><td>0.055</td><td>PGC</td><td>DR16</td><td>99</td><td>0</td><td></td><td>ILTJ102844.85+371354.7</td><td></td><td></td><td>39633024547029500</td><td>157.186940986664</td><td>37.2316463132475</td><td>20211226</td><td>0.0551168644651229</td><td>9.71120327788971e-06</td><td>0</td><td>277.816772460938</td><td>552.018920898438</td><td>888.657836914062</td><td>GALAXY</td><td>514</td><td>0.0145689332857728</td><td>1.53848564624786</td><td>1391772</td><td>0.009291086040386774</td><td>233.5120314562796</td><td>67.02180914816401</td><td>1.6943507312129673e-05</td><td>244.0679009707215</td><td>0.04130105373262066</td><td>22.004027359047722</td><td>0.9712235409179459</td><td>15.61341309171602</td><td>-21.4135523727968</td><td>1.982689523530436e+36</td><td>0.001295500623425745</td><td>0.0005154481526988778</td></tr>\n",
       "<tr><td>162.5321714</td><td>55.4118895</td><td>SDSS J105007.73+552442.7</td><td>N</td><td>15.99</td><td>18.03</td><td>p+G</td><td>1</td><td>1</td><td>0.074</td><td>DR16</td><td>DR16</td><td>--</td><td>--</td><td></td><td></td><td></td><td></td><td>39633328625681458</td><td>162.532171321779</td><td>55.4118894135224</td><td>20230208</td><td>0.0735333373335686</td><td>1.32418463372341e-05</td><td>0</td><td>81.4998779296875</td><td>188.734939575195</td><td>350.917358398438</td><td>GALAXY</td><td>514</td><td>0.010177668184042</td><td>4.77207565307617</td><td>5741695</td><td>0.02337986646226838</td><td>259.0788490547773</td><td>66.8173197953238</td><td>1.3969137686291377e-05</td><td>329.8093922501729</td><td>0.05631677815653566</td><td>30.06403207386718</td><td>0.9798088494684362</td><td>16.788222627984982</td><td>-20.892626188009213</td><td>1.2271120982229948e+36</td><td>0.0007822958340342847</td><td>0.0005029083571237438</td></tr>\n",
       "<tr><td>162.3578588</td><td>57.9059917</td><td>PGC 3095989</td><td>ARX</td><td>15.08</td><td>16.94</td><td>p+G</td><td>1</td><td>1</td><td>0.071</td><td>PGC</td><td>LOZAGN</td><td>100</td><td>24</td><td>2SXPS J104925.6+575421</td><td>ILTJ104925.85+575420.9</td><td>1WGA J1049.4+5754</td><td></td><td>39633361899096119</td><td>162.357859180266</td><td>57.9059893407196</td><td>20230108</td><td>0.0717868032015364</td><td>6.56817510350627e-06</td><td>0</td><td>143.370910644531</td><td>345.275512695312</td><td>616.586120605469</td><td>QSO</td><td>514</td><td>0.0108486833050847</td><td>4.62081384658813</td><td>5748552</td><td>0.01945062722237546</td><td>254.40029116937956</td><td>67.60000518061054</td><td>1.4432257846694075e-05</td><td>321.5904211748669</td><td>0.027933912452732045</td><td>29.28437739412359</td><td>0.97849206030896</td><td>16.130978818084547</td><td>-21.495059104459184</td><td>2.1372602297688495e+36</td><td>0.0012460428935721502</td><td>0.0004599150921208757</td></tr>\n",
       "<tr><td>160.0112375</td><td>49.5512951</td><td>MCG 8-20-012</td><td>AR</td><td>17.21</td><td>17.91</td><td>gG</td><td>1</td><td>1</td><td>0.045</td><td>PGC</td><td>DR16</td><td>99</td><td>39</td><td></td><td>VLAJ104002.69+493304.6</td><td>ILDJ104002.69+493304.7</td><td>FIRST J104002.6+493304</td><td>39633240008428752</td><td>160.011278839328</td><td>49.5512728672839</td><td>20220421</td><td>0.044871527710528</td><td>3.69982357875714e-06</td><td>0</td><td>652.0244140625</td><td>1408.20861816406</td><td>2387.7509765625</td><td>GALAXY</td><td>514</td><td>0.0135641628876328</td><td>3.00800538063049</td><td>1427965</td><td>0.016425900003984296</td><td>256.93296573831367</td><td>66.43409921950506</td><td>1.4198895454691662e-05</td><td>197.26184111739968</td><td>0.015735013166014708</td><td>17.674060669401726</td><td>0.973181294163775</td><td>14.598816886931054</td><td>-21.96574089583735</td><td>3.2970848289059035e+36</td><td>0.0018814419160997785</td><td>0.00045015571411466545</td></tr>\n",
       "<tr><td>...</td><td>...</td><td>...</td><td>...</td><td>...</td><td>...</td><td>...</td><td>...</td><td>...</td><td>...</td><td>...</td><td>...</td><td>...</td><td>...</td><td>...</td><td>...</td><td>...</td><td>...</td><td>...</td><td>...</td><td>...</td><td>...</td><td>...</td><td>...</td><td>...</td><td>...</td><td>...</td><td>...</td><td>...</td><td>...</td><td>...</td><td>...</td><td>...</td><td>...</td><td>...</td><td>...</td><td>...</td><td>...</td><td>...</td><td>...</td><td>...</td><td>...</td><td>...</td><td>...</td><td>...</td><td>...</td></tr>\n",
       "<tr><td>163.3462272</td><td>62.7446561</td><td>PGC 2642536</td><td>NR</td><td>15.36</td><td>16.6</td><td>p+G</td><td>1</td><td>1</td><td>0.096</td><td>PGC</td><td>DPeake</td><td>100</td><td>2</td><td></td><td>ILTJ105323.10+624440.8</td><td>FIRST J105323.0+624439</td><td></td><td>39633418933240890</td><td>163.346230690483</td><td>62.7446667112574</td><td>20220120</td><td>0.0955056116726394</td><td>5.73805568636297e-06</td><td>0</td><td>163.789016723633</td><td>367.11474609375</td><td>697.381591796875</td><td>GALAXY</td><td>514</td><td>0.0184028148651123</td><td>4.67861127853394</td><td>1528043</td><td>0.01077265549874499</td><td>241.72543882311513</td><td>70.31158947815</td><td>1.577916029082936e-05</td><td>434.7526622644779</td><td>0.024403466894403626</td><td>40.14636967831207</td><td>0.9637894986009125</td><td>16.0479509013726</td><td>-22.232932684158044</td><td>4.2170314151494345e+36</td><td>9.680446894425146e-06</td><td>1.8108840496861938e-06</td></tr>\n",
       "<tr><td>158.1166291</td><td>40.8025631</td><td>J103227.99+404809.2</td><td>R</td><td>18.27</td><td>20.17</td><td>pG</td><td>-</td><td>-</td><td>0.3</td><td>MQ</td><td>MQ</td><td>99</td><td>67</td><td></td><td>ILTJ103228.00+404809.4</td><td></td><td></td><td>39633090456323814</td><td>158.116649662665</td><td>40.8025581029046</td><td>20230308</td><td>0.09642617654887</td><td>3.25314896951347e-06</td><td>0</td><td>16.3733539581299</td><td>33.4916915893555</td><td>60.9436264038086</td><td>GALAXY</td><td>514</td><td>0.0124524785205722</td><td>3.33263182640076</td><td>1392510</td><td>0.01676580819793778</td><td>247.39252584798712</td><td>65.07825175130881</td><td>1.5281591950047737e-05</td><td>439.2112951938609</td><td>0.01383534196296862</td><td>40.579867334689716</td><td>0.9753519637286843</td><td>18.66056069843229</td><td>-19.642484792108593</td><td>3.879963852440679e+35</td><td>8.261069276688199e-07</td><td>1.6796185313915206e-06</td></tr>\n",
       "<tr><td>165.6533079</td><td>72.7773635</td><td>PGC 33335</td><td>AX</td><td>15.04</td><td>16.88</td><td>pG</td><td>1</td><td>-</td><td>0.089</td><td>PGC</td><td>1782</td><td>99</td><td>73</td><td>2SXPS J110236.6+724639</td><td></td><td>XMMSL J110235.5+724639</td><td></td><td>39633510985632229</td><td>165.653304866804</td><td>72.7773634395645</td><td>20210223</td><td>0.0871539094396014</td><td>1.07845159909672e-05</td><td>0</td><td>188.469131469727</td><td>308.185882568359</td><td>511.151947021484</td><td>QSO</td><td>0</td><td>0.0511661730706692</td><td>0.0</td><td>384771</td><td>0.0029623370666690715</td><td>233.20848491253275</td><td>65.92149809710293</td><td>1.7026569270396155e-05</td><td>394.52841357769205</td><td>0.045865813583930326</td><td>36.25424894257283</td><td>0.902536891677218</td><td>16.16663055589295</td><td>-21.9033813500101</td><td>3.113051480627233e+36</td><td>6.2641287857847654e-06</td><td>1.5873637132511343e-06</td></tr>\n",
       "<tr><td>160.6180312</td><td>56.4734506</td><td>J104228.32+562824.4</td><td>R</td><td>18.42</td><td>18.69</td><td>p+N</td><td>1</td><td>1</td><td>1.8</td><td>MQ</td><td>MQ</td><td>99</td><td>68</td><td></td><td>ILDJ104228.29+562824.4</td><td>FIRST J104228.2+562824</td><td></td><td>39633342181671110</td><td>160.617659696159</td><td>56.4736307039098</td><td>20220121</td><td>0.0262646573229325</td><td>4.53274347328349e-05</td><td>0</td><td>35.9880752563477</td><td>50.6229667663574</td><td>59.9578742980957</td><td>GALAXY</td><td>514</td><td>0.00568961445242167</td><td>0.605312049388885</td><td>359241</td><td>0.003117020803527603</td><td>259.13959160619265</td><td>65.49659936238481</td><td>1.3997149791104078e-05</td><td>113.9183131510843</td><td>0.19277958111534968</td><td>10.090876808525346</td><td>0.9886618123111766</td><td>18.226750415302575</td><td>-17.14542913656134</td><td>3.890499978967497e+34</td><td>7.624150172902995e-08</td><td>1.5459238511264657e-06</td></tr>\n",
       "<tr><td>162.6930592</td><td>62.3875642</td><td>J105046.33+622315.2</td><td>R</td><td>17.36</td><td>18.18</td><td>pG</td><td>-</td><td>-</td><td>1.5</td><td>MQ</td><td>MQ</td><td>93</td><td>61</td><td></td><td>ILTJ105046.21+622315.2</td><td></td><td></td><td>39633416131447754</td><td>162.693071521268</td><td>62.3875680274254</td><td>20230108</td><td>0.0950731129304865</td><td>4.22042952493329e-06</td><td>0</td><td>48.6410102844238</td><td>80.9566192626953</td><td>127.815483093262</td><td>GALAXY</td><td>514</td><td>0.0126998573541641</td><td>2.52258396148682</td><td>1527996</td><td>0.008376064355738346</td><td>241.10923752271407</td><td>70.42388760795458</td><td>1.5849619295772484e-05</td><td>432.65961577849475</td><td>0.017949110034145503</td><td>39.94301211478766</td><td>0.9748685145615433</td><td>17.701734200906188</td><td>-20.568667274630627</td><td>9.105434456258767e+35</td><td>1.771619909235209e-06</td><td>1.5348712547301448e-06</td></tr>\n",
       "<tr><td>162.9937163</td><td>63.8732535</td><td>J105158.49+635223.7</td><td>R</td><td>17.76</td><td>18.53</td><td>pG</td><td>-</td><td>-</td><td>1.7</td><td>MQ</td><td>MQ</td><td>99</td><td>65</td><td></td><td>ILTJ105158.49+635223.5</td><td></td><td></td><td>39633429871987241</td><td>162.993718817276</td><td>63.8732149118279</td><td>20230108</td><td>0.095795816953789</td><td>1.50137219150719e-06</td><td>0</td><td>40.3452491760254</td><td>55.9628753662109</td><td>72.4132995605469</td><td>GALAXY</td><td>514</td><td>0.0148146692663431</td><td>2.11138153076172</td><td>1528524</td><td>0.0071645073246436345</td><td>233.9742429343459</td><td>71.95979057079774</td><td>1.6688428628066986e-05</td><td>436.1577004308715</td><td>0.006385188657432683</td><td>40.28293227480487</td><td>0.9707453343000878</td><td>18.09801322869032</td><td>-20.189878611961753</td><td>6.423699366420071e+35</td><td>6.943378430876983e-07</td><td>8.526831904752403e-07</td></tr>\n",
       "<tr><td>157.4004894</td><td>40.401998</td><td>PGC 2165272</td><td>NR</td><td>13.61</td><td>15.62</td><td>p+G</td><td>1</td><td>1</td><td>0.096</td><td>PGC</td><td>DR16</td><td>100</td><td>0</td><td></td><td>ILTJ102936.10+402407.5</td><td></td><td></td><td>39633085850976545</td><td>157.400482934167</td><td>40.4019874073216</td><td>20230308</td><td>0.0957665853298839</td><td>8.09288260250659e-06</td><td>0</td><td>206.5390625</td><td>471.437072753906</td><td>819.861694335938</td><td>GALAXY</td><td>514</td><td>0.0121356016024947</td><td>4.60519599914551</td><td>1392578</td><td>0.005376285665690565</td><td>250.86489272660307</td><td>63.036560592516096</td><td>1.4946166400078699e-05</td><td>436.0161523826238</td><td>0.03441840900943691</td><td>40.26917266664871</td><td>0.9759715823361669</td><td>15.7900336022253</td><td>-22.49715322758084</td><td>5.378919610956091e+36</td><td>4.282547136642559e-06</td><td>6.280716217884636e-07</td></tr>\n",
       "<tr><td>156.4930165</td><td>38.6915401</td><td>SDSS J102558.33+384129.5</td><td>NR</td><td>14.49</td><td>16.48</td><td>p+G</td><td>-</td><td>-</td><td>0.094</td><td>DR16</td><td>DR16</td><td>100</td><td>3</td><td></td><td>ILTJ102558.30+384129.5</td><td></td><td></td><td>39633053181544264</td><td>156.49303317736</td><td>38.6915326916193</td><td>20221207</td><td>0.0939435834767224</td><td>2.31778544872922e-05</td><td>0</td><td>201.989547729492</td><td>437.879364013672</td><td>752.824645996094</td><td>GALAXY</td><td>514</td><td>0.0128985457122326</td><td>6.0</td><td>348057</td><td>0.0020089898276232604</td><td>252.84155165489892</td><td>60.69935348897727</td><td>1.4789999053491076e-05</td><td>427.1984799847833</td><td>0.09857477224160849</td><td>39.41284412393844</td><td>0.974480394072669</td><td>15.868546567947256</td><td>-22.37426463854586</td><td>4.803298958748872e+36</td><td>2.0397107285577696e-06</td><td>3.349893769743544e-07</td></tr>\n",
       "<tr><td>155.6496238</td><td>30.2984746</td><td>SDSS J102235.91+301754.4</td><td>ARX</td><td>17.0</td><td>18.11</td><td>paG</td><td>1</td><td>-</td><td>0.089</td><td>DR16</td><td>LOZAGN</td><td>100</td><td>22</td><td>XMMSL J102236.4+301757</td><td>ILTJ102235.93+301754.9</td><td></td><td></td><td>39628485605461676</td><td>155.649626811862</td><td>30.2984749622211</td><td>20230421</td><td>0.0892061225660586</td><td>5.52901946433831e-06</td><td>0</td><td>58.8456230163574</td><td>101.20873260498</td><td>140.196029663086</td><td>QSO</td><td>131074</td><td>0.0292662531137466</td><td>6.0</td><td>346477</td><td>0.0031217738901161206</td><td>203.68874962368506</td><td>68.14959903221975</td><td>2.1676697133507887e-05</td><td>404.3746211978713</td><td>0.0235144497129962</td><td>37.20383739746441</td><td>0.9430324849717393</td><td>17.423271667218607</td><td>-20.700281101118513</td><td>1.0278889637024004e+36</td><td>2.630990579503281e-07</td><td>2.019180590594635e-07</td></tr>\n",
       "<tr><td>158.40919</td><td>44.161746</td><td>SDSS J103338.20+440942.2</td><td>N</td><td>15.31</td><td>17.4</td><td>p+a</td><td>1</td><td>1</td><td>0.102</td><td>DR16</td><td>DR16</td><td>--</td><td>--</td><td></td><td></td><td></td><td></td><td>39633153001787085</td><td>158.409168998292</td><td>44.1617429083563</td><td>20230129</td><td>0.102148703567916</td><td>2.23117033138408e-05</td><td>0</td><td>115.671073913574</td><td>277.582550048828</td><td>510.23876953125</td><td>GALAXY</td><td>514</td><td>0.0136020686477423</td><td>4.67433834075928</td><td>1425636</td><td>0.0066243405662934135</td><td>254.36303404624863</td><td>64.72393470152153</td><td>1.4515953281662642e-05</td><td>467.037936569881</td><td>0.09489099260592099</td><td>43.294624958109246</td><td>0.973107364788381</td><td>16.36192149574781</td><td>-22.074552157944556</td><td>3.644639904357528e+36</td><td>9.06080652683327e-07</td><td>1.9611657688611902e-07</td></tr>\n",
       "</table></div>"
      ],
      "text/plain": [
       "<Table length=65>\n",
       "     RA        DEC     ...         P_GAL               P_GAL_NO_LUM     \n",
       "                       ...                                              \n",
       "  float64    float64   ...        float64                float64        \n",
       "----------- ---------- ... ---------------------- ----------------------\n",
       "  159.63926 46.9685435 ...  0.0005365886438494086  0.0011914987120262585\n",
       "   161.8457  50.551246 ...  0.0006792113977830673    0.00084430800222506\n",
       "158.1841965 39.2229856 ...  0.0007479031351277635  0.0007467685003812076\n",
       "163.9069023 61.7823935 ...  8.211085951014699e-05  0.0006712210619849124\n",
       "162.0404125 56.9165355 ...  0.0007665678531643028  0.0006541073275085103\n",
       "157.1869703 37.2316411 ...   0.001295500623425745  0.0005154481526988778\n",
       "162.5321714 55.4118895 ...  0.0007822958340342847  0.0005029083571237438\n",
       "162.3578588 57.9059917 ...  0.0012460428935721502  0.0004599150921208757\n",
       "160.0112375 49.5512951 ...  0.0018814419160997785 0.00045015571411466545\n",
       "        ...        ... ...                    ...                    ...\n",
       "163.3462272 62.7446561 ...  9.680446894425146e-06 1.8108840496861938e-06\n",
       "158.1166291 40.8025631 ...  8.261069276688199e-07 1.6796185313915206e-06\n",
       "165.6533079 72.7773635 ... 6.2641287857847654e-06 1.5873637132511343e-06\n",
       "160.6180312 56.4734506 ...  7.624150172902995e-08 1.5459238511264657e-06\n",
       "162.6930592 62.3875642 ...  1.771619909235209e-06 1.5348712547301448e-06\n",
       "162.9937163 63.8732535 ...  6.943378430876983e-07  8.526831904752403e-07\n",
       "157.4004894  40.401998 ...  4.282547136642559e-06  6.280716217884636e-07\n",
       "156.4930165 38.6915401 ... 2.0397107285577696e-06  3.349893769743544e-07\n",
       "155.6496238 30.2984746 ...  2.630990579503281e-07  2.019180590594635e-07\n",
       "  158.40919  44.161746 ...   9.06080652683327e-07 1.9611657688611902e-07"
      ]
     },
     "execution_count": 307,
     "metadata": {},
     "output_type": "execute_result"
    }
   ],
   "source": [
    "crossmatched_table_PGAL_NO_LUM = crossmatched_table.group_by(\"P_GAL_NO_LUM\")\n",
    "crossmatched_table_PGAL_NO_LUM = crossmatched_table_PGAL_NO_LUM[::-1]\n",
    "crossmatched_table_PGAL_NO_LUM"
   ]
  },
  {
   "cell_type": "code",
   "execution_count": 309,
   "metadata": {},
   "outputs": [],
   "source": [
    "crossmatched_table_PGAL_NO_LUM[\"TARGET_RA\", \"TARGET_DEC\", \"SERSIC\", \"Z\", \"P_GAL\", \"P_GAL_NO_LUM\"][:N_galaxies].write(f'PGAL/PGAL_{superevent_name}_crossmatch_99.ecsv', delimiter=',', format='ascii', overwrite = True)"
   ]
  },
  {
   "cell_type": "code",
   "execution_count": 312,
   "metadata": {},
   "outputs": [],
   "source": [
    "some_table = Table.read(\"/Users/juliusgassert/Downloads/230627c_cr90_3D-0.1-0.2_milliquas.fits\")"
   ]
  },
  {
   "cell_type": "code",
   "execution_count": 314,
   "metadata": {},
   "outputs": [
    {
     "data": {
      "text/html": [
       "<div><i>Table length=819</i>\n",
       "<table id=\"table5000797344\" class=\"table-striped table-bordered table-condensed\">\n",
       "<thead><tr><th>RA</th><th>DEC</th><th>NAME</th><th>TYPE</th><th>RMAG</th><th>BMAG</th><th>COMMENT</th><th>R</th><th>B</th><th>Z</th><th>CITE</th><th>ZCITE</th><th>RXPCT</th><th>QPCT</th><th>XNAME</th><th>RNAME</th><th>LOBE1</th><th>LOBE2</th><th>probdensity</th><th>probdensity_vol</th></tr></thead>\n",
       "<thead><tr><th>float64</th><th>float64</th><th>bytes25</th><th>bytes4</th><th>float32</th><th>float32</th><th>bytes3</th><th>bytes1</th><th>bytes1</th><th>float32</th><th>bytes6</th><th>bytes6</th><th>int16</th><th>int16</th><th>bytes22</th><th>bytes22</th><th>bytes22</th><th>bytes22</th><th>float64</th><th>float64</th></tr></thead>\n",
       "<tr><td>163.5943221</td><td>54.6495067</td><td>J105422.63+543858.2</td><td>R</td><td>17.6</td><td>18.84</td><td>p+G</td><td>-</td><td>-</td><td>0.2</td><td>MQ</td><td>MQ</td><td>95</td><td>79</td><td></td><td>ILTJ105422.71+543858.1</td><td></td><td></td><td>7.304849396279818</td><td>1.8334231584772475e-62</td></tr>\n",
       "<tr><td>158.6620995</td><td>36.7373105</td><td>J103438.90+364414.3</td><td>R</td><td>18.43</td><td>20.31</td><td>pG</td><td>-</td><td>-</td><td>0.2</td><td>MQ</td><td>MQ</td><td>98</td><td>66</td><td></td><td>ILTJ103438.87+364414.4</td><td></td><td></td><td>7.62013023829516</td><td>1.3287882365632724e-60</td></tr>\n",
       "<tr><td>159.1616403</td><td>37.9418458</td><td>J103638.79+375630.6</td><td>R</td><td>20.27</td><td>21.75</td><td>pmN</td><td>1</td><td>-</td><td>0.2</td><td>MQ</td><td>MQ</td><td>99</td><td>54</td><td></td><td>ILTJ103638.79+375630.6</td><td></td><td></td><td>7.6605288905677345</td><td>1.956973840763782e-56</td></tr>\n",
       "<tr><td>158.6583359</td><td>36.640336</td><td>J103438.00+363825.2</td><td>R</td><td>19.42</td><td>20.99</td><td>pN</td><td>1</td><td>-</td><td>0.2</td><td>MQ</td><td>MQ</td><td>99</td><td>50</td><td></td><td>ILTJ103438.06+363825.3</td><td></td><td></td><td>11.69907548645975</td><td>3.0157662803190284e-56</td></tr>\n",
       "<tr><td>157.6240861</td><td>33.4935095</td><td>J103029.78+332936.6</td><td>R</td><td>19.13</td><td>20.74</td><td>pN</td><td>1</td><td>-</td><td>0.2</td><td>MQ</td><td>MQ</td><td>100</td><td>50</td><td></td><td>ILTJ103029.81+332936.4</td><td></td><td></td><td>11.148184166645635</td><td>6.497317654424006e-56</td></tr>\n",
       "<tr><td>157.938178</td><td>34.9705166</td><td>J103145.16+345813.8</td><td>R</td><td>17.99</td><td>20.06</td><td>pG</td><td>-</td><td>-</td><td>0.2</td><td>MQ</td><td>MQ</td><td>99</td><td>58</td><td></td><td>ILTJ103145.20+345813.7</td><td></td><td></td><td>19.510398249460863</td><td>5.6114287437244e-55</td></tr>\n",
       "<tr><td>158.1682458</td><td>35.7996333</td><td>J103240.37+354758.6</td><td>R</td><td>19.12</td><td>21.05</td><td>pG</td><td>-</td><td>-</td><td>0.2</td><td>MQ</td><td>MQ</td><td>99</td><td>67</td><td></td><td>ILTJ103240.39+354758.5</td><td></td><td></td><td>20.680208325546857</td><td>5.600502959417649e-52</td></tr>\n",
       "<tr><td>156.1918272</td><td>37.6156787</td><td>J102446.03+373656.4</td><td>R</td><td>18.99</td><td>21.15</td><td>pN</td><td>-</td><td>-</td><td>0.2</td><td>MQ</td><td>MQ</td><td>100</td><td>61</td><td></td><td>ILTJ102446.05+373656.5</td><td></td><td></td><td>7.08096561511651</td><td>1.7049026251854313e-51</td></tr>\n",
       "<tr><td>166.2203099</td><td>65.8545729</td><td>J110452.87+655116.4</td><td>R</td><td>19.72</td><td>20.27</td><td>jN</td><td>1</td><td>1</td><td>0.2</td><td>MQ</td><td>MQ</td><td>100</td><td>65</td><td></td><td>ILTJ110452.87+655116.5</td><td></td><td></td><td>7.051306698020806</td><td>5.69654043329635e-50</td></tr>\n",
       "<tr><td>165.9622917</td><td>65.840764</td><td>J110350.95+655026.7</td><td>R</td><td>19.25</td><td>21.14</td><td>pG</td><td>-</td><td>-</td><td>0.2</td><td>MQ</td><td>MQ</td><td>97</td><td>66</td><td></td><td>ILTJ110350.93+655027.4</td><td></td><td></td><td>8.172160028220578</td><td>1.1092643853650878e-49</td></tr>\n",
       "<tr><td>...</td><td>...</td><td>...</td><td>...</td><td>...</td><td>...</td><td>...</td><td>...</td><td>...</td><td>...</td><td>...</td><td>...</td><td>...</td><td>...</td><td>...</td><td>...</td><td>...</td><td>...</td><td>...</td><td>...</td></tr>\n",
       "<tr><td>157.9834303</td><td>40.1120591</td><td>NPM 1G+40.0223</td><td>ARX</td><td>12.99</td><td>15.85</td><td>p+m</td><td>1</td><td>1</td><td>0.069</td><td>PGC</td><td>DR16</td><td>100</td><td>4</td><td>4XMM J103155.7+400642</td><td>VLAJ103155.99+400643.3</td><td>ILDJ103156.02+400643.4</td><td>FIRST J103156.0+400643</td><td>47.65603734558231</td><td>2.9141377420804924e-06</td></tr>\n",
       "<tr><td>157.3713103</td><td>37.5032257</td><td>PGC 2102320</td><td>AR</td><td>15.39</td><td>16.99</td><td>p+G</td><td>1</td><td>1</td><td>0.056</td><td>PGC</td><td>DR16</td><td>100</td><td>1</td><td></td><td>ILTJ102929.12+373011.7</td><td></td><td></td><td>34.30035884042749</td><td>3.305644798589933e-06</td></tr>\n",
       "<tr><td>162.8570027</td><td>57.5955828</td><td>PGC 2568498</td><td>NRX</td><td>14.57</td><td>16.23</td><td>p+G</td><td>1</td><td>1</td><td>0.073</td><td>PGC</td><td>DR16</td><td>100</td><td>2</td><td>4XMM J105125.7+573543</td><td>ILTJ105125.67+573544.3</td><td></td><td></td><td>63.5125196121686</td><td>3.3557488912048582e-06</td></tr>\n",
       "<tr><td>161.8457</td><td>50.551246</td><td>SDSS J104722.96+503304.4</td><td>N</td><td>15.47</td><td>17.45</td><td>p+a</td><td>1</td><td>1</td><td>0.053</td><td>DR16</td><td>DR16</td><td>-32768</td><td>-32768</td><td></td><td></td><td></td><td></td><td>63.02813091094457</td><td>3.376798329288976e-06</td></tr>\n",
       "<tr><td>162.3578588</td><td>57.9059917</td><td>PGC 3095989</td><td>ARX</td><td>15.08</td><td>16.94</td><td>p+G</td><td>1</td><td>1</td><td>0.071</td><td>PGC</td><td>LOZAGN</td><td>100</td><td>24</td><td>2SXPS J104925.6+575421</td><td>ILTJ104925.85+575420.9</td><td>1WGA J1049.4+5754</td><td></td><td>61.244859594544586</td><td>3.649569682795912e-06</td></tr>\n",
       "<tr><td>162.5321714</td><td>55.4118895</td><td>SDSS J105007.73+552442.7</td><td>N</td><td>15.99</td><td>18.03</td><td>p+G</td><td>1</td><td>1</td><td>0.074</td><td>DR16</td><td>DR16</td><td>-32768</td><td>-32768</td><td></td><td></td><td></td><td></td><td>72.75542249949183</td><td>3.8080220821560587e-06</td></tr>\n",
       "<tr><td>159.1162334</td><td>44.8827084</td><td>SDSS J103627.88+445257.7</td><td>NR</td><td>12.4</td><td>17.0</td><td>p+G</td><td>1</td><td>-</td><td>0.076</td><td>DR16</td><td>DR16</td><td>67</td><td>0</td><td></td><td>ILTJ103627.79+445259.2</td><td></td><td></td><td>86.6783043229205</td><td>4.083041951956353e-06</td></tr>\n",
       "<tr><td>158.1841965</td><td>39.2229856</td><td>PGC 3095962</td><td>AR</td><td>15.07</td><td>16.64</td><td>paG</td><td>-</td><td>1</td><td>0.064</td><td>PGC</td><td>LOZAGN</td><td>100</td><td>1</td><td></td><td>ILTJ103244.20+391322.6</td><td></td><td></td><td>57.22446570949527</td><td>4.661301794027893e-06</td></tr>\n",
       "<tr><td>160.1472915</td><td>46.189889</td><td>SDSS J104035.35+461123.6</td><td>N</td><td>12.74</td><td>14.53</td><td>p+G</td><td>1</td><td>1</td><td>0.05</td><td>DR16</td><td>DR16</td><td>-32768</td><td>-32768</td><td></td><td></td><td></td><td></td><td>120.78365450145003</td><td>6.009397159125885e-06</td></tr>\n",
       "<tr><td>159.63926</td><td>46.9685435</td><td>PGC 2290168</td><td>AR</td><td>15.47</td><td>16.79</td><td>p+G</td><td>1</td><td>-</td><td>0.063</td><td>PGC</td><td>LOZAGN</td><td>99</td><td>1</td><td></td><td>ILTJ103833.40+465806.4</td><td></td><td></td><td>72.80030698580458</td><td>6.155998607040116e-06</td></tr>\n",
       "</table></div>"
      ],
      "text/plain": [
       "<Table length=819>\n",
       "     RA        DEC     ...    probdensity        probdensity_vol    \n",
       "  float64    float64   ...      float64              float64        \n",
       "----------- ---------- ... ------------------ ----------------------\n",
       "163.5943221 54.6495067 ...  7.304849396279818 1.8334231584772475e-62\n",
       "158.6620995 36.7373105 ...   7.62013023829516 1.3287882365632724e-60\n",
       "159.1616403 37.9418458 ... 7.6605288905677345  1.956973840763782e-56\n",
       "158.6583359  36.640336 ...  11.69907548645975 3.0157662803190284e-56\n",
       "157.6240861 33.4935095 ... 11.148184166645635  6.497317654424006e-56\n",
       " 157.938178 34.9705166 ... 19.510398249460863    5.6114287437244e-55\n",
       "158.1682458 35.7996333 ... 20.680208325546857  5.600502959417649e-52\n",
       "156.1918272 37.6156787 ...   7.08096561511651 1.7049026251854313e-51\n",
       "166.2203099 65.8545729 ...  7.051306698020806   5.69654043329635e-50\n",
       "165.9622917  65.840764 ...  8.172160028220578 1.1092643853650878e-49\n",
       "        ...        ... ...                ...                    ...\n",
       "157.9834303 40.1120591 ...  47.65603734558231 2.9141377420804924e-06\n",
       "157.3713103 37.5032257 ...  34.30035884042749  3.305644798589933e-06\n",
       "162.8570027 57.5955828 ...   63.5125196121686 3.3557488912048582e-06\n",
       "   161.8457  50.551246 ...  63.02813091094457  3.376798329288976e-06\n",
       "162.3578588 57.9059917 ... 61.244859594544586  3.649569682795912e-06\n",
       "162.5321714 55.4118895 ...  72.75542249949183 3.8080220821560587e-06\n",
       "159.1162334 44.8827084 ...   86.6783043229205  4.083041951956353e-06\n",
       "158.1841965 39.2229856 ...  57.22446570949527  4.661301794027893e-06\n",
       "160.1472915  46.189889 ... 120.78365450145003  6.009397159125885e-06\n",
       "  159.63926 46.9685435 ...  72.80030698580458  6.155998607040116e-06"
      ]
     },
     "execution_count": 314,
     "metadata": {},
     "output_type": "execute_result"
    }
   ],
   "source": [
    "some_table.group_by(\"probdensity_vol\")"
   ]
  }
 ],
 "metadata": {
  "kernelspec": {
   "display_name": "Python 3",
   "language": "python",
   "name": "python3"
  },
  "language_info": {
   "codemirror_mode": {
    "name": "ipython",
    "version": 3
   },
   "file_extension": ".py",
   "mimetype": "text/x-python",
   "name": "python",
   "nbconvert_exporter": "python",
   "pygments_lexer": "ipython3",
   "version": "3.9.13"
  }
 },
 "nbformat": 4,
 "nbformat_minor": 4
}
