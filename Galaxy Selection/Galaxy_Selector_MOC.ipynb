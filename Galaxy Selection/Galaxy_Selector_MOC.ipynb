{
 "cells": [
  {
   "cell_type": "markdown",
   "metadata": {
    "tags": []
   },
   "source": [
    "# Galaxy Selector MOC\n",
    "\n",
    "**Designed to work with Multi-Ordering-Sky-Maps and both burst (i.e. no distance) and normal LVK maps**\n",
    "\n",
    "\n",
    "\n",
    "Select the galaxies to observe by WWFI in this simple manner:\n",
    "- get the LIGO event data\n",
    "- read the LIGO event data into the notebook, extract some information\n",
    "- read the DESI database into the notebook, \"clean\" the data\n",
    "- get the 99% credible regions for the event, add them as a column to the data\n",
    "- only keep data within the 99% region\n",
    "- calculate all the luminosities (& more)\n",
    "- rank them by luminosity (for now just print the TARGETID), 3D/2D localization and with a luminosity-distance 2D dependant counterpart likelihood\n",
    "\n",
    "(some) Sources: \n",
    "- https://iopscience.iop.org/article/10.3847/0067-0049/226/1/10\n",
    "- https://emfollow.docs.ligo.org/userguide/tutorial/skymaps.html\n",
    "- https://emfollow.docs.ligo.org/userguide/tutorial/multiorder_skymaps.html\n",
    "- https://arxiv.org/pdf/1710.05452.pdf"
   ]
  },
  {
   "cell_type": "markdown",
   "metadata": {
    "tags": []
   },
   "source": [
    "## Import all libraries, load GW data and DESI data and extract basic info"
   ]
  },
  {
   "cell_type": "markdown",
   "metadata": {
    "tags": []
   },
   "source": [
    "### imports, GW data loading"
   ]
  },
  {
   "cell_type": "code",
   "execution_count": 1,
   "metadata": {},
   "outputs": [],
   "source": [
    "import numpy as np\n",
    "from scipy.stats import norm\n",
    "import scipy as sc\n",
    "from scipy.integrate import quad\n",
    "\n",
    "\n",
    "from astropy.io import fits, ascii\n",
    "from astropy.table import Table, hstack, QTable\n",
    "from astropy import table\n",
    "from astropy.coordinates import SkyCoord, EarthLocation, AltAz\n",
    "\n",
    "import astropy_healpix as ah\n",
    "\n",
    "\n",
    "import psycopg2\n",
    "\n",
    "from scipy.stats import norm\n",
    "\n",
    "from astropy.cosmology import FlatLambdaCDM\n",
    "from astropy.cosmology import Planck18, z_at_value\n",
    "from astropy.coordinates import Distance, SkyCoord\n",
    "from astropy import units as u\n",
    "\n",
    "import astropy.constants as asc\n",
    "\n",
    "import matplotlib.pyplot as plt\n",
    "\n",
    "import requests as rq\n",
    "\n",
    "import gasel as gs\n",
    "\n",
    "from datetime import datetime\n",
    "from datetime import timedelta\n",
    "from datetime import date\n",
    "from suntimes import SunTimes\n",
    "import pytz"
   ]
  },
  {
   "cell_type": "code",
   "execution_count": 71,
   "metadata": {},
   "outputs": [
    {
     "name": "stdout",
     "output_type": "stream",
     "text": [
      "(to get DESI data) you should run scp dgruen@perlmutter.nersc.gov:/pscratch/sd/j/jgassert/good_z_data.fits /project/ls-gruen/ligodesi/\n"
     ]
    }
   ],
   "source": [
    "# Get DESI data\n",
    "print(\"(to get DESI data) you should run scp dgruen@perlmutter.nersc.gov:/pscratch/sd/j/jgassert/good_z_data.fits /project/ls-gruen/ligodesi/\")\n",
    "\n",
    "# specify the superevent name:\n",
    "superevent_name = \"S230615az\"\n",
    "\n",
    "# pipeline - bayestar is preferred if available, otherwise maybe use olib? bilby? cwb? whatever these mean\n",
    "pipeline_type = \"\"\n",
    "\n",
    "if pipeline_type == \"cwb\":\n",
    "    # bursts probably only for very nearby core-collapse or Andromeda events, maybe cut at 1Mpc or something of that order? -> check if there is a very nearby galaxy\n",
    "        # think about which pipeline detected it!\n",
    "    # or very massive bbh but then hope is that cbc would detect as well\n",
    "    \n",
    "    modeled_search = False\n",
    "else:\n",
    "    modeled_search = True\n",
    "\n",
    "# storage directory\n",
    "# storage = \"/project/ls-gruen/ligodesi/\"\n",
    "# storage_desi_data = storage\n",
    "storage = \"/global/homes/j/jgassert/ligo-desi-gw-follow-up/Galaxy Selection/Files/\" # Julius on NERSC\n",
    "storage_desi_data = \"/pscratch/sd/j/jgassert/\""
   ]
  },
  {
   "cell_type": "code",
   "execution_count": null,
   "metadata": {},
   "outputs": [],
   "source": [
    "#https://gracedb.ligo.org/api/superevents/S230615az/files/bayestar.multiorder.fits,1"
   ]
  },
  {
   "cell_type": "code",
   "execution_count": 114,
   "metadata": {},
   "outputs": [
    {
     "name": "stdout",
     "output_type": "stream",
     "text": [
      "no local skymap...\n",
      "...will download LIGO event file from superevent S230615az, corresponding file URL is https://gracedb.ligo.org/api/superevents/S230615az/files/bayestar.multiorder.fits,1 and save it in .../Files/\n",
      "HTTP status 200\n"
     ]
    }
   ],
   "source": [
    "path = storage+f\"{superevent_name}{pipeline_type}bayestar.multiorder.fits,1\" # 5min after alert this should be there\n",
    "\n",
    "try:\n",
    "    skymap = QTable.read(path)\n",
    "    print(\"read skymap from local file\")\n",
    "    \n",
    "except:\n",
    "    download_url = f\"https://gracedb.ligo.org/api/superevents/{superevent_name}/files/{pipeline_type}bayestar.multiorder.fits,1\"\n",
    "    save_path = storage+f\"{superevent_name}{pipeline_type}bayestar.multiorder.fits,1\"\n",
    "    print(\"no local skymap...\")\n",
    "    print(f\"...will download LIGO event file from superevent {superevent_name}, corresponding file URL is {download_url} and save it in .../Files/\")\n",
    "    \n",
    "    response = rq.get(download_url, allow_redirects = True)\n",
    "    print(\"HTTP status\",response.status_code)\n",
    "    if response.status_code == 200:\n",
    "        with open(save_path, 'wb') as f:\n",
    "            f.write(response.content)\n",
    "            \n",
    "        skymap = QTable.read(path)"
   ]
  },
  {
   "cell_type": "markdown",
   "metadata": {},
   "source": [
    "Specifiy the path where the data is located and then load the data (this loads everything, just have a look)"
   ]
  },
  {
   "cell_type": "code",
   "execution_count": 115,
   "metadata": {},
   "outputs": [
    {
     "data": {
      "text/html": [
       "<div><i>QTable length=5</i>\n",
       "<table id=\"table140089603357136\" class=\"table-striped table-bordered table-condensed\">\n",
       "<thead><tr><th>UNIQ</th><th>PROBDENSITY</th><th>DISTMU</th><th>DISTSIGMA</th><th>DISTNORM</th></tr></thead>\n",
       "<thead><tr><th></th><th>1 / sr</th><th>Mpc</th><th>Mpc</th><th>1 / Mpc2</th></tr></thead>\n",
       "<thead><tr><th>int64</th><th>float64</th><th>float64</th><th>float64</th><th>float64</th></tr></thead>\n",
       "<tr><td>1024</td><td>4.494213008359787e-06</td><td>357.4233380557634</td><td>192.41949434763882</td><td>6.080714292753246e-06</td></tr>\n",
       "<tr><td>1025</td><td>3.0327401200355144e-06</td><td>424.24144133918253</td><td>168.08394311013473</td><td>4.803033677450678e-06</td></tr>\n",
       "<tr><td>1026</td><td>1.3523739182934652e-05</td><td>126.40965890446307</td><td>258.9128949586892</td><td>1.4567280350189281e-05</td></tr>\n",
       "<tr><td>1027</td><td>6.4229707372442904e-06</td><td>348.3592981966748</td><td>195.58298585867686</td><td>6.281631364500826e-06</td></tr>\n",
       "<tr><td>1028</td><td>2.2436585387286503e-06</td><td>461.7668633893357</td><td>152.99374391787646</td><td>4.22598406786833e-06</td></tr>\n",
       "</table></div>"
      ],
      "text/plain": [
       "<QTable length=5>\n",
       " UNIQ      PROBDENSITY       ...     DISTSIGMA             DISTNORM       \n",
       "              1 / sr         ...        Mpc                1 / Mpc2       \n",
       "int64        float64         ...      float64              float64        \n",
       "----- ---------------------- ... ------------------ ----------------------\n",
       " 1024  4.494213008359787e-06 ... 192.41949434763882  6.080714292753246e-06\n",
       " 1025 3.0327401200355144e-06 ... 168.08394311013473  4.803033677450678e-06\n",
       " 1026 1.3523739182934652e-05 ...  258.9128949586892 1.4567280350189281e-05\n",
       " 1027 6.4229707372442904e-06 ... 195.58298585867686  6.281631364500826e-06\n",
       " 1028 2.2436585387286503e-06 ... 152.99374391787646   4.22598406786833e-06"
      ]
     },
     "execution_count": 115,
     "metadata": {},
     "output_type": "execute_result"
    }
   ],
   "source": [
    "skymap[:5]"
   ]
  },
  {
   "cell_type": "markdown",
   "metadata": {
    "tags": []
   },
   "source": [
    "### Get basic values from GW event\n",
    "\n",
    "We now extract some basic information  from the healpix data:\n",
    "- ipix_max: pixel with highest likelihood\n",
    "- npix: total number of pixels\n",
    "- ra, dec: ra and dec of the pixel with the highest likelihood\n",
    "\n",
    "Then we open the full fits file and extract some more basic info from the header:\n",
    "- dist_mean: mean distance of the GW event\n",
    "- dist_std: error of the distance"
   ]
  },
  {
   "cell_type": "code",
   "execution_count": 116,
   "metadata": {},
   "outputs": [
    {
     "name": "stdout",
     "output_type": "stream",
     "text": [
      "UNIQ ID of highest prob sky localization:  3296663\n"
     ]
    }
   ],
   "source": [
    "# most probable sky location\n",
    "i = np.argmax(skymap[\"PROBDENSITY\"])\n",
    "uniq = skymap[i][\"UNIQ\"]\n",
    "print(\"UNIQ ID of highest prob sky localization: \", uniq)"
   ]
  },
  {
   "cell_type": "code",
   "execution_count": 117,
   "metadata": {},
   "outputs": [
    {
     "name": "stdout",
     "output_type": "stream",
     "text": [
      "Highest probability at (RA, dec):  34.33471933471934 -44.89496130928037 with prob [1/deg^2] of:  0.0036188541601637797 and UNIQ ID:  3296663\n"
     ]
    }
   ],
   "source": [
    "# calculate the most probable pixel, convert to RA and dec\n",
    "level_max, ipix_max = ah.uniq_to_level_ipix(uniq)\n",
    "nside = ah.level_to_nside(level_max)\n",
    "ra, dec = ah.healpix_to_lonlat(ipix_max, nside, order = \"nested\")\n",
    "print(\"Highest probability at (RA, dec): \", ra.deg, dec.deg, \"with prob [1/deg^2] of: \", skymap[i]['PROBDENSITY'].to_value(u.deg**-2), \"and UNIQ ID: \", skymap[i][\"UNIQ\"])"
   ]
  },
  {
   "cell_type": "markdown",
   "metadata": {},
   "source": [
    "Now open the fits file and read basics info from the header"
   ]
  },
  {
   "cell_type": "code",
   "execution_count": 118,
   "metadata": {},
   "outputs": [
    {
     "name": "stdout",
     "output_type": "stream",
     "text": [
      "The dist_mean and dist_std values:  259.9950962771754 Mpc 132.8691658441071 Mpc\n",
      "This corresponds to the most likely z 0.05629817815308225 redshift and its error 0.02933454514503346 redshift\n"
     ]
    }
   ],
   "source": [
    "if modeled_search:\n",
    "    fits_gw = fits.open(path)\n",
    "    header = fits_gw[1].header\n",
    "    dist_mean = header[\"DISTMEAN\"]\n",
    "    dist_std = header[\"DISTSTD\"]\n",
    "    print(\"The dist_mean and dist_std values: \", dist_mean*u.Mpc, dist_std*u.Mpc)\n",
    "    most_likely_z = z_at_value(Planck18.luminosity_distance, dist_mean*u.Mpc, zmax = 5)\n",
    "    most_likely_z_std = z_at_value(Planck18.luminosity_distance, dist_std*u.Mpc, zmax = 5)\n",
    "    print(f\"This corresponds to the most likely z {most_likely_z} and its error {most_likely_z_std}\")\n",
    "else:\n",
    "    print(\"As this is an unmodeled search there is no distance available\")"
   ]
  },
  {
   "cell_type": "markdown",
   "metadata": {
    "jp-MarkdownHeadingCollapsed": true,
    "tags": []
   },
   "source": [
    "### Get DESI data\n",
    "\n",
    "Load the full daily data from the file, which only includes good redshift objects"
   ]
  },
  {
   "cell_type": "code",
   "execution_count": 119,
   "metadata": {},
   "outputs": [],
   "source": [
    "follow_up_others = False"
   ]
  },
  {
   "cell_type": "code",
   "execution_count": 120,
   "metadata": {},
   "outputs": [],
   "source": [
    "if follow_up_others:\n",
    "    center_ra = 235.9839\n",
    "    center_dec = 15.2248\n",
    "    radius = 1/360\n",
    "    z_others = 0\n",
    "    z_others_std = 0.4\n",
    "    \n",
    "    sigma_accuracy = 3\n",
    "    \n",
    "    data = gs.db_doall(center_ra, center_dec, radius)\n",
    "    \n",
    "    #ii = data[\"Z\"]-sigma_accuracy*data[\"ZERR\"]<z_others+sigma_accuracy*z_others_std\n",
    "    #ii &= data[\"Z\"]+sigma_accuracy*data[\"ZERR\"]>z_others-sigma_accuracy*z_others_std\n",
    "    \n",
    "    #data = data[ii]\n",
    "    \n",
    "    \n",
    "else:\n",
    "    data = Table.read(storage_desi_data+\"good_z_data.fits\")"
   ]
  },
  {
   "cell_type": "code",
   "execution_count": 121,
   "metadata": {},
   "outputs": [
    {
     "data": {
      "text/html": [
       "<div><i>Table length=5</i>\n",
       "<table id=\"table140089604899408\" class=\"table-striped table-bordered table-condensed\">\n",
       "<thead><tr><th>TARGETID</th><th>TARGET_RA</th><th>TARGET_DEC</th><th>LASTNIGHT</th><th>Z</th><th>ZERR</th><th>ZWARN</th><th>FLUX_G</th><th>FLUX_R</th><th>FLUX_Z</th><th>SPECTYPE</th><th>BGS_TARGET</th><th>EBV</th><th>SERSIC</th></tr></thead>\n",
       "<thead><tr><th>int64</th><th>float64</th><th>float64</th><th>int64</th><th>float64</th><th>float64</th><th>int64</th><th>float64</th><th>float64</th><th>float64</th><th>bytes6</th><th>int64</th><th>float64</th><th>float64</th></tr></thead>\n",
       "<tr><td>-407206628</td><td>289.160148698913</td><td>63.8756777034092</td><td>20210513</td><td>0.488143245600312</td><td>6.00460085329576e-05</td><td>0</td><td>0.0</td><td>0.0</td><td>0.0</td><td>GALAXY</td><td>0</td><td>0.0</td><td>0.0</td></tr>\n",
       "<tr><td>-407206517</td><td>289.24523373072</td><td>64.1182126208345</td><td>20210513</td><td>0.353953432359517</td><td>9.16563620937551e-05</td><td>0</td><td>0.0</td><td>0.0</td><td>0.0</td><td>GALAXY</td><td>0</td><td>0.0</td><td>0.0</td></tr>\n",
       "<tr><td>-407206395</td><td>288.991137990503</td><td>64.4269390406163</td><td>20210513</td><td>1.04167986703249</td><td>0.000103598417102832</td><td>0</td><td>0.0</td><td>0.0</td><td>0.0</td><td>GALAXY</td><td>0</td><td>0.0</td><td>0.0</td></tr>\n",
       "<tr><td>-407206306</td><td>288.328820102558</td><td>64.8171915439228</td><td>20210513</td><td>0.446085744563991</td><td>0.000103302897346752</td><td>0</td><td>0.0</td><td>0.0</td><td>0.0</td><td>GALAXY</td><td>0</td><td>0.0</td><td>0.0</td></tr>\n",
       "<tr><td>-407206302</td><td>288.170414727353</td><td>64.8761951861955</td><td>20210513</td><td>5.11210896599966</td><td>0.000690663180059733</td><td>0</td><td>0.0</td><td>0.0</td><td>0.0</td><td>QSO</td><td>0</td><td>0.0</td><td>0.0</td></tr>\n",
       "</table></div>"
      ],
      "text/plain": [
       "<Table length=5>\n",
       " TARGETID     TARGET_RA        TARGET_DEC    ... BGS_TARGET   EBV    SERSIC\n",
       "  int64        float64          float64      ...   int64    float64 float64\n",
       "---------- ---------------- ---------------- ... ---------- ------- -------\n",
       "-407206628 289.160148698913 63.8756777034092 ...          0     0.0     0.0\n",
       "-407206517  289.24523373072 64.1182126208345 ...          0     0.0     0.0\n",
       "-407206395 288.991137990503 64.4269390406163 ...          0     0.0     0.0\n",
       "-407206306 288.328820102558 64.8171915439228 ...          0     0.0     0.0\n",
       "-407206302 288.170414727353 64.8761951861955 ...          0     0.0     0.0"
      ]
     },
     "execution_count": 121,
     "metadata": {},
     "output_type": "execute_result"
    }
   ],
   "source": [
    "data[:5]"
   ]
  },
  {
   "cell_type": "markdown",
   "metadata": {
    "tags": []
   },
   "source": [
    "## Do all the calculations, selections,...\n",
    "\n",
    "- turn the daily DESI data into a Table\n",
    "- do some basic data selection stuff: only keep good + positive redshifts, only positive values of r-band flux and eliminate duplicates (right now simply takes the first entry)\n",
    "- add the ipix (healpix) pixel value for each target\n",
    "- calculate the probability for each target\n",
    "- add these values to the Table (\"PROB\"), select only targets within the 99% credible region (i.e. with a certainty of 99% the GW event is inside this region)\n",
    "- calculate the distances and its errors from the redshift, add to the data table\n",
    "- calculate the 3D probability just like here: https://iopscience.iop.org/article/10.3847/0067-0049/226/1/10 (§4) and add these values to the table\n",
    "- sort the table by its 3D probability (descending)\n",
    "- calculate absolute and apparent magnitude, luminosity and add to table\n",
    "\n",
    "The final step is to include the calculation of the most likely host galaxy from https://arxiv.org/pdf/1710.05452.pdf (GW170817); these values are then also added to the table as \"P_GAL\""
   ]
  },
  {
   "cell_type": "code",
   "execution_count": 122,
   "metadata": {},
   "outputs": [
    {
     "data": {
      "text/html": [
       "<div><i>Table length=5</i>\n",
       "<table id=\"table140089604900368\" class=\"table-striped table-bordered table-condensed\">\n",
       "<thead><tr><th>TARGETID</th><th>TARGET_RA</th><th>TARGET_DEC</th><th>LASTNIGHT</th><th>Z</th><th>ZERR</th><th>ZWARN</th><th>FLUX_G</th><th>FLUX_R</th><th>FLUX_Z</th><th>SPECTYPE</th><th>BGS_TARGET</th><th>EBV</th><th>SERSIC</th></tr></thead>\n",
       "<thead><tr><th>int64</th><th>float64</th><th>float64</th><th>int64</th><th>float64</th><th>float64</th><th>int64</th><th>float64</th><th>float64</th><th>float64</th><th>bytes6</th><th>int64</th><th>float64</th><th>float64</th></tr></thead>\n",
       "<tr><td>-407206628</td><td>289.160148698913</td><td>63.8756777034092</td><td>20210513</td><td>0.488143245600312</td><td>6.00460085329576e-05</td><td>0</td><td>0.0</td><td>0.0</td><td>0.0</td><td>GALAXY</td><td>0</td><td>0.0</td><td>0.0</td></tr>\n",
       "<tr><td>-407206517</td><td>289.24523373072</td><td>64.1182126208345</td><td>20210513</td><td>0.353953432359517</td><td>9.16563620937551e-05</td><td>0</td><td>0.0</td><td>0.0</td><td>0.0</td><td>GALAXY</td><td>0</td><td>0.0</td><td>0.0</td></tr>\n",
       "<tr><td>-407206395</td><td>288.991137990503</td><td>64.4269390406163</td><td>20210513</td><td>1.04167986703249</td><td>0.000103598417102832</td><td>0</td><td>0.0</td><td>0.0</td><td>0.0</td><td>GALAXY</td><td>0</td><td>0.0</td><td>0.0</td></tr>\n",
       "<tr><td>-407206306</td><td>288.328820102558</td><td>64.8171915439228</td><td>20210513</td><td>0.446085744563991</td><td>0.000103302897346752</td><td>0</td><td>0.0</td><td>0.0</td><td>0.0</td><td>GALAXY</td><td>0</td><td>0.0</td><td>0.0</td></tr>\n",
       "<tr><td>-407206302</td><td>288.170414727353</td><td>64.8761951861955</td><td>20210513</td><td>5.11210896599966</td><td>0.000690663180059733</td><td>0</td><td>0.0</td><td>0.0</td><td>0.0</td><td>QSO</td><td>0</td><td>0.0</td><td>0.0</td></tr>\n",
       "</table></div>"
      ],
      "text/plain": [
       "<Table length=5>\n",
       " TARGETID     TARGET_RA        TARGET_DEC    ... BGS_TARGET   EBV    SERSIC\n",
       "  int64        float64          float64      ...   int64    float64 float64\n",
       "---------- ---------------- ---------------- ... ---------- ------- -------\n",
       "-407206628 289.160148698913 63.8756777034092 ...          0     0.0     0.0\n",
       "-407206517  289.24523373072 64.1182126208345 ...          0     0.0     0.0\n",
       "-407206395 288.991137990503 64.4269390406163 ...          0     0.0     0.0\n",
       "-407206306 288.328820102558 64.8171915439228 ...          0     0.0     0.0\n",
       "-407206302 288.170414727353 64.8761951861955 ...          0     0.0     0.0"
      ]
     },
     "execution_count": 122,
     "metadata": {},
     "output_type": "execute_result"
    }
   ],
   "source": [
    "data[:5]"
   ]
  },
  {
   "cell_type": "markdown",
   "metadata": {
    "jp-MarkdownHeadingCollapsed": true,
    "tags": []
   },
   "source": [
    "### data clean up"
   ]
  },
  {
   "cell_type": "code",
   "execution_count": 123,
   "metadata": {},
   "outputs": [],
   "source": [
    "#data = data[data[\"Z\"]> 0] # this migh have 2 reasons\n",
    "#data = data[data[\"ZWARN\"] == 0]"
   ]
  },
  {
   "cell_type": "code",
   "execution_count": 124,
   "metadata": {},
   "outputs": [],
   "source": [
    "#data = data[data['FLUX_Z']>0]\n",
    "# data = table.unique(data, keys = \"TARGETID\")"
   ]
  },
  {
   "cell_type": "code",
   "execution_count": 125,
   "metadata": {},
   "outputs": [],
   "source": [
    "data = data[data[\"TARGETID\"]>0]"
   ]
  },
  {
   "cell_type": "code",
   "execution_count": 126,
   "metadata": {},
   "outputs": [
    {
     "name": "stdout",
     "output_type": "stream",
     "text": [
      "We have 28139735 objects in the full catalog\n"
     ]
    }
   ],
   "source": [
    "print(f\"We have {len(data)} objects in the full catalog\")"
   ]
  },
  {
   "cell_type": "markdown",
   "metadata": {},
   "source": [
    "We should also get rid of stars, since they wont be the host of a GW event"
   ]
  },
  {
   "cell_type": "code",
   "execution_count": 127,
   "metadata": {},
   "outputs": [],
   "source": [
    "data = data[data[\"SPECTYPE\"] != \"STAR\"]"
   ]
  },
  {
   "cell_type": "markdown",
   "metadata": {
    "tags": []
   },
   "source": [
    "### Calculate the healpix id for every object in the catalog and its probability; append this data to the Table"
   ]
  },
  {
   "cell_type": "code",
   "execution_count": 128,
   "metadata": {},
   "outputs": [],
   "source": [
    "max_level = 29 # highest possible HEALPix resolution that can be represented in a 64-bit signed integer\n",
    "max_nside = ah.level_to_nside(max_level)\n",
    "level, ipix = ah.uniq_to_level_ipix(skymap[\"UNIQ\"])\n",
    "\n",
    "index = ipix*(2**(max_level-level))**2\n",
    "\n",
    "sorter = np.argsort(index)\n",
    "\n",
    "# this is the NESTED pixel index of the target sky location, NOT THE UNIQ ID\n",
    "match_ipix = ah.lonlat_to_healpix(data[\"TARGET_RA\"]*u.deg, data[\"TARGET_DEC\"]*u.deg, max_nside, order='nested')\n",
    "\n",
    "# here we get the pixel index (i.e. where the entry is in the table, also NOT THE UNIQ ID) of each target\n",
    "sorter_i = sorter[np.searchsorted(index, match_ipix, side='right', sorter=sorter) - 1]\n",
    "probdensity = skymap[sorter_i]['PROBDENSITY'].to_value(u.deg**-2)\n",
    "\n",
    "# now we calculate the UNIQ ID for all our targets:\n",
    "\n",
    "uniq = skymap[\"UNIQ\"][sorter_i]\n",
    "#to make things easier in future, I will now also append the UNIQ pixels DISTMU, DISTSIGMA and DISTNORM values. However, be careful, since these DO NOT CORRESPOND THE TARGETS IN DESI DIRECTLY!\n",
    "\n",
    "if modeled_search:\n",
    "    distmu = skymap[sorter_i][\"DISTMU\"]\n",
    "    distsigma = skymap[sorter_i][\"DISTSIGMA\"]\n",
    "    distnorm = skymap[sorter_i][\"DISTNORM\"]\n"
   ]
  },
  {
   "cell_type": "code",
   "execution_count": 129,
   "metadata": {},
   "outputs": [],
   "source": [
    "# len(UNIQ), len(data), len(skymap)"
   ]
  },
  {
   "cell_type": "code",
   "execution_count": 130,
   "metadata": {},
   "outputs": [],
   "source": [
    "#data = data.keep_columns([\"TARGETID\", \"TARGET_RA\", \"TARGET_DEC\", \"TILEID\", \"NIGHT\", \"Z\", \"ZERR\", \"ZWARN\", \"DELTACHI2\", \"FLUX_Z\", \"BGS_TARGET\", \"EBV\", \"SERSIC\", \"MWS_TARGET\", \"FILENAME\"])\n",
    "                          "
   ]
  },
  {
   "cell_type": "code",
   "execution_count": 131,
   "metadata": {},
   "outputs": [],
   "source": [
    "if modeled_search:\n",
    "    data = hstack([data, Table({\"UNIQ\": uniq}), Table({\"PROBDENSITY\": probdensity}), Table({\"DISTMU\": distmu}), Table({\"DISTSIGMA\": distsigma}), Table({\"DISTNORM\": distnorm})])\n",
    "else: \n",
    "    data = hstack([data, Table({\"UNIQ\": uniq}), Table({\"PROBDENSITY\": probdensity})])\n",
    "    print(f\"The table will not contain any distance info since there is none available\")"
   ]
  },
  {
   "cell_type": "code",
   "execution_count": 132,
   "metadata": {},
   "outputs": [
    {
     "data": {
      "text/html": [
       "<div><i>Table length=5</i>\n",
       "<table id=\"table140089601550480\" class=\"table-striped table-bordered table-condensed\">\n",
       "<thead><tr><th>TARGETID</th><th>TARGET_RA</th><th>TARGET_DEC</th><th>LASTNIGHT</th><th>Z</th><th>ZERR</th><th>ZWARN</th><th>FLUX_G</th><th>FLUX_R</th><th>FLUX_Z</th><th>SPECTYPE</th><th>BGS_TARGET</th><th>EBV</th><th>SERSIC</th><th>UNIQ</th><th>PROBDENSITY</th><th>DISTMU</th><th>DISTSIGMA</th><th>DISTNORM</th></tr></thead>\n",
       "<thead><tr><th></th><th></th><th></th><th></th><th></th><th></th><th></th><th></th><th></th><th></th><th></th><th></th><th></th><th></th><th></th><th></th><th>Mpc</th><th>Mpc</th><th>1 / Mpc2</th></tr></thead>\n",
       "<thead><tr><th>int64</th><th>float64</th><th>float64</th><th>int64</th><th>float64</th><th>float64</th><th>int64</th><th>float64</th><th>float64</th><th>float64</th><th>bytes6</th><th>int64</th><th>float64</th><th>float64</th><th>int64</th><th>float64</th><th>float64</th><th>float64</th><th>float64</th></tr></thead>\n",
       "<tr><td>6448025174016</td><td>179.15657</td><td>28.4234799</td><td>20210318</td><td>0.0221933367215889</td><td>9.68081653157043e-06</td><td>0</td><td>0.0</td><td>0.0</td><td>0.0</td><td>GALAXY</td><td>0</td><td>0.0</td><td>0.0</td><td>179448</td><td>0.0004363704291811904</td><td>-156.7863599888427</td><td>144.93039893145368</td><td>0.0007589722781558131</td></tr>\n",
       "<tr><td>6521555517440</td><td>204.22749</td><td>32.09493</td><td>20210404</td><td>0.3238872170838</td><td>2.72909868562699e-05</td><td>0</td><td>0.0</td><td>0.0</td><td>0.0</td><td>GALAXY</td><td>0</td><td>0.0</td><td>0.0</td><td>1676</td><td>9.708388692218416e-09</td><td>inf</td><td>1.0</td><td>0.0</td></tr>\n",
       "<tr><td>6536638234624</td><td>186.274119</td><td>32.84503</td><td>20210402</td><td>0.0764062738003505</td><td>1.47657330826664e-05</td><td>0</td><td>0.0</td><td>0.0</td><td>0.0</td><td>GALAXY</td><td>0</td><td>0.0</td><td>0.0</td><td>2807</td><td>2.2589833967206774e-06</td><td>-299.3570205035193</td><td>85.02831353019855</td><td>5.397779086727283</td></tr>\n",
       "<tr><td>45803351579259</td><td>198.2176891</td><td>18.3113961</td><td>20210316</td><td>1.49911242224797</td><td>3.38509589473939e-05</td><td>0</td><td>0.0</td><td>0.0</td><td>0.0</td><td>GALAXY</td><td>0</td><td>0.0</td><td>0.0</td><td>2773</td><td>2.6713434661806366e-07</td><td>inf</td><td>1.0</td><td>0.0</td></tr>\n",
       "<tr><td>46523089944591</td><td>258.5210502</td><td>56.1317935</td><td>20210409</td><td>1.62639091480193</td><td>0.000120044446065552</td><td>0</td><td>0.0</td><td>0.0</td><td>0.0</td><td>GALAXY</td><td>0</td><td>0.0</td><td>0.0</td><td>1660</td><td>5.944874319706266e-08</td><td>33.43791455898353</td><td>203.71303176913185</td><td>3.735817798135282e-05</td></tr>\n",
       "</table></div>"
      ],
      "text/plain": [
       "<Table length=5>\n",
       "   TARGETID     TARGET_RA  ...     DISTSIGMA             DISTNORM      \n",
       "                           ...        Mpc                1 / Mpc2      \n",
       "    int64        float64   ...      float64              float64       \n",
       "-------------- ----------- ... ------------------ ---------------------\n",
       " 6448025174016   179.15657 ... 144.93039893145368 0.0007589722781558131\n",
       " 6521555517440   204.22749 ...                1.0                   0.0\n",
       " 6536638234624  186.274119 ...  85.02831353019855     5.397779086727283\n",
       "45803351579259 198.2176891 ...                1.0                   0.0\n",
       "46523089944591 258.5210502 ... 203.71303176913185 3.735817798135282e-05"
      ]
     },
     "execution_count": 132,
     "metadata": {},
     "output_type": "execute_result"
    }
   ],
   "source": [
    "data[:5]"
   ]
  },
  {
   "cell_type": "code",
   "execution_count": 133,
   "metadata": {},
   "outputs": [
    {
     "name": "stdout",
     "output_type": "stream",
     "text": [
      "The highest and lowest probability values in our catalog are: 0.0008576657132282443 and 3.2019490507352745e-10\n"
     ]
    }
   ],
   "source": [
    "print(f\"The highest and lowest probability values in our catalog are: {np.max(probdensity)} and {np.min(probdensity)}\")"
   ]
  },
  {
   "cell_type": "markdown",
   "metadata": {
    "tags": []
   },
   "source": [
    "### Sort the skymap table and get 99% credible region"
   ]
  },
  {
   "cell_type": "code",
   "execution_count": 134,
   "metadata": {},
   "outputs": [],
   "source": [
    "# copy the table\n",
    "skymap_sort = Table(skymap, copy = True)"
   ]
  },
  {
   "cell_type": "code",
   "execution_count": 135,
   "metadata": {},
   "outputs": [],
   "source": [
    "# check whether copy worked:\n",
    "# skymap_sort, skymap\n",
    "# np.max(skymap[\"UNIQ\"])"
   ]
  },
  {
   "cell_type": "code",
   "execution_count": 136,
   "metadata": {},
   "outputs": [],
   "source": [
    "# now sort the skymap by its probability (descending)\n",
    "skymap_sort.sort('PROBDENSITY', reverse=True)"
   ]
  },
  {
   "cell_type": "code",
   "execution_count": 137,
   "metadata": {},
   "outputs": [
    {
     "data": {
      "text/html": [
       "<div><i>Table length=5</i>\n",
       "<table id=\"table140093105597760\" class=\"table-striped table-bordered table-condensed\">\n",
       "<thead><tr><th>UNIQ</th><th>PROBDENSITY</th><th>DISTMU</th><th>DISTSIGMA</th><th>DISTNORM</th></tr></thead>\n",
       "<thead><tr><th></th><th>1 / sr</th><th>Mpc</th><th>Mpc</th><th>1 / Mpc2</th></tr></thead>\n",
       "<thead><tr><th>int64</th><th>float64</th><th>float64</th><th>float64</th><th>float64</th></tr></thead>\n",
       "<tr><td>3296663</td><td>11.87999741675207</td><td>26.432586492965683</td><td>7.521529825408736</td><td>0.001324058654942098</td></tr>\n",
       "<tr><td>3296707</td><td>11.869495466672152</td><td>26.421851737531025</td><td>7.546418712798706</td><td>0.0013243961291602175</td></tr>\n",
       "<tr><td>3296669</td><td>11.849390395632625</td><td>26.625119183644046</td><td>7.58508329434219</td><td>0.00130475243628804</td></tr>\n",
       "<tr><td>3296706</td><td>11.74837748291599</td><td>26.205275677579152</td><td>7.485508160546666</td><td>0.001346352118301041</td></tr>\n",
       "<tr><td>3296712</td><td>11.6272934018087</td><td>26.404201534226317</td><td>7.559468663099397</td><td>0.0013256871590706088</td></tr>\n",
       "</table></div>"
      ],
      "text/plain": [
       "<Table length=5>\n",
       "  UNIQ     PROBDENSITY     ...     DISTSIGMA            DISTNORM      \n",
       "              1 / sr       ...        Mpc               1 / Mpc2      \n",
       " int64       float64       ...      float64             float64       \n",
       "------- ------------------ ... ----------------- ---------------------\n",
       "3296663  11.87999741675207 ... 7.521529825408736  0.001324058654942098\n",
       "3296707 11.869495466672152 ... 7.546418712798706 0.0013243961291602175\n",
       "3296669 11.849390395632625 ...  7.58508329434219   0.00130475243628804\n",
       "3296706  11.74837748291599 ... 7.485508160546666  0.001346352118301041\n",
       "3296712   11.6272934018087 ... 7.559468663099397 0.0013256871590706088"
      ]
     },
     "execution_count": 137,
     "metadata": {},
     "output_type": "execute_result"
    }
   ],
   "source": [
    "# this shows the first entries sorted be their probability\n",
    "skymap_sort[:5]"
   ]
  },
  {
   "cell_type": "code",
   "execution_count": 138,
   "metadata": {},
   "outputs": [
    {
     "name": "stdout",
     "output_type": "stream",
     "text": [
      "The 99% search area is 10591.885802564928°large\n"
     ]
    }
   ],
   "source": [
    "# now get 99% credible region area\n",
    "\n",
    "level, ipix = ah.uniq_to_level_ipix(skymap_sort['UNIQ'])\n",
    "pixel_area = ah.nside_to_pixel_area(ah.level_to_nside(level)) # this is the area each pixel contains\n",
    "\n",
    "# calculate the probability per pixel (careful: since the pixels differ in size, this is not neceseraliy a useful quantity\n",
    "prob = pixel_area * skymap_sort['PROBDENSITY']\n",
    "\n",
    "# calc cumsum of probabilities and get index of pixel that sums up to 0.99\n",
    "cumprob = np.cumsum(prob)\n",
    "i = cumprob.searchsorted(0.99)\n",
    "\n",
    "# print area\n",
    "area_99 = pixel_area[:i].sum()\n",
    "area_99_deg = area_99.to_value(u.deg**2)\n",
    "print(f\"The 99% search area is {area_99_deg}°large\")"
   ]
  },
  {
   "cell_type": "markdown",
   "metadata": {
    "jp-MarkdownHeadingCollapsed": true,
    "tags": []
   },
   "source": [
    "### can be deleted, just tried things out"
   ]
  },
  {
   "cell_type": "code",
   "execution_count": 139,
   "metadata": {},
   "outputs": [],
   "source": [
    "skymap_sort = hstack([skymap_sort, Table({\"PROB\": prob})])"
   ]
  },
  {
   "cell_type": "code",
   "execution_count": 140,
   "metadata": {},
   "outputs": [
    {
     "data": {
      "text/latex": [
       "$0.00012817937 \\; \\mathrm{}$"
      ],
      "text/plain": [
       "<Quantity 0.00012818>"
      ]
     },
     "execution_count": 140,
     "metadata": {},
     "output_type": "execute_result"
    }
   ],
   "source": [
    "np.max(prob)"
   ]
  },
  {
   "cell_type": "code",
   "execution_count": 141,
   "metadata": {},
   "outputs": [
    {
     "data": {
      "text/html": [
       "<div><i>Table length=5</i>\n",
       "<table id=\"table140089604908816\" class=\"table-striped table-bordered table-condensed\">\n",
       "<thead><tr><th>UNIQ</th><th>PROBDENSITY</th><th>DISTMU</th><th>DISTSIGMA</th><th>DISTNORM</th><th>PROB</th></tr></thead>\n",
       "<thead><tr><th></th><th>1 / sr</th><th>Mpc</th><th>Mpc</th><th>1 / Mpc2</th><th></th></tr></thead>\n",
       "<thead><tr><th>int64</th><th>float64</th><th>float64</th><th>float64</th><th>float64</th><th>float64</th></tr></thead>\n",
       "<tr><td>3296663</td><td>11.87999741675207</td><td>26.432586492965683</td><td>7.521529825408736</td><td>0.001324058654942098</td><td>4.7457520305803965e-05</td></tr>\n",
       "<tr><td>3296707</td><td>11.869495466672152</td><td>26.421851737531025</td><td>7.546418712798706</td><td>0.0013243961291602175</td><td>4.7415567728569776e-05</td></tr>\n",
       "<tr><td>3296669</td><td>11.849390395632625</td><td>26.625119183644046</td><td>7.58508329434219</td><td>0.00130475243628804</td><td>4.733525316421115e-05</td></tr>\n",
       "<tr><td>3296706</td><td>11.74837748291599</td><td>26.205275677579152</td><td>7.485508160546666</td><td>0.001346352118301041</td><td>4.693173267609738e-05</td></tr>\n",
       "<tr><td>3296712</td><td>11.6272934018087</td><td>26.404201534226317</td><td>7.559468663099397</td><td>0.0013256871590706088</td><td>4.644803305594798e-05</td></tr>\n",
       "</table></div>"
      ],
      "text/plain": [
       "<Table length=5>\n",
       "  UNIQ     PROBDENSITY     ...        DISTNORM                PROB         \n",
       "              1 / sr       ...        1 / Mpc2                             \n",
       " int64       float64       ...        float64               float64        \n",
       "------- ------------------ ... --------------------- ----------------------\n",
       "3296663  11.87999741675207 ...  0.001324058654942098 4.7457520305803965e-05\n",
       "3296707 11.869495466672152 ... 0.0013243961291602175 4.7415567728569776e-05\n",
       "3296669 11.849390395632625 ...   0.00130475243628804  4.733525316421115e-05\n",
       "3296706  11.74837748291599 ...  0.001346352118301041  4.693173267609738e-05\n",
       "3296712   11.6272934018087 ... 0.0013256871590706088  4.644803305594798e-05"
      ]
     },
     "execution_count": 141,
     "metadata": {},
     "output_type": "execute_result"
    }
   ],
   "source": [
    "skymap_sort[:5]"
   ]
  },
  {
   "cell_type": "code",
   "execution_count": 142,
   "metadata": {},
   "outputs": [],
   "source": [
    "skymap_prob = Table(skymap_sort, copy = True)"
   ]
  },
  {
   "cell_type": "code",
   "execution_count": 143,
   "metadata": {},
   "outputs": [],
   "source": [
    "skymap_prob.sort(\"PROB\", reverse = True)"
   ]
  },
  {
   "cell_type": "code",
   "execution_count": 144,
   "metadata": {},
   "outputs": [
    {
     "data": {
      "text/html": [
       "<div><i>Table length=5</i>\n",
       "<table id=\"table140089604911360\" class=\"table-striped table-bordered table-condensed\">\n",
       "<thead><tr><th>UNIQ</th><th>PROBDENSITY</th><th>DISTMU</th><th>DISTSIGMA</th><th>DISTNORM</th><th>PROB</th></tr></thead>\n",
       "<thead><tr><th></th><th>1 / sr</th><th>Mpc</th><th>Mpc</th><th>1 / Mpc2</th><th></th></tr></thead>\n",
       "<thead><tr><th>int64</th><th>float64</th><th>float64</th><th>float64</th><th>float64</th><th>float64</th></tr></thead>\n",
       "<tr><td>86515</td><td>2.0054390280572965</td><td>148.81350776178672</td><td>90.42593255041822</td><td>3.3118330722347325e-05</td><td>0.0001281793725131644</td></tr>\n",
       "<tr><td>86922</td><td>2.005383834047581</td><td>194.1937026739773</td><td>85.49459872356847</td><td>2.2221187543686333e-05</td><td>0.00012817584474022648</td></tr>\n",
       "<tr><td>22915</td><td>0.5013453914902531</td><td>176.36964930107513</td><td>165.3437606268817</td><td>1.7645938309548255e-05</td><td>0.00012817569977350895</td></tr>\n",
       "<tr><td>88153</td><td>2.005362222606417</td><td>200.6993302398887</td><td>89.02397994999468</td><td>2.075359857362324e-05</td><td>0.0001281744634262455</td></tr>\n",
       "<tr><td>86362</td><td>2.0046873293645873</td><td>172.83143196958883</td><td>76.72342669206282</td><td>2.7978722385495994e-05</td><td>0.00012813132704012713</td></tr>\n",
       "</table></div>"
      ],
      "text/plain": [
       "<Table length=5>\n",
       " UNIQ    PROBDENSITY     ...        DISTNORM                 PROB         \n",
       "            1 / sr       ...        1 / Mpc2                              \n",
       "int64      float64       ...        float64                float64        \n",
       "----- ------------------ ... ---------------------- ----------------------\n",
       "86515 2.0054390280572965 ... 3.3118330722347325e-05  0.0001281793725131644\n",
       "86922  2.005383834047581 ... 2.2221187543686333e-05 0.00012817584474022648\n",
       "22915 0.5013453914902531 ... 1.7645938309548255e-05 0.00012817569977350895\n",
       "88153  2.005362222606417 ...  2.075359857362324e-05  0.0001281744634262455\n",
       "86362 2.0046873293645873 ... 2.7978722385495994e-05 0.00012813132704012713"
      ]
     },
     "execution_count": 144,
     "metadata": {},
     "output_type": "execute_result"
    }
   ],
   "source": [
    "skymap_prob[:5]"
   ]
  },
  {
   "cell_type": "markdown",
   "metadata": {
    "tags": []
   },
   "source": [
    "### Compare Tables, only leave 99% credible region in DESI data table\n",
    "\n",
    "Now we can get a Table that only contains the 99% credible region. From there we only leave the matching objects in the DESI data"
   ]
  },
  {
   "cell_type": "code",
   "execution_count": 145,
   "metadata": {},
   "outputs": [],
   "source": [
    "# we simply select only the entries that are within the 99% credible region\n",
    "skymap_99 = skymap_sort[:i]"
   ]
  },
  {
   "cell_type": "code",
   "execution_count": 146,
   "metadata": {},
   "outputs": [
    {
     "name": "stdout",
     "output_type": "stream",
     "text": [
      "This is the number of UNIQ ID of objects which should lie within the 99% credible region (NOT THE NUMBER OF OBJECTS, as there can be multiple objects per UNIQ ID): 11151\n"
     ]
    }
   ],
   "source": [
    "print(\"This is the number of UNIQ ID of objects which should lie within the 99% credible region (NOT THE NUMBER OF OBJECTS, as there can be multiple objects per UNIQ ID):\", len(np.intersect1d(skymap_99[\"UNIQ\"], data[\"UNIQ\"])))"
   ]
  },
  {
   "cell_type": "code",
   "execution_count": 147,
   "metadata": {},
   "outputs": [],
   "source": [
    "mask = np.in1d(data[\"UNIQ\"], skymap_99[\"UNIQ\"])\n",
    "data_99 = data[mask]"
   ]
  },
  {
   "cell_type": "code",
   "execution_count": 148,
   "metadata": {},
   "outputs": [
    {
     "name": "stdout",
     "output_type": "stream",
     "text": [
      "We now have 7029670 objects in the 99% credible region\n",
      "Check if the region from where the galaxies have been selected makes any sense (RA; DEC):  51.1557361568372 323.405920250309 -21.9997270654372 49.674954166623\n",
      "We can also check whether we have at least one galaxy in the UNIQ pixel with the highest probability from LIGO...\n",
      "This is False\n"
     ]
    }
   ],
   "source": [
    "print(f\"We now have {len(data_99)} objects in the 99% credible region\")\n",
    "print(\"Check if the region from where the galaxies have been selected makes any sense (RA; DEC): \", np.min(data_99[\"TARGET_RA\"]), np.max(data_99[\"TARGET_RA\"]), np.min(data_99[\"TARGET_DEC\"]), np.max(data_99[\"TARGET_DEC\"]))\n",
    "\n",
    "max_probdens_in_desi = np.max(data_99[\"PROBDENSITY\"])\n",
    "max_probdens_in_ligo = np.max(skymap[\"PROBDENSITY\"]).to_value(u.deg**-2)\n",
    "print(f\"We can also check whether we have at least one galaxy in the UNIQ pixel with the highest probability from LIGO...\")\n",
    "print(f\"This is {np.allclose(max_probdens_in_desi, max_probdens_in_ligo)}\")"
   ]
  },
  {
   "cell_type": "code",
   "execution_count": 149,
   "metadata": {},
   "outputs": [],
   "source": [
    "data_99.sort('PROBDENSITY', reverse=True)"
   ]
  },
  {
   "cell_type": "code",
   "execution_count": 150,
   "metadata": {},
   "outputs": [
    {
     "data": {
      "text/html": [
       "<div><i>Table length=2</i>\n",
       "<table id=\"table140089602235056\" class=\"table-striped table-bordered table-condensed\">\n",
       "<thead><tr><th>TARGETID</th><th>TARGET_RA</th><th>TARGET_DEC</th><th>LASTNIGHT</th><th>Z</th><th>ZERR</th><th>ZWARN</th><th>FLUX_G</th><th>FLUX_R</th><th>FLUX_Z</th><th>SPECTYPE</th><th>BGS_TARGET</th><th>EBV</th><th>SERSIC</th><th>UNIQ</th><th>PROBDENSITY</th><th>DISTMU</th><th>DISTSIGMA</th><th>DISTNORM</th></tr></thead>\n",
       "<thead><tr><th></th><th></th><th></th><th></th><th></th><th></th><th></th><th></th><th></th><th></th><th></th><th></th><th></th><th></th><th></th><th></th><th>Mpc</th><th>Mpc</th><th>1 / Mpc2</th></tr></thead>\n",
       "<thead><tr><th>int64</th><th>float64</th><th>float64</th><th>int64</th><th>float64</th><th>float64</th><th>int64</th><th>float64</th><th>float64</th><th>float64</th><th>bytes6</th><th>int64</th><th>float64</th><th>float64</th><th>int64</th><th>float64</th><th>float64</th><th>float64</th><th>float64</th></tr></thead>\n",
       "<tr><td>39628244776912784</td><td>192.502785350435</td><td>19.3695151768512</td><td>20230424</td><td>0.18825239077838</td><td>2.01223259520298e-05</td><td>0</td><td>14.6489696502686</td><td>34.9538993835449</td><td>65.0707473754883</td><td>GALAXY</td><td>131074</td><td>0.019099548459053</td><td>0.771337568759918</td><td>710309</td><td>0.0008576657132282443</td><td>12.430217778967325</td><td>29.784223400234435</td><td>0.0012125580429628534</td></tr>\n",
       "<tr><td>39628250485359066</td><td>192.462707209258</td><td>19.5083937259968</td><td>20230424</td><td>0.188757208528316</td><td>1.13820059304824e-05</td><td>0</td><td>18.7137088775635</td><td>44.107120513916</td><td>89.8845596313477</td><td>GALAXY</td><td>131074</td><td>0.0205950066447258</td><td>1.32415270805359</td><td>710309</td><td>0.0008576657132282443</td><td>12.430217778967325</td><td>29.784223400234435</td><td>0.0012125580429628534</td></tr>\n",
       "</table></div>"
      ],
      "text/plain": [
       "<Table length=2>\n",
       "     TARGETID        TARGET_RA     ...     DISTSIGMA             DISTNORM      \n",
       "                                   ...        Mpc                1 / Mpc2      \n",
       "      int64           float64      ...      float64              float64       \n",
       "----------------- ---------------- ... ------------------ ---------------------\n",
       "39628244776912784 192.502785350435 ... 29.784223400234435 0.0012125580429628534\n",
       "39628250485359066 192.462707209258 ... 29.784223400234435 0.0012125580429628534"
      ]
     },
     "execution_count": 150,
     "metadata": {},
     "output_type": "execute_result"
    }
   ],
   "source": [
    "data_99[:2]"
   ]
  },
  {
   "cell_type": "code",
   "execution_count": 151,
   "metadata": {},
   "outputs": [
    {
     "name": "stdout",
     "output_type": "stream",
     "text": [
      "We have now performed all the necessary steps to get the localization selection in 2D, i.e. the angle on the sky\n",
      "However, we have not used the distance data at all. Therefore our redshifts range from 1.30753926883807e-09 to 6.87848897451193\n"
     ]
    }
   ],
   "source": [
    "if modeled_search:\n",
    "    print(\"We have now performed all the necessary steps to get the localization selection in 2D, i.e. the angle on the sky\")\n",
    "    min_z = np.min(data_99[\"Z\"])\n",
    "    max_z = np.max(data_99[\"Z\"])\n",
    "    print(f\"However, we have not used the distance data at all. Therefore our redshifts range from {min_z} to {max_z}\")\n",
    "else:\n",
    "    print(f\"Usually we would be performing steps to cut out objects that don't meet the z-range/distance from LIGO, since there is no distance, we - at least for now include everything!\")"
   ]
  },
  {
   "cell_type": "markdown",
   "metadata": {
    "tags": []
   },
   "source": [
    "### Calculate all the distances of the objects from the redshifts\n",
    "\n",
    "We want to be conservative in estimating the distance from redshifts, therefore we will include different cosmologies.\n",
    "\n",
    "Our cosmologies include:\n",
    "- H0 = 68.20 ± 0.81 km s−1Mpc−1, from eBOSS https://arxiv.org/pdf/2007.08991.pdf\n",
    "- DES Y3 https://arxiv.org/abs/2105.13549\n",
    "- SH0ES https://pantheonplussh0es.github.io/\n",
    "\n",
    "Now we calculate the arithmetic mean of our distances and its standard deviation:\n",
    "$$distances_{mean} = \\frac{dist(z_{cosmo_{max}})+dist(z_{cosmo_{min}})}{2}$$\n",
    "and accordingly the standard deviation (n=2):\n",
    "$$\\sigma = \\sqrt{\\frac{1}{n-1}\\sum\\left(dist_i-distances_{mean}\\right)^2}$$\n"
   ]
  },
  {
   "cell_type": "code",
   "execution_count": 152,
   "metadata": {},
   "outputs": [],
   "source": [
    "#distances = Distance(z=data_99[\"Z\"], cosmology=Planck18)\n",
    "#distances_err = Distance(z=data_99[\"ZERR\"], cosmology=Planck18)"
   ]
  },
  {
   "cell_type": "code",
   "execution_count": 153,
   "metadata": {},
   "outputs": [],
   "source": [
    "if modeled_search:\n",
    "    # first define the cosmological maximum and minimum parameters\n",
    "    omega_M_max = 0.339+0.032 #(from DES)\n",
    "    omega_M_min = 0.299-2*0.016 #from eBOSS\n",
    "\n",
    "    H_0_max = 73.04+2*1.04 #from SH0ES\n",
    "    H_0_min = 67.4-2*0.5 #from Planck\n",
    "    \n",
    "    # then calculate min and max luminosity distance from the redshifts\n",
    "    cosmo_min_dist = FlatLambdaCDM(H0=H_0_max, Om0=omega_M_max)\n",
    "    cosmo_max_dist = FlatLambdaCDM(H0=H_0_min, Om0=omega_M_min)\n",
    "\n",
    "    dists_max = Distance(z=data_99[\"Z\"], cosmology=cosmo_max_dist)\n",
    "    dists_min = Distance(z=data_99[\"Z\"], cosmology=cosmo_min_dist)\n",
    "    \n",
    "    # and of course also calculate the maximum and minimum error from the redshfit uncertainty\n",
    "    dists_err_min = Distance(z=data_99[\"ZERR\"], cosmology=cosmo_max_dist)\n",
    "    dists_err_max = Distance(z=data_99[\"ZERR\"], cosmology=cosmo_min_dist)\n",
    "    \n",
    "    # now we get the mean distance and its error\n",
    "    dists_mean = (dists_max+dists_min)/2\n",
    "    dists_err_mean = (dists_err_max+dists_err_min)/2  # this is our sigma for the redshift error\n",
    "    \n",
    "    # calculate the stdev of the distance depending on the cosmology\n",
    "    dists_mean_stddev = np.sqrt((dists_max-dists_mean)**2+(dists_min-dists_mean)**2)\n",
    "    \n",
    "    # now stack all the data\n",
    "    data_99 = hstack([data_99, Table({\"DIST_Z_MEAN\": dists_mean}), Table({\"DIST_Z_ERR\": dists_err_mean}), Table({\"DIST_Z_COSMO_SIGMA\": dists_mean_stddev})])"
   ]
  },
  {
   "cell_type": "code",
   "execution_count": 154,
   "metadata": {},
   "outputs": [],
   "source": [
    "# dists_mean[:5], dists_mean_stddev[:5], dists_mean_stddev[:5]/dists_mean[:5], np.mean(dists_mean_stddev/dists_mean), np.max(dists_mean_stddev/dists_mean), np.min(dists_mean_stddev/dists_mean)\n"
   ]
  },
  {
   "cell_type": "code",
   "execution_count": 155,
   "metadata": {},
   "outputs": [
    {
     "data": {
      "text/html": [
       "<div><i>Table length=5</i>\n",
       "<table id=\"table140093106012704\" class=\"table-striped table-bordered table-condensed\">\n",
       "<thead><tr><th>TARGETID</th><th>TARGET_RA</th><th>TARGET_DEC</th><th>LASTNIGHT</th><th>Z</th><th>ZERR</th><th>ZWARN</th><th>FLUX_G</th><th>FLUX_R</th><th>FLUX_Z</th><th>SPECTYPE</th><th>BGS_TARGET</th><th>EBV</th><th>SERSIC</th><th>UNIQ</th><th>PROBDENSITY</th><th>DISTMU</th><th>DISTSIGMA</th><th>DISTNORM</th><th>DIST_Z_MEAN</th><th>DIST_Z_ERR</th><th>DIST_Z_COSMO_SIGMA</th></tr></thead>\n",
       "<thead><tr><th></th><th></th><th></th><th></th><th></th><th></th><th></th><th></th><th></th><th></th><th></th><th></th><th></th><th></th><th></th><th></th><th>Mpc</th><th>Mpc</th><th>1 / Mpc2</th><th>Mpc</th><th>Mpc</th><th>Mpc</th></tr></thead>\n",
       "<thead><tr><th>int64</th><th>float64</th><th>float64</th><th>int64</th><th>float64</th><th>float64</th><th>int64</th><th>float64</th><th>float64</th><th>float64</th><th>bytes6</th><th>int64</th><th>float64</th><th>float64</th><th>int64</th><th>float64</th><th>float64</th><th>float64</th><th>float64</th><th>float64</th><th>float64</th><th>float64</th></tr></thead>\n",
       "<tr><td>39628244776912784</td><td>192.502785350435</td><td>19.3695151768512</td><td>20230424</td><td>0.18825239077838</td><td>2.01223259520298e-05</td><td>0</td><td>14.6489696502686</td><td>34.9538993835449</td><td>65.0707473754883</td><td>GALAXY</td><td>131074</td><td>0.019099548459053</td><td>0.771337568759918</td><td>710309</td><td>0.0008576657132282443</td><td>12.430217778967325</td><td>29.784223400234435</td><td>0.0012125580429628534</td><td>907.859237975691</td><td>0.08557949458054037</td><td>88.29462175883307</td></tr>\n",
       "<tr><td>39628250485359066</td><td>192.462707209258</td><td>19.5083937259968</td><td>20230424</td><td>0.188757208528316</td><td>1.13820059304824e-05</td><td>0</td><td>18.7137088775635</td><td>44.107120513916</td><td>89.8845596313477</td><td>GALAXY</td><td>131074</td><td>0.0205950066447258</td><td>1.32415270805359</td><td>710309</td><td>0.0008576657132282443</td><td>12.430217778967325</td><td>29.784223400234435</td><td>0.0012125580429628534</td><td>910.5616579350911</td><td>0.04840691976509057</td><td>88.58132976148937</td></tr>\n",
       "<tr><td>39628250485360063</td><td>192.508254470639</td><td>19.4846446724678</td><td>20230331</td><td>0.256861008002866</td><td>1.07544935717807e-05</td><td>0</td><td>14.0786781311035</td><td>29.6817359924316</td><td>50.1573028564453</td><td>GALAXY</td><td>131074</td><td>0.0194430779665709</td><td>1.0</td><td>710309</td><td>0.0008576657132282443</td><td>12.430217778967325</td><td>29.784223400234435</td><td>0.0012125580429628534</td><td>1286.9719195656285</td><td>0.04573812922826585</td><td>129.675943161245</td></tr>\n",
       "<tr><td>39628250485359961</td><td>192.50446420621</td><td>19.3905600592704</td><td>20230424</td><td>0.188702259190187</td><td>1.47647319800697e-05</td><td>0</td><td>13.5436096191406</td><td>34.0710601806641</td><td>68.0973205566406</td><td>GALAXY</td><td>131074</td><td>0.018992381170392</td><td>1.81616425514221</td><td>710309</td><td>0.0008576657132282443</td><td>12.430217778967325</td><td>29.784223400234435</td><td>0.0012125580429628534</td><td>910.2674355555558</td><td>0.06279359242134494</td><td>88.55010877277913</td></tr>\n",
       "<tr><td>39628250485359710</td><td>192.492661618161</td><td>19.5337832473915</td><td>20230424</td><td>0.267018619194446</td><td>7.29904876431694e-06</td><td>0</td><td>19.8240756988525</td><td>49.4603157043457</td><td>90.0890197753906</td><td>GALAXY</td><td>131074</td><td>0.0217035338282585</td><td>1.0</td><td>710309</td><td>0.0008576657132282443</td><td>12.430217778967325</td><td>29.784223400234435</td><td>0.0012125580429628534</td><td>1345.0621140143644</td><td>0.031042275777911785</td><td>136.21243255114996</td></tr>\n",
       "</table></div>"
      ],
      "text/plain": [
       "<Table length=5>\n",
       "     TARGETID        TARGET_RA     ...      DIST_Z_ERR      DIST_Z_COSMO_SIGMA\n",
       "                                   ...         Mpc                 Mpc        \n",
       "      int64           float64      ...       float64             float64      \n",
       "----------------- ---------------- ... -------------------- ------------------\n",
       "39628244776912784 192.502785350435 ...  0.08557949458054037  88.29462175883307\n",
       "39628250485359066 192.462707209258 ...  0.04840691976509057  88.58132976148937\n",
       "39628250485360063 192.508254470639 ...  0.04573812922826585   129.675943161245\n",
       "39628250485359961  192.50446420621 ...  0.06279359242134494  88.55010877277913\n",
       "39628250485359710 192.492661618161 ... 0.031042275777911785 136.21243255114996"
      ]
     },
     "execution_count": 155,
     "metadata": {},
     "output_type": "execute_result"
    }
   ],
   "source": [
    "data_99[:5]"
   ]
  },
  {
   "cell_type": "markdown",
   "metadata": {
    "tags": []
   },
   "source": [
    "### Lets check how much the distance measurement changes in the 99% credible region of LIGO and compare to our DESI data\n",
    "\n",
    "We should see a lot more data in DESI (since we haven't done any redshift selection and there can be multiple objects per GW-pixel). Be carfeul, we are comparing actual object counts with the number of pixels.\n",
    "\n",
    "\n",
    "We still see, that most of the GW localization is roughly between 780Mpc and 950Mpc. DESI definitely has a most of its data in this range as well."
   ]
  },
  {
   "cell_type": "code",
   "execution_count": 156,
   "metadata": {},
   "outputs": [
    {
     "name": "stdout",
     "output_type": "stream",
     "text": [
      "Our LIGO distances range from -17587.95876326973 Mpc to 410.80447175015354 Mpc\n",
      "Let's visualize the distance distribution of the LIGO event in the 99% credible region\n"
     ]
    },
    {
     "data": {
      "image/png": "[encoded data removed]",
      "text/plain": [
       "<Figure size 1500x800 with 2 Axes>"
      ]
     },
     "metadata": {},
     "output_type": "display_data"
    }
   ],
   "source": [
    "if modeled_search:\n",
    "    plt_skymap = skymap_99[skymap_99[\"DISTMU\"]<np.inf]\n",
    "\n",
    "    dist_max_99 = np.max(plt_skymap[\"DISTMU\"])*u.Mpc\n",
    "    dist_min_99 = np.min(plt_skymap[\"DISTMU\"])*u.Mpc\n",
    "    print(f\"Our LIGO distances range from {dist_min_99} to {dist_max_99}\")\n",
    "    print(\"Let's visualize the distance distribution of the LIGO event in the 99% credible region\")\n",
    "\n",
    "    fig, ax = plt.subplots(ncols = 2, figsize = (15,8))\n",
    "\n",
    "\n",
    "    ax[0].hist(data_99[\"DIST_Z_MEAN\"], bins = \"auto\", color = \"orange\", label = \"DESI data\")\n",
    "    ax[1].hist(plt_skymap[\"DISTMU\"], bins = \"auto\", color = \"blue\", label = \"LIGO data\")\n",
    "\n",
    "\n",
    "    for axis in ax:\n",
    "        axis.set_xlabel(\"distance bin (Mpc)\")\n",
    "        axis.set_xlim(dist_min_99/u.Mpc, dist_max_99/u.Mpc)\n",
    "        axis.legend()\n",
    "\n",
    "    ax[0].set_ylabel(\"object count\")\n",
    "    ax[1].set_ylabel(\"pixel count\")\n",
    "\n",
    "    plt.show()"
   ]
  },
  {
   "cell_type": "code",
   "execution_count": 157,
   "metadata": {},
   "outputs": [
    {
     "data": {
      "text/plain": [
       "(16874, 7029670)"
      ]
     },
     "execution_count": 157,
     "metadata": {},
     "output_type": "execute_result"
    }
   ],
   "source": [
    "len(skymap_99), len(data_99)"
   ]
  },
  {
   "cell_type": "markdown",
   "metadata": {
    "jp-MarkdownHeadingCollapsed": true,
    "tags": []
   },
   "source": [
    "### To reduce our data even more, lets cut out the unreasonably far away objects\n",
    "\n",
    "We simply take maximum and minimum distance we get from the LIGO skymap (i.e. DISTMU+-DISTERR) and check, whether every galaxy in that pixel falls inside this range.\n",
    "\n",
    "*Note: We do this only for our own GW-follow ups*"
   ]
  },
  {
   "cell_type": "code",
   "execution_count": 158,
   "metadata": {},
   "outputs": [
    {
     "name": "stdout",
     "output_type": "stream",
     "text": [
      "The z-range selection has deleted 6734407 objects from originally 7029670 in the data set\n",
      "Therefore, we have 295263 objects left in the search region\n",
      "Our highest remaing probability density is 0.0008438604187798732 compared to the originally highest prob density of 0.0036188541601637797\n",
      "The difference in prob density is 0.0027749937413839064\n"
     ]
    }
   ],
   "source": [
    "if follow_up_others == False and modeled_search == True:\n",
    "    z_selection_mask = data_99[\"DIST_Z_MEAN\"] - 2*data_99[\"DIST_Z_ERR\"] - 2*data_99[\"DIST_Z_COSMO_SIGMA\"] <  data_99[\"DISTMU\"] + 2*data_99[\"DISTSIGMA\"]\n",
    "    z_selection_mask &= data_99[\"DIST_Z_MEAN\"] + 2*data_99[\"DIST_Z_ERR\"] + 2*data_99[\"DIST_Z_COSMO_SIGMA\"] >  data_99[\"DISTMU\"] - 2*data_99[\"DISTSIGMA\"]\n",
    "\n",
    "    data_99_z = data_99[z_selection_mask]\n",
    "\n",
    "    remaining_obj = np.size(np.where(z_selection_mask == True))\n",
    "    deleted_obj = np.size(np.where(z_selection_mask == False))\n",
    "\n",
    "    print(f\"The z-range selection has deleted {deleted_obj} objects from originally {deleted_obj+remaining_obj} in the data set\")\n",
    "    print(f\"Therefore, we have {remaining_obj} objects left in the search region\")\n",
    "\n",
    "    highest_prob_dens = np.max(data_99_z[\"PROBDENSITY\"])\n",
    "    print(f\"Our highest remaing probability density is {highest_prob_dens} compared to the originally highest prob density of {max_probdens_in_ligo}\")\n",
    "    print(f\"The difference in prob density is {max_probdens_in_ligo-highest_prob_dens}\")\n",
    "\n",
    "    \n",
    "else:\n",
    "    data_99_z = data_99\n",
    "    remaining_obj = len(data_99_z)"
   ]
  },
  {
   "cell_type": "code",
   "execution_count": 159,
   "metadata": {},
   "outputs": [
    {
     "data": {
      "text/html": [
       "<div><i>Table length=5</i>\n",
       "<table id=\"table140089445307952\" class=\"table-striped table-bordered table-condensed\">\n",
       "<thead><tr><th>TARGETID</th><th>TARGET_RA</th><th>TARGET_DEC</th><th>LASTNIGHT</th><th>Z</th><th>ZERR</th><th>ZWARN</th><th>FLUX_G</th><th>FLUX_R</th><th>FLUX_Z</th><th>SPECTYPE</th><th>BGS_TARGET</th><th>EBV</th><th>SERSIC</th><th>UNIQ</th><th>PROBDENSITY</th><th>DISTMU</th><th>DISTSIGMA</th><th>DISTNORM</th><th>DIST_Z_MEAN</th><th>DIST_Z_ERR</th><th>DIST_Z_COSMO_SIGMA</th></tr></thead>\n",
       "<thead><tr><th></th><th></th><th></th><th></th><th></th><th></th><th></th><th></th><th></th><th></th><th></th><th></th><th></th><th></th><th></th><th></th><th>Mpc</th><th>Mpc</th><th>1 / Mpc2</th><th>Mpc</th><th>Mpc</th><th>Mpc</th></tr></thead>\n",
       "<thead><tr><th>int64</th><th>float64</th><th>float64</th><th>int64</th><th>float64</th><th>float64</th><th>int64</th><th>float64</th><th>float64</th><th>float64</th><th>bytes6</th><th>int64</th><th>float64</th><th>float64</th><th>int64</th><th>float64</th><th>float64</th><th>float64</th><th>float64</th><th>float64</th><th>float64</th><th>float64</th></tr></thead>\n",
       "<tr><td>2781382459785216</td><td>193.664668394369</td><td>17.8887535493256</td><td>20230524</td><td>3.22902626787959e-05</td><td>3.65536426209929e-05</td><td>0</td><td>0.0</td><td>0.0</td><td>0.0</td><td>GALAXY</td><td>0</td><td>0.0270733274519444</td><td>0.0</td><td>710177</td><td>0.0008438604187798732</td><td>3.377892799533608</td><td>33.11197920857059</td><td>0.001554475660316246</td><td>0.13733054650789778</td><td>0.15546321502254107</td><td>0.011967120200359185</td></tr>\n",
       "<tr><td>2781399660625933</td><td>192.331286892806</td><td>18.8349993547765</td><td>20230331</td><td>0.000433711880634667</td><td>4.76011513793341e-05</td><td>0</td><td>0.0</td><td>0.0</td><td>0.0</td><td>GALAXY</td><td>0</td><td>0.0180315785109997</td><td>0.0</td><td>710281</td><td>0.0008280803102551406</td><td>-82.60065640358899</td><td>52.85616995227999</td><td>0.018429588302623173</td><td>1.8451423940491387</td><td>0.20245014966183053</td><td>0.1608282362603347</td></tr>\n",
       "<tr><td>39628256189614890</td><td>192.88749868417</td><td>19.7230067038423</td><td>20230424</td><td>0.00384998186600971</td><td>3.05274655133442e-06</td><td>0</td><td>207.119781494141</td><td>305.536773681641</td><td>378.043579101562</td><td>GALAXY</td><td>131074</td><td>0.02006502635777</td><td>1.17176079750061</td><td>710321</td><td>0.0008130615305689459</td><td>35.017578095813114</td><td>19.87336843071565</td><td>0.0006185476266913015</td><td>16.421616271078854</td><td>0.012983047008627638</td><td>1.4344398601664181</td></tr>\n",
       "<tr><td>39628193061145133</td><td>194.50231583988</td><td>16.9860716347583</td><td>20220321</td><td>0.0214820457125786</td><td>1.30955111328274e-05</td><td>0</td><td>67.1900863647461</td><td>97.6611404418945</td><td>121.019088745117</td><td>GALAXY</td><td>131074</td><td>0.0547136664390564</td><td>1.28214597702026</td><td>709801</td><td>0.0008110604226176332</td><td>27.443055411907032</td><td>24.558676601409154</td><td>0.00075679006531537</td><td>92.84694093209977</td><td>0.055694417086537225</td><td>8.200055332643037</td></tr>\n",
       "<tr><td>2781359395307527</td><td>194.723580623186</td><td>16.9694115189233</td><td>20230524</td><td>0.000587839212453582</td><td>5.05631969786991e-05</td><td>0</td><td>0.0</td><td>0.0</td><td>0.0</td><td>GALAXY</td><td>0</td><td>0.0362510457634926</td><td>0.0</td><td>709801</td><td>0.0008110604226176332</td><td>27.443055411907032</td><td>24.558676601409154</td><td>0.00075679006531537</td><td>2.5011409404738503</td><td>0.21504836830938512</td><td>0.21802824926484138</td></tr>\n",
       "</table></div>"
      ],
      "text/plain": [
       "<Table length=5>\n",
       "     TARGETID        TARGET_RA     ...      DIST_Z_ERR       DIST_Z_COSMO_SIGMA \n",
       "                                   ...         Mpc                  Mpc         \n",
       "      int64           float64      ...       float64              float64       \n",
       "----------------- ---------------- ... -------------------- --------------------\n",
       " 2781382459785216 193.664668394369 ...  0.15546321502254107 0.011967120200359185\n",
       " 2781399660625933 192.331286892806 ...  0.20245014966183053   0.1608282362603347\n",
       "39628256189614890  192.88749868417 ... 0.012983047008627638   1.4344398601664181\n",
       "39628193061145133  194.50231583988 ... 0.055694417086537225    8.200055332643037\n",
       " 2781359395307527 194.723580623186 ...  0.21504836830938512  0.21802824926484138"
      ]
     },
     "execution_count": 159,
     "metadata": {},
     "output_type": "execute_result"
    }
   ],
   "source": [
    "data_99_z[:5]"
   ]
  },
  {
   "cell_type": "markdown",
   "metadata": {
    "jp-MarkdownHeadingCollapsed": true,
    "tags": []
   },
   "source": [
    "### get the apparent, absolute magnitudes and luminosities\n",
    "\n",
    "in order to do this: flux > 0 selection  and gal ext correction"
   ]
  },
  {
   "cell_type": "code",
   "execution_count": 160,
   "metadata": {},
   "outputs": [
    {
     "name": "stdout",
     "output_type": "stream",
     "text": [
      "had to cut out -26567 objects due to bad fluxes\n"
     ]
    }
   ],
   "source": [
    "# get the apparent mags\n",
    "orig_len = len(data_99_z)\n",
    "data_99_z = data_99_z[data_99_z[\"FLUX_R\"] > 0] # flux selection (only ones above 0)\n",
    "print(f\"had to cut out {len(data_99_z)-orig_len} objects due to bad fluxes\")\n",
    "data_99_z[\"MW_TRANSMISSION\"] = gs.mw_transmission_from_data_table(data = data_99_z, band = \"r\")\n",
    "#data_99_z[\"FLUX_R\"] = data_99_z[\"FLUX_R\"]/data_99_z[\"MW_TRANSMISSION\"]\n",
    "\n",
    "app_mag_r = gs.app_mag(data_99_z[\"FLUX_R\"], mw_transmission = data_99_z[\"MW_TRANSMISSION\"])\n",
    "flux_selection_cut = len(data_99_z)\n",
    "\n",
    "# get the absolute mags\n",
    "abs_mag_r = gs.abs_mag(app_mag_r, data_99_z[\"Z\"], 0,0,0)\n",
    "\n",
    "# get the luminosities\n",
    "lums_r = gs.lum(abs_mag_r, band = \"r\")"
   ]
  },
  {
   "cell_type": "code",
   "execution_count": 161,
   "metadata": {},
   "outputs": [],
   "source": [
    "data_f = hstack([data_99_z, Table({\"APP_MAG_R\": app_mag_r}), Table({\"ABS_MAG_R\": abs_mag_r}), Table({\"LUM_R\": lums_r})])"
   ]
  },
  {
   "cell_type": "code",
   "execution_count": 162,
   "metadata": {},
   "outputs": [
    {
     "data": {
      "text/html": [
       "<div><i>Table length=5</i>\n",
       "<table id=\"table140089445243904\" class=\"table-striped table-bordered table-condensed\">\n",
       "<thead><tr><th>TARGETID</th><th>TARGET_RA</th><th>TARGET_DEC</th><th>LASTNIGHT</th><th>Z</th><th>ZERR</th><th>ZWARN</th><th>FLUX_G</th><th>FLUX_R</th><th>FLUX_Z</th><th>SPECTYPE</th><th>BGS_TARGET</th><th>EBV</th><th>SERSIC</th><th>UNIQ</th><th>PROBDENSITY</th><th>DISTMU</th><th>DISTSIGMA</th><th>DISTNORM</th><th>DIST_Z_MEAN</th><th>DIST_Z_ERR</th><th>DIST_Z_COSMO_SIGMA</th><th>MW_TRANSMISSION</th><th>APP_MAG_R</th><th>ABS_MAG_R</th><th>LUM_R</th></tr></thead>\n",
       "<thead><tr><th></th><th></th><th></th><th></th><th></th><th></th><th></th><th></th><th></th><th></th><th></th><th></th><th></th><th></th><th></th><th></th><th>Mpc</th><th>Mpc</th><th>1 / Mpc2</th><th>Mpc</th><th>Mpc</th><th>Mpc</th><th></th><th></th><th></th><th>W</th></tr></thead>\n",
       "<thead><tr><th>int64</th><th>float64</th><th>float64</th><th>int64</th><th>float64</th><th>float64</th><th>int64</th><th>float64</th><th>float64</th><th>float64</th><th>bytes6</th><th>int64</th><th>float64</th><th>float64</th><th>int64</th><th>float64</th><th>float64</th><th>float64</th><th>float64</th><th>float64</th><th>float64</th><th>float64</th><th>float64</th><th>float64</th><th>float64</th><th>float64</th></tr></thead>\n",
       "<tr><td>39628256189614890</td><td>192.88749868417</td><td>19.7230067038423</td><td>20230424</td><td>0.00384998186600971</td><td>3.05274655133442e-06</td><td>0</td><td>207.119781494141</td><td>305.536773681641</td><td>378.043579101562</td><td>GALAXY</td><td>131074</td><td>0.02006502635777</td><td>1.17176079750061</td><td>710321</td><td>0.0008130615305689459</td><td>35.017578095813114</td><td>19.87336843071565</td><td>0.0006185476266913015</td><td>16.421616271078854</td><td>0.012983047008627638</td><td>1.4344398601664181</td><td>0.9605841162000488</td><td>16.24367978169918</td><td>-14.922447760026742</td><td>5.021261815651044e+33</td></tr>\n",
       "<tr><td>39628193061145133</td><td>194.50231583988</td><td>16.9860716347583</td><td>20220321</td><td>0.0214820457125786</td><td>1.30955111328274e-05</td><td>0</td><td>67.1900863647461</td><td>97.6611404418945</td><td>121.019088745117</td><td>GALAXY</td><td>131074</td><td>0.0547136664390564</td><td>1.28214597702026</td><td>709801</td><td>0.0008110604226176332</td><td>27.443055411907032</td><td>24.558676601409154</td><td>0.00075679006531537</td><td>92.84694093209977</td><td>0.055694417086537225</td><td>8.200055332643037</td><td>0.8961428101135748</td><td>17.406638583156134</td><td>-17.521376886533783</td><td>5.5002764389422155e+34</td></tr>\n",
       "<tr><td>39628323789214761</td><td>190.275744814632</td><td>22.6833730227519</td><td>20230422</td><td>0.000123952527744042</td><td>8.9101678723461e-05</td><td>0</td><td>3.16787004470825</td><td>3.71442890167236</td><td>3.85948252677917</td><td>GALAXY</td><td>0</td><td>0.0273045692592859</td><td>0.0</td><td>711861</td><td>0.0007761600999288746</td><td>28.372386802767874</td><td>22.72495726376727</td><td>0.0007695661603053316</td><td>0.5272072020272448</td><td>0.3789660318573036</td><td>0.045944014356991844</td><td>0.9467473603270565</td><td>21.0158551325876</td><td>-2.683071675793993</td><td>6.383552478133541e+28</td></tr>\n",
       "<tr><td>39628152405758287</td><td>194.961643002371</td><td>15.2589181950649</td><td>20230418</td><td>0.000295479570463795</td><td>7.2569973277932e-05</td><td>0</td><td>1.46149659156799</td><td>2.41044235229492</td><td>2.73886203765869</td><td>GALAXY</td><td>0</td><td>0.0234588775783777</td><td>0.0</td><td>708987</td><td>0.0007741865796157115</td><td>-53.03122557286046</td><td>47.93358365181863</td><td>0.00733715114482241</td><td>1.2569275274718732</td><td>0.30864971656614215</td><td>0.10954808903300552</td><td>0.9540725328339607</td><td>21.493711608802876</td><td>-4.0918610047577815</td><td>2.336566601039161e+29</td></tr>\n",
       "<tr><td>39628244793691843</td><td>193.688397256783</td><td>19.1598379681792</td><td>20230331</td><td>0.00328832284780373</td><td>6.82512494573028e-07</td><td>0</td><td>26.4915294647217</td><td>28.9623508453369</td><td>15.9765634536743</td><td>GALAXY</td><td>131074</td><td>0.0211677327752113</td><td>4.95712041854858</td><td>710289</td><td>0.0007678024091655918</td><td>38.553072486911866</td><td>17.91056842958509</td><td>0.0005537229085402067</td><td>14.019951250124855</td><td>0.002902656881796228</td><td>1.2242202237905628</td><td>0.9584635586432044</td><td>18.799354487958993</td><td>-12.023421878860468</td><td>3.476982575111574e+32</td></tr>\n",
       "</table></div>"
      ],
      "text/plain": [
       "<Table length=5>\n",
       "     TARGETID        TARGET_RA     ...         LUM_R         \n",
       "                                   ...           W           \n",
       "      int64           float64      ...        float64        \n",
       "----------------- ---------------- ... ----------------------\n",
       "39628256189614890  192.88749868417 ...  5.021261815651044e+33\n",
       "39628193061145133  194.50231583988 ... 5.5002764389422155e+34\n",
       "39628323789214761 190.275744814632 ...  6.383552478133541e+28\n",
       "39628152405758287 194.961643002371 ...  2.336566601039161e+29\n",
       "39628244793691843 193.688397256783 ...  3.476982575111574e+32"
      ]
     },
     "execution_count": 162,
     "metadata": {},
     "output_type": "execute_result"
    }
   ],
   "source": [
    "data_f[:5]"
   ]
  },
  {
   "cell_type": "markdown",
   "metadata": {
    "jp-MarkdownHeadingCollapsed": true,
    "tags": []
   },
   "source": [
    "### Check the absolute and apparent magnitudes\n",
    "\n",
    "This is a sanity check to quickly check whether there might be some obvious problem in the data/derivation of magnitudes..."
   ]
  },
  {
   "cell_type": "code",
   "execution_count": 163,
   "metadata": {},
   "outputs": [
    {
     "data": {
      "image/png": "[encoded data removed]",
      "text/plain": [
       "<Figure size 1000x500 with 3 Axes>"
      ]
     },
     "metadata": {},
     "output_type": "display_data"
    }
   ],
   "source": [
    "if len(data_f) < 1000000:\n",
    "    # dauert sonst einfach ewig\n",
    "    fig, ax = plt.subplots(ncols = 3, figsize=(10,5))\n",
    "\n",
    "    plot_names = [\"APP_MAG_R\", \"ABS_MAG_R\", \"LUM_R\"]\n",
    "    cnt = 0\n",
    "    for axis in ax:\n",
    "        axis.hist(data_f[plot_names[cnt]], bins = \"auto\")\n",
    "        axis.set_yscale(\"log\")\n",
    "        cnt += 1\n",
    "    plt.show()"
   ]
  },
  {
   "cell_type": "code",
   "execution_count": 164,
   "metadata": {},
   "outputs": [
    {
     "name": "stdout",
     "output_type": "stream",
     "text": [
      "These objects have a mean redshift of 0.0025926030860825454, which corresponds to a mean distance of 11.208350136673323 Mpc\n",
      "The minimum redshift is 5.31004411037158e-09, i.e. 2.2583070853392408e-05 Mpc\n",
      "According to WolframAlpha the closest galaxy has a distance of roughly 25000ly = 7655pc (not Mpc, simply pc), so any object below 0.07Mpc is definitely not a real galaxy\n",
      "This reminded me to check if we have selected galaxies only...\n",
      "We have 0 stars in our catalogue of peculiar objects, compared to a total number of 12088 objects...\n"
     ]
    },
    {
     "data": {
      "image/png": "[encoded data removed]",
      "text/plain": [
       "<Figure size 1500x800 with 5 Axes>"
      ]
     },
     "metadata": {},
     "output_type": "display_data"
    }
   ],
   "source": [
    "inspect_abs_mags = True\n",
    "\n",
    "if inspect_abs_mags:\n",
    "    data_to_inspect = data_f[data_f[\"ABS_MAG_R\"]> -12]\n",
    "    fig, ax = plt.subplots(ncols = 5, figsize = (15,8))\n",
    "    \n",
    "    ax[0].hist(data_to_inspect[\"ABS_MAG_R\"], bins = \"auto\")\n",
    "    ax[0].set_xlabel(\"abs mag in r-band\")\n",
    "    ax[1].hist(data_to_inspect[\"MW_TRANSMISSION\"], bins = \"auto\")\n",
    "    ax[1].set_xlabel(\"MW_TRANSMISSION\")\n",
    "    ax[2].hist(data_to_inspect[\"APP_MAG_R\"], bins = \"auto\")\n",
    "    ax[2].set_xlabel(\"App mag r-band\")\n",
    "    ax[3].hist(data_to_inspect[\"DIST_Z_MEAN\"], bins = \"auto\")\n",
    "    ax[3].set_xlabel(\"distance from redshift\")\n",
    "    ax[4].hist(data_to_inspect[\"Z\"], bins = \"auto\")\n",
    "    ax[4].set_xlabel(\"redshift\")\n",
    "    \n",
    "    mean_redshift_pec_objects = np.mean(data_to_inspect[\"Z\"])\n",
    "    mean_distance_pec_objects = np.mean(data_to_inspect[\"DIST_Z_MEAN\"])*u.Mpc\n",
    "    min_redshift_pec_objects = np.min(data_to_inspect[\"Z\"])\n",
    "    min_distance_pec_objects = np.min(data_to_inspect[\"DIST_Z_MEAN\"])*u.Mpc\n",
    "    \n",
    "    data_to_inspect_len = len(data_to_inspect)\n",
    "    star_data_len = len(data_to_inspect[data_to_inspect[\"SPECTYPE\"] == \"STAR\"])\n",
    "    \n",
    "    print(f\"These objects have a mean redshift of {mean_redshift_pec_objects}, which corresponds to a mean distance of {mean_distance_pec_objects}\")\n",
    "    print(f\"The minimum redshift is {min_redshift_pec_objects}, i.e. {min_distance_pec_objects}\")\n",
    "    print(f\"According to WolframAlpha the closest galaxy has a distance of roughly 25000ly = 7655pc (not Mpc, simply pc), so any object below 0.07Mpc is definitely not a real galaxy\")\n",
    "    print(f\"This reminded me to check if we have selected galaxies only...\")\n",
    "    print(f\"We have {star_data_len} stars in our catalogue of peculiar objects, compared to a total number of {data_to_inspect_len} objects...\")\n",
    "                        \n",
    "    for axis in ax:\n",
    "        axis.set_ylabel(\"bin count\")\n",
    "        #axis.legend()\n",
    "        \n",
    "    plt.tight_layout()\n",
    "    plt.show()\n",
    "    "
   ]
  },
  {
   "cell_type": "code",
   "execution_count": 165,
   "metadata": {},
   "outputs": [],
   "source": [
    "# np.max(data_f[\"MW_TRANSMISSION\"])"
   ]
  },
  {
   "cell_type": "markdown",
   "metadata": {
    "tags": []
   },
   "source": [
    "### start calculating the P_Gal (the probability that galaxy X is the host)"
   ]
  },
  {
   "cell_type": "code",
   "execution_count": 166,
   "metadata": {},
   "outputs": [
    {
     "name": "stdout",
     "output_type": "stream",
     "text": [
      "The maximum luminosity in our catalog in the r-band is 2.105877548561033e+37 W with a prob density of      PROBDENSITY      \n",
      "----------------------\n",
      "0.00017638726247177176\n"
     ]
    }
   ],
   "source": [
    "max_lum_r = np.max(data_f[\"LUM_R\"])*u.W\n",
    "prob_dens_max_lum = data_f[data_f[\"LUM_R\"] == max_lum_r][\"PROBDENSITY\"]\n",
    "print(f\"The maximum luminosity in our catalog in the r-band is {max_lum_r} with a prob density of {prob_dens_max_lum}\")"
   ]
  },
  {
   "cell_type": "code",
   "execution_count": 167,
   "metadata": {},
   "outputs": [],
   "source": [
    "if modeled_search:\n",
    "\n",
    "    \"\"\"arg_errfc = abs(data_f[\"DIST_Z_MEAN\"]-data_f[\"DISTMU\"])/(data_f[\"DIST_Z_ERR\"]**2+data_f[\"DISTSIGMA\"]**2+data_f[\"DIST_Z_COSMO_SIGMA\"].value**2)\n",
    "    P_gal_unnorm = data_f[\"LUM_R\"]*data_f[\"PROBDENSITY\"]*(1-sc.special.erf(arg_errfc))\n",
    "    #dist_mean*u.Mpc, dist_std*u.Mpc\n",
    "    arg_errfc_c = abs(data_f[\"DIST_Z_MEAN\"].value-dist_mean)/(data_f[\"DIST_Z_ERR\"].value**2+dist_std**2+data_f[\"DIST_Z_COSMO_SIGMA\"].value**2)\n",
    "    P_gal_unnorm_const = data_f[\"LUM_R\"]*data_f[\"PROBDENSITY\"]*(1-sc.special.erf(arg_errfc_c))\n",
    "\n",
    "    # now lets quickly normalize\n",
    "\n",
    "    P_gal_sum = np.sum(P_gal_unnorm)\n",
    "    P_gal_const_sum = np.sum(P_gal_unnorm_const)\n",
    "\n",
    "    P_gal = 1/P_gal_sum * P_gal_unnorm\n",
    "    P_gal_const = 1/P_gal_const_sum * P_gal_unnorm_const\"\"\"\n",
    "    \n",
    "    dist_delta = abs(data_f[\"DIST_Z_MEAN\"]-data_f[\"DISTMU\"])\n",
    "    combined_sigma2 =  data_f[\"DISTSIGMA\"]**2 + data_f[\"DIST_Z_COSMO_SIGMA\"].value**2 + data_f[\"DIST_Z_ERR\"]**2\n",
    "    P_gal_unnorm = data_f[\"LUM_R\"]*data_f[\"PROBDENSITY\"]/(np.sqrt(2*np.pi*combined_sigma2))*np.exp(-dist_delta**2/(combined_sigma2))\n",
    "    \n",
    "    P_gal_sum = np.sum(P_gal_unnorm)\n",
    "    P_gal = 1/P_gal_sum * P_gal_unnorm\n",
    "\n",
    "\n",
    "else:\n",
    "    P_gal_unnorm = data_f[\"LUM_R\"]*data_f[\"PROBDENSITY\"]\n",
    "    P_gal_sum = np.sum(P_gal_unnorm)\n",
    "    P_gal = 1/P_gal_sum * P_gal_unnorm"
   ]
  },
  {
   "cell_type": "markdown",
   "metadata": {
    "tags": []
   },
   "source": [
    "### Get the missed fraction of DESI due to mass/luminosity incompleteness\n",
    "\n",
    "$$f_{missed} =  \\frac{\\int_{-\\infty}^{\\infty} dm 10^{-0.4m}\\left(1-\\frac{Hist}{Schechter}\\right)\\cdot Schechter}{\\int_{-\\infty}^{\\infty}dm 10^{-0.4m}\\cdot Schechter}$$\n",
    "\n",
    "We want to account for the fact that some region were covered in more detail by DESI than others..."
   ]
  },
  {
   "cell_type": "code",
   "execution_count": 190,
   "metadata": {},
   "outputs": [],
   "source": [
    "if modeled_search:\n",
    "    \n",
    "    # get the Schechter model, see 1/V estimator, bin size of half a mag\n",
    "    from astropy.modeling.models import Schechter1D\n",
    "\n",
    "    phi_star = 0.0016745140734036254\n",
    "    m_star = -21.757361746831197\n",
    "    alpha = -1.1297780395774693\n",
    "\n",
    "    schechter_model = Schechter1D(phi_star, m_star, alpha)\n",
    "    \n",
    "    data_min_dist = np.min(data_f[\"DIST_Z_MEAN\"])*u.Mpc\n",
    "    data_max_dist = np.max(data_f[\"DIST_Z_MEAN\"])*u.Mpc\n",
    "    \n",
    "    abs_mag_max = np.max(data_f[\"ABS_MAG_R\"])\n",
    "    abs_mag_min = np.min(data_f[\"ABS_MAG_R\"])\n",
    "\n",
    "    bins = np.arange(abs_mag_min, abs_mag_max, 0.5)\n",
    "\n",
    "    hist, bins = np.histogram(data_f[\"ABS_MAG_R\"], bins =  bins)\n",
    "    \"\"\"\n",
    "    # normalize our histogram to our volume\n",
    "    volume = V_\n",
    "    hist = hist/(volume)\n",
    "    \n",
    "    #hist = hist/(area_99.to_value(u.deg**2)*(data_max_dist-data_min_dist).value*10**0) # completely wrong normalization\n",
    "    \n",
    "    print(f\"{abs_mag_min}, {abs_mag_max}, {data_min_dist}, {data_max_dist}, {(data_max_dist-data_min_dist).value*10**6}\")\n",
    "    \n",
    "    fig, ax = plt.subplots(figsize = (5,2.5))\n",
    "    bins_center = bins[1:]-(bins[1]-bins[2])/2\n",
    "    ax.plot(bins_center, hist, label = \"wrongly normalized distribution\")\n",
    "    ax.plot(np.linspace(-25,-18), schechter_model(np.linspace(-25,-18)),  label = \"some schechter fit\", color = \"red\")\n",
    "\n",
    "    ax.set_yscale(\"log\")\n",
    "    plt.show()\"\"\""
   ]
  },
  {
   "cell_type": "code",
   "execution_count": 169,
   "metadata": {},
   "outputs": [
    {
     "ename": "NameError",
     "evalue": "name 'schechter_model' is not defined",
     "output_type": "error",
     "traceback": [
      "\u001b[0;31m---------------------------------------------------------------------------\u001b[0m",
      "\u001b[0;31mNameError\u001b[0m                                 Traceback (most recent call last)",
      "Cell \u001b[0;32mIn[169], line 32\u001b[0m\n\u001b[1;32m     25\u001b[0m     final_val \u001b[38;5;241m=\u001b[39m lum_factor\u001b[38;5;241m*\u001b[39mschechter_val\n\u001b[1;32m     27\u001b[0m     \u001b[38;5;28;01mreturn\u001b[39;00m final_val\n\u001b[0;32m---> 32\u001b[0m numerator \u001b[38;5;241m=\u001b[39m \u001b[43mquad\u001b[49m\u001b[43m(\u001b[49m\u001b[43mnum_func\u001b[49m\u001b[43m,\u001b[49m\u001b[43m \u001b[49m\u001b[38;5;241;43m-\u001b[39;49m\u001b[38;5;241;43m28\u001b[39;49m\u001b[43m,\u001b[49m\u001b[43m \u001b[49m\u001b[38;5;241;43m-\u001b[39;49m\u001b[38;5;241;43m18\u001b[39;49m\u001b[43m)\u001b[49m\n\u001b[1;32m     33\u001b[0m denominator \u001b[38;5;241m=\u001b[39m quad(denom_func, \u001b[38;5;241m-\u001b[39m\u001b[38;5;241m28\u001b[39m, \u001b[38;5;241m-\u001b[39m\u001b[38;5;241m18\u001b[39m)\n\u001b[1;32m     35\u001b[0m \u001b[38;5;28mprint\u001b[39m(numerator)\n",
      "File \u001b[0;32m~/.conda/envs/MambaTest/lib/python3.10/site-packages/scipy/integrate/_quadpack_py.py:463\u001b[0m, in \u001b[0;36mquad\u001b[0;34m(func, a, b, args, full_output, epsabs, epsrel, limit, points, weight, wvar, wopts, maxp1, limlst, complex_func)\u001b[0m\n\u001b[1;32m    460\u001b[0m     \u001b[38;5;28;01mreturn\u001b[39;00m retval\n\u001b[1;32m    462\u001b[0m \u001b[38;5;28;01mif\u001b[39;00m weight \u001b[38;5;129;01mis\u001b[39;00m \u001b[38;5;28;01mNone\u001b[39;00m:\n\u001b[0;32m--> 463\u001b[0m     retval \u001b[38;5;241m=\u001b[39m \u001b[43m_quad\u001b[49m\u001b[43m(\u001b[49m\u001b[43mfunc\u001b[49m\u001b[43m,\u001b[49m\u001b[43m \u001b[49m\u001b[43ma\u001b[49m\u001b[43m,\u001b[49m\u001b[43m \u001b[49m\u001b[43mb\u001b[49m\u001b[43m,\u001b[49m\u001b[43m \u001b[49m\u001b[43margs\u001b[49m\u001b[43m,\u001b[49m\u001b[43m \u001b[49m\u001b[43mfull_output\u001b[49m\u001b[43m,\u001b[49m\u001b[43m \u001b[49m\u001b[43mepsabs\u001b[49m\u001b[43m,\u001b[49m\u001b[43m \u001b[49m\u001b[43mepsrel\u001b[49m\u001b[43m,\u001b[49m\u001b[43m \u001b[49m\u001b[43mlimit\u001b[49m\u001b[43m,\u001b[49m\n\u001b[1;32m    464\u001b[0m \u001b[43m                   \u001b[49m\u001b[43mpoints\u001b[49m\u001b[43m)\u001b[49m\n\u001b[1;32m    465\u001b[0m \u001b[38;5;28;01melse\u001b[39;00m:\n\u001b[1;32m    466\u001b[0m     \u001b[38;5;28;01mif\u001b[39;00m points \u001b[38;5;129;01mis\u001b[39;00m \u001b[38;5;129;01mnot\u001b[39;00m \u001b[38;5;28;01mNone\u001b[39;00m:\n",
      "File \u001b[0;32m~/.conda/envs/MambaTest/lib/python3.10/site-packages/scipy/integrate/_quadpack_py.py:575\u001b[0m, in \u001b[0;36m_quad\u001b[0;34m(func, a, b, args, full_output, epsabs, epsrel, limit, points)\u001b[0m\n\u001b[1;32m    573\u001b[0m \u001b[38;5;28;01mif\u001b[39;00m points \u001b[38;5;129;01mis\u001b[39;00m \u001b[38;5;28;01mNone\u001b[39;00m:\n\u001b[1;32m    574\u001b[0m     \u001b[38;5;28;01mif\u001b[39;00m infbounds \u001b[38;5;241m==\u001b[39m \u001b[38;5;241m0\u001b[39m:\n\u001b[0;32m--> 575\u001b[0m         \u001b[38;5;28;01mreturn\u001b[39;00m \u001b[43m_quadpack\u001b[49m\u001b[38;5;241;43m.\u001b[39;49m\u001b[43m_qagse\u001b[49m\u001b[43m(\u001b[49m\u001b[43mfunc\u001b[49m\u001b[43m,\u001b[49m\u001b[43ma\u001b[49m\u001b[43m,\u001b[49m\u001b[43mb\u001b[49m\u001b[43m,\u001b[49m\u001b[43margs\u001b[49m\u001b[43m,\u001b[49m\u001b[43mfull_output\u001b[49m\u001b[43m,\u001b[49m\u001b[43mepsabs\u001b[49m\u001b[43m,\u001b[49m\u001b[43mepsrel\u001b[49m\u001b[43m,\u001b[49m\u001b[43mlimit\u001b[49m\u001b[43m)\u001b[49m\n\u001b[1;32m    576\u001b[0m     \u001b[38;5;28;01melse\u001b[39;00m:\n\u001b[1;32m    577\u001b[0m         \u001b[38;5;28;01mreturn\u001b[39;00m _quadpack\u001b[38;5;241m.\u001b[39m_qagie(func,bound,infbounds,args,full_output,epsabs,epsrel,limit)\n",
      "Cell \u001b[0;32mIn[169], line 13\u001b[0m, in \u001b[0;36mnum_func\u001b[0;34m(M)\u001b[0m\n\u001b[1;32m     11\u001b[0m \u001b[38;5;28;01mdef\u001b[39;00m \u001b[38;5;21mnum_func\u001b[39m(M):\n\u001b[1;32m     12\u001b[0m     \u001b[38;5;66;03m#print(f\"M is {M}\")\u001b[39;00m\n\u001b[0;32m---> 13\u001b[0m     schechter_val \u001b[38;5;241m=\u001b[39m \u001b[43mschechter_model\u001b[49m(M)\n\u001b[1;32m     14\u001b[0m     \u001b[38;5;66;03m#print(f\"schechter Val: {schechter_val}\")\u001b[39;00m\n\u001b[1;32m     15\u001b[0m     lum_factor \u001b[38;5;241m=\u001b[39m \u001b[38;5;241m10\u001b[39m\u001b[38;5;241m*\u001b[39m\u001b[38;5;241m*\u001b[39m(\u001b[38;5;241m-\u001b[39m\u001b[38;5;241m0.4\u001b[39m\u001b[38;5;241m*\u001b[39mM)\n",
      "\u001b[0;31mNameError\u001b[0m: name 'schechter_model' is not defined"
     ]
    }
   ],
   "source": [
    "if modeled_search:\n",
    "    def hist_func(M):\n",
    "        # https://stackoverflow.com/questions/2566412/find-nearest-value-in-numpy-array\n",
    "        # make sure array is a numpy array\n",
    "        # array = np.array(array)\n",
    "        idx = (np.abs(hist - M)).argmin()\n",
    "        val = hist[idx]\n",
    "        #print(f\"val {val}\")\n",
    "        return val\n",
    "\n",
    "    def num_func(M):\n",
    "        #print(f\"M is {M}\")\n",
    "        schechter_val = schechter_model(M)\n",
    "        #print(f\"schechter Val: {schechter_val}\")\n",
    "        lum_factor = 10**(-0.4*M)\n",
    "        #print(f\"lum factor {lum_factor}\")\n",
    "        weighting_coverage = (1-hist_func(M)/(schechter_val))\n",
    "        #print(f\"weighting_coverage: {weighting_coverage}\")\n",
    "        final_val = lum_factor*weighting_coverage*schechter_val\n",
    "        #print(f\"final value: {final_val}\")\n",
    "        return final_val\n",
    "    def denom_func(M):\n",
    "        lum_factor = 10**(-0.4*M)\n",
    "        schechter_val = schechter_model(M)\n",
    "        final_val = lum_factor*schechter_val\n",
    "\n",
    "        return final_val\n",
    "\n",
    "\n",
    "\n",
    "\n",
    "    numerator = quad(num_func, -28, -18)\n",
    "    denominator = quad(denom_func, -28, -18)\n",
    "\n",
    "    print(numerator)\n",
    "    print(denominator)\n",
    "\n",
    "    f_missed = numerator[0]/denominator[0]\n",
    "\n",
    "    print(f_missed)"
   ]
  },
  {
   "cell_type": "code",
   "execution_count": 170,
   "metadata": {},
   "outputs": [],
   "source": [
    "data_f = hstack([data_f, Table({\"P_GAL\": P_gal.value})])"
   ]
  },
  {
   "cell_type": "code",
   "execution_count": 171,
   "metadata": {},
   "outputs": [
    {
     "data": {
      "text/html": [
       "<div><i>Table length=268696</i>\n",
       "<table id=\"table140089400652944\" class=\"table-striped table-bordered table-condensed\">\n",
       "<thead><tr><th>TARGETID</th><th>TARGET_RA</th><th>TARGET_DEC</th><th>LASTNIGHT</th><th>Z</th><th>ZERR</th><th>ZWARN</th><th>FLUX_G</th><th>FLUX_R</th><th>FLUX_Z</th><th>SPECTYPE</th><th>BGS_TARGET</th><th>EBV</th><th>SERSIC</th><th>UNIQ</th><th>PROBDENSITY</th><th>DISTMU</th><th>DISTSIGMA</th><th>DISTNORM</th><th>DIST_Z_MEAN</th><th>DIST_Z_ERR</th><th>DIST_Z_COSMO_SIGMA</th><th>MW_TRANSMISSION</th><th>APP_MAG_R</th><th>ABS_MAG_R</th><th>LUM_R</th><th>P_GAL</th></tr></thead>\n",
       "<thead><tr><th></th><th></th><th></th><th></th><th></th><th></th><th></th><th></th><th></th><th></th><th></th><th></th><th></th><th></th><th></th><th></th><th>Mpc</th><th>Mpc</th><th>1 / Mpc2</th><th>Mpc</th><th>Mpc</th><th>Mpc</th><th></th><th></th><th></th><th>W</th><th></th></tr></thead>\n",
       "<thead><tr><th>int64</th><th>float64</th><th>float64</th><th>int64</th><th>float64</th><th>float64</th><th>int64</th><th>float64</th><th>float64</th><th>float64</th><th>bytes6</th><th>int64</th><th>float64</th><th>float64</th><th>int64</th><th>float64</th><th>float64</th><th>float64</th><th>float64</th><th>float64</th><th>float64</th><th>float64</th><th>float64</th><th>float64</th><th>float64</th><th>float64</th><th>float64</th></tr></thead>\n",
       "<tr><td>39628256189614890</td><td>192.88749868417</td><td>19.7230067038423</td><td>20230424</td><td>0.00384998186600971</td><td>3.05274655133442e-06</td><td>0</td><td>207.119781494141</td><td>305.536773681641</td><td>378.043579101562</td><td>GALAXY</td><td>131074</td><td>0.02006502635777</td><td>1.17176079750061</td><td>710321</td><td>0.0008130615305689459</td><td>35.017578095813114</td><td>19.87336843071565</td><td>0.0006185476266913015</td><td>16.421616271078854</td><td>0.012983047008627638</td><td>1.4344398601664181</td><td>0.9605841162000488</td><td>16.24367978169918</td><td>-14.922447760026742</td><td>5.021261815651044e+33</td><td>1.928072395738542e-06</td></tr>\n",
       "<tr><td>39628193061145133</td><td>194.50231583988</td><td>16.9860716347583</td><td>20220321</td><td>0.0214820457125786</td><td>1.30955111328274e-05</td><td>0</td><td>67.1900863647461</td><td>97.6611404418945</td><td>121.019088745117</td><td>GALAXY</td><td>131074</td><td>0.0547136664390564</td><td>1.28214597702026</td><td>709801</td><td>0.0008110604226176332</td><td>27.443055411907032</td><td>24.558676601409154</td><td>0.00075679006531537</td><td>92.84694093209977</td><td>0.055694417086537225</td><td>8.200055332643037</td><td>0.8961428101135748</td><td>17.406638583156134</td><td>-17.521376886533783</td><td>5.5002764389422155e+34</td><td>6.560053815340007e-08</td></tr>\n",
       "<tr><td>39628323789214761</td><td>190.275744814632</td><td>22.6833730227519</td><td>20230422</td><td>0.000123952527744042</td><td>8.9101678723461e-05</td><td>0</td><td>3.16787004470825</td><td>3.71442890167236</td><td>3.85948252677917</td><td>GALAXY</td><td>0</td><td>0.0273045692592859</td><td>0.0</td><td>711861</td><td>0.0007761600999288746</td><td>28.372386802767874</td><td>22.72495726376727</td><td>0.0007695661603053316</td><td>0.5272072020272448</td><td>0.3789660318573036</td><td>0.045944014356991844</td><td>0.9467473603270565</td><td>21.0158551325876</td><td>-2.683071675793993</td><td>6.383552478133541e+28</td><td>1.0926011604367657e-11</td></tr>\n",
       "<tr><td>39628152405758287</td><td>194.961643002371</td><td>15.2589181950649</td><td>20230418</td><td>0.000295479570463795</td><td>7.2569973277932e-05</td><td>0</td><td>1.46149659156799</td><td>2.41044235229492</td><td>2.73886203765869</td><td>GALAXY</td><td>0</td><td>0.0234588775783777</td><td>0.0</td><td>708987</td><td>0.0007741865796157115</td><td>-53.03122557286046</td><td>47.93358365181863</td><td>0.00733715114482241</td><td>1.2569275274718732</td><td>0.30864971656614215</td><td>0.10954808903300552</td><td>0.9540725328339607</td><td>21.493711608802876</td><td>-4.0918610047577815</td><td>2.336566601039161e+29</td><td>2.3528692066034212e-11</td></tr>\n",
       "<tr><td>39628244793691843</td><td>193.688397256783</td><td>19.1598379681792</td><td>20230331</td><td>0.00328832284780373</td><td>6.82512494573028e-07</td><td>0</td><td>26.4915294647217</td><td>28.9623508453369</td><td>15.9765634536743</td><td>GALAXY</td><td>131074</td><td>0.0211677327752113</td><td>4.95712041854858</td><td>710289</td><td>0.0007678024091655918</td><td>38.553072486911866</td><td>17.91056842958509</td><td>0.0005537229085402067</td><td>14.019951250124855</td><td>0.002902656881796228</td><td>1.2242202237905628</td><td>0.9584635586432044</td><td>18.799354487958993</td><td>-12.023421878860468</td><td>3.476982575111574e+32</td><td>5.166020486764793e-08</td></tr>\n",
       "<tr><td>39628244793688085</td><td>193.480267985234</td><td>19.2593690741239</td><td>20230331</td><td>0.0030800882047771</td><td>5.794708070241e-07</td><td>0</td><td>129.081588745117</td><td>174.139801025391</td><td>187.738571166992</td><td>GALAXY</td><td>131074</td><td>0.0208752136677504</td><td>1.40023994445801</td><td>710289</td><td>0.0007678024091655918</td><td>38.553072486911866</td><td>17.91056842958509</td><td>0.0005537229085402067</td><td>13.130054201500414</td><td>0.0024644307703331463</td><td>1.1463643615007144</td><td>0.9590256303525914</td><td>16.85233042532714</td><td>-13.828044462156967</td><td>1.8325319174434455e+33</td><td>2.369870113230052e-07</td></tr>\n",
       "<tr><td>39628146579868777</td><td>195.692212791527</td><td>15.0714777405022</td><td>20230418</td><td>0.000536944483967961</td><td>0.00010450018132887</td><td>0</td><td>1.01228404045105</td><td>1.3279390335083</td><td>1.63560676574707</td><td>GALAXY</td><td>0</td><td>0.0240643136203289</td><td>0.0</td><td>708982</td><td>0.0007642537258507393</td><td>14.183721036052779</td><td>30.327692443532207</td><td>0.001091621827613625</td><td>2.2845051610935885</td><td>0.4444639531932518</td><td>0.1991373917800171</td><td>0.9529155663554065</td><td>22.139690711649926</td><td>-4.743293245150472</td><td>4.257464748661645e+29</td><td>2.0678949883643307e-10</td></tr>\n",
       "<tr><td>39628181497448518</td><td>195.220639855183</td><td>16.4654543675419</td><td>20220321</td><td>0.0214982484929038</td><td>6.54987330783801e-06</td><td>0</td><td>32.2084465026855</td><td>42.9581718444824</td><td>50.4492492675781</td><td>GALAXY</td><td>131074</td><td>0.0219159778207541</td><td>0.853885114192963</td><td>709771</td><td>0.0007615394644407508</td><td>33.20402771155165</td><td>21.91672377922711</td><td>0.0006360144802241854</td><td>92.91808330232476</td><td>0.02785607602291545</td><td>8.206420972927003</td><td>0.9570273139706877</td><td>18.36969635483655</td><td>-16.55998244800884</td><td>2.2689594890673468e+34</td><td>2.4695660168678173e-08</td></tr>\n",
       "<tr><td>39628158252615983</td><td>195.653432627779</td><td>15.5082771077713</td><td>20230419</td><td>0.0217146141225405</td><td>1.25708488536081e-05</td><td>0</td><td>32.5239486694336</td><td>51.0039672851562</td><td>67.514274597168</td><td>GALAXY</td><td>131074</td><td>0.0235014837235212</td><td>1.64014935493469</td><td>708989</td><td>0.0007552995669768942</td><td>25.896082615873244</td><td>25.711974590419825</td><td>0.0007796124405963427</td><td>93.86825031869623</td><td>0.05346303873397966</td><td>8.29145142961737</td><td>0.9539910680960818</td><td>18.179850875141398</td><td>-16.77192188935826</td><td>2.7580524341701875e+34</td><td>3.088591863441898e-08</td></tr>\n",
       "<tr><td>...</td><td>...</td><td>...</td><td>...</td><td>...</td><td>...</td><td>...</td><td>...</td><td>...</td><td>...</td><td>...</td><td>...</td><td>...</td><td>...</td><td>...</td><td>...</td><td>...</td><td>...</td><td>...</td><td>...</td><td>...</td><td>...</td><td>...</td><td>...</td><td>...</td><td>...</td><td>...</td></tr>\n",
       "<tr><td>39627591312736480</td><td>320.624475368709</td><td>-8.13113105577498</td><td>20221021</td><td>0.0280482669731488</td><td>8.2993359340913e-06</td><td>0</td><td>11.1987724304199</td><td>17.0314407348633</td><td>22.0664253234863</td><td>GALAXY</td><td>131074</td><td>0.0942684337496758</td><td>0.744910538196564</td><td>16348</td><td>2.8459608946320456e-06</td><td>105.30047660307797</td><td>108.45448255250582</td><td>4.5650031691711875e-05</td><td>121.81355351723744</td><td>0.035296444756189774</td><td>10.8021301095428</td><td>0.8287074511822077</td><td>19.217874640261414</td><td>-16.29982797458932</td><td>1.785520959297392e+34</td><td>1.0244904684857798e-08</td></tr>\n",
       "<tr><td>39627591312736463</td><td>320.623864803136</td><td>-8.25568429287592</td><td>20230526</td><td>6.62629239899342e-05</td><td>2.15684168199635e-05</td><td>0</td><td>53.1480140686035</td><td>107.731819152832</td><td>143.889358520508</td><td>GALAXY</td><td>0</td><td>0.0930987894535065</td><td>0.0</td><td>16348</td><td>2.8459608946320456e-06</td><td>105.30047660307797</td><td>108.45448255250582</td><td>4.5650031691711875e-05</td><td>0.2818236435059014</td><td>0.09172976582067924</td><td>0.02455891822774249</td><td>0.8306416196904244</td><td>17.21767423617911</td><td>-5.121232593103834</td><td>6.0301317353609094e+29</td><td>1.3930577428426663e-13</td></tr>\n",
       "<tr><td>39627591308548575</td><td>320.610987160216</td><td>-8.35397517773522</td><td>20221021</td><td>0.0839467068562</td><td>4.42110584766967e-06</td><td>0</td><td>16.0793190002441</td><td>24.8729076385498</td><td>33.3093910217285</td><td>GALAXY</td><td>131074</td><td>0.0907069444656372</td><td>2.82011532783508</td><td>16348</td><td>2.8459608946320456e-06</td><td>105.30047660307797</td><td>108.45448255250582</td><td>4.5650031691711875e-05</td><td>379.1903541704441</td><td>0.01880257140076457</td><td>34.779099477509654</td><td>0.8346109318655801</td><td>18.814393779210025</td><td>-19.169492917014676</td><td>2.5097526963302648e+35</td><td>4.3425616153398614e-10</td></tr>\n",
       "<tr><td>39627591308545872</td><td>320.507889414523</td><td>-8.36396495688004</td><td>20221017</td><td>0.0277306536287561</td><td>7.50805521424361e-07</td><td>0</td><td>17.8674812316895</td><td>21.4693660736084</td><td>23.4484062194824</td><td>GALAXY</td><td>131074</td><td>0.0978089645504951</td><td>1.0</td><td>16348</td><td>2.8459608946320456e-06</td><td>105.30047660307797</td><td>108.45448255250582</td><td>4.5650031691711875e-05</td><td>120.40615562270526</td><td>0.0031931004057853913</td><td>10.675232306795694</td><td>0.8228801010055494</td><td>18.958793347702954</td><td>-16.53367239276424</td><td>2.2146378586106213e+34</td><td>1.2756176922289585e-08</td></tr>\n",
       "<tr><td>39627591308542929</td><td>320.396536488807</td><td>-8.37010261300134</td><td>20221021</td><td>0.0285622786792984</td><td>4.65228570214661e-06</td><td>0</td><td>7.77541351318359</td><td>11.3974275588989</td><td>13.9711771011353</td><td>GALAXY</td><td>65537</td><td>0.101045191287994</td><td>0.50493460893631</td><td>16348</td><td>2.8459608946320456e-06</td><td>105.30047660307797</td><td>108.45448255250582</td><td>4.5650031691711875e-05</td><td>124.09257013880153</td><td>0.019785762328219304</td><td>11.007718742042398</td><td>0.8175894568483099</td><td>19.639321104694815</td><td>-15.918636004838575</td><td>1.256863645702737e+34</td><td>7.161639276611245e-09</td></tr>\n",
       "<tr><td>39627591308542274</td><td>320.373587986735</td><td>-8.12995200588779</td><td>20221021</td><td>0.0735192744868171</td><td>1.98223896510671e-06</td><td>0</td><td>43.7036933898926</td><td>85.3830718994141</td><td>143.592086791992</td><td>GALAXY</td><td>131074</td><td>0.139682069420815</td><td>0.817847788333893</td><td>16348</td><td>2.8459608946320456e-06</td><td>105.30047660307797</td><td>108.45448255250582</td><td>4.5650031691711875e-05</td><td>329.74314143349056</td><td>0.008430270972930243</td><td>30.05774160796308</td><td>0.7569918446453922</td><td>17.369298562445742</td><td>-20.311113921907555</td><td>7.182561138747964e+35</td><td>7.652303798218396e-09</td></tr>\n",
       "<tr><td>39627591291771998</td><td>319.597532943894</td><td>-8.14727701600057</td><td>20221017</td><td>0.0486380727662298</td><td>1.1659805100058e-05</td><td>0</td><td>7.48881053924561</td><td>13.4823884963989</td><td>18.7347106933594</td><td>GALAXY</td><td>131074</td><td>0.197791174054146</td><td>4.0</td><td>16348</td><td>2.8459608946320456e-06</td><td>105.30047660307797</td><td>108.45448255250582</td><td>4.5650031691711875e-05</td><td>214.39446440097078</td><td>0.04958839180495758</td><td>19.253134108870064</td><td>0.6742049856437354</td><td>19.24756280628972</td><td>-17.49787322712443</td><td>5.382487792665927e+34</td><td>1.1724523389835372e-08</td></tr>\n",
       "<tr><td>39627591291771096</td><td>319.56398130914</td><td>-8.26827365817723</td><td>20230526</td><td>0.0840087924586341</td><td>1.40611003409282e-05</td><td>0</td><td>6.7386908531189</td><td>14.7545833587646</td><td>27.3485088348389</td><td>GALAXY</td><td>131074</td><td>0.200485810637474</td><td>1.48381924629211</td><td>16348</td><td>2.8459608946320456e-06</td><td>105.30047660307797</td><td>108.45448255250582</td><td>4.5650031691711875e-05</td><td>379.48669558853896</td><td>0.0598010536788407</td><td>34.80755302479849</td><td>0.6705937204583194</td><td>19.143831329873077</td><td>-18.841752125230304</td><td>1.8558147098392145e+35</td><td>3.1736830900449633e-10</td></tr>\n",
       "<tr><td>39627591300154230</td><td>319.888741108107</td><td>-8.370266848791</td><td>20221021</td><td>0.0609445123496367</td><td>1.49996587165397e-05</td><td>0</td><td>8.51000022888184</td><td>18.8288612365723</td><td>31.3008003234863</td><td>GALAXY</td><td>131074</td><td>0.269829779863358</td><td>4.0</td><td>16348</td><td>2.8459608946320456e-06</td><td>105.30047660307797</td><td>108.45448255250582</td><td>4.5650031691711875e-05</td><td>270.9778984703221</td><td>0.06379273433064565</td><td>24.516022142921642</td><td>0.5840302506168409</td><td>18.729028219322338</td><td>-18.525092271741265</td><td>1.3863429281095378e+35</td><td>8.663484905126934e-09</td></tr>\n",
       "<tr><td>39627591300154551</td><td>319.900723006603</td><td>-8.32419876609012</td><td>20221017</td><td>0.0279554518673703</td><td>1.38800938167549e-05</td><td>0</td><td>10.4067039489746</td><td>20.3076343536377</td><td>32.1985321044922</td><td>GALAXY</td><td>131074</td><td>0.276561617851257</td><td>1.0</td><td>16348</td><td>2.8459608946320456e-06</td><td>105.30047660307797</td><td>108.45448255250582</td><td>4.5650031691711875e-05</td><td>121.40220859656688</td><td>0.05903123515122584</td><td>10.76503631073495</td><td>0.5762464509003968</td><td>18.63237232103878</td><td>-16.877984508329654</td><td>3.04107804615743e+34</td><td>1.7469278348771294e-08</td></tr>\n",
       "</table></div>"
      ],
      "text/plain": [
       "<Table length=268696>\n",
       "     TARGETID        TARGET_RA     ...         P_GAL         \n",
       "                                   ...                       \n",
       "      int64           float64      ...        float64        \n",
       "----------------- ---------------- ... ----------------------\n",
       "39628256189614890  192.88749868417 ...  1.928072395738542e-06\n",
       "39628193061145133  194.50231583988 ...  6.560053815340007e-08\n",
       "39628323789214761 190.275744814632 ... 1.0926011604367657e-11\n",
       "39628152405758287 194.961643002371 ... 2.3528692066034212e-11\n",
       "39628244793691843 193.688397256783 ...  5.166020486764793e-08\n",
       "39628244793688085 193.480267985234 ...  2.369870113230052e-07\n",
       "39628146579868777 195.692212791527 ... 2.0678949883643307e-10\n",
       "39628181497448518 195.220639855183 ... 2.4695660168678173e-08\n",
       "39628158252615983 195.653432627779 ...  3.088591863441898e-08\n",
       "              ...              ... ...                    ...\n",
       "39627591312736480 320.624475368709 ... 1.0244904684857798e-08\n",
       "39627591312736463 320.623864803136 ... 1.3930577428426663e-13\n",
       "39627591308548575 320.610987160216 ... 4.3425616153398614e-10\n",
       "39627591308545872 320.507889414523 ... 1.2756176922289585e-08\n",
       "39627591308542929 320.396536488807 ...  7.161639276611245e-09\n",
       "39627591308542274 320.373587986735 ...  7.652303798218396e-09\n",
       "39627591291771998 319.597532943894 ... 1.1724523389835372e-08\n",
       "39627591291771096  319.56398130914 ... 3.1736830900449633e-10\n",
       "39627591300154230 319.888741108107 ...  8.663484905126934e-09\n",
       "39627591300154551 319.900723006603 ... 1.7469278348771294e-08"
      ]
     },
     "execution_count": 171,
     "metadata": {},
     "output_type": "execute_result"
    }
   ],
   "source": [
    "data_f[:]"
   ]
  },
  {
   "cell_type": "markdown",
   "metadata": {
    "tags": []
   },
   "source": [
    "## Analyse the data: How much luminosity do we cover? Which galaxies should we observe?\n",
    "\n",
    "Lets look into what information we can retrieve from here. First we define, how many galaxies we could observe (N_galaxies).\n",
    "\n",
    "We then calculate the luminosity (lum) from all the galaxies in this area, i.e. the total luminosity. From there do some comparison between the covered luminosity and total luminosity depending on the ranking by probability:\n",
    "- simple \"Maximum lum that could be covered\" by looking at the brightest galaxies\n",
    "- Calculate the probability this way (done above) (from https://arxiv.org/pdf/1710.05452.pdf w/o normalization), both using a static and variable distance and error: $$P_{gal} = k^{-1}\\tilde{L_z}(1-f_{missed})\\cdot P_{2D}\\left(1-\\text{erf}\\left(\\frac{|D_{Gal}-D_{LVC}|}{\\sqrt{\\sigma_{D,gal}^{2}+\\sigma_{D,LVC}^{2}+\\sigma_{D,cosmology}^{2}}}\\right)\\right)$$\n",
    "- others may follow...\n",
    "\n",
    "**Wrong formula**\n",
    "\n",
    "Since we have the actual luminosity (here in r-band though), we don't need to again calculate the $$\\tilde{L}_{gal}$$ values. In the mentioned paper, they only use a fixed distance and error for the LIGO data. I will try both, to get an idea what the differences are."
   ]
  },
  {
   "cell_type": "code",
   "execution_count": 172,
   "metadata": {},
   "outputs": [],
   "source": [
    "N_galaxies = 200 # how many galaxies we can cover"
   ]
  },
  {
   "cell_type": "code",
   "execution_count": 173,
   "metadata": {},
   "outputs": [],
   "source": [
    "total_lum = np.sum(data_f[\"LUM_R\"])"
   ]
  },
  {
   "cell_type": "markdown",
   "metadata": {
    "tags": []
   },
   "source": [
    "### Compare lum with luminosity ranking\n",
    "\n",
    "https://iopscience.iop.org/article/10.3847/0067-0049/226/1/10"
   ]
  },
  {
   "cell_type": "code",
   "execution_count": 174,
   "metadata": {},
   "outputs": [],
   "source": [
    "data_sort_by_lums = data_f.group_by(\"LUM_R\")\n",
    "data_sort_by_lums = data_sort_by_lums[::-1]"
   ]
  },
  {
   "cell_type": "code",
   "execution_count": 175,
   "metadata": {},
   "outputs": [],
   "source": [
    "lum_after_N_highest = np.sum(data_sort_by_lums[\"LUM_R\"][:N_galaxies])"
   ]
  },
  {
   "cell_type": "code",
   "execution_count": 176,
   "metadata": {},
   "outputs": [
    {
     "name": "stdout",
     "output_type": "stream",
     "text": [
      "The theoretical maximum luminosity we could cover is 2.2505320188469492e+39, i.e. 1.5287817422345924 % of the total luminosity\n",
      "The TARGETID values of these galaxies are: \n",
      "      TARGETID    \n",
      "-----------------\n",
      "39627895458500736\n",
      "39628505805226808\n",
      "39628158160340017\n",
      "39627914559360809\n",
      "39628163155759900\n",
      "39627665136681771\n",
      "39632989780444244\n",
      "39633047867362747\n",
      "39627731532514190\n",
      "39627641170434169\n",
      "              ...\n",
      "39628448179684553\n",
      "39633024177932079\n",
      "39628437580680737\n",
      "39628249902350610\n",
      "39628328243560645\n",
      "39628040229095049\n",
      "39628405179683626\n",
      "39633009380426992\n",
      "39627878467373036\n",
      "39628069564055959\n",
      "39628322824523285\n",
      "Length = 200 rows\n"
     ]
    }
   ],
   "source": [
    "print(f\"The theoretical maximum luminosity we could cover is {lum_after_N_highest}, i.e. {lum_after_N_highest*100/total_lum} % of the total luminosity\")\n",
    "print(\"The TARGETID values of these galaxies are: \\n\", data_sort_by_lums[\"TARGETID\"][:N_galaxies])"
   ]
  },
  {
   "cell_type": "markdown",
   "metadata": {
    "tags": []
   },
   "source": [
    "### Compare lum with P_Gal ranking"
   ]
  },
  {
   "cell_type": "code",
   "execution_count": 177,
   "metadata": {},
   "outputs": [],
   "source": [
    "data_sort_by_PGal = data_f.group_by(\"P_GAL\")\n",
    "data_sort_by_PGal = data_sort_by_PGal[::-1]\n",
    "\n",
    "lum_after_N_PGal = np.sum(data_sort_by_PGal[\"LUM_R\"][:N_galaxies])"
   ]
  },
  {
   "cell_type": "code",
   "execution_count": 178,
   "metadata": {},
   "outputs": [
    {
     "name": "stdout",
     "output_type": "stream",
     "text": [
      "The luminosity we cover when observing 200 galaxies ranked by P_gal is 9.90119658941195e+38W, i.e. 0.6725862349616187% of the total (DESI) luminosity in the search area\n",
      "The TARGETID values of these galaxies are: \n",
      "    TARGET_RA        TARGET_DEC    ...      TARGETID             P_GAL         \n",
      "---------------- ---------------- ... ----------------- ----------------------\n",
      " 175.63688326451 26.4888665596758 ... 39628406056289890  0.0014614273647588845\n",
      "169.094639962215 29.2522918090561 ... 39628464784938394  0.0012770868977447882\n",
      "168.792255795598 29.5300448681421 ... 39628470052984043  0.0011673369047300298\n",
      "149.470402339266 36.3492047344903 ... 39633005039322253  0.0010841758245282284\n",
      "168.013929540229  27.589771789637 ... 39628427510155128  0.0010759999308291273\n",
      "167.357501924811 29.5692074982127 ... 39628470032011806  0.0009940145163214878\n",
      "167.718552810569 30.1649560510581 ... 39628485781621230  0.0009445791504403144\n",
      "167.660153397568 28.3168067979872 ... 39628443549174193  0.0009163924864371592\n",
      "174.267366001413 24.0962319063736 ... 39628351312232544   0.000885572546840221\n",
      "169.569533718111  28.260425252629 ... 39628443578533051  0.0008812522788103067\n",
      "             ...              ... ...               ...                    ...\n",
      "189.669924263129 13.7339529887748 ... 39628117198769629 0.00028181791083948843\n",
      "149.223069893575 36.1995954629448 ... 39633005035128796  0.0002807859739362364\n",
      "130.140274638066 36.5929544132842 ... 39633009653056845  0.0002807401737086989\n",
      "155.580871445088 36.5830179615174 ... 39633009996989617  0.0002806020819586167\n",
      "149.355760365708 38.5385004145481 ... 39633048353901279 0.00028005326820658373\n",
      " 161.78551118903 34.8381031624402 ... 39632975624670635  0.0002800157222105246\n",
      "121.128729296664 15.4838069629991 ... 39628157044658325  0.0002778093343232081\n",
      "149.082232090038 36.4958214478133 ... 39633009908909582 0.00027756791376921594\n",
      "160.283392369219 32.2674293171185 ... 39628527074542717  0.0002761829552808712\n",
      "117.595396305246 17.6454195575535 ... 39628209150497982 0.00027593128589703715\n",
      "164.973076925758 30.4496929236311 ... 39628490965778851  0.0002753269148908506\n",
      "Length = 200 rows\n"
     ]
    }
   ],
   "source": [
    "print(f\"The luminosity we cover when observing {N_galaxies} galaxies ranked by P_gal is {lum_after_N_PGal}W, i.e. {lum_after_N_PGal*100/total_lum}% of the total (DESI) luminosity in the search area\") \n",
    "print(\"The TARGETID values of these galaxies are: \\n\", data_sort_by_PGal[\"TARGET_RA\", \"TARGET_DEC\", \"SERSIC\", \"TARGETID\", \"P_GAL\"][:N_galaxies])"
   ]
  },
  {
   "cell_type": "code",
   "execution_count": 179,
   "metadata": {},
   "outputs": [],
   "source": [
    "P_Gal_cumsum = np.cumsum(data_sort_by_PGal[\"P_GAL\"])"
   ]
  },
  {
   "cell_type": "code",
   "execution_count": 180,
   "metadata": {},
   "outputs": [
    {
     "data": {
      "image/png": "[encoded data removed]",
      "text/plain": [
       "<Figure size 640x480 with 1 Axes>"
      ]
     },
     "metadata": {},
     "output_type": "display_data"
    }
   ],
   "source": [
    "plt.plot(list(range(len(P_Gal_cumsum))),  P_Gal_cumsum)\n",
    "plt.xscale(\"log\")\n",
    "\n",
    "plt.yscale(\"log\")\n",
    "plt.xlim(1,len(P_Gal_cumsum))\n",
    "plt.savefig(dpi = 100, fname = f\"{superevent_name}PGAL_CUMULATIVE099.png\")\n",
    "plt.show()"
   ]
  },
  {
   "cell_type": "code",
   "execution_count": 181,
   "metadata": {},
   "outputs": [
    {
     "data": {
      "text/plain": [
       "'data_sort_by_PGal_C = data_f.group_by(\"P_GAL_C\")\\ndata_sort_by_PGal_C = data_sort_by_PGal_C[::-1]\\n\\nlum_after_N_PGal_C = np.sum(data_sort_by_PGal_C[\"LUM_R\"][:N_galaxies])'"
      ]
     },
     "execution_count": 181,
     "metadata": {},
     "output_type": "execute_result"
    }
   ],
   "source": [
    "\"\"\"data_sort_by_PGal_C = data_f.group_by(\"P_GAL_C\")\n",
    "data_sort_by_PGal_C = data_sort_by_PGal_C[::-1]\n",
    "\n",
    "lum_after_N_PGal_C = np.sum(data_sort_by_PGal_C[\"LUM_R\"][:N_galaxies])\"\"\""
   ]
  },
  {
   "cell_type": "code",
   "execution_count": 182,
   "metadata": {},
   "outputs": [
    {
     "data": {
      "text/plain": [
       "'print(f\"The maximum luminosity we cover when ranked by P_gal_C is {lum_after_N_PGal_C}, i.e. {lum_after_N_PGal_C*100/total_lum}% of the total luminosity\") \\nprint(\"The TARGETID values of these galaxies are: \\n\", data_sort_by_PGal_C[\"TARGETID\", \"P_GAL\"][:N_galaxies])'"
      ]
     },
     "execution_count": 182,
     "metadata": {},
     "output_type": "execute_result"
    }
   ],
   "source": [
    "\"\"\"print(f\"The maximum luminosity we cover when ranked by P_gal_C is {lum_after_N_PGal_C}, i.e. {lum_after_N_PGal_C*100/total_lum}% of the total luminosity\") \n",
    "print(\"The TARGETID values of these galaxies are: \\n\", data_sort_by_PGal_C[\"TARGETID\", \"P_GAL\"][:N_galaxies])\"\"\""
   ]
  },
  {
   "cell_type": "markdown",
   "metadata": {
    "tags": []
   },
   "source": [
    "## Exclude unobservabe objects from the PGal ranking and export list\n",
    "\n",
    "We want to cut out galaxies that are not observable by Wendelstein. For this we need the date (to calculate alt and az; we do this for three times to check observability) and Wendelstein location."
   ]
  },
  {
   "cell_type": "code",
   "execution_count": 183,
   "metadata": {},
   "outputs": [],
   "source": [
    "# convert DEG:MIN:SEC to deg with decimals...\n",
    "def conv_to_deg(deg, arcmin, arcsec):\n",
    "    return (deg+ arcmin/60+ arcsec/3600)*u.deg"
   ]
  },
  {
   "cell_type": "markdown",
   "metadata": {
    "tags": []
   },
   "source": [
    "### Get the observable objects (i.e. alt > 0) in the next night and apply that selection to our data"
   ]
  },
  {
   "cell_type": "code",
   "execution_count": 184,
   "metadata": {},
   "outputs": [
    {
     "name": "stderr",
     "output_type": "stream",
     "text": [
      "/tmp/ipykernel_933840/3580540673.py:18: DeprecationWarning: parsing timezone aware datetimes is deprecated; this will raise an error in the future\n",
      "  t = np.arange(sunset_time, sunrise_time, timedelta(minutes=45)).astype(datetime)              # this may throw a deprecation warning, but seems fine anyway: https://github.com/numpy/numpy/issues/23904\n"
     ]
    }
   ],
   "source": [
    "# set the timzone\n",
    "timezone = \"Europe/Berlin\"\n",
    "tz_Berlin = pytz.timezone(timezone)\n",
    "\n",
    "# get the date (and actually time, but that it useless for us) of today and tomorrow\n",
    "day_Berlin = datetime.now(tz_Berlin)\n",
    "tmrw_Berlin = day_Berlin + timedelta(hours = 23, minutes = 59, seconds = 59)\n",
    "\n",
    "# set the Wendelstein location\n",
    "Wendelstein_loc = EarthLocation(lat = conv_to_deg(47, 42, 13.1), lon = conv_to_deg(12, 0, 43.4), height = 1838*u.m) #check - or + 12\n",
    "\n",
    "# define the sun object, which will tell us sunrise and set\n",
    "sun = SunTimes(Wendelstein_loc.lon.to_value(), Wendelstein_loc.lat.to_value(), Wendelstein_loc.height.to_value())\n",
    "sunset_time = sun.setwhere(day_Berlin, timezone)\n",
    "sunrise_time = sun.risewhere(tmrw_Berlin, timezone)\n",
    "\n",
    "# get a time array that includes the sunset time and from there a 30min interval until sunset\n",
    "t = np.arange(sunset_time, sunrise_time, timedelta(minutes=45)).astype(datetime)              # this may throw a deprecation warning, but seems fine anyway: https://github.com/numpy/numpy/issues/23904\n",
    "\n",
    "# a little cheap but effective: observation at sunset is useless, start 1h after:\n",
    "t = t[2:]"
   ]
  },
  {
   "cell_type": "code",
   "execution_count": 185,
   "metadata": {},
   "outputs": [],
   "source": [
    "# get all the SkyCoords for each objects in the data catalog\n",
    "target_SkyCoord = SkyCoord(data_sort_by_PGal[\"TARGET_RA\"], data_sort_by_PGal[\"TARGET_DEC\"], unit = \"deg\")"
   ]
  },
  {
   "cell_type": "code",
   "execution_count": 186,
   "metadata": {},
   "outputs": [],
   "source": [
    "# get Alt for the different times during the night\n",
    "# t should be an array that consists of a couple of night times, so if *all* of these times don't have a positive alt it will be discarded\n",
    "target_Alt = [target_SkyCoord.transform_to(AltAz(obstime = time, location = Wendelstein_loc)).alt.value for time in t]\n",
    "\n",
    "# now turn it into a numpy array\n",
    "target_Alt = np.array(target_Alt)\n",
    "\n",
    "# swap the axes so that the first axis is all the different targets and the second then includes the alt per observing time\n",
    "target_Alt_swapped = np.swapaxes(target_Alt, 0,1)\n",
    "\n",
    "# now create the selection for each target in the P_Gal catalog\n",
    "sel = []\n",
    "for target in target_Alt_swapped:\n",
    "    sel.append((target > 0).any())\n",
    "    \n",
    "# now apply the selection to the dataset\n",
    "data_sort_by_PGal_observable = data_sort_by_PGal[sel]"
   ]
  },
  {
   "cell_type": "code",
   "execution_count": 187,
   "metadata": {},
   "outputs": [
    {
     "name": "stdout",
     "output_type": "stream",
     "text": [
      "There were 51561 non-observable objects in the current dataset. \n",
      "We have 217135 objects remaining\n"
     ]
    }
   ],
   "source": [
    "print(f\"There were {len(data_sort_by_PGal) - len(data_sort_by_PGal_observable)} non-observable objects in the current dataset. \\nWe have {len(data_sort_by_PGal_observable)} objects remaining\")"
   ]
  },
  {
   "cell_type": "markdown",
   "metadata": {
    "tags": []
   },
   "source": [
    "### Export the final list & print some data"
   ]
  },
  {
   "cell_type": "code",
   "execution_count": 188,
   "metadata": {},
   "outputs": [
    {
     "name": "stdout",
     "output_type": "stream",
     "text": [
      "These are the stats for S230615az follow up :\n"
     ]
    }
   ],
   "source": [
    "print(f\"These are the stats for {superevent_name} follow up :\")"
   ]
  },
  {
   "cell_type": "code",
   "execution_count": 191,
   "metadata": {},
   "outputs": [
    {
     "name": "stdout",
     "output_type": "stream",
     "text": [
      "Localization area: 10591.885802564928 deg2 \n",
      "Redshift range in data: 4.46532438442461e-08 to 0.172718303847157 \n",
      "corresponding lum distance range: 2.2583070853392408e-05 Mpc to 825.3541998127255 Mpc \n",
      "highest prob location is at RA = 34.33471933471934 deg and dec = -44.89496130928037 deg \n",
      "total No. of objects in desi data is 268696\n"
     ]
    }
   ],
   "source": [
    "data_min_z = np.min(data_sort_by_PGal_observable[\"Z\"])\n",
    "data_max_z = np.max(data_sort_by_PGal_observable[\"Z\"])\n",
    "print(f\"Localization area: {area_99.to_value(u.deg**2)*u.deg**2} \\nRedshift range in data: {data_min_z} to {data_max_z} \\ncorresponding lum distance range: {data_min_dist} to {data_max_dist} \\nhighest prob location is at RA = {ra.deg*u.deg} and dec = {dec.deg*u.deg} \\ntotal No. of objects in desi data is {len(data_sort_by_PGal)}\")\n"
   ]
  },
  {
   "cell_type": "code",
   "execution_count": 192,
   "metadata": {},
   "outputs": [],
   "source": [
    "data_sort_by_PGal_observable[\"TARGET_RA\", \"TARGET_DEC\", \"SERSIC\", \"Z\", \"P_GAL\"][:N_galaxies].write(f'PGAL/PGAL_{superevent_name}.ecsv', delimiter=',', format='ascii', overwrite = True)\n"
   ]
  },
  {
   "cell_type": "code",
   "execution_count": null,
   "metadata": {},
   "outputs": [],
   "source": [
    "# add timing data to table, "
   ]
  }
 ],
 "metadata": {
  "kernelspec": {
   "display_name": "Python (MambaTest)",
   "language": "python",
   "name": "mambatest"
  },
  "language_info": {
   "codemirror_mode": {
    "name": "ipython",
    "version": 3
   },
   "file_extension": ".py",
   "mimetype": "text/x-python",
   "name": "python",
   "nbconvert_exporter": "python",
   "pygments_lexer": "ipython3",
   "version": "3.10.10"
  }
 },
 "nbformat": 4,
 "nbformat_minor": 4
}
