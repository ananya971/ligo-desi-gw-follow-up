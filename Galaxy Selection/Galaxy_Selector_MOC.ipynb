{
 "cells": [
  {
   "cell_type": "markdown",
   "metadata": {
    "tags": []
   },
   "source": [
    "# Galaxy Selector MOC\n",
    "\n",
    "**Designed to work with Multi-Ordering-Sky-Maps and both burst (i.e. no distance) and normal LVK maps**\n",
    "\n",
    "\n",
    "\n",
    "Select the galaxies to observe by WWFI in this simple manner:\n",
    "- get the LIGO event data\n",
    "- read the LIGO event data into the notebook, extract some information\n",
    "- read the DESI database into the notebook, \"clean\" the data\n",
    "- get the 99% credible regions for the event, add them as a column to the data\n",
    "- only keep data within the 99% region\n",
    "- calculate all the luminosities (& more)\n",
    "- rank them by luminosity (for now just print the TARGETID), 3D/2D localization and with a luminosity-distance 2D dependant counterpart likelihood\n",
    "\n",
    "(some) Sources: \n",
    "- https://iopscience.iop.org/article/10.3847/0067-0049/226/1/10\n",
    "- https://emfollow.docs.ligo.org/userguide/tutorial/skymaps.html\n",
    "- https://emfollow.docs.ligo.org/userguide/tutorial/multiorder_skymaps.html\n",
    "- https://arxiv.org/pdf/1710.05452.pdf"
   ]
  },
  {
   "cell_type": "markdown",
   "metadata": {
    "jp-MarkdownHeadingCollapsed": true,
    "tags": []
   },
   "source": [
    "## Import all libraries, load GW data and DESI data and extract basic info"
   ]
  },
  {
   "cell_type": "markdown",
   "metadata": {
    "jp-MarkdownHeadingCollapsed": true,
    "tags": []
   },
   "source": [
    "### imports, GW data loading"
   ]
  },
  {
   "cell_type": "code",
   "execution_count": 278,
   "metadata": {},
   "outputs": [],
   "source": [
    "import numpy as np\n",
    "from scipy.stats import norm\n",
    "import scipy as sc\n",
    "from scipy.integrate import quad\n",
    "\n",
    "\n",
    "from astropy.io import fits, ascii\n",
    "from astropy.table import Table, hstack, QTable\n",
    "from astropy import table\n",
    "from astropy.coordinates import SkyCoord, EarthLocation, AltAz\n",
    "\n",
    "import astropy_healpix as ah\n",
    "\n",
    "\n",
    "import psycopg2\n",
    "\n",
    "from scipy.stats import norm\n",
    "\n",
    "from astropy.cosmology import FlatLambdaCDM\n",
    "from astropy.cosmology import Planck18, z_at_value\n",
    "from astropy.coordinates import Distance, SkyCoord\n",
    "from astropy import units as u\n",
    "\n",
    "import astropy.constants as asc\n",
    "\n",
    "import matplotlib.pyplot as plt\n",
    "\n",
    "import requests as rq\n",
    "\n",
    "import gasel as gs\n",
    "\n",
    "from datetime import datetime\n",
    "from datetime import timedelta\n",
    "from datetime import date\n",
    "from suntimes import SunTimes\n",
    "import pytz"
   ]
  },
  {
   "cell_type": "code",
   "execution_count": 279,
   "metadata": {},
   "outputs": [
    {
     "name": "stdout",
     "output_type": "stream",
     "text": [
      "(to get DESI data) you should run scp dgruen@perlmutter.nersc.gov:/pscratch/sd/j/jgassert/good_z_data_BGSBright.fits /project/ls-gruen/ligodesi/\n"
     ]
    }
   ],
   "source": [
    "# Get DESI data\n",
    "print(\"(to get DESI data) you should run scp dgruen@perlmutter.nersc.gov:/pscratch/sd/j/jgassert/good_z_data_BGSBright.fits /project/ls-gruen/ligodesi/\")\n",
    "\n",
    "# specify the superevent name:\n",
    "superevent_name = \"S230609u\"\n",
    "\n",
    "# pipeline - bayestar is preferred if available, otherwise maybe use olib? bilby? cwb? whatever these mean\n",
    "pipeline_type = \"bayestar\"\n",
    "\n",
    "if pipeline_type == \"cwb\":\n",
    "    # bursts probably only for very nearby core-collapse or Andromeda events, maybe cut at 1Mpc or something of that order? -> check if there is a very nearby galaxy\n",
    "        # think about which pipeline detected it!\n",
    "    # or very massive bbh but then hope is that cbc would detect as well\n",
    "    \n",
    "    modeled_search = False\n",
    "else:\n",
    "    modeled_search = True\n",
    "\n",
    "# storage directory\n",
    "# storage = \"/project/ls-gruen/ligodesi/\"\n",
    "# storage_desi_data = storage\n",
    "storage = \"/global/homes/j/jgassert/ligo-desi-gw-follow-up/Galaxy Selection/Files/\" # Julius on NERSC\n",
    "storage_desi_data = \"/pscratch/sd/j/jgassert/\""
   ]
  },
  {
   "cell_type": "code",
   "execution_count": 280,
   "metadata": {},
   "outputs": [
    {
     "name": "stdout",
     "output_type": "stream",
     "text": [
      "read skymap from local file\n"
     ]
    }
   ],
   "source": [
    "path = storage+f\"{superevent_name}{pipeline_type}.multiorder.fits,1\" # 5min after alert this should be there\n",
    "\n",
    "try:\n",
    "    skymap = QTable.read(path)\n",
    "    print(\"read skymap from local file\")\n",
    "    \n",
    "except:\n",
    "    download_url = f\"https://gracedb.ligo.org/api/superevents/{superevent_name}/files/{pipeline_type}.multiorder.fits,1\"\n",
    "    save_path = storage+f\"{superevent_name}{pipeline_type}.multiorder.fits,1\"\n",
    "    print(\"no local skymap...\")\n",
    "    print(f\"...will download LIGO event file from superevent {superevent_name}, corresponding file URL is {download_url} and save it in .../Files/\")\n",
    "    \n",
    "    response = rq.get(download_url, allow_redirects = True)\n",
    "    print(\"HTTP status\",response.status_code)\n",
    "    if response.status_code == 200:\n",
    "        with open(save_path, 'wb') as f:\n",
    "            f.write(response.content)\n",
    "            \n",
    "        skymap = QTable.read(path)"
   ]
  },
  {
   "cell_type": "markdown",
   "metadata": {},
   "source": [
    "Specifiy the path where the data is located and then load the data (this loads everything, just have a look)"
   ]
  },
  {
   "cell_type": "code",
   "execution_count": 281,
   "metadata": {},
   "outputs": [
    {
     "data": {
      "text/html": [
       "<div><i>QTable length=5</i>\n",
       "<table id=\"table140597167486672\" class=\"table-striped table-bordered table-condensed\">\n",
       "<thead><tr><th>UNIQ</th><th>PROBDENSITY</th><th>DISTMU</th><th>DISTSIGMA</th><th>DISTNORM</th></tr></thead>\n",
       "<thead><tr><th></th><th>1 / sr</th><th>Mpc</th><th>Mpc</th><th>1 / Mpc2</th></tr></thead>\n",
       "<thead><tr><th>int64</th><th>float64</th><th>float64</th><th>float64</th><th>float64</th></tr></thead>\n",
       "<tr><td>1024</td><td>1.2244322287211873e-09</td><td>inf</td><td>1.0</td><td>0.0</td></tr>\n",
       "<tr><td>1025</td><td>3.6186401822054184e-09</td><td>inf</td><td>1.0</td><td>0.0</td></tr>\n",
       "<tr><td>1026</td><td>1.6473597195454547e-09</td><td>inf</td><td>1.0</td><td>0.0</td></tr>\n",
       "<tr><td>1027</td><td>3.0758964347991933e-09</td><td>inf</td><td>1.0</td><td>0.0</td></tr>\n",
       "<tr><td>1028</td><td>8.740285819236264e-08</td><td>inf</td><td>1.0</td><td>0.0</td></tr>\n",
       "</table></div>"
      ],
      "text/plain": [
       "<QTable length=5>\n",
       " UNIQ      PROBDENSITY        DISTMU DISTSIGMA DISTNORM\n",
       "              1 / sr           Mpc      Mpc    1 / Mpc2\n",
       "int64        float64         float64  float64  float64 \n",
       "----- ---------------------- ------- --------- --------\n",
       " 1024 1.2244322287211873e-09     inf       1.0      0.0\n",
       " 1025 3.6186401822054184e-09     inf       1.0      0.0\n",
       " 1026 1.6473597195454547e-09     inf       1.0      0.0\n",
       " 1027 3.0758964347991933e-09     inf       1.0      0.0\n",
       " 1028  8.740285819236264e-08     inf       1.0      0.0"
      ]
     },
     "execution_count": 281,
     "metadata": {},
     "output_type": "execute_result"
    }
   ],
   "source": [
    "skymap[:5]"
   ]
  },
  {
   "cell_type": "markdown",
   "metadata": {
    "jp-MarkdownHeadingCollapsed": true,
    "tags": []
   },
   "source": [
    "### Get basic values from GW event\n",
    "\n",
    "We now extract some basic information  from the healpix data:\n",
    "- ipix_max: pixel with highest likelihood\n",
    "- npix: total number of pixels\n",
    "- ra, dec: ra and dec of the pixel with the highest likelihood\n",
    "\n",
    "Then we open the full fits file and extract some more basic info from the header:\n",
    "- dist_mean: mean distance of the GW event\n",
    "- dist_std: error of the distance"
   ]
  },
  {
   "cell_type": "code",
   "execution_count": 282,
   "metadata": {},
   "outputs": [
    {
     "name": "stdout",
     "output_type": "stream",
     "text": [
      "UNIQ ID of highest prob sky localization:  591799\n"
     ]
    }
   ],
   "source": [
    "# most probable sky location\n",
    "i = np.argmax(skymap[\"PROBDENSITY\"])\n",
    "uniq = skymap[i][\"UNIQ\"]\n",
    "print(\"UNIQ ID of highest prob sky localization: \", uniq)"
   ]
  },
  {
   "cell_type": "code",
   "execution_count": 283,
   "metadata": {},
   "outputs": [
    {
     "name": "stdout",
     "output_type": "stream",
     "text": [
      "Highest probability at (RA, dec):  94.5703125 -26.443334157130206 with prob [1/deg^2] of:  0.0022315359827684428 and UNIQ ID:  591799\n"
     ]
    }
   ],
   "source": [
    "# calculate the most probable pixel, convert to RA and dec\n",
    "level_max, ipix_max = ah.uniq_to_level_ipix(uniq)\n",
    "nside = ah.level_to_nside(level_max)\n",
    "ra, dec = ah.healpix_to_lonlat(ipix_max, nside, order = \"nested\")\n",
    "print(\"Highest probability at (RA, dec): \", ra.deg, dec.deg, \"with prob [1/deg^2] of: \", skymap[i]['PROBDENSITY'].to_value(u.deg**-2), \"and UNIQ ID: \", skymap[i][\"UNIQ\"])"
   ]
  },
  {
   "cell_type": "markdown",
   "metadata": {},
   "source": [
    "Now open the fits file and read basics info from the header"
   ]
  },
  {
   "cell_type": "code",
   "execution_count": 284,
   "metadata": {},
   "outputs": [
    {
     "name": "stdout",
     "output_type": "stream",
     "text": [
      "The dist_mean and dist_std values:  2798.778095695261 Mpc 842.0974799542527 Mpc\n",
      "This corresponds to the most likely z 0.48262211443495223 redshift and its error 0.16939643985202008 redshift\n"
     ]
    }
   ],
   "source": [
    "if modeled_search:\n",
    "    fits_gw = fits.open(path)\n",
    "    header = fits_gw[1].header\n",
    "    dist_mean = header[\"DISTMEAN\"]\n",
    "    dist_std = header[\"DISTSTD\"]\n",
    "    print(\"The dist_mean and dist_std values: \", dist_mean*u.Mpc, dist_std*u.Mpc)\n",
    "    most_likely_z = z_at_value(Planck18.luminosity_distance, dist_mean*u.Mpc, zmax = 5)\n",
    "    most_likely_z_std = z_at_value(Planck18.luminosity_distance, dist_std*u.Mpc, zmax = 5)\n",
    "    print(f\"This corresponds to the most likely z {most_likely_z} and its error {most_likely_z_std}\")\n",
    "else:\n",
    "    print(\"As this is an unmodeled search there is no distance available\")"
   ]
  },
  {
   "cell_type": "markdown",
   "metadata": {
    "jp-MarkdownHeadingCollapsed": true,
    "tags": []
   },
   "source": [
    "### Get DESI data\n",
    "\n",
    "Load the full daily data from the file, which only includes good redshift objects"
   ]
  },
  {
   "cell_type": "code",
   "execution_count": 285,
   "metadata": {},
   "outputs": [],
   "source": [
    "follow_up_others = False"
   ]
  },
  {
   "cell_type": "code",
   "execution_count": 286,
   "metadata": {},
   "outputs": [],
   "source": [
    "if follow_up_others:\n",
    "    center_ra = 235.9839\n",
    "    center_dec = 15.2248\n",
    "    radius = 1/360\n",
    "    z_others = 0\n",
    "    z_others_std = 0.4\n",
    "    \n",
    "    sigma_accuracy = 3\n",
    "    \n",
    "    data = gs.db_doall(center_ra, center_dec, radius)\n",
    "    \n",
    "    #ii = data[\"Z\"]-sigma_accuracy*data[\"ZERR\"]<z_others+sigma_accuracy*z_others_std\n",
    "    #ii &= data[\"Z\"]+sigma_accuracy*data[\"ZERR\"]>z_others-sigma_accuracy*z_others_std\n",
    "    \n",
    "    #data = data[ii]\n",
    "    \n",
    "    \n",
    "else:\n",
    "    data = Table.read(storage_desi_data+\"good_z_data.fits\")"
   ]
  },
  {
   "cell_type": "code",
   "execution_count": 287,
   "metadata": {},
   "outputs": [
    {
     "data": {
      "text/html": [
       "<div><i>Table length=5</i>\n",
       "<table id=\"table140596959515536\" class=\"table-striped table-bordered table-condensed\">\n",
       "<thead><tr><th>TARGETID</th><th>TARGET_RA</th><th>TARGET_DEC</th><th>LASTNIGHT</th><th>Z</th><th>ZERR</th><th>ZWARN</th><th>FLUX_G</th><th>FLUX_R</th><th>FLUX_Z</th><th>SPECTYPE</th><th>BGS_TARGET</th><th>EBV</th><th>SERSIC</th></tr></thead>\n",
       "<thead><tr><th>int64</th><th>float64</th><th>float64</th><th>int64</th><th>float64</th><th>float64</th><th>int64</th><th>float64</th><th>float64</th><th>float64</th><th>bytes6</th><th>int64</th><th>float64</th><th>float64</th></tr></thead>\n",
       "<tr><td>-407206628</td><td>289.160148698913</td><td>63.8756777034092</td><td>20210513</td><td>0.488143245600312</td><td>6.00460085329576e-05</td><td>0</td><td>0.0</td><td>0.0</td><td>0.0</td><td>GALAXY</td><td>0</td><td>0.0</td><td>0.0</td></tr>\n",
       "<tr><td>-407206517</td><td>289.24523373072</td><td>64.1182126208345</td><td>20210513</td><td>0.353953432359517</td><td>9.16563620937551e-05</td><td>0</td><td>0.0</td><td>0.0</td><td>0.0</td><td>GALAXY</td><td>0</td><td>0.0</td><td>0.0</td></tr>\n",
       "<tr><td>-407206395</td><td>288.991137990503</td><td>64.4269390406163</td><td>20210513</td><td>1.04167986703249</td><td>0.000103598417102832</td><td>0</td><td>0.0</td><td>0.0</td><td>0.0</td><td>GALAXY</td><td>0</td><td>0.0</td><td>0.0</td></tr>\n",
       "<tr><td>-407206306</td><td>288.328820102558</td><td>64.8171915439228</td><td>20210513</td><td>0.446085744563991</td><td>0.000103302897346752</td><td>0</td><td>0.0</td><td>0.0</td><td>0.0</td><td>GALAXY</td><td>0</td><td>0.0</td><td>0.0</td></tr>\n",
       "<tr><td>-407206302</td><td>288.170414727353</td><td>64.8761951861955</td><td>20210513</td><td>5.11210896599966</td><td>0.000690663180059733</td><td>0</td><td>0.0</td><td>0.0</td><td>0.0</td><td>QSO</td><td>0</td><td>0.0</td><td>0.0</td></tr>\n",
       "</table></div>"
      ],
      "text/plain": [
       "<Table length=5>\n",
       " TARGETID     TARGET_RA        TARGET_DEC    ... BGS_TARGET   EBV    SERSIC\n",
       "  int64        float64          float64      ...   int64    float64 float64\n",
       "---------- ---------------- ---------------- ... ---------- ------- -------\n",
       "-407206628 289.160148698913 63.8756777034092 ...          0     0.0     0.0\n",
       "-407206517  289.24523373072 64.1182126208345 ...          0     0.0     0.0\n",
       "-407206395 288.991137990503 64.4269390406163 ...          0     0.0     0.0\n",
       "-407206306 288.328820102558 64.8171915439228 ...          0     0.0     0.0\n",
       "-407206302 288.170414727353 64.8761951861955 ...          0     0.0     0.0"
      ]
     },
     "execution_count": 287,
     "metadata": {},
     "output_type": "execute_result"
    }
   ],
   "source": [
    "data[:5]"
   ]
  },
  {
   "cell_type": "markdown",
   "metadata": {
    "jp-MarkdownHeadingCollapsed": true,
    "tags": []
   },
   "source": [
    "## Do all the calculations, selections,...\n",
    "\n",
    "- turn the daily DESI data into a Table\n",
    "- do some basic data selection stuff: only keep good + positive redshifts, only positive values of r-band flux and eliminate duplicates (right now simply takes the first entry)\n",
    "- add the ipix (healpix) pixel value for each target\n",
    "- calculate the probability for each target\n",
    "- add these values to the Table (\"PROB\"), select only targets within the 99% credible region (i.e. with a certainty of 99% the GW event is inside this region)\n",
    "- calculate the distances and its errors from the redshift, add to the data table\n",
    "- calculate the 3D probability just like here: https://iopscience.iop.org/article/10.3847/0067-0049/226/1/10 (§4) and add these values to the table\n",
    "- sort the table by its 3D probability (descending)\n",
    "- calculate absolute and apparent magnitude, luminosity and add to table\n",
    "\n",
    "The final step is to include the calculation of the most likely host galaxy from https://arxiv.org/pdf/1710.05452.pdf (GW170817); these values are then also added to the table as \"P_GAL\""
   ]
  },
  {
   "cell_type": "code",
   "execution_count": 288,
   "metadata": {},
   "outputs": [
    {
     "data": {
      "text/html": [
       "<div><i>Table length=5</i>\n",
       "<table id=\"table140596959513328\" class=\"table-striped table-bordered table-condensed\">\n",
       "<thead><tr><th>TARGETID</th><th>TARGET_RA</th><th>TARGET_DEC</th><th>LASTNIGHT</th><th>Z</th><th>ZERR</th><th>ZWARN</th><th>FLUX_G</th><th>FLUX_R</th><th>FLUX_Z</th><th>SPECTYPE</th><th>BGS_TARGET</th><th>EBV</th><th>SERSIC</th></tr></thead>\n",
       "<thead><tr><th>int64</th><th>float64</th><th>float64</th><th>int64</th><th>float64</th><th>float64</th><th>int64</th><th>float64</th><th>float64</th><th>float64</th><th>bytes6</th><th>int64</th><th>float64</th><th>float64</th></tr></thead>\n",
       "<tr><td>-407206628</td><td>289.160148698913</td><td>63.8756777034092</td><td>20210513</td><td>0.488143245600312</td><td>6.00460085329576e-05</td><td>0</td><td>0.0</td><td>0.0</td><td>0.0</td><td>GALAXY</td><td>0</td><td>0.0</td><td>0.0</td></tr>\n",
       "<tr><td>-407206517</td><td>289.24523373072</td><td>64.1182126208345</td><td>20210513</td><td>0.353953432359517</td><td>9.16563620937551e-05</td><td>0</td><td>0.0</td><td>0.0</td><td>0.0</td><td>GALAXY</td><td>0</td><td>0.0</td><td>0.0</td></tr>\n",
       "<tr><td>-407206395</td><td>288.991137990503</td><td>64.4269390406163</td><td>20210513</td><td>1.04167986703249</td><td>0.000103598417102832</td><td>0</td><td>0.0</td><td>0.0</td><td>0.0</td><td>GALAXY</td><td>0</td><td>0.0</td><td>0.0</td></tr>\n",
       "<tr><td>-407206306</td><td>288.328820102558</td><td>64.8171915439228</td><td>20210513</td><td>0.446085744563991</td><td>0.000103302897346752</td><td>0</td><td>0.0</td><td>0.0</td><td>0.0</td><td>GALAXY</td><td>0</td><td>0.0</td><td>0.0</td></tr>\n",
       "<tr><td>-407206302</td><td>288.170414727353</td><td>64.8761951861955</td><td>20210513</td><td>5.11210896599966</td><td>0.000690663180059733</td><td>0</td><td>0.0</td><td>0.0</td><td>0.0</td><td>QSO</td><td>0</td><td>0.0</td><td>0.0</td></tr>\n",
       "</table></div>"
      ],
      "text/plain": [
       "<Table length=5>\n",
       " TARGETID     TARGET_RA        TARGET_DEC    ... BGS_TARGET   EBV    SERSIC\n",
       "  int64        float64          float64      ...   int64    float64 float64\n",
       "---------- ---------------- ---------------- ... ---------- ------- -------\n",
       "-407206628 289.160148698913 63.8756777034092 ...          0     0.0     0.0\n",
       "-407206517  289.24523373072 64.1182126208345 ...          0     0.0     0.0\n",
       "-407206395 288.991137990503 64.4269390406163 ...          0     0.0     0.0\n",
       "-407206306 288.328820102558 64.8171915439228 ...          0     0.0     0.0\n",
       "-407206302 288.170414727353 64.8761951861955 ...          0     0.0     0.0"
      ]
     },
     "execution_count": 288,
     "metadata": {},
     "output_type": "execute_result"
    }
   ],
   "source": [
    "data[:5]"
   ]
  },
  {
   "cell_type": "markdown",
   "metadata": {
    "jp-MarkdownHeadingCollapsed": true,
    "tags": []
   },
   "source": [
    "### data clean up"
   ]
  },
  {
   "cell_type": "code",
   "execution_count": 289,
   "metadata": {},
   "outputs": [],
   "source": [
    "#data = data[data[\"Z\"]> 0]\n",
    "#data = data[data[\"ZWARN\"] == 0]"
   ]
  },
  {
   "cell_type": "code",
   "execution_count": 290,
   "metadata": {},
   "outputs": [],
   "source": [
    "#data = data[data['FLUX_Z']>0]\n",
    "data = table.unique(data, keys = \"TARGETID\")"
   ]
  },
  {
   "cell_type": "code",
   "execution_count": 291,
   "metadata": {},
   "outputs": [],
   "source": [
    "data = data[data[\"TARGETID\"]>0]"
   ]
  },
  {
   "cell_type": "code",
   "execution_count": 292,
   "metadata": {},
   "outputs": [
    {
     "name": "stdout",
     "output_type": "stream",
     "text": [
      "We have 28139735 objects in the full catalog\n"
     ]
    }
   ],
   "source": [
    "print(f\"We have {len(data)} objects in the full catalog\") "
   ]
  },
  {
   "cell_type": "markdown",
   "metadata": {},
   "source": [
    "We should also get rid of stars, since they wont be the host of a GW event"
   ]
  },
  {
   "cell_type": "code",
   "execution_count": 293,
   "metadata": {},
   "outputs": [],
   "source": [
    "data = data[data[\"SPECTYPE\"] != \"STAR\"]"
   ]
  },
  {
   "cell_type": "markdown",
   "metadata": {
    "jp-MarkdownHeadingCollapsed": true,
    "tags": []
   },
   "source": [
    "### Calculate the healpix id for every object in the catalog and its probability; append this data to the Table"
   ]
  },
  {
   "cell_type": "code",
   "execution_count": 294,
   "metadata": {},
   "outputs": [],
   "source": [
    "max_level = 29 # highest possible HEALPix resolution that can be represented in a 64-bit signed integer\n",
    "max_nside = ah.level_to_nside(max_level)\n",
    "level, ipix = ah.uniq_to_level_ipix(skymap[\"UNIQ\"])\n",
    "\n",
    "index = ipix*(2**(max_level-level))**2\n",
    "\n",
    "sorter = np.argsort(index)\n",
    "\n",
    "# this is the NESTED pixel index of the target sky location, NOT THE UNIQ ID\n",
    "match_ipix = ah.lonlat_to_healpix(data[\"TARGET_RA\"]*u.deg, data[\"TARGET_DEC\"]*u.deg, max_nside, order='nested')\n",
    "\n",
    "# here we get the pixel index (i.e. where the entry is in the table, also NOT THE UNIQ ID) of each target\n",
    "sorter_i = sorter[np.searchsorted(index, match_ipix, side='right', sorter=sorter) - 1]\n",
    "probdensity = skymap[sorter_i]['PROBDENSITY'].to_value(u.deg**-2)\n",
    "\n",
    "# now we calculate the UNIQ ID for all our targets:\n",
    "\n",
    "uniq = skymap[\"UNIQ\"][sorter_i]\n",
    "#to make things easier in future, I will now also append the UNIQ pixels DISTMU, DISTSIGMA and DISTNORM values. However, be careful, since these DO NOT CORRESPOND THE TARGETS IN DESI DIRECTLY!\n",
    "\n",
    "if modeled_search:\n",
    "    distmu = skymap[sorter_i][\"DISTMU\"]\n",
    "    distsigma = skymap[sorter_i][\"DISTSIGMA\"]\n",
    "    distnorm = skymap[sorter_i][\"DISTNORM\"]\n"
   ]
  },
  {
   "cell_type": "code",
   "execution_count": 295,
   "metadata": {},
   "outputs": [],
   "source": [
    "# len(UNIQ), len(data), len(skymap)"
   ]
  },
  {
   "cell_type": "code",
   "execution_count": 296,
   "metadata": {},
   "outputs": [],
   "source": [
    "#data = data.keep_columns([\"TARGETID\", \"TARGET_RA\", \"TARGET_DEC\", \"TILEID\", \"NIGHT\", \"Z\", \"ZERR\", \"ZWARN\", \"DELTACHI2\", \"FLUX_Z\", \"BGS_TARGET\", \"EBV\", \"SERSIC\", \"MWS_TARGET\", \"FILENAME\"])\n",
    "                          "
   ]
  },
  {
   "cell_type": "code",
   "execution_count": 297,
   "metadata": {},
   "outputs": [],
   "source": [
    "if modeled_search:\n",
    "    data = hstack([data, Table({\"UNIQ\": uniq}), Table({\"PROBDENSITY\": probdensity}), Table({\"DISTMU\": distmu}), Table({\"DISTSIGMA\": distsigma}), Table({\"DISTNORM\": distnorm})])\n",
    "else: \n",
    "    data = hstack([data, Table({\"UNIQ\": uniq}), Table({\"PROBDENSITY\": probdensity})])\n",
    "    print(f\"The table will not contain any distance info since there is none available\")"
   ]
  },
  {
   "cell_type": "code",
   "execution_count": 298,
   "metadata": {},
   "outputs": [
    {
     "data": {
      "text/html": [
       "<div><i>Table length=5</i>\n",
       "<table id=\"table140596844178176\" class=\"table-striped table-bordered table-condensed\">\n",
       "<thead><tr><th>TARGETID</th><th>TARGET_RA</th><th>TARGET_DEC</th><th>LASTNIGHT</th><th>Z</th><th>ZERR</th><th>ZWARN</th><th>FLUX_G</th><th>FLUX_R</th><th>FLUX_Z</th><th>SPECTYPE</th><th>BGS_TARGET</th><th>EBV</th><th>SERSIC</th><th>UNIQ</th><th>PROBDENSITY</th><th>DISTMU</th><th>DISTSIGMA</th><th>DISTNORM</th></tr></thead>\n",
       "<thead><tr><th></th><th></th><th></th><th></th><th></th><th></th><th></th><th></th><th></th><th></th><th></th><th></th><th></th><th></th><th></th><th></th><th>Mpc</th><th>Mpc</th><th>1 / Mpc2</th></tr></thead>\n",
       "<thead><tr><th>int64</th><th>float64</th><th>float64</th><th>int64</th><th>float64</th><th>float64</th><th>int64</th><th>float64</th><th>float64</th><th>float64</th><th>bytes6</th><th>int64</th><th>float64</th><th>float64</th><th>int64</th><th>float64</th><th>float64</th><th>float64</th><th>float64</th></tr></thead>\n",
       "<tr><td>6448025174016</td><td>179.15657</td><td>28.4234799</td><td>20210318</td><td>0.0221933367215889</td><td>9.68081653157043e-06</td><td>0</td><td>0.0</td><td>0.0</td><td>0.0</td><td>GALAXY</td><td>0</td><td>0.0</td><td>0.0</td><td>2803</td><td>3.048194174452861e-14</td><td>2954.3221516121816</td><td>1809.2459608283675</td><td>8.369212343064796e-08</td></tr>\n",
       "<tr><td>6521555517440</td><td>204.22749</td><td>32.09493</td><td>20210404</td><td>0.3238872170838</td><td>2.72909868562699e-05</td><td>0</td><td>0.0</td><td>0.0</td><td>0.0</td><td>GALAXY</td><td>0</td><td>0.0</td><td>0.0</td><td>1676</td><td>2.2923452966039407e-12</td><td>-1125.9343624438945</td><td>2850.8124601195805</td><td>4.830243160208085e-07</td></tr>\n",
       "<tr><td>6536638234624</td><td>186.274119</td><td>32.84503</td><td>20210402</td><td>0.0764062738003505</td><td>1.47657330826664e-05</td><td>0</td><td>0.0</td><td>0.0</td><td>0.0</td><td>GALAXY</td><td>0</td><td>0.0</td><td>0.0</td><td>2807</td><td>2.0782752875347166e-14</td><td>4118.812017239321</td><td>1562.6655174688085</td><td>5.153393470040171e-08</td></tr>\n",
       "<tr><td>45803351579259</td><td>198.2176891</td><td>18.3113961</td><td>20210316</td><td>1.49911242224797</td><td>3.38509589473939e-05</td><td>0</td><td>0.0</td><td>0.0</td><td>0.0</td><td>GALAXY</td><td>0</td><td>0.0</td><td>0.0</td><td>2773</td><td>1.9980899316906909e-10</td><td>inf</td><td>1.0</td><td>0.0</td></tr>\n",
       "<tr><td>46523089944591</td><td>258.5210502</td><td>56.1317935</td><td>20210409</td><td>1.62639091480193</td><td>0.000120044446065552</td><td>0</td><td>0.0</td><td>0.0</td><td>0.0</td><td>GALAXY</td><td>0</td><td>0.0</td><td>0.0</td><td>6641</td><td>1.9620568525875646e-08</td><td>3165.9826341019275</td><td>1274.667359546746</td><td>8.586516872843094e-08</td></tr>\n",
       "</table></div>"
      ],
      "text/plain": [
       "<Table length=5>\n",
       "   TARGETID     TARGET_RA  ...     DISTSIGMA             DISTNORM      \n",
       "                           ...        Mpc                1 / Mpc2      \n",
       "    int64        float64   ...      float64              float64       \n",
       "-------------- ----------- ... ------------------ ---------------------\n",
       " 6448025174016   179.15657 ... 1809.2459608283675 8.369212343064796e-08\n",
       " 6521555517440   204.22749 ... 2850.8124601195805 4.830243160208085e-07\n",
       " 6536638234624  186.274119 ... 1562.6655174688085 5.153393470040171e-08\n",
       "45803351579259 198.2176891 ...                1.0                   0.0\n",
       "46523089944591 258.5210502 ...  1274.667359546746 8.586516872843094e-08"
      ]
     },
     "execution_count": 298,
     "metadata": {},
     "output_type": "execute_result"
    }
   ],
   "source": [
    "data[:5]"
   ]
  },
  {
   "cell_type": "code",
   "execution_count": 299,
   "metadata": {},
   "outputs": [
    {
     "name": "stdout",
     "output_type": "stream",
     "text": [
      "The highest and lowest probability values in our catalog are: 0.0019891805592143867 and 1.2077099785747572e-14\n"
     ]
    }
   ],
   "source": [
    "print(f\"The highest and lowest probability values in our catalog are: {np.max(probdensity)} and {np.min(probdensity)}\")"
   ]
  },
  {
   "cell_type": "markdown",
   "metadata": {
    "jp-MarkdownHeadingCollapsed": true,
    "tags": []
   },
   "source": [
    "### Sort the skymap table and get 99% credible region"
   ]
  },
  {
   "cell_type": "code",
   "execution_count": 300,
   "metadata": {},
   "outputs": [],
   "source": [
    "# copy the table\n",
    "skymap_sort = Table(skymap, copy = True)"
   ]
  },
  {
   "cell_type": "code",
   "execution_count": 301,
   "metadata": {},
   "outputs": [],
   "source": [
    "# check whether copy worked:\n",
    "# skymap_sort, skymap\n",
    "# np.max(skymap[\"UNIQ\"])"
   ]
  },
  {
   "cell_type": "code",
   "execution_count": 302,
   "metadata": {},
   "outputs": [],
   "source": [
    "# now sort the skymap by its probability (descending)\n",
    "skymap_sort.sort('PROBDENSITY', reverse=True)"
   ]
  },
  {
   "cell_type": "code",
   "execution_count": 303,
   "metadata": {},
   "outputs": [
    {
     "data": {
      "text/html": [
       "<div><i>Table length=5</i>\n",
       "<table id=\"table140596844169728\" class=\"table-striped table-bordered table-condensed\">\n",
       "<thead><tr><th>UNIQ</th><th>PROBDENSITY</th><th>DISTMU</th><th>DISTSIGMA</th><th>DISTNORM</th></tr></thead>\n",
       "<thead><tr><th></th><th>1 / sr</th><th>Mpc</th><th>Mpc</th><th>1 / Mpc2</th></tr></thead>\n",
       "<thead><tr><th>int64</th><th>float64</th><th>float64</th><th>float64</th><th>float64</th></tr></thead>\n",
       "<tr><td>591799</td><td>7.32570049451194</td><td>2585.854049788445</td><td>868.376535587565</td><td>1.343986259209612e-07</td></tr>\n",
       "<tr><td>591720</td><td>7.322245127712063</td><td>2581.3237238018223</td><td>866.8585064360851</td><td>1.348706847183906e-07</td></tr>\n",
       "<tr><td>591714</td><td>7.321790677355392</td><td>2580.432592049214</td><td>866.5527920745982</td><td>1.3496405731183445e-07</td></tr>\n",
       "<tr><td>591722</td><td>7.321074055888819</td><td>2582.188045927099</td><td>867.1542885907996</td><td>1.347802368851216e-07</td></tr>\n",
       "<tr><td>591805</td><td>7.321022361944126</td><td>2586.4989247911353</td><td>868.5961126779994</td><td>1.3433152238027153e-07</td></tr>\n",
       "</table></div>"
      ],
      "text/plain": [
       "<Table length=5>\n",
       " UNIQ     PROBDENSITY    ...     DISTSIGMA            DISTNORM       \n",
       "             1 / sr      ...        Mpc               1 / Mpc2       \n",
       "int64       float64      ...      float64             float64        \n",
       "------ ----------------- ... ----------------- ----------------------\n",
       "591799  7.32570049451194 ...  868.376535587565  1.343986259209612e-07\n",
       "591720 7.322245127712063 ... 866.8585064360851  1.348706847183906e-07\n",
       "591714 7.321790677355392 ... 866.5527920745982 1.3496405731183445e-07\n",
       "591722 7.321074055888819 ... 867.1542885907996  1.347802368851216e-07\n",
       "591805 7.321022361944126 ... 868.5961126779994 1.3433152238027153e-07"
      ]
     },
     "execution_count": 303,
     "metadata": {},
     "output_type": "execute_result"
    }
   ],
   "source": [
    "# this shows the first entries sorted be their probability\n",
    "skymap_sort[:5]"
   ]
  },
  {
   "cell_type": "code",
   "execution_count": 304,
   "metadata": {},
   "outputs": [
    {
     "name": "stdout",
     "output_type": "stream",
     "text": [
      "The 99% search area is 4236.754321025971°large\n"
     ]
    }
   ],
   "source": [
    "# now get 99% credible region area\n",
    "\n",
    "level, ipix = ah.uniq_to_level_ipix(skymap_sort['UNIQ'])\n",
    "pixel_area = ah.nside_to_pixel_area(ah.level_to_nside(level)) # this is the area each pixel contains\n",
    "\n",
    "# calculate the probability per pixel (careful: since the pixels differ in size, this is not neceseraliy a useful quantity\n",
    "prob = pixel_area * skymap_sort['PROBDENSITY']\n",
    "\n",
    "# calc cumsum of probabilities and get index of pixel that sums up to 0.99\n",
    "cumprob = np.cumsum(prob)\n",
    "i = cumprob.searchsorted(0.99)\n",
    "\n",
    "# print area\n",
    "area_99 = pixel_area[:i].sum()\n",
    "area_99_deg = area_99.to_value(u.deg**2)\n",
    "print(f\"The 99% search area is {area_99_deg}°large\")"
   ]
  },
  {
   "cell_type": "markdown",
   "metadata": {
    "jp-MarkdownHeadingCollapsed": true,
    "tags": []
   },
   "source": [
    "### can be deleted, just tried things out"
   ]
  },
  {
   "cell_type": "code",
   "execution_count": 305,
   "metadata": {},
   "outputs": [],
   "source": [
    "skymap_sort = hstack([skymap_sort, Table({\"PROB\": prob})])"
   ]
  },
  {
   "cell_type": "code",
   "execution_count": 306,
   "metadata": {},
   "outputs": [
    {
     "data": {
      "text/latex": [
       "$0.00013461622 \\; \\mathrm{}$"
      ],
      "text/plain": [
       "<Quantity 0.00013462>"
      ]
     },
     "execution_count": 306,
     "metadata": {},
     "output_type": "execute_result"
    }
   ],
   "source": [
    "np.max(prob)"
   ]
  },
  {
   "cell_type": "code",
   "execution_count": 307,
   "metadata": {},
   "outputs": [
    {
     "data": {
      "text/html": [
       "<div><i>Table length=5</i>\n",
       "<table id=\"table140596844168240\" class=\"table-striped table-bordered table-condensed\">\n",
       "<thead><tr><th>UNIQ</th><th>PROBDENSITY</th><th>DISTMU</th><th>DISTSIGMA</th><th>DISTNORM</th><th>PROB</th></tr></thead>\n",
       "<thead><tr><th></th><th>1 / sr</th><th>Mpc</th><th>Mpc</th><th>1 / Mpc2</th><th></th></tr></thead>\n",
       "<thead><tr><th>int64</th><th>float64</th><th>float64</th><th>float64</th><th>float64</th><th>float64</th></tr></thead>\n",
       "<tr><td>591799</td><td>7.32570049451194</td><td>2585.854049788445</td><td>868.376535587565</td><td>1.343986259209612e-07</td><td>0.00011705712308735059</td></tr>\n",
       "<tr><td>591720</td><td>7.322245127712063</td><td>2581.3237238018223</td><td>866.8585064360851</td><td>1.348706847183906e-07</td><td>0.00011700190989687028</td></tr>\n",
       "<tr><td>591714</td><td>7.321790677355392</td><td>2580.432592049214</td><td>866.5527920745982</td><td>1.3496405731183445e-07</td><td>0.00011699464824982673</td></tr>\n",
       "<tr><td>591722</td><td>7.321074055888819</td><td>2582.188045927099</td><td>867.1542885907996</td><td>1.347802368851216e-07</td><td>0.00011698319737939018</td></tr>\n",
       "<tr><td>591805</td><td>7.321022361944126</td><td>2586.4989247911353</td><td>868.5961126779994</td><td>1.3433152238027153e-07</td><td>0.00011698237136357758</td></tr>\n",
       "</table></div>"
      ],
      "text/plain": [
       "<Table length=5>\n",
       " UNIQ     PROBDENSITY    ...        DISTNORM                 PROB         \n",
       "             1 / sr      ...        1 / Mpc2                              \n",
       "int64       float64      ...        float64                float64        \n",
       "------ ----------------- ... ---------------------- ----------------------\n",
       "591799  7.32570049451194 ...  1.343986259209612e-07 0.00011705712308735059\n",
       "591720 7.322245127712063 ...  1.348706847183906e-07 0.00011700190989687028\n",
       "591714 7.321790677355392 ... 1.3496405731183445e-07 0.00011699464824982673\n",
       "591722 7.321074055888819 ...  1.347802368851216e-07 0.00011698319737939018\n",
       "591805 7.321022361944126 ... 1.3433152238027153e-07 0.00011698237136357758"
      ]
     },
     "execution_count": 307,
     "metadata": {},
     "output_type": "execute_result"
    }
   ],
   "source": [
    "skymap_sort[:5]"
   ]
  },
  {
   "cell_type": "code",
   "execution_count": 308,
   "metadata": {},
   "outputs": [],
   "source": [
    "skymap_prob = Table(skymap_sort, copy = True)"
   ]
  },
  {
   "cell_type": "code",
   "execution_count": 309,
   "metadata": {},
   "outputs": [],
   "source": [
    "skymap_prob.sort(\"PROB\", reverse = True)"
   ]
  },
  {
   "cell_type": "code",
   "execution_count": 310,
   "metadata": {},
   "outputs": [
    {
     "data": {
      "text/html": [
       "<div><i>Table length=5</i>\n",
       "<table id=\"table140596844179424\" class=\"table-striped table-bordered table-condensed\">\n",
       "<thead><tr><th>UNIQ</th><th>PROBDENSITY</th><th>DISTMU</th><th>DISTSIGMA</th><th>DISTNORM</th><th>PROB</th></tr></thead>\n",
       "<thead><tr><th></th><th>1 / sr</th><th>Mpc</th><th>Mpc</th><th>1 / Mpc2</th><th></th></tr></thead>\n",
       "<thead><tr><th>int64</th><th>float64</th><th>float64</th><th>float64</th><th>float64</th><th>float64</th></tr></thead>\n",
       "<tr><td>4309</td><td>0.13163420015961974</td><td>929.4620081637144</td><td>280.59356116928063</td><td>1.060864309106485e-06</td><td>0.00013461622271569978</td></tr>\n",
       "<tr><td>222700</td><td>2.105982273445538</td><td>2257.961348233943</td><td>714.0780602846145</td><td>1.7830902379381402e-07</td><td>0.00013460568112888248</td></tr>\n",
       "<tr><td>9955</td><td>0.1315128565622241</td><td>1939.199393454237</td><td>624.993170502434</td><td>2.4090249925048983e-07</td><td>0.0001344921302176079</td></tr>\n",
       "<tr><td>37263</td><td>0.5260195386008715</td><td>2606.2763503262495</td><td>902.541810358333</td><td>1.3145775050999627e-07</td><td>0.00013448397771103436</td></tr>\n",
       "<tr><td>16758</td><td>0.5260169818588811</td><td>1293.4932069371093</td><td>459.3029379151513</td><td>5.307857131437124e-07</td><td>0.0001344833240455189</td></tr>\n",
       "</table></div>"
      ],
      "text/plain": [
       "<Table length=5>\n",
       " UNIQ      PROBDENSITY     ...        DISTNORM                 PROB         \n",
       "              1 / sr       ...        1 / Mpc2                              \n",
       "int64        float64       ...        float64                float64        \n",
       "------ ------------------- ... ---------------------- ----------------------\n",
       "  4309 0.13163420015961974 ...  1.060864309106485e-06 0.00013461622271569978\n",
       "222700   2.105982273445538 ... 1.7830902379381402e-07 0.00013460568112888248\n",
       "  9955  0.1315128565622241 ... 2.4090249925048983e-07  0.0001344921302176079\n",
       " 37263  0.5260195386008715 ... 1.3145775050999627e-07 0.00013448397771103436\n",
       " 16758  0.5260169818588811 ...  5.307857131437124e-07  0.0001344833240455189"
      ]
     },
     "execution_count": 310,
     "metadata": {},
     "output_type": "execute_result"
    }
   ],
   "source": [
    "skymap_prob[:5]"
   ]
  },
  {
   "cell_type": "markdown",
   "metadata": {
    "jp-MarkdownHeadingCollapsed": true,
    "tags": []
   },
   "source": [
    "### Compare Tables, only leave 99% credible region in DESI data table\n",
    "\n",
    "Now we can get a Table that only contains the 99% credible region. From there we only leave the matching objects in the DESI data"
   ]
  },
  {
   "cell_type": "code",
   "execution_count": 311,
   "metadata": {},
   "outputs": [],
   "source": [
    "# we simply select only the entries that are within the 99% credible region\n",
    "skymap_99 = skymap_sort[:i]"
   ]
  },
  {
   "cell_type": "code",
   "execution_count": 312,
   "metadata": {},
   "outputs": [
    {
     "name": "stdout",
     "output_type": "stream",
     "text": [
      "This is the number of UNIQ ID of objects which should lie within the 99% credible region (NOT THE NUMBER OF OBJECTS, as there can be multiple objects per UNIQ ID): 2953\n"
     ]
    }
   ],
   "source": [
    "print(\"This is the number of UNIQ ID of objects which should lie within the 99% credible region (NOT THE NUMBER OF OBJECTS, as there can be multiple objects per UNIQ ID):\", len(np.intersect1d(skymap_99[\"UNIQ\"], data[\"UNIQ\"])))"
   ]
  },
  {
   "cell_type": "code",
   "execution_count": 313,
   "metadata": {},
   "outputs": [],
   "source": [
    "mask = np.in1d(data[\"UNIQ\"], skymap_99[\"UNIQ\"])\n",
    "data_99 = data[mask]"
   ]
  },
  {
   "cell_type": "code",
   "execution_count": 314,
   "metadata": {},
   "outputs": [
    {
     "name": "stdout",
     "output_type": "stream",
     "text": [
      "We now have 2384302 objects in the 99% credible region\n",
      "Check if the region from where the galaxies have been selected makes any sense (RA; DEC):  17.00491913272 285.588539333929 -21.9997270654372 81.5410802135118\n",
      "We can also check whether we have at least one galaxy in the UNIQ pixel with the highest probability from LIGO...\n",
      "This is False\n"
     ]
    }
   ],
   "source": [
    "print(f\"We now have {len(data_99)} objects in the 99% credible region\")\n",
    "print(\"Check if the region from where the galaxies have been selected makes any sense (RA; DEC): \", np.min(data_99[\"TARGET_RA\"]), np.max(data_99[\"TARGET_RA\"]), np.min(data_99[\"TARGET_DEC\"]), np.max(data_99[\"TARGET_DEC\"]))\n",
    "\n",
    "max_probdens_in_desi = np.max(data_99[\"PROBDENSITY\"])\n",
    "max_probdens_in_ligo = np.max(skymap[\"PROBDENSITY\"]).to_value(u.deg**-2)\n",
    "print(f\"We can also check whether we have at least one galaxy in the UNIQ pixel with the highest probability from LIGO...\")\n",
    "print(f\"This is {np.allclose(max_probdens_in_desi, max_probdens_in_ligo)}\")"
   ]
  },
  {
   "cell_type": "code",
   "execution_count": 315,
   "metadata": {},
   "outputs": [],
   "source": [
    "data_99.sort('PROBDENSITY', reverse=True)"
   ]
  },
  {
   "cell_type": "code",
   "execution_count": 316,
   "metadata": {},
   "outputs": [
    {
     "data": {
      "text/html": [
       "<div><i>Table length=2</i>\n",
       "<table id=\"table140596844175440\" class=\"table-striped table-bordered table-condensed\">\n",
       "<thead><tr><th>TARGETID</th><th>TARGET_RA</th><th>TARGET_DEC</th><th>LASTNIGHT</th><th>Z</th><th>ZERR</th><th>ZWARN</th><th>FLUX_G</th><th>FLUX_R</th><th>FLUX_Z</th><th>SPECTYPE</th><th>BGS_TARGET</th><th>EBV</th><th>SERSIC</th><th>UNIQ</th><th>PROBDENSITY</th><th>DISTMU</th><th>DISTSIGMA</th><th>DISTNORM</th></tr></thead>\n",
       "<thead><tr><th></th><th></th><th></th><th></th><th></th><th></th><th></th><th></th><th></th><th></th><th></th><th></th><th></th><th></th><th></th><th></th><th>Mpc</th><th>Mpc</th><th>1 / Mpc2</th></tr></thead>\n",
       "<thead><tr><th>int64</th><th>float64</th><th>float64</th><th>int64</th><th>float64</th><th>float64</th><th>int64</th><th>float64</th><th>float64</th><th>float64</th><th>bytes6</th><th>int64</th><th>float64</th><th>float64</th><th>int64</th><th>float64</th><th>float64</th><th>float64</th><th>float64</th></tr></thead>\n",
       "<tr><td>39627329441367512</td><td>87.0214831261028</td><td>-19.3159172815501</td><td>20210107</td><td>0.405551670647463</td><td>3.44483765499101e-05</td><td>0</td><td>1.73643779754639</td><td>6.23603582382202</td><td>13.1384925842285</td><td>GALAXY</td><td>0</td><td>0.0637876316905022</td><td>1.0</td><td>599488</td><td>0.0019891805592143867</td><td>2562.9822109730985</td><td>861.3009065740661</td><td>1.367885805870855e-07</td></tr>\n",
       "<tr><td>616088070340477851</td><td>87.1183808319715</td><td>-19.680166475756</td><td>20210206</td><td>0.508388753086125</td><td>6.23261576343437e-05</td><td>0</td><td>0.0</td><td>0.0</td><td>0.0</td><td>GALAXY</td><td>0</td><td>0.0</td><td>0.0</td><td>599359</td><td>0.00197831813706484</td><td>2567.62032815077</td><td>862.9638209307491</td><td>1.3629150317579056e-07</td></tr>\n",
       "</table></div>"
      ],
      "text/plain": [
       "<Table length=2>\n",
       "     TARGETID         TARGET_RA     ...     DISTSIGMA            DISTNORM       \n",
       "                                    ...        Mpc               1 / Mpc2       \n",
       "      int64            float64      ...      float64             float64        \n",
       "------------------ ---------------- ... ----------------- ----------------------\n",
       " 39627329441367512 87.0214831261028 ... 861.3009065740661  1.367885805870855e-07\n",
       "616088070340477851 87.1183808319715 ... 862.9638209307491 1.3629150317579056e-07"
      ]
     },
     "execution_count": 316,
     "metadata": {},
     "output_type": "execute_result"
    }
   ],
   "source": [
    "data_99[:2]"
   ]
  },
  {
   "cell_type": "code",
   "execution_count": 317,
   "metadata": {},
   "outputs": [
    {
     "name": "stdout",
     "output_type": "stream",
     "text": [
      "We have now performed all the necessary steps to get the localization selection in 2D, i.e. the angle on the sky\n",
      "However, we have not used the distance data at all. Therefore our redshifts range from 5.31004411037158e-09 to 6.68597850286256\n"
     ]
    }
   ],
   "source": [
    "if modeled_search:\n",
    "    print(\"We have now performed all the necessary steps to get the localization selection in 2D, i.e. the angle on the sky\")\n",
    "    min_z = np.min(data_99[\"Z\"])\n",
    "    max_z = np.max(data_99[\"Z\"])\n",
    "    print(f\"However, we have not used the distance data at all. Therefore our redshifts range from {min_z} to {max_z}\")\n",
    "else:\n",
    "    print(f\"Usually we would be performing steps to cut out objects that don't meet the z-range/distance from LIGO, since there is no distance, we - at least for now include everything!\")"
   ]
  },
  {
   "cell_type": "markdown",
   "metadata": {
    "jp-MarkdownHeadingCollapsed": true,
    "tags": []
   },
   "source": [
    "### Calculate all the distances of the objects from the redshifts\n",
    "\n",
    "We want to be conservative in estimating the distance from redshifts, therefore we will include different cosmologies.\n",
    "\n",
    "Our cosmologies include:\n",
    "- H0 = 68.20 ± 0.81 km s−1Mpc−1, from eBOSS https://arxiv.org/pdf/2007.08991.pdf\n",
    "- DES Y3 https://arxiv.org/abs/2105.13549\n",
    "- SH0ES https://pantheonplussh0es.github.io/\n",
    "\n",
    "Now we calculate the arithmetic mean of our distances and its standard deviation:\n",
    "$$distances_{mean} = \\frac{dist(z_{cosmo_{max}})+dist(z_{cosmo_{min}})}{2}$$\n",
    "and accordingly the standard deviation (n=2):\n",
    "$$\\sigma = \\sqrt{\\frac{1}{n-1}\\sum\\left(dist_i-distances_{mean}\\right)^2}$$\n"
   ]
  },
  {
   "cell_type": "code",
   "execution_count": 318,
   "metadata": {},
   "outputs": [],
   "source": [
    "#distances = Distance(z=data_99[\"Z\"], cosmology=Planck18)\n",
    "#distances_err = Distance(z=data_99[\"ZERR\"], cosmology=Planck18)"
   ]
  },
  {
   "cell_type": "code",
   "execution_count": 319,
   "metadata": {},
   "outputs": [],
   "source": [
    "if modeled_search:\n",
    "    # first define the cosmological maximum and minimum parameters\n",
    "    omega_M_max = 0.339+0.032 #(from DES)\n",
    "    omega_M_min = 0.299-2*0.016 #from eBOSS\n",
    "\n",
    "    H_0_max = 73.04+2*1.04 #from SH0ES\n",
    "    H_0_min = 67.4-2*0.5 #from Planck\n",
    "    \n",
    "    # then calculate min and max luminosity distance from the redshifts\n",
    "    cosmo_min_dist = FlatLambdaCDM(H0=H_0_max, Om0=omega_M_max)\n",
    "    cosmo_max_dist = FlatLambdaCDM(H0=H_0_min, Om0=omega_M_min)\n",
    "\n",
    "    dists_max = Distance(z=data_99[\"Z\"], cosmology=cosmo_max_dist)\n",
    "    dists_min = Distance(z=data_99[\"Z\"], cosmology=cosmo_min_dist)\n",
    "    \n",
    "    # and of course also calculate the maximum and minimum error from the redshfit uncertainty\n",
    "    dists_err_min = Distance(z=data_99[\"ZERR\"], cosmology=cosmo_max_dist)\n",
    "    dists_err_max = Distance(z=data_99[\"ZERR\"], cosmology=cosmo_min_dist)\n",
    "    \n",
    "    # now we get the mean distance and its error\n",
    "    dists_mean = (dists_max+dists_min)/2\n",
    "    dists_err_mean = (dists_err_max+dists_err_min)/2  # this is our sigma for the redshift error\n",
    "    \n",
    "    # calculate the stdev of the distance depending on the cosmology\n",
    "    dists_mean_stddev = np.sqrt((dists_max-dists_mean)**2+(dists_min-dists_mean)**2)\n",
    "    \n",
    "    # now stack all the data\n",
    "    data_99 = hstack([data_99, Table({\"DIST_Z_MEAN\": dists_mean}), Table({\"DIST_Z_ERR\": dists_err_mean}), Table({\"DIST_Z_COSMO_SIGMA\": dists_mean_stddev})])"
   ]
  },
  {
   "cell_type": "code",
   "execution_count": 320,
   "metadata": {},
   "outputs": [],
   "source": [
    "# dists_mean[:5], dists_mean_stddev[:5], dists_mean_stddev[:5]/dists_mean[:5], np.mean(dists_mean_stddev/dists_mean), np.max(dists_mean_stddev/dists_mean), np.min(dists_mean_stddev/dists_mean)\n"
   ]
  },
  {
   "cell_type": "code",
   "execution_count": 321,
   "metadata": {},
   "outputs": [
    {
     "data": {
      "text/html": [
       "<div><i>Table length=5</i>\n",
       "<table id=\"table140596844169920\" class=\"table-striped table-bordered table-condensed\">\n",
       "<thead><tr><th>TARGETID</th><th>TARGET_RA</th><th>TARGET_DEC</th><th>LASTNIGHT</th><th>Z</th><th>ZERR</th><th>ZWARN</th><th>FLUX_G</th><th>FLUX_R</th><th>FLUX_Z</th><th>SPECTYPE</th><th>BGS_TARGET</th><th>EBV</th><th>SERSIC</th><th>UNIQ</th><th>PROBDENSITY</th><th>DISTMU</th><th>DISTSIGMA</th><th>DISTNORM</th><th>DIST_Z_MEAN</th><th>DIST_Z_ERR</th><th>DIST_Z_COSMO_SIGMA</th></tr></thead>\n",
       "<thead><tr><th></th><th></th><th></th><th></th><th></th><th></th><th></th><th></th><th></th><th></th><th></th><th></th><th></th><th></th><th></th><th></th><th>Mpc</th><th>Mpc</th><th>1 / Mpc2</th><th>Mpc</th><th>Mpc</th><th>Mpc</th></tr></thead>\n",
       "<thead><tr><th>int64</th><th>float64</th><th>float64</th><th>int64</th><th>float64</th><th>float64</th><th>int64</th><th>float64</th><th>float64</th><th>float64</th><th>bytes6</th><th>int64</th><th>float64</th><th>float64</th><th>int64</th><th>float64</th><th>float64</th><th>float64</th><th>float64</th><th>float64</th><th>float64</th><th>float64</th></tr></thead>\n",
       "<tr><td>39627329441367512</td><td>87.0214831261028</td><td>-19.3159172815501</td><td>20210107</td><td>0.405551670647463</td><td>3.44483765499101e-05</td><td>0</td><td>1.73643779754639</td><td>6.23603582382202</td><td>13.1384925842285</td><td>GALAXY</td><td>0</td><td>0.0637876316905022</td><td>1.0</td><td>599488</td><td>0.0019891805592143867</td><td>2562.9822109730985</td><td>861.3009065740661</td><td>1.367885805870855e-07</td><td>2183.492406350188</td><td>0.14650925004373436</td><td>235.56300720926782</td></tr>\n",
       "<tr><td>616088070340477851</td><td>87.1183808319715</td><td>-19.680166475756</td><td>20210206</td><td>0.508388753086125</td><td>6.23261576343437e-05</td><td>0</td><td>0.0</td><td>0.0</td><td>0.0</td><td>GALAXY</td><td>0</td><td>0.0</td><td>0.0</td><td>599359</td><td>0.00197831813706484</td><td>2567.62032815077</td><td>862.9638209307491</td><td>1.3629150317579056e-07</td><td>2856.015230051721</td><td>0.26507933858103094</td><td>320.9869191686455</td></tr>\n",
       "<tr><td>39627323732925595</td><td>87.0726890337238</td><td>-19.5807524561734</td><td>20210206</td><td>0.984375576739178</td><td>4.26501845973101e-05</td><td>0</td><td>0.431988269090652</td><td>0.744159162044525</td><td>1.74307250976562</td><td>GALAXY</td><td>0</td><td>0.0596724823117256</td><td>4.0</td><td>599359</td><td>0.00197831813706484</td><td>2567.62032815077</td><td>862.9638209307491</td><td>1.3629150317579056e-07</td><td>6387.502163620587</td><td>0.18139274750126516</td><td>822.7899654618516</td></tr>\n",
       "<tr><td>39627318037056833</td><td>87.0551075993945</td><td>-19.6428138784943</td><td>20210107</td><td>0.268409679624286</td><td>1.51862890830181e-05</td><td>0</td><td>3.05206036567688</td><td>7.90451812744141</td><td>15.2817258834839</td><td>GALAXY</td><td>0</td><td>0.0581257492303848</td><td>1.0</td><td>599359</td><td>0.00197831813706484</td><td>2567.62032815077</td><td>862.9638209307491</td><td>1.3629150317579056e-07</td><td>1353.0555272199908</td><td>0.06458647235400179</td><td>137.11573399046333</td></tr>\n",
       "<tr><td>39627318037057219</td><td>87.066255739702</td><td>-19.6587108421125</td><td>20210206</td><td>1.45256609927591</td><td>3.05799472908312e-05</td><td>0</td><td>0.453402727842331</td><td>0.579267501831055</td><td>0.872416198253632</td><td>GALAXY</td><td>0</td><td>0.0574152544140816</td><td>1.0</td><td>599359</td><td>0.00197831813706484</td><td>2567.62032815077</td><td>862.9638209307491</td><td>1.3629150317579056e-07</td><td>10320.524636492057</td><td>0.1300564022740129</td><td>1438.2573981007924</td></tr>\n",
       "</table></div>"
      ],
      "text/plain": [
       "<Table length=5>\n",
       "     TARGETID         TARGET_RA     ...      DIST_Z_ERR     DIST_Z_COSMO_SIGMA\n",
       "                                    ...         Mpc                Mpc        \n",
       "      int64            float64      ...       float64            float64      \n",
       "------------------ ---------------- ... ------------------- ------------------\n",
       " 39627329441367512 87.0214831261028 ... 0.14650925004373436 235.56300720926782\n",
       "616088070340477851 87.1183808319715 ... 0.26507933858103094  320.9869191686455\n",
       " 39627323732925595 87.0726890337238 ... 0.18139274750126516  822.7899654618516\n",
       " 39627318037056833 87.0551075993945 ... 0.06458647235400179 137.11573399046333\n",
       " 39627318037057219  87.066255739702 ...  0.1300564022740129 1438.2573981007924"
      ]
     },
     "execution_count": 321,
     "metadata": {},
     "output_type": "execute_result"
    }
   ],
   "source": [
    "data_99[:5]"
   ]
  },
  {
   "cell_type": "markdown",
   "metadata": {
    "jp-MarkdownHeadingCollapsed": true,
    "tags": []
   },
   "source": [
    "### Lets check how much the distance measurement changes in the 99% credible region of LIGO and compare to our DESI data\n",
    "\n",
    "We should see a lot more data in DESI (since we haven't done any redshift selection and there can be multiple objects per GW-pixel). Be carfeul, we are comparing actual object counts with the number of pixels.\n",
    "\n",
    "\n",
    "We still see, that most of the GW localization is roughly between 780Mpc and 950Mpc. DESI definitely has a most of its data in this range as well."
   ]
  },
  {
   "cell_type": "code",
   "execution_count": 322,
   "metadata": {},
   "outputs": [
    {
     "name": "stdout",
     "output_type": "stream",
     "text": [
      "Our LIGO distances range from 593.0855608959163 Mpc to 2868.558092298574 Mpc\n",
      "Let's visualize the distance distribution of the LIGO event in the 99% credible region\n"
     ]
    },
    {
     "data": {
      "image/png": "[encoded data removed]",
      "text/plain": [
       "<Figure size 1500x800 with 2 Axes>"
      ]
     },
     "metadata": {},
     "output_type": "display_data"
    }
   ],
   "source": [
    "if modeled_search:\n",
    "    plt_skymap = skymap_99[skymap_99[\"DISTMU\"]<np.inf]\n",
    "\n",
    "    dist_max_99 = np.max(plt_skymap[\"DISTMU\"])*u.Mpc\n",
    "    dist_min_99 = np.min(plt_skymap[\"DISTMU\"])*u.Mpc\n",
    "    print(f\"Our LIGO distances range from {dist_min_99} to {dist_max_99}\")\n",
    "    print(\"Let's visualize the distance distribution of the LIGO event in the 99% credible region\")\n",
    "\n",
    "    fig, ax = plt.subplots(ncols = 2, figsize = (15,8))\n",
    "\n",
    "\n",
    "    ax[0].hist(data_99[\"DIST_Z_MEAN\"], bins = \"auto\", color = \"orange\", label = \"DESI data\")\n",
    "    ax[1].hist(plt_skymap[\"DISTMU\"], bins = \"auto\", color = \"blue\", label = \"LIGO data\")\n",
    "\n",
    "\n",
    "    for axis in ax:\n",
    "        axis.set_xlabel(\"distance bin (Mpc)\")\n",
    "        axis.set_xlim(dist_min_99/u.Mpc, dist_max_99/u.Mpc)\n",
    "        axis.legend()\n",
    "\n",
    "    ax[0].set_ylabel(\"object count\")\n",
    "    ax[1].set_ylabel(\"pixel count\")\n",
    "\n",
    "    plt.show()"
   ]
  },
  {
   "cell_type": "code",
   "execution_count": 323,
   "metadata": {},
   "outputs": [
    {
     "data": {
      "text/plain": [
       "(15086, 2384302)"
      ]
     },
     "execution_count": 323,
     "metadata": {},
     "output_type": "execute_result"
    }
   ],
   "source": [
    "len(skymap_99), len(data_99)"
   ]
  },
  {
   "cell_type": "markdown",
   "metadata": {
    "jp-MarkdownHeadingCollapsed": true,
    "tags": []
   },
   "source": [
    "### To reduce our data even more, lets cut out the unreasonably far away objects\n",
    "\n",
    "We simply take maximum and minimum distance we get from the LIGO skymap (i.e. DISTMU+-DISTERR) and check, whether every galaxy in that pixel falls inside this range.\n",
    "\n",
    "*Note: We do this only for our own GW-follow ups*"
   ]
  },
  {
   "cell_type": "code",
   "execution_count": 324,
   "metadata": {},
   "outputs": [
    {
     "name": "stdout",
     "output_type": "stream",
     "text": [
      "The z-range selection has deleted 1083262 objects from originally 2384302 in the data set\n",
      "Therefore, we have 1301040 objects left in the search region\n",
      "Our highest remaing probability density is 0.0019891805592143867 compared to the originally highest prob density of 0.0022315359827684428\n",
      "The difference in prob density is 0.00024235542355405607\n"
     ]
    }
   ],
   "source": [
    "if follow_up_others == False and modeled_search == True:\n",
    "    z_selection_mask = data_99[\"DIST_Z_MEAN\"] - 2*data_99[\"DIST_Z_ERR\"] - 2*data_99[\"DIST_Z_COSMO_SIGMA\"] <  data_99[\"DISTMU\"] + 2*data_99[\"DISTSIGMA\"]\n",
    "    z_selection_mask &= data_99[\"DIST_Z_MEAN\"] + 2*data_99[\"DIST_Z_ERR\"] + 2*data_99[\"DIST_Z_COSMO_SIGMA\"] >  data_99[\"DISTMU\"] - 2*data_99[\"DISTSIGMA\"]\n",
    "\n",
    "    data_99_z = data_99[z_selection_mask]\n",
    "\n",
    "    remaining_obj = np.size(np.where(z_selection_mask == True))\n",
    "    deleted_obj = np.size(np.where(z_selection_mask == False))\n",
    "\n",
    "    print(f\"The z-range selection has deleted {deleted_obj} objects from originally {deleted_obj+remaining_obj} in the data set\")\n",
    "    print(f\"Therefore, we have {remaining_obj} objects left in the search region\")\n",
    "\n",
    "    highest_prob_dens = np.max(data_99_z[\"PROBDENSITY\"])\n",
    "    print(f\"Our highest remaing probability density is {highest_prob_dens} compared to the originally highest prob density of {max_probdens_in_ligo}\")\n",
    "    print(f\"The difference in prob density is {max_probdens_in_ligo-highest_prob_dens}\")\n",
    "\n",
    "    \n",
    "else:\n",
    "    data_99_z = data_99\n",
    "    remaining_obj = len(data_99_z)"
   ]
  },
  {
   "cell_type": "code",
   "execution_count": 325,
   "metadata": {},
   "outputs": [
    {
     "data": {
      "text/html": [
       "<div><i>Table length=5</i>\n",
       "<table id=\"table140596844647600\" class=\"table-striped table-bordered table-condensed\">\n",
       "<thead><tr><th>TARGETID</th><th>TARGET_RA</th><th>TARGET_DEC</th><th>LASTNIGHT</th><th>Z</th><th>ZERR</th><th>ZWARN</th><th>FLUX_G</th><th>FLUX_R</th><th>FLUX_Z</th><th>SPECTYPE</th><th>BGS_TARGET</th><th>EBV</th><th>SERSIC</th><th>UNIQ</th><th>PROBDENSITY</th><th>DISTMU</th><th>DISTSIGMA</th><th>DISTNORM</th><th>DIST_Z_MEAN</th><th>DIST_Z_ERR</th><th>DIST_Z_COSMO_SIGMA</th></tr></thead>\n",
       "<thead><tr><th></th><th></th><th></th><th></th><th></th><th></th><th></th><th></th><th></th><th></th><th></th><th></th><th></th><th></th><th></th><th></th><th>Mpc</th><th>Mpc</th><th>1 / Mpc2</th><th>Mpc</th><th>Mpc</th><th>Mpc</th></tr></thead>\n",
       "<thead><tr><th>int64</th><th>float64</th><th>float64</th><th>int64</th><th>float64</th><th>float64</th><th>int64</th><th>float64</th><th>float64</th><th>float64</th><th>bytes6</th><th>int64</th><th>float64</th><th>float64</th><th>int64</th><th>float64</th><th>float64</th><th>float64</th><th>float64</th><th>float64</th><th>float64</th><th>float64</th></tr></thead>\n",
       "<tr><td>39627329441367512</td><td>87.0214831261028</td><td>-19.3159172815501</td><td>20210107</td><td>0.405551670647463</td><td>3.44483765499101e-05</td><td>0</td><td>1.73643779754639</td><td>6.23603582382202</td><td>13.1384925842285</td><td>GALAXY</td><td>0</td><td>0.0637876316905022</td><td>1.0</td><td>599488</td><td>0.0019891805592143867</td><td>2562.9822109730985</td><td>861.3009065740661</td><td>1.367885805870855e-07</td><td>2183.492406350188</td><td>0.14650925004373436</td><td>235.56300720926782</td></tr>\n",
       "<tr><td>616088070340477851</td><td>87.1183808319715</td><td>-19.680166475756</td><td>20210206</td><td>0.508388753086125</td><td>6.23261576343437e-05</td><td>0</td><td>0.0</td><td>0.0</td><td>0.0</td><td>GALAXY</td><td>0</td><td>0.0</td><td>0.0</td><td>599359</td><td>0.00197831813706484</td><td>2567.62032815077</td><td>862.9638209307491</td><td>1.3629150317579056e-07</td><td>2856.015230051721</td><td>0.26507933858103094</td><td>320.9869191686455</td></tr>\n",
       "<tr><td>39627318037056833</td><td>87.0551075993945</td><td>-19.6428138784943</td><td>20210107</td><td>0.268409679624286</td><td>1.51862890830181e-05</td><td>0</td><td>3.05206036567688</td><td>7.90451812744141</td><td>15.2817258834839</td><td>GALAXY</td><td>0</td><td>0.0581257492303848</td><td>1.0</td><td>599359</td><td>0.00197831813706484</td><td>2567.62032815077</td><td>862.9638209307491</td><td>1.3629150317579056e-07</td><td>1353.0555272199908</td><td>0.06458647235400179</td><td>137.11573399046333</td></tr>\n",
       "<tr><td>39627318037059045</td><td>87.1197029380941</td><td>-19.7112056273884</td><td>20210206</td><td>0.663793584723312</td><td>9.808976774207e-05</td><td>0</td><td>0.3226398229599</td><td>0.340979546308517</td><td>0.628007709980011</td><td>GALAXY</td><td>0</td><td>0.055875651538372</td><td>1.0</td><td>599359</td><td>0.00197831813706484</td><td>2567.62032815077</td><td>862.9638209307491</td><td>1.3629150317579056e-07</td><td>3941.041583105934</td><td>0.41719690944993937</td><td>467.1170406741353</td></tr>\n",
       "<tr><td>39627318037059490</td><td>87.13321990374</td><td>-19.6545384143281</td><td>20210107</td><td>0.224992662049424</td><td>5.73791452954958e-06</td><td>0</td><td>6.11318016052246</td><td>11.8614234924316</td><td>20.3510189056396</td><td>GALAXY</td><td>0</td><td>0.0588091276586056</td><td>0.5</td><td>599359</td><td>0.00197831813706484</td><td>2567.62032815077</td><td>862.9638209307491</td><td>1.3629150317579056e-07</td><td>1107.9548405878752</td><td>0.02440286656403559</td><td>109.85156732299961</td></tr>\n",
       "</table></div>"
      ],
      "text/plain": [
       "<Table length=5>\n",
       "     TARGETID         TARGET_RA     ...      DIST_Z_ERR     DIST_Z_COSMO_SIGMA\n",
       "                                    ...         Mpc                Mpc        \n",
       "      int64            float64      ...       float64            float64      \n",
       "------------------ ---------------- ... ------------------- ------------------\n",
       " 39627329441367512 87.0214831261028 ... 0.14650925004373436 235.56300720926782\n",
       "616088070340477851 87.1183808319715 ... 0.26507933858103094  320.9869191686455\n",
       " 39627318037056833 87.0551075993945 ... 0.06458647235400179 137.11573399046333\n",
       " 39627318037059045 87.1197029380941 ... 0.41719690944993937  467.1170406741353\n",
       " 39627318037059490   87.13321990374 ... 0.02440286656403559 109.85156732299961"
      ]
     },
     "execution_count": 325,
     "metadata": {},
     "output_type": "execute_result"
    }
   ],
   "source": [
    "data_99_z[:5]"
   ]
  },
  {
   "cell_type": "markdown",
   "metadata": {
    "tags": []
   },
   "source": [
    "### get the apparent, absolute magnitudes and luminosities\n",
    "\n",
    "in order to do this: flux > 0 selection  and gal ext correction"
   ]
  },
  {
   "cell_type": "code",
   "execution_count": 326,
   "metadata": {},
   "outputs": [
    {
     "name": "stdout",
     "output_type": "stream",
     "text": [
      "had to cut out -37644 objects due to bad fluxes\n"
     ]
    }
   ],
   "source": [
    "# get the apparent mags\n",
    "orig_len = len(data_99_z)\n",
    "data_99_z = data_99_z[data_99_z[\"FLUX_R\"] > 0] # flux selection (only ones above 0)\n",
    "print(f\"had to cut out {len(data_99_z)-orig_len} objects due to bad fluxes\")\n",
    "data_99_z[\"MW_TRANSMISSION\"] = gs.mw_transmission_from_data_table(data = data_99_z, band = \"r\")\n",
    "#data_99_z[\"FLUX_R\"] = data_99_z[\"FLUX_R\"]/data_99_z[\"MW_TRANSMISSION\"]\n",
    "\n",
    "app_mag_r = gs.app_mag(data_99_z[\"FLUX_R\"], mw_transmission = data_99_z[\"MW_TRANSMISSION\"])\n",
    "flux_selection_cut = len(data_99_z)\n",
    "\n",
    "# get the absolute mags\n",
    "abs_mag_r = gs.abs_mag(app_mag_r, data_99_z[\"Z\"], 0,0,0)\n",
    "\n",
    "# get the luminosities\n",
    "lums_r = gs.lum(abs_mag_r, band = \"r\")"
   ]
  },
  {
   "cell_type": "code",
   "execution_count": 327,
   "metadata": {},
   "outputs": [],
   "source": [
    "data_f = hstack([data_99_z, Table({\"APP_MAG_R\": app_mag_r}), Table({\"ABS_MAG_R\": abs_mag_r}), Table({\"LUM_R\": lums_r})])"
   ]
  },
  {
   "cell_type": "code",
   "execution_count": 328,
   "metadata": {},
   "outputs": [
    {
     "data": {
      "text/html": [
       "<div><i>Table length=5</i>\n",
       "<table id=\"table140596844656864\" class=\"table-striped table-bordered table-condensed\">\n",
       "<thead><tr><th>TARGETID</th><th>TARGET_RA</th><th>TARGET_DEC</th><th>LASTNIGHT</th><th>Z</th><th>ZERR</th><th>ZWARN</th><th>FLUX_G</th><th>FLUX_R</th><th>FLUX_Z</th><th>SPECTYPE</th><th>BGS_TARGET</th><th>EBV</th><th>SERSIC</th><th>UNIQ</th><th>PROBDENSITY</th><th>DISTMU</th><th>DISTSIGMA</th><th>DISTNORM</th><th>DIST_Z_MEAN</th><th>DIST_Z_ERR</th><th>DIST_Z_COSMO_SIGMA</th><th>MW_TRANSMISSION</th><th>APP_MAG_R</th><th>ABS_MAG_R</th><th>LUM_R</th></tr></thead>\n",
       "<thead><tr><th></th><th></th><th></th><th></th><th></th><th></th><th></th><th></th><th></th><th></th><th></th><th></th><th></th><th></th><th></th><th></th><th>Mpc</th><th>Mpc</th><th>1 / Mpc2</th><th>Mpc</th><th>Mpc</th><th>Mpc</th><th></th><th></th><th></th><th>W</th></tr></thead>\n",
       "<thead><tr><th>int64</th><th>float64</th><th>float64</th><th>int64</th><th>float64</th><th>float64</th><th>int64</th><th>float64</th><th>float64</th><th>float64</th><th>bytes6</th><th>int64</th><th>float64</th><th>float64</th><th>int64</th><th>float64</th><th>float64</th><th>float64</th><th>float64</th><th>float64</th><th>float64</th><th>float64</th><th>float64</th><th>float64</th><th>float64</th><th>float64</th></tr></thead>\n",
       "<tr><td>39627329441367512</td><td>87.0214831261028</td><td>-19.3159172815501</td><td>20210107</td><td>0.405551670647463</td><td>3.44483765499101e-05</td><td>0</td><td>1.73643779754639</td><td>6.23603582382202</td><td>13.1384925842285</td><td>GALAXY</td><td>0</td><td>0.0637876316905022</td><td>1.0</td><td>599488</td><td>0.0019891805592143867</td><td>2562.9822109730985</td><td>861.3009065740661</td><td>1.367885805870855e-07</td><td>2183.492406350188</td><td>0.14650925004373436</td><td>235.56300720926782</td><td>0.8806136764160551</td><td>20.374692061541026</td><td>-21.411984082695106</td><td>1.9798276978731544e+36</td></tr>\n",
       "<tr><td>39627318037056833</td><td>87.0551075993945</td><td>-19.6428138784943</td><td>20210107</td><td>0.268409679624286</td><td>1.51862890830181e-05</td><td>0</td><td>3.05206036567688</td><td>7.90451812744141</td><td>15.2817258834839</td><td>GALAXY</td><td>0</td><td>0.0581257492303848</td><td>1.0</td><td>599359</td><td>0.00197831813706484</td><td>2567.62032815077</td><td>862.9638209307491</td><td>1.3629150317579056e-07</td><td>1353.0555272199908</td><td>0.06458647235400179</td><td>137.11573399046333</td><td>0.8906075069047528</td><td>20.129527379260505</td><td>-20.617572506562777</td><td>9.524951331787119e+35</td></tr>\n",
       "<tr><td>39627318037059045</td><td>87.1197029380941</td><td>-19.7112056273884</td><td>20210206</td><td>0.663793584723312</td><td>9.808976774207e-05</td><td>0</td><td>0.3226398229599</td><td>0.340979546308517</td><td>0.628007709980011</td><td>GALAXY</td><td>0</td><td>0.055875651538372</td><td>1.0</td><td>599359</td><td>0.00197831813706484</td><td>2567.62032815077</td><td>862.9638209307491</td><td>1.3629150317579056e-07</td><td>3941.041583105934</td><td>0.41719690944993937</td><td>467.1170406741353</td><td>0.8946105924255606</td><td>23.54726426862903</td><td>-19.521961834788975</td><td>3.472310044198253e+35</td></tr>\n",
       "<tr><td>39627318037059490</td><td>87.13321990374</td><td>-19.6545384143281</td><td>20210107</td><td>0.224992662049424</td><td>5.73791452954958e-06</td><td>0</td><td>6.11318016052246</td><td>11.8614234924316</td><td>20.3510189056396</td><td>GALAXY</td><td>0</td><td>0.0588091276586056</td><td>0.5</td><td>599359</td><td>0.00197831813706484</td><td>2567.62032815077</td><td>862.9638209307491</td><td>1.3629150317579056e-07</td><td>1107.9548405878752</td><td>0.02440286656403559</td><td>109.85156732299961</td><td>0.8893952774818145</td><td>19.687395017880526</td><td>-20.625562937711912</td><td>9.595308398586315e+35</td></tr>\n",
       "<tr><td>39627329441367651</td><td>87.0258454971578</td><td>-19.283549087624</td><td>20210107</td><td>0.403222031933717</td><td>2.14880628477579e-05</td><td>0</td><td>2.50455784797668</td><td>8.54479694366455</td><td>18.5866603851318</td><td>GALAXY</td><td>0</td><td>0.0637028589844704</td><td>0.665353775024414</td><td>599490</td><td>0.00197613698587998</td><td>2562.07303121524</td><td>861.0789197986969</td><td>1.3688298780261502e-07</td><td>2168.723975306241</td><td>0.09138801742114039</td><td>233.73947343007</td><td>0.8807624792146085</td><td>20.032892646362356</td><td>-21.739041528844915</td><td>2.6757798208226047e+36</td></tr>\n",
       "</table></div>"
      ],
      "text/plain": [
       "<Table length=5>\n",
       "     TARGETID        TARGET_RA     ...         LUM_R         \n",
       "                                   ...           W           \n",
       "      int64           float64      ...        float64        \n",
       "----------------- ---------------- ... ----------------------\n",
       "39627329441367512 87.0214831261028 ... 1.9798276978731544e+36\n",
       "39627318037056833 87.0551075993945 ...  9.524951331787119e+35\n",
       "39627318037059045 87.1197029380941 ...  3.472310044198253e+35\n",
       "39627318037059490   87.13321990374 ...  9.595308398586315e+35\n",
       "39627329441367651 87.0258454971578 ... 2.6757798208226047e+36"
      ]
     },
     "execution_count": 328,
     "metadata": {},
     "output_type": "execute_result"
    }
   ],
   "source": [
    "data_f[:5]"
   ]
  },
  {
   "cell_type": "markdown",
   "metadata": {},
   "source": [
    "### Check the absolute and apparent magnitudes\n",
    "\n",
    "This is a sanity check to quickly check whether there might be some obvious problem in the data/derivation of magnitudes..."
   ]
  },
  {
   "cell_type": "code",
   "execution_count": 329,
   "metadata": {},
   "outputs": [],
   "source": [
    "if len(data_f) < 1000000:\n",
    "    # dauert sonst einfach ewig\n",
    "    fig, ax = plt.subplots(ncols = 3, figsize=(10,5))\n",
    "\n",
    "    plot_names = [\"APP_MAG_R\", \"ABS_MAG_R\", \"LUM_R\"]\n",
    "    cnt = 0\n",
    "    for axis in ax:\n",
    "        axis.hist(data_f[plot_names[cnt]], bins = \"auto\")\n",
    "        axis.set_yscale(\"log\")\n",
    "        cnt += 1\n",
    "    plt.show()"
   ]
  },
  {
   "cell_type": "code",
   "execution_count": 330,
   "metadata": {},
   "outputs": [
    {
     "name": "stdout",
     "output_type": "stream",
     "text": [
      "These objects have a mean redshift of 0.0058176142218605694, which corresponds to a mean distance of 26.19451464430016 Mpc\n",
      "The minimum redshift is 2.90624616352737e-06, i.e. 0.01235999311422218 Mpc\n",
      "According to WolframAlpha the closest galaxy has a distance of roughly 25000ly = 7655pc (not Mpc, simply pc), so any object below 0.07Mpc is definitely not a real galaxy\n",
      "This reminded me to check if we have selected galaxies only...\n",
      "We have 0 stars in our catalogue of peculiar objects, compared to a total number of 695 objects...\n"
     ]
    },
    {
     "data": {
      "image/png": "[encoded data removed]",
      "text/plain": [
       "<Figure size 1500x800 with 5 Axes>"
      ]
     },
     "metadata": {},
     "output_type": "display_data"
    }
   ],
   "source": [
    "inspect_abs_mags = True\n",
    "\n",
    "if inspect_abs_mags:\n",
    "    data_to_inspect = data_f[data_f[\"ABS_MAG_R\"]> -12]\n",
    "    fig, ax = plt.subplots(ncols = 5, figsize = (15,8))\n",
    "    \n",
    "    ax[0].hist(data_to_inspect[\"ABS_MAG_R\"], bins = \"auto\")\n",
    "    ax[0].set_xlabel(\"abs mag in r-band\")\n",
    "    ax[1].hist(data_to_inspect[\"MW_TRANSMISSION\"], bins = \"auto\")\n",
    "    ax[1].set_xlabel(\"MW_TRANSMISSION\")\n",
    "    ax[2].hist(data_to_inspect[\"APP_MAG_R\"], bins = \"auto\")\n",
    "    ax[2].set_xlabel(\"App mag r-band\")\n",
    "    ax[3].hist(data_to_inspect[\"DIST_Z_MEAN\"], bins = \"auto\")\n",
    "    ax[3].set_xlabel(\"distance from redshift\")\n",
    "    ax[4].hist(data_to_inspect[\"Z\"], bins = \"auto\")\n",
    "    ax[4].set_xlabel(\"redshift\")\n",
    "    \n",
    "    mean_redshift_pec_objects = np.mean(data_to_inspect[\"Z\"])\n",
    "    mean_distance_pec_objects = np.mean(data_to_inspect[\"DIST_Z_MEAN\"])*u.Mpc\n",
    "    min_redshift_pec_objects = np.min(data_to_inspect[\"Z\"])\n",
    "    min_distance_pec_objects = np.min(data_to_inspect[\"DIST_Z_MEAN\"])*u.Mpc\n",
    "    \n",
    "    data_to_inspect_len = len(data_to_inspect)\n",
    "    star_data_len = len(data_to_inspect[data_to_inspect[\"SPECTYPE\"] == \"STAR\"])\n",
    "    \n",
    "    print(f\"These objects have a mean redshift of {mean_redshift_pec_objects}, which corresponds to a mean distance of {mean_distance_pec_objects}\")\n",
    "    print(f\"The minimum redshift is {min_redshift_pec_objects}, i.e. {min_distance_pec_objects}\")\n",
    "    print(f\"According to WolframAlpha the closest galaxy has a distance of roughly 25000ly = 7655pc (not Mpc, simply pc), so any object below 0.07Mpc is definitely not a real galaxy\")\n",
    "    print(f\"This reminded me to check if we have selected galaxies only...\")\n",
    "    print(f\"We have {star_data_len} stars in our catalogue of peculiar objects, compared to a total number of {data_to_inspect_len} objects...\")\n",
    "                        \n",
    "    for axis in ax:\n",
    "        axis.set_ylabel(\"bin count\")\n",
    "        #axis.legend()\n",
    "        \n",
    "    plt.tight_layout()\n",
    "    plt.show()\n",
    "    "
   ]
  },
  {
   "cell_type": "code",
   "execution_count": 331,
   "metadata": {},
   "outputs": [],
   "source": [
    "# np.max(data_f[\"MW_TRANSMISSION\"])"
   ]
  },
  {
   "cell_type": "markdown",
   "metadata": {
    "jp-MarkdownHeadingCollapsed": true,
    "tags": []
   },
   "source": [
    "### start calculating the P_Gal (the probability that galaxy X is the host)"
   ]
  },
  {
   "cell_type": "code",
   "execution_count": 332,
   "metadata": {},
   "outputs": [
    {
     "name": "stdout",
     "output_type": "stream",
     "text": [
      "The maximum luminosity in our catalog in the r-band is 4.7926189477245413e+39 W with a prob density of      PROBDENSITY     \n",
      "---------------------\n",
      "3.273650024029774e-05\n"
     ]
    }
   ],
   "source": [
    "max_lum_r = np.max(data_f[\"LUM_R\"])*u.W\n",
    "prob_dens_max_lum = data_f[data_f[\"LUM_R\"] == max_lum_r][\"PROBDENSITY\"]\n",
    "print(f\"The maximum luminosity in our catalog in the r-band is {max_lum_r} with a prob density of {prob_dens_max_lum}\")"
   ]
  },
  {
   "cell_type": "code",
   "execution_count": 333,
   "metadata": {},
   "outputs": [],
   "source": [
    "if modeled_search:\n",
    "\n",
    "    arg_errfc = abs(data_f[\"DIST_Z_MEAN\"]-data_f[\"DISTMU\"])/(data_f[\"DIST_Z_ERR\"]**2+data_f[\"DISTSIGMA\"]**2+data_f[\"DIST_Z_COSMO_SIGMA\"].value**2)\n",
    "    P_gal_unnorm = data_f[\"LUM_R\"]*data_f[\"PROBDENSITY\"]*(1-sc.special.erf(arg_errfc))\n",
    "    #dist_mean*u.Mpc, dist_std*u.Mpc\n",
    "    arg_errfc_c = abs(data_f[\"DIST_Z_MEAN\"].value-dist_mean)/(data_f[\"DIST_Z_ERR\"].value**2+dist_std**2+data_f[\"DIST_Z_COSMO_SIGMA\"].value**2)\n",
    "    P_gal_unnorm_const = data_f[\"LUM_R\"]*data_f[\"PROBDENSITY\"]*(1-sc.special.erf(arg_errfc_c))\n",
    "\n",
    "    # now lets quickly normalize\n",
    "\n",
    "    P_gal_sum = np.sum(P_gal_unnorm)\n",
    "    P_gal_const_sum = np.sum(P_gal_unnorm_const)\n",
    "\n",
    "    P_gal = 1/P_gal_sum * P_gal_unnorm\n",
    "    P_gal_const = 1/P_gal_const_sum * P_gal_unnorm_const\n",
    "\n",
    "else:\n",
    "    P_gal_unnorm = data_f[\"LUM_R\"]*data_f[\"PROBDENSITY\"]\n",
    "    P_gal_sum = np.sum(P_gal_unnorm)\n",
    "    P_gal = 1/P_gal_sum * P_gal_unnorm"
   ]
  },
  {
   "cell_type": "markdown",
   "metadata": {
    "tags": []
   },
   "source": [
    "### Get the missed fraction of DESI due to mass/luminosity incompleteness\n",
    "\n",
    "$$f_{missed} =  \\frac{\\int_{-\\infty}^{\\infty} dm 10^{-0.4m}\\left(1-\\frac{Hist}{Schechter}\\right)\\cdot Schechter}{\\int_{-\\infty}^{\\infty}dm 10^{-0.4m}\\cdot Schechter}$$\n",
    "\n",
    "We want to account for the fact that some region were covered in more detail by DESI than others..."
   ]
  },
  {
   "cell_type": "code",
   "execution_count": 334,
   "metadata": {},
   "outputs": [
    {
     "name": "stdout",
     "output_type": "stream",
     "text": [
      "-29.87184784433456, 7.367272922638271, 0.01235999311422218 Mpc, 6614.880865253411 Mpc, 6614868505.260297\n"
     ]
    },
    {
     "data": {
      "image/png": "[encoded data removed]",
      "text/plain": [
       "<Figure size 500x250 with 1 Axes>"
      ]
     },
     "metadata": {},
     "output_type": "display_data"
    }
   ],
   "source": [
    "if modeled_search:\n",
    "\n",
    "    # get the Schechter model, see 1/V estimator, bin size of half a mag\n",
    "    from astropy.modeling.models import Schechter1D\n",
    "\n",
    "    phi_star = 0.0017411666759990893\n",
    "    m_star = -21.938911723873762\n",
    "    alpha = -1.0776969153907823\n",
    "\n",
    "    schechter_model = Schechter1D(phi_star, m_star, alpha)\n",
    "    \n",
    "    data_min_dist = np.min(data_f[\"DIST_Z_MEAN\"])*u.Mpc\n",
    "    data_max_dist = np.max(data_f[\"DIST_Z_MEAN\"])*u.Mpc\n",
    "    \n",
    "    abs_mag_max = np.max(data_f[\"ABS_MAG_R\"])\n",
    "    abs_mag_min = np.min(data_f[\"ABS_MAG_R\"])\n",
    "\n",
    "    bins = np.arange(abs_mag_min, abs_mag_max, 0.5)\n",
    "\n",
    "    hist, bins = np.histogram(data_f[\"ABS_MAG_R\"], bins =  bins)\n",
    "    hist = hist/(area_99.to_value(u.deg**2)*(data_max_dist-data_min_dist).value*10**0) # completely wrong normalization\n",
    "    \n",
    "    print(f\"{abs_mag_min}, {abs_mag_max}, {data_min_dist}, {data_max_dist}, {(data_max_dist-data_min_dist).value*10**6}\")\n",
    "    \n",
    "    fig, ax = plt.subplots(figsize = (5,2.5))\n",
    "    bins_center = bins[1:]-(bins[1]-bins[2])/2\n",
    "    ax.plot(bins_center, hist, label = \"wrongly normalized distribution\")\n",
    "    ax.plot(np.linspace(-25,-18), schechter_model(np.linspace(-25,-18)),  label = \"some schechter fit\", color = \"red\")\n",
    "\n",
    "    ax.set_yscale(\"log\")\n",
    "    plt.show()"
   ]
  },
  {
   "cell_type": "code",
   "execution_count": 335,
   "metadata": {},
   "outputs": [
    {
     "name": "stdout",
     "output_type": "stream",
     "text": [
      "(1052592.2749107545, 0.0003165349709348675)\n",
      "(1052592.2749107545, 0.0003165349709348675)\n",
      "1.0\n"
     ]
    }
   ],
   "source": [
    "if modeled_search:\n",
    "    def hist_func(M):\n",
    "        # https://stackoverflow.com/questions/2566412/find-nearest-value-in-numpy-array\n",
    "        # make sure array is a numpy array\n",
    "        # array = np.array(array)\n",
    "        idx = (np.abs(hist - M)).argmin()\n",
    "        val = hist[idx]\n",
    "        #print(f\"val {val}\")\n",
    "        return val\n",
    "\n",
    "    def num_func(M):\n",
    "        #print(f\"M is {M}\")\n",
    "        schechter_val = schechter_model(M)\n",
    "        #print(f\"schechter Val: {schechter_val}\")\n",
    "        lum_factor = 10**(-0.4*M)\n",
    "        #print(f\"lum factor {lum_factor}\")\n",
    "        weighting_coverage = (1-hist_func(M)/(schechter_val))\n",
    "        #print(f\"weighting_coverage: {weighting_coverage}\")\n",
    "        final_val = lum_factor*weighting_coverage*schechter_val\n",
    "        #print(f\"final value: {final_val}\")\n",
    "        return final_val\n",
    "    def denom_func(M):\n",
    "        lum_factor = 10**(-0.4*M)\n",
    "        schechter_val = schechter_model(M)\n",
    "        final_val = lum_factor*schechter_val\n",
    "\n",
    "        return final_val\n",
    "\n",
    "\n",
    "\n",
    "\n",
    "    numerator = quad(num_func, -28, -18)\n",
    "    denominator = quad(denom_func, -28, -18)\n",
    "\n",
    "    print(numerator)\n",
    "    print(denominator)\n",
    "\n",
    "    f_missed = numerator[0]/denominator[0]\n",
    "\n",
    "    print(f_missed)"
   ]
  },
  {
   "cell_type": "code",
   "execution_count": 336,
   "metadata": {},
   "outputs": [],
   "source": [
    "data_f = hstack([data_f, Table({\"P_GAL\": P_gal.value})])"
   ]
  },
  {
   "cell_type": "code",
   "execution_count": 337,
   "metadata": {},
   "outputs": [
    {
     "data": {
      "text/html": [
       "<div><i>Table length=1263396</i>\n",
       "<table id=\"table140597888126592\" class=\"table-striped table-bordered table-condensed\">\n",
       "<thead><tr><th>TARGETID</th><th>TARGET_RA</th><th>TARGET_DEC</th><th>LASTNIGHT</th><th>Z</th><th>ZERR</th><th>ZWARN</th><th>FLUX_G</th><th>FLUX_R</th><th>FLUX_Z</th><th>SPECTYPE</th><th>BGS_TARGET</th><th>EBV</th><th>SERSIC</th><th>UNIQ</th><th>PROBDENSITY</th><th>DISTMU</th><th>DISTSIGMA</th><th>DISTNORM</th><th>DIST_Z_MEAN</th><th>DIST_Z_ERR</th><th>DIST_Z_COSMO_SIGMA</th><th>MW_TRANSMISSION</th><th>APP_MAG_R</th><th>ABS_MAG_R</th><th>LUM_R</th><th>P_GAL</th></tr></thead>\n",
       "<thead><tr><th></th><th></th><th></th><th></th><th></th><th></th><th></th><th></th><th></th><th></th><th></th><th></th><th></th><th></th><th></th><th></th><th>Mpc</th><th>Mpc</th><th>1 / Mpc2</th><th>Mpc</th><th>Mpc</th><th>Mpc</th><th></th><th></th><th></th><th>W</th><th></th></tr></thead>\n",
       "<thead><tr><th>int64</th><th>float64</th><th>float64</th><th>int64</th><th>float64</th><th>float64</th><th>int64</th><th>float64</th><th>float64</th><th>float64</th><th>bytes6</th><th>int64</th><th>float64</th><th>float64</th><th>int64</th><th>float64</th><th>float64</th><th>float64</th><th>float64</th><th>float64</th><th>float64</th><th>float64</th><th>float64</th><th>float64</th><th>float64</th><th>float64</th><th>float64</th></tr></thead>\n",
       "<tr><td>39627329441367512</td><td>87.0214831261028</td><td>-19.3159172815501</td><td>20210107</td><td>0.405551670647463</td><td>3.44483765499101e-05</td><td>0</td><td>1.73643779754639</td><td>6.23603582382202</td><td>13.1384925842285</td><td>GALAXY</td><td>0</td><td>0.0637876316905022</td><td>1.0</td><td>599488</td><td>0.0019891805592143867</td><td>2562.9822109730985</td><td>861.3009065740661</td><td>1.367885805870855e-07</td><td>2183.492406350188</td><td>0.14650925004373436</td><td>235.56300720926782</td><td>0.8806136764160551</td><td>20.374692061541026</td><td>-21.411984082695106</td><td>1.9798276978731544e+36</td><td>1.2119064958391007e-05</td></tr>\n",
       "<tr><td>39627318037056833</td><td>87.0551075993945</td><td>-19.6428138784943</td><td>20210107</td><td>0.268409679624286</td><td>1.51862890830181e-05</td><td>0</td><td>3.05206036567688</td><td>7.90451812744141</td><td>15.2817258834839</td><td>GALAXY</td><td>0</td><td>0.0581257492303848</td><td>1.0</td><td>599359</td><td>0.00197831813706484</td><td>2567.62032815077</td><td>862.9638209307491</td><td>1.3629150317579056e-07</td><td>1353.0555272199908</td><td>0.06458647235400179</td><td>137.11573399046333</td><td>0.8906075069047528</td><td>20.129527379260505</td><td>-20.617572506562777</td><td>9.524951331787119e+35</td><td>5.791345252556909e-06</td></tr>\n",
       "<tr><td>39627318037059045</td><td>87.1197029380941</td><td>-19.7112056273884</td><td>20210206</td><td>0.663793584723312</td><td>9.808976774207e-05</td><td>0</td><td>0.3226398229599</td><td>0.340979546308517</td><td>0.628007709980011</td><td>GALAXY</td><td>0</td><td>0.055875651538372</td><td>1.0</td><td>599359</td><td>0.00197831813706484</td><td>2567.62032815077</td><td>862.9638209307491</td><td>1.3629150317579056e-07</td><td>3941.041583105934</td><td>0.41719690944993937</td><td>467.1170406741353</td><td>0.8946105924255606</td><td>23.54726426862903</td><td>-19.521961834788975</td><td>3.472310044198253e+35</td><td>2.111620687789759e-06</td></tr>\n",
       "<tr><td>39627318037059490</td><td>87.13321990374</td><td>-19.6545384143281</td><td>20210107</td><td>0.224992662049424</td><td>5.73791452954958e-06</td><td>0</td><td>6.11318016052246</td><td>11.8614234924316</td><td>20.3510189056396</td><td>GALAXY</td><td>0</td><td>0.0588091276586056</td><td>0.5</td><td>599359</td><td>0.00197831813706484</td><td>2567.62032815077</td><td>862.9638209307491</td><td>1.3629150317579056e-07</td><td>1107.9548405878752</td><td>0.02440286656403559</td><td>109.85156732299961</td><td>0.8893952774818145</td><td>19.687395017880526</td><td>-20.625562937711912</td><td>9.595308398586315e+35</td><td>5.831894362770905e-06</td></tr>\n",
       "<tr><td>39627329441367651</td><td>87.0258454971578</td><td>-19.283549087624</td><td>20210107</td><td>0.403222031933717</td><td>2.14880628477579e-05</td><td>0</td><td>2.50455784797668</td><td>8.54479694366455</td><td>18.5866603851318</td><td>GALAXY</td><td>0</td><td>0.0637028589844704</td><td>0.665353775024414</td><td>599490</td><td>0.00197613698587998</td><td>2562.07303121524</td><td>861.0789197986969</td><td>1.3688298780261502e-07</td><td>2168.723975306241</td><td>0.09138801742114039</td><td>233.73947343007</td><td>0.8807624792146085</td><td>20.032892646362356</td><td>-21.739041528844915</td><td>2.6757798208226047e+36</td><td>1.6271441656638566e-05</td></tr>\n",
       "<tr><td>39627329441366288</td><td>86.9714440576614</td><td>-19.2272898194948</td><td>20210107</td><td>0.372820207766997</td><td>4.60867072100309e-05</td><td>0</td><td>2.09091639518738</td><td>6.80626535415649</td><td>13.8271465301514</td><td>GALAXY</td><td>0</td><td>0.0646747946739197</td><td>0.677806317806244</td><td>599490</td><td>0.00197613698587998</td><td>2562.07303121524</td><td>861.0789197986969</td><td>1.3688298780261502e-07</td><td>1978.0010649916294</td><td>0.19600891405307036</td><td>210.410878632549</td><td>0.8790579333728415</td><td>20.2777715522765</td><td>-21.294204010335665</td><td>1.7762961185637535e+36</td><td>1.079863336727205e-05</td></tr>\n",
       "<tr><td>39627329437177493</td><td>86.9323141087831</td><td>-19.1704331266067</td><td>20210107</td><td>0.356280695109085</td><td>1.24449339129845e-05</td><td>0</td><td>3.78639912605286</td><td>10.0700845718384</td><td>19.1833915710449</td><td>GALAXY</td><td>0</td><td>0.0658317059278488</td><td>1.0</td><td>599490</td><td>0.00197613698587998</td><td>2562.07303121524</td><td>861.0789197986969</td><td>1.3688298780261502e-07</td><td>1875.8393618928155</td><td>0.052927525231635686</td><td>198.08904858563852</td><td>0.8770332838058498</td><td>19.849957393584784</td><td>-21.60682153415652</td><td>2.3689853572179725e+36</td><td>1.4399561555438498e-05</td></tr>\n",
       "<tr><td>39627323732920711</td><td>86.9069274222891</td><td>-19.435843805242</td><td>20210206</td><td>0.735325165484087</td><td>6.36298489430842e-05</td><td>0</td><td>0.45094883441925</td><td>0.563331127166748</td><td>1.11002373695374</td><td>GALAXY</td><td>0</td><td>0.0637581273913383</td><td>1.0</td><td>599445</td><td>0.0019636417514989116</td><td>2566.7812080767403</td><td>862.7688889284643</td><td>1.3637783842421925e-07</td><td>4464.758356493385</td><td>0.27062433643017636</td><td>540.6196448313793</td><td>0.8806654629011325</td><td>22.985118039636788</td><td>-20.35503382474738</td><td>7.479064740250873e+35</td><td>4.512447989645143e-06</td></tr>\n",
       "<tr><td>39627323732923264</td><td>86.9945305605309</td><td>-19.571258574454</td><td>20210107</td><td>0.445907117763289</td><td>1.30838674285237e-05</td><td>0</td><td>3.2194881439209</td><td>9.75046253204346</td><td>18.4175662994385</td><td>GALAXY</td><td>0</td><td>0.0580326095223427</td><td>1.0</td><td>599445</td><td>0.0019636417514989116</td><td>2566.7812080767403</td><td>862.7688889284643</td><td>1.3637783842421925e-07</td><td>2442.687104675052</td><td>0.055644896622769946</td><td>267.9486239454607</td><td>0.8907728532011877</td><td>19.90185438852945</td><td>-22.128479371585698</td><td>3.830235801251024e+36</td><td>2.3153362239356383e-05</td></tr>\n",
       "<tr><td>...</td><td>...</td><td>...</td><td>...</td><td>...</td><td>...</td><td>...</td><td>...</td><td>...</td><td>...</td><td>...</td><td>...</td><td>...</td><td>...</td><td>...</td><td>...</td><td>...</td><td>...</td><td>...</td><td>...</td><td>...</td><td>...</td><td>...</td><td>...</td><td>...</td><td>...</td><td>...</td></tr>\n",
       "<tr><td>39633020541471446</td><td>218.706614312057</td><td>37.0515601719324</td><td>20210606</td><td>0.329237456926781</td><td>6.19740658171306e-05</td><td>0</td><td>2.16581034660339</td><td>10.1023092269897</td><td>22.7280464172363</td><td>GALAXY</td><td>265</td><td>0.00900469720363617</td><td>1.0</td><td>6736</td><td>1.3316811867104378e-05</td><td>2509.035723225597</td><td>941.1683829830349</td><td>1.3926694527579296e-07</td><td>1711.2992604873134</td><td>0.2635817862945605</td><td>178.51206304629756</td><td>0.9821149263039619</td><td>19.969354134054857</td><td>-21.288000528257253</td><td>1.7661759796686948e+36</td><td>7.234505274053184e-08</td></tr>\n",
       "<tr><td>39633020541471743</td><td>218.737018354874</td><td>37.0020112466612</td><td>20210606</td><td>0.177298082949254</td><td>8.24657932461837e-05</td><td>0</td><td>20.0160865783691</td><td>59.439826965332</td><td>114.491600036621</td><td>GALAXY</td><td>514</td><td>0.00969566218554974</td><td>2.5469663143158</td><td>6736</td><td>1.3316811867104378e-05</td><td>2509.035723225597</td><td>941.1683829830349</td><td>1.3926694527579296e-07</td><td>849.5463495340281</td><td>0.35074059920937944</td><td>82.13857872312545</td><td>0.9807558236915737</td><td>18.04370839787383</td><td>-21.692353702471998</td><td>2.5631572066117196e+36</td><td>1.0487312953385467e-07</td></tr>\n",
       "<tr><td>39633020545663045</td><td>218.75295751758</td><td>36.9701262400362</td><td>20220402</td><td>0.826969437865461</td><td>1.30565381606503e-05</td><td>0</td><td>0.429301977157593</td><td>0.53695148229599</td><td>1.02874374389648</td><td>GALAXY</td><td>0</td><td>0.0101922638714314</td><td>1.0</td><td>6736</td><td>1.3316811867104378e-05</td><td>2509.035723225597</td><td>941.1683829830349</td><td>1.3926694527579296e-07</td><td>5155.433918419181</td><td>0.055528665742620525</td><td>639.968492812292</td><td>0.979780188284273</td><td>23.15298401976734</td><td>-20.4994594074676</td><td>8.543140044846948e+35</td><td>3.494751386228117e-08</td></tr>\n",
       "<tr><td>39633020541471394</td><td>218.702026624244</td><td>36.9465808832086</td><td>20210606</td><td>0.303073261940757</td><td>6.27861526832805e-06</td><td>0</td><td>7.42984437942505</td><td>19.6480083465576</td><td>38.5649147033691</td><td>GALAXY</td><td>514</td><td>0.00948141515254974</td><td>1.0</td><td>6736</td><td>1.3316811867104378e-05</td><td>2509.035723225597</td><td>941.1683829830349</td><td>1.3926694527579296e-07</td><td>1555.1496979180038</td><td>0.026702432215183945</td><td>160.254123476963</td><td>0.9811770383987432</td><td>19.246072105749906</td><td>-21.803432051929004</td><td>2.8392692794541915e+36</td><td>1.1627718517601255e-07</td></tr>\n",
       "<tr><td>39633020541471431</td><td>218.705389360782</td><td>37.0699344053119</td><td>20220426</td><td>0.1770638391869</td><td>4.93260587898163e-05</td><td>0</td><td>43.1542053222656</td><td>122.816436767578</td><td>242.271926879883</td><td>GALAXY</td><td>514</td><td>0.00902571342885494</td><td>2.18799161911011</td><td>6736</td><td>1.3316811867104378e-05</td><td>2509.035723225597</td><td>941.1683829830349</td><td>1.3926694527579296e-07</td><td>848.3062918531847</td><td>0.20978654589696355</td><td>82.00830609160347</td><td>0.9820735604065782</td><td>17.257218814609807</td><td>-22.475670172225016</td><td>5.273534985885299e+36</td><td>2.157695280728698e-07</td></tr>\n",
       "<tr><td>39633020545663158</td><td>218.760803508152</td><td>36.903433718051</td><td>20220503</td><td>0.458170470294216</td><td>8.68752669249112e-06</td><td>0</td><td>0.515550494194031</td><td>0.621478676795959</td><td>1.0314085483551</td><td>GALAXY</td><td>0</td><td>0.0102674551308155</td><td>1.0</td><td>6736</td><td>1.3316811867104378e-05</td><td>2509.035723225597</td><td>941.1683829830349</td><td>1.3926694527579296e-07</td><td>2522.684636517959</td><td>0.036947401485559334</td><td>278.0847063216519</td><td>0.9796325503837613</td><td>22.994092436634133</td><td>-19.106237121143288</td><td>2.367710560147159e+35</td><td>9.70784300051962e-09</td></tr>\n",
       "<tr><td>39633020541471775</td><td>218.739732745532</td><td>37.0399146485824</td><td>20220426</td><td>0.294462090275386</td><td>8.42106511733893e-05</td><td>0</td><td>7.53556776046753</td><td>28.8235683441162</td><td>60.3880729675293</td><td>GALAXY</td><td>514</td><td>0.00912021193653345</td><td>4.0</td><td>6736</td><td>1.3316811867104378e-05</td><td>2509.035723225597</td><td>941.1683829830349</td><td>1.3926694527579296e-07</td><td>1504.4291911084606</td><td>0.35816224419365994</td><td>154.3936078843887</td><td>0.9818875820459445</td><td>18.830785055682146</td><td>-22.146688128682936</td><td>3.89501392053119e+36</td><td>1.5950288468015057e-07</td></tr>\n",
       "<tr><td>39633020541471874</td><td>218.749057139814</td><td>37.0567554536862</td><td>20220402</td><td>0.903962958114267</td><td>0.000127144588327719</td><td>0</td><td>0.157921299338341</td><td>0.572212219238281</td><td>3.42578339576721</td><td>GALAXY</td><td>0</td><td>0.00891902390867472</td><td>1.0</td><td>6736</td><td>1.3316811867104378e-05</td><td>2509.035723225597</td><td>941.1683829830349</td><td>1.3926694527579296e-07</td><td>5751.301262884534</td><td>0.540785308260912</td><td>727.5799851842825</td><td>0.982283573699311</td><td>23.086699384828453</td><td>-20.803188565372775</td><td>1.1300799997943411e+36</td><td>4.621533176803888e-08</td></tr>\n",
       "<tr><td>39633020541471873</td><td>218.749056884098</td><td>36.9707740341609</td><td>20230407</td><td>0.260470676759226</td><td>5.46443529990321e-05</td><td>0</td><td>0.337013751268387</td><td>0.21130083501339</td><td>0.246949195861816</td><td>GALAXY</td><td>0</td><td>0.010165193118155</td><td>0.0</td><td>6736</td><td>1.3316811867104378e-05</td><td>2509.035723225597</td><td>941.1683829830349</td><td>1.3926694527579296e-07</td><td>1307.5589526274207</td><td>0.23240649817815076</td><td>131.98679142597686</td><td>0.9798333471060434</td><td>24.165627506550276</td><td>-16.507170702396476</td><td>2.161235256562705e+34</td><td>8.84811504192888e-10</td></tr>\n",
       "<tr><td>39633020541471816</td><td>218.743765464436</td><td>37.1167881978841</td><td>20220402</td><td>0.496703598029191</td><td>3.6897300283499e-05</td><td>0</td><td>0.571141958236694</td><td>0.657327890396118</td><td>0.861074924468994</td><td>GALAXY</td><td>0</td><td>0.00923077389597893</td><td>1.0</td><td>6736</td><td>1.3316811867104378e-05</td><td>2509.035723225597</td><td>941.1683829830349</td><td>1.3926694527579296e-07</td><td>2777.6468030398937</td><td>0.1569248376011754</td><td>310.80664151118435</td><td>0.9816700346195915</td><td>22.9354586865803</td><td>-19.373995578301322</td><td>3.029925805759905e+35</td><td>1.241935553703013e-08</td></tr>\n",
       "</table></div>"
      ],
      "text/plain": [
       "<Table length=1263396>\n",
       "     TARGETID        TARGET_RA     ...         P_GAL         \n",
       "                                   ...                       \n",
       "      int64           float64      ...        float64        \n",
       "----------------- ---------------- ... ----------------------\n",
       "39627329441367512 87.0214831261028 ... 1.2119064958391007e-05\n",
       "39627318037056833 87.0551075993945 ...  5.791345252556909e-06\n",
       "39627318037059045 87.1197029380941 ...  2.111620687789759e-06\n",
       "39627318037059490   87.13321990374 ...  5.831894362770905e-06\n",
       "39627329441367651 87.0258454971578 ... 1.6271441656638566e-05\n",
       "39627329441366288 86.9714440576614 ...  1.079863336727205e-05\n",
       "39627329437177493 86.9323141087831 ... 1.4399561555438498e-05\n",
       "39627323732920711 86.9069274222891 ...  4.512447989645143e-06\n",
       "39627323732923264 86.9945305605309 ... 2.3153362239356383e-05\n",
       "              ...              ... ...                    ...\n",
       "39633020541471446 218.706614312057 ...  7.234505274053184e-08\n",
       "39633020541471743 218.737018354874 ... 1.0487312953385467e-07\n",
       "39633020545663045  218.75295751758 ...  3.494751386228117e-08\n",
       "39633020541471394 218.702026624244 ... 1.1627718517601255e-07\n",
       "39633020541471431 218.705389360782 ...  2.157695280728698e-07\n",
       "39633020545663158 218.760803508152 ...   9.70784300051962e-09\n",
       "39633020541471775 218.739732745532 ... 1.5950288468015057e-07\n",
       "39633020541471874 218.749057139814 ...  4.621533176803888e-08\n",
       "39633020541471873 218.749056884098 ...   8.84811504192888e-10\n",
       "39633020541471816 218.743765464436 ...  1.241935553703013e-08"
      ]
     },
     "execution_count": 337,
     "metadata": {},
     "output_type": "execute_result"
    }
   ],
   "source": [
    "data_f[:]"
   ]
  },
  {
   "cell_type": "markdown",
   "metadata": {
    "jp-MarkdownHeadingCollapsed": true,
    "tags": []
   },
   "source": [
    "## Analyse the data: How much luminosity do we cover? Which galaxies should we observe?\n",
    "\n",
    "Lets look into what information we can retrieve from here. First we define, how many galaxies we could observe (N_galaxies).\n",
    "\n",
    "We then calculate the luminosity (lum) from all the galaxies in this area, i.e. the total luminosity. From there do some comparison between the covered luminosity and total luminosity depending on the ranking by probability:\n",
    "- simple \"Maximum lum that could be covered\" by looking at the brightest galaxies\n",
    "- Calculate the probability this way (done above) (from https://arxiv.org/pdf/1710.05452.pdf w/o normalization), both using a static and variable distance and error: $$P_{gal} = k^{-1}\\tilde{L_z}(1-f_{missed})\\cdot P_{2D}\\left(1-\\text{erf}\\left(\\frac{|D_{Gal}-D_{LVC}|}{\\sigma_{D,gal}^{2}+\\sigma_{D,LVC}^{2}+\\sigma_{D,cosmology}^{2}}\\right)\\right)$$\n",
    "- others may follow...\n",
    "\n",
    "Since we have the actual luminosity (here in r-band though), we don't need to again calculate the $$\\tilde{L}_{gal}$$ values. In the mentioned paper, they only use a fixed distance and error for the LIGO data. I will try both, to get an idea what the differences are."
   ]
  },
  {
   "cell_type": "code",
   "execution_count": 338,
   "metadata": {},
   "outputs": [],
   "source": [
    "N_galaxies = 200 # how many galaxies we can cover"
   ]
  },
  {
   "cell_type": "code",
   "execution_count": 339,
   "metadata": {},
   "outputs": [],
   "source": [
    "total_lum = np.sum(data_f[\"LUM_R\"])"
   ]
  },
  {
   "cell_type": "markdown",
   "metadata": {
    "jp-MarkdownHeadingCollapsed": true,
    "tags": []
   },
   "source": [
    "### Compare lum with luminosity ranking\n",
    "\n",
    "https://iopscience.iop.org/article/10.3847/0067-0049/226/1/10"
   ]
  },
  {
   "cell_type": "code",
   "execution_count": 340,
   "metadata": {},
   "outputs": [],
   "source": [
    "data_sort_by_lums = data_f.group_by(\"LUM_R\")\n",
    "data_sort_by_lums = data_sort_by_lums[::-1]"
   ]
  },
  {
   "cell_type": "code",
   "execution_count": 341,
   "metadata": {},
   "outputs": [],
   "source": [
    "lum_after_N_highest = np.sum(data_sort_by_lums[\"LUM_R\"][:N_galaxies])"
   ]
  },
  {
   "cell_type": "code",
   "execution_count": 342,
   "metadata": {},
   "outputs": [
    {
     "name": "stdout",
     "output_type": "stream",
     "text": [
      "The theoretical maximum luminosity we could cover is 3.8210913977090066e+40, i.e. 1.1793498033053684 % of the total luminosity\n",
      "The TARGETID values of these galaxies are: \n",
      "      TARGETID    \n",
      "-----------------\n",
      "39627595230218436\n",
      "39627779884450335\n",
      "39633502190175579\n",
      "39633349458790906\n",
      "39632946335844121\n",
      "39633336213180417\n",
      "39627779892838671\n",
      "39633414021712524\n",
      "39627785928443360\n",
      "39627779884451813\n",
      "              ...\n",
      "39633500202076287\n",
      "39628164317579427\n",
      "39633086765336913\n",
      "39633030381306234\n",
      "39628352071402399\n",
      "39633149575039712\n",
      "39633179543341692\n",
      "39633422334823416\n",
      "39633114061866990\n",
      "39628346501366155\n",
      "39627779888645455\n",
      "Length = 200 rows\n"
     ]
    }
   ],
   "source": [
    "print(f\"The theoretical maximum luminosity we could cover is {lum_after_N_highest}, i.e. {lum_after_N_highest*100/total_lum} % of the total luminosity\")\n",
    "print(\"The TARGETID values of these galaxies are: \\n\", data_sort_by_lums[\"TARGETID\"][:N_galaxies])"
   ]
  },
  {
   "cell_type": "markdown",
   "metadata": {
    "tags": []
   },
   "source": [
    "### Compare lum with P_Gal ranking"
   ]
  },
  {
   "cell_type": "code",
   "execution_count": 343,
   "metadata": {},
   "outputs": [],
   "source": [
    "data_sort_by_PGal = data_f.group_by(\"P_GAL\")\n",
    "data_sort_by_PGal = data_sort_by_PGal[::-1]\n",
    "\n",
    "lum_after_N_PGal = np.sum(data_sort_by_PGal[\"LUM_R\"][:N_galaxies])"
   ]
  },
  {
   "cell_type": "code",
   "execution_count": 344,
   "metadata": {},
   "outputs": [
    {
     "name": "stdout",
     "output_type": "stream",
     "text": [
      "The luminosity we cover when observing 200 galaxies ranked by P_gal is 2.682618770341572e+40W, i.e. 0.8279691820620919% of the total (DESI) luminosity in the search area\n",
      "The TARGETID values of these galaxies are: \n",
      "    TARGET_RA          TARGET_DEC     ...         P_GAL         \n",
      "---------------- ------------------- ... ----------------------\n",
      "71.2694399855156  -0.127796626468571 ...  0.0018871770410840026\n",
      "71.7566419922026  -0.267950464711153 ...  0.0012707491049280541\n",
      "71.5514038835057  0.0555394596457266 ...  0.0010183669033338998\n",
      "71.9053220086538 -0.0632855470676467 ...  0.0009559431503672939\n",
      "71.3257460713843  -0.171908934452738 ...   0.000954070996455035\n",
      "72.2964100381765  -0.777745318388501 ...  0.0007447568990676715\n",
      " 71.933015525194  -0.314351734124381 ...  0.0007425448774006578\n",
      "71.9540119636476  -0.487436533596483 ...  0.0007352606759992732\n",
      "72.0721772892937  -0.412265345049703 ...  0.0006986782711017426\n",
      "72.0098337727634 -0.0142823563201608 ...  0.0005918637760757412\n",
      "             ...                 ... ...                    ...\n",
      "73.2941647498003   -2.90645019288883 ...  5.182866459407123e-05\n",
      "72.0671242509998   -2.14757085320727 ...  5.173311692170696e-05\n",
      "238.002327099544    61.9778157297343 ... 5.1280780106770425e-05\n",
      "  238.2302943388    61.2540505057969 ... 5.1250608821424826e-05\n",
      "84.6915205854589   -19.1129208401666 ...  5.110679539625782e-05\n",
      "86.9383219359571   -20.1952453051948 ... 5.0963529635540815e-05\n",
      "223.913215626193    36.7349216976244 ...  5.091712307629218e-05\n",
      "235.081843600041    55.4563028321777 ...  5.063375906597471e-05\n",
      "73.9680931064433   -2.71065160683538 ... 5.0526632118443123e-05\n",
      "86.6796485769576   -20.9971197726002 ...  5.051377986374976e-05\n",
      "255.690885737099    70.8387261687552 ...  5.042641639639047e-05\n",
      "Length = 200 rows\n"
     ]
    }
   ],
   "source": [
    "print(f\"The luminosity we cover when observing {N_galaxies} galaxies ranked by P_gal is {lum_after_N_PGal}W, i.e. {lum_after_N_PGal*100/total_lum}% of the total (DESI) luminosity in the search area\") \n",
    "print(\"The TARGETID values of these galaxies are: \\n\", data_sort_by_PGal[\"TARGET_RA\", \"TARGET_DEC\", \"SERSIC\", \"TARGETID\", \"P_GAL\"][:N_galaxies])"
   ]
  },
  {
   "cell_type": "code",
   "execution_count": 345,
   "metadata": {},
   "outputs": [
    {
     "data": {
      "text/plain": [
       "'data_sort_by_PGal_C = data_f.group_by(\"P_GAL_C\")\\ndata_sort_by_PGal_C = data_sort_by_PGal_C[::-1]\\n\\nlum_after_N_PGal_C = np.sum(data_sort_by_PGal_C[\"LUM_R\"][:N_galaxies])'"
      ]
     },
     "execution_count": 345,
     "metadata": {},
     "output_type": "execute_result"
    }
   ],
   "source": [
    "\"\"\"data_sort_by_PGal_C = data_f.group_by(\"P_GAL_C\")\n",
    "data_sort_by_PGal_C = data_sort_by_PGal_C[::-1]\n",
    "\n",
    "lum_after_N_PGal_C = np.sum(data_sort_by_PGal_C[\"LUM_R\"][:N_galaxies])\"\"\""
   ]
  },
  {
   "cell_type": "code",
   "execution_count": 346,
   "metadata": {},
   "outputs": [
    {
     "data": {
      "text/plain": [
       "'print(f\"The maximum luminosity we cover when ranked by P_gal_C is {lum_after_N_PGal_C}, i.e. {lum_after_N_PGal_C*100/total_lum}% of the total luminosity\") \\nprint(\"The TARGETID values of these galaxies are: \\n\", data_sort_by_PGal_C[\"TARGETID\", \"P_GAL\"][:N_galaxies])'"
      ]
     },
     "execution_count": 346,
     "metadata": {},
     "output_type": "execute_result"
    }
   ],
   "source": [
    "\"\"\"print(f\"The maximum luminosity we cover when ranked by P_gal_C is {lum_after_N_PGal_C}, i.e. {lum_after_N_PGal_C*100/total_lum}% of the total luminosity\") \n",
    "print(\"The TARGETID values of these galaxies are: \\n\", data_sort_by_PGal_C[\"TARGETID\", \"P_GAL\"][:N_galaxies])\"\"\""
   ]
  },
  {
   "cell_type": "markdown",
   "metadata": {
    "jp-MarkdownHeadingCollapsed": true,
    "tags": []
   },
   "source": [
    "## Exclude unobservabe objects from the PGal ranking and export list\n",
    "\n",
    "We want to cut out galaxies that are not observable by Wendelstein. For this we need the date (to calculate alt and az; we do this for three times to check observability) and Wendelstein location."
   ]
  },
  {
   "cell_type": "code",
   "execution_count": 347,
   "metadata": {},
   "outputs": [],
   "source": [
    "# convert DEG:MIN:SEC to deg with decimals...\n",
    "def conv_to_deg(deg, arcmin, arcsec):\n",
    "    return (deg+ arcmin/60+ arcsec/3600)*u.deg"
   ]
  },
  {
   "cell_type": "markdown",
   "metadata": {
    "jp-MarkdownHeadingCollapsed": true,
    "tags": []
   },
   "source": [
    "### Get the observable objects (i.e. alt > 0) in the next night and apply that selection to our data"
   ]
  },
  {
   "cell_type": "code",
   "execution_count": 356,
   "metadata": {},
   "outputs": [
    {
     "name": "stderr",
     "output_type": "stream",
     "text": [
      "/tmp/ipykernel_391663/3219548472.py:18: DeprecationWarning: parsing timezone aware datetimes is deprecated; this will raise an error in the future\n",
      "  t = np.arange(sunset_time, sunrise_time, timedelta(minutes=45)).astype(datetime)              # \\n this may throw a deprecation warning, but seems fine anyway: https://github.com/numpy/numpy/issues/23904\n"
     ]
    }
   ],
   "source": [
    "# set the timzone\n",
    "timezone = \"Europe/Berlin\"\n",
    "tz_Berlin = pytz.timezone(timezone)\n",
    "\n",
    "# get the date (and actually time, but that it useless for us) of today and tomorrow\n",
    "day_Berlin = datetime.now(tz_Berlin)\n",
    "tmrw_Berlin = day_Berlin + timedelta(hours = 23, minutes = 59, seconds = 59)\n",
    "\n",
    "# set the Wendelstein location\n",
    "Wendelstein_loc = EarthLocation(lat = conv_to_deg(47, 42, 13.1), lon = conv_to_deg(12, 0, 43.4), height = 1838*u.m)\n",
    "\n",
    "# define the sun object, which will tell us sunrise and set\n",
    "sun = SunTimes(Wendelstein_loc.lon.to_value(), Wendelstein_loc.lat.to_value(), Wendelstein_loc.height.to_value())\n",
    "sunset_time = sun.setwhere(day_Berlin, timezone)\n",
    "sunrise_time = sun.risewhere(tmrw_Berlin, timezone)\n",
    "\n",
    "# get a time array that includes the sunset time and from there a 30min interval until sunset\n",
    "t = np.arange(sunset_time, sunrise_time, timedelta(minutes=45)).astype(datetime)              # this may throw a deprecation warning, but seems fine anyway: https://github.com/numpy/numpy/issues/23904\n",
    "\n",
    "# a little cheap but effective: observation at sunset is useless, start 1h after:\n",
    "t = t[2:]"
   ]
  },
  {
   "cell_type": "code",
   "execution_count": 349,
   "metadata": {},
   "outputs": [],
   "source": [
    "# get all the SkyCoords for each objects in the data catalog\n",
    "target_SkyCoord = SkyCoord(data_sort_by_PGal[\"TARGET_RA\"], data_sort_by_PGal[\"TARGET_DEC\"], unit = \"deg\")"
   ]
  },
  {
   "cell_type": "code",
   "execution_count": 350,
   "metadata": {},
   "outputs": [],
   "source": [
    "# get Alt for the different times during the night\n",
    "# t should be an array that consists of a couple of night times, so if *all* of these times don't have a positive alt it will be discarded\n",
    "target_Alt = [target_SkyCoord.transform_to(AltAz(obstime = time, location = Wendelstein_loc)).alt.value for time in t]\n",
    "\n",
    "# now turn it into a numpy array\n",
    "target_Alt = np.array(target_Alt)\n",
    "\n",
    "# swap the axes so that the first axis is all the different targets and the second then includes the alt per observing time\n",
    "target_Alt_swapped = np.swapaxes(target_Alt, 0,1)\n",
    "\n",
    "# now create the selection for each target in the P_Gal catalog\n",
    "sel = []\n",
    "for target in target_Alt_swapped:\n",
    "    sel.append((target > 0).any())\n",
    "    \n",
    "# now apply the selection to the dataset\n",
    "data_sort_by_PGal_observable = data_sort_by_PGal[sel]"
   ]
  },
  {
   "cell_type": "code",
   "execution_count": 351,
   "metadata": {},
   "outputs": [
    {
     "name": "stdout",
     "output_type": "stream",
     "text": [
      "There were 87127 non-observable objects in the current dataset. \n",
      "We have 1176269 objects remaining\n"
     ]
    }
   ],
   "source": [
    "print(f\"There were {len(data_sort_by_PGal) - len(data_sort_by_PGal_observable)} non-observable objects in the current dataset. \\nWe have {len(data_sort_by_PGal_observable)} objects remaining\")"
   ]
  },
  {
   "cell_type": "markdown",
   "metadata": {
    "tags": []
   },
   "source": [
    "### Export the final list & print some data"
   ]
  },
  {
   "cell_type": "code",
   "execution_count": 352,
   "metadata": {},
   "outputs": [
    {
     "name": "stdout",
     "output_type": "stream",
     "text": [
      "These are the stats for S230609u follow up :\n"
     ]
    }
   ],
   "source": [
    "print(f\"These are the stats for {superevent_name} follow up :\")"
   ]
  },
  {
   "cell_type": "code",
   "execution_count": 353,
   "metadata": {},
   "outputs": [
    {
     "name": "stdout",
     "output_type": "stream",
     "text": [
      "Localization area: 4236.754321025971 deg2 \n",
      "Redshift range in data: 2.90624616352737e-06 to 1.01271582341183 \n",
      "corresponding lum distance range: 0.01235999311422218 Mpc to 6614.880865253411 Mpc \n",
      "highest prob location is at RA = 94.5703125 deg and dec = -26.443334157130206 deg \n",
      "total No. of objects in desi data is 1263396\n"
     ]
    }
   ],
   "source": [
    "data_min_z = np.min(data_sort_by_PGal_observable[\"Z\"])\n",
    "data_max_z = np.max(data_sort_by_PGal_observable[\"Z\"])\n",
    "print(f\"Localization area: {area_99.to_value(u.deg**2)*u.deg**2} \\nRedshift range in data: {data_min_z} to {data_max_z} \\ncorresponding lum distance range: {data_min_dist} to {data_max_dist} \\nhighest prob location is at RA = {ra.deg*u.deg} and dec = {dec.deg*u.deg} \\ntotal No. of objects in desi data is {len(data_sort_by_PGal)}\")\n"
   ]
  },
  {
   "cell_type": "code",
   "execution_count": 354,
   "metadata": {},
   "outputs": [],
   "source": [
    "data_sort_by_PGal_observable[\"TARGET_RA\", \"TARGET_DEC\", \"SERSIC\", \"Z\", \"P_GAL\"][:N_galaxies].write(f'PGAL/PGAL_{superevent_name}.ecsv', delimiter=',', format='ascii', overwrite = False)"
   ]
  },
  {
   "cell_type": "code",
   "execution_count": 355,
   "metadata": {},
   "outputs": [],
   "source": [
    "# add timing data to table, "
   ]
  }
 ],
 "metadata": {
  "kernelspec": {
   "display_name": "Python (MambaTest)",
   "language": "python",
   "name": "mambatest"
  },
  "language_info": {
   "codemirror_mode": {
    "name": "ipython",
    "version": 3
   },
   "file_extension": ".py",
   "mimetype": "text/x-python",
   "name": "python",
   "nbconvert_exporter": "python",
   "pygments_lexer": "ipython3",
   "version": "3.10.10"
  }
 },
 "nbformat": 4,
 "nbformat_minor": 4
}
