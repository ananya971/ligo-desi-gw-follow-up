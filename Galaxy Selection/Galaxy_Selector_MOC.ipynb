{
 "cells": [
  {
   "cell_type": "markdown",
   "metadata": {},
   "source": [
    "# Galaxy Selector MOC\n",
    "\n",
    "**Compared to the \"Simple Galaxy Selector, this works with Multi-Ordering-Sky-Maps**\n",
    "\n",
    "\n",
    "***NOTE (this note may be wrong, just copied from old notebook)***: Before anything can happen, download the GW event localization map. Open the terminal and type:\n",
    "\"curl -O https://gracedb.ligo.org/api/superevents/sid/files/bayestar.fits,0\"\n",
    "with sid = superevent ID (could be incorporated into this notebook)\n",
    "\n",
    "Select the galaxies to observe by WWFI in this simple manner:\n",
    "- get the LIGO event data\n",
    "- read the LIGO event data into the notebook, extract some information\n",
    "- read the DESI database into the notebook, \"clean\" the data\n",
    "- get the 99% credible regions for the event, add them as a column to the data\n",
    "- only keep data within the 99% region\n",
    "- calculate all the luminosities (& more)\n",
    "- rank them by luminosity (for now just print the TARGETID), 3D/2D localization and with a luminosity-distance 2D dependant counterpart likelihood\n",
    "\n",
    "Sources: \n",
    "- https://iopscience.iop.org/article/10.3847/0067-0049/226/1/10\n",
    "- https://emfollow.docs.ligo.org/userguide/tutorial/skymaps.html\n",
    "- https://emfollow.docs.ligo.org/userguide/tutorial/multiorder_skymaps.html\n",
    "- https://arxiv.org/pdf/1710.05452.pdf"
   ]
  },
  {
   "cell_type": "markdown",
   "metadata": {
    "tags": []
   },
   "source": [
    "## Import all libraries, load GW data and DESI data and extract basic info"
   ]
  },
  {
   "cell_type": "markdown",
   "metadata": {
    "tags": []
   },
   "source": [
    "### imports, GW data loading"
   ]
  },
  {
   "cell_type": "code",
   "execution_count": 122,
   "metadata": {},
   "outputs": [],
   "source": [
    "import numpy as np\n",
    "from scipy.stats import norm\n",
    "import scipy as sc\n",
    "\n",
    "from astropy.io import fits, ascii\n",
    "from astropy.table import Table, hstack\n",
    "from astropy import table\n",
    "\n",
    "import healpy as hp\n",
    "import astropy_healpix as ah\n",
    "\n",
    "from astropy.table import QTable\n",
    "\n",
    "import psycopg2\n",
    "\n",
    "from scipy.stats import norm\n",
    "\n",
    "\n",
    "from astropy.cosmology import Planck18, z_at_value\n",
    "from astropy.coordinates import Distance, SkyCoord\n",
    "from astropy import units as u\n",
    "\n",
    "import astropy.constants as asc\n",
    "\n",
    "import matplotlib.pyplot as plt\n",
    "\n",
    "import requests as rq\n",
    "\n",
    "import gasel as gs\n",
    "\n",
    "import shutil"
   ]
  },
  {
   "cell_type": "code",
   "execution_count": 123,
   "metadata": {},
   "outputs": [],
   "source": [
    "# specify the superevent name:\n",
    "superevent_name = \"S230528a\""
   ]
  },
  {
   "cell_type": "code",
   "execution_count": 124,
   "metadata": {},
   "outputs": [
    {
     "name": "stdout",
     "output_type": "stream",
     "text": [
      "read skymap from local file\n"
     ]
    }
   ],
   "source": [
    "path = f\"/global/homes/j/jgassert/ligo-desi-gw-follow-up/Galaxy Selection/Files/{superevent_name}bayestar.multiorder.fits,1\"\n",
    "\n",
    "try:\n",
    "    skymap = QTable.read(path)\n",
    "    print(\"read skymap from local file\")\n",
    "    \n",
    "except:\n",
    "    download_url = f\"https://gracedb.ligo.org/api/superevents/{superevent_name}/files/bayestar.multiorder.fits,1\"\n",
    "    save_path = f\"Files/{superevent_name}bayestar.multiorder.fits,1\"\n",
    "    print(\"no local skymap...\")\n",
    "    print(f\"...will download LIGO event file from superevent {superevent_name}, corresponding file URL is {download_url} and save it in .../Files/\")\n",
    "    \n",
    "    response = rq.get(download_url, allow_redirects = True)\n",
    "    if response.status_code == 200:\n",
    "        with open(save_path, 'wb') as f:\n",
    "            #response.raw.decode_content = True\n",
    "            #shutil.copyfileobj(response.raw, f)\n",
    "            f.write(response.content)\n",
    "            \n",
    "        skymap = QTable.read(path)"
   ]
  },
  {
   "cell_type": "markdown",
   "metadata": {},
   "source": [
    "Specifiy the path where the data is located and then load the data (this loads everything, just have a look)"
   ]
  },
  {
   "cell_type": "code",
   "execution_count": 125,
   "metadata": {},
   "outputs": [
    {
     "data": {
      "text/html": [
       "<div><i>QTable length=5</i>\n",
       "<table id=\"table140132934145392\" class=\"table-striped table-bordered table-condensed\">\n",
       "<thead><tr><th>UNIQ</th><th>PROBDENSITY</th><th>DISTMU</th><th>DISTSIGMA</th><th>DISTNORM</th></tr></thead>\n",
       "<thead><tr><th></th><th>1 / sr</th><th>Mpc</th><th>Mpc</th><th>1 / Mpc2</th></tr></thead>\n",
       "<thead><tr><th>int64</th><th>float64</th><th>float64</th><th>float64</th><th>float64</th></tr></thead>\n",
       "<tr><td>1024</td><td>0.0005541929163871758</td><td>235.3674659569915</td><td>98.0130148801578</td><td>1.538735211517382e-05</td></tr>\n",
       "<tr><td>1025</td><td>0.0003046347359318278</td><td>218.26812453682325</td><td>93.95339189355074</td><td>1.771500003765361e-05</td></tr>\n",
       "<tr><td>1026</td><td>0.000555993638120194</td><td>240.36470275862726</td><td>100.59883499024933</td><td>1.4732349830887497e-05</td></tr>\n",
       "<tr><td>1027</td><td>0.0002834069415847336</td><td>222.0373059447743</td><td>99.12097007757346</td><td>1.6920989500474807e-05</td></tr>\n",
       "<tr><td>1028</td><td>0.0002695943074344819</td><td>201.72370608658338</td><td>85.4122455146413</td><td>2.084465666788782e-05</td></tr>\n",
       "</table></div>"
      ],
      "text/plain": [
       "<QTable length=5>\n",
       " UNIQ      PROBDENSITY      ...     DISTSIGMA             DISTNORM       \n",
       "              1 / sr        ...        Mpc                1 / Mpc2       \n",
       "int64        float64        ...      float64              float64        \n",
       "----- --------------------- ... ------------------ ----------------------\n",
       " 1024 0.0005541929163871758 ...   98.0130148801578  1.538735211517382e-05\n",
       " 1025 0.0003046347359318278 ...  93.95339189355074  1.771500003765361e-05\n",
       " 1026  0.000555993638120194 ... 100.59883499024933 1.4732349830887497e-05\n",
       " 1027 0.0002834069415847336 ...  99.12097007757346 1.6920989500474807e-05\n",
       " 1028 0.0002695943074344819 ...   85.4122455146413  2.084465666788782e-05"
      ]
     },
     "execution_count": 125,
     "metadata": {},
     "output_type": "execute_result"
    }
   ],
   "source": [
    "skymap[:5]"
   ]
  },
  {
   "cell_type": "markdown",
   "metadata": {
    "tags": []
   },
   "source": [
    "### Get basic values from GW event\n",
    "\n",
    "We now extract some basic information  from the healpix data:\n",
    "- ipix_max: pixel with highest likelihood\n",
    "- npix: total number of pixels\n",
    "- ra, dec: ra and dec of the pixel with the highest likelihood\n",
    "\n",
    "Then we open the full fits file and extract some more basic info from the header:\n",
    "- dist_mean: mean distance of the GW event\n",
    "- dist_std: error of the distance"
   ]
  },
  {
   "cell_type": "code",
   "execution_count": 126,
   "metadata": {},
   "outputs": [
    {
     "name": "stdout",
     "output_type": "stream",
     "text": [
      "UNIQ ID of highest prob sky localization:  3638181\n"
     ]
    }
   ],
   "source": [
    "# most probable sky location\n",
    "i = np.argmax(skymap[\"PROBDENSITY\"])\n",
    "uniq = skymap[i][\"UNIQ\"]\n",
    "print(\"UNIQ ID of highest prob sky localization: \", uniq)"
   ]
  },
  {
   "cell_type": "code",
   "execution_count": 127,
   "metadata": {},
   "outputs": [
    {
     "name": "stdout",
     "output_type": "stream",
     "text": [
      "Highest probability at (RA, dec):  122.958984375 -25.94447977237001 with prob [1/deg^2] of:  0.0035846818362901506 and UNIQ ID:  3638181\n"
     ]
    }
   ],
   "source": [
    "# calculate the most probable pixel, convert to RA and dec\n",
    "level_max, ipix_max = ah.uniq_to_level_ipix(uniq)\n",
    "nside = ah.level_to_nside(level_max)\n",
    "ra, dec = ah.healpix_to_lonlat(ipix_max, nside, order = \"nested\")\n",
    "print(\"Highest probability at (RA, dec): \", ra.deg, dec.deg, \"with prob [1/deg^2] of: \", skymap[i]['PROBDENSITY'].to_value(u.deg**-2), \"and UNIQ ID: \", skymap[i][\"UNIQ\"])"
   ]
  },
  {
   "cell_type": "markdown",
   "metadata": {},
   "source": [
    "Now open the fits file and read basics info from the header"
   ]
  },
  {
   "cell_type": "code",
   "execution_count": 128,
   "metadata": {},
   "outputs": [
    {
     "name": "stdout",
     "output_type": "stream",
     "text": [
      "The dist_mean and dist_std values:  261.3212674699854 Mpc 107.6371751798119 Mpc\n"
     ]
    }
   ],
   "source": [
    "fits_gw = fits.open(path)\n",
    "header = fits_gw[1].header\n",
    "dist_mean = header[\"DISTMEAN\"]\n",
    "dist_std = header[\"DISTSTD\"]\n",
    "print(\"The dist_mean and dist_std values: \", dist_mean*u.Mpc, dist_std*u.Mpc)"
   ]
  },
  {
   "cell_type": "code",
   "execution_count": 129,
   "metadata": {},
   "outputs": [],
   "source": [
    "most_likely_z = z_at_value(Planck18.luminosity_distance, dist_mean*u.Mpc, zmax = 5)\n",
    "most_likely_z_std = z_at_value(Planck18.luminosity_distance, dist_std*u.Mpc, zmax = 5)"
   ]
  },
  {
   "cell_type": "code",
   "execution_count": 130,
   "metadata": {},
   "outputs": [
    {
     "data": {
      "text/plain": [
       "(<Quantity 0.05657432 redshift>, <Quantity 0.02385994 redshift>)"
      ]
     },
     "execution_count": 130,
     "metadata": {},
     "output_type": "execute_result"
    }
   ],
   "source": [
    "most_likely_z, most_likely_z_std"
   ]
  },
  {
   "cell_type": "code",
   "execution_count": 131,
   "metadata": {},
   "outputs": [],
   "source": [
    "# these values (924, 188Mpc) are close to z= 0.19, 0.03"
   ]
  },
  {
   "cell_type": "markdown",
   "metadata": {
    "tags": []
   },
   "source": [
    "### Get DESI data\n",
    "\n",
    "Load the full daily data from the file, which only includes good redshift objects"
   ]
  },
  {
   "cell_type": "code",
   "execution_count": 132,
   "metadata": {},
   "outputs": [],
   "source": [
    "follow_up_others = False"
   ]
  },
  {
   "cell_type": "code",
   "execution_count": 170,
   "metadata": {},
   "outputs": [],
   "source": [
    "if follow_up_others:\n",
    "    center_ra = 235.9839\n",
    "    center_dec = 15.2248\n",
    "    radius = 1/360\n",
    "    z_others = 0\n",
    "    z_others_std = 0.4\n",
    "    \n",
    "    sigma_accuracy = 3\n",
    "    \n",
    "    data = gs.db_doall(center_ra, center_dec, radius)\n",
    "    \n",
    "    #ii = data[\"Z\"]-sigma_accuracy*data[\"ZERR\"]<z_others+sigma_accuracy*z_others_std\n",
    "    #ii &= data[\"Z\"]+sigma_accuracy*data[\"ZERR\"]>z_others-sigma_accuracy*z_others_std\n",
    "    \n",
    "    #data = data[ii]\n",
    "    \n",
    "    \n",
    "else:\n",
    "    desi_path = \"/global/homes/j/jgassert/good_z_data.ecsv\" #use a binary format -> faster\n",
    "    raw_data = ascii.read(desi_path)"
   ]
  },
  {
   "cell_type": "code",
   "execution_count": 171,
   "metadata": {},
   "outputs": [],
   "source": [
    "data = Table(raw_data, copy = True)"
   ]
  },
  {
   "cell_type": "code",
   "execution_count": 175,
   "metadata": {},
   "outputs": [
    {
     "data": {
      "text/html": [
       "<div><i>Table length=5</i>\n",
       "<table id=\"table140132952033600\" class=\"table-striped table-bordered table-condensed\">\n",
       "<thead><tr><th>TARGETID</th><th>TARGET_RA</th><th>TARGET_DEC</th><th>LASTNIGHT</th><th>Z</th><th>ZERR</th><th>ZWARN</th><th>FLUX_G</th><th>FLUX_R</th><th>FLUX_Z</th><th>SPECTYPE</th><th>BGS_TARGET</th><th>EBV</th><th>SERSIC</th></tr></thead>\n",
       "<thead><tr><th>int64</th><th>float64</th><th>float64</th><th>int64</th><th>float64</th><th>float64</th><th>int64</th><th>float64</th><th>float64</th><th>float64</th><th>str6</th><th>int64</th><th>float64</th><th>float64</th></tr></thead>\n",
       "<tr><td>6448025174016</td><td>179.15657</td><td>28.4234799</td><td>20210318</td><td>0.0221933367215889</td><td>9.68081653157043e-06</td><td>0</td><td>0.0</td><td>0.0</td><td>0.0</td><td>GALAXY</td><td>0</td><td>0.0</td><td>0.0</td></tr>\n",
       "<tr><td>6521555517440</td><td>204.22749</td><td>32.09493</td><td>20210404</td><td>0.3238872170838</td><td>2.72909868562699e-05</td><td>0</td><td>0.0</td><td>0.0</td><td>0.0</td><td>GALAXY</td><td>0</td><td>0.0</td><td>0.0</td></tr>\n",
       "<tr><td>6536638234624</td><td>186.274119</td><td>32.84503</td><td>20210402</td><td>0.0764062738003505</td><td>1.47657330826664e-05</td><td>0</td><td>0.0</td><td>0.0</td><td>0.0</td><td>GALAXY</td><td>0</td><td>0.0</td><td>0.0</td></tr>\n",
       "<tr><td>45650485968998</td><td>132.7115638</td><td>11.7857382</td><td>20220130</td><td>6.60562456030607e-05</td><td>4.43577130671508e-06</td><td>0</td><td>0.0</td><td>0.0</td><td>0.0</td><td>STAR</td><td>0</td><td>0.0</td><td>0.0</td></tr>\n",
       "<tr><td>45650490163336</td><td>132.9894508</td><td>11.7344802</td><td>20220130</td><td>0.000113703992211096</td><td>4.59116159557144e-06</td><td>0</td><td>0.0</td><td>0.0</td><td>0.0</td><td>STAR</td><td>0</td><td>0.0</td><td>0.0</td></tr>\n",
       "</table></div>"
      ],
      "text/plain": [
       "<Table length=5>\n",
       "   TARGETID     TARGET_RA  TARGET_DEC LASTNIGHT ... BGS_TARGET   EBV    SERSIC\n",
       "    int64        float64    float64     int64   ...   int64    float64 float64\n",
       "-------------- ----------- ---------- --------- ... ---------- ------- -------\n",
       " 6448025174016   179.15657 28.4234799  20210318 ...          0     0.0     0.0\n",
       " 6521555517440   204.22749   32.09493  20210404 ...          0     0.0     0.0\n",
       " 6536638234624  186.274119   32.84503  20210402 ...          0     0.0     0.0\n",
       "45650485968998 132.7115638 11.7857382  20220130 ...          0     0.0     0.0\n",
       "45650490163336 132.9894508 11.7344802  20220130 ...          0     0.0     0.0"
      ]
     },
     "execution_count": 175,
     "metadata": {},
     "output_type": "execute_result"
    }
   ],
   "source": [
    "data[:5]"
   ]
  },
  {
   "cell_type": "markdown",
   "metadata": {
    "tags": []
   },
   "source": [
    "## Do all the calculations, selections,...\n",
    "\n",
    "- turn the daily DESI data into a Table\n",
    "- do some basic data selection stuff: only keep good + positive redshifts, only positive values of z-band flux and eliminate duplicates (right now simply takes the first entry)\n",
    "- add the ipix (healpix) pixel value for each target\n",
    "- calculate the probability for each target\n",
    "- add these values to the Table (\"PROB\"), select only targets within the 99% credible region (i.e. with a certainty of 99% the GW event is inside this region)\n",
    "- calculate the distances and its errors from the redshift, add to the data table\n",
    "- calculate the 3D probability just like here: https://iopscience.iop.org/article/10.3847/0067-0049/226/1/10 (§4) and add these values to the table\n",
    "- sort the table by its 3D probability (descending)\n",
    "- calculate absolute and apparent magnitude, luminosity and add to table\n",
    "\n",
    "The final step is to include the calculation of the most likely host galaxy from https://arxiv.org/pdf/1710.05452.pdf (GW170817); these values are then also added to the table as \"P_GAL\""
   ]
  },
  {
   "cell_type": "code",
   "execution_count": 135,
   "metadata": {},
   "outputs": [
    {
     "data": {
      "text/html": [
       "<div><i>Table length=5</i>\n",
       "<table id=\"table140132952035520\" class=\"table-striped table-bordered table-condensed\">\n",
       "<thead><tr><th>TARGETID</th><th>TARGET_RA</th><th>TARGET_DEC</th><th>LASTNIGHT</th><th>Z</th><th>ZERR</th><th>ZWARN</th><th>FLUX_G</th><th>FLUX_R</th><th>FLUX_Z</th><th>SPECTYPE</th><th>BGS_TARGET</th><th>EBV</th><th>SERSIC</th></tr></thead>\n",
       "<thead><tr><th>int64</th><th>float64</th><th>float64</th><th>int64</th><th>float64</th><th>float64</th><th>int64</th><th>float64</th><th>float64</th><th>float64</th><th>str6</th><th>int64</th><th>float64</th><th>float64</th></tr></thead>\n",
       "<tr><td>-407206628</td><td>289.160148698913</td><td>63.8756777034092</td><td>20210513</td><td>0.488143245600312</td><td>6.00460085329576e-05</td><td>0</td><td>0.0</td><td>0.0</td><td>0.0</td><td>GALAXY</td><td>0</td><td>0.0</td><td>0.0</td></tr>\n",
       "<tr><td>-407206517</td><td>289.24523373072</td><td>64.1182126208345</td><td>20210513</td><td>0.353953432359517</td><td>9.16563620937551e-05</td><td>0</td><td>0.0</td><td>0.0</td><td>0.0</td><td>GALAXY</td><td>0</td><td>0.0</td><td>0.0</td></tr>\n",
       "<tr><td>-407206395</td><td>288.991137990503</td><td>64.4269390406163</td><td>20210513</td><td>1.04167986703249</td><td>0.000103598417102832</td><td>0</td><td>0.0</td><td>0.0</td><td>0.0</td><td>GALAXY</td><td>0</td><td>0.0</td><td>0.0</td></tr>\n",
       "<tr><td>-407206306</td><td>288.328820102558</td><td>64.8171915439228</td><td>20210513</td><td>0.446085744563991</td><td>0.000103302897346752</td><td>0</td><td>0.0</td><td>0.0</td><td>0.0</td><td>GALAXY</td><td>0</td><td>0.0</td><td>0.0</td></tr>\n",
       "<tr><td>-407206302</td><td>288.170414727353</td><td>64.8761951861955</td><td>20210513</td><td>5.11210896599966</td><td>0.000690663180059733</td><td>0</td><td>0.0</td><td>0.0</td><td>0.0</td><td>QSO</td><td>0</td><td>0.0</td><td>0.0</td></tr>\n",
       "</table></div>"
      ],
      "text/plain": [
       "<Table length=5>\n",
       " TARGETID     TARGET_RA        TARGET_DEC    ... BGS_TARGET   EBV    SERSIC\n",
       "  int64        float64          float64      ...   int64    float64 float64\n",
       "---------- ---------------- ---------------- ... ---------- ------- -------\n",
       "-407206628 289.160148698913 63.8756777034092 ...          0     0.0     0.0\n",
       "-407206517  289.24523373072 64.1182126208345 ...          0     0.0     0.0\n",
       "-407206395 288.991137990503 64.4269390406163 ...          0     0.0     0.0\n",
       "-407206306 288.328820102558 64.8171915439228 ...          0     0.0     0.0\n",
       "-407206302 288.170414727353 64.8761951861955 ...          0     0.0     0.0"
      ]
     },
     "execution_count": 135,
     "metadata": {},
     "output_type": "execute_result"
    }
   ],
   "source": [
    "data[:5]"
   ]
  },
  {
   "cell_type": "markdown",
   "metadata": {
    "tags": []
   },
   "source": [
    "### data clean up"
   ]
  },
  {
   "cell_type": "code",
   "execution_count": 176,
   "metadata": {},
   "outputs": [],
   "source": [
    "#data = data[data[\"Z\"]> 0]\n",
    "#data = data[data[\"ZWARN\"] == 0]"
   ]
  },
  {
   "cell_type": "code",
   "execution_count": 177,
   "metadata": {},
   "outputs": [],
   "source": [
    "#data = data[data['FLUX_Z']>0]\n",
    "data = table.unique(data, keys = \"TARGETID\")"
   ]
  },
  {
   "cell_type": "code",
   "execution_count": 178,
   "metadata": {},
   "outputs": [],
   "source": [
    "data = data[data[\"TARGETID\"]>0]"
   ]
  },
  {
   "cell_type": "code",
   "execution_count": 179,
   "metadata": {},
   "outputs": [
    {
     "name": "stdout",
     "output_type": "stream",
     "text": [
      "We have 27496796 objects in the full catalog\n"
     ]
    }
   ],
   "source": [
    "print(f\"We have {len(data)} objects in the full catalog\") "
   ]
  },
  {
   "cell_type": "markdown",
   "metadata": {
    "tags": []
   },
   "source": [
    "### Calculate the healpix id for every object in the catalog and its probability; append this data to the Table"
   ]
  },
  {
   "cell_type": "code",
   "execution_count": 180,
   "metadata": {},
   "outputs": [],
   "source": [
    "max_level = 29 # highest possible HEALPix resolution that can be represented in a 64-bit signed integer\n",
    "max_nside = ah.level_to_nside(max_level)\n",
    "level, ipix = ah.uniq_to_level_ipix(skymap[\"UNIQ\"])\n",
    "\n",
    "index = ipix*(2**(max_level-level))**2\n",
    "\n",
    "sorter = np.argsort(index)\n",
    "\n",
    "# this is the NESTED pixel index of the target sky location, NOT THE UNIQ ID\n",
    "match_ipix = ah.lonlat_to_healpix(data[\"TARGET_RA\"]*u.deg, data[\"TARGET_DEC\"]*u.deg, max_nside, order='nested')\n",
    "\n",
    "# here we get the pixel index (i.e. where the entry is in the table, also NOT THE UNIQ ID) of each target\n",
    "sorter_i = sorter[np.searchsorted(index, match_ipix, side='right', sorter=sorter) - 1]\n",
    "probdensity = skymap[sorter_i]['PROBDENSITY'].to_value(u.deg**-2)\n",
    "\n",
    "# now we calculate the UNIQ ID for all our targets:\n",
    "\n",
    "uniq = skymap[\"UNIQ\"][sorter_i]\n",
    "#to make things easier in future, I will now also append the UNIQ pixels DISTMU, DISTSIGMA and DISTNORM values. However, be careful, since these DO NOT CORRESPOND THE TARGETS IN DESI DIRECTLY!\n",
    "\n",
    "distmu = skymap[sorter_i][\"DISTMU\"]\n",
    "distsigma = skymap[sorter_i][\"DISTSIGMA\"]\n",
    "distnorm = skymap[sorter_i][\"DISTNORM\"]\n"
   ]
  },
  {
   "cell_type": "code",
   "execution_count": 181,
   "metadata": {},
   "outputs": [],
   "source": [
    "# len(UNIQ), len(data), len(skymap)"
   ]
  },
  {
   "cell_type": "code",
   "execution_count": 182,
   "metadata": {},
   "outputs": [],
   "source": [
    "#data = data.keep_columns([\"TARGETID\", \"TARGET_RA\", \"TARGET_DEC\", \"TILEID\", \"NIGHT\", \"Z\", \"ZERR\", \"ZWARN\", \"DELTACHI2\", \"FLUX_Z\", \"BGS_TARGET\", \"EBV\", \"SERSIC\", \"MWS_TARGET\", \"FILENAME\"])\n",
    "                          "
   ]
  },
  {
   "cell_type": "code",
   "execution_count": 183,
   "metadata": {},
   "outputs": [],
   "source": [
    "data = hstack([data, Table({\"UNIQ\": uniq}), Table({\"PROBDENSITY\": probdensity}), Table({\"DISTMU\": distmu}), Table({\"DISTSIGMA\": distsigma}), Table({\"DISTNORM\": distnorm})])"
   ]
  },
  {
   "cell_type": "code",
   "execution_count": 184,
   "metadata": {},
   "outputs": [
    {
     "data": {
      "text/html": [
       "<div><i>Table length=5</i>\n",
       "<table id=\"table140132916894672\" class=\"table-striped table-bordered table-condensed\">\n",
       "<thead><tr><th>TARGETID</th><th>TARGET_RA</th><th>TARGET_DEC</th><th>LASTNIGHT</th><th>Z</th><th>ZERR</th><th>ZWARN</th><th>FLUX_G</th><th>FLUX_R</th><th>FLUX_Z</th><th>SPECTYPE</th><th>BGS_TARGET</th><th>EBV</th><th>SERSIC</th><th>UNIQ</th><th>PROBDENSITY</th><th>DISTMU</th><th>DISTSIGMA</th><th>DISTNORM</th></tr></thead>\n",
       "<thead><tr><th></th><th></th><th></th><th></th><th></th><th></th><th></th><th></th><th></th><th></th><th></th><th></th><th></th><th></th><th></th><th></th><th>Mpc</th><th>Mpc</th><th>1 / Mpc2</th></tr></thead>\n",
       "<thead><tr><th>int64</th><th>float64</th><th>float64</th><th>int64</th><th>float64</th><th>float64</th><th>int64</th><th>float64</th><th>float64</th><th>float64</th><th>str6</th><th>int64</th><th>float64</th><th>float64</th><th>int64</th><th>float64</th><th>float64</th><th>float64</th><th>float64</th></tr></thead>\n",
       "<tr><td>6448025174016</td><td>179.15657</td><td>28.4234799</td><td>20210318</td><td>0.0221933367215889</td><td>9.68081653157043e-06</td><td>0</td><td>0.0</td><td>0.0</td><td>0.0</td><td>GALAXY</td><td>0</td><td>0.0</td><td>0.0</td><td>2803</td><td>1.5495799740992574e-11</td><td>583.3803459690228</td><td>180.9578390019513</td><td>2.6804222008428616e-06</td></tr>\n",
       "<tr><td>6521555517440</td><td>204.22749</td><td>32.09493</td><td>20210404</td><td>0.3238872170838</td><td>2.72909868562699e-05</td><td>0</td><td>0.0</td><td>0.0</td><td>0.0</td><td>GALAXY</td><td>0</td><td>0.0</td><td>0.0</td><td>1676</td><td>1.2748150725396183e-12</td><td>628.6718317886678</td><td>173.64814186986004</td><td>2.3508312733231255e-06</td></tr>\n",
       "<tr><td>6536638234624</td><td>186.274119</td><td>32.84503</td><td>20210402</td><td>0.0764062738003505</td><td>1.47657330826664e-05</td><td>0</td><td>0.0</td><td>0.0</td><td>0.0</td><td>GALAXY</td><td>0</td><td>0.0</td><td>0.0</td><td>2807</td><td>1.1634977567992311e-11</td><td>605.2089781453952</td><td>174.53644712319684</td><td>2.5205430320177344e-06</td></tr>\n",
       "<tr><td>45650485968998</td><td>132.7115638</td><td>11.7857382</td><td>20220130</td><td>6.60562456030607e-05</td><td>4.43577130671508e-06</td><td>0</td><td>0.0</td><td>0.0</td><td>0.0</td><td>STAR</td><td>0</td><td>0.0</td><td>0.0</td><td>5170</td><td>2.6069041996246284e-06</td><td>198.37635950670207</td><td>131.00292857520725</td><td>1.7813565068583708e-05</td></tr>\n",
       "<tr><td>45650490163336</td><td>132.9894508</td><td>11.7344802</td><td>20220130</td><td>0.000113703992211096</td><td>4.59116159557144e-06</td><td>0</td><td>0.0</td><td>0.0</td><td>0.0</td><td>STAR</td><td>0</td><td>0.0</td><td>0.0</td><td>5170</td><td>2.6069041996246284e-06</td><td>198.37635950670207</td><td>131.00292857520725</td><td>1.7813565068583708e-05</td></tr>\n",
       "</table></div>"
      ],
      "text/plain": [
       "<Table length=5>\n",
       "   TARGETID     TARGET_RA  ...     DISTSIGMA             DISTNORM       \n",
       "                           ...        Mpc                1 / Mpc2       \n",
       "    int64        float64   ...      float64              float64        \n",
       "-------------- ----------- ... ------------------ ----------------------\n",
       " 6448025174016   179.15657 ...  180.9578390019513 2.6804222008428616e-06\n",
       " 6521555517440   204.22749 ... 173.64814186986004 2.3508312733231255e-06\n",
       " 6536638234624  186.274119 ... 174.53644712319684 2.5205430320177344e-06\n",
       "45650485968998 132.7115638 ... 131.00292857520725 1.7813565068583708e-05\n",
       "45650490163336 132.9894508 ... 131.00292857520725 1.7813565068583708e-05"
      ]
     },
     "execution_count": 184,
     "metadata": {},
     "output_type": "execute_result"
    }
   ],
   "source": [
    "data[:5]"
   ]
  },
  {
   "cell_type": "code",
   "execution_count": 185,
   "metadata": {},
   "outputs": [
    {
     "name": "stdout",
     "output_type": "stream",
     "text": [
      "The highest and lowest probability values in our catalog are: 1.008095954727654e-13 and 0.003471478883445694\n"
     ]
    }
   ],
   "source": [
    "print(f\"The highest and lowest probability values in our catalog are: {np.min(probdensity)} and {np.max(probdensity)}\")"
   ]
  },
  {
   "cell_type": "markdown",
   "metadata": {
    "tags": []
   },
   "source": [
    "### Sort the skymap table and get 99% credible region"
   ]
  },
  {
   "cell_type": "code",
   "execution_count": 186,
   "metadata": {},
   "outputs": [],
   "source": [
    "# copy the table\n",
    "skymap_sort = Table(skymap, copy = True)"
   ]
  },
  {
   "cell_type": "code",
   "execution_count": 187,
   "metadata": {},
   "outputs": [],
   "source": [
    "# check whether copy worked:\n",
    "# skymap_sort, skymap\n",
    "# np.max(skymap[\"UNIQ\"])"
   ]
  },
  {
   "cell_type": "code",
   "execution_count": 188,
   "metadata": {},
   "outputs": [],
   "source": [
    "# now sort the skymap by its probability (descending)\n",
    "skymap_sort.sort('PROBDENSITY', reverse=True)"
   ]
  },
  {
   "cell_type": "code",
   "execution_count": 189,
   "metadata": {},
   "outputs": [
    {
     "data": {
      "text/html": [
       "<div><i>Table length=5</i>\n",
       "<table id=\"table140132934145152\" class=\"table-striped table-bordered table-condensed\">\n",
       "<thead><tr><th>UNIQ</th><th>PROBDENSITY</th><th>DISTMU</th><th>DISTSIGMA</th><th>DISTNORM</th></tr></thead>\n",
       "<thead><tr><th></th><th>1 / sr</th><th>Mpc</th><th>Mpc</th><th>1 / Mpc2</th></tr></thead>\n",
       "<thead><tr><th>int64</th><th>float64</th><th>float64</th><th>float64</th><th>float64</th></tr></thead>\n",
       "<tr><td>3638181</td><td>11.767816294945064</td><td>155.32206037151465</td><td>43.65028800915164</td><td>3.841684426060163e-05</td></tr>\n",
       "<tr><td>3638240</td><td>11.76299451569138</td><td>155.52132091131236</td><td>43.94043790090246</td><td>3.828836077836926e-05</td></tr>\n",
       "<tr><td>3638262</td><td>11.761236845038502</td><td>156.63046603983588</td><td>44.24065668217826</td><td>3.7749677626549884e-05</td></tr>\n",
       "<tr><td>3638193</td><td>11.760325200053979</td><td>155.33053363803884</td><td>43.739920783421795</td><td>3.840140739298237e-05</td></tr>\n",
       "<tr><td>3638947</td><td>11.750580864965771</td><td>156.81776315167482</td><td>44.46995749299754</td><td>3.763736912601958e-05</td></tr>\n",
       "</table></div>"
      ],
      "text/plain": [
       "<Table length=5>\n",
       "  UNIQ     PROBDENSITY     ...     DISTSIGMA             DISTNORM       \n",
       "              1 / sr       ...        Mpc                1 / Mpc2       \n",
       " int64       float64       ...      float64              float64        \n",
       "------- ------------------ ... ------------------ ----------------------\n",
       "3638181 11.767816294945064 ...  43.65028800915164  3.841684426060163e-05\n",
       "3638240  11.76299451569138 ...  43.94043790090246  3.828836077836926e-05\n",
       "3638262 11.761236845038502 ...  44.24065668217826 3.7749677626549884e-05\n",
       "3638193 11.760325200053979 ... 43.739920783421795  3.840140739298237e-05\n",
       "3638947 11.750580864965771 ...  44.46995749299754  3.763736912601958e-05"
      ]
     },
     "execution_count": 189,
     "metadata": {},
     "output_type": "execute_result"
    }
   ],
   "source": [
    "# this shows the first entries sorted be their probability\n",
    "skymap_sort[:5]"
   ]
  },
  {
   "cell_type": "code",
   "execution_count": 190,
   "metadata": {},
   "outputs": [
    {
     "data": {
      "text/plain": [
       "5143.191457854032"
      ]
     },
     "execution_count": 190,
     "metadata": {},
     "output_type": "execute_result"
    }
   ],
   "source": [
    "# now get 99% credible region area\n",
    "\n",
    "level, ipix = ah.uniq_to_level_ipix(skymap_sort['UNIQ'])\n",
    "pixel_area = ah.nside_to_pixel_area(ah.level_to_nside(level)) # this is the area each pixel contains\n",
    "\n",
    "# calculate the probability per pixel (careful: since the pixels differ in size, this is not neceseraliy a useful quantity\n",
    "prob = pixel_area * skymap_sort['PROBDENSITY']\n",
    "\n",
    "# calc cumsum of probabilities and get index of pixel that sums up to 0.99\n",
    "cumprob = np.cumsum(prob)\n",
    "i = cumprob.searchsorted(0.99)\n",
    "\n",
    "# print area\n",
    "area_99 = pixel_area[:i].sum()\n",
    "area_99.to_value(u.deg**2)"
   ]
  },
  {
   "cell_type": "markdown",
   "metadata": {
    "jp-MarkdownHeadingCollapsed": true,
    "tags": []
   },
   "source": [
    "### can be deleted, just tried things out"
   ]
  },
  {
   "cell_type": "code",
   "execution_count": 191,
   "metadata": {},
   "outputs": [],
   "source": [
    "skymap_sort = hstack([skymap_sort, Table({\"PROB\": prob})])"
   ]
  },
  {
   "cell_type": "code",
   "execution_count": 192,
   "metadata": {},
   "outputs": [
    {
     "data": {
      "text/latex": [
       "$0.00014010666 \\; \\mathrm{}$"
      ],
      "text/plain": [
       "<Quantity 0.00014011>"
      ]
     },
     "execution_count": 192,
     "metadata": {},
     "output_type": "execute_result"
    }
   ],
   "source": [
    "np.max(prob)"
   ]
  },
  {
   "cell_type": "code",
   "execution_count": 193,
   "metadata": {},
   "outputs": [
    {
     "data": {
      "text/html": [
       "<div><i>Table length=5</i>\n",
       "<table id=\"table140132929614992\" class=\"table-striped table-bordered table-condensed\">\n",
       "<thead><tr><th>UNIQ</th><th>PROBDENSITY</th><th>DISTMU</th><th>DISTSIGMA</th><th>DISTNORM</th><th>PROB</th></tr></thead>\n",
       "<thead><tr><th></th><th>1 / sr</th><th>Mpc</th><th>Mpc</th><th>1 / Mpc2</th><th></th></tr></thead>\n",
       "<thead><tr><th>int64</th><th>float64</th><th>float64</th><th>float64</th><th>float64</th><th>float64</th></tr></thead>\n",
       "<tr><td>3638181</td><td>11.767816294945064</td><td>155.32206037151465</td><td>43.65028800915164</td><td>3.841684426060163e-05</td><td>4.7009385707847175e-05</td></tr>\n",
       "<tr><td>3638240</td><td>11.76299451569138</td><td>155.52132091131236</td><td>43.94043790090246</td><td>3.828836077836926e-05</td><td>4.699012394550713e-05</td></tr>\n",
       "<tr><td>3638262</td><td>11.761236845038502</td><td>156.63046603983588</td><td>44.24065668217826</td><td>3.7749677626549884e-05</td><td>4.698310250536925e-05</td></tr>\n",
       "<tr><td>3638193</td><td>11.760325200053979</td><td>155.33053363803884</td><td>43.739920783421795</td><td>3.840140739298237e-05</td><td>4.697946071919313e-05</td></tr>\n",
       "<tr><td>3638947</td><td>11.750580864965771</td><td>156.81776315167482</td><td>44.46995749299754</td><td>3.763736912601958e-05</td><td>4.694053461810972e-05</td></tr>\n",
       "</table></div>"
      ],
      "text/plain": [
       "<Table length=5>\n",
       "  UNIQ     PROBDENSITY     ...        DISTNORM                 PROB         \n",
       "              1 / sr       ...        1 / Mpc2                              \n",
       " int64       float64       ...        float64                float64        \n",
       "------- ------------------ ... ---------------------- ----------------------\n",
       "3638181 11.767816294945064 ...  3.841684426060163e-05 4.7009385707847175e-05\n",
       "3638240  11.76299451569138 ...  3.828836077836926e-05  4.699012394550713e-05\n",
       "3638262 11.761236845038502 ... 3.7749677626549884e-05  4.698310250536925e-05\n",
       "3638193 11.760325200053979 ...  3.840140739298237e-05  4.697946071919313e-05\n",
       "3638947 11.750580864965771 ...  3.763736912601958e-05  4.694053461810972e-05"
      ]
     },
     "execution_count": 193,
     "metadata": {},
     "output_type": "execute_result"
    }
   ],
   "source": [
    "skymap_sort[:5]"
   ]
  },
  {
   "cell_type": "code",
   "execution_count": 194,
   "metadata": {},
   "outputs": [],
   "source": [
    "skymap_prob = Table(skymap_sort, copy = True)"
   ]
  },
  {
   "cell_type": "code",
   "execution_count": 195,
   "metadata": {},
   "outputs": [],
   "source": [
    "skymap_prob.sort(\"PROB\", reverse = True)"
   ]
  },
  {
   "cell_type": "code",
   "execution_count": 196,
   "metadata": {},
   "outputs": [
    {
     "data": {
      "text/html": [
       "<div><i>Table length=5</i>\n",
       "<table id=\"table140132929615520\" class=\"table-striped table-bordered table-condensed\">\n",
       "<thead><tr><th>UNIQ</th><th>PROBDENSITY</th><th>DISTMU</th><th>DISTSIGMA</th><th>DISTNORM</th><th>PROB</th></tr></thead>\n",
       "<thead><tr><th></th><th>1 / sr</th><th>Mpc</th><th>Mpc</th><th>1 / Mpc2</th><th></th></tr></thead>\n",
       "<thead><tr><th>int64</th><th>float64</th><th>float64</th><th>float64</th><th>float64</th><th>float64</th></tr></thead>\n",
       "<tr><td>202926</td><td>2.1920481519214716</td><td>294.07021512005593</td><td>92.92058388364882</td><td>1.051407615925876e-05</td><td>0.00014010665629865678</td></tr>\n",
       "<tr><td>914138</td><td>8.766115581599957</td><td>183.98329005846008</td><td>57.08901301014159</td><td>2.694784023993414e-05</td><td>0.00014007346756832602</td></tr>\n",
       "<tr><td>28471</td><td>0.5478774928549901</td><td>212.45317805674532</td><td>113.88210335151567</td><td>1.724282975855822e-05</td><td>0.00014007225802575122</td></tr>\n",
       "<tr><td>82177</td><td>2.191423349027959</td><td>249.76684558785897</td><td>85.81789201144677</td><td>1.4337719820865754e-05</td><td>0.00014006672148053745</td></tr>\n",
       "<tr><td>898248</td><td>8.764037472177876</td><td>146.3550975952474</td><td>43.216095554189316</td><td>4.294174654801256e-05</td><td>0.0001400402615274031</td></tr>\n",
       "</table></div>"
      ],
      "text/plain": [
       "<Table length=5>\n",
       " UNIQ     PROBDENSITY     ...        DISTNORM                 PROB         \n",
       "             1 / sr       ...        1 / Mpc2                              \n",
       "int64       float64       ...        float64                float64        \n",
       "------ ------------------ ... ---------------------- ----------------------\n",
       "202926 2.1920481519214716 ...  1.051407615925876e-05 0.00014010665629865678\n",
       "914138  8.766115581599957 ...  2.694784023993414e-05 0.00014007346756832602\n",
       " 28471 0.5478774928549901 ...  1.724282975855822e-05 0.00014007225802575122\n",
       " 82177  2.191423349027959 ... 1.4337719820865754e-05 0.00014006672148053745\n",
       "898248  8.764037472177876 ...  4.294174654801256e-05  0.0001400402615274031"
      ]
     },
     "execution_count": 196,
     "metadata": {},
     "output_type": "execute_result"
    }
   ],
   "source": [
    "skymap_prob[:5]"
   ]
  },
  {
   "cell_type": "markdown",
   "metadata": {
    "tags": []
   },
   "source": [
    "### Compare Tables, only leave 99% credible region in DESI data table\n",
    "\n",
    "Now we can get a Table that only contains the 99% credible region. From there we only leave the matching objects in the DESI data"
   ]
  },
  {
   "cell_type": "code",
   "execution_count": 197,
   "metadata": {},
   "outputs": [],
   "source": [
    "# we simply select only the entries that are within the 99% credible region\n",
    "skymap_99 = skymap_sort[:i]"
   ]
  },
  {
   "cell_type": "code",
   "execution_count": 198,
   "metadata": {},
   "outputs": [
    {
     "name": "stdout",
     "output_type": "stream",
     "text": [
      "This is the number of UNIQ ID of objects which should lie within the 99% credible region (NOT THE NUMBER OF OBJECTS, as there can be multiple objects per UNIQ ID): 5272\n"
     ]
    }
   ],
   "source": [
    "print(\"This is the number of UNIQ ID of objects which should lie within the 99% credible region (NOT THE NUMBER OF OBJECTS, as there can be multiple objects per UNIQ ID):\", len(np.intersect1d(skymap_99[\"UNIQ\"], data[\"UNIQ\"])))"
   ]
  },
  {
   "cell_type": "code",
   "execution_count": 199,
   "metadata": {},
   "outputs": [],
   "source": [
    "mask = np.in1d(data[\"UNIQ\"], skymap_99[\"UNIQ\"])\n",
    "data_99 = data[mask]"
   ]
  },
  {
   "cell_type": "code",
   "execution_count": 200,
   "metadata": {},
   "outputs": [
    {
     "name": "stdout",
     "output_type": "stream",
     "text": [
      "We now have 3927769 objects in the 99% credible region\n",
      "Check if the region from where the galaxies have been selected makes any sense (RA; DEC):  1.84754109952898e-06 359.999979958843 -21.9984297720973 81.191800114061\n",
      "We can also check whether we have at least one galaxy in the UNIQ pixel with the highest probability from LIGO...\n",
      "This is False\n"
     ]
    }
   ],
   "source": [
    "print(f\"We now have {len(data_99)} objects in the 99% credible region\")\n",
    "print(\"Check if the region from where the galaxies have been selected makes any sense (RA; DEC): \", np.min(data_99[\"TARGET_RA\"]), np.max(data_99[\"TARGET_RA\"]), np.min(data_99[\"TARGET_DEC\"]), np.max(data_99[\"TARGET_DEC\"]))\n",
    "\n",
    "max_probdens_in_desi = np.max(data_99[\"PROBDENSITY\"])\n",
    "max_probdens_in_ligo = np.max(skymap[\"PROBDENSITY\"]).to_value(u.deg**-2)\n",
    "print(f\"We can also check whether we have at least one galaxy in the UNIQ pixel with the highest probability from LIGO...\")\n",
    "print(f\"This is {np.allclose(max_probdens_in_desi, max_probdens_in_ligo)}\")"
   ]
  },
  {
   "cell_type": "code",
   "execution_count": 201,
   "metadata": {},
   "outputs": [],
   "source": [
    "data_99.sort('PROBDENSITY', reverse=True)"
   ]
  },
  {
   "cell_type": "code",
   "execution_count": 202,
   "metadata": {},
   "outputs": [
    {
     "data": {
      "text/html": [
       "<div><i>Table length=2</i>\n",
       "<table id=\"table140132934146928\" class=\"table-striped table-bordered table-condensed\">\n",
       "<thead><tr><th>TARGETID</th><th>TARGET_RA</th><th>TARGET_DEC</th><th>LASTNIGHT</th><th>Z</th><th>ZERR</th><th>ZWARN</th><th>FLUX_G</th><th>FLUX_R</th><th>FLUX_Z</th><th>SPECTYPE</th><th>BGS_TARGET</th><th>EBV</th><th>SERSIC</th><th>UNIQ</th><th>PROBDENSITY</th><th>DISTMU</th><th>DISTSIGMA</th><th>DISTNORM</th></tr></thead>\n",
       "<thead><tr><th></th><th></th><th></th><th></th><th></th><th></th><th></th><th></th><th></th><th></th><th></th><th></th><th></th><th></th><th></th><th></th><th>Mpc</th><th>Mpc</th><th>1 / Mpc2</th></tr></thead>\n",
       "<thead><tr><th>int64</th><th>float64</th><th>float64</th><th>int64</th><th>float64</th><th>float64</th><th>int64</th><th>float64</th><th>float64</th><th>float64</th><th>str6</th><th>int64</th><th>float64</th><th>float64</th><th>int64</th><th>float64</th><th>float64</th><th>float64</th><th>float64</th></tr></thead>\n",
       "<tr><td>2305843051727191261</td><td>126.611592967165</td><td>-21.4859902526539</td><td>20230329</td><td>0.000132821506173356</td><td>7.53989286659552e-06</td><td>0</td><td>-99.0</td><td>-99.0</td><td>-99.0</td><td>STAR</td><td>0</td><td>0.106073938310146</td><td>0.0</td><td>3643407</td><td>0.003471478883445694</td><td>163.55433747997935</td><td>46.913914844256055</td><td>3.4541274429056404e-05</td></tr>\n",
       "<tr><td>2305843051727201987</td><td>126.57764961045</td><td>-21.4702568941703</td><td>20230329</td><td>0.000234017376068832</td><td>2.53411176599696e-06</td><td>0</td><td>-99.0</td><td>-99.0</td><td>-99.0</td><td>STAR</td><td>0</td><td>0.106560289859772</td><td>0.0</td><td>3643407</td><td>0.003471478883445694</td><td>163.55433747997935</td><td>46.913914844256055</td><td>3.4541274429056404e-05</td></tr>\n",
       "</table></div>"
      ],
      "text/plain": [
       "<Table length=2>\n",
       "      TARGETID         TARGET_RA     ...        DISTNORM       \n",
       "                                     ...        1 / Mpc2       \n",
       "       int64            float64      ...        float64        \n",
       "------------------- ---------------- ... ----------------------\n",
       "2305843051727191261 126.611592967165 ... 3.4541274429056404e-05\n",
       "2305843051727201987  126.57764961045 ... 3.4541274429056404e-05"
      ]
     },
     "execution_count": 202,
     "metadata": {},
     "output_type": "execute_result"
    }
   ],
   "source": [
    "data_99[:2]"
   ]
  },
  {
   "cell_type": "code",
   "execution_count": 203,
   "metadata": {},
   "outputs": [
    {
     "name": "stdout",
     "output_type": "stream",
     "text": [
      "We have now performed all the necessary steps to get the localization selection in 2D, i.e. the angle on the sky\n",
      "However, we have not used the distance data at all. Therefore our redhsifts range from 3.41128153223822e-10 to 6.87419687041459\n"
     ]
    }
   ],
   "source": [
    "print(\"We have now performed all the necessary steps to get the localization selection in 2D, i.e. the angle on the sky\")\n",
    "min_z = np.min(data_99[\"Z\"])\n",
    "max_z = np.max(data_99[\"Z\"])\n",
    "print(f\"However, we have not used the distance data at all. Therefore our redhsifts range from {min_z} to {max_z}\")"
   ]
  },
  {
   "cell_type": "markdown",
   "metadata": {
    "tags": []
   },
   "source": [
    "### Calculate all the distances of the objects from the redshifts"
   ]
  },
  {
   "cell_type": "code",
   "execution_count": 204,
   "metadata": {},
   "outputs": [],
   "source": [
    "distances = Distance(z=data_99[\"Z\"], cosmology=Planck18)\n",
    "distances_err = Distance(z=data_99[\"ZERR\"], cosmology=Planck18)\n",
    "\n",
    "data_99 = hstack([data_99, Table({\"DIST_Z\": distances}), Table({\"DIST_Z_ERR\": distances_err})])"
   ]
  },
  {
   "cell_type": "code",
   "execution_count": 205,
   "metadata": {},
   "outputs": [
    {
     "data": {
      "text/html": [
       "<div><i>Table length=5</i>\n",
       "<table id=\"table140132934143616\" class=\"table-striped table-bordered table-condensed\">\n",
       "<thead><tr><th>TARGETID</th><th>TARGET_RA</th><th>TARGET_DEC</th><th>LASTNIGHT</th><th>Z</th><th>ZERR</th><th>ZWARN</th><th>FLUX_G</th><th>FLUX_R</th><th>FLUX_Z</th><th>SPECTYPE</th><th>BGS_TARGET</th><th>EBV</th><th>SERSIC</th><th>UNIQ</th><th>PROBDENSITY</th><th>DISTMU</th><th>DISTSIGMA</th><th>DISTNORM</th><th>DIST_Z</th><th>DIST_Z_ERR</th></tr></thead>\n",
       "<thead><tr><th></th><th></th><th></th><th></th><th></th><th></th><th></th><th></th><th></th><th></th><th></th><th></th><th></th><th></th><th></th><th></th><th>Mpc</th><th>Mpc</th><th>1 / Mpc2</th><th>Mpc</th><th>Mpc</th></tr></thead>\n",
       "<thead><tr><th>int64</th><th>float64</th><th>float64</th><th>int64</th><th>float64</th><th>float64</th><th>int64</th><th>float64</th><th>float64</th><th>float64</th><th>str6</th><th>int64</th><th>float64</th><th>float64</th><th>int64</th><th>float64</th><th>float64</th><th>float64</th><th>float64</th><th>float64</th><th>float64</th></tr></thead>\n",
       "<tr><td>2305843051727191261</td><td>126.611592967165</td><td>-21.4859902526539</td><td>20230329</td><td>0.000132821506173356</td><td>7.53989286659552e-06</td><td>0</td><td>-99.0</td><td>-99.0</td><td>-99.0</td><td>STAR</td><td>0</td><td>0.106073938310146</td><td>0.0</td><td>3643407</td><td>0.003471478883445694</td><td>163.55433747997935</td><td>46.913914844256055</td><td>3.4541274429056404e-05</td><td>0.5885743436397801</td><td>0.03340845523302355</td></tr>\n",
       "<tr><td>2305843051727201987</td><td>126.57764961045</td><td>-21.4702568941703</td><td>20230329</td><td>0.000234017376068832</td><td>2.53411176599696e-06</td><td>0</td><td>-99.0</td><td>-99.0</td><td>-99.0</td><td>STAR</td><td>0</td><td>0.106560289859772</td><td>0.0</td><td>3643407</td><td>0.003471478883445694</td><td>163.55433747997935</td><td>46.913914844256055</td><td>3.4541274429056404e-05</td><td>1.037085863104444</td><td>0.011228333890753108</td></tr>\n",
       "<tr><td>2305843051727202513</td><td>126.587485436351</td><td>-21.4348626234004</td><td>20230329</td><td>2.21943919725311e-05</td><td>4.61698692951945e-07</td><td>0</td><td>-99.0</td><td>-99.0</td><td>-99.0</td><td>STAR</td><td>0</td><td>0.107814282178879</td><td>0.0</td><td>3643407</td><td>0.003471478883445694</td><td>163.55433747997935</td><td>46.913914844256055</td><td>3.4541274429056404e-05</td><td>0.09834207112418376</td><td>0.002045726204645667</td></tr>\n",
       "<tr><td>2305843051727203575</td><td>126.561481061874</td><td>-21.4108183153728</td><td>20230329</td><td>2.39324046875555e-05</td><td>9.36170931389996e-07</td><td>0</td><td>-99.0</td><td>-99.0</td><td>-99.0</td><td>STAR</td><td>0</td><td>0.109336204826832</td><td>0.0</td><td>3643407</td><td>0.003471478883445694</td><td>163.55433747997935</td><td>46.913914844256055</td><td>3.4541274429056404e-05</td><td>0.1060432465380262</td><td>0.004148051818683516</td></tr>\n",
       "<tr><td>2305843051727207574</td><td>126.722253219735</td><td>-21.3354056684836</td><td>20230329</td><td>6.31869958719784e-05</td><td>2.14002228047877e-06</td><td>0</td><td>-99.0</td><td>-99.0</td><td>-99.0</td><td>STAR</td><td>0</td><td>0.111450895667076</td><td>0.0</td><td>3643419</td><td>0.003457537436661609</td><td>163.58158635093432</td><td>47.1219123163848</td><td>3.450734199555327e-05</td><td>0.2799867334450579</td><td>0.009482169556146607</td></tr>\n",
       "</table></div>"
      ],
      "text/plain": [
       "<Table length=5>\n",
       "      TARGETID         TARGET_RA     ...      DIST_Z_ERR     \n",
       "                                     ...         Mpc         \n",
       "       int64            float64      ...       float64       \n",
       "------------------- ---------------- ... --------------------\n",
       "2305843051727191261 126.611592967165 ...  0.03340845523302355\n",
       "2305843051727201987  126.57764961045 ... 0.011228333890753108\n",
       "2305843051727202513 126.587485436351 ... 0.002045726204645667\n",
       "2305843051727203575 126.561481061874 ... 0.004148051818683516\n",
       "2305843051727207574 126.722253219735 ... 0.009482169556146607"
      ]
     },
     "execution_count": 205,
     "metadata": {},
     "output_type": "execute_result"
    }
   ],
   "source": [
    "data_99[:5]"
   ]
  },
  {
   "cell_type": "markdown",
   "metadata": {
    "jp-MarkdownHeadingCollapsed": true,
    "tags": []
   },
   "source": [
    "### Lets check how much the distance measurement changes in the 99% credible region of LIGO and compare to our DESI data\n",
    "\n",
    "We should see a lot more data in DESI (since we haven't done any redshift selection and there can be multiple objects per GW-pixel). Be carfeul, we are comparing actual object counts with the number of pixels.\n",
    "\n",
    "\n",
    "We still see, that most of the GW localization is roughly between 780Mpc and 950Mpc. DESI definitely has a most of its data in this range as well."
   ]
  },
  {
   "cell_type": "code",
   "execution_count": 206,
   "metadata": {},
   "outputs": [
    {
     "name": "stdout",
     "output_type": "stream",
     "text": [
      "Our distance ranges from -17822.23272954102 Mpc to inf Mpc\n",
      "Let's visualize the distance distribution of the LIGO event in the 99% credible region\n"
     ]
    },
    {
     "ename": "ValueError",
     "evalue": "supplied range of [-17822.23272954102, inf] is not finite",
     "output_type": "error",
     "traceback": [
      "\u001b[0;31m---------------------------------------------------------------------------\u001b[0m",
      "\u001b[0;31mValueError\u001b[0m                                Traceback (most recent call last)",
      "Cell \u001b[0;32mIn[206], line 11\u001b[0m\n\u001b[1;32m      9\u001b[0m ax[\u001b[38;5;241m0\u001b[39m]\u001b[38;5;241m.\u001b[39mhist(data_99[\u001b[38;5;124m\"\u001b[39m\u001b[38;5;124mDIST_Z\u001b[39m\u001b[38;5;124m\"\u001b[39m], bins \u001b[38;5;241m=\u001b[39m \u001b[38;5;124m\"\u001b[39m\u001b[38;5;124mauto\u001b[39m\u001b[38;5;124m\"\u001b[39m, color \u001b[38;5;241m=\u001b[39m \u001b[38;5;124m\"\u001b[39m\u001b[38;5;124morange\u001b[39m\u001b[38;5;124m\"\u001b[39m)\n\u001b[1;32m     10\u001b[0m ax[\u001b[38;5;241m1\u001b[39m]\u001b[38;5;241m.\u001b[39mhist(data_99[\u001b[38;5;124m\"\u001b[39m\u001b[38;5;124mDIST_Z\u001b[39m\u001b[38;5;124m\"\u001b[39m], bins \u001b[38;5;241m=\u001b[39m \u001b[38;5;124m\"\u001b[39m\u001b[38;5;124mauto\u001b[39m\u001b[38;5;124m\"\u001b[39m, color \u001b[38;5;241m=\u001b[39m \u001b[38;5;124m\"\u001b[39m\u001b[38;5;124mgreen\u001b[39m\u001b[38;5;124m\"\u001b[39m)\n\u001b[0;32m---> 11\u001b[0m \u001b[43max\u001b[49m\u001b[43m[\u001b[49m\u001b[38;5;241;43m2\u001b[39;49m\u001b[43m]\u001b[49m\u001b[38;5;241;43m.\u001b[39;49m\u001b[43mhist\u001b[49m\u001b[43m(\u001b[49m\u001b[43mskymap_99\u001b[49m\u001b[43m[\u001b[49m\u001b[38;5;124;43m\"\u001b[39;49m\u001b[38;5;124;43mDISTMU\u001b[39;49m\u001b[38;5;124;43m\"\u001b[39;49m\u001b[43m]\u001b[49m\u001b[43m,\u001b[49m\u001b[43m \u001b[49m\u001b[43mbins\u001b[49m\u001b[43m \u001b[49m\u001b[38;5;241;43m=\u001b[39;49m\u001b[43m \u001b[49m\u001b[38;5;124;43m\"\u001b[39;49m\u001b[38;5;124;43mauto\u001b[39;49m\u001b[38;5;124;43m\"\u001b[39;49m\u001b[43m,\u001b[49m\u001b[43m \u001b[49m\u001b[43mcolor\u001b[49m\u001b[43m \u001b[49m\u001b[38;5;241;43m=\u001b[39;49m\u001b[43m \u001b[49m\u001b[38;5;124;43m\"\u001b[39;49m\u001b[38;5;124;43mblue\u001b[39;49m\u001b[38;5;124;43m\"\u001b[39;49m\u001b[43m)\u001b[49m\n\u001b[1;32m     14\u001b[0m \u001b[38;5;28;01mfor\u001b[39;00m axis \u001b[38;5;129;01min\u001b[39;00m ax:\n\u001b[1;32m     15\u001b[0m     axis\u001b[38;5;241m.\u001b[39mset_xlabel(\u001b[38;5;124m\"\u001b[39m\u001b[38;5;124mdistance bin (Mpc)\u001b[39m\u001b[38;5;124m\"\u001b[39m)\n",
      "File \u001b[0;32m~/.conda/envs/MambaTest/lib/python3.10/site-packages/matplotlib/__init__.py:1442\u001b[0m, in \u001b[0;36m_preprocess_data.<locals>.inner\u001b[0;34m(ax, data, *args, **kwargs)\u001b[0m\n\u001b[1;32m   1439\u001b[0m \u001b[38;5;129m@functools\u001b[39m\u001b[38;5;241m.\u001b[39mwraps(func)\n\u001b[1;32m   1440\u001b[0m \u001b[38;5;28;01mdef\u001b[39;00m \u001b[38;5;21minner\u001b[39m(ax, \u001b[38;5;241m*\u001b[39margs, data\u001b[38;5;241m=\u001b[39m\u001b[38;5;28;01mNone\u001b[39;00m, \u001b[38;5;241m*\u001b[39m\u001b[38;5;241m*\u001b[39mkwargs):\n\u001b[1;32m   1441\u001b[0m     \u001b[38;5;28;01mif\u001b[39;00m data \u001b[38;5;129;01mis\u001b[39;00m \u001b[38;5;28;01mNone\u001b[39;00m:\n\u001b[0;32m-> 1442\u001b[0m         \u001b[38;5;28;01mreturn\u001b[39;00m \u001b[43mfunc\u001b[49m\u001b[43m(\u001b[49m\u001b[43max\u001b[49m\u001b[43m,\u001b[49m\u001b[43m \u001b[49m\u001b[38;5;241;43m*\u001b[39;49m\u001b[38;5;28;43mmap\u001b[39;49m\u001b[43m(\u001b[49m\u001b[43msanitize_sequence\u001b[49m\u001b[43m,\u001b[49m\u001b[43m \u001b[49m\u001b[43margs\u001b[49m\u001b[43m)\u001b[49m\u001b[43m,\u001b[49m\u001b[43m \u001b[49m\u001b[38;5;241;43m*\u001b[39;49m\u001b[38;5;241;43m*\u001b[39;49m\u001b[43mkwargs\u001b[49m\u001b[43m)\u001b[49m\n\u001b[1;32m   1444\u001b[0m     bound \u001b[38;5;241m=\u001b[39m new_sig\u001b[38;5;241m.\u001b[39mbind(ax, \u001b[38;5;241m*\u001b[39margs, \u001b[38;5;241m*\u001b[39m\u001b[38;5;241m*\u001b[39mkwargs)\n\u001b[1;32m   1445\u001b[0m     auto_label \u001b[38;5;241m=\u001b[39m (bound\u001b[38;5;241m.\u001b[39marguments\u001b[38;5;241m.\u001b[39mget(label_namer)\n\u001b[1;32m   1446\u001b[0m                   \u001b[38;5;129;01mor\u001b[39;00m bound\u001b[38;5;241m.\u001b[39mkwargs\u001b[38;5;241m.\u001b[39mget(label_namer))\n",
      "File \u001b[0;32m~/.conda/envs/MambaTest/lib/python3.10/site-packages/matplotlib/axes/_axes.py:6790\u001b[0m, in \u001b[0;36mAxes.hist\u001b[0;34m(self, x, bins, range, density, weights, cumulative, bottom, histtype, align, orientation, rwidth, log, color, label, stacked, **kwargs)\u001b[0m\n\u001b[1;32m   6786\u001b[0m \u001b[38;5;66;03m# Loop through datasets\u001b[39;00m\n\u001b[1;32m   6787\u001b[0m \u001b[38;5;28;01mfor\u001b[39;00m i \u001b[38;5;129;01min\u001b[39;00m \u001b[38;5;28mrange\u001b[39m(nx):\n\u001b[1;32m   6788\u001b[0m     \u001b[38;5;66;03m# this will automatically overwrite bins,\u001b[39;00m\n\u001b[1;32m   6789\u001b[0m     \u001b[38;5;66;03m# so that each histogram uses the same bins\u001b[39;00m\n\u001b[0;32m-> 6790\u001b[0m     m, bins \u001b[38;5;241m=\u001b[39m \u001b[43mnp\u001b[49m\u001b[38;5;241;43m.\u001b[39;49m\u001b[43mhistogram\u001b[49m\u001b[43m(\u001b[49m\u001b[43mx\u001b[49m\u001b[43m[\u001b[49m\u001b[43mi\u001b[49m\u001b[43m]\u001b[49m\u001b[43m,\u001b[49m\u001b[43m \u001b[49m\u001b[43mbins\u001b[49m\u001b[43m,\u001b[49m\u001b[43m \u001b[49m\u001b[43mweights\u001b[49m\u001b[38;5;241;43m=\u001b[39;49m\u001b[43mw\u001b[49m\u001b[43m[\u001b[49m\u001b[43mi\u001b[49m\u001b[43m]\u001b[49m\u001b[43m,\u001b[49m\u001b[43m \u001b[49m\u001b[38;5;241;43m*\u001b[39;49m\u001b[38;5;241;43m*\u001b[39;49m\u001b[43mhist_kwargs\u001b[49m\u001b[43m)\u001b[49m\n\u001b[1;32m   6791\u001b[0m     tops\u001b[38;5;241m.\u001b[39mappend(m)\n\u001b[1;32m   6792\u001b[0m tops \u001b[38;5;241m=\u001b[39m np\u001b[38;5;241m.\u001b[39marray(tops, \u001b[38;5;28mfloat\u001b[39m)  \u001b[38;5;66;03m# causes problems later if it's an int\u001b[39;00m\n",
      "File \u001b[0;32m<__array_function__ internals>:200\u001b[0m, in \u001b[0;36mhistogram\u001b[0;34m(*args, **kwargs)\u001b[0m\n",
      "File \u001b[0;32m~/.conda/envs/MambaTest/lib/python3.10/site-packages/numpy/lib/histograms.py:780\u001b[0m, in \u001b[0;36mhistogram\u001b[0;34m(a, bins, range, density, weights)\u001b[0m\n\u001b[1;32m    680\u001b[0m \u001b[38;5;250m\u001b[39m\u001b[38;5;124mr\u001b[39m\u001b[38;5;124;03m\"\"\"\u001b[39;00m\n\u001b[1;32m    681\u001b[0m \u001b[38;5;124;03mCompute the histogram of a dataset.\u001b[39;00m\n\u001b[1;32m    682\u001b[0m \n\u001b[0;32m   (...)\u001b[0m\n\u001b[1;32m    776\u001b[0m \n\u001b[1;32m    777\u001b[0m \u001b[38;5;124;03m\"\"\"\u001b[39;00m\n\u001b[1;32m    778\u001b[0m a, weights \u001b[38;5;241m=\u001b[39m _ravel_and_check_weights(a, weights)\n\u001b[0;32m--> 780\u001b[0m bin_edges, uniform_bins \u001b[38;5;241m=\u001b[39m \u001b[43m_get_bin_edges\u001b[49m\u001b[43m(\u001b[49m\u001b[43ma\u001b[49m\u001b[43m,\u001b[49m\u001b[43m \u001b[49m\u001b[43mbins\u001b[49m\u001b[43m,\u001b[49m\u001b[43m \u001b[49m\u001b[38;5;28;43mrange\u001b[39;49m\u001b[43m,\u001b[49m\u001b[43m \u001b[49m\u001b[43mweights\u001b[49m\u001b[43m)\u001b[49m\n\u001b[1;32m    782\u001b[0m \u001b[38;5;66;03m# Histogram is an integer or a float array depending on the weights.\u001b[39;00m\n\u001b[1;32m    783\u001b[0m \u001b[38;5;28;01mif\u001b[39;00m weights \u001b[38;5;129;01mis\u001b[39;00m \u001b[38;5;28;01mNone\u001b[39;00m:\n",
      "File \u001b[0;32m~/.conda/envs/MambaTest/lib/python3.10/site-packages/numpy/lib/histograms.py:396\u001b[0m, in \u001b[0;36m_get_bin_edges\u001b[0;34m(a, bins, range, weights)\u001b[0m\n\u001b[1;32m    392\u001b[0m \u001b[38;5;28;01mif\u001b[39;00m weights \u001b[38;5;129;01mis\u001b[39;00m \u001b[38;5;129;01mnot\u001b[39;00m \u001b[38;5;28;01mNone\u001b[39;00m:\n\u001b[1;32m    393\u001b[0m     \u001b[38;5;28;01mraise\u001b[39;00m \u001b[38;5;167;01mTypeError\u001b[39;00m(\u001b[38;5;124m\"\u001b[39m\u001b[38;5;124mAutomated estimation of the number of \u001b[39m\u001b[38;5;124m\"\u001b[39m\n\u001b[1;32m    394\u001b[0m                     \u001b[38;5;124m\"\u001b[39m\u001b[38;5;124mbins is not supported for weighted data\u001b[39m\u001b[38;5;124m\"\u001b[39m)\n\u001b[0;32m--> 396\u001b[0m first_edge, last_edge \u001b[38;5;241m=\u001b[39m \u001b[43m_get_outer_edges\u001b[49m\u001b[43m(\u001b[49m\u001b[43ma\u001b[49m\u001b[43m,\u001b[49m\u001b[43m \u001b[49m\u001b[38;5;28;43mrange\u001b[39;49m\u001b[43m)\u001b[49m\n\u001b[1;32m    398\u001b[0m \u001b[38;5;66;03m# truncate the range if needed\u001b[39;00m\n\u001b[1;32m    399\u001b[0m \u001b[38;5;28;01mif\u001b[39;00m \u001b[38;5;28mrange\u001b[39m \u001b[38;5;129;01mis\u001b[39;00m \u001b[38;5;129;01mnot\u001b[39;00m \u001b[38;5;28;01mNone\u001b[39;00m:\n",
      "File \u001b[0;32m~/.conda/envs/MambaTest/lib/python3.10/site-packages/numpy/lib/histograms.py:315\u001b[0m, in \u001b[0;36m_get_outer_edges\u001b[0;34m(a, range)\u001b[0m\n\u001b[1;32m    312\u001b[0m         \u001b[38;5;28;01mraise\u001b[39;00m \u001b[38;5;167;01mValueError\u001b[39;00m(\n\u001b[1;32m    313\u001b[0m             \u001b[38;5;124m'\u001b[39m\u001b[38;5;124mmax must be larger than min in range parameter.\u001b[39m\u001b[38;5;124m'\u001b[39m)\n\u001b[1;32m    314\u001b[0m     \u001b[38;5;28;01mif\u001b[39;00m \u001b[38;5;129;01mnot\u001b[39;00m (np\u001b[38;5;241m.\u001b[39misfinite(first_edge) \u001b[38;5;129;01mand\u001b[39;00m np\u001b[38;5;241m.\u001b[39misfinite(last_edge)):\n\u001b[0;32m--> 315\u001b[0m         \u001b[38;5;28;01mraise\u001b[39;00m \u001b[38;5;167;01mValueError\u001b[39;00m(\n\u001b[1;32m    316\u001b[0m             \u001b[38;5;124m\"\u001b[39m\u001b[38;5;124msupplied range of [\u001b[39m\u001b[38;5;132;01m{}\u001b[39;00m\u001b[38;5;124m, \u001b[39m\u001b[38;5;132;01m{}\u001b[39;00m\u001b[38;5;124m] is not finite\u001b[39m\u001b[38;5;124m\"\u001b[39m\u001b[38;5;241m.\u001b[39mformat(first_edge, last_edge))\n\u001b[1;32m    317\u001b[0m \u001b[38;5;28;01melif\u001b[39;00m a\u001b[38;5;241m.\u001b[39msize \u001b[38;5;241m==\u001b[39m \u001b[38;5;241m0\u001b[39m:\n\u001b[1;32m    318\u001b[0m     \u001b[38;5;66;03m# handle empty arrays. Can't determine range, so use 0-1.\u001b[39;00m\n\u001b[1;32m    319\u001b[0m     first_edge, last_edge \u001b[38;5;241m=\u001b[39m \u001b[38;5;241m0\u001b[39m, \u001b[38;5;241m1\u001b[39m\n",
      "\u001b[0;31mValueError\u001b[0m: supplied range of [-17822.23272954102, inf] is not finite"
     ]
    },
    {
     "data": {
      "image/png": "[encoded data removed]",
      "text/plain": [
       "<Figure size 1500x800 with 3 Axes>"
      ]
     },
     "metadata": {},
     "output_type": "display_data"
    }
   ],
   "source": [
    "dist_max_99 = np.max(skymap_99[\"DISTMU\"])*u.Mpc\n",
    "dist_min_99 = np.min(skymap_99[\"DISTMU\"])*u.Mpc\n",
    "print(f\"Our distance ranges from {dist_min_99} to {dist_max_99}\")\n",
    "print(\"Let's visualize the distance distribution of the LIGO event in the 99% credible region\")\n",
    "\n",
    "fig, ax = plt.subplots(ncols = 3, figsize = (15,8))\n",
    "\n",
    "\n",
    "ax[0].hist(data_99[\"DIST_Z\"], bins = \"auto\", color = \"orange\")\n",
    "ax[1].hist(data_99[\"DIST_Z\"], bins = \"auto\", color = \"green\")\n",
    "ax[2].hist(skymap_99[\"DISTMU\"], bins = \"auto\", color = \"blue\")\n",
    "\n",
    "\n",
    "for axis in ax:\n",
    "    axis.set_xlabel(\"distance bin (Mpc)\")\n",
    "\n",
    "ax[0].set_ylabel(\"object count\")\n",
    "ax[1].set_ylabel(\"object count\")\n",
    "ax[2].set_ylabel(\"pixel count\")\n",
    "\n",
    "ax[1].set_xlim(0,1000)\n",
    "    \n",
    "plt.show()"
   ]
  },
  {
   "cell_type": "code",
   "execution_count": null,
   "metadata": {},
   "outputs": [],
   "source": [
    "len(skymap_99), len(data_99)"
   ]
  },
  {
   "cell_type": "markdown",
   "metadata": {
    "tags": []
   },
   "source": [
    "### To reduce our data even more, lets cut out the unreasonably far away objects\n",
    "\n",
    "We simply take maximum and minimum distance we get from the LIGO skymap (i.e. DISTMU+-DISTERR) and check, whether every galaxy in that pixel falls inside this range.\n",
    "\n",
    "*Note: We do this only for our own GW-follow ups*"
   ]
  },
  {
   "cell_type": "code",
   "execution_count": 207,
   "metadata": {},
   "outputs": [
    {
     "name": "stdout",
     "output_type": "stream",
     "text": [
      "The z-range selection has deleted 3813601 objects from originally 3927769 in the data set\n",
      "Therefore, we have 114168 objects left in the search region\n",
      "Our highest remaing probability density is 0.0020119910361893504 compared to the originally highest prob density of 0.0035846818362901506\n",
      "The difference in prob density is 0.0015726908001008001\n"
     ]
    }
   ],
   "source": [
    "if follow_up_others == False:\n",
    "    z_selection_mask = data_99[\"DIST_Z\"] - data_99[\"DIST_Z_ERR\"] <  data_99[\"DISTMU\"] + data_99[\"DISTSIGMA\"]\n",
    "    z_selection_mask &= data_99[\"DIST_Z\"] + data_99[\"DIST_Z_ERR\"] >  data_99[\"DISTMU\"] - data_99[\"DISTSIGMA\"]\n",
    "\n",
    "    data_99_z = data_99[z_selection_mask]\n",
    "\n",
    "    remaining_obj = np.size(np.where(z_selection_mask == True))\n",
    "    deleted_obj = np.size(np.where(z_selection_mask == False))\n",
    "\n",
    "    print(f\"The z-range selection has deleted {deleted_obj} objects from originally {deleted_obj+remaining_obj} in the data set\")\n",
    "    print(f\"Therefore, we have {remaining_obj} objects left in the search region\")\n",
    "\n",
    "    highest_prob_dens = np.max(data_99_z[\"PROBDENSITY\"])\n",
    "    print(f\"Our highest remaing probability density is {highest_prob_dens} compared to the originally highest prob density of {max_probdens_in_ligo}\")\n",
    "    print(f\"The difference in prob density is {max_probdens_in_ligo-highest_prob_dens}\")\n",
    "\n",
    "    \n",
    "else:\n",
    "    data_99_z = data_99\n",
    "    remaining_obj = len(data_99_z)"
   ]
  },
  {
   "cell_type": "code",
   "execution_count": 208,
   "metadata": {},
   "outputs": [
    {
     "data": {
      "text/html": [
       "<div><i>Table length=5</i>\n",
       "<table id=\"table140131301201120\" class=\"table-striped table-bordered table-condensed\">\n",
       "<thead><tr><th>TARGETID</th><th>TARGET_RA</th><th>TARGET_DEC</th><th>LASTNIGHT</th><th>Z</th><th>ZERR</th><th>ZWARN</th><th>FLUX_G</th><th>FLUX_R</th><th>FLUX_Z</th><th>SPECTYPE</th><th>BGS_TARGET</th><th>EBV</th><th>SERSIC</th><th>UNIQ</th><th>PROBDENSITY</th><th>DISTMU</th><th>DISTSIGMA</th><th>DISTNORM</th><th>DIST_Z</th><th>DIST_Z_ERR</th></tr></thead>\n",
       "<thead><tr><th></th><th></th><th></th><th></th><th></th><th></th><th></th><th></th><th></th><th></th><th></th><th></th><th></th><th></th><th></th><th></th><th>Mpc</th><th>Mpc</th><th>1 / Mpc2</th><th>Mpc</th><th>Mpc</th></tr></thead>\n",
       "<thead><tr><th>int64</th><th>float64</th><th>float64</th><th>int64</th><th>float64</th><th>float64</th><th>int64</th><th>float64</th><th>float64</th><th>float64</th><th>str6</th><th>int64</th><th>float64</th><th>float64</th><th>int64</th><th>float64</th><th>float64</th><th>float64</th><th>float64</th><th>float64</th><th>float64</th></tr></thead>\n",
       "<tr><td>39627612200374037</td><td>135.602198144495</td><td>-7.34156655447563</td><td>20211215</td><td>0.046132817837568</td><td>8.02344434126188e-06</td><td>0</td><td>74.9669036865234</td><td>44.463550567627</td><td>105.81322479248</td><td>GALAXY</td><td>131074</td><td>0.0346241630613804</td><td>1.49737846851349</td><td>916579</td><td>0.0020119910361893504</td><td>202.49365700670614</td><td>65.9925473520847</td><td>2.2046820811211038e-05</td><td>211.51601010868498</td><td>0.03555103304477909</td></tr>\n",
       "<tr><td>39627612200374214</td><td>135.609426226768</td><td>-7.29091063939034</td><td>20211215</td><td>0.0461578815501072</td><td>1.46803233402624e-05</td><td>0</td><td>263.676818847656</td><td>112.763641357422</td><td>491.254272460938</td><td>GALAXY</td><td>131074</td><td>0.0330447442829609</td><td>3.81842470169067</td><td>916579</td><td>0.0020119910361893504</td><td>202.49365700670614</td><td>65.9925473520847</td><td>2.2046820811211038e-05</td><td>211.63472339229784</td><td>0.06504729157919356</td></tr>\n",
       "<tr><td>39627612204567663</td><td>135.813386597477</td><td>-7.3730199449854</td><td>20211215</td><td>0.0544163710740239</td><td>1.26883810801372e-05</td><td>0</td><td>17.9206809997559</td><td>10.9724283218384</td><td>24.2143650054932</td><td>GALAXY</td><td>131074</td><td>0.0458050668239594</td><td>1.0</td><td>916579</td><td>0.0020119910361893504</td><td>202.49365700670614</td><td>65.9925473520847</td><td>2.2046820811211038e-05</td><td>250.97073252977495</td><td>0.05622107526785652</td></tr>\n",
       "<tr><td>39627600213052089</td><td>135.740340829945</td><td>-7.65569718378964</td><td>20211215</td><td>0.030978905271865</td><td>1.55978191213658e-06</td><td>0</td><td>315.660827636719</td><td>164.879257202148</td><td>519.712890625</td><td>GALAXY</td><td>131074</td><td>0.0419930629432201</td><td>1.64417743682861</td><td>916576</td><td>0.0019957596320158352</td><td>200.14206841129536</td><td>66.25417086615533</td><td>2.2499396259248077e-05</td><td>140.48643386673282</td><td>0.006911194391512129</td></tr>\n",
       "<tr><td>39627606206711458</td><td>135.763708365514</td><td>-7.61292669456251</td><td>20211215</td><td>0.0532108654457551</td><td>6.52317937562897e-06</td><td>0</td><td>224.103164672852</td><td>137.242919921875</td><td>308.122161865234</td><td>GALAXY</td><td>131074</td><td>0.0433824062347412</td><td>1.41940438747406</td><td>916576</td><td>0.0019957596320158352</td><td>200.14206841129536</td><td>66.25417086615533</td><td>2.2499396259248077e-05</td><td>245.20151946970728</td><td>0.028903484458627282</td></tr>\n",
       "</table></div>"
      ],
      "text/plain": [
       "<Table length=5>\n",
       "     TARGETID        TARGET_RA     ...       DIST_Z            DIST_Z_ERR     \n",
       "                                   ...        Mpc                 Mpc         \n",
       "      int64           float64      ...      float64             float64       \n",
       "----------------- ---------------- ... ------------------ --------------------\n",
       "39627612200374037 135.602198144495 ... 211.51601010868498  0.03555103304477909\n",
       "39627612200374214 135.609426226768 ... 211.63472339229784  0.06504729157919356\n",
       "39627612204567663 135.813386597477 ... 250.97073252977495  0.05622107526785652\n",
       "39627600213052089 135.740340829945 ... 140.48643386673282 0.006911194391512129\n",
       "39627606206711458 135.763708365514 ... 245.20151946970728 0.028903484458627282"
      ]
     },
     "execution_count": 208,
     "metadata": {},
     "output_type": "execute_result"
    }
   ],
   "source": [
    "data_99_z[:5]"
   ]
  },
  {
   "cell_type": "markdown",
   "metadata": {
    "tags": []
   },
   "source": [
    "### get the apparent, absolute magnitudes and luminosities\n",
    "\n",
    "in order to do this: flux > 0 selection  and gal ext correction"
   ]
  },
  {
   "cell_type": "code",
   "execution_count": 209,
   "metadata": {},
   "outputs": [
    {
     "name": "stdout",
     "output_type": "stream",
     "text": [
      "We have 99944 objects remaining in our catalog, i.e. 14224 had to be cut out due to bad fluxes\n"
     ]
    }
   ],
   "source": [
    "# get the apparent mags\n",
    "data_99_z = data_99_z[data_99_z[\"FLUX_Z\"] > 0] # flux selection (only ones above 0)\n",
    "data_99_z[\"MW_TRANSMISSION\"] = gs.mw_transmission_from_data_table(data_99_z, \"z\")\n",
    "#data_99_z[\"FLUX_Z\"] = data_99_z[\"FLUX_Z\"]/data_99_z[\"MW_TRANSMISSION\"]\n",
    "\n",
    "app_mag_z = gs.app_mag(data_99_z[\"FLUX_Z\"])\n",
    "flux_selection_cut = len(data_99_z)\n",
    "print(f\"We have {flux_selection_cut} objects remaining in our catalog, i.e. {remaining_obj-flux_selection_cut} had to be cut out due to bad fluxes\")\n",
    "\n",
    "# get the absolute mags\n",
    "abs_mag_z = gs.abs_mag(app_mag_z, data_99_z[\"Z\"], 0,0,0)\n",
    "\n",
    "# get the luminosities\n",
    "lums_z = gs.lum(abs_mag_z, band = \"z\")"
   ]
  },
  {
   "cell_type": "code",
   "execution_count": 210,
   "metadata": {},
   "outputs": [],
   "source": [
    "data_f = hstack([data_99_z, Table({\"APP_MAG_Z\": app_mag_z}), Table({\"ABS_MAG_Z\": abs_mag_z}), Table({\"LUM_Z\": lums_z})])"
   ]
  },
  {
   "cell_type": "code",
   "execution_count": 211,
   "metadata": {},
   "outputs": [
    {
     "data": {
      "text/html": [
       "<div><i>Table length=5</i>\n",
       "<table id=\"table140132916903312\" class=\"table-striped table-bordered table-condensed\">\n",
       "<thead><tr><th>TARGETID</th><th>TARGET_RA</th><th>TARGET_DEC</th><th>LASTNIGHT</th><th>Z</th><th>ZERR</th><th>ZWARN</th><th>FLUX_G</th><th>FLUX_R</th><th>FLUX_Z</th><th>SPECTYPE</th><th>BGS_TARGET</th><th>EBV</th><th>SERSIC</th><th>UNIQ</th><th>PROBDENSITY</th><th>DISTMU</th><th>DISTSIGMA</th><th>DISTNORM</th><th>DIST_Z</th><th>DIST_Z_ERR</th><th>MW_TRANSMISSION</th><th>APP_MAG_Z</th><th>ABS_MAG_Z</th><th>LUM_Z</th></tr></thead>\n",
       "<thead><tr><th></th><th></th><th></th><th></th><th></th><th></th><th></th><th></th><th></th><th></th><th></th><th></th><th></th><th></th><th></th><th></th><th>Mpc</th><th>Mpc</th><th>1 / Mpc2</th><th>Mpc</th><th>Mpc</th><th></th><th></th><th></th><th>W</th></tr></thead>\n",
       "<thead><tr><th>int64</th><th>float64</th><th>float64</th><th>int64</th><th>float64</th><th>float64</th><th>int64</th><th>float64</th><th>float64</th><th>float64</th><th>str6</th><th>int64</th><th>float64</th><th>float64</th><th>int64</th><th>float64</th><th>float64</th><th>float64</th><th>float64</th><th>float64</th><th>float64</th><th>float64</th><th>float64</th><th>float64</th><th>float64</th></tr></thead>\n",
       "<tr><td>39627612200374037</td><td>135.602198144495</td><td>-7.34156655447563</td><td>20211215</td><td>0.046132817837568</td><td>8.02344434126188e-06</td><td>0</td><td>74.9669036865234</td><td>44.463550567627</td><td>105.81322479248</td><td>GALAXY</td><td>131074</td><td>0.0346241630613804</td><td>1.49737846851349</td><td>916579</td><td>0.0020119910361893504</td><td>202.49365700670614</td><td>65.9925473520847</td><td>2.2046820811211038e-05</td><td>211.51601010868498</td><td>0.03555103304477909</td><td>0.9621173699376419</td><td>17.438650124337432</td><td>-19.188066103927145</td><td>5.503868608329986e+35</td></tr>\n",
       "<tr><td>39627612200374214</td><td>135.609426226768</td><td>-7.29091063939034</td><td>20211215</td><td>0.0461578815501072</td><td>1.46803233402624e-05</td><td>0</td><td>263.676818847656</td><td>112.763641357422</td><td>491.254272460938</td><td>GALAXY</td><td>131074</td><td>0.0330447442829609</td><td>3.81842470169067</td><td>916579</td><td>0.0020119910361893504</td><td>202.49365700670614</td><td>65.9925473520847</td><td>2.2046820811211038e-05</td><td>211.63472339229784</td><td>0.06504729157919356</td><td>0.9638137679979156</td><td>15.771734148802661</td><td>-20.856200475680392</td><td>2.5581252610783148e+36</td></tr>\n",
       "<tr><td>39627612204567663</td><td>135.813386597477</td><td>-7.3730199449854</td><td>20211215</td><td>0.0544163710740239</td><td>1.26883810801372e-05</td><td>0</td><td>17.9206809997559</td><td>10.9724283218384</td><td>24.2143650054932</td><td>GALAXY</td><td>131074</td><td>0.0458050668239594</td><td>1.0</td><td>916579</td><td>0.0020119910361893504</td><td>202.49365700670614</td><td>65.9925473520847</td><td>2.2046820811211038e-05</td><td>250.97073252977495</td><td>0.05622107526785652</td><td>0.9501934352831137</td><td>19.039817288381954</td><td>-17.958298103048506</td><td>1.77321279857569e+35</td></tr>\n",
       "<tr><td>39627600213052089</td><td>135.740340829945</td><td>-7.65569718378964</td><td>20211215</td><td>0.030978905271865</td><td>1.55978191213658e-06</td><td>0</td><td>315.660827636719</td><td>164.879257202148</td><td>519.712890625</td><td>GALAXY</td><td>131074</td><td>0.0419930629432201</td><td>1.64417743682861</td><td>916576</td><td>0.0019957596320158352</td><td>200.14206841129536</td><td>66.25417086615533</td><td>2.2499396259248077e-05</td><td>140.48643386673282</td><td>0.006911194391512129</td><td>0.9542420717014579</td><td>15.710591277704847</td><td>-20.02758066445165</td><td>1.1925425449907768e+36</td></tr>\n",
       "<tr><td>39627606206711458</td><td>135.763708365514</td><td>-7.61292669456251</td><td>20211215</td><td>0.0532108654457551</td><td>6.52317937562897e-06</td><td>0</td><td>224.103164672852</td><td>137.242919921875</td><td>308.122161865234</td><td>GALAXY</td><td>131074</td><td>0.0433824062347412</td><td>1.41940438747406</td><td>916576</td><td>0.0019957596320158352</td><td>200.14206841129536</td><td>66.25417086615533</td><td>2.2499396259248077e-05</td><td>245.20151946970728</td><td>0.028903484458627282</td><td>0.9527644900262393</td><td>16.278192659192737</td><td>-20.669423126304746</td><td>2.1538272462976473e+36</td></tr>\n",
       "</table></div>"
      ],
      "text/plain": [
       "<Table length=5>\n",
       "     TARGETID        TARGET_RA     ...         LUM_Z         \n",
       "                                   ...           W           \n",
       "      int64           float64      ...        float64        \n",
       "----------------- ---------------- ... ----------------------\n",
       "39627612200374037 135.602198144495 ...  5.503868608329986e+35\n",
       "39627612200374214 135.609426226768 ... 2.5581252610783148e+36\n",
       "39627612204567663 135.813386597477 ...   1.77321279857569e+35\n",
       "39627600213052089 135.740340829945 ... 1.1925425449907768e+36\n",
       "39627606206711458 135.763708365514 ... 2.1538272462976473e+36"
      ]
     },
     "execution_count": 211,
     "metadata": {},
     "output_type": "execute_result"
    }
   ],
   "source": [
    "data_f[:5]"
   ]
  },
  {
   "cell_type": "code",
   "execution_count": 212,
   "metadata": {},
   "outputs": [],
   "source": [
    "# np.max(data_f[\"MW_TRANSMISSION\"])"
   ]
  },
  {
   "cell_type": "code",
   "execution_count": 213,
   "metadata": {},
   "outputs": [
    {
     "name": "stdout",
     "output_type": "stream",
     "text": [
      "The maximum luminosity in our cataloge in the z-band is 1.1020414659957398e+38 W with a prob density of      PROBDENSITY     \n",
      "---------------------\n",
      "0.0001173313451804674\n"
     ]
    }
   ],
   "source": [
    "max_lum_z = np.max(data_f[\"LUM_Z\"])*u.W\n",
    "prob_dens_max_lum = data_f[data_f[\"LUM_Z\"] == max_lum_z][\"PROBDENSITY\"]\n",
    "print(f\"The maximum luminosity in our cataloge in the z-band is {max_lum_z} with a prob density of {prob_dens_max_lum}\")"
   ]
  },
  {
   "cell_type": "code",
   "execution_count": 214,
   "metadata": {},
   "outputs": [],
   "source": [
    "arg_errfc = abs(data_f[\"DIST_Z\"]-data_f[\"DISTMU\"])/(data_f[\"DIST_Z_ERR\"]**2+data_f[\"DISTSIGMA\"]**2)\n",
    "P_gal_unnorm = data_f[\"LUM_Z\"]*data_f[\"PROBDENSITY\"]*(1-sc.special.erf(arg_errfc))\n",
    "#dist_mean*u.Mpc, dist_std*u.Mpc\n",
    "arg_errfc_c = abs(data_f[\"DIST_Z\"].value-dist_mean)/(data_f[\"DIST_Z_ERR\"].value**2+dist_std**2)\n",
    "P_gal_unnorm_const = data_f[\"LUM_Z\"]*data_f[\"PROBDENSITY\"]*(1-sc.special.erf(arg_errfc_c))\n",
    "\n",
    "# now lets quickly normalize\n",
    "\n",
    "P_gal_sum = np.sum(P_gal_unnorm)\n",
    "P_gal_const_sum = np.sum(P_gal_unnorm_const)\n",
    "\n",
    "P_gal = 1/P_gal_sum * P_gal_unnorm\n",
    "P_gal_const = 1/P_gal_const_sum * P_gal_unnorm_const"
   ]
  },
  {
   "cell_type": "code",
   "execution_count": 215,
   "metadata": {},
   "outputs": [],
   "source": [
    "data_f = hstack([data_f, Table({\"P_GAL\": P_gal.value}), Table({\"P_GAL_C\": P_gal_const.value})])"
   ]
  },
  {
   "cell_type": "code",
   "execution_count": 216,
   "metadata": {},
   "outputs": [
    {
     "data": {
      "text/html": [
       "<div><i>Table length=99944</i>\n",
       "<table id=\"table140132934146304\" class=\"table-striped table-bordered table-condensed\">\n",
       "<thead><tr><th>TARGETID</th><th>TARGET_RA</th><th>TARGET_DEC</th><th>LASTNIGHT</th><th>Z</th><th>ZERR</th><th>ZWARN</th><th>FLUX_G</th><th>FLUX_R</th><th>FLUX_Z</th><th>SPECTYPE</th><th>BGS_TARGET</th><th>EBV</th><th>SERSIC</th><th>UNIQ</th><th>PROBDENSITY</th><th>DISTMU</th><th>DISTSIGMA</th><th>DISTNORM</th><th>DIST_Z</th><th>DIST_Z_ERR</th><th>MW_TRANSMISSION</th><th>APP_MAG_Z</th><th>ABS_MAG_Z</th><th>LUM_Z</th><th>P_GAL</th><th>P_GAL_C</th></tr></thead>\n",
       "<thead><tr><th></th><th></th><th></th><th></th><th></th><th></th><th></th><th></th><th></th><th></th><th></th><th></th><th></th><th></th><th></th><th></th><th>Mpc</th><th>Mpc</th><th>1 / Mpc2</th><th>Mpc</th><th>Mpc</th><th></th><th></th><th></th><th>W</th><th></th><th></th></tr></thead>\n",
       "<thead><tr><th>int64</th><th>float64</th><th>float64</th><th>int64</th><th>float64</th><th>float64</th><th>int64</th><th>float64</th><th>float64</th><th>float64</th><th>str6</th><th>int64</th><th>float64</th><th>float64</th><th>int64</th><th>float64</th><th>float64</th><th>float64</th><th>float64</th><th>float64</th><th>float64</th><th>float64</th><th>float64</th><th>float64</th><th>float64</th><th>float64</th><th>float64</th></tr></thead>\n",
       "<tr><td>39627612200374037</td><td>135.602198144495</td><td>-7.34156655447563</td><td>20211215</td><td>0.046132817837568</td><td>8.02344434126188e-06</td><td>0</td><td>74.9669036865234</td><td>44.463550567627</td><td>105.81322479248</td><td>GALAXY</td><td>131074</td><td>0.0346241630613804</td><td>1.49737846851349</td><td>916579</td><td>0.0020119910361893504</td><td>202.49365700670614</td><td>65.9925473520847</td><td>2.2046820811211038e-05</td><td>211.51601010868498</td><td>0.03555103304477909</td><td>0.9621173699376419</td><td>17.438650124337432</td><td>-19.188066103927145</td><td>5.503868608329986e+35</td><td>8.100993235055147e-05</td><td>8.084353182555473e-05</td></tr>\n",
       "<tr><td>39627612200374214</td><td>135.609426226768</td><td>-7.29091063939034</td><td>20211215</td><td>0.0461578815501072</td><td>1.46803233402624e-05</td><td>0</td><td>263.676818847656</td><td>112.763641357422</td><td>491.254272460938</td><td>GALAXY</td><td>131074</td><td>0.0330447442829609</td><td>3.81842470169067</td><td>916579</td><td>0.0020119910361893504</td><td>202.49365700670614</td><td>65.9925473520847</td><td>2.2046820811211038e-05</td><td>211.63472339229784</td><td>0.06504729157919356</td><td>0.9638137679979156</td><td>15.771734148802661</td><td>-20.856200475680392</td><td>2.5581252610783148e+36</td><td>0.00037651183255837516</td><td>0.00037575439865693</td></tr>\n",
       "<tr><td>39627612204567663</td><td>135.813386597477</td><td>-7.3730199449854</td><td>20211215</td><td>0.0544163710740239</td><td>1.26883810801372e-05</td><td>0</td><td>17.9206809997559</td><td>10.9724283218384</td><td>24.2143650054932</td><td>GALAXY</td><td>131074</td><td>0.0458050668239594</td><td>1.0</td><td>916579</td><td>0.0020119910361893504</td><td>202.49365700670614</td><td>65.9925473520847</td><td>2.2046820811211038e-05</td><td>250.97073252977495</td><td>0.05622107526785652</td><td>0.9501934352831137</td><td>19.039817288381954</td><td>-17.958298103048506</td><td>1.77321279857569e+35</td><td>2.583201548953095e-05</td><td>2.6146394317311716e-05</td></tr>\n",
       "<tr><td>39627600213052089</td><td>135.740340829945</td><td>-7.65569718378964</td><td>20211215</td><td>0.030978905271865</td><td>1.55978191213658e-06</td><td>0</td><td>315.660827636719</td><td>164.879257202148</td><td>519.712890625</td><td>GALAXY</td><td>131074</td><td>0.0419930629432201</td><td>1.64417743682861</td><td>916576</td><td>0.0019957596320158352</td><td>200.14206841129536</td><td>66.25417086615533</td><td>2.2499396259248077e-05</td><td>140.48643386673282</td><td>0.006911194391512129</td><td>0.9542420717014579</td><td>15.710591277704847</td><td>-20.02758066445165</td><td>1.1925425449907768e+36</td><td>0.00017184293819245256</td><td>0.00017254560771425877</td></tr>\n",
       "<tr><td>39627606206711458</td><td>135.763708365514</td><td>-7.61292669456251</td><td>20211215</td><td>0.0532108654457551</td><td>6.52317937562897e-06</td><td>0</td><td>224.103164672852</td><td>137.242919921875</td><td>308.122161865234</td><td>GALAXY</td><td>131074</td><td>0.0433824062347412</td><td>1.41940438747406</td><td>916576</td><td>0.0019957596320158352</td><td>200.14206841129536</td><td>66.25417086615533</td><td>2.2499396259248077e-05</td><td>245.20151946970728</td><td>0.028903484458627282</td><td>0.9527644900262393</td><td>16.278192659192737</td><td>-20.669423126304746</td><td>2.1538272462976473e+36</td><td>0.0003115445526365616</td><td>0.00031484708027294404</td></tr>\n",
       "<tr><td>39627600213050384</td><td>135.669591994032</td><td>-7.66278178072034</td><td>20220327</td><td>0.0457676404032076</td><td>5.21695089445424e-06</td><td>0</td><td>21.5294532775879</td><td>16.1210289001465</td><td>24.5543193817139</td><td>GALAXY</td><td>131074</td><td>0.042968425899744</td><td>0.5</td><td>916576</td><td>0.0019957596320158352</td><td>200.14206841129536</td><td>66.25417086615533</td><td>2.2499396259248077e-05</td><td>209.78682142659147</td><td>0.02311570775882</td><td>0.9532045231475967</td><td>19.02468024880779</td><td>-17.584210765296994</td><td>1.2563941979722635e+35</td><td>1.834073334218452e-05</td><td>1.8302559758471832e-05</td></tr>\n",
       "<tr><td>39627618198228884</td><td>135.624011433451</td><td>-7.10583642242373</td><td>20211215</td><td>0.0450319050361274</td><td>1.14338923227286e-05</td><td>0</td><td>471.210479736328</td><td>203.261520385742</td><td>865.733276367188</td><td>GALAXY</td><td>131074</td><td>0.0328835621476173</td><td>5.23309993743896</td><td>916588</td><td>0.0019907977921400453</td><td>204.74577281016494</td><td>65.82628068835403</td><td>2.1620054939850815e-05</td><td>206.3055808362031</td><td>0.05066249970113568</td><td>0.963987056158958</td><td>15.156539722739923</td><td>-21.41601515909347</td><td>4.283982417146087e+36</td><td>0.0006251136578122134</td><td>0.000622306726437706</td></tr>\n",
       "<tr><td>39627612200372473</td><td>135.539410759258</td><td>-7.27026876184031</td><td>20211215</td><td>0.0457076365540045</td><td>4.42711268424076e-06</td><td>0</td><td>38.204948425293</td><td>28.2276725769043</td><td>45.3714981079102</td><td>GALAXY</td><td>131074</td><td>0.0315514393150806</td><td>0.773450255393982</td><td>916585</td><td>0.0019898008376906112</td><td>205.0603536052949</td><td>65.32469056478217</td><td>2.1590553058658506e-05</td><td>209.50277344866166</td><td>0.019616013861466962</td><td>0.9654204250610442</td><td>18.358042201644455</td><td>-18.247906681537206</td><td>2.3152840965479377e+35</td><td>3.374147312735735e-05</td><td>3.3626332293418306e-05</td></tr>\n",
       "<tr><td>39627612204570978</td><td>135.927618248514</td><td>-7.15656137550317</td><td>20211215</td><td>0.0545535373891574</td><td>7.35120101036729e-06</td><td>0</td><td>54.0471382141113</td><td>33.5615463256836</td><td>73.7788314819336</td><td>GALAXY</td><td>131074</td><td>0.0474124029278755</td><td>1.68018209934235</td><td>916582</td><td>0.001968298637656525</td><td>202.12734344397367</td><td>66.71675303035849</td><td>2.2072239737369094e-05</td><td>251.62776097620213</td><td>0.03257237717877557</td><td>0.9484914754354239</td><td>17.83017056865834</td><td>-19.173622197355776</td><td>5.431133711117123e+35</td><td>7.740304732809633e-05</td><td>7.83491361309302e-05</td></tr>\n",
       "<tr><td>...</td><td>...</td><td>...</td><td>...</td><td>...</td><td>...</td><td>...</td><td>...</td><td>...</td><td>...</td><td>...</td><td>...</td><td>...</td><td>...</td><td>...</td><td>...</td><td>...</td><td>...</td><td>...</td><td>...</td><td>...</td><td>...</td><td>...</td><td>...</td><td>...</td><td>...</td><td>...</td></tr>\n",
       "<tr><td>39628281556763743</td><td>2.46808873258349</td><td>21.0747687716097</td><td>20221101</td><td>0.0586852852368528</td><td>3.26364302929706e-05</td><td>0</td><td>14.5021953582764</td><td>8.0730504989624</td><td>19.3835678100586</td><td>GALAXY</td><td>131074</td><td>0.0691836327314377</td><td>1.85248708724976</td><td>9067</td><td>6.941815029750101e-06</td><td>220.2261970131531</td><td>85.4145487605261</td><td>1.7924839494129855e-05</td><td>271.4751588343212</td><td>0.14461129840927733</td><td>0.9264447609948313</td><td>19.281415705260258</td><td>-17.88723477422125</td><td>1.660869560762083e+35</td><td>8.387125046160462e-08</td><td>8.449709872391813e-08</td></tr>\n",
       "<tr><td>39628270257311195</td><td>3.66377812343317</td><td>20.608881068241</td><td>20211104</td><td>0.0591373008797338</td><td>1.82239753974981e-05</td><td>0</td><td>1.68194043636322</td><td>1.38570463657379</td><td>2.28025245666504</td><td>GALAXY</td><td>0</td><td>0.0367373637855053</td><td>1.0</td><td>9067</td><td>6.941815029750101e-06</td><td>220.2261970131531</td><td>85.4145487605261</td><td>1.7924839494129855e-05</td><td>273.65307408407585</td><td>0.08074913843479843</td><td>0.9602421385984943</td><td>21.60504266926758</td><td>-15.580958986515366</td><td>1.9852957398131235e+34</td><td>1.0022021252661205e-08</td><td>1.009809054518948e-08</td></tr>\n",
       "<tr><td>39628270257312170</td><td>3.72058380810817</td><td>20.4155086866089</td><td>20221226</td><td>0.0586271105800602</td><td>9.20838831809689e-06</td><td>0</td><td>25.3138484954834</td><td>16.6513023376465</td><td>32.6672973632812</td><td>GALAXY</td><td>131074</td><td>0.0322109274566174</td><td>1.0</td><td>9067</td><td>6.941815029750101e-06</td><td>220.2261970131531</td><td>85.4145487605261</td><td>1.7924839494129855e-05</td><td>271.1949543400424</td><td>0.040801431509659536</td><td>0.9650540534171004</td><td>18.71471698541879</td><td>-18.451691040064787</td><td>2.7933028988093994e+35</td><td>1.4106347742631714e-07</td><td>1.421137719327799e-07</td></tr>\n",
       "<tr><td>39628292852024301</td><td>3.26091234933029</td><td>21.5376356251036</td><td>20221101</td><td>0.0414889210507407</td><td>1.37798123522665e-05</td><td>0</td><td>114.977157592773</td><td>70.9350204467773</td><td>160.14924621582</td><td>GALAXY</td><td>131074</td><td>0.0525087863206863</td><td>1.35984838008881</td><td>9067</td><td>6.941815029750101e-06</td><td>220.2261970131531</td><td>85.4145487605261</td><td>1.7924839494129855e-05</td><td>189.59044764730243</td><td>0.061057160148231523</td><td>0.9436626934362247</td><td>16.988687752788884</td><td>-19.400394507195664</td><td>6.69267011463528e+35</td><td>3.3905517136176155e-07</td><td>3.3844705842857584e-07</td></tr>\n",
       "<tr><td>39628270253114962</td><td>3.27073284917893</td><td>20.4374872197215</td><td>20221226</td><td>0.0646663618257086</td><td>2.02803286568107e-06</td><td>0</td><td>102.279907226562</td><td>68.7095108032227</td><td>134.491104125977</td><td>GALAXY</td><td>131074</td><td>0.0353192128241062</td><td>1.51888036727905</td><td>9067</td><td>6.941815029750101e-06</td><td>220.2261970131531</td><td>85.4145487605261</td><td>1.7924839494129855e-05</td><td>300.39826691942653</td><td>0.008985957773564526</td><td>0.9617471445043178</td><td>17.17826610247679</td><td>-20.2102210113959</td><td>1.4110097691143536e+36</td><td>7.093246432143155e-07</td><td>7.158301417632851e-07</td></tr>\n",
       "<tr><td>39628270253115383</td><td>3.29306564273681</td><td>20.4113437643708</td><td>20221226</td><td>0.0348569512389968</td><td>1.72194417418136e-06</td><td>0</td><td>8.71312427520752</td><td>6.83399152755737</td><td>9.77841854095459</td><td>GALAXY</td><td>65545</td><td>0.0335627160966396</td><td>1.4124813079834</td><td>9067</td><td>6.941815029750101e-06</td><td>220.2261970131531</td><td>85.4145487605261</td><td>1.7924839494129855e-05</td><td>158.52116279240707</td><td>0.0076297156069982846</td><td>0.9636144887584016</td><td>20.02432844444031</td><td>-15.976107802222518</td><td>2.8568322308266947e+34</td><td>1.4403029097688092e-08</td><td>1.4402925619125802e-08</td></tr>\n",
       "<tr><td>39628292843636175</td><td>2.7558109097077</td><td>21.4153696370416</td><td>20221101</td><td>0.0413222904639256</td><td>1.19093719664956e-05</td><td>0</td><td>626.636962890625</td><td>320.604217529297</td><td>1071.31774902344</td><td>GALAXY</td><td>131074</td><td>0.0448754541575909</td><td>0.817130863666534</td><td>9067</td><td>6.941815029750101e-06</td><td>220.2261970131531</td><td>85.4145487605261</td><td>1.7924839494129855e-05</td><td>188.80631797277485</td><td>0.0527693244425806</td><td>0.9516510523469968</td><td>14.925204249669124</td><td>-21.454878364728096</td><td>4.440102152296903e+36</td><td>2.249111532541159e-06</td><td>2.245178561096218e-06</td></tr>\n",
       "<tr><td>39628270257310548</td><td>3.62582374305715</td><td>20.4145977948914</td><td>20221226</td><td>0.0587224468845494</td><td>3.68918368654952e-06</td><td>0</td><td>10.8292417526245</td><td>6.64332485198975</td><td>15.1616687774658</td><td>GALAXY</td><td>65537</td><td>0.0325468182563782</td><td>2.13724184036255</td><td>9067</td><td>6.941815029750101e-06</td><td>220.2261970131531</td><td>85.4145487605261</td><td>1.7924839494129855e-05</td><td>271.65416317595367</td><td>0.016346328308318912</td><td>0.9646961514654424</td><td>19.548132488026575</td><td>-17.621949337498535</td><td>1.3008324168537339e+35</td><td>6.568811723553735e-08</td><td>6.61789759927386e-08</td></tr>\n",
       "<tr><td>39628281569347774</td><td>3.31846238479779</td><td>21.023076454293</td><td>20221101</td><td>0.0426282560301821</td><td>1.33574192309773e-05</td><td>0</td><td>9.86965370178223</td><td>5.23852300643921</td><td>15.1020889282227</td><td>GALAXY</td><td>65545</td><td>0.114302419126034</td><td>1.0</td><td>9067</td><td>6.941815029750101e-06</td><td>220.2261970131531</td><td>85.4145487605261</td><td>1.7924839494129855e-05</td><td>194.9567503061755</td><td>0.05918555349074208</td><td>0.8814152489987448</td><td>19.552407441824286</td><td>-16.8972839435354</td><td>6.673523489754415e+34</td><td>3.3836712525223374e-08</td><td>3.376564328459929e-08</td></tr>\n",
       "<tr><td>39628281565152987</td><td>3.04784860489041</td><td>21.1209277344108</td><td>20221101</td><td>0.0415797448360895</td><td>7.58311074090517e-06</td><td>0</td><td>347.718872070312</td><td>192.809799194336</td><td>544.304504394531</td><td>GALAXY</td><td>131074</td><td>0.0811476409435272</td><td>1.08260488510132</td><td>9067</td><td>6.941815029750101e-06</td><td>220.2261970131531</td><td>85.4145487605261</td><td>1.7924839494129855e-05</td><td>190.01792175822484</td><td>0.033599950104120306</td><td>0.914284993108672</td><td>15.660395179154978</td><td>-20.733577640178776</td><td>2.2849288022050517e+36</td><td>1.1576371993424962e-06</td><td>1.155532603218019e-06</td></tr>\n",
       "</table></div>"
      ],
      "text/plain": [
       "<Table length=99944>\n",
       "     TARGETID        TARGET_RA     ...        P_GAL_C        \n",
       "                                   ...                       \n",
       "      int64           float64      ...        float64        \n",
       "----------------- ---------------- ... ----------------------\n",
       "39627612200374037 135.602198144495 ...  8.084353182555473e-05\n",
       "39627612200374214 135.609426226768 ...    0.00037575439865693\n",
       "39627612204567663 135.813386597477 ... 2.6146394317311716e-05\n",
       "39627600213052089 135.740340829945 ... 0.00017254560771425877\n",
       "39627606206711458 135.763708365514 ... 0.00031484708027294404\n",
       "39627600213050384 135.669591994032 ... 1.8302559758471832e-05\n",
       "39627618198228884 135.624011433451 ...   0.000622306726437706\n",
       "39627612200372473 135.539410759258 ... 3.3626332293418306e-05\n",
       "39627612204570978 135.927618248514 ...   7.83491361309302e-05\n",
       "              ...              ... ...                    ...\n",
       "39628281556763743 2.46808873258349 ...  8.449709872391813e-08\n",
       "39628270257311195 3.66377812343317 ...  1.009809054518948e-08\n",
       "39628270257312170 3.72058380810817 ...  1.421137719327799e-07\n",
       "39628292852024301 3.26091234933029 ... 3.3844705842857584e-07\n",
       "39628270253114962 3.27073284917893 ...  7.158301417632851e-07\n",
       "39628270253115383 3.29306564273681 ... 1.4402925619125802e-08\n",
       "39628292843636175  2.7558109097077 ...  2.245178561096218e-06\n",
       "39628270257310548 3.62582374305715 ...   6.61789759927386e-08\n",
       "39628281569347774 3.31846238479779 ...  3.376564328459929e-08\n",
       "39628281565152987 3.04784860489041 ...  1.155532603218019e-06"
      ]
     },
     "execution_count": 216,
     "metadata": {},
     "output_type": "execute_result"
    }
   ],
   "source": [
    "data_f[:]"
   ]
  },
  {
   "cell_type": "markdown",
   "metadata": {
    "tags": []
   },
   "source": [
    "## Analyse the data: How much luminosity do we cover? Which galaxies should we observe?\n",
    "\n",
    "Lets look into what information we can retrieve from here. First we define, how many galaxies we could observe (N_galaxies).\n",
    "\n",
    "We then calculate the luminosity (lum) from all the galaxies in this area, i.e. the total luminosity. From there do some comparison between the covered luminosity and total luminosity depending on the ranking by probability:\n",
    "- simple \"Maximum lum that could be covered\" by looking at the brightest galaxies\n",
    "- Calculate the probability this way (from https://arxiv.org/pdf/1710.05452.pdf w/o normalization), both using a static and variable distance and error: $$P_{gal} = k^{-1}\\tilde{L_z}(1-f_{missed})\\cdot P_{2D}\\left(1-\\text{erf}\\left(\\frac{|D_{Gal}-D_{LVC}|}{\\sigma_{D,gal}^{2}+\\sigma_{D,LVC}^{2}+\\sigma_{D,cosmology}^{2}}\\right)\\right)$$\n",
    "- others may follow...\n",
    "\n",
    "Since we have the actual luminosity (here in z-band though), we don't need to again calculate the $$\\tilde{L}_{gal}$$ values. In the mentioned paper, they only use a fixed distance and error for the LIGO data. I will try both, to get an idea what the differences are."
   ]
  },
  {
   "cell_type": "code",
   "execution_count": 217,
   "metadata": {},
   "outputs": [],
   "source": [
    "N_galaxies = 20 # how many galaxies we can cover"
   ]
  },
  {
   "cell_type": "code",
   "execution_count": 218,
   "metadata": {},
   "outputs": [],
   "source": [
    "total_lum = np.sum(data_f[\"LUM_Z\"])"
   ]
  },
  {
   "cell_type": "markdown",
   "metadata": {},
   "source": [
    "### Compare lum with luminosity ranking\n",
    "\n",
    "https://iopscience.iop.org/article/10.3847/0067-0049/226/1/10"
   ]
  },
  {
   "cell_type": "code",
   "execution_count": 219,
   "metadata": {},
   "outputs": [],
   "source": [
    "data_sort_by_lums = data_f.group_by(\"LUM_Z\")\n",
    "data_sort_by_lums = data_sort_by_lums[::-1]"
   ]
  },
  {
   "cell_type": "code",
   "execution_count": 220,
   "metadata": {},
   "outputs": [],
   "source": [
    "lum_after_N_highest = np.sum(data_sort_by_lums[\"LUM_Z\"][:N_galaxies])"
   ]
  },
  {
   "cell_type": "code",
   "execution_count": 221,
   "metadata": {},
   "outputs": [
    {
     "name": "stdout",
     "output_type": "stream",
     "text": [
      "The theoretical maximum luminosity we could cover is 1.1846804988374095e+39, i.e. 0.6957317570129208 % of the total luminosity\n",
      "The TARGETID values of these galaxies are: \n",
      "      TARGETID    \n",
      "-----------------\n",
      "39627682027145294\n",
      "39627754651517146\n",
      "39627550644773112\n",
      "39627785064419018\n",
      "39627929709187075\n",
      "39627380100171394\n",
      "39627971375399776\n",
      "39627724473500756\n",
      "39627839045111841\n",
      "39628143262173439\n",
      "39627670304068675\n",
      "39633519844002219\n",
      "39627414929673266\n",
      "39627724607722506\n",
      "39627772888358238\n",
      "39627748481700252\n",
      "39627815007559736\n",
      "39633358673674448\n",
      "39627845315595984\n",
      "39627479551315360\n"
     ]
    }
   ],
   "source": [
    "print(f\"The theoretical maximum luminosity we could cover is {lum_after_N_highest}, i.e. {lum_after_N_highest*100/total_lum} % of the total luminosity\")\n",
    "print(\"The TARGETID values of these galaxies are: \\n\", data_sort_by_lums[\"TARGETID\"][:N_galaxies])"
   ]
  },
  {
   "cell_type": "markdown",
   "metadata": {},
   "source": [
    "### Compare lum with P_Gal ranking"
   ]
  },
  {
   "cell_type": "code",
   "execution_count": 222,
   "metadata": {},
   "outputs": [],
   "source": [
    "data_sort_by_PGal = data_f.group_by(\"P_GAL\")\n",
    "data_sort_by_PGal = data_sort_by_PGal[::-1]\n",
    "\n",
    "lum_after_N_PGal = np.sum(data_sort_by_PGal[\"LUM_Z\"][:N_galaxies])"
   ]
  },
  {
   "cell_type": "code",
   "execution_count": 223,
   "metadata": {},
   "outputs": [
    {
     "name": "stdout",
     "output_type": "stream",
     "text": [
      "The maximum luminosity we cover when ranked by P_gal is 5.004633632095994e+38, i.e. 0.2939089951662967% of the total luminosity\n",
      "The TARGETID values of these galaxies are: \n",
      "    TARGET_RA         TARGET_DEC     ...      TARGETID             P_GAL        \n",
      "---------------- ------------------ ... ----------------- ---------------------\n",
      "135.306339723022  -6.06669049317723 ... 39627642214814637 0.0033620310728259143\n",
      " 136.13119697614  -7.34989525008305 ... 39627612208764092 0.0025674079565165837\n",
      " 138.77627421922 -0.718401048599523 ... 39627768937317120 0.0021666213991166595\n",
      "141.923615281851   3.99420367287905 ... 39627883714450288 0.0021520748624891143\n",
      " 138.91547799639  -1.34711618851211 ... 39627756857724320  0.001998273525976603\n",
      "139.746230787757 -0.216432601180244 ... 39627781029499947 0.0019038452476926053\n",
      "139.038087687048  0.296529762827997 ... 39627793100702526 0.0015734904519030212\n",
      "345.225012061212   7.10310344860248 ... 39627959308387821 0.0015322735770678076\n",
      "137.096161662303  -1.61144481453489 ... 39627750788565174 0.0014873187903957008\n",
      "136.362606530942  -7.55243675978143 ... 39627606215102513 0.0014657103925764699\n",
      "138.938481623304  -2.30221259678664 ... 39627732698533437  0.001317038254596253\n",
      "344.774181564176   6.66854063774899 ... 39627953302145019 0.0012384892012258183\n",
      "351.979561686161  -1.76255990912747 ... 39627748351680169 0.0012215284362066701\n",
      "135.201332704094  -6.51451062587862 ... 39627630198133820 0.0012191780444741646\n",
      "139.171515326426  -1.94152322604399 ... 39627738742525633 0.0012157154172178625\n",
      "139.341424834779  0.321953547566146 ... 39627793104897969  0.001185780505592604\n",
      "352.149274227485  -2.13373407143529 ... 39627736276275175 0.0011833766625799302\n",
      "345.193697141303   7.58292077063368 ... 39627971304096885  0.001148590426531452\n",
      "347.394719875372   5.58754630204878 ... 39627923296096345  0.001136119103990666\n",
      "345.603948915482   6.92843543154603 ... 39627959312584806 0.0010958135730309855\n"
     ]
    }
   ],
   "source": [
    "print(f\"The maximum luminosity we cover when ranked by P_gal is {lum_after_N_PGal}, i.e. {lum_after_N_PGal*100/total_lum}% of the total luminosity\") \n",
    "print(\"The TARGETID values of these galaxies are: \\n\", data_sort_by_PGal[\"TARGET_RA\", \"TARGET_DEC\", \"SERSIC\", \"TARGETID\", \"P_GAL\"][:N_galaxies])"
   ]
  },
  {
   "cell_type": "code",
   "execution_count": 224,
   "metadata": {},
   "outputs": [],
   "source": [
    "data_sort_by_PGal_C = data_f.group_by(\"P_GAL_C\")\n",
    "data_sort_by_PGal_C = data_sort_by_PGal_C[::-1]\n",
    "\n",
    "lum_after_N_PGal_C = np.sum(data_sort_by_PGal_C[\"LUM_Z\"][:N_galaxies])"
   ]
  },
  {
   "cell_type": "code",
   "execution_count": 225,
   "metadata": {},
   "outputs": [
    {
     "name": "stdout",
     "output_type": "stream",
     "text": [
      "The maximum luminosity we cover when ranked by P_gal_C is 4.830091068109971e+38, i.e. 0.28365856858843824% of the total luminosity\n",
      "The TARGETID values of these galaxies are: \n",
      "      TARGETID             P_GAL        \n",
      "----------------- ---------------------\n",
      "39627642214814637 0.0033620310728259143\n",
      "39627612208764092 0.0025674079565165837\n",
      "39627768937317120 0.0021666213991166595\n",
      "39627883714450288 0.0021520748624891143\n",
      "39627756857724320  0.001998273525976603\n",
      "39627781029499947 0.0019038452476926053\n",
      "39627793100702526 0.0015734904519030212\n",
      "39627959308387821 0.0015322735770678076\n",
      "39627750788565174 0.0014873187903957008\n",
      "39627606215102513 0.0014657103925764699\n",
      "39627732698533437  0.001317038254596253\n",
      "39627953302145019 0.0012384892012258183\n",
      "39627738742525633 0.0012157154172178625\n",
      "39627748351680169 0.0012215284362066701\n",
      "39627630198133820 0.0012191780444741646\n",
      "39627793104897969  0.001185780505592604\n",
      "39627736276275175 0.0011833766625799302\n",
      "39627971304096885  0.001148590426531452\n",
      "39627923296096345  0.001136119103990666\n",
      "39627750817924986 0.0010955673784378323\n"
     ]
    }
   ],
   "source": [
    "print(f\"The maximum luminosity we cover when ranked by P_gal_C is {lum_after_N_PGal_C}, i.e. {lum_after_N_PGal_C*100/total_lum}% of the total luminosity\") \n",
    "print(\"The TARGETID values of these galaxies are: \\n\", data_sort_by_PGal_C[\"TARGETID\", \"P_GAL\"][:N_galaxies])"
   ]
  },
  {
   "cell_type": "code",
   "execution_count": 226,
   "metadata": {},
   "outputs": [],
   "source": [
    "data_sort_by_PGal[\"TARGET_RA\", \"TARGET_DEC\", \"SERSIC\", \"Z\", \"P_GAL\"][:N_galaxies].write(f'PGAl_{superevent_name}.ecsv', delimiter=',', format='ascii', overwrite = False)"
   ]
  },
  {
   "cell_type": "code",
   "execution_count": 227,
   "metadata": {},
   "outputs": [],
   "source": [
    "# add timing data to table, "
   ]
  }
 ],
 "metadata": {
  "kernelspec": {
   "display_name": "Python (MambaTest)",
   "language": "python",
   "name": "mambatest"
  },
  "language_info": {
   "codemirror_mode": {
    "name": "ipython",
    "version": 3
   },
   "file_extension": ".py",
   "mimetype": "text/x-python",
   "name": "python",
   "nbconvert_exporter": "python",
   "pygments_lexer": "ipython3",
   "version": "3.10.10"
  }
 },
 "nbformat": 4,
 "nbformat_minor": 4
}
