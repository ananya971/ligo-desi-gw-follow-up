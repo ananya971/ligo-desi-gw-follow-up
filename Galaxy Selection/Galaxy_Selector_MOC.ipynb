{
 "cells": [
  {
   "attachments": {},
   "cell_type": "markdown",
   "metadata": {},
   "source": [
    "# Galaxy Selector MOC\n",
    "\n",
    "**Compared to the \"Simple Galaxy Selector, this works with Multi-Ordering-Sky-Maps**\n",
    "\n",
    "***NOTE (this note may be wrong, just copied from old notebook)***: Before anything can happen, download the GW event localization map. Open the terminal and type:\n",
    "\"curl -O https://gracedb.ligo.org/api/superevents/sid/files/bayestar.fits,0\"\n",
    "with sid = superevent ID (could be incorporated into this notebook)\n",
    "\n",
    "Select the galaxies to observe by WWFI in this simple manner:\n",
    "- get the LIGO event data\n",
    "- read the LIGO event data into the notebook, extract some information\n",
    "- read the DESI database into the notebook, \"clean\" the data\n",
    "- get the 90% credible regions for the event, add them as a column to the data\n",
    "- only keep data within the 90% region\n",
    "- calculate all the luminosities (& more)\n",
    "- rank them by luminosity (for now just print the TARGETID), 3D/2D localization and with a luminosity-distance 2D dependant counterpart likelihood\n",
    "\n",
    "Sources: \n",
    "- https://iopscience.iop.org/article/10.3847/0067-0049/226/1/10\n",
    "- https://emfollow.docs.ligo.org/userguide/tutorial/skymaps.html\n",
    "- https://emfollow.docs.ligo.org/userguide/tutorial/multiorder_skymaps.html\n",
    "- https://arxiv.org/pdf/1710.05452.pdf"
   ]
  },
  {
   "cell_type": "code",
   "execution_count": 15,
   "metadata": {},
   "outputs": [],
   "source": [
    "import numpy as np\n",
    "from scipy.stats import norm\n",
    "import scipy as sc\n",
    "\n",
    "from astropy.io import fits\n",
    "from astropy.table import Table, hstack\n",
    "from astropy import table\n",
    "\n",
    "import healpy as hp\n",
    "import astropy_healpix as ah\n",
    "\n",
    "from astropy.table import QTable\n",
    "\n",
    "import psycopg2\n",
    "\n",
    "from astropy.cosmology import Planck18\n",
    "from astropy.coordinates import Distance\n",
    "from astropy import units as u\n",
    "\n",
    "import astropy.constants as asc\n",
    "\n",
    "import matplotlib.pyplot as plt"
   ]
  },
  {
   "attachments": {},
   "cell_type": "markdown",
   "metadata": {},
   "source": [
    "Specifiy the path where the data is located and then load the data (this loads everything, just have a look)"
   ]
  },
  {
   "cell_type": "code",
   "execution_count": 4,
   "metadata": {},
   "outputs": [
    {
     "data": {
      "text/html": [
       "<div><i>QTable length=5</i>\n",
       "<table id=\"table5202521392\" class=\"table-striped table-bordered table-condensed\">\n",
       "<thead><tr><th>UNIQ</th><th>PROBDENSITY</th><th>DISTMU</th><th>DISTSIGMA</th><th>DISTNORM</th></tr></thead>\n",
       "<thead><tr><th></th><th>1 / sr</th><th>Mpc</th><th>Mpc</th><th>1 / Mpc2</th></tr></thead>\n",
       "<thead><tr><th>int64</th><th>float64</th><th>float64</th><th>float64</th><th>float64</th></tr></thead>\n",
       "<tr><td>1058</td><td>9.762953888490556e-44</td><td>17.34517262809015</td><td>0.9236687293542615</td><td>0.003314461041632539</td></tr>\n",
       "<tr><td>1059</td><td>1.0018783137648462e-44</td><td>18.63995767930237</td><td>1.0010655001928837</td><td>0.002869850930785714</td></tr>\n",
       "<tr><td>1061</td><td>4.956280171074477e-42</td><td>21.827776684973404</td><td>3.682410269563899</td><td>0.002040766430201995</td></tr>\n",
       "<tr><td>1062</td><td>1.1431944234645642e-45</td><td>20.051306236593103</td><td>1.1270420983387233</td><td>0.0024793894203571994</td></tr>\n",
       "<tr><td>1063</td><td>3.746441270992535e-46</td><td>21.26344968099752</td><td>2.242205858104221</td><td>0.0021874094575685733</td></tr>\n",
       "</table></div>"
      ],
      "text/plain": [
       "<QTable length=5>\n",
       " UNIQ      PROBDENSITY       ...     DISTSIGMA             DISTNORM      \n",
       "              1 / sr         ...        Mpc                1 / Mpc2      \n",
       "int64        float64         ...      float64              float64       \n",
       "----- ---------------------- ... ------------------ ---------------------\n",
       " 1058  9.762953888490556e-44 ... 0.9236687293542615  0.003314461041632539\n",
       " 1059 1.0018783137648462e-44 ... 1.0010655001928837  0.002869850930785714\n",
       " 1061  4.956280171074477e-42 ...  3.682410269563899  0.002040766430201995\n",
       " 1062 1.1431944234645642e-45 ... 1.1270420983387233 0.0024793894203571994\n",
       " 1063  3.746441270992535e-46 ...  2.242205858104221 0.0021874094575685733"
      ]
     },
     "execution_count": 4,
     "metadata": {},
     "output_type": "execute_result"
    }
   ],
   "source": [
    "path = \"/Users/juliusgassert/Desktop/Studium/LMU/Physik/BA/Code/bayestar.multiorder.fits\"\n",
    "skymap = QTable.read(path)\n",
    "\n",
    "skymap[:5]"
   ]
  },
  {
   "attachments": {},
   "cell_type": "markdown",
   "metadata": {},
   "source": [
    "### Get basic values from GW event\n",
    "\n",
    "We now extract some basic information  from the healpix data:\n",
    "- ipix_max: pixel with highest likelihood\n",
    "- npix: total number of pixels\n",
    "- ra, dec: ra and dec of the pixel with the highest likelihood\n",
    "\n",
    "Then we open the full fits file and extract some more basic info from the header:\n",
    "- dist_mean: mean distance of the GW event\n",
    "- dist_std: error of the distance"
   ]
  },
  {
   "cell_type": "code",
   "execution_count": 6,
   "metadata": {},
   "outputs": [
    {
     "name": "stdout",
     "output_type": "stream",
     "text": [
      "UNIQ ID of highest prob sky localization:  42318942\n"
     ]
    }
   ],
   "source": [
    "# most probable sky location\n",
    "i = np.argmax(skymap[\"PROBDENSITY\"])\n",
    "uniq = skymap[i][\"UNIQ\"]\n",
    "print(\"UNIQ ID of highest prob sky localization: \", uniq)"
   ]
  },
  {
   "cell_type": "code",
   "execution_count": 10,
   "metadata": {},
   "outputs": [
    {
     "name": "stdout",
     "output_type": "stream",
     "text": [
      "Highest probability at (RA, dec):  194.30419921874997 -17.856895095545468 with prob [1/deg^2] of:  0.07825164701914111\n"
     ]
    }
   ],
   "source": [
    "# calculate the most probable pixel, convert to RA and dec\n",
    "level_max, ipix_max = ah.uniq_to_level_ipix(uniq)\n",
    "nside = ah.level_to_nside(level_max)\n",
    "ra, dec = ah.healpix_to_lonlat(ipix_max, nside, order = \"nested\")\n",
    "print(\"Highest probability at (RA, dec): \", ra.deg, dec.deg, \"with prob [1/deg^2] of: \", skymap[i]['PROBDENSITY'].to_value(u.deg**-2))"
   ]
  },
  {
   "attachments": {},
   "cell_type": "markdown",
   "metadata": {},
   "source": [
    "Now open the fits file and read basics info from the header"
   ]
  },
  {
   "cell_type": "code",
   "execution_count": 16,
   "metadata": {},
   "outputs": [
    {
     "name": "stdout",
     "output_type": "stream",
     "text": [
      "The dist_mean and dist_std values:  39.76999609489013 Mpc 8.308435058808886 Mpc\n"
     ]
    }
   ],
   "source": [
    "fits_gw = fits.open(path)\n",
    "header = fits_gw[1].header\n",
    "dist_mean = header[\"DISTMEAN\"]\n",
    "dist_std = header[\"DISTSTD\"]\n",
    "print(\"The dist_mean and dist_std values: \", dist_mean*u.Mpc, dist_std*u.Mpc)"
   ]
  },
  {
   "attachments": {},
   "cell_type": "markdown",
   "metadata": {},
   "source": [
    "### Get DESI data\n",
    "\n",
    "Establish a connection to the DESI database and load the daily data."
   ]
  },
  {
   "cell_type": "code",
   "execution_count": 18,
   "metadata": {},
   "outputs": [
    {
     "name": "stdout",
     "output_type": "stream",
     "text": [
      "connection to server at \"decatdb.lbl.gov\" (128.3.71.86), port 5432 failed: Operation timed out\n",
      "\tIs the server running on that host and accepting TCP/IP connections?\n",
      "\n"
     ]
    },
    {
     "ename": "NameError",
     "evalue": "name 'db' is not defined",
     "output_type": "error",
     "traceback": [
      "\u001b[0;31m---------------------------------------------------------------------------\u001b[0m",
      "\u001b[0;31mNameError\u001b[0m                                 Traceback (most recent call last)",
      "\u001b[1;32m/Users/juliusgassert/Desktop/Studium/LMU/Physik/BA/LIGO DESI GW Follow Up/ligo-desi-gw-follow-up/Galaxy Selection/Galaxy_Selector_MOC.ipynb Zelle 11\u001b[0m in \u001b[0;36m<cell line: 7>\u001b[0;34m()\u001b[0m\n\u001b[1;32m      <a href='vscode-notebook-cell:/Users/juliusgassert/Desktop/Studium/LMU/Physik/BA/LIGO%20DESI%20GW%20Follow%20Up/ligo-desi-gw-follow-up/Galaxy%20Selection/Galaxy_Selector_MOC.ipynb#X12sZmlsZQ%3D%3D?line=3'>4</a>\u001b[0m \u001b[39mexcept\u001b[39;00m (\u001b[39mException\u001b[39;00m, psycopg2\u001b[39m.\u001b[39mError) \u001b[39mas\u001b[39;00m error:\n\u001b[1;32m      <a href='vscode-notebook-cell:/Users/juliusgassert/Desktop/Studium/LMU/Physik/BA/LIGO%20DESI%20GW%20Follow%20Up/ligo-desi-gw-follow-up/Galaxy%20Selection/Galaxy_Selector_MOC.ipynb#X12sZmlsZQ%3D%3D?line=4'>5</a>\u001b[0m     \u001b[39mprint\u001b[39m(error)\n\u001b[0;32m----> <a href='vscode-notebook-cell:/Users/juliusgassert/Desktop/Studium/LMU/Physik/BA/LIGO%20DESI%20GW%20Follow%20Up/ligo-desi-gw-follow-up/Galaxy%20Selection/Galaxy_Selector_MOC.ipynb#X12sZmlsZQ%3D%3D?line=6'>7</a>\u001b[0m cursor \u001b[39m=\u001b[39m db\u001b[39m.\u001b[39mcursor()\n",
      "\u001b[0;31mNameError\u001b[0m: name 'db' is not defined"
     ]
    }
   ],
   "source": [
    "try:\n",
    "    db = psycopg2.connect(host='decatdb.lbl.gov', database='desidb', user='desi', password = \"5kFibers!\", port=\"5432\")\n",
    "    cursor = db.cursor()\n",
    "except (Exception, psycopg2.Error) as error:\n",
    "    print(error)\n",
    "\n",
    "cursor = db.cursor()"
   ]
  },
  {
   "cell_type": "code",
   "execution_count": null,
   "metadata": {},
   "outputs": [],
   "source": [
    "redux = 'daily'\n",
    "query = 'SELECT f.targetid,f.target_ra,f.target_dec,c.tileid,c.night,r.z,r.zerr,r.zwarn,r.deltachi2,f.flux_z,f.bgs_target,f.ebv, f.sersic, f.mws_target, c.filename\\n' \\\n",
    "                    f'FROM {redux}.tiles_fibermap f\\n' \\\n",
    "                    f'INNER JOIN {redux}.cumulative_tiles c ON f.cumultile_id=c.id\\n' \\\n",
    "                    f'INNER JOIN {redux}.tiles_redshifts r ON r.cumultile_id=c.id AND r.targetid=f.targetid\\n' \\\n",
    "                    f'WHERE q3c_radial_query( f.target_ra, f.target_dec, {ra}, {dec}, 50);'\n",
    "\n",
    "cursor.execute(query)\n",
    "rows = cursor.fetchall()"
   ]
  },
  {
   "attachments": {},
   "cell_type": "markdown",
   "metadata": {},
   "source": [
    "## Do all the calculations, selections,...\n",
    "\n",
    "- turn the daily DESI data into a Table\n",
    "- do some basic data selection stuff: only keep good + positive redshifts, only positive values of z-band flux and eliminate duplicates (right now simply takes the first entry)\n",
    "- add the ipix (healpix) pixel value for each target\n",
    "- calculate the probability for each target\n",
    "- calculate the probabilities for each object\n",
    "- add these values to the able (\"PROB\"), select only targets within the 90% credible region (i.e. with a certainty of 90% the GW event is inside this region)\n",
    "- calculate the distances and its errors from the redshift, add to the data table\n",
    "- calculate the 3D probability just like here: https://iopscience.iop.org/article/10.3847/0067-0049/226/1/10 (§4) and add these values to the table\n",
    "- sort the table by its 3D probability (descending)\n",
    "- calculate absolute and apparent magnitude, luminosity and add to table\n",
    "\n",
    "The final step is to include the calculation of the most likely host galaxy from https://arxiv.org/pdf/1710.05452.pdf (GW170817); these values are then also added to the table as \"P_GAL\""
   ]
  },
  {
   "cell_type": "code",
   "execution_count": null,
   "metadata": {},
   "outputs": [],
   "source": [
    "if rows:\n",
    "    data = Table(list(map(list, zip(*rows))),\n",
    "                             names=['TARGETID', 'TARGET_RA', 'TARGET_DEC', 'TILEID', 'NIGHT', 'Z', 'ZERR', 'ZWARN', 'DELTACHI2', 'FLUX_Z', 'BGS_TARGET', 'EBV', 'MWS_TARGET','FILENAME'])\n",
    "data[:5] "
   ]
  },
  {
   "attachments": {},
   "cell_type": "markdown",
   "metadata": {},
   "source": [
    "basic data clean up:"
   ]
  },
  {
   "cell_type": "code",
   "execution_count": null,
   "metadata": {},
   "outputs": [],
   "source": [
    "data = data[data['ZWARN']==0]\n",
    "data = data[data['Z']>=0]\n",
    "data = data[data['FLUX_Z']>0]\n",
    "data = table.unique(data, keys = \"TARGETID\")"
   ]
  },
  {
   "attachments": {},
   "cell_type": "markdown",
   "metadata": {},
   "source": [
    "calculate the healpix id for every object in the catalog and its probability; then append this data to the Table"
   ]
  },
  {
   "cell_type": "code",
   "execution_count": 27,
   "metadata": {},
   "outputs": [
    {
     "ename": "NameError",
     "evalue": "name 'data' is not defined",
     "output_type": "error",
     "traceback": [
      "\u001b[0;31m---------------------------------------------------------------------------\u001b[0m",
      "\u001b[0;31mNameError\u001b[0m                                 Traceback (most recent call last)",
      "\u001b[1;32m/Users/juliusgassert/Desktop/Studium/LMU/Physik/BA/LIGO DESI GW Follow Up/ligo-desi-gw-follow-up/Galaxy Selection/Galaxy_Selector_MOC.ipynb Zelle 18\u001b[0m in \u001b[0;36m<cell line: 8>\u001b[0;34m()\u001b[0m\n\u001b[1;32m      <a href='vscode-notebook-cell:/Users/juliusgassert/Desktop/Studium/LMU/Physik/BA/LIGO%20DESI%20GW%20Follow%20Up/ligo-desi-gw-follow-up/Galaxy%20Selection/Galaxy_Selector_MOC.ipynb#X25sZmlsZQ%3D%3D?line=3'>4</a>\u001b[0m index \u001b[39m=\u001b[39m ipix\u001b[39m*\u001b[39m(\u001b[39m2\u001b[39m\u001b[39m*\u001b[39m\u001b[39m*\u001b[39m(max_level\u001b[39m-\u001b[39mlevel))\u001b[39m*\u001b[39m\u001b[39m*\u001b[39m\u001b[39m2\u001b[39m\n\u001b[1;32m      <a href='vscode-notebook-cell:/Users/juliusgassert/Desktop/Studium/LMU/Physik/BA/LIGO%20DESI%20GW%20Follow%20Up/ligo-desi-gw-follow-up/Galaxy%20Selection/Galaxy_Selector_MOC.ipynb#X25sZmlsZQ%3D%3D?line=5'>6</a>\u001b[0m sorter \u001b[39m=\u001b[39m np\u001b[39m.\u001b[39margsort(index)\n\u001b[0;32m----> <a href='vscode-notebook-cell:/Users/juliusgassert/Desktop/Studium/LMU/Physik/BA/LIGO%20DESI%20GW%20Follow%20Up/ligo-desi-gw-follow-up/Galaxy%20Selection/Galaxy_Selector_MOC.ipynb#X25sZmlsZQ%3D%3D?line=7'>8</a>\u001b[0m match_ipix \u001b[39m=\u001b[39m ah\u001b[39m.\u001b[39mlonlat_to_healpix(data[\u001b[39m\"\u001b[39m\u001b[39mRA\u001b[39m\u001b[39m\"\u001b[39m], data[\u001b[39m\"\u001b[39m\u001b[39mDEC\u001b[39m\u001b[39m\"\u001b[39m], max_nside, order\u001b[39m=\u001b[39m\u001b[39m'\u001b[39m\u001b[39mnested\u001b[39m\u001b[39m'\u001b[39m)\n\u001b[1;32m     <a href='vscode-notebook-cell:/Users/juliusgassert/Desktop/Studium/LMU/Physik/BA/LIGO%20DESI%20GW%20Follow%20Up/ligo-desi-gw-follow-up/Galaxy%20Selection/Galaxy_Selector_MOC.ipynb#X25sZmlsZQ%3D%3D?line=9'>10</a>\u001b[0m i \u001b[39m=\u001b[39m sorter[np\u001b[39m.\u001b[39msearchsorted(index, match_ipix, side\u001b[39m=\u001b[39m\u001b[39m'\u001b[39m\u001b[39mright\u001b[39m\u001b[39m'\u001b[39m, sorter\u001b[39m=\u001b[39msorter) \u001b[39m-\u001b[39m \u001b[39m1\u001b[39m]\n\u001b[1;32m     <a href='vscode-notebook-cell:/Users/juliusgassert/Desktop/Studium/LMU/Physik/BA/LIGO%20DESI%20GW%20Follow%20Up/ligo-desi-gw-follow-up/Galaxy%20Selection/Galaxy_Selector_MOC.ipynb#X25sZmlsZQ%3D%3D?line=11'>12</a>\u001b[0m probs \u001b[39m=\u001b[39m skymap[i][\u001b[39m'\u001b[39m\u001b[39mPROBDENSITY\u001b[39m\u001b[39m'\u001b[39m]\u001b[39m.\u001b[39mto_value(u\u001b[39m.\u001b[39mdeg\u001b[39m*\u001b[39m\u001b[39m*\u001b[39m\u001b[39m-\u001b[39m\u001b[39m2\u001b[39m)\n",
      "\u001b[0;31mNameError\u001b[0m: name 'data' is not defined"
     ]
    }
   ],
   "source": [
    "max_level = 29 # highest possible HEALPix resolution that can be represented in a 64-bit signed integer\n",
    "max_nside = ah.level_to_nside(max_level)\n",
    "level, ipix = ah.uniq_to_level_ipix(skymap[\"UNIQ\"])\n",
    "index = ipix*(2**(max_level-level))**2\n",
    "\n",
    "sorter = np.argsort(index)\n",
    "\n",
    "match_ipix = ah.lonlat_to_healpix(data[\"RA\"], data[\"DEC\"], max_nside, order='nested')\n",
    "\n",
    "i = sorter[np.searchsorted(index, match_ipix, side='right', sorter=sorter) - 1]\n",
    "\n",
    "probs = skymap[i]['PROBDENSITY'].to_value(u.deg**-2)"
   ]
  },
  {
   "cell_type": "code",
   "execution_count": 26,
   "metadata": {},
   "outputs": [
    {
     "data": {
      "text/plain": [
       "(<Longitude 3.39124803 rad>, <Latitude -0.31166161 rad>)"
      ]
     },
     "execution_count": 26,
     "metadata": {},
     "output_type": "execute_result"
    }
   ],
   "source": [
    "ra,dec"
   ]
  },
  {
   "cell_type": "code",
   "execution_count": null,
   "metadata": {},
   "outputs": [],
   "source": [
    "data = hstack([dat, Table({\"UNIQ\"})])"
   ]
  }
 ],
 "metadata": {
  "kernelspec": {
   "display_name": "Python 3",
   "language": "python",
   "name": "python3"
  },
  "language_info": {
   "codemirror_mode": {
    "name": "ipython",
    "version": 3
   },
   "file_extension": ".py",
   "mimetype": "text/x-python",
   "name": "python",
   "nbconvert_exporter": "python",
   "pygments_lexer": "ipython3",
   "version": "3.9.13"
  },
  "orig_nbformat": 4
 },
 "nbformat": 4,
 "nbformat_minor": 2
}
