{
 "cells": [
  {
   "cell_type": "markdown",
   "id": "d45f9223",
   "metadata": {},
   "source": [
    "# Simulated Annealing to find the optimal observing schedule for optical follow-up observations from LIGO\n",
    "\n",
    "This notebook employs simulated annealing, in order to optimize the observing schedule for (in this case) optical follow-up observations of LIGO GW-data. We are doing the following steps:\n",
    "\n",
    "- Import all necessary libraries & define some constants\n",
    "- Define all functions\n",
    "- start the simulated annealing and determine the optimal schedule\n",
    "\n",
    "The general idea is to minimize \"energy\" of a boltzman-statistical energy probability distribution function: $$p(E_j) \\propto \\exp\\left(-\\frac{E_j-E_i}{c\\cdot T}\\right)$$In our case we want to minimize the observing time. We therefore start with an observing plan and iteratively change it (\"atomic change\", i.e. swap two rows). Within each iteration we calculate the \"energy\" of the new plan and if the energy and therefore an energy dependant acceptance probability is higher than a random number, we continue with the new observing schedule. By lowering the temperature we find with an increasing probability the minimal energy state, i.e. the best observing plan"
   ]
  },
  {
   "cell_type": "markdown",
   "id": "077da754",
   "metadata": {
    "tags": []
   },
   "source": [
    "## Imports and initial variables\n",
    "\n",
    "We import the needed packages, set the observatory location, specify the path to the object list and the starting and ending time of the observing night. "
   ]
  },
  {
   "cell_type": "code",
   "execution_count": 26,
   "id": "96331d62",
   "metadata": {},
   "outputs": [
    {
     "name": "stdout",
     "output_type": "stream",
     "text": [
      "We have chosen 2023-05-20T00:30:00.000 UTC as our starting time of observations and 2023-05-20T05:30:00.000 UTC as our ending time.\n",
      "In julian time we have: 2460084.5208333335 and 2460084.7291666665\n"
     ]
    }
   ],
   "source": [
    "# top-down code to plan observing schedule for a LIGO event\n",
    "\n",
    "import numpy as np\n",
    "import pandas as pd\n",
    "\n",
    "from astropy.coordinates import SkyCoord, EarthLocation, AltAz\n",
    "from astropy.time import Time, TimeDelta\n",
    "from astropy import units as u\n",
    "\n",
    "from tqdm import tqdm\n",
    "\n",
    "def conv_to_deg(deg, arcmin, arcsec):\n",
    "    return (deg+ arcmin/60+ arcsec/3600)*u.deg\n",
    "\n",
    "# cross-check values from Ananya/Arno/Juliana\n",
    "Wendelstein_loc = EarthLocation(lat = conv_to_deg(47, 42, 13.1), lon = conv_to_deg(12, 0, 43.4), height = 1838*u.m)\n",
    "\n",
    "# define average telescope speed in deg/sec\n",
    "v_dome = 2*u.deg/(1*u.second)\n",
    "v_tel_az = 3.6*u.deg/(1*u.second)\n",
    "v_tel_alt = 3.0*u.deg/(1*u.second)\n",
    "\n",
    "\n",
    "superevent_name = \"S230601bf\"\n",
    "target_filename = f\"PGAL/PGAL{superevent_name}_.ecsv\"\n",
    "\n",
    "starting_time = '2023-05-19T22:30:00'\n",
    "ending_time = '2023-05-20T03:30:00'\n",
    "\n",
    "starting_time = Time(starting_time, format = 'isot', scale='utc')\n",
    "ending_time = Time(ending_time, format = 'isot', scale='utc')\n",
    "\n",
    "utc_offset = TimeDelta(2*60*60, format = \"sec\")\n",
    "\n",
    "starting_time = starting_time + utc_offset\n",
    "ending_time = ending_time + utc_offset\n",
    "\n",
    "starting_time_jd = starting_time.jd\n",
    "ending_time_jd = ending_time.jd\n",
    "\n",
    "print(f\"We have chosen {starting_time} UTC as our starting time of observations and {ending_time} UTC as our ending time.\")\n",
    "print(f\"In julian time we have: {starting_time_jd} and {ending_time_jd}\")"
   ]
  },
  {
   "cell_type": "markdown",
   "id": "db47f2aa",
   "metadata": {},
   "source": [
    "## Define the basic functions"
   ]
  },
  {
   "cell_type": "markdown",
   "id": "4f424b8c",
   "metadata": {
    "jp-MarkdownHeadingCollapsed": true,
    "tags": []
   },
   "source": [
    "### Reading a target list\n",
    "\n",
    "The target list is a .csv file that contains RA, DEC, Sersic fit, redshift and probability of being the host galaxy. With this function one can read this file and make some necessary but simple changes for our further usage: we rename the columns and add SkyCoord objects to the list, which will come in handy later on when calculating the Alt and Az of each object."
   ]
  },
  {
   "cell_type": "code",
   "execution_count": 2,
   "id": "39acbe29",
   "metadata": {},
   "outputs": [
    {
     "name": "stdout",
     "output_type": "stream",
     "text": [
      "Reading csv table...\n",
      "Adding SkyCoords to it...\n",
      "Finished, now returning pandas df\n"
     ]
    }
   ],
   "source": [
    "\n",
    "def read_target_list(filename):\n",
    "\n",
    "    \"\"\"\n",
    "    Function to read a target list from a .csv file and add the SkyCoord objects as a new column. \\n\n",
    "    It further renames the columns \"TARGET_RA\" and \"TARGET_DEC\" to \"RA\" and \"dec\"\n",
    " \n",
    "    Parameters\n",
    "    ----------\n",
    "\n",
    "    filename: str\n",
    "        filename is the path specifying where to get the target list as a .csv file from\n",
    "\n",
    "    Returns\n",
    "    -------\n",
    "\n",
    "    file: pd.DataFrame\n",
    "        target list containing the .csv files information and the added SkyCoords as a pandas data frame object\n",
    "    \"\"\"\n",
    "\n",
    "    # read from a file\n",
    "    print(\"Reading csv table...\")\n",
    "    file = pd.read_csv(filename)\n",
    "    \n",
    "    # rename columns\n",
    "    file = file.rename(columns = {\"TARGET_RA\": \"RA\", \"TARGET_DEC\": \"dec\"})\n",
    "\n",
    "    # calculate and add SkyCoords for AltAz calculation later\n",
    "    print(\"Adding SkyCoords to it...\")\n",
    "    sky_coords = SkyCoord(file[\"RA\"], file[\"dec\"], unit = \"deg\")\n",
    "\n",
    "    file[\"SKY_COORD\"] = sky_coords\n",
    "    \n",
    "    #return the pandas dataframe (i.e. the unmodified initial target list)\n",
    "    print(\"Finished, now returning pandas df\")\n",
    "    return file\n",
    "\n",
    "target_list = read_target_list(target_filename)"
   ]
  },
  {
   "cell_type": "markdown",
   "id": "2269d00e",
   "metadata": {
    "jp-MarkdownHeadingCollapsed": true,
    "tags": []
   },
   "source": [
    "### Initialize the observing plan\n",
    "\n",
    "We have to start with some plan, so we take out all objects with a declination that Wendelstein can never reach (-20deg and below) and return the target list.\n",
    "\n",
    "*Note: We initially thought to calculate the Alt and Az for each object, but this is not a useful thing, since the observation time is variable in our algorithm and using a set time therefore does not make any sense.*"
   ]
  },
  {
   "cell_type": "code",
   "execution_count": 3,
   "id": "985a0ffb",
   "metadata": {},
   "outputs": [],
   "source": [
    "def initialize_observing_plan(target_list):\n",
    "\n",
    "        \"\"\"\"\n",
    "        Initialize the observing plan, which means (for now simply):\n",
    "                - delete objects with a declination less or equal to -20 degrees, since Wendelstein can never observe that\n",
    "\n",
    "        Parameters\n",
    "        ----------\n",
    "\n",
    "        target_list: pd.DataFrame\n",
    "                a target list as a pandas dataframe containing RA, dec, sersic, redshift and probability (and SkyCoords)\n",
    "        \n",
    "        Returns\n",
    "        -------\n",
    "        target_list: pd.DataFrame\n",
    "                target list after \"clean up\"\n",
    "        \n",
    "\n",
    "        \"\"\"\n",
    "\n",
    "        # delete all entries with dec lower than -20°, since Wendelstein can't observe that\n",
    "        target_list = target_list[target_list[\"dec\"]> -20]\n",
    "\n",
    "        # return modified target_list\n",
    "        return target_list\n",
    "\n",
    "initial_observing_plan = initialize_observing_plan(target_list)"
   ]
  },
  {
   "cell_type": "markdown",
   "id": "27926195",
   "metadata": {
    "jp-MarkdownHeadingCollapsed": true,
    "tags": []
   },
   "source": [
    "### Change plan\n",
    "\n",
    "We define our plan change function, which simply exchanges two rows on a random basis and returns this new plan"
   ]
  },
  {
   "cell_type": "code",
   "execution_count": 4,
   "id": "67b4bbd4",
   "metadata": {},
   "outputs": [],
   "source": [
    "def change_plan(plan):\n",
    "\n",
    "    \"\"\"\n",
    "    Randomly picks two rows to be interchanged in the observing plan (\"atomic change\")\n",
    "\n",
    "    Parameters:\n",
    "    plan: pd.DataFrame\n",
    "        a observation plan that is to be modified\n",
    "\n",
    "    Returns:\n",
    "    --------\n",
    "\n",
    "    pd.DataFrame: plan\n",
    "        return the modified plan \n",
    "    \n",
    "    \"\"\"\n",
    "\n",
    "    # get the plan length to know the range for choosing random numbers as row changes\n",
    "    plan_len = len(plan)\n",
    "\n",
    "    # pick the random numbers in the according range\n",
    "    rnd1, rnd2 = np.random.randint(0,plan_len), np.random.randint(0,plan_len)\n",
    "\n",
    "    # get the original rows\n",
    "    row1, row2 = plan.iloc[rnd1].copy(), plan.iloc[rnd2].copy()\n",
    "\n",
    "    # interchange the rows\n",
    "    plan.iloc[rnd1], plan.iloc[rnd2] = row2, row1\n",
    "    \n",
    "    #return the modified plan\n",
    "    return plan"
   ]
  },
  {
   "cell_type": "markdown",
   "id": "c8b4b99b",
   "metadata": {
    "tags": []
   },
   "source": [
    "### Calculate the slewing time of the telescope\n",
    "\n",
    "We calculate the angular seperation and from there get the time needed to slew from one object to another"
   ]
  },
  {
   "cell_type": "code",
   "execution_count": 5,
   "id": "4e837c1a",
   "metadata": {},
   "outputs": [],
   "source": [
    "def slewing_time(ra1, dec1, ra2, dec2, time):\n",
    "\n",
    "    \"\"\"\n",
    "    Calculate the slewing time based on its angular seperation between two targets with a specified RA and dec:\n",
    "    \n",
    "    Quoting from e-mail (Arno Riffeser, Christoph Riess,...):\n",
    "    'In the meantime I would calculate the total time, by calculating the time for the dome, \n",
    "    then adding the time for the telescope-Az and finally adding the time for the Alt:\n",
    "    Dome-Az ~= 2.0 deg/sec\n",
    "    Tel-Az  ~= 3.6 deg/sec\n",
    "    Tel-Alt ~= 3.0 deg/sec'\n",
    "\n",
    "    Parameters\n",
    "    ----------\n",
    "        ra1: int/float\n",
    "            right ascension of target one\n",
    "        dec1: int/float\n",
    "            declination of target one\n",
    "        ra2: int/float\n",
    "            right ascension of target one\n",
    "        dec2: int/float\n",
    "            declination of target one\n",
    "    \n",
    "    Returns\n",
    "    -------\n",
    "        slewing time: float (unit: seconds)\n",
    "            the time in seconds the telescope needs to move from one target to the second\n",
    "    \"\"\"\n",
    "    \"\"\"\n",
    "    # get SkyCoord object and then calculate target ra and dec\n",
    "    current_SkyCoord = SkyCoord(ra1, dec1, unit = \"deg\")\n",
    "    target_SkyCoord = SkyCoord(ra2, dec2, unit = \"deg\")\n",
    "    \n",
    "    target_AltAz = target_SkyCoord.transform_to(AltAz(obstime = time, location = Wendelstein_loc))\n",
    "    current_AltAz = current_SkyCoord.transform_to(AltAz(obstime = time, location = Wendelstein_loc))\n",
    "    \n",
    "    # calculate the distances in degrees...\n",
    "    delta_alt, delta_az = abs(target_AltAz.alt.to_value()-current_AltAz.alt.to_value())*u.deg, abs(target_AltAz.az.to_value() - current_AltAz.az.to_value())*u.deg\n",
    "    \n",
    "    # calculate the times\n",
    "    t_dome = delta_az/v_dome\n",
    "    t_tel_alt = delta_alt/v_tel_alt\n",
    "    t_tel_az = delta_az/v_tel_az\n",
    "    \"\"\"\n",
    "    t_dome = abs(ra2-ra1)*u.deg/v_dome\n",
    "    t_tel_alt = abs(dec2-dec1)*u.deg/v_tel_alt\n",
    "    t_tel_az = abs(ra2-ra1)*u.deg/v_tel_az\n",
    "    \n",
    "    # add them together\n",
    "    t_tot = t_dome + t_tel_alt + t_tel_az\n",
    "    \n",
    "    # and return the time\n",
    "    return t_tot\n",
    "\n",
    "    # turn the ra and dec values from degrees to radians\n",
    "    # ra1, dec1, ra2, dec2 = np.deg2rad([ra1, dec1, ra2, dec2])\n",
    "    \n",
    "\n",
    "    # calculate the angular seperation in degrees\n",
    "    # NOTE: the max and min check is to ensure that any computaion error leading to 1.00000000001 for example does not result in a math error in the arccos\n",
    "    # this seems to be a too optimistic way\n",
    "    \"\"\"sep_arg = np.sin(dec1)*np.sin(dec2) + np.cos(dec1)*np.cos(dec2)*np.cos(ra1-ra2)\n",
    "    sep_arg = max(-1, sep_arg)\n",
    "    sep_arg = min(1, sep_arg)\n",
    "    angular_seperation = np.rad2deg(np.arccos(sep_arg))*u.deg\n",
    "\n",
    "    #return the slewing time\n",
    "    return angular_seperation/v_telescope\"\"\"\n",
    "    \n",
    "    "
   ]
  },
  {
   "cell_type": "markdown",
   "id": "3005629c",
   "metadata": {
    "jp-MarkdownHeadingCollapsed": true,
    "tags": []
   },
   "source": [
    "### Print the observation plan and the according schedule including alt and az data"
   ]
  },
  {
   "cell_type": "code",
   "execution_count": 6,
   "id": "ed25cb0b",
   "metadata": {},
   "outputs": [],
   "source": [
    "def print_observing_plan(plan, schedule):\n",
    "\n",
    "    \"\"\"\n",
    "    print the plan and schedule\n",
    "\n",
    "    Parameters\n",
    "    ----------\n",
    "        plan: pd.DataFrame\n",
    "            the plan table that includes RA, dec, sersic, redshift, probability (and SkyCoords)\n",
    "        schedule: dictionary\n",
    "            the observation schedule including Alt and Az\n",
    "    \"\"\"\n",
    "\n",
    "    print(f\"Our observation plan is \\n {plan}\")\n",
    "    print()\n",
    "    print(f\"With the following schedule: \\n {pd.DataFrame(schedule)}\")"
   ]
  },
  {
   "cell_type": "markdown",
   "id": "189d33db",
   "metadata": {
    "jp-MarkdownHeadingCollapsed": true,
    "tags": []
   },
   "source": [
    "### Calculate the required exposure time for each object"
   ]
  },
  {
   "cell_type": "code",
   "execution_count": 7,
   "id": "e2f4be5f",
   "metadata": {},
   "outputs": [],
   "source": [
    "def determine_required_exposure_time(target, starting_time):\n",
    "\n",
    "    # what?\n",
    "    \n",
    "    return 50*u.second # + readout time # Ananya's"
   ]
  },
  {
   "cell_type": "markdown",
   "id": "3f95c63d",
   "metadata": {
    "tags": []
   },
   "source": [
    "## Simulated Annealing process\n",
    "\n",
    "This is divided into two main steps:\n",
    "- evualuate a plan\n",
    "- iterate through many plans and lower the \"temperature\" to accept only energetically preferable \"states\" (i.e. plans)"
   ]
  },
  {
   "cell_type": "markdown",
   "id": "2b453289",
   "metadata": {
    "tags": []
   },
   "source": [
    "### Evaluate a plan\n",
    "\n",
    "Here we evaluate a plan, which means we iterate through the plans target list/ranking and calculate an energy according to:\n",
    "$$p*\\left(\\frac{T_{end}-T_{curr}}{T_{end}-T_{start}}\\right)^\\alpha$$\n",
    "- p: the probability of each object determined by Galaxy_Selector_MOC.ipynb\n",
    "- T_{end}: the ending time of observation for that night\n",
    "- T_{curr}: the current time in the sim annealing process\n",
    "- T_{start}: starting time of observation\n",
    "- \\alpha: exponent to increase severance of timing optimization\n",
    "\n",
    "We include two steps to check for observability:\n",
    "1. Observed before sun rises?\n",
    "2. Above horizon?\n",
    "\n",
    "If it does not pass 1., we simply set an entry in the schedule for \"not observed\" and continue. In the latter case we do the following: if it is not observable due to the sky position, we just don't add any energy at all. Otherwise, i.e. if its observable by time and position we add the energy as stated above.\n",
    "\n",
    "Further steps are to update the plan by changing the relevant times and targeting info."
   ]
  },
  {
   "cell_type": "code",
   "execution_count": 8,
   "id": "2bacceb7",
   "metadata": {},
   "outputs": [],
   "source": [
    "def evaluate_plan(plan, starting_time, ending_time, alpha=4):\n",
    "\n",
    "    \"\"\"\n",
    "    Evaluate a single plan according to energy = sum_i p_i ((t_end - tobs_i)/(t_end - t_begin))^alpha.\n",
    "    We also include observability checks and \"punish\" plans that have objects below the horizon.\n",
    "\n",
    "    Parameters\n",
    "    ----------\n",
    "        plan: pd.DataFrame\n",
    "            the to be evaluated observation plan\n",
    "        starting_time: Time (from astropy.time)\n",
    "            starting time for observations of the night\n",
    "        ending_time: Time (from astropy.time)\n",
    "            ending time for observations of the night\n",
    "        alpha (optional): float/int\n",
    "            exponent to change prioritization of getting things done quickyl\n",
    "    \n",
    "    Returns\n",
    "    -------\n",
    "        energy: float\n",
    "            the \"energy\" this schedule has\n",
    "        schedule: dict\n",
    "            the schedule dictionary containing whether an object has been ovserved, start and ending time and AltAz\n",
    "    \"\"\"\n",
    "    \n",
    "    #print(\"starting plan evaluation...\")\n",
    "\n",
    "    # set the initial values from the first item in the plan\n",
    "    current_time = starting_time\n",
    "    current_RA = plan['RA'][0]\n",
    "    current_dec = plan['dec'][0]\n",
    "\n",
    "    energy = 0  # we start with zero energy...\n",
    "    \n",
    "    schedule = []\n",
    "    \n",
    "    # iterate through each object in the plan\n",
    "    for index, target in plan.iterrows():\n",
    "\n",
    "        #print(\"our current target is: \", target)\n",
    "\n",
    "        # calculate slewing and exposure time for this target\n",
    "        # now this isn't perfect, since we don't know the exact slewing time and therefore don't \"really\" know alt and az\n",
    "        # however, the error should be very small, therefore we just take the current time\n",
    "        slew_time  = slewing_time(current_RA, current_dec, target['RA'],target['dec'], current_time)\n",
    "        exposure_time = determine_required_exposure_time(target,current_time)\n",
    "\n",
    "        if(current_time + slew_time + exposure_time < ending_time) : # we can observe this target (concerning the timing)\n",
    "\n",
    "            # create an empty dictionary to store the following values...\n",
    "            schedule_entry = {}\n",
    "\n",
    "            # we say we observed this object, calculate the starting time of observation and add the needed exposure time all to the dict\n",
    "            schedule_entry['observed'] = True\n",
    "            schedule_entry['starting_time'] = current_time + slew_time\n",
    "            schedule_entry['exposure_time'] = exposure_time\n",
    "\n",
    "            # we further get altitude and azimuth to check observability and add it to schedule entry list as well\n",
    "            target_AltAz = target[\"SKY_COORD\"].transform_to(AltAz(obstime = current_time, location = Wendelstein_loc))\n",
    "            schedule_entry['Alt'] = target_AltAz.alt.to_value()\n",
    "            schedule_entry['Az'] = target_AltAz.az.to_value()\n",
    "\n",
    "            # add this entry to the complete list\n",
    "            schedule.append(schedule_entry)\n",
    "\n",
    "            # update the current time\n",
    "            current_time += slew_time + exposure_time # wrong place for this\n",
    "\n",
    "            # if the object is observable (now location check), we add the energy, otherwise we don't add energy\n",
    "            if target_AltAz.alt.to_value() > 0 and target_AltAz.alt.to_value() < 90:         \n",
    "                energy += target['P_GAL']*((ending_time - current_time)/(ending_time - starting_time))**alpha\n",
    "            else:\n",
    "                unobservable_time = ending_time + utc_offset\n",
    "                energy -= abs(target['P_GAL']*((ending_time - unobservable_time)/(ending_time - starting_time))**alpha)\n",
    "            \n",
    "            # update the sky location\n",
    "            current_RA = target['RA']\n",
    "            current_dec = target['dec']\n",
    "        \n",
    "        # since we can't observe the object before sunrise, add a negative schedule entry to the schedule list\n",
    "        else:\n",
    "            schedule_entry = {}\n",
    "            schedule_entry['observed'] = False\n",
    "            schedule.append(schedule_entry)\n",
    "\n",
    "    # return the energy of this particular schedule and the schedule itself     \n",
    "    return energy,schedule\n"
   ]
  },
  {
   "cell_type": "markdown",
   "id": "2f0e18d7",
   "metadata": {
    "tags": []
   },
   "source": [
    "### Simulated Annealing iteration and plan acceptance\n",
    "\n",
    "This is the part where we iterate through many schedules and decide which to use as explained at the beginning."
   ]
  },
  {
   "cell_type": "code",
   "execution_count": 9,
   "id": "c22c6ac1",
   "metadata": {},
   "outputs": [
    {
     "name": "stdout",
     "output_type": "stream",
     "text": [
      "initial plan evaluation\n",
      "             RA        dec    SERSIC         Z     P_GAL   \n",
      "0    116.797180  26.345027  0.000000  0.556363  0.000336  \\\n",
      "1    166.354677  62.741650  0.000000  0.536094  0.000290   \n",
      "2    168.482449  63.329146  0.000000  0.535740  0.000279   \n",
      "3    130.185077  36.557731  0.000000  0.675753  0.000245   \n",
      "4    132.497955  43.279633  0.000000  0.691388  0.000242   \n",
      "..          ...        ...       ...       ...       ...   \n",
      "195  120.553200  33.767309  4.000000  0.621204  0.000066   \n",
      "196  120.874287  33.029712  0.500000  0.550867  0.000066   \n",
      "197  142.010972  54.013706  4.000000  0.651399  0.000066   \n",
      "198  148.517134  58.293208  1.000000  0.569861  0.000066   \n",
      "199  145.140248  53.494119  3.030814  0.427489  0.000066   \n",
      "\n",
      "                                             SKY_COORD  \n",
      "0    <SkyCoord (ICRS): (ra, dec) in deg\\n    (116.7...  \n",
      "1    <SkyCoord (ICRS): (ra, dec) in deg\\n    (166.3...  \n",
      "2    <SkyCoord (ICRS): (ra, dec) in deg\\n    (168.4...  \n",
      "3    <SkyCoord (ICRS): (ra, dec) in deg\\n    (130.1...  \n",
      "4    <SkyCoord (ICRS): (ra, dec) in deg\\n    (132.4...  \n",
      "..                                                 ...  \n",
      "195  <SkyCoord (ICRS): (ra, dec) in deg\\n    (120.5...  \n",
      "196  <SkyCoord (ICRS): (ra, dec) in deg\\n    (120.8...  \n",
      "197  <SkyCoord (ICRS): (ra, dec) in deg\\n    (142.0...  \n",
      "198  <SkyCoord (ICRS): (ra, dec) in deg\\n    (148.5...  \n",
      "199  <SkyCoord (ICRS): (ra, dec) in deg\\n    (145.1...  \n",
      "\n",
      "[200 rows x 6 columns]\n"
     ]
    },
    {
     "name": "stderr",
     "output_type": "stream",
     "text": [
      " 73%|███████▎  | 734/1000 [13:18<04:55,  1.11s/it]/global/homes/j/jgassert/.conda/envs/MambaTest/lib/python3.10/site-packages/astropy/units/quantity.py:673: RuntimeWarning: overflow encountered in exp\n",
      "  result = super().__array_ufunc__(function, method, *arrays, **kwargs)\n",
      "100%|██████████| 1000/1000 [18:18<00:00,  1.10s/it]"
     ]
    },
    {
     "name": "stdout",
     "output_type": "stream",
     "text": [
      "Our observation plan is \n",
      "              RA        dec    SERSIC         Z     P_GAL   \n",
      "0    125.318702  38.165339  6.000000  0.599953  0.000067  \\\n",
      "1    160.345370  55.730637  1.000000  0.571014  0.000080   \n",
      "2    117.161584  28.857855  5.953829  0.493428  0.000097   \n",
      "3    131.197237  44.830783  6.000000  0.656502  0.000078   \n",
      "4    141.556393  46.596693  1.306107  0.672823  0.000116   \n",
      "..          ...        ...       ...       ...       ...   \n",
      "195  146.832250  55.453471  5.021518  0.666013  0.000179   \n",
      "196  132.968486  45.111658  6.000000  0.502977  0.000210   \n",
      "197  150.634666  57.993739  1.000000  0.515006  0.000078   \n",
      "198  124.544245  31.828859  5.713471  0.444358  0.000068   \n",
      "199  149.733008  56.434831  5.877820  0.574965  0.000070   \n",
      "\n",
      "                                             SKY_COORD  \n",
      "0    <SkyCoord (ICRS): (ra, dec) in deg\\n    (125.3...  \n",
      "1    <SkyCoord (ICRS): (ra, dec) in deg\\n    (160.3...  \n",
      "2    <SkyCoord (ICRS): (ra, dec) in deg\\n    (117.1...  \n",
      "3    <SkyCoord (ICRS): (ra, dec) in deg\\n    (131.1...  \n",
      "4    <SkyCoord (ICRS): (ra, dec) in deg\\n    (141.5...  \n",
      "..                                                 ...  \n",
      "195  <SkyCoord (ICRS): (ra, dec) in deg\\n    (146.8...  \n",
      "196  <SkyCoord (ICRS): (ra, dec) in deg\\n    (132.9...  \n",
      "197  <SkyCoord (ICRS): (ra, dec) in deg\\n    (150.6...  \n",
      "198  <SkyCoord (ICRS): (ra, dec) in deg\\n    (124.5...  \n",
      "199  <SkyCoord (ICRS): (ra, dec) in deg\\n    (149.7...  \n",
      "\n",
      "[200 rows x 6 columns]\n",
      "\n",
      "With the following schedule: \n",
      "      observed            starting_time exposure_time        Alt          Az\n",
      "0        True  2023-05-20T00:30:00.000        50.0 s -12.339582  323.886182\n",
      "1        True  2023-05-20T00:31:19.492        50.0 s  21.566489  320.402127\n",
      "2        True  2023-05-20T00:32:20.324        50.0 s  31.875717  322.677264\n",
      "3        True  2023-05-20T00:33:18.649        50.0 s  24.630121  322.278394\n",
      "4        True  2023-05-20T00:34:09.668        50.0 s  26.090412  324.267234\n",
      "..        ...                      ...           ...        ...         ...\n",
      "195      True  2023-05-20T04:18:57.982        50.0 s  20.558199  347.107487\n",
      "196      True  2023-05-20T04:19:53.689        50.0 s  17.980502  342.957536\n",
      "197      True  2023-05-20T04:20:56.528        50.0 s  15.024070  351.802040\n",
      "198      True  2023-05-20T04:21:52.149        50.0 s  12.029275  355.153893\n",
      "199      True  2023-05-20T04:23:09.786        50.0 s  26.536617  342.743257\n",
      "\n",
      "[200 rows x 5 columns]\n"
     ]
    },
    {
     "name": "stderr",
     "output_type": "stream",
     "text": [
      "\n"
     ]
    }
   ],
   "source": [
    "# define initial sim annealing parameters\n",
    "temperature  = 100\n",
    "cooling_rate = 0.95\n",
    "iterations   = 1000\n",
    "\n",
    "# copy the initial observing plan and display it to see what changes have been introduced\n",
    "current_observing_plan = initial_observing_plan.copy()\n",
    "print(\"initial plan evaluation\")\n",
    "print(current_observing_plan)\n",
    "\n",
    "# evaluate the first modified plan\n",
    "current_energy, current_schedule = evaluate_plan(current_observing_plan, starting_time, ending_time)\n",
    "\n",
    "# now iterate as often as specified above and change plans, evaluate and accept/not accept the plan\n",
    "for i in tqdm(range(iterations)):\n",
    "    #print(\"iteration \",i)\n",
    "    \n",
    "    # get a new plan and evaluate it\n",
    "    proposed_observing_plan = change_plan(current_observing_plan) # makes a random change\n",
    "    proposed_energy,proposed_schedule = evaluate_plan(proposed_observing_plan, starting_time, ending_time)\n",
    "    \n",
    "    # should we accept the new schedule?\n",
    "    acceptance_probability = np.exp(-(current_energy-proposed_energy)/temperature) # >1 if proposed_energy>current_energy - always accept an improvement\n",
    "    if(np.random.uniform(0,1)<acceptance_probability): # accept\n",
    "        #print(\"accepting new plan\")\n",
    "        #print(f\"acceptance_probability {acceptance_probability}, energy {current_energy}, proposed energy {proposed_energy} and temperature {temperature}\")\n",
    "\n",
    "        # if we accept the schedule, we update our variables accordingly\n",
    "        current_observing_plan = proposed_observing_plan\n",
    "        current_energy = proposed_energy\n",
    "        current_schedule = proposed_schedule\n",
    "        #print(current_observing_plan, current_schedule)\n",
    "        \n",
    "    temperature = temperature*cooling_rate\n",
    "\n",
    "#print(f\"acceptance_probability {acceptance_probability}, energy {current_energy}, proposed energy {proposed_energy} and temperature {temperature}\")\n",
    "\n",
    "# print the final observing plan and its schedule\n",
    "print_observing_plan(current_observing_plan, current_schedule)"
   ]
  },
  {
   "cell_type": "markdown",
   "id": "9751abce-ddc1-4e65-ad11-99f04424a6ae",
   "metadata": {},
   "source": [
    "## Download the first N_download image fits files from the LS survey for difference imaging"
   ]
  },
  {
   "cell_type": "code",
   "execution_count": 61,
   "id": "94cfec05-9b30-42ed-98c0-017b4a1e1b55",
   "metadata": {},
   "outputs": [
    {
     "name": "stdout",
     "output_type": "stream",
     "text": [
      "For a FOV of 0.5 deg and a pixel scale from LS of 7.277777777777778e-05 arcsec we need an image of size 8244 pixel to cover 1.2 times the FOV (i.e. 0.6 deg\n"
     ]
    }
   ],
   "source": [
    "import requests as rq\n",
    "import os\n",
    "\n",
    "from astropy.table import Table, hstack\n",
    "from astropy.io import fits\n",
    "\n",
    "\n",
    "N_download = 10\n",
    "\n",
    "FOV = 7*1/60 # FOV for 3kk, for WWFI change the 7 to a 30\n",
    "             # note: the FOV of WWFI (as the name \"wide-field-imager-suggests\") is so large that (assuming pixscale 0.262) we need ~8000 pixels and therefore the LS fits image is ~130mb large\n",
    "\n",
    "pixscale = 0.262*1/3600 #native pixscale from LS: https://www.legacysurvey.org/dr10/description/\n",
    "size = int(1.2*FOV/pixscale)\n",
    "\n",
    "print(f\"For a FOV of {FOV*u.deg} and a pixel scale from LS of {pixscale*u.arcsec} we need an image of size {size} pixel to cover 1.2 times the FOV (i.e. {1.2*FOV*u.deg})\")\n"
   ]
  },
  {
   "cell_type": "code",
   "execution_count": 22,
   "id": "15a27abb-4ead-4f0b-8c2b-9cffb4ccddbc",
   "metadata": {},
   "outputs": [],
   "source": [
    "obs_plan = Table.from_pandas(current_observing_plan)"
   ]
  },
  {
   "cell_type": "code",
   "execution_count": 59,
   "id": "23bf4873-474b-491c-b035-14972de1ad58",
   "metadata": {},
   "outputs": [],
   "source": [
    "newpath = r'/global/homes/j/jgassert/ligo-desi-gw-follow-up/Galaxy Selection/Follow-Up-Images/'\n",
    "newpath = newpath +superevent_name + \"/\"\n",
    "if not os.path.exists(newpath):\n",
    "    os.makedirs(newpath)"
   ]
  },
  {
   "cell_type": "code",
   "execution_count": 62,
   "id": "c599df97-cd77-4e6e-b447-f4d1fa847dfc",
   "metadata": {},
   "outputs": [
    {
     "name": "stderr",
     "output_type": "stream",
     "text": [
      "100%|██████████| 1/1 [00:09<00:00,  9.62s/it]\n"
     ]
    }
   ],
   "source": [
    "for target in tqdm(obs_plan[:1]):\n",
    "    #print(target)\n",
    "    RA, dec = target[\"RA\"], target[\"dec\"]\n",
    "    download_url = f\"https://www.legacysurvey.org/viewer/fits-cutout?ra={RA}&dec={dec}&layer=ls-dr10&pixscale={pixscale}&bands=griz&size={size}\"\n",
    "    #save_path = f\"Follow-Up-Images/{superevent_name}_{RA}_{dec}.fits\"\n",
    "    save_path = \"testfile.fits\"\n",
    "    \n",
    "    response = rq.get(download_url, allow_redirects = True)\n",
    "    if response.status_code == 200:\n",
    "        with open(save_path, 'wb') as f:\n",
    "            f.write(response.content)\n",
    "    else:\n",
    "        print(f\"download image fits file for object at RA {RA} and dec {dec} failed\")"
   ]
  },
  {
   "cell_type": "code",
   "execution_count": null,
   "id": "2c644980-9a00-4170-95c0-b6ad6c10308d",
   "metadata": {},
   "outputs": [],
   "source": []
  }
 ],
 "metadata": {
  "kernelspec": {
   "display_name": "NERSC Python",
   "language": "python",
   "name": "python3"
  },
  "language_info": {
   "codemirror_mode": {
    "name": "ipython",
    "version": 3
   },
   "file_extension": ".py",
   "mimetype": "text/x-python",
   "name": "python",
   "nbconvert_exporter": "python",
   "pygments_lexer": "ipython3",
   "version": "3.9.7"
  }
 },
 "nbformat": 4,
 "nbformat_minor": 5
}
