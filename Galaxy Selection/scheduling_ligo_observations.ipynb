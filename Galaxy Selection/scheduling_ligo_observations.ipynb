{
 "cells": [
  {
   "cell_type": "markdown",
   "id": "d45f9223",
   "metadata": {},
   "source": [
    "# Simulated Annealing to find the optimal observing schedule for optical follow-up observations from LIGO\n",
    "\n",
    "This notebook employs simulated annealing, in order to optimize the observing schedule for (in this case) optical follow-up observations of LIGO GW-data. We are doing the following steps:\n",
    "\n",
    "- Import all necessary libraries & define some constants\n",
    "- Define all functions\n",
    "- start the simulated annealing and determine the optimal schedule\n",
    "\n",
    "The general idea is to minimize \"energy\" of a boltzman-statistical energy probability distribution function: $$p(E_j) \\propto \\exp\\left(-\\frac{E_j-E_i}{c\\cdot T}\\right)$$In our case we want to minimize the observing time. We therefore start with an observing plan and iteratively change it (\"atomic change\", i.e. swap two rows). Within each iteration we calculate the \"energy\" of the new plan and if the energy and therefore an energy dependant acceptance probability is higher than a random number, we continue with the new observing schedule. By lowering the temperature we find with an increasing probability the minimal energy state, i.e. the best observing plan"
   ]
  },
  {
   "cell_type": "markdown",
   "id": "077da754",
   "metadata": {
    "tags": []
   },
   "source": [
    "## Imports and initial variables\n",
    "\n",
    "We import the needed packages, set the observatory location, specify the path to the object list and the starting and ending time of the observing night. "
   ]
  },
  {
   "cell_type": "code",
   "execution_count": 3,
   "id": "96331d62",
   "metadata": {},
   "outputs": [
    {
     "name": "stdout",
     "output_type": "stream",
     "text": [
      "We have chosen 2023-05-20T00:30:00.000 UTC as our starting time of observations and 2023-05-20T05:30:00.000 UTC as our ending time.\n",
      "In julian time we have: 2460084.5208333335 and 2460084.7291666665\n"
     ]
    }
   ],
   "source": [
    "# top-down code to plan observing schedule for a LIGO event\n",
    "\n",
    "import numpy as np\n",
    "import pandas as pd\n",
    "\n",
    "from astropy.coordinates import SkyCoord, EarthLocation, AltAz\n",
    "from astropy.time import Time, TimeDelta\n",
    "from astropy import units as u\n",
    "\n",
    "from tqdm import tqdm\n",
    "\n",
    "def conv_to_deg(deg, arcmin, arcsec):\n",
    "    return (deg+ arcmin/60+ arcsec/3600)*u.deg\n",
    "\n",
    "# cross-check values from Ananya/Arno/Juliana\n",
    "Wendelstein_loc = EarthLocation(lat = conv_to_deg(47, 42, 13.1), lon = conv_to_deg(12, 0, 43.4), height = 1838*u.m)\n",
    "\n",
    "# define average telescope speed in deg/sec\n",
    "v_dome = 2*u.deg/(1*u.second)\n",
    "v_tel_az = 3.6*u.deg/(1*u.second)\n",
    "v_tel_alt = 3.0*u.deg/(1*u.second)\n",
    "\n",
    "\n",
    "target_filename = \"PGAI_S230528a.ecsv\"\n",
    "\n",
    "starting_time = '2023-05-19T22:30:00'\n",
    "ending_time = '2023-05-20T03:30:00'\n",
    "\n",
    "starting_time = Time(starting_time, format = 'isot', scale='utc')\n",
    "ending_time = Time(ending_time, format = 'isot', scale='utc')\n",
    "\n",
    "utc_offset = TimeDelta(2*60*60, format = \"sec\")\n",
    "\n",
    "starting_time = starting_time + utc_offset\n",
    "ending_time = ending_time + utc_offset\n",
    "\n",
    "starting_time_jd = starting_time.jd\n",
    "ending_time_jd = ending_time.jd\n",
    "\n",
    "print(f\"We have chosen {starting_time} UTC as our starting time of observations and {ending_time} UTC as our ending time.\")\n",
    "print(f\"In julian time we have: {starting_time_jd} and {ending_time_jd}\")"
   ]
  },
  {
   "cell_type": "markdown",
   "id": "db47f2aa",
   "metadata": {},
   "source": [
    "## Define the basic functions"
   ]
  },
  {
   "cell_type": "markdown",
   "id": "4f424b8c",
   "metadata": {
    "jp-MarkdownHeadingCollapsed": true,
    "tags": []
   },
   "source": [
    "### Reading a target list\n",
    "\n",
    "The target list is a .csv file that contains RA, DEC, Sersic fit, redshift and probability of being the host galaxy. With this function one can read this file and make some necessary but simple changes for our further usage: we rename the columns and add SkyCoord objects to the list, which will come in handy later on when calculating the Alt and Az of each object."
   ]
  },
  {
   "cell_type": "code",
   "execution_count": 4,
   "id": "39acbe29",
   "metadata": {},
   "outputs": [
    {
     "name": "stdout",
     "output_type": "stream",
     "text": [
      "Reading csv table...\n"
     ]
    },
    {
     "ename": "FileNotFoundError",
     "evalue": "[Errno 2] No such file or directory: 'PGAL_S230528a.ecsv'",
     "output_type": "error",
     "traceback": [
      "\u001b[0;31m---------------------------------------------------------------------------\u001b[0m",
      "\u001b[0;31mFileNotFoundError\u001b[0m                         Traceback (most recent call last)",
      "\u001b[0;32m/tmp/ipykernel_39398/620142963.py\u001b[0m in \u001b[0;36m<module>\u001b[0;34m\u001b[0m\n\u001b[1;32m     35\u001b[0m     \u001b[0;32mreturn\u001b[0m \u001b[0mfile\u001b[0m\u001b[0;34m\u001b[0m\u001b[0;34m\u001b[0m\u001b[0m\n\u001b[1;32m     36\u001b[0m \u001b[0;34m\u001b[0m\u001b[0m\n\u001b[0;32m---> 37\u001b[0;31m \u001b[0mtarget_list\u001b[0m \u001b[0;34m=\u001b[0m \u001b[0mread_target_list\u001b[0m\u001b[0;34m(\u001b[0m\u001b[0mtarget_filename\u001b[0m\u001b[0;34m)\u001b[0m\u001b[0;34m\u001b[0m\u001b[0;34m\u001b[0m\u001b[0m\n\u001b[0m",
      "\u001b[0;32m/tmp/ipykernel_39398/620142963.py\u001b[0m in \u001b[0;36mread_target_list\u001b[0;34m(filename)\u001b[0m\n\u001b[1;32m     20\u001b[0m     \u001b[0;31m# read from a file\u001b[0m\u001b[0;34m\u001b[0m\u001b[0;34m\u001b[0m\u001b[0m\n\u001b[1;32m     21\u001b[0m     \u001b[0mprint\u001b[0m\u001b[0;34m(\u001b[0m\u001b[0;34m\"Reading csv table...\"\u001b[0m\u001b[0;34m)\u001b[0m\u001b[0;34m\u001b[0m\u001b[0;34m\u001b[0m\u001b[0m\n\u001b[0;32m---> 22\u001b[0;31m     \u001b[0mfile\u001b[0m \u001b[0;34m=\u001b[0m \u001b[0mpd\u001b[0m\u001b[0;34m.\u001b[0m\u001b[0mread_csv\u001b[0m\u001b[0;34m(\u001b[0m\u001b[0mfilename\u001b[0m\u001b[0;34m)\u001b[0m\u001b[0;34m\u001b[0m\u001b[0;34m\u001b[0m\u001b[0m\n\u001b[0m\u001b[1;32m     23\u001b[0m \u001b[0;34m\u001b[0m\u001b[0m\n\u001b[1;32m     24\u001b[0m     \u001b[0;31m# rename columns\u001b[0m\u001b[0;34m\u001b[0m\u001b[0;34m\u001b[0m\u001b[0m\n",
      "\u001b[0;32m/global/common/software/nersc/pm-2022q3/sw/python/3.9-anaconda-2021.11/lib/python3.9/site-packages/pandas/util/_decorators.py\u001b[0m in \u001b[0;36mwrapper\u001b[0;34m(*args, **kwargs)\u001b[0m\n\u001b[1;32m    309\u001b[0m                     \u001b[0mstacklevel\u001b[0m\u001b[0;34m=\u001b[0m\u001b[0mstacklevel\u001b[0m\u001b[0;34m,\u001b[0m\u001b[0;34m\u001b[0m\u001b[0;34m\u001b[0m\u001b[0m\n\u001b[1;32m    310\u001b[0m                 )\n\u001b[0;32m--> 311\u001b[0;31m             \u001b[0;32mreturn\u001b[0m \u001b[0mfunc\u001b[0m\u001b[0;34m(\u001b[0m\u001b[0;34m*\u001b[0m\u001b[0margs\u001b[0m\u001b[0;34m,\u001b[0m \u001b[0;34m**\u001b[0m\u001b[0mkwargs\u001b[0m\u001b[0;34m)\u001b[0m\u001b[0;34m\u001b[0m\u001b[0;34m\u001b[0m\u001b[0m\n\u001b[0m\u001b[1;32m    312\u001b[0m \u001b[0;34m\u001b[0m\u001b[0m\n\u001b[1;32m    313\u001b[0m         \u001b[0;32mreturn\u001b[0m \u001b[0mwrapper\u001b[0m\u001b[0;34m\u001b[0m\u001b[0;34m\u001b[0m\u001b[0m\n",
      "\u001b[0;32m/global/common/software/nersc/pm-2022q3/sw/python/3.9-anaconda-2021.11/lib/python3.9/site-packages/pandas/io/parsers/readers.py\u001b[0m in \u001b[0;36mread_csv\u001b[0;34m(filepath_or_buffer, sep, delimiter, header, names, index_col, usecols, squeeze, prefix, mangle_dupe_cols, dtype, engine, converters, true_values, false_values, skipinitialspace, skiprows, skipfooter, nrows, na_values, keep_default_na, na_filter, verbose, skip_blank_lines, parse_dates, infer_datetime_format, keep_date_col, date_parser, dayfirst, cache_dates, iterator, chunksize, compression, thousands, decimal, lineterminator, quotechar, quoting, doublequote, escapechar, comment, encoding, encoding_errors, dialect, error_bad_lines, warn_bad_lines, on_bad_lines, delim_whitespace, low_memory, memory_map, float_precision, storage_options)\u001b[0m\n\u001b[1;32m    678\u001b[0m     \u001b[0mkwds\u001b[0m\u001b[0;34m.\u001b[0m\u001b[0mupdate\u001b[0m\u001b[0;34m(\u001b[0m\u001b[0mkwds_defaults\u001b[0m\u001b[0;34m)\u001b[0m\u001b[0;34m\u001b[0m\u001b[0;34m\u001b[0m\u001b[0m\n\u001b[1;32m    679\u001b[0m \u001b[0;34m\u001b[0m\u001b[0m\n\u001b[0;32m--> 680\u001b[0;31m     \u001b[0;32mreturn\u001b[0m \u001b[0m_read\u001b[0m\u001b[0;34m(\u001b[0m\u001b[0mfilepath_or_buffer\u001b[0m\u001b[0;34m,\u001b[0m \u001b[0mkwds\u001b[0m\u001b[0;34m)\u001b[0m\u001b[0;34m\u001b[0m\u001b[0;34m\u001b[0m\u001b[0m\n\u001b[0m\u001b[1;32m    681\u001b[0m \u001b[0;34m\u001b[0m\u001b[0m\n\u001b[1;32m    682\u001b[0m \u001b[0;34m\u001b[0m\u001b[0m\n",
      "\u001b[0;32m/global/common/software/nersc/pm-2022q3/sw/python/3.9-anaconda-2021.11/lib/python3.9/site-packages/pandas/io/parsers/readers.py\u001b[0m in \u001b[0;36m_read\u001b[0;34m(filepath_or_buffer, kwds)\u001b[0m\n\u001b[1;32m    573\u001b[0m \u001b[0;34m\u001b[0m\u001b[0m\n\u001b[1;32m    574\u001b[0m     \u001b[0;31m# Create the parser.\u001b[0m\u001b[0;34m\u001b[0m\u001b[0;34m\u001b[0m\u001b[0m\n\u001b[0;32m--> 575\u001b[0;31m     \u001b[0mparser\u001b[0m \u001b[0;34m=\u001b[0m \u001b[0mTextFileReader\u001b[0m\u001b[0;34m(\u001b[0m\u001b[0mfilepath_or_buffer\u001b[0m\u001b[0;34m,\u001b[0m \u001b[0;34m**\u001b[0m\u001b[0mkwds\u001b[0m\u001b[0;34m)\u001b[0m\u001b[0;34m\u001b[0m\u001b[0;34m\u001b[0m\u001b[0m\n\u001b[0m\u001b[1;32m    576\u001b[0m \u001b[0;34m\u001b[0m\u001b[0m\n\u001b[1;32m    577\u001b[0m     \u001b[0;32mif\u001b[0m \u001b[0mchunksize\u001b[0m \u001b[0;32mor\u001b[0m \u001b[0miterator\u001b[0m\u001b[0;34m:\u001b[0m\u001b[0;34m\u001b[0m\u001b[0;34m\u001b[0m\u001b[0m\n",
      "\u001b[0;32m/global/common/software/nersc/pm-2022q3/sw/python/3.9-anaconda-2021.11/lib/python3.9/site-packages/pandas/io/parsers/readers.py\u001b[0m in \u001b[0;36m__init__\u001b[0;34m(self, f, engine, **kwds)\u001b[0m\n\u001b[1;32m    932\u001b[0m \u001b[0;34m\u001b[0m\u001b[0m\n\u001b[1;32m    933\u001b[0m         \u001b[0mself\u001b[0m\u001b[0;34m.\u001b[0m\u001b[0mhandles\u001b[0m\u001b[0;34m:\u001b[0m \u001b[0mIOHandles\u001b[0m \u001b[0;34m|\u001b[0m \u001b[0;32mNone\u001b[0m \u001b[0;34m=\u001b[0m \u001b[0;32mNone\u001b[0m\u001b[0;34m\u001b[0m\u001b[0;34m\u001b[0m\u001b[0m\n\u001b[0;32m--> 934\u001b[0;31m         \u001b[0mself\u001b[0m\u001b[0;34m.\u001b[0m\u001b[0m_engine\u001b[0m \u001b[0;34m=\u001b[0m \u001b[0mself\u001b[0m\u001b[0;34m.\u001b[0m\u001b[0m_make_engine\u001b[0m\u001b[0;34m(\u001b[0m\u001b[0mf\u001b[0m\u001b[0;34m,\u001b[0m \u001b[0mself\u001b[0m\u001b[0;34m.\u001b[0m\u001b[0mengine\u001b[0m\u001b[0;34m)\u001b[0m\u001b[0;34m\u001b[0m\u001b[0;34m\u001b[0m\u001b[0m\n\u001b[0m\u001b[1;32m    935\u001b[0m \u001b[0;34m\u001b[0m\u001b[0m\n\u001b[1;32m    936\u001b[0m     \u001b[0;32mdef\u001b[0m \u001b[0mclose\u001b[0m\u001b[0;34m(\u001b[0m\u001b[0mself\u001b[0m\u001b[0;34m)\u001b[0m\u001b[0;34m:\u001b[0m\u001b[0;34m\u001b[0m\u001b[0;34m\u001b[0m\u001b[0m\n",
      "\u001b[0;32m/global/common/software/nersc/pm-2022q3/sw/python/3.9-anaconda-2021.11/lib/python3.9/site-packages/pandas/io/parsers/readers.py\u001b[0m in \u001b[0;36m_make_engine\u001b[0;34m(self, f, engine)\u001b[0m\n\u001b[1;32m   1216\u001b[0m             \u001b[0;31m# \"Union[str, PathLike[str], ReadCsvBuffer[bytes], ReadCsvBuffer[str]]\"\u001b[0m\u001b[0;34m\u001b[0m\u001b[0;34m\u001b[0m\u001b[0m\n\u001b[1;32m   1217\u001b[0m             \u001b[0;31m# , \"str\", \"bool\", \"Any\", \"Any\", \"Any\", \"Any\", \"Any\"\u001b[0m\u001b[0;34m\u001b[0m\u001b[0;34m\u001b[0m\u001b[0m\n\u001b[0;32m-> 1218\u001b[0;31m             self.handles = get_handle(  # type: ignore[call-overload]\n\u001b[0m\u001b[1;32m   1219\u001b[0m                 \u001b[0mf\u001b[0m\u001b[0;34m,\u001b[0m\u001b[0;34m\u001b[0m\u001b[0;34m\u001b[0m\u001b[0m\n\u001b[1;32m   1220\u001b[0m                 \u001b[0mmode\u001b[0m\u001b[0;34m,\u001b[0m\u001b[0;34m\u001b[0m\u001b[0;34m\u001b[0m\u001b[0m\n",
      "\u001b[0;32m/global/common/software/nersc/pm-2022q3/sw/python/3.9-anaconda-2021.11/lib/python3.9/site-packages/pandas/io/common.py\u001b[0m in \u001b[0;36mget_handle\u001b[0;34m(path_or_buf, mode, encoding, compression, memory_map, is_text, errors, storage_options)\u001b[0m\n\u001b[1;32m    784\u001b[0m         \u001b[0;32mif\u001b[0m \u001b[0mioargs\u001b[0m\u001b[0;34m.\u001b[0m\u001b[0mencoding\u001b[0m \u001b[0;32mand\u001b[0m \u001b[0;34m\"b\"\u001b[0m \u001b[0;32mnot\u001b[0m \u001b[0;32min\u001b[0m \u001b[0mioargs\u001b[0m\u001b[0;34m.\u001b[0m\u001b[0mmode\u001b[0m\u001b[0;34m:\u001b[0m\u001b[0;34m\u001b[0m\u001b[0;34m\u001b[0m\u001b[0m\n\u001b[1;32m    785\u001b[0m             \u001b[0;31m# Encoding\u001b[0m\u001b[0;34m\u001b[0m\u001b[0;34m\u001b[0m\u001b[0m\n\u001b[0;32m--> 786\u001b[0;31m             handle = open(\n\u001b[0m\u001b[1;32m    787\u001b[0m                 \u001b[0mhandle\u001b[0m\u001b[0;34m,\u001b[0m\u001b[0;34m\u001b[0m\u001b[0;34m\u001b[0m\u001b[0m\n\u001b[1;32m    788\u001b[0m                 \u001b[0mioargs\u001b[0m\u001b[0;34m.\u001b[0m\u001b[0mmode\u001b[0m\u001b[0;34m,\u001b[0m\u001b[0;34m\u001b[0m\u001b[0;34m\u001b[0m\u001b[0m\n",
      "\u001b[0;31mFileNotFoundError\u001b[0m: [Errno 2] No such file or directory: 'PGAL_S230528a.ecsv'"
     ]
    }
   ],
   "source": [
    "\n",
    "def read_target_list(filename):\n",
    "\n",
    "    \"\"\"\n",
    "    Function to read a target list from a .csv file and add the SkyCoord objects as a new column. \\n\n",
    "    It further renames the columns \"TARGET_RA\" and \"TARGET_DEC\" to \"RA\" and \"dec\"\n",
    " \n",
    "    Parameters\n",
    "    ----------\n",
    "\n",
    "    filename: str\n",
    "        filename is the path specifying where to get the target list as a .csv file from\n",
    "\n",
    "    Returns\n",
    "    -------\n",
    "\n",
    "    file: pd.DataFrame\n",
    "        target list containing the .csv files information and the added SkyCoords as a pandas data frame object\n",
    "    \"\"\"\n",
    "\n",
    "    # read from a file\n",
    "    print(\"Reading csv table...\")\n",
    "    file = pd.read_csv(filename)\n",
    "    \n",
    "    # rename columns\n",
    "    file = file.rename(columns = {\"TARGET_RA\": \"RA\", \"TARGET_DEC\": \"dec\"})\n",
    "\n",
    "    # calculate and add SkyCoords for AltAz calculation later\n",
    "    print(\"Adding SkyCoords to it...\")\n",
    "    sky_coords = SkyCoord(file[\"RA\"], file[\"dec\"], unit = \"deg\")\n",
    "\n",
    "    file[\"SKY_COORD\"] = sky_coords\n",
    "    \n",
    "    #return the pandas dataframe (i.e. the unmodified initial target list)\n",
    "    print(\"Finished, now returning pandas df\")\n",
    "    return file\n",
    "\n",
    "target_list = read_target_list(target_filename)"
   ]
  },
  {
   "cell_type": "markdown",
   "id": "2269d00e",
   "metadata": {
    "jp-MarkdownHeadingCollapsed": true,
    "tags": []
   },
   "source": [
    "### Initialize the observing plan\n",
    "\n",
    "We have to start with some plan, so we take out all objects with a declination that Wendelstein can never reach (-20deg and below) and return the target list.\n",
    "\n",
    "*Note: We initially thought to calculate the Alt and Az for each object, but this is not a useful thing, since the observation time is variable in our algorithm and using a set time therefore does not make any sense.*"
   ]
  },
  {
   "cell_type": "code",
   "execution_count": 5,
   "id": "985a0ffb",
   "metadata": {},
   "outputs": [
    {
     "ename": "NameError",
     "evalue": "name 'target_list' is not defined",
     "output_type": "error",
     "traceback": [
      "\u001b[0;31m---------------------------------------------------------------------------\u001b[0m",
      "\u001b[0;31mNameError\u001b[0m                                 Traceback (most recent call last)",
      "\u001b[0;32m/tmp/ipykernel_39398/1501784008.py\u001b[0m in \u001b[0;36m<module>\u001b[0;34m\u001b[0m\n\u001b[1;32m     25\u001b[0m         \u001b[0;32mreturn\u001b[0m \u001b[0mtarget_list\u001b[0m\u001b[0;34m\u001b[0m\u001b[0;34m\u001b[0m\u001b[0m\n\u001b[1;32m     26\u001b[0m \u001b[0;34m\u001b[0m\u001b[0m\n\u001b[0;32m---> 27\u001b[0;31m \u001b[0minitial_observing_plan\u001b[0m \u001b[0;34m=\u001b[0m \u001b[0minitialize_observing_plan\u001b[0m\u001b[0;34m(\u001b[0m\u001b[0mtarget_list\u001b[0m\u001b[0;34m)\u001b[0m\u001b[0;34m\u001b[0m\u001b[0;34m\u001b[0m\u001b[0m\n\u001b[0m",
      "\u001b[0;31mNameError\u001b[0m: name 'target_list' is not defined"
     ]
    }
   ],
   "source": [
    "def initialize_observing_plan(target_list):\n",
    "\n",
    "        \"\"\"\"\n",
    "        Initialize the observing plan, which means (for now simply):\n",
    "                - delete objects with a declination less or equal to -20 degrees, since Wendelstein can never observe that\n",
    "\n",
    "        Parameters\n",
    "        ----------\n",
    "\n",
    "        target_list: pd.DataFrame\n",
    "                a target list as a pandas dataframe containing RA, dec, sersic, redshift and probability (and SkyCoords)\n",
    "        \n",
    "        Returns\n",
    "        -------\n",
    "        target_list: pd.DataFrame\n",
    "                target list after \"clean up\"\n",
    "        \n",
    "\n",
    "        \"\"\"\n",
    "\n",
    "        # delete all entries with dec lower than -20°, since Wendelstein can't observe that\n",
    "        target_list = target_list[target_list[\"dec\"]> -20]\n",
    "\n",
    "        # return modified target_list\n",
    "        return target_list\n",
    "\n",
    "initial_observing_plan = initialize_observing_plan(target_list)"
   ]
  },
  {
   "cell_type": "markdown",
   "id": "27926195",
   "metadata": {
    "jp-MarkdownHeadingCollapsed": true,
    "tags": []
   },
   "source": [
    "### Change plan\n",
    "\n",
    "We define our plan change function, which simply exchanges two rows on a random basis and returns this new plan"
   ]
  },
  {
   "cell_type": "code",
   "execution_count": null,
   "id": "67b4bbd4",
   "metadata": {},
   "outputs": [],
   "source": [
    "def change_plan(plan):\n",
    "\n",
    "    \"\"\"\n",
    "    Randomly picks two rows to be interchanged in the observing plan (\"atomic change\")\n",
    "\n",
    "    Parameters:\n",
    "    plan: pd.DataFrame\n",
    "        a observation plan that is to be modified\n",
    "\n",
    "    Returns:\n",
    "    --------\n",
    "\n",
    "    pd.DataFrame: plan\n",
    "        return the modified plan \n",
    "    \n",
    "    \"\"\"\n",
    "\n",
    "    # get the plan length to know the range for choosing random numbers as row changes\n",
    "    plan_len = len(plan)\n",
    "\n",
    "    # pick the random numbers in the according range\n",
    "    rnd1, rnd2 = np.random.randint(0,plan_len), np.random.randint(0,plan_len)\n",
    "\n",
    "    # get the original rows\n",
    "    row1, row2 = plan.iloc[rnd1].copy(), plan.iloc[rnd2].copy()\n",
    "\n",
    "    # interchange the rows\n",
    "    plan.iloc[rnd1], plan.iloc[rnd2] = row2, row1\n",
    "    \n",
    "    #return the modified plan\n",
    "    return plan"
   ]
  },
  {
   "cell_type": "markdown",
   "id": "c8b4b99b",
   "metadata": {
    "jp-MarkdownHeadingCollapsed": true,
    "tags": []
   },
   "source": [
    "### Calculate the slewing time of the telescope\n",
    "\n",
    "We calculate the angular seperation and from there get the time needed to slew from one object to another"
   ]
  },
  {
   "cell_type": "code",
   "execution_count": 6,
   "id": "4e837c1a",
   "metadata": {},
   "outputs": [],
   "source": [
    "def slewing_time(ra1, dec1, ra2, dec2, time):\n",
    "\n",
    "    \"\"\"\n",
    "    Calculate the slewing time based on its angular seperation between two targets with a specified RA and dec:\n",
    "    \n",
    "    Quoting from e-mail (Arno Riffeser, Christoph Riess,...):\n",
    "    'In the meantime I would calculate the total time, by calculating the time for the dome, \n",
    "    then adding the time for the telescope-Az and finally adding the time for the Alt:\n",
    "    Dome-Az ~= 2.0 deg/sec\n",
    "    Tel-Az  ~= 3.6 deg/sec\n",
    "    Tel-Alt ~= 3.0 deg/sec'\n",
    "\n",
    "    Parameters\n",
    "    ----------\n",
    "        ra1: int/float\n",
    "            right ascension of target one\n",
    "        dec1: int/float\n",
    "            declination of target one\n",
    "        ra2: int/float\n",
    "            right ascension of target one\n",
    "        dec2: int/float\n",
    "            declination of target one\n",
    "    \n",
    "    Returns\n",
    "    -------\n",
    "        slewing time: float (unit: seconds)\n",
    "            the time in seconds the telescope needs to move from one target to the second\n",
    "    \"\"\"\n",
    "    \"\"\"\n",
    "    # get SkyCoord object and then calculate target ra and dec\n",
    "    current_SkyCoord = SkyCoord(ra1, dec1, unit = \"deg\")\n",
    "    target_SkyCoord = SkyCoord(ra2, dec2, unit = \"deg\")\n",
    "    \n",
    "    target_AltAz = target_SkyCoord.transform_to(AltAz(obstime = time, location = Wendelstein_loc))\n",
    "    current_AltAz = current_SkyCoord.transform_to(AltAz(obstime = time, location = Wendelstein_loc))\n",
    "    \n",
    "    # calculate the distances in degrees...\n",
    "    delta_alt, delta_az = abs(target_AltAz.alt.to_value()-current_AltAz.alt.to_value())*u.deg, abs(target_AltAz.az.to_value() - current_AltAz.az.to_value())*u.deg\n",
    "    \n",
    "    # calculate the times\n",
    "    t_dome = delta_az/v_dome\n",
    "    t_tel_alt = delta_alt/v_tel_alt\n",
    "    t_tel_az = delta_az/v_tel_az\n",
    "    \"\"\"\n",
    "    t_dome = abs(ra2-ra1)*u.deg/v_dome\n",
    "    t_tel_alt = abs(dec2-dec1)*u.deg/v_tel_alt\n",
    "    t_tel_az = abs(ra2-ra1)*u.deg/v_tel_az\n",
    "    \n",
    "    # add them together\n",
    "    t_tot = t_dome + t_tel_alt + t_tel_az\n",
    "    \n",
    "    # and return the time\n",
    "    return t_tot\n",
    "\n",
    "    # turn the ra and dec values from degrees to radians\n",
    "    # ra1, dec1, ra2, dec2 = np.deg2rad([ra1, dec1, ra2, dec2])\n",
    "    \n",
    "\n",
    "    # calculate the angular seperation in degrees\n",
    "    # NOTE: the max and min check is to ensure that any computaion error leading to 1.00000000001 for example does not result in a math error in the arccos\n",
    "    # this seems to be a too optimistic way\n",
    "    \"\"\"sep_arg = np.sin(dec1)*np.sin(dec2) + np.cos(dec1)*np.cos(dec2)*np.cos(ra1-ra2)\n",
    "    sep_arg = max(-1, sep_arg)\n",
    "    sep_arg = min(1, sep_arg)\n",
    "    angular_seperation = np.rad2deg(np.arccos(sep_arg))*u.deg\n",
    "\n",
    "    #return the slewing time\n",
    "    return angular_seperation/v_telescope\"\"\"\n",
    "    \n",
    "    "
   ]
  },
  {
   "cell_type": "markdown",
   "id": "3005629c",
   "metadata": {
    "jp-MarkdownHeadingCollapsed": true,
    "tags": []
   },
   "source": [
    "### Print the observation plan and the according schedule including alt and az data"
   ]
  },
  {
   "cell_type": "code",
   "execution_count": 7,
   "id": "ed25cb0b",
   "metadata": {},
   "outputs": [],
   "source": [
    "def print_observing_plan(plan, schedule):\n",
    "\n",
    "    \"\"\"\n",
    "    print the plan and schedule\n",
    "\n",
    "    Parameters\n",
    "    ----------\n",
    "        plan: pd.DataFrame\n",
    "            the plan table that includes RA, dec, sersic, redshift, probability (and SkyCoords)\n",
    "        schedule: dictionary\n",
    "            the observation schedule including Alt and Az\n",
    "    \"\"\"\n",
    "\n",
    "    print(f\"Our observation plan is \\n {plan}\")\n",
    "    print()\n",
    "    print(f\"With the following schedule: \\n {pd.DataFrame(schedule)}\")"
   ]
  },
  {
   "cell_type": "markdown",
   "id": "189d33db",
   "metadata": {
    "tags": []
   },
   "source": [
    "### Calculate the required exposure time for each object"
   ]
  },
  {
   "cell_type": "code",
   "execution_count": 8,
   "id": "e2f4be5f",
   "metadata": {},
   "outputs": [],
   "source": [
    "def determine_required_exposure_time(target, starting_time):\n",
    "\n",
    "    # what?\n",
    "    \n",
    "    return 50*u.second # + readout time # Ananya's"
   ]
  },
  {
   "cell_type": "markdown",
   "id": "3f95c63d",
   "metadata": {
    "tags": []
   },
   "source": [
    "## Simulated Annealing process\n",
    "\n",
    "This is divided into two main steps:\n",
    "- evualuate a plan\n",
    "- iterate through many plans and lower the \"temperature\" to accept only energetically preferable \"states\" (i.e. plans)"
   ]
  },
  {
   "cell_type": "markdown",
   "id": "2b453289",
   "metadata": {
    "jp-MarkdownHeadingCollapsed": true,
    "tags": []
   },
   "source": [
    "### Evaluate a plan\n",
    "\n",
    "Here we evaluate a plan, which means we iterate through the plans target list/ranking and calculate an energy according to:\n",
    "$$p*\\left(\\frac{T_{end}-T_{curr}}{T_{end}-T_{start}}\\right)^\\alpha$$\n",
    "- p: the probability of each object determined by Galaxy_Selector_MOC.ipynb\n",
    "- T_{end}: the ending time of observation for that night\n",
    "- T_{curr}: the current time in the sim annealing process\n",
    "- T_{start}: starting time of observation\n",
    "- \\alpha: exponent to increase severance of timing optimization\n",
    "\n",
    "We include two steps to check for observability:\n",
    "1. Observed before sun rises?\n",
    "2. Above horizon?\n",
    "\n",
    "If it does not pass 1., we simply set an entry in the schedule for \"not observed\" and continue. In the latter case we do the following: if it is not observable due to the sky position, we just don't add any energy at all. Otherwise, i.e. if its observable by time and position we add the energy as stated above.\n",
    "\n",
    "Further steps are to update the plan by changing the relevant times and targeting info."
   ]
  },
  {
   "cell_type": "code",
   "execution_count": 9,
   "id": "2bacceb7",
   "metadata": {},
   "outputs": [],
   "source": [
    "def evaluate_plan(plan, starting_time, ending_time, alpha=4):\n",
    "\n",
    "    \"\"\"\n",
    "    Evaluate a single plan according to energy = sum_i p_i ((t_end - tobs_i)/(t_end - t_begin))^alpha.\n",
    "    We also include observability checks and \"punish\" plans that have objects below the horizon.\n",
    "\n",
    "    Parameters\n",
    "    ----------\n",
    "        plan: pd.DataFrame\n",
    "            the to be evaluated observation plan\n",
    "        starting_time: Time (from astropy.time)\n",
    "            starting time for observations of the night\n",
    "        ending_time: Time (from astropy.time)\n",
    "            ending time for observations of the night\n",
    "        alpha (optional): float/int\n",
    "            exponent to change prioritization of getting things done quickyl\n",
    "    \n",
    "    Returns\n",
    "    -------\n",
    "        energy: float\n",
    "            the \"energy\" this schedule has\n",
    "        schedule: dict\n",
    "            the schedule dictionary containing whether an object has been ovserved, start and ending time and AltAz\n",
    "    \"\"\"\n",
    "    \n",
    "    #print(\"starting plan evaluation...\")\n",
    "\n",
    "    # set the initial values from the first item in the plan\n",
    "    current_time = starting_time\n",
    "    current_RA = plan['RA'][0]\n",
    "    current_dec = plan['dec'][0]\n",
    "\n",
    "    energy = 0  # we start with zero energy...\n",
    "    \n",
    "    schedule = []\n",
    "    \n",
    "    # iterate through each object in the plan\n",
    "    for index, target in plan.iterrows():\n",
    "\n",
    "        #print(\"our current target is: \", target)\n",
    "\n",
    "        # calculate slewing and exposure time for this target\n",
    "        # now this isn't perfect, since we don't know the exact slewing time and therefore don't \"really\" know alt and az\n",
    "        # however, the error should be very small, therefore we just take the current time\n",
    "        slew_time  = slewing_time(current_RA, current_dec, target['RA'],target['dec'], current_time)\n",
    "        exposure_time = determine_required_exposure_time(target,current_time)\n",
    "\n",
    "        if(current_time + slew_time + exposure_time < ending_time) : # we can observe this target (concerning the timing)\n",
    "\n",
    "            # create an empty dictionary to store the following values...\n",
    "            schedule_entry = {}\n",
    "\n",
    "            # we say we observed this object, calculate the starting time of observation and add the needed exposure time all to the dict\n",
    "            schedule_entry['observed'] = True\n",
    "            schedule_entry['starting_time'] = current_time + slew_time\n",
    "            schedule_entry['exposure_time'] = exposure_time\n",
    "\n",
    "            # we further get altitude and azimuth to check observability and add it to schedule entry list as well\n",
    "            target_AltAz = target[\"SKY_COORD\"].transform_to(AltAz(obstime = current_time, location = Wendelstein_loc))\n",
    "            schedule_entry['Alt'] = target_AltAz.alt.to_value()\n",
    "            schedule_entry['Az'] = target_AltAz.az.to_value()\n",
    "\n",
    "            # add this entry to the complete list\n",
    "            schedule.append(schedule_entry)\n",
    "\n",
    "            # update the current time\n",
    "            current_time += slew_time + exposure_time # wrong place for this\n",
    "\n",
    "            # if the object is observable (now location check), we add the energy, otherwise we don't add energy\n",
    "            if target_AltAz.alt.to_value() > 0 and target_AltAz.alt.to_value() < 90:         \n",
    "                energy += target['P_GAL']*((ending_time - current_time)/(ending_time - starting_time))**alpha\n",
    "            else:\n",
    "                unobservable_time = ending_time + utc_offset\n",
    "                energy -= abs(target['P_GAL']*((ending_time - unobservable_time)/(ending_time - starting_time))**alpha)\n",
    "            \n",
    "            # update the sky location\n",
    "            current_RA = target['RA']\n",
    "            current_dec = target['dec']\n",
    "        \n",
    "        # since we can't observe the object before sunrise, add a negative schedule entry to the schedule list\n",
    "        else:\n",
    "            schedule_entry = {}\n",
    "            schedule_entry['observed'] = False\n",
    "            schedule.append(schedule_entry)\n",
    "\n",
    "    # return the energy of this particular schedule and the schedule itself     \n",
    "    return energy,schedule\n"
   ]
  },
  {
   "cell_type": "markdown",
   "id": "2f0e18d7",
   "metadata": {
    "tags": []
   },
   "source": [
    "### Simulated Annealing iteration and plan acceptance\n",
    "\n",
    "This is the part where we iterate through many schedules and decide which to use as explained at the beginning."
   ]
  },
  {
   "cell_type": "code",
   "execution_count": 10,
   "id": "c22c6ac1",
   "metadata": {},
   "outputs": [
    {
     "ename": "NameError",
     "evalue": "name 'initial_observing_plan' is not defined",
     "output_type": "error",
     "traceback": [
      "\u001b[0;31m---------------------------------------------------------------------------\u001b[0m",
      "\u001b[0;31mNameError\u001b[0m                                 Traceback (most recent call last)",
      "\u001b[0;32m/tmp/ipykernel_39398/1094815054.py\u001b[0m in \u001b[0;36m<module>\u001b[0;34m\u001b[0m\n\u001b[1;32m      5\u001b[0m \u001b[0;34m\u001b[0m\u001b[0m\n\u001b[1;32m      6\u001b[0m \u001b[0;31m# copy the initial observing plan and display it to see what changes have been introduced\u001b[0m\u001b[0;34m\u001b[0m\u001b[0;34m\u001b[0m\u001b[0m\n\u001b[0;32m----> 7\u001b[0;31m \u001b[0mcurrent_observing_plan\u001b[0m \u001b[0;34m=\u001b[0m \u001b[0minitial_observing_plan\u001b[0m\u001b[0;34m.\u001b[0m\u001b[0mcopy\u001b[0m\u001b[0;34m(\u001b[0m\u001b[0;34m)\u001b[0m\u001b[0;34m\u001b[0m\u001b[0;34m\u001b[0m\u001b[0m\n\u001b[0m\u001b[1;32m      8\u001b[0m \u001b[0mprint\u001b[0m\u001b[0;34m(\u001b[0m\u001b[0;34m\"initial plan evaluation\"\u001b[0m\u001b[0;34m)\u001b[0m\u001b[0;34m\u001b[0m\u001b[0;34m\u001b[0m\u001b[0m\n\u001b[1;32m      9\u001b[0m \u001b[0mprint\u001b[0m\u001b[0;34m(\u001b[0m\u001b[0mcurrent_observing_plan\u001b[0m\u001b[0;34m)\u001b[0m\u001b[0;34m\u001b[0m\u001b[0;34m\u001b[0m\u001b[0m\n",
      "\u001b[0;31mNameError\u001b[0m: name 'initial_observing_plan' is not defined"
     ]
    }
   ],
   "source": [
    "# define initial sim annealing parameters\n",
    "temperature  = 100\n",
    "cooling_rate = 0.95\n",
    "iterations   = 1000\n",
    "\n",
    "# copy the initial observing plan and display it to see what changes have been introduced\n",
    "current_observing_plan = initial_observing_plan.copy()\n",
    "print(\"initial plan evaluation\")\n",
    "print(current_observing_plan)\n",
    "\n",
    "# evaluate the first modified plan\n",
    "current_energy, current_schedule = evaluate_plan(current_observing_plan, starting_time, ending_time)\n",
    "\n",
    "# now iterate as often as specified above and change plans, evaluate and accept/not accept the plan\n",
    "for i in tqdm(range(iterations)):\n",
    "    #print(\"iteration \",i)\n",
    "    \n",
    "    # get a new plan and evaluate it\n",
    "    proposed_observing_plan = change_plan(current_observing_plan) # makes a random change\n",
    "    proposed_energy,proposed_schedule = evaluate_plan(proposed_observing_plan, starting_time, ending_time)\n",
    "    \n",
    "    # should we accept the new schedule?\n",
    "    acceptance_probability = np.exp(-(current_energy-proposed_energy)/temperature) # >1 if proposed_energy>current_energy - always accept an improvement\n",
    "    if(np.random.uniform(0,1)<acceptance_probability): # accept\n",
    "        #print(\"accepting new plan\")\n",
    "        #print(f\"acceptance_probability {acceptance_probability}, energy {current_energy}, proposed energy {proposed_energy} and temperature {temperature}\")\n",
    "\n",
    "        # if we accept the schedule, we update our variables accordingly\n",
    "        current_observing_plan = proposed_observing_plan\n",
    "        current_energy = proposed_energy\n",
    "        current_schedule = proposed_schedule\n",
    "        #print(current_observing_plan, current_schedule)\n",
    "        \n",
    "    temperature = temperature*cooling_rate\n",
    "\n",
    "#print(f\"acceptance_probability {acceptance_probability}, energy {current_energy}, proposed energy {proposed_energy} and temperature {temperature}\")\n",
    "\n",
    "# print the final observing plan and its schedule\n",
    "print_observing_plan(current_observing_plan, current_schedule)"
   ]
  },
  {
   "cell_type": "code",
   "execution_count": null,
   "id": "8aa257a3",
   "metadata": {},
   "outputs": [],
   "source": []
  }
 ],
 "metadata": {
  "kernelspec": {
   "display_name": "NERSC Python",
   "language": "python",
   "name": "python3"
  },
  "language_info": {
   "codemirror_mode": {
    "name": "ipython",
    "version": 3
   },
   "file_extension": ".py",
   "mimetype": "text/x-python",
   "name": "python",
   "nbconvert_exporter": "python",
   "pygments_lexer": "ipython3",
   "version": "3.9.7"
  }
 },
 "nbformat": 4,
 "nbformat_minor": 5
}
