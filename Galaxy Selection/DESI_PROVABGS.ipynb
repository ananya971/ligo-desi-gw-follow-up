{
 "cells": [
  {
   "cell_type": "markdown",
   "id": "a54339d1-b7d0-4f2a-b7be-06e403a07b8f",
   "metadata": {},
   "source": [
    "# DESI PROVABGS playground\n",
    "\n",
    "Using https://data.desi.lbl.gov/desi/users/chahah/provabgs/edr/ (full stellar-population-synthesis (SPS) modeling on the DESI Early Data Release (EDR)) to plot (modeled) occurences of stellar masses in bins.\n",
    "\n",
    "\n",
    "For future work one could look into: https://github.com/changhoonhahn/provabgs\n",
    "Here, the same team that provided this EDR PROVABGS data show their code and techniques, which could be applied to more than just EDR data."
   ]
  },
  {
   "cell_type": "markdown",
   "id": "ee1ef2bd-47e4-491c-bbf4-da1731cc9148",
   "metadata": {
    "tags": []
   },
   "source": [
    "## Imports"
   ]
  },
  {
   "cell_type": "code",
   "execution_count": 1,
   "id": "735fa3f6-b10c-4c67-80cc-ef335499f469",
   "metadata": {},
   "outputs": [],
   "source": [
    "# import some helpful python packages \n",
    "import os\n",
    "import numpy as np\n",
    "\n",
    "from astropy.io import fits\n",
    "from astropy.table import Table\n",
    "from astropy.convolution import convolve, Gaussian1DKernel\n",
    "import astropy\n",
    "astropy.__version__\n",
    "\n",
    "# needs to be at least version 5.1 to get the Schechter fit stuff\n",
    "\n",
    "import matplotlib \n",
    "import matplotlib.pyplot as plt\n",
    "\n",
    "import scipy as spy"
   ]
  },
  {
   "cell_type": "code",
   "execution_count": 2,
   "id": "dfb26978-2fe1-4a91-9a41-4bb113e7dbdd",
   "metadata": {},
   "outputs": [],
   "source": [
    "# import DESI related modules - \n",
    "from desimodel.footprint import radec2pix      # For getting healpix values\n",
    "import desispec.io                             # Input/Output functions related to DESI spectra\n",
    "from desispec import coaddition                # Functions related to coadding the spectra\n",
    "\n",
    "# DESI targeting masks - \n",
    "from desitarget.sv1 import sv1_targetmask    # For SV1\n",
    "from desitarget.sv2 import sv2_targetmask    # For SV2\n",
    "from desitarget.sv3 import sv3_targetmask    # For SV3\n",
    "from desitarget import targetmask            # main"
   ]
  },
  {
   "cell_type": "code",
   "execution_count": 3,
   "id": "66acd8ca-f381-4068-96d4-3217bde1e802",
   "metadata": {},
   "outputs": [],
   "source": [
    "from astropy.cosmology import Planck18\n",
    "from astropy.coordinates import Distance\n",
    "from astropy import units as u\n",
    "import astropy.constants as asc"
   ]
  },
  {
   "cell_type": "code",
   "execution_count": 4,
   "id": "0465b1c7-5ba9-4998-adc9-efbf01fa0ba9",
   "metadata": {},
   "outputs": [],
   "source": [
    "# import image module\n",
    "from IPython.display import Image\n",
    " "
   ]
  },
  {
   "cell_type": "markdown",
   "id": "d1efa4bc-4077-4f64-9f1b-95f8a05d2157",
   "metadata": {
    "jp-MarkdownHeadingCollapsed": true,
    "tags": []
   },
   "source": [
    "## Get the data"
   ]
  },
  {
   "cell_type": "code",
   "execution_count": 5,
   "id": "76c8ce26-faa8-4b3c-b3a1-83581055499f",
   "metadata": {},
   "outputs": [],
   "source": [
    "catalog_EDR = Table.read('/global/cfs/cdirs/desi/users/chahah/provabgs/edr/BGS_ANY_full.provabgs.sv3.v0.hdf5')\n",
    "#cat_ANY_full = Table.read('/global/cfs/cdirs/desi/users/chahah/provabgs/svda/BGS_ANY_full.provabgs.hdf5')\n",
    "# this is the same cataloge"
   ]
  },
  {
   "cell_type": "code",
   "execution_count": 6,
   "id": "cf038324-16a2-4eb3-9d61-28159f40c839",
   "metadata": {},
   "outputs": [
    {
     "data": {
      "text/html": [
       "<div><i>Table length=264973</i>\n",
       "<table id=\"table140124930937696\" class=\"table-striped table-bordered table-condensed\">\n",
       "<thead><tr><th>TARGETID</th><th>RA</th><th>DEC</th><th>Z_HP</th><th>ZERR</th><th>TSNR2_BGS</th><th>MAG_G</th><th>MAG_R</th><th>MAG_Z</th><th>MAG_W1</th><th>FIBMAG_R</th><th>HPIX_64</th><th>PROVABGS_MCMC</th><th>PROVABGS_THETA_BF</th><th>PROVABGS_Z_MAX</th><th>PROVABGS_LOGMSTAR_BF</th><th>PROVABGS_LOGMSTAR</th><th>SCHLEGEL_COLOR</th><th>PROVABGS_W_ZFAIL</th><th>PROVABGS_W_FIBASSIGN</th><th>IS_BGS_BRIGHT</th><th>IS_BGS_FAINT</th></tr></thead>\n",
       "<thead><tr><th>int64</th><th>float64</th><th>float64</th><th>float64</th><th>float64</th><th>float32</th><th>float64</th><th>float64</th><th>float64</th><th>float64</th><th>float64</th><th>int64</th><th>float64[100,13]</th><th>float64[13]</th><th>float64</th><th>float64</th><th>float64[100]</th><th>float64</th><th>float64</th><th>float64</th><th>bool</th><th>bool</th></tr></thead>\n",
       "<tr><td>39633390185481181</td><td>191.17913199949842</td><td>60.25733587654764</td><td>0.2004070714061304</td><td>nan</td><td>0.0</td><td>-999.0</td><td>-999.0</td><td>-999.0</td><td>-999.0</td><td>-999.0</td><td>-999</td><td>-999.0 .. -999.0</td><td>-999.0 .. -999.0</td><td>-999.0</td><td>-999.0</td><td>-999.0 .. -999.0</td><td>-999.0</td><td>-999.0</td><td>129.0</td><td>False</td><td>False</td></tr>\n",
       "<tr><td>39633390164510024</td><td>188.6998080571996</td><td>60.21175772175424</td><td>0.2004070714061304</td><td>nan</td><td>0.0</td><td>-999.0</td><td>-999.0</td><td>-999.0</td><td>-999.0</td><td>-999.0</td><td>-999</td><td>-999.0 .. -999.0</td><td>-999.0 .. -999.0</td><td>-999.0</td><td>-999.0</td><td>-999.0 .. -999.0</td><td>-999.0</td><td>-999.0</td><td>3.225</td><td>False</td><td>False</td></tr>\n",
       "<tr><td>39633390185480955</td><td>191.14955067198017</td><td>60.34047183206205</td><td>0.2004070714061304</td><td>nan</td><td>0.0</td><td>-999.0</td><td>-999.0</td><td>-999.0</td><td>-999.0</td><td>-999.0</td><td>-999</td><td>-999.0 .. -999.0</td><td>-999.0 .. -999.0</td><td>-999.0</td><td>-999.0</td><td>-999.0 .. -999.0</td><td>-999.0</td><td>-999.0</td><td>129.0</td><td>False</td><td>False</td></tr>\n",
       "<tr><td>39633390185480938</td><td>191.14757099005186</td><td>60.345815959235</td><td>0.2819459922463374</td><td>2.191690764397e-05</td><td>1361.7778</td><td>20.420939956138607</td><td>19.440977833152942</td><td>18.807486906915823</td><td>18.725561063547207</td><td>21.083244145949642</td><td>11226</td><td>11.091623656909688 .. 0.3684622521221414</td><td>11.14249424405227 .. 0.3651476796540595</td><td>0.2891440449335749</td><td>10.894820213317871</td><td>10.848259925842285 .. 10.952618598937988</td><td>0.1059712957858181</td><td>1.0671457830611217</td><td>3.0714285714285716</td><td>True</td><td>False</td></tr>\n",
       "<tr><td>39633416324383107</td><td>187.05117249536465</td><td>62.614542270156655</td><td>0.2703579310142208</td><td>0.00018002802349298926</td><td>1218.0295</td><td>20.876585604498494</td><td>19.373871860075226</td><td>18.567397256862876</td><td>18.32574859422363</td><td>20.212708263179056</td><td>11251</td><td>11.127879812361321 .. 0.6691898790548064</td><td>11.16028636319183 .. 0.6710591095679554</td><td>0.2822033708476234</td><td>10.909546852111816</td><td>10.877055168151855 .. 10.874772071838379</td><td>-0.3616078306686752</td><td>1.005530547154544</td><td>1.0</td><td>True</td><td>False</td></tr>\n",
       "<tr><td>39633393155049062</td><td>187.8080794399063</td><td>60.39356441584356</td><td>0.2004070714061304</td><td>nan</td><td>0.0</td><td>-999.0</td><td>-999.0</td><td>-999.0</td><td>-999.0</td><td>-999.0</td><td>-999</td><td>-999.0 .. -999.0</td><td>-999.0 .. -999.0</td><td>-999.0</td><td>-999.0</td><td>-999.0 .. -999.0</td><td>-999.0</td><td>-999.0</td><td>129.0</td><td>False</td><td>False</td></tr>\n",
       "<tr><td>39633393155049303</td><td>187.83760708675698</td><td>60.38987543677365</td><td>0.1731108191825362</td><td>2.1990725452772437e-05</td><td>1234.5317</td><td>19.69273753706838</td><td>18.892550253715136</td><td>18.34277957526595</td><td>18.565848448993197</td><td>21.00700131929247</td><td>11237</td><td>10.462320138967206 .. 0.2729800106294297</td><td>10.502975152735333 .. 0.2744993206027024</td><td>0.21924790414805623</td><td>10.27071762084961</td><td>10.239782333374023 .. 10.281316757202148</td><td>0.01670638624886256</td><td>1.0556176146427896</td><td>1.8169014084507042</td><td>True</td><td>False</td></tr>\n",
       "<tr><td>39633393155049428</td><td>187.8512261193913</td><td>60.382096424983686</td><td>0.2004070714061304</td><td>nan</td><td>0.0</td><td>-999.0</td><td>-999.0</td><td>-999.0</td><td>-999.0</td><td>-999.0</td><td>-999</td><td>-999.0 .. -999.0</td><td>-999.0 .. -999.0</td><td>-999.0</td><td>-999.0</td><td>-999.0 .. -999.0</td><td>-999.0</td><td>-999.0</td><td>2.1864406779661016</td><td>False</td><td>False</td></tr>\n",
       "<tr><td>39633390164510257</td><td>188.7298325265811</td><td>60.181046704454054</td><td>0.2854181586411897</td><td>8.005616412868143e-06</td><td>1080.5574</td><td>20.021376563811977</td><td>19.091834839420468</td><td>18.488285412624066</td><td>18.38746082854565</td><td>20.641812033703985</td><td>11237</td><td>11.113035968148562 .. 0.3947223033620342</td><td>11.257075728183183 .. 0.3983021711356034</td><td>0.32988420863892076</td><td>11.017786979675293</td><td>10.893733024597168 .. 11.032293319702148</td><td>0.18537451480860634</td><td>1.0209118095758252</td><td>3.6857142857142855</td><td>True</td><td>False</td></tr>\n",
       "<tr><td>39633390164510424</td><td>188.7466620059061</td><td>60.17090362682906</td><td>0.2004070714061304</td><td>nan</td><td>0.0</td><td>-999.0</td><td>-999.0</td><td>-999.0</td><td>-999.0</td><td>-999.0</td><td>-999</td><td>-999.0 .. -999.0</td><td>-999.0 .. -999.0</td><td>-999.0</td><td>-999.0</td><td>-999.0 .. -999.0</td><td>-999.0</td><td>-999.0</td><td>2.8666666666666667</td><td>False</td><td>False</td></tr>\n",
       "<tr><td>...</td><td>...</td><td>...</td><td>...</td><td>...</td><td>...</td><td>...</td><td>...</td><td>...</td><td>...</td><td>...</td><td>...</td><td>...</td><td>...</td><td>...</td><td>...</td><td>...</td><td>...</td><td>...</td><td>...</td><td>...</td><td>...</td></tr>\n",
       "<tr><td>39633419117789446</td><td>187.0795267943217</td><td>62.817396818998986</td><td>0.1464442321196226</td><td>9.742656494745086e-06</td><td>1334.1207</td><td>19.988592585692714</td><td>19.444962247908574</td><td>19.129712156119766</td><td>19.368511720859992</td><td>20.853452216763316</td><td>11254</td><td>9.91903340606207 .. 0.3723337144068637</td><td>10.040807227333858 .. 0.37404720516841017</td><td>0.1492771312249829</td><td>9.796979904174805</td><td>9.686117172241211 .. 9.782578468322754</td><td>0.308844029918805</td><td>1.0374536023756042</td><td>1.048780487804878</td><td>True</td><td>False</td></tr>\n",
       "<tr><td>39633421890224923</td><td>187.25534832226398</td><td>62.91755906787288</td><td>0.14474812415497434</td><td>1.0074670164388327e-05</td><td>1253.2594</td><td>19.89014591611605</td><td>19.375733303970748</td><td>19.14481388993785</td><td>19.680880280467008</td><td>20.949465745129515</td><td>11254</td><td>9.874928999894328 .. 0.35478146852506093</td><td>10.130304139038618 .. 0.3507033813487836</td><td>0.15129357867996657</td><td>9.88079833984375</td><td>9.645857810974121 .. 9.7222900390625</td><td>0.04663847489647854</td><td>1.0480823543506064</td><td>1.0</td><td>True</td><td>False</td></tr>\n",
       "<tr><td>39633413505812174</td><td>186.62663774704203</td><td>62.14939260669518</td><td>0.25300377274054325</td><td>3.236495636067911e-05</td><td>1539.8395</td><td>20.468670620583797</td><td>19.537067440166382</td><td>18.921001988560633</td><td>18.942475520458345</td><td>21.301053554570533</td><td>11251</td><td>10.816840952960199 .. 0.30104506041726137</td><td>10.859304609496952 .. 0.2991224823811481</td><td>0.25300377274054325</td><td>10.60865592956543</td><td>10.578521728515625 .. 10.514143943786621</td><td>0.06060265160138978</td><td>1.1119903576198493</td><td>1.1727272727272726</td><td>True</td><td>False</td></tr>\n",
       "<tr><td>39633413505812049</td><td>186.61056945797014</td><td>62.14298927804953</td><td>0.17055013363218272</td><td>4.595504638499033e-05</td><td>1402.2134</td><td>19.259376995044825</td><td>18.354314343891367</td><td>17.85685989960895</td><td>17.963643092006528</td><td>19.1677828567637</td><td>11251</td><td>10.408163423141847 .. 0.6071562316577213</td><td>10.322581088732738 .. 0.6075095685684837</td><td>0.2637050741697607</td><td>10.12794303894043</td><td>10.212218284606934 .. 10.27114200592041</td><td>0.00714162621827219</td><td>1.0000858515965538</td><td>1.6973684210526316</td><td>True</td><td>False</td></tr>\n",
       "<tr><td>39633410666268292</td><td>186.60265136574742</td><td>62.00944823146277</td><td>0.2667008386399223</td><td>2.604632118898517e-05</td><td>1439.664</td><td>20.40569304041722</td><td>19.53696368714653</td><td>19.019887843940722</td><td>19.241694773533382</td><td>21.613967111493782</td><td>11250</td><td>11.03839153161963 .. 0.2237483997136693</td><td>10.891079474215429 .. 0.22352724502878793</td><td>0.2667008386399223</td><td>10.643876075744629</td><td>10.798147201538086 .. 10.62222957611084</td><td>-0.06428215351748467</td><td>1.2201431477265101</td><td>1.0</td><td>True</td><td>False</td></tr>\n",
       "<tr><td>39633413505812025</td><td>186.60738127477714</td><td>62.14488344913504</td><td>0.2004070714061304</td><td>nan</td><td>0.0</td><td>-999.0</td><td>-999.0</td><td>-999.0</td><td>-999.0</td><td>-999.0</td><td>-999</td><td>-999.0 .. -999.0</td><td>-999.0 .. -999.0</td><td>-999.0</td><td>-999.0</td><td>-999.0 .. -999.0</td><td>-999.0</td><td>-999.0</td><td>129.0</td><td>False</td><td>False</td></tr>\n",
       "<tr><td>39633413505811874</td><td>186.589245124884</td><td>62.15168848678129</td><td>-0.0019956912923479522</td><td>nan</td><td>0.0</td><td>-999.0</td><td>-999.0</td><td>-999.0</td><td>-999.0</td><td>-999.0</td><td>-999</td><td>-999.0 .. -999.0</td><td>-999.0 .. -999.0</td><td>-999.0</td><td>-999.0</td><td>-999.0 .. -999.0</td><td>-999.0</td><td>-999.0</td><td>1.3578947368421053</td><td>False</td><td>False</td></tr>\n",
       "<tr><td>39633413505811644</td><td>186.56272095205998</td><td>62.16469918941913</td><td>0.25371984264082065</td><td>6.89627971099945e-05</td><td>1409.2725</td><td>20.38768890817986</td><td>18.967213838405</td><td>18.207105447062574</td><td>18.110520745001775</td><td>20.131229843239893</td><td>11251</td><td>10.89249004662993 .. 0.43362074681164936</td><td>10.895148538848524 .. 0.4331829454730366</td><td>0.3034779044105564</td><td>10.684379577636719</td><td>10.69211196899414 .. 10.67430591583252</td><td>-0.4079853816690324</td><td>1.0041946358581877</td><td>1.0</td><td>True</td><td>False</td></tr>\n",
       "<tr><td>39633419117789555</td><td>187.095748149906</td><td>62.85038320921776</td><td>0.2004070714061304</td><td>nan</td><td>0.0</td><td>-999.0</td><td>-999.0</td><td>-999.0</td><td>-999.0</td><td>-999.0</td><td>-999</td><td>-999.0 .. -999.0</td><td>-999.0 .. -999.0</td><td>-999.0</td><td>-999.0</td><td>-999.0 .. -999.0</td><td>-999.0</td><td>-999.0</td><td>1.1217391304347826</td><td>False</td><td>False</td></tr>\n",
       "<tr><td>39633416366328637</td><td>192.89680389488623</td><td>62.39132247109831</td><td>0.4606176647621723</td><td>6.439895128955126e-05</td><td>1492.7373</td><td>20.551019033734484</td><td>19.07472671739113</td><td>18.16095589666865</td><td>17.71185646803134</td><td>21.315821055905893</td><td>11229</td><td>12.703395442674356 .. 0.21653696867740638</td><td>12.514453451874589 .. 0.21659184899100617</td><td>0.5123939213338078</td><td>12.271828651428223</td><td>12.467666625976562 .. 12.353272438049316</td><td>-0.12245135097471405</td><td>1.1157891619902276</td><td>1.0</td><td>True</td><td>False</td></tr>\n",
       "</table></div>"
      ],
      "text/plain": [
       "<Table length=264973>\n",
       "     TARGETID             RA         ... IS_BGS_BRIGHT IS_BGS_FAINT\n",
       "      int64            float64       ...      bool         bool    \n",
       "----------------- ------------------ ... ------------- ------------\n",
       "39633390185481181 191.17913199949842 ...         False        False\n",
       "39633390164510024  188.6998080571996 ...         False        False\n",
       "39633390185480955 191.14955067198017 ...         False        False\n",
       "39633390185480938 191.14757099005186 ...          True        False\n",
       "39633416324383107 187.05117249536465 ...          True        False\n",
       "39633393155049062  187.8080794399063 ...         False        False\n",
       "39633393155049303 187.83760708675698 ...          True        False\n",
       "39633393155049428  187.8512261193913 ...         False        False\n",
       "39633390164510257  188.7298325265811 ...          True        False\n",
       "39633390164510424  188.7466620059061 ...         False        False\n",
       "              ...                ... ...           ...          ...\n",
       "39633419117789446  187.0795267943217 ...          True        False\n",
       "39633421890224923 187.25534832226398 ...          True        False\n",
       "39633413505812174 186.62663774704203 ...          True        False\n",
       "39633413505812049 186.61056945797014 ...          True        False\n",
       "39633410666268292 186.60265136574742 ...          True        False\n",
       "39633413505812025 186.60738127477714 ...         False        False\n",
       "39633413505811874   186.589245124884 ...         False        False\n",
       "39633413505811644 186.56272095205998 ...          True        False\n",
       "39633419117789555   187.095748149906 ...         False        False\n",
       "39633416366328637 192.89680389488623 ...          True        False"
      ]
     },
     "execution_count": 6,
     "metadata": {},
     "output_type": "execute_result"
    }
   ],
   "source": [
    "catalog_EDR"
   ]
  },
  {
   "cell_type": "markdown",
   "id": "94859209-3484-4d6f-9613-2fcdbf10cfac",
   "metadata": {
    "tags": []
   },
   "source": [
    "## Some minor data extraction\n",
    "\n",
    "Only use good stellar mass values (i.e. above) 0, check (for info) which programs were being used."
   ]
  },
  {
   "cell_type": "code",
   "execution_count": 7,
   "id": "25aee09c-f818-481a-a820-6cb695b507f6",
   "metadata": {},
   "outputs": [],
   "source": [
    "clean_catalog_EDR = catalog_EDR[catalog_EDR[\"PROVABGS_LOGMSTAR_BF\"]>0]"
   ]
  },
  {
   "cell_type": "code",
   "execution_count": 8,
   "id": "c3a3e70a-9e79-4652-9162-3c14330759a0",
   "metadata": {},
   "outputs": [
    {
     "data": {
      "text/html": [
       "<div><i>Table length=5</i>\n",
       "<table id=\"table140124931416960\" class=\"table-striped table-bordered table-condensed\">\n",
       "<thead><tr><th>TARGETID</th><th>RA</th><th>DEC</th><th>Z_HP</th><th>ZERR</th><th>TSNR2_BGS</th><th>MAG_G</th><th>MAG_R</th><th>MAG_Z</th><th>MAG_W1</th><th>FIBMAG_R</th><th>HPIX_64</th><th>PROVABGS_MCMC</th><th>PROVABGS_THETA_BF</th><th>PROVABGS_Z_MAX</th><th>PROVABGS_LOGMSTAR_BF</th><th>PROVABGS_LOGMSTAR</th><th>SCHLEGEL_COLOR</th><th>PROVABGS_W_ZFAIL</th><th>PROVABGS_W_FIBASSIGN</th><th>IS_BGS_BRIGHT</th><th>IS_BGS_FAINT</th></tr></thead>\n",
       "<thead><tr><th>int64</th><th>float64</th><th>float64</th><th>float64</th><th>float64</th><th>float32</th><th>float64</th><th>float64</th><th>float64</th><th>float64</th><th>float64</th><th>int64</th><th>float64[100,13]</th><th>float64[13]</th><th>float64</th><th>float64</th><th>float64[100]</th><th>float64</th><th>float64</th><th>float64</th><th>bool</th><th>bool</th></tr></thead>\n",
       "<tr><td>39633390185480938</td><td>191.14757099005186</td><td>60.345815959235</td><td>0.2819459922463374</td><td>2.191690764397e-05</td><td>1361.7778</td><td>20.420939956138607</td><td>19.440977833152942</td><td>18.807486906915823</td><td>18.725561063547207</td><td>21.083244145949642</td><td>11226</td><td>11.091623656909688 .. 0.3684622521221414</td><td>11.14249424405227 .. 0.3651476796540595</td><td>0.2891440449335749</td><td>10.894820213317871</td><td>10.848259925842285 .. 10.952618598937988</td><td>0.1059712957858181</td><td>1.0671457830611217</td><td>3.0714285714285716</td><td>True</td><td>False</td></tr>\n",
       "<tr><td>39633416324383107</td><td>187.05117249536465</td><td>62.614542270156655</td><td>0.2703579310142208</td><td>0.00018002802349298926</td><td>1218.0295</td><td>20.876585604498494</td><td>19.373871860075226</td><td>18.567397256862876</td><td>18.32574859422363</td><td>20.212708263179056</td><td>11251</td><td>11.127879812361321 .. 0.6691898790548064</td><td>11.16028636319183 .. 0.6710591095679554</td><td>0.2822033708476234</td><td>10.909546852111816</td><td>10.877055168151855 .. 10.874772071838379</td><td>-0.3616078306686752</td><td>1.005530547154544</td><td>1.0</td><td>True</td><td>False</td></tr>\n",
       "<tr><td>39633393155049303</td><td>187.83760708675698</td><td>60.38987543677365</td><td>0.1731108191825362</td><td>2.1990725452772437e-05</td><td>1234.5317</td><td>19.69273753706838</td><td>18.892550253715136</td><td>18.34277957526595</td><td>18.565848448993197</td><td>21.00700131929247</td><td>11237</td><td>10.462320138967206 .. 0.2729800106294297</td><td>10.502975152735333 .. 0.2744993206027024</td><td>0.21924790414805623</td><td>10.27071762084961</td><td>10.239782333374023 .. 10.281316757202148</td><td>0.01670638624886256</td><td>1.0556176146427896</td><td>1.8169014084507042</td><td>True</td><td>False</td></tr>\n",
       "<tr><td>39633390164510257</td><td>188.7298325265811</td><td>60.181046704454054</td><td>0.2854181586411897</td><td>8.005616412868143e-06</td><td>1080.5574</td><td>20.021376563811977</td><td>19.091834839420468</td><td>18.488285412624066</td><td>18.38746082854565</td><td>20.641812033703985</td><td>11237</td><td>11.113035968148562 .. 0.3947223033620342</td><td>11.257075728183183 .. 0.3983021711356034</td><td>0.32988420863892076</td><td>11.017786979675293</td><td>10.893733024597168 .. 11.032293319702148</td><td>0.18537451480860634</td><td>1.0209118095758252</td><td>3.6857142857142855</td><td>True</td><td>False</td></tr>\n",
       "<tr><td>39633396124617897</td><td>187.04622815471808</td><td>60.82670180284912</td><td>0.37400455377945924</td><td>7.204306804440984e-05</td><td>1230.1184</td><td>20.981597394532177</td><td>19.43493695012083</td><td>18.528152481985934</td><td>17.661754869208693</td><td>20.920672799869905</td><td>11237</td><td>11.576280755647756 .. 0.3713771184202182</td><td>11.529095176742617 .. 0.3710937098062413</td><td>0.38290726050663504</td><td>11.287631034851074</td><td>11.330133438110352 .. 11.413797378540039</td><td>0.21040507948362408</td><td>1.0446527216195594</td><td>1.0</td><td>True</td><td>False</td></tr>\n",
       "</table></div>"
      ],
      "text/plain": [
       "<Table length=5>\n",
       "     TARGETID             RA         ... IS_BGS_BRIGHT IS_BGS_FAINT\n",
       "      int64            float64       ...      bool         bool    \n",
       "----------------- ------------------ ... ------------- ------------\n",
       "39633390185480938 191.14757099005186 ...          True        False\n",
       "39633416324383107 187.05117249536465 ...          True        False\n",
       "39633393155049303 187.83760708675698 ...          True        False\n",
       "39633390164510257  188.7298325265811 ...          True        False\n",
       "39633396124617897 187.04622815471808 ...          True        False"
      ]
     },
     "execution_count": 8,
     "metadata": {},
     "output_type": "execute_result"
    }
   ],
   "source": [
    "clean_catalog_EDR[:5]"
   ]
  },
  {
   "cell_type": "code",
   "execution_count": 37,
   "id": "b73890a1-39cb-42b6-b312-c5caa8ec113a",
   "metadata": {},
   "outputs": [],
   "source": [
    "BGS_BRIGHT = clean_catalog_EDR[clean_catalog_EDR[\"IS_BGS_BRIGHT\"] == True]\n",
    "BGS_FAINT = clean_catalog_EDR[clean_catalog_EDR[\"IS_BGS_FAINT\"] == True]"
   ]
  },
  {
   "cell_type": "code",
   "execution_count": 40,
   "id": "08acb34c-cc28-4674-8ef3-2e570caab159",
   "metadata": {},
   "outputs": [
    {
     "data": {
      "text/plain": [
       "(<Table length=143017>\n",
       "      TARGETID             RA         ... IS_BGS_BRIGHT IS_BGS_FAINT\n",
       "       int64            float64       ...      bool         bool    \n",
       " ----------------- ------------------ ... ------------- ------------\n",
       " 39633390185480938 191.14757099005186 ...          True        False\n",
       " 39633416324383107 187.05117249536465 ...          True        False\n",
       " 39633393155049303 187.83760708675698 ...          True        False\n",
       " 39633390164510257  188.7298325265811 ...          True        False\n",
       " 39633396124617897 187.04622815471808 ...          True        False\n",
       " 39633390168704731 189.28672536137475 ...          True        False\n",
       " 39633390164510283  188.7327720032468 ...          True        False\n",
       " 39633390168704208 189.20703625254848 ...          True        False\n",
       " 39633407801558322 186.48359894373857 ...          True        False\n",
       " 39633387144612328 189.33126574093797 ...          True        False\n",
       "               ...                ... ...           ...          ...\n",
       " 39633421894418778 187.71613313043486 ...          True        False\n",
       " 39633421890225324 187.33091078758432 ...          True        False\n",
       " 39633421890224944 187.25909848754628 ...          True        False\n",
       " 39633419117789446  187.0795267943217 ...          True        False\n",
       " 39633421890224923 187.25534832226398 ...          True        False\n",
       " 39633413505812174 186.62663774704203 ...          True        False\n",
       " 39633413505812049 186.61056945797014 ...          True        False\n",
       " 39633410666268292 186.60265136574742 ...          True        False\n",
       " 39633413505811644 186.56272095205998 ...          True        False\n",
       " 39633416366328637 192.89680389488623 ...          True        False,\n",
       " <Table length=95499>\n",
       "      TARGETID             RA         ... IS_BGS_BRIGHT IS_BGS_FAINT\n",
       "       int64            float64       ...      bool         bool    \n",
       " ----------------- ------------------ ... ------------- ------------\n",
       " 39633407801559295 186.61774077015875 ...         False         True\n",
       " 39633390160317849 188.46921404349476 ...         False         True\n",
       " 39633390185481162 191.17636550142407 ...         False         True\n",
       " 39633390164510196  188.7203072284598 ...         False         True\n",
       " 39633399127738905 192.72208391492347 ...         False         True\n",
       " 39633390185482691 191.40569807406104 ...         False         True\n",
       " 39633390185481001  191.1560427437463 ...         False         True\n",
       " 39633410720793762 193.40915359757037 ...         False         True\n",
       " 39633404970404615 193.47059350296132 ...         False         True\n",
       " 39633404970404023  193.3721285607852 ...         False         True\n",
       "               ...                ... ...           ...          ...\n",
       " 39633424658467773  190.3743683028236 ...         False         True\n",
       " 39633424658467838 190.38585672978715 ...         False         True\n",
       " 39633421890224339 187.14779595620968 ...         False         True\n",
       " 39633419113598564  187.0293451971232 ...         False         True\n",
       " 39633421890226612  187.5655342011197 ...         False         True\n",
       " 39633416320191639 186.84271265903925 ...         False         True\n",
       " 39633421890226250 187.50432896065197 ...         False         True\n",
       " 39633421890225581 187.37696748577392 ...         False         True\n",
       " 39633421890224933 187.25692219655429 ...         False         True\n",
       " 39633416320190817  186.7389097143274 ...         False         True)"
      ]
     },
     "execution_count": 40,
     "metadata": {},
     "output_type": "execute_result"
    }
   ],
   "source": [
    "BGS_BRIGHT, BGS_FAINT"
   ]
  },
  {
   "cell_type": "code",
   "execution_count": 41,
   "id": "6571b813-0c0c-4c59-a4ed-7ebb03213c89",
   "metadata": {},
   "outputs": [
    {
     "data": {
      "text/plain": [
       "(241005, 238516)"
      ]
     },
     "execution_count": 41,
     "metadata": {},
     "output_type": "execute_result"
    }
   ],
   "source": [
    "len(clean_catalog_EDR), len(BGS_BRIGHT)+len(BGS_FAINT)"
   ]
  },
  {
   "cell_type": "markdown",
   "id": "d2501216-465c-438f-8e7e-e91f82a32145",
   "metadata": {
    "tags": []
   },
   "source": [
    "## Create histogram (i.e. count of objects per stellar mass bins) & plot"
   ]
  },
  {
   "cell_type": "code",
   "execution_count": 9,
   "id": "1ed777a6-230d-4f38-bde9-263d9fc4c0c2",
   "metadata": {},
   "outputs": [],
   "source": [
    "# stellar mass bins:\n",
    "upper_limit_stellar_mass = np.max(clean_catalog_EDR[\"PROVABGS_LOGMSTAR_BF\"])\n",
    "lower_limit_stellar_mass = np.min(clean_catalog_EDR[\"PROVABGS_LOGMSTAR_BF\"])\n",
    "num_of_bins_stellar_mass = int((upper_limit_stellar_mass - lower_limit_stellar_mass)*10)"
   ]
  },
  {
   "cell_type": "code",
   "execution_count": 10,
   "id": "a07ccb07-68dc-4db8-a2de-0aea0ea7b73c",
   "metadata": {},
   "outputs": [
    {
     "data": {
      "text/plain": [
       "(12.770240783691406, 6.238491058349609, 65)"
      ]
     },
     "execution_count": 10,
     "metadata": {},
     "output_type": "execute_result"
    }
   ],
   "source": [
    "upper_limit_stellar_mass, lower_limit_stellar_mass, num_of_bins_stellar_mass"
   ]
  },
  {
   "cell_type": "code",
   "execution_count": 11,
   "id": "00cc70ba-3932-4937-919b-1e5d02fe4c2a",
   "metadata": {},
   "outputs": [
    {
     "data": {
      "text/plain": [
       "array([45, 18,  8, 17, 19, 24, 28, 34, 28, 32])"
      ]
     },
     "execution_count": 11,
     "metadata": {},
     "output_type": "execute_result"
    }
   ],
   "source": [
    "# create the histogramm (i.e. x values are the stellar masses, y values are the number of occurences per bin)\n",
    "N_abs, stellar_mass_binned = np.histogram(clean_catalog_EDR[\"PROVABGS_LOGMSTAR_BF\"], bins = num_of_bins_stellar_mass, range = (lower_limit_stellar_mass, upper_limit_stellar_mass))\n",
    "N_abs[:10]"
   ]
  },
  {
   "cell_type": "code",
   "execution_count": 12,
   "id": "35139695-fdd4-4b28-bee6-428b6020f692",
   "metadata": {},
   "outputs": [],
   "source": [
    "change_bin_width = 0.7"
   ]
  },
  {
   "cell_type": "code",
   "execution_count": 13,
   "id": "09899082-a0e8-490b-a501-f66022ef75ad",
   "metadata": {},
   "outputs": [
    {
     "data": {
      "image/png": "[encoded data removed]",
      "text/plain": [
       "<Figure size 1000x1000 with 1 Axes>"
      ]
     },
     "metadata": {},
     "output_type": "display_data"
    }
   ],
   "source": [
    "fig, ax = plt.subplots(figsize=(10, 10))\n",
    "width_stellar_mass = change_bin_width * (stellar_mass_binned[1] - stellar_mass_binned[0])\n",
    "center_stellar_mass = (stellar_mass_binned[:-1] + stellar_mass_binned[1:])/2\n",
    "\n",
    "ax.bar(center_stellar_mass, N_abs,  align = \"center\", width = width_stellar_mass, label = \" Total number of galaxies per stellar mass bin (in log(M_sun))\")\n",
    "ax.set_xlabel(\"stellar mass in bins (in log(M_sun))\")\n",
    "y_label_stellar_mass = \"Total N in \" + str(width_stellar_mass/change_bin_width) + \" width bins\"\n",
    "ax.set_ylabel(y_label_stellar_mass)\n",
    "ax.set_yscale('log')\n",
    "ax.legend(loc = \"upper right\")\n",
    "\n",
    "plt.show()"
   ]
  },
  {
   "cell_type": "markdown",
   "id": "176dad02-8e47-4565-8d9e-3f80304340ea",
   "metadata": {
    "jp-MarkdownHeadingCollapsed": true,
    "tags": []
   },
   "source": [
    "## Compare coverage to IRON DR\n",
    "\n",
    "The DESI IRON Data Relase from June 22 is a catalog including basically all data reduction steps and providing very useful information within one table. Now, let's compare the coverage of this release to the EDR data in the same volume, to check how much \"progress\" was made in this field."
   ]
  },
  {
   "cell_type": "code",
   "execution_count": 14,
   "id": "9ab2f43c-88e2-430f-8bc7-ad672c92674a",
   "metadata": {},
   "outputs": [
    {
     "data": {
      "text/plain": [
       "(148.40325831802127, 273.93378058006977)"
      ]
     },
     "execution_count": 14,
     "metadata": {},
     "output_type": "execute_result"
    }
   ],
   "source": [
    "np.min(clean_catalog_EDR[\"RA\"]), np.max(clean_catalog_EDR[\"RA\"])"
   ]
  },
  {
   "cell_type": "code",
   "execution_count": 15,
   "id": "1bdd8db2-9973-436d-a643-6e9d89a03d27",
   "metadata": {},
   "outputs": [
    {
     "data": {
      "text/plain": [
       "(-2.3291467722641253, 67.7513850491988)"
      ]
     },
     "execution_count": 15,
     "metadata": {},
     "output_type": "execute_result"
    }
   ],
   "source": [
    "np.min(clean_catalog_EDR[\"DEC\"]), np.max(clean_catalog_EDR[\"DEC\"])"
   ]
  },
  {
   "cell_type": "code",
   "execution_count": 16,
   "id": "c45d05a1-32ac-453c-a7ae-be41a72292cb",
   "metadata": {},
   "outputs": [
    {
     "data": {
      "text/plain": [
       "(1.4423111463306655e-05, 0.5997362739291541)"
      ]
     },
     "execution_count": 16,
     "metadata": {},
     "output_type": "execute_result"
    }
   ],
   "source": [
    "np.min(clean_catalog_EDR[\"Z_HP\"]), np.max(clean_catalog_EDR[\"Z_HP\"])"
   ]
  },
  {
   "cell_type": "markdown",
   "id": "7736d159-4e52-4564-8fc5-1fa7092f37cd",
   "metadata": {
    "jp-MarkdownHeadingCollapsed": true,
    "tags": []
   },
   "source": [
    "### Of course we need the IRON data for comparison & apply the same selection cuts\n",
    "\n",
    "This means:\n",
    "- good redshift\n",
    "- same volume/area"
   ]
  },
  {
   "cell_type": "code",
   "execution_count": 19,
   "id": "75ed42f1-e4b1-4f03-8b66-84b9d3282a56",
   "metadata": {},
   "outputs": [
    {
     "name": "stdout",
     "output_type": "stream",
     "text": [
      "/global/cfs/cdirs/desi/spectro/redux/iron/\n"
     ]
    }
   ],
   "source": [
    "# Release directory path\n",
    "\n",
    "specprod = 'iron'    # Internal name for most current data release\n",
    "specprod_dir = '/global/cfs/cdirs/desi/spectro/redux/iron/'\n",
    "print(specprod_dir)"
   ]
  },
  {
   "cell_type": "code",
   "execution_count": 20,
   "id": "00f7be65-4c54-43c8-9d6f-25667ab0a7d2",
   "metadata": {},
   "outputs": [],
   "source": [
    "ztile_cat = Table.read(f'{specprod_dir}/zcatalog/zall-tilecumulative-{specprod}.fits', hdu=\"ZCATALOG\")\n",
    "#ztile_unm = ztile_cat.copy()"
   ]
  },
  {
   "cell_type": "code",
   "execution_count": 21,
   "id": "68b512d6-10ec-49e5-a132-b20e4dfa19aa",
   "metadata": {},
   "outputs": [],
   "source": [
    "ztile_cat.keep_columns(['TARGETID', 'SURVEY', 'PROGRAM', 'Z', 'ZERR', 'ZWARN', 'TARGET_RA', 'TARGET_DEC', 'FLUX_Z', 'LASTNIGHT'])"
   ]
  },
  {
   "cell_type": "code",
   "execution_count": 22,
   "id": "60562ad5-4934-43f3-acc8-4bcaf517d11a",
   "metadata": {},
   "outputs": [],
   "source": [
    "ztile_cat = ztile_cat[ztile_cat['ZWARN']==0]"
   ]
  },
  {
   "cell_type": "code",
   "execution_count": 23,
   "id": "b63c6d42-7130-4f1b-8829-093c2cdf443c",
   "metadata": {},
   "outputs": [],
   "source": [
    "ztile_cat = ztile_cat[(ztile_cat['Z']< np.max(clean_catalog_EDR[\"Z_HP\"]))&(ztile_cat['Z'] > np.min(clean_catalog_EDR[\"Z_HP\"]))]"
   ]
  },
  {
   "cell_type": "code",
   "execution_count": 24,
   "id": "ec29c897-5bb0-4f15-8ba0-5d7a15c26a07",
   "metadata": {},
   "outputs": [],
   "source": [
    "ii = ztile_cat['TARGET_RA']>(np.min(clean_catalog_EDR[\"RA\"]))\n",
    "ii &= ztile_cat['TARGET_RA']<(np.max(clean_catalog_EDR[\"RA\"]))\n",
    "ii &= ztile_cat['TARGET_DEC']>(np.min(clean_catalog_EDR[\"DEC\"]))\n",
    "ii &= ztile_cat['TARGET_DEC']<(np.max(clean_catalog_EDR[\"DEC\"]))\n",
    "\n",
    "ztile_cat = ztile_cat[ii]"
   ]
  },
  {
   "cell_type": "code",
   "execution_count": 25,
   "id": "9d09e929-3d85-4634-ac7d-91c3fe245c73",
   "metadata": {},
   "outputs": [
    {
     "data": {
      "text/html": [
       "<div><i>Table length=5401708</i>\n",
       "<table id=\"table140119197182336\" class=\"table-striped table-bordered table-condensed\">\n",
       "<thead><tr><th>TARGETID</th><th>SURVEY</th><th>PROGRAM</th><th>LASTNIGHT</th><th>Z</th><th>ZERR</th><th>ZWARN</th><th>TARGET_RA</th><th>TARGET_DEC</th><th>FLUX_Z</th></tr></thead>\n",
       "<thead><tr><th>int64</th><th>bytes7</th><th>bytes6</th><th>int32</th><th>float64</th><th>float64</th><th>int64</th><th>float64</th><th>float64</th><th>float32</th></tr></thead>\n",
       "<tr><td>2305843042025759335</td><td>main</td><td>backup</td><td>20220511</td><td>0.00014906772113522666</td><td>8.975594515287998e-07</td><td>0</td><td>235.85647093748298</td><td>-1.6708985175873938</td><td>-99.0</td></tr>\n",
       "<tr><td>2305843042025757272</td><td>main</td><td>backup</td><td>20220511</td><td>0.0003068104282541753</td><td>7.720047851131946e-06</td><td>0</td><td>235.94010324631728</td><td>-1.5978009103499367</td><td>-99.0</td></tr>\n",
       "<tr><td>2305843042025762257</td><td>main</td><td>backup</td><td>20220511</td><td>2.3664406654331254e-05</td><td>4.875420303403359e-06</td><td>0</td><td>236.35657808540284</td><td>-1.4947998566884337</td><td>-99.0</td></tr>\n",
       "<tr><td>2305843042025762113</td><td>main</td><td>backup</td><td>20220511</td><td>4.407104200808614e-05</td><td>1.0675137088923616e-06</td><td>0</td><td>236.28049154708967</td><td>-1.520958258269812</td><td>-99.0</td></tr>\n",
       "<tr><td>2305843042025753030</td><td>main</td><td>backup</td><td>20220511</td><td>3.077658534136445e-05</td><td>4.138945335654424e-06</td><td>0</td><td>236.09387321653028</td><td>-1.1415255021284383</td><td>-99.0</td></tr>\n",
       "<tr><td>2305843042025757652</td><td>main</td><td>backup</td><td>20220511</td><td>0.00041328143190628525</td><td>1.940935742542998e-06</td><td>0</td><td>235.79318796432094</td><td>-1.6749389682783982</td><td>-99.0</td></tr>\n",
       "<tr><td>2305843042025754668</td><td>main</td><td>backup</td><td>20220511</td><td>8.488639025737443e-05</td><td>1.2169493070038444e-06</td><td>0</td><td>236.16685339177536</td><td>-1.1499079027376007</td><td>-99.0</td></tr>\n",
       "<tr><td>2305843042025749296</td><td>main</td><td>backup</td><td>20220511</td><td>5.206739814499873e-05</td><td>7.228139440820821e-06</td><td>0</td><td>236.61105881991423</td><td>-1.2720297990527458</td><td>-99.0</td></tr>\n",
       "<tr><td>2305843042025763291</td><td>main</td><td>backup</td><td>20220511</td><td>0.0001282344294143049</td><td>2.1652997541959446e-06</td><td>0</td><td>236.2964398901502</td><td>-1.3935705154324207</td><td>-99.0</td></tr>\n",
       "<tr><td>2305843042025762673</td><td>main</td><td>backup</td><td>20220511</td><td>9.050542776842223e-05</td><td>9.536533564767508e-07</td><td>0</td><td>235.82705462541196</td><td>-1.6061965752690737</td><td>-99.0</td></tr>\n",
       "<tr><td>...</td><td>...</td><td>...</td><td>...</td><td>...</td><td>...</td><td>...</td><td>...</td><td>...</td><td>...</td></tr>\n",
       "<tr><td>39633149575038948</td><td>sv3</td><td>dark</td><td>20210513</td><td>0.11888608731666993</td><td>6.186448983027869e-06</td><td>0</td><td>234.5268854466113</td><td>44.1242604509407</td><td>11.290937</td></tr>\n",
       "<tr><td>1084263147503620</td><td>sv3</td><td>dark</td><td>20210513</td><td>0.020530034683195447</td><td>5.757829598054159e-05</td><td>0</td><td>234.12235773529787</td><td>43.52127736038483</td><td>0.0</td></tr>\n",
       "<tr><td>39633149575038846</td><td>sv3</td><td>dark</td><td>20210513</td><td>0.24998948429150464</td><td>5.790321585662793e-06</td><td>0</td><td>234.51882818193738</td><td>43.90528456399717</td><td>0.45711946</td></tr>\n",
       "<tr><td>39633145208769320</td><td>sv3</td><td>dark</td><td>20210513</td><td>0.5648948794525408</td><td>7.041387281764866e-05</td><td>0</td><td>234.76254939488047</td><td>43.69212936800887</td><td>14.608801</td></tr>\n",
       "<tr><td>39633140834109757</td><td>sv3</td><td>dark</td><td>20210513</td><td>0.3818730901765182</td><td>1.2668913209232155e-05</td><td>0</td><td>235.4844232733341</td><td>43.398824621556294</td><td>0.44539875</td></tr>\n",
       "<tr><td>39633140834110016</td><td>sv3</td><td>dark</td><td>20210513</td><td>0.12555938784577245</td><td>2.866167144252641e-05</td><td>0</td><td>235.50660751771383</td><td>43.412953994521644</td><td>0.32440603</td></tr>\n",
       "<tr><td>39633145208768810</td><td>sv3</td><td>dark</td><td>20210513</td><td>0.47890929225069323</td><td>6.568798820052377e-05</td><td>0</td><td>234.70934028959107</td><td>43.72048352827263</td><td>24.8303</td></tr>\n",
       "<tr><td>39633145208768529</td><td>sv3</td><td>dark</td><td>20210513</td><td>0.4785417077163352</td><td>0.00017744109744436394</td><td>0</td><td>234.6777151152334</td><td>43.65146725910788</td><td>14.117805</td></tr>\n",
       "<tr><td>39633145208767905</td><td>sv3</td><td>dark</td><td>20210513</td><td>0.566455513062445</td><td>6.597857399116585e-05</td><td>0</td><td>234.6238252485546</td><td>43.79885653511939</td><td>18.162214</td></tr>\n",
       "<tr><td>39633145208768190</td><td>sv3</td><td>dark</td><td>20210513</td><td>0.11977319234935997</td><td>4.705542808949454e-06</td><td>0</td><td>234.65004356847484</td><td>43.790314877870415</td><td>10.312717</td></tr>\n",
       "</table></div>"
      ],
      "text/plain": [
       "<Table length=5401708>\n",
       "      TARGETID      SURVEY PROGRAM ...      TARGET_DEC       FLUX_Z  \n",
       "       int64        bytes7  bytes6 ...       float64        float32  \n",
       "------------------- ------ ------- ... ------------------- ----------\n",
       "2305843042025759335   main  backup ... -1.6708985175873938      -99.0\n",
       "2305843042025757272   main  backup ... -1.5978009103499367      -99.0\n",
       "2305843042025762257   main  backup ... -1.4947998566884337      -99.0\n",
       "2305843042025762113   main  backup ...  -1.520958258269812      -99.0\n",
       "2305843042025753030   main  backup ... -1.1415255021284383      -99.0\n",
       "2305843042025757652   main  backup ... -1.6749389682783982      -99.0\n",
       "2305843042025754668   main  backup ... -1.1499079027376007      -99.0\n",
       "2305843042025749296   main  backup ... -1.2720297990527458      -99.0\n",
       "2305843042025763291   main  backup ... -1.3935705154324207      -99.0\n",
       "2305843042025762673   main  backup ... -1.6061965752690737      -99.0\n",
       "                ...    ...     ... ...                 ...        ...\n",
       "  39633149575038948    sv3    dark ...    44.1242604509407  11.290937\n",
       "   1084263147503620    sv3    dark ...   43.52127736038483        0.0\n",
       "  39633149575038846    sv3    dark ...   43.90528456399717 0.45711946\n",
       "  39633145208769320    sv3    dark ...   43.69212936800887  14.608801\n",
       "  39633140834109757    sv3    dark ...  43.398824621556294 0.44539875\n",
       "  39633140834110016    sv3    dark ...  43.412953994521644 0.32440603\n",
       "  39633145208768810    sv3    dark ...   43.72048352827263    24.8303\n",
       "  39633145208768529    sv3    dark ...   43.65146725910788  14.117805\n",
       "  39633145208767905    sv3    dark ...   43.79885653511939  18.162214\n",
       "  39633145208768190    sv3    dark ...  43.790314877870415  10.312717"
      ]
     },
     "execution_count": 25,
     "metadata": {},
     "output_type": "execute_result"
    }
   ],
   "source": [
    "ztile_cat"
   ]
  },
  {
   "cell_type": "markdown",
   "id": "a21c644d-3b60-404b-9c26-55f79c4091a7",
   "metadata": {},
   "source": [
    "### Now we can simply divide the lengths of the table"
   ]
  },
  {
   "cell_type": "code",
   "execution_count": 43,
   "id": "2ecec14b-6348-495d-bd91-9601d4aff4f0",
   "metadata": {},
   "outputs": [
    {
     "name": "stdout",
     "output_type": "stream",
     "text": [
      "Compared to the IRON DR, the EDR has stellar masses for 4.905355861516394 % of the objects in the same volume\n"
     ]
    }
   ],
   "source": [
    "print(\"Compared to the IRON DR, the EDR has stellar masses for\", len(catalog_EDR)/len(ztile_cat)*100, \"% of the objects in the same volume\")"
   ]
  },
  {
   "cell_type": "code",
   "execution_count": 27,
   "id": "0d24cb6e-e334-4f4f-854c-895235b8aabe",
   "metadata": {},
   "outputs": [
    {
     "data": {
      "text/plain": [
       "5401708"
      ]
     },
     "execution_count": 27,
     "metadata": {},
     "output_type": "execute_result"
    }
   ],
   "source": [
    "len(ztile_cat[\"SURVEY\"])"
   ]
  },
  {
   "cell_type": "code",
   "execution_count": 28,
   "id": "8b17dec6-6d05-4840-bab5-e32aaeae9025",
   "metadata": {},
   "outputs": [
    {
     "data": {
      "text/plain": [
       "653697"
      ]
     },
     "execution_count": 28,
     "metadata": {},
     "output_type": "execute_result"
    }
   ],
   "source": [
    "len(ztile_cat[ztile_cat[\"SURVEY\"] == \"sv3\"])"
   ]
  },
  {
   "cell_type": "code",
   "execution_count": null,
   "id": "18dad150-7e29-4c55-9b68-158f7b36c388",
   "metadata": {},
   "outputs": [],
   "source": []
  }
 ],
 "metadata": {
  "kernelspec": {
   "display_name": "DESI 23.1",
   "language": "python",
   "name": "desi-23.1"
  },
  "language_info": {
   "codemirror_mode": {
    "name": "ipython",
    "version": 3
   },
   "file_extension": ".py",
   "mimetype": "text/x-python",
   "name": "python",
   "nbconvert_exporter": "python",
   "pygments_lexer": "ipython3",
   "version": "3.10.8"
  }
 },
 "nbformat": 4,
 "nbformat_minor": 5
}
