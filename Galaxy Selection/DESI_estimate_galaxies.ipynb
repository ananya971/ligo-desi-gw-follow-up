{
 "cells": [
  {
   "cell_type": "markdown",
   "id": "1100cc72-9616-4380-98ac-0d2e50fc8e76",
   "metadata": {
    "tags": []
   },
   "source": [
    "# **DESI estimate galaxies & compare to SDSS paper**\n",
    "\n",
    "In this notebook, I am exploring the DESI data, how to modify it or select parts of it. Currently I am working with the newest \"full\" realease, called Iron, which has all the nice Data Reduction already done.\n",
    "\n",
    "This notebook includes (at least):\n",
    "- import many libraries\n",
    "- importing DESI Iron data\n",
    "- reduce data dimensions (keep only certain columns, select objects in a 3D volume with good redshift, ...)\n",
    "- calculate apparent and absolute magnitudes of each object\n",
    "- plot apparent and absolute magnitudes\n",
    "- compare plots/data to the SDSS DR 6 paper: https://arxiv.org/pdf/0806.4930.pdf\n",
    "- calculate the coverage (for now only within DESI data) of flux, magnitudes and luminosities"
   ]
  },
  {
   "cell_type": "markdown",
   "id": "36aeb503-9f96-425e-8ce2-088441668f80",
   "metadata": {
    "tags": []
   },
   "source": [
    "## first steps (imports, info, inital data manipulation)"
   ]
  },
  {
   "cell_type": "markdown",
   "id": "b7e6fd2c-4d78-47a6-8640-f822e589e031",
   "metadata": {
    "tags": []
   },
   "source": [
    "### imports, accessing the data"
   ]
  },
  {
   "cell_type": "code",
   "execution_count": 1,
   "id": "e5bc9312-6020-4a8c-84ca-df3be7a8f26f",
   "metadata": {},
   "outputs": [],
   "source": [
    "# import some helpful python packages \n",
    "import os\n",
    "import numpy as np\n",
    "\n",
    "from astropy.io import fits\n",
    "from astropy.table import Table\n",
    "from astropy.convolution import convolve, Gaussian1DKernel\n",
    "import astropy\n",
    "astropy.__version__\n",
    "\n",
    "# needs to be at least version 5.1 to get the Schechter fit stuff\n",
    "\n",
    "import matplotlib \n",
    "import matplotlib.pyplot as plt\n",
    "\n",
    "import scipy as spy\n",
    "\n",
    "import astropy.constants as asc"
   ]
  },
  {
   "cell_type": "code",
   "execution_count": 2,
   "id": "ab765726-8a4d-49d5-ab55-e646b1869a75",
   "metadata": {},
   "outputs": [],
   "source": [
    "# import DESI related modules - \n",
    "from desimodel.footprint import radec2pix      # For getting healpix values\n",
    "import desispec.io                             # Input/Output functions related to DESI spectra\n",
    "from desispec import coaddition                # Functions related to coadding the spectra\n",
    "\n",
    "# DESI targeting masks - \n",
    "from desitarget.sv1 import sv1_targetmask    # For SV1\n",
    "from desitarget.sv2 import sv2_targetmask    # For SV2\n",
    "from desitarget.sv3 import sv3_targetmask    # For SV3\n",
    "from desitarget import targetmask            # main"
   ]
  },
  {
   "cell_type": "code",
   "execution_count": 3,
   "id": "16eec63b-6733-45f5-b93d-5c221953c55b",
   "metadata": {},
   "outputs": [],
   "source": [
    "from astropy.cosmology import Planck18, WMAP1\n",
    "from astropy.coordinates import Distance\n",
    "from astropy import units as u"
   ]
  },
  {
   "cell_type": "markdown",
   "id": "e2c60cb0-c003-4fb4-b7aa-f2a74ca89099",
   "metadata": {},
   "source": [
    "from astropy.cosmology import Planck18\n",
    "from astropy.coordinates import Distance\n",
    "from astropy import units as u\n",
    "import astropy.constants as asc"
   ]
  },
  {
   "cell_type": "code",
   "execution_count": 4,
   "id": "e892b7dd-8cd9-4514-90ef-a2b5519ad3ae",
   "metadata": {},
   "outputs": [],
   "source": [
    "# import image module\n",
    "from IPython.display import Image\n",
    " "
   ]
  },
  {
   "cell_type": "code",
   "execution_count": 5,
   "id": "c8aadace-f5ea-4f86-a568-ea35914882cf",
   "metadata": {},
   "outputs": [],
   "source": [
    "change_bin_width = 0.7\n",
    "# for plotting"
   ]
  },
  {
   "cell_type": "code",
   "execution_count": 6,
   "id": "18352d7e-8bcf-49b8-a66e-997d07a6ca53",
   "metadata": {},
   "outputs": [
    {
     "name": "stdout",
     "output_type": "stream",
     "text": [
      "/global/cfs/cdirs/desi/spectro/redux/iron/\n"
     ]
    }
   ],
   "source": [
    "# Release directory path\n",
    "\n",
    "specprod = 'iron'    # Internal name for most current data release\n",
    "specprod_dir = '/global/cfs/cdirs/desi/spectro/redux/iron/'\n",
    "print(specprod_dir)"
   ]
  },
  {
   "cell_type": "code",
   "execution_count": 7,
   "id": "cfac2131-aa4f-4f49-80f7-0d83df4b0059",
   "metadata": {},
   "outputs": [
    {
     "data": {
      "text/plain": [
       "['healpix',\n",
       " 'tiles',\n",
       " 'exposures-iron.csv',\n",
       " 'run',\n",
       " 'calibnight',\n",
       " 'exposures',\n",
       " 'tiles-iron.fits',\n",
       " 'processing_tables',\n",
       " 'preproc',\n",
       " 'inventory-iron.txt',\n",
       " 'exposure_tables',\n",
       " 'redux_iron.sha256sum',\n",
       " 'exposures-iron.fits',\n",
       " 'tiles-iron.csv',\n",
       " 'zcatalog']"
      ]
     },
     "execution_count": 7,
     "metadata": {},
     "output_type": "execute_result"
    }
   ],
   "source": [
    "# List everything in this directory\n",
    "os.listdir(specprod_dir)"
   ]
  },
  {
   "cell_type": "code",
   "execution_count": 8,
   "id": "ae522cfb-fc30-42b0-9ef0-ba287eb35efb",
   "metadata": {},
   "outputs": [
    {
     "name": "stdout",
     "output_type": "stream",
     "text": [
      "Tiles table columns: ['TILEID', 'SURVEY', 'PROGRAM', 'FAPRGRM', 'FAFLAVOR', 'NEXP', 'EXPTIME', 'TILERA', 'TILEDEC', 'EFFTIME_ETC', 'EFFTIME_SPEC', 'EFFTIME_GFA', 'GOALTIME', 'OBSSTATUS', 'LRG_EFFTIME_DARK', 'ELG_EFFTIME_DARK', 'BGS_EFFTIME_BRIGHT', 'LYA_EFFTIME_DARK', 'GOALTYPE', 'MINTFRAC', 'LASTNIGHT']\n"
     ]
    }
   ],
   "source": [
    "tiles_table = Table.read(f'{specprod_dir}/tiles-{specprod}.fits',)\n",
    "print(f\"Tiles table columns: {tiles_table.colnames}\")"
   ]
  },
  {
   "cell_type": "markdown",
   "id": "43b402cf-9491-4449-8144-02d26c41af4e",
   "metadata": {},
   "source": [
    "Now lets get the redshifts"
   ]
  },
  {
   "cell_type": "code",
   "execution_count": 9,
   "id": "7b79979b-02e5-4ecb-b515-5f04b57d1fd3",
   "metadata": {},
   "outputs": [
    {
     "data": {
      "text/plain": [
       "['ztile-special-dark-cumulative.fits',\n",
       " 'zpix-main-dark.fits',\n",
       " 'zpix-sv2-backup.fits',\n",
       " 'logs',\n",
       " 'zpix-sv3-bright.fits',\n",
       " 'ztile-special-dark-pernight.fits',\n",
       " 'zpix-special-backup.fits',\n",
       " 'ztile-sv3-bright-pernight.fits',\n",
       " 'ztile-sv1-bright-pernight.fits',\n",
       " 'ztile-sv2-bright-pernight.fits',\n",
       " 'zpix-sv3-dark.fits',\n",
       " 'zpix-sv3-backup.fits',\n",
       " 'ztile-main-dark-cumulative.fits',\n",
       " 'ztile-sv1-dark-cumulative.fits',\n",
       " 'zpix-sv1-bright.fits',\n",
       " 'ztile-cmx-other-cumulative.fits',\n",
       " 'zpix-cmx-other.fits',\n",
       " 'ztile-special-backup-cumulative.fits',\n",
       " 'zpix-sv2-dark.fits',\n",
       " 'zpix-sv1-dark.fits',\n",
       " 'ztile-sv3-backup-cumulative.fits',\n",
       " 'ztile-special-bright-cumulative.fits',\n",
       " 'ztile-sv1-other-cumulative.fits',\n",
       " 'ztile-cmx-other-pernight.fits',\n",
       " 'ztile-sv2-dark-cumulative.fits',\n",
       " 'ztile-sv3-bright-cumulative.fits',\n",
       " 'zpix-main-backup.fits',\n",
       " 'redux_iron_zcatalog.sha256sum',\n",
       " 'ztile-sv2-dark-pernight.fits',\n",
       " 'zall-pix-iron.fits',\n",
       " 'ztile-special-other-cumulative.fits',\n",
       " 'ztile-sv3-backup-pernight.fits',\n",
       " 'ztile-sv1-dark-pernight.fits',\n",
       " 'zpix-special-bright.fits',\n",
       " 'ztile-main-bright-cumulative.fits',\n",
       " 'zpix-sv1-other.fits',\n",
       " 'ztile-sv2-backup-pernight.fits',\n",
       " 'ztile-sv2-bright-cumulative.fits',\n",
       " 'ztile-sv1-other-pernight.fits',\n",
       " 'zpix-special-dark.fits',\n",
       " 'ztile-sv1-backup-pernight.fits',\n",
       " 'ztile-sv2-backup-cumulative.fits',\n",
       " 'zall-tilecumulative-iron.fits',\n",
       " 'zpix-main-bright.fits',\n",
       " 'ztile-sv1-backup-cumulative.fits',\n",
       " 'zpix-sv1-backup.fits',\n",
       " 'ztile-special-other-pernight.fits',\n",
       " 'ztile-sv3-dark-cumulative.fits',\n",
       " 'zpix-sv2-bright.fits',\n",
       " 'ztile-sv1-bright-cumulative.fits',\n",
       " 'ztile-main-backup-cumulative.fits',\n",
       " 'zpix-special-other.fits',\n",
       " 'ztile-sv3-dark-pernight.fits']"
      ]
     },
     "execution_count": 9,
     "metadata": {},
     "output_type": "execute_result"
    }
   ],
   "source": [
    "# Listing all the available redshift catalogs\n",
    "\n",
    "os.listdir(f'{specprod_dir}/zcatalog')"
   ]
  },
  {
   "cell_type": "markdown",
   "id": "9fecdf61-be5f-4ad5-a673-492e91639cae",
   "metadata": {
    "tags": []
   },
   "source": [
    "### get the raw data"
   ]
  },
  {
   "cell_type": "code",
   "execution_count": 10,
   "id": "5769ad22-8a3e-44a0-b3cd-5b9ac5e62d87",
   "metadata": {},
   "outputs": [
    {
     "name": "stderr",
     "output_type": "stream",
     "text": [
      "\n",
      "KeyboardInterrupt\n",
      "\n"
     ]
    }
   ],
   "source": [
    "ztile_cat = Table.read(f'{specprod_dir}/zcatalog/zall-tilecumulative-{specprod}.fits', hdu=\"ZCATALOG\")\n",
    "ztile_unm = ztile_cat.copy()"
   ]
  },
  {
   "cell_type": "code",
   "execution_count": null,
   "id": "bf2dac83-70db-4b4f-b0d9-3c71b9686e78",
   "metadata": {},
   "outputs": [],
   "source": [
    "ztile_cat = ztile_unm.copy()"
   ]
  },
  {
   "cell_type": "code",
   "execution_count": null,
   "id": "fbabf48c-39ac-4915-9848-497d3c541bf8",
   "metadata": {},
   "outputs": [],
   "source": [
    "np.max(ztile_cat[\"LASTNIGHT\"])"
   ]
  },
  {
   "cell_type": "code",
   "execution_count": null,
   "id": "ec445cf3-5c8b-4a25-bebb-d745900261ee",
   "metadata": {},
   "outputs": [],
   "source": [
    "ztile_cat[:5]"
   ]
  },
  {
   "cell_type": "markdown",
   "id": "54a326ba-cee8-4822-97f1-fc20fb0dcf5e",
   "metadata": {
    "tags": []
   },
   "source": [
    "### DESI coverage at the time of the used data release (13.6.22)"
   ]
  },
  {
   "cell_type": "code",
   "execution_count": null,
   "id": "18c6367e-6afb-4daa-b96e-a080a171af49",
   "metadata": {},
   "outputs": [],
   "source": [
    "Image(url=\"Images/DESI coverage IRON.png\", width = 800)"
   ]
  },
  {
   "cell_type": "code",
   "execution_count": null,
   "id": "e11360b9-6a7f-41a2-afef-6eafe7806b6a",
   "metadata": {},
   "outputs": [],
   "source": [
    "ztile_cat[:5]"
   ]
  },
  {
   "cell_type": "code",
   "execution_count": null,
   "id": "5aa690bf-4d6a-46be-a3db-7a819d880e35",
   "metadata": {},
   "outputs": [],
   "source": [
    "len(ztile_cat)"
   ]
  },
  {
   "cell_type": "markdown",
   "id": "3dc66e14-8b7f-4d0c-b3f8-75c38894f4b4",
   "metadata": {
    "tags": []
   },
   "source": [
    "### reduce data dimensions & calculate current volume\n",
    "only keep certain columns (maybe use different ones e.g. MEAN_FIBER_DEC might be the better choice than TARGET DEC..., but for now this should be ok):\n",
    "- TARGETID (unique ID per object)\n",
    "- SURVEY (Main, EDR,...)\n",
    "- PROGRAM (bright, dark)\n",
    "- Z (redshift and ZERR is its error)\n",
    "- ZWARN (whether something went wrong in calculating the redshfit)\n",
    "- TARGET_RA & TARGET_DEC\n",
    "- FLUX_Z (z-band flux)\n",
    "\n",
    "\n",
    "***NOTE ON THE FLUX***\n",
    "\n",
    "There are several values that are have \"flux\" in their names in the DESI data. Here is a short summary (copied from https://www.legacysurvey.org/dr10/catalogs/), what each of these mean (I am leaving out _g/_r ... for clarity):\n",
    "- **flux**: model flux [nanomaggy]\n",
    "- **flux_ivar**: inverse variance of flux [1/nanomaggy^2]\n",
    "- **fiberflux**: predicted flux within a fiber of diameter 1.5 arcsec from *this object* in 1 arcsec Gaussian seeing [nanomaggy]; \"It also provides galactic extinction measurements derived from the Schlegel et al. (1997) (SFD98) maps\", quoting ChangHoon et al. (2022) (DESI BGS: Final Target Selection, Design and Validation)\n",
    "- **fibertotflux**: Predicted flux within a fiber of diameter 1.5 arcsec from *all sources at this location* in 1 arcsec Gaussian seeing [nanomaggy]\n",
    "- **apflux**: Aperture fluxes on the co-added images in apertures of radius [0.5, 0.75, 1.0, 1.5, 2.0, 3.5, 5.0, 7.0] arcsec, masked by 𝑖𝑛𝑣𝑣𝑎𝑟=0 (inverse variance of zero) [nanomaggy]\n",
    "- apflux_resid: Aperture fluxes on the co-added residual images, masked by 𝑖𝑛𝑣𝑣𝑎𝑟=0 [nanomaggy]\n",
    "- apflux_ivar: Inverse variance of apflux_resid_g, masked by 𝑖𝑛𝑣𝑣𝑎𝑟=0 [1/nanomaggy^2]\n",
    "- ...\n",
    "\n",
    "\n",
    "After that we perform the steps to include only those galaxies we are interested in:\n",
    "- select only ZWARN == 0 galaxies (i.e. no problems in evaluation of z)\n",
    "- select certain redshift range\n",
    "- select certain area (ra and dec)\n",
    "- use only good z-flux values\n",
    "- (use only bright sample (for now))"
   ]
  },
  {
   "cell_type": "code",
   "execution_count": null,
   "id": "a56d2a8b-0920-4fe2-9d08-e07dea2e53c2",
   "metadata": {},
   "outputs": [],
   "source": [
    "ztile_cat.keep_columns(['TARGETID', 'SURVEY', 'PROGRAM', 'Z', 'ZERR', 'ZWARN', 'TARGET_RA', 'TARGET_DEC', 'FLUX_Z', 'LASTNIGHT'])"
   ]
  },
  {
   "cell_type": "code",
   "execution_count": null,
   "id": "1988752e-a943-46c0-8ec7-7c44da1744d4",
   "metadata": {},
   "outputs": [],
   "source": [
    "# \"NPIXELS\", \"DEVICE_LOC\", \"LOCATION\", \"FIBER\", \"PMRA\", \"PMDEC\", \"REF_EPOCH\", \"LAMBDA_REF\", \"FA_TARGET\", \"FA_TYPE\", \"FIBERASSIGN_X\", \"FIBERASSIGN_Y\", \"PRIORITY\", \"SUBPRIORITY\", \"RELEASE\", \"BRICKNAME\", \"BRICKID\", \"BRICK_OBJID\""
   ]
  },
  {
   "cell_type": "code",
   "execution_count": null,
   "id": "216a999a-2264-4c15-b48e-b6b40bc0ae66",
   "metadata": {},
   "outputs": [],
   "source": [
    "#ztile_cat = ztile_cat[ztile_cat['ZWARN']==0]"
   ]
  },
  {
   "cell_type": "code",
   "execution_count": null,
   "id": "c0dce56a-057d-4b0c-a72a-26b09b44fab1",
   "metadata": {},
   "outputs": [],
   "source": [
    "#print(\"current number of data entries (ZWARN step): \", len(ztile_cat))"
   ]
  },
  {
   "cell_type": "code",
   "execution_count": null,
   "id": "1ed040e2-955d-482f-867f-3daab3b44c0d",
   "metadata": {},
   "outputs": [],
   "source": [
    "# center: 0.036 +- 0.016\n",
    "# center 2: 0.202  +- 0.042\n",
    "# center GW170817 (need other dec, ra tho, bc DESI): 0.0093+-0.002\n",
    "z_max, z_min = 0.0093+0.002, 0.0093-0.002  # these are the z-band values from the SDSS paper (NOT ANYMORE: TO PLOT FOR GW DAY EVENT I CHANGED FROM 0.02, 0.23"
   ]
  },
  {
   "cell_type": "code",
   "execution_count": null,
   "id": "b9170fe4-7b38-491f-ac95-a789cf657f3f",
   "metadata": {},
   "outputs": [],
   "source": [
    "ztile_cat = ztile_cat[(ztile_cat['Z']< z_max)&(ztile_cat['Z'] > z_min)]"
   ]
  },
  {
   "cell_type": "code",
   "execution_count": null,
   "id": "055bbce2-3f97-442c-aa48-45f666917a60",
   "metadata": {},
   "outputs": [],
   "source": [
    "ztile_cat[0:5]"
   ]
  },
  {
   "cell_type": "code",
   "execution_count": null,
   "id": "9eec4905-2dcc-4b30-a790-46540c4a3f97",
   "metadata": {},
   "outputs": [],
   "source": [
    "print(\"current number of data entries (z-range selection):\", len(ztile_cat))"
   ]
  },
  {
   "cell_type": "code",
   "execution_count": null,
   "id": "ae013c9c-b5f5-416a-b708-a4ee1af07895",
   "metadata": {},
   "outputs": [],
   "source": [
    "min_ra = 180\n",
    "min_dec = -2\n",
    "max_ra = 184\n",
    "max_dec = 2\n",
    "\n",
    "area = (np.deg2rad(max_ra) - np.deg2rad(min_ra)) * (np.cos(np.deg2rad(90-max_dec)) - np.cos(np.deg2rad(90-min_dec)))\n",
    "area = area*((180/np.pi)**2)\n",
    "print('This patch has an area of {:.2f} sqdeg'.format(area))"
   ]
  },
  {
   "cell_type": "code",
   "execution_count": null,
   "id": "1749ea52-b4e6-4816-9153-fcf8fa42e262",
   "metadata": {},
   "outputs": [],
   "source": [
    "deg_to_rad = np.pi/180\n",
    "\n",
    "def simple_cubiod_volume(dist_min, dist_max, ra, dec):\n",
    "\n",
    "    \"\"\"\n",
    "    Calculates the volume in Mpc^3 (the search area), right now simply by taking 1/2 of the volume that two cuboids\n",
    "    (simply the flat planes at min and max distance) contain. In future one could refine this by calculating the actual\n",
    "    spherically shaped volume.\n",
    "    \"\"\"\n",
    "\n",
    "    angular = np.tan(ra*deg_to_rad/2)*np.tan(dec*deg_to_rad/2)\n",
    "    plane1 = 4*(dist_min**2)*(angular)\n",
    "    plane2 = 4*(dist_max**2)*(angular)\n",
    "    volume = (dist_max-dist_min)*(plane1+plane2)/2\n",
    "\n",
    "    #volume2 = (dist_max-dist_min)*(dist_min*np.tan(ra*deg_to_rad/2)*dist_min*np.tan(dec*deg_to_rad/2)*4+dist_max*np.tan(ra*deg_to_rad/2)*dist_max*np.tan(dec*deg_to_rad/2)*4)/2\n",
    "    return(volume)\n",
    "\n",
    "# this data should be read from a file instead of manually typing, but for now...\n",
    "# e.g. S190503bf had 448 deg^2 and 421+-105Mpc or S191216ap had 253 deg^2 and 376±70Mpc distance or very bad: S190706ai had 826deg^2, 5263±1402Mpc\n",
    "\n",
    "ra_dist = max_ra-min_ra        # region of interest in degrees for ra (this is from left to right tho, not the center)\n",
    "dec_dist = max_dec-min_dec       # region of interest in degrees for dec (this is from bottom to top tho, not the center)\n",
    "\n",
    "dist, dist_min, dist_max = Distance(z=(z_max+z_min)/2, cosmology=Planck18), Distance(z=z_min, cosmology=Planck18), Distance(z=z_max, cosmology=Planck18) # Luminosity distance measured from LIGO in Mpc\n",
    "# how does this change for different cosmologies?\n",
    "\n",
    "\n",
    "curr_vol = simple_cubiod_volume(dist_min, dist_max, ra_dist, dec_dist)\n",
    "print(curr_vol)"
   ]
  },
  {
   "cell_type": "code",
   "execution_count": null,
   "id": "d03a30ab-80e7-4beb-9eae-4a884406538f",
   "metadata": {},
   "outputs": [],
   "source": [
    "ii = ztile_cat['TARGET_RA']>(min_ra)\n",
    "ii &= ztile_cat['TARGET_RA']<(max_ra)\n",
    "ii &= ztile_cat['TARGET_DEC']>(min_dec)\n",
    "ii &= ztile_cat['TARGET_DEC']<(max_dec)\n",
    "\n",
    "ztile_cat = ztile_cat[ii]"
   ]
  },
  {
   "cell_type": "code",
   "execution_count": null,
   "id": "045024b1-35dc-4414-8549-25f2720700d3",
   "metadata": {},
   "outputs": [],
   "source": [
    "ztile_cat[0:5]"
   ]
  },
  {
   "cell_type": "code",
   "execution_count": null,
   "id": "10637f42-b5b5-4a23-bdc9-1655763ce6b0",
   "metadata": {},
   "outputs": [],
   "source": [
    "print(\"current number of data entries (area selection): \", len(ztile_cat))"
   ]
  },
  {
   "cell_type": "code",
   "execution_count": null,
   "id": "d9f311b3-b9d6-451c-95bb-1e20758bf395",
   "metadata": {},
   "outputs": [],
   "source": [
    "ztile_cat = ztile_cat[ztile_cat['ZWARN']==0]"
   ]
  },
  {
   "cell_type": "code",
   "execution_count": null,
   "id": "0d9596bb-efae-4947-91d9-89220eb85a82",
   "metadata": {},
   "outputs": [],
   "source": [
    "print(\"current number of data entries (zwarn selection): \", len(ztile_cat))"
   ]
  },
  {
   "cell_type": "code",
   "execution_count": null,
   "id": "23261926-bf20-46e4-adae-a922c3f410ef",
   "metadata": {},
   "outputs": [],
   "source": [
    "ztile_cat = ztile_cat[ztile_cat[\"FLUX_Z\"] > 0.0]"
   ]
  },
  {
   "cell_type": "code",
   "execution_count": null,
   "id": "ccfc9550-e71e-474a-aeda-b68cf1fa9492",
   "metadata": {},
   "outputs": [],
   "source": [
    "ztile_cat[0:5]"
   ]
  },
  {
   "cell_type": "code",
   "execution_count": null,
   "id": "cfae46cb-f971-408f-b98b-662bf2e17541",
   "metadata": {},
   "outputs": [],
   "source": [
    "print(\"current number of data entries (z-band flux bad value deletion): \", len(ztile_cat))"
   ]
  },
  {
   "cell_type": "code",
   "execution_count": null,
   "id": "14e4baa1-94db-4685-b7a5-d5d64557a380",
   "metadata": {},
   "outputs": [],
   "source": [
    "# ztile_cat = ztile_cat[ztile_cat[\"PROGRAM\"]== \"bright\"]"
   ]
  },
  {
   "cell_type": "code",
   "execution_count": null,
   "id": "d36d48b5-1e33-472b-b6fe-8184e3f8d9dd",
   "metadata": {},
   "outputs": [],
   "source": [
    "# print(\"current number of data entries (bright program selection): \", len(ztile_cat))"
   ]
  },
  {
   "cell_type": "code",
   "execution_count": null,
   "id": "d9c92672-236c-4e4b-9b73-5d90158ca0a4",
   "metadata": {},
   "outputs": [],
   "source": [
    "# ztile_cat[0:5]"
   ]
  },
  {
   "cell_type": "code",
   "execution_count": null,
   "id": "b9e5adb3-60a6-4679-9e63-d1d3165b9faa",
   "metadata": {},
   "outputs": [],
   "source": [
    "len(ztile_cat)"
   ]
  },
  {
   "cell_type": "code",
   "execution_count": null,
   "id": "4c899989-b6a3-4f93-a685-fa46d1de16b0",
   "metadata": {},
   "outputs": [],
   "source": [
    "np.max(ztile_cat[\"FLUX_Z\"])"
   ]
  },
  {
   "cell_type": "code",
   "execution_count": null,
   "id": "d7a8ec34-8312-4bf0-beeb-9afb71b05e1e",
   "metadata": {},
   "outputs": [],
   "source": [
    "(ztile_cat[\"FLUX_Z\"] == 0.0).sum()"
   ]
  },
  {
   "cell_type": "code",
   "execution_count": null,
   "id": "dccecddc-ccc4-4626-81fc-eb335af5d971",
   "metadata": {},
   "outputs": [],
   "source": [
    "np.count_nonzero(ztile_cat[\"FLUX_Z\"]<1000)"
   ]
  },
  {
   "cell_type": "code",
   "execution_count": null,
   "id": "b3756d64-abf6-49d7-821f-8cf2f66b577d",
   "metadata": {},
   "outputs": [],
   "source": [
    "np.sum(ztile_cat[\"FLUX_Z\"])"
   ]
  },
  {
   "cell_type": "code",
   "execution_count": null,
   "id": "a8d079d1-4bf5-4ef6-b48f-c7b230a4bb54",
   "metadata": {},
   "outputs": [],
   "source": [
    "above_threshold = ztile_cat[ztile_cat[\"FLUX_Z\"]>1000]"
   ]
  },
  {
   "cell_type": "code",
   "execution_count": null,
   "id": "9ebbbdb5-7ec8-46f2-8009-df73c2dfdfdc",
   "metadata": {},
   "outputs": [],
   "source": [
    "above_threshold"
   ]
  },
  {
   "cell_type": "code",
   "execution_count": null,
   "id": "7e5ef019-9175-4900-abf5-1f42bbceb846",
   "metadata": {},
   "outputs": [],
   "source": [
    "np.sum(above_threshold[\"FLUX_Z\"])"
   ]
  },
  {
   "cell_type": "code",
   "execution_count": null,
   "id": "25f553a1-9bd5-4a7c-8b5f-0ff13086da44",
   "metadata": {},
   "outputs": [],
   "source": [
    "np.sum(above_threshold[\"FLUX_Z\"])/np.sum(ztile_cat[\"FLUX_Z\"])"
   ]
  },
  {
   "cell_type": "markdown",
   "id": "0d8648a8-a1a3-4d6a-8ecb-5ec3e70e4c61",
   "metadata": {
    "tags": []
   },
   "source": [
    "## Calculate absolute & apparent magnitudes from fluxes for further analysis, short data overview\n",
    "\n",
    "From the z-band fluxes we first calculate the absolute magnitudes, according to https://www.legacysurvey.org/dr10/description/ :$$m = 22.5-2.5log_{10}(flux)$$) and $$M = m - 5*\\log_{10}(d_{pc})+ 5$$\n",
    "\n",
    "The steps here are very similar/the same as described in the SDSS paper!\n",
    "\n",
    "**this is currently possibly missing a redshift correction**"
   ]
  },
  {
   "cell_type": "code",
   "execution_count": null,
   "id": "455aec71-0acb-4a71-9cfb-011ca2a31496",
   "metadata": {},
   "outputs": [],
   "source": [
    "# calculate the absolute and apparent magnitude of every galaxy (Planck Cosmology)\n",
    "app_mag = [22.5-2.5*np.log10(ztile_cat[\"FLUX_Z\"][q]) for q in range(len(ztile_cat[\"FLUX_Z\"]))]\n",
    "abs_mag = [(app_mag[q] - 5*np.log10(Distance(z=ztile_cat[\"Z\"][q], cosmology=Planck18)/u.Mpc*10**6)+5).value for q in range(len(ztile_cat[\"FLUX_Z\"]))]"
   ]
  },
  {
   "cell_type": "code",
   "execution_count": null,
   "id": "ac0d15b2-59e0-4934-a611-e0f3a2ed539b",
   "metadata": {},
   "outputs": [],
   "source": [
    "abs_mag[:10], len(abs_mag)"
   ]
  },
  {
   "cell_type": "code",
   "execution_count": null,
   "id": "169be19f-0736-4a79-ae76-01f208873a8d",
   "metadata": {},
   "outputs": [],
   "source": [
    "np.min(abs_mag) # shows the minimal absolute magnitude in the sample"
   ]
  },
  {
   "cell_type": "code",
   "execution_count": null,
   "id": "d35c91af-87ed-4917-a74a-c309c6e4066f",
   "metadata": {},
   "outputs": [],
   "source": [
    "# get the limits of the absolute magnitudes (for integration and more), define the number of bins\n",
    "# (scales with higher difference in mags)\n",
    "upper_limit_abs = np.max(abs_mag)\n",
    "lower_limit_abs = np.min(abs_mag)\n",
    "num_of_bins_abs = int((upper_limit_abs - lower_limit_abs)*100)\n",
    "\n",
    "print(\"The number of abs mag bins is: \", num_of_bins_abs)\n",
    "print(\"The abs mag bin width is: \", (upper_limit_abs-lower_limit_abs)/num_of_bins_abs)"
   ]
  },
  {
   "cell_type": "code",
   "execution_count": null,
   "id": "3a8ffd2f-6ce8-41c9-9fcc-479a0684dc11",
   "metadata": {},
   "outputs": [],
   "source": [
    "# get the limits of the apparent magnitudes (for integration and more), define the number of bins\n",
    "# (scales with higher difference in mags) and evenly divide the magnitudes (e.g. for plotting)\n",
    "upper_limit_app = np.max(app_mag)\n",
    "lower_limit_app = np.min(app_mag)\n",
    "num_of_bins_app = int((upper_limit_app - lower_limit_app)*100)\n",
    "\n",
    "print(\"The number of bins is: \", num_of_bins_app)\n",
    "print(\"The bin width is: \", (upper_limit_app-lower_limit_app)/num_of_bins_app)"
   ]
  },
  {
   "cell_type": "markdown",
   "id": "40771610-5cca-45f0-bab9-75d67cc92619",
   "metadata": {
    "tags": []
   },
   "source": [
    "### Important Notice about the graphs!\n",
    "\n",
    "The choice of ***the bin width*** changes the plot below **significantly**! The smaller the bins, the fewer galaxies per bin, of course. For here, I choose very small bins for illustration, but three steps further down I will use the bigger bins (similar to the SDSS paper and their \"N_euclidean\" count)."
   ]
  },
  {
   "cell_type": "code",
   "execution_count": null,
   "id": "1bbefcd4-c345-4516-8446-8319bcf3766a",
   "metadata": {},
   "outputs": [],
   "source": [
    "# this just sorts the magnitudes in an ascending manner, i.e. the lowest value of magnitude becomes the first entry\n",
    "# abs_mags_sort = np.sort(abs_mag)\n",
    "\n",
    "# create the histogramm (i.e. x values are the mags, y values are the number of occurences per bin)\n",
    "N_abs, mags_abs_binned = np.histogram(abs_mag, bins = num_of_bins_abs, range = (lower_limit_abs, upper_limit_abs))\n",
    "N_abs[:10]\n",
    "\n",
    "N_app, mags_app_binned = np.histogram(app_mag, bins = num_of_bins_app, range = (lower_limit_app, upper_limit_app))\n",
    "N_app[:10]\n"
   ]
  },
  {
   "cell_type": "markdown",
   "id": "2aee7df2-74b0-4a57-9822-f6744cfedd45",
   "metadata": {
    "tags": []
   },
   "source": [
    "### Getting an idea about the data\n",
    "\n",
    "For now I just plot the data, with a more or less arbitrary size/number of bins."
   ]
  },
  {
   "cell_type": "code",
   "execution_count": null,
   "id": "1ebc2b41-4ecc-4d84-bfb9-4279ffd82d18",
   "metadata": {},
   "outputs": [],
   "source": [
    "fig, ax = plt.subplots(ncols = 2, figsize=(19, 5))\n",
    "width_abs_mags = change_bin_width * (mags_abs_binned[1] - mags_abs_binned[0])\n",
    "center_abs_mags = (mags_abs_binned[:-1] + mags_abs_binned[1:])/2\n",
    "\n",
    "ax[0].bar(center_abs_mags, N_abs,  align = \"center\", width = width_abs_mags, label = \"number of galaxies per z-band absolute magnitude bin\")\n",
    "ax[0].set_xlabel(\"absolute magnitude in z-band\")\n",
    "y_label_abs = \"N in \" + str(width_abs_mags/change_bin_width) + \" width bins\"\n",
    "ax[0].set_ylabel(y_label_abs)\n",
    "ax[0].set_yscale('log')\n",
    "ax[0].legend(loc = \"upper right\")\n",
    "\n",
    "\n",
    "width_app_mags = change_bin_width * (mags_app_binned[1] - mags_app_binned[0])\n",
    "center_app_mags = (mags_app_binned[:-1] + mags_app_binned[1:])/2\n",
    "\n",
    "ax[1].bar(center_app_mags, N_app,  align = \"center\", width = width_app_mags, label = \"number of galaxies per z-band apparent magnitude bin\")\n",
    "ax[1].set_xlabel(\"apparent magnitude in z-band\")\n",
    "y_label_app = \"N in \" + str(width_app_mags/change_bin_width) + \" width bins\"\n",
    "ax[1].set_ylabel(y_label_app)\n",
    "ax[1].set_yscale('log')\n",
    "ax[1].legend(loc = \"upper right\")\n",
    "\n",
    "plt.show()"
   ]
  },
  {
   "cell_type": "markdown",
   "id": "61b31795-3f3f-432f-8e0e-86f44b69cb3f",
   "metadata": {
    "tags": []
   },
   "source": [
    "## Comparing to SDSS paper\n",
    "\n",
    "Here I compare this data to the SDSS paper:\n",
    "\n",
    "- total count N in half mag bin per deg^2 vs. apparent magnitude (including with $$N_{euclidean}$$ scaling)\n",
    "- total count N in half mag bin per deg^2 vs. absolute magnitude\n",
    "- plot the Schechter function from the SDSS paper (basicall logN vs absolute mag)\n",
    "- some other validation/training plots/calcs\n",
    "\n",
    "The formula for the scaling is: $$ N_{euclidean} = 10^{0.6(m-18)} $$\n",
    "\n",
    "If either bin width or redshift range differs from the paper one canoot meaningfully compares the numbers, however, the general shape should stay the same.\n",
    "\n",
    "DESI z-band and SDSS z-band are somewhat different:\n",
    "- DESI: mean at 925nm, delta of 150nm\n",
    "- SDSS: mean at 885nm, delta of 120nm"
   ]
  },
  {
   "cell_type": "markdown",
   "id": "c4e39fa4-6071-4e9f-b2dc-f3acee182780",
   "metadata": {},
   "source": []
  },
  {
   "cell_type": "code",
   "execution_count": null,
   "id": "6276c7cc-767d-496e-b693-f530e667612a",
   "metadata": {},
   "outputs": [],
   "source": [
    "def eucl(m):\n",
    "    return 10**-(0.6*(m-18))"
   ]
  },
  {
   "cell_type": "code",
   "execution_count": null,
   "id": "dedbe3e6-a846-42af-b04d-9c4ab0af1faa",
   "metadata": {},
   "outputs": [],
   "source": [
    "# this time we want the bin width to be exactly 0.5 magnitudes as in the paper.\n",
    "bins_app = np.arange(lower_limit_app, upper_limit_app, 0.5)\n",
    "bins_abs = np.arange(lower_limit_abs, upper_limit_abs, 0.5)"
   ]
  },
  {
   "cell_type": "code",
   "execution_count": null,
   "id": "5bbbf360-40ee-42d7-835f-d825f307bcaa",
   "metadata": {},
   "outputs": [],
   "source": [
    "bins_app[:5]"
   ]
  },
  {
   "cell_type": "code",
   "execution_count": null,
   "id": "119cf4ad-dcc3-46d1-9b70-4683bc377e89",
   "metadata": {},
   "outputs": [],
   "source": [
    "# create the histogramm (i.e. x values are the mags, y values are the number of objects per magnitude bin)\n",
    "N_abs_big, mags_abs_binned_big = np.histogram(abs_mag, bins = bins_abs)\n",
    "\n",
    "N_app_big, mags_app_binned_big = np.histogram(app_mag, bins = bins_app)"
   ]
  },
  {
   "cell_type": "code",
   "execution_count": null,
   "id": "b83c486a-cf35-4c0d-9c6e-e6d3c931a888",
   "metadata": {},
   "outputs": [],
   "source": [
    "N_euc_app = eucl((bins_app[:-1] + bins_app[1:])/2)"
   ]
  },
  {
   "cell_type": "code",
   "execution_count": null,
   "id": "d1d77686-aece-4acc-ba1b-74540f1bf258",
   "metadata": {},
   "outputs": [],
   "source": [
    "N_euc_app[:5]"
   ]
  },
  {
   "cell_type": "markdown",
   "id": "a5c16232-deb0-4bbc-8193-59bb9902ded5",
   "metadata": {},
   "source": [
    "Now lets first have a look at what we can expect from the SDSS paper:"
   ]
  },
  {
   "cell_type": "code",
   "execution_count": null,
   "id": "5ca9889e-e5cd-44c3-b90e-9572ea35d541",
   "metadata": {},
   "outputs": [],
   "source": [
    "Image(url=\"Images/SDSS apparent mag vs logN.png\", width = 600)"
   ]
  },
  {
   "cell_type": "code",
   "execution_count": null,
   "id": "fc0fa7b5-1679-4b40-9b3f-1785f206af33",
   "metadata": {},
   "outputs": [],
   "source": [
    "Image(url=\"Images/SDSS abs mag vs N.png\", width = 600)"
   ]
  },
  {
   "cell_type": "markdown",
   "id": "2bbf21ce-42e3-46f3-a7bf-65b7a841f90b",
   "metadata": {},
   "source": [
    "And now plot our own data\n",
    "\n",
    "(for above: if h = 0 -> obv no shift, if h = 0.7 then shift by ~0.77)"
   ]
  },
  {
   "cell_type": "code",
   "execution_count": null,
   "id": "77d1e12c-5682-489d-9d81-649f8e306197",
   "metadata": {},
   "outputs": [],
   "source": [
    "# Now lets plot these\n",
    "fig, ax = plt.subplots(ncols = 3, figsize=(25, 5))\n",
    "\n",
    "width_abs_mags_big = change_bin_width * (mags_abs_binned_big[1] - mags_abs_binned_big[0])\n",
    "center_abs_mags_big = (mags_abs_binned_big[:-1] + mags_abs_binned_big[1:])/2\n",
    "\n",
    "ax[0].bar(center_abs_mags_big, N_abs_big/area,  align = \"center\", width = width_abs_mags_big, label = \"number of galaxies per z-band \\n absolute magnitude bin (larger bins)\")\n",
    "ax[0].set_xlabel(\"absolute magnitude in z-band\")\n",
    "y_label_abs = \"N in \" + str(width_abs_mags_big/change_bin_width) + \" width bins and per square deg\"\n",
    "ax[0].set_ylabel(y_label_abs)\n",
    "#ax[0].set_yscale('log')\n",
    "ax[0].legend(loc = \"upper right\")\n",
    "\n",
    "# the data from the SDSS paper, just extracted by hand\n",
    "mags_SDSS = [-24, -23.7, -23.5, -23.35, -23.1, -22.95, -22.85, -22.65, -21.5, -20.2, -18, -17]\n",
    "dN = [10**(-6.75), 10**(-6.2), 10**(-5.65), 10**(-5.1), 10**(-4.7), 10**(-4.4), 10**(-4.1), 10**(-3.8), 10**(-2.5), 10**(-2.1), 10**(-1.9), 10**(-1.8)]\n",
    "\n",
    "\n",
    "ax[1].bar(center_abs_mags_big, N_abs_big/curr_vol*u.Mpc**3,  align = \"center\", width = width_abs_mags_big, label = \"number of galaxies per z-band \\n absolute magnitude bin (larger bins)\")\n",
    "ax[1].bar(mags_SDSS, dN,  align = \"center\", width = 0.5*width_abs_mags_big, label = \"number of galaxies per z-band from SDSS paper\")\n",
    "ax[1].set_xlabel(\"absolute magnitude in z-band\")\n",
    "y_label_abs = \"N in \" + str(width_abs_mags_big/change_bin_width) + \" width bins and per square deg (log space)\"\n",
    "ax[1].set_ylabel(y_label_abs)\n",
    "ax[1].set_yscale('log')\n",
    "ax[1].legend(loc = \"lower right\")\n",
    "\n",
    "\n",
    "width_app_mags_big = change_bin_width * (mags_app_binned_big[1] - mags_app_binned_big[0])\n",
    "center_app_mags_big = (mags_app_binned_big[:-1] + mags_app_binned_big[1:])/2\n",
    "\n",
    "ax[2].bar(center_app_mags_big, N_app_big/area,  align = \"center\", width = width_app_mags_big, label = \"number of galaxies per z-band apparent magnitude bin (larger bins)\")\n",
    "ax[2].bar(center_app_mags_big, N_app_big*N_euc_app/area,  align = \"center\", width = width_app_mags_big*0.75, label = \"number of galaxies per z-band apparent magnitude bin (w/ euclidean model)\")\n",
    "ax[2].set_xlabel(\"apparent magnitude in z-band\")\n",
    "y_label_app = \"N in \" + str(width_app_mags_big/change_bin_width) + \" width bins and per square deg (log scale)\"\n",
    "ax[2].set_ylabel(y_label_app)\n",
    "ax[2].set_yscale('log')\n",
    "ax[2].legend(loc = \"lower left\")\n",
    "\n",
    "plt.show()"
   ]
  },
  {
   "cell_type": "code",
   "execution_count": null,
   "id": "f1623432-8f29-4675-9cf2-a1531fe07770",
   "metadata": {},
   "outputs": [],
   "source": [
    "np.max(N_abs_big)/area"
   ]
  },
  {
   "cell_type": "code",
   "execution_count": null,
   "id": "c6bf8f34-1555-4105-a3ce-aecb6a800c72",
   "metadata": {},
   "outputs": [],
   "source": [
    "0.89/(10**4)"
   ]
  },
  {
   "cell_type": "code",
   "execution_count": null,
   "id": "ccf370ed-c352-4f70-9f4b-29cff18fd4a0",
   "metadata": {},
   "outputs": [],
   "source": [
    "-21.43-5*np.log10(0.7)"
   ]
  },
  {
   "cell_type": "markdown",
   "id": "eccba814-e137-463e-ae20-65b55fc5e44f",
   "metadata": {},
   "source": [
    "From here we can see that apparently DESI has less objects covered in this region than SDSS, but at the faint end DESI has more objects covered. It is not entirely clear to me, why there are less objects in DESI.  More faint objects in DESI does make totally sense, though, since DESI simply is deeper and can cover more faint objects.\n",
    "\n",
    "I think I retraced every step to be able to compare the two surves:\n",
    "- same 3D volume (redshift selection and division by area)\n",
    "- DESI coverage of the used patch should be near complete/full (it had 4 passes in this area)\n",
    "- Used the euclidean model for calculating N (only apparent magnitudes) just like in the SDSS paper\n",
    "- Used \"half a mag\" bin\n",
    "\n",
    "The last point startles me even more, since my bins in the plots look much wider than the values plotted in the SDSS paper. Maybe \"half a mag\" means something entirely different? Therefore, my numbers should be reduced even more, since my bins are wider than in the paper.\n",
    "\n",
    "Maybe I am looking at a region in the sky, which is simply less dense, but I would assume that on scales of 200square deg it should be okay.\n"
   ]
  },
  {
   "cell_type": "markdown",
   "id": "5c87e895-d40e-42cd-a6fb-b23e63e7fa59",
   "metadata": {
    "tags": []
   },
   "source": [
    "### Create the schechter model from the values given in the SDSS paper\n",
    "Schechter function variables from z-band (page 8): https://arxiv.org/pdf/0806.4930.pdf"
   ]
  },
  {
   "cell_type": "code",
   "execution_count": null,
   "id": "d9c9596f-1abe-4bce-8318-14d982b2ceff",
   "metadata": {},
   "outputs": [],
   "source": [
    "# Schechter function variables from z-band (page 8): https://arxiv.org/pdf/0806.4930.pdf\n",
    "# the paper seems to be the right one IMO, since it uses z-band flux and SDSS data, which I think is quite similar to DESI BGS, however:\n",
    "# https://iopscience.iop.org/article/10.1088/0004-6256/149/5/171#aj511667s6 for example suggests different values, but uses the 2MASS catalog which I haven't looked at yet.\n",
    "# 2MASS (https://irsa.ipac.caltech.edu/data/2MASS/docs/releases/docs.html) observerd in J,H,K_s bands (to reduce dust extinction, but this likely explains the different values of\n",
    "# alpha = -1.0, M_K^* = -23.55 +5logh (in the k-band), but they dont provide the normalization factor N_k (or here Phi_star) \n",
    "\n",
    "from astropy.modeling.models import Schechter1D\n",
    "from astropy.modeling import models, fitting\n",
    "\n",
    "h = 1\n",
    "Phi_star = 0.89/(10**2)*h**3            # Normalization\n",
    "M_star = -21.43 - 5*np.log10(h)         # since h = 1 this is simply -21.43\n",
    "alpha = -1.26                           # slope of the power law function\n",
    "\n",
    "model = Schechter1D(Phi_star, M_star, alpha)"
   ]
  },
  {
   "cell_type": "markdown",
   "id": "12bc2d69-f8f4-428a-9a64-b562704b0a76",
   "metadata": {
    "tags": []
   },
   "source": [
    "### To-Do: Fit own model to the DESI data\n",
    "\n",
    "Here is where I am currently wondering:\n",
    "- the bins selected above are arbitrary in size, therefore their respective counts can also be scaled as I want -> What to do? (Also: if I just assume the 0.5 mag bins, I would need to ensure that a) this is right and b) I am *actually* using 0.5 mag bins, as in the SDSS papers, these have different sizes)\n",
    "- What is this SWML estimate that the SDSS paper talks about?"
   ]
  },
  {
   "cell_type": "code",
   "execution_count": null,
   "id": "d903d9c8-f2a4-4bb7-95f3-59ea1dd74654",
   "metadata": {},
   "outputs": [],
   "source": [
    "# get model\n",
    "Schechter = models.Schechter1D()\n",
    "# set fitting algorithm\n",
    "fit_alg = fitting.LevMarLSQFitter() # only this Fitter is able to fit, all others from here: https://docs.astropy.org/en/stable/modeling/fitting.html fail\n",
    "# perform fit\n",
    "# schechter1D_fit = fit_alg(Schechter, real_mags, real_cumulated_galaxies)"
   ]
  },
  {
   "cell_type": "markdown",
   "id": "afe92a2f-af50-4697-970e-cb6b2ab5a7ea",
   "metadata": {
    "tags": []
   },
   "source": [
    "### (Just a test) Plot SDSS data by hand, model and own fit\n",
    "\n",
    "As we can see, even by just reading the values from the paper, the fit is quite close to the SDSS values"
   ]
  },
  {
   "cell_type": "code",
   "execution_count": null,
   "id": "d3bfd7ff-7104-4afe-9abe-5b6300ffbde6",
   "metadata": {},
   "outputs": [],
   "source": [
    "# since the plot from the SDSS paper isnt properly reproduced with the Schechter model from above, lets plot the data here (I read the data from the plot, so not so precise)\n",
    "\n",
    "Schechter2 = models.Schechter1D()\n",
    "\n",
    "fit_alg2 = fitting.LevMarLSQFitter() # only this Fitter is able to fit, all others from here: https://docs.astropy.org/en/stable/modeling/fitting.html fail\n",
    "\n",
    "schechter1D_fit2 = fit_alg2(Schechter2, mags_SDSS, dN)\n",
    "\n",
    "print(schechter1D_fit2)\n",
    "\n",
    "model2 = Schechter1D(schechter1D_fit2.phi_star.value, schechter1D_fit2.m_star.value, schechter1D_fit2.alpha.value)\n",
    "\n",
    "fig, ax = plt.subplots(figsize=(5, 5))\n",
    "\n",
    "ax.scatter(mags_SDSS, dN, label='SDSS data by hand', marker = \"x\", color = \"orange\")\n",
    "ax.plot(center_abs_mags, schechter1D_fit2(center_abs_mags), label='Schechter fit to SDSS data', color = \"red\", linestyle = \"dashed\")\n",
    "#ax.plot(center_abs_mags, model2(center_abs_mags), label='model from own fit data', color = \"yellow\", linestyle = \"dashed\")\n",
    "ax.plot(center_abs_mags, model(center_abs_mags), label='SDSS model', color = \"green\", linestyle = \"dashed\")\n",
    "\n",
    "ax.set_xlabel(\"absolute magnitude in z-band\")\n",
    "ax.set_ylabel(\"$\\phi$ [mag$^{-1}]$\")\n",
    "ax.set_yscale('log')\n",
    "ax.set_xlim(-28, -17)\n",
    "ax.set_ylim(10**(-8),10**0)\n",
    "ax.legend(loc = \"upper left\")\n",
    "\n",
    "plt.show()"
   ]
  },
  {
   "cell_type": "markdown",
   "id": "c347b86a-26d6-4c8d-acb0-5f00fe5f5266",
   "metadata": {
    "tags": []
   },
   "source": [
    "## Calculate and compare the covered luminosity, flux & mags after N galaxies (within DESI)"
   ]
  },
  {
   "cell_type": "code",
   "execution_count": null,
   "id": "a72f4557-275c-41d9-b6a9-e40a900ae450",
   "metadata": {},
   "outputs": [],
   "source": [
    "# first we define the luminosity funciton\n",
    "def lum(M):\n",
    "    return asc.L_bol0*np.exp(-0.4*M)/u.W"
   ]
  },
  {
   "cell_type": "code",
   "execution_count": null,
   "id": "56db9102-1804-4b07-8c09-9387037afd31",
   "metadata": {},
   "outputs": [],
   "source": [
    "# However, since we only look at the z-band we need to correct the solar luminosity\n",
    "# Calculation from here: https://astronomy.stackexchange.com/questions/25126/how-to-calculate-luminosity-in-g-band-from-absolute-ab-magnitude-and-luminosity\n",
    "\n",
    "# filter data from: https://arxiv.org/pdf/1804.08657.pdf\n",
    "lmbda = 925*10**(-9) #in  m\n",
    "del_lambda = 150*10**(-9) #in m\n",
    "del_v = (asc.c*lmbda/(del_lambda**2)).value # this is in /s now\n",
    "print(del_v)\n",
    "\n",
    "m_sun = -27.74 # in z-band: http://mips.as.arizona.edu/~cnaw/sun.html\n",
    "\n",
    "f_v = 10**((-48.6-m_sun)/2.5) # in erg/(cm^2 s Hz)\n",
    "print(f_v)\n",
    "dist_sun = 1.496*10**13 # in cm\n",
    "\n",
    "L_sun_z = f_v*del_v*4*np.pi*dist_sun**2 # this is  in erg/s, convert to W in function declaration\n",
    "# the value is roughly half of the full bolometric value... not sure if this makes sense\n",
    "print(L_sun_z)\n",
    "\n",
    "def lum_z(M):\n",
    "    return L_sun_z*10**(-7)*np.exp(-0.4*M)"
   ]
  },
  {
   "cell_type": "code",
   "execution_count": null,
   "id": "e445d5e1-8d6f-491d-a75e-40ad22bde1cc",
   "metadata": {},
   "outputs": [],
   "source": [
    "N_galaxies = 10 # number of galaxies we can look at, 10 should be possible"
   ]
  },
  {
   "cell_type": "markdown",
   "id": "6ca5171a-404f-4fd8-8927-eadf388a00e3",
   "metadata": {
    "jp-MarkdownHeadingCollapsed": true,
    "tags": []
   },
   "source": [
    "### Flux\n",
    "\n",
    "Calculating the flux is trivial: one just takes all the fluxes and sums over them (i.e. the real measured z-band flux from the DESI data) and compares them to the value one gets, if you only sum over the first N_galaxies values (by \"first\" I mean the highest values, therefore one has to sort the list)"
   ]
  },
  {
   "cell_type": "code",
   "execution_count": null,
   "id": "d45a289e-577f-40a1-bfa4-b46e051a9a18",
   "metadata": {},
   "outputs": [],
   "source": [
    "sorted_fluxes =  np.sort(ztile_cat[\"FLUX_Z\"])[::-1]\n",
    "cov_flux = np.sum(sorted_fluxes[:N_galaxies])"
   ]
  },
  {
   "cell_type": "code",
   "execution_count": null,
   "id": "b58d127f-54fd-4b92-a629-a9e05ea7af5c",
   "metadata": {},
   "outputs": [],
   "source": [
    "cov_flux"
   ]
  },
  {
   "cell_type": "code",
   "execution_count": null,
   "id": "f6b4a90f-7796-4ed7-bdf8-030e0a3827e9",
   "metadata": {},
   "outputs": [],
   "source": [
    "total_flux = np.sum(sorted_fluxes) #this would of course also work with the original data"
   ]
  },
  {
   "cell_type": "code",
   "execution_count": null,
   "id": "4663c267-778a-4917-bda7-e15388f4229a",
   "metadata": {},
   "outputs": [],
   "source": [
    "total_flux"
   ]
  },
  {
   "cell_type": "code",
   "execution_count": null,
   "id": "9f619e17-f24c-480b-a78b-2e184e8fec1f",
   "metadata": {},
   "outputs": [],
   "source": [
    "print(\"After observing\", N_galaxies, \"galaxies we can cover \", cov_flux/total_flux*100, \"% of the total flux in the search volume (comparison within DESI data)\")"
   ]
  },
  {
   "cell_type": "markdown",
   "id": "ed39a120-9353-4e68-ae34-efc7dbb8a932",
   "metadata": {
    "tags": []
   },
   "source": [
    "### Magnitudes\n",
    "\n",
    "Calculating the covered magnitudes is not really hard either: First get the magnitude range, which is covered within N_galaxies. This magnitude range is then compared to the total magnitude range. This is not scaled with the number (i.e. \"density\") in each bin, i.e.this calculation really just compares: covered range/total range"
   ]
  },
  {
   "cell_type": "code",
   "execution_count": null,
   "id": "a8740ec6-8a4d-43c8-945d-a0cde1bc2bcd",
   "metadata": {},
   "outputs": [],
   "source": [
    "N_app_cum = np.cumsum(N_app)\n",
    "N_abs_cum = np.cumsum(N_abs)"
   ]
  },
  {
   "cell_type": "code",
   "execution_count": null,
   "id": "c123b7fa-d21c-4d76-b777-34721e86bf3f",
   "metadata": {},
   "outputs": [],
   "source": [
    "N_abs_cum[:20]"
   ]
  },
  {
   "cell_type": "code",
   "execution_count": null,
   "id": "16e83bb4-5a37-49c1-af8f-12d966b825ba",
   "metadata": {},
   "outputs": [],
   "source": [
    "app_mag_cutoff_index = len(N_app_cum[N_app_cum<=N_galaxies])\n",
    "abs_mag_cutoff_index = len(N_abs_cum[N_abs_cum<=N_galaxies])"
   ]
  },
  {
   "cell_type": "code",
   "execution_count": null,
   "id": "535fd7fa-620e-437a-8f8f-2ab5f3938f00",
   "metadata": {},
   "outputs": [],
   "source": [
    "app_mag_cutoff_index,  abs_mag_cutoff_index"
   ]
  },
  {
   "cell_type": "code",
   "execution_count": null,
   "id": "0602c81a-baf2-4f94-8224-1c0d0800f2d4",
   "metadata": {},
   "outputs": [],
   "source": [
    "app_mag_sorted = np.sort(app_mag)\n",
    "abs_mag_sorted = np.sort(abs_mag)"
   ]
  },
  {
   "cell_type": "code",
   "execution_count": null,
   "id": "eb47705d-6ab7-441a-b73d-1b6c6d0e2750",
   "metadata": {},
   "outputs": [],
   "source": [
    "abs_mag_sorted[:5]"
   ]
  },
  {
   "cell_type": "code",
   "execution_count": null,
   "id": "f6a3fe70-e308-49b6-ba4e-9b555b3f5264",
   "metadata": {},
   "outputs": [],
   "source": [
    "cov_app_mag_rng = app_mag_sorted[app_mag_cutoff_index]-lower_limit_app\n",
    "cov_abs_mag_rng = abs_mag_sorted[abs_mag_cutoff_index]-lower_limit_abs"
   ]
  },
  {
   "cell_type": "code",
   "execution_count": null,
   "id": "3630a6be-b9c8-4f34-819d-53aa7b8fc59f",
   "metadata": {},
   "outputs": [],
   "source": [
    "tot_app_mag_rng = upper_limit_app-lower_limit_app\n",
    "tot_abs_mag_rng = upper_limit_app-lower_limit_app"
   ]
  },
  {
   "cell_type": "code",
   "execution_count": null,
   "id": "6f61e1cb-3958-4e68-85ab-27c592cf56d1",
   "metadata": {},
   "outputs": [],
   "source": [
    "print(\"After observing\", N_galaxies, \"galaxies we can cover \", cov_app_mag_rng/tot_app_mag_rng*100, \"% of the total apparent magnitude in the search volume (comparison within DESI data)\")\n",
    "print(\"After observing\", N_galaxies, \"galaxies we can cover \", cov_abs_mag_rng/tot_abs_mag_rng*100, \"% of the total absolute magnitude in the search volume (comparison within DESI data)\")"
   ]
  },
  {
   "cell_type": "markdown",
   "id": "6a07eb88-0988-4f46-875e-9b7fee4ee9dc",
   "metadata": {
    "tags": []
   },
   "source": [
    "### Luminosity\n",
    "\n",
    "- The first step is to calculate luminosity: $$ L = L_0 10^{-0.4*M_{Bol}}$$\n",
    "Now this refers to the bolometric value. Technically, this is incorrect and one would have to calculate this for the z-band seperately, but since I am only working with z-band magnitudes and the relative comparison should be unaffected, since the only change occurs in the L_0 constant.\n",
    "I did write code to adapt for this, but not completely sure, if this is right.\n",
    "\n",
    "- Sum the covered luminosity\n",
    "- Divide by total lum\n",
    "- -> result\n"
   ]
  },
  {
   "cell_type": "code",
   "execution_count": null,
   "id": "c6015168-92f5-407c-9620-4aa89688e8b5",
   "metadata": {},
   "outputs": [],
   "source": [
    "# first we define the luminosity funciton.\n",
    "def lum(M):\n",
    "    return asc.L_bol0*np.exp(-0.4*M)"
   ]
  },
  {
   "cell_type": "code",
   "execution_count": null,
   "id": "935ee2ff-8637-4b7b-90cf-8c0c7d6250ae",
   "metadata": {},
   "outputs": [],
   "source": [
    "# However, since we only look at the z-band we need to correct the solar luminosity\n",
    "# Calculation from here: https://astronomy.stackexchange.com/questions/25126/how-to-calculate-luminosity-in-g-band-from-absolute-ab-magnitude-and-luminosity\n",
    "lmbda = 925*10**(-9) #in  m\n",
    "del_lambda = 150*10**(-9) #in m\n",
    "del_v = (asc.c*lmbda/(del_lambda**2)).value # this is in /s now\n",
    "print(del_v)\n",
    "\n",
    "m_sun = -27.74 # in z-band: http://mips.as.arizona.edu/~cnaw/sun.html\n",
    "\n",
    "f_v = 10**((-48.6-m_sun)/2.5) # in erg/(cm^2 s Hz)\n",
    "print(f_v)\n",
    "dist_sun = 1.496*10**13 # in cm\n",
    "\n",
    "L_sun_z = f_v*del_v*4*np.pi*dist_sun**2 # this is  in erg/s, convert to W in function declaration\n",
    "# the value is roughly half of the full bolometric value... not sure if this makes sense\n",
    "print(L_sun_z)\n",
    "\n",
    "def lum_z(M):\n",
    "    return L_sun_z*10**(-7)*np.exp(-0.4*M)*u.W"
   ]
  },
  {
   "cell_type": "code",
   "execution_count": null,
   "id": "acc120d9-f5bd-4079-a3fb-6a6751b07227",
   "metadata": {},
   "outputs": [],
   "source": [
    "# now calculate the luminosity of each galaxy\n",
    "\n",
    "lums = [lum_z(abs_mag[q]).value for q in range(len(abs_mag))]"
   ]
  },
  {
   "cell_type": "code",
   "execution_count": null,
   "id": "e46d2a4c-05ca-43ea-8782-d398e3380580",
   "metadata": {},
   "outputs": [],
   "source": [
    "lums = np.sort(lums)"
   ]
  },
  {
   "cell_type": "code",
   "execution_count": null,
   "id": "7af69277-1c59-461d-a0b3-e76dc2569ca0",
   "metadata": {},
   "outputs": [],
   "source": [
    "lums = lums[::-1]"
   ]
  },
  {
   "cell_type": "code",
   "execution_count": null,
   "id": "591cc211-8b00-4138-abae-34731c1cd96b",
   "metadata": {},
   "outputs": [],
   "source": [
    "lums[:5]"
   ]
  },
  {
   "cell_type": "code",
   "execution_count": null,
   "id": "e1ba4c63-bbdb-4400-915e-eefbdd6c6b34",
   "metadata": {},
   "outputs": [],
   "source": [
    "len(lums), len(abs_mag)"
   ]
  },
  {
   "cell_type": "code",
   "execution_count": null,
   "id": "9bd0b033-d19c-4446-adee-abc71059ed56",
   "metadata": {},
   "outputs": [],
   "source": [
    "lums[:5], len(lums)"
   ]
  },
  {
   "cell_type": "code",
   "execution_count": null,
   "id": "b3b277f3-440d-4a0c-ad09-c8cf414d6ee0",
   "metadata": {},
   "outputs": [],
   "source": [
    "tot_lums = np.sum(lums)\n",
    "cov_lums = np.sum(lums[:N_galaxies])"
   ]
  },
  {
   "cell_type": "code",
   "execution_count": null,
   "id": "14ba10cb-be69-4f69-ae8e-12559d98be8f",
   "metadata": {},
   "outputs": [],
   "source": [
    "tot_lums, cov_lums"
   ]
  },
  {
   "cell_type": "code",
   "execution_count": null,
   "id": "1a03f06e-7552-4714-b7fc-308f9a3dfa03",
   "metadata": {},
   "outputs": [],
   "source": [
    "print(\"After observing\", N_galaxies, \"galaxies we can cover \", cov_lums/tot_lums*100, \"% of the total luminosity in the search volume (comparison within DESI data)\")\n",
    "print()\n",
    "print(\"The total luminosity in this volume is: \", tot_lums)\n",
    "print(\"We should be able to cover this amount of luminosity: \", cov_lums)\n",
    "print(\"The cutoff was at luminosity: \", lums[abs_mag_cutoff_index], \"while the max/min luminosity is: \", np.max(lums),\"and\", np.min(lums))"
   ]
  },
  {
   "cell_type": "markdown",
   "id": "58561e2a-f981-4c83-bdc5-ad509e9fba96",
   "metadata": {},
   "source": [
    "### Plot luminosity progress"
   ]
  },
  {
   "cell_type": "code",
   "execution_count": null,
   "id": "4df22947-15b5-491f-8bfb-6ba09e79295e",
   "metadata": {},
   "outputs": [],
   "source": [
    "N_observed = np.arange(1,25)"
   ]
  },
  {
   "cell_type": "code",
   "execution_count": null,
   "id": "0e0e1044-2c4f-4442-9d31-66bef3b99dea",
   "metadata": {},
   "outputs": [],
   "source": [
    "N_observed"
   ]
  },
  {
   "cell_type": "code",
   "execution_count": null,
   "id": "bb5f1a13-1f9c-4a71-a356-6be7c9812782",
   "metadata": {},
   "outputs": [],
   "source": [
    "cov_lums_N = [np.sum(lums[:N_observed[q]]) for q in range(len(N_observed))]"
   ]
  },
  {
   "cell_type": "code",
   "execution_count": null,
   "id": "25b90a5e-534e-4364-bf4c-c2326d2c152e",
   "metadata": {},
   "outputs": [],
   "source": [
    "cov_lums_N[:5]"
   ]
  },
  {
   "cell_type": "code",
   "execution_count": null,
   "id": "3953f198-6e9f-4acd-809a-f92ab3c00935",
   "metadata": {},
   "outputs": [],
   "source": [
    "\"\"\"\n",
    "Explanation of this plot:\n",
    "\n",
    "We want to estimate the amount of luminosity that we can cover after N observed galaxies within a certain 3D volume. This will be helpful e.g. for LIGO follow-up observations, since the LIGO\n",
    "team will publish a 3D localization map of a GW-event. From there we take the 90% credible region and get all DESI observed galaxies in this volume. This plot now simply shows the percentage\n",
    "of observed luminosity after one has observed the N most luminous galaxies compared to the total luminosity in this 3D volume. In future this should of course not be a comparison within DESI\n",
    "data, but instead one needs to apply an incompleteness correction (e.g. 1/V_max, STY, SWML) to correct for missed galaxies in the sample. These numbers of course also heavily depend on the\n",
    "3D localization by DESI. This data shown was extracted from GW190425, which had a 90% credible sky region of roughly 16deg^2, and a mean (luminosity) distance of 40Mpc with an error of\n",
    "10Mpc (median z ~ 0.0093).\n",
    "\n",
    "\"\"\"\n",
    "\n",
    "matplotlib.rcParams.update({'font.size': 22})\n",
    "matplotlib.rc('xtick', labelsize=20) \n",
    "matplotlib.rc('ytick', labelsize=20) \n",
    "fig, ax = plt.subplots(figsize = (10,5))\n",
    "\n",
    "ax.plot(N_observed, cov_lums_N/tot_lums*100, linewidth = 5)\n",
    "ax.set_xlabel(\"Number of observed Galaxies\")\n",
    "ax.set_ylabel(\"Covered Luminosity in %\")\n",
    "\n",
    "#ax.set_yscale('log')\n",
    "ax.set_ylim(0,100)\n",
    "plt.tight_layout()\n",
    "\n",
    "#plt.title(\"How much Luminosity is covered after observing N galaxies?\")\n",
    "plt.savefig(\"GW_plot\", dpi = 600)\n",
    "plt.show()"
   ]
  },
  {
   "cell_type": "markdown",
   "id": "30cd4015-24e3-4731-8e14-8e355d3d8b4f",
   "metadata": {
    "jp-MarkdownHeadingCollapsed": true,
    "tags": []
   },
   "source": [
    "### Plotting luminosities\n",
    "\n",
    "Plot the number densities depending of their luminosites:\n",
    "- count objects in luminosity bins"
   ]
  },
  {
   "cell_type": "code",
   "execution_count": null,
   "id": "14f155b1-4476-4455-a278-2dd994a5c771",
   "metadata": {},
   "outputs": [],
   "source": [
    "lower_limit_lum = np.min(lums)\n",
    "upper_limit_lum = np.max(lums)\n",
    "num_of_bins_lum = int( (upper_limit_lum-lower_limit_lum)/lower_limit_lum )"
   ]
  },
  {
   "cell_type": "code",
   "execution_count": null,
   "id": "6a30d126-9cbb-4dfd-844c-3b0b2da3a4ee",
   "metadata": {},
   "outputs": [],
   "source": [
    "num_of_bins_lum, lower_limit_lum, upper_limit_lum"
   ]
  },
  {
   "cell_type": "code",
   "execution_count": null,
   "id": "afddefe3-c334-49f7-8c1c-0f83cc76c849",
   "metadata": {},
   "outputs": [],
   "source": [
    "N_lum, lums_binned = np.histogram(lums, bins = num_of_bins_lum, range = (lower_limit_lum, upper_limit_lum))\n",
    "N_lum[:10]"
   ]
  },
  {
   "cell_type": "code",
   "execution_count": null,
   "id": "1238cecc-3069-49e8-a2e2-ab23c42e4186",
   "metadata": {},
   "outputs": [],
   "source": [
    "fig, ax = plt.subplots(figsize=(15, 5))\n",
    "\n",
    "width_lums = 0.7 * (lums_binned[1] - lums_binned[0])\n",
    "center_lums = (lums_binned[:-1] + lums_binned[1:])/2\n",
    "\n",
    "ax.bar(center_lums, N_lum,  align = \"center\", width = width_lums, label = \"total number of galaxies per z-band luminosity\")\n",
    "ax.bar(center_lums, N_lum/area,  align = \"center\", width = width_lums, label = \"normalized number of galaxies per z-band luminosity (per square deg)\")\n",
    "\n",
    "ax.set_xlabel(\"luminosity in z-band [W])\")\n",
    "y_label_abs = \"N in \" + str(width_lums) + \"W width bins\"\n",
    "ax.set_ylabel(y_label_abs)\n",
    "ax.set_yscale('log')\n",
    "#ax.set_xscale('log')\n",
    "ax.set_xlim(lower_limit_lum, upper_limit_lum)\n",
    "ax.legend(loc = \"upper right\")\n",
    "\n",
    "plt.show()"
   ]
  },
  {
   "cell_type": "markdown",
   "id": "8e29ddc2-1a9c-497a-bad9-af9f7725be8d",
   "metadata": {
    "tags": []
   },
   "source": [
    "# Calculate the covered luminosity after N galaxies (compared to \"the universe\")"
   ]
  },
  {
   "cell_type": "markdown",
   "id": "79a58e90-ede6-492b-9248-4dae9688b895",
   "metadata": {
    "tags": []
   },
   "source": [
    "# Calculate the covered luminosity after N galaxies (compared to own \"universal\" schechter fit)\n",
    "\n",
    "This right now is a real problem, since I do not yet have this \"universal\" schechter function. Neither my own fit or the fit from the mentioned SDSS paper seem to agree that well and I think my region is large enough to actually get a meaningful result. Therefore I will try to create my own values, by simply taking the DESI data and using the whole available dataset. So we do a similar selection process as above and from there fit the schechter function."
   ]
  },
  {
   "cell_type": "code",
   "execution_count": null,
   "id": "f4232f3a-110e-463d-96e0-74faa25f0583",
   "metadata": {},
   "outputs": [],
   "source": [
    "ztile_full = ztile_unm.copy()"
   ]
  },
  {
   "cell_type": "code",
   "execution_count": null,
   "id": "feedbda4-3202-4c29-8107-0fcca1b1f118",
   "metadata": {},
   "outputs": [],
   "source": [
    "ztile_full.keep_columns(['TARGETID', 'SURVEY', 'PROGRAM', 'Z', 'ZERR', 'ZWARN', 'TARGET_RA', 'TARGET_DEC', 'FLUX_Z'])"
   ]
  },
  {
   "cell_type": "code",
   "execution_count": null,
   "id": "92f81d5e-77e9-4bf5-8a32-e2d4b8bb6d93",
   "metadata": {},
   "outputs": [],
   "source": [
    "ztile_full = ztile_full[ztile_full['ZWARN']==0]"
   ]
  },
  {
   "cell_type": "code",
   "execution_count": null,
   "id": "682f1341-5132-4a6b-b33f-025c612eedbc",
   "metadata": {},
   "outputs": [],
   "source": [
    "ztile_full = ztile_full[(ztile_full['Z']>= 0)]"
   ]
  },
  {
   "cell_type": "code",
   "execution_count": null,
   "id": "bb8096d3-99a1-4f64-814d-a2963d94c148",
   "metadata": {},
   "outputs": [],
   "source": [
    "ztile_full = ztile_full[ztile_full[\"FLUX_Z\"] > 0.0]"
   ]
  },
  {
   "cell_type": "code",
   "execution_count": null,
   "id": "3714f33d-17f3-49ae-a901-15dad4ef3700",
   "metadata": {},
   "outputs": [],
   "source": [
    "len(ztile_full)"
   ]
  },
  {
   "cell_type": "code",
   "execution_count": null,
   "id": "4cb1ca8f-6048-44a3-849f-7093c429ba8a",
   "metadata": {},
   "outputs": [],
   "source": [
    "full_abs_mag = [(22.5-2.5*np.log10(ztile_full[\"FLUX_Z\"][q]) - 5*np.log10(Distance(z=ztile_full[\"Z\"][q], cosmology=Planck18)/u.Mpc*10**6)+5).value for q in range(len(ztile_full[\"FLUX_Z\"]))]"
   ]
  },
  {
   "cell_type": "code",
   "execution_count": null,
   "id": "08f06ed5-b3b9-4684-a977-1b8142f89f5e",
   "metadata": {},
   "outputs": [],
   "source": [
    "full_abs_mags = np.sort(full_abs_mags)"
   ]
  },
  {
   "cell_type": "code",
   "execution_count": null,
   "id": "c01c5f73-73f7-44c8-8f54-f79627406b25",
   "metadata": {},
   "outputs": [],
   "source": [
    "full_cumulated_galaxies = np.arange(1,len(full_abs_mags)-1, 1)"
   ]
  },
  {
   "cell_type": "code",
   "execution_count": null,
   "id": "36d4419f-29e1-4b81-bba7-8f93fb658bd5",
   "metadata": {},
   "outputs": [],
   "source": [
    "# fit the model\n",
    "\n",
    "schechter1D_full_fit = fit_alg(Schechter1D, full_abs_mags, real_cumulated_galaxies)"
   ]
  }
 ],
 "metadata": {
  "kernelspec": {
   "display_name": "DESI 23.1",
   "language": "python",
   "name": "desi-23.1"
  },
  "language_info": {
   "codemirror_mode": {
    "name": "ipython",
    "version": 3
   },
   "file_extension": ".py",
   "mimetype": "text/x-python",
   "name": "python",
   "nbconvert_exporter": "python",
   "pygments_lexer": "ipython3",
   "version": "3.10.8"
  }
 },
 "nbformat": 4,
 "nbformat_minor": 5
}
