{
 "cells": [
  {
   "cell_type": "code",
   "execution_count": 1,
   "id": "ce38cc4f",
   "metadata": {
    "tags": []
   },
   "outputs": [],
   "source": [
    "import matplotlib.pyplot as plt\n",
    "import matplotlib.patches as patches\n",
    "%matplotlib inline\n",
    "import numpy as np\n",
    "from astropy.coordinates import Angle\n",
    "from astropy import units as u\n",
    "\n",
    "# Dimensions of the WFI [arcmin]\n",
    "\n",
    "wfi_dec = 26.6\n",
    "wfi_ra  = 29\n",
    "\n"
   ]
  },
  {
   "cell_type": "markdown",
   "id": "969be05b-e142-4754-8df3-83882bd6c4bd",
   "metadata": {},
   "source": [
    "$ RA_{mod} = RA_{inp} + \\left(RA_{offset}/ cos(dec) \\right) $\n",
    "\n",
    "$ Dec_{mod} = Dec_{inp} + \\left( Dec_{offset} \\right) $"
   ]
  },
  {
   "cell_type": "code",
   "execution_count": 2,
   "id": "d9807860-e133-4ca3-ba04-02bac01ef2c3",
   "metadata": {
    "tags": []
   },
   "outputs": [],
   "source": [
    "# Input centre RA, centre dec here!\n",
    "\n",
    "racen = 109.25    \n",
    "deccen = 63.68\n",
    "\n",
    "# Calculates RA, dec given an offset \n",
    "def radecoffset(ra, dec, raoffset, decoffset): # position in degrees, offsets in arcmin\n",
    "    raangle = Angle(ra * u.deg)  + Angle(raoffset/np.cos(np.deg2rad(dec)) * u.deg/60)\n",
    "    decangle = Angle(dec * u.deg) + Angle(decoffset * u.deg/60)\n",
    "    return str(int(raangle.hms.h)) + \" \" + str(int(raangle.hms.m)) + \" \" + str(round(raangle.hms.s,2)) + \"   \" + str(int(decangle.dms.d)) + \" \" + str(int(decangle.dms.m)) + \" \" + str(round(decangle.dms.s,2)) "
   ]
  },
  {
   "cell_type": "code",
   "execution_count": null,
   "id": "1cd88ccb",
   "metadata": {},
   "outputs": [],
   "source": [
    "def draw_circle(xcen, ycen, radius):\n",
    "    phi = np.arange(0,360,0.01)\n",
    "    plt.plot(xcen+radius*np.sin(np.deg2rad(phi)),xcen+radius*np.cos(np.deg2rad(phi)) )\n",
    "    \n",
    "def draw_wfi(xcen, ycen):\n",
    "    plt.plot(np.array([xcen-wfi_ra/2, xcen-wfi_ra/2, xcen+wfi_ra/2, xcen+wfi_ra/2, xcen-wfi_ra/2]),np.array([ycen-wfi_dec/2,ycen+wfi_dec/2,ycen+wfi_dec/2,ycen-wfi_dec/2,ycen-wfi_dec/2]))"
   ]
  },
  {
   "cell_type": "code",
   "execution_count": null,
   "id": "e73bc479",
   "metadata": {},
   "outputs": [],
   "source": [
    "plt.figure(figsize = (10,10))\n",
    "draw_circle(0,0,1.5*60)\n",
    "draw_wfi(0,0)\n",
    "#plt.xlim(-200,200)\n",
    "#plt.ylim(-200,200)"
   ]
  },
  {
   "cell_type": "code",
   "execution_count": null,
   "id": "75b54654",
   "metadata": {},
   "outputs": [],
   "source": [
    "draw_circle(0,0,1.5*60)\n",
    "\n",
    "n=0\n",
    "superevent_name = \"S230619bg\"\n",
    "print(\"2mradec 7 3 55.13   62 47 36.0\")\n",
    "print(\"2mobj ligodesi_S230619bg_070355_624736\")\n",
    "print(\"2mf r\")\n",
    "print(\"2mautofocus\")\n",
    "print(\"2mh best\")\n",
    "print(\"2mh calcz\")\n",
    "print(\"2mt 60\") # could do 45 if that gives us enough SNR already\n",
    "print(\"\")\n",
    "\n",
    "for delta_ra in range(-3,4):\n",
    "    for delta_dec in range(-3,4):\n",
    "        if(delta_ra**2+delta_dec**2>=18):\n",
    "            continue\n",
    "        draw_wfi(delta_ra*wfi_ra,delta_dec*wfi_dec)\n",
    "        print(\"2mradec \" + radecoffset(racen, deccen, delta_ra*wfi_ra, delta_dec*wfi_dec))\n",
    "        #print(f\"2mobj ligodesi_{superevent_name}_{radecoffset(racen, deccen, delta_ra*wfi_ra, delta_dec*wfi_dec)}_2441\")\n",
    "        print(\"2mo 1\")\n",
    "        #print(\"2mh best\")\n",
    "        #print(\"2mh calcz\")\n",
    "        #print(\"2mt 60 \\n\")\n",
    "\n",
    "        n+=1\n",
    "\n",
    "for delta_ra in np.arange(-2.333,3.5,1): # 0.5 is ok, but could do better to cover entire chip gap with one of the other dithers\n",
    "    for delta_dec in np.arange(-2.333,3.5,1):\n",
    "        if(delta_ra**2+delta_dec**2>=18):\n",
    "            continue\n",
    "        draw_wfi(delta_ra*wfi_ra,delta_dec*wfi_dec)\n",
    "        print(\"2mradec \" + radecoffset(racen, deccen, delta_ra*wfi_ra, delta_dec*wfi_dec))\n",
    "        #print(f\"2mobj ligodesi_{superevent_name}_{radecoffset(racen, deccen, delta_ra*wfi_ra, delta_dec*wfi_dec)}_2441\")\n",
    "        print(\"2mo 1\")\n",
    "        #print(\"2mh best\")\n",
    "        #print(\"2mh calcz\")\n",
    "        #print(\"2mt 60\")\n",
    "        n+=1\n",
    "# print(\"# that was \",n, \" exposures\")"
   ]
  },
  {
   "cell_type": "code",
   "execution_count": null,
   "id": "22c98618",
   "metadata": {},
   "outputs": [],
   "source": []
  },
  {
   "cell_type": "code",
   "execution_count": null,
   "id": "3c66304a-87b7-4eb9-9bb4-df6b3ed7d925",
   "metadata": {},
   "outputs": [],
   "source": []
  },
  {
   "cell_type": "code",
   "execution_count": null,
   "id": "0680eb33-600b-488d-bb94-993b0f4a0235",
   "metadata": {},
   "outputs": [],
   "source": []
  },
  {
   "cell_type": "code",
   "execution_count": null,
   "id": "525b9db6-6ab0-43b6-b699-892704ccf2b5",
   "metadata": {},
   "outputs": [],
   "source": []
  }
 ],
 "metadata": {
  "kernelspec": {
   "display_name": "NERSC Python",
   "language": "python",
   "name": "python3"
  },
  "language_info": {
   "codemirror_mode": {
    "name": "ipython",
    "version": 3
   },
   "file_extension": ".py",
   "mimetype": "text/x-python",
   "name": "python",
   "nbconvert_exporter": "python",
   "pygments_lexer": "ipython3",
   "version": "3.9.7"
  }
 },
 "nbformat": 4,
 "nbformat_minor": 5
}
