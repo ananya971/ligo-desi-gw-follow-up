{
 "cells": [
  {
   "cell_type": "markdown",
   "metadata": {
    "tags": []
   },
   "source": [
    "# Donwload LS images corresponding to a series of WST images\n",
    "\n",
    "Retrieves RA, dec from fits headers and then downloads the corresponding LS image files\n",
    "\n",
    "*Note: You have to specify a bunch of paths and so on, so check before running!*"
   ]
  },
  {
   "cell_type": "code",
   "execution_count": 1,
   "metadata": {},
   "outputs": [],
   "source": [
    "from tqdm import tqdm\n",
    "import requests as rq\n",
    "from astropy.io import fits"
   ]
  },
  {
   "cell_type": "code",
   "execution_count": 53,
   "metadata": {},
   "outputs": [
    {
     "name": "stdout",
     "output_type": "stream",
     "text": [
      "using size of 9000.0 with pixscale of 0.2 to get the same FOV\n"
     ]
    }
   ],
   "source": [
    "start_num = 10\n",
    "end_num = 11\n",
    "\n",
    "FOV = 30 # 30 for WWFI, 7 for 3kk\n",
    "\n",
    "# calculate needed download size\n",
    "curr_pixscale = 0.2 # should be the pixscale from WWFI\n",
    "size = FOV*60/curr_pixscale\n",
    "\n",
    "# if too large for downloader, get it in different pixscale\n",
    "    # this behavior is not ideal and if needed one should actually consider using the bricks from LS (see instructions hopefully updated here): https://docs.google.com/document/d/1btxionKZAPw_qCX7muNNvIts3s52gX439kX59gSTGhQ/edit\n",
    "if size > 3000:\n",
    "    print(f\"original pixscale of {curr_pixscale} produces a too large image with size {size}\")\n",
    "    size = 3000\n",
    "    curr_pixscale = FOV*60/size\n",
    "print(f\"using size of {size} with pixscale of {curr_pixscale} to get the same FOV\")\n",
    "\n",
    "\n",
    "event_id = \"ligodesi_S230619bg\"\n",
    "general_file_name = f\"bV230621-{event_id}_070355_624736_r_wfi_230621_0\"\n",
    "file_path_prefix = f\"/Users/juliusgassert/full_binned/{general_file_name}\"\n",
    "file_ext = \".fits\"\n",
    "\n",
    "save_path_prefix = \"/Users/juliusgassert/full_binned/LS/\"\n",
    "\n",
    "bands = \"griz\"\n",
    "pixscale_download = curr_pixscale\n",
    "download_filetype = \"fits\"\n",
    "\n",
    "download_url_prefix = f\"https://www.legacysurvey.org/viewer/\" + download_filetype + \"-cutout?\""
   ]
  },
  {
   "cell_type": "code",
   "execution_count": 54,
   "metadata": {},
   "outputs": [
    {
     "name": "stderr",
     "output_type": "stream",
     "text": [
      "  0%|          | 0/1 [00:00<?, ?it/s]"
     ]
    },
    {
     "name": "stdout",
     "output_type": "stream",
     "text": [
      "https://www.legacysurvey.org/viewer/fits-cutout?ra=105.8919283288&dec=62.82787571848&layer=ls-dr10&pixscale=0.2&bands=griz&size=9000\n"
     ]
    },
    {
     "name": "stderr",
     "output_type": "stream",
     "text": [
      "100%|██████████| 1/1 [00:17<00:00, 17.59s/it]\n"
     ]
    }
   ],
   "source": [
    "file_name_num = np.arange(start_num, end_num, 1)\n",
    "\n",
    "for num in tqdm(file_name_num):\n",
    "    file_path = file_path_prefix + str(num) + file_ext\n",
    "    hdul = fits.open(file_path)\n",
    "    hdr = hdul[0].header\n",
    "    RA, dec = hdr[6], hdr[7]\n",
    "\n",
    "    download_url = download_url_prefix + \"ra=\" + str(RA) + \"&dec=\" + str(dec) + \"&layer=ls-dr10&pixscale=\" + str(pixscale_download) + \"&bands=\" + bands + \"&size=\" + str(int(size))\n",
    "    print(download_url)\n",
    "    response = rq.get(download_url, allow_redirects = True)\n",
    "    \n",
    "    if response.status_code == 200:\n",
    "        save_path = save_path_prefix + event_id + \"_bands=\" + bands + \".\" + download_filetype\n",
    "        with open(save_path, 'wb') as f:\n",
    "            f.write(response.content)\n",
    "    else:\n",
    "        print(\"download failed with HTTP status: \", response.status_code)\n"
   ]
  },
  {
   "cell_type": "code",
   "execution_count": null,
   "metadata": {},
   "outputs": [],
   "source": []
  }
 ],
 "metadata": {
  "kernelspec": {
   "display_name": "NERSC Python",
   "language": "python",
   "name": "python3"
  },
  "language_info": {
   "codemirror_mode": {
    "name": "ipython",
    "version": 3
   },
   "file_extension": ".py",
   "mimetype": "text/x-python",
   "name": "python",
   "nbconvert_exporter": "python",
   "pygments_lexer": "ipython3",
   "version": "3.9.7"
  }
 },
 "nbformat": 4,
 "nbformat_minor": 4
}
