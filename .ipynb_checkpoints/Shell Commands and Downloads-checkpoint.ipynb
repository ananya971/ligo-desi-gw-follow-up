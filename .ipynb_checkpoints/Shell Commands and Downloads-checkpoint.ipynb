{
 "cells": [
  {
   "cell_type": "markdown",
   "id": "d2f7b492-d25c-4baa-ab52-de7999877881",
   "metadata": {},
   "source": [
    "## Shell Commands for the telescope"
   ]
  },
  {
   "cell_type": "code",
   "execution_count": 3,
   "id": "eea4cbd4-c742-4cdf-9a23-3f9f74c0883a",
   "metadata": {},
   "outputs": [],
   "source": [
    "import astropy\n",
    "from astropy.coordinates import SkyCoord, EarthLocation, AltAz\n",
    "from astropy.time import Time\n",
    "from astropy import units as u\n",
    "from datetime import datetime, timedelta\n",
    "from astropy.coordinates import get_sun, get_moon\n",
    "import sncosmo\n",
    "from astropy.coordinates import Angle\n",
    "from astropy.io import fits\n",
    "\n",
    "import numpy as np \n",
    "import scipy\n",
    "import matplotlib.pyplot as plt\n",
    "%matplotlib inline\n",
    "from astropy.io import fits\n",
    "from astropy.modeling.models import Sersic2D\n",
    "from astropy.modeling.models import Sersic1D\n",
    "import os\n",
    "import glob\n",
    "import pandas as pd\n",
    "np.set_printoptions(threshold=np.inf)\n",
    "SMALL_SIZE = 10\n",
    "plt.rc('font', size=SMALL_SIZE)\n",
    "plt.rc('axes', titlesize=SMALL_SIZE)\n",
    "np.set_printoptions(threshold=np.inf)\n",
    "import healpy as hp\n",
    "\n",
    "from scipy.optimize import leastsq\n",
    "import wget\n",
    "\n",
    "import uncertainties as unc"
   ]
  },
  {
   "cell_type": "code",
   "execution_count": 4,
   "id": "463efa7c-bdf5-464d-b52f-a26a213ab23f",
   "metadata": {},
   "outputs": [],
   "source": [
    "# Reading the list in \n",
    "\n",
    "def read_target_list(filename):\n",
    "\n",
    "    \"\"\"\n",
    "    Function to read a target list from a .csv file and add the SkyCoord objects as a new column. \\n\n",
    "    It further renames the columns \"TARGET_RA\" and \"TARGET_DEC\" to \"RA\" and \"dec\"\n",
    " \n",
    "    Parameters\n",
    "    ----------\n",
    "\n",
    "    filename: str\n",
    "        filename is the path specifying where to get the target list as a .csv file from\n",
    "\n",
    "    Returns\n",
    "    -------\n",
    "\n",
    "    file: pd.DataFrame\n",
    "        target list containing the .csv files information and the added SkyCoords as a pandas data frame object\n",
    "    \"\"\"\n",
    "\n",
    "    # Read from a file\n",
    "    print(\"Reading csv table...\")\n",
    "    file = pd.read_csv(filename)\n",
    "    \n",
    "    # Rename columns\n",
    "    file = file.rename(columns = {\"TARGET_RA\": \"RA\", \"TARGET_DEC\": \"dec\"})\n",
    "\n",
    "    # Calculate and add SkyCoords for AltAz calculation later\n",
    "    print(\"Adding SkyCoords to it...\")\n",
    "    sky_coords = SkyCoord(file[\"RA\"], file[\"dec\"], unit = \"deg\")\n",
    "\n",
    "    file[\"SKY_COORD\"] = sky_coords\n",
    "    \n",
    "    #Return the Pandas dataframe (i.e. The unmodified initial target list)\n",
    "    print(\"Finished, now returning pandas df\")\n",
    "    return file"
   ]
  },
  {
   "cell_type": "code",
   "execution_count": 6,
   "id": "afdc22d9-d45c-4250-808d-c7302ab968c2",
   "metadata": {},
   "outputs": [
    {
     "name": "stdout",
     "output_type": "stream",
     "text": [
      "Reading csv table...\n",
      "Adding SkyCoords to it...\n",
      "Finished, now returning pandas df\n"
     ]
    }
   ],
   "source": [
    "superevent_name = 'S230627c'\n",
    "target_list = read_target_list(f'Galaxy Selection/PGAL/PGAL_{superevent_name}.ecsv')"
   ]
  },
  {
   "cell_type": "markdown",
   "id": "bf2a2630-d437-4b8f-bc60-03906b95b98b",
   "metadata": {},
   "source": [
    "## Downloading the legacy files for the candidates"
   ]
  },
  {
   "cell_type": "code",
   "execution_count": 8,
   "id": "62d8dce2-9b5a-4b9d-9cd1-428461c485aa",
   "metadata": {},
   "outputs": [
    {
     "ename": "PermissionError",
     "evalue": "[Errno 13] Permission denied: '../../../cfs'",
     "output_type": "error",
     "traceback": [
      "\u001b[0;31m---------------------------------------------------------------------------\u001b[0m",
      "\u001b[0;31mPermissionError\u001b[0m                           Traceback (most recent call last)",
      "\u001b[0;32m/tmp/ipykernel_960284/2102231637.py\u001b[0m in \u001b[0;36m<module>\u001b[0;34m\u001b[0m\n\u001b[1;32m      6\u001b[0m \u001b[0mdirectory\u001b[0m \u001b[0;34m=\u001b[0m \u001b[0;34mf'../../../cfs/cdirs/desi/science/td/wendelstein/{superevent_name}_legacy_images/'\u001b[0m\u001b[0;34m\u001b[0m\u001b[0;34m\u001b[0m\u001b[0m\n\u001b[1;32m      7\u001b[0m \u001b[0;32mif\u001b[0m \u001b[0;32mnot\u001b[0m \u001b[0mos\u001b[0m\u001b[0;34m.\u001b[0m\u001b[0mpath\u001b[0m\u001b[0;34m.\u001b[0m\u001b[0mexists\u001b[0m\u001b[0;34m(\u001b[0m\u001b[0mdirectory\u001b[0m\u001b[0;34m)\u001b[0m\u001b[0;34m:\u001b[0m\u001b[0;34m\u001b[0m\u001b[0;34m\u001b[0m\u001b[0m\n\u001b[0;32m----> 8\u001b[0;31m     \u001b[0mos\u001b[0m\u001b[0;34m.\u001b[0m\u001b[0mmakedirs\u001b[0m\u001b[0;34m(\u001b[0m\u001b[0mdirectory\u001b[0m\u001b[0;34m)\u001b[0m\u001b[0;34m\u001b[0m\u001b[0;34m\u001b[0m\u001b[0m\n\u001b[0m\u001b[1;32m      9\u001b[0m \u001b[0;31m# Change the number of candidates here!\u001b[0m\u001b[0;34m\u001b[0m\u001b[0;34m\u001b[0m\u001b[0m\n\u001b[1;32m     10\u001b[0m \u001b[0;32mfor\u001b[0m \u001b[0mi\u001b[0m \u001b[0;32min\u001b[0m \u001b[0mrange\u001b[0m\u001b[0;34m(\u001b[0m\u001b[0mlen\u001b[0m\u001b[0;34m(\u001b[0m\u001b[0mra\u001b[0m\u001b[0;34m[\u001b[0m\u001b[0;34m:\u001b[0m\u001b[0;36m10\u001b[0m\u001b[0;34m]\u001b[0m\u001b[0;34m)\u001b[0m\u001b[0;34m)\u001b[0m\u001b[0;34m:\u001b[0m\u001b[0;34m\u001b[0m\u001b[0;34m\u001b[0m\u001b[0m\n",
      "\u001b[0;32m/global/common/software/nersc/pm-2022q3/sw/python/3.9-anaconda-2021.11/lib/python3.9/os.py\u001b[0m in \u001b[0;36mmakedirs\u001b[0;34m(name, mode, exist_ok)\u001b[0m\n\u001b[1;32m    213\u001b[0m     \u001b[0;32mif\u001b[0m \u001b[0mhead\u001b[0m \u001b[0;32mand\u001b[0m \u001b[0mtail\u001b[0m \u001b[0;32mand\u001b[0m \u001b[0;32mnot\u001b[0m \u001b[0mpath\u001b[0m\u001b[0;34m.\u001b[0m\u001b[0mexists\u001b[0m\u001b[0;34m(\u001b[0m\u001b[0mhead\u001b[0m\u001b[0;34m)\u001b[0m\u001b[0;34m:\u001b[0m\u001b[0;34m\u001b[0m\u001b[0;34m\u001b[0m\u001b[0m\n\u001b[1;32m    214\u001b[0m         \u001b[0;32mtry\u001b[0m\u001b[0;34m:\u001b[0m\u001b[0;34m\u001b[0m\u001b[0;34m\u001b[0m\u001b[0m\n\u001b[0;32m--> 215\u001b[0;31m             \u001b[0mmakedirs\u001b[0m\u001b[0;34m(\u001b[0m\u001b[0mhead\u001b[0m\u001b[0;34m,\u001b[0m \u001b[0mexist_ok\u001b[0m\u001b[0;34m=\u001b[0m\u001b[0mexist_ok\u001b[0m\u001b[0;34m)\u001b[0m\u001b[0;34m\u001b[0m\u001b[0;34m\u001b[0m\u001b[0m\n\u001b[0m\u001b[1;32m    216\u001b[0m         \u001b[0;32mexcept\u001b[0m \u001b[0mFileExistsError\u001b[0m\u001b[0;34m:\u001b[0m\u001b[0;34m\u001b[0m\u001b[0;34m\u001b[0m\u001b[0m\n\u001b[1;32m    217\u001b[0m             \u001b[0;31m# Defeats race condition when another thread created the path\u001b[0m\u001b[0;34m\u001b[0m\u001b[0;34m\u001b[0m\u001b[0m\n",
      "\u001b[0;32m/global/common/software/nersc/pm-2022q3/sw/python/3.9-anaconda-2021.11/lib/python3.9/os.py\u001b[0m in \u001b[0;36mmakedirs\u001b[0;34m(name, mode, exist_ok)\u001b[0m\n\u001b[1;32m    213\u001b[0m     \u001b[0;32mif\u001b[0m \u001b[0mhead\u001b[0m \u001b[0;32mand\u001b[0m \u001b[0mtail\u001b[0m \u001b[0;32mand\u001b[0m \u001b[0;32mnot\u001b[0m \u001b[0mpath\u001b[0m\u001b[0;34m.\u001b[0m\u001b[0mexists\u001b[0m\u001b[0;34m(\u001b[0m\u001b[0mhead\u001b[0m\u001b[0;34m)\u001b[0m\u001b[0;34m:\u001b[0m\u001b[0;34m\u001b[0m\u001b[0;34m\u001b[0m\u001b[0m\n\u001b[1;32m    214\u001b[0m         \u001b[0;32mtry\u001b[0m\u001b[0;34m:\u001b[0m\u001b[0;34m\u001b[0m\u001b[0;34m\u001b[0m\u001b[0m\n\u001b[0;32m--> 215\u001b[0;31m             \u001b[0mmakedirs\u001b[0m\u001b[0;34m(\u001b[0m\u001b[0mhead\u001b[0m\u001b[0;34m,\u001b[0m \u001b[0mexist_ok\u001b[0m\u001b[0;34m=\u001b[0m\u001b[0mexist_ok\u001b[0m\u001b[0;34m)\u001b[0m\u001b[0;34m\u001b[0m\u001b[0;34m\u001b[0m\u001b[0m\n\u001b[0m\u001b[1;32m    216\u001b[0m         \u001b[0;32mexcept\u001b[0m \u001b[0mFileExistsError\u001b[0m\u001b[0;34m:\u001b[0m\u001b[0;34m\u001b[0m\u001b[0;34m\u001b[0m\u001b[0m\n\u001b[1;32m    217\u001b[0m             \u001b[0;31m# Defeats race condition when another thread created the path\u001b[0m\u001b[0;34m\u001b[0m\u001b[0;34m\u001b[0m\u001b[0m\n",
      "\u001b[0;32m/global/common/software/nersc/pm-2022q3/sw/python/3.9-anaconda-2021.11/lib/python3.9/os.py\u001b[0m in \u001b[0;36mmakedirs\u001b[0;34m(name, mode, exist_ok)\u001b[0m\n\u001b[1;32m    213\u001b[0m     \u001b[0;32mif\u001b[0m \u001b[0mhead\u001b[0m \u001b[0;32mand\u001b[0m \u001b[0mtail\u001b[0m \u001b[0;32mand\u001b[0m \u001b[0;32mnot\u001b[0m \u001b[0mpath\u001b[0m\u001b[0;34m.\u001b[0m\u001b[0mexists\u001b[0m\u001b[0;34m(\u001b[0m\u001b[0mhead\u001b[0m\u001b[0;34m)\u001b[0m\u001b[0;34m:\u001b[0m\u001b[0;34m\u001b[0m\u001b[0;34m\u001b[0m\u001b[0m\n\u001b[1;32m    214\u001b[0m         \u001b[0;32mtry\u001b[0m\u001b[0;34m:\u001b[0m\u001b[0;34m\u001b[0m\u001b[0;34m\u001b[0m\u001b[0m\n\u001b[0;32m--> 215\u001b[0;31m             \u001b[0mmakedirs\u001b[0m\u001b[0;34m(\u001b[0m\u001b[0mhead\u001b[0m\u001b[0;34m,\u001b[0m \u001b[0mexist_ok\u001b[0m\u001b[0;34m=\u001b[0m\u001b[0mexist_ok\u001b[0m\u001b[0;34m)\u001b[0m\u001b[0;34m\u001b[0m\u001b[0;34m\u001b[0m\u001b[0m\n\u001b[0m\u001b[1;32m    216\u001b[0m         \u001b[0;32mexcept\u001b[0m \u001b[0mFileExistsError\u001b[0m\u001b[0;34m:\u001b[0m\u001b[0;34m\u001b[0m\u001b[0;34m\u001b[0m\u001b[0m\n\u001b[1;32m    217\u001b[0m             \u001b[0;31m# Defeats race condition when another thread created the path\u001b[0m\u001b[0;34m\u001b[0m\u001b[0;34m\u001b[0m\u001b[0m\n",
      "\u001b[0;32m/global/common/software/nersc/pm-2022q3/sw/python/3.9-anaconda-2021.11/lib/python3.9/os.py\u001b[0m in \u001b[0;36mmakedirs\u001b[0;34m(name, mode, exist_ok)\u001b[0m\n\u001b[1;32m    213\u001b[0m     \u001b[0;32mif\u001b[0m \u001b[0mhead\u001b[0m \u001b[0;32mand\u001b[0m \u001b[0mtail\u001b[0m \u001b[0;32mand\u001b[0m \u001b[0;32mnot\u001b[0m \u001b[0mpath\u001b[0m\u001b[0;34m.\u001b[0m\u001b[0mexists\u001b[0m\u001b[0;34m(\u001b[0m\u001b[0mhead\u001b[0m\u001b[0;34m)\u001b[0m\u001b[0;34m:\u001b[0m\u001b[0;34m\u001b[0m\u001b[0;34m\u001b[0m\u001b[0m\n\u001b[1;32m    214\u001b[0m         \u001b[0;32mtry\u001b[0m\u001b[0;34m:\u001b[0m\u001b[0;34m\u001b[0m\u001b[0;34m\u001b[0m\u001b[0m\n\u001b[0;32m--> 215\u001b[0;31m             \u001b[0mmakedirs\u001b[0m\u001b[0;34m(\u001b[0m\u001b[0mhead\u001b[0m\u001b[0;34m,\u001b[0m \u001b[0mexist_ok\u001b[0m\u001b[0;34m=\u001b[0m\u001b[0mexist_ok\u001b[0m\u001b[0;34m)\u001b[0m\u001b[0;34m\u001b[0m\u001b[0;34m\u001b[0m\u001b[0m\n\u001b[0m\u001b[1;32m    216\u001b[0m         \u001b[0;32mexcept\u001b[0m \u001b[0mFileExistsError\u001b[0m\u001b[0;34m:\u001b[0m\u001b[0;34m\u001b[0m\u001b[0;34m\u001b[0m\u001b[0m\n\u001b[1;32m    217\u001b[0m             \u001b[0;31m# Defeats race condition when another thread created the path\u001b[0m\u001b[0;34m\u001b[0m\u001b[0;34m\u001b[0m\u001b[0m\n",
      "\u001b[0;32m/global/common/software/nersc/pm-2022q3/sw/python/3.9-anaconda-2021.11/lib/python3.9/os.py\u001b[0m in \u001b[0;36mmakedirs\u001b[0;34m(name, mode, exist_ok)\u001b[0m\n\u001b[1;32m    213\u001b[0m     \u001b[0;32mif\u001b[0m \u001b[0mhead\u001b[0m \u001b[0;32mand\u001b[0m \u001b[0mtail\u001b[0m \u001b[0;32mand\u001b[0m \u001b[0;32mnot\u001b[0m \u001b[0mpath\u001b[0m\u001b[0;34m.\u001b[0m\u001b[0mexists\u001b[0m\u001b[0;34m(\u001b[0m\u001b[0mhead\u001b[0m\u001b[0;34m)\u001b[0m\u001b[0;34m:\u001b[0m\u001b[0;34m\u001b[0m\u001b[0;34m\u001b[0m\u001b[0m\n\u001b[1;32m    214\u001b[0m         \u001b[0;32mtry\u001b[0m\u001b[0;34m:\u001b[0m\u001b[0;34m\u001b[0m\u001b[0;34m\u001b[0m\u001b[0m\n\u001b[0;32m--> 215\u001b[0;31m             \u001b[0mmakedirs\u001b[0m\u001b[0;34m(\u001b[0m\u001b[0mhead\u001b[0m\u001b[0;34m,\u001b[0m \u001b[0mexist_ok\u001b[0m\u001b[0;34m=\u001b[0m\u001b[0mexist_ok\u001b[0m\u001b[0;34m)\u001b[0m\u001b[0;34m\u001b[0m\u001b[0;34m\u001b[0m\u001b[0m\n\u001b[0m\u001b[1;32m    216\u001b[0m         \u001b[0;32mexcept\u001b[0m \u001b[0mFileExistsError\u001b[0m\u001b[0;34m:\u001b[0m\u001b[0;34m\u001b[0m\u001b[0;34m\u001b[0m\u001b[0m\n\u001b[1;32m    217\u001b[0m             \u001b[0;31m# Defeats race condition when another thread created the path\u001b[0m\u001b[0;34m\u001b[0m\u001b[0;34m\u001b[0m\u001b[0m\n",
      "\u001b[0;32m/global/common/software/nersc/pm-2022q3/sw/python/3.9-anaconda-2021.11/lib/python3.9/os.py\u001b[0m in \u001b[0;36mmakedirs\u001b[0;34m(name, mode, exist_ok)\u001b[0m\n\u001b[1;32m    213\u001b[0m     \u001b[0;32mif\u001b[0m \u001b[0mhead\u001b[0m \u001b[0;32mand\u001b[0m \u001b[0mtail\u001b[0m \u001b[0;32mand\u001b[0m \u001b[0;32mnot\u001b[0m \u001b[0mpath\u001b[0m\u001b[0;34m.\u001b[0m\u001b[0mexists\u001b[0m\u001b[0;34m(\u001b[0m\u001b[0mhead\u001b[0m\u001b[0;34m)\u001b[0m\u001b[0;34m:\u001b[0m\u001b[0;34m\u001b[0m\u001b[0;34m\u001b[0m\u001b[0m\n\u001b[1;32m    214\u001b[0m         \u001b[0;32mtry\u001b[0m\u001b[0;34m:\u001b[0m\u001b[0;34m\u001b[0m\u001b[0;34m\u001b[0m\u001b[0m\n\u001b[0;32m--> 215\u001b[0;31m             \u001b[0mmakedirs\u001b[0m\u001b[0;34m(\u001b[0m\u001b[0mhead\u001b[0m\u001b[0;34m,\u001b[0m \u001b[0mexist_ok\u001b[0m\u001b[0;34m=\u001b[0m\u001b[0mexist_ok\u001b[0m\u001b[0;34m)\u001b[0m\u001b[0;34m\u001b[0m\u001b[0;34m\u001b[0m\u001b[0m\n\u001b[0m\u001b[1;32m    216\u001b[0m         \u001b[0;32mexcept\u001b[0m \u001b[0mFileExistsError\u001b[0m\u001b[0;34m:\u001b[0m\u001b[0;34m\u001b[0m\u001b[0;34m\u001b[0m\u001b[0m\n\u001b[1;32m    217\u001b[0m             \u001b[0;31m# Defeats race condition when another thread created the path\u001b[0m\u001b[0;34m\u001b[0m\u001b[0;34m\u001b[0m\u001b[0m\n",
      "\u001b[0;32m/global/common/software/nersc/pm-2022q3/sw/python/3.9-anaconda-2021.11/lib/python3.9/os.py\u001b[0m in \u001b[0;36mmakedirs\u001b[0;34m(name, mode, exist_ok)\u001b[0m\n\u001b[1;32m    223\u001b[0m             \u001b[0;32mreturn\u001b[0m\u001b[0;34m\u001b[0m\u001b[0;34m\u001b[0m\u001b[0m\n\u001b[1;32m    224\u001b[0m     \u001b[0;32mtry\u001b[0m\u001b[0;34m:\u001b[0m\u001b[0;34m\u001b[0m\u001b[0;34m\u001b[0m\u001b[0m\n\u001b[0;32m--> 225\u001b[0;31m         \u001b[0mmkdir\u001b[0m\u001b[0;34m(\u001b[0m\u001b[0mname\u001b[0m\u001b[0;34m,\u001b[0m \u001b[0mmode\u001b[0m\u001b[0;34m)\u001b[0m\u001b[0;34m\u001b[0m\u001b[0;34m\u001b[0m\u001b[0m\n\u001b[0m\u001b[1;32m    226\u001b[0m     \u001b[0;32mexcept\u001b[0m \u001b[0mOSError\u001b[0m\u001b[0;34m:\u001b[0m\u001b[0;34m\u001b[0m\u001b[0;34m\u001b[0m\u001b[0m\n\u001b[1;32m    227\u001b[0m         \u001b[0;31m# Cannot rely on checking for EEXIST, since the operating system\u001b[0m\u001b[0;34m\u001b[0m\u001b[0;34m\u001b[0m\u001b[0m\n",
      "\u001b[0;31mPermissionError\u001b[0m: [Errno 13] Permission denied: '../../../cfs'"
     ]
    }
   ],
   "source": [
    "# Enter filter \n",
    "filters = 'g'\n",
    "instrument = '3kk_ugriz'\n",
    "size = {'3kk_nir': 1680, '3kk_ugriz': 2100, 'wwfi': 6000}\n",
    "pixscale = {'3kk_nir': 0.25, '3kk_ugriz':0.2, 'wwfi':0.2}\n",
    "directory = f'../../../cfs/cdirs/desi/science/td/wendelstein/{superevent_name}_legacy_images/'\n",
    "if not os.path.exists(directory):\n",
    "    os.makedirs(directory)\n",
    "# Change the number of candidates here!\n",
    "for i in range(len(ra[:10])):\n",
    "    url_legacy = f\"https://www.legacysurvey.org/viewer/fits-cutout?ra={round(ra[i],4)}&dec={round(dec[i],4)}&layer=ls-dr10&pixscale={pixscale[instrument]}&bands={filters}&size={size[instrument]}\"\n",
    "    file = wget.download(url_legacy, out = directory)\n",
    "\n",
    "                                                                        "
   ]
  },
  {
   "cell_type": "markdown",
   "id": "21ed5c3d-b007-4c54-87d7-c0ed7c73cd03",
   "metadata": {},
   "source": [
    "## Printing out commands for the telescope"
   ]
  },
  {
   "cell_type": "code",
   "execution_count": 9,
   "id": "46a3a79f-f625-4777-b243-5c19833a5da9",
   "metadata": {},
   "outputs": [],
   "source": [
    "def print_3kk_command(ra, dec, eventname, bfilter, rfilter, nirfilter, texp, numobs):\n",
    "    \n",
    "    if(dec<0):\n",
    "        print(\"not sure I am handling negative dec right\")\n",
    "    \n",
    "    dec_a =  Angle(dec, u.degree)\n",
    "    ra_a  =  Angle(ra, u.degree)\n",
    "    print(\"2mobj ligodesi_\" + superevent_name + \"_\" + \"{:02d}\".format(int(ra_a.hms.h)) + \"{:02d}\".format(int(ra_a.hms.m)) + \"{:02d}\".format(int(ra_a.hms.s))\n",
    "                                        + \"_\" + \"{:02d}\".format(int(dec_a.dms.d)) + \"{:02d}\".format(int(dec_a.dms.m)) + \"{:02d}\".format(int(dec_a.dms.s)) + \" 3441\")\n",
    "    # ra_a = ra_a + Angle(35,u.arcsec)\n",
    "    print(\"2mradec \" + str(int(ra_a.hms.h)) + \" \" + str(int(ra_a.hms.m)) + \" \" + \"{:2.2f}\".format(ra_a.hms.s) + \"   \" + str(int(dec_a.dms.d)) + \" \" + str(int(dec_a.dms.m)) + \" \" + \"{:2.2f}\".format(dec_a.dms.s) )\n",
    "    print(f\"2mf b{bfilter} r{rfilter} n{nirfilter}\")\n",
    "    \n",
    "    print(\"2mdithersize 10\")\n",
    "    print(\"2mh best\")\n",
    "    print(\"2mh calcz\")\n",
    "    print(\"2mautofocus\")\n",
    "    print(\"2mt \" + str(int(texp))) \n",
    "    print(\"2mo \" + str(int(numobs)))\n",
    "    print(f\"#open https://www.legacysurvey.org/viewer/jpeg-cutout?ra={round(ra_a.degree,4)}&dec={round(dec_a.degree,4)}&layer=ls-dr10&pixscale=0.262\")\n",
    "    print(f\"#wget https://www.legacysurvey.org/viewer/fits-cutout?ra={round(ra_a.degree,4)}&dec={round(dec_a.degree,4)}&layer=ls-dr10&pixscale=0.262&bands=griz\")\n",
    "    "
   ]
  },
  {
   "cell_type": "markdown",
   "id": "f90086cd-9b84-4c1a-84c1-5cd1638ca6a0",
   "metadata": {},
   "source": [
    "## Printing out commands for the coadds"
   ]
  },
  {
   "cell_type": "code",
   "execution_count": 10,
   "id": "4529acdd-5534-4aa3-b43a-0995dab8244b",
   "metadata": {},
   "outputs": [],
   "source": [
    "# Function to print out terminal commands for coadds\n",
    "\n",
    "def print_coadd_commands(ra, dec, eventname, filter):\n",
    "    text = ''\n",
    "    ra = target_list['RA'][:10]\n",
    "    dec = target_list['dec'][:10]\n",
    "    eventname = superevent_name\n",
    "    CCD = {'i':1, 'r': 0}\n",
    "    ra_a = Angle(ra, u.degree)\n",
    "    dec_a =  Angle(dec, u.degree)\n",
    "    num = ''\n",
    "    for x in superevent_name:\n",
    "        if x.isdigit():\n",
    "            num += str(x)\n",
    "    for i in range(len(ra)):\n",
    "        text += \"\\n\"+ \"WORKDIR=/data/wst/u/ps1ipp/arri/3kk\"\n",
    "        text += \"\\n\"+ \"mkdir $WORKDIR/bias\"\n",
    "        text += \"\\n\"+ \"mkdir $WORKDIR/dark\"\n",
    "        text += \"\\n\"+ \"mkdir $WORKDIR/flat\"\n",
    "        text += \"\\n\"+ \"cd $WORKDIR\"\n",
    "        text += \"\\n\"+ f\"/data/wst/u/ps1ipp/arri/3kk/script_3kk_ligodesi.sh  ligodesi_{superevent_name}\" + \"_\" + \"{:02d}\".format(int(ra_a[i].hms.h)) + \"{:02d}\".format(int(ra_a[i].hms.m)) + \"{:02d}\".format(int(ra_a[i].hms.s))+ \"_\" + \"{:02d}\".format(int(dec_a[i].dms.d)) + \"{:02d}\".format(int(dec_a[i].dms.m)) + \"{:02d}\".format(int(dec_a[i].dms.s)) + '  ' +\"20\"+ num + \" \" + f\"{filter}\"\n",
    "        text += \"\\n\"+ f\"cd ligodesi_{superevent_name}\" + \"_\" + \"{:02d}\".format(int(ra_a[i].hms.h)) + \"{:02d}\".format(int(ra_a[i].hms.m)) + \"{:02d}\".format(int(ra_a[i].hms.s)) + \"_\" + \"{:02d}\".format(int(dec_a[i].dms.d)) + \"{:02d}\".format(int(dec_a[i].dms.m)) + \"{:02d}\".format(int(dec_a[i].dms.s)) + \"/\" + \"20\" + num + \"_\" + f\"{filter}\"\n",
    "        text += \"\\n\"+ f\"/data/wst/u/ps1ipp/arri/3kk/script_3kk_header_for_astrometry.sh  RA={ra_a[i].deg}  DEC={dec_a[i].deg}  CCD={CCD[filter]}  mepdnybo-n2023*.fits\"\n",
    "        text += \"\\n\"+ f\"sethead  FILTER={filter} mepdnybo-n*.fits\"\n",
    "        text += \"\\n\"+ \"for i in mepdnybo-*.fits; do  script.astrometry.sh $i 1;  done\"\n",
    "        text += \"\\n\"+ \"FIRST=`echo vme*.fits | awk '{print $1}'`\"\n",
    "        text += \"\\n\" + \"divvy  -e          -2  -3  -wcsok  -ref ${FIRST}    vme*.fits \"\n",
    "        text += \"\\n\"+ \"sumfits -n tvvmepdnybo-n2023*.fits\" + \"\\n\"\n",
    "    return(text)\n",
    "\n",
    "text = print_coadd_commands(target_list['RA'], target_list['dec'], 'S230615az', 'i')\n",
    "filename = f\"{superevent_name}_3kk_commands.sh\"\n",
    "\n",
    "directory = f'Shell Commands/{superevent_name}_commands/'\n",
    "if not os.path.exists(directory):\n",
    "    os.makedirs(directory)\n",
    "file_path = directory + '/' + filename    \n",
    "with open(file_path, 'w') as file:\n",
    "        file.writelines(text)"
   ]
  },
  {
   "cell_type": "code",
   "execution_count": null,
   "id": "15e161b9-657b-424c-a111-6fa16d3a7810",
   "metadata": {},
   "outputs": [],
   "source": []
  }
 ],
 "metadata": {
  "kernelspec": {
   "display_name": "NERSC Python",
   "language": "python",
   "name": "python3"
  },
  "language_info": {
   "codemirror_mode": {
    "name": "ipython",
    "version": 3
   },
   "file_extension": ".py",
   "mimetype": "text/x-python",
   "name": "python",
   "nbconvert_exporter": "python",
   "pygments_lexer": "ipython3",
   "version": "3.9.7"
  }
 },
 "nbformat": 4,
 "nbformat_minor": 5
}
